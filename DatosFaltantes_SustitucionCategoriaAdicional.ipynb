{
  "nbformat": 4,
  "nbformat_minor": 0,
  "metadata": {
    "kernelspec": {
      "display_name": "feml",
      "language": "python",
      "name": "feml"
    },
    "language_info": {
      "codemirror_mode": {
        "name": "ipython",
        "version": 3
      },
      "file_extension": ".py",
      "mimetype": "text/x-python",
      "name": "python",
      "nbconvert_exporter": "python",
      "pygments_lexer": "ipython3",
      "version": "3.7.3"
    },
    "toc": {
      "nav_menu": {},
      "number_sections": true,
      "sideBar": true,
      "skip_h1_title": false,
      "toc_cell": false,
      "toc_position": {},
      "toc_section_display": "block",
      "toc_window_display": true
    },
    "colab": {
      "name": "DatosFaltantes_SustitucionCategoriaAdicional.ipynb",
      "provenance": [],
      "include_colab_link": true
    }
  },
  "cells": [
    {
      "cell_type": "markdown",
      "metadata": {
        "id": "view-in-github",
        "colab_type": "text"
      },
      "source": [
        "<a href=\"https://colab.research.google.com/github/virf96/Chat-Bot/blob/master/DatosFaltantes_SustitucionCategoriaAdicional.ipynb\" target=\"_parent\"><img src=\"https://colab.research.google.com/assets/colab-badge.svg\" alt=\"Open In Colab\"/></a>"
      ]
    },
    {
      "cell_type": "markdown",
      "metadata": {
        "id": "esYeLQqQ0fDV"
      },
      "source": [
        "## Sustitución usando una etiqueta adicional en variables categóricas\n",
        "\n",
        "Este es el método de sustitución más usado con variables categóricas. Este método considera los valores faltantes como una categoría o etiqueta adicional de la variable, por lo tanto todas las observaciones con valores ausentes son agrupadas con esta nueva etiqueta 'faltante' o 'missing' en inglés.\n",
        "\n",
        "En esencia, es equivalente a la sustitución por valores arbitrarios en variables numéricas.\n",
        "\n",
        "Una ventaja de esta técnica es que no asume nada sobre los datos ausentes y es apropiada cuando el número de valores faltantes es alto.\n",
        "\n",
        "\n",
        "### Ventajas\n",
        "\n",
        "- Fácil de implementar\n",
        "- Forma rápida de obtener conjuntos completos de datos\n",
        "- Puede ser integrado en producción (durante el despliegue del modelo)\n",
        "- Captura la importancia de la 'ausencia' (si existe)\n",
        "- No asume nada acerca de los valores ausentes\n",
        "\n",
        "\n",
        "### Limitaciones\n",
        "\n",
        "- Si el número de NA es bajo, crear una categoría adicional puede causar sobre-ajustes en los árboles de decisión \n",
        "\n",
        "Este es un método bastante utilizado en competencias de ciencia de datos y organizaciones. Por ejemplo, mira la solución ganadora de la competencia KDD 2009 : \"Winning the KDD Cup Orange Challenge with Ensemble Selection\" (http://www.mtome.com/Publications/CiML/CiML-v3-book.pdf).\n",
        "\n",
        "### En este demo:\n",
        "\n",
        "Vamos a aprender cómo reemplazar datos faltantes con la cadena de caracteres ‘Missing’ usando pandas y los datos Ames House Price \n",
        "\n"
      ]
    },
    {
      "cell_type": "code",
      "metadata": {
        "id": "KEcYCQhK0fDX"
      },
      "source": [
        "import pandas as pd\n",
        "import numpy as np\n",
        "\n",
        "import matplotlib.pyplot as plt\n",
        "\n",
        "from sklearn.model_selection import train_test_split"
      ],
      "execution_count": 34,
      "outputs": []
    },
    {
      "cell_type": "markdown",
      "metadata": {
        "id": "PVhDqF-l0fDc"
      },
      "source": [
        "### House Prices dataset"
      ]
    },
    {
      "cell_type": "code",
      "metadata": {
        "id": "KCGCgpuL0qsp",
        "outputId": "248182af-4d55-4f75-98a6-a8de8ffe7b0d",
        "colab": {
          "base_uri": "https://localhost:8080/",
          "height": 54
        }
      },
      "source": [
        "from google.colab import drive\n",
        "drive.mount('/content/drive')"
      ],
      "execution_count": 35,
      "outputs": [
        {
          "output_type": "stream",
          "text": [
            "Drive already mounted at /content/drive; to attempt to forcibly remount, call drive.mount(\"/content/drive\", force_remount=True).\n"
          ],
          "name": "stdout"
        }
      ]
    },
    {
      "cell_type": "code",
      "metadata": {
        "id": "cUEBCkFi0fDc",
        "outputId": "e68e48be-3912-4ddd-d571-9aa0eec370fc",
        "colab": {
          "base_uri": "https://localhost:8080/",
          "height": 204
        }
      },
      "source": [
        "# carguemos los datos con unas columnas\n",
        "\n",
        "# estas son las columnas categóricas y la variable target SalePrice (precio de venta)\n",
        "cols_to_use = ['BsmtQual', 'FireplaceQu', 'SalePrice']\n",
        "\n",
        "data = pd.read_csv('/content/drive/My Drive/datasets/houseprice.csv', usecols=cols_to_use)\n",
        "data.head()"
      ],
      "execution_count": 36,
      "outputs": [
        {
          "output_type": "execute_result",
          "data": {
            "text/html": [
              "<div>\n",
              "<style scoped>\n",
              "    .dataframe tbody tr th:only-of-type {\n",
              "        vertical-align: middle;\n",
              "    }\n",
              "\n",
              "    .dataframe tbody tr th {\n",
              "        vertical-align: top;\n",
              "    }\n",
              "\n",
              "    .dataframe thead th {\n",
              "        text-align: right;\n",
              "    }\n",
              "</style>\n",
              "<table border=\"1\" class=\"dataframe\">\n",
              "  <thead>\n",
              "    <tr style=\"text-align: right;\">\n",
              "      <th></th>\n",
              "      <th>BsmtQual</th>\n",
              "      <th>FireplaceQu</th>\n",
              "      <th>SalePrice</th>\n",
              "    </tr>\n",
              "  </thead>\n",
              "  <tbody>\n",
              "    <tr>\n",
              "      <th>0</th>\n",
              "      <td>Gd</td>\n",
              "      <td>NaN</td>\n",
              "      <td>208500</td>\n",
              "    </tr>\n",
              "    <tr>\n",
              "      <th>1</th>\n",
              "      <td>Gd</td>\n",
              "      <td>TA</td>\n",
              "      <td>181500</td>\n",
              "    </tr>\n",
              "    <tr>\n",
              "      <th>2</th>\n",
              "      <td>Gd</td>\n",
              "      <td>TA</td>\n",
              "      <td>223500</td>\n",
              "    </tr>\n",
              "    <tr>\n",
              "      <th>3</th>\n",
              "      <td>TA</td>\n",
              "      <td>Gd</td>\n",
              "      <td>140000</td>\n",
              "    </tr>\n",
              "    <tr>\n",
              "      <th>4</th>\n",
              "      <td>Gd</td>\n",
              "      <td>TA</td>\n",
              "      <td>250000</td>\n",
              "    </tr>\n",
              "  </tbody>\n",
              "</table>\n",
              "</div>"
            ],
            "text/plain": [
              "  BsmtQual FireplaceQu  SalePrice\n",
              "0       Gd         NaN     208500\n",
              "1       Gd          TA     181500\n",
              "2       Gd          TA     223500\n",
              "3       TA          Gd     140000\n",
              "4       Gd          TA     250000"
            ]
          },
          "metadata": {
            "tags": []
          },
          "execution_count": 36
        }
      ]
    },
    {
      "cell_type": "code",
      "metadata": {
        "id": "sud6FqUu0fDg",
        "outputId": "fd4358b8-2590-4830-a549-05cc3c594b90",
        "colab": {
          "base_uri": "https://localhost:8080/",
          "height": 85
        }
      },
      "source": [
        "# evaluemos el porcentaje de valores nulos por cada una de las variables\n",
        "#Notamos que 'BsmtQual' tiene el 2.5% de datos faltantes\n",
        "#Notamos que 'FireplaceQu' tiene el 47% de datos faltantes\n",
        "data.isnull().mean()"
      ],
      "execution_count": 37,
      "outputs": [
        {
          "output_type": "execute_result",
          "data": {
            "text/plain": [
              "BsmtQual       0.025342\n",
              "FireplaceQu    0.472603\n",
              "SalePrice      0.000000\n",
              "dtype: float64"
            ]
          },
          "metadata": {
            "tags": []
          },
          "execution_count": 37
        }
      ]
    },
    {
      "cell_type": "markdown",
      "metadata": {
        "id": "EVYKNwaJ0fDk"
      },
      "source": [
        "Cuando reemplazamos los valores nulos NA en variables categóricas por una etiqueta 'Missing', en principio no hay diferencia si hacemos la sustitución antes o después de separar los datos en sets de entrenamiento y prueba.\n",
        "\n",
        "\n",
        "Sin embargo, no recomendamos esta práctica. \n",
        "Es mejor adherirse a la premisa de separar el set de datos original en sets de entrenamiento y prueba al comienzo de la construcción del modelo de machine learning. Por lo tanto seguiremos con esta práctica en este demo.\n"
      ]
    },
    {
      "cell_type": "code",
      "metadata": {
        "id": "xOijwlhr0fDk",
        "outputId": "55b78a2a-33cb-4649-cbd6-a747103af62d",
        "colab": {
          "base_uri": "https://localhost:8080/",
          "height": 34
        }
      },
      "source": [
        "# separar datos en sets entrenamiento y prueba\n",
        "\n",
        "X_train, X_test, y_train, y_test = train_test_split(\n",
        "    data,\n",
        "    data['SalePrice'], # target\n",
        "    test_size=0.3, # porcentaje de obs en test set\n",
        "    random_state=0) # semilla para reproducibilidad\n",
        "\n",
        "X_train.shape, X_test.shape"
      ],
      "execution_count": 38,
      "outputs": [
        {
          "output_type": "execute_result",
          "data": {
            "text/plain": [
              "((1022, 3), (438, 3))"
            ]
          },
          "metadata": {
            "tags": []
          },
          "execution_count": 38
        }
      ]
    },
    {
      "cell_type": "markdown",
      "metadata": {
        "id": "iCNKuspA0fDn"
      },
      "source": [
        "#### BsmtQual"
      ]
    },
    {
      "cell_type": "code",
      "metadata": {
        "id": "S3693Qx_0fDo",
        "outputId": "a862e396-bd45-464e-ad39-d9ea7b66a4df",
        "colab": {
          "base_uri": "https://localhost:8080/",
          "height": 34
        }
      },
      "source": [
        "# % de valores ausentes\n",
        "#El porcentaje de NA bajo debido a que estamos trabajando con el 70% de la base original\n",
        "X_train['BsmtQual'].isnull().mean()"
      ],
      "execution_count": 39,
      "outputs": [
        {
          "output_type": "execute_result",
          "data": {
            "text/plain": [
              "0.023483365949119372"
            ]
          },
          "metadata": {
            "tags": []
          },
          "execution_count": 39
        }
      ]
    },
    {
      "cell_type": "code",
      "metadata": {
        "id": "ALU3Jcxl11r0",
        "outputId": "99888c69-5afb-47d6-8783-03b8e50c1344",
        "colab": {
          "base_uri": "https://localhost:8080/",
          "height": 102
        }
      },
      "source": [
        "#Frecuencia de aparición de cada categoría\n",
        "X_train['BsmtQual'].value_counts().sort_values(ascending=False)"
      ],
      "execution_count": 40,
      "outputs": [
        {
          "output_type": "execute_result",
          "data": {
            "text/plain": [
              "TA    463\n",
              "Gd    430\n",
              "Ex     82\n",
              "Fa     23\n",
              "Name: BsmtQual, dtype: int64"
            ]
          },
          "metadata": {
            "tags": []
          },
          "execution_count": 40
        }
      ]
    },
    {
      "cell_type": "code",
      "metadata": {
        "id": "9lqeqbm72Ths",
        "outputId": "4abcffd4-63eb-4625-8feb-f8ad3da6383d",
        "colab": {
          "base_uri": "https://localhost:8080/",
          "height": 34
        }
      },
      "source": [
        "X_train['BsmtQual'].unique()"
      ],
      "execution_count": 41,
      "outputs": [
        {
          "output_type": "execute_result",
          "data": {
            "text/plain": [
              "array(['Gd', 'TA', 'Fa', nan, 'Ex'], dtype=object)"
            ]
          },
          "metadata": {
            "tags": []
          },
          "execution_count": 41
        }
      ]
    },
    {
      "cell_type": "code",
      "metadata": {
        "id": "hxkVj_pN0fDq",
        "outputId": "aab4ee36-8bb5-49ee-e252-f3c0d57111d6",
        "colab": {
          "base_uri": "https://localhost:8080/",
          "height": 300
        }
      },
      "source": [
        "# exploremos el número de observaciones por categoría en BsmtQual\n",
        "\n",
        "#Observamos que \n",
        "X_train['BsmtQual'].value_counts().sort_values(ascending=False).plot.bar()\n",
        "plt.xlabel('BsmtQual')\n",
        "plt.ylabel('Número de casas')"
      ],
      "execution_count": 42,
      "outputs": [
        {
          "output_type": "execute_result",
          "data": {
            "text/plain": [
              "Text(0, 0.5, 'Número de casas')"
            ]
          },
          "metadata": {
            "tags": []
          },
          "execution_count": 42
        },
        {
          "output_type": "display_data",
          "data": {
            "image/png": "[encoded data removed]",
            "text/plain": [
              "<Figure size 432x288 with 1 Axes>"
            ]
          },
          "metadata": {
            "tags": [],
            "needs_background": "light"
          }
        }
      ]
    },
    {
      "cell_type": "code",
      "metadata": {
        "id": "PEZYcipZ0fDt",
        "outputId": "431e5f3c-9576-4279-a085-24c201a1a0e3",
        "colab": {
          "base_uri": "https://localhost:8080/",
          "height": 122
        }
      },
      "source": [
        "# reemplacemos NA en los sets de prueba y entrenamiento\n",
        "\n",
        "# usemos el método fillna() de pandas\n",
        "\n",
        "# con el argumento inplace=True, indicándole a pandas\n",
        "# que queremos reemplazar los valores en los dataframes originales\n",
        "\n",
        "X_train['BsmtQual'].fillna('Missing', inplace=True)\n",
        "X_test['BsmtQual'].fillna('Missing', inplace=True)"
      ],
      "execution_count": 43,
      "outputs": [
        {
          "output_type": "stream",
          "text": [
            "/usr/local/lib/python3.6/dist-packages/pandas/core/series.py:4523: SettingWithCopyWarning: \n",
            "A value is trying to be set on a copy of a slice from a DataFrame\n",
            "\n",
            "See the caveats in the documentation: https://pandas.pydata.org/pandas-docs/stable/user_guide/indexing.html#returning-a-view-versus-a-copy\n",
            "  downcast=downcast,\n"
          ],
          "name": "stderr"
        }
      ]
    },
    {
      "cell_type": "code",
      "metadata": {
        "id": "3godr6Im3Daf",
        "outputId": "8c1d3c4c-3dcb-44f1-9f03-646eafd2f3c7",
        "colab": {
          "base_uri": "https://localhost:8080/",
          "height": 119
        }
      },
      "source": [
        "#Frecuencia después de la imputación\n",
        "X_train['BsmtQual'].value_counts().sort_values(ascending=False)"
      ],
      "execution_count": 44,
      "outputs": [
        {
          "output_type": "execute_result",
          "data": {
            "text/plain": [
              "TA         463\n",
              "Gd         430\n",
              "Ex          82\n",
              "Missing     24\n",
              "Fa          23\n",
              "Name: BsmtQual, dtype: int64"
            ]
          },
          "metadata": {
            "tags": []
          },
          "execution_count": 44
        }
      ]
    },
    {
      "cell_type": "code",
      "metadata": {
        "id": "tjiDaLgr3Jky",
        "outputId": "91717eb6-f4a7-4474-d7c1-d890a43f5844",
        "colab": {
          "base_uri": "https://localhost:8080/",
          "height": 34
        }
      },
      "source": [
        "X_train['BsmtQual'].unique()"
      ],
      "execution_count": 45,
      "outputs": [
        {
          "output_type": "execute_result",
          "data": {
            "text/plain": [
              "array(['Gd', 'TA', 'Fa', 'Missing', 'Ex'], dtype=object)"
            ]
          },
          "metadata": {
            "tags": []
          },
          "execution_count": 45
        }
      ]
    },
    {
      "cell_type": "code",
      "metadata": {
        "id": "tnSs8F9e0fDw",
        "outputId": "e0774c15-6403-452e-c931-b991cb106016",
        "colab": {
          "base_uri": "https://localhost:8080/",
          "height": 324
        }
      },
      "source": [
        "# evaluemos el número de casas por categoría en la variables que acabamos de sustituir\n",
        "# Una vez agregada la etiqueta \"Missing\" podemos visualizar su frecuencia en la gráfica de barras\n",
        "X_train['BsmtQual'].value_counts().sort_values(ascending=False).plot.bar()\n",
        "plt.xlabel('BsmtQual')\n",
        "plt.ylabel('Number of houses')"
      ],
      "execution_count": 46,
      "outputs": [
        {
          "output_type": "execute_result",
          "data": {
            "text/plain": [
              "Text(0, 0.5, 'Number of houses')"
            ]
          },
          "metadata": {
            "tags": []
          },
          "execution_count": 46
        },
        {
          "output_type": "display_data",
          "data": {
            "image/png": "[encoded data removed]",
            "text/plain": [
              "<Figure size 432x288 with 1 Axes>"
            ]
          },
          "metadata": {
            "tags": [],
            "needs_background": "light"
          }
        }
      ]
    },
    {
      "cell_type": "markdown",
      "metadata": {
        "id": "iap_jK4u0fDz"
      },
      "source": [
        "Podemos ver la nueva categoria: **Missing**"
      ]
    },
    {
      "cell_type": "code",
      "metadata": {
        "id": "v4CNhEzt0fDz",
        "outputId": "90af1263-6968-47bf-cebe-e2e157038294",
        "colab": {
          "base_uri": "https://localhost:8080/",
          "height": 306
        }
      },
      "source": [
        "# grafiquemos la distribución del target (SalePrice -precio de venta)\n",
        "# para las casas que muestran las diferentes categorías en la variable BsmtQual\n",
        "\n",
        "fig = plt.figure()\n",
        "ax = fig.add_subplot(111)\n",
        "\n",
        "# gráfica por categoría\n",
        "#Visulizamos la densidad de la distibución de precios para cada una de las categorías existentes.\n",
        "X_train[X_train['BsmtQual']=='TA']['SalePrice'].plot(kind='kde', ax=ax)\n",
        "X_train[X_train['BsmtQual']=='Gd']['SalePrice'].plot(kind='kde', ax=ax)\n",
        "X_train[X_train['BsmtQual']=='Ex']['SalePrice'].plot(kind='kde', ax=ax)\n",
        "X_train[X_train['BsmtQual']=='Missing']['SalePrice'].plot(kind='kde', ax=ax)\n",
        "X_train[X_train['BsmtQual']=='Fa']['SalePrice'].plot(kind='kde', ax=ax)\n",
        "\n",
        "# leyenda\n",
        "lines, labels = ax.get_legend_handles_labels()\n",
        "labels = ['TA', 'Gd', 'Ex', 'Missing', 'Fa']\n",
        "ax.legend(lines, labels, loc='best')"
      ],
      "execution_count": 47,
      "outputs": [
        {
          "output_type": "execute_result",
          "data": {
            "text/plain": [
              "<matplotlib.legend.Legend at 0x7f1911c61b70>"
            ]
          },
          "metadata": {
            "tags": []
          },
          "execution_count": 47
        },
        {
          "output_type": "display_data",
          "data": {
            "image/png": "[encoded data removed]",
            "text/plain": [
              "<Figure size 432x288 with 1 Axes>"
            ]
          },
          "metadata": {
            "tags": [],
            "needs_background": "light"
          }
        }
      ]
    },
    {
      "cell_type": "code",
      "metadata": {
        "id": "ZUM3PfUh7eNl",
        "outputId": "77abd9b0-3e59-40a9-b545-f074051942d8",
        "colab": {
          "base_uri": "https://localhost:8080/",
          "height": 102
        }
      },
      "source": [
        "print('Promedio de precios para la categoría TA:',X_train[X_train['BsmtQual']=='TA']['SalePrice'].mean())\n",
        "print('Promedio de precios para la categoría Gd:',X_train[X_train['BsmtQual']=='Gd']['SalePrice'].mean())\n",
        "print('Promedio de precios para la categoría Ex:',X_train[X_train['BsmtQual']=='Ex']['SalePrice'].mean())\n",
        "print('Promedio de precios para la categoría Missing:',X_train[X_train['BsmtQual']=='Missing']['SalePrice'].mean())\n",
        "print('Promedio de precios para la categoría FA:',X_train[X_train['BsmtQual']=='Fa']['SalePrice'].mean())\n"
      ],
      "execution_count": 48,
      "outputs": [
        {
          "output_type": "stream",
          "text": [
            "Promedio de precios para la categoría TA: 141808.65010799136\n",
            "Promedio de precios para la categoría Gd: 202298.8558139535\n",
            "Promedio de precios para la categoría Ex: 325808.64634146343\n",
            "Promedio de precios para la categoría Missing: 103389.75\n",
            "Promedio de precios para la categoría FA: 118067.39130434782\n"
          ],
          "name": "stdout"
        }
      ]
    },
    {
      "cell_type": "markdown",
      "metadata": {
        "id": "FY6tbiU10fD2"
      },
      "source": [
        "Como podemos ver, las casas que muestran diferentes etiquetas para la variable BsmtQual, tienen también, en promedio, diferentes precios finales de venta. Por ejemplo casas con la categoría Ex (de excelente) suelen tener mayor precio que casas con la categoría Fa (de fair en inglés, razonable). Vemos que las casas que no tenían etiqueta, y ahora están agrupadas con **Missing**, tienen un precio de venta relativamente alto.\n"
      ]
    },
    {
      "cell_type": "markdown",
      "metadata": {
        "id": "vhHvWkJM0fD3"
      },
      "source": [
        "#### FirePlaceQu"
      ]
    },
    {
      "cell_type": "code",
      "metadata": {
        "id": "0mWncDuB0fD3",
        "outputId": "a9b9070f-b52d-476a-a6d2-b062e8f20864",
        "colab": {
          "base_uri": "https://localhost:8080/",
          "height": 34
        }
      },
      "source": [
        "# determinemos el % de valores faltantes otra vez\n",
        "#El porcentaje de valores nulos es alto, está técnica es apropiada para estos casos\n",
        "X_train['FireplaceQu'].isnull().mean()"
      ],
      "execution_count": 16,
      "outputs": [
        {
          "output_type": "execute_result",
          "data": {
            "text/plain": [
              "0.46771037181996084"
            ]
          },
          "metadata": {
            "tags": []
          },
          "execution_count": 16
        }
      ]
    },
    {
      "cell_type": "code",
      "metadata": {
        "id": "7YAUw1TD4QqS",
        "outputId": "24241a0f-3234-46d6-d1d3-5ffa361d88e1",
        "colab": {
          "base_uri": "https://localhost:8080/",
          "height": 119
        }
      },
      "source": [
        "#Frecuencia de categorías\n",
        "X_train['FireplaceQu'].value_counts().sort_values(ascending=False)"
      ],
      "execution_count": 17,
      "outputs": [
        {
          "output_type": "execute_result",
          "data": {
            "text/plain": [
              "Gd    255\n",
              "TA    229\n",
              "Fa     26\n",
              "Ex     18\n",
              "Po     16\n",
              "Name: FireplaceQu, dtype: int64"
            ]
          },
          "metadata": {
            "tags": []
          },
          "execution_count": 17
        }
      ]
    },
    {
      "cell_type": "code",
      "metadata": {
        "id": "fRckAsnx4TaA",
        "outputId": "93c09fc9-fe29-4aff-ca4a-11c571de222f",
        "colab": {
          "base_uri": "https://localhost:8080/",
          "height": 34
        }
      },
      "source": [
        "X_train['FireplaceQu'].unique()"
      ],
      "execution_count": 19,
      "outputs": [
        {
          "output_type": "execute_result",
          "data": {
            "text/plain": [
              "array([nan, 'Gd', 'TA', 'Fa', 'Po', 'Ex'], dtype=object)"
            ]
          },
          "metadata": {
            "tags": []
          },
          "execution_count": 19
        }
      ]
    },
    {
      "cell_type": "code",
      "metadata": {
        "id": "rmGjdZN20fD6",
        "outputId": "451d723a-3c5b-4594-97cf-d7e776b2ca0c",
        "colab": {
          "base_uri": "https://localhost:8080/",
          "height": 300
        }
      },
      "source": [
        "# veamos el número de casas por categoría para esta variable\n",
        "\n",
        "X_train['FireplaceQu'].value_counts().sort_values(ascending=False).plot.bar()\n",
        "plt.xlabel('FireplaceQu')\n",
        "plt.ylabel('Number of houses')"
      ],
      "execution_count": 20,
      "outputs": [
        {
          "output_type": "execute_result",
          "data": {
            "text/plain": [
              "Text(0, 0.5, 'Number of houses')"
            ]
          },
          "metadata": {
            "tags": []
          },
          "execution_count": 20
        },
        {
          "output_type": "display_data",
          "data": {
            "image/png": "[encoded data removed]",
            "text/plain": [
              "<Figure size 432x288 with 1 Axes>"
            ]
          },
          "metadata": {
            "tags": [],
            "needs_background": "light"
          }
        }
      ]
    },
    {
      "cell_type": "code",
      "metadata": {
        "id": "SevACNjJ0fD9",
        "outputId": "53eadb7d-e349-47fe-cc6d-7f30677ca654",
        "colab": {
          "base_uri": "https://localhost:8080/",
          "height": 122
        }
      },
      "source": [
        "# reemplacemos NA en los segmentos de prueba y entrenamiento\n",
        "# con una nueva categoría 'Missing'\n",
        "\n",
        "X_train['FireplaceQu'].fillna('Missing', inplace=True)\n",
        "X_test['FireplaceQu'].fillna('Missing', inplace=True)"
      ],
      "execution_count": 21,
      "outputs": [
        {
          "output_type": "stream",
          "text": [
            "/usr/local/lib/python3.6/dist-packages/pandas/core/series.py:4523: SettingWithCopyWarning: \n",
            "A value is trying to be set on a copy of a slice from a DataFrame\n",
            "\n",
            "See the caveats in the documentation: https://pandas.pydata.org/pandas-docs/stable/user_guide/indexing.html#returning-a-view-versus-a-copy\n",
            "  downcast=downcast,\n"
          ],
          "name": "stderr"
        }
      ]
    },
    {
      "cell_type": "code",
      "metadata": {
        "id": "4YywLvRV45Oe",
        "outputId": "0c96ceef-22fb-47cf-cc10-9f09669d35b3",
        "colab": {
          "base_uri": "https://localhost:8080/",
          "height": 136
        }
      },
      "source": [
        "#Visualizamos la frecuencia de la categoría\n",
        "X_train['FireplaceQu'].value_counts().sort_values(ascending=False)"
      ],
      "execution_count": 23,
      "outputs": [
        {
          "output_type": "execute_result",
          "data": {
            "text/plain": [
              "Missing    478\n",
              "Gd         255\n",
              "TA         229\n",
              "Fa          26\n",
              "Ex          18\n",
              "Po          16\n",
              "Name: FireplaceQu, dtype: int64"
            ]
          },
          "metadata": {
            "tags": []
          },
          "execution_count": 23
        }
      ]
    },
    {
      "cell_type": "code",
      "metadata": {
        "id": "1jkzPNSf43O2",
        "outputId": "52f30597-19e7-4052-bc72-f2a66a4c489e",
        "colab": {
          "base_uri": "https://localhost:8080/",
          "height": 34
        }
      },
      "source": [
        "X_train['FireplaceQu'].unique()"
      ],
      "execution_count": 24,
      "outputs": [
        {
          "output_type": "execute_result",
          "data": {
            "text/plain": [
              "array(['Missing', 'Gd', 'TA', 'Fa', 'Po', 'Ex'], dtype=object)"
            ]
          },
          "metadata": {
            "tags": []
          },
          "execution_count": 24
        }
      ]
    },
    {
      "cell_type": "code",
      "metadata": {
        "id": "k8Nloi3C0fEA",
        "outputId": "8990885d-debe-4962-e0e9-e6acafb31133",
        "colab": {
          "base_uri": "https://localhost:8080/",
          "height": 327
        }
      },
      "source": [
        "# evaluemos el efecto de este cambio en la distribución de \n",
        "# la variable sustituida\n",
        "\n",
        "X_train['FireplaceQu'].value_counts().sort_values(ascending=False).plot.bar()\n",
        "plt.xlabel('FireplaceQu')\n",
        "plt.ylabel('Número de casas')"
      ],
      "execution_count": 25,
      "outputs": [
        {
          "output_type": "execute_result",
          "data": {
            "text/plain": [
              "Text(0, 0.5, 'Número de casas')"
            ]
          },
          "metadata": {
            "tags": []
          },
          "execution_count": 25
        },
        {
          "output_type": "display_data",
          "data": {
            "image/png": "[encoded data removed]",
            "text/plain": [
              "<Figure size 432x288 with 1 Axes>"
            ]
          },
          "metadata": {
            "tags": [],
            "needs_background": "light"
          }
        }
      ]
    },
    {
      "cell_type": "markdown",
      "metadata": {
        "id": "4PY50zbY0fEK"
      },
      "source": [
        "Vemos la categoría adicional para los valores ausentes: Missing"
      ]
    },
    {
      "cell_type": "code",
      "metadata": {
        "id": "TvI3LlHx0fEK",
        "outputId": "b63a2be6-2eda-4e85-9599-9c087491d994",
        "colab": {
          "base_uri": "https://localhost:8080/",
          "height": 306
        }
      },
      "source": [
        "# grafiquemos la distribución del target (SalePrice - precio de venta)\n",
        "# para diferentes categorías de la variable FireplaceQu.\n",
        "\n",
        "fig = plt.figure()\n",
        "ax = fig.add_subplot(111)\n",
        "\n",
        "# una gráfica por categoría\n",
        "#Observamos la densidad de la distribución de precios para cada categoría de set de datos\n",
        "X_train[X_train['FireplaceQu']=='Missing']['SalePrice'].plot(kind='kde', ax=ax)\n",
        "X_train[X_train['FireplaceQu']=='Gd']['SalePrice'].plot(kind='kde', ax=ax)\n",
        "X_train[X_train['FireplaceQu']=='TA']['SalePrice'].plot(kind='kde', ax=ax)\n",
        "X_train[X_train['FireplaceQu']=='Fa']['SalePrice'].plot(kind='kde', ax=ax)\n",
        "X_train[X_train['FireplaceQu']=='Ex']['SalePrice'].plot(kind='kde', ax=ax)\n",
        "X_train[X_train['FireplaceQu']=='Po']['SalePrice'].plot(kind='kde', ax=ax)\n",
        "\n",
        "# leyendas\n",
        "lines, labels = ax.get_legend_handles_labels()\n",
        "labels = ['Missing','Gd', 'TA', 'Fa', 'Ex', 'Po']\n",
        "ax.legend(lines, labels, loc='best')"
      ],
      "execution_count": 26,
      "outputs": [
        {
          "output_type": "execute_result",
          "data": {
            "text/plain": [
              "<matplotlib.legend.Legend at 0x7f1911b06048>"
            ]
          },
          "metadata": {
            "tags": []
          },
          "execution_count": 26
        },
        {
          "output_type": "display_data",
          "data": {
            "image/png": "[encoded data removed]",
            "text/plain": [
              "<Figure size 432x288 with 1 Axes>"
            ]
          },
          "metadata": {
            "tags": [],
            "needs_background": "light"
          }
        }
      ]
    },
    {
      "cell_type": "code",
      "metadata": {
        "id": "ZdxlrqTu5p4U",
        "outputId": "3afb15c6-9a18-49d0-f8c3-0fa7aee29b61",
        "colab": {
          "base_uri": "https://localhost:8080/",
          "height": 119
        }
      },
      "source": [
        "print('promedio de precios para categoría Missing:',X_train[X_train['FireplaceQu']=='Missing']['SalePrice'].mean())\n",
        "print('promedio de precios para categoría Gd:',X_train[X_train['FireplaceQu']=='Gd']['SalePrice'].mean())\n",
        "print('promedio de precios para categoría TA:',X_train[X_train['FireplaceQu']=='TA']['SalePrice'].mean())\n",
        "print('promedio de precios para categoría FA:',X_train[X_train['FireplaceQu']=='Fa']['SalePrice'].mean())\n",
        "print('promedio de precios para categoría Ex:',X_train[X_train['FireplaceQu']=='Ex']['SalePrice'].mean())\n",
        "print('promedio de precios para categoría Po:',X_train[X_train['FireplaceQu']=='Po']['SalePrice'].mean())\n"
      ],
      "execution_count": 33,
      "outputs": [
        {
          "output_type": "stream",
          "text": [
            "promedio de precios para categoría Missing: 140740.83263598327\n",
            "promedio de precios para categoría Gd: 223413.58039215687\n",
            "promedio de precios para categoría TA: 207675.58951965065\n",
            "promedio de precios para categoría FA: 167000.0\n",
            "promedio de precios para categoría Ex: 351475.1111111111\n",
            "promedio de precios para categoría Po: 130517.6875\n"
          ],
          "name": "stdout"
        }
      ]
    },
    {
      "cell_type": "markdown",
      "metadata": {
        "collapsed": true,
        "id": "IXC9erXj0fEN"
      },
      "source": [
        "Observemos nuevamente las casas y las diferentes categorías para la variable FireplaceQu. Podemos ver que las casas tienen diferentes distribuciones para el target SalePrice: las casas con la etiqueta Ex son las más costosas así como las de la categoría Missing, mientras que casas con la categoría Fa son las más baratas.\n",
        "\n"
      ]
    },
    {
      "cell_type": "code",
      "metadata": {
        "id": "VVexaHg30fEN"
      },
      "source": [
        "#hacerlo de forma general\n",
        "\n",
        "\n",
        "def automate_plot(df, variable, target):\n",
        "    \n",
        "    fig = plt.figure()\n",
        "    ax = fig.add_subplot(111)\n",
        "    \n",
        "    for category in df[variable].unique():\n",
        "        df[df[variable]==category][target].plot(kind='kde', ax=ax)\n",
        "    \n",
        "    # add the legend\n",
        "    lines, labels = ax.get_legend_handles_labels()\n",
        "    labels = df[variable].unique()\n",
        "    ax.legend(lines, labels, loc='best')\n",
        "    \n",
        "    plt.show()\n",
        "        "
      ],
      "execution_count": 28,
      "outputs": []
    },
    {
      "cell_type": "code",
      "metadata": {
        "id": "NJEZ4Ag70fEQ",
        "outputId": "8725bf31-e8bc-497a-f976-7fc451350464",
        "colab": {
          "base_uri": "https://localhost:8080/",
          "height": 289
        }
      },
      "source": [
        "automate_plot(X_train, 'FireplaceQu', 'SalePrice')"
      ],
      "execution_count": 29,
      "outputs": [
        {
          "output_type": "display_data",
          "data": {
            "image/png": "[encoded data removed]",
            "text/plain": [
              "<Figure size 432x288 with 1 Axes>"
            ]
          },
          "metadata": {
            "tags": [],
            "needs_background": "light"
          }
        }
      ]
    },
    {
      "cell_type": "code",
      "metadata": {
        "id": "jWkcNxfZ0fET",
        "outputId": "839b7631-0dbc-4163-f343-24f6f3209be8",
        "colab": {
          "base_uri": "https://localhost:8080/",
          "height": 289
        }
      },
      "source": [
        "automate_plot(X_train, 'BsmtQual', 'SalePrice')"
      ],
      "execution_count": 30,
      "outputs": [
        {
          "output_type": "display_data",
          "data": {
            "image/png": "[encoded data removed]",
            "text/plain": [
              "<Figure size 432x288 with 1 Axes>"
            ]
          },
          "metadata": {
            "tags": [],
            "needs_background": "light"
          }
        }
      ]
    },
    {
      "cell_type": "code",
      "metadata": {
        "id": "92dW14ko5llM"
      },
      "source": [
        ""
      ],
      "execution_count": null,
      "outputs": []
    }
  ]
}