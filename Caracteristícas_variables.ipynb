{
  "nbformat": 4,
  "nbformat_minor": 0,
  "metadata": {
    "colab": {
      "name": "Untitled2.ipynb",
      "provenance": [],
      "toc_visible": true,
      "authorship_tag": "ABX9TyOYfI7TbA5S2URcZFGDPMbw",
      "include_colab_link": true
    },
    "kernelspec": {
      "name": "python3",
      "display_name": "Python 3"
    }
  },
  "cells": [
    {
      "cell_type": "markdown",
      "metadata": {
        "id": "view-in-github",
        "colab_type": "text"
      },
      "source": [
        "<a href=\"https://colab.research.google.com/github/virf96/Chat-Bot/blob/master/Caracterist%C3%ADcas_variables.ipynb\" target=\"_parent\"><img src=\"https://colab.research.google.com/assets/colab-badge.svg\" alt=\"Open In Colab\"/></a>"
      ]
    },
    {
      "cell_type": "markdown",
      "metadata": {
        "id": "X1mIfjUcjWKg",
        "colab_type": "text"
      },
      "source": [
        "#Caracteristícas de las variables\n",
        "\n",
        "**¿Que debemos considerar cuando analizamos variables?**\n",
        "\n",
        "**1.- Datos Faltantes** (Falta de información para algunas observaciones dentro de una variable)\n",
        "\n",
        "**2.- Variables Categóricas** (Variables que contienen cadena de caracteres en lugar de números)\n",
        "\n",
        "**3.- Condiciones de modelos lineales** (Cumplen las variables con dichas condiciones)\n",
        "\n",
        "**4.- Distribución** (Normal, sesgada, entre otras)\n",
        "\n",
        "**5.- Valores extremos** (Valores inusuales o inesperados)\n",
        "\n",
        "**6.- Magnitud** (Escala o rango de las variables)"
      ]
    },
    {
      "cell_type": "markdown",
      "metadata": {
        "id": "ID8ezXiflety",
        "colab_type": "text"
      },
      "source": [
        "# Datos Faltantes\n",
        "\n",
        "## Definición:\n",
        "\n",
        "$\\bullet$ Los datos faltantes o valores vacíos ('missing values') se definen como valores/datos no disponibles para ciertas observaciones en un variable\n",
        "\n",
        "$\\bullet$ Los datos incompletos son un problema inevitable en la mayoría de las fuentes de datos\n",
        "\n",
        "$\\bullet$ Los valores vacíos pueden tener un gran impacto en las conclusiones que se deriven de la variable\n",
        "\n",
        "## Motivos de datos faltantes:\n",
        "\n",
        "$\\bullet$ **Omitidos:** Un valor falta porque no se guardó apropiadamente\n",
        "\n",
        "$\\bullet$ **No existen:** Ejemplo: Cuando creamos variables como 'ratios' es posible que en algún caso el denominador sea cero y la variable no existe en ese caso\n",
        "\n",
        "$\\bullet$ **No se identifica:** Ejemplo: Cuando se usa el código postal para generar la variable 'colonia' y el código postal esta errado\n",
        "\n",
        "## Impactos\n",
        "\n",
        "$\\bullet$ La librería principal para Machine Learning **\"Scikit-learn\"** no es compatible con los datos faltantes\n",
        "\n",
        "$\\bullet$ La sustitución/imputación de NA puede distorsionar la distribución de la variable \n",
        "\n",
        "$\\bullet$ Afecta a todos los modelos de Machine Learning\n",
        "\n"
      ]
    },
    {
      "cell_type": "code",
      "metadata": {
        "id": "XrZt4IZzuCbW",
        "colab_type": "code",
        "colab": {
          "base_uri": "https://localhost:8080/",
          "height": 122
        },
        "outputId": "b241cde0-3771-4778-f32a-ea79df6a27e0"
      },
      "source": [
        "from google.colab import drive\n",
        "drive.mount('/content/drive')"
      ],
      "execution_count": 1,
      "outputs": [
        {
          "output_type": "stream",
          "text": [
            "Go to this URL in a browser: https://accounts.google.com/o/oauth2/auth?client_id=947318989803-6bn6qk8qdgf4n4g3pfee6491hc0brc4i.apps.googleusercontent.com&redirect_uri=urn%3aietf%3awg%3aoauth%3a2.0%3aoob&response_type=code&scope=email%20https%3a%2f%2fwww.googleapis.com%2fauth%2fdocs.test%20https%3a%2f%2fwww.googleapis.com%2fauth%2fdrive%20https%3a%2f%2fwww.googleapis.com%2fauth%2fdrive.photos.readonly%20https%3a%2f%2fwww.googleapis.com%2fauth%2fpeopleapi.readonly\n",
            "\n",
            "Enter your authorization code:\n",
            "··········\n",
            "Mounted at /content/drive\n"
          ],
          "name": "stdout"
        }
      ]
    },
    {
      "cell_type": "code",
      "metadata": {
        "id": "3Kf0C4xxuENX",
        "colab_type": "code",
        "colab": {}
      },
      "source": [
        "import pandas as pd\n",
        "import numpy as np\n",
        "\n",
        "import matplotlib.pyplot as plt\n",
        "\n",
        "# Con este comando informamos a pandas que muestre todas\n",
        "# las columnas cada vez que pedimos un display\n",
        "pd.set_option('display.max_columns', None)"
      ],
      "execution_count": 3,
      "outputs": []
    },
    {
      "cell_type": "code",
      "metadata": {
        "id": "gfsUM4FLuRge",
        "colab_type": "code",
        "colab": {
          "base_uri": "https://localhost:8080/",
          "height": 204
        },
        "outputId": "2eb9047e-230e-441a-80c7-012d0402ba6f"
      },
      "source": [
        "# Carguemos los datos del Titanic\n",
        "data = pd.read_csv('/content/drive/My Drive/datasets/Titanic_df.csv')\n",
        "\n",
        "# Inspeccionemos las primeras 5 filas\n",
        "data.head()"
      ],
      "execution_count": 4,
      "outputs": [
        {
          "output_type": "execute_result",
          "data": {
            "text/html": [
              "<div>\n",
              "<style scoped>\n",
              "    .dataframe tbody tr th:only-of-type {\n",
              "        vertical-align: middle;\n",
              "    }\n",
              "\n",
              "    .dataframe tbody tr th {\n",
              "        vertical-align: top;\n",
              "    }\n",
              "\n",
              "    .dataframe thead th {\n",
              "        text-align: right;\n",
              "    }\n",
              "</style>\n",
              "<table border=\"1\" class=\"dataframe\">\n",
              "  <thead>\n",
              "    <tr style=\"text-align: right;\">\n",
              "      <th></th>\n",
              "      <th>PassengerId</th>\n",
              "      <th>Survived</th>\n",
              "      <th>Pclass</th>\n",
              "      <th>Name</th>\n",
              "      <th>Sex</th>\n",
              "      <th>Age</th>\n",
              "      <th>SibSp</th>\n",
              "      <th>Parch</th>\n",
              "      <th>Ticket</th>\n",
              "      <th>Fare</th>\n",
              "      <th>Cabin</th>\n",
              "      <th>Embarked</th>\n",
              "    </tr>\n",
              "  </thead>\n",
              "  <tbody>\n",
              "    <tr>\n",
              "      <th>0</th>\n",
              "      <td>1</td>\n",
              "      <td>0</td>\n",
              "      <td>3</td>\n",
              "      <td>Braund, Mr. Owen Harris</td>\n",
              "      <td>male</td>\n",
              "      <td>22.0</td>\n",
              "      <td>1</td>\n",
              "      <td>0</td>\n",
              "      <td>A/5 21171</td>\n",
              "      <td>7.2500</td>\n",
              "      <td>NaN</td>\n",
              "      <td>S</td>\n",
              "    </tr>\n",
              "    <tr>\n",
              "      <th>1</th>\n",
              "      <td>2</td>\n",
              "      <td>1</td>\n",
              "      <td>1</td>\n",
              "      <td>Cumings, Mrs. John Bradley (Florence Briggs Th...</td>\n",
              "      <td>female</td>\n",
              "      <td>38.0</td>\n",
              "      <td>1</td>\n",
              "      <td>0</td>\n",
              "      <td>PC 17599</td>\n",
              "      <td>71.2833</td>\n",
              "      <td>C85</td>\n",
              "      <td>C</td>\n",
              "    </tr>\n",
              "    <tr>\n",
              "      <th>2</th>\n",
              "      <td>3</td>\n",
              "      <td>1</td>\n",
              "      <td>3</td>\n",
              "      <td>Heikkinen, Miss. Laina</td>\n",
              "      <td>female</td>\n",
              "      <td>26.0</td>\n",
              "      <td>0</td>\n",
              "      <td>0</td>\n",
              "      <td>STON/O2. 3101282</td>\n",
              "      <td>7.9250</td>\n",
              "      <td>NaN</td>\n",
              "      <td>S</td>\n",
              "    </tr>\n",
              "    <tr>\n",
              "      <th>3</th>\n",
              "      <td>4</td>\n",
              "      <td>1</td>\n",
              "      <td>1</td>\n",
              "      <td>Futrelle, Mrs. Jacques Heath (Lily May Peel)</td>\n",
              "      <td>female</td>\n",
              "      <td>35.0</td>\n",
              "      <td>1</td>\n",
              "      <td>0</td>\n",
              "      <td>113803</td>\n",
              "      <td>53.1000</td>\n",
              "      <td>C123</td>\n",
              "      <td>S</td>\n",
              "    </tr>\n",
              "    <tr>\n",
              "      <th>4</th>\n",
              "      <td>5</td>\n",
              "      <td>0</td>\n",
              "      <td>3</td>\n",
              "      <td>Allen, Mr. William Henry</td>\n",
              "      <td>male</td>\n",
              "      <td>35.0</td>\n",
              "      <td>0</td>\n",
              "      <td>0</td>\n",
              "      <td>373450</td>\n",
              "      <td>8.0500</td>\n",
              "      <td>NaN</td>\n",
              "      <td>S</td>\n",
              "    </tr>\n",
              "  </tbody>\n",
              "</table>\n",
              "</div>"
            ],
            "text/plain": [
              "   PassengerId  Survived  Pclass  \\\n",
              "0            1         0       3   \n",
              "1            2         1       1   \n",
              "2            3         1       3   \n",
              "3            4         1       1   \n",
              "4            5         0       3   \n",
              "\n",
              "                                                Name     Sex   Age  SibSp  \\\n",
              "0                            Braund, Mr. Owen Harris    male  22.0      1   \n",
              "1  Cumings, Mrs. John Bradley (Florence Briggs Th...  female  38.0      1   \n",
              "2                             Heikkinen, Miss. Laina  female  26.0      0   \n",
              "3       Futrelle, Mrs. Jacques Heath (Lily May Peel)  female  35.0      1   \n",
              "4                           Allen, Mr. William Henry    male  35.0      0   \n",
              "\n",
              "   Parch            Ticket     Fare Cabin Embarked  \n",
              "0      0         A/5 21171   7.2500   NaN        S  \n",
              "1      0          PC 17599  71.2833   C85        C  \n",
              "2      0  STON/O2. 3101282   7.9250   NaN        S  \n",
              "3      0            113803  53.1000  C123        S  \n",
              "4      0            373450   8.0500   NaN        S  "
            ]
          },
          "metadata": {
            "tags": []
          },
          "execution_count": 4
        }
      ]
    },
    {
      "cell_type": "markdown",
      "metadata": {
        "id": "OPn70u18vWek",
        "colab_type": "text"
      },
      "source": [
        "En Python, los valores faltantes se guardan como NaN, mira por ejemplo, los valores para la variable body."
      ]
    },
    {
      "cell_type": "code",
      "metadata": {
        "id": "rkSWjixAvEa7",
        "colab_type": "code",
        "colab": {
          "base_uri": "https://localhost:8080/",
          "height": 238
        },
        "outputId": "c9ce4e23-104d-41da-8171-b01d1f5728a3"
      },
      "source": [
        "# Podemos cuantificar el número total de valores nulos usando\n",
        "# el método isnull seguido de el método suma en el dataframe\n",
        "\n",
        "data.isnull().sum()"
      ],
      "execution_count": 5,
      "outputs": [
        {
          "output_type": "execute_result",
          "data": {
            "text/plain": [
              "PassengerId      0\n",
              "Survived         0\n",
              "Pclass           0\n",
              "Name             0\n",
              "Sex              0\n",
              "Age            177\n",
              "SibSp            0\n",
              "Parch            0\n",
              "Ticket           0\n",
              "Fare             0\n",
              "Cabin          687\n",
              "Embarked         2\n",
              "dtype: int64"
            ]
          },
          "metadata": {
            "tags": []
          },
          "execution_count": 5
        }
      ]
    },
    {
      "cell_type": "code",
      "metadata": {
        "id": "KtIA5p6XvZ9b",
        "colab_type": "code",
        "colab": {
          "base_uri": "https://localhost:8080/",
          "height": 238
        },
        "outputId": "7fe4b098-ad60-48fc-ef7b-2517b753e9e9"
      },
      "source": [
        "data.isna().sum()"
      ],
      "execution_count": 6,
      "outputs": [
        {
          "output_type": "execute_result",
          "data": {
            "text/plain": [
              "PassengerId      0\n",
              "Survived         0\n",
              "Pclass           0\n",
              "Name             0\n",
              "Sex              0\n",
              "Age            177\n",
              "SibSp            0\n",
              "Parch            0\n",
              "Ticket           0\n",
              "Fare             0\n",
              "Cabin          687\n",
              "Embarked         2\n",
              "dtype: int64"
            ]
          },
          "metadata": {
            "tags": []
          },
          "execution_count": 6
        }
      ]
    },
    {
      "cell_type": "markdown",
      "metadata": {
        "id": "Ri-y0d5avrMd",
        "colab_type": "text"
      },
      "source": [
        "Hay 177 valores faltantes para la variable 'Age', 687 para 'Cabin' y 2 para 'Embarked'."
      ]
    },
    {
      "cell_type": "code",
      "metadata": {
        "id": "uBrfV_0avh4r",
        "colab_type": "code",
        "colab": {
          "base_uri": "https://localhost:8080/",
          "height": 238
        },
        "outputId": "b935f5a0-85a3-423d-88ff-7f2e1cba8417"
      },
      "source": [
        "# Otra opción, es usar el método promedio 'mean'\n",
        "# para visualizar el porcentage the los valores faltantes\n",
        "# por cada variable\n",
        "\n",
        "data.isnull().mean()*100"
      ],
      "execution_count": 7,
      "outputs": [
        {
          "output_type": "execute_result",
          "data": {
            "text/plain": [
              "PassengerId     0.000000\n",
              "Survived        0.000000\n",
              "Pclass          0.000000\n",
              "Name            0.000000\n",
              "Sex             0.000000\n",
              "Age            19.865320\n",
              "SibSp           0.000000\n",
              "Parch           0.000000\n",
              "Ticket          0.000000\n",
              "Fare            0.000000\n",
              "Cabin          77.104377\n",
              "Embarked        0.224467\n",
              "dtype: float64"
            ]
          },
          "metadata": {
            "tags": []
          },
          "execution_count": 7
        }
      ]
    },
    {
      "cell_type": "markdown",
      "metadata": {
        "id": "2iovAVUsv_JC",
        "colab_type": "text"
      },
      "source": [
        "Hay valores nulos en las variables Age (19.86% faltantes), Cabin - cabina en la cual el pasajero estaba viajando - (77% faltantes), y Embarked - el puerto en el cual el pasajero subió el Titanic - (0.2%  faltantes)."
      ]
    },
    {
      "cell_type": "markdown",
      "metadata": {
        "id": "rRIivmRNwN7e",
        "colab_type": "text"
      },
      "source": [
        "**Entender los mecanismos que generan los datos ausentes nos ayuda a escoger la técnica de sustitución más adecuada**\n",
        "\n",
        "## Mecanismos\n",
        "\n",
        "**1.- Valores Flatentes completamiente aleatorios (MCAR):**\n",
        "\n",
        "$\\bullet$ La probabilidad de que un valor falte es la misma para todas las observaciones.\n",
        "\n",
        "$\\bullet$ No hay relación alguna entre los datos faltantes y cualquier otro valor, ya sea registrado o ausente\n",
        "\n",
        "$\\bullet$ Omitir estos casos no sesga ninguna inferencia o conclusión hecha\n",
        "\n",
        "En los datos del Titanic, los valores faltantes de las variables Cabin y Age fueron introducidos sistemáticamente. \n",
        "Para muchos de los pasajeros que no sobrevivieron, la edad ('Age') que tenían o la cabina ('Cabin') en la que estaban viajando, no pudo ser establecida. A la gente que sobrevivió, por el contrario, se les pudo preguntar dicha información.\n",
        "\n",
        "Qué podemos deducir observando los datos?\n",
        "En una situación como esta, podemos esperar un mayor número de valores faltantes para los pasajeros que no sobrevivieron.\n",
        "\n",
        "Observemos:\n"
      ]
    },
    {
      "cell_type": "code",
      "metadata": {
        "id": "mtghb-etv5Xr",
        "colab_type": "code",
        "colab": {}
      },
      "source": [
        "# Creemos una variable binaria que indique\n",
        "# si la información de la cabina esta ausente o no\n",
        "\n",
        "data['cabin_null'] = np.where(data.Cabin.isnull(), 1, 0)"
      ],
      "execution_count": 8,
      "outputs": []
    },
    {
      "cell_type": "code",
      "metadata": {
        "id": "O0nuoibUwUOU",
        "colab_type": "code",
        "colab": {
          "base_uri": "https://localhost:8080/",
          "height": 85
        },
        "outputId": "aeaa1899-e810-46f0-f5a7-55d5c8bac2d6"
      },
      "source": [
        "# Evaluemos el porcentaje de los valores faltantes \n",
        "# en la cabina por los pasajeros que sobrevivieron vs. los que no sobrevivieron\n",
        "\n",
        "# La variable 'Survived' (Sobreviente) toma valores \n",
        "# de 1 si el pasajero sobrevivió y 0 de lo contrario.\n",
        "\n",
        "# Agrupar los datos para Sobrevivientes vs No-Sobrevivientes\n",
        "# y encontrar el porcentaje de nulos en la cabina \n",
        "data.groupby(['Survived'])['cabin_null'].mean()"
      ],
      "execution_count": 9,
      "outputs": [
        {
          "output_type": "execute_result",
          "data": {
            "text/plain": [
              "Survived\n",
              "0    0.876138\n",
              "1    0.602339\n",
              "Name: cabin_null, dtype: float64"
            ]
          },
          "metadata": {
            "tags": []
          },
          "execution_count": 9
        }
      ]
    },
    {
      "cell_type": "code",
      "metadata": {
        "id": "eXN7mSWzwUXc",
        "colab_type": "code",
        "colab": {
          "base_uri": "https://localhost:8080/",
          "height": 204
        },
        "outputId": "5d7bbcf9-ae3e-472c-f8de-35539ac8cba3"
      },
      "source": [
        "data.head()"
      ],
      "execution_count": 10,
      "outputs": [
        {
          "output_type": "execute_result",
          "data": {
            "text/html": [
              "<div>\n",
              "<style scoped>\n",
              "    .dataframe tbody tr th:only-of-type {\n",
              "        vertical-align: middle;\n",
              "    }\n",
              "\n",
              "    .dataframe tbody tr th {\n",
              "        vertical-align: top;\n",
              "    }\n",
              "\n",
              "    .dataframe thead th {\n",
              "        text-align: right;\n",
              "    }\n",
              "</style>\n",
              "<table border=\"1\" class=\"dataframe\">\n",
              "  <thead>\n",
              "    <tr style=\"text-align: right;\">\n",
              "      <th></th>\n",
              "      <th>PassengerId</th>\n",
              "      <th>Survived</th>\n",
              "      <th>Pclass</th>\n",
              "      <th>Name</th>\n",
              "      <th>Sex</th>\n",
              "      <th>Age</th>\n",
              "      <th>SibSp</th>\n",
              "      <th>Parch</th>\n",
              "      <th>Ticket</th>\n",
              "      <th>Fare</th>\n",
              "      <th>Cabin</th>\n",
              "      <th>Embarked</th>\n",
              "      <th>cabin_null</th>\n",
              "    </tr>\n",
              "  </thead>\n",
              "  <tbody>\n",
              "    <tr>\n",
              "      <th>0</th>\n",
              "      <td>1</td>\n",
              "      <td>0</td>\n",
              "      <td>3</td>\n",
              "      <td>Braund, Mr. Owen Harris</td>\n",
              "      <td>male</td>\n",
              "      <td>22.0</td>\n",
              "      <td>1</td>\n",
              "      <td>0</td>\n",
              "      <td>A/5 21171</td>\n",
              "      <td>7.2500</td>\n",
              "      <td>NaN</td>\n",
              "      <td>S</td>\n",
              "      <td>1</td>\n",
              "    </tr>\n",
              "    <tr>\n",
              "      <th>1</th>\n",
              "      <td>2</td>\n",
              "      <td>1</td>\n",
              "      <td>1</td>\n",
              "      <td>Cumings, Mrs. John Bradley (Florence Briggs Th...</td>\n",
              "      <td>female</td>\n",
              "      <td>38.0</td>\n",
              "      <td>1</td>\n",
              "      <td>0</td>\n",
              "      <td>PC 17599</td>\n",
              "      <td>71.2833</td>\n",
              "      <td>C85</td>\n",
              "      <td>C</td>\n",
              "      <td>0</td>\n",
              "    </tr>\n",
              "    <tr>\n",
              "      <th>2</th>\n",
              "      <td>3</td>\n",
              "      <td>1</td>\n",
              "      <td>3</td>\n",
              "      <td>Heikkinen, Miss. Laina</td>\n",
              "      <td>female</td>\n",
              "      <td>26.0</td>\n",
              "      <td>0</td>\n",
              "      <td>0</td>\n",
              "      <td>STON/O2. 3101282</td>\n",
              "      <td>7.9250</td>\n",
              "      <td>NaN</td>\n",
              "      <td>S</td>\n",
              "      <td>1</td>\n",
              "    </tr>\n",
              "    <tr>\n",
              "      <th>3</th>\n",
              "      <td>4</td>\n",
              "      <td>1</td>\n",
              "      <td>1</td>\n",
              "      <td>Futrelle, Mrs. Jacques Heath (Lily May Peel)</td>\n",
              "      <td>female</td>\n",
              "      <td>35.0</td>\n",
              "      <td>1</td>\n",
              "      <td>0</td>\n",
              "      <td>113803</td>\n",
              "      <td>53.1000</td>\n",
              "      <td>C123</td>\n",
              "      <td>S</td>\n",
              "      <td>0</td>\n",
              "    </tr>\n",
              "    <tr>\n",
              "      <th>4</th>\n",
              "      <td>5</td>\n",
              "      <td>0</td>\n",
              "      <td>3</td>\n",
              "      <td>Allen, Mr. William Henry</td>\n",
              "      <td>male</td>\n",
              "      <td>35.0</td>\n",
              "      <td>0</td>\n",
              "      <td>0</td>\n",
              "      <td>373450</td>\n",
              "      <td>8.0500</td>\n",
              "      <td>NaN</td>\n",
              "      <td>S</td>\n",
              "      <td>1</td>\n",
              "    </tr>\n",
              "  </tbody>\n",
              "</table>\n",
              "</div>"
            ],
            "text/plain": [
              "   PassengerId  Survived  Pclass  \\\n",
              "0            1         0       3   \n",
              "1            2         1       1   \n",
              "2            3         1       3   \n",
              "3            4         1       1   \n",
              "4            5         0       3   \n",
              "\n",
              "                                                Name     Sex   Age  SibSp  \\\n",
              "0                            Braund, Mr. Owen Harris    male  22.0      1   \n",
              "1  Cumings, Mrs. John Bradley (Florence Briggs Th...  female  38.0      1   \n",
              "2                             Heikkinen, Miss. Laina  female  26.0      0   \n",
              "3       Futrelle, Mrs. Jacques Heath (Lily May Peel)  female  35.0      1   \n",
              "4                           Allen, Mr. William Henry    male  35.0      0   \n",
              "\n",
              "   Parch            Ticket     Fare Cabin Embarked  cabin_null  \n",
              "0      0         A/5 21171   7.2500   NaN        S           1  \n",
              "1      0          PC 17599  71.2833   C85        C           0  \n",
              "2      0  STON/O2. 3101282   7.9250   NaN        S           1  \n",
              "3      0            113803  53.1000  C123        S           0  \n",
              "4      0            373450   8.0500   NaN        S           1  "
            ]
          },
          "metadata": {
            "tags": []
          },
          "execution_count": 10
        }
      ]
    },
    {
      "cell_type": "code",
      "metadata": {
        "id": "dzUugzzmwzOa",
        "colab_type": "code",
        "colab": {
          "base_uri": "https://localhost:8080/",
          "height": 85
        },
        "outputId": "30f7ea03-42a9-4aaf-c1e9-c747a5327aa6"
      },
      "source": [
        "# Otra forma de hacer lo mismo, pero con menos líneas de código \n",
        "\n",
        "data['Cabin'].isnull().groupby(data['Survived']).mean()"
      ],
      "execution_count": 12,
      "outputs": [
        {
          "output_type": "execute_result",
          "data": {
            "text/plain": [
              "Survived\n",
              "0    0.876138\n",
              "1    0.602339\n",
              "Name: Cabin, dtype: float64"
            ]
          },
          "metadata": {
            "tags": []
          },
          "execution_count": 12
        }
      ]
    },
    {
      "cell_type": "markdown",
      "metadata": {
        "id": "_jX2uviIxjdd",
        "colab_type": "text"
      },
      "source": [
        "Podemos ver que el porcentaje de valores faltantes es mucho más alto para las personas que no sobrevivieron (87%), con respecto a los que sobrevivieron (60%). Este hallazgo está alineado con nuestra hipótesis sobre los datos faltantes.\n",
        "\n",
        "**Nota**: Para realmente entender si los valores faltantes no son aleatorios, es necesario familiarizarse muy bien con la forma en que los datos fueron recogidos. Analizar los datos, solo puede llevarnos a la dirección correcta o ayudarnos a construir hipótesis.\n"
      ]
    },
    {
      "cell_type": "code",
      "metadata": {
        "id": "kc28Mgw9wzW9",
        "colab_type": "code",
        "colab": {
          "base_uri": "https://localhost:8080/",
          "height": 85
        },
        "outputId": "ec86162f-4893-4f94-eff3-ef583c0cbbb0"
      },
      "source": [
        "# Hagamos lo mismo para la variable 'age':\n",
        "\n",
        "# Primero creamos variable binaria que indica\n",
        "# si hay valores faltantes\n",
        "\n",
        "data['age_null'] = np.where(data.Age.isnull(), 1, 0)\n",
        "\n",
        "# y luego miremos al promedio por cada uno de los grupos de sobrevivientes:\n",
        "data.groupby(['Survived'])['age_null'].mean()"
      ],
      "execution_count": 13,
      "outputs": [
        {
          "output_type": "execute_result",
          "data": {
            "text/plain": [
              "Survived\n",
              "0    0.227687\n",
              "1    0.152047\n",
              "Name: age_null, dtype: float64"
            ]
          },
          "metadata": {
            "tags": []
          },
          "execution_count": 13
        }
      ]
    },
    {
      "cell_type": "code",
      "metadata": {
        "id": "ZnNBUy7ox20E",
        "colab_type": "code",
        "colab": {
          "base_uri": "https://localhost:8080/",
          "height": 85
        },
        "outputId": "8ebb131a-c32a-4d76-997e-7fea4890a87a"
      },
      "source": [
        "#Otra forma\n",
        "data['Age'].isnull().groupby(data['Survived']).mean()"
      ],
      "execution_count": 16,
      "outputs": [
        {
          "output_type": "execute_result",
          "data": {
            "text/plain": [
              "Survived\n",
              "0    0.227687\n",
              "1    0.152047\n",
              "Name: Age, dtype: float64"
            ]
          },
          "metadata": {
            "tags": []
          },
          "execution_count": 16
        }
      ]
    },
    {
      "cell_type": "markdown",
      "metadata": {
        "id": "E5KtX5uKyLwW",
        "colab_type": "text"
      },
      "source": [
        "Nuevamente podemos observar un porcentaje mayor de datos faltantes para los pasajeros que no sobrevivieron. Este análisis sugiere que hay una pérdida de datos sistemática: la gente que no sobrevivió tiende a tener más datos nulos. \n",
        "\n",
        "Probablemente, el método seleccionado para recoger la información, contribuye a la generación de los datos faltantes.\n"
      ]
    },
    {
      "cell_type": "markdown",
      "metadata": {
        "id": "mgBmLSvIyd2P",
        "colab_type": "text"
      },
      "source": [
        "**2.-Valores Faltantes Aleatorios (MAR):**\n",
        "\n",
        "$\\bullet$ La probabilidad de ocurrencia de los datos faltantes depende de la información en otras variables.\n",
        "\n",
        "**Ejemplo:** En el caso en el que tengamos una tabla de datos en donde tengamos la variable **Género y Peso** podría pasar que tengamos **NA en peso** debido a que las mujeres a veces no les gusta revelar su peso. \n"
      ]
    },
    {
      "cell_type": "code",
      "metadata": {
        "id": "rrbQJUahyCYp",
        "colab_type": "code",
        "colab": {
          "base_uri": "https://localhost:8080/",
          "height": 111
        },
        "outputId": "d5843217-0be6-4226-fa7b-c99dc49fd233"
      },
      "source": [
        "# En los datos del Titanic, tambien hay valores faltantes \n",
        "# para la variable Embarked .\n",
        "\n",
        "# Tomemos solo un segmento del dataframe con solo las observaciones con datos \n",
        "# faltantes para la variable Embarked\n",
        "\n",
        "data[data.Embarked.isnull()]"
      ],
      "execution_count": 17,
      "outputs": [
        {
          "output_type": "execute_result",
          "data": {
            "text/html": [
              "<div>\n",
              "<style scoped>\n",
              "    .dataframe tbody tr th:only-of-type {\n",
              "        vertical-align: middle;\n",
              "    }\n",
              "\n",
              "    .dataframe tbody tr th {\n",
              "        vertical-align: top;\n",
              "    }\n",
              "\n",
              "    .dataframe thead th {\n",
              "        text-align: right;\n",
              "    }\n",
              "</style>\n",
              "<table border=\"1\" class=\"dataframe\">\n",
              "  <thead>\n",
              "    <tr style=\"text-align: right;\">\n",
              "      <th></th>\n",
              "      <th>PassengerId</th>\n",
              "      <th>Survived</th>\n",
              "      <th>Pclass</th>\n",
              "      <th>Name</th>\n",
              "      <th>Sex</th>\n",
              "      <th>Age</th>\n",
              "      <th>SibSp</th>\n",
              "      <th>Parch</th>\n",
              "      <th>Ticket</th>\n",
              "      <th>Fare</th>\n",
              "      <th>Cabin</th>\n",
              "      <th>Embarked</th>\n",
              "      <th>cabin_null</th>\n",
              "      <th>age_null</th>\n",
              "    </tr>\n",
              "  </thead>\n",
              "  <tbody>\n",
              "    <tr>\n",
              "      <th>61</th>\n",
              "      <td>62</td>\n",
              "      <td>1</td>\n",
              "      <td>1</td>\n",
              "      <td>Icard, Miss. Amelie</td>\n",
              "      <td>female</td>\n",
              "      <td>38.0</td>\n",
              "      <td>0</td>\n",
              "      <td>0</td>\n",
              "      <td>113572</td>\n",
              "      <td>80.0</td>\n",
              "      <td>B28</td>\n",
              "      <td>NaN</td>\n",
              "      <td>0</td>\n",
              "      <td>0</td>\n",
              "    </tr>\n",
              "    <tr>\n",
              "      <th>829</th>\n",
              "      <td>830</td>\n",
              "      <td>1</td>\n",
              "      <td>1</td>\n",
              "      <td>Stone, Mrs. George Nelson (Martha Evelyn)</td>\n",
              "      <td>female</td>\n",
              "      <td>62.0</td>\n",
              "      <td>0</td>\n",
              "      <td>0</td>\n",
              "      <td>113572</td>\n",
              "      <td>80.0</td>\n",
              "      <td>B28</td>\n",
              "      <td>NaN</td>\n",
              "      <td>0</td>\n",
              "      <td>0</td>\n",
              "    </tr>\n",
              "  </tbody>\n",
              "</table>\n",
              "</div>"
            ],
            "text/plain": [
              "     PassengerId  Survived  Pclass                                       Name  \\\n",
              "61            62         1       1                        Icard, Miss. Amelie   \n",
              "829          830         1       1  Stone, Mrs. George Nelson (Martha Evelyn)   \n",
              "\n",
              "        Sex   Age  SibSp  Parch  Ticket  Fare Cabin Embarked  cabin_null  \\\n",
              "61   female  38.0      0      0  113572  80.0   B28      NaN           0   \n",
              "829  female  62.0      0      0  113572  80.0   B28      NaN           0   \n",
              "\n",
              "     age_null  \n",
              "61          0  \n",
              "829         0  "
            ]
          },
          "metadata": {
            "tags": []
          },
          "execution_count": 17
        }
      ]
    },
    {
      "cell_type": "markdown",
      "metadata": {
        "id": "5JaYLx8HyuPT",
        "colab_type": "text"
      },
      "source": [
        "Estas dos mujeres viajaban juntas, Miss Icard era la mucama de Mrs Stone.\n",
        "\n",
        "A priori, pareciera que no hay indicios que los valores nulos de variables Embarked dependan de otra variable, y el hecho que ambas de estas mujeres sobrevivieron, quiere decir que hubiesen podido dar esta información.\n",
        "\n",
        "Muy probablemente los valores se perdieron en el momento de crear los datos.\n",
        "\n",
        "Si los valores son MCAR, la probabilidad de los datos faltantes para estas dos mujeres es la misma probabilidad que para cualquier otra persona en el Titanic. Por supuesto, esta hipótesis es difícil de demostrar, pero por lo menos nos sirve como ejemplo de variables MCAR."
      ]
    },
    {
      "cell_type": "markdown",
      "metadata": {
        "id": "8QshShd1wSNc",
        "colab_type": "text"
      },
      "source": [
        "\n",
        "**3.- Valores Faltantes No Aleatorios (MNAR):**\n",
        "\n",
        "$\\bullet$ Hay un mecanismo o una razón por la cuál los valores faltantes son introducidos en los datos \n",
        "\n",
        "Usaremos los datos de Lending Club. Vamos a explorar la variable nombre de la ocupacion (emp_title) y los años que lleva empleado para dicho empleador (emp_length), ambos declarados por los prestamistas en el momento de aplicación para un préstamo. \n",
        "En este ejemplo, los valores faltantes en emp_title estan asociados con los valores faltantes en emp_length."
      ]
    },
    {
      "cell_type": "code",
      "metadata": {
        "id": "4lwJ7bcowSrX",
        "colab_type": "code",
        "colab": {
          "base_uri": "https://localhost:8080/",
          "height": 204
        },
        "outputId": "652a2695-f130-4aa1-f326-a6f29bd924cb"
      },
      "source": [
        "# Carguemos las columnas que nos interesan de los datos\n",
        "# Lending Club \n",
        "\n",
        "data = pd.read_csv('/content/drive/My Drive/datasets/loan.csv',\n",
        "                   usecols=['emp_title', 'emp_length'],\n",
        "                   na_values='',\n",
        "                   keep_default_na=False)\n",
        "data.head()"
      ],
      "execution_count": 18,
      "outputs": [
        {
          "output_type": "execute_result",
          "data": {
            "text/html": [
              "<div>\n",
              "<style scoped>\n",
              "    .dataframe tbody tr th:only-of-type {\n",
              "        vertical-align: middle;\n",
              "    }\n",
              "\n",
              "    .dataframe tbody tr th {\n",
              "        vertical-align: top;\n",
              "    }\n",
              "\n",
              "    .dataframe thead th {\n",
              "        text-align: right;\n",
              "    }\n",
              "</style>\n",
              "<table border=\"1\" class=\"dataframe\">\n",
              "  <thead>\n",
              "    <tr style=\"text-align: right;\">\n",
              "      <th></th>\n",
              "      <th>emp_title</th>\n",
              "      <th>emp_length</th>\n",
              "    </tr>\n",
              "  </thead>\n",
              "  <tbody>\n",
              "    <tr>\n",
              "      <th>0</th>\n",
              "      <td>Chef</td>\n",
              "      <td>10+ years</td>\n",
              "    </tr>\n",
              "    <tr>\n",
              "      <th>1</th>\n",
              "      <td>Postmaster</td>\n",
              "      <td>10+ years</td>\n",
              "    </tr>\n",
              "    <tr>\n",
              "      <th>2</th>\n",
              "      <td>Administrative</td>\n",
              "      <td>6 years</td>\n",
              "    </tr>\n",
              "    <tr>\n",
              "      <th>3</th>\n",
              "      <td>IT Supervisor</td>\n",
              "      <td>10+ years</td>\n",
              "    </tr>\n",
              "    <tr>\n",
              "      <th>4</th>\n",
              "      <td>Mechanic</td>\n",
              "      <td>10+ years</td>\n",
              "    </tr>\n",
              "  </tbody>\n",
              "</table>\n",
              "</div>"
            ],
            "text/plain": [
              "        emp_title emp_length\n",
              "0            Chef  10+ years\n",
              "1     Postmaster   10+ years\n",
              "2  Administrative    6 years\n",
              "3   IT Supervisor  10+ years\n",
              "4        Mechanic  10+ years"
            ]
          },
          "metadata": {
            "tags": []
          },
          "execution_count": 18
        }
      ]
    },
    {
      "cell_type": "code",
      "metadata": {
        "id": "lmBCJkagzLnZ",
        "colab_type": "code",
        "colab": {
          "base_uri": "https://localhost:8080/",
          "height": 68
        },
        "outputId": "b718f1bf-d2ba-4b65-f9dc-d4c5c628a2bf"
      },
      "source": [
        "# Miremos el porcentaje de datos faltantes\n",
        "\n",
        "data.isnull().mean()"
      ],
      "execution_count": 19,
      "outputs": [
        {
          "output_type": "execute_result",
          "data": {
            "text/plain": [
              "emp_title     0.073841\n",
              "emp_length    0.000000\n",
              "dtype: float64"
            ]
          },
          "metadata": {
            "tags": []
          },
          "execution_count": 19
        }
      ]
    },
    {
      "cell_type": "markdown",
      "metadata": {
        "id": "4kFH6XUazZqW",
        "colab_type": "text"
      },
      "source": [
        "Aldedor del 7% de las observaciones contienen datos faltantes para emp_title. No faltan valores en la variable emp_length."
      ]
    },
    {
      "cell_type": "code",
      "metadata": {
        "id": "riJju9TzzSI0",
        "colab_type": "code",
        "colab": {
          "base_uri": "https://localhost:8080/",
          "height": 153
        },
        "outputId": "d4bb3ca7-fd57-4aa5-ddb3-e5862fd40646"
      },
      "source": [
        "# Miremos los valores de los diferentes empleos\n",
        "\n",
        "# Número de los diferentes empleos:\n",
        "print('Número de los diferentes empleos: {}'.format(\n",
        "    len(data.emp_title.unique())))\n",
        "\n",
        "# Veamos unos ejemplos:\n",
        "data.emp_title.unique()[0:20]"
      ],
      "execution_count": 20,
      "outputs": [
        {
          "output_type": "stream",
          "text": [
            "Número de los diferentes empleos: 512698\n"
          ],
          "name": "stdout"
        },
        {
          "output_type": "execute_result",
          "data": {
            "text/plain": [
              "array(['Chef', 'Postmaster ', 'Administrative', 'IT Supervisor',\n",
              "       'Mechanic', 'Director COE', 'Account Manager',\n",
              "       'Assistant Director', 'Legal Assistant III', nan, 'Consultant',\n",
              "       'Job Coach Supervisor', 'Quality Field Engineer', 'Teller ',\n",
              "       'respritory therapist', 'Worship Director', 'Processor ',\n",
              "       'Neonatal Nurse Practitioner', 'Stationary Engineer',\n",
              "       'Exhibits director'], dtype=object)"
            ]
          },
          "metadata": {
            "tags": []
          },
          "execution_count": 20
        }
      ]
    },
    {
      "cell_type": "code",
      "metadata": {
        "id": "BhzoNpS4zeln",
        "colab_type": "code",
        "colab": {
          "base_uri": "https://localhost:8080/",
          "height": 68
        },
        "outputId": "f33f97bf-a557-4680-fbea-048ba00423c7"
      },
      "source": [
        "# Veamos la variable emp_length\n",
        "data.emp_length.unique()"
      ],
      "execution_count": 21,
      "outputs": [
        {
          "output_type": "execute_result",
          "data": {
            "text/plain": [
              "array(['10+ years', '6 years', '4 years', '< 1 year', '2 years',\n",
              "       '9 years', 'n/a', '5 years', '3 years', '7 years', '1 year',\n",
              "       '8 years'], dtype=object)"
            ]
          },
          "metadata": {
            "tags": []
          },
          "execution_count": 21
        }
      ]
    },
    {
      "cell_type": "markdown",
      "metadata": {
        "id": "onhQMYMOztek",
        "colab_type": "text"
      },
      "source": [
        "El valor 'n/a', \"not applicable\" es en el cual estamos interesados. El cliente no puede llenar el campo sobre cuántos años lleva empleado, porque quizás no estén trabajando. Puede ser estudiante, ser pensionado o trabajador independientemente."
      ]
    },
    {
      "cell_type": "code",
      "metadata": {
        "id": "y5MyJ6Q1znka",
        "colab_type": "code",
        "colab": {
          "base_uri": "https://localhost:8080/",
          "height": 238
        },
        "outputId": "cdfbe795-79bf-49b3-d3e1-1bbae71d0a15"
      },
      "source": [
        "# Miremos el porcentaje de prestamistas  en \n",
        "# cada categoría de la variable emp_length \n",
        "\n",
        "# value_counts cuenta el número de observaciones por categoría\n",
        "# si dividimos por el número de observaciones totales (len(data))\n",
        "# obtenemos los porcentajes de observaciones por categoría\n",
        "\n",
        "data.emp_length.value_counts() / len(data)"
      ],
      "execution_count": 22,
      "outputs": [
        {
          "output_type": "execute_result",
          "data": {
            "text/plain": [
              "10+ years    0.330878\n",
              "2 years      0.090096\n",
              "< 1 year     0.084041\n",
              "3 years      0.079956\n",
              "1 year       0.065646\n",
              "n/a          0.064984\n",
              "5 years      0.061795\n",
              "4 years      0.060427\n",
              "6 years      0.045397\n",
              "7 years      0.041003\n",
              "8 years      0.040658\n",
              "9 years      0.035120\n",
              "Name: emp_length, dtype: float64"
            ]
          },
          "metadata": {
            "tags": []
          },
          "execution_count": 22
        }
      ]
    },
    {
      "cell_type": "markdown",
      "metadata": {
        "id": "yilKYDT4z_bL",
        "colab_type": "text"
      },
      "source": [
        "6 % de los prestamistas registraron 'n/a' para emp_length. De la celda anterior sabemos que para ~7% de los prestamistas emp_title tiene datos faltantes. Podría haber alguna relación entre los datos faltantes de estas variables?\n"
      ]
    },
    {
      "cell_type": "code",
      "metadata": {
        "id": "UKnoiZUuz2AX",
        "colab_type": "code",
        "colab": {
          "base_uri": "https://localhost:8080/",
          "height": 221
        },
        "outputId": "2e616905-dcdd-4c29-dc90-77fe467ea877"
      },
      "source": [
        "# la variable emp_length tiene muchas categorías.\n",
        "\n",
        "# Resumámoslas en 3 por simplicidad:\n",
        "# '0-10 years' or '10+ years' or 'n/a' -->\n",
        "# '0-10 años' o '10+ años' o 'n/a'\n",
        "\n",
        "# Creemos un diccionarios y re-asignemos los valores de emp_length en 3 categorías:\n",
        "\n",
        "length_dict = {k: '0-10 years' for k in data.emp_length.unique()}\n",
        "length_dict['10+ years'] = '10+ years'\n",
        "length_dict['n/a'] = 'n/a'\n",
        "\n",
        "# miremos el diccionario:\n",
        "length_dict"
      ],
      "execution_count": 23,
      "outputs": [
        {
          "output_type": "execute_result",
          "data": {
            "text/plain": [
              "{'1 year': '0-10 years',\n",
              " '10+ years': '10+ years',\n",
              " '2 years': '0-10 years',\n",
              " '3 years': '0-10 years',\n",
              " '4 years': '0-10 years',\n",
              " '5 years': '0-10 years',\n",
              " '6 years': '0-10 years',\n",
              " '7 years': '0-10 years',\n",
              " '8 years': '0-10 years',\n",
              " '9 years': '0-10 years',\n",
              " '< 1 year': '0-10 years',\n",
              " 'n/a': 'n/a'}"
            ]
          },
          "metadata": {
            "tags": []
          },
          "execution_count": 23
        }
      ]
    },
    {
      "cell_type": "code",
      "metadata": {
        "id": "I0gSRSCm0X8I",
        "colab_type": "code",
        "colab": {
          "base_uri": "https://localhost:8080/",
          "height": 34
        },
        "outputId": "05ffba24-1ce9-4f18-be19-050e24f6d24f"
      },
      "source": [
        "# Re-asignemos los valores de la variable emp_length \n",
        "\n",
        "data['emp_length_redefined'] = data.emp_length.map(length_dict)\n",
        "\n",
        "# revisemos si funciono\n",
        "data.emp_length_redefined.unique()"
      ],
      "execution_count": 25,
      "outputs": [
        {
          "output_type": "execute_result",
          "data": {
            "text/plain": [
              "array(['10+ years', '0-10 years', 'n/a'], dtype=object)"
            ]
          },
          "metadata": {
            "tags": []
          },
          "execution_count": 25
        }
      ]
    },
    {
      "cell_type": "code",
      "metadata": {
        "id": "uySlwWzZ0hup",
        "colab_type": "code",
        "colab": {
          "base_uri": "https://localhost:8080/",
          "height": 34
        },
        "outputId": "7df004f9-1e6a-438e-8473-7c32e7f3cde7"
      },
      "source": [
        "# Calculemos la proporción de años de trabajo en la misma ocupación \n",
        "# para aquellos que tienen datos faltantes en la variable emp_title\n",
        "\n",
        "# data[data.emp_title.isnull()] representa las observaciones con \n",
        "# valores faltantes en emp_title. \n",
        "\n",
        "# Cálculos:\n",
        "# número de prestamistas para los cuales la ocupación es nula\n",
        "not_employed = len(data[data.emp_title.isnull()])\n",
        "not_employed\n",
        "\n"
      ],
      "execution_count": 30,
      "outputs": [
        {
          "output_type": "execute_result",
          "data": {
            "text/plain": [
              "166931"
            ]
          },
          "metadata": {
            "tags": []
          },
          "execution_count": 30
        }
      ]
    },
    {
      "cell_type": "code",
      "metadata": {
        "id": "-k8XLiKh1Ftm",
        "colab_type": "code",
        "colab": {
          "base_uri": "https://localhost:8080/",
          "height": 102
        },
        "outputId": "c5fa3d53-b495-43fc-f6eb-67edd798c149"
      },
      "source": [
        "# % de prestamistas para los cuales la ocupacióon falta\n",
        "# por cada categoría de años de trabajo\n",
        "\n",
        "data[data.emp_title.isnull()].groupby(\n",
        "    ['emp_length_redefined'])['emp_length'].count().sort_values() / not_employed"
      ],
      "execution_count": 31,
      "outputs": [
        {
          "output_type": "execute_result",
          "data": {
            "text/plain": [
              "emp_length_redefined\n",
              "10+ years     0.021069\n",
              "0-10 years    0.103678\n",
              "n/a           0.875254\n",
              "Name: emp_length, dtype: float64"
            ]
          },
          "metadata": {
            "tags": []
          },
          "execution_count": 31
        }
      ]
    },
    {
      "cell_type": "markdown",
      "metadata": {
        "id": "NIzLRxNK1zcV",
        "colab_type": "text"
      },
      "source": [
        "Este resultado nos dice lo siguiente:\n",
        "Para todos los prestamistas que tienen información faltante en emp_title, para aquellos que no están empleados:\n",
        "- 5.4% declaró más de 10 años en emp_length (quizás son empleados independientes)\n",
        "- 8.4% declaró entre 0-10 años en emp_length (igual que el anterior, quizás independientes)\n",
        "- 86.3 % declaró n/a en emp_length (quizás son estudiantes, o trabajan en casa o son pensionados)\n",
        "\n",
        "La mayoría de los datos faltantes en emp_title coinciden con la etiqueta 'n/a' en la variable emp_length (86%). Esto apoya la idea que estas 2 variables están relacionadas. De modo que los datos faltantes en emp_title, son MAR.\n"
      ]
    },
    {
      "cell_type": "code",
      "metadata": {
        "id": "jNKO9feW1ewc",
        "colab_type": "code",
        "colab": {
          "base_uri": "https://localhost:8080/",
          "height": 102
        },
        "outputId": "8476f54f-e332-437b-f177-50198ec38ee5"
      },
      "source": [
        "# Hagamos lo mismo para aquellos prestamistas que declaraon una ocupación\n",
        "\n",
        "# número de prestamistas donde el nombre de la ocupación existe:\n",
        "# número de empleados \n",
        "employed = len(data.dropna(subset=['emp_title']))\n",
        "\n",
        "# % de prestamistas en cada categoría\n",
        "data.dropna(subset=['emp_title']).groupby(\n",
        "    ['emp_length_redefined'])['emp_length'].count().sort_values() / employed"
      ],
      "execution_count": 32,
      "outputs": [
        {
          "output_type": "execute_result",
          "data": {
            "text/plain": [
              "emp_length_redefined\n",
              "n/a           0.000382\n",
              "10+ years     0.355579\n",
              "0-10 years    0.644039\n",
              "Name: emp_length, dtype: float64"
            ]
          },
          "metadata": {
            "tags": []
          },
          "execution_count": 32
        }
      ]
    },
    {
      "cell_type": "markdown",
      "metadata": {
        "id": "hWSgKQc52GAp",
        "colab_type": "text"
      },
      "source": [
        "El número de prestamistas que han reportado el nombre de un empleador (emp_title) y tienen   'n/a' como emp_length son muy pocos. Esto  confirma que los valores faltantes en emp_title están relacionados con 'n/a' en la variable emp_length.\n",
        "\n",
        "'n/a' en emp_length puede ser registrado por personas pensionadas o estudiantes.\n",
        "\n",
        "Valores faltantes en la variable emp_title dependen o están relacionados con la categoría 'n/a' en la variable emp_length. Este es un ejemplo de una variable MAR. El valor en emp_title falta de forma aleatoria para aquellos clientes que no están empleados, pero cuando emp_length falta, emp_title también está ausente."
      ]
    },
    {
      "cell_type": "code",
      "metadata": {
        "id": "FxGvuZvZ2B1d",
        "colab_type": "code",
        "colab": {}
      },
      "source": [
        ""
      ],
      "execution_count": null,
      "outputs": []
    }
  ]
}