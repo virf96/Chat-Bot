{
  "nbformat": 4,
  "nbformat_minor": 0,
  "metadata": {
    "colab": {
      "name": "Untitled2.ipynb",
      "provenance": [],
      "toc_visible": true,
      "authorship_tag": "ABX9TyM63NtqjlOn+qyUUqOuW6Wy",
      "include_colab_link": true
    },
    "kernelspec": {
      "name": "python3",
      "display_name": "Python 3"
    }
  },
  "cells": [
    {
      "cell_type": "markdown",
      "metadata": {
        "id": "view-in-github",
        "colab_type": "text"
      },
      "source": [
        "<a href=\"https://colab.research.google.com/github/virf96/Chat-Bot/blob/master/Caracterist%C3%ADcas_variables.ipynb\" target=\"_parent\"><img src=\"https://colab.research.google.com/assets/colab-badge.svg\" alt=\"Open In Colab\"/></a>"
      ]
    },
    {
      "cell_type": "markdown",
      "metadata": {
        "id": "X1mIfjUcjWKg",
        "colab_type": "text"
      },
      "source": [
        "#Caracteristícas de las variables\n",
        "\n",
        "**¿Que debemos considerar cuando analizamos variables?**\n",
        "\n",
        "**1.- Datos Faltantes** (Falta de información para algunas observaciones dentro de una variable)\n",
        "\n",
        "**2.- Variables Categóricas** (Variables que contienen cadena de caracteres en lugar de números)\n",
        "\n",
        "**3.- Condiciones de modelos lineales** (Cumplen las variables con dichas condiciones)\n",
        "\n",
        "**4.- Distribución** (Normal, sesgada, entre otras)\n",
        "\n",
        "**5.- Valores extremos** (Valores inusuales o inesperados)\n",
        "\n",
        "**6.- Magnitud** (Escala o rango de las variables)"
      ]
    },
    {
      "cell_type": "markdown",
      "metadata": {
        "id": "ID8ezXiflety",
        "colab_type": "text"
      },
      "source": [
        "# **Datos Faltantes**\n",
        "\n",
        "## Definición:\n",
        "\n",
        "$\\bullet$ Los datos faltantes o valores vacíos ('missing values') se definen como valores/datos no disponibles para ciertas observaciones en un variable\n",
        "\n",
        "$\\bullet$ Los datos incompletos son un problema inevitable en la mayoría de las fuentes de datos\n",
        "\n",
        "$\\bullet$ Los valores vacíos pueden tener un gran impacto en las conclusiones que se deriven de la variable\n",
        "\n",
        "## Motivos de datos faltantes:\n",
        "\n",
        "$\\bullet$ **Omitidos:** Un valor falta porque no se guardó apropiadamente\n",
        "\n",
        "$\\bullet$ **No existen:** Ejemplo: Cuando creamos variables como 'ratios' es posible que en algún caso el denominador sea cero y la variable no existe en ese caso\n",
        "\n",
        "$\\bullet$ **No se identifica:** Ejemplo: Cuando se usa el código postal para generar la variable 'colonia' y el código postal esta errado\n",
        "\n",
        "## Impactos\n",
        "\n",
        "$\\bullet$ La librería principal para Machine Learning **\"Scikit-learn\"** no es compatible con los datos faltantes\n",
        "\n",
        "$\\bullet$ La sustitución/imputación de NA puede distorsionar la distribución de la variable \n",
        "\n",
        "$\\bullet$ Afecta a todos los modelos de Machine Learning\n",
        "\n"
      ]
    },
    {
      "cell_type": "code",
      "metadata": {
        "id": "XrZt4IZzuCbW",
        "colab_type": "code",
        "colab": {
          "base_uri": "https://localhost:8080/",
          "height": 122
        },
        "outputId": "804b009e-e455-4dc2-f05f-b8a1f4b3304c"
      },
      "source": [
        "from google.colab import drive\n",
        "drive.mount('/content/drive')"
      ],
      "execution_count": 1,
      "outputs": [
        {
          "output_type": "stream",
          "text": [
            "Go to this URL in a browser: https://accounts.google.com/o/oauth2/auth?client_id=947318989803-6bn6qk8qdgf4n4g3pfee6491hc0brc4i.apps.googleusercontent.com&redirect_uri=urn%3aietf%3awg%3aoauth%3a2.0%3aoob&response_type=code&scope=email%20https%3a%2f%2fwww.googleapis.com%2fauth%2fdocs.test%20https%3a%2f%2fwww.googleapis.com%2fauth%2fdrive%20https%3a%2f%2fwww.googleapis.com%2fauth%2fdrive.photos.readonly%20https%3a%2f%2fwww.googleapis.com%2fauth%2fpeopleapi.readonly\n",
            "\n",
            "Enter your authorization code:\n",
            "··········\n",
            "Mounted at /content/drive\n"
          ],
          "name": "stdout"
        }
      ]
    },
    {
      "cell_type": "code",
      "metadata": {
        "id": "3Kf0C4xxuENX",
        "colab_type": "code",
        "colab": {}
      },
      "source": [
        "import pandas as pd\n",
        "import numpy as np\n",
        "\n",
        "import matplotlib.pyplot as plt\n",
        "\n",
        "# Con este comando informamos a pandas que muestre todas\n",
        "# las columnas cada vez que pedimos un display\n",
        "pd.set_option('display.max_columns', None)"
      ],
      "execution_count": null,
      "outputs": []
    },
    {
      "cell_type": "code",
      "metadata": {
        "id": "gfsUM4FLuRge",
        "colab_type": "code",
        "colab": {
          "base_uri": "https://localhost:8080/",
          "height": 204
        },
        "outputId": "ffc58127-da83-47c7-c628-0a252f1f076c"
      },
      "source": [
        "# Carguemos los datos del Titanic\n",
        "data = pd.read_csv('/content/drive/My Drive/datasets/titanic.csv')\n",
        "\n",
        "# Inspeccionemos las primeras 5 filas\n",
        "data.head()"
      ],
      "execution_count": 137,
      "outputs": [
        {
          "output_type": "execute_result",
          "data": {
            "text/html": [
              "<div>\n",
              "<style scoped>\n",
              "    .dataframe tbody tr th:only-of-type {\n",
              "        vertical-align: middle;\n",
              "    }\n",
              "\n",
              "    .dataframe tbody tr th {\n",
              "        vertical-align: top;\n",
              "    }\n",
              "\n",
              "    .dataframe thead th {\n",
              "        text-align: right;\n",
              "    }\n",
              "</style>\n",
              "<table border=\"1\" class=\"dataframe\">\n",
              "  <thead>\n",
              "    <tr style=\"text-align: right;\">\n",
              "      <th></th>\n",
              "      <th>pclass</th>\n",
              "      <th>survived</th>\n",
              "      <th>name</th>\n",
              "      <th>sex</th>\n",
              "      <th>age</th>\n",
              "      <th>sibsp</th>\n",
              "      <th>parch</th>\n",
              "      <th>ticket</th>\n",
              "      <th>fare</th>\n",
              "      <th>cabin</th>\n",
              "      <th>embarked</th>\n",
              "      <th>boat</th>\n",
              "      <th>body</th>\n",
              "      <th>home.dest</th>\n",
              "    </tr>\n",
              "  </thead>\n",
              "  <tbody>\n",
              "    <tr>\n",
              "      <th>0</th>\n",
              "      <td>1</td>\n",
              "      <td>1</td>\n",
              "      <td>Allen, Miss. Elisabeth Walton</td>\n",
              "      <td>female</td>\n",
              "      <td>29.0000</td>\n",
              "      <td>0</td>\n",
              "      <td>0</td>\n",
              "      <td>24160</td>\n",
              "      <td>211.3375</td>\n",
              "      <td>B5</td>\n",
              "      <td>S</td>\n",
              "      <td>2</td>\n",
              "      <td>NaN</td>\n",
              "      <td>St Louis, MO</td>\n",
              "    </tr>\n",
              "    <tr>\n",
              "      <th>1</th>\n",
              "      <td>1</td>\n",
              "      <td>1</td>\n",
              "      <td>Allison, Master. Hudson Trevor</td>\n",
              "      <td>male</td>\n",
              "      <td>0.9167</td>\n",
              "      <td>1</td>\n",
              "      <td>2</td>\n",
              "      <td>113781</td>\n",
              "      <td>151.5500</td>\n",
              "      <td>C22</td>\n",
              "      <td>S</td>\n",
              "      <td>11</td>\n",
              "      <td>NaN</td>\n",
              "      <td>Montreal, PQ / Chesterville, ON</td>\n",
              "    </tr>\n",
              "    <tr>\n",
              "      <th>2</th>\n",
              "      <td>1</td>\n",
              "      <td>0</td>\n",
              "      <td>Allison, Miss. Helen Loraine</td>\n",
              "      <td>female</td>\n",
              "      <td>2.0000</td>\n",
              "      <td>1</td>\n",
              "      <td>2</td>\n",
              "      <td>113781</td>\n",
              "      <td>151.5500</td>\n",
              "      <td>C22</td>\n",
              "      <td>S</td>\n",
              "      <td>NaN</td>\n",
              "      <td>NaN</td>\n",
              "      <td>Montreal, PQ / Chesterville, ON</td>\n",
              "    </tr>\n",
              "    <tr>\n",
              "      <th>3</th>\n",
              "      <td>1</td>\n",
              "      <td>0</td>\n",
              "      <td>Allison, Mr. Hudson Joshua Creighton</td>\n",
              "      <td>male</td>\n",
              "      <td>30.0000</td>\n",
              "      <td>1</td>\n",
              "      <td>2</td>\n",
              "      <td>113781</td>\n",
              "      <td>151.5500</td>\n",
              "      <td>C22</td>\n",
              "      <td>S</td>\n",
              "      <td>NaN</td>\n",
              "      <td>135.0</td>\n",
              "      <td>Montreal, PQ / Chesterville, ON</td>\n",
              "    </tr>\n",
              "    <tr>\n",
              "      <th>4</th>\n",
              "      <td>1</td>\n",
              "      <td>0</td>\n",
              "      <td>Allison, Mrs. Hudson J C (Bessie Waldo Daniels)</td>\n",
              "      <td>female</td>\n",
              "      <td>25.0000</td>\n",
              "      <td>1</td>\n",
              "      <td>2</td>\n",
              "      <td>113781</td>\n",
              "      <td>151.5500</td>\n",
              "      <td>C22</td>\n",
              "      <td>S</td>\n",
              "      <td>NaN</td>\n",
              "      <td>NaN</td>\n",
              "      <td>Montreal, PQ / Chesterville, ON</td>\n",
              "    </tr>\n",
              "  </tbody>\n",
              "</table>\n",
              "</div>"
            ],
            "text/plain": [
              "   pclass  survived  ...   body                        home.dest\n",
              "0       1         1  ...    NaN                     St Louis, MO\n",
              "1       1         1  ...    NaN  Montreal, PQ / Chesterville, ON\n",
              "2       1         0  ...    NaN  Montreal, PQ / Chesterville, ON\n",
              "3       1         0  ...  135.0  Montreal, PQ / Chesterville, ON\n",
              "4       1         0  ...    NaN  Montreal, PQ / Chesterville, ON\n",
              "\n",
              "[5 rows x 14 columns]"
            ]
          },
          "metadata": {
            "tags": []
          },
          "execution_count": 137
        }
      ]
    },
    {
      "cell_type": "markdown",
      "metadata": {
        "id": "OPn70u18vWek",
        "colab_type": "text"
      },
      "source": [
        "En Python, los valores faltantes se guardan como NaN, mira por ejemplo, los valores para la variable body."
      ]
    },
    {
      "cell_type": "code",
      "metadata": {
        "id": "rkSWjixAvEa7",
        "colab_type": "code",
        "colab": {
          "base_uri": "https://localhost:8080/",
          "height": 272
        },
        "outputId": "a98020f1-f4f2-40be-94d3-4c5bee62d772"
      },
      "source": [
        "# Podemos cuantificar el número total de valores nulos usando\n",
        "# el método isnull seguido de el método suma en el dataframe\n",
        "\n",
        "data.isnull().sum()"
      ],
      "execution_count": 138,
      "outputs": [
        {
          "output_type": "execute_result",
          "data": {
            "text/plain": [
              "pclass          0\n",
              "survived        0\n",
              "name            0\n",
              "sex             0\n",
              "age           263\n",
              "sibsp           0\n",
              "parch           0\n",
              "ticket          0\n",
              "fare            1\n",
              "cabin        1014\n",
              "embarked        2\n",
              "boat          823\n",
              "body         1188\n",
              "home.dest     564\n",
              "dtype: int64"
            ]
          },
          "metadata": {
            "tags": []
          },
          "execution_count": 138
        }
      ]
    },
    {
      "cell_type": "code",
      "metadata": {
        "id": "KtIA5p6XvZ9b",
        "colab_type": "code",
        "colab": {
          "base_uri": "https://localhost:8080/",
          "height": 272
        },
        "outputId": "fe59040c-6eb7-4bd6-95b4-192c8ec10ad8"
      },
      "source": [
        "data.isna().sum()"
      ],
      "execution_count": 139,
      "outputs": [
        {
          "output_type": "execute_result",
          "data": {
            "text/plain": [
              "pclass          0\n",
              "survived        0\n",
              "name            0\n",
              "sex             0\n",
              "age           263\n",
              "sibsp           0\n",
              "parch           0\n",
              "ticket          0\n",
              "fare            1\n",
              "cabin        1014\n",
              "embarked        2\n",
              "boat          823\n",
              "body         1188\n",
              "home.dest     564\n",
              "dtype: int64"
            ]
          },
          "metadata": {
            "tags": []
          },
          "execution_count": 139
        }
      ]
    },
    {
      "cell_type": "markdown",
      "metadata": {
        "id": "Ri-y0d5avrMd",
        "colab_type": "text"
      },
      "source": [
        "**Hay** 263 valores faltantes para la variable 'Age', 1014 para 'Cabin' y 2 para 'Embarked'."
      ]
    },
    {
      "cell_type": "code",
      "metadata": {
        "id": "uBrfV_0avh4r",
        "colab_type": "code",
        "colab": {
          "base_uri": "https://localhost:8080/",
          "height": 272
        },
        "outputId": "b35b4500-5877-4731-bbf9-81ee582d4d91"
      },
      "source": [
        "# Otra opción, es usar el método promedio 'mean'\n",
        "# para visualizar el porcentage the los valores faltantes\n",
        "# por cada variable\n",
        "\n",
        "data.isnull().mean()*100"
      ],
      "execution_count": 140,
      "outputs": [
        {
          "output_type": "execute_result",
          "data": {
            "text/plain": [
              "pclass        0.000000\n",
              "survived      0.000000\n",
              "name          0.000000\n",
              "sex           0.000000\n",
              "age          20.091673\n",
              "sibsp         0.000000\n",
              "parch         0.000000\n",
              "ticket        0.000000\n",
              "fare          0.076394\n",
              "cabin        77.463713\n",
              "embarked      0.152788\n",
              "boat         62.872422\n",
              "body         90.756303\n",
              "home.dest    43.086325\n",
              "dtype: float64"
            ]
          },
          "metadata": {
            "tags": []
          },
          "execution_count": 140
        }
      ]
    },
    {
      "cell_type": "markdown",
      "metadata": {
        "id": "2iovAVUsv_JC",
        "colab_type": "text"
      },
      "source": [
        "Hay valores nulos en las variables Age (19.86% faltantes), Cabin - cabina en la cual el pasajero estaba viajando - (77% faltantes), y Embarked - el puerto en el cual el pasajero subió el Titanic - (0.2%  faltantes)."
      ]
    },
    {
      "cell_type": "markdown",
      "metadata": {
        "id": "rRIivmRNwN7e",
        "colab_type": "text"
      },
      "source": [
        "**Entender los mecanismos que generan los datos ausentes nos ayuda a escoger la técnica de sustitución más adecuada**\n",
        "\n",
        "## Mecanismos\n",
        "\n",
        "**1.- Valores Flatentes completamiente aleatorios (MCAR):**\n",
        "\n",
        "$\\bullet$ La probabilidad de que un valor falte es la misma para todas las observaciones.\n",
        "\n",
        "$\\bullet$ No hay relación alguna entre los datos faltantes y cualquier otro valor, ya sea registrado o ausente\n",
        "\n",
        "$\\bullet$ Omitir estos casos no sesga ninguna inferencia o conclusión hecha\n",
        "\n",
        "En los datos del Titanic, los valores faltantes de las variables Cabin y Age fueron introducidos sistemáticamente. \n",
        "Para muchos de los pasajeros que no sobrevivieron, la edad ('Age') que tenían o la cabina ('Cabin') en la que estaban viajando, no pudo ser establecida. A la gente que sobrevivió, por el contrario, se les pudo preguntar dicha información.\n",
        "\n",
        "Qué podemos deducir observando los datos?\n",
        "En una situación como esta, podemos esperar un mayor número de valores faltantes para los pasajeros que no sobrevivieron.\n",
        "\n",
        "Observemos:\n"
      ]
    },
    {
      "cell_type": "code",
      "metadata": {
        "id": "mtghb-etv5Xr",
        "colab_type": "code",
        "colab": {}
      },
      "source": [
        "# Creemos una variable binaria que indique\n",
        "# si la información de la cabina esta ausente o no\n",
        "\n",
        "data['cabin_null'] = np.where(data.cabin.isnull(), 1, 0)"
      ],
      "execution_count": 142,
      "outputs": []
    },
    {
      "cell_type": "code",
      "metadata": {
        "id": "O0nuoibUwUOU",
        "colab_type": "code",
        "colab": {
          "base_uri": "https://localhost:8080/",
          "height": 85
        },
        "outputId": "a1fef382-0521-42c5-c68d-73e69e03b42d"
      },
      "source": [
        "# Evaluemos el porcentaje de los valores faltantes \n",
        "# en la cabina por los pasajeros que sobrevivieron vs. los que no sobrevivieron\n",
        "\n",
        "# La variable 'Survived' (Sobreviente) toma valores \n",
        "# de 1 si el pasajero sobrevivió y 0 de lo contrario.\n",
        "\n",
        "# Agrupar los datos para Sobrevivientes vs No-Sobrevivientes\n",
        "# y encontrar el porcentaje de nulos en la cabina \n",
        "data.groupby(['survived'])['cabin_null'].mean()"
      ],
      "execution_count": 144,
      "outputs": [
        {
          "output_type": "execute_result",
          "data": {
            "text/plain": [
              "survived\n",
              "0    0.873918\n",
              "1    0.614000\n",
              "Name: cabin_null, dtype: float64"
            ]
          },
          "metadata": {
            "tags": []
          },
          "execution_count": 144
        }
      ]
    },
    {
      "cell_type": "code",
      "metadata": {
        "id": "eXN7mSWzwUXc",
        "colab_type": "code",
        "colab": {
          "base_uri": "https://localhost:8080/",
          "height": 204
        },
        "outputId": "5d5b6ae2-4329-4abf-c49c-22aa111bde4f"
      },
      "source": [
        "data.head()"
      ],
      "execution_count": 145,
      "outputs": [
        {
          "output_type": "execute_result",
          "data": {
            "text/html": [
              "<div>\n",
              "<style scoped>\n",
              "    .dataframe tbody tr th:only-of-type {\n",
              "        vertical-align: middle;\n",
              "    }\n",
              "\n",
              "    .dataframe tbody tr th {\n",
              "        vertical-align: top;\n",
              "    }\n",
              "\n",
              "    .dataframe thead th {\n",
              "        text-align: right;\n",
              "    }\n",
              "</style>\n",
              "<table border=\"1\" class=\"dataframe\">\n",
              "  <thead>\n",
              "    <tr style=\"text-align: right;\">\n",
              "      <th></th>\n",
              "      <th>pclass</th>\n",
              "      <th>survived</th>\n",
              "      <th>name</th>\n",
              "      <th>sex</th>\n",
              "      <th>age</th>\n",
              "      <th>sibsp</th>\n",
              "      <th>parch</th>\n",
              "      <th>ticket</th>\n",
              "      <th>fare</th>\n",
              "      <th>cabin</th>\n",
              "      <th>embarked</th>\n",
              "      <th>boat</th>\n",
              "      <th>body</th>\n",
              "      <th>home.dest</th>\n",
              "      <th>cabin_null</th>\n",
              "    </tr>\n",
              "  </thead>\n",
              "  <tbody>\n",
              "    <tr>\n",
              "      <th>0</th>\n",
              "      <td>1</td>\n",
              "      <td>1</td>\n",
              "      <td>Allen, Miss. Elisabeth Walton</td>\n",
              "      <td>female</td>\n",
              "      <td>29.0000</td>\n",
              "      <td>0</td>\n",
              "      <td>0</td>\n",
              "      <td>24160</td>\n",
              "      <td>211.3375</td>\n",
              "      <td>B5</td>\n",
              "      <td>S</td>\n",
              "      <td>2</td>\n",
              "      <td>NaN</td>\n",
              "      <td>St Louis, MO</td>\n",
              "      <td>0</td>\n",
              "    </tr>\n",
              "    <tr>\n",
              "      <th>1</th>\n",
              "      <td>1</td>\n",
              "      <td>1</td>\n",
              "      <td>Allison, Master. Hudson Trevor</td>\n",
              "      <td>male</td>\n",
              "      <td>0.9167</td>\n",
              "      <td>1</td>\n",
              "      <td>2</td>\n",
              "      <td>113781</td>\n",
              "      <td>151.5500</td>\n",
              "      <td>C22</td>\n",
              "      <td>S</td>\n",
              "      <td>11</td>\n",
              "      <td>NaN</td>\n",
              "      <td>Montreal, PQ / Chesterville, ON</td>\n",
              "      <td>0</td>\n",
              "    </tr>\n",
              "    <tr>\n",
              "      <th>2</th>\n",
              "      <td>1</td>\n",
              "      <td>0</td>\n",
              "      <td>Allison, Miss. Helen Loraine</td>\n",
              "      <td>female</td>\n",
              "      <td>2.0000</td>\n",
              "      <td>1</td>\n",
              "      <td>2</td>\n",
              "      <td>113781</td>\n",
              "      <td>151.5500</td>\n",
              "      <td>C22</td>\n",
              "      <td>S</td>\n",
              "      <td>NaN</td>\n",
              "      <td>NaN</td>\n",
              "      <td>Montreal, PQ / Chesterville, ON</td>\n",
              "      <td>0</td>\n",
              "    </tr>\n",
              "    <tr>\n",
              "      <th>3</th>\n",
              "      <td>1</td>\n",
              "      <td>0</td>\n",
              "      <td>Allison, Mr. Hudson Joshua Creighton</td>\n",
              "      <td>male</td>\n",
              "      <td>30.0000</td>\n",
              "      <td>1</td>\n",
              "      <td>2</td>\n",
              "      <td>113781</td>\n",
              "      <td>151.5500</td>\n",
              "      <td>C22</td>\n",
              "      <td>S</td>\n",
              "      <td>NaN</td>\n",
              "      <td>135.0</td>\n",
              "      <td>Montreal, PQ / Chesterville, ON</td>\n",
              "      <td>0</td>\n",
              "    </tr>\n",
              "    <tr>\n",
              "      <th>4</th>\n",
              "      <td>1</td>\n",
              "      <td>0</td>\n",
              "      <td>Allison, Mrs. Hudson J C (Bessie Waldo Daniels)</td>\n",
              "      <td>female</td>\n",
              "      <td>25.0000</td>\n",
              "      <td>1</td>\n",
              "      <td>2</td>\n",
              "      <td>113781</td>\n",
              "      <td>151.5500</td>\n",
              "      <td>C22</td>\n",
              "      <td>S</td>\n",
              "      <td>NaN</td>\n",
              "      <td>NaN</td>\n",
              "      <td>Montreal, PQ / Chesterville, ON</td>\n",
              "      <td>0</td>\n",
              "    </tr>\n",
              "  </tbody>\n",
              "</table>\n",
              "</div>"
            ],
            "text/plain": [
              "   pclass  survived  ...                        home.dest cabin_null\n",
              "0       1         1  ...                     St Louis, MO          0\n",
              "1       1         1  ...  Montreal, PQ / Chesterville, ON          0\n",
              "2       1         0  ...  Montreal, PQ / Chesterville, ON          0\n",
              "3       1         0  ...  Montreal, PQ / Chesterville, ON          0\n",
              "4       1         0  ...  Montreal, PQ / Chesterville, ON          0\n",
              "\n",
              "[5 rows x 15 columns]"
            ]
          },
          "metadata": {
            "tags": []
          },
          "execution_count": 145
        }
      ]
    },
    {
      "cell_type": "code",
      "metadata": {
        "id": "dzUugzzmwzOa",
        "colab_type": "code",
        "colab": {
          "base_uri": "https://localhost:8080/",
          "height": 85
        },
        "outputId": "b2394161-5266-4440-901f-34c3383ed15e"
      },
      "source": [
        "# Otra forma de hacer lo mismo, pero con menos líneas de código \n",
        "\n",
        "data['cabin'].isnull().groupby(data['survived']).mean()"
      ],
      "execution_count": 147,
      "outputs": [
        {
          "output_type": "execute_result",
          "data": {
            "text/plain": [
              "survived\n",
              "0    0.873918\n",
              "1    0.614000\n",
              "Name: cabin, dtype: float64"
            ]
          },
          "metadata": {
            "tags": []
          },
          "execution_count": 147
        }
      ]
    },
    {
      "cell_type": "markdown",
      "metadata": {
        "id": "_jX2uviIxjdd",
        "colab_type": "text"
      },
      "source": [
        "Podemos ver que el porcentaje de valores faltantes es mucho más alto para las personas que no sobrevivieron (87%), con respecto a los que sobrevivieron (60%). Este hallazgo está alineado con nuestra hipótesis sobre los datos faltantes.\n",
        "\n",
        "**Nota**: Para realmente entender si los valores faltantes no son aleatorios, es necesario familiarizarse muy bien con la forma en que los datos fueron recogidos. Analizar los datos, solo puede llevarnos a la dirección correcta o ayudarnos a construir hipótesis.\n"
      ]
    },
    {
      "cell_type": "code",
      "metadata": {
        "id": "kc28Mgw9wzW9",
        "colab_type": "code",
        "colab": {
          "base_uri": "https://localhost:8080/",
          "height": 85
        },
        "outputId": "79b4207a-c4ca-4510-8210-c360d86cbef2"
      },
      "source": [
        "# Hagamos lo mismo para la variable 'age':\n",
        "\n",
        "# Primero creamos variable binaria que indica\n",
        "# si hay valores faltantes\n",
        "\n",
        "data['age_null'] = np.where(data.age.isnull(), 1, 0)\n",
        "\n",
        "# y luego miremos al promedio por cada uno de los grupos de sobrevivientes:\n",
        "data.groupby(['survived'])['age_null'].mean()"
      ],
      "execution_count": 148,
      "outputs": [
        {
          "output_type": "execute_result",
          "data": {
            "text/plain": [
              "survived\n",
              "0    0.234858\n",
              "1    0.146000\n",
              "Name: age_null, dtype: float64"
            ]
          },
          "metadata": {
            "tags": []
          },
          "execution_count": 148
        }
      ]
    },
    {
      "cell_type": "code",
      "metadata": {
        "id": "ZnNBUy7ox20E",
        "colab_type": "code",
        "colab": {
          "base_uri": "https://localhost:8080/",
          "height": 85
        },
        "outputId": "b42eded4-0120-49d2-9f99-f96e8314d7dd"
      },
      "source": [
        "#Otra forma\n",
        "data['age'].isnull().groupby(data['survived']).mean()"
      ],
      "execution_count": 149,
      "outputs": [
        {
          "output_type": "execute_result",
          "data": {
            "text/plain": [
              "survived\n",
              "0    0.234858\n",
              "1    0.146000\n",
              "Name: age, dtype: float64"
            ]
          },
          "metadata": {
            "tags": []
          },
          "execution_count": 149
        }
      ]
    },
    {
      "cell_type": "markdown",
      "metadata": {
        "id": "E5KtX5uKyLwW",
        "colab_type": "text"
      },
      "source": [
        "Nuevamente podemos observar un porcentaje mayor de datos faltantes para los pasajeros que no sobrevivieron. Este análisis sugiere que hay una pérdida de datos sistemática: la gente que no sobrevivió tiende a tener más datos nulos. \n",
        "\n",
        "Probablemente, el método seleccionado para recoger la información, contribuye a la generación de los datos faltantes.\n"
      ]
    },
    {
      "cell_type": "markdown",
      "metadata": {
        "id": "mgBmLSvIyd2P",
        "colab_type": "text"
      },
      "source": [
        "**2.-Valores Faltantes Aleatorios (MAR):**\n",
        "\n",
        "$\\bullet$ La probabilidad de ocurrencia de los datos faltantes depende de la información en otras variables.\n",
        "\n",
        "**Ejemplo:** En el caso en el que tengamos una tabla de datos en donde tengamos la variable **Género y Peso** podría pasar que tengamos **NA en peso** debido a que las mujeres a veces no les gusta revelar su peso. \n"
      ]
    },
    {
      "cell_type": "code",
      "metadata": {
        "id": "rrbQJUahyCYp",
        "colab_type": "code",
        "colab": {
          "base_uri": "https://localhost:8080/",
          "height": 111
        },
        "outputId": "4852e93f-9eac-4794-e2c1-bbd301a0ef25"
      },
      "source": [
        "# En los datos del Titanic, tambien hay valores faltantes \n",
        "# para la variable Embarked .\n",
        "\n",
        "# Tomemos solo un segmento del dataframe con solo las observaciones con datos \n",
        "# faltantes para la variable Embarked\n",
        "\n",
        "data[data.embarked.isnull()]"
      ],
      "execution_count": 150,
      "outputs": [
        {
          "output_type": "execute_result",
          "data": {
            "text/html": [
              "<div>\n",
              "<style scoped>\n",
              "    .dataframe tbody tr th:only-of-type {\n",
              "        vertical-align: middle;\n",
              "    }\n",
              "\n",
              "    .dataframe tbody tr th {\n",
              "        vertical-align: top;\n",
              "    }\n",
              "\n",
              "    .dataframe thead th {\n",
              "        text-align: right;\n",
              "    }\n",
              "</style>\n",
              "<table border=\"1\" class=\"dataframe\">\n",
              "  <thead>\n",
              "    <tr style=\"text-align: right;\">\n",
              "      <th></th>\n",
              "      <th>pclass</th>\n",
              "      <th>survived</th>\n",
              "      <th>name</th>\n",
              "      <th>sex</th>\n",
              "      <th>age</th>\n",
              "      <th>sibsp</th>\n",
              "      <th>parch</th>\n",
              "      <th>ticket</th>\n",
              "      <th>fare</th>\n",
              "      <th>cabin</th>\n",
              "      <th>embarked</th>\n",
              "      <th>boat</th>\n",
              "      <th>body</th>\n",
              "      <th>home.dest</th>\n",
              "      <th>cabin_null</th>\n",
              "      <th>age_null</th>\n",
              "    </tr>\n",
              "  </thead>\n",
              "  <tbody>\n",
              "    <tr>\n",
              "      <th>168</th>\n",
              "      <td>1</td>\n",
              "      <td>1</td>\n",
              "      <td>Icard, Miss. Amelie</td>\n",
              "      <td>female</td>\n",
              "      <td>38.0</td>\n",
              "      <td>0</td>\n",
              "      <td>0</td>\n",
              "      <td>113572</td>\n",
              "      <td>80.0</td>\n",
              "      <td>B28</td>\n",
              "      <td>NaN</td>\n",
              "      <td>6</td>\n",
              "      <td>NaN</td>\n",
              "      <td>NaN</td>\n",
              "      <td>0</td>\n",
              "      <td>0</td>\n",
              "    </tr>\n",
              "    <tr>\n",
              "      <th>284</th>\n",
              "      <td>1</td>\n",
              "      <td>1</td>\n",
              "      <td>Stone, Mrs. George Nelson (Martha Evelyn)</td>\n",
              "      <td>female</td>\n",
              "      <td>62.0</td>\n",
              "      <td>0</td>\n",
              "      <td>0</td>\n",
              "      <td>113572</td>\n",
              "      <td>80.0</td>\n",
              "      <td>B28</td>\n",
              "      <td>NaN</td>\n",
              "      <td>6</td>\n",
              "      <td>NaN</td>\n",
              "      <td>Cincinatti, OH</td>\n",
              "      <td>0</td>\n",
              "      <td>0</td>\n",
              "    </tr>\n",
              "  </tbody>\n",
              "</table>\n",
              "</div>"
            ],
            "text/plain": [
              "     pclass  survived  ... cabin_null age_null\n",
              "168       1         1  ...          0        0\n",
              "284       1         1  ...          0        0\n",
              "\n",
              "[2 rows x 16 columns]"
            ]
          },
          "metadata": {
            "tags": []
          },
          "execution_count": 150
        }
      ]
    },
    {
      "cell_type": "markdown",
      "metadata": {
        "id": "5JaYLx8HyuPT",
        "colab_type": "text"
      },
      "source": [
        "Estas dos mujeres viajaban juntas, Miss Icard era la mucama de Mrs Stone.\n",
        "\n",
        "A priori, pareciera que no hay indicios que los valores nulos de variables Embarked dependan de otra variable, y el hecho que ambas de estas mujeres sobrevivieron, quiere decir que hubiesen podido dar esta información.\n",
        "\n",
        "Muy probablemente los valores se perdieron en el momento de crear los datos.\n",
        "\n",
        "Si los valores son MCAR, la probabilidad de los datos faltantes para estas dos mujeres es la misma probabilidad que para cualquier otra persona en el Titanic. Por supuesto, esta hipótesis es difícil de demostrar, pero por lo menos nos sirve como ejemplo de variables MCAR."
      ]
    },
    {
      "cell_type": "markdown",
      "metadata": {
        "id": "8QshShd1wSNc",
        "colab_type": "text"
      },
      "source": [
        "\n",
        "**3.- Valores Faltantes No Aleatorios (MNAR):**\n",
        "\n",
        "$\\bullet$ Hay un mecanismo o una razón por la cuál los valores faltantes son introducidos en los datos \n",
        "\n",
        "Usaremos los datos de Lending Club. Vamos a explorar la variable nombre de la ocupacion (emp_title) y los años que lleva empleado para dicho empleador (emp_length), ambos declarados por los prestamistas en el momento de aplicación para un préstamo. \n",
        "En este ejemplo, los valores faltantes en emp_title estan asociados con los valores faltantes en emp_length."
      ]
    },
    {
      "cell_type": "code",
      "metadata": {
        "id": "4lwJ7bcowSrX",
        "colab_type": "code",
        "colab": {
          "base_uri": "https://localhost:8080/",
          "height": 204
        },
        "outputId": "6dbe670b-898f-4b65-d31e-87b0af1bd395"
      },
      "source": [
        "# Carguemos las columnas que nos interesan de los datos\n",
        "# Lending Club \n",
        "\n",
        "data = pd.read_csv('/content/drive/My Drive/datasets/loan.csv',\n",
        "                   usecols=['emp_title', 'emp_length'],\n",
        "                   na_values='',\n",
        "                   keep_default_na=False)\n",
        "data.head()"
      ],
      "execution_count": 151,
      "outputs": [
        {
          "output_type": "execute_result",
          "data": {
            "text/html": [
              "<div>\n",
              "<style scoped>\n",
              "    .dataframe tbody tr th:only-of-type {\n",
              "        vertical-align: middle;\n",
              "    }\n",
              "\n",
              "    .dataframe tbody tr th {\n",
              "        vertical-align: top;\n",
              "    }\n",
              "\n",
              "    .dataframe thead th {\n",
              "        text-align: right;\n",
              "    }\n",
              "</style>\n",
              "<table border=\"1\" class=\"dataframe\">\n",
              "  <thead>\n",
              "    <tr style=\"text-align: right;\">\n",
              "      <th></th>\n",
              "      <th>emp_title</th>\n",
              "      <th>emp_length</th>\n",
              "    </tr>\n",
              "  </thead>\n",
              "  <tbody>\n",
              "    <tr>\n",
              "      <th>0</th>\n",
              "      <td>Chef</td>\n",
              "      <td>10+ years</td>\n",
              "    </tr>\n",
              "    <tr>\n",
              "      <th>1</th>\n",
              "      <td>Postmaster</td>\n",
              "      <td>10+ years</td>\n",
              "    </tr>\n",
              "    <tr>\n",
              "      <th>2</th>\n",
              "      <td>Administrative</td>\n",
              "      <td>6 years</td>\n",
              "    </tr>\n",
              "    <tr>\n",
              "      <th>3</th>\n",
              "      <td>IT Supervisor</td>\n",
              "      <td>10+ years</td>\n",
              "    </tr>\n",
              "    <tr>\n",
              "      <th>4</th>\n",
              "      <td>Mechanic</td>\n",
              "      <td>10+ years</td>\n",
              "    </tr>\n",
              "  </tbody>\n",
              "</table>\n",
              "</div>"
            ],
            "text/plain": [
              "        emp_title emp_length\n",
              "0            Chef  10+ years\n",
              "1     Postmaster   10+ years\n",
              "2  Administrative    6 years\n",
              "3   IT Supervisor  10+ years\n",
              "4        Mechanic  10+ years"
            ]
          },
          "metadata": {
            "tags": []
          },
          "execution_count": 151
        }
      ]
    },
    {
      "cell_type": "code",
      "metadata": {
        "id": "lmBCJkagzLnZ",
        "colab_type": "code",
        "colab": {
          "base_uri": "https://localhost:8080/",
          "height": 68
        },
        "outputId": "81787c11-19ea-443d-8f80-be793fb8a4e8"
      },
      "source": [
        "# Miremos el porcentaje de datos faltantes\n",
        "\n",
        "data.isnull().mean()"
      ],
      "execution_count": 152,
      "outputs": [
        {
          "output_type": "execute_result",
          "data": {
            "text/plain": [
              "emp_title     0.073841\n",
              "emp_length    0.000000\n",
              "dtype: float64"
            ]
          },
          "metadata": {
            "tags": []
          },
          "execution_count": 152
        }
      ]
    },
    {
      "cell_type": "markdown",
      "metadata": {
        "id": "4kFH6XUazZqW",
        "colab_type": "text"
      },
      "source": [
        "Aldedor del 7% de las observaciones contienen datos faltantes para emp_title. No faltan valores en la variable emp_length."
      ]
    },
    {
      "cell_type": "code",
      "metadata": {
        "id": "riJju9TzzSI0",
        "colab_type": "code",
        "colab": {
          "base_uri": "https://localhost:8080/",
          "height": 153
        },
        "outputId": "3bfeba1e-2ee5-4dbc-d768-c6d1180ded22"
      },
      "source": [
        "# Miremos los valores de los diferentes empleos\n",
        "\n",
        "# Número de los diferentes empleos:\n",
        "print('Número de los diferentes empleos: {}'.format(\n",
        "    len(data.emp_title.unique())))\n",
        "\n",
        "# Veamos unos ejemplos:\n",
        "data.emp_title.unique()[0:20]"
      ],
      "execution_count": 153,
      "outputs": [
        {
          "output_type": "stream",
          "text": [
            "Número de los diferentes empleos: 512698\n"
          ],
          "name": "stdout"
        },
        {
          "output_type": "execute_result",
          "data": {
            "text/plain": [
              "array(['Chef', 'Postmaster ', 'Administrative', 'IT Supervisor',\n",
              "       'Mechanic', 'Director COE', 'Account Manager',\n",
              "       'Assistant Director', 'Legal Assistant III', nan, 'Consultant',\n",
              "       'Job Coach Supervisor', 'Quality Field Engineer', 'Teller ',\n",
              "       'respritory therapist', 'Worship Director', 'Processor ',\n",
              "       'Neonatal Nurse Practitioner', 'Stationary Engineer',\n",
              "       'Exhibits director'], dtype=object)"
            ]
          },
          "metadata": {
            "tags": []
          },
          "execution_count": 153
        }
      ]
    },
    {
      "cell_type": "code",
      "metadata": {
        "id": "BhzoNpS4zeln",
        "colab_type": "code",
        "colab": {
          "base_uri": "https://localhost:8080/",
          "height": 68
        },
        "outputId": "e92e5482-e0aa-488b-c073-f95627447c66"
      },
      "source": [
        "# Veamos la variable emp_length\n",
        "data.emp_length.unique()"
      ],
      "execution_count": 154,
      "outputs": [
        {
          "output_type": "execute_result",
          "data": {
            "text/plain": [
              "array(['10+ years', '6 years', '4 years', '< 1 year', '2 years',\n",
              "       '9 years', 'n/a', '5 years', '3 years', '7 years', '1 year',\n",
              "       '8 years'], dtype=object)"
            ]
          },
          "metadata": {
            "tags": []
          },
          "execution_count": 154
        }
      ]
    },
    {
      "cell_type": "markdown",
      "metadata": {
        "id": "onhQMYMOztek",
        "colab_type": "text"
      },
      "source": [
        "El valor 'n/a', \"not applicable\" es en el cual estamos interesados. El cliente no puede llenar el campo sobre cuántos años lleva empleado, porque quizás no estén trabajando. Puede ser estudiante, ser pensionado o trabajador independientemente."
      ]
    },
    {
      "cell_type": "code",
      "metadata": {
        "id": "y5MyJ6Q1znka",
        "colab_type": "code",
        "colab": {
          "base_uri": "https://localhost:8080/",
          "height": 238
        },
        "outputId": "4df63701-db7c-47a9-e0b9-9c210bf74dd5"
      },
      "source": [
        "# Miremos el porcentaje de prestamistas  en \n",
        "# cada categoría de la variable emp_length \n",
        "\n",
        "# value_counts cuenta el número de observaciones por categoría\n",
        "# si dividimos por el número de observaciones totales (len(data))\n",
        "# obtenemos los porcentajes de observaciones por categoría\n",
        "\n",
        "data.emp_length.value_counts() / len(data)"
      ],
      "execution_count": 155,
      "outputs": [
        {
          "output_type": "execute_result",
          "data": {
            "text/plain": [
              "10+ years    0.330878\n",
              "2 years      0.090096\n",
              "< 1 year     0.084041\n",
              "3 years      0.079956\n",
              "1 year       0.065646\n",
              "n/a          0.064984\n",
              "5 years      0.061795\n",
              "4 years      0.060427\n",
              "6 years      0.045397\n",
              "7 years      0.041003\n",
              "8 years      0.040658\n",
              "9 years      0.035120\n",
              "Name: emp_length, dtype: float64"
            ]
          },
          "metadata": {
            "tags": []
          },
          "execution_count": 155
        }
      ]
    },
    {
      "cell_type": "markdown",
      "metadata": {
        "id": "yilKYDT4z_bL",
        "colab_type": "text"
      },
      "source": [
        "6 % de los prestamistas registraron 'n/a' para emp_length. De la celda anterior sabemos que para ~7% de los prestamistas emp_title tiene datos faltantes. Podría haber alguna relación entre los datos faltantes de estas variables?\n"
      ]
    },
    {
      "cell_type": "code",
      "metadata": {
        "id": "UKnoiZUuz2AX",
        "colab_type": "code",
        "colab": {
          "base_uri": "https://localhost:8080/",
          "height": 221
        },
        "outputId": "d5798df2-e8a3-432f-aa6c-538637c9c9d1"
      },
      "source": [
        "# la variable emp_length tiene muchas categorías.\n",
        "\n",
        "# Resumámoslas en 3 por simplicidad:\n",
        "# '0-10 years' or '10+ years' or 'n/a' -->\n",
        "# '0-10 años' o '10+ años' o 'n/a'\n",
        "\n",
        "# Creemos un diccionarios y re-asignemos los valores de emp_length en 3 categorías:\n",
        "\n",
        "length_dict = {k: '0-10 years' for k in data.emp_length.unique()}\n",
        "length_dict['10+ years'] = '10+ years'\n",
        "length_dict['n/a'] = 'n/a'\n",
        "\n",
        "# miremos el diccionario:\n",
        "length_dict"
      ],
      "execution_count": 156,
      "outputs": [
        {
          "output_type": "execute_result",
          "data": {
            "text/plain": [
              "{'1 year': '0-10 years',\n",
              " '10+ years': '10+ years',\n",
              " '2 years': '0-10 years',\n",
              " '3 years': '0-10 years',\n",
              " '4 years': '0-10 years',\n",
              " '5 years': '0-10 years',\n",
              " '6 years': '0-10 years',\n",
              " '7 years': '0-10 years',\n",
              " '8 years': '0-10 years',\n",
              " '9 years': '0-10 years',\n",
              " '< 1 year': '0-10 years',\n",
              " 'n/a': 'n/a'}"
            ]
          },
          "metadata": {
            "tags": []
          },
          "execution_count": 156
        }
      ]
    },
    {
      "cell_type": "code",
      "metadata": {
        "id": "I0gSRSCm0X8I",
        "colab_type": "code",
        "colab": {
          "base_uri": "https://localhost:8080/",
          "height": 34
        },
        "outputId": "2d2c4014-f69c-4326-dae3-7c274ad739a1"
      },
      "source": [
        "# Re-asignemos los valores de la variable emp_length \n",
        "\n",
        "data['emp_length_redefined'] = data.emp_length.map(length_dict)\n",
        "\n",
        "# revisemos si funciono\n",
        "data.emp_length_redefined.unique()"
      ],
      "execution_count": 157,
      "outputs": [
        {
          "output_type": "execute_result",
          "data": {
            "text/plain": [
              "array(['10+ years', '0-10 years', 'n/a'], dtype=object)"
            ]
          },
          "metadata": {
            "tags": []
          },
          "execution_count": 157
        }
      ]
    },
    {
      "cell_type": "code",
      "metadata": {
        "id": "uySlwWzZ0hup",
        "colab_type": "code",
        "colab": {
          "base_uri": "https://localhost:8080/",
          "height": 34
        },
        "outputId": "71b08c3f-674f-4cf1-c18e-34b257fcdd83"
      },
      "source": [
        "# Calculemos la proporción de años de trabajo en la misma ocupación \n",
        "# para aquellos que tienen datos faltantes en la variable emp_title\n",
        "\n",
        "# data[data.emp_title.isnull()] representa las observaciones con \n",
        "# valores faltantes en emp_title. \n",
        "\n",
        "# Cálculos:\n",
        "# número de prestamistas para los cuales la ocupación es nula\n",
        "not_employed = len(data[data.emp_title.isnull()])\n",
        "not_employed\n",
        "\n"
      ],
      "execution_count": 158,
      "outputs": [
        {
          "output_type": "execute_result",
          "data": {
            "text/plain": [
              "166931"
            ]
          },
          "metadata": {
            "tags": []
          },
          "execution_count": 158
        }
      ]
    },
    {
      "cell_type": "code",
      "metadata": {
        "id": "-k8XLiKh1Ftm",
        "colab_type": "code",
        "colab": {
          "base_uri": "https://localhost:8080/",
          "height": 102
        },
        "outputId": "25899d3a-e1c3-4ae2-c345-0a965c0842cc"
      },
      "source": [
        "# % de prestamistas para los cuales la ocupacióon falta\n",
        "# por cada categoría de años de trabajo\n",
        "\n",
        "data[data.emp_title.isnull()].groupby(\n",
        "    ['emp_length_redefined'])['emp_length'].count().sort_values() / not_employed"
      ],
      "execution_count": 159,
      "outputs": [
        {
          "output_type": "execute_result",
          "data": {
            "text/plain": [
              "emp_length_redefined\n",
              "10+ years     0.021069\n",
              "0-10 years    0.103678\n",
              "n/a           0.875254\n",
              "Name: emp_length, dtype: float64"
            ]
          },
          "metadata": {
            "tags": []
          },
          "execution_count": 159
        }
      ]
    },
    {
      "cell_type": "markdown",
      "metadata": {
        "id": "NIzLRxNK1zcV",
        "colab_type": "text"
      },
      "source": [
        "Este resultado nos dice lo siguiente:\n",
        "Para todos los prestamistas que tienen información faltante en emp_title, para aquellos que no están empleados:\n",
        "- 5.4% declaró más de 10 años en emp_length (quizás son empleados independientes)\n",
        "- 8.4% declaró entre 0-10 años en emp_length (igual que el anterior, quizás independientes)\n",
        "- 86.3 % declaró n/a en emp_length (quizás son estudiantes, o trabajan en casa o son pensionados)\n",
        "\n",
        "La mayoría de los datos faltantes en emp_title coinciden con la etiqueta 'n/a' en la variable emp_length (86%). Esto apoya la idea que estas 2 variables están relacionadas. De modo que los datos faltantes en emp_title, son MAR.\n"
      ]
    },
    {
      "cell_type": "code",
      "metadata": {
        "id": "jNKO9feW1ewc",
        "colab_type": "code",
        "colab": {
          "base_uri": "https://localhost:8080/",
          "height": 102
        },
        "outputId": "f42aff2e-c88e-49ae-ce97-44073eb6988d"
      },
      "source": [
        "# Hagamos lo mismo para aquellos prestamistas que declaraon una ocupación\n",
        "\n",
        "# número de prestamistas donde el nombre de la ocupación existe:\n",
        "# número de empleados \n",
        "employed = len(data.dropna(subset=['emp_title']))\n",
        "\n",
        "# % de prestamistas en cada categoría\n",
        "data.dropna(subset=['emp_title']).groupby(\n",
        "    ['emp_length_redefined'])['emp_length'].count().sort_values() / employed"
      ],
      "execution_count": 160,
      "outputs": [
        {
          "output_type": "execute_result",
          "data": {
            "text/plain": [
              "emp_length_redefined\n",
              "n/a           0.000382\n",
              "10+ years     0.355579\n",
              "0-10 years    0.644039\n",
              "Name: emp_length, dtype: float64"
            ]
          },
          "metadata": {
            "tags": []
          },
          "execution_count": 160
        }
      ]
    },
    {
      "cell_type": "markdown",
      "metadata": {
        "id": "hWSgKQc52GAp",
        "colab_type": "text"
      },
      "source": [
        "El número de prestamistas que han reportado el nombre de un empleador (emp_title) y tienen   'n/a' como emp_length son muy pocos. Esto  confirma que los valores faltantes en emp_title están relacionados con 'n/a' en la variable emp_length.\n",
        "\n",
        "'n/a' en emp_length puede ser registrado por personas pensionadas o estudiantes.\n",
        "\n",
        "Valores faltantes en la variable emp_title dependen o están relacionados con la categoría 'n/a' en la variable emp_length. Este es un ejemplo de una variable MAR. El valor en emp_title falta de forma aleatoria para aquellos clientes que no están empleados, pero cuando emp_length falta, emp_title también está ausente."
      ]
    },
    {
      "cell_type": "markdown",
      "metadata": {
        "id": "R0lac7iM3ETN",
        "colab_type": "text"
      },
      "source": [
        "# **CARDINALIDAD**\n",
        "\n",
        "##Definición:\n",
        "\n",
        "$\\bullet$ Los valores de las variables categóricas son seleccionadas de un grupo de categórias (también conocidos como etiquetas)\n",
        "\n",
        "$\\bullet$ El número de etiquetas se conoce como **cardinalidad**\n",
        "\n",
        "##Efectos de la cardinalidad\n",
        "\n",
        "¿Tener múltiples etiquetas en una variables es un problema?\n",
        "\n",
        "**Impacto:**\n",
        "\n",
        " $\\circ$ La librería **Scikit-Learn** no soporta cadenas en las variables (strings)\n",
        "\n",
        " $\\circ$ Las variables altamente cardinales pueden llevar a distribuciones desiguales entre las etiquetas que estan presentes en el set de entrenamiento y prueba\n",
        "\n",
        " $\\circ$ Sobre ajuste en particular para algoritmos basados en árboles\n",
        "\n",
        " $\\circ$ Problemas operacionales a la hora de poner el modelo en producción\n",
        "\n"
      ]
    },
    {
      "cell_type": "markdown",
      "metadata": {
        "id": "XS5FCJFv3QRr",
        "colab_type": "text"
      },
      "source": [
        "## ¿Que puede pasar cuando tenemos variables con una cardinalidad alta en los modelos de Machine Learning?\n",
        "\n",
        "$\\star$ Algunas etiquetas solo aparecen en el set de entrenamiento $\\Rightarrow$ Sobre-ajuste\n",
        "\n",
        "$\\star$ Algunas etiquetas solo aparecen en el set de prueba $\\Rightarrow$ Modelo no sabe cómo interpretar los valores\n",
        "\n",
        "**Consideraciones:**\n",
        "\n",
        "$\\bullet$ Variables con muchas etiquetas tienden a dominar las que tienen menos etiquetas, esto puede causar sobre ajuste principalmente en los modelos basados en árboles\n",
        "\n",
        "$\\bullet$ Un gran número de etiquetas en una variable puede introducir ruido y poca información\n",
        "\n",
        "$\\bullet$ Reducción de la cardinalidad puede ayudar con el desempeño en los modelos de Machine Learning\n"
      ]
    },
    {
      "cell_type": "code",
      "metadata": {
        "id": "bvAgjwhq3CVp",
        "colab_type": "code",
        "colab": {}
      },
      "source": [
        "import pandas as pd\n",
        "import numpy as np\n",
        "\n",
        "import matplotlib.pyplot as plt\n",
        "\n",
        "# para construir modelos de machine learning \n",
        "from sklearn.linear_model import LogisticRegression\n",
        "from sklearn.ensemble import AdaBoostClassifier\n",
        "from sklearn.ensemble import RandomForestClassifier\n",
        "from sklearn.ensemble import GradientBoostingClassifier\n",
        "\n",
        "# para evaluar los modelos\n",
        "from sklearn.metrics import roc_auc_score\n",
        "\n",
        "# para separar datos en sets de entrenamiento y prueba\n",
        "from sklearn.model_selection import train_test_split"
      ],
      "execution_count": 161,
      "outputs": []
    },
    {
      "cell_type": "code",
      "metadata": {
        "id": "XuR1dRxK98NS",
        "colab_type": "code",
        "colab": {
          "base_uri": "https://localhost:8080/",
          "height": 204
        },
        "outputId": "ac71ba65-ae99-4e78-a17d-da9e64a7711d"
      },
      "source": [
        "# carguemos los datos del titanic \n",
        "\n",
        "data = pd.read_csv('/content/drive/My Drive/datasets/titanic.csv')\n",
        "data.head()"
      ],
      "execution_count": 162,
      "outputs": [
        {
          "output_type": "execute_result",
          "data": {
            "text/html": [
              "<div>\n",
              "<style scoped>\n",
              "    .dataframe tbody tr th:only-of-type {\n",
              "        vertical-align: middle;\n",
              "    }\n",
              "\n",
              "    .dataframe tbody tr th {\n",
              "        vertical-align: top;\n",
              "    }\n",
              "\n",
              "    .dataframe thead th {\n",
              "        text-align: right;\n",
              "    }\n",
              "</style>\n",
              "<table border=\"1\" class=\"dataframe\">\n",
              "  <thead>\n",
              "    <tr style=\"text-align: right;\">\n",
              "      <th></th>\n",
              "      <th>pclass</th>\n",
              "      <th>survived</th>\n",
              "      <th>name</th>\n",
              "      <th>sex</th>\n",
              "      <th>age</th>\n",
              "      <th>sibsp</th>\n",
              "      <th>parch</th>\n",
              "      <th>ticket</th>\n",
              "      <th>fare</th>\n",
              "      <th>cabin</th>\n",
              "      <th>embarked</th>\n",
              "      <th>boat</th>\n",
              "      <th>body</th>\n",
              "      <th>home.dest</th>\n",
              "    </tr>\n",
              "  </thead>\n",
              "  <tbody>\n",
              "    <tr>\n",
              "      <th>0</th>\n",
              "      <td>1</td>\n",
              "      <td>1</td>\n",
              "      <td>Allen, Miss. Elisabeth Walton</td>\n",
              "      <td>female</td>\n",
              "      <td>29.0000</td>\n",
              "      <td>0</td>\n",
              "      <td>0</td>\n",
              "      <td>24160</td>\n",
              "      <td>211.3375</td>\n",
              "      <td>B5</td>\n",
              "      <td>S</td>\n",
              "      <td>2</td>\n",
              "      <td>NaN</td>\n",
              "      <td>St Louis, MO</td>\n",
              "    </tr>\n",
              "    <tr>\n",
              "      <th>1</th>\n",
              "      <td>1</td>\n",
              "      <td>1</td>\n",
              "      <td>Allison, Master. Hudson Trevor</td>\n",
              "      <td>male</td>\n",
              "      <td>0.9167</td>\n",
              "      <td>1</td>\n",
              "      <td>2</td>\n",
              "      <td>113781</td>\n",
              "      <td>151.5500</td>\n",
              "      <td>C22</td>\n",
              "      <td>S</td>\n",
              "      <td>11</td>\n",
              "      <td>NaN</td>\n",
              "      <td>Montreal, PQ / Chesterville, ON</td>\n",
              "    </tr>\n",
              "    <tr>\n",
              "      <th>2</th>\n",
              "      <td>1</td>\n",
              "      <td>0</td>\n",
              "      <td>Allison, Miss. Helen Loraine</td>\n",
              "      <td>female</td>\n",
              "      <td>2.0000</td>\n",
              "      <td>1</td>\n",
              "      <td>2</td>\n",
              "      <td>113781</td>\n",
              "      <td>151.5500</td>\n",
              "      <td>C22</td>\n",
              "      <td>S</td>\n",
              "      <td>NaN</td>\n",
              "      <td>NaN</td>\n",
              "      <td>Montreal, PQ / Chesterville, ON</td>\n",
              "    </tr>\n",
              "    <tr>\n",
              "      <th>3</th>\n",
              "      <td>1</td>\n",
              "      <td>0</td>\n",
              "      <td>Allison, Mr. Hudson Joshua Creighton</td>\n",
              "      <td>male</td>\n",
              "      <td>30.0000</td>\n",
              "      <td>1</td>\n",
              "      <td>2</td>\n",
              "      <td>113781</td>\n",
              "      <td>151.5500</td>\n",
              "      <td>C22</td>\n",
              "      <td>S</td>\n",
              "      <td>NaN</td>\n",
              "      <td>135.0</td>\n",
              "      <td>Montreal, PQ / Chesterville, ON</td>\n",
              "    </tr>\n",
              "    <tr>\n",
              "      <th>4</th>\n",
              "      <td>1</td>\n",
              "      <td>0</td>\n",
              "      <td>Allison, Mrs. Hudson J C (Bessie Waldo Daniels)</td>\n",
              "      <td>female</td>\n",
              "      <td>25.0000</td>\n",
              "      <td>1</td>\n",
              "      <td>2</td>\n",
              "      <td>113781</td>\n",
              "      <td>151.5500</td>\n",
              "      <td>C22</td>\n",
              "      <td>S</td>\n",
              "      <td>NaN</td>\n",
              "      <td>NaN</td>\n",
              "      <td>Montreal, PQ / Chesterville, ON</td>\n",
              "    </tr>\n",
              "  </tbody>\n",
              "</table>\n",
              "</div>"
            ],
            "text/plain": [
              "   pclass  survived  ...   body                        home.dest\n",
              "0       1         1  ...    NaN                     St Louis, MO\n",
              "1       1         1  ...    NaN  Montreal, PQ / Chesterville, ON\n",
              "2       1         0  ...    NaN  Montreal, PQ / Chesterville, ON\n",
              "3       1         0  ...  135.0  Montreal, PQ / Chesterville, ON\n",
              "4       1         0  ...    NaN  Montreal, PQ / Chesterville, ON\n",
              "\n",
              "[5 rows x 14 columns]"
            ]
          },
          "metadata": {
            "tags": []
          },
          "execution_count": 162
        }
      ]
    },
    {
      "cell_type": "markdown",
      "metadata": {
        "id": "gydTALn--Mpq",
        "colab_type": "text"
      },
      "source": [
        "Las variables categóricas en estos datos son Name (nombre), Sex (género), Ticket ( Tiquete), Cabin (cabina) y Embarked (puerto de embarque).\n",
        "\n",
        "---------------\n",
        "**Nota** Ticket y Cabin son variables alfanúmericas, es decir contienen letras y números, asi q deben ser tratados como Variables Combinadas.  Las manipularemos como categóricas.\n"
      ]
    },
    {
      "cell_type": "code",
      "metadata": {
        "id": "BHuYNFww-Idz",
        "colab_type": "code",
        "colab": {
          "base_uri": "https://localhost:8080/",
          "height": 119
        },
        "outputId": "6469d261-b1eb-447d-ae96-11374f91f252"
      },
      "source": [
        "# Miremos la cardinalidad para cada una de las variables\n",
        "\n",
        "# Es decir, el número de diferentes categorías o etiquetas.\n",
        "\n",
        "print('Número de diferentes categorías en la variable Name: {}'.format(\n",
        "    len(data.name.unique())))\n",
        "\n",
        "print('Número de diferentes categorías en la variable Gender: {}'.format(\n",
        "    len(data.sex.unique())))\n",
        "\n",
        "print('Número de diferentes categorías en la variable Ticket: {}'.format(\n",
        "    len(data.ticket.unique())))\n",
        "\n",
        "print('Número de diferentes categorías en la variable Cabin: {}'.format(\n",
        "    len(data.cabin.unique())))\n",
        "\n",
        "print('Número de diferentes categorías en la variable Embarked: {}'.format(\n",
        "    len(data.embarked.unique())))\n",
        "\n",
        "print('Número total de pasajeros en el Titanic: {}'.format(len(data)))"
      ],
      "execution_count": 76,
      "outputs": [
        {
          "output_type": "stream",
          "text": [
            "Número de diferentes categorías en la variable Name: 1307\n",
            "Número de diferentes categorías en la variable Gender: 2\n",
            "Número de diferentes categorías en la variable Ticket: 929\n",
            "Número de diferentes categorías en la variable Cabin: 182\n",
            "Número de diferentes categorías en la variable Embarked: 4\n",
            "Número total de pasajeros en el Titanic: 1309\n"
          ],
          "name": "stdout"
        }
      ]
    },
    {
      "cell_type": "markdown",
      "metadata": {
        "id": "HS2dtyP-Eymf",
        "colab_type": "text"
      },
      "source": [
        "Mientras que la variable Sex tiene solo 2 etiquetas y Embarked 4 (baja cardinalidad), las variables Ticket, Name y Cabin, como es de esperarse, contienen un gran número de etiquetas (alta cardinalidad).\n",
        "\n",
        "Para demostrar, el efecto de alta cardinalidad en la preparación de datos para entrenamiento y pruebas de un modelo de machine learning así como su desempeño usaremos la variable Cabin. \n",
        "Crearemos una nueva variable con cardinalidad reducida.\n"
      ]
    },
    {
      "cell_type": "code",
      "metadata": {
        "id": "l15dgr7PEq-h",
        "colab_type": "code",
        "colab": {
          "base_uri": "https://localhost:8080/",
          "height": 357
        },
        "outputId": "a8d89339-b984-42a2-c44c-a0802c730ac4"
      },
      "source": [
        "# exploremos los valores / categorías de Cabin\n",
        "\n",
        "# Podemos observar que hay 182 diferentes cabinas\n",
        "# por lo tanto la variable tienen alta cardinalidad\n",
        "\n",
        "data.cabin.unique()"
      ],
      "execution_count": 77,
      "outputs": [
        {
          "output_type": "execute_result",
          "data": {
            "text/plain": [
              "array(['B5', 'C22', 'E12', 'D7', 'A36', 'C101', nan, 'C62', 'B35', 'A23',\n",
              "       'B58', 'D15', 'C6', 'D35', 'C148', 'C97', 'B49', 'C99', 'C52', 'T',\n",
              "       'A31', 'C7', 'C103', 'D22', 'E33', 'A21', 'B10', 'B4', 'E40',\n",
              "       'B38', 'E24', 'B51', 'B96', 'C46', 'E31', 'E8', 'B61', 'B77', 'A9',\n",
              "       'C89', 'A14', 'E58', 'E49', 'E52', 'E45', 'B22', 'B26', 'C85',\n",
              "       'E17', 'B71', 'B20', 'A34', 'C86', 'A16', 'A20', 'A18', 'C54',\n",
              "       'C45', 'D20', 'A29', 'C95', 'E25', 'C111', 'C23', 'E36', 'D34',\n",
              "       'D40', 'B39', 'B41', 'B102', 'C123', 'E63', 'C130', 'B86', 'C92',\n",
              "       'A5', 'C51', 'B42', 'C91', 'C125', 'D10', 'B82', 'E50', 'D33',\n",
              "       'C83', 'B94', 'D49', 'D45', 'B69', 'B11', 'E46', 'C39', 'B18',\n",
              "       'D11', 'C93', 'B28', 'C49', 'B52', 'E60', 'C132', 'B37', 'D21',\n",
              "       'D19', 'C124', 'D17', 'B101', 'D28', 'D6', 'D9', 'B80', 'C106',\n",
              "       'B79', 'C47', 'D30', 'C90', 'E38', 'C78', 'C30', 'C118', 'D36',\n",
              "       'D48', 'D47', 'C105', 'B36', 'B30', 'D43', 'B24', 'C2', 'C65',\n",
              "       'B73', 'C104', 'C110', 'C50', 'B3', 'A24', 'A32', 'A11', 'A10',\n",
              "       'B57', 'C28', 'E44', 'A26', 'A6', 'A7', 'C31', 'A19', 'B45', 'E34',\n",
              "       'B78', 'B50', 'C87', 'C116', 'C55', 'D50', 'E68', 'E67', 'C126',\n",
              "       'C68', 'C70', 'C53', 'B19', 'D46', 'D37', 'D26', 'C32', 'C80',\n",
              "       'C82', 'C128', 'E39', 'D', 'F4', 'D56', 'F33', 'E101', 'E77', 'F2',\n",
              "       'D38', 'F', 'E121', 'E10', 'G6', 'F38'], dtype=object)"
            ]
          },
          "metadata": {
            "tags": []
          },
          "execution_count": 77
        }
      ]
    },
    {
      "cell_type": "markdown",
      "metadata": {
        "id": "sjCoSiTRFCkl",
        "colab_type": "text"
      },
      "source": [
        "Ahora reduzcamos la cardinalidad de esta variable. \n",
        "Cómo? en vez de usar toda la variable Cabin, capturaremos solamente la primera letra.\n",
        "\n",
        "***Justificación***: la primera letra indica el piso en el cual la cabina se encontraba, y por lo tanto, es un indicativo de la clase social y estatus, así como de la proximidad a la superficie del Titanic. Ambos se conocen por mejorar la probabilidad de sobrevivir en el Titanic.\n"
      ]
    },
    {
      "cell_type": "code",
      "metadata": {
        "id": "p1zxY2ugE9jB",
        "colab_type": "code",
        "colab": {
          "base_uri": "https://localhost:8080/",
          "height": 204
        },
        "outputId": "572576cf-0075-4267-9c63-eb4e28975679"
      },
      "source": [
        "# let's capture the first letter of Cabin\n",
        "\n",
        "data['Cabin_reduced'] = data['cabin'].astype(str).str[0]\n",
        "\n",
        "data[['cabin', 'Cabin_reduced']].head()"
      ],
      "execution_count": 78,
      "outputs": [
        {
          "output_type": "execute_result",
          "data": {
            "text/html": [
              "<div>\n",
              "<style scoped>\n",
              "    .dataframe tbody tr th:only-of-type {\n",
              "        vertical-align: middle;\n",
              "    }\n",
              "\n",
              "    .dataframe tbody tr th {\n",
              "        vertical-align: top;\n",
              "    }\n",
              "\n",
              "    .dataframe thead th {\n",
              "        text-align: right;\n",
              "    }\n",
              "</style>\n",
              "<table border=\"1\" class=\"dataframe\">\n",
              "  <thead>\n",
              "    <tr style=\"text-align: right;\">\n",
              "      <th></th>\n",
              "      <th>cabin</th>\n",
              "      <th>Cabin_reduced</th>\n",
              "    </tr>\n",
              "  </thead>\n",
              "  <tbody>\n",
              "    <tr>\n",
              "      <th>0</th>\n",
              "      <td>B5</td>\n",
              "      <td>B</td>\n",
              "    </tr>\n",
              "    <tr>\n",
              "      <th>1</th>\n",
              "      <td>C22</td>\n",
              "      <td>C</td>\n",
              "    </tr>\n",
              "    <tr>\n",
              "      <th>2</th>\n",
              "      <td>C22</td>\n",
              "      <td>C</td>\n",
              "    </tr>\n",
              "    <tr>\n",
              "      <th>3</th>\n",
              "      <td>C22</td>\n",
              "      <td>C</td>\n",
              "    </tr>\n",
              "    <tr>\n",
              "      <th>4</th>\n",
              "      <td>C22</td>\n",
              "      <td>C</td>\n",
              "    </tr>\n",
              "  </tbody>\n",
              "</table>\n",
              "</div>"
            ],
            "text/plain": [
              "  cabin Cabin_reduced\n",
              "0    B5             B\n",
              "1   C22             C\n",
              "2   C22             C\n",
              "3   C22             C\n",
              "4   C22             C"
            ]
          },
          "metadata": {
            "tags": []
          },
          "execution_count": 78
        }
      ]
    },
    {
      "cell_type": "code",
      "metadata": {
        "id": "T7YNh9Z9FNQe",
        "colab_type": "code",
        "colab": {
          "base_uri": "https://localhost:8080/",
          "height": 51
        },
        "outputId": "c957f767-987f-4b90-f4cc-00b6cc23a365"
      },
      "source": [
        "print('Número de diferentes categorías en la variable Cabin: {}'.format(\n",
        "    len(data.cabin.unique())))\n",
        "\n",
        "print('Número de diferentes categorías en la variable Cabin reducida: {}'.format(\n",
        "    len(data. Cabin_reduced.unique())))"
      ],
      "execution_count": 79,
      "outputs": [
        {
          "output_type": "stream",
          "text": [
            "Número de diferentes categorías en la variable Cabin: 182\n",
            "Número de diferentes categorías en la variable Cabin reducida: 9\n"
          ],
          "name": "stdout"
        }
      ]
    },
    {
      "cell_type": "markdown",
      "metadata": {
        "id": "fxO0OCVKFaQD",
        "colab_type": "text"
      },
      "source": [
        "Se redujeron el número de diferentes etiquetas de 182 a 9."
      ]
    },
    {
      "cell_type": "code",
      "metadata": {
        "id": "Nvy9AT06FUr0",
        "colab_type": "code",
        "colab": {
          "base_uri": "https://localhost:8080/",
          "height": 34
        },
        "outputId": "42c3bab7-6ee0-4583-b472-971638f182bb"
      },
      "source": [
        "# separemos los datos para entrenamiento y pruebas\n",
        "# para constuir modelo de machine learning\n",
        "\n",
        "use_cols = ['cabin', 'Cabin_reduced', 'sex']\n",
        "\n",
        "# tomemos función de scikit-learn\n",
        "X_train, X_test, y_train, y_test = train_test_split(\n",
        "    data[use_cols], \n",
        "    data.survived,  \n",
        "    test_size=0.3,\n",
        "    random_state=0)\n",
        "\n",
        "X_train.shape, X_test.shape\n"
      ],
      "execution_count": 113,
      "outputs": [
        {
          "output_type": "execute_result",
          "data": {
            "text/plain": [
              "((916, 3), (393, 3))"
            ]
          },
          "metadata": {
            "tags": []
          },
          "execution_count": 113
        }
      ]
    },
    {
      "cell_type": "markdown",
      "metadata": {
        "id": "TRVorVjDFvkU",
        "colab_type": "text"
      },
      "source": [
        "### Alta cardinalidad lleva a una distribución desigual de las categorías para las muestras usadas para entrenamiento y pruebas.\n",
        "\n",
        "Cuando una variable es altamente cardinal, frecuentemente las categorías solo aparecen en la muestra de datos para entrenamiento, lo cual tiende a generar sobreajustes.\n",
        "\n",
        "Por el contrario, si las categorías están presentes solo en la muestra de pruebas (o nuevos datos cuando el modelo se encuentra en producción), el algoritmo no sabrá cómo manejar estas nuevas etiquetas. \n",
        "\n",
        "Este problema se resuelve en gran parte reduciendo la cardinalidad de la variable. Veamos a continuación:"
      ]
    },
    {
      "cell_type": "code",
      "metadata": {
        "id": "vPYYKA4UFjYx",
        "colab_type": "code",
        "colab": {
          "base_uri": "https://localhost:8080/",
          "height": 34
        },
        "outputId": "b4fa27cc-ae7f-46f8-b021-e186bfaad943"
      },
      "source": [
        "# Busquemos las etiquetas presentes solamente en el conjunto de datos para entrenamiento \n",
        "\n",
        "unique_to_train_set = [\n",
        "    x for x in X_train.cabin.unique() if x not in X_test.cabin.unique()\n",
        "]\n",
        "\n",
        "len(unique_to_train_set)"
      ],
      "execution_count": 114,
      "outputs": [
        {
          "output_type": "execute_result",
          "data": {
            "text/plain": [
              "113"
            ]
          },
          "metadata": {
            "tags": []
          },
          "execution_count": 114
        }
      ]
    },
    {
      "cell_type": "markdown",
      "metadata": {
        "id": "Z4lluxRNF_e4",
        "colab_type": "text"
      },
      "source": [
        "Hay 113 cabinas solamente presentes en la muestra de entrenamiento y no en el de pruebas."
      ]
    },
    {
      "cell_type": "code",
      "metadata": {
        "id": "DupgRQxYF7kS",
        "colab_type": "code",
        "colab": {
          "base_uri": "https://localhost:8080/",
          "height": 34
        },
        "outputId": "5d921bf7-4205-4aac-a771-657ddec08ba0"
      },
      "source": [
        "# Busquemos las etiquetas presentes solamente en el conjunto de datos para pruebas \n",
        "\n",
        "unique_to_test_set = [\n",
        "    x for x in X_test.cabin.unique() if x not in X_train.cabin.unique()\n",
        "]\n",
        "\n",
        "len(unique_to_test_set)"
      ],
      "execution_count": 115,
      "outputs": [
        {
          "output_type": "execute_result",
          "data": {
            "text/plain": [
              "36"
            ]
          },
          "metadata": {
            "tags": []
          },
          "execution_count": 115
        }
      ]
    },
    {
      "cell_type": "markdown",
      "metadata": {
        "id": "hRFGRS0QGJ0s",
        "colab_type": "text"
      },
      "source": [
        "Vemos como para una variable con alta cardinalidad,  valores (categorías) presentes en el conjunto de datos para entrenamiento no están en la muestra de prueba y viceversa. \n",
        "\n",
        "Ahora, este problema se puede resolver, reduciendo la cardinalidad de la variable como se muestra a continuación:"
      ]
    },
    {
      "cell_type": "code",
      "metadata": {
        "id": "OPErmzGKGG_E",
        "colab_type": "code",
        "colab": {
          "base_uri": "https://localhost:8080/",
          "height": 34
        },
        "outputId": "f9b2065a-6e2b-4bcd-872e-e9d50c44a61a"
      },
      "source": [
        "# Veamos las etiquetas presentes en los datos de entrenamiento\n",
        "# para la variable Cabin cardinalidad reducida\n",
        "\n",
        "unique_to_train_set = [\n",
        "    x for x in X_train['Cabin_reduced'].unique()\n",
        "    if x not in X_test['Cabin_reduced'].unique()\n",
        "]\n",
        "\n",
        "len(unique_to_train_set)"
      ],
      "execution_count": 116,
      "outputs": [
        {
          "output_type": "execute_result",
          "data": {
            "text/plain": [
              "1"
            ]
          },
          "metadata": {
            "tags": []
          },
          "execution_count": 116
        }
      ]
    },
    {
      "cell_type": "code",
      "metadata": {
        "id": "dblY2otLGQTX",
        "colab_type": "code",
        "colab": {
          "base_uri": "https://localhost:8080/",
          "height": 34
        },
        "outputId": "b7676de8-247d-4a05-ce9a-b06a2bc7a64f"
      },
      "source": [
        "# Veamos las etiquetas presentes en los datos de prueba\n",
        "# para la variable Cabin cardinalidad reducida\n",
        "\n",
        "unique_to_test_set = [\n",
        "    x for x in X_test['Cabin_reduced'].unique()\n",
        "    if x not in X_train['Cabin_reduced'].unique()\n",
        "]\n",
        "\n",
        "len(unique_to_test_set)"
      ],
      "execution_count": 117,
      "outputs": [
        {
          "output_type": "execute_result",
          "data": {
            "text/plain": [
              "0"
            ]
          },
          "metadata": {
            "tags": []
          },
          "execution_count": 117
        }
      ]
    },
    {
      "cell_type": "markdown",
      "metadata": {
        "id": "T0cqi4DgGsx-",
        "colab_type": "text"
      },
      "source": [
        "Podemos ver como reduciendo la cardinalidad conlleva a solo tener una categoría en los datos de entrenamiento que no esta presente en los de prueba.  Y todas las etiquetes en el conjunto de prueba estan enel de entrenamiento.\n",
        "\n",
        "### Efecto de la cardinalidad en el desempeño de los modelos de Machine Learning\n",
        "\n",
        "Para evaluar el efecto de las variables categóricas en los modelos de machine learning, reemplacemos las categorías por números."
      ]
    },
    {
      "cell_type": "code",
      "metadata": {
        "id": "t8h_ZcvyGVeW",
        "colab_type": "code",
        "colab": {
          "base_uri": "https://localhost:8080/",
          "height": 1000
        },
        "outputId": "cb2bfa71-68e9-40a8-c6bc-3e5316395843"
      },
      "source": [
        "# Reemplacemos cada cabina por un número\n",
        "# para demostrar rápidamente el efecto de las\n",
        "# etiquetas en los algoritmos de machine learning\n",
        "\n",
        "##############\n",
        "# Nota: esta no es ni la única ni la mejor forma de  \n",
        "# codificar variables categóricas en números \n",
        "# Veremos más detalles sobre estas y otras técnicas de codificación\n",
        "# de variables categóricas en la sección respectiva: \n",
        "# \"Codificando variables categóricas\"\n",
        "##############\n",
        "\n",
        "\n",
        "cabin_dict = {k: i for i, k in enumerate(X_train.cabin.unique(), 0)}\n",
        "cabin_dict"
      ],
      "execution_count": 118,
      "outputs": [
        {
          "output_type": "execute_result",
          "data": {
            "text/plain": [
              "{'A10': 142,\n",
              " 'A11': 51,\n",
              " 'A14': 93,\n",
              " 'A16': 143,\n",
              " 'A18': 23,\n",
              " 'A20': 82,\n",
              " 'A21': 47,\n",
              " 'A24': 7,\n",
              " 'A26': 22,\n",
              " 'A29': 49,\n",
              " 'A34': 37,\n",
              " 'A36': 104,\n",
              " 'A5': 95,\n",
              " 'A6': 101,\n",
              " 'A9': 58,\n",
              " 'B102': 80,\n",
              " 'B18': 111,\n",
              " 'B19': 108,\n",
              " 'B20': 137,\n",
              " 'B24': 98,\n",
              " 'B26': 32,\n",
              " 'B28': 97,\n",
              " 'B3': 77,\n",
              " 'B30': 115,\n",
              " 'B35': 18,\n",
              " 'B36': 83,\n",
              " 'B37': 144,\n",
              " 'B4': 130,\n",
              " 'B41': 134,\n",
              " 'B42': 103,\n",
              " 'B45': 13,\n",
              " 'B49': 96,\n",
              " 'B5': 42,\n",
              " 'B50': 6,\n",
              " 'B51': 52,\n",
              " 'B52': 72,\n",
              " 'B57': 21,\n",
              " 'B58': 70,\n",
              " 'B61': 81,\n",
              " 'B69': 33,\n",
              " 'B71': 59,\n",
              " 'B73': 20,\n",
              " 'B77': 85,\n",
              " 'B78': 146,\n",
              " 'B86': 90,\n",
              " 'B94': 36,\n",
              " 'B96': 24,\n",
              " 'C101': 27,\n",
              " 'C103': 124,\n",
              " 'C105': 88,\n",
              " 'C110': 123,\n",
              " 'C111': 8,\n",
              " 'C116': 107,\n",
              " 'C118': 126,\n",
              " 'C123': 35,\n",
              " 'C124': 64,\n",
              " 'C125': 17,\n",
              " 'C126': 66,\n",
              " 'C128': 30,\n",
              " 'C130': 118,\n",
              " 'C132': 91,\n",
              " 'C148': 87,\n",
              " 'C2': 99,\n",
              " 'C22': 4,\n",
              " 'C23': 65,\n",
              " 'C28': 138,\n",
              " 'C30': 55,\n",
              " 'C39': 39,\n",
              " 'C49': 135,\n",
              " 'C51': 120,\n",
              " 'C52': 105,\n",
              " 'C54': 94,\n",
              " 'C55': 62,\n",
              " 'C6': 10,\n",
              " 'C62': 132,\n",
              " 'C65': 75,\n",
              " 'C68': 2,\n",
              " 'C7': 84,\n",
              " 'C78': 26,\n",
              " 'C80': 145,\n",
              " 'C82': 71,\n",
              " 'C83': 102,\n",
              " 'C85': 136,\n",
              " 'C86': 92,\n",
              " 'C87': 11,\n",
              " 'C89': 63,\n",
              " 'C90': 125,\n",
              " 'C91': 79,\n",
              " 'C92': 73,\n",
              " 'C93': 14,\n",
              " 'C95': 112,\n",
              " 'C97': 127,\n",
              " 'C99': 140,\n",
              " 'D': 38,\n",
              " 'D15': 113,\n",
              " 'D17': 43,\n",
              " 'D19': 69,\n",
              " 'D20': 86,\n",
              " 'D21': 116,\n",
              " 'D26': 56,\n",
              " 'D28': 15,\n",
              " 'D30': 121,\n",
              " 'D33': 29,\n",
              " 'D34': 48,\n",
              " 'D35': 50,\n",
              " 'D36': 16,\n",
              " 'D37': 60,\n",
              " 'D38': 5,\n",
              " 'D40': 78,\n",
              " 'D43': 40,\n",
              " 'D46': 53,\n",
              " 'D47': 128,\n",
              " 'D49': 141,\n",
              " 'D50': 131,\n",
              " 'D56': 106,\n",
              " 'D6': 119,\n",
              " 'D7': 46,\n",
              " 'D9': 28,\n",
              " 'E10': 117,\n",
              " 'E101': 110,\n",
              " 'E121': 34,\n",
              " 'E17': 133,\n",
              " 'E24': 3,\n",
              " 'E25': 76,\n",
              " 'E31': 41,\n",
              " 'E33': 114,\n",
              " 'E34': 129,\n",
              " 'E36': 1,\n",
              " 'E38': 89,\n",
              " 'E44': 45,\n",
              " 'E45': 74,\n",
              " 'E46': 68,\n",
              " 'E49': 67,\n",
              " 'E50': 31,\n",
              " 'E60': 54,\n",
              " 'E63': 139,\n",
              " 'E67': 122,\n",
              " 'E68': 57,\n",
              " 'E77': 109,\n",
              " 'E8': 12,\n",
              " 'F': 9,\n",
              " 'F2': 61,\n",
              " 'F33': 44,\n",
              " 'F4': 100,\n",
              " 'G6': 25,\n",
              " 'T': 19,\n",
              " nan: 0}"
            ]
          },
          "metadata": {
            "tags": []
          },
          "execution_count": 118
        }
      ]
    },
    {
      "cell_type": "code",
      "metadata": {
        "id": "2EXkQenDHCku",
        "colab_type": "code",
        "colab": {
          "base_uri": "https://localhost:8080/",
          "height": 359
        },
        "outputId": "762a4eb4-2670-4eba-cc86-75fe25a66b9a"
      },
      "source": [
        "# codificar la variable cabina utilizando el diccionario creado anteriormente\n",
        "# notemos que el diccionario reemplaza valores nulos por zero\n",
        "\n",
        "X_train.loc[:, 'Cabin_mapped'] = X_train.loc[:, 'cabin'].map(cabin_dict)\n",
        "X_test.loc[:, 'Cabin_mapped'] = X_test.loc[:, 'cabin'].map(cabin_dict)\n",
        "\n",
        "X_train[['Cabin_mapped', 'cabin']].head(10)"
      ],
      "execution_count": 119,
      "outputs": [
        {
          "output_type": "execute_result",
          "data": {
            "text/html": [
              "<div>\n",
              "<style scoped>\n",
              "    .dataframe tbody tr th:only-of-type {\n",
              "        vertical-align: middle;\n",
              "    }\n",
              "\n",
              "    .dataframe tbody tr th {\n",
              "        vertical-align: top;\n",
              "    }\n",
              "\n",
              "    .dataframe thead th {\n",
              "        text-align: right;\n",
              "    }\n",
              "</style>\n",
              "<table border=\"1\" class=\"dataframe\">\n",
              "  <thead>\n",
              "    <tr style=\"text-align: right;\">\n",
              "      <th></th>\n",
              "      <th>Cabin_mapped</th>\n",
              "      <th>cabin</th>\n",
              "    </tr>\n",
              "  </thead>\n",
              "  <tbody>\n",
              "    <tr>\n",
              "      <th>501</th>\n",
              "      <td>0</td>\n",
              "      <td>NaN</td>\n",
              "    </tr>\n",
              "    <tr>\n",
              "      <th>588</th>\n",
              "      <td>0</td>\n",
              "      <td>NaN</td>\n",
              "    </tr>\n",
              "    <tr>\n",
              "      <th>402</th>\n",
              "      <td>0</td>\n",
              "      <td>NaN</td>\n",
              "    </tr>\n",
              "    <tr>\n",
              "      <th>1193</th>\n",
              "      <td>0</td>\n",
              "      <td>NaN</td>\n",
              "    </tr>\n",
              "    <tr>\n",
              "      <th>686</th>\n",
              "      <td>0</td>\n",
              "      <td>NaN</td>\n",
              "    </tr>\n",
              "    <tr>\n",
              "      <th>971</th>\n",
              "      <td>0</td>\n",
              "      <td>NaN</td>\n",
              "    </tr>\n",
              "    <tr>\n",
              "      <th>117</th>\n",
              "      <td>1</td>\n",
              "      <td>E36</td>\n",
              "    </tr>\n",
              "    <tr>\n",
              "      <th>540</th>\n",
              "      <td>0</td>\n",
              "      <td>NaN</td>\n",
              "    </tr>\n",
              "    <tr>\n",
              "      <th>294</th>\n",
              "      <td>2</td>\n",
              "      <td>C68</td>\n",
              "    </tr>\n",
              "    <tr>\n",
              "      <th>261</th>\n",
              "      <td>3</td>\n",
              "      <td>E24</td>\n",
              "    </tr>\n",
              "  </tbody>\n",
              "</table>\n",
              "</div>"
            ],
            "text/plain": [
              "      Cabin_mapped cabin\n",
              "501              0   NaN\n",
              "588              0   NaN\n",
              "402              0   NaN\n",
              "1193             0   NaN\n",
              "686              0   NaN\n",
              "971              0   NaN\n",
              "117              1   E36\n",
              "540              0   NaN\n",
              "294              2   C68\n",
              "261              3   E24"
            ]
          },
          "metadata": {
            "tags": []
          },
          "execution_count": 119
        }
      ]
    },
    {
      "cell_type": "markdown",
      "metadata": {
        "id": "Kn9T28phH2hx",
        "colab_type": "text"
      },
      "source": [
        "Vemos como NaN toma el valor de 0 en la nueva variable.\n"
      ]
    },
    {
      "cell_type": "code",
      "metadata": {
        "id": "OGvZyGLmHUTh",
        "colab_type": "code",
        "colab": {
          "base_uri": "https://localhost:8080/",
          "height": 359
        },
        "outputId": "0608ca8f-db1a-4261-cbb0-8549a941e93e"
      },
      "source": [
        "# Ahora reemplazamos las letras en la variable\n",
        "# cabina reducida siguiendo el mismo procedimiento\n",
        "\n",
        "# crear diccionario para reeemplazar\n",
        "cabin_dict = {k: i for i, k in enumerate(X_train['Cabin_reduced'].unique(), 0)}\n",
        "\n",
        "# reemplazar las etiquetas por los números con el diccionario\n",
        "X_train.loc[:, 'Cabin_reduced'] = X_train.loc[:, 'Cabin_reduced'].map(\n",
        "    cabin_dict)\n",
        "X_test.loc[:, 'Cabin_reduced'] = X_test.loc[:, 'Cabin_reduced'].map(cabin_dict)\n",
        "\n",
        "X_train[['Cabin_reduced', 'cabin']].head(10)"
      ],
      "execution_count": 120,
      "outputs": [
        {
          "output_type": "execute_result",
          "data": {
            "text/html": [
              "<div>\n",
              "<style scoped>\n",
              "    .dataframe tbody tr th:only-of-type {\n",
              "        vertical-align: middle;\n",
              "    }\n",
              "\n",
              "    .dataframe tbody tr th {\n",
              "        vertical-align: top;\n",
              "    }\n",
              "\n",
              "    .dataframe thead th {\n",
              "        text-align: right;\n",
              "    }\n",
              "</style>\n",
              "<table border=\"1\" class=\"dataframe\">\n",
              "  <thead>\n",
              "    <tr style=\"text-align: right;\">\n",
              "      <th></th>\n",
              "      <th>Cabin_reduced</th>\n",
              "      <th>cabin</th>\n",
              "    </tr>\n",
              "  </thead>\n",
              "  <tbody>\n",
              "    <tr>\n",
              "      <th>501</th>\n",
              "      <td>0</td>\n",
              "      <td>NaN</td>\n",
              "    </tr>\n",
              "    <tr>\n",
              "      <th>588</th>\n",
              "      <td>0</td>\n",
              "      <td>NaN</td>\n",
              "    </tr>\n",
              "    <tr>\n",
              "      <th>402</th>\n",
              "      <td>0</td>\n",
              "      <td>NaN</td>\n",
              "    </tr>\n",
              "    <tr>\n",
              "      <th>1193</th>\n",
              "      <td>0</td>\n",
              "      <td>NaN</td>\n",
              "    </tr>\n",
              "    <tr>\n",
              "      <th>686</th>\n",
              "      <td>0</td>\n",
              "      <td>NaN</td>\n",
              "    </tr>\n",
              "    <tr>\n",
              "      <th>971</th>\n",
              "      <td>0</td>\n",
              "      <td>NaN</td>\n",
              "    </tr>\n",
              "    <tr>\n",
              "      <th>117</th>\n",
              "      <td>1</td>\n",
              "      <td>E36</td>\n",
              "    </tr>\n",
              "    <tr>\n",
              "      <th>540</th>\n",
              "      <td>0</td>\n",
              "      <td>NaN</td>\n",
              "    </tr>\n",
              "    <tr>\n",
              "      <th>294</th>\n",
              "      <td>2</td>\n",
              "      <td>C68</td>\n",
              "    </tr>\n",
              "    <tr>\n",
              "      <th>261</th>\n",
              "      <td>1</td>\n",
              "      <td>E24</td>\n",
              "    </tr>\n",
              "  </tbody>\n",
              "</table>\n",
              "</div>"
            ],
            "text/plain": [
              "      Cabin_reduced cabin\n",
              "501               0   NaN\n",
              "588               0   NaN\n",
              "402               0   NaN\n",
              "1193              0   NaN\n",
              "686               0   NaN\n",
              "971               0   NaN\n",
              "117               1   E36\n",
              "540               0   NaN\n",
              "294               2   C68\n",
              "261               1   E24"
            ]
          },
          "metadata": {
            "tags": []
          },
          "execution_count": 120
        }
      ]
    },
    {
      "cell_type": "code",
      "metadata": {
        "id": "uRIkVi8LI5yv",
        "colab_type": "code",
        "colab": {
          "base_uri": "https://localhost:8080/",
          "height": 119
        },
        "outputId": "ddc0a465-c984-48b0-b446-7d66214536b5"
      },
      "source": [
        "# Ahora reemplacemos las categorías de la variable Sex con números\n",
        "\n",
        "X_train.loc[:, 'sex'] = X_train.loc[:, 'sex'].map({'male': 0, 'female': 1})\n",
        "X_test.loc[:, 'sex'] = X_test.loc[:, 'sex'].map({'male': 0, 'female': 1})\n",
        "\n",
        "X_train.sex.head()"
      ],
      "execution_count": 121,
      "outputs": [
        {
          "output_type": "execute_result",
          "data": {
            "text/plain": [
              "501     1\n",
              "588     1\n",
              "402     1\n",
              "1193    0\n",
              "686     1\n",
              "Name: sex, dtype: int64"
            ]
          },
          "metadata": {
            "tags": []
          },
          "execution_count": 121
        }
      ]
    },
    {
      "cell_type": "code",
      "metadata": {
        "id": "Yni7orBxLpgY",
        "colab_type": "code",
        "colab": {
          "base_uri": "https://localhost:8080/",
          "height": 85
        },
        "outputId": "dd6bc37c-3db1-4d45-aebb-a734d084a28d"
      },
      "source": [
        "# miremos si hay datos faltantes en estas variables\n",
        "\n",
        "X_train[['Cabin_mapped', 'Cabin_reduced', 'sex']].isnull().sum()"
      ],
      "execution_count": 122,
      "outputs": [
        {
          "output_type": "execute_result",
          "data": {
            "text/plain": [
              "Cabin_mapped     0\n",
              "Cabin_reduced    0\n",
              "sex              0\n",
              "dtype: int64"
            ]
          },
          "metadata": {
            "tags": []
          },
          "execution_count": 122
        }
      ]
    },
    {
      "cell_type": "code",
      "metadata": {
        "id": "xVRavyoHLw1J",
        "colab_type": "code",
        "colab": {
          "base_uri": "https://localhost:8080/",
          "height": 85
        },
        "outputId": "5f9b3fce-93f8-48ab-c7bd-180044281024"
      },
      "source": [
        "X_test[['Cabin_mapped', 'Cabin_reduced', 'sex']].isnull().sum()"
      ],
      "execution_count": 123,
      "outputs": [
        {
          "output_type": "execute_result",
          "data": {
            "text/plain": [
              "Cabin_mapped     41\n",
              "Cabin_reduced     0\n",
              "sex               0\n",
              "dtype: int64"
            ]
          },
          "metadata": {
            "tags": []
          },
          "execution_count": 123
        }
      ]
    },
    {
      "cell_type": "markdown",
      "metadata": {
        "id": "Hvn-WBg8L-S1",
        "colab_type": "text"
      },
      "source": [
        "En el set de prueba, hay ahora 30 valores faltantes para la variable de alta cardinalidad. Estas fueron introducidas cuando re-asignamos las categorías a números. Cómo sucedió? muchas categorías existen solo en la muestra de prueba. Inicialmente creamos nuestro  diccionario  usando la muestra de entrenamiento, y no generamos números para reemplazar esas etiquetas que se encontraban solo en la muestra de prueba. El resultado, es que estas etiquetas se codificaron con NaN. Veremos en futuros Notebooks cómo manejar este problema. Por ahora, llenaremos esos datos faltantes con 0.\n"
      ]
    },
    {
      "cell_type": "code",
      "metadata": {
        "id": "DfL418WXL1cQ",
        "colab_type": "code",
        "colab": {
          "base_uri": "https://localhost:8080/",
          "height": 34
        },
        "outputId": "0e752afe-65aa-42b3-afd9-fcda884f547f"
      },
      "source": [
        "# Miremos el número de las diferentes categorias en las variables codificadas.\n",
        "len(X_train.Cabin_mapped.unique()), len(X_train.Cabin_reduced.unique())"
      ],
      "execution_count": 124,
      "outputs": [
        {
          "output_type": "execute_result",
          "data": {
            "text/plain": [
              "(147, 9)"
            ]
          },
          "metadata": {
            "tags": []
          },
          "execution_count": 124
        }
      ]
    },
    {
      "cell_type": "markdown",
      "metadata": {
        "id": "aq1cisKXMZx-",
        "colab_type": "text"
      },
      "source": [
        "Podemos ver que de las 148 cabinas originales en los datos, solo 121 están presentes en la muestra de entrenamiento. Vemos también como reducimos el número de las diferentes categorías a solo 9.\n",
        "\n",
        "Prosigamos con la evaluación del efecto de la cardinalidad en los algoritmos de machine learning.\n"
      ]
    },
    {
      "cell_type": "code",
      "metadata": {
        "id": "TrY-v3D9M32M",
        "colab_type": "code",
        "colab": {
          "base_uri": "https://localhost:8080/",
          "height": 204
        },
        "outputId": "f0235fcc-0c62-47d8-d283-6bb2b5db0332"
      },
      "source": [
        "data.head()"
      ],
      "execution_count": 125,
      "outputs": [
        {
          "output_type": "execute_result",
          "data": {
            "text/html": [
              "<div>\n",
              "<style scoped>\n",
              "    .dataframe tbody tr th:only-of-type {\n",
              "        vertical-align: middle;\n",
              "    }\n",
              "\n",
              "    .dataframe tbody tr th {\n",
              "        vertical-align: top;\n",
              "    }\n",
              "\n",
              "    .dataframe thead th {\n",
              "        text-align: right;\n",
              "    }\n",
              "</style>\n",
              "<table border=\"1\" class=\"dataframe\">\n",
              "  <thead>\n",
              "    <tr style=\"text-align: right;\">\n",
              "      <th></th>\n",
              "      <th>pclass</th>\n",
              "      <th>survived</th>\n",
              "      <th>name</th>\n",
              "      <th>sex</th>\n",
              "      <th>age</th>\n",
              "      <th>sibsp</th>\n",
              "      <th>parch</th>\n",
              "      <th>ticket</th>\n",
              "      <th>fare</th>\n",
              "      <th>cabin</th>\n",
              "      <th>embarked</th>\n",
              "      <th>boat</th>\n",
              "      <th>body</th>\n",
              "      <th>home.dest</th>\n",
              "      <th>Cabin_reduced</th>\n",
              "    </tr>\n",
              "  </thead>\n",
              "  <tbody>\n",
              "    <tr>\n",
              "      <th>0</th>\n",
              "      <td>1</td>\n",
              "      <td>1</td>\n",
              "      <td>Allen, Miss. Elisabeth Walton</td>\n",
              "      <td>female</td>\n",
              "      <td>29.0000</td>\n",
              "      <td>0</td>\n",
              "      <td>0</td>\n",
              "      <td>24160</td>\n",
              "      <td>211.3375</td>\n",
              "      <td>B5</td>\n",
              "      <td>S</td>\n",
              "      <td>2</td>\n",
              "      <td>NaN</td>\n",
              "      <td>St Louis, MO</td>\n",
              "      <td>B</td>\n",
              "    </tr>\n",
              "    <tr>\n",
              "      <th>1</th>\n",
              "      <td>1</td>\n",
              "      <td>1</td>\n",
              "      <td>Allison, Master. Hudson Trevor</td>\n",
              "      <td>male</td>\n",
              "      <td>0.9167</td>\n",
              "      <td>1</td>\n",
              "      <td>2</td>\n",
              "      <td>113781</td>\n",
              "      <td>151.5500</td>\n",
              "      <td>C22</td>\n",
              "      <td>S</td>\n",
              "      <td>11</td>\n",
              "      <td>NaN</td>\n",
              "      <td>Montreal, PQ / Chesterville, ON</td>\n",
              "      <td>C</td>\n",
              "    </tr>\n",
              "    <tr>\n",
              "      <th>2</th>\n",
              "      <td>1</td>\n",
              "      <td>0</td>\n",
              "      <td>Allison, Miss. Helen Loraine</td>\n",
              "      <td>female</td>\n",
              "      <td>2.0000</td>\n",
              "      <td>1</td>\n",
              "      <td>2</td>\n",
              "      <td>113781</td>\n",
              "      <td>151.5500</td>\n",
              "      <td>C22</td>\n",
              "      <td>S</td>\n",
              "      <td>NaN</td>\n",
              "      <td>NaN</td>\n",
              "      <td>Montreal, PQ / Chesterville, ON</td>\n",
              "      <td>C</td>\n",
              "    </tr>\n",
              "    <tr>\n",
              "      <th>3</th>\n",
              "      <td>1</td>\n",
              "      <td>0</td>\n",
              "      <td>Allison, Mr. Hudson Joshua Creighton</td>\n",
              "      <td>male</td>\n",
              "      <td>30.0000</td>\n",
              "      <td>1</td>\n",
              "      <td>2</td>\n",
              "      <td>113781</td>\n",
              "      <td>151.5500</td>\n",
              "      <td>C22</td>\n",
              "      <td>S</td>\n",
              "      <td>NaN</td>\n",
              "      <td>135.0</td>\n",
              "      <td>Montreal, PQ / Chesterville, ON</td>\n",
              "      <td>C</td>\n",
              "    </tr>\n",
              "    <tr>\n",
              "      <th>4</th>\n",
              "      <td>1</td>\n",
              "      <td>0</td>\n",
              "      <td>Allison, Mrs. Hudson J C (Bessie Waldo Daniels)</td>\n",
              "      <td>female</td>\n",
              "      <td>25.0000</td>\n",
              "      <td>1</td>\n",
              "      <td>2</td>\n",
              "      <td>113781</td>\n",
              "      <td>151.5500</td>\n",
              "      <td>C22</td>\n",
              "      <td>S</td>\n",
              "      <td>NaN</td>\n",
              "      <td>NaN</td>\n",
              "      <td>Montreal, PQ / Chesterville, ON</td>\n",
              "      <td>C</td>\n",
              "    </tr>\n",
              "  </tbody>\n",
              "</table>\n",
              "</div>"
            ],
            "text/plain": [
              "   pclass  survived  ...                        home.dest Cabin_reduced\n",
              "0       1         1  ...                     St Louis, MO             B\n",
              "1       1         1  ...  Montreal, PQ / Chesterville, ON             C\n",
              "2       1         0  ...  Montreal, PQ / Chesterville, ON             C\n",
              "3       1         0  ...  Montreal, PQ / Chesterville, ON             C\n",
              "4       1         0  ...  Montreal, PQ / Chesterville, ON             C\n",
              "\n",
              "[5 rows x 15 columns]"
            ]
          },
          "metadata": {
            "tags": []
          },
          "execution_count": 125
        }
      ]
    },
    {
      "cell_type": "code",
      "metadata": {
        "id": "d-lpLCiyNB1-",
        "colab_type": "code",
        "colab": {
          "base_uri": "https://localhost:8080/",
          "height": 204
        },
        "outputId": "54e21bfa-d56b-4447-9676-464e0d167795"
      },
      "source": [
        "X_train.head()"
      ],
      "execution_count": 126,
      "outputs": [
        {
          "output_type": "execute_result",
          "data": {
            "text/html": [
              "<div>\n",
              "<style scoped>\n",
              "    .dataframe tbody tr th:only-of-type {\n",
              "        vertical-align: middle;\n",
              "    }\n",
              "\n",
              "    .dataframe tbody tr th {\n",
              "        vertical-align: top;\n",
              "    }\n",
              "\n",
              "    .dataframe thead th {\n",
              "        text-align: right;\n",
              "    }\n",
              "</style>\n",
              "<table border=\"1\" class=\"dataframe\">\n",
              "  <thead>\n",
              "    <tr style=\"text-align: right;\">\n",
              "      <th></th>\n",
              "      <th>cabin</th>\n",
              "      <th>Cabin_reduced</th>\n",
              "      <th>sex</th>\n",
              "      <th>Cabin_mapped</th>\n",
              "    </tr>\n",
              "  </thead>\n",
              "  <tbody>\n",
              "    <tr>\n",
              "      <th>501</th>\n",
              "      <td>NaN</td>\n",
              "      <td>0</td>\n",
              "      <td>1</td>\n",
              "      <td>0</td>\n",
              "    </tr>\n",
              "    <tr>\n",
              "      <th>588</th>\n",
              "      <td>NaN</td>\n",
              "      <td>0</td>\n",
              "      <td>1</td>\n",
              "      <td>0</td>\n",
              "    </tr>\n",
              "    <tr>\n",
              "      <th>402</th>\n",
              "      <td>NaN</td>\n",
              "      <td>0</td>\n",
              "      <td>1</td>\n",
              "      <td>0</td>\n",
              "    </tr>\n",
              "    <tr>\n",
              "      <th>1193</th>\n",
              "      <td>NaN</td>\n",
              "      <td>0</td>\n",
              "      <td>0</td>\n",
              "      <td>0</td>\n",
              "    </tr>\n",
              "    <tr>\n",
              "      <th>686</th>\n",
              "      <td>NaN</td>\n",
              "      <td>0</td>\n",
              "      <td>1</td>\n",
              "      <td>0</td>\n",
              "    </tr>\n",
              "  </tbody>\n",
              "</table>\n",
              "</div>"
            ],
            "text/plain": [
              "     cabin  Cabin_reduced  sex  Cabin_mapped\n",
              "501    NaN              0    1             0\n",
              "588    NaN              0    1             0\n",
              "402    NaN              0    1             0\n",
              "1193   NaN              0    0             0\n",
              "686    NaN              0    1             0"
            ]
          },
          "metadata": {
            "tags": []
          },
          "execution_count": 126
        }
      ]
    },
    {
      "cell_type": "code",
      "metadata": {
        "id": "lcXdc-OwNFpi",
        "colab_type": "code",
        "colab": {
          "base_uri": "https://localhost:8080/",
          "height": 204
        },
        "outputId": "096d5216-f3ea-4c5b-b069-3c76fb5abe09"
      },
      "source": [
        "X_test.head()"
      ],
      "execution_count": 127,
      "outputs": [
        {
          "output_type": "execute_result",
          "data": {
            "text/html": [
              "<div>\n",
              "<style scoped>\n",
              "    .dataframe tbody tr th:only-of-type {\n",
              "        vertical-align: middle;\n",
              "    }\n",
              "\n",
              "    .dataframe tbody tr th {\n",
              "        vertical-align: top;\n",
              "    }\n",
              "\n",
              "    .dataframe thead th {\n",
              "        text-align: right;\n",
              "    }\n",
              "</style>\n",
              "<table border=\"1\" class=\"dataframe\">\n",
              "  <thead>\n",
              "    <tr style=\"text-align: right;\">\n",
              "      <th></th>\n",
              "      <th>cabin</th>\n",
              "      <th>Cabin_reduced</th>\n",
              "      <th>sex</th>\n",
              "      <th>Cabin_mapped</th>\n",
              "    </tr>\n",
              "  </thead>\n",
              "  <tbody>\n",
              "    <tr>\n",
              "      <th>1139</th>\n",
              "      <td>NaN</td>\n",
              "      <td>0</td>\n",
              "      <td>0</td>\n",
              "      <td>0.0</td>\n",
              "    </tr>\n",
              "    <tr>\n",
              "      <th>533</th>\n",
              "      <td>NaN</td>\n",
              "      <td>0</td>\n",
              "      <td>1</td>\n",
              "      <td>0.0</td>\n",
              "    </tr>\n",
              "    <tr>\n",
              "      <th>459</th>\n",
              "      <td>NaN</td>\n",
              "      <td>0</td>\n",
              "      <td>0</td>\n",
              "      <td>0.0</td>\n",
              "    </tr>\n",
              "    <tr>\n",
              "      <th>1150</th>\n",
              "      <td>NaN</td>\n",
              "      <td>0</td>\n",
              "      <td>0</td>\n",
              "      <td>0.0</td>\n",
              "    </tr>\n",
              "    <tr>\n",
              "      <th>393</th>\n",
              "      <td>NaN</td>\n",
              "      <td>0</td>\n",
              "      <td>0</td>\n",
              "      <td>0.0</td>\n",
              "    </tr>\n",
              "  </tbody>\n",
              "</table>\n",
              "</div>"
            ],
            "text/plain": [
              "     cabin  Cabin_reduced  sex  Cabin_mapped\n",
              "1139   NaN              0    0           0.0\n",
              "533    NaN              0    1           0.0\n",
              "459    NaN              0    0           0.0\n",
              "1150   NaN              0    0           0.0\n",
              "393    NaN              0    0           0.0"
            ]
          },
          "metadata": {
            "tags": []
          },
          "execution_count": 127
        }
      ]
    },
    {
      "cell_type": "code",
      "metadata": {
        "id": "PMzlFj6KOiDL",
        "colab_type": "code",
        "colab": {
          "base_uri": "https://localhost:8080/",
          "height": 102
        },
        "outputId": "b62b9844-fdad-4014-8b51-86fd728e1956"
      },
      "source": [
        "X_train.isna().sum()"
      ],
      "execution_count": 128,
      "outputs": [
        {
          "output_type": "execute_result",
          "data": {
            "text/plain": [
              "cabin            702\n",
              "Cabin_reduced      0\n",
              "sex                0\n",
              "Cabin_mapped       0\n",
              "dtype: int64"
            ]
          },
          "metadata": {
            "tags": []
          },
          "execution_count": 128
        }
      ]
    },
    {
      "cell_type": "markdown",
      "metadata": {
        "id": "Py6LFaVyMwQM",
        "colab_type": "text"
      },
      "source": [
        "### Random Forests"
      ]
    },
    {
      "cell_type": "code",
      "metadata": {
        "id": "FWjB0E4rMVhc",
        "colab_type": "code",
        "colab": {
          "base_uri": "https://localhost:8080/",
          "height": 85
        },
        "outputId": "f94a45e3-e3c9-4519-bb45-4d602023c974"
      },
      "source": [
        "# Modelo construido con los datos de alta cardinalidad \n",
        "# en la variable cabina\n",
        "\n",
        "# Modelo\n",
        "rf = RandomForestClassifier(n_estimators=200, random_state=39)\n",
        "\n",
        "# entrenar el modelo\n",
        "rf.fit(X_train[['Cabin_mapped', 'sex']], y_train)\n",
        "\n",
        "# hacer las predicciones en la muestra de entrenamiento y prueba\n",
        "pred_train = rf.predict_proba(X_train[['Cabin_mapped', 'sex']])\n",
        "pred_test = rf.predict_proba(X_test[['Cabin_mapped', 'sex']].fillna(0))\n",
        "\n",
        "print('Muestra de entrenamiento')\n",
        "print('Random Forests roc-auc: {}'.format(roc_auc_score(y_train, pred_train[:,1])))\n",
        "print('Muestra de prueba')\n",
        "print('Random Forests roc-auc: {}'.format(roc_auc_score(y_test, pred_test[:,1])))"
      ],
      "execution_count": 129,
      "outputs": [
        {
          "output_type": "stream",
          "text": [
            "Muestra de entrenamiento\n",
            "Random Forests roc-auc: 0.853790650048556\n",
            "Muestra de prueba\n",
            "Random Forests roc-auc: 0.7691361097284443\n"
          ],
          "name": "stdout"
        }
      ]
    },
    {
      "cell_type": "markdown",
      "metadata": {
        "id": "OSl-XBRwV7O0",
        "colab_type": "text"
      },
      "source": [
        "Podemos ver que el desempeño de Random Forest en la muestra de entrenamiento es muy superior al desempeño en la muestra de prueba. Esto indica que el modelo esta sobre-ajustando: es muy bueno prediciendo los resultados en los datos que se usan para entrenarlo, pero no tiene el poder para generalizar las predicciones en datos nuevos.\n"
      ]
    },
    {
      "cell_type": "code",
      "metadata": {
        "id": "AaCOAlXLN2xk",
        "colab_type": "code",
        "colab": {
          "base_uri": "https://localhost:8080/",
          "height": 85
        },
        "outputId": "7f422eca-66c2-47db-a0ad-1499a5c83329"
      },
      "source": [
        "# modelo construido con dataos de baja cardinalidad para cabin\n",
        "\n",
        "# iniciar modelo\n",
        "rf = RandomForestClassifier(n_estimators=200, random_state=39)\n",
        "\n",
        "# entrenar  modelo\n",
        "rf.fit(X_train[['Cabin_reduced', 'sex']], y_train)\n",
        "\n",
        "# hacer predicciones en el segmento de prueba y entrenamiento \n",
        "pred_train = rf.predict_proba(X_train[['Cabin_reduced', 'sex']])\n",
        "pred_test = rf.predict_proba(X_test[['Cabin_reduced', 'sex']])\n",
        "\n",
        "print('Segmento de entrenamiento')\n",
        "print('Random Forests roc-auc: {}'.format(roc_auc_score(y_train, pred_train[:,1])))\n",
        "print('Segmento de prueba')\n",
        "print('Random Forests roc-auc: {}'.format(roc_auc_score(y_test, pred_test[:,1])))"
      ],
      "execution_count": 130,
      "outputs": [
        {
          "output_type": "stream",
          "text": [
            "Segmento de entrenamiento\n",
            "Random Forests roc-auc: 0.8163420365403872\n",
            "Segmento de prueba\n",
            "Random Forests roc-auc: 0.8017670482827277\n"
          ],
          "name": "stdout"
        }
      ]
    },
    {
      "cell_type": "markdown",
      "metadata": {
        "id": "9L86yNITWNnv",
        "colab_type": "text"
      },
      "source": [
        "Podemos ver que con variables de baja cardinalidad, el Random Forest no sobre-ajusta al segmento de entrenamiento. Además, el modelo es mucho mejor generalizando las predicciones (compara el roc-auc de este modelo en el segmento de prueba vs el roc-auc del modelo anterior).\n",
        "\n",
        "**Algo para resaltar: probablemente se pueda mejorar el impacto de la alta cardinalidad ajustando los hiper-parámetros del Random Forest.  Aquí simplemente queremos mostrar, que dado el mismo modelo, con los mismos hiper-parámetros, la alta cardinalidad puede causar sobre-ajustes en el mismo.**.\n"
      ]
    },
    {
      "cell_type": "markdown",
      "metadata": {
        "id": "iK1jDKZeWc79",
        "colab_type": "text"
      },
      "source": [
        "### AdaBoost"
      ]
    },
    {
      "cell_type": "code",
      "metadata": {
        "id": "mIDqmxdVPTT6",
        "colab_type": "code",
        "colab": {
          "base_uri": "https://localhost:8080/",
          "height": 85
        },
        "outputId": "45ad0ebf-fb54-473c-856a-f17a18255eec"
      },
      "source": [
        "# modelo construido con datos de alta cardinalidad para cabin\n",
        "\n",
        "# iniciar modelo\n",
        "ada = AdaBoostClassifier(n_estimators=200, random_state=44)\n",
        "\n",
        "# entrenar  modelo\n",
        "ada.fit(X_train[['Cabin_mapped', 'sex']], y_train)\n",
        "\n",
        "# hacer predicciones en el segmento de prueba y entrenamiento \n",
        "pred_train = ada.predict_proba(X_train[['Cabin_mapped', 'sex']])\n",
        "pred_test = ada.predict_proba(X_test[['Cabin_mapped', 'sex']].fillna(0))\n",
        "\n",
        "print('Segmento de entrenamiento')\n",
        "print('Adaboost roc-auc: {}'.format(roc_auc_score(y_train, pred_train[:,1])))\n",
        "print('Segmento de prueba')\n",
        "print('Adaboost roc-auc: {}'.format(roc_auc_score(y_test, pred_test[:,1])))"
      ],
      "execution_count": 131,
      "outputs": [
        {
          "output_type": "stream",
          "text": [
            "Segmento de entrenamiento\n",
            "Adaboost roc-auc: 0.8296861713101102\n",
            "Segmento de prueba\n",
            "Adaboost roc-auc: 0.7604391350035948\n"
          ],
          "name": "stdout"
        }
      ]
    },
    {
      "cell_type": "code",
      "metadata": {
        "id": "2HSxTrDxWfhc",
        "colab_type": "code",
        "colab": {
          "base_uri": "https://localhost:8080/",
          "height": 85
        },
        "outputId": "efe5618f-fd19-4b93-d092-ce797451b765"
      },
      "source": [
        "# modelo construido con datos de baja cardinalidad para cabin\n",
        "\n",
        "# iniciar modelo\n",
        "ada = AdaBoostClassifier(n_estimators=200, random_state=44)\n",
        "\n",
        "# entrenar  modelo\n",
        "ada.fit(X_train[['Cabin_reduced', 'sex']], y_train)\n",
        "\n",
        "#  predicciones en el segmento de prueba y entrenamiento \n",
        "pred_train = ada.predict_proba(X_train[['Cabin_reduced', 'sex']])\n",
        "pred_test = ada.predict_proba(X_test[['Cabin_reduced', 'sex']].fillna(0))\n",
        "\n",
        "print('Segmento de entrenamiento')\n",
        "print('Adaboost roc-auc: {}'.format(roc_auc_score(y_train, pred_train[:,1])))\n",
        "print('Segmento de prueba')\n",
        "print('Adaboost roc-auc: {}'.format(roc_auc_score(y_test, pred_test[:,1])))\n"
      ],
      "execution_count": 132,
      "outputs": [
        {
          "output_type": "stream",
          "text": [
            "Segmento de entrenamiento\n",
            "Adaboost roc-auc: 0.8161256723642566\n",
            "Segmento de prueba\n",
            "Adaboost roc-auc: 0.8001078480172557\n"
          ],
          "name": "stdout"
        }
      ]
    },
    {
      "cell_type": "markdown",
      "metadata": {
        "id": "wQ6hZZfxWoha",
        "colab_type": "text"
      },
      "source": [
        "Similarmente, el modelo Adaboost entrenado con la variable con alta cardinalidad sobre-ajusta el segmento de entrenamiento. Por el contrario, el modelo Adaboots entrenado con la variable de baja cardinalidad, generaliza mejor las predicciones.\n",
        "\n",
        "Adicionalmente hay otras ventajas en construir un modelo con menos categorías en Cabina: \n",
        "\n",
        "a) es más simple \n",
        "\n",
        " b) si una nueva categoría aparece en el segmento de prueba, simplemente con tomar la primera letra de la cabina, el modelo de machine learning sabrá cómo manejarla ya que ese caso “existía” en los datos de entrenamiento.\n"
      ]
    },
    {
      "cell_type": "markdown",
      "metadata": {
        "id": "gARq7FlJW0k3",
        "colab_type": "text"
      },
      "source": [
        "### Regresión Logística "
      ]
    },
    {
      "cell_type": "code",
      "metadata": {
        "id": "I0Tz68G8WjeB",
        "colab_type": "code",
        "colab": {
          "base_uri": "https://localhost:8080/",
          "height": 85
        },
        "outputId": "05b713e0-4e4f-4098-a319-d4847f9a4bdb"
      },
      "source": [
        "# modelo construido con datos de alta cardinalidad para cabin\n",
        "\n",
        "# iniciar modelo\n",
        "logit = LogisticRegression(random_state=44, solver='lbfgs')\n",
        "\n",
        "# entrenar modelo\n",
        "logit.fit(X_train[['Cabin_mapped', 'sex']], y_train)\n",
        "\n",
        "#  hacer predicciones en el segmento de prueba y entrenamiento \n",
        "pred_train = logit.predict_proba(X_train[['Cabin_mapped', 'sex']])\n",
        "pred_test = logit.predict_proba(X_test[['Cabin_mapped', 'sex']].fillna(0))\n",
        "\n",
        "print('Segmento de entrenamiento')\n",
        "print('Logistic regression roc-auc: {}'.format(roc_auc_score(y_train, pred_train[:,1])))\n",
        "print('Segmento de prueba')\n",
        "print('Logistic regression roc-auc: {}'.format(roc_auc_score(y_test, pred_test[:,1])))"
      ],
      "execution_count": 133,
      "outputs": [
        {
          "output_type": "stream",
          "text": [
            "Segmento de entrenamiento\n",
            "Logistic regression roc-auc: 0.8133909298124677\n",
            "Segmento de prueba\n",
            "Logistic regression roc-auc: 0.7750815773463858\n"
          ],
          "name": "stdout"
        }
      ]
    },
    {
      "cell_type": "code",
      "metadata": {
        "id": "QHm-4VH8W3OC",
        "colab_type": "code",
        "colab": {
          "base_uri": "https://localhost:8080/",
          "height": 85
        },
        "outputId": "fee6c3ed-4f9c-4dd3-dc9a-be700078fcb3"
      },
      "source": [
        "# modelo construido con datos de baja cardinalidad para cabin\n",
        "\n",
        "# iniciar modelo\n",
        "logit = LogisticRegression(random_state=44, solver='lbfgs')\n",
        "\n",
        "# entrenar modelo\n",
        "logit.fit(X_train[['Cabin_reduced', 'sex']], y_train)\n",
        "\n",
        "#  hacer predicciones en el segmento de prueba y entrenamiento \n",
        "pred_train = logit.predict_proba(X_train[['Cabin_reduced', 'sex']])\n",
        "pred_test = logit.predict_proba(X_test[['Cabin_reduced', 'sex']].fillna(0))\n",
        "\n",
        "print('Segmento de entrenamiento')\n",
        "print('Logistic regression roc-auc: {}'.format(roc_auc_score(y_train, pred_train[:,1])))\n",
        "print('Segmento de prueba')\n",
        "print('Logistic regression roc-auc: {}'.format(roc_auc_score(y_test, pred_test[:,1])))"
      ],
      "execution_count": 134,
      "outputs": [
        {
          "output_type": "stream",
          "text": [
            "Segmento de entrenamiento\n",
            "Logistic regression roc-auc: 0.8123468468695123\n",
            "Segmento de prueba\n",
            "Logistic regression roc-auc: 0.8008268347989602\n"
          ],
          "name": "stdout"
        }
      ]
    },
    {
      "cell_type": "markdown",
      "metadata": {
        "id": "hyqecirXXAeE",
        "colab_type": "text"
      },
      "source": [
        "Podemos sacar la misma conclusión con la Regresión Logistica: reducir la cardinalidad mejora el desempeño del modelo y el poder de generalización del mismo\n"
      ]
    },
    {
      "cell_type": "markdown",
      "metadata": {
        "id": "Qk6gCM1yXDU6",
        "colab_type": "text"
      },
      "source": [
        "### Gradient Boosted Classifier - Máquina de potenciación del gradiente"
      ]
    },
    {
      "cell_type": "code",
      "metadata": {
        "id": "ES3ygRf8W7nN",
        "colab_type": "code",
        "colab": {
          "base_uri": "https://localhost:8080/",
          "height": 85
        },
        "outputId": "9118fa30-9c42-41bf-e427-386b7379fd4a"
      },
      "source": [
        "# Construir modelo con datos con variedad categorias\n",
        "# en la variable cabin\n",
        "\n",
        "# iniciar modelo\n",
        "gbc = GradientBoostingClassifier(n_estimators=300, random_state=44)\n",
        "\n",
        "# entrenar modelo\n",
        "gbc.fit(X_train[['Cabin_mapped', 'sex']], y_train)\n",
        "\n",
        "#  hacer predicciones en el segmento de prueba y entrenamiento \n",
        "pred_train = gbc.predict_proba(X_train[['Cabin_mapped', 'sex']])\n",
        "pred_test = gbc.predict_proba(X_test[['Cabin_mapped', 'sex']].fillna(0))\n",
        "\n",
        "print('Segmento de entrenamiento')\n",
        "print('Máquina de potenciación del gradiente roc-auc: {}'.format(roc_auc_score(y_train, pred_train[:,1])))\n",
        "print('Segmento de prueba')\n",
        "print('Máquina de potenciación del gradiente roc-auc: {}'.format(roc_auc_score(y_test, pred_test[:,1])))\n",
        "\n"
      ],
      "execution_count": 135,
      "outputs": [
        {
          "output_type": "stream",
          "text": [
            "Segmento de entrenamiento\n",
            "Máquina de potenciación del gradiente roc-auc: 0.862631390919749\n",
            "Segmento de prueba\n",
            "Máquina de potenciación del gradiente roc-auc: 0.7733117637298823\n"
          ],
          "name": "stdout"
        }
      ]
    },
    {
      "cell_type": "code",
      "metadata": {
        "id": "DPfXdxFEXF_5",
        "colab_type": "code",
        "colab": {
          "base_uri": "https://localhost:8080/",
          "height": 85
        },
        "outputId": "e4cd2a91-aa57-4b26-b262-0342fccbf2b7"
      },
      "source": [
        "# Construir modelo con datos con variedad categorias\n",
        "# en la variable cabin\n",
        "\n",
        "# iniciar modelo\n",
        "gbc = GradientBoostingClassifier(n_estimators=300, random_state=44)\n",
        "\n",
        "# entrenar modelo\n",
        "gbc.fit(X_train[['Cabin_reduced', 'sex']], y_train)\n",
        "\n",
        "#  hacer predicciones en el segmento de prueba y entrenamiento \n",
        "pred_train = gbc.predict_proba(X_train[['Cabin_reduced', 'sex']])\n",
        "pred_test = gbc.predict_proba(X_test[['Cabin_reduced', 'sex']].fillna(0))\n",
        "\n",
        "\n",
        "print('Segmento de entrenamiento')\n",
        "print('Máquina de potenciación del gradiente roc-auc: {}'.format(roc_auc_score(y_train, pred_train[:,1])))\n",
        "print('Segmento de prueba')\n",
        "print('Máquina de potenciación del gradiente roc-auc: {}'.format(roc_auc_score(y_test, pred_test[:,1])))"
      ],
      "execution_count": 136,
      "outputs": [
        {
          "output_type": "stream",
          "text": [
            "Segmento de entrenamiento\n",
            "Máquina de potenciación del gradiente roc-auc: 0.816719415917359\n",
            "Segmento de prueba\n",
            "Máquina de potenciación del gradiente roc-auc: 0.8015181682429069\n"
          ],
          "name": "stdout"
        }
      ]
    },
    {
      "cell_type": "markdown",
      "metadata": {
        "id": "9sV4jwxlXM4l",
        "colab_type": "text"
      },
      "source": [
        "Gradient Boosted trees sobre ajustan al segmento de entrenamiento en los casos donde la variable cabin tiene muchas etiquetas. Esto es de esperarse ya que los métodos basados en arboles tienden a sesgarse cuando hay muchas categorías en una variable.\n"
      ]
    },
    {
      "cell_type": "code",
      "metadata": {
        "id": "iG6I4M0kXJj-",
        "colab_type": "code",
        "colab": {}
      },
      "source": [
        ""
      ],
      "execution_count": null,
      "outputs": []
    }
  ]
}