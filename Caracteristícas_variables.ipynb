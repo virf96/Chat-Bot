{
  "nbformat": 4,
  "nbformat_minor": 0,
  "metadata": {
    "colab": {
      "name": "Untitled2.ipynb",
      "provenance": [],
      "authorship_tag": "ABX9TyOjP4mlcjnLQKBizefNMRSe",
      "include_colab_link": true
    },
    "kernelspec": {
      "name": "python3",
      "display_name": "Python 3"
    }
  },
  "cells": [
    {
      "cell_type": "markdown",
      "metadata": {
        "id": "view-in-github",
        "colab_type": "text"
      },
      "source": [
        "<a href=\"https://colab.research.google.com/github/virf96/Chat-Bot/blob/master/Caracterist%C3%ADcas_variables.ipynb\" target=\"_parent\"><img src=\"https://colab.research.google.com/assets/colab-badge.svg\" alt=\"Open In Colab\"/></a>"
      ]
    },
    {
      "cell_type": "markdown",
      "metadata": {
        "id": "X1mIfjUcjWKg",
        "colab_type": "text"
      },
      "source": [
        "#Caracteristícas de las variables\n",
        "\n",
        "**¿Que debemos considerar cuando analizamos variables?**\n",
        "\n",
        "**1.- Datos Faltantes** (Falta de información para algunas observaciones dentro de una variable)\n",
        "\n",
        "**2.- Variables Categóricas** (Variables que contienen cadena de caracteres en lugar de números)\n",
        "\n",
        "**3.- Condiciones de modelos lineales** (Cumplen las variables con dichas condiciones)\n",
        "\n",
        "**4.- Distribución** (Normal, sesgada, entre otras)\n",
        "\n",
        "**5.- Valores extremos** (Valores inusuales o inesperados)\n",
        "\n",
        "**6.- Magnitud** (Escala o rango de las variables)"
      ]
    },
    {
      "cell_type": "code",
      "metadata": {
        "id": "Xer6jH6ZidRB",
        "colab_type": "code",
        "colab": {}
      },
      "source": [
        ""
      ],
      "execution_count": null,
      "outputs": []
    }
  ]
}