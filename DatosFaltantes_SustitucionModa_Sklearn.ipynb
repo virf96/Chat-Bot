{
  "nbformat": 4,
  "nbformat_minor": 0,
  "metadata": {
    "kernelspec": {
      "display_name": "feml",
      "language": "python",
      "name": "feml"
    },
    "language_info": {
      "codemirror_mode": {
        "name": "ipython",
        "version": 3
      },
      "file_extension": ".py",
      "mimetype": "text/x-python",
      "name": "python",
      "nbconvert_exporter": "python",
      "pygments_lexer": "ipython3",
      "version": "3.7.3"
    },
    "toc": {
      "nav_menu": {},
      "number_sections": true,
      "sideBar": true,
      "skip_h1_title": false,
      "toc_cell": false,
      "toc_position": {},
      "toc_section_display": true,
      "toc_window_display": true
    },
    "colab": {
      "name": "DatosFaltantes_SustitucionModa_Sklearn.ipynb",
      "provenance": [],
      "toc_visible": true,
      "include_colab_link": true
    }
  },
  "cells": [
    {
      "cell_type": "markdown",
      "metadata": {
        "id": "view-in-github",
        "colab_type": "text"
      },
      "source": [
        "<a href=\"https://colab.research.google.com/github/virf96/Chat-Bot/blob/master/DatosFaltantes_SustitucionModa_Sklearn.ipynb\" target=\"_parent\"><img src=\"https://colab.research.google.com/assets/colab-badge.svg\" alt=\"Open In Colab\"/></a>"
      ]
    },
    {
      "cell_type": "markdown",
      "metadata": {
        "id": "Pt1MVShNmpzC"
      },
      "source": [
        "## Sustitución por la moda | categoría más frecuente con Scikit-learn ==> SimpleImputer \n",
        "\n",
        "En la librería Scikit-learn hay una clase para manejar una gran variedad de métodos de sustitución.\n",
        "\n",
        "El **SimpleImputer** es una clase que provee funcionalidad básica para la sustitución de valores ausentes, incluyendo:\n",
        "\n",
        "- Sustitución por la media y la mediana para variables numéricas\n",
        "- Sustitución por la categoría más frecuente para variables categóricas.\n",
        "- Sustitución por valores arbitrarios para variables numéricas y categóricas.\n",
        "\n",
        "### Ventajas\n",
        "\n",
        "- Fácil de usar si se aplica a todo el dataframe\n",
        "- Código mantenido por desarrolladores de Scikit-learn: buena calidad\n",
        "- Rápida computación (usa NumPy para los cálculos)\n",
        "- Permite usar grid-search (búsqueda en cuadrículas) para varios métodos de sustitución\n",
        "- Permite usar diferentes valores para codificar ausencia de datos (se puede indicar si por ejemplo los valores nulos son np.nan, ceros, cadenas de caracteres vacías, u otros)\n",
        "\n",
        "### Limitaciones\n",
        "\n",
        "- Retorna un arreglo de NumPy en lugar de un dataframe de pandas, lo cual es inconveniente para el análisis de datos\n",
        "- Necesita usar clases adicionales para seleccionar cuales variables se deben sustituir ==>\n",
        "    - requiere líneas de código adicional\n",
        "    - requiere ser usado con otras clases\n",
        "    - no es tan sencillo de usar\n",
        "    \n",
        "### Más detalles acerca de los transformadores (transformers en inglés)\n",
        "\n",
        "- [SimpleImputer](https://scikit-learn.org/stable/modules/generated/sklearn.impute.SimpleImputer.html#sklearn.impute.SimpleImputer)\n",
        "- [ColumnTransformer](https://scikit-learn.org/stable/modules/generated/sklearn.compose.ColumnTransformer.html)\n",
        "- [Stackoverflow](https://stackoverflow.com/questions/54160370/how-to-use-sklearn-column-transformer)\n",
        "\n",
        "## En este demo:\n",
        "\n",
        "Vamos a aprender **sustitución por moda | categoría más frecuente usando Scikit-learn** usando los datos Ames House Price.\n",
        "\n",
        "- Para bajar los datos, por favor referirse a la clase **Datasets** en la  **Sección 1** del curso.\n",
        "\n",
        "### Nota: \n",
        "* 'Imputer' se deriva del verbo en inglés 'to impute' que quiere decir sustituir o reemplazar. Imputer es el objeto que completa la sustitución, de ahí el nombre dado a la clase.\n",
        "* 'slicing' significa seleccionar conjuntos de datos (columnas/filas) de un ‘DataFrame’.\n",
        "\n"
      ]
    },
    {
      "cell_type": "code",
      "metadata": {
        "id": "jki7OXqgmpzD"
      },
      "source": [
        "import pandas as pd\n",
        "import numpy as np\n",
        "\n",
        "import matplotlib.pyplot as plt\n",
        "\n",
        "# estas son las clases para sustitutición con sklearn\n",
        "from sklearn.impute import SimpleImputer\n",
        "from sklearn.compose import ColumnTransformer\n",
        "from sklearn.pipeline import Pipeline\n",
        "\n",
        "# dividir dataset\n",
        "from sklearn.model_selection import train_test_split"
      ],
      "execution_count": 1,
      "outputs": []
    },
    {
      "cell_type": "code",
      "metadata": {
        "id": "EWFEpeE8mpzG"
      },
      "source": [
        "# solo usaremos las siguientes variables en el demo:\n",
        "# una mezcla de  variables categóricas y numéricas\n",
        "\n",
        "cols_to_use = ['BsmtQual', 'FireplaceQu', 'MSZoning',\n",
        "               'BsmtUnfSF', 'LotFrontage', 'MasVnrArea',\n",
        "               'Street', 'Alley', 'SalePrice']"
      ],
      "execution_count": 2,
      "outputs": []
    },
    {
      "cell_type": "code",
      "metadata": {
        "id": "SX6zh4b8Q04m",
        "outputId": "d2ca1508-ee6c-4720-b206-f5c24dcd3caa",
        "colab": {
          "base_uri": "https://localhost:8080/",
          "height": 34
        }
      },
      "source": [
        "from google.colab import drive\n",
        "drive.mount('/content/drive')"
      ],
      "execution_count": 3,
      "outputs": [
        {
          "output_type": "stream",
          "text": [
            "Mounted at /content/drive\n"
          ],
          "name": "stdout"
        }
      ]
    },
    {
      "cell_type": "code",
      "metadata": {
        "id": "aJtHdMRJmpzI",
        "outputId": "7cdd1b5c-51fc-40f8-d2ae-20f0c3d74e6b",
        "colab": {
          "base_uri": "https://localhost:8080/",
          "height": 221
        }
      },
      "source": [
        "# carguemos los datos\n",
        "\n",
        "data = pd.read_csv('/content/drive/My Drive/datasets/houseprice.csv', usecols=cols_to_use)\n",
        "print(data.shape)\n",
        "data.head()"
      ],
      "execution_count": 4,
      "outputs": [
        {
          "output_type": "stream",
          "text": [
            "(1460, 9)\n"
          ],
          "name": "stdout"
        },
        {
          "output_type": "execute_result",
          "data": {
            "text/html": [
              "<div>\n",
              "<style scoped>\n",
              "    .dataframe tbody tr th:only-of-type {\n",
              "        vertical-align: middle;\n",
              "    }\n",
              "\n",
              "    .dataframe tbody tr th {\n",
              "        vertical-align: top;\n",
              "    }\n",
              "\n",
              "    .dataframe thead th {\n",
              "        text-align: right;\n",
              "    }\n",
              "</style>\n",
              "<table border=\"1\" class=\"dataframe\">\n",
              "  <thead>\n",
              "    <tr style=\"text-align: right;\">\n",
              "      <th></th>\n",
              "      <th>MSZoning</th>\n",
              "      <th>LotFrontage</th>\n",
              "      <th>Street</th>\n",
              "      <th>Alley</th>\n",
              "      <th>MasVnrArea</th>\n",
              "      <th>BsmtQual</th>\n",
              "      <th>BsmtUnfSF</th>\n",
              "      <th>FireplaceQu</th>\n",
              "      <th>SalePrice</th>\n",
              "    </tr>\n",
              "  </thead>\n",
              "  <tbody>\n",
              "    <tr>\n",
              "      <th>0</th>\n",
              "      <td>RL</td>\n",
              "      <td>65.0</td>\n",
              "      <td>Pave</td>\n",
              "      <td>NaN</td>\n",
              "      <td>196.0</td>\n",
              "      <td>Gd</td>\n",
              "      <td>150</td>\n",
              "      <td>NaN</td>\n",
              "      <td>208500</td>\n",
              "    </tr>\n",
              "    <tr>\n",
              "      <th>1</th>\n",
              "      <td>RL</td>\n",
              "      <td>80.0</td>\n",
              "      <td>Pave</td>\n",
              "      <td>NaN</td>\n",
              "      <td>0.0</td>\n",
              "      <td>Gd</td>\n",
              "      <td>284</td>\n",
              "      <td>TA</td>\n",
              "      <td>181500</td>\n",
              "    </tr>\n",
              "    <tr>\n",
              "      <th>2</th>\n",
              "      <td>RL</td>\n",
              "      <td>68.0</td>\n",
              "      <td>Pave</td>\n",
              "      <td>NaN</td>\n",
              "      <td>162.0</td>\n",
              "      <td>Gd</td>\n",
              "      <td>434</td>\n",
              "      <td>TA</td>\n",
              "      <td>223500</td>\n",
              "    </tr>\n",
              "    <tr>\n",
              "      <th>3</th>\n",
              "      <td>RL</td>\n",
              "      <td>60.0</td>\n",
              "      <td>Pave</td>\n",
              "      <td>NaN</td>\n",
              "      <td>0.0</td>\n",
              "      <td>TA</td>\n",
              "      <td>540</td>\n",
              "      <td>Gd</td>\n",
              "      <td>140000</td>\n",
              "    </tr>\n",
              "    <tr>\n",
              "      <th>4</th>\n",
              "      <td>RL</td>\n",
              "      <td>84.0</td>\n",
              "      <td>Pave</td>\n",
              "      <td>NaN</td>\n",
              "      <td>350.0</td>\n",
              "      <td>Gd</td>\n",
              "      <td>490</td>\n",
              "      <td>TA</td>\n",
              "      <td>250000</td>\n",
              "    </tr>\n",
              "  </tbody>\n",
              "</table>\n",
              "</div>"
            ],
            "text/plain": [
              "  MSZoning  LotFrontage Street Alley  ...  BsmtQual BsmtUnfSF  FireplaceQu SalePrice\n",
              "0       RL         65.0   Pave   NaN  ...        Gd       150          NaN    208500\n",
              "1       RL         80.0   Pave   NaN  ...        Gd       284           TA    181500\n",
              "2       RL         68.0   Pave   NaN  ...        Gd       434           TA    223500\n",
              "3       RL         60.0   Pave   NaN  ...        TA       540           Gd    140000\n",
              "4       RL         84.0   Pave   NaN  ...        Gd       490           TA    250000\n",
              "\n",
              "[5 rows x 9 columns]"
            ]
          },
          "metadata": {
            "tags": []
          },
          "execution_count": 4
        }
      ]
    },
    {
      "cell_type": "code",
      "metadata": {
        "id": "PV6EMRdDmpzL",
        "outputId": "442ebf1b-5ea5-4741-bdb2-40bf4adb7c82",
        "colab": {
          "base_uri": "https://localhost:8080/",
          "height": 187
        }
      },
      "source": [
        "# revisemos los valores nulos\n",
        "\n",
        "data.isnull().mean().sort_values(ascending=False)"
      ],
      "execution_count": 5,
      "outputs": [
        {
          "output_type": "execute_result",
          "data": {
            "text/plain": [
              "Alley          0.937671\n",
              "FireplaceQu    0.472603\n",
              "LotFrontage    0.177397\n",
              "BsmtQual       0.025342\n",
              "MasVnrArea     0.005479\n",
              "SalePrice      0.000000\n",
              "BsmtUnfSF      0.000000\n",
              "Street         0.000000\n",
              "MSZoning       0.000000\n",
              "dtype: float64"
            ]
          },
          "metadata": {
            "tags": []
          },
          "execution_count": 5
        }
      ]
    },
    {
      "cell_type": "code",
      "metadata": {
        "id": "IivF7sckmpzN",
        "outputId": "366b9bdf-2dba-40c5-b56d-4ebe65aee3bd",
        "colab": {
          "base_uri": "https://localhost:8080/",
          "height": 34
        }
      },
      "source": [
        "# separar datos en segmentos entrenamiento y prueba\n",
        "\n",
        "# primero, separemos el target (SalePrice) del resto de las variables (features)\n",
        "cols_to_use.remove('SalePrice')\n",
        "\n",
        "X_train, X_test, y_train, y_test = train_test_split(data[cols_to_use], # solo las variables\n",
        "                                                    data['SalePrice'], # el target\n",
        "                                                    test_size=0.3, # el porcentaje de obs en el segmento de prueba\n",
        "                                                    random_state=0) # para reproducir\n",
        "X_train.shape, X_test.shape"
      ],
      "execution_count": 6,
      "outputs": [
        {
          "output_type": "execute_result",
          "data": {
            "text/plain": [
              "((1022, 8), (438, 8))"
            ]
          },
          "metadata": {
            "tags": []
          },
          "execution_count": 6
        }
      ]
    },
    {
      "cell_type": "code",
      "metadata": {
        "id": "unGFoXDzmpzP",
        "outputId": "c5e3b104-2380-4a90-b088-b3e20144eff8",
        "colab": {
          "base_uri": "https://localhost:8080/",
          "height": 170
        }
      },
      "source": [
        "# evaluemos el porcentaje de datos ausentes nuevamente\n",
        "#El porcentaje de missing values a cambiado ligeramente ya que solo trabajamos con el 70% del set original\n",
        "#El target no esta considerado\n",
        "X_train.isnull().mean().sort_values(ascending=False)"
      ],
      "execution_count": 9,
      "outputs": [
        {
          "output_type": "execute_result",
          "data": {
            "text/plain": [
              "Alley          0.939335\n",
              "FireplaceQu    0.467710\n",
              "LotFrontage    0.184932\n",
              "BsmtQual       0.023483\n",
              "MasVnrArea     0.004892\n",
              "Street         0.000000\n",
              "BsmtUnfSF      0.000000\n",
              "MSZoning       0.000000\n",
              "dtype: float64"
            ]
          },
          "metadata": {
            "tags": []
          },
          "execution_count": 9
        }
      ]
    },
    {
      "cell_type": "markdown",
      "metadata": {
        "id": "UFj2NDyYmpzS"
      },
      "source": [
        "### SimpleImputer en el conjunto de datos"
      ]
    },
    {
      "cell_type": "code",
      "metadata": {
        "id": "luVBnPDXmpzS",
        "outputId": "0d85c3da-89c1-44b6-ac93-e9648435b360",
        "colab": {
          "base_uri": "https://localhost:8080/",
          "height": 51
        }
      },
      "source": [
        "# Ahora sustituyamos los valores faltantes con  SimpleImputer\n",
        "\n",
        "# creemos una instancia de la clase SimpleImputer\n",
        "# indicaremos que queremos sustituir con la\n",
        "# categoría más frecuente\n",
        "\n",
        "imputer = SimpleImputer(strategy='most_frequent')\n",
        "\n",
        "# ajustamos el imputer al segmento de entrenamiento\n",
        "# el imputer aprende cual es la moda para todas las variables, categóricas o no\n",
        "\n",
        "imputer.fit(X_train[cols_to_use])"
      ],
      "execution_count": 10,
      "outputs": [
        {
          "output_type": "execute_result",
          "data": {
            "text/plain": [
              "SimpleImputer(add_indicator=False, copy=True, fill_value=None,\n",
              "              missing_values=nan, strategy='most_frequent', verbose=0)"
            ]
          },
          "metadata": {
            "tags": []
          },
          "execution_count": 10
        }
      ]
    },
    {
      "cell_type": "code",
      "metadata": {
        "id": "jTKCAWxvmpzX",
        "outputId": "94353df9-bc6c-4351-ce2a-bad93948a450",
        "colab": {
          "base_uri": "https://localhost:8080/",
          "height": 34
        }
      },
      "source": [
        "# podemos ver los valores más frecuentes aprendidos asi:\n",
        "imputer.statistics_"
      ],
      "execution_count": 11,
      "outputs": [
        {
          "output_type": "execute_result",
          "data": {
            "text/plain": [
              "array(['TA', 'Gd', 'RL', 0, 60.0, 0.0, 'Pave', 'Pave'], dtype=object)"
            ]
          },
          "metadata": {
            "tags": []
          },
          "execution_count": 11
        }
      ]
    },
    {
      "cell_type": "markdown",
      "metadata": {
        "id": "xN4IYv83mpzZ"
      },
      "source": [
        "**Nota** el transformador aprende cual es el valor mas frecuente para las variables categóricas y numéricas"
      ]
    },
    {
      "cell_type": "code",
      "metadata": {
        "id": "e6gmXReumpzZ",
        "outputId": "616922b0-a754-402d-a0b6-0cb7b08da775",
        "colab": {
          "base_uri": "https://localhost:8080/",
          "height": 80
        }
      },
      "source": [
        "# podemos investigar los valores más frecuentes para corroborar que el imputer\n",
        "# hizo un buen trabajo\n",
        "\n",
        "X_train[cols_to_use].mode()"
      ],
      "execution_count": 12,
      "outputs": [
        {
          "output_type": "execute_result",
          "data": {
            "text/html": [
              "<div>\n",
              "<style scoped>\n",
              "    .dataframe tbody tr th:only-of-type {\n",
              "        vertical-align: middle;\n",
              "    }\n",
              "\n",
              "    .dataframe tbody tr th {\n",
              "        vertical-align: top;\n",
              "    }\n",
              "\n",
              "    .dataframe thead th {\n",
              "        text-align: right;\n",
              "    }\n",
              "</style>\n",
              "<table border=\"1\" class=\"dataframe\">\n",
              "  <thead>\n",
              "    <tr style=\"text-align: right;\">\n",
              "      <th></th>\n",
              "      <th>BsmtQual</th>\n",
              "      <th>FireplaceQu</th>\n",
              "      <th>MSZoning</th>\n",
              "      <th>BsmtUnfSF</th>\n",
              "      <th>LotFrontage</th>\n",
              "      <th>MasVnrArea</th>\n",
              "      <th>Street</th>\n",
              "      <th>Alley</th>\n",
              "    </tr>\n",
              "  </thead>\n",
              "  <tbody>\n",
              "    <tr>\n",
              "      <th>0</th>\n",
              "      <td>TA</td>\n",
              "      <td>Gd</td>\n",
              "      <td>RL</td>\n",
              "      <td>0</td>\n",
              "      <td>60.0</td>\n",
              "      <td>0.0</td>\n",
              "      <td>Pave</td>\n",
              "      <td>Pave</td>\n",
              "    </tr>\n",
              "  </tbody>\n",
              "</table>\n",
              "</div>"
            ],
            "text/plain": [
              "  BsmtQual FireplaceQu MSZoning  ...  MasVnrArea  Street  Alley\n",
              "0       TA          Gd       RL  ...         0.0    Pave   Pave\n",
              "\n",
              "[1 rows x 8 columns]"
            ]
          },
          "metadata": {
            "tags": []
          },
          "execution_count": 12
        }
      ]
    },
    {
      "cell_type": "code",
      "metadata": {
        "id": "ExcT9JxSmpzb",
        "outputId": "78275fc8-15b3-42ad-be3a-0f28600f97f0",
        "colab": {
          "base_uri": "https://localhost:8080/",
          "height": 136
        }
      },
      "source": [
        "# ahora sustituyamos los datos ausentes en los segmentos de entrenamiento y prueba\n",
        "\n",
        "# NOTA: los datos son devueltos como un numpy array!!\n",
        "\n",
        "X_train = imputer.transform(X_train)\n",
        "X_test = imputer.transform(X_test)\n",
        "\n",
        "X_train"
      ],
      "execution_count": 13,
      "outputs": [
        {
          "output_type": "execute_result",
          "data": {
            "text/plain": [
              "array([['Gd', 'Gd', 'RL', ..., 573.0, 'Pave', 'Pave'],\n",
              "       ['Gd', 'Gd', 'RL', ..., 0.0, 'Pave', 'Pave'],\n",
              "       ['TA', 'Gd', 'RL', ..., 0.0, 'Pave', 'Pave'],\n",
              "       ...,\n",
              "       ['TA', 'Gd', 'RM', ..., 0.0, 'Pave', 'Pave'],\n",
              "       ['Gd', 'TA', 'RL', ..., 18.0, 'Pave', 'Pave'],\n",
              "       ['Gd', 'Gd', 'RL', ..., 30.0, 'Pave', 'Pave']], dtype=object)"
            ]
          },
          "metadata": {
            "tags": []
          },
          "execution_count": 13
        }
      ]
    },
    {
      "cell_type": "code",
      "metadata": {
        "id": "0AO190dimpzd",
        "outputId": "823200d4-4e80-4853-c0d7-a34722482bca",
        "colab": {
          "base_uri": "https://localhost:8080/",
          "height": 204
        }
      },
      "source": [
        "# transformar el segmento de entrenamiento de vuelta en un dataframe:\n",
        "\n",
        "pd.DataFrame(X_train, columns=cols_to_use).head()"
      ],
      "execution_count": 14,
      "outputs": [
        {
          "output_type": "execute_result",
          "data": {
            "text/html": [
              "<div>\n",
              "<style scoped>\n",
              "    .dataframe tbody tr th:only-of-type {\n",
              "        vertical-align: middle;\n",
              "    }\n",
              "\n",
              "    .dataframe tbody tr th {\n",
              "        vertical-align: top;\n",
              "    }\n",
              "\n",
              "    .dataframe thead th {\n",
              "        text-align: right;\n",
              "    }\n",
              "</style>\n",
              "<table border=\"1\" class=\"dataframe\">\n",
              "  <thead>\n",
              "    <tr style=\"text-align: right;\">\n",
              "      <th></th>\n",
              "      <th>BsmtQual</th>\n",
              "      <th>FireplaceQu</th>\n",
              "      <th>MSZoning</th>\n",
              "      <th>BsmtUnfSF</th>\n",
              "      <th>LotFrontage</th>\n",
              "      <th>MasVnrArea</th>\n",
              "      <th>Street</th>\n",
              "      <th>Alley</th>\n",
              "    </tr>\n",
              "  </thead>\n",
              "  <tbody>\n",
              "    <tr>\n",
              "      <th>0</th>\n",
              "      <td>Gd</td>\n",
              "      <td>Gd</td>\n",
              "      <td>RL</td>\n",
              "      <td>318</td>\n",
              "      <td>60</td>\n",
              "      <td>573</td>\n",
              "      <td>Pave</td>\n",
              "      <td>Pave</td>\n",
              "    </tr>\n",
              "    <tr>\n",
              "      <th>1</th>\n",
              "      <td>Gd</td>\n",
              "      <td>Gd</td>\n",
              "      <td>RL</td>\n",
              "      <td>288</td>\n",
              "      <td>60</td>\n",
              "      <td>0</td>\n",
              "      <td>Pave</td>\n",
              "      <td>Pave</td>\n",
              "    </tr>\n",
              "    <tr>\n",
              "      <th>2</th>\n",
              "      <td>TA</td>\n",
              "      <td>Gd</td>\n",
              "      <td>RL</td>\n",
              "      <td>162</td>\n",
              "      <td>50</td>\n",
              "      <td>0</td>\n",
              "      <td>Pave</td>\n",
              "      <td>Pave</td>\n",
              "    </tr>\n",
              "    <tr>\n",
              "      <th>3</th>\n",
              "      <td>TA</td>\n",
              "      <td>Gd</td>\n",
              "      <td>RL</td>\n",
              "      <td>356</td>\n",
              "      <td>60</td>\n",
              "      <td>0</td>\n",
              "      <td>Pave</td>\n",
              "      <td>Pave</td>\n",
              "    </tr>\n",
              "    <tr>\n",
              "      <th>4</th>\n",
              "      <td>TA</td>\n",
              "      <td>Gd</td>\n",
              "      <td>RL</td>\n",
              "      <td>0</td>\n",
              "      <td>60</td>\n",
              "      <td>0</td>\n",
              "      <td>Pave</td>\n",
              "      <td>Pave</td>\n",
              "    </tr>\n",
              "  </tbody>\n",
              "</table>\n",
              "</div>"
            ],
            "text/plain": [
              "  BsmtQual FireplaceQu MSZoning BsmtUnfSF LotFrontage MasVnrArea Street Alley\n",
              "0       Gd          Gd       RL       318          60        573   Pave  Pave\n",
              "1       Gd          Gd       RL       288          60          0   Pave  Pave\n",
              "2       TA          Gd       RL       162          50          0   Pave  Pave\n",
              "3       TA          Gd       RL       356          60          0   Pave  Pave\n",
              "4       TA          Gd       RL         0          60          0   Pave  Pave"
            ]
          },
          "metadata": {
            "tags": []
          },
          "execution_count": 14
        }
      ]
    },
    {
      "cell_type": "markdown",
      "metadata": {
        "id": "UD48TnK8mpzf"
      },
      "source": [
        "### SimpleImputer: diferentes métodos en diferentes variables"
      ]
    },
    {
      "cell_type": "code",
      "metadata": {
        "id": "ubOonORPmpzf",
        "outputId": "aeb63b61-0989-48bc-f15b-4ce37df3dc9b",
        "colab": {
          "base_uri": "https://localhost:8080/",
          "height": 34
        }
      },
      "source": [
        "# Separemos en segmentos para entrenamiento y prueba\n",
        "\n",
        "X_train, X_test, y_train, y_test = train_test_split(data[cols_to_use],\n",
        "                                                    data['SalePrice'],\n",
        "                                                    test_size=0.3,\n",
        "                                                    random_state=0)\n",
        "X_train.shape, X_test.shape"
      ],
      "execution_count": 15,
      "outputs": [
        {
          "output_type": "execute_result",
          "data": {
            "text/plain": [
              "((1022, 8), (438, 8))"
            ]
          },
          "metadata": {
            "tags": []
          },
          "execution_count": 15
        }
      ]
    },
    {
      "cell_type": "code",
      "metadata": {
        "id": "rNtBeuprmpzh",
        "outputId": "91238df2-369d-4186-b408-bcb1faa7bc77",
        "colab": {
          "base_uri": "https://localhost:8080/",
          "height": 170
        }
      },
      "source": [
        "# exploremps los valores nulos\n",
        "X_train.isnull().mean().sort_values(ascending=False)"
      ],
      "execution_count": 16,
      "outputs": [
        {
          "output_type": "execute_result",
          "data": {
            "text/plain": [
              "Alley          0.939335\n",
              "FireplaceQu    0.467710\n",
              "LotFrontage    0.184932\n",
              "BsmtQual       0.023483\n",
              "MasVnrArea     0.004892\n",
              "Street         0.000000\n",
              "BsmtUnfSF      0.000000\n",
              "MSZoning       0.000000\n",
              "dtype: float64"
            ]
          },
          "metadata": {
            "tags": []
          },
          "execution_count": 16
        }
      ]
    },
    {
      "cell_type": "markdown",
      "metadata": {
        "id": "ZWXKkVJnmpzj"
      },
      "source": [
        "Para este demo, vamos a sustituir:\n",
        "\n",
        "- variables categóricas con la categoría más frecuente\n",
        "- variables numéricas con la media\n"
      ]
    },
    {
      "cell_type": "code",
      "metadata": {
        "id": "6PyOSxMimpzk"
      },
      "source": [
        "# primero vamos a crear una lista, indicando cuales son las \n",
        "# variables a sustituir con cada método\n",
        "\n",
        "features_numeric = ['BsmtUnfSF', 'LotFrontage', 'MasVnrArea', ]\n",
        "features_categoric = ['BsmtQual', 'FireplaceQu', 'MSZoning',\n",
        "                      'Street', 'Alley']\n",
        "\n",
        "# luego vamos a instanciar imputers dentro de un pipeline\n",
        "# creamos un imputer por cada variable\n",
        "# indicando uno para la media y el otro para la categoría más frecuente\n",
        "# cambiando el parámetro en 'strategy'\n",
        "\n",
        "numeric_imputer = Pipeline(steps=[\n",
        "    ('imputer', SimpleImputer(strategy='mean')),\n",
        "])\n",
        "\n",
        "categoric_imputer = Pipeline(steps=[\n",
        "    ('imputer', SimpleImputer(strategy='most_frequent')),\n",
        "])\n",
        "\n",
        "# luego ponemos las variables en lista y los transformadores juntos\n",
        "# usando el ColumnTransformer\n",
        "\n",
        "preprocessor = ColumnTransformer(transformers=[\n",
        "    ('numeric_imputer', numeric_imputer, features_numeric),\n",
        "    ('categoric_imputer', categoric_imputer, features_categoric)\n",
        "])"
      ],
      "execution_count": 17,
      "outputs": []
    },
    {
      "cell_type": "code",
      "metadata": {
        "id": "yhfwn0Rzmpzm",
        "outputId": "ec2924e4-26f6-4127-859a-540c747aee5c",
        "colab": {
          "base_uri": "https://localhost:8080/",
          "height": 459
        }
      },
      "source": [
        "# ajustemos el preprocesador\n",
        "preprocessor.fit(X_train)"
      ],
      "execution_count": 18,
      "outputs": [
        {
          "output_type": "execute_result",
          "data": {
            "text/plain": [
              "ColumnTransformer(n_jobs=None, remainder='drop', sparse_threshold=0.3,\n",
              "                  transformer_weights=None,\n",
              "                  transformers=[('numeric_imputer',\n",
              "                                 Pipeline(memory=None,\n",
              "                                          steps=[('imputer',\n",
              "                                                  SimpleImputer(add_indicator=False,\n",
              "                                                                copy=True,\n",
              "                                                                fill_value=None,\n",
              "                                                                missing_values=nan,\n",
              "                                                                strategy='mean',\n",
              "                                                                verbose=0))],\n",
              "                                          verbose=False),\n",
              "                                 ['BsmtUnfSF', 'LotFrontage', 'MasVnrArea']),\n",
              "                                ('categoric_imputer',\n",
              "                                 Pipeline(memory=None,\n",
              "                                          steps=[('imputer',\n",
              "                                                  SimpleImputer(add_indicator=False,\n",
              "                                                                copy=True,\n",
              "                                                                fill_value=None,\n",
              "                                                                missing_values=nan,\n",
              "                                                                strategy='most_frequent',\n",
              "                                                                verbose=0))],\n",
              "                                          verbose=False),\n",
              "                                 ['BsmtQual', 'FireplaceQu', 'MSZoning',\n",
              "                                  'Street', 'Alley'])],\n",
              "                  verbose=False)"
            ]
          },
          "metadata": {
            "tags": []
          },
          "execution_count": 18
        }
      ]
    },
    {
      "cell_type": "code",
      "metadata": {
        "id": "9_9mhUzympzo",
        "outputId": "0061da10-46c7-4cd5-eef4-71f7656cf47f",
        "colab": {
          "base_uri": "https://localhost:8080/",
          "height": 289
        }
      },
      "source": [
        "# exploremos los transformers:\n",
        "\n",
        "preprocessor.transformers"
      ],
      "execution_count": 19,
      "outputs": [
        {
          "output_type": "execute_result",
          "data": {
            "text/plain": [
              "[('numeric_imputer', Pipeline(memory=None,\n",
              "           steps=[('imputer',\n",
              "                   SimpleImputer(add_indicator=False, copy=True, fill_value=None,\n",
              "                                 missing_values=nan, strategy='mean',\n",
              "                                 verbose=0))],\n",
              "           verbose=False), ['BsmtUnfSF', 'LotFrontage', 'MasVnrArea']),\n",
              " ('categoric_imputer', Pipeline(memory=None,\n",
              "           steps=[('imputer',\n",
              "                   SimpleImputer(add_indicator=False, copy=True, fill_value=None,\n",
              "                                 missing_values=nan, strategy='most_frequent',\n",
              "                                 verbose=0))],\n",
              "           verbose=False), ['BsmtQual',\n",
              "   'FireplaceQu',\n",
              "   'MSZoning',\n",
              "   'Street',\n",
              "   'Alley'])]"
            ]
          },
          "metadata": {
            "tags": []
          },
          "execution_count": 19
        }
      ]
    },
    {
      "cell_type": "code",
      "metadata": {
        "id": "eUUQ2lwqmpzq",
        "outputId": "13416651-4321-4b78-c354-906cc25869de",
        "colab": {
          "base_uri": "https://localhost:8080/",
          "height": 34
        }
      },
      "source": [
        "# exploremos los parámetros aprendidos:\n",
        "\n",
        "# para el imputer de la media ( variables numéricas)\n",
        "\n",
        "preprocessor.named_transformers_['numeric_imputer'].named_steps['imputer'].statistics_"
      ],
      "execution_count": 20,
      "outputs": [
        {
          "output_type": "execute_result",
          "data": {
            "text/plain": [
              "array([565.99217221,  69.66866747, 103.55358899])"
            ]
          },
          "metadata": {
            "tags": []
          },
          "execution_count": 20
        }
      ]
    },
    {
      "cell_type": "code",
      "metadata": {
        "id": "FNgtkX82mpzs",
        "outputId": "9403eaf0-f09b-4df8-f050-874f99443069",
        "colab": {
          "base_uri": "https://localhost:8080/",
          "height": 85
        }
      },
      "source": [
        "# corroboremos el valor para cada variable en el segmento de entrenamiento\n",
        "X_train[features_numeric].mean()"
      ],
      "execution_count": 21,
      "outputs": [
        {
          "output_type": "execute_result",
          "data": {
            "text/plain": [
              "BsmtUnfSF      565.992172\n",
              "LotFrontage     69.668667\n",
              "MasVnrArea     103.553589\n",
              "dtype: float64"
            ]
          },
          "metadata": {
            "tags": []
          },
          "execution_count": 21
        }
      ]
    },
    {
      "cell_type": "code",
      "metadata": {
        "id": "81EhGcvrmpzu",
        "outputId": "5f02963b-6418-4e67-9b3c-b2e2dec1b32d",
        "colab": {
          "base_uri": "https://localhost:8080/",
          "height": 34
        }
      },
      "source": [
        "# imputer para la categoría más frecuente\n",
        "preprocessor.named_transformers_['categoric_imputer'].named_steps['imputer'].statistics_"
      ],
      "execution_count": 22,
      "outputs": [
        {
          "output_type": "execute_result",
          "data": {
            "text/plain": [
              "array(['TA', 'Gd', 'RL', 'Pave', 'Pave'], dtype=object)"
            ]
          },
          "metadata": {
            "tags": []
          },
          "execution_count": 22
        }
      ]
    },
    {
      "cell_type": "code",
      "metadata": {
        "id": "f6kxCxoompzw",
        "outputId": "e680e308-5f08-4e0f-e566-a3d79428ae02",
        "colab": {
          "base_uri": "https://localhost:8080/",
          "height": 80
        }
      },
      "source": [
        "# corroboremos estos valores en el segmento de entrenamiento\n",
        "X_train[features_categoric].mode()"
      ],
      "execution_count": 23,
      "outputs": [
        {
          "output_type": "execute_result",
          "data": {
            "text/html": [
              "<div>\n",
              "<style scoped>\n",
              "    .dataframe tbody tr th:only-of-type {\n",
              "        vertical-align: middle;\n",
              "    }\n",
              "\n",
              "    .dataframe tbody tr th {\n",
              "        vertical-align: top;\n",
              "    }\n",
              "\n",
              "    .dataframe thead th {\n",
              "        text-align: right;\n",
              "    }\n",
              "</style>\n",
              "<table border=\"1\" class=\"dataframe\">\n",
              "  <thead>\n",
              "    <tr style=\"text-align: right;\">\n",
              "      <th></th>\n",
              "      <th>BsmtQual</th>\n",
              "      <th>FireplaceQu</th>\n",
              "      <th>MSZoning</th>\n",
              "      <th>Street</th>\n",
              "      <th>Alley</th>\n",
              "    </tr>\n",
              "  </thead>\n",
              "  <tbody>\n",
              "    <tr>\n",
              "      <th>0</th>\n",
              "      <td>TA</td>\n",
              "      <td>Gd</td>\n",
              "      <td>RL</td>\n",
              "      <td>Pave</td>\n",
              "      <td>Pave</td>\n",
              "    </tr>\n",
              "  </tbody>\n",
              "</table>\n",
              "</div>"
            ],
            "text/plain": [
              "  BsmtQual FireplaceQu MSZoning Street Alley\n",
              "0       TA          Gd       RL   Pave  Pave"
            ]
          },
          "metadata": {
            "tags": []
          },
          "execution_count": 23
        }
      ]
    },
    {
      "cell_type": "code",
      "metadata": {
        "id": "ZgmFk338mpzz"
      },
      "source": [
        "# y ahora sustituyamos en los segmentos de prueba y entrenamiento\n",
        "X_train = preprocessor.transform(X_train)\n",
        "X_test = preprocessor.transform(X_test)"
      ],
      "execution_count": 24,
      "outputs": []
    },
    {
      "cell_type": "code",
      "metadata": {
        "id": "7uzhimjzmpz1",
        "outputId": "a0e40a51-7224-4126-a024-e328be13f522",
        "colab": {
          "base_uri": "https://localhost:8080/",
          "height": 34
        }
      },
      "source": [
        "X_train.shape"
      ],
      "execution_count": 25,
      "outputs": [
        {
          "output_type": "execute_result",
          "data": {
            "text/plain": [
              "(1022, 8)"
            ]
          },
          "metadata": {
            "tags": []
          },
          "execution_count": 25
        }
      ]
    },
    {
      "cell_type": "code",
      "metadata": {
        "id": "u2_q3dEgmpz3",
        "outputId": "0594a267-caf5-4122-a04d-6d09d3c95978",
        "colab": {
          "base_uri": "https://localhost:8080/",
          "height": 204
        }
      },
      "source": [
        "# ahora veamos el resultado de la imputación en el dataframe de 3 columnas\n",
        "pd.DataFrame(X_train,\n",
        "             columns=features_numeric + features_categoric).head()"
      ],
      "execution_count": 26,
      "outputs": [
        {
          "output_type": "execute_result",
          "data": {
            "text/html": [
              "<div>\n",
              "<style scoped>\n",
              "    .dataframe tbody tr th:only-of-type {\n",
              "        vertical-align: middle;\n",
              "    }\n",
              "\n",
              "    .dataframe tbody tr th {\n",
              "        vertical-align: top;\n",
              "    }\n",
              "\n",
              "    .dataframe thead th {\n",
              "        text-align: right;\n",
              "    }\n",
              "</style>\n",
              "<table border=\"1\" class=\"dataframe\">\n",
              "  <thead>\n",
              "    <tr style=\"text-align: right;\">\n",
              "      <th></th>\n",
              "      <th>BsmtUnfSF</th>\n",
              "      <th>LotFrontage</th>\n",
              "      <th>MasVnrArea</th>\n",
              "      <th>BsmtQual</th>\n",
              "      <th>FireplaceQu</th>\n",
              "      <th>MSZoning</th>\n",
              "      <th>Street</th>\n",
              "      <th>Alley</th>\n",
              "    </tr>\n",
              "  </thead>\n",
              "  <tbody>\n",
              "    <tr>\n",
              "      <th>0</th>\n",
              "      <td>318</td>\n",
              "      <td>69.6687</td>\n",
              "      <td>573</td>\n",
              "      <td>Gd</td>\n",
              "      <td>Gd</td>\n",
              "      <td>RL</td>\n",
              "      <td>Pave</td>\n",
              "      <td>Pave</td>\n",
              "    </tr>\n",
              "    <tr>\n",
              "      <th>1</th>\n",
              "      <td>288</td>\n",
              "      <td>69.6687</td>\n",
              "      <td>0</td>\n",
              "      <td>Gd</td>\n",
              "      <td>Gd</td>\n",
              "      <td>RL</td>\n",
              "      <td>Pave</td>\n",
              "      <td>Pave</td>\n",
              "    </tr>\n",
              "    <tr>\n",
              "      <th>2</th>\n",
              "      <td>162</td>\n",
              "      <td>50</td>\n",
              "      <td>0</td>\n",
              "      <td>TA</td>\n",
              "      <td>Gd</td>\n",
              "      <td>RL</td>\n",
              "      <td>Pave</td>\n",
              "      <td>Pave</td>\n",
              "    </tr>\n",
              "    <tr>\n",
              "      <th>3</th>\n",
              "      <td>356</td>\n",
              "      <td>60</td>\n",
              "      <td>0</td>\n",
              "      <td>TA</td>\n",
              "      <td>Gd</td>\n",
              "      <td>RL</td>\n",
              "      <td>Pave</td>\n",
              "      <td>Pave</td>\n",
              "    </tr>\n",
              "    <tr>\n",
              "      <th>4</th>\n",
              "      <td>0</td>\n",
              "      <td>60</td>\n",
              "      <td>0</td>\n",
              "      <td>TA</td>\n",
              "      <td>Gd</td>\n",
              "      <td>RL</td>\n",
              "      <td>Pave</td>\n",
              "      <td>Pave</td>\n",
              "    </tr>\n",
              "  </tbody>\n",
              "</table>\n",
              "</div>"
            ],
            "text/plain": [
              "  BsmtUnfSF LotFrontage MasVnrArea BsmtQual FireplaceQu MSZoning Street Alley\n",
              "0       318     69.6687        573       Gd          Gd       RL   Pave  Pave\n",
              "1       288     69.6687          0       Gd          Gd       RL   Pave  Pave\n",
              "2       162          50          0       TA          Gd       RL   Pave  Pave\n",
              "3       356          60          0       TA          Gd       RL   Pave  Pave\n",
              "4         0          60          0       TA          Gd       RL   Pave  Pave"
            ]
          },
          "metadata": {
            "tags": []
          },
          "execution_count": 26
        }
      ]
    },
    {
      "cell_type": "markdown",
      "metadata": {
        "id": "febKz-wUmpz5"
      },
      "source": [
        "En este caso, pasamos todas las variables disponibles en los datos a los imputers de valores ausentes, por lo tanto el dataframe final contiene todas las variables"
      ]
    }
  ]
}