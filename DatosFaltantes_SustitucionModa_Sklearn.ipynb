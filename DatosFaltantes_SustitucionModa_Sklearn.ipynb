{
  "nbformat": 4,
  "nbformat_minor": 0,
  "metadata": {
    "kernelspec": {
      "display_name": "feml",
      "language": "python",
      "name": "feml"
    },
    "language_info": {
      "codemirror_mode": {
        "name": "ipython",
        "version": 3
      },
      "file_extension": ".py",
      "mimetype": "text/x-python",
      "name": "python",
      "nbconvert_exporter": "python",
      "pygments_lexer": "ipython3",
      "version": "3.7.3"
    },
    "toc": {
      "nav_menu": {},
      "number_sections": true,
      "sideBar": true,
      "skip_h1_title": false,
      "toc_cell": false,
      "toc_position": {},
      "toc_section_display": true,
      "toc_window_display": true
    },
    "colab": {
      "name": "DatosFaltantes_SustitucionModa_Sklearn.ipynb",
      "provenance": [],
      "include_colab_link": true
    }
  },
  "cells": [
    {
      "cell_type": "markdown",
      "metadata": {
        "id": "view-in-github",
        "colab_type": "text"
      },
      "source": [
        "<a href=\"https://colab.research.google.com/github/virf96/Chat-Bot/blob/master/DatosFaltantes_SustitucionModa_Sklearn.ipynb\" target=\"_parent\"><img src=\"https://colab.research.google.com/assets/colab-badge.svg\" alt=\"Open In Colab\"/></a>"
      ]
    },
    {
      "cell_type": "markdown",
      "metadata": {
        "id": "Pt1MVShNmpzC"
      },
      "source": [
        "## Sustitución por la moda | categoría más frecuente con Scikit-learn ==> SimpleImputer \n",
        "\n",
        "En la librería Scikit-learn hay una clase para manejar una gran variedad de métodos de sustitución.\n",
        "\n",
        "El **SimpleImputer** es una clase que provee funcionalidad básica para la sustitución de valores ausentes, incluyendo:\n",
        "\n",
        "- Sustitución por la media y la mediana para variables numéricas\n",
        "- Sustitución por la categoría más frecuente para variables categóricas.\n",
        "- Sustitución por valores arbitrarios para variables numéricas y categóricas.\n",
        "\n",
        "### Ventajas\n",
        "\n",
        "- Fácil de usar si se aplica a todo el dataframe\n",
        "- Código mantenido por desarrolladores de Scikit-learn: buena calidad\n",
        "- Rápida computación (usa NumPy para los cálculos)\n",
        "- Permite usar grid-search (búsqueda en cuadrículas) para varios métodos de sustitución\n",
        "- Permite usar diferentes valores para codificar ausencia de datos (se puede indicar si por ejemplo los valores nulos son np.nan, ceros, cadenas de caracteres vacías, u otros)\n",
        "\n",
        "### Limitaciones\n",
        "\n",
        "- Retorna un arreglo de NumPy en lugar de un dataframe de pandas, lo cual es inconveniente para el análisis de datos\n",
        "- Necesita usar clases adicionales para seleccionar cuales variables se deben sustituir ==>\n",
        "    - requiere líneas de código adicional\n",
        "    - requiere ser usado con otras clases\n",
        "    - no es tan sencillo de usar\n",
        "    \n",
        "### Más detalles acerca de los transformadores (transformers en inglés)\n",
        "\n",
        "- [SimpleImputer](https://scikit-learn.org/stable/modules/generated/sklearn.impute.SimpleImputer.html#sklearn.impute.SimpleImputer)\n",
        "- [ColumnTransformer](https://scikit-learn.org/stable/modules/generated/sklearn.compose.ColumnTransformer.html)\n",
        "- [Stackoverflow](https://stackoverflow.com/questions/54160370/how-to-use-sklearn-column-transformer)\n",
        "\n",
        "## En este demo:\n",
        "\n",
        "Vamos a aprender **sustitución por moda | categoría más frecuente usando Scikit-learn** usando los datos Ames House Price.\n",
        "\n",
        "- Para bajar los datos, por favor referirse a la clase **Datasets** en la  **Sección 1** del curso.\n",
        "\n",
        "### Nota: \n",
        "* 'Imputer' se deriva del verbo en inglés 'to impute' que quiere decir sustituir o reemplazar. Imputer es el objeto que completa la sustitución, de ahí el nombre dado a la clase.\n",
        "* 'slicing' significa seleccionar conjuntos de datos (columnas/filas) de un ‘DataFrame’.\n",
        "\n"
      ]
    },
    {
      "cell_type": "code",
      "metadata": {
        "id": "jki7OXqgmpzD"
      },
      "source": [
        "import pandas as pd\n",
        "import numpy as np\n",
        "\n",
        "import matplotlib.pyplot as plt\n",
        "\n",
        "# estas son las clases para sustitutición con sklearn\n",
        "from sklearn.impute import SimpleImputer\n",
        "from sklearn.compose import ColumnTransformer\n",
        "from sklearn.pipeline import Pipeline\n",
        "\n",
        "# dividir dataset\n",
        "from sklearn.model_selection import train_test_split"
      ],
      "execution_count": null,
      "outputs": []
    },
    {
      "cell_type": "code",
      "metadata": {
        "id": "EWFEpeE8mpzG"
      },
      "source": [
        "# solo usaremos las siguientes variables en el demo:\n",
        "# una mezcla de  variables categóricas y numéricas\n",
        "\n",
        "cols_to_use = ['BsmtQual', 'FireplaceQu', 'MSZoning',\n",
        "               'BsmtUnfSF', 'LotFrontage', 'MasVnrArea',\n",
        "               'Street', 'Alley', 'SalePrice']"
      ],
      "execution_count": null,
      "outputs": []
    },
    {
      "cell_type": "code",
      "metadata": {
        "id": "aJtHdMRJmpzI",
        "outputId": "3e137770-d049-4414-e083-0ba56b86bd8d"
      },
      "source": [
        "# carguemos los datos\n",
        "\n",
        "data = pd.read_csv('../houseprice.csv', usecols=cols_to_use)\n",
        "print(data.shape)\n",
        "data.head()"
      ],
      "execution_count": null,
      "outputs": [
        {
          "output_type": "stream",
          "text": [
            "(1460, 9)\n"
          ],
          "name": "stdout"
        },
        {
          "output_type": "execute_result",
          "data": {
            "text/html": [
              "<div>\n",
              "<style scoped>\n",
              "    .dataframe tbody tr th:only-of-type {\n",
              "        vertical-align: middle;\n",
              "    }\n",
              "\n",
              "    .dataframe tbody tr th {\n",
              "        vertical-align: top;\n",
              "    }\n",
              "\n",
              "    .dataframe thead th {\n",
              "        text-align: right;\n",
              "    }\n",
              "</style>\n",
              "<table border=\"1\" class=\"dataframe\">\n",
              "  <thead>\n",
              "    <tr style=\"text-align: right;\">\n",
              "      <th></th>\n",
              "      <th>MSZoning</th>\n",
              "      <th>LotFrontage</th>\n",
              "      <th>Street</th>\n",
              "      <th>Alley</th>\n",
              "      <th>MasVnrArea</th>\n",
              "      <th>BsmtQual</th>\n",
              "      <th>BsmtUnfSF</th>\n",
              "      <th>FireplaceQu</th>\n",
              "      <th>SalePrice</th>\n",
              "    </tr>\n",
              "  </thead>\n",
              "  <tbody>\n",
              "    <tr>\n",
              "      <td>0</td>\n",
              "      <td>RL</td>\n",
              "      <td>65.0</td>\n",
              "      <td>Pave</td>\n",
              "      <td>NaN</td>\n",
              "      <td>196.0</td>\n",
              "      <td>Gd</td>\n",
              "      <td>150</td>\n",
              "      <td>NaN</td>\n",
              "      <td>208500</td>\n",
              "    </tr>\n",
              "    <tr>\n",
              "      <td>1</td>\n",
              "      <td>RL</td>\n",
              "      <td>80.0</td>\n",
              "      <td>Pave</td>\n",
              "      <td>NaN</td>\n",
              "      <td>0.0</td>\n",
              "      <td>Gd</td>\n",
              "      <td>284</td>\n",
              "      <td>TA</td>\n",
              "      <td>181500</td>\n",
              "    </tr>\n",
              "    <tr>\n",
              "      <td>2</td>\n",
              "      <td>RL</td>\n",
              "      <td>68.0</td>\n",
              "      <td>Pave</td>\n",
              "      <td>NaN</td>\n",
              "      <td>162.0</td>\n",
              "      <td>Gd</td>\n",
              "      <td>434</td>\n",
              "      <td>TA</td>\n",
              "      <td>223500</td>\n",
              "    </tr>\n",
              "    <tr>\n",
              "      <td>3</td>\n",
              "      <td>RL</td>\n",
              "      <td>60.0</td>\n",
              "      <td>Pave</td>\n",
              "      <td>NaN</td>\n",
              "      <td>0.0</td>\n",
              "      <td>TA</td>\n",
              "      <td>540</td>\n",
              "      <td>Gd</td>\n",
              "      <td>140000</td>\n",
              "    </tr>\n",
              "    <tr>\n",
              "      <td>4</td>\n",
              "      <td>RL</td>\n",
              "      <td>84.0</td>\n",
              "      <td>Pave</td>\n",
              "      <td>NaN</td>\n",
              "      <td>350.0</td>\n",
              "      <td>Gd</td>\n",
              "      <td>490</td>\n",
              "      <td>TA</td>\n",
              "      <td>250000</td>\n",
              "    </tr>\n",
              "  </tbody>\n",
              "</table>\n",
              "</div>"
            ],
            "text/plain": [
              "  MSZoning  LotFrontage Street Alley  MasVnrArea BsmtQual  BsmtUnfSF  \\\n",
              "0       RL         65.0   Pave   NaN       196.0       Gd        150   \n",
              "1       RL         80.0   Pave   NaN         0.0       Gd        284   \n",
              "2       RL         68.0   Pave   NaN       162.0       Gd        434   \n",
              "3       RL         60.0   Pave   NaN         0.0       TA        540   \n",
              "4       RL         84.0   Pave   NaN       350.0       Gd        490   \n",
              "\n",
              "  FireplaceQu  SalePrice  \n",
              "0         NaN     208500  \n",
              "1          TA     181500  \n",
              "2          TA     223500  \n",
              "3          Gd     140000  \n",
              "4          TA     250000  "
            ]
          },
          "metadata": {
            "tags": []
          },
          "execution_count": 3
        }
      ]
    },
    {
      "cell_type": "code",
      "metadata": {
        "id": "PV6EMRdDmpzL",
        "outputId": "a2d69ef0-8ccd-46eb-fa5e-ab5b28842cef"
      },
      "source": [
        "# revisemos los valores nulos\n",
        "\n",
        "data.isnull().mean()"
      ],
      "execution_count": null,
      "outputs": [
        {
          "output_type": "execute_result",
          "data": {
            "text/plain": [
              "MSZoning       0.000000\n",
              "LotFrontage    0.177397\n",
              "Street         0.000000\n",
              "Alley          0.937671\n",
              "MasVnrArea     0.005479\n",
              "BsmtQual       0.025342\n",
              "BsmtUnfSF      0.000000\n",
              "FireplaceQu    0.472603\n",
              "SalePrice      0.000000\n",
              "dtype: float64"
            ]
          },
          "metadata": {
            "tags": []
          },
          "execution_count": 4
        }
      ]
    },
    {
      "cell_type": "code",
      "metadata": {
        "id": "IivF7sckmpzN",
        "outputId": "5e30044e-894b-4c2b-80e3-7bd6b8ed205a"
      },
      "source": [
        "# separar datos en segmentos entrenamiento y prueba\n",
        "\n",
        "# primero, separemos el target (SalePrice) del resto de las variables (features)\n",
        "cols_to_use.remove('SalePrice')\n",
        "\n",
        "X_train, X_test, y_train, y_test = train_test_split(data[cols_to_use], # solo las variables\n",
        "                                                    data['SalePrice'], # el target\n",
        "                                                    test_size=0.3, # el porcentaje de obs en el segmento de prueba\n",
        "                                                    random_state=0) # para reproducir\n",
        "X_train.shape, X_test.shape"
      ],
      "execution_count": null,
      "outputs": [
        {
          "output_type": "execute_result",
          "data": {
            "text/plain": [
              "((1022, 8), (438, 8))"
            ]
          },
          "metadata": {
            "tags": []
          },
          "execution_count": 5
        }
      ]
    },
    {
      "cell_type": "code",
      "metadata": {
        "id": "unGFoXDzmpzP",
        "outputId": "10027df6-bc84-4388-8c1a-dd6006114aee"
      },
      "source": [
        "# evaluemos el porcentaje de datos ausentes nuevamente\n",
        "X_train.isnull().mean()"
      ],
      "execution_count": null,
      "outputs": [
        {
          "output_type": "execute_result",
          "data": {
            "text/plain": [
              "BsmtQual       0.023483\n",
              "FireplaceQu    0.467710\n",
              "MSZoning       0.000000\n",
              "BsmtUnfSF      0.000000\n",
              "LotFrontage    0.184932\n",
              "MasVnrArea     0.004892\n",
              "Street         0.000000\n",
              "Alley          0.939335\n",
              "dtype: float64"
            ]
          },
          "metadata": {
            "tags": []
          },
          "execution_count": 6
        }
      ]
    },
    {
      "cell_type": "markdown",
      "metadata": {
        "id": "UFj2NDyYmpzS"
      },
      "source": [
        "### SimpleImputer en el conjunto de datos"
      ]
    },
    {
      "cell_type": "code",
      "metadata": {
        "id": "luVBnPDXmpzS",
        "outputId": "44c2ff77-79c1-4e87-c1d7-fa4e64775d92"
      },
      "source": [
        "# Ahora sustituyamos los valores faltantes con  SimpleImputer\n",
        "\n",
        "# creemos una instancia de la clase SimpleImputer\n",
        "# indicaremos que queremos sustituir con la\n",
        "# categoría más frecuente\n",
        "\n",
        "imputer = SimpleImputer(strategy='most_frequent')\n",
        "\n",
        "# ajustamos el imputer al segmento de entrenamiento\n",
        "# el imputer aprende cual es la moda para todas las variables, categóricas o no\n",
        "\n",
        "imputer.fit(X_train[cols_to_use])"
      ],
      "execution_count": null,
      "outputs": [
        {
          "output_type": "execute_result",
          "data": {
            "text/plain": [
              "SimpleImputer(add_indicator=False, copy=True, fill_value=None,\n",
              "              missing_values=nan, strategy='most_frequent', verbose=0)"
            ]
          },
          "metadata": {
            "tags": []
          },
          "execution_count": 7
        }
      ]
    },
    {
      "cell_type": "code",
      "metadata": {
        "id": "jTKCAWxvmpzX",
        "outputId": "63d6e0b1-aa60-46ba-cd0d-7b98fe78697b"
      },
      "source": [
        "# podemos ver los valores más frecuentes aprendidos asi:\n",
        "imputer.statistics_"
      ],
      "execution_count": null,
      "outputs": [
        {
          "output_type": "execute_result",
          "data": {
            "text/plain": [
              "array(['TA', 'Gd', 'RL', 0, 60.0, 0.0, 'Pave', 'Pave'], dtype=object)"
            ]
          },
          "metadata": {
            "tags": []
          },
          "execution_count": 8
        }
      ]
    },
    {
      "cell_type": "markdown",
      "metadata": {
        "id": "xN4IYv83mpzZ"
      },
      "source": [
        "**Nota** el transformador aprende cual es el valor mas frecuente para las variables categóricas y numéricas"
      ]
    },
    {
      "cell_type": "code",
      "metadata": {
        "id": "e6gmXReumpzZ",
        "outputId": "037be160-aa03-438e-a95e-5bf3b2666ff4"
      },
      "source": [
        "# podemos investigar los valores más frecuentes para corroborar que el imputer\n",
        "# hizo un buen trabajo\n",
        "\n",
        "X_train[cols_to_use].mode()"
      ],
      "execution_count": null,
      "outputs": [
        {
          "output_type": "execute_result",
          "data": {
            "text/html": [
              "<div>\n",
              "<style scoped>\n",
              "    .dataframe tbody tr th:only-of-type {\n",
              "        vertical-align: middle;\n",
              "    }\n",
              "\n",
              "    .dataframe tbody tr th {\n",
              "        vertical-align: top;\n",
              "    }\n",
              "\n",
              "    .dataframe thead th {\n",
              "        text-align: right;\n",
              "    }\n",
              "</style>\n",
              "<table border=\"1\" class=\"dataframe\">\n",
              "  <thead>\n",
              "    <tr style=\"text-align: right;\">\n",
              "      <th></th>\n",
              "      <th>BsmtQual</th>\n",
              "      <th>FireplaceQu</th>\n",
              "      <th>MSZoning</th>\n",
              "      <th>BsmtUnfSF</th>\n",
              "      <th>LotFrontage</th>\n",
              "      <th>MasVnrArea</th>\n",
              "      <th>Street</th>\n",
              "      <th>Alley</th>\n",
              "    </tr>\n",
              "  </thead>\n",
              "  <tbody>\n",
              "    <tr>\n",
              "      <td>0</td>\n",
              "      <td>TA</td>\n",
              "      <td>Gd</td>\n",
              "      <td>RL</td>\n",
              "      <td>0</td>\n",
              "      <td>60.0</td>\n",
              "      <td>0.0</td>\n",
              "      <td>Pave</td>\n",
              "      <td>Pave</td>\n",
              "    </tr>\n",
              "  </tbody>\n",
              "</table>\n",
              "</div>"
            ],
            "text/plain": [
              "  BsmtQual FireplaceQu MSZoning  BsmtUnfSF  LotFrontage  MasVnrArea Street  \\\n",
              "0       TA          Gd       RL          0         60.0         0.0   Pave   \n",
              "\n",
              "  Alley  \n",
              "0  Pave  "
            ]
          },
          "metadata": {
            "tags": []
          },
          "execution_count": 9
        }
      ]
    },
    {
      "cell_type": "code",
      "metadata": {
        "id": "ExcT9JxSmpzb",
        "outputId": "b43423fd-5803-4f01-db9c-e41081ecfbc7"
      },
      "source": [
        "# ahora sustituyamos los datos ausentes en los segmentos de entrenamiento y prueba\n",
        "\n",
        "# NOTA: los datos son devueltos como un numpy array!!\n",
        "\n",
        "X_train = imputer.transform(X_train)\n",
        "X_test = imputer.transform(X_test)\n",
        "\n",
        "X_train"
      ],
      "execution_count": null,
      "outputs": [
        {
          "output_type": "execute_result",
          "data": {
            "text/plain": [
              "array([['Gd', 'Gd', 'RL', ..., 573.0, 'Pave', 'Pave'],\n",
              "       ['Gd', 'Gd', 'RL', ..., 0.0, 'Pave', 'Pave'],\n",
              "       ['TA', 'Gd', 'RL', ..., 0.0, 'Pave', 'Pave'],\n",
              "       ...,\n",
              "       ['TA', 'Gd', 'RM', ..., 0.0, 'Pave', 'Pave'],\n",
              "       ['Gd', 'TA', 'RL', ..., 18.0, 'Pave', 'Pave'],\n",
              "       ['Gd', 'Gd', 'RL', ..., 30.0, 'Pave', 'Pave']], dtype=object)"
            ]
          },
          "metadata": {
            "tags": []
          },
          "execution_count": 10
        }
      ]
    },
    {
      "cell_type": "code",
      "metadata": {
        "id": "0AO190dimpzd",
        "outputId": "8853f3a9-f754-442b-8f8e-d4d04bb32c77"
      },
      "source": [
        "# transformar el segmento de entrenamiento de vuelta en un dataframe:\n",
        "\n",
        "pd.DataFrame(X_train, columns=cols_to_use).head()"
      ],
      "execution_count": null,
      "outputs": [
        {
          "output_type": "execute_result",
          "data": {
            "text/html": [
              "<div>\n",
              "<style scoped>\n",
              "    .dataframe tbody tr th:only-of-type {\n",
              "        vertical-align: middle;\n",
              "    }\n",
              "\n",
              "    .dataframe tbody tr th {\n",
              "        vertical-align: top;\n",
              "    }\n",
              "\n",
              "    .dataframe thead th {\n",
              "        text-align: right;\n",
              "    }\n",
              "</style>\n",
              "<table border=\"1\" class=\"dataframe\">\n",
              "  <thead>\n",
              "    <tr style=\"text-align: right;\">\n",
              "      <th></th>\n",
              "      <th>BsmtQual</th>\n",
              "      <th>FireplaceQu</th>\n",
              "      <th>MSZoning</th>\n",
              "      <th>BsmtUnfSF</th>\n",
              "      <th>LotFrontage</th>\n",
              "      <th>MasVnrArea</th>\n",
              "      <th>Street</th>\n",
              "      <th>Alley</th>\n",
              "    </tr>\n",
              "  </thead>\n",
              "  <tbody>\n",
              "    <tr>\n",
              "      <td>0</td>\n",
              "      <td>Gd</td>\n",
              "      <td>Gd</td>\n",
              "      <td>RL</td>\n",
              "      <td>318</td>\n",
              "      <td>60</td>\n",
              "      <td>573</td>\n",
              "      <td>Pave</td>\n",
              "      <td>Pave</td>\n",
              "    </tr>\n",
              "    <tr>\n",
              "      <td>1</td>\n",
              "      <td>Gd</td>\n",
              "      <td>Gd</td>\n",
              "      <td>RL</td>\n",
              "      <td>288</td>\n",
              "      <td>60</td>\n",
              "      <td>0</td>\n",
              "      <td>Pave</td>\n",
              "      <td>Pave</td>\n",
              "    </tr>\n",
              "    <tr>\n",
              "      <td>2</td>\n",
              "      <td>TA</td>\n",
              "      <td>Gd</td>\n",
              "      <td>RL</td>\n",
              "      <td>162</td>\n",
              "      <td>50</td>\n",
              "      <td>0</td>\n",
              "      <td>Pave</td>\n",
              "      <td>Pave</td>\n",
              "    </tr>\n",
              "    <tr>\n",
              "      <td>3</td>\n",
              "      <td>TA</td>\n",
              "      <td>Gd</td>\n",
              "      <td>RL</td>\n",
              "      <td>356</td>\n",
              "      <td>60</td>\n",
              "      <td>0</td>\n",
              "      <td>Pave</td>\n",
              "      <td>Pave</td>\n",
              "    </tr>\n",
              "    <tr>\n",
              "      <td>4</td>\n",
              "      <td>TA</td>\n",
              "      <td>Gd</td>\n",
              "      <td>RL</td>\n",
              "      <td>0</td>\n",
              "      <td>60</td>\n",
              "      <td>0</td>\n",
              "      <td>Pave</td>\n",
              "      <td>Pave</td>\n",
              "    </tr>\n",
              "  </tbody>\n",
              "</table>\n",
              "</div>"
            ],
            "text/plain": [
              "  BsmtQual FireplaceQu MSZoning BsmtUnfSF LotFrontage MasVnrArea Street Alley\n",
              "0       Gd          Gd       RL       318          60        573   Pave  Pave\n",
              "1       Gd          Gd       RL       288          60          0   Pave  Pave\n",
              "2       TA          Gd       RL       162          50          0   Pave  Pave\n",
              "3       TA          Gd       RL       356          60          0   Pave  Pave\n",
              "4       TA          Gd       RL         0          60          0   Pave  Pave"
            ]
          },
          "metadata": {
            "tags": []
          },
          "execution_count": 11
        }
      ]
    },
    {
      "cell_type": "markdown",
      "metadata": {
        "id": "UD48TnK8mpzf"
      },
      "source": [
        "### SimpleImputer: diferentes métodos en diferentes variables"
      ]
    },
    {
      "cell_type": "code",
      "metadata": {
        "id": "ubOonORPmpzf",
        "outputId": "ae7529b1-61f3-4cfd-f598-a2de8aa8ef40"
      },
      "source": [
        "# Separemos en segmentos para entrenamiento y prueba\n",
        "\n",
        "X_train, X_test, y_train, y_test = train_test_split(data[cols_to_use],\n",
        "                                                    data['SalePrice'],\n",
        "                                                    test_size=0.3,\n",
        "                                                    random_state=0)\n",
        "X_train.shape, X_test.shape"
      ],
      "execution_count": null,
      "outputs": [
        {
          "output_type": "execute_result",
          "data": {
            "text/plain": [
              "((1022, 8), (438, 8))"
            ]
          },
          "metadata": {
            "tags": []
          },
          "execution_count": 12
        }
      ]
    },
    {
      "cell_type": "code",
      "metadata": {
        "id": "rNtBeuprmpzh",
        "outputId": "4b544197-bae2-4cc9-904e-d9f5dcedfed3"
      },
      "source": [
        "# exploremps los valores nulos\n",
        "X_train.isnull().mean()"
      ],
      "execution_count": null,
      "outputs": [
        {
          "output_type": "execute_result",
          "data": {
            "text/plain": [
              "BsmtQual       0.023483\n",
              "FireplaceQu    0.467710\n",
              "MSZoning       0.000000\n",
              "BsmtUnfSF      0.000000\n",
              "LotFrontage    0.184932\n",
              "MasVnrArea     0.004892\n",
              "Street         0.000000\n",
              "Alley          0.939335\n",
              "dtype: float64"
            ]
          },
          "metadata": {
            "tags": []
          },
          "execution_count": 13
        }
      ]
    },
    {
      "cell_type": "markdown",
      "metadata": {
        "id": "ZWXKkVJnmpzj"
      },
      "source": [
        "Para este demo, vamos a sustituir:\n",
        "\n",
        "- variables categóricas con la categoría más frecuente\n",
        "- variables numéricas con la media\n"
      ]
    },
    {
      "cell_type": "code",
      "metadata": {
        "id": "6PyOSxMimpzk"
      },
      "source": [
        "# primero vamos a crear una lista, indicando cuales son las \n",
        "# variables a sustituir con cada método\n",
        "\n",
        "features_numeric = ['BsmtUnfSF', 'LotFrontage', 'MasVnrArea', ]\n",
        "features_categoric = ['BsmtQual', 'FireplaceQu', 'MSZoning',\n",
        "                      'Street', 'Alley']\n",
        "\n",
        "# luego vamos a instanciar imputers dentro de un pipeline\n",
        "# creamos un imputer por cada variable\n",
        "# indicando uno para la media y el otro para la categoría más frecuente\n",
        "# cambiando el parámetro en 'strategy'\n",
        "\n",
        "numeric_imputer = Pipeline(steps=[\n",
        "    ('imputer', SimpleImputer(strategy='mean')),\n",
        "])\n",
        "\n",
        "categoric_imputer = Pipeline(steps=[\n",
        "    ('imputer', SimpleImputer(strategy='most_frequent')),\n",
        "])\n",
        "\n",
        "# luego ponemos las variables en lista y los transformadores juntos\n",
        "# usando el ColumnTransformer\n",
        "\n",
        "preprocessor = ColumnTransformer(transformers=[\n",
        "    ('numeric_imputer', numeric_imputer, features_numeric),\n",
        "    ('categoric_imputer', categoric_imputer, features_categoric)\n",
        "])"
      ],
      "execution_count": null,
      "outputs": []
    },
    {
      "cell_type": "code",
      "metadata": {
        "id": "yhfwn0Rzmpzm",
        "outputId": "61f8ac3f-745c-4609-b077-d392f508b405"
      },
      "source": [
        "# ajustemos el preprocesador\n",
        "preprocessor.fit(X_train)"
      ],
      "execution_count": null,
      "outputs": [
        {
          "output_type": "execute_result",
          "data": {
            "text/plain": [
              "ColumnTransformer(n_jobs=None, remainder='drop', sparse_threshold=0.3,\n",
              "                  transformer_weights=None,\n",
              "                  transformers=[('numeric_imputer',\n",
              "                                 Pipeline(memory=None,\n",
              "                                          steps=[('imputer',\n",
              "                                                  SimpleImputer(add_indicator=False,\n",
              "                                                                copy=True,\n",
              "                                                                fill_value=None,\n",
              "                                                                missing_values=nan,\n",
              "                                                                strategy='mean',\n",
              "                                                                verbose=0))],\n",
              "                                          verbose=False),\n",
              "                                 ['BsmtUnfSF', 'LotFrontage', 'MasVnrArea']),\n",
              "                                ('categoric_imputer',\n",
              "                                 Pipeline(memory=None,\n",
              "                                          steps=[('imputer',\n",
              "                                                  SimpleImputer(add_indicator=False,\n",
              "                                                                copy=True,\n",
              "                                                                fill_value=None,\n",
              "                                                                missing_values=nan,\n",
              "                                                                strategy='most_frequent',\n",
              "                                                                verbose=0))],\n",
              "                                          verbose=False),\n",
              "                                 ['BsmtQual', 'FireplaceQu', 'MSZoning',\n",
              "                                  'Street', 'Alley'])],\n",
              "                  verbose=False)"
            ]
          },
          "metadata": {
            "tags": []
          },
          "execution_count": 15
        }
      ]
    },
    {
      "cell_type": "code",
      "metadata": {
        "id": "9_9mhUzympzo",
        "outputId": "351e5700-b395-4ab3-c270-dd93e9ee88fe"
      },
      "source": [
        "# exploremos los transformers:\n",
        "\n",
        "preprocessor.transformers"
      ],
      "execution_count": null,
      "outputs": [
        {
          "output_type": "execute_result",
          "data": {
            "text/plain": [
              "[('numeric_imputer', Pipeline(memory=None,\n",
              "           steps=[('imputer',\n",
              "                   SimpleImputer(add_indicator=False, copy=True, fill_value=None,\n",
              "                                 missing_values=nan, strategy='mean',\n",
              "                                 verbose=0))],\n",
              "           verbose=False), ['BsmtUnfSF', 'LotFrontage', 'MasVnrArea']),\n",
              " ('categoric_imputer', Pipeline(memory=None,\n",
              "           steps=[('imputer',\n",
              "                   SimpleImputer(add_indicator=False, copy=True, fill_value=None,\n",
              "                                 missing_values=nan, strategy='most_frequent',\n",
              "                                 verbose=0))],\n",
              "           verbose=False), ['BsmtQual',\n",
              "   'FireplaceQu',\n",
              "   'MSZoning',\n",
              "   'Street',\n",
              "   'Alley'])]"
            ]
          },
          "metadata": {
            "tags": []
          },
          "execution_count": 16
        }
      ]
    },
    {
      "cell_type": "code",
      "metadata": {
        "id": "eUUQ2lwqmpzq",
        "outputId": "2c3048c8-f7b4-471e-ce99-396c5b749745"
      },
      "source": [
        "# exploremos los parámetros aprendidos:\n",
        "\n",
        "# para el imputer de la media ( variables numéricas)\n",
        "\n",
        "preprocessor.named_transformers_['numeric_imputer'].named_steps['imputer'].statistics_"
      ],
      "execution_count": null,
      "outputs": [
        {
          "output_type": "execute_result",
          "data": {
            "text/plain": [
              "array([565.99217221,  69.66866747, 103.55358899])"
            ]
          },
          "metadata": {
            "tags": []
          },
          "execution_count": 17
        }
      ]
    },
    {
      "cell_type": "code",
      "metadata": {
        "id": "FNgtkX82mpzs",
        "outputId": "065ad94b-641a-4bd3-ed86-2efa68f58dfa"
      },
      "source": [
        "# corroboremos el valor para cada variable en el segmento de entrenamiento\n",
        "X_train[features_numeric].mean()"
      ],
      "execution_count": null,
      "outputs": [
        {
          "output_type": "execute_result",
          "data": {
            "text/plain": [
              "BsmtUnfSF      565.992172\n",
              "LotFrontage     69.668667\n",
              "MasVnrArea     103.553589\n",
              "dtype: float64"
            ]
          },
          "metadata": {
            "tags": []
          },
          "execution_count": 18
        }
      ]
    },
    {
      "cell_type": "code",
      "metadata": {
        "id": "81EhGcvrmpzu",
        "outputId": "21e6c409-1135-46fc-f605-7c1ec75748f3"
      },
      "source": [
        "# imputer para la categoría más frecuente\n",
        "preprocessor.named_transformers_['categoric_imputer'].named_steps['imputer'].statistics_"
      ],
      "execution_count": null,
      "outputs": [
        {
          "output_type": "execute_result",
          "data": {
            "text/plain": [
              "array(['TA', 'Gd', 'RL', 'Pave', 'Pave'], dtype=object)"
            ]
          },
          "metadata": {
            "tags": []
          },
          "execution_count": 19
        }
      ]
    },
    {
      "cell_type": "code",
      "metadata": {
        "id": "f6kxCxoompzw",
        "outputId": "5a5353d3-bb15-4228-fd13-d83a7b4c31c2"
      },
      "source": [
        "# corroboremos estos valores en el segmento de entrenamiento\n",
        "X_train[features_categoric].mode()"
      ],
      "execution_count": null,
      "outputs": [
        {
          "output_type": "execute_result",
          "data": {
            "text/html": [
              "<div>\n",
              "<style scoped>\n",
              "    .dataframe tbody tr th:only-of-type {\n",
              "        vertical-align: middle;\n",
              "    }\n",
              "\n",
              "    .dataframe tbody tr th {\n",
              "        vertical-align: top;\n",
              "    }\n",
              "\n",
              "    .dataframe thead th {\n",
              "        text-align: right;\n",
              "    }\n",
              "</style>\n",
              "<table border=\"1\" class=\"dataframe\">\n",
              "  <thead>\n",
              "    <tr style=\"text-align: right;\">\n",
              "      <th></th>\n",
              "      <th>BsmtQual</th>\n",
              "      <th>FireplaceQu</th>\n",
              "      <th>MSZoning</th>\n",
              "      <th>Street</th>\n",
              "      <th>Alley</th>\n",
              "    </tr>\n",
              "  </thead>\n",
              "  <tbody>\n",
              "    <tr>\n",
              "      <td>0</td>\n",
              "      <td>TA</td>\n",
              "      <td>Gd</td>\n",
              "      <td>RL</td>\n",
              "      <td>Pave</td>\n",
              "      <td>Pave</td>\n",
              "    </tr>\n",
              "  </tbody>\n",
              "</table>\n",
              "</div>"
            ],
            "text/plain": [
              "  BsmtQual FireplaceQu MSZoning Street Alley\n",
              "0       TA          Gd       RL   Pave  Pave"
            ]
          },
          "metadata": {
            "tags": []
          },
          "execution_count": 20
        }
      ]
    },
    {
      "cell_type": "code",
      "metadata": {
        "id": "ZgmFk338mpzz"
      },
      "source": [
        "# y ahora sustituyamos en los segmentos de prueba y entrenamiento\n",
        "X_train = preprocessor.transform(X_train)\n",
        "X_test = preprocessor.transform(X_test)"
      ],
      "execution_count": null,
      "outputs": []
    },
    {
      "cell_type": "code",
      "metadata": {
        "id": "7uzhimjzmpz1",
        "outputId": "c1f9e1da-dbb3-4baf-d72f-040c4713cc76"
      },
      "source": [
        "X_train.shape"
      ],
      "execution_count": null,
      "outputs": [
        {
          "output_type": "execute_result",
          "data": {
            "text/plain": [
              "(1022, 8)"
            ]
          },
          "metadata": {
            "tags": []
          },
          "execution_count": 22
        }
      ]
    },
    {
      "cell_type": "code",
      "metadata": {
        "id": "u2_q3dEgmpz3",
        "outputId": "e265fe86-35ef-4381-c55f-ea7e70f2ff42"
      },
      "source": [
        "# ahora veamos el resultado de la imputación en el dataframe de 3 columnas\n",
        "pd.DataFrame(X_train,\n",
        "             columns=features_numeric + features_categoric).head()"
      ],
      "execution_count": null,
      "outputs": [
        {
          "output_type": "execute_result",
          "data": {
            "text/html": [
              "<div>\n",
              "<style scoped>\n",
              "    .dataframe tbody tr th:only-of-type {\n",
              "        vertical-align: middle;\n",
              "    }\n",
              "\n",
              "    .dataframe tbody tr th {\n",
              "        vertical-align: top;\n",
              "    }\n",
              "\n",
              "    .dataframe thead th {\n",
              "        text-align: right;\n",
              "    }\n",
              "</style>\n",
              "<table border=\"1\" class=\"dataframe\">\n",
              "  <thead>\n",
              "    <tr style=\"text-align: right;\">\n",
              "      <th></th>\n",
              "      <th>BsmtUnfSF</th>\n",
              "      <th>LotFrontage</th>\n",
              "      <th>MasVnrArea</th>\n",
              "      <th>BsmtQual</th>\n",
              "      <th>FireplaceQu</th>\n",
              "      <th>MSZoning</th>\n",
              "      <th>Street</th>\n",
              "      <th>Alley</th>\n",
              "    </tr>\n",
              "  </thead>\n",
              "  <tbody>\n",
              "    <tr>\n",
              "      <td>0</td>\n",
              "      <td>318</td>\n",
              "      <td>69.6687</td>\n",
              "      <td>573</td>\n",
              "      <td>Gd</td>\n",
              "      <td>Gd</td>\n",
              "      <td>RL</td>\n",
              "      <td>Pave</td>\n",
              "      <td>Pave</td>\n",
              "    </tr>\n",
              "    <tr>\n",
              "      <td>1</td>\n",
              "      <td>288</td>\n",
              "      <td>69.6687</td>\n",
              "      <td>0</td>\n",
              "      <td>Gd</td>\n",
              "      <td>Gd</td>\n",
              "      <td>RL</td>\n",
              "      <td>Pave</td>\n",
              "      <td>Pave</td>\n",
              "    </tr>\n",
              "    <tr>\n",
              "      <td>2</td>\n",
              "      <td>162</td>\n",
              "      <td>50</td>\n",
              "      <td>0</td>\n",
              "      <td>TA</td>\n",
              "      <td>Gd</td>\n",
              "      <td>RL</td>\n",
              "      <td>Pave</td>\n",
              "      <td>Pave</td>\n",
              "    </tr>\n",
              "    <tr>\n",
              "      <td>3</td>\n",
              "      <td>356</td>\n",
              "      <td>60</td>\n",
              "      <td>0</td>\n",
              "      <td>TA</td>\n",
              "      <td>Gd</td>\n",
              "      <td>RL</td>\n",
              "      <td>Pave</td>\n",
              "      <td>Pave</td>\n",
              "    </tr>\n",
              "    <tr>\n",
              "      <td>4</td>\n",
              "      <td>0</td>\n",
              "      <td>60</td>\n",
              "      <td>0</td>\n",
              "      <td>TA</td>\n",
              "      <td>Gd</td>\n",
              "      <td>RL</td>\n",
              "      <td>Pave</td>\n",
              "      <td>Pave</td>\n",
              "    </tr>\n",
              "  </tbody>\n",
              "</table>\n",
              "</div>"
            ],
            "text/plain": [
              "  BsmtUnfSF LotFrontage MasVnrArea BsmtQual FireplaceQu MSZoning Street Alley\n",
              "0       318     69.6687        573       Gd          Gd       RL   Pave  Pave\n",
              "1       288     69.6687          0       Gd          Gd       RL   Pave  Pave\n",
              "2       162          50          0       TA          Gd       RL   Pave  Pave\n",
              "3       356          60          0       TA          Gd       RL   Pave  Pave\n",
              "4         0          60          0       TA          Gd       RL   Pave  Pave"
            ]
          },
          "metadata": {
            "tags": []
          },
          "execution_count": 23
        }
      ]
    },
    {
      "cell_type": "markdown",
      "metadata": {
        "id": "febKz-wUmpz5"
      },
      "source": [
        "En este caso, pasamos todas las variables disponibles en los datos a los imputers de valores ausentes, por lo tanto el dataframe final contiene todas las variables"
      ]
    }
  ]
}