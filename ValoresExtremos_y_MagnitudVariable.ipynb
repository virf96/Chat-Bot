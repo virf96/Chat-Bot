{
  "nbformat": 4,
  "nbformat_minor": 0,
  "metadata": {
    "colab": {
      "name": "ValoresExtremos_y_MagnitudVariable.ipynb",
      "provenance": [],
      "toc_visible": true,
      "mount_file_id": "1tZpHo2jq8n8WZSLuJ5raLCAVqEXECFpU",
      "authorship_tag": "ABX9TyOdYKej09JUCCzmRxOcbzEE",
      "include_colab_link": true
    },
    "kernelspec": {
      "name": "python3",
      "display_name": "Python 3"
    }
  },
  "cells": [
    {
      "cell_type": "markdown",
      "metadata": {
        "id": "view-in-github",
        "colab_type": "text"
      },
      "source": [
        "<a href=\"https://colab.research.google.com/github/virf96/Chat-Bot/blob/master/ValoresExtremos_y_MagnitudVariable.ipynb\" target=\"_parent\"><img src=\"https://colab.research.google.com/assets/colab-badge.svg\" alt=\"Open In Colab\"/></a>"
      ]
    },
    {
      "cell_type": "markdown",
      "metadata": {
        "id": "vf9o3xhpTzcT",
        "colab_type": "text"
      },
      "source": [
        "# Valores Extremos\n",
        "\n",
        "$\\bullet$ Un valor atípico (outlier) es un punto extremo, o significativamente diferente del resto de los datos.\n",
        "\n",
        "**Se debería remover los outliers?**\n",
        "\n",
        "Dependiendo del contexto, los valores extremos requieren ya sea un tratamiento especial o ser ignorados completamente. Por ejemplo para las predicciones de ingresos: si se observan picos inusuales de ingresos, es probablemente una buena idea prestarles atención y entender las causas de los picos. De la misma forma, una transacción atípica en una tarjeta de crédito, puede ser una señal de actividad fraudulenta, que la entidad crediticia desea prevenir. En estos casos, es una buena idea, mirar e investigar en más detalle los valores atípicos.\n",
        "\n",
        "Si estos valores extremos, son introducidos por un error mecánico, error en la toma de los datos o alguna otra razón que no puede generalizarse, es una buena idea eliminar estos valores antes de usarlos para entrenar un modelo. ¿Por qué? Porque algunos algoritmos son muy sensibles a estos valores extremos.\n",
        "\n",
        "\n",
        "**Cuáles modelos de  machine learning susceptibles a los valores atípicos?**\n",
        "\n",
        "Algunos modelos de machine learning son más susceptibles a los valores extremos que otros. \n",
        "Por ejemplo, los **modelos basados en  árboles de decisión como los Random Forests o los Bosque Aleatorios y las máquinas de potenciación del gradiente**, tienden a lidiar mejor con los valores atípicos.\n",
        "\n",
        "Los **árboles de decisión tienden a ignorar la presencia de valores extremos** cuando crean las ramificaciones. Típicamente, un árbol toma decisiones evaluando si una variable es mayor o igual a cierto umbral  **(x >= umbral)**. Un valor extremo simplemente queda en algún lado de la ramificación, por lo tanto será tratado igual que cualquier otro valor, sin importar su magnitud. \n",
        "**AdaBoost** por el contrario, puede poner mayor pesos a los valores atípicos, generando un sobre-ajuste a los dato de entrenamiento, y por lo tanto mala generalización. \n",
        "\n",
        "Contrariamente, **las regresiones lineales, las regresiones logísticas, y los modelos de aglomeramiento con  k-means** son susceptibles a los valores extremos.\n",
        "\n",
        "Un artículo de investigación recientemente publicado sugiere que la **Redes Neuronales** también son susceptibles a los valores extremos, siempre y cuando su magnitud y desviación sean considerablemente altos. Sin embargo, si el número de valores extremos es alto (>15% como se sugiere en el artículo) podría argumentarse que ya no son valores atípicos, sino más bien una representación fehaciente de una variable. Encontrarás una referencia a este artículo en los \"Recursos Adicionales de Lectura\" al final de esta sección.\n",
        "\n",
        "**Cómo se pueden identificar los valores atípicos?**\n",
        "\n",
        "El análisis de valores atípicos y la detección de anomalías es un gran campo de investigación enfocado en optimizar métodos y crear nuevos algoritmos para detectar confiablemente dichos valores. En general, lo que buscan es identificar las observaciones con valores atípicos, ya que por ejemplo, son de alto interés, como es el caso de actividad fraudulenta de las tarjetas de crédito. Estas técnicas están fuera del enfoque de este curso.\n",
        "\n",
        "En este curso, nos enfocaremos en identificar los valores extremos introducidos por errores mecánicos o errores en la toma de los datos. Estos valores atípicos son de hecho, casos raros en la muestra y por lo tanto pueden ser ignorados/eliminados. En esta sección veremos cómo identificar outliers, así en las siguientes secciones del curso, podemos pre-procesar las variables que contengan valores atípicos para entrenar modelos de machine learning.\n",
        "\n",
        "\n",
        "**Análisis de valores extremos**\n",
        "\n",
        "La forma más básica para la detección de valores atípicos es el **Análisis de valores extremos**. La clave de este método es determinar los valores al final de las colas de la distribución estadística de una variable.\n",
        "\n",
        "Si la **variable está normalmente distribuida (Gaussiana)**, **los valores que caen por fuera de la media más o menos 3 veces la desviación estándar** de la variable son considerados valores atípicos o extremos.\n",
        "\n",
        "$\\bullet$ valores atípicos o extremos = media +/- 3*std\n",
        "\n",
        "Si la variable tiene una **distribución sesgada**, el enfoque general es **calcular los cuantiles, y luego los rangos entre-cuantiles** (IQR por sus siglas en inglés inter-quantile range):\n",
        "\n",
        "$\\bullet$ IQR = 75vo cuantil – 25vo cuantil\n",
        "\n",
        "**Un valor atípico suele estar por fuera de los siguientes límites inferior y superior:**\n",
        "\n",
        "$\\bullet$ Límite superior = 75vo cuantil + (IQR * 1.5)\n",
        "\n",
        "$\\bullet$ Límite inferior = 25vo cuantil - (IQR * 1.5)\n",
        "\n",
        "**y para los casos extremos:**\n",
        "\n",
        "$\\bullet$ Límite superior = 75vo cuantil + (IQR * 3)\n",
        "\n",
        "$\\bullet$ Límite inferior = 25vo cuantil - (IQR * 3)\n",
        "\n",
        "\n",
        "\n",
        "## Datos : \n",
        "\n",
        "Usaremos los datos de ventas de casas y los del Titanic.\n",
        "\n",
        "\n",
        "También usaremos los datos del Boston house prices, incluidos en Scikit-learn\n",
        "\n",
        "\n",
        "### Datos: Boston house prices:\n",
        "\n"
      ]
    },
    {
      "cell_type": "code",
      "metadata": {
        "id": "sNJDs4oHlpzx",
        "colab_type": "code",
        "colab": {
          "base_uri": "https://localhost:8080/",
          "height": 904
        },
        "outputId": "304cb1c4-ef19-4b17-8278-56ce90f65904"
      },
      "source": [
        "# Imprimir información de los datos del Boston\n",
        "from sklearn.datasets import load_boston\n",
        "print(load_boston().DESCR)"
      ],
      "execution_count": 1,
      "outputs": [
        {
          "output_type": "stream",
          "text": [
            ".. _boston_dataset:\n",
            "\n",
            "Boston house prices dataset\n",
            "---------------------------\n",
            "\n",
            "**Data Set Characteristics:**  \n",
            "\n",
            "    :Number of Instances: 506 \n",
            "\n",
            "    :Number of Attributes: 13 numeric/categorical predictive. Median Value (attribute 14) is usually the target.\n",
            "\n",
            "    :Attribute Information (in order):\n",
            "        - CRIM     per capita crime rate by town\n",
            "        - ZN       proportion of residential land zoned for lots over 25,000 sq.ft.\n",
            "        - INDUS    proportion of non-retail business acres per town\n",
            "        - CHAS     Charles River dummy variable (= 1 if tract bounds river; 0 otherwise)\n",
            "        - NOX      nitric oxides concentration (parts per 10 million)\n",
            "        - RM       average number of rooms per dwelling\n",
            "        - AGE      proportion of owner-occupied units built prior to 1940\n",
            "        - DIS      weighted distances to five Boston employment centres\n",
            "        - RAD      index of accessibility to radial highways\n",
            "        - TAX      full-value property-tax rate per $10,000\n",
            "        - PTRATIO  pupil-teacher ratio by town\n",
            "        - B        1000(Bk - 0.63)^2 where Bk is the proportion of blacks by town\n",
            "        - LSTAT    % lower status of the population\n",
            "        - MEDV     Median value of owner-occupied homes in $1000's\n",
            "\n",
            "    :Missing Attribute Values: None\n",
            "\n",
            "    :Creator: Harrison, D. and Rubinfeld, D.L.\n",
            "\n",
            "This is a copy of UCI ML housing dataset.\n",
            "https://archive.ics.uci.edu/ml/machine-learning-databases/housing/\n",
            "\n",
            "\n",
            "This dataset was taken from the StatLib library which is maintained at Carnegie Mellon University.\n",
            "\n",
            "The Boston house-price data of Harrison, D. and Rubinfeld, D.L. 'Hedonic\n",
            "prices and the demand for clean air', J. Environ. Economics & Management,\n",
            "vol.5, 81-102, 1978.   Used in Belsley, Kuh & Welsch, 'Regression diagnostics\n",
            "...', Wiley, 1980.   N.B. Various transformations are used in the table on\n",
            "pages 244-261 of the latter.\n",
            "\n",
            "The Boston house-price data has been used in many machine learning papers that address regression\n",
            "problems.   \n",
            "     \n",
            ".. topic:: References\n",
            "\n",
            "   - Belsley, Kuh & Welsch, 'Regression diagnostics: Identifying Influential Data and Sources of Collinearity', Wiley, 1980. 244-261.\n",
            "   - Quinlan,R. (1993). Combining Instance-Based and Model-Based Learning. In Proceedings on the Tenth International Conference of Machine Learning, 236-243, University of Massachusetts, Amherst. Morgan Kaufmann.\n",
            "\n"
          ],
          "name": "stdout"
        }
      ]
    },
    {
      "cell_type": "markdown",
      "metadata": {
        "id": "eSK_NKxGfy5c",
        "colab_type": "text"
      },
      "source": [
        "**Própositos**:\n",
        "\n",
        "- Identificar los valores atípicos usando el Análisis de valores extremos en variables normalmente distribuidas.\n",
        "- Identificar outliers usando análisis de valores extremos en variables sesgadas."
      ]
    },
    {
      "cell_type": "code",
      "metadata": {
        "id": "NEMcTPQnf9EI",
        "colab_type": "code",
        "colab": {
          "base_uri": "https://localhost:8080/",
          "height": 71
        },
        "outputId": "0003a100-ddf6-47d2-9d33-26d0275a541d"
      },
      "source": [
        "import pandas as pd\n",
        "import numpy as np\n",
        "\n",
        "import matplotlib.pyplot as plt\n",
        "import seaborn as sns\n",
        "\n",
        "#  Q-Q plots\n",
        "import pylab\n",
        "import scipy.stats as stats\n",
        "\n",
        "# boston house dataset \n",
        "from sklearn.datasets import load_boston\n",
        "\n",
        "import warnings\n",
        "warnings.filterwarnings(\"ignore\")"
      ],
      "execution_count": 2,
      "outputs": [
        {
          "output_type": "stream",
          "text": [
            "/usr/local/lib/python3.6/dist-packages/statsmodels/tools/_testing.py:19: FutureWarning: pandas.util.testing is deprecated. Use the functions in the public API at pandas.testing instead.\n",
            "  import pandas.util.testing as tm\n"
          ],
          "name": "stderr"
        }
      ]
    },
    {
      "cell_type": "code",
      "metadata": {
        "id": "3xvW4K1UgBgJ",
        "colab_type": "code",
        "colab": {
          "base_uri": "https://localhost:8080/",
          "height": 204
        },
        "outputId": "e2bfb1cf-6055-43ca-d972-547ec19e334f"
      },
      "source": [
        "# cargar boston dataset de sklearn\n",
        "boston_dataset = load_boston()\n",
        "\n",
        "# crear dataframe con las variables independientes\n",
        "# Usaremos solamente 3 de las varaibles para el demo\n",
        "\n",
        "boston = pd.DataFrame(boston_dataset.data,\n",
        "                      columns=boston_dataset.feature_names)[[\n",
        "                          'RM', 'LSTAT', 'CRIM'\n",
        "                      ]]\n",
        "\n",
        "\n",
        "boston.head()"
      ],
      "execution_count": 3,
      "outputs": [
        {
          "output_type": "execute_result",
          "data": {
            "text/html": [
              "<div>\n",
              "<style scoped>\n",
              "    .dataframe tbody tr th:only-of-type {\n",
              "        vertical-align: middle;\n",
              "    }\n",
              "\n",
              "    .dataframe tbody tr th {\n",
              "        vertical-align: top;\n",
              "    }\n",
              "\n",
              "    .dataframe thead th {\n",
              "        text-align: right;\n",
              "    }\n",
              "</style>\n",
              "<table border=\"1\" class=\"dataframe\">\n",
              "  <thead>\n",
              "    <tr style=\"text-align: right;\">\n",
              "      <th></th>\n",
              "      <th>RM</th>\n",
              "      <th>LSTAT</th>\n",
              "      <th>CRIM</th>\n",
              "    </tr>\n",
              "  </thead>\n",
              "  <tbody>\n",
              "    <tr>\n",
              "      <th>0</th>\n",
              "      <td>6.575</td>\n",
              "      <td>4.98</td>\n",
              "      <td>0.00632</td>\n",
              "    </tr>\n",
              "    <tr>\n",
              "      <th>1</th>\n",
              "      <td>6.421</td>\n",
              "      <td>9.14</td>\n",
              "      <td>0.02731</td>\n",
              "    </tr>\n",
              "    <tr>\n",
              "      <th>2</th>\n",
              "      <td>7.185</td>\n",
              "      <td>4.03</td>\n",
              "      <td>0.02729</td>\n",
              "    </tr>\n",
              "    <tr>\n",
              "      <th>3</th>\n",
              "      <td>6.998</td>\n",
              "      <td>2.94</td>\n",
              "      <td>0.03237</td>\n",
              "    </tr>\n",
              "    <tr>\n",
              "      <th>4</th>\n",
              "      <td>7.147</td>\n",
              "      <td>5.33</td>\n",
              "      <td>0.06905</td>\n",
              "    </tr>\n",
              "  </tbody>\n",
              "</table>\n",
              "</div>"
            ],
            "text/plain": [
              "      RM  LSTAT     CRIM\n",
              "0  6.575   4.98  0.00632\n",
              "1  6.421   9.14  0.02731\n",
              "2  7.185   4.03  0.02729\n",
              "3  6.998   2.94  0.03237\n",
              "4  7.147   5.33  0.06905"
            ]
          },
          "metadata": {
            "tags": []
          },
          "execution_count": 3
        }
      ]
    },
    {
      "cell_type": "code",
      "metadata": {
        "id": "IQK6AEsegM3I",
        "colab_type": "code",
        "colab": {}
      },
      "source": [
        "# cargar titanic dataset\n",
        "titanic = pd.read_csv('/content/drive/My Drive/datasets/titanic.csv',\n",
        "                      usecols=['age', 'fare'])\n"
      ],
      "execution_count": 5,
      "outputs": []
    },
    {
      "cell_type": "code",
      "metadata": {
        "id": "gUmy8pWtgf3O",
        "colab_type": "code",
        "colab": {
          "base_uri": "https://localhost:8080/",
          "height": 204
        },
        "outputId": "39bd5b20-d612-42ce-fc13-caf7d3bc2b37"
      },
      "source": [
        "# las variables age y fare tienen valores faltantes,\n",
        "# los eliminaremos para el demo\n",
        "titanic.dropna(subset=['age', 'fare'], inplace=True)\n",
        "\n",
        "titanic.head()"
      ],
      "execution_count": 6,
      "outputs": [
        {
          "output_type": "execute_result",
          "data": {
            "text/html": [
              "<div>\n",
              "<style scoped>\n",
              "    .dataframe tbody tr th:only-of-type {\n",
              "        vertical-align: middle;\n",
              "    }\n",
              "\n",
              "    .dataframe tbody tr th {\n",
              "        vertical-align: top;\n",
              "    }\n",
              "\n",
              "    .dataframe thead th {\n",
              "        text-align: right;\n",
              "    }\n",
              "</style>\n",
              "<table border=\"1\" class=\"dataframe\">\n",
              "  <thead>\n",
              "    <tr style=\"text-align: right;\">\n",
              "      <th></th>\n",
              "      <th>age</th>\n",
              "      <th>fare</th>\n",
              "    </tr>\n",
              "  </thead>\n",
              "  <tbody>\n",
              "    <tr>\n",
              "      <th>0</th>\n",
              "      <td>29.0000</td>\n",
              "      <td>211.3375</td>\n",
              "    </tr>\n",
              "    <tr>\n",
              "      <th>1</th>\n",
              "      <td>0.9167</td>\n",
              "      <td>151.5500</td>\n",
              "    </tr>\n",
              "    <tr>\n",
              "      <th>2</th>\n",
              "      <td>2.0000</td>\n",
              "      <td>151.5500</td>\n",
              "    </tr>\n",
              "    <tr>\n",
              "      <th>3</th>\n",
              "      <td>30.0000</td>\n",
              "      <td>151.5500</td>\n",
              "    </tr>\n",
              "    <tr>\n",
              "      <th>4</th>\n",
              "      <td>25.0000</td>\n",
              "      <td>151.5500</td>\n",
              "    </tr>\n",
              "  </tbody>\n",
              "</table>\n",
              "</div>"
            ],
            "text/plain": [
              "       age      fare\n",
              "0  29.0000  211.3375\n",
              "1   0.9167  151.5500\n",
              "2   2.0000  151.5500\n",
              "3  30.0000  151.5500\n",
              "4  25.0000  151.5500"
            ]
          },
          "metadata": {
            "tags": []
          },
          "execution_count": 6
        }
      ]
    },
    {
      "cell_type": "markdown",
      "metadata": {
        "id": "ZooZshK6gqUK",
        "colab_type": "text"
      },
      "source": [
        "## Cómo identificar outliers en las variables?\n",
        "\n",
        "En **variables normalmente distribuidas**, los valores atípicos **son los valores que están por fuera de la media más o menos tres veces la desviación estándar**. Si la **variable esta sesgada**, los valores atípicos **se encuentran usando el rango entre-cuartil**. Para decidir cuál método utilizar para detectar los valores atípicos, es necesario saber cual es la distribución de los valores de la variable.\n",
        "\n",
        "Para esto se pueden usar gráficos Q-Q y determinar si la variable está normalmente distribuida.  Tambien se usan Boxplots (diagramas de caja) para analizar la distribución de una variable. Estos últimos son de hecho una herramienta que permite visualizar directamente los valores extremos, así como el primer y tercer cuartil, la mediana, y el grado de asimetría.\n",
        "\n",
        "Del diagrama de caja se puede fácilmente identificar:\n",
        "\n",
        "$\\bullet$ Dentro de la caja una línea que indica la mediana (segundo cuartil, Q2)\n",
        "\n",
        "$\\bullet$ Un rectángulo (caja) que indica el rango entre-cuartil delimitado por el primer y tercer cuartil (Q1 y Q3). \n",
        "\n",
        "$\\bullet$ Dos brazos o bigotes, uno que empieza en el primer cuartil y acaba en el límite inferior, y otro que empieza en el tercer cuartil y acaba en el límite superior.\n",
        "\n",
        "$\\bullet$ Los datos atípicos (o valores extremos) que son los valores por fuera de los brazos.\n",
        "\n"
      ]
    },
    {
      "cell_type": "code",
      "metadata": {
        "id": "bxSR-oWIgm_6",
        "colab_type": "code",
        "colab": {}
      },
      "source": [
        "# función para crear un histograma, un gráfico Q-Q plot y un boxplot\n",
        "\n",
        "\n",
        "def diagnostic_plots(df, variable):\n",
        "    # la función toma como argumentos un dataframe (df) y\n",
        "    # la variable a visualizar\n",
        "\n",
        "    # tamaño gráfica\n",
        "    plt.figure(figsize=(16, 4))\n",
        "\n",
        "    # histograma\n",
        "    plt.subplot(1, 3, 1)\n",
        "    sns.distplot(df[variable], bins=30)\n",
        "    plt.title('Histogram')\n",
        "\n",
        "    # gráfica Q-Q \n",
        "    plt.subplot(1, 3, 2)\n",
        "    stats.probplot(df[variable], dist=\"norm\", plot=pylab)\n",
        "    plt.ylabel('RM quantiles')\n",
        "\n",
        "    # diagrama de caja\n",
        "    plt.subplot(1, 3, 3)\n",
        "    sns.boxplot(y=df[variable])\n",
        "    plt.title('Boxplot')\n",
        "\n",
        "    plt.show()"
      ],
      "execution_count": 7,
      "outputs": []
    },
    {
      "cell_type": "markdown",
      "metadata": {
        "id": "kq6KgA7Zlrd2",
        "colab_type": "text"
      },
      "source": [
        "### Variable normalmente distribuidas"
      ]
    },
    {
      "cell_type": "code",
      "metadata": {
        "id": "F8q9y8FIlm35",
        "colab_type": "code",
        "colab": {
          "base_uri": "https://localhost:8080/",
          "height": 295
        },
        "outputId": "543b368a-d4d7-4779-d381-ffa56169065d"
      },
      "source": [
        "# empecemos con la variable RM del\n",
        "# boston house dataset.\n",
        "# RM es el número promedio de habitaciones por vivienda\n",
        "\n",
        "diagnostic_plots(boston, 'RM')"
      ],
      "execution_count": 8,
      "outputs": [
        {
          "output_type": "display_data",
          "data": {
            "image/png": "[encoded data removed]",
            "text/plain": [
              "<Figure size 1152x288 with 3 Axes>"
            ]
          },
          "metadata": {
            "tags": [],
            "needs_background": "light"
          }
        }
      ]
    },
    {
      "cell_type": "markdown",
      "metadata": {
        "id": "7BMK5CvXl1Yj",
        "colab_type": "text"
      },
      "source": [
        "Del histograma y la gráfica Q-Q, podemos ver que la variable RM tiene una distribución aproximadamente Gaussiana. En el gráfico de caja, vemos que hay algunos valores extremos que son los puntos que están por fuera de los brazos, en ambas colas de la distribución.\n"
      ]
    },
    {
      "cell_type": "code",
      "metadata": {
        "id": "DRyJfoD2ltag",
        "colab_type": "code",
        "colab": {
          "base_uri": "https://localhost:8080/",
          "height": 295
        },
        "outputId": "5ff6ae4a-671e-43db-c838-fb9301fcefe8"
      },
      "source": [
        "# Exploremos la variable age del titanic\n",
        "# edad de los pasajeros a bordo del titanic\n",
        "\n",
        "diagnostic_plots(titanic, 'age')"
      ],
      "execution_count": 9,
      "outputs": [
        {
          "output_type": "display_data",
          "data": {
            "image/png": "[encoded data removed]",
            "text/plain": [
              "<Figure size 1152x288 with 3 Axes>"
            ]
          },
          "metadata": {
            "tags": [],
            "needs_background": "light"
          }
        }
      ]
    },
    {
      "cell_type": "markdown",
      "metadata": {
        "id": "JWM1G1yfl-rP",
        "colab_type": "text"
      },
      "source": [
        "Del histograma y la gráfica Q-Q, podemos ver que la distribución de la variable se aproxima a la Gaussiana. Hay una desviación en los valores de menos de edad. En la gráfica de caja, podemos ver que la variable tiene algunos valores extremos por fuera de los brazos de la gráfica (a la derecha de la distribución - extremo superior del boxplot).\n",
        "\n",
        "### Variables Sesgadas"
      ]
    },
    {
      "cell_type": "code",
      "metadata": {
        "id": "s0F7ZHDIl7I9",
        "colab_type": "code",
        "colab": {
          "base_uri": "https://localhost:8080/",
          "height": 295
        },
        "outputId": "b618da77-7518-4077-d6ba-277ba7154e0a"
      },
      "source": [
        "# variable LSTAT del boston house dataset\n",
        "\n",
        "diagnostic_plots(boston, 'LSTAT')"
      ],
      "execution_count": 10,
      "outputs": [
        {
          "output_type": "display_data",
          "data": {
            "image/png": "[encoded data removed]",
            "text/plain": [
              "<Figure size 1152x288 with 3 Axes>"
            ]
          },
          "metadata": {
            "tags": [],
            "needs_background": "light"
          }
        }
      ]
    },
    {
      "cell_type": "markdown",
      "metadata": {
        "id": "qdoOM6otmIHz",
        "colab_type": "text"
      },
      "source": [
        "LSTAT no está normalmente distribuida, de hecho vemos que está sesgada con una cola hacia la derecha. Según el gráfico de caja, hay algunos valores extremos en la cola derecha de la variable.\n"
      ]
    },
    {
      "cell_type": "code",
      "metadata": {
        "id": "rcb9gAkemDqP",
        "colab_type": "code",
        "colab": {
          "base_uri": "https://localhost:8080/",
          "height": 295
        },
        "outputId": "9beba2e2-9836-434e-e642-a064135eccb6"
      },
      "source": [
        "# variable CRIM del boston house dataset\n",
        "# CRIM es la tasa de crimem per capita por ciudad\n",
        "\n",
        "diagnostic_plots(boston, 'CRIM')"
      ],
      "execution_count": 11,
      "outputs": [
        {
          "output_type": "display_data",
          "data": {
            "image/png": "[encoded data removed]",
            "text/plain": [
              "<Figure size 1152x288 with 3 Axes>"
            ]
          },
          "metadata": {
            "tags": [],
            "needs_background": "light"
          }
        }
      ]
    },
    {
      "cell_type": "markdown",
      "metadata": {
        "id": "Z0wwmB3EmS7N",
        "colab_type": "text"
      },
      "source": [
        "CRIM está altamente sesgada hacia la derecha. Parece que hay bastantes valores atípicos hacia el extremo derecho de la distribución (se observa del histograma y el gráfico de caja)."
      ]
    },
    {
      "cell_type": "code",
      "metadata": {
        "id": "gPvBUDE0mO-Q",
        "colab_type": "code",
        "colab": {
          "base_uri": "https://localhost:8080/",
          "height": 295
        },
        "outputId": "01bf486b-d4af-4408-e425-4f4cb8c55085"
      },
      "source": [
        "# variable Fare del titanic dataset\n",
        "# Fare es el precio que pagó cada pasajero por su tiquete \n",
        "\n",
        "diagnostic_plots(titanic, 'fare')"
      ],
      "execution_count": 12,
      "outputs": [
        {
          "output_type": "display_data",
          "data": {
            "image/png": "[encoded data removed]",
            "text/plain": [
              "<Figure size 1152x288 with 3 Axes>"
            ]
          },
          "metadata": {
            "tags": [],
            "needs_background": "light"
          }
        }
      ]
    },
    {
      "cell_type": "markdown",
      "metadata": {
        "id": "KTr4ilihmbQY",
        "colab_type": "text"
      },
      "source": [
        "La distribución de la variable Fare también está bastante sesgada y muestra valores inusuales a la derecha de la distribución.\n",
        "\n",
        "En las próximas celdas, vamos a identificar los valores extremos usando la media y la desviación estándar de las variables RM y Age de los sets de datos de Boston y Titanic. Luego vamos a usar los rangos inter-cuantiles para identificar los valores extremos de las variables LSTAT y CRIM del set de datos Boston.\n",
        "\n",
        "### Análisis de valores extremos para variables normalmente distribuidas"
      ]
    },
    {
      "cell_type": "code",
      "metadata": {
        "id": "xxFKqWN0mXVI",
        "colab_type": "code",
        "colab": {}
      },
      "source": [
        "# función para encontrar los límites inferiores y superiores\n",
        "# para variables normalmente distribuidas\n",
        "\n",
        "def find_normal_boundaries(df, variable):\n",
        "\n",
        "    # Calcular los límites para los valores extremos\n",
        "    \n",
        "    upper_boundary = df[variable].mean() + 3 * df[variable].std()\n",
        "    lower_boundary = df[variable].mean() - 3 * df[variable].std()\n",
        "\n",
        "    return upper_boundary, lower_boundary"
      ],
      "execution_count": 13,
      "outputs": []
    },
    {
      "cell_type": "code",
      "metadata": {
        "id": "PSBBrGcEmiKW",
        "colab_type": "code",
        "colab": {
          "base_uri": "https://localhost:8080/",
          "height": 34
        },
        "outputId": "a13911bb-0390-4655-d5b3-34bae61a733d"
      },
      "source": [
        "# calcular los límites para RM \n",
        "upper_boundary, lower_boundary = find_normal_boundaries(boston, 'RM')\n",
        "upper_boundary, lower_boundary"
      ],
      "execution_count": 14,
      "outputs": [
        {
          "output_type": "execute_result",
          "data": {
            "text/plain": [
              "(8.392485817597757, 4.176782957105816)"
            ]
          },
          "metadata": {
            "tags": []
          },
          "execution_count": 14
        }
      ]
    },
    {
      "cell_type": "markdown",
      "metadata": {
        "id": "Sj7adY8smmjt",
        "colab_type": "text"
      },
      "source": [
        "Podemos concluir que los valores mayores a 8.4 o menores a 4.2 no son comunes para RM y por lo tanto se pueden considerar como outliers o valores atípicos.\n"
      ]
    },
    {
      "cell_type": "code",
      "metadata": {
        "id": "nQ3Bdb5ymjvf",
        "colab_type": "code",
        "colab": {
          "base_uri": "https://localhost:8080/",
          "height": 119
        },
        "outputId": "c94dccf0-53d2-4837-915c-91599081814f"
      },
      "source": [
        "# exploremos el número y el porcentage de los valores extremos para RM\n",
        "\n",
        "print('Número total de casas: {}'.format(len(boston)))\n",
        "\n",
        "print('Casas con mas de 8.4 habitaciones (extremo derecho de los valores atípicos): {}'.format(\n",
        "    len(boston[boston['RM'] > upper_boundary])))\n",
        "\n",
        "print('Casas con mas de 4.2 habitaciones (extremo izquierdo de los valores atípicos): {}'.format(\n",
        "    len(boston[boston['RM'] < lower_boundary])))\n",
        "print()\n",
        "print('% extremo derecho de los valores atípicos: {}'.format(\n",
        "    len(boston[boston['RM'] > upper_boundary]) / len(boston)))\n",
        "\n",
        "print('% extremo izquierdo de los valores atípicoss: {}'.format(\n",
        "    len(boston[boston['RM'] < lower_boundary]) / len(boston)))"
      ],
      "execution_count": 15,
      "outputs": [
        {
          "output_type": "stream",
          "text": [
            "Número total de casas: 506\n",
            "Casas con mas de 8.4 habitaciones (extremo derecho de los valores atípicos): 4\n",
            "Casas con mas de 4.2 habitaciones (extremo izquierdo de los valores atípicos): 4\n",
            "\n",
            "% extremo derecho de los valores atípicos: 0.007905138339920948\n",
            "% extremo izquierdo de los valores atípicoss: 0.007905138339920948\n"
          ],
          "name": "stdout"
        }
      ]
    },
    {
      "cell_type": "markdown",
      "metadata": {
        "id": "NjHU5_Jxmxg3",
        "colab_type": "text"
      },
      "source": [
        "Usando el análisis de valores extremos podemos identificar los valores atípicos en ambos extremos de la distribución de RM; el porcentaje es pequeño (1.4% considerando ambos extremos).\n",
        "\n",
        "Continuemos con la variable Age del titanic."
      ]
    },
    {
      "cell_type": "code",
      "metadata": {
        "id": "KvZ9h9U8mp91",
        "colab_type": "code",
        "colab": {
          "base_uri": "https://localhost:8080/",
          "height": 34
        },
        "outputId": "84953e42-1000-4dcf-bb5d-a4dc605fec57"
      },
      "source": [
        "# calculemos los límites de Age en el titanic\n",
        "\n",
        "upper_boundary, lower_boundary = find_normal_boundaries(titanic, 'age')\n",
        "upper_boundary, lower_boundary"
      ],
      "execution_count": 16,
      "outputs": [
        {
          "output_type": "execute_result",
          "data": {
            "text/plain": [
              "(73.01943709155127, -13.31576876619241)"
            ]
          },
          "metadata": {
            "tags": []
          },
          "execution_count": 16
        }
      ]
    },
    {
      "cell_type": "markdown",
      "metadata": {
        "id": "dxOaP5hRm3M_",
        "colab_type": "text"
      },
      "source": [
        "El límite superior es 73 años: lo cual significa que los pasajeros mayores eran muy pocos. El límite inferior es negativo, y como edades negativas no existen, solo buscaremos valores extremos usando el límite superior.\n"
      ]
    },
    {
      "cell_type": "code",
      "metadata": {
        "id": "i9Iv_-6km075",
        "colab_type": "code",
        "colab": {
          "base_uri": "https://localhost:8080/",
          "height": 85
        },
        "outputId": "d7570e40-e541-4fb4-dd99-68c18ca96053"
      },
      "source": [
        "# Número y porcentage de valores extremos\n",
        "\n",
        "print('Pasajeros totales: {}'.format(len(titanic)))\n",
        "\n",
        "print('Pasajeros mayores de  73 años: {}'.format(\n",
        "    len(titanic[titanic['age'] > upper_boundary])))\n",
        "print()\n",
        "print('% Pasajeros mayores de  73 años: {}'.format(\n",
        "    len(titanic[titanic['age'] > upper_boundary]) / len(titanic)))"
      ],
      "execution_count": 17,
      "outputs": [
        {
          "output_type": "stream",
          "text": [
            "Pasajeros totales: 1045\n",
            "Pasajeros mayores de  73 años: 3\n",
            "\n",
            "% Pasajeros mayores de  73 años: 0.0028708133971291866\n"
          ],
          "name": "stdout"
        }
      ]
    },
    {
      "cell_type": "markdown",
      "metadata": {
        "id": "duMxe5GjnO4s",
        "colab_type": "text"
      },
      "source": [
        "Habían tres pasajeros mayores 73 años a bordo del Titanic, que pueden considerarse como valores atípicos, ya que la mayoría de la población era mucho mas joven.\n"
      ]
    },
    {
      "cell_type": "markdown",
      "metadata": {
        "id": "YSpu3WgDnZeW",
        "colab_type": "text"
      },
      "source": [
        "### Análisis de valores extremos para las variables sesgadas. \n"
      ]
    },
    {
      "cell_type": "code",
      "metadata": {
        "id": "68_txSk1nMMG",
        "colab_type": "code",
        "colab": {}
      },
      "source": [
        "# función para encontrar los límites inferiores y superiores\n",
        "# para variables sesgadas \n",
        "\n",
        "\n",
        "def find_skewed_boundaries(df, variable, distance):\n",
        "\n",
        "    # Calcular los límites para los valores extremos\n",
        "\n",
        "    # distance es un argumento de la función que da la opción de \n",
        "    # estimar 1.5 o 3 veces el IQR para calcular los límites\n",
        "\n",
        "    IQR = df[variable].quantile(0.75) - df[variable].quantile(0.25)\n",
        "\n",
        "    lower_boundary = df[variable].quantile(0.25) - (IQR * distance)\n",
        "    upper_boundary = df[variable].quantile(0.75) + (IQR * distance)\n",
        "\n",
        "    return upper_boundary, lower_boundary"
      ],
      "execution_count": 18,
      "outputs": []
    },
    {
      "cell_type": "code",
      "metadata": {
        "id": "ksw0t2nQnbaH",
        "colab_type": "code",
        "colab": {
          "base_uri": "https://localhost:8080/",
          "height": 34
        },
        "outputId": "bf11496c-e6db-423e-90c7-cffcb17e37b3"
      },
      "source": [
        "# determinemos los valores extremos\n",
        "# usando la regla de proximidad entre-cuantiles: IQR * 1.5\n",
        "\n",
        "# para LSTAT en el boston house dataset\n",
        "\n",
        "upper_boundary, lower_boundary = find_skewed_boundaries(boston, 'LSTAT', 1.5)\n",
        "upper_boundary, lower_boundary"
      ],
      "execution_count": 19,
      "outputs": [
        {
          "output_type": "execute_result",
          "data": {
            "text/plain": [
              "(31.962500000000006, -8.057500000000005)"
            ]
          },
          "metadata": {
            "tags": []
          },
          "execution_count": 19
        }
      ]
    },
    {
      "cell_type": "code",
      "metadata": {
        "id": "RMNRZIE_nizk",
        "colab_type": "code",
        "colab": {
          "base_uri": "https://localhost:8080/",
          "height": 85
        },
        "outputId": "2e8443b1-0c72-49b0-8938-d15015e64678"
      },
      "source": [
        "# miremos el número y porcentage de valores extremos \n",
        "# para LSTAT\n",
        "\n",
        "# recordemos que LSTAT es el porcentage de estratos bajos de la población\n",
        "\n",
        "print('total casas: {}'.format(len(boston)))\n",
        "\n",
        "print('casas con LSTAT más de 32%: {}'.format(\n",
        "    len(boston[boston['LSTAT'] > upper_boundary])))\n",
        "print()\n",
        "print('% casas con LSTAT mayor que 32%: {}'.format(\n",
        "    len(boston[boston['LSTAT'] > upper_boundary])/len(boston)))"
      ],
      "execution_count": 20,
      "outputs": [
        {
          "output_type": "stream",
          "text": [
            "total casas: 506\n",
            "casas con LSTAT más de 32%: 7\n",
            "\n",
            "% casas con LSTAT mayor que 32%: 0.01383399209486166\n"
          ],
          "name": "stdout"
        }
      ]
    },
    {
      "cell_type": "markdown",
      "metadata": {
        "id": "vaDZdknRn2gw",
        "colab_type": "text"
      },
      "source": [
        "El límite superior muestra un valor de ~32%. El límite inferior es negativo, LSTAT no tiene valores negativos. Asique usaremos solamente el límite superior.\n",
        "\n",
        "Vemos que hay 7 casas, 1.3 % del conjunto total de datos, que tienen valores extremos para LSTAT\n"
      ]
    },
    {
      "cell_type": "code",
      "metadata": {
        "id": "f7OpqVpJnkss",
        "colab_type": "code",
        "colab": {
          "base_uri": "https://localhost:8080/",
          "height": 34
        },
        "outputId": "9464f70e-9f72-4f12-cade-8566140eae77"
      },
      "source": [
        "# Para los valores extremos, \n",
        "# usemos la regla de proximidad  \n",
        "# entre-cuantiles multiplicando por 3: IQR * 3\n",
        "\n",
        "upper_boundary, lower_boundary = find_skewed_boundaries(boston, 'CRIM', 3)\n",
        "upper_boundary, lower_boundary"
      ],
      "execution_count": 21,
      "outputs": [
        {
          "output_type": "execute_result",
          "data": {
            "text/plain": [
              "(14.462195000000001, -10.7030675)"
            ]
          },
          "metadata": {
            "tags": []
          },
          "execution_count": 21
        }
      ]
    },
    {
      "cell_type": "code",
      "metadata": {
        "id": "_sUHGXpwoAsU",
        "colab_type": "code",
        "colab": {
          "base_uri": "https://localhost:8080/",
          "height": 85
        },
        "outputId": "9ab40776-5ce8-4d7c-9db6-96b0651963aa"
      },
      "source": [
        "# miremos el número y porcentage de valores extremos \n",
        "# para CRIM\n",
        "\n",
        "print('número total de casas: {}'.format(len(boston)))\n",
        "\n",
        "print('casas con CRIM mayor a 14 : {}'.format(\n",
        "    len(boston[boston['CRIM'] > upper_boundary])))\n",
        "print()\n",
        "print('% casas con CRIM mayor a 14: {}'.format(\n",
        "    len(boston[boston['CRIM'] > upper_boundary]) / len(boston)))"
      ],
      "execution_count": 22,
      "outputs": [
        {
          "output_type": "stream",
          "text": [
            "número total de casas: 506\n",
            "casas con CRIM mayor a 14 : 30\n",
            "\n",
            "% casas con CRIM mayor a 14: 0.05928853754940711\n"
          ],
          "name": "stdout"
        }
      ]
    },
    {
      "cell_type": "markdown",
      "metadata": {
        "id": "u-gAF3AuoPQi",
        "colab_type": "text"
      },
      "source": [
        "Cuando usamos 3 veces el rango entre-cuantil para encontrar los valores extremos, vemos que ~6% de las casas tienen una tasa alta de crimen. Para CRIM también el límite inferior es negativo, por lo tanto solo usaremos el límite superior.\n"
      ]
    },
    {
      "cell_type": "markdown",
      "metadata": {
        "id": "HDkClf0bplPl",
        "colab_type": "text"
      },
      "source": [
        "# Escala de variables (Magnitud)"
      ]
    },
    {
      "cell_type": "markdown",
      "metadata": {
        "id": "rOrgIpFQqLID",
        "colab_type": "text"
      },
      "source": [
        "En los modelos lineales la escala o magnitud de las variables usadas para estimar la variable de respuesta influye en el desempeño del modelo.\n",
        "\n",
        "**Consideraciones:**\n",
        "\n",
        "$y=\\beta_{0}+\\beta_{1}x_{1}+\\beta_{2}x_{2}+...+\\beta_{n}x_{n}$\n",
        "\n",
        "$\\bullet$ $\\beta$ indica un cambio en $y$ por unidad de cambio en $x$\n",
        "\n",
        "$\\bullet$ Si $x$ cambia de escala, $\\beta$ cambia de valor\n",
        "\n",
        "$\\bullet$ Coeficientes de regresión dependen de la magnitud de las variables\n",
        "\n",
        "$\\bullet$ Variables con un rango mayor de valores tienden a dominar\n",
        "\n",
        "**Nota:**\n",
        "\n",
        "*En los modelos lineales:*\n",
        "\n",
        "$\\star$ Influye directamente en los coeficientes de la regresión.\n",
        "\n",
        "$\\star$ Variables con mayor escala dominan\n",
        "\n",
        "*Modelos no lineales:*\n",
        "\n",
        "$\\star$ Descenso del gradiente tiende a converger más rápido cuando las variables tienen una escala similar\n",
        "\n",
        "$\\star$ SVM encuentra más rápido los vectores de soporte cuando las variables estan normalizadas\n",
        "\n",
        "$\\star$ Medidas de distancia (Euclideana): son sensibles a la escala de las variables, la magnitud de cada variable afecta el cálculo de la distancia.\n"
      ]
    },
    {
      "cell_type": "markdown",
      "metadata": {
        "id": "KbBF-srkt-w3",
        "colab_type": "text"
      },
      "source": [
        "**Modelos más sensibles a la escala de las variables:**\n",
        "\n",
        "$\\bullet$ Regresiones lineales y logísticas\n",
        "\n",
        "$\\bullet$ Redes Neuronales\n",
        "\n",
        "$\\bullet$ Máquinas de soporte vectorial\n",
        "\n",
        "$\\bullet$ K-vecinos cercanos (KNN)\n",
        "\n",
        "$\\bullet$ Agrupación K-means\n",
        "\n",
        "$\\bullet$ Análisis discriminante Lineal (LDA)\n",
        "\n",
        "$\\bullet$ Análisis de componentes principales (PCA)\n",
        "\n",
        "**Modelos menos sensibles a la escala de las variables:**\n",
        "\n",
        "$\\bullet$ Árboles de clasificación y regresión\n",
        "\n",
        "$\\bullet$ Árboles de potenciación del gradiente\n",
        "\n",
        "$\\bullet$ Bosques aleatorios (Random Forest)"
      ]
    },
    {
      "cell_type": "code",
      "metadata": {
        "id": "6k0mlKk_oEjC",
        "colab_type": "code",
        "colab": {}
      },
      "source": [
        "import pandas as pd\n",
        "import numpy as np\n",
        "\n",
        "# importar varios modelos de machine learning \n",
        "from sklearn.linear_model import LogisticRegression\n",
        "from sklearn.ensemble import AdaBoostClassifier\n",
        "from sklearn.ensemble import RandomForestClassifier\n",
        "from sklearn.svm import SVC\n",
        "from sklearn.neural_network import MLPClassifier\n",
        "from sklearn.neighbors import KNeighborsClassifier\n",
        "\n",
        "# para escalar las variables\n",
        "from sklearn.preprocessing import MinMaxScaler\n",
        "\n",
        "# para evaluar el desempeño y separar datos en entrenamiento y prueba\n",
        "from sklearn.metrics import roc_auc_score\n",
        "from sklearn.model_selection import train_test_split"
      ],
      "execution_count": 23,
      "outputs": []
    },
    {
      "cell_type": "markdown",
      "metadata": {
        "id": "6c0MYSqayCju",
        "colab_type": "text"
      },
      "source": [
        "### Cargar los datos con las variables numéricas únicamente"
      ]
    },
    {
      "cell_type": "code",
      "metadata": {
        "id": "VH7f64X2x_jT",
        "colab_type": "code",
        "colab": {
          "base_uri": "https://localhost:8080/",
          "height": 204
        },
        "outputId": "1590edbf-f940-47d0-f40f-e4a2b7c93781"
      },
      "source": [
        "# Cargar las variables numéricas del Titanic\n",
        "\n",
        "data = pd.read_csv('/content/drive/My Drive/datasets/titanic.csv',\n",
        "                   usecols=['pclass', 'age', 'fare', 'survived'])\n",
        "data.head()"
      ],
      "execution_count": 24,
      "outputs": [
        {
          "output_type": "execute_result",
          "data": {
            "text/html": [
              "<div>\n",
              "<style scoped>\n",
              "    .dataframe tbody tr th:only-of-type {\n",
              "        vertical-align: middle;\n",
              "    }\n",
              "\n",
              "    .dataframe tbody tr th {\n",
              "        vertical-align: top;\n",
              "    }\n",
              "\n",
              "    .dataframe thead th {\n",
              "        text-align: right;\n",
              "    }\n",
              "</style>\n",
              "<table border=\"1\" class=\"dataframe\">\n",
              "  <thead>\n",
              "    <tr style=\"text-align: right;\">\n",
              "      <th></th>\n",
              "      <th>pclass</th>\n",
              "      <th>survived</th>\n",
              "      <th>age</th>\n",
              "      <th>fare</th>\n",
              "    </tr>\n",
              "  </thead>\n",
              "  <tbody>\n",
              "    <tr>\n",
              "      <th>0</th>\n",
              "      <td>1</td>\n",
              "      <td>1</td>\n",
              "      <td>29.0000</td>\n",
              "      <td>211.3375</td>\n",
              "    </tr>\n",
              "    <tr>\n",
              "      <th>1</th>\n",
              "      <td>1</td>\n",
              "      <td>1</td>\n",
              "      <td>0.9167</td>\n",
              "      <td>151.5500</td>\n",
              "    </tr>\n",
              "    <tr>\n",
              "      <th>2</th>\n",
              "      <td>1</td>\n",
              "      <td>0</td>\n",
              "      <td>2.0000</td>\n",
              "      <td>151.5500</td>\n",
              "    </tr>\n",
              "    <tr>\n",
              "      <th>3</th>\n",
              "      <td>1</td>\n",
              "      <td>0</td>\n",
              "      <td>30.0000</td>\n",
              "      <td>151.5500</td>\n",
              "    </tr>\n",
              "    <tr>\n",
              "      <th>4</th>\n",
              "      <td>1</td>\n",
              "      <td>0</td>\n",
              "      <td>25.0000</td>\n",
              "      <td>151.5500</td>\n",
              "    </tr>\n",
              "  </tbody>\n",
              "</table>\n",
              "</div>"
            ],
            "text/plain": [
              "   pclass  survived      age      fare\n",
              "0       1         1  29.0000  211.3375\n",
              "1       1         1   0.9167  151.5500\n",
              "2       1         0   2.0000  151.5500\n",
              "3       1         0  30.0000  151.5500\n",
              "4       1         0  25.0000  151.5500"
            ]
          },
          "metadata": {
            "tags": []
          },
          "execution_count": 24
        }
      ]
    },
    {
      "cell_type": "code",
      "metadata": {
        "id": "8YnXeMkyyINZ",
        "colab_type": "code",
        "colab": {
          "base_uri": "https://localhost:8080/",
          "height": 297
        },
        "outputId": "6fce4be1-4879-4905-a41e-a5d6c7cb5a91"
      },
      "source": [
        "# miremos los valores de cada una de las variables\n",
        "# para darnos una idea de la mgnitud/escala de las variables\n",
        "data.describe()"
      ],
      "execution_count": 25,
      "outputs": [
        {
          "output_type": "execute_result",
          "data": {
            "text/html": [
              "<div>\n",
              "<style scoped>\n",
              "    .dataframe tbody tr th:only-of-type {\n",
              "        vertical-align: middle;\n",
              "    }\n",
              "\n",
              "    .dataframe tbody tr th {\n",
              "        vertical-align: top;\n",
              "    }\n",
              "\n",
              "    .dataframe thead th {\n",
              "        text-align: right;\n",
              "    }\n",
              "</style>\n",
              "<table border=\"1\" class=\"dataframe\">\n",
              "  <thead>\n",
              "    <tr style=\"text-align: right;\">\n",
              "      <th></th>\n",
              "      <th>pclass</th>\n",
              "      <th>survived</th>\n",
              "      <th>age</th>\n",
              "      <th>fare</th>\n",
              "    </tr>\n",
              "  </thead>\n",
              "  <tbody>\n",
              "    <tr>\n",
              "      <th>count</th>\n",
              "      <td>1309.000000</td>\n",
              "      <td>1309.000000</td>\n",
              "      <td>1046.000000</td>\n",
              "      <td>1308.000000</td>\n",
              "    </tr>\n",
              "    <tr>\n",
              "      <th>mean</th>\n",
              "      <td>2.294882</td>\n",
              "      <td>0.381971</td>\n",
              "      <td>29.881135</td>\n",
              "      <td>33.295479</td>\n",
              "    </tr>\n",
              "    <tr>\n",
              "      <th>std</th>\n",
              "      <td>0.837836</td>\n",
              "      <td>0.486055</td>\n",
              "      <td>14.413500</td>\n",
              "      <td>51.758668</td>\n",
              "    </tr>\n",
              "    <tr>\n",
              "      <th>min</th>\n",
              "      <td>1.000000</td>\n",
              "      <td>0.000000</td>\n",
              "      <td>0.166700</td>\n",
              "      <td>0.000000</td>\n",
              "    </tr>\n",
              "    <tr>\n",
              "      <th>25%</th>\n",
              "      <td>2.000000</td>\n",
              "      <td>0.000000</td>\n",
              "      <td>21.000000</td>\n",
              "      <td>7.895800</td>\n",
              "    </tr>\n",
              "    <tr>\n",
              "      <th>50%</th>\n",
              "      <td>3.000000</td>\n",
              "      <td>0.000000</td>\n",
              "      <td>28.000000</td>\n",
              "      <td>14.454200</td>\n",
              "    </tr>\n",
              "    <tr>\n",
              "      <th>75%</th>\n",
              "      <td>3.000000</td>\n",
              "      <td>1.000000</td>\n",
              "      <td>39.000000</td>\n",
              "      <td>31.275000</td>\n",
              "    </tr>\n",
              "    <tr>\n",
              "      <th>max</th>\n",
              "      <td>3.000000</td>\n",
              "      <td>1.000000</td>\n",
              "      <td>80.000000</td>\n",
              "      <td>512.329200</td>\n",
              "    </tr>\n",
              "  </tbody>\n",
              "</table>\n",
              "</div>"
            ],
            "text/plain": [
              "            pclass     survived          age         fare\n",
              "count  1309.000000  1309.000000  1046.000000  1308.000000\n",
              "mean      2.294882     0.381971    29.881135    33.295479\n",
              "std       0.837836     0.486055    14.413500    51.758668\n",
              "min       1.000000     0.000000     0.166700     0.000000\n",
              "25%       2.000000     0.000000    21.000000     7.895800\n",
              "50%       3.000000     0.000000    28.000000    14.454200\n",
              "75%       3.000000     1.000000    39.000000    31.275000\n",
              "max       3.000000     1.000000    80.000000   512.329200"
            ]
          },
          "metadata": {
            "tags": []
          },
          "execution_count": 25
        }
      ]
    },
    {
      "cell_type": "markdown",
      "metadata": {
        "id": "jr_VG7VCyP5Z",
        "colab_type": "text"
      },
      "source": [
        "Podemos ver que la variable fare varia entre 0 y 512, age entre 0 y 80, y class entre 0 y 3. Las variables tienen claramente diferentes escalas de magnitud."
      ]
    },
    {
      "cell_type": "code",
      "metadata": {
        "id": "XAMA6xIdyPFH",
        "colab_type": "code",
        "colab": {
          "base_uri": "https://localhost:8080/",
          "height": 68
        },
        "outputId": "b85fa3c8-5d89-4684-e4ef-6f241f1c5afd"
      },
      "source": [
        "# calculemos el rango\n",
        "\n",
        "for col in ['pclass', 'age', 'fare']:\n",
        "    print('rango:',col, data[col].max() - data[col].min())"
      ],
      "execution_count": 27,
      "outputs": [
        {
          "output_type": "stream",
          "text": [
            "rango: pclass 2\n",
            "rango: age 79.8333\n",
            "rango: fare 512.3292\n"
          ],
          "name": "stdout"
        }
      ]
    },
    {
      "cell_type": "markdown",
      "metadata": {
        "id": "ggHYeB0byfyw",
        "colab_type": "text"
      },
      "source": [
        "El rango de valores que puede tomar cada una de las variables es diferente."
      ]
    },
    {
      "cell_type": "code",
      "metadata": {
        "id": "H0w5-_oQya4v",
        "colab_type": "code",
        "colab": {
          "base_uri": "https://localhost:8080/",
          "height": 34
        },
        "outputId": "a2c81369-79f6-4b1c-da26-4a0ad9390362"
      },
      "source": [
        "# separemos los datos en entrenamiento y prueba\n",
        "# los datos del titanic contienen datos ausentes\n",
        "# para este demo, los sustituiremos con 0s.\n",
        "\n",
        "X_train, X_test, y_train, y_test = train_test_split(\n",
        "    data[['pclass', 'age', 'fare']].fillna(0),\n",
        "    data.survived,\n",
        "    test_size=0.3,\n",
        "    random_state=0)\n",
        "\n",
        "X_train.shape, X_test.shape"
      ],
      "execution_count": 28,
      "outputs": [
        {
          "output_type": "execute_result",
          "data": {
            "text/plain": [
              "((916, 3), (393, 3))"
            ]
          },
          "metadata": {
            "tags": []
          },
          "execution_count": 28
        }
      ]
    },
    {
      "cell_type": "markdown",
      "metadata": {
        "id": "EcDQysjDyk7-",
        "colab_type": "text"
      },
      "source": [
        "### Escalamiento de las variables"
      ]
    },
    {
      "cell_type": "markdown",
      "metadata": {
        "id": "X0Fpo_LNynsl",
        "colab_type": "text"
      },
      "source": [
        "Para este demo, normalizaremos las variables entre 0 y 1, usando  el MinMaxScaler de Scikit-learn. Para aprender más acerca de este escalamiento por favor visita la página de internet de Scikit-learn [website](http://scikit-learn.org/stable/modules/generated/sklearn.preprocessing.MinMaxScaler.html)\n",
        "\n",
        "La transformación: \n",
        "\n",
        "X_rescaled = X - X.min() / (X.max - X.min()\n",
        "\n",
        "y para transformar de vuelta las variables normalizadas a su escala original:\n",
        "\n",
        "X = X_rescaled * (max - min) + min\n",
        "\n"
      ]
    },
    {
      "cell_type": "code",
      "metadata": {
        "id": "Yg1F8nZMyjJ5",
        "colab_type": "code",
        "colab": {}
      },
      "source": [
        "# escalemos las variables entre 0 y 1.\n",
        "\n",
        "# scaler\n",
        "scaler = MinMaxScaler()\n",
        "\n",
        "# ajustar el scaler\n",
        "scaler.fit(X_train)\n",
        "\n",
        "# re escalar los datos\n",
        "X_train_scaled = scaler.transform(X_train)\n",
        "X_test_scaled = scaler.transform(X_test)"
      ],
      "execution_count": 29,
      "outputs": []
    },
    {
      "cell_type": "code",
      "metadata": {
        "id": "icNiMvkjy25B",
        "colab_type": "code",
        "colab": {
          "base_uri": "https://localhost:8080/",
          "height": 85
        },
        "outputId": "03da0725-3dec-4591-f5be-bfbd9fc58fa8"
      },
      "source": [
        "#veamos los datos normalizados\n",
        "\n",
        "print('Media: ', X_train_scaled.mean(axis=0))\n",
        "print('Desviación Estandard: ', X_train_scaled.std(axis=0))\n",
        "print('Valor Mínimo: ', X_train_scaled.min(axis=0))\n",
        "print('Valor Máximo: ', X_train_scaled.max(axis=0))"
      ],
      "execution_count": 30,
      "outputs": [
        {
          "output_type": "stream",
          "text": [
            "Media:  [0.64628821 0.33048359 0.06349833]\n",
            "Desviación Estandard:  [0.42105785 0.23332045 0.09250036]\n",
            "Valor Mínimo:  [0. 0. 0.]\n",
            "Valor Máximo:  [1. 1. 1.]\n"
          ],
          "name": "stdout"
        }
      ]
    },
    {
      "cell_type": "markdown",
      "metadata": {
        "id": "_1l9kn3tzHw6",
        "colab_type": "text"
      },
      "source": [
        "Ahora, los valores máximos de todas las variables es 1, y el valor mínimo es 0, como era de esperarse después de la normalización. Ahora todas las variables tienen una escala similar."
      ]
    },
    {
      "cell_type": "markdown",
      "metadata": {
        "id": "TOm3Uy2KzKsi",
        "colab_type": "text"
      },
      "source": [
        "### Regresión Logística \n",
        "\n",
        "Evaluemos el efecto del escalamiento de las variables en una regresión logística."
      ]
    },
    {
      "cell_type": "code",
      "metadata": {
        "id": "bYUgAulfy-y_",
        "colab_type": "code",
        "colab": {
          "base_uri": "https://localhost:8080/",
          "height": 85
        },
        "outputId": "9dca3e0b-0770-4266-8d8a-36ea9404482e"
      },
      "source": [
        "# modelo construido con variables sin escalar\n",
        "\n",
        "# Definición del Modelo\n",
        "logit = LogisticRegression(\n",
        "    random_state=44,\n",
        "    C=1000,  # valor alto para prevenir regularización\n",
        "    solver='lbfgs')\n",
        "\n",
        "# entrenamiento del modelo \n",
        "logit.fit(X_train, y_train)\n",
        "\n",
        "# evaluación del desempeño \n",
        "print('Segmento de entrenamiento')\n",
        "pred = logit.predict_proba(X_train)\n",
        "print('Regresión logística roc-auc: {}'.format(\n",
        "    roc_auc_score(y_train, pred[:, 1])))\n",
        "print('Segmento de prueba')\n",
        "pred = logit.predict_proba(X_test)\n",
        "print('Regresión logística roc-auc: {}'.format(\n",
        "    roc_auc_score(y_test, pred[:, 1])))"
      ],
      "execution_count": 31,
      "outputs": [
        {
          "output_type": "stream",
          "text": [
            "Segmento de entrenamiento\n",
            "Regresión logística roc-auc: 0.6793181006244372\n",
            "Segmento de prueba\n",
            "Regresión logística roc-auc: 0.7175488081411426\n"
          ],
          "name": "stdout"
        }
      ]
    },
    {
      "cell_type": "code",
      "metadata": {
        "id": "rBQsBmHKzR4f",
        "colab_type": "code",
        "colab": {
          "base_uri": "https://localhost:8080/",
          "height": 34
        },
        "outputId": "052ef41e-5376-422f-a721-0301b2b4dd1d"
      },
      "source": [
        "# miremos los  coeficientes\n",
        "logit.coef_"
      ],
      "execution_count": 32,
      "outputs": [
        {
          "output_type": "execute_result",
          "data": {
            "text/plain": [
              "array([[-0.71428242, -0.00923013,  0.00425235]])"
            ]
          },
          "metadata": {
            "tags": []
          },
          "execution_count": 32
        }
      ]
    },
    {
      "cell_type": "code",
      "metadata": {
        "id": "50popfj0zVmG",
        "colab_type": "code",
        "colab": {
          "base_uri": "https://localhost:8080/",
          "height": 85
        },
        "outputId": "4da7cd07-1509-4709-9db7-bc5edc7b5a36"
      },
      "source": [
        "# modelo construido con variables normalizadas\n",
        "\n",
        "# Definición del Modelo\n",
        "logit = LogisticRegression(\n",
        "    random_state=44,\n",
        "    C=1000,  # valor alto para prevenir regularización\n",
        "    solver='lbfgs')\n",
        "\n",
        "# entrenamiento del modelo con los datos re-escalados\n",
        "logit.fit(X_train_scaled, y_train)\n",
        "\n",
        "# evaluación del desempeño \n",
        "print('Segmento de entrenamiento')\n",
        "pred = logit.predict_proba(X_train_scaled)\n",
        "print('Regresión logística roc-auc: {}'.format(\n",
        "    roc_auc_score(y_train, pred[:, 1])))\n",
        "print('Segmento de prueba')\n",
        "pred = logit.predict_proba(X_test_scaled)\n",
        "print('Regresión logística roc-auc: {}'.format(\n",
        "    roc_auc_score(y_test, pred[:, 1])))"
      ],
      "execution_count": 33,
      "outputs": [
        {
          "output_type": "stream",
          "text": [
            "Segmento de entrenamiento\n",
            "Regresión logística roc-auc: 0.6793281640744896\n",
            "Segmento de prueba\n",
            "Regresión logística roc-auc: 0.7175488081411426\n"
          ],
          "name": "stdout"
        }
      ]
    },
    {
      "cell_type": "code",
      "metadata": {
        "id": "V7kEhLzMzZMa",
        "colab_type": "code",
        "colab": {
          "base_uri": "https://localhost:8080/",
          "height": 34
        },
        "outputId": "9b01ea3f-d5b2-4d16-86ff-8ba81c012034"
      },
      "source": [
        "logit.coef_"
      ],
      "execution_count": 34,
      "outputs": [
        {
          "output_type": "execute_result",
          "data": {
            "text/plain": [
              "array([[-1.42875872, -0.68293349,  2.17646757]])"
            ]
          },
          "metadata": {
            "tags": []
          },
          "execution_count": 34
        }
      ]
    },
    {
      "cell_type": "markdown",
      "metadata": {
        "id": "HjoeykVgzhq4",
        "colab_type": "text"
      },
      "source": [
        "Vemos que el desempeño de la regresión logística no cambio cuando usamos los datos normalizados ( comparando el roc-auc para el segmento de prueba y entrenamiento para modelos con y sin variables escaladas).\n",
        "\n",
        "Sin embargo, cuando vemos los coeficientes vemos una gran diferencia en sus valores. Esto es porque la magnitud de las variables estaba afectando los coeficientes. Despues del escalamiento, todas las 3 variables tienen relativamente el mismo efecto (coeficientes) con respecto a 'survival', mientras que sin el escalamiento, estariamos más inclinados a pensar que pclass dominaba en la predicción de la tasa de supervivencia survival (el coeficiente de pclass es dos ordenes mayor que los coeficientes de las otras dos variables, cuando el modelo se entrena sobre las variables sin escalar)."
      ]
    },
    {
      "cell_type": "markdown",
      "metadata": {
        "id": "yKNlQStnzuhf",
        "colab_type": "text"
      },
      "source": [
        "### Máquinas de Soporte Vectorial SVMs"
      ]
    },
    {
      "cell_type": "code",
      "metadata": {
        "id": "a9ua-Lrqzc80",
        "colab_type": "code",
        "colab": {
          "base_uri": "https://localhost:8080/",
          "height": 85
        },
        "outputId": "14aeebc9-c4ed-4b78-ba0e-52e6b769ff47"
      },
      "source": [
        "# Modelo con variables sin normalizar\n",
        "\n",
        "# definición del modelo\n",
        "SVM_model = SVC(random_state=44, probability=True, gamma='auto')\n",
        "\n",
        "#  entrenamiento del modelo\n",
        "SVM_model.fit(X_train, y_train)\n",
        "\n",
        "# evaluación del desempeño\n",
        "print('Segmento de entrenamiento')\n",
        "pred = SVM_model.predict_proba(X_train)\n",
        "print('SVM roc-auc: {}'.format(roc_auc_score(y_train, pred[:, 1])))\n",
        "print('Segmento de prueba')\n",
        "pred = SVM_model.predict_proba(X_test)\n",
        "print('SVM roc-auc: {}'.format(roc_auc_score(y_test, pred[:, 1])))"
      ],
      "execution_count": 35,
      "outputs": [
        {
          "output_type": "stream",
          "text": [
            "Segmento de entrenamiento\n",
            "SVM roc-auc: 0.8823809116479402\n",
            "Segmento de prueba\n",
            "SVM roc-auc: 0.6617305458768874\n"
          ],
          "name": "stdout"
        }
      ]
    },
    {
      "cell_type": "code",
      "metadata": {
        "id": "s9QuMw0Vzwnc",
        "colab_type": "code",
        "colab": {
          "base_uri": "https://localhost:8080/",
          "height": 85
        },
        "outputId": "639028fd-6009-4f2f-d69b-ece31ef93a4e"
      },
      "source": [
        "# Modelo con variables normalizadas\n",
        "\n",
        "# definición del modelo\n",
        "SVM_model = SVC(random_state=44, probability=True, gamma='auto')\n",
        "\n",
        "# entrenamiento del modelo\n",
        "SVM_model.fit(X_train_scaled, y_train)\n",
        "\n",
        "# evaluación del desempeño\n",
        "print('Segmento de entrenamiento')\n",
        "pred = SVM_model.predict_proba(X_train_scaled)\n",
        "print('SVM roc-auc: {}'.format(roc_auc_score(y_train, pred[:, 1])))\n",
        "print('Segmento de prueba')\n",
        "pred = SVM_model.predict_proba(X_test_scaled)\n",
        "print('SVM roc-auc: {}'.format(roc_auc_score(y_test, pred[:, 1])))"
      ],
      "execution_count": 36,
      "outputs": [
        {
          "output_type": "stream",
          "text": [
            "Segmento de entrenamiento\n",
            "SVM roc-auc: 0.6781406769682851\n",
            "Segmento de prueba\n",
            "SVM roc-auc: 0.6841435761296388\n"
          ],
          "name": "stdout"
        }
      ]
    },
    {
      "cell_type": "markdown",
      "metadata": {
        "id": "c8mVWJ6Yz2bB",
        "colab_type": "text"
      },
      "source": [
        "El escalamiento de las variables mejoró el desempeño de SVMs. Luego de la normalización el modelo no sobre-ajusta a los datos de entrenamiento (compara el roc-auc en el set de entrenamiento para el modelo sin escalar vs el roc-auc tras la normalización). Adicionalmente, el roc-auc para el segmento de prueba se incrementó también (0.66 vs 0.68)."
      ]
    },
    {
      "cell_type": "markdown",
      "metadata": {
        "id": "DsNKS5Yxz7e3",
        "colab_type": "text"
      },
      "source": [
        "### Redes Neuronales "
      ]
    },
    {
      "cell_type": "code",
      "metadata": {
        "id": "3M9_XrK4zyj2",
        "colab_type": "code",
        "colab": {
          "base_uri": "https://localhost:8080/",
          "height": 85
        },
        "outputId": "af4aaf01-5ef8-4834-f70c-8f17ee67d829"
      },
      "source": [
        "# Modelo con variables sin normalizar\n",
        "\n",
        "# definición del modelo\n",
        "NN_model = MLPClassifier(random_state=44, solver='sgd')\n",
        "\n",
        "# entrenamiento del modelo\n",
        "NN_model.fit(X_train, y_train)\n",
        "\n",
        "# evaluación de desempeño\n",
        "print('Segmento de entrenamiento')\n",
        "pred = NN_model.predict_proba(X_train)\n",
        "print('Red Neuronal roc-auc: {}'.format(roc_auc_score(y_train, pred[:,1])))\n",
        "print('Segmento de prueba')\n",
        "pred = NN_model.predict_proba(X_test)\n",
        "print('Red Neuronal roc-auc: {}'.format(roc_auc_score(y_test, pred[:,1])))"
      ],
      "execution_count": 37,
      "outputs": [
        {
          "output_type": "stream",
          "text": [
            "Segmento de entrenamiento\n",
            "Red Neuronal roc-auc: 0.6766839925731739\n",
            "Segmento de prueba\n",
            "Red Neuronal roc-auc: 0.7161108345777334\n"
          ],
          "name": "stdout"
        }
      ]
    },
    {
      "cell_type": "code",
      "metadata": {
        "id": "eQccfwR_z9Xr",
        "colab_type": "code",
        "colab": {
          "base_uri": "https://localhost:8080/",
          "height": 85
        },
        "outputId": "ec9b01e2-b4c3-42d5-dc0a-3131bbad4030"
      },
      "source": [
        "# Modelo con variables normalizadas\n",
        "\n",
        "# definición del modelo\n",
        "NN_model = MLPClassifier(random_state=44, solver='sgd')\n",
        "\n",
        "# entrenamiento del model\n",
        "NN_model.fit(X_train_scaled, y_train)\n",
        "\n",
        "# evaluación de desempeño\n",
        "print('Segmento de entrenamiento')\n",
        "pred = NN_model.predict_proba(X_train_scaled)\n",
        "print('Red Neuronal roc-auc: {}'.format(roc_auc_score(y_train, pred[:,1])))\n",
        "print('Segmento de prueba')\n",
        "pred = NN_model.predict_proba(X_test_scaled)\n",
        "print('Red Neuronal roc-auc: {}'.format(roc_auc_score(y_test, pred[:,1])))\n"
      ],
      "execution_count": 38,
      "outputs": [
        {
          "output_type": "stream",
          "text": [
            "Segmento de entrenamiento\n",
            "Red Neuronal roc-auc: 0.6754939896044562\n",
            "Segmento de prueba\n",
            "Red Neuronal roc-auc: 0.7080913666279519\n"
          ],
          "name": "stdout"
        }
      ]
    },
    {
      "cell_type": "markdown",
      "metadata": {
        "id": "_wUrM5V00J0p",
        "colab_type": "text"
      },
      "source": [
        "En este caso no ha habido un gran cambio."
      ]
    },
    {
      "cell_type": "markdown",
      "metadata": {
        "id": "KzHO8gws0L7h",
        "colab_type": "text"
      },
      "source": [
        "### K-vecinos cercanos (KNN) "
      ]
    },
    {
      "cell_type": "code",
      "metadata": {
        "id": "K6Srzqoa0DoL",
        "colab_type": "code",
        "colab": {
          "base_uri": "https://localhost:8080/",
          "height": 85
        },
        "outputId": "df0b551b-96dc-4edc-bac1-f9bacdfa258b"
      },
      "source": [
        "# Modelo con variables sin normalizar\n",
        "\n",
        "# definición del modelo\n",
        "KNN = KNeighborsClassifier(n_neighbors=3)\n",
        "\n",
        "# entrenamiento del model\n",
        "KNN.fit(X_train, y_train)\n",
        "\n",
        "# evaluación de desempeño\n",
        "print('Segmento de entrenamiento')\n",
        "pred = KNN.predict_proba(X_train)\n",
        "print('KNN roc-auc: {}'.format(roc_auc_score(y_train, pred[:,1])))\n",
        "print('Segmento de prueba')\n",
        "pred = KNN.predict_proba(X_test)\n",
        "print('KNN roc-auc: {}'.format(roc_auc_score(y_test, pred[:,1])))"
      ],
      "execution_count": 39,
      "outputs": [
        {
          "output_type": "stream",
          "text": [
            "Segmento de entrenamiento\n",
            "KNN roc-auc: 0.855810887646612\n",
            "Segmento de prueba\n",
            "KNN roc-auc: 0.6655467064874732\n"
          ],
          "name": "stdout"
        }
      ]
    },
    {
      "cell_type": "code",
      "metadata": {
        "id": "4285C66v0Nzx",
        "colab_type": "code",
        "colab": {
          "base_uri": "https://localhost:8080/",
          "height": 85
        },
        "outputId": "bb67cf42-c190-45e8-afb3-1616fa52e186"
      },
      "source": [
        "# Modelo con variables normalizadas\n",
        "\n",
        "# definición del modelo\n",
        "KNN = KNeighborsClassifier(n_neighbors=3)\n",
        "\n",
        "# entrenamiento del model\n",
        "KNN.fit(X_train_scaled, y_train)\n",
        "\n",
        "# evaluación de desempeño\n",
        "print('Segmento de entrenamiento')\n",
        "pred = KNN.predict_proba(X_train_scaled)\n",
        "print('KNN roc-auc: {}'.format(roc_auc_score(y_train, pred[:,1])))\n",
        "print('Segmento de prueba')\n",
        "pred = KNN.predict_proba(X_test_scaled)\n",
        "print('KNN roc-auc: {}'.format(roc_auc_score(y_test, pred[:,1])))"
      ],
      "execution_count": 40,
      "outputs": [
        {
          "output_type": "stream",
          "text": [
            "Segmento de entrenamiento\n",
            "KNN roc-auc: 0.8600954015064985\n",
            "Segmento de prueba\n",
            "KNN roc-auc: 0.6998644986449865\n"
          ],
          "name": "stdout"
        }
      ]
    },
    {
      "cell_type": "markdown",
      "metadata": {
        "id": "JAVlkrxc0TPw",
        "colab_type": "text"
      },
      "source": [
        "Podemos ver que para KNN el escalamiento también ha mejorado el desempeño del modelo. El modelo construido con las variables normalizadas tiene una mejor generalización, ya que el roc-auc es más alto en el segmento de prueba tras escalar las variables.\n",
        "\n",
        "Ambos modelos KNN están sobre-ajustando el segmento de entrenamiento. Deberíamos ajustar los parámetros del modelo para reducir el sobre-ajuste, pero esto está por fuera del alcance de este demo."
      ]
    },
    {
      "cell_type": "markdown",
      "metadata": {
        "id": "tJieEsoh0YRc",
        "colab_type": "text"
      },
      "source": [
        "### Random Forests"
      ]
    },
    {
      "cell_type": "code",
      "metadata": {
        "id": "MQSjdOMm0Qm7",
        "colab_type": "code",
        "colab": {
          "base_uri": "https://localhost:8080/",
          "height": 85
        },
        "outputId": "aa8222db-cc83-46a1-f685-bea116b92628"
      },
      "source": [
        "# Modelo con variables sin normalizar\n",
        "\n",
        "# definición del modelo\n",
        "rf = RandomForestClassifier(n_estimators=200, random_state=39)\n",
        "\n",
        "# entrenamiento del model\n",
        "rf.fit(X_train, y_train)\n",
        "\n",
        "# evaluación de desempeño\n",
        "print('Segmento de entrenamiento')\n",
        "pred = rf.predict_proba(X_train)\n",
        "print('Random Forests roc-auc: {}'.format(roc_auc_score(y_train, pred[:, 1])))\n",
        "print('Segmento de prueba')\n",
        "pred = rf.predict_proba(X_test)\n",
        "print('Random Forests roc-auc: {}'.format(roc_auc_score(y_test, pred[:, 1])))"
      ],
      "execution_count": 41,
      "outputs": [
        {
          "output_type": "stream",
          "text": [
            "Segmento de entrenamiento\n",
            "Random Forests roc-auc: 0.9866810238554083\n",
            "Segmento de prueba\n",
            "Random Forests roc-auc: 0.7326751838946961\n"
          ],
          "name": "stdout"
        }
      ]
    },
    {
      "cell_type": "code",
      "metadata": {
        "id": "bxDO0vVD0aox",
        "colab_type": "code",
        "colab": {
          "base_uri": "https://localhost:8080/",
          "height": 85
        },
        "outputId": "a30acbcb-9de9-406c-fbd3-0c656ad283ef"
      },
      "source": [
        "# Modelo con variables normalizadas\n",
        "\n",
        "# definición del modelo\n",
        "rf = RandomForestClassifier(n_estimators=200, random_state=39)\n",
        "\n",
        "# entrenamiento del model\n",
        "rf.fit(X_train_scaled, y_train)\n",
        "\n",
        "# evaluación de desempeño\n",
        "print('Segmento de entrenamiento')\n",
        "pred = rf.predict_proba(X_train_scaled)\n",
        "print('Random Forests roc-auc: {}'.format(roc_auc_score(y_train, pred[:,1])))\n",
        "print('Segmento de prueba')\n",
        "pred = rf.predict_proba(X_test_scaled)\n",
        "print('Random Forests roc-auc: {}'.format(roc_auc_score(y_test, pred[:,1])))"
      ],
      "execution_count": 42,
      "outputs": [
        {
          "output_type": "stream",
          "text": [
            "Segmento de entrenamiento\n",
            "Random Forests roc-auc: 0.9867917218059866\n",
            "Segmento de prueba\n",
            "Random Forests roc-auc: 0.7312510370001659\n"
          ],
          "name": "stdout"
        }
      ]
    },
    {
      "cell_type": "markdown",
      "metadata": {
        "id": "io1wZ8r_0e2J",
        "colab_type": "text"
      },
      "source": [
        "Como era de esperarse, el desempeño de Random Forest fue el mismo independientemente de la normalización de las variables. Este modelo en particular, esta sobre-ajustando el segmento de entrenamiento. Por lo tanto es necesario ajustar los parámetros del modelo para mejorar la generalización, sin embargo esto está por fuera del alcance de este demo."
      ]
    },
    {
      "cell_type": "code",
      "metadata": {
        "id": "LMACVjQi0cpw",
        "colab_type": "code",
        "colab": {
          "base_uri": "https://localhost:8080/",
          "height": 85
        },
        "outputId": "55e12b7b-4a0a-44b5-fa71-2e7f3d52bc07"
      },
      "source": [
        "# train adaboost on non-scaled features\n",
        "\n",
        "# call the model\n",
        "ada = AdaBoostClassifier(n_estimators=200, random_state=44)\n",
        "\n",
        "# entrenamiento del model\n",
        "ada.fit(X_train, y_train)\n",
        "\n",
        "# evaluación de desempeño\n",
        "print('Segmento de entrenamiento')\n",
        "pred = ada.predict_proba(X_train)\n",
        "print('AdaBoost roc-auc: {}'.format(roc_auc_score(y_train, pred[:,1])))\n",
        "print('Test set')\n",
        "pred = ada.predict_proba(X_test)\n",
        "print('AdaBoost roc-auc: {}'.format(roc_auc_score(y_test, pred[:,1])))"
      ],
      "execution_count": 43,
      "outputs": [
        {
          "output_type": "stream",
          "text": [
            "Segmento de entrenamiento\n",
            "AdaBoost roc-auc: 0.7970629821021541\n",
            "Test set\n",
            "AdaBoost roc-auc: 0.7473867595818815\n"
          ],
          "name": "stdout"
        }
      ]
    },
    {
      "cell_type": "code",
      "metadata": {
        "id": "2MPoa8vv0mxg",
        "colab_type": "code",
        "colab": {
          "base_uri": "https://localhost:8080/",
          "height": 85
        },
        "outputId": "a2fba389-623e-4392-f07d-07f5051f57c9"
      },
      "source": [
        "# Modelo con variables normalizadas\n",
        "\n",
        "# definición del modelo\n",
        "\n",
        "ada = AdaBoostClassifier(n_estimators=200, random_state=44)\n",
        "\n",
        "# entrenamiento del model\n",
        "ada.fit(X_train_scaled, y_train)\n",
        "\n",
        "# evaluación de desempeño\n",
        "print('Segmento de entrenamiento')\n",
        "pred = ada.predict_proba(X_train_scaled)\n",
        "print('AdaBoost roc-auc: {}'.format(roc_auc_score(y_train, pred[:,1])))\n",
        "print('Test set')\n",
        "pred = ada.predict_proba(X_test_scaled)\n",
        "print('AdaBoost roc-auc: {}'.format(roc_auc_score(y_test, pred[:,1])))"
      ],
      "execution_count": 44,
      "outputs": [
        {
          "output_type": "stream",
          "text": [
            "Segmento de entrenamiento\n",
            "AdaBoost roc-auc: 0.7970629821021541\n",
            "Test set\n",
            "AdaBoost roc-auc: 0.7475250262706707\n"
          ],
          "name": "stdout"
        }
      ]
    },
    {
      "cell_type": "markdown",
      "metadata": {
        "id": "ufteGkR_0q-l",
        "colab_type": "text"
      },
      "source": [
        "Como era de esperarse,  el desempeño de AdaBoost no cambio con la  normalización de las variables."
      ]
    },
    {
      "cell_type": "code",
      "metadata": {
        "id": "Zj1jvIrK0pRp",
        "colab_type": "code",
        "colab": {}
      },
      "source": [
        ""
      ],
      "execution_count": null,
      "outputs": []
    }
  ]
}