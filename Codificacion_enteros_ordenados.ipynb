{
  "nbformat": 4,
  "nbformat_minor": 0,
  "metadata": {
    "kernelspec": {
      "display_name": "feml",
      "language": "python",
      "name": "feml"
    },
    "language_info": {
      "codemirror_mode": {
        "name": "ipython",
        "version": 3
      },
      "file_extension": ".py",
      "mimetype": "text/x-python",
      "name": "python",
      "nbconvert_exporter": "python",
      "pygments_lexer": "ipython3",
      "version": "3.8.2"
    },
    "toc": {
      "base_numbering": 1,
      "nav_menu": {},
      "number_sections": true,
      "sideBar": true,
      "skip_h1_title": false,
      "title_cell": "Table of Contents",
      "title_sidebar": "Contents",
      "toc_cell": false,
      "toc_position": {},
      "toc_section_display": "block",
      "toc_window_display": true
    },
    "colab": {
      "name": "Codificacion-enteros-ordenados.ipynb",
      "provenance": [],
      "toc_visible": true,
      "include_colab_link": true
    }
  },
  "cells": [
    {
      "cell_type": "markdown",
      "metadata": {
        "id": "view-in-github",
        "colab_type": "text"
      },
      "source": [
        "<a href=\"https://colab.research.google.com/github/virf96/Chat-Bot/blob/master/Codificacion_enteros_ordenados.ipynb\" target=\"_parent\"><img src=\"https://colab.research.google.com/assets/colab-badge.svg\" alt=\"Open In Colab\"/></a>"
      ]
    },
    {
      "cell_type": "markdown",
      "metadata": {
        "id": "pusbcgrBYYpr"
      },
      "source": [
        "## Codificación guiada por la variable objetivo o target\n",
        "\n",
        "En las lecciones anteriores de esta sección, vimos como convertir una etiqueta en un número usando codificación one-hot, reemplazando por un dígito o reemplazando por la frecuencia o número de observaciones. Estos métodos son sencillos, y no (o casi nunca) hacen supuestos sobre los datos y funcionan generalmente bien en una variedad de escenarios.\n",
        "\n",
        "Hay métodos que por el contrario si permiten capturar  información y a la vez pre-procesar las etiquetas de una variable categórica. Estos métodos incluyen:\n",
        "\n",
        "- Ordenar las etiquetas de acuerdo al target\n",
        "- Reemplazar las etiquetas por el promedio del target (codificación por la media / por el target) \n",
        "- Reemplazar las etiquetas por el radio de probabilidad del target - ya sea 1 o 0\n",
        "- Pesos de evidencia (Weight of evidence)\n",
        "\n",
        "Todos estos métodos tienen algo en común:\n",
        "- la codificación es **guiada por el target**, y\n",
        "- crean una **relación monotónica** entre la variable y el target\n",
        "\n",
        "\n",
        "### Monotonicidad\n",
        "\n",
        "Una relación monotónica es una relación que tiene lo siguiente:\n",
        "\n",
        "- (1) cuando el valor de una variable incrementa, asi mismo sucede con la otra variable; o\n",
        "- (2) cuando el valor de una variable incrementa, el valor de la otra variable decrece.\n",
        "\n",
        "En este caso, si el valor de la variable independiente (predictor) incrementa, lo mismo sucede con el target (variable objetivo), o por el contrario, si la variable incrementa, el valor del target decrece.\n",
        "\n",
        "\n",
        "### Ventajas \n",
        "\n",
        "- Captura la información dentro de la categoría, por lo tanto incrementa el poder predictivo de las variables.\n",
        "- Crea una relación monotónica entre la variable y el target, por lo tanto es adecuada para modelos lineales.\n",
        "- No expande el espacio de las variables\n",
        "\n",
        "\n",
        "### Limitaciones\n",
        "\n",
        "- Tiende a causar sobreajustes\n",
        "- Es difícil de validar usando las librerías existentes\n",
        "\n",
        "### Nota\n",
        "\n",
        "Los métodos discutidos en esta y las próximas 3 lecciones pueden ser usados con variables numéricas, luego de discretizarlas. Esto crea una relación monotónica entre la variable numérica y el target y por lo tanto mejora el desempeño de los modelos lineales. Discutiremos esto en más detalle en la sección \"Discretización\"\n",
        "\n",
        "===============================================================================\n",
        "\n",
        "\n",
        "## Codificación por números ordinales\n",
        "\n",
        "En la codificación por números ordinales,  las categorías en una variable se ordenan de acuerdo al promedio del target, y se les asigna un número de 1 a k, donde k es el número de cateogorías. En este tipo de codificación los números se asignan de acuerdo al orden de las categorías. \n",
        "\n",
        "Por ejemplo, si tenemos la variable ciudad, con las categorías  Londres, Manchester y Bristol, y tenemos que la tasa promedio de incumplimiento en pagos de préstamos es  30% para Londres, 20% para Manchester, y 10% para Bristol, reemplazamos Londres con el número 1, Manchester con el número 2 y Bristol con el 3.\n",
        "\n",
        "En este demo vamos a realizar codificación por números ordinales usando:\n",
        "- pandas\n",
        "- Feature-Engine\n",
        "\n",
        "y veremos las ventajas y limitaciones de cada una de estas implementaciones usando los datos del Titanic.\n"
      ]
    },
    {
      "cell_type": "code",
      "metadata": {
        "colab": {
          "base_uri": "https://localhost:8080/"
        },
        "id": "bwjuIj3K1cbK",
        "outputId": "900976f3-5f6b-432b-8155-7d5abac06afe"
      },
      "source": [
        "pip install feature_engine"
      ],
      "execution_count": 3,
      "outputs": [
        {
          "output_type": "stream",
          "text": [
            "Collecting feature_engine\n",
            "  Downloading https://files.pythonhosted.org/packages/14/ed/5680bf401855b788f79cadc1298c210c5860eb5d54c4008cfa234b752ef1/feature_engine-0.6.1-py2.py3-none-any.whl\n",
            "Requirement already satisfied: scikit-learn>=0.22.2 in /usr/local/lib/python3.6/dist-packages (from feature_engine) (0.22.2.post1)\n",
            "Requirement already satisfied: numpy>=1.18.2 in /usr/local/lib/python3.6/dist-packages (from feature_engine) (1.18.5)\n",
            "Collecting statsmodels>=0.11.1\n",
            "\u001b[?25l  Downloading https://files.pythonhosted.org/packages/be/4c/9e2435ca6645d6bafa2b51bb11f0a365b28934a2ffe9d6e339d67130926d/statsmodels-0.12.1-cp36-cp36m-manylinux1_x86_64.whl (9.5MB)\n",
            "\u001b[K     |████████████████████████████████| 9.5MB 6.1MB/s \n",
            "\u001b[?25hRequirement already satisfied: pandas>=1.0.3 in /usr/local/lib/python3.6/dist-packages (from feature_engine) (1.1.5)\n",
            "Requirement already satisfied: scipy>=1.4.1 in /usr/local/lib/python3.6/dist-packages (from feature_engine) (1.4.1)\n",
            "Requirement already satisfied: joblib>=0.11 in /usr/local/lib/python3.6/dist-packages (from scikit-learn>=0.22.2->feature_engine) (0.17.0)\n",
            "Requirement already satisfied: patsy>=0.5 in /usr/local/lib/python3.6/dist-packages (from statsmodels>=0.11.1->feature_engine) (0.5.1)\n",
            "Requirement already satisfied: pytz>=2017.2 in /usr/local/lib/python3.6/dist-packages (from pandas>=1.0.3->feature_engine) (2018.9)\n",
            "Requirement already satisfied: python-dateutil>=2.7.3 in /usr/local/lib/python3.6/dist-packages (from pandas>=1.0.3->feature_engine) (2.8.1)\n",
            "Requirement already satisfied: six in /usr/local/lib/python3.6/dist-packages (from patsy>=0.5->statsmodels>=0.11.1->feature_engine) (1.15.0)\n",
            "Installing collected packages: statsmodels, feature-engine\n",
            "  Found existing installation: statsmodels 0.10.2\n",
            "    Uninstalling statsmodels-0.10.2:\n",
            "      Successfully uninstalled statsmodels-0.10.2\n",
            "Successfully installed feature-engine-0.6.1 statsmodels-0.12.1\n"
          ],
          "name": "stdout"
        }
      ]
    },
    {
      "cell_type": "code",
      "metadata": {
        "id": "LAUWhIVyYYp0"
      },
      "source": [
        "import numpy as np\n",
        "import pandas as pd\n",
        "\n",
        "import matplotlib.pyplot as plt\n",
        "\n",
        "# separar datasets\n",
        "from sklearn.model_selection import train_test_split\n",
        "\n",
        "# codificar con feature-engine\n",
        "from feature_engine.categorical_encoders import OrdinalCategoricalEncoder"
      ],
      "execution_count": 4,
      "outputs": []
    },
    {
      "cell_type": "code",
      "metadata": {
        "colab": {
          "base_uri": "https://localhost:8080/"
        },
        "id": "l-nmGM6a2qMQ",
        "outputId": "1f0f9de6-17ad-46d2-d8b4-e47c45aa57b4"
      },
      "source": [
        "from google.colab import drive\n",
        "drive.mount('/content/drive')"
      ],
      "execution_count": 5,
      "outputs": [
        {
          "output_type": "stream",
          "text": [
            "Mounted at /content/drive\n"
          ],
          "name": "stdout"
        }
      ]
    },
    {
      "cell_type": "code",
      "metadata": {
        "id": "GwpFIVxzYYp2",
        "colab": {
          "base_uri": "https://localhost:8080/",
          "height": 191
        },
        "outputId": "31c2d3ff-3180-4bb9-9764-a4bf746ede2b"
      },
      "source": [
        "# cargar dataset\n",
        "\n",
        "data = pd.read_csv(\n",
        "    '/content/drive/MyDrive/datasets/houseprice.csv',\n",
        "    usecols=['Neighborhood', 'Exterior1st', 'Exterior2nd', 'SalePrice'])\n",
        "\n",
        "data.head()"
      ],
      "execution_count": 6,
      "outputs": [
        {
          "output_type": "execute_result",
          "data": {
            "text/html": [
              "<div>\n",
              "<style scoped>\n",
              "    .dataframe tbody tr th:only-of-type {\n",
              "        vertical-align: middle;\n",
              "    }\n",
              "\n",
              "    .dataframe tbody tr th {\n",
              "        vertical-align: top;\n",
              "    }\n",
              "\n",
              "    .dataframe thead th {\n",
              "        text-align: right;\n",
              "    }\n",
              "</style>\n",
              "<table border=\"1\" class=\"dataframe\">\n",
              "  <thead>\n",
              "    <tr style=\"text-align: right;\">\n",
              "      <th></th>\n",
              "      <th>Neighborhood</th>\n",
              "      <th>Exterior1st</th>\n",
              "      <th>Exterior2nd</th>\n",
              "      <th>SalePrice</th>\n",
              "    </tr>\n",
              "  </thead>\n",
              "  <tbody>\n",
              "    <tr>\n",
              "      <th>0</th>\n",
              "      <td>CollgCr</td>\n",
              "      <td>VinylSd</td>\n",
              "      <td>VinylSd</td>\n",
              "      <td>208500</td>\n",
              "    </tr>\n",
              "    <tr>\n",
              "      <th>1</th>\n",
              "      <td>Veenker</td>\n",
              "      <td>MetalSd</td>\n",
              "      <td>MetalSd</td>\n",
              "      <td>181500</td>\n",
              "    </tr>\n",
              "    <tr>\n",
              "      <th>2</th>\n",
              "      <td>CollgCr</td>\n",
              "      <td>VinylSd</td>\n",
              "      <td>VinylSd</td>\n",
              "      <td>223500</td>\n",
              "    </tr>\n",
              "    <tr>\n",
              "      <th>3</th>\n",
              "      <td>Crawfor</td>\n",
              "      <td>Wd Sdng</td>\n",
              "      <td>Wd Shng</td>\n",
              "      <td>140000</td>\n",
              "    </tr>\n",
              "    <tr>\n",
              "      <th>4</th>\n",
              "      <td>NoRidge</td>\n",
              "      <td>VinylSd</td>\n",
              "      <td>VinylSd</td>\n",
              "      <td>250000</td>\n",
              "    </tr>\n",
              "  </tbody>\n",
              "</table>\n",
              "</div>"
            ],
            "text/plain": [
              "  Neighborhood Exterior1st Exterior2nd  SalePrice\n",
              "0      CollgCr     VinylSd     VinylSd     208500\n",
              "1      Veenker     MetalSd     MetalSd     181500\n",
              "2      CollgCr     VinylSd     VinylSd     223500\n",
              "3      Crawfor     Wd Sdng     Wd Shng     140000\n",
              "4      NoRidge     VinylSd     VinylSd     250000"
            ]
          },
          "metadata": {
            "tags": []
          },
          "execution_count": 6
        }
      ]
    },
    {
      "cell_type": "code",
      "metadata": {
        "id": "GF4BdNSOYYp3",
        "colab": {
          "base_uri": "https://localhost:8080/"
        },
        "outputId": "afa15a07-a52a-4cff-fa85-62d903b410ed"
      },
      "source": [
        "# miremos cuantas etiquetas tiene cada variable\n",
        "\n",
        "for col in data.columns:\n",
        "    print(col, ': ', len(data[col].unique()), ' labels')"
      ],
      "execution_count": 7,
      "outputs": [
        {
          "output_type": "stream",
          "text": [
            "Neighborhood :  25  labels\n",
            "Exterior1st :  15  labels\n",
            "Exterior2nd :  16  labels\n",
            "SalePrice :  663  labels\n"
          ],
          "name": "stdout"
        }
      ]
    },
    {
      "cell_type": "code",
      "metadata": {
        "id": "pTxzvU-RYYp4",
        "colab": {
          "base_uri": "https://localhost:8080/"
        },
        "outputId": "345a366f-49a1-468b-cfd2-f931af5338f5"
      },
      "source": [
        "# exploremos las categorías de cada variable\n",
        "data['Neighborhood'].unique()"
      ],
      "execution_count": 8,
      "outputs": [
        {
          "output_type": "execute_result",
          "data": {
            "text/plain": [
              "array(['CollgCr', 'Veenker', 'Crawfor', 'NoRidge', 'Mitchel', 'Somerst',\n",
              "       'NWAmes', 'OldTown', 'BrkSide', 'Sawyer', 'NridgHt', 'NAmes',\n",
              "       'SawyerW', 'IDOTRR', 'MeadowV', 'Edwards', 'Timber', 'Gilbert',\n",
              "       'StoneBr', 'ClearCr', 'NPkVill', 'Blmngtn', 'BrDale', 'SWISU',\n",
              "       'Blueste'], dtype=object)"
            ]
          },
          "metadata": {
            "tags": []
          },
          "execution_count": 8
        }
      ]
    },
    {
      "cell_type": "code",
      "metadata": {
        "id": "4oqMXTtvYYp5",
        "colab": {
          "base_uri": "https://localhost:8080/"
        },
        "outputId": "9db35a08-d415-41b5-9a74-d601edd96854"
      },
      "source": [
        "data['Exterior1st'].unique()"
      ],
      "execution_count": 9,
      "outputs": [
        {
          "output_type": "execute_result",
          "data": {
            "text/plain": [
              "array(['VinylSd', 'MetalSd', 'Wd Sdng', 'HdBoard', 'BrkFace', 'WdShing',\n",
              "       'CemntBd', 'Plywood', 'AsbShng', 'Stucco', 'BrkComm', 'AsphShn',\n",
              "       'Stone', 'ImStucc', 'CBlock'], dtype=object)"
            ]
          },
          "metadata": {
            "tags": []
          },
          "execution_count": 9
        }
      ]
    },
    {
      "cell_type": "code",
      "metadata": {
        "id": "-Fb3-fdnYYp5",
        "colab": {
          "base_uri": "https://localhost:8080/"
        },
        "outputId": "1a308a6a-639b-4aab-b12e-4c1cc3d0fcb3"
      },
      "source": [
        "data['Exterior2nd'].unique()"
      ],
      "execution_count": 10,
      "outputs": [
        {
          "output_type": "execute_result",
          "data": {
            "text/plain": [
              "array(['VinylSd', 'MetalSd', 'Wd Shng', 'HdBoard', 'Plywood', 'Wd Sdng',\n",
              "       'CmentBd', 'BrkFace', 'Stucco', 'AsbShng', 'Brk Cmn', 'ImStucc',\n",
              "       'AsphShn', 'Stone', 'Other', 'CBlock'], dtype=object)"
            ]
          },
          "metadata": {
            "tags": []
          },
          "execution_count": 10
        }
      ]
    },
    {
      "cell_type": "markdown",
      "metadata": {
        "id": "m6y6kVRvYYp6"
      },
      "source": [
        "### Nota importante sobre codificación\n",
        "\n",
        "El dígito a asignar a cada categorías se selecciona usando el set de entrenamiento; y luego estos números se usan para codificar las variables en el set de prueba\n",
        "\n",
        "**Para usar esta técnica con pandas, necesitamos mantener el target en el set de entrenamiento**"
      ]
    },
    {
      "cell_type": "code",
      "metadata": {
        "id": "7zxhvLDfYYp6",
        "colab": {
          "base_uri": "https://localhost:8080/"
        },
        "outputId": "53296c9a-08fc-4406-c95e-6856bcee5914"
      },
      "source": [
        "# separemos en sets de prueba y entrenamiento\n",
        "\n",
        "X_train, X_test, y_train, y_test = train_test_split(\n",
        "    data[['Neighborhood', 'Exterior1st', 'Exterior2nd', 'SalePrice']],  # esta vez mantenemos el target en la variable\n",
        "    data['SalePrice'],  # target\n",
        "    test_size=0.3,  # porcentaje de observaciones segmento prueba\n",
        "    random_state=0)  # semilla para asegurar reproducibilidad\n",
        "\n",
        "X_train.shape, X_test.shape"
      ],
      "execution_count": 11,
      "outputs": [
        {
          "output_type": "execute_result",
          "data": {
            "text/plain": [
              "((1022, 4), (438, 4))"
            ]
          },
          "metadata": {
            "tags": []
          },
          "execution_count": 11
        }
      ]
    },
    {
      "cell_type": "markdown",
      "metadata": {
        "id": "hm1NdDvmYYp7"
      },
      "source": [
        "### Exploremos la relación original entre las variables categóricas y el target"
      ]
    },
    {
      "cell_type": "code",
      "metadata": {
        "id": "ItcF5XjAYYp7",
        "colab": {
          "base_uri": "https://localhost:8080/",
          "height": 943
        },
        "outputId": "b581e481-351e-407e-b977-acb98365f67c"
      },
      "source": [
        "# Exploremos la relación original entre las variables categóricas y el target\n",
        "\n",
        "for var in ['Neighborhood', 'Exterior1st', 'Exterior2nd']:\n",
        "    \n",
        "    fig= plt.figure()\n",
        "    fig = X_train.groupby([var])['SalePrice'].mean().plot()\n",
        "    fig.set_title('Relación entre {} y SalePrice'.format(var))\n",
        "    fig.set_ylabel('Media SalePrice (target)')\n",
        "    plt.xticks(rotation=45)\n",
        "    plt.show()"
      ],
      "execution_count": 12,
      "outputs": [
        {
          "output_type": "display_data",
          "data": {
            "image/png": "[encoded data removed]",
            "text/plain": [
              "<Figure size 432x288 with 1 Axes>"
            ]
          },
          "metadata": {
            "tags": [],
            "needs_background": "light"
          }
        },
        {
          "output_type": "display_data",
          "data": {
            "image/png": "[encoded data removed]",
            "text/plain": [
              "<Figure size 432x288 with 1 Axes>"
            ]
          },
          "metadata": {
            "tags": [],
            "needs_background": "light"
          }
        },
        {
          "output_type": "display_data",
          "data": {
            "image/png": "[encoded data removed]",
            "text/plain": [
              "<Figure size 432x288 with 1 Axes>"
            ]
          },
          "metadata": {
            "tags": [],
            "needs_background": "light"
          }
        }
      ]
    },
    {
      "cell_type": "markdown",
      "metadata": {
        "id": "RdfWHIzFYYp8"
      },
      "source": [
        "Podemos ver que la relación entre la variable target y las variables categóricas sube y baja, dependiendo de la categoria\n",
        "\n",
        "\n",
        "## Codificación por números ordinales con pandas\n",
        "\n",
        "\n",
        "### Ventajas\n",
        "\n",
        "- rápido\n",
        "- devuelve un dataframe de pandas\n",
        "\n",
        "### Limitaciones:\n",
        "\n",
        "- no preserva la información del set de entrenamiento para propagarlo al set de prueba\n",
        "\n",
        "Necesitamos capturar y guardar los mapeos uno por uno, manualmente, si estamos planeando usarlos en producción"
      ]
    },
    {
      "cell_type": "code",
      "metadata": {
        "id": "5IeZLKG1YYp9",
        "colab": {
          "base_uri": "https://localhost:8080/"
        },
        "outputId": "d07e64fe-fc32-4758-9480-57464f8db390"
      },
      "source": [
        "# ordenemos las etiquetas de acuerdo al promedio de los valores del target\n",
        "\n",
        "X_train.groupby(['Neighborhood'])['SalePrice'].mean().sort_values()"
      ],
      "execution_count": 13,
      "outputs": [
        {
          "output_type": "execute_result",
          "data": {
            "text/plain": [
              "Neighborhood\n",
              "IDOTRR      92174.166667\n",
              "BrDale      99440.000000\n",
              "MeadowV    104441.666667\n",
              "Edwards    125082.676056\n",
              "BrkSide    125438.414634\n",
              "OldTown    130958.328767\n",
              "Sawyer     136596.442623\n",
              "Blueste    137500.000000\n",
              "SWISU      139154.666667\n",
              "NPkVill    140107.142857\n",
              "NAmes      146435.264901\n",
              "Mitchel    153070.444444\n",
              "SawyerW    179463.088889\n",
              "Gilbert    192662.290909\n",
              "NWAmes     192788.235294\n",
              "Blmngtn    198164.500000\n",
              "CollgCr    203086.371429\n",
              "ClearCr    210034.666667\n",
              "Crawfor    217453.914286\n",
              "Somerst    226644.196429\n",
              "Veenker    229500.000000\n",
              "Timber     238700.100000\n",
              "NridgHt    307418.137255\n",
              "StoneBr    309105.937500\n",
              "NoRidge    336264.666667\n",
              "Name: SalePrice, dtype: float64"
            ]
          },
          "metadata": {
            "tags": []
          },
          "execution_count": 13
        }
      ]
    },
    {
      "cell_type": "markdown",
      "metadata": {
        "id": "8KBk7ViYYYp9"
      },
      "source": [
        "En la celda anterior, ordenamos las categorías de la variable Neighbourhood de acuerdo al valor del target (SalePrice) comenzando por los precios de las casas más baratos (IDOTRR) hasta el barrio donde las casas son más costosas, o en promedio más costosas (NoRidge).\n",
        "\n",
        "En las siguientes celdas, vamos a reemplazar todas las categorías, ordenadas como están, por los números del 0 a k-1, donde k es el número de las diferentes categorías, en este caso 25 - 1 = 24.\n",
        "\n",
        "Por lo tanto IDOTRR será reemplazado por 0 y NoRidge por 24."
      ]
    },
    {
      "cell_type": "code",
      "metadata": {
        "id": "rzUrOgPiYYp-",
        "colab": {
          "base_uri": "https://localhost:8080/"
        },
        "outputId": "96204996-ce4e-439a-d390-eaafce67829b"
      },
      "source": [
        "# primero generamos la lista de las etiquetas ordenadas\n",
        "\n",
        "ordered_labels = X_train.groupby(['Neighborhood'\n",
        "                                  ])['SalePrice'].mean().sort_values().index\n",
        "\n",
        "ordered_labels"
      ],
      "execution_count": 14,
      "outputs": [
        {
          "output_type": "execute_result",
          "data": {
            "text/plain": [
              "Index(['IDOTRR', 'BrDale', 'MeadowV', 'Edwards', 'BrkSide', 'OldTown',\n",
              "       'Sawyer', 'Blueste', 'SWISU', 'NPkVill', 'NAmes', 'Mitchel', 'SawyerW',\n",
              "       'Gilbert', 'NWAmes', 'Blmngtn', 'CollgCr', 'ClearCr', 'Crawfor',\n",
              "       'Somerst', 'Veenker', 'Timber', 'NridgHt', 'StoneBr', 'NoRidge'],\n",
              "      dtype='object', name='Neighborhood')"
            ]
          },
          "metadata": {
            "tags": []
          },
          "execution_count": 14
        }
      ]
    },
    {
      "cell_type": "code",
      "metadata": {
        "scrolled": true,
        "id": "P4KWC_3tYYp-",
        "colab": {
          "base_uri": "https://localhost:8080/"
        },
        "outputId": "edda5058-0289-4ed2-88c7-2bdcf1de19f6"
      },
      "source": [
        "# ahora creamos un diccionario con el mapeo entre las categorías y números\n",
        "\n",
        "ordinal_mapping = {k: i for i, k in enumerate(ordered_labels, 0)}\n",
        "\n",
        "ordinal_mapping"
      ],
      "execution_count": 15,
      "outputs": [
        {
          "output_type": "execute_result",
          "data": {
            "text/plain": [
              "{'Blmngtn': 15,\n",
              " 'Blueste': 7,\n",
              " 'BrDale': 1,\n",
              " 'BrkSide': 4,\n",
              " 'ClearCr': 17,\n",
              " 'CollgCr': 16,\n",
              " 'Crawfor': 18,\n",
              " 'Edwards': 3,\n",
              " 'Gilbert': 13,\n",
              " 'IDOTRR': 0,\n",
              " 'MeadowV': 2,\n",
              " 'Mitchel': 11,\n",
              " 'NAmes': 10,\n",
              " 'NPkVill': 9,\n",
              " 'NWAmes': 14,\n",
              " 'NoRidge': 24,\n",
              " 'NridgHt': 22,\n",
              " 'OldTown': 5,\n",
              " 'SWISU': 8,\n",
              " 'Sawyer': 6,\n",
              " 'SawyerW': 12,\n",
              " 'Somerst': 19,\n",
              " 'StoneBr': 23,\n",
              " 'Timber': 21,\n",
              " 'Veenker': 20}"
            ]
          },
          "metadata": {
            "tags": []
          },
          "execution_count": 15
        }
      ]
    },
    {
      "cell_type": "code",
      "metadata": {
        "id": "X-Tm_0f2YYp_"
      },
      "source": [
        "# ahora reemplazamos las etiquetas con los números enteros\n",
        "\n",
        "X_train['Neighborhood'] = X_train['Neighborhood'].map(ordinal_mapping)\n",
        "X_test['Neighborhood'] = X_test['Neighborhood'].map(ordinal_mapping)"
      ],
      "execution_count": 16,
      "outputs": []
    },
    {
      "cell_type": "code",
      "metadata": {
        "id": "XMdvQJI1YYp_",
        "colab": {
          "base_uri": "https://localhost:8080/"
        },
        "outputId": "cfcdc448-35cc-4541-cc43-d95f710b57ea"
      },
      "source": [
        "# miremos los resultados\n",
        "\n",
        "X_train['Neighborhood'].head(10)"
      ],
      "execution_count": 17,
      "outputs": [
        {
          "output_type": "execute_result",
          "data": {
            "text/plain": [
              "64      16\n",
              "682     17\n",
              "960      4\n",
              "1384     3\n",
              "1100     8\n",
              "416      6\n",
              "1034    18\n",
              "853     10\n",
              "472      3\n",
              "1011     3\n",
              "Name: Neighborhood, dtype: int64"
            ]
          },
          "metadata": {
            "tags": []
          },
          "execution_count": 17
        }
      ]
    },
    {
      "cell_type": "code",
      "metadata": {
        "id": "MPi7tEujYYp_"
      },
      "source": [
        "# agrupemos los comandos anteriores en dos funciones\n",
        "\n",
        "def find_category_mappings(df, variable, target):\n",
        "\n",
        "    # primero generar la lista de las etiquetas ordenadas\n",
        "    ordered_labels = X_train.groupby([variable\n",
        "                                      ])[target].mean().sort_values().index\n",
        "\n",
        "    # devolver el diccionario con el mapeo\n",
        "    return {k: i for i, k in enumerate(ordered_labels, 0)}\n",
        "\n",
        "\n",
        "def integer_encode(train, test, variable, ordinal_mapping):\n",
        "\n",
        "    X_train[variable] = X_train[variable].map(ordinal_mapping)\n",
        "    X_test[variable] = X_test[variable].map(ordinal_mapping)"
      ],
      "execution_count": 18,
      "outputs": []
    },
    {
      "cell_type": "code",
      "metadata": {
        "id": "whq8aGDoYYqA"
      },
      "source": [
        "# ahora repitamos el proceso para cada una de las variables categóricas\n",
        "\n",
        "for variable in ['Exterior1st', 'Exterior2nd']:\n",
        "\n",
        "    mappings = find_category_mappings(X_train, variable, 'SalePrice')\n",
        "\n",
        "    integer_encode(X_train, X_test, variable, mappings)"
      ],
      "execution_count": 19,
      "outputs": []
    },
    {
      "cell_type": "code",
      "metadata": {
        "id": "KQF_VRmkYYqA",
        "colab": {
          "base_uri": "https://localhost:8080/",
          "height": 191
        },
        "outputId": "f3db6c8e-316c-4912-eb9d-dd15798fbb61"
      },
      "source": [
        "# veamos el resultado\n",
        "\n",
        "X_train.head()"
      ],
      "execution_count": 20,
      "outputs": [
        {
          "output_type": "execute_result",
          "data": {
            "text/html": [
              "<div>\n",
              "<style scoped>\n",
              "    .dataframe tbody tr th:only-of-type {\n",
              "        vertical-align: middle;\n",
              "    }\n",
              "\n",
              "    .dataframe tbody tr th {\n",
              "        vertical-align: top;\n",
              "    }\n",
              "\n",
              "    .dataframe thead th {\n",
              "        text-align: right;\n",
              "    }\n",
              "</style>\n",
              "<table border=\"1\" class=\"dataframe\">\n",
              "  <thead>\n",
              "    <tr style=\"text-align: right;\">\n",
              "      <th></th>\n",
              "      <th>Neighborhood</th>\n",
              "      <th>Exterior1st</th>\n",
              "      <th>Exterior2nd</th>\n",
              "      <th>SalePrice</th>\n",
              "    </tr>\n",
              "  </thead>\n",
              "  <tbody>\n",
              "    <tr>\n",
              "      <th>64</th>\n",
              "      <td>16</td>\n",
              "      <td>11</td>\n",
              "      <td>13</td>\n",
              "      <td>219500</td>\n",
              "    </tr>\n",
              "    <tr>\n",
              "      <th>682</th>\n",
              "      <td>17</td>\n",
              "      <td>5</td>\n",
              "      <td>7</td>\n",
              "      <td>173000</td>\n",
              "    </tr>\n",
              "    <tr>\n",
              "      <th>960</th>\n",
              "      <td>4</td>\n",
              "      <td>5</td>\n",
              "      <td>8</td>\n",
              "      <td>116500</td>\n",
              "    </tr>\n",
              "    <tr>\n",
              "      <th>1384</th>\n",
              "      <td>3</td>\n",
              "      <td>4</td>\n",
              "      <td>4</td>\n",
              "      <td>105000</td>\n",
              "    </tr>\n",
              "    <tr>\n",
              "      <th>1100</th>\n",
              "      <td>8</td>\n",
              "      <td>5</td>\n",
              "      <td>7</td>\n",
              "      <td>60000</td>\n",
              "    </tr>\n",
              "  </tbody>\n",
              "</table>\n",
              "</div>"
            ],
            "text/plain": [
              "      Neighborhood  Exterior1st  Exterior2nd  SalePrice\n",
              "64              16           11           13     219500\n",
              "682             17            5            7     173000\n",
              "960              4            5            8     116500\n",
              "1384             3            4            4     105000\n",
              "1100             8            5            7      60000"
            ]
          },
          "metadata": {
            "tags": []
          },
          "execution_count": 20
        }
      ]
    },
    {
      "cell_type": "code",
      "metadata": {
        "id": "3hUEsvZMYYqB",
        "colab": {
          "base_uri": "https://localhost:8080/",
          "height": 851
        },
        "outputId": "f5236235-c4b1-48c2-eac0-24827531a6fe"
      },
      "source": [
        "# inspeccionemos la relación monotónica\n",
        "# entre la variable y el target\n",
        "\n",
        "for var in ['Neighborhood', 'Exterior1st', 'Exterior2nd']:\n",
        "    \n",
        "    fig = plt.figure()\n",
        "    fig = X_train.groupby([var])['SalePrice'].mean().plot()\n",
        "    fig.set_title('Relación monotónica entre{} y SalePrice'.format(var))\n",
        "    fig.set_ylabel('Media SalePrice (target)')\n",
        "    plt.show()"
      ],
      "execution_count": 21,
      "outputs": [
        {
          "output_type": "display_data",
          "data": {
            "image/png": "[encoded data removed]",
            "text/plain": [
              "<Figure size 432x288 with 1 Axes>"
            ]
          },
          "metadata": {
            "tags": [],
            "needs_background": "light"
          }
        },
        {
          "output_type": "display_data",
          "data": {
            "image/png": "[encoded data removed]",
            "text/plain": [
              "<Figure size 432x288 with 1 Axes>"
            ]
          },
          "metadata": {
            "tags": [],
            "needs_background": "light"
          }
        },
        {
          "output_type": "display_data",
          "data": {
            "image/png": "[encoded data removed]",
            "text/plain": [
              "<Figure size 432x288 with 1 Axes>"
            ]
          },
          "metadata": {
            "tags": [],
            "needs_background": "light"
          }
        }
      ]
    },
    {
      "cell_type": "markdown",
      "metadata": {
        "id": "DWty3kcmYYqB"
      },
      "source": [
        "Como podemos ver en las gráficas, la relación entre las categorías y el target ahora es monotónica, y para las primeras dos variables es casi lineal, lo cual ayuda a mejorar el desempeño de los modelos lineales.\n",
        "\n",
        "### Nota\n",
        "\n",
        "Monotonía no significa estrictamente lineal. Monotonía significa que se incrementa (o decrece) constantemente.\n",
        "\n",
        "Reemplazar las etiquetas con el código anterior, va a generar valores faltantes para las categorías presentes en el set de prueba pero que no lo están en el set de entrenamiento.\n",
        "\n",
        "Por lo tanto es extremadamente importante, manejar las etiquetas poco comunes con prelación. Explicaremos como hacer esto más adelante en otro notebook.\n"
      ]
    },
    {
      "cell_type": "markdown",
      "metadata": {
        "id": "RcNPyMzcYYqC"
      },
      "source": [
        "##  Codificación por números ordinales con Feature-Engine\n",
        "\n",
        "Si usamos Feature-Engine, en lugar de pandas, no tenemos que mantener la variable target en los datos.\n"
      ]
    },
    {
      "cell_type": "code",
      "metadata": {
        "id": "tOaqJWIAYYqC",
        "colab": {
          "base_uri": "https://localhost:8080/"
        },
        "outputId": "82465504-3b31-448d-a671-07ff9fd5f4ed"
      },
      "source": [
        "# separemos en sets de prueba y entrenamiento\n",
        "\n",
        "X_train, X_test, y_train, y_test = train_test_split(\n",
        "    data[['Neighborhood', 'Exterior1st', 'Exterior2nd']],  # predictores\n",
        "    data['SalePrice'],  # target\n",
        "    test_size=0.3,  # porcentaje observaciones prueba\n",
        "    random_state=0)  # semilla para asegurar reproducibilidad\n",
        "\n",
        "X_train.shape, X_test.shape"
      ],
      "execution_count": 22,
      "outputs": [
        {
          "output_type": "execute_result",
          "data": {
            "text/plain": [
              "((1022, 3), (438, 3))"
            ]
          },
          "metadata": {
            "tags": []
          },
          "execution_count": 22
        }
      ]
    },
    {
      "cell_type": "code",
      "metadata": {
        "id": "DQzR7ZLhYYqC"
      },
      "source": [
        "ordinal_enc = OrdinalCategoricalEncoder(\n",
        "    # NOTA necesitamos fijar el parámetro encoding_method con el \n",
        "    # valor 'ordered', de lo contrario los números\n",
        "    # serán asignados arbitrariamente\n",
        "    encoding_method='ordered',\n",
        "    variables=['Neighborhood', 'Exterior1st', 'Exterior2nd'])"
      ],
      "execution_count": 23,
      "outputs": []
    },
    {
      "cell_type": "code",
      "metadata": {
        "id": "2qFTlMqeYYqD",
        "colab": {
          "base_uri": "https://localhost:8080/"
        },
        "outputId": "a40a018f-2f42-4548-dd7b-676cc2a1ab92"
      },
      "source": [
        "# cuando ajustamos el transformador, necesitamos pasar también el target\n",
        "# al igual que cuando usamos un predictor en Scikit-learn \n",
        "\n",
        "ordinal_enc.fit(X_train, y_train)"
      ],
      "execution_count": 24,
      "outputs": [
        {
          "output_type": "execute_result",
          "data": {
            "text/plain": [
              "OrdinalCategoricalEncoder(encoding_method='ordered',\n",
              "                          variables=['Neighborhood', 'Exterior1st',\n",
              "                                     'Exterior2nd'])"
            ]
          },
          "metadata": {
            "tags": []
          },
          "execution_count": 24
        }
      ]
    },
    {
      "cell_type": "code",
      "metadata": {
        "scrolled": true,
        "id": "iexoNyWnYYqE",
        "colab": {
          "base_uri": "https://localhost:8080/"
        },
        "outputId": "6fd409a9-206f-4110-bd64-bde8e1bfd15f"
      },
      "source": [
        "# en el atributo encoder_dict_ del codificador podemos ver cada una \n",
        "# de las categorías más importantes seleccionadas por cada variable\n",
        "\n",
        "ordinal_enc.encoder_dict_"
      ],
      "execution_count": 25,
      "outputs": [
        {
          "output_type": "execute_result",
          "data": {
            "text/plain": [
              "{'Exterior1st': {'AsbShng': 3,\n",
              "  'AsphShn': 1,\n",
              "  'BrkComm': 0,\n",
              "  'BrkFace': 10,\n",
              "  'CBlock': 2,\n",
              "  'CemntBd': 12,\n",
              "  'HdBoard': 7,\n",
              "  'ImStucc': 14,\n",
              "  'MetalSd': 6,\n",
              "  'Plywood': 8,\n",
              "  'Stone': 13,\n",
              "  'Stucco': 9,\n",
              "  'VinylSd': 11,\n",
              "  'Wd Sdng': 5,\n",
              "  'WdShing': 4},\n",
              " 'Exterior2nd': {'AsbShng': 2,\n",
              "  'AsphShn': 0,\n",
              "  'Brk Cmn': 3,\n",
              "  'BrkFace': 11,\n",
              "  'CBlock': 1,\n",
              "  'CmentBd': 14,\n",
              "  'HdBoard': 9,\n",
              "  'ImStucc': 12,\n",
              "  'MetalSd': 5,\n",
              "  'Other': 15,\n",
              "  'Plywood': 8,\n",
              "  'Stone': 6,\n",
              "  'Stucco': 10,\n",
              "  'VinylSd': 13,\n",
              "  'Wd Sdng': 7,\n",
              "  'Wd Shng': 4},\n",
              " 'Neighborhood': {'Blmngtn': 15,\n",
              "  'Blueste': 7,\n",
              "  'BrDale': 1,\n",
              "  'BrkSide': 4,\n",
              "  'ClearCr': 17,\n",
              "  'CollgCr': 16,\n",
              "  'Crawfor': 18,\n",
              "  'Edwards': 3,\n",
              "  'Gilbert': 13,\n",
              "  'IDOTRR': 0,\n",
              "  'MeadowV': 2,\n",
              "  'Mitchel': 11,\n",
              "  'NAmes': 10,\n",
              "  'NPkVill': 9,\n",
              "  'NWAmes': 14,\n",
              "  'NoRidge': 24,\n",
              "  'NridgHt': 22,\n",
              "  'OldTown': 5,\n",
              "  'SWISU': 8,\n",
              "  'Sawyer': 6,\n",
              "  'SawyerW': 12,\n",
              "  'Somerst': 19,\n",
              "  'StoneBr': 23,\n",
              "  'Timber': 21,\n",
              "  'Veenker': 20}}"
            ]
          },
          "metadata": {
            "tags": []
          },
          "execution_count": 25
        }
      ]
    },
    {
      "cell_type": "code",
      "metadata": {
        "id": "RcuS0zTQYYqF",
        "colab": {
          "base_uri": "https://localhost:8080/"
        },
        "outputId": "bc41ee0d-eb20-44cb-9584-583248517989"
      },
      "source": [
        "# esta es la lista de variables que el codificador transforma\n",
        "ordinal_enc.variables"
      ],
      "execution_count": 26,
      "outputs": [
        {
          "output_type": "execute_result",
          "data": {
            "text/plain": [
              "['Neighborhood', 'Exterior1st', 'Exterior2nd']"
            ]
          },
          "metadata": {
            "tags": []
          },
          "execution_count": 26
        }
      ]
    },
    {
      "cell_type": "code",
      "metadata": {
        "id": "IjfHAAitYYqF",
        "colab": {
          "base_uri": "https://localhost:8080/",
          "height": 191
        },
        "outputId": "4b537b01-6eb3-4d34-f200-112f064c2a21"
      },
      "source": [
        "X_train = ordinal_enc.transform(X_train)\n",
        "X_test = ordinal_enc.transform(X_test)\n",
        "\n",
        "# exploremos el resutado\n",
        "X_train.head()"
      ],
      "execution_count": 27,
      "outputs": [
        {
          "output_type": "execute_result",
          "data": {
            "text/html": [
              "<div>\n",
              "<style scoped>\n",
              "    .dataframe tbody tr th:only-of-type {\n",
              "        vertical-align: middle;\n",
              "    }\n",
              "\n",
              "    .dataframe tbody tr th {\n",
              "        vertical-align: top;\n",
              "    }\n",
              "\n",
              "    .dataframe thead th {\n",
              "        text-align: right;\n",
              "    }\n",
              "</style>\n",
              "<table border=\"1\" class=\"dataframe\">\n",
              "  <thead>\n",
              "    <tr style=\"text-align: right;\">\n",
              "      <th></th>\n",
              "      <th>Neighborhood</th>\n",
              "      <th>Exterior1st</th>\n",
              "      <th>Exterior2nd</th>\n",
              "    </tr>\n",
              "  </thead>\n",
              "  <tbody>\n",
              "    <tr>\n",
              "      <th>64</th>\n",
              "      <td>16</td>\n",
              "      <td>11</td>\n",
              "      <td>13</td>\n",
              "    </tr>\n",
              "    <tr>\n",
              "      <th>682</th>\n",
              "      <td>17</td>\n",
              "      <td>5</td>\n",
              "      <td>7</td>\n",
              "    </tr>\n",
              "    <tr>\n",
              "      <th>960</th>\n",
              "      <td>4</td>\n",
              "      <td>5</td>\n",
              "      <td>8</td>\n",
              "    </tr>\n",
              "    <tr>\n",
              "      <th>1384</th>\n",
              "      <td>3</td>\n",
              "      <td>4</td>\n",
              "      <td>4</td>\n",
              "    </tr>\n",
              "    <tr>\n",
              "      <th>1100</th>\n",
              "      <td>8</td>\n",
              "      <td>5</td>\n",
              "      <td>7</td>\n",
              "    </tr>\n",
              "  </tbody>\n",
              "</table>\n",
              "</div>"
            ],
            "text/plain": [
              "      Neighborhood  Exterior1st  Exterior2nd\n",
              "64              16           11           13\n",
              "682             17            5            7\n",
              "960              4            5            8\n",
              "1384             3            4            4\n",
              "1100             8            5            7"
            ]
          },
          "metadata": {
            "tags": []
          },
          "execution_count": 27
        }
      ]
    },
    {
      "cell_type": "markdown",
      "metadata": {
        "id": "BTN21IgQYYqF"
      },
      "source": [
        "**Nota**\n",
        "\n",
        "Si el argmento 'variables' se fija en 'None' (ninguno), entonces el codificador automáticamente indentificará  **todas las variables categóricas**. Maravilloso verdad?\n",
        "\n",
        "El codificador no codificará las variables numéricas. Por lo tanto, si algunas de tus variables categóricas son de hecho numéricas, necesitas hacer el 're-cast' o cambio a tipo 'object' antes de usar el codificador.\n",
        "\n",
        "Si hay una variable en el set de prueba, para el cual el codificador no tiene un número para asignar ( la categoría no estaba presente en el set de entrenamiento), el codificador devolverá un error para alertarte del problema\n",
        "\n"
      ]
    },
    {
      "cell_type": "code",
      "metadata": {
        "id": "GV5khNcEGY_P"
      },
      "source": [
        ""
      ],
      "execution_count": null,
      "outputs": []
    }
  ]
}