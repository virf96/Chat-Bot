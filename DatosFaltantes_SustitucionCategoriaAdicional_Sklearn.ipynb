{
  "nbformat": 4,
  "nbformat_minor": 0,
  "metadata": {
    "kernelspec": {
      "display_name": "feml",
      "language": "python",
      "name": "feml"
    },
    "language_info": {
      "codemirror_mode": {
        "name": "ipython",
        "version": 3
      },
      "file_extension": ".py",
      "mimetype": "text/x-python",
      "name": "python",
      "nbconvert_exporter": "python",
      "pygments_lexer": "ipython3",
      "version": "3.7.3"
    },
    "toc": {
      "nav_menu": {},
      "number_sections": true,
      "sideBar": true,
      "skip_h1_title": false,
      "toc_cell": false,
      "toc_position": {},
      "toc_section_display": true,
      "toc_window_display": true
    },
    "colab": {
      "name": "DatosFaltantes_SustitucionCategoriaAdicional_Sklearn.ipynb",
      "provenance": [],
      "toc_visible": true,
      "include_colab_link": true
    }
  },
  "cells": [
    {
      "cell_type": "markdown",
      "metadata": {
        "id": "view-in-github",
        "colab_type": "text"
      },
      "source": [
        "<a href=\"https://colab.research.google.com/github/virf96/Chat-Bot/blob/master/DatosFaltantes_SustitucionCategoriaAdicional_Sklearn.ipynb\" target=\"_parent\"><img src=\"https://colab.research.google.com/assets/colab-badge.svg\" alt=\"Open In Colab\"/></a>"
      ]
    },
    {
      "cell_type": "markdown",
      "metadata": {
        "id": "AfSsRst0mY61"
      },
      "source": [
        "## Sustitución usando una etiqueta adicional 'Missing' con Scikit-learn ==> SimpleImputer \n",
        "\n",
        "En la librería Scikit-learn hay una clase para manejar una gran variedad de métodos de sustitución.\n",
        "\n",
        "El **SimpleImputer** es una clase que provee funcionalidad básica para la sustitución de valores ausentes, incluyendo:\n",
        "\n",
        "- Sustitución por la media y la mediana para variables numéricas\n",
        "- Sustitución por la categoría más frecuente para variables categóricas.\n",
        "- Sustitución por valores arbitrarios para variables numéricas y categóricas.\n",
        "\n",
        "### Ventajas\n",
        "\n",
        "- Fácil de usar si se aplica a todo el dataframe\n",
        "- Código mantenido por desarrolladores de Scikit-learn: buena calidad\n",
        "- Rápida computación (usa NumPy para los cálculos)\n",
        "- Permite usar grid-search (búsqueda en cuadrículas) para varios métodos de sustitución\n",
        "- Permite usar diferentes valores para codificar ausencia de datos (se puede indicar si por ejemplo los valores nulos son np.nan, ceros, cadenas de caracteres vacías, u otros)\n",
        "\n",
        "### Limitaciones\n",
        "\n",
        "- Retorna un arreglo de NumPy en lugar de un dataframe de pandas, lo cual es inconveniente para el análisis de datos\n",
        "- Necesita usar clases adicionales para seleccionar cuales variables se deben sustituir ==>\n",
        "    - requiere líneas de código adicional\n",
        "    - requiere ser usado con otras clases\n",
        "    - no es tan sencillo de usar\n",
        "    \n",
        "### Más detalles acerca de los transformadores (transformers en inglés)\n",
        "\n",
        "- [SimpleImputer](https://scikit-learn.org/stable/modules/generated/sklearn.impute.SimpleImputer.html#sklearn.impute.SimpleImputer)\n",
        "- [ColumnTransformer](https://scikit-learn.org/stable/modules/generated/sklearn.compose.ColumnTransformer.html)\n",
        "- [Stackoverflow](https://stackoverflow.com/questions/54160370/how-to-use-sklearn-column-transformer)\n",
        "\n",
        "\n",
        "## En este demo:\n",
        "\n",
        "Vamos a aprender **sustitución con una etiqueta adicional 'Missing' usando Scikit-learn** usando los datos Ames House Price.\n",
        "\n",
        "- Para bajar los datos, por favor referirse a la clase  **Datasets** en la  **Sección 1** del curso.\n",
        "\n",
        "### Nota: \n",
        "* 'Imputer' se deriva del verbo en inglés 'to impute' que quiere decir sustituir o reemplazar. Imputer es el objeto que completa la sustitución, de ahi el nombre dado a la clase.\n",
        "* 'slicing' significa seleccionar conjuntos de datos (columnas/filas) de un ‘DataFrame’.\n",
        "* 'Missing' -> ausente"
      ]
    },
    {
      "cell_type": "code",
      "metadata": {
        "id": "56G6N_hqmY64"
      },
      "source": [
        "import pandas as pd\n",
        "import numpy as np\n",
        "\n",
        "import matplotlib.pyplot as plt\n",
        "\n",
        "# estas son las clases para sustitutición con sklearn\n",
        "from sklearn.impute import SimpleImputer\n",
        "from sklearn.compose import ColumnTransformer\n",
        "from sklearn.pipeline import Pipeline\n",
        "\n",
        "# dividir dataset\n",
        "from sklearn.model_selection import train_test_split"
      ],
      "execution_count": 1,
      "outputs": []
    },
    {
      "cell_type": "code",
      "metadata": {
        "id": "vacpyShuIqeV",
        "outputId": "a8cf117a-04ff-436d-f7ce-bd223c0c966e",
        "colab": {
          "base_uri": "https://localhost:8080/",
          "height": 34
        }
      },
      "source": [
        "from google.colab import drive\n",
        "drive.mount('/content/drive')"
      ],
      "execution_count": 3,
      "outputs": [
        {
          "output_type": "stream",
          "text": [
            "Mounted at /content/drive\n"
          ],
          "name": "stdout"
        }
      ]
    },
    {
      "cell_type": "code",
      "metadata": {
        "id": "4ncOvLY2mY7A",
        "outputId": "c9e9e976-699a-486f-c018-b256b04211bc",
        "colab": {
          "base_uri": "https://localhost:8080/",
          "height": 204
        }
      },
      "source": [
        "# solo usaremos las siguientes variables categóricas en el demo:\n",
        "\n",
        "# estas son las variables categóricas y el target SalePrice\n",
        "cols_to_use = ['BsmtQual', 'FireplaceQu', 'SalePrice']\n",
        "\n",
        "# carguemos los datos \n",
        "data = pd.read_csv('/content/drive/My Drive/datasets/houseprice.csv', usecols=cols_to_use)\n",
        "data.head()"
      ],
      "execution_count": 4,
      "outputs": [
        {
          "output_type": "execute_result",
          "data": {
            "text/html": [
              "<div>\n",
              "<style scoped>\n",
              "    .dataframe tbody tr th:only-of-type {\n",
              "        vertical-align: middle;\n",
              "    }\n",
              "\n",
              "    .dataframe tbody tr th {\n",
              "        vertical-align: top;\n",
              "    }\n",
              "\n",
              "    .dataframe thead th {\n",
              "        text-align: right;\n",
              "    }\n",
              "</style>\n",
              "<table border=\"1\" class=\"dataframe\">\n",
              "  <thead>\n",
              "    <tr style=\"text-align: right;\">\n",
              "      <th></th>\n",
              "      <th>BsmtQual</th>\n",
              "      <th>FireplaceQu</th>\n",
              "      <th>SalePrice</th>\n",
              "    </tr>\n",
              "  </thead>\n",
              "  <tbody>\n",
              "    <tr>\n",
              "      <th>0</th>\n",
              "      <td>Gd</td>\n",
              "      <td>NaN</td>\n",
              "      <td>208500</td>\n",
              "    </tr>\n",
              "    <tr>\n",
              "      <th>1</th>\n",
              "      <td>Gd</td>\n",
              "      <td>TA</td>\n",
              "      <td>181500</td>\n",
              "    </tr>\n",
              "    <tr>\n",
              "      <th>2</th>\n",
              "      <td>Gd</td>\n",
              "      <td>TA</td>\n",
              "      <td>223500</td>\n",
              "    </tr>\n",
              "    <tr>\n",
              "      <th>3</th>\n",
              "      <td>TA</td>\n",
              "      <td>Gd</td>\n",
              "      <td>140000</td>\n",
              "    </tr>\n",
              "    <tr>\n",
              "      <th>4</th>\n",
              "      <td>Gd</td>\n",
              "      <td>TA</td>\n",
              "      <td>250000</td>\n",
              "    </tr>\n",
              "  </tbody>\n",
              "</table>\n",
              "</div>"
            ],
            "text/plain": [
              "  BsmtQual FireplaceQu  SalePrice\n",
              "0       Gd         NaN     208500\n",
              "1       Gd          TA     181500\n",
              "2       Gd          TA     223500\n",
              "3       TA          Gd     140000\n",
              "4       Gd          TA     250000"
            ]
          },
          "metadata": {
            "tags": []
          },
          "execution_count": 4
        }
      ]
    },
    {
      "cell_type": "code",
      "metadata": {
        "id": "1S_vfnFBmY7J",
        "outputId": "0ded9c67-b9f1-4508-c163-135dd56b88e0",
        "colab": {
          "base_uri": "https://localhost:8080/",
          "height": 85
        }
      },
      "source": [
        "# revisemos los valores nulos\n",
        "data.isnull().mean().sort_values(ascending=False)"
      ],
      "execution_count": 11,
      "outputs": [
        {
          "output_type": "execute_result",
          "data": {
            "text/plain": [
              "FireplaceQu    0.472603\n",
              "BsmtQual       0.025342\n",
              "SalePrice      0.000000\n",
              "dtype: float64"
            ]
          },
          "metadata": {
            "tags": []
          },
          "execution_count": 11
        }
      ]
    },
    {
      "cell_type": "markdown",
      "metadata": {
        "id": "MQ89OdllmY7O"
      },
      "source": [
        "Las variables cateogóricas BsmtQual y FirePlaceQu tienen datos ausentes\n"
      ]
    },
    {
      "cell_type": "code",
      "metadata": {
        "id": "6Vv9hl4wmY7P",
        "outputId": "d8035eee-8931-43e2-a76e-7811688a2b9c",
        "colab": {
          "base_uri": "https://localhost:8080/",
          "height": 34
        }
      },
      "source": [
        "# separar datos en segmentos entrenamiento y prueba\n",
        "\n",
        "# primero, separemos el target (SalePrice) del resto de las variables (features)\n",
        "cols_to_use.remove('SalePrice')\n",
        "\n",
        "X_train, X_test, y_train, y_test = train_test_split(data[cols_to_use], # solo las variables\n",
        "                                                    data['SalePrice'], # el target\n",
        "                                                    test_size=0.3, # el porcentaje de obs en el segmento de prueba\n",
        "                                                    random_state=0) # para reproducir\n",
        "X_train.shape, X_test.shape"
      ],
      "execution_count": 12,
      "outputs": [
        {
          "output_type": "execute_result",
          "data": {
            "text/plain": [
              "((1022, 2), (438, 2))"
            ]
          },
          "metadata": {
            "tags": []
          },
          "execution_count": 12
        }
      ]
    },
    {
      "cell_type": "code",
      "metadata": {
        "id": "3ghrxbSgmY7T",
        "outputId": "f93ee3ad-52e6-4c8d-ca59-a9cf44c34dcf",
        "colab": {
          "base_uri": "https://localhost:8080/",
          "height": 68
        }
      },
      "source": [
        "# evaluemos el porcentaje de datos ausentes nuevamente\n",
        "#Como podemos ver el porcentaje de valores ausentes cambio dado que solo estamos usando el 70% del set oiginal\n",
        "#Recordemos que no consideramos a el target \"SalePrice\"\n",
        "X_train.isnull().mean()"
      ],
      "execution_count": 13,
      "outputs": [
        {
          "output_type": "execute_result",
          "data": {
            "text/plain": [
              "BsmtQual       0.023483\n",
              "FireplaceQu    0.467710\n",
              "dtype: float64"
            ]
          },
          "metadata": {
            "tags": []
          },
          "execution_count": 13
        }
      ]
    },
    {
      "cell_type": "code",
      "metadata": {
        "id": "cZgaqZtlmY7W",
        "outputId": "e58fd1b3-4c11-4c55-9408-dfba1285103d",
        "colab": {
          "base_uri": "https://localhost:8080/",
          "height": 34
        }
      },
      "source": [
        "# exploremos los valores de la variable categórica\n",
        "X_train['BsmtQual'].unique()"
      ],
      "execution_count": 14,
      "outputs": [
        {
          "output_type": "execute_result",
          "data": {
            "text/plain": [
              "array(['Gd', 'TA', 'Fa', nan, 'Ex'], dtype=object)"
            ]
          },
          "metadata": {
            "tags": []
          },
          "execution_count": 14
        }
      ]
    },
    {
      "cell_type": "code",
      "metadata": {
        "id": "Eh5fy5nhmY7Z",
        "outputId": "58cbca70-a113-4b94-ab94-731833816fac",
        "colab": {
          "base_uri": "https://localhost:8080/",
          "height": 34
        }
      },
      "source": [
        "# exploremos los valores de la variable categórica\n",
        "X_train['FireplaceQu'].unique()"
      ],
      "execution_count": 15,
      "outputs": [
        {
          "output_type": "execute_result",
          "data": {
            "text/plain": [
              "array([nan, 'Gd', 'TA', 'Fa', 'Po', 'Ex'], dtype=object)"
            ]
          },
          "metadata": {
            "tags": []
          },
          "execution_count": 15
        }
      ]
    },
    {
      "cell_type": "code",
      "metadata": {
        "id": "AY_RtCGHmY7d",
        "outputId": "c9027a1a-5c92-49ae-85a6-12f83c86f98a",
        "colab": {
          "base_uri": "https://localhost:8080/",
          "height": 51
        }
      },
      "source": [
        "# Ahora sustituyamos los valores faltantes con  SimpleImputer\n",
        "\n",
        "# creemos una instancia de la clase SimpleImputer\n",
        "# indicaremos que queremos sustituir los valores nulos\n",
        "# con la categoría 'Missing'\n",
        "\n",
        "imputer = SimpleImputer(strategy='constant', \n",
        "                       fill_value = 'Missing')\n",
        "\n",
        "# ajustamos el imputer al segmento de entrenamiento\n",
        "# en este caso simplemente reemplaza los valores nulos con el valor 'Missing'\n",
        "\n",
        "imputer.fit(X_train)"
      ],
      "execution_count": 16,
      "outputs": [
        {
          "output_type": "execute_result",
          "data": {
            "text/plain": [
              "SimpleImputer(add_indicator=False, copy=True, fill_value='Missing',\n",
              "              missing_values=nan, strategy='constant', verbose=0)"
            ]
          },
          "metadata": {
            "tags": []
          },
          "execution_count": 16
        }
      ]
    },
    {
      "cell_type": "code",
      "metadata": {
        "id": "yhWntHklmY7f",
        "outputId": "cf111d77-81bb-407a-dc4e-6dc8b5f1a8c3",
        "colab": {
          "base_uri": "https://localhost:8080/",
          "height": 34
        }
      },
      "source": [
        "# veamos los valores ajustados:\n",
        "imputer.statistics_"
      ],
      "execution_count": 17,
      "outputs": [
        {
          "output_type": "execute_result",
          "data": {
            "text/plain": [
              "array(['Missing', 'Missing'], dtype=object)"
            ]
          },
          "metadata": {
            "tags": []
          },
          "execution_count": 17
        }
      ]
    },
    {
      "cell_type": "code",
      "metadata": {
        "id": "GbegfizvmY7h",
        "outputId": "480dc8a4-e415-445e-9682-7f0998eef15c",
        "colab": {
          "base_uri": "https://localhost:8080/",
          "height": 136
        }
      },
      "source": [
        "# ahora sustituyamos en los segmentos de entrenamiento y prueba\n",
        "\n",
        "# NOTA: los datos son devueltos como un numpy array!!\n",
        "X_train = imputer.transform(X_train)\n",
        "X_test = imputer.transform(X_test)\n",
        "\n",
        "X_train"
      ],
      "execution_count": 18,
      "outputs": [
        {
          "output_type": "execute_result",
          "data": {
            "text/plain": [
              "array([['Gd', 'Missing'],\n",
              "       ['Gd', 'Gd'],\n",
              "       ['TA', 'Missing'],\n",
              "       ...,\n",
              "       ['Missing', 'Missing'],\n",
              "       ['Gd', 'TA'],\n",
              "       ['Gd', 'Missing']], dtype=object)"
            ]
          },
          "metadata": {
            "tags": []
          },
          "execution_count": 18
        }
      ]
    },
    {
      "cell_type": "code",
      "metadata": {
        "id": "RJN1eRuTmY7k",
        "outputId": "b7e86b27-7cb8-4086-a7a5-8f7f3b393e34",
        "colab": {
          "base_uri": "https://localhost:8080/",
          "height": 204
        }
      },
      "source": [
        "# transformemos el segmento de entrenamiento en un dataframe:\n",
        "\n",
        "X_train = pd.DataFrame(X_train, columns=cols_to_use)\n",
        "X_train.head()"
      ],
      "execution_count": 19,
      "outputs": [
        {
          "output_type": "execute_result",
          "data": {
            "text/html": [
              "<div>\n",
              "<style scoped>\n",
              "    .dataframe tbody tr th:only-of-type {\n",
              "        vertical-align: middle;\n",
              "    }\n",
              "\n",
              "    .dataframe tbody tr th {\n",
              "        vertical-align: top;\n",
              "    }\n",
              "\n",
              "    .dataframe thead th {\n",
              "        text-align: right;\n",
              "    }\n",
              "</style>\n",
              "<table border=\"1\" class=\"dataframe\">\n",
              "  <thead>\n",
              "    <tr style=\"text-align: right;\">\n",
              "      <th></th>\n",
              "      <th>BsmtQual</th>\n",
              "      <th>FireplaceQu</th>\n",
              "    </tr>\n",
              "  </thead>\n",
              "  <tbody>\n",
              "    <tr>\n",
              "      <th>0</th>\n",
              "      <td>Gd</td>\n",
              "      <td>Missing</td>\n",
              "    </tr>\n",
              "    <tr>\n",
              "      <th>1</th>\n",
              "      <td>Gd</td>\n",
              "      <td>Gd</td>\n",
              "    </tr>\n",
              "    <tr>\n",
              "      <th>2</th>\n",
              "      <td>TA</td>\n",
              "      <td>Missing</td>\n",
              "    </tr>\n",
              "    <tr>\n",
              "      <th>3</th>\n",
              "      <td>TA</td>\n",
              "      <td>Missing</td>\n",
              "    </tr>\n",
              "    <tr>\n",
              "      <th>4</th>\n",
              "      <td>TA</td>\n",
              "      <td>Missing</td>\n",
              "    </tr>\n",
              "  </tbody>\n",
              "</table>\n",
              "</div>"
            ],
            "text/plain": [
              "  BsmtQual FireplaceQu\n",
              "0       Gd     Missing\n",
              "1       Gd          Gd\n",
              "2       TA     Missing\n",
              "3       TA     Missing\n",
              "4       TA     Missing"
            ]
          },
          "metadata": {
            "tags": []
          },
          "execution_count": 19
        }
      ]
    },
    {
      "cell_type": "code",
      "metadata": {
        "id": "CvqX3sTRmY7m",
        "outputId": "1e3c5089-80b3-40a9-d830-1ae9dfae078d",
        "colab": {
          "base_uri": "https://localhost:8080/",
          "height": 34
        }
      },
      "source": [
        "X_train['BsmtQual'].unique()"
      ],
      "execution_count": 20,
      "outputs": [
        {
          "output_type": "execute_result",
          "data": {
            "text/plain": [
              "array(['Gd', 'TA', 'Fa', 'Missing', 'Ex'], dtype=object)"
            ]
          },
          "metadata": {
            "tags": []
          },
          "execution_count": 20
        }
      ]
    },
    {
      "cell_type": "code",
      "metadata": {
        "id": "sW1B2mAFmY7p",
        "outputId": "3d7bac09-3e87-4c1b-d7e7-969a94942d2a",
        "colab": {
          "base_uri": "https://localhost:8080/",
          "height": 68
        }
      },
      "source": [
        "X_train.isnull().mean()"
      ],
      "execution_count": 21,
      "outputs": [
        {
          "output_type": "execute_result",
          "data": {
            "text/plain": [
              "BsmtQual       0.0\n",
              "FireplaceQu    0.0\n",
              "dtype: float64"
            ]
          },
          "metadata": {
            "tags": []
          },
          "execution_count": 21
        }
      ]
    },
    {
      "cell_type": "markdown",
      "metadata": {
        "id": "jvWkpI-omY7s"
      },
      "source": [
        "**ADVERTENCIA**:\n",
        "\n",
        "Cuando usamos SimpleImputer y fijamos los parámetros:\n",
        "- strategy='constant'\n",
        "- fill_value = 'Missing'\n",
        "\n",
        "Si el dataframe contiene variables que son numéricas y categóricas, los valores nulos NA en ambos serán reemplazados con 'Missing\" y por lo tanto una variable numérica se convierte en categórica, que probablemente no es el efecto deseado.\n",
        "\n",
        "La mayoría de datos contienen variables  numéricas y categóricas, por lo tanto lo más probable es que tendrás que usar un transformador para seleccionar las columnas como mostramos en los notebooks previos y en las siguientes celdas.\n"
      ]
    },
    {
      "cell_type": "code",
      "metadata": {
        "id": "Lvt0F70UmY7s",
        "outputId": "99770d87-c307-4729-af6a-5b3033eaa659",
        "colab": {
          "base_uri": "https://localhost:8080/",
          "height": 204
        }
      },
      "source": [
        "# carguemos los datos con variables numéricas y categóricas\n",
        "\n",
        "cols_to_use = [\n",
        "    'BsmtQual', 'FireplaceQu', 'LotFrontage', 'MasVnrArea', 'GarageYrBlt',\n",
        "    'SalePrice'\n",
        "]\n",
        "\n",
        "data = pd.read_csv('/content/drive/My Drive/datasets/houseprice.csv', usecols=cols_to_use)\n",
        "data.head()"
      ],
      "execution_count": 22,
      "outputs": [
        {
          "output_type": "execute_result",
          "data": {
            "text/html": [
              "<div>\n",
              "<style scoped>\n",
              "    .dataframe tbody tr th:only-of-type {\n",
              "        vertical-align: middle;\n",
              "    }\n",
              "\n",
              "    .dataframe tbody tr th {\n",
              "        vertical-align: top;\n",
              "    }\n",
              "\n",
              "    .dataframe thead th {\n",
              "        text-align: right;\n",
              "    }\n",
              "</style>\n",
              "<table border=\"1\" class=\"dataframe\">\n",
              "  <thead>\n",
              "    <tr style=\"text-align: right;\">\n",
              "      <th></th>\n",
              "      <th>LotFrontage</th>\n",
              "      <th>MasVnrArea</th>\n",
              "      <th>BsmtQual</th>\n",
              "      <th>FireplaceQu</th>\n",
              "      <th>GarageYrBlt</th>\n",
              "      <th>SalePrice</th>\n",
              "    </tr>\n",
              "  </thead>\n",
              "  <tbody>\n",
              "    <tr>\n",
              "      <th>0</th>\n",
              "      <td>65.0</td>\n",
              "      <td>196.0</td>\n",
              "      <td>Gd</td>\n",
              "      <td>NaN</td>\n",
              "      <td>2003.0</td>\n",
              "      <td>208500</td>\n",
              "    </tr>\n",
              "    <tr>\n",
              "      <th>1</th>\n",
              "      <td>80.0</td>\n",
              "      <td>0.0</td>\n",
              "      <td>Gd</td>\n",
              "      <td>TA</td>\n",
              "      <td>1976.0</td>\n",
              "      <td>181500</td>\n",
              "    </tr>\n",
              "    <tr>\n",
              "      <th>2</th>\n",
              "      <td>68.0</td>\n",
              "      <td>162.0</td>\n",
              "      <td>Gd</td>\n",
              "      <td>TA</td>\n",
              "      <td>2001.0</td>\n",
              "      <td>223500</td>\n",
              "    </tr>\n",
              "    <tr>\n",
              "      <th>3</th>\n",
              "      <td>60.0</td>\n",
              "      <td>0.0</td>\n",
              "      <td>TA</td>\n",
              "      <td>Gd</td>\n",
              "      <td>1998.0</td>\n",
              "      <td>140000</td>\n",
              "    </tr>\n",
              "    <tr>\n",
              "      <th>4</th>\n",
              "      <td>84.0</td>\n",
              "      <td>350.0</td>\n",
              "      <td>Gd</td>\n",
              "      <td>TA</td>\n",
              "      <td>2000.0</td>\n",
              "      <td>250000</td>\n",
              "    </tr>\n",
              "  </tbody>\n",
              "</table>\n",
              "</div>"
            ],
            "text/plain": [
              "   LotFrontage  MasVnrArea BsmtQual FireplaceQu  GarageYrBlt  SalePrice\n",
              "0         65.0       196.0       Gd         NaN       2003.0     208500\n",
              "1         80.0         0.0       Gd          TA       1976.0     181500\n",
              "2         68.0       162.0       Gd          TA       2001.0     223500\n",
              "3         60.0         0.0       TA          Gd       1998.0     140000\n",
              "4         84.0       350.0       Gd          TA       2000.0     250000"
            ]
          },
          "metadata": {
            "tags": []
          },
          "execution_count": 22
        }
      ]
    },
    {
      "cell_type": "code",
      "metadata": {
        "id": "hSEdG6A0mY7u",
        "outputId": "54bb9a0d-e6f1-45b8-b4ad-4d0955bd9beb",
        "colab": {
          "base_uri": "https://localhost:8080/",
          "height": 34
        }
      },
      "source": [
        "# separar datos en segmentos entrenamiento y prueba\n",
        "\n",
        "# primero descartemos el target de la lista de variables\n",
        "cols_to_use.remove('SalePrice')\n",
        "\n",
        "X_train, X_test, y_train, y_test = train_test_split(data[cols_to_use],\n",
        "                                                    data['SalePrice'],\n",
        "                                                    test_size=0.3,\n",
        "                                                    random_state=0)\n",
        "X_train.shape, X_test.shape"
      ],
      "execution_count": 23,
      "outputs": [
        {
          "output_type": "execute_result",
          "data": {
            "text/plain": [
              "((1022, 5), (438, 5))"
            ]
          },
          "metadata": {
            "tags": []
          },
          "execution_count": 23
        }
      ]
    },
    {
      "cell_type": "code",
      "metadata": {
        "id": "qBhkxsBQmY7w",
        "outputId": "52b3f069-d8c0-4a19-a5d7-12472d3f64b5",
        "colab": {
          "base_uri": "https://localhost:8080/",
          "height": 119
        }
      },
      "source": [
        "# revisemos los valores nulos\n",
        "#El target \"SalePrice\" no fue considerado\n",
        "X_train.isnull().mean().sort_values(ascending=False)"
      ],
      "execution_count": 26,
      "outputs": [
        {
          "output_type": "execute_result",
          "data": {
            "text/plain": [
              "FireplaceQu    0.467710\n",
              "LotFrontage    0.184932\n",
              "GarageYrBlt    0.052838\n",
              "BsmtQual       0.023483\n",
              "MasVnrArea     0.004892\n",
              "dtype: float64"
            ]
          },
          "metadata": {
            "tags": []
          },
          "execution_count": 26
        }
      ]
    },
    {
      "cell_type": "markdown",
      "metadata": {
        "id": "5regkimOmY7y"
      },
      "source": [
        "En este demo, vamos a sustituir los valores nulos de las variables numéricas por la media y las variables categóricas por la nueva etiqueta 'Missing'."
      ]
    },
    {
      "cell_type": "code",
      "metadata": {
        "id": "YqLghSu4mY7y"
      },
      "source": [
        "# primero vamos a crear una lista, indicando cuales son las \n",
        "# variables a sustituir con cada método\n",
        "\n",
        "features_numeric = ['LotFrontage', 'MasVnrArea', 'GarageYrBlt']\n",
        "features_categoric = ['BsmtQual', 'FireplaceQu']\n",
        "\n",
        "# luego vamos a instanciar imputers dentro de un pipeline\n",
        "# creamos un imputer por cada variable\n",
        "# indicando uno para la media y el otro para las variables categóricas\n",
        "\n",
        "imputer_numeric = Pipeline(steps=[\n",
        "    ('imputer', SimpleImputer(strategy='mean')),\n",
        "])\n",
        "\n",
        "imputer_categoric = Pipeline(\n",
        "    steps=[('imputer',\n",
        "            SimpleImputer(strategy='constant', fill_value='Missing'))])\n",
        "\n",
        "# luego ponemos las variables en lista y los transformadores juntos\n",
        "# usando la columna transformer\n",
        "\n",
        "preprocessor = ColumnTransformer(transformers=[('imputer_numeric',\n",
        "                                                imputer_numeric,\n",
        "                                                features_numeric),\n",
        "                                               ('imputer_categoric',\n",
        "                                                imputer_categoric,\n",
        "                                                features_categoric)])"
      ],
      "execution_count": 28,
      "outputs": []
    },
    {
      "cell_type": "code",
      "metadata": {
        "id": "4eRffngWmY70",
        "outputId": "541bfb12-7556-443c-d214-f49062823882",
        "colab": {
          "base_uri": "https://localhost:8080/",
          "height": 442
        }
      },
      "source": [
        "# ajustemos el preprocessor\n",
        "preprocessor.fit(X_train)"
      ],
      "execution_count": 29,
      "outputs": [
        {
          "output_type": "execute_result",
          "data": {
            "text/plain": [
              "ColumnTransformer(n_jobs=None, remainder='drop', sparse_threshold=0.3,\n",
              "                  transformer_weights=None,\n",
              "                  transformers=[('imputer_numeric',\n",
              "                                 Pipeline(memory=None,\n",
              "                                          steps=[('imputer',\n",
              "                                                  SimpleImputer(add_indicator=False,\n",
              "                                                                copy=True,\n",
              "                                                                fill_value=None,\n",
              "                                                                missing_values=nan,\n",
              "                                                                strategy='mean',\n",
              "                                                                verbose=0))],\n",
              "                                          verbose=False),\n",
              "                                 ['LotFrontage', 'MasVnrArea', 'GarageYrBlt']),\n",
              "                                ('imputer_categoric',\n",
              "                                 Pipeline(memory=None,\n",
              "                                          steps=[('imputer',\n",
              "                                                  SimpleImputer(add_indicator=False,\n",
              "                                                                copy=True,\n",
              "                                                                fill_value='Missing',\n",
              "                                                                missing_values=nan,\n",
              "                                                                strategy='constant',\n",
              "                                                                verbose=0))],\n",
              "                                          verbose=False),\n",
              "                                 ['BsmtQual', 'FireplaceQu'])],\n",
              "                  verbose=False)"
            ]
          },
          "metadata": {
            "tags": []
          },
          "execution_count": 29
        }
      ]
    },
    {
      "cell_type": "code",
      "metadata": {
        "id": "ZQ6A5jQymY72",
        "outputId": "b7ce1832-66b0-4989-8112-355d3ef164a2",
        "colab": {
          "base_uri": "https://localhost:8080/",
          "height": 221
        }
      },
      "source": [
        "# podemos explorar el transformador:\n",
        "preprocessor.transformers"
      ],
      "execution_count": 30,
      "outputs": [
        {
          "output_type": "execute_result",
          "data": {
            "text/plain": [
              "[('imputer_numeric', Pipeline(memory=None,\n",
              "           steps=[('imputer',\n",
              "                   SimpleImputer(add_indicator=False, copy=True, fill_value=None,\n",
              "                                 missing_values=nan, strategy='mean',\n",
              "                                 verbose=0))],\n",
              "           verbose=False), ['LotFrontage', 'MasVnrArea', 'GarageYrBlt']),\n",
              " ('imputer_categoric', Pipeline(memory=None,\n",
              "           steps=[('imputer',\n",
              "                   SimpleImputer(add_indicator=False, copy=True,\n",
              "                                 fill_value='Missing', missing_values=nan,\n",
              "                                 strategy='constant', verbose=0))],\n",
              "           verbose=False), ['BsmtQual', 'FireplaceQu'])]"
            ]
          },
          "metadata": {
            "tags": []
          },
          "execution_count": 30
        }
      ]
    },
    {
      "cell_type": "code",
      "metadata": {
        "id": "rmJrpEOGmY74",
        "outputId": "ba667eb1-3cae-4181-dcc4-8654e1432d22",
        "colab": {
          "base_uri": "https://localhost:8080/",
          "height": 34
        }
      },
      "source": [
        "# podemos ver los parámetros ajustados:\n",
        "\n",
        "# para el imputer de las variables numéricas\n",
        "preprocessor.named_transformers_['imputer_numeric'].named_steps['imputer'].statistics_"
      ],
      "execution_count": 31,
      "outputs": [
        {
          "output_type": "execute_result",
          "data": {
            "text/plain": [
              "array([  69.66866747,  103.55358899, 1978.01239669])"
            ]
          },
          "metadata": {
            "tags": []
          },
          "execution_count": 31
        }
      ]
    },
    {
      "cell_type": "code",
      "metadata": {
        "id": "-KeaSejpmY76",
        "outputId": "4bee6702-7907-4b3f-9e14-1dd14d9e477b",
        "colab": {
          "base_uri": "https://localhost:8080/",
          "height": 34
        }
      },
      "source": [
        "# para el imputer de las variables categóricas\n",
        "preprocessor.named_transformers_['imputer_categoric'].named_steps['imputer'].statistics_"
      ],
      "execution_count": 32,
      "outputs": [
        {
          "output_type": "execute_result",
          "data": {
            "text/plain": [
              "array(['Missing', 'Missing'], dtype=object)"
            ]
          },
          "metadata": {
            "tags": []
          },
          "execution_count": 32
        }
      ]
    },
    {
      "cell_type": "code",
      "metadata": {
        "id": "VIl-LdMtmY78"
      },
      "source": [
        "# y ahora podemos sustituir los segmentos de entrenamiento y prueba\n",
        "# recuerda los datos retornados son numpy arrays\n",
        "\n",
        "X_train = preprocessor.transform(X_train)\n",
        "X_test = preprocessor.transform(X_test)"
      ],
      "execution_count": 33,
      "outputs": []
    },
    {
      "cell_type": "code",
      "metadata": {
        "id": "e5sZh_USmY7-",
        "outputId": "a9eec03f-e85d-4ffe-c639-304dd74fdd60",
        "colab": {
          "base_uri": "https://localhost:8080/",
          "height": 204
        }
      },
      "source": [
        "# ahora convirtamos el resultado en un dataframe\n",
        "pd.DataFrame(X_train,\n",
        "             columns=features_numeric+features_categoric).head()"
      ],
      "execution_count": 34,
      "outputs": [
        {
          "output_type": "execute_result",
          "data": {
            "text/html": [
              "<div>\n",
              "<style scoped>\n",
              "    .dataframe tbody tr th:only-of-type {\n",
              "        vertical-align: middle;\n",
              "    }\n",
              "\n",
              "    .dataframe tbody tr th {\n",
              "        vertical-align: top;\n",
              "    }\n",
              "\n",
              "    .dataframe thead th {\n",
              "        text-align: right;\n",
              "    }\n",
              "</style>\n",
              "<table border=\"1\" class=\"dataframe\">\n",
              "  <thead>\n",
              "    <tr style=\"text-align: right;\">\n",
              "      <th></th>\n",
              "      <th>LotFrontage</th>\n",
              "      <th>MasVnrArea</th>\n",
              "      <th>GarageYrBlt</th>\n",
              "      <th>BsmtQual</th>\n",
              "      <th>FireplaceQu</th>\n",
              "    </tr>\n",
              "  </thead>\n",
              "  <tbody>\n",
              "    <tr>\n",
              "      <th>0</th>\n",
              "      <td>69.6687</td>\n",
              "      <td>573</td>\n",
              "      <td>1998</td>\n",
              "      <td>Gd</td>\n",
              "      <td>Missing</td>\n",
              "    </tr>\n",
              "    <tr>\n",
              "      <th>1</th>\n",
              "      <td>69.6687</td>\n",
              "      <td>0</td>\n",
              "      <td>1996</td>\n",
              "      <td>Gd</td>\n",
              "      <td>Gd</td>\n",
              "    </tr>\n",
              "    <tr>\n",
              "      <th>2</th>\n",
              "      <td>50</td>\n",
              "      <td>0</td>\n",
              "      <td>1978.01</td>\n",
              "      <td>TA</td>\n",
              "      <td>Missing</td>\n",
              "    </tr>\n",
              "    <tr>\n",
              "      <th>3</th>\n",
              "      <td>60</td>\n",
              "      <td>0</td>\n",
              "      <td>1939</td>\n",
              "      <td>TA</td>\n",
              "      <td>Missing</td>\n",
              "    </tr>\n",
              "    <tr>\n",
              "      <th>4</th>\n",
              "      <td>60</td>\n",
              "      <td>0</td>\n",
              "      <td>1930</td>\n",
              "      <td>TA</td>\n",
              "      <td>Missing</td>\n",
              "    </tr>\n",
              "  </tbody>\n",
              "</table>\n",
              "</div>"
            ],
            "text/plain": [
              "  LotFrontage MasVnrArea GarageYrBlt BsmtQual FireplaceQu\n",
              "0     69.6687        573        1998       Gd     Missing\n",
              "1     69.6687          0        1996       Gd          Gd\n",
              "2          50          0     1978.01       TA     Missing\n",
              "3          60          0        1939       TA     Missing\n",
              "4          60          0        1930       TA     Missing"
            ]
          },
          "metadata": {
            "tags": []
          },
          "execution_count": 34
        }
      ]
    },
    {
      "cell_type": "code",
      "metadata": {
        "id": "MU-DYENMmY8A",
        "outputId": "c25369ce-ed50-4e97-f97f-d49bbcc7975d",
        "colab": {
          "base_uri": "https://localhost:8080/",
          "height": 119
        }
      },
      "source": [
        "# ahora convertimos el resultado en un dataframe\n",
        "# y exploramos los valores ausentes\n",
        "# (no debería haber ninguno)\n",
        "\n",
        "\n",
        "X_train = pd.DataFrame(X_train,\n",
        "             columns=features_numeric+features_categoric)\n",
        "\n",
        "X_train.isnull().mean()"
      ],
      "execution_count": 35,
      "outputs": [
        {
          "output_type": "execute_result",
          "data": {
            "text/plain": [
              "LotFrontage    0.0\n",
              "MasVnrArea     0.0\n",
              "GarageYrBlt    0.0\n",
              "BsmtQual       0.0\n",
              "FireplaceQu    0.0\n",
              "dtype: float64"
            ]
          },
          "metadata": {
            "tags": []
          },
          "execution_count": 35
        }
      ]
    },
    {
      "cell_type": "code",
      "metadata": {
        "id": "9Z8W3QOlLkxp"
      },
      "source": [
        ""
      ],
      "execution_count": null,
      "outputs": []
    }
  ]
}