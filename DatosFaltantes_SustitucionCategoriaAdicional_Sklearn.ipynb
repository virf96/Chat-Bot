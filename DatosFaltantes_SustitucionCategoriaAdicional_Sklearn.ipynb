{
  "nbformat": 4,
  "nbformat_minor": 0,
  "metadata": {
    "kernelspec": {
      "display_name": "feml",
      "language": "python",
      "name": "feml"
    },
    "language_info": {
      "codemirror_mode": {
        "name": "ipython",
        "version": 3
      },
      "file_extension": ".py",
      "mimetype": "text/x-python",
      "name": "python",
      "nbconvert_exporter": "python",
      "pygments_lexer": "ipython3",
      "version": "3.7.3"
    },
    "toc": {
      "nav_menu": {},
      "number_sections": true,
      "sideBar": true,
      "skip_h1_title": false,
      "toc_cell": false,
      "toc_position": {},
      "toc_section_display": true,
      "toc_window_display": true
    },
    "colab": {
      "name": "DatosFaltantes_SustitucionCategoriaAdicional_Sklearn.ipynb",
      "provenance": [],
      "include_colab_link": true
    }
  },
  "cells": [
    {
      "cell_type": "markdown",
      "metadata": {
        "id": "view-in-github",
        "colab_type": "text"
      },
      "source": [
        "<a href=\"https://colab.research.google.com/github/virf96/Chat-Bot/blob/master/DatosFaltantes_SustitucionCategoriaAdicional_Sklearn.ipynb\" target=\"_parent\"><img src=\"https://colab.research.google.com/assets/colab-badge.svg\" alt=\"Open In Colab\"/></a>"
      ]
    },
    {
      "cell_type": "markdown",
      "metadata": {
        "id": "AfSsRst0mY61"
      },
      "source": [
        "## Sustitución usando una etiqueta adicional 'Missing' con Scikit-learn ==> SimpleImputer \n",
        "\n",
        "En la librería Scikit-learn hay una clase para manejar una gran variedad de métodos de sustitución.\n",
        "\n",
        "El **SimpleImputer** es una clase que provee funcionalidad básica para la sustitución de valores ausentes, incluyendo:\n",
        "\n",
        "- Sustitución por la media y la mediana para variables numéricas\n",
        "- Sustitución por la categoría más frecuente para variables categóricas.\n",
        "- Sustitución por valores arbitrarios para variables numéricas y categóricas.\n",
        "\n",
        "### Ventajas\n",
        "\n",
        "- Fácil de usar si se aplica a todo el dataframe\n",
        "- Código mantenido por desarrolladores de Scikit-learn: buena calidad\n",
        "- Rápida computación (usa NumPy para los cálculos)\n",
        "- Permite usar grid-search (búsqueda en cuadrículas) para varios métodos de sustitución\n",
        "- Permite usar diferentes valores para codificar ausencia de datos (se puede indicar si por ejemplo los valores nulos son np.nan, ceros, cadenas de caracteres vacías, u otros)\n",
        "\n",
        "### Limitaciones\n",
        "\n",
        "- Retorna un arreglo de NumPy en lugar de un dataframe de pandas, lo cual es inconveniente para el análisis de datos\n",
        "- Necesita usar clases adicionales para seleccionar cuales variables se deben sustituir ==>\n",
        "    - requiere líneas de código adicional\n",
        "    - requiere ser usado con otras clases\n",
        "    - no es tan sencillo de usar\n",
        "    \n",
        "### Más detalles acerca de los transformadores (transformers en inglés)\n",
        "\n",
        "- [SimpleImputer](https://scikit-learn.org/stable/modules/generated/sklearn.impute.SimpleImputer.html#sklearn.impute.SimpleImputer)\n",
        "- [ColumnTransformer](https://scikit-learn.org/stable/modules/generated/sklearn.compose.ColumnTransformer.html)\n",
        "- [Stackoverflow](https://stackoverflow.com/questions/54160370/how-to-use-sklearn-column-transformer)\n",
        "\n",
        "\n",
        "## En este demo:\n",
        "\n",
        "Vamos a aprender **sustitución con una etiqueta adicional 'Missing' usando Scikit-learn** usando los datos Ames House Price.\n",
        "\n",
        "- Para bajar los datos, por favor referirse a la clase  **Datasets** en la  **Sección 1** del curso.\n",
        "\n",
        "### Nota: \n",
        "* 'Imputer' se deriva del verbo en inglés 'to impute' que quiere decir sustituir o reemplazar. Imputer es el objeto que completa la sustitución, de ahi el nombre dado a la clase.\n",
        "* 'slicing' significa seleccionar conjuntos de datos (columnas/filas) de un ‘DataFrame’.\n",
        "* 'Missing' -> ausente"
      ]
    },
    {
      "cell_type": "code",
      "metadata": {
        "id": "56G6N_hqmY64"
      },
      "source": [
        "import pandas as pd\n",
        "import numpy as np\n",
        "\n",
        "import matplotlib.pyplot as plt\n",
        "\n",
        "# estas son las clases para sustitutición con sklearn\n",
        "from sklearn.impute import SimpleImputer\n",
        "from sklearn.compose import ColumnTransformer\n",
        "from sklearn.pipeline import Pipeline\n",
        "\n",
        "# dividir dataset\n",
        "from sklearn.model_selection import train_test_split"
      ],
      "execution_count": null,
      "outputs": []
    },
    {
      "cell_type": "code",
      "metadata": {
        "id": "4ncOvLY2mY7A",
        "outputId": "9d6ca8dd-c356-4fdc-e842-05686445358e"
      },
      "source": [
        "# solo usaremos las siguientes variables categóricas en el demo:\n",
        "\n",
        "# estas son las variables categóricas y el target SalePrice\n",
        "cols_to_use = ['BsmtQual', 'FireplaceQu', 'SalePrice']\n",
        "\n",
        "# carguemos los datos \n",
        "data = pd.read_csv('../houseprice.csv', usecols=cols_to_use)\n",
        "data.head()"
      ],
      "execution_count": null,
      "outputs": [
        {
          "output_type": "execute_result",
          "data": {
            "text/html": [
              "<div>\n",
              "<style scoped>\n",
              "    .dataframe tbody tr th:only-of-type {\n",
              "        vertical-align: middle;\n",
              "    }\n",
              "\n",
              "    .dataframe tbody tr th {\n",
              "        vertical-align: top;\n",
              "    }\n",
              "\n",
              "    .dataframe thead th {\n",
              "        text-align: right;\n",
              "    }\n",
              "</style>\n",
              "<table border=\"1\" class=\"dataframe\">\n",
              "  <thead>\n",
              "    <tr style=\"text-align: right;\">\n",
              "      <th></th>\n",
              "      <th>BsmtQual</th>\n",
              "      <th>FireplaceQu</th>\n",
              "      <th>SalePrice</th>\n",
              "    </tr>\n",
              "  </thead>\n",
              "  <tbody>\n",
              "    <tr>\n",
              "      <td>0</td>\n",
              "      <td>Gd</td>\n",
              "      <td>NaN</td>\n",
              "      <td>208500</td>\n",
              "    </tr>\n",
              "    <tr>\n",
              "      <td>1</td>\n",
              "      <td>Gd</td>\n",
              "      <td>TA</td>\n",
              "      <td>181500</td>\n",
              "    </tr>\n",
              "    <tr>\n",
              "      <td>2</td>\n",
              "      <td>Gd</td>\n",
              "      <td>TA</td>\n",
              "      <td>223500</td>\n",
              "    </tr>\n",
              "    <tr>\n",
              "      <td>3</td>\n",
              "      <td>TA</td>\n",
              "      <td>Gd</td>\n",
              "      <td>140000</td>\n",
              "    </tr>\n",
              "    <tr>\n",
              "      <td>4</td>\n",
              "      <td>Gd</td>\n",
              "      <td>TA</td>\n",
              "      <td>250000</td>\n",
              "    </tr>\n",
              "  </tbody>\n",
              "</table>\n",
              "</div>"
            ],
            "text/plain": [
              "  BsmtQual FireplaceQu  SalePrice\n",
              "0       Gd         NaN     208500\n",
              "1       Gd          TA     181500\n",
              "2       Gd          TA     223500\n",
              "3       TA          Gd     140000\n",
              "4       Gd          TA     250000"
            ]
          },
          "metadata": {
            "tags": []
          },
          "execution_count": 2
        }
      ]
    },
    {
      "cell_type": "code",
      "metadata": {
        "id": "1S_vfnFBmY7J",
        "outputId": "a3e14fee-f406-4abf-c94b-413a249bd9a4"
      },
      "source": [
        "# revisemos los valores nulos\n",
        "data.isnull().mean()"
      ],
      "execution_count": null,
      "outputs": [
        {
          "output_type": "execute_result",
          "data": {
            "text/plain": [
              "BsmtQual       0.025342\n",
              "FireplaceQu    0.472603\n",
              "SalePrice      0.000000\n",
              "dtype: float64"
            ]
          },
          "metadata": {
            "tags": []
          },
          "execution_count": 3
        }
      ]
    },
    {
      "cell_type": "markdown",
      "metadata": {
        "id": "MQ89OdllmY7O"
      },
      "source": [
        "Las variables cateogóricas BsmtQual y FirePlaceQu tienen datos ausentes\n"
      ]
    },
    {
      "cell_type": "code",
      "metadata": {
        "id": "6Vv9hl4wmY7P",
        "outputId": "11912868-d167-4ed3-87ab-428dd125bc1b"
      },
      "source": [
        "# separar datos en segmentos entrenamiento y prueba\n",
        "\n",
        "# primero, separemos el target (SalePrice) del resto de las variables (features)\n",
        "cols_to_use.remove('SalePrice')\n",
        "\n",
        "X_train, X_test, y_train, y_test = train_test_split(data[cols_to_use], # solo las variables\n",
        "                                                    data['SalePrice'], # el target\n",
        "                                                    test_size=0.3, # el porcentaje de obs en el segmento de prueba\n",
        "                                                    random_state=0) # para reproducir\n",
        "X_train.shape, X_test.shape"
      ],
      "execution_count": null,
      "outputs": [
        {
          "output_type": "execute_result",
          "data": {
            "text/plain": [
              "((1022, 2), (438, 2))"
            ]
          },
          "metadata": {
            "tags": []
          },
          "execution_count": 4
        }
      ]
    },
    {
      "cell_type": "code",
      "metadata": {
        "id": "3ghrxbSgmY7T",
        "outputId": "d861e4f5-eed0-48b0-ddf0-16b80c45719e"
      },
      "source": [
        "# evaluemos el porcentaje de datos ausentes nuevamente\n",
        "X_train.isnull().mean()"
      ],
      "execution_count": null,
      "outputs": [
        {
          "output_type": "execute_result",
          "data": {
            "text/plain": [
              "BsmtQual       0.023483\n",
              "FireplaceQu    0.467710\n",
              "dtype: float64"
            ]
          },
          "metadata": {
            "tags": []
          },
          "execution_count": 5
        }
      ]
    },
    {
      "cell_type": "code",
      "metadata": {
        "id": "cZgaqZtlmY7W",
        "outputId": "9585a356-4f12-4b07-8da2-ff989cac201f"
      },
      "source": [
        "# exploremos los valores de la variable categórica\n",
        "X_train['BsmtQual'].unique()"
      ],
      "execution_count": null,
      "outputs": [
        {
          "output_type": "execute_result",
          "data": {
            "text/plain": [
              "array(['Gd', 'TA', 'Fa', nan, 'Ex'], dtype=object)"
            ]
          },
          "metadata": {
            "tags": []
          },
          "execution_count": 6
        }
      ]
    },
    {
      "cell_type": "code",
      "metadata": {
        "id": "Eh5fy5nhmY7Z",
        "outputId": "079fbe30-aced-4beb-e5fe-90ce64b37a0c"
      },
      "source": [
        "# exploremos los valores de la variable categórica\n",
        "X_train['FireplaceQu'].unique()"
      ],
      "execution_count": null,
      "outputs": [
        {
          "output_type": "execute_result",
          "data": {
            "text/plain": [
              "array([nan, 'Gd', 'TA', 'Fa', 'Po', 'Ex'], dtype=object)"
            ]
          },
          "metadata": {
            "tags": []
          },
          "execution_count": 7
        }
      ]
    },
    {
      "cell_type": "code",
      "metadata": {
        "id": "AY_RtCGHmY7d",
        "outputId": "a2f64f4c-87e8-4287-ae53-73de82097453"
      },
      "source": [
        "# Ahora sustituyamos los valores faltantes con  SimpleImputer\n",
        "\n",
        "# creemos una instancia de la clase SimpleImputer\n",
        "# indicaremos que queremos sustituir los valores nulos\n",
        "# con la categoría 'Missing'\n",
        "\n",
        "imputer = SimpleImputer(strategy='constant', \n",
        "                       fill_value = 'Missing')\n",
        "\n",
        "# ajustamos el imputer al segmento de entrenamiento\n",
        "# en este caso simplemente reemplaza los valores nulos con el valor 'Missing'\n",
        "\n",
        "imputer.fit(X_train)"
      ],
      "execution_count": null,
      "outputs": [
        {
          "output_type": "execute_result",
          "data": {
            "text/plain": [
              "SimpleImputer(add_indicator=False, copy=True, fill_value='Missing',\n",
              "              missing_values=nan, strategy='constant', verbose=0)"
            ]
          },
          "metadata": {
            "tags": []
          },
          "execution_count": 8
        }
      ]
    },
    {
      "cell_type": "code",
      "metadata": {
        "id": "yhWntHklmY7f",
        "outputId": "b7b147ad-e750-4f7f-f473-06c6a6cdaa91"
      },
      "source": [
        "# veamos los valores ajustados:\n",
        "imputer.statistics_"
      ],
      "execution_count": null,
      "outputs": [
        {
          "output_type": "execute_result",
          "data": {
            "text/plain": [
              "array(['Missing', 'Missing'], dtype=object)"
            ]
          },
          "metadata": {
            "tags": []
          },
          "execution_count": 9
        }
      ]
    },
    {
      "cell_type": "code",
      "metadata": {
        "id": "GbegfizvmY7h",
        "outputId": "3530b5b3-13ed-42a0-c95a-8d680de219d5"
      },
      "source": [
        "# ahora sustituyamos en los segmentos de entrenamiento y prueba\n",
        "\n",
        "# NOTA: los datos son devueltos como un numpy array!!\n",
        "X_train = imputer.transform(X_train)\n",
        "X_test = imputer.transform(X_test)\n",
        "\n",
        "X_train"
      ],
      "execution_count": null,
      "outputs": [
        {
          "output_type": "execute_result",
          "data": {
            "text/plain": [
              "array([['Gd', 'Missing'],\n",
              "       ['Gd', 'Gd'],\n",
              "       ['TA', 'Missing'],\n",
              "       ...,\n",
              "       ['Missing', 'Missing'],\n",
              "       ['Gd', 'TA'],\n",
              "       ['Gd', 'Missing']], dtype=object)"
            ]
          },
          "metadata": {
            "tags": []
          },
          "execution_count": 10
        }
      ]
    },
    {
      "cell_type": "code",
      "metadata": {
        "id": "RJN1eRuTmY7k",
        "outputId": "e3ce6a00-70b9-4575-e46b-e49a0c6e60a0"
      },
      "source": [
        "# transformemos el segmento de entrenamiento en un dataframe:\n",
        "\n",
        "X_train = pd.DataFrame(X_train, columns=cols_to_use)\n",
        "X_train.head()"
      ],
      "execution_count": null,
      "outputs": [
        {
          "output_type": "execute_result",
          "data": {
            "text/html": [
              "<div>\n",
              "<style scoped>\n",
              "    .dataframe tbody tr th:only-of-type {\n",
              "        vertical-align: middle;\n",
              "    }\n",
              "\n",
              "    .dataframe tbody tr th {\n",
              "        vertical-align: top;\n",
              "    }\n",
              "\n",
              "    .dataframe thead th {\n",
              "        text-align: right;\n",
              "    }\n",
              "</style>\n",
              "<table border=\"1\" class=\"dataframe\">\n",
              "  <thead>\n",
              "    <tr style=\"text-align: right;\">\n",
              "      <th></th>\n",
              "      <th>BsmtQual</th>\n",
              "      <th>FireplaceQu</th>\n",
              "    </tr>\n",
              "  </thead>\n",
              "  <tbody>\n",
              "    <tr>\n",
              "      <td>0</td>\n",
              "      <td>Gd</td>\n",
              "      <td>Missing</td>\n",
              "    </tr>\n",
              "    <tr>\n",
              "      <td>1</td>\n",
              "      <td>Gd</td>\n",
              "      <td>Gd</td>\n",
              "    </tr>\n",
              "    <tr>\n",
              "      <td>2</td>\n",
              "      <td>TA</td>\n",
              "      <td>Missing</td>\n",
              "    </tr>\n",
              "    <tr>\n",
              "      <td>3</td>\n",
              "      <td>TA</td>\n",
              "      <td>Missing</td>\n",
              "    </tr>\n",
              "    <tr>\n",
              "      <td>4</td>\n",
              "      <td>TA</td>\n",
              "      <td>Missing</td>\n",
              "    </tr>\n",
              "  </tbody>\n",
              "</table>\n",
              "</div>"
            ],
            "text/plain": [
              "  BsmtQual FireplaceQu\n",
              "0       Gd     Missing\n",
              "1       Gd          Gd\n",
              "2       TA     Missing\n",
              "3       TA     Missing\n",
              "4       TA     Missing"
            ]
          },
          "metadata": {
            "tags": []
          },
          "execution_count": 11
        }
      ]
    },
    {
      "cell_type": "code",
      "metadata": {
        "id": "CvqX3sTRmY7m",
        "outputId": "411aa8a7-214e-401c-a8a0-f36c6033ba1c"
      },
      "source": [
        "X_train['BsmtQual'].unique()"
      ],
      "execution_count": null,
      "outputs": [
        {
          "output_type": "execute_result",
          "data": {
            "text/plain": [
              "array(['Gd', 'TA', 'Fa', 'Missing', 'Ex'], dtype=object)"
            ]
          },
          "metadata": {
            "tags": []
          },
          "execution_count": 12
        }
      ]
    },
    {
      "cell_type": "code",
      "metadata": {
        "id": "sW1B2mAFmY7p",
        "outputId": "7c668eab-6e10-40b5-dd6e-4f2a62112d2e"
      },
      "source": [
        "X_train.isnull().mean()"
      ],
      "execution_count": null,
      "outputs": [
        {
          "output_type": "execute_result",
          "data": {
            "text/plain": [
              "BsmtQual       0.0\n",
              "FireplaceQu    0.0\n",
              "dtype: float64"
            ]
          },
          "metadata": {
            "tags": []
          },
          "execution_count": 13
        }
      ]
    },
    {
      "cell_type": "markdown",
      "metadata": {
        "id": "jvWkpI-omY7s"
      },
      "source": [
        "**ADVERTENCIA**:\n",
        "\n",
        "Cuando usamos SimpleImputer y fijamos los parámetros:\n",
        "- strategy='constant'\n",
        "- fill_value = 'Missing'\n",
        "\n",
        "Si el dataframe contiene variables que son numéricas y categóricas, los valores nulos NA en ambos serán reemplazados con 'Missing\" y por lo tanto una variable numérica se convierte en categórica, que probablemente no es el efecto deseado.\n",
        "\n",
        "La mayoría de datos contienen variables  numéricas y categóricas, por lo tanto lo más probable es que tendrás que usar un transformador para seleccionar las columnas como mostramos en los notebooks previos y en las siguientes celdas.\n"
      ]
    },
    {
      "cell_type": "code",
      "metadata": {
        "id": "Lvt0F70UmY7s",
        "outputId": "5953cabc-e47f-4736-cfcf-6b3bd6d5d0e4"
      },
      "source": [
        "# carguemos los datos con variables numéricas y categóricas\n",
        "\n",
        "cols_to_use = [\n",
        "    'BsmtQual', 'FireplaceQu', 'LotFrontage', 'MasVnrArea', 'GarageYrBlt',\n",
        "    'SalePrice'\n",
        "]\n",
        "\n",
        "data = pd.read_csv('../houseprice.csv', usecols=cols_to_use)\n",
        "data.head()"
      ],
      "execution_count": null,
      "outputs": [
        {
          "output_type": "execute_result",
          "data": {
            "text/html": [
              "<div>\n",
              "<style scoped>\n",
              "    .dataframe tbody tr th:only-of-type {\n",
              "        vertical-align: middle;\n",
              "    }\n",
              "\n",
              "    .dataframe tbody tr th {\n",
              "        vertical-align: top;\n",
              "    }\n",
              "\n",
              "    .dataframe thead th {\n",
              "        text-align: right;\n",
              "    }\n",
              "</style>\n",
              "<table border=\"1\" class=\"dataframe\">\n",
              "  <thead>\n",
              "    <tr style=\"text-align: right;\">\n",
              "      <th></th>\n",
              "      <th>LotFrontage</th>\n",
              "      <th>MasVnrArea</th>\n",
              "      <th>BsmtQual</th>\n",
              "      <th>FireplaceQu</th>\n",
              "      <th>GarageYrBlt</th>\n",
              "      <th>SalePrice</th>\n",
              "    </tr>\n",
              "  </thead>\n",
              "  <tbody>\n",
              "    <tr>\n",
              "      <td>0</td>\n",
              "      <td>65.0</td>\n",
              "      <td>196.0</td>\n",
              "      <td>Gd</td>\n",
              "      <td>NaN</td>\n",
              "      <td>2003.0</td>\n",
              "      <td>208500</td>\n",
              "    </tr>\n",
              "    <tr>\n",
              "      <td>1</td>\n",
              "      <td>80.0</td>\n",
              "      <td>0.0</td>\n",
              "      <td>Gd</td>\n",
              "      <td>TA</td>\n",
              "      <td>1976.0</td>\n",
              "      <td>181500</td>\n",
              "    </tr>\n",
              "    <tr>\n",
              "      <td>2</td>\n",
              "      <td>68.0</td>\n",
              "      <td>162.0</td>\n",
              "      <td>Gd</td>\n",
              "      <td>TA</td>\n",
              "      <td>2001.0</td>\n",
              "      <td>223500</td>\n",
              "    </tr>\n",
              "    <tr>\n",
              "      <td>3</td>\n",
              "      <td>60.0</td>\n",
              "      <td>0.0</td>\n",
              "      <td>TA</td>\n",
              "      <td>Gd</td>\n",
              "      <td>1998.0</td>\n",
              "      <td>140000</td>\n",
              "    </tr>\n",
              "    <tr>\n",
              "      <td>4</td>\n",
              "      <td>84.0</td>\n",
              "      <td>350.0</td>\n",
              "      <td>Gd</td>\n",
              "      <td>TA</td>\n",
              "      <td>2000.0</td>\n",
              "      <td>250000</td>\n",
              "    </tr>\n",
              "  </tbody>\n",
              "</table>\n",
              "</div>"
            ],
            "text/plain": [
              "   LotFrontage  MasVnrArea BsmtQual FireplaceQu  GarageYrBlt  SalePrice\n",
              "0         65.0       196.0       Gd         NaN       2003.0     208500\n",
              "1         80.0         0.0       Gd          TA       1976.0     181500\n",
              "2         68.0       162.0       Gd          TA       2001.0     223500\n",
              "3         60.0         0.0       TA          Gd       1998.0     140000\n",
              "4         84.0       350.0       Gd          TA       2000.0     250000"
            ]
          },
          "metadata": {
            "tags": []
          },
          "execution_count": 14
        }
      ]
    },
    {
      "cell_type": "code",
      "metadata": {
        "id": "hSEdG6A0mY7u",
        "outputId": "51e7d19b-1d51-409f-9e88-27dc3be3c155"
      },
      "source": [
        "# separar datos en segmentos entrenamiento y prueba\n",
        "\n",
        "# primero descartemos el target de la lista de variables\n",
        "cols_to_use.remove('SalePrice')\n",
        "\n",
        "X_train, X_test, y_train, y_test = train_test_split(data[cols_to_use],\n",
        "                                                    data['SalePrice'],\n",
        "                                                    test_size=0.3,\n",
        "                                                    random_state=0)\n",
        "X_train.shape, X_test.shape"
      ],
      "execution_count": null,
      "outputs": [
        {
          "output_type": "execute_result",
          "data": {
            "text/plain": [
              "((1022, 5), (438, 5))"
            ]
          },
          "metadata": {
            "tags": []
          },
          "execution_count": 15
        }
      ]
    },
    {
      "cell_type": "code",
      "metadata": {
        "id": "qBhkxsBQmY7w",
        "outputId": "1a93329b-1265-4da9-b550-f625abbeb0c0"
      },
      "source": [
        "# revisemos los valores nulos\n",
        "X_train.isnull().mean()"
      ],
      "execution_count": null,
      "outputs": [
        {
          "output_type": "execute_result",
          "data": {
            "text/plain": [
              "BsmtQual       0.023483\n",
              "FireplaceQu    0.467710\n",
              "LotFrontage    0.184932\n",
              "MasVnrArea     0.004892\n",
              "GarageYrBlt    0.052838\n",
              "dtype: float64"
            ]
          },
          "metadata": {
            "tags": []
          },
          "execution_count": 16
        }
      ]
    },
    {
      "cell_type": "markdown",
      "metadata": {
        "id": "5regkimOmY7y"
      },
      "source": [
        "En este demo, vamos a sustituir los valores nulos de las variables numéricas por la media y las variables categóricas por la nueva etiqueta 'Missing'."
      ]
    },
    {
      "cell_type": "code",
      "metadata": {
        "id": "YqLghSu4mY7y"
      },
      "source": [
        "# primero vamos a crear una lista, indicando cuales son las \n",
        "# variables a sustituir con cada método\n",
        "\n",
        "features_numeric = ['LotFrontage', 'MasVnrArea', 'GarageYrBlt']\n",
        "features_categoric = ['BsmtQual', 'FireplaceQu']\n",
        "\n",
        "# luego vamos a instanciar imputers dentro de un pipeline\n",
        "# creamos un imputer por cada variable\n",
        "# indicando uno para la media y el otro para las variables categóricas\n",
        "\n",
        "imputer_numeric = Pipeline(steps=[\n",
        "    ('imputer', SimpleImputer(strategy='mean')),\n",
        "])\n",
        "\n",
        "imputer_categoric = Pipeline(\n",
        "    steps=[('imputer',\n",
        "            SimpleImputer(strategy='constant', fill_value='Missing'))])\n",
        "\n",
        "# luego ponemos las variables en lista y los transformadores juntos\n",
        "# usando la columna transformer\n",
        "\n",
        "preprocessor = ColumnTransformer(transformers=[('imputer_numeric',\n",
        "                                                imputer_numeric,\n",
        "                                                features_numeric),\n",
        "                                               ('imputer_categoric',\n",
        "                                                imputer_categoric,\n",
        "                                                features_categoric)])"
      ],
      "execution_count": null,
      "outputs": []
    },
    {
      "cell_type": "code",
      "metadata": {
        "id": "4eRffngWmY70",
        "outputId": "73388ff1-0d68-44d4-c7e6-777c9eac1586"
      },
      "source": [
        "# ajustemos el preprocessor\n",
        "preprocessor.fit(X_train)"
      ],
      "execution_count": null,
      "outputs": [
        {
          "output_type": "execute_result",
          "data": {
            "text/plain": [
              "ColumnTransformer(n_jobs=None, remainder='drop', sparse_threshold=0.3,\n",
              "                  transformer_weights=None,\n",
              "                  transformers=[('imputer_numeric',\n",
              "                                 Pipeline(memory=None,\n",
              "                                          steps=[('imputer',\n",
              "                                                  SimpleImputer(add_indicator=False,\n",
              "                                                                copy=True,\n",
              "                                                                fill_value=None,\n",
              "                                                                missing_values=nan,\n",
              "                                                                strategy='mean',\n",
              "                                                                verbose=0))],\n",
              "                                          verbose=False),\n",
              "                                 ['LotFrontage', 'MasVnrArea', 'GarageYrBlt']),\n",
              "                                ('imputer_categoric',\n",
              "                                 Pipeline(memory=None,\n",
              "                                          steps=[('imputer',\n",
              "                                                  SimpleImputer(add_indicator=False,\n",
              "                                                                copy=True,\n",
              "                                                                fill_value='Missing',\n",
              "                                                                missing_values=nan,\n",
              "                                                                strategy='constant',\n",
              "                                                                verbose=0))],\n",
              "                                          verbose=False),\n",
              "                                 ['BsmtQual', 'FireplaceQu'])],\n",
              "                  verbose=False)"
            ]
          },
          "metadata": {
            "tags": []
          },
          "execution_count": 18
        }
      ]
    },
    {
      "cell_type": "code",
      "metadata": {
        "id": "ZQ6A5jQymY72",
        "outputId": "9d609a43-ae86-44a7-ecca-84b235a94ee7"
      },
      "source": [
        "# podemos explorar el transformador:\n",
        "preprocessor.transformers"
      ],
      "execution_count": null,
      "outputs": [
        {
          "output_type": "execute_result",
          "data": {
            "text/plain": [
              "[('imputer_numeric', Pipeline(memory=None,\n",
              "           steps=[('imputer',\n",
              "                   SimpleImputer(add_indicator=False, copy=True, fill_value=None,\n",
              "                                 missing_values=nan, strategy='mean',\n",
              "                                 verbose=0))],\n",
              "           verbose=False), ['LotFrontage', 'MasVnrArea', 'GarageYrBlt']),\n",
              " ('imputer_categoric', Pipeline(memory=None,\n",
              "           steps=[('imputer',\n",
              "                   SimpleImputer(add_indicator=False, copy=True,\n",
              "                                 fill_value='Missing', missing_values=nan,\n",
              "                                 strategy='constant', verbose=0))],\n",
              "           verbose=False), ['BsmtQual', 'FireplaceQu'])]"
            ]
          },
          "metadata": {
            "tags": []
          },
          "execution_count": 19
        }
      ]
    },
    {
      "cell_type": "code",
      "metadata": {
        "id": "rmJrpEOGmY74",
        "outputId": "5014e4ed-c770-40eb-f019-a720470df2be"
      },
      "source": [
        "# podemos ver los parámetros ajustados:\n",
        "\n",
        "# para el imputer de las variables numéricas\n",
        "preprocessor.named_transformers_['imputer_numeric'].named_steps['imputer'].statistics_"
      ],
      "execution_count": null,
      "outputs": [
        {
          "output_type": "execute_result",
          "data": {
            "text/plain": [
              "array([  69.66866747,  103.55358899, 1978.01239669])"
            ]
          },
          "metadata": {
            "tags": []
          },
          "execution_count": 20
        }
      ]
    },
    {
      "cell_type": "code",
      "metadata": {
        "id": "-KeaSejpmY76",
        "outputId": "e60fbffd-65f8-49d9-edaa-0ada07ffeea6"
      },
      "source": [
        "# para el imputer de las variables categóricas\n",
        "preprocessor.named_transformers_['imputer_categoric'].named_steps['imputer'].statistics_"
      ],
      "execution_count": null,
      "outputs": [
        {
          "output_type": "execute_result",
          "data": {
            "text/plain": [
              "array(['Missing', 'Missing'], dtype=object)"
            ]
          },
          "metadata": {
            "tags": []
          },
          "execution_count": 21
        }
      ]
    },
    {
      "cell_type": "code",
      "metadata": {
        "id": "VIl-LdMtmY78"
      },
      "source": [
        "# y ahora podemos sustituir los segmentos de entrenamiento y prueba\n",
        "# recuerda los datos retornados son numpy arrays\n",
        "\n",
        "X_train = preprocessor.transform(X_train)\n",
        "X_test = preprocessor.transform(X_test)"
      ],
      "execution_count": null,
      "outputs": []
    },
    {
      "cell_type": "code",
      "metadata": {
        "id": "e5sZh_USmY7-",
        "outputId": "537abed2-7c59-48af-c637-39eac018f29c"
      },
      "source": [
        "# ahora convirtamos el resultado en un dataframe\n",
        "pd.DataFrame(X_train,\n",
        "             columns=features_numeric+features_categoric).head()"
      ],
      "execution_count": null,
      "outputs": [
        {
          "output_type": "execute_result",
          "data": {
            "text/html": [
              "<div>\n",
              "<style scoped>\n",
              "    .dataframe tbody tr th:only-of-type {\n",
              "        vertical-align: middle;\n",
              "    }\n",
              "\n",
              "    .dataframe tbody tr th {\n",
              "        vertical-align: top;\n",
              "    }\n",
              "\n",
              "    .dataframe thead th {\n",
              "        text-align: right;\n",
              "    }\n",
              "</style>\n",
              "<table border=\"1\" class=\"dataframe\">\n",
              "  <thead>\n",
              "    <tr style=\"text-align: right;\">\n",
              "      <th></th>\n",
              "      <th>LotFrontage</th>\n",
              "      <th>MasVnrArea</th>\n",
              "      <th>GarageYrBlt</th>\n",
              "      <th>BsmtQual</th>\n",
              "      <th>FireplaceQu</th>\n",
              "    </tr>\n",
              "  </thead>\n",
              "  <tbody>\n",
              "    <tr>\n",
              "      <td>0</td>\n",
              "      <td>69.6687</td>\n",
              "      <td>573</td>\n",
              "      <td>1998</td>\n",
              "      <td>Gd</td>\n",
              "      <td>Missing</td>\n",
              "    </tr>\n",
              "    <tr>\n",
              "      <td>1</td>\n",
              "      <td>69.6687</td>\n",
              "      <td>0</td>\n",
              "      <td>1996</td>\n",
              "      <td>Gd</td>\n",
              "      <td>Gd</td>\n",
              "    </tr>\n",
              "    <tr>\n",
              "      <td>2</td>\n",
              "      <td>50</td>\n",
              "      <td>0</td>\n",
              "      <td>1978.01</td>\n",
              "      <td>TA</td>\n",
              "      <td>Missing</td>\n",
              "    </tr>\n",
              "    <tr>\n",
              "      <td>3</td>\n",
              "      <td>60</td>\n",
              "      <td>0</td>\n",
              "      <td>1939</td>\n",
              "      <td>TA</td>\n",
              "      <td>Missing</td>\n",
              "    </tr>\n",
              "    <tr>\n",
              "      <td>4</td>\n",
              "      <td>60</td>\n",
              "      <td>0</td>\n",
              "      <td>1930</td>\n",
              "      <td>TA</td>\n",
              "      <td>Missing</td>\n",
              "    </tr>\n",
              "  </tbody>\n",
              "</table>\n",
              "</div>"
            ],
            "text/plain": [
              "  LotFrontage MasVnrArea GarageYrBlt BsmtQual FireplaceQu\n",
              "0     69.6687        573        1998       Gd     Missing\n",
              "1     69.6687          0        1996       Gd          Gd\n",
              "2          50          0     1978.01       TA     Missing\n",
              "3          60          0        1939       TA     Missing\n",
              "4          60          0        1930       TA     Missing"
            ]
          },
          "metadata": {
            "tags": []
          },
          "execution_count": 23
        }
      ]
    },
    {
      "cell_type": "code",
      "metadata": {
        "id": "MU-DYENMmY8A",
        "outputId": "3d3181c2-18e0-407d-f32a-889074ab0fcc"
      },
      "source": [
        "# ahora convertimos el resultado en un dataframe\n",
        "# y exploramos los valores ausentes\n",
        "# (no debería haber ninguno)\n",
        "\n",
        "\n",
        "X_train = pd.DataFrame(X_train,\n",
        "             columns=features_numeric+features_categoric)\n",
        "\n",
        "X_train.isnull().mean()"
      ],
      "execution_count": null,
      "outputs": [
        {
          "output_type": "execute_result",
          "data": {
            "text/plain": [
              "LotFrontage    0.0\n",
              "MasVnrArea     0.0\n",
              "GarageYrBlt    0.0\n",
              "BsmtQual       0.0\n",
              "FireplaceQu    0.0\n",
              "dtype: float64"
            ]
          },
          "metadata": {
            "tags": []
          },
          "execution_count": 24
        }
      ]
    }
  ]
}