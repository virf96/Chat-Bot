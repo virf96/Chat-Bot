{
  "nbformat": 4,
  "nbformat_minor": 0,
  "metadata": {
    "kernelspec": {
      "display_name": "feml",
      "language": "python",
      "name": "feml"
    },
    "language_info": {
      "codemirror_mode": {
        "name": "ipython",
        "version": 3
      },
      "file_extension": ".py",
      "mimetype": "text/x-python",
      "name": "python",
      "nbconvert_exporter": "python",
      "pygments_lexer": "ipython3",
      "version": "3.8.2"
    },
    "toc": {
      "base_numbering": 1,
      "nav_menu": {},
      "number_sections": true,
      "sideBar": true,
      "skip_h1_title": false,
      "title_cell": "Table of Contents",
      "title_sidebar": "Contents",
      "toc_cell": false,
      "toc_position": {},
      "toc_section_display": "block",
      "toc_window_display": true
    },
    "colab": {
      "name": "CodificacionVariables_Monotonico-por-media-del-target.ipynb",
      "provenance": [],
      "include_colab_link": true
    }
  },
  "cells": [
    {
      "cell_type": "markdown",
      "metadata": {
        "id": "view-in-github",
        "colab_type": "text"
      },
      "source": [
        "<a href=\"https://colab.research.google.com/github/virf96/Chat-Bot/blob/master/CodificacionVariables_Monotonico_por_media_del_target.ipynb\" target=\"_parent\"><img src=\"https://colab.research.google.com/assets/colab-badge.svg\" alt=\"Open In Colab\"/></a>"
      ]
    },
    {
      "cell_type": "markdown",
      "metadata": {
        "id": "6z_pWHGAOdbz"
      },
      "source": [
        "## Codificación guiada por la variable objetivo o target\n",
        "\n",
        "En las lecciones anteriores de esta sección, vimos como convertir una etiqueta en un número usando codificación one-hot, reemplazando por un dígito o reemplazando por la frecuencia o número de observaciones. Estos métodos son sencillos, y no (o casi nunca) hacen supuestos sobre los datos y funcionan generalmente bien en una variedad de escenarios.\n",
        "\n",
        "Hay métodos que por el contrario si permiten capturar  información y a la vez pre-procesar las etiquetas de una variable categórica. Estos métodos incluyen:\n",
        "\n",
        "- Ordenar las etiquetas de acuerdo al target\n",
        "- Reemplazar las etiquetas por el promedio del target (codificación por la media / por el target) \n",
        "- Reemplazar las etiquetas por el radio de probabilidad del target - ya sea 1 o 0\n",
        "- Pesos de evidencia (Weight of evidence)\n",
        "\n",
        "Todos estos métodos tienen algo en común:\n",
        "- la codificación es **guiada por el target**, y\n",
        "- crean una **relación monotónica** entre la variable y el target\n",
        "\n",
        "\n",
        "### Monotonicidad\n",
        "\n",
        "Una relación monotónica es una relación que tiene lo siguiente:\n",
        "\n",
        "- (1) cuando el valor de una variable incrementa, asi mismo sucede con la otra variable; o\n",
        "- (2) cuando el valor de una variable incrementa, el valor de la otra variable decrece.\n",
        "\n",
        "En este caso, si el valor de la variable independiente (predictor) incrementa, lo mismo sucede con el target (variable objetivo), o por el contrario, si la variable incrementa, el valor del target decrece.\n",
        "\n",
        "\n",
        "### Ventajas \n",
        "\n",
        "- Captura la información dentro de la categoría, por lo tanto incrementa el poder predictivo de las variables.\n",
        "- Crea una relación monotónica entre la variable y el target, por lo tanto es adecuada para modelos lineales.\n",
        "- No expande el espacio de las variables\n",
        "\n",
        "\n",
        "### Limitaciones\n",
        "\n",
        "- Tiende a causar sobreajustes\n",
        "- Es difícil de validar usando las librerías existentes\n",
        "\n",
        "### Nota\n",
        "\n",
        "Los métodos discutidos en esta y las próximas 3 lecciones pueden ser usados con variables numéricas, luego de discretizarlas. Esto crea una relación monotónica entre la variable numérica y el target y por lo tanto mejora el desempeño de los modelos lineales. Discutiremos esto en más detalle en la sección \"Discretización\"\n",
        "\n",
        "\n",
        "===============================================================================\n",
        "\n",
        "\n",
        "## Codificación por la media del target o variable objetivo\n",
        "\n",
        "La codificación por la media del target o variable objetivo implica reemplazar cada categoría por el promedio o media del valor del target para dicha categoría. Por ejemplo, si tenemos la variable ciudad, con las categorías de Londres, Manchester y Bristol, y tenemos la tasa promedio de incumplimiento de pago de préstamos para cada ciudad. Si Londres tiene una tasa de 30%,  reemplazamos Londres con 0.3, si la tasa es 20% para Manchester, reemplazamos esta categoría con 0.20 y asi sucesivamente.\n",
        "\n",
        "Vamos a realizar codificación por la media usando:\n",
        "- pandas\n",
        "- Feature-Engine\n",
        "\n",
        "y veremos las ventajas y limitaciones de cada una de estas implementaciones usando los datos del Titanic.\n",
        "\n",
        "\n"
      ]
    },
    {
      "cell_type": "code",
      "metadata": {
        "colab": {
          "base_uri": "https://localhost:8080/"
        },
        "id": "B8B1BF4lSMRU",
        "outputId": "58756615-bc77-4626-95a4-8b92a7ba5e50"
      },
      "source": [
        "pip install feature_engine"
      ],
      "execution_count": 2,
      "outputs": [
        {
          "output_type": "stream",
          "text": [
            "Collecting feature_engine\n",
            "  Downloading https://files.pythonhosted.org/packages/14/ed/5680bf401855b788f79cadc1298c210c5860eb5d54c4008cfa234b752ef1/feature_engine-0.6.1-py2.py3-none-any.whl\n",
            "Requirement already satisfied: numpy>=1.18.2 in /usr/local/lib/python3.6/dist-packages (from feature_engine) (1.18.5)\n",
            "Collecting statsmodels>=0.11.1\n",
            "\u001b[?25l  Downloading https://files.pythonhosted.org/packages/be/4c/9e2435ca6645d6bafa2b51bb11f0a365b28934a2ffe9d6e339d67130926d/statsmodels-0.12.1-cp36-cp36m-manylinux1_x86_64.whl (9.5MB)\n",
            "\u001b[K     |████████████████████████████████| 9.5MB 10.5MB/s \n",
            "\u001b[?25hRequirement already satisfied: pandas>=1.0.3 in /usr/local/lib/python3.6/dist-packages (from feature_engine) (1.1.5)\n",
            "Requirement already satisfied: scipy>=1.4.1 in /usr/local/lib/python3.6/dist-packages (from feature_engine) (1.4.1)\n",
            "Requirement already satisfied: scikit-learn>=0.22.2 in /usr/local/lib/python3.6/dist-packages (from feature_engine) (0.22.2.post1)\n",
            "Requirement already satisfied: patsy>=0.5 in /usr/local/lib/python3.6/dist-packages (from statsmodels>=0.11.1->feature_engine) (0.5.1)\n",
            "Requirement already satisfied: python-dateutil>=2.7.3 in /usr/local/lib/python3.6/dist-packages (from pandas>=1.0.3->feature_engine) (2.8.1)\n",
            "Requirement already satisfied: pytz>=2017.2 in /usr/local/lib/python3.6/dist-packages (from pandas>=1.0.3->feature_engine) (2018.9)\n",
            "Requirement already satisfied: joblib>=0.11 in /usr/local/lib/python3.6/dist-packages (from scikit-learn>=0.22.2->feature_engine) (0.17.0)\n",
            "Requirement already satisfied: six in /usr/local/lib/python3.6/dist-packages (from patsy>=0.5->statsmodels>=0.11.1->feature_engine) (1.15.0)\n",
            "Installing collected packages: statsmodels, feature-engine\n",
            "  Found existing installation: statsmodels 0.10.2\n",
            "    Uninstalling statsmodels-0.10.2:\n",
            "      Successfully uninstalled statsmodels-0.10.2\n",
            "Successfully installed feature-engine-0.6.1 statsmodels-0.12.1\n"
          ],
          "name": "stdout"
        }
      ]
    },
    {
      "cell_type": "code",
      "metadata": {
        "id": "hWNfDOb1Odb4"
      },
      "source": [
        "import numpy as np\n",
        "import pandas as pd\n",
        "\n",
        "import matplotlib.pyplot as plt\n",
        "\n",
        "# separar los datos\n",
        "from sklearn.model_selection import train_test_split\n",
        "\n",
        "# codificación con feature-engine\n",
        "from feature_engine.categorical_encoders import MeanCategoricalEncoder"
      ],
      "execution_count": 9,
      "outputs": []
    },
    {
      "cell_type": "code",
      "metadata": {
        "colab": {
          "base_uri": "https://localhost:8080/"
        },
        "id": "DxLn6a0VO611",
        "outputId": "df2dc937-ca94-4bd2-e9cb-9d4ebf269b27"
      },
      "source": [
        "from google.colab import drive\n",
        "drive.mount('/content/drive')"
      ],
      "execution_count": 1,
      "outputs": [
        {
          "output_type": "stream",
          "text": [
            "Mounted at /content/drive\n"
          ],
          "name": "stdout"
        }
      ]
    },
    {
      "cell_type": "code",
      "metadata": {
        "id": "cYQTvbedOdb6",
        "colab": {
          "base_uri": "https://localhost:8080/",
          "height": 191
        },
        "outputId": "b1b32e29-afd7-4d0a-b180-559e048002bb"
      },
      "source": [
        "# cargar datos\n",
        "data = pd.read_csv(\n",
        "    '/content/drive/MyDrive/datasets/titanic.csv',\n",
        "    usecols=['cabin', 'sex', 'embarked', 'survived'])\n",
        "\n",
        "data.head()"
      ],
      "execution_count": 10,
      "outputs": [
        {
          "output_type": "execute_result",
          "data": {
            "text/html": [
              "<div>\n",
              "<style scoped>\n",
              "    .dataframe tbody tr th:only-of-type {\n",
              "        vertical-align: middle;\n",
              "    }\n",
              "\n",
              "    .dataframe tbody tr th {\n",
              "        vertical-align: top;\n",
              "    }\n",
              "\n",
              "    .dataframe thead th {\n",
              "        text-align: right;\n",
              "    }\n",
              "</style>\n",
              "<table border=\"1\" class=\"dataframe\">\n",
              "  <thead>\n",
              "    <tr style=\"text-align: right;\">\n",
              "      <th></th>\n",
              "      <th>survived</th>\n",
              "      <th>sex</th>\n",
              "      <th>cabin</th>\n",
              "      <th>embarked</th>\n",
              "    </tr>\n",
              "  </thead>\n",
              "  <tbody>\n",
              "    <tr>\n",
              "      <th>0</th>\n",
              "      <td>1</td>\n",
              "      <td>female</td>\n",
              "      <td>B5</td>\n",
              "      <td>S</td>\n",
              "    </tr>\n",
              "    <tr>\n",
              "      <th>1</th>\n",
              "      <td>1</td>\n",
              "      <td>male</td>\n",
              "      <td>C22</td>\n",
              "      <td>S</td>\n",
              "    </tr>\n",
              "    <tr>\n",
              "      <th>2</th>\n",
              "      <td>0</td>\n",
              "      <td>female</td>\n",
              "      <td>C22</td>\n",
              "      <td>S</td>\n",
              "    </tr>\n",
              "    <tr>\n",
              "      <th>3</th>\n",
              "      <td>0</td>\n",
              "      <td>male</td>\n",
              "      <td>C22</td>\n",
              "      <td>S</td>\n",
              "    </tr>\n",
              "    <tr>\n",
              "      <th>4</th>\n",
              "      <td>0</td>\n",
              "      <td>female</td>\n",
              "      <td>C22</td>\n",
              "      <td>S</td>\n",
              "    </tr>\n",
              "  </tbody>\n",
              "</table>\n",
              "</div>"
            ],
            "text/plain": [
              "   survived     sex cabin embarked\n",
              "0         1  female    B5        S\n",
              "1         1    male   C22        S\n",
              "2         0  female   C22        S\n",
              "3         0    male   C22        S\n",
              "4         0  female   C22        S"
            ]
          },
          "metadata": {
            "tags": []
          },
          "execution_count": 10
        }
      ]
    },
    {
      "cell_type": "code",
      "metadata": {
        "colab": {
          "base_uri": "https://localhost:8080/"
        },
        "id": "LK8lEgr_Sd0k",
        "outputId": "da3e194f-899c-4410-a012-c5df199d5827"
      },
      "source": [
        "data.isna().mean()"
      ],
      "execution_count": 11,
      "outputs": [
        {
          "output_type": "execute_result",
          "data": {
            "text/plain": [
              "survived    0.000000\n",
              "sex         0.000000\n",
              "cabin       0.774637\n",
              "embarked    0.001528\n",
              "dtype: float64"
            ]
          },
          "metadata": {
            "tags": []
          },
          "execution_count": 11
        }
      ]
    },
    {
      "cell_type": "code",
      "metadata": {
        "id": "tmfjzOPyOdb8"
      },
      "source": [
        "# llenar valores ausentes na en la variable embarked\n",
        "#En todos lo pre procesamientos guiados por el target los valores ausentes es mejor tratarlos como Missings\n",
        "data['embarked'].fillna('Missing', inplace=True)"
      ],
      "execution_count": 12,
      "outputs": []
    },
    {
      "cell_type": "code",
      "metadata": {
        "colab": {
          "base_uri": "https://localhost:8080/"
        },
        "id": "_y-Pwnc_Slmf",
        "outputId": "98c4a617-a451-4600-ee3e-fffa014c5123"
      },
      "source": [
        "data.isna().mean()"
      ],
      "execution_count": 13,
      "outputs": [
        {
          "output_type": "execute_result",
          "data": {
            "text/plain": [
              "survived    0.000000\n",
              "sex         0.000000\n",
              "cabin       0.774637\n",
              "embarked    0.000000\n",
              "dtype: float64"
            ]
          },
          "metadata": {
            "tags": []
          },
          "execution_count": 13
        }
      ]
    },
    {
      "cell_type": "code",
      "metadata": {
        "id": "EpQZ7ksIOdb9"
      },
      "source": [
        "# Ahora reemplazamos los valores de la variable cabin \n",
        "# con la primera letra de cada etiqueta en cabin\n",
        "# simplificando de esta forma los valores en la variable \n",
        "# y facilitar el demo \n",
        "\n",
        "data['cabin'] = data['cabin'].astype(str).str[0]"
      ],
      "execution_count": 14,
      "outputs": []
    },
    {
      "cell_type": "code",
      "metadata": {
        "id": "9jeyU64pOdb-",
        "colab": {
          "base_uri": "https://localhost:8080/"
        },
        "outputId": "839fb4e9-6860-4d5a-8027-6f89e8f0b791"
      },
      "source": [
        "# miremos cuantas categorías tiene cada variable\n",
        "\n",
        "for col in data.columns:\n",
        "    print(col, ': ', len(data[col].unique()), ' etiquetas')"
      ],
      "execution_count": 15,
      "outputs": [
        {
          "output_type": "stream",
          "text": [
            "survived :  2  etiquetas\n",
            "sex :  2  etiquetas\n",
            "cabin :  9  etiquetas\n",
            "embarked :  4  etiquetas\n"
          ],
          "name": "stdout"
        }
      ]
    },
    {
      "cell_type": "code",
      "metadata": {
        "id": "0tk7gz8xOdb_",
        "colab": {
          "base_uri": "https://localhost:8080/"
        },
        "outputId": "b1a33287-df38-49ec-9935-2c635ac1d6f9"
      },
      "source": [
        "# exploremos las categorías en cada variable\n",
        "\n",
        "data['cabin'].unique()"
      ],
      "execution_count": 16,
      "outputs": [
        {
          "output_type": "execute_result",
          "data": {
            "text/plain": [
              "array(['B', 'C', 'E', 'D', 'A', 'n', 'T', 'F', 'G'], dtype=object)"
            ]
          },
          "metadata": {
            "tags": []
          },
          "execution_count": 16
        }
      ]
    },
    {
      "cell_type": "code",
      "metadata": {
        "id": "-rVjGQylOdcA",
        "colab": {
          "base_uri": "https://localhost:8080/"
        },
        "outputId": "2f51f078-3df0-451a-f440-81aa8b957f78"
      },
      "source": [
        "data['sex'].unique()"
      ],
      "execution_count": 17,
      "outputs": [
        {
          "output_type": "execute_result",
          "data": {
            "text/plain": [
              "array(['female', 'male'], dtype=object)"
            ]
          },
          "metadata": {
            "tags": []
          },
          "execution_count": 17
        }
      ]
    },
    {
      "cell_type": "code",
      "metadata": {
        "id": "OMZW44_xOdcB",
        "colab": {
          "base_uri": "https://localhost:8080/"
        },
        "outputId": "ed703408-a639-485e-d7a0-017e5fa639b8"
      },
      "source": [
        "data['embarked'].unique()"
      ],
      "execution_count": 18,
      "outputs": [
        {
          "output_type": "execute_result",
          "data": {
            "text/plain": [
              "array(['S', 'C', 'Missing', 'Q'], dtype=object)"
            ]
          },
          "metadata": {
            "tags": []
          },
          "execution_count": 18
        }
      ]
    },
    {
      "cell_type": "markdown",
      "metadata": {
        "id": "utHp05X1OdcC"
      },
      "source": [
        "### Importante sobre codificación\n",
        "\n",
        "Calculamos la media del target por cada categoría usando el set de entrenamiento; y luego usamos este mapeo para codificar las variables en el set de prueba\n",
        "\n",
        "**Para usar esta técnica con pandas, necesitmaos mantener el target en el set de entrenamiento**"
      ]
    },
    {
      "cell_type": "code",
      "metadata": {
        "id": "fT--XefFOdcC",
        "colab": {
          "base_uri": "https://localhost:8080/"
        },
        "outputId": "72ee2f53-7478-424e-f14f-7b35017e53c4"
      },
      "source": [
        "# separemos en set de prueba y entrenamiento\n",
        "X_train, X_test, y_train, y_test = train_test_split(\n",
        "    data[['cabin', 'sex', 'embarked', 'survived']], # esta vez mantenemos el target en la variable\n",
        "    data['survived'],  # target\n",
        "    test_size=0.3,  # porcentaje de observaciones en el set de prueba\n",
        "    random_state=0)  # semilla asegurar reproducibilidad\n",
        "\n",
        "X_train.shape, X_test.shape"
      ],
      "execution_count": 19,
      "outputs": [
        {
          "output_type": "execute_result",
          "data": {
            "text/plain": [
              "((916, 4), (393, 4))"
            ]
          },
          "metadata": {
            "tags": []
          },
          "execution_count": 19
        }
      ]
    },
    {
      "cell_type": "markdown",
      "metadata": {
        "id": "TwK_nMzGOdcE"
      },
      "source": [
        "### Exploremos la relación original entre las variables categóricas y el target"
      ]
    },
    {
      "cell_type": "code",
      "metadata": {
        "id": "4VKvc8tIOdcE",
        "colab": {
          "base_uri": "https://localhost:8080/",
          "height": 851
        },
        "outputId": "1a0a78d6-63ef-4ac7-ea72-a75bda5f64d2"
      },
      "source": [
        "# Exploremos la relación original entre las variables categóricas \n",
        "# y el target (survived)\n",
        "\n",
        "for var in ['cabin', 'sex', 'embarked']:\n",
        "    \n",
        "    fig = plt.figure()\n",
        "    fig = X_train.groupby([var])['survived'].mean().plot()\n",
        "    fig.set_title('Relación entre {} y target: survived'.format(var))\n",
        "    fig.set_ylabel('Promedio supervivencia')\n",
        "    plt.show()"
      ],
      "execution_count": 20,
      "outputs": [
        {
          "output_type": "display_data",
          "data": {
            "image/png": "[encoded data removed]",
            "text/plain": [
              "<Figure size 432x288 with 1 Axes>"
            ]
          },
          "metadata": {
            "tags": [],
            "needs_background": "light"
          }
        },
        {
          "output_type": "display_data",
          "data": {
            "image/png": "[encoded data removed]",
            "text/plain": [
              "<Figure size 432x288 with 1 Axes>"
            ]
          },
          "metadata": {
            "tags": [],
            "needs_background": "light"
          }
        },
        {
          "output_type": "display_data",
          "data": {
            "image/png": "[encoded data removed]",
            "text/plain": [
              "<Figure size 432x288 with 1 Axes>"
            ]
          },
          "metadata": {
            "tags": [],
            "needs_background": "light"
          }
        }
      ]
    },
    {
      "cell_type": "markdown",
      "metadata": {
        "id": "qsJJmHoiOdcF"
      },
      "source": [
        "Podemos ver en la relación entre el target y las variables cabin y embarked, que esta sube y baja dependiendo de la categoría. \n",
        "\n",
        "\n",
        "## Codificación por la media con pandas\n",
        "\n",
        "### Ventajas\n",
        "\n",
        "- rápido\n",
        "- devuelve un dataframe de pandas\n",
        "\n",
        "### Limitaciones:\n",
        "\n",
        "- no preserva la información del set de entrenamiento para propagarlo al set de prueba\n",
        "\n",
        "Necesitamos capturar y guardar los mapeos uno por uno, manualmente, si estamos planeando usarlos en producción\n"
      ]
    },
    {
      "cell_type": "code",
      "metadata": {
        "id": "-7Vl7Q7vOdcG",
        "colab": {
          "base_uri": "https://localhost:8080/"
        },
        "outputId": "e5144dda-043a-4339-f5ff-c09c418c7107"
      },
      "source": [
        "# calculemos el promedio del target para cada categoría\n",
        "X_train.groupby(['cabin'])['survived'].mean()"
      ],
      "execution_count": 21,
      "outputs": [
        {
          "output_type": "execute_result",
          "data": {
            "text/plain": [
              "cabin\n",
              "A    0.529412\n",
              "B    0.761905\n",
              "C    0.563380\n",
              "D    0.718750\n",
              "E    0.718750\n",
              "F    0.666667\n",
              "G    0.500000\n",
              "T    0.000000\n",
              "n    0.304843\n",
              "Name: survived, dtype: float64"
            ]
          },
          "metadata": {
            "tags": []
          },
          "execution_count": 21
        }
      ]
    },
    {
      "cell_type": "code",
      "metadata": {
        "id": "Z-JYVFCuOdcH",
        "colab": {
          "base_uri": "https://localhost:8080/"
        },
        "outputId": "618ae823-4bd0-4803-85bb-42dca7135e18"
      },
      "source": [
        "# hagamos lo mismo pero capturemos la información en un diccionario\n",
        "\n",
        "ordered_labels = X_train.groupby(['cabin'])['survived'].mean().to_dict()\n",
        "\n",
        "ordered_labels"
      ],
      "execution_count": 22,
      "outputs": [
        {
          "output_type": "execute_result",
          "data": {
            "text/plain": [
              "{'A': 0.5294117647058824,\n",
              " 'B': 0.7619047619047619,\n",
              " 'C': 0.5633802816901409,\n",
              " 'D': 0.71875,\n",
              " 'E': 0.71875,\n",
              " 'F': 0.6666666666666666,\n",
              " 'G': 0.5,\n",
              " 'T': 0.0,\n",
              " 'n': 0.30484330484330485}"
            ]
          },
          "metadata": {
            "tags": []
          },
          "execution_count": 22
        }
      ]
    },
    {
      "cell_type": "code",
      "metadata": {
        "id": "a1E9Vdw7OdcI"
      },
      "source": [
        "# ahora, reemplacemos las etiquetas con el promedio del target\n",
        "X_train['cabin'] = X_train['cabin'].map(ordered_labels)\n",
        "X_test['cabin'] = X_test['cabin'].map(ordered_labels)"
      ],
      "execution_count": 23,
      "outputs": []
    },
    {
      "cell_type": "code",
      "metadata": {
        "id": "uECrr9o_OdcI",
        "colab": {
          "base_uri": "https://localhost:8080/"
        },
        "outputId": "8cf98106-b1bc-4aed-f153-aed3bcc1be42"
      },
      "source": [
        "# exploremos el resultado\n",
        "\n",
        "X_train['cabin'].head(10)"
      ],
      "execution_count": 24,
      "outputs": [
        {
          "output_type": "execute_result",
          "data": {
            "text/plain": [
              "501     0.304843\n",
              "588     0.304843\n",
              "402     0.304843\n",
              "1193    0.304843\n",
              "686     0.304843\n",
              "971     0.304843\n",
              "117     0.718750\n",
              "540     0.304843\n",
              "294     0.563380\n",
              "261     0.718750\n",
              "Name: cabin, dtype: float64"
            ]
          },
          "metadata": {
            "tags": []
          },
          "execution_count": 24
        }
      ]
    },
    {
      "cell_type": "code",
      "metadata": {
        "id": "MAoVN6efOdcJ"
      },
      "source": [
        "# agrupemos los comandos anteriores en dos funciones\n",
        "\n",
        "def find_category_mappings(df, variable, target):\n",
        "    return df.groupby([variable])[target].mean().to_dict()\n",
        "\n",
        "\n",
        "def integer_encode(train, test, variable, ordinal_mapping):\n",
        "\n",
        "    X_train[variable] = X_train[variable].map(ordinal_mapping)\n",
        "    X_test[variable] = X_test[variable].map(ordinal_mapping)"
      ],
      "execution_count": 25,
      "outputs": []
    },
    {
      "cell_type": "code",
      "metadata": {
        "id": "305RmpJpOdcK"
      },
      "source": [
        "# ahora repitamos el proceso (con un ciclo) para cada una de \n",
        "# las variables categóricas\n",
        "\n",
        "for variable in ['sex', 'embarked']:\n",
        "    mappings = find_category_mappings(X_train, variable, 'survived')\n",
        "    integer_encode(X_train, X_test, variable, mappings)"
      ],
      "execution_count": 26,
      "outputs": []
    },
    {
      "cell_type": "code",
      "metadata": {
        "id": "-PVjM64TOdcK",
        "colab": {
          "base_uri": "https://localhost:8080/",
          "height": 191
        },
        "outputId": "e41d0378-9c58-47d0-a6c8-8026cb9c9c09"
      },
      "source": [
        "# veamos el resultado \n",
        "X_train.head()"
      ],
      "execution_count": 27,
      "outputs": [
        {
          "output_type": "execute_result",
          "data": {
            "text/html": [
              "<div>\n",
              "<style scoped>\n",
              "    .dataframe tbody tr th:only-of-type {\n",
              "        vertical-align: middle;\n",
              "    }\n",
              "\n",
              "    .dataframe tbody tr th {\n",
              "        vertical-align: top;\n",
              "    }\n",
              "\n",
              "    .dataframe thead th {\n",
              "        text-align: right;\n",
              "    }\n",
              "</style>\n",
              "<table border=\"1\" class=\"dataframe\">\n",
              "  <thead>\n",
              "    <tr style=\"text-align: right;\">\n",
              "      <th></th>\n",
              "      <th>cabin</th>\n",
              "      <th>sex</th>\n",
              "      <th>embarked</th>\n",
              "      <th>survived</th>\n",
              "    </tr>\n",
              "  </thead>\n",
              "  <tbody>\n",
              "    <tr>\n",
              "      <th>501</th>\n",
              "      <td>0.304843</td>\n",
              "      <td>0.728358</td>\n",
              "      <td>0.338957</td>\n",
              "      <td>1</td>\n",
              "    </tr>\n",
              "    <tr>\n",
              "      <th>588</th>\n",
              "      <td>0.304843</td>\n",
              "      <td>0.728358</td>\n",
              "      <td>0.338957</td>\n",
              "      <td>1</td>\n",
              "    </tr>\n",
              "    <tr>\n",
              "      <th>402</th>\n",
              "      <td>0.304843</td>\n",
              "      <td>0.728358</td>\n",
              "      <td>0.553073</td>\n",
              "      <td>1</td>\n",
              "    </tr>\n",
              "    <tr>\n",
              "      <th>1193</th>\n",
              "      <td>0.304843</td>\n",
              "      <td>0.187608</td>\n",
              "      <td>0.373494</td>\n",
              "      <td>0</td>\n",
              "    </tr>\n",
              "    <tr>\n",
              "      <th>686</th>\n",
              "      <td>0.304843</td>\n",
              "      <td>0.728358</td>\n",
              "      <td>0.373494</td>\n",
              "      <td>1</td>\n",
              "    </tr>\n",
              "  </tbody>\n",
              "</table>\n",
              "</div>"
            ],
            "text/plain": [
              "         cabin       sex  embarked  survived\n",
              "501   0.304843  0.728358  0.338957         1\n",
              "588   0.304843  0.728358  0.338957         1\n",
              "402   0.304843  0.728358  0.553073         1\n",
              "1193  0.304843  0.187608  0.373494         0\n",
              "686   0.304843  0.728358  0.373494         1"
            ]
          },
          "metadata": {
            "tags": []
          },
          "execution_count": 27
        }
      ]
    },
    {
      "cell_type": "code",
      "metadata": {
        "id": "0WK0Az5aOdcL",
        "colab": {
          "base_uri": "https://localhost:8080/",
          "height": 851
        },
        "outputId": "c0113d77-db3f-4462-d1d7-b0582852e2c0"
      },
      "source": [
        "# inspeccionemos la relación monotónica\n",
        "# entre las variable transformadas y el target\n",
        "\n",
        "for var in ['cabin', 'sex', 'embarked']:\n",
        "    \n",
        "    fig = plt.figure()\n",
        "    fig = X_train.groupby([var])['survived'].mean().plot()\n",
        "    fig.set_title('Relación monotónica entre {} y target: survived'.format(var))\n",
        "    fig.set_ylabel('Promedio supervivencia')\n",
        "    plt.show()"
      ],
      "execution_count": 28,
      "outputs": [
        {
          "output_type": "display_data",
          "data": {
            "image/png": "[encoded data removed]",
            "text/plain": [
              "<Figure size 432x288 with 1 Axes>"
            ]
          },
          "metadata": {
            "tags": [],
            "needs_background": "light"
          }
        },
        {
          "output_type": "display_data",
          "data": {
            "image/png": "[encoded data removed]",
            "text/plain": [
              "<Figure size 432x288 with 1 Axes>"
            ]
          },
          "metadata": {
            "tags": [],
            "needs_background": "light"
          }
        },
        {
          "output_type": "display_data",
          "data": {
            "image/png": "[encoded data removed]",
            "text/plain": [
              "<Figure size 432x288 with 1 Axes>"
            ]
          },
          "metadata": {
            "tags": [],
            "needs_background": "light"
          }
        }
      ]
    },
    {
      "cell_type": "markdown",
      "metadata": {
        "id": "A5mNP1EgOdcM"
      },
      "source": [
        "Podemos ver en las gráficas que la relación entre las categorías y el target ahora es monotónica.\n",
        "\n",
        "### Nota\n",
        "\n",
        "Reemplazar las etiquetas con el código anterior, va a generar valores faltantes para las categorías presentes en el set de prueba pero que no lo están en el set de entrenamiento. \n",
        "\n",
        "Por lo tanto es extremadamente importante, manejar las etiquetas poco comunes con prelación. Explicaremos como hacer esto más adelante en otro notebook.\n",
        "\n"
      ]
    },
    {
      "cell_type": "markdown",
      "metadata": {
        "id": "erfIFDj0OdcN"
      },
      "source": [
        "## ## Codificación por la media con Feature-Engine\n",
        "\n",
        "Si usamos Feature-Engine, en lugar de pandas, no necesitamos mantener el target en el set de entrenamiento."
      ]
    },
    {
      "cell_type": "code",
      "metadata": {
        "id": "49Bj48AROdcO",
        "colab": {
          "base_uri": "https://localhost:8080/"
        },
        "outputId": "c9db062b-b4cf-42c9-dd86-e68ee44b4fb2"
      },
      "source": [
        "# separemos en set de prueba y entrenamiento\n",
        "X_train, X_test, y_train, y_test = train_test_split(\n",
        "    data[['cabin', 'sex', 'embarked']], # esta vez mantenemos el target en la variable\n",
        "    data['survived'],  # target\n",
        "    test_size=0.3,  # porcentaje de observaciones en el seg te prueba\n",
        "    random_state=0)  # semilla para asegurar reproducibilidad\n",
        "\n",
        "X_train.shape, X_test.shape\n"
      ],
      "execution_count": 29,
      "outputs": [
        {
          "output_type": "execute_result",
          "data": {
            "text/plain": [
              "((916, 3), (393, 3))"
            ]
          },
          "metadata": {
            "tags": []
          },
          "execution_count": 29
        }
      ]
    },
    {
      "cell_type": "code",
      "metadata": {
        "id": "KekH9IFzOdcO"
      },
      "source": [
        "mean_enc = MeanCategoricalEncoder(\n",
        "    variables=['cabin', 'sex', 'embarked'])"
      ],
      "execution_count": 30,
      "outputs": []
    },
    {
      "cell_type": "code",
      "metadata": {
        "id": "Okwo-IVPOdcP",
        "colab": {
          "base_uri": "https://localhost:8080/"
        },
        "outputId": "bfab359b-9c93-4679-d6b7-5776de61e535"
      },
      "source": [
        "# cuando ajustamos el transformador, necesitamos pasar el target\n",
        "# tambien, como cualquier otro de los predictores en Scikit-learn \n",
        "\n",
        "mean_enc.fit(X_train, y_train)"
      ],
      "execution_count": 31,
      "outputs": [
        {
          "output_type": "execute_result",
          "data": {
            "text/plain": [
              "MeanCategoricalEncoder(variables=['cabin', 'sex', 'embarked'])"
            ]
          },
          "metadata": {
            "tags": []
          },
          "execution_count": 31
        }
      ]
    },
    {
      "cell_type": "code",
      "metadata": {
        "scrolled": true,
        "id": "u8TdblOyOdcQ",
        "colab": {
          "base_uri": "https://localhost:8080/"
        },
        "outputId": "978acf94-e56a-4617-9c33-1820acab97a5"
      },
      "source": [
        "# en el dict del encoder podemos ver el promedio del target\n",
        "# asignado a cada una de las categorías por cada variable\n",
        "mean_enc.encoder_dict_"
      ],
      "execution_count": 32,
      "outputs": [
        {
          "output_type": "execute_result",
          "data": {
            "text/plain": [
              "{'cabin': {'A': 0.5294117647058824,\n",
              "  'B': 0.7619047619047619,\n",
              "  'C': 0.5633802816901409,\n",
              "  'D': 0.71875,\n",
              "  'E': 0.71875,\n",
              "  'F': 0.6666666666666666,\n",
              "  'G': 0.5,\n",
              "  'T': 0.0,\n",
              "  'n': 0.30484330484330485},\n",
              " 'embarked': {'C': 0.553072625698324,\n",
              "  'Missing': 1.0,\n",
              "  'Q': 0.37349397590361444,\n",
              "  'S': 0.3389570552147239},\n",
              " 'sex': {'female': 0.7283582089552239, 'male': 0.18760757314974183}}"
            ]
          },
          "metadata": {
            "tags": []
          },
          "execution_count": 32
        }
      ]
    },
    {
      "cell_type": "code",
      "metadata": {
        "id": "zeAnG4LDOdcR",
        "colab": {
          "base_uri": "https://localhost:8080/"
        },
        "outputId": "4b081a57-6f59-48d1-9c46-858e4267759d"
      },
      "source": [
        "# esta es la lista de variables que el codificador transforma\n",
        "mean_enc.variables"
      ],
      "execution_count": 33,
      "outputs": [
        {
          "output_type": "execute_result",
          "data": {
            "text/plain": [
              "['cabin', 'sex', 'embarked']"
            ]
          },
          "metadata": {
            "tags": []
          },
          "execution_count": 33
        }
      ]
    },
    {
      "cell_type": "code",
      "metadata": {
        "id": "0PBCNV4DOdcR",
        "colab": {
          "base_uri": "https://localhost:8080/",
          "height": 191
        },
        "outputId": "3daddda3-72c8-400d-bf9d-c5c0b7b07a54"
      },
      "source": [
        "X_train = mean_enc.transform(X_train)\n",
        "X_test = mean_enc.transform(X_test)\n",
        "\n",
        "# exploremos los resultados\n",
        "X_train.head()"
      ],
      "execution_count": 34,
      "outputs": [
        {
          "output_type": "execute_result",
          "data": {
            "text/html": [
              "<div>\n",
              "<style scoped>\n",
              "    .dataframe tbody tr th:only-of-type {\n",
              "        vertical-align: middle;\n",
              "    }\n",
              "\n",
              "    .dataframe tbody tr th {\n",
              "        vertical-align: top;\n",
              "    }\n",
              "\n",
              "    .dataframe thead th {\n",
              "        text-align: right;\n",
              "    }\n",
              "</style>\n",
              "<table border=\"1\" class=\"dataframe\">\n",
              "  <thead>\n",
              "    <tr style=\"text-align: right;\">\n",
              "      <th></th>\n",
              "      <th>cabin</th>\n",
              "      <th>sex</th>\n",
              "      <th>embarked</th>\n",
              "    </tr>\n",
              "  </thead>\n",
              "  <tbody>\n",
              "    <tr>\n",
              "      <th>501</th>\n",
              "      <td>0.304843</td>\n",
              "      <td>0.728358</td>\n",
              "      <td>0.338957</td>\n",
              "    </tr>\n",
              "    <tr>\n",
              "      <th>588</th>\n",
              "      <td>0.304843</td>\n",
              "      <td>0.728358</td>\n",
              "      <td>0.338957</td>\n",
              "    </tr>\n",
              "    <tr>\n",
              "      <th>402</th>\n",
              "      <td>0.304843</td>\n",
              "      <td>0.728358</td>\n",
              "      <td>0.553073</td>\n",
              "    </tr>\n",
              "    <tr>\n",
              "      <th>1193</th>\n",
              "      <td>0.304843</td>\n",
              "      <td>0.187608</td>\n",
              "      <td>0.373494</td>\n",
              "    </tr>\n",
              "    <tr>\n",
              "      <th>686</th>\n",
              "      <td>0.304843</td>\n",
              "      <td>0.728358</td>\n",
              "      <td>0.373494</td>\n",
              "    </tr>\n",
              "  </tbody>\n",
              "</table>\n",
              "</div>"
            ],
            "text/plain": [
              "         cabin       sex  embarked\n",
              "501   0.304843  0.728358  0.338957\n",
              "588   0.304843  0.728358  0.338957\n",
              "402   0.304843  0.728358  0.553073\n",
              "1193  0.304843  0.187608  0.373494\n",
              "686   0.304843  0.728358  0.373494"
            ]
          },
          "metadata": {
            "tags": []
          },
          "execution_count": 34
        }
      ]
    },
    {
      "cell_type": "markdown",
      "metadata": {
        "id": "xLmXjcGIOdcS"
      },
      "source": [
        "\n",
        "**Nota**\n",
        "\n",
        "Si el argmento 'variables' se fija en 'None' (ninguno), entonces el codificador automáticamente indentificará  **todas las variables categóricas**. Maravilloso verdad?\n",
        "\n",
        "El codificador no codificará las variables numéricas. Por lo tanto, si algunas de tus variables categóricas son de hecho numéricas, necesitas hacer el 're-cast' o cambio a tipo 'object' antes de usar el codificador.\n",
        "\n",
        "Si hay una variable en el set de prueba, para el cual el codificador no tiene un número para asignar ( la categoría no estaba presente en el set de entrenamiento), el codificador devolverá un error para alertarte del problema\n",
        "\n",
        "\n"
      ]
    }
  ]
}