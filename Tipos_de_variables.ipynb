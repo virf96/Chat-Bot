{
  "nbformat": 4,
  "nbformat_minor": 0,
  "metadata": {
    "colab": {
      "name": "Untitled1.ipynb",
      "provenance": [],
      "toc_visible": true,
      "authorship_tag": "ABX9TyMCKSRGmnJZmoVFIaZmLNT2",
      "include_colab_link": true
    },
    "kernelspec": {
      "name": "python3",
      "display_name": "Python 3"
    }
  },
  "cells": [
    {
      "cell_type": "markdown",
      "metadata": {
        "id": "view-in-github",
        "colab_type": "text"
      },
      "source": [
        "<a href=\"https://colab.research.google.com/github/virf96/Chat-Bot/blob/master/Tipos_de_variables.ipynb\" target=\"_parent\"><img src=\"https://colab.research.google.com/assets/colab-badge.svg\" alt=\"Open In Colab\"/></a>"
      ]
    },
    {
      "cell_type": "markdown",
      "metadata": {
        "id": "Yhy9Zo3dHmY-",
        "colab_type": "text"
      },
      "source": [
        "#¿Que es una variable?\n",
        "\n",
        "Una variable es cualquier característica, número o cantidad que puede ser medida o contado.\n",
        "\n",
        "#Tipos de Variables\n",
        "\n",
        "$Númericas$\n",
        "\n",
        "$\\bullet$ Discretas\n",
        "\n",
        "$\\bullet$ Continuas\n",
        "\n",
        "$\\bullet$ Binarias\n",
        "\n",
        "$Categóricas$\n",
        "\n",
        "$\\bullet$ Nominal\n",
        "\n",
        "$\\bullet$ Ordinal\n",
        "\n",
        "$\\bullet$ Fecha/Hora\n",
        "\n",
        "$Variables$ $Mixtas$\n",
        "\n",
        "$\\bullet$ Númericas y cadenas de caracteres\n"
      ]
    },
    {
      "cell_type": "markdown",
      "metadata": {
        "id": "YZSO43kkVR6k",
        "colab_type": "text"
      },
      "source": [
        "#VARIABLES DISCRETAS\n",
        "\n",
        "Una variables cuyos valores son números enteros.\n",
        "\n",
        "$Ejemplo$\n",
        "\n",
        "$\\bullet$ Número de productos comprados en un supermercado (10,50,...)\n",
        "\n",
        "$\\bullet$ Número de cuentas bancarias activas (1,4,7,...)\n",
        "\n",
        "$\\bullet$ Número de mascotas en una familia\n",
        "\n",
        "$\\bullet$ Número de hijos en una familia\n",
        "\n",
        "#Variables Continuas\n",
        "\n",
        "Una variable que puede tomar cualquier valor en un rango\n",
        "\n",
        "$Ejemplo$\n",
        "\n",
        "$\\bullet$ Pago en un supermercado ($32.50$,$12$,$5.20$)\n",
        "\n",
        "$\\bullet$ Precio de una casa ($350,000$ , $57,000$ , $1,000,000$)\n",
        "\n",
        "$\\bullet$ Tiempo navengando en una página web ($3.4$ segundos, $5.10$ segundos,...)\n",
        "\n",
        "$\\bullet$ Deuda total como porcentaje de ingreso mensual (20%,1%,75%,...)\n",
        "\n",
        "#VARIABLES CATEGÓRICAS\n",
        "\n",
        "Contienen un número finito de categorías o etiquetas y pueden tener o no un orden lógico.\n",
        "\n",
        "$\\bullet$ Estado civil (Soltero,Casado,...)\n",
        "\n",
        "$\\bullet$ Género (masculino, femenino)\n",
        "\n",
        "$\\bullet$ Próposito del prestamo (vacaciones, compra vehículo,...)\n",
        "\n",
        "$\\bullet$ Proveeedor de red celular (Vodafone, Orange,...)\n",
        "\n",
        "#VARIABLES ORDINALES\n",
        "\n",
        "Variables categóricas cuyos valores representan una categoría o grupo con alguna clasificación intrínseca.\n",
        "\n",
        "$\\bullet$ Puntuación examen estudiantil (A,B ,C ó D)\n",
        "\n",
        "$\\bullet$ Días de la semana (Lunes=1,...,Domingo=7)\n",
        "\n",
        "$\\bullet$ Nivel de educación (Primaria=1,Secundaria=2,...,Maestría=5)\n",
        "\n",
        "#VARIABLES NOMINALES\n",
        "\n",
        "Cuando sus valores representan valores categorías que no obedecen a una clasificación intrínseca u orden lógico.\n",
        "\n",
        "$\\bullet$ País de nacimiento (Argentina, Inglaterra,Colombia, etc)\n",
        "\n",
        "$\\bullet$ Código Postal\n",
        "\n",
        "$\\bullet$ Marca de vehículo (Citroen,Peugeot,etc)\n",
        "\n",
        "#VARIABLES MIXTAS\n",
        "\n",
        "Observaciones que contienen ya sean números o categorías.\n",
        "\n",
        "$\\bullet$ Número de créditos (1-100,U,T,M) \n",
        "\n",
        "U=Desconocido,T=Sin verificar,M=Sin cuenta abierta\n",
        "\n",
        "$\\bullet$ Número de pagos atrasados (1-3,D,A)\n",
        "\n",
        "D=defaulted, A=arrangements\n",
        "\n"
      ]
    },
    {
      "cell_type": "code",
      "metadata": {
        "id": "9vAfd3_GHlfk",
        "colab_type": "code",
        "colab": {}
      },
      "source": [
        ""
      ],
      "execution_count": null,
      "outputs": []
    },
    {
      "cell_type": "code",
      "metadata": {
        "id": "eSKeLEqB8iXT",
        "colab_type": "code",
        "colab": {
          "base_uri": "https://localhost:8080/",
          "height": 122
        },
        "outputId": "6b10d5a6-bc4d-48b5-ed81-ea336f2abf50"
      },
      "source": [
        "from google.colab import drive\n",
        "drive.mount('/content/drive')"
      ],
      "execution_count": 1,
      "outputs": [
        {
          "output_type": "stream",
          "text": [
            "Go to this URL in a browser: https://accounts.google.com/o/oauth2/auth?client_id=947318989803-6bn6qk8qdgf4n4g3pfee6491hc0brc4i.apps.googleusercontent.com&redirect_uri=urn%3aietf%3awg%3aoauth%3a2.0%3aoob&response_type=code&scope=email%20https%3a%2f%2fwww.googleapis.com%2fauth%2fdocs.test%20https%3a%2f%2fwww.googleapis.com%2fauth%2fdrive%20https%3a%2f%2fwww.googleapis.com%2fauth%2fdrive.photos.readonly%20https%3a%2f%2fwww.googleapis.com%2fauth%2fpeopleapi.readonly\n",
            "\n",
            "Enter your authorization code:\n",
            "··········\n",
            "Mounted at /content/drive\n"
          ],
          "name": "stdout"
        }
      ]
    },
    {
      "cell_type": "code",
      "metadata": {
        "id": "XV-VwyId9M9T",
        "colab_type": "code",
        "colab": {}
      },
      "source": [
        "import numpy as np\n",
        "import pandas as pd"
      ],
      "execution_count": 3,
      "outputs": []
    },
    {
      "cell_type": "code",
      "metadata": {
        "id": "5sRjllcL8jcP",
        "colab_type": "code",
        "colab": {
          "base_uri": "https://localhost:8080/",
          "height": 71
        },
        "outputId": "d758c59b-06d1-4df0-d12d-79a0b0ed8a16"
      },
      "source": [
        "#Cargamos información\n",
        "data = pd.read_csv(\"/content/drive/My Drive/datasets/loan.csv\")"
      ],
      "execution_count": 6,
      "outputs": [
        {
          "output_type": "stream",
          "text": [
            "/usr/local/lib/python3.6/dist-packages/IPython/core/interactiveshell.py:2718: DtypeWarning: Columns (19,47,55,112,123,124,125,128,129,130,133,139,140,141) have mixed types.Specify dtype option on import or set low_memory=False.\n",
            "  interactivity=interactivity, compiler=compiler, result=result)\n"
          ],
          "name": "stderr"
        }
      ]
    },
    {
      "cell_type": "code",
      "metadata": {
        "id": "n6mKrwV19LE5",
        "colab_type": "code",
        "colab": {
          "base_uri": "https://localhost:8080/",
          "height": 163
        },
        "outputId": "78e7f466-93a4-44ef-c215-5ba8020fc35e"
      },
      "source": [
        "data.head()"
      ],
      "execution_count": 5,
      "outputs": [
        {
          "output_type": "error",
          "ename": "NameError",
          "evalue": "ignored",
          "traceback": [
            "\u001b[0;31m---------------------------------------------------------------------------\u001b[0m",
            "\u001b[0;31mNameError\u001b[0m                                 Traceback (most recent call last)",
            "\u001b[0;32m<ipython-input-5-304fa4ce4ebd>\u001b[0m in \u001b[0;36m<module>\u001b[0;34m()\u001b[0m\n\u001b[0;32m----> 1\u001b[0;31m \u001b[0mdata\u001b[0m\u001b[0;34m.\u001b[0m\u001b[0mhead\u001b[0m\u001b[0;34m(\u001b[0m\u001b[0;34m)\u001b[0m\u001b[0;34m\u001b[0m\u001b[0;34m\u001b[0m\u001b[0m\n\u001b[0m",
            "\u001b[0;31mNameError\u001b[0m: name 'data' is not defined"
          ]
        }
      ]
    }
  ]
}