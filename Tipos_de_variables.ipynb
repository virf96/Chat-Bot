{
  "nbformat": 4,
  "nbformat_minor": 0,
  "metadata": {
    "colab": {
      "name": "Untitled1.ipynb",
      "provenance": [],
      "authorship_tag": "ABX9TyP5aIYqE0AaHSteqqwS1CjE",
      "include_colab_link": true
    },
    "kernelspec": {
      "name": "python3",
      "display_name": "Python 3"
    }
  },
  "cells": [
    {
      "cell_type": "markdown",
      "metadata": {
        "id": "view-in-github",
        "colab_type": "text"
      },
      "source": [
        "<a href=\"https://colab.research.google.com/github/virf96/Chat-Bot/blob/master/Tipos_de_variables.ipynb\" target=\"_parent\"><img src=\"https://colab.research.google.com/assets/colab-badge.svg\" alt=\"Open In Colab\"/></a>"
      ]
    },
    {
      "cell_type": "markdown",
      "metadata": {
        "id": "Yhy9Zo3dHmY-",
        "colab_type": "text"
      },
      "source": [
        "#¿Que es una variable?\n",
        "\n",
        "Una variable es cualquier característica, número o cantidad que puede ser medida o contado.\n",
        "\n",
        "#Tipos de Variables\n",
        "\n",
        "$Númericas$\n",
        "\n",
        "$\\bullet$ Discretas\n",
        "\n",
        "$\\bullet$ Continuas\n",
        "\n",
        "$\\bullet$ Binarias\n",
        "\n",
        "$Categóricas$\n",
        "\n",
        "$\\bullet$ Nominal\n",
        "\n",
        "$\\bullet$ Ordinal\n",
        "\n",
        "$\\bullet$ Fecha/Hora\n",
        "\n",
        "$Variables$ $Mixtas$\n",
        "\n",
        "$\\bullet$ Númericas y cadenas de caracteres\n"
      ]
    },
    {
      "cell_type": "markdown",
      "metadata": {
        "id": "YZSO43kkVR6k",
        "colab_type": "text"
      },
      "source": [
        "\n",
        "\n",
        "#VARIABLES CATEGÓRICAS\n",
        "\n",
        "Contienen un número finito de categorías o etiquetas y pueden tener o no un orden lógico.\n",
        "\n",
        "$\\bullet$ Estado civil (Soltero,Casado,...)\n",
        "\n",
        "$\\bullet$ Género (masculino, femenino)\n",
        "\n",
        "$\\bullet$ Próposito del prestamo (vacaciones, compra vehículo,...)\n",
        "\n",
        "$\\bullet$ Proveeedor de red celular (Vodafone, Orange,...)\n",
        "\n",
        "#VARIABLES ORDINALES\n",
        "\n",
        "Variables categóricas cuyos valores representan una categoría o grupo con alguna clasificación intrínseca.\n",
        "\n",
        "$\\bullet$ Puntuación examen estudiantil (A,B ,C ó D)\n",
        "\n",
        "$\\bullet$ Días de la semana (Lunes=1,...,Domingo=7)\n",
        "\n",
        "$\\bullet$ Nivel de educación (Primaria=1,Secundaria=2,...,Maestría=5)\n",
        "\n",
        "#VARIABLES NOMINALES\n",
        "\n",
        "Cuando sus valores representan valores categorías que no obedecen a una clasificación intrínseca u orden lógico.\n",
        "\n",
        "$\\bullet$ País de nacimiento (Argentina, Inglaterra,Colombia, etc)\n",
        "\n",
        "$\\bullet$ Código Postal\n",
        "\n",
        "$\\bullet$ Marca de vehículo (Citroen,Peugeot,etc)\n",
        "\n",
        "#VARIABLES MIXTAS\n",
        "\n",
        "Observaciones que contienen ya sean números o categorías.\n",
        "\n",
        "$\\bullet$ Número de créditos (1-100,U,T,M) \n",
        "\n",
        "U=Desconocido,T=Sin verificar,M=Sin cuenta abierta\n",
        "\n",
        "$\\bullet$ Número de pagos atrasados (1-3,D,A)\n",
        "\n",
        "D=defaulted, A=arrangements\n",
        "\n"
      ]
    },
    {
      "cell_type": "code",
      "metadata": {
        "id": "9vAfd3_GHlfk",
        "colab_type": "code",
        "colab": {}
      },
      "source": [
        ""
      ],
      "execution_count": null,
      "outputs": []
    },
    {
      "cell_type": "code",
      "metadata": {
        "id": "eSKeLEqB8iXT",
        "colab_type": "code",
        "colab": {
          "base_uri": "https://localhost:8080/",
          "height": 122
        },
        "outputId": "eb5ca318-47f4-4400-9a8f-8da2e0e8f0f1"
      },
      "source": [
        "from google.colab import drive\n",
        "drive.mount('/content/drive')"
      ],
      "execution_count": 1,
      "outputs": [
        {
          "output_type": "stream",
          "text": [
            "Go to this URL in a browser: https://accounts.google.com/o/oauth2/auth?client_id=947318989803-6bn6qk8qdgf4n4g3pfee6491hc0brc4i.apps.googleusercontent.com&redirect_uri=urn%3aietf%3awg%3aoauth%3a2.0%3aoob&response_type=code&scope=email%20https%3a%2f%2fwww.googleapis.com%2fauth%2fdocs.test%20https%3a%2f%2fwww.googleapis.com%2fauth%2fdrive%20https%3a%2f%2fwww.googleapis.com%2fauth%2fdrive.photos.readonly%20https%3a%2f%2fwww.googleapis.com%2fauth%2fpeopleapi.readonly\n",
            "\n",
            "Enter your authorization code:\n",
            "··········\n",
            "Mounted at /content/drive\n"
          ],
          "name": "stdout"
        }
      ]
    },
    {
      "cell_type": "code",
      "metadata": {
        "id": "XV-VwyId9M9T",
        "colab_type": "code",
        "colab": {}
      },
      "source": [
        "import numpy as np\n",
        "import pandas as pd"
      ],
      "execution_count": 3,
      "outputs": []
    },
    {
      "cell_type": "code",
      "metadata": {
        "id": "QfH_Y_61-6HX",
        "colab_type": "code",
        "colab": {}
      },
      "source": [
        "# Definición de las variables del set de datos:\n",
        "#-------------------------\n",
        "# loan_amnt: Valor del préstamo\n",
        "# int_rate:  tasa de interés\n",
        "# annual_inc: salario anual \n",
        "# open_acc: número de cuentas bancarias abiertas (más detalles más adelante)\n",
        "# loan_status: estado del préstamo (paid (pagado), defaulted (pago incumplido), etc)\n",
        "# open_il_12m: cuentas abiertas en los últimos 12 meses\n",
        "\n",
        "use_cols = [\n",
        "    'loan_amnt', 'int_rate', 'annual_inc', 'open_acc', 'loan_status',\n",
        "    'open_il_12m'\n",
        "]\n",
        "\n",
        "# Carguemos los datos con solo unas columnas y unas pocas filas para \n",
        "# facilitar y reducir el tiempo que toma correr el demo.\n",
        "\n",
        "data = pd.read_csv('/content/drive/My Drive/datasets/loan.csv', usecols=use_cols).sample(\n",
        "    10000, random_state=60)  # fijamos la semilla o \"seed\" para poder reproducir resultados"
      ],
      "execution_count": 4,
      "outputs": []
    },
    {
      "cell_type": "code",
      "metadata": {
        "id": "n6mKrwV19LE5",
        "colab_type": "code",
        "colab": {
          "base_uri": "https://localhost:8080/",
          "height": 204
        },
        "outputId": "7600dfb1-86c3-43d8-b3ee-f293d9bcfd87"
      },
      "source": [
        "data.head()"
      ],
      "execution_count": 5,
      "outputs": [
        {
          "output_type": "execute_result",
          "data": {
            "text/html": [
              "<div>\n",
              "<style scoped>\n",
              "    .dataframe tbody tr th:only-of-type {\n",
              "        vertical-align: middle;\n",
              "    }\n",
              "\n",
              "    .dataframe tbody tr th {\n",
              "        vertical-align: top;\n",
              "    }\n",
              "\n",
              "    .dataframe thead th {\n",
              "        text-align: right;\n",
              "    }\n",
              "</style>\n",
              "<table border=\"1\" class=\"dataframe\">\n",
              "  <thead>\n",
              "    <tr style=\"text-align: right;\">\n",
              "      <th></th>\n",
              "      <th>loan_amnt</th>\n",
              "      <th>int_rate</th>\n",
              "      <th>annual_inc</th>\n",
              "      <th>loan_status</th>\n",
              "      <th>open_acc</th>\n",
              "      <th>open_il_12m</th>\n",
              "    </tr>\n",
              "  </thead>\n",
              "  <tbody>\n",
              "    <tr>\n",
              "      <th>2101510</th>\n",
              "      <td>9500</td>\n",
              "      <td>6.03</td>\n",
              "      <td>35000.0</td>\n",
              "      <td>Fully Paid</td>\n",
              "      <td>6.0</td>\n",
              "      <td>NaN</td>\n",
              "    </tr>\n",
              "    <tr>\n",
              "      <th>989937</th>\n",
              "      <td>20000</td>\n",
              "      <td>12.05</td>\n",
              "      <td>62000.0</td>\n",
              "      <td>Charged Off</td>\n",
              "      <td>12.0</td>\n",
              "      <td>NaN</td>\n",
              "    </tr>\n",
              "    <tr>\n",
              "      <th>195177</th>\n",
              "      <td>40000</td>\n",
              "      <td>13.56</td>\n",
              "      <td>70000.0</td>\n",
              "      <td>Current</td>\n",
              "      <td>20.0</td>\n",
              "      <td>2.0</td>\n",
              "    </tr>\n",
              "    <tr>\n",
              "      <th>946402</th>\n",
              "      <td>12000</td>\n",
              "      <td>13.18</td>\n",
              "      <td>37511.4</td>\n",
              "      <td>Current</td>\n",
              "      <td>10.0</td>\n",
              "      <td>0.0</td>\n",
              "    </tr>\n",
              "    <tr>\n",
              "      <th>2089029</th>\n",
              "      <td>10000</td>\n",
              "      <td>10.99</td>\n",
              "      <td>84000.0</td>\n",
              "      <td>Fully Paid</td>\n",
              "      <td>16.0</td>\n",
              "      <td>NaN</td>\n",
              "    </tr>\n",
              "  </tbody>\n",
              "</table>\n",
              "</div>"
            ],
            "text/plain": [
              "         loan_amnt  int_rate  annual_inc  loan_status  open_acc  open_il_12m\n",
              "2101510       9500      6.03     35000.0   Fully Paid       6.0          NaN\n",
              "989937       20000     12.05     62000.0  Charged Off      12.0          NaN\n",
              "195177       40000     13.56     70000.0      Current      20.0          2.0\n",
              "946402       12000     13.18     37511.4      Current      10.0          0.0\n",
              "2089029      10000     10.99     84000.0   Fully Paid      16.0          NaN"
            ]
          },
          "metadata": {
            "tags": []
          },
          "execution_count": 5
        }
      ]
    },
    {
      "cell_type": "code",
      "metadata": {
        "id": "xv9_TTo_CtPh",
        "colab_type": "code",
        "colab": {
          "base_uri": "https://localhost:8080/",
          "height": 34
        },
        "outputId": "006daf60-6678-4426-8566-766d9df7475c"
      },
      "source": [
        "len(data.loan_amnt)"
      ],
      "execution_count": 20,
      "outputs": [
        {
          "output_type": "execute_result",
          "data": {
            "text/plain": [
              "10000"
            ]
          },
          "metadata": {
            "tags": []
          },
          "execution_count": 20
        }
      ]
    },
    {
      "cell_type": "markdown",
      "metadata": {
        "id": "UcJE7vJJCFvS",
        "colab_type": "text"
      },
      "source": [
        "#Variables Continuas\n",
        "\n",
        "Una variable que puede tomar cualquier valor en un rango\n",
        "\n",
        "$Ejemplo$\n",
        "\n",
        "$\\bullet$ Pago en un supermercado ($32.50$,$12$,$5.20$)\n",
        "\n",
        "$\\bullet$ Precio de una casa ($350,000$ , $57,000$ , $1,000,000$)\n",
        "\n",
        "$\\bullet$ Tiempo navengando en una página web ($3.4$ segundos, $5.10$ segundos,...)\n",
        "\n",
        "$\\bullet$ Deuda total como porcentaje de ingreso mensual (20%,1%,75%,...)\n"
      ]
    },
    {
      "cell_type": "code",
      "metadata": {
        "id": "0lbDq-edAaHA",
        "colab_type": "code",
        "colab": {
          "base_uri": "https://localhost:8080/",
          "height": 313
        },
        "outputId": "5e81abd1-cede-4240-c95d-cbe2b6768cb1"
      },
      "source": [
        "# Examinemenos el histograma para familiarizarnos con la\n",
        "# distribución de la variable\n",
        "\n",
        "fig = data.loan_amnt.hist(bins=50)\n",
        "\n",
        "fig.set_title('Valor del préstamo')\n",
        "fig.set_xlabel('Valor del préstamo')\n",
        "fig.set_ylabel('Número de préstamos')"
      ],
      "execution_count": 6,
      "outputs": [
        {
          "output_type": "execute_result",
          "data": {
            "text/plain": [
              "Text(0, 0.5, 'Número de préstamos')"
            ]
          },
          "metadata": {
            "tags": []
          },
          "execution_count": 6
        },
        {
          "output_type": "display_data",
          "data": {
            "image/png": "[encoded data removed]",
            "text/plain": [
              "<Figure size 432x288 with 1 Axes>"
            ]
          },
          "metadata": {
            "tags": [],
            "needs_background": "light"
          }
        }
      ]
    },
    {
      "cell_type": "code",
      "metadata": {
        "id": "pfuY-y8KAa5f",
        "colab_type": "code",
        "colab": {
          "base_uri": "https://localhost:8080/",
          "height": 312
        },
        "outputId": "85fceafe-a54e-42c6-9bb8-65d83d05ec92"
      },
      "source": [
        "# Creemos un histograma para familiarizarnos con la \n",
        "# distribución de la variable\n",
        "\n",
        "fig = data.int_rate.hist(bins=30)\n",
        "\n",
        "fig.set_title('Tasa de interés')\n",
        "fig.set_xlabel('Tasa de interés')\n",
        "fig.set_ylabel('Número de préstamos')"
      ],
      "execution_count": 7,
      "outputs": [
        {
          "output_type": "execute_result",
          "data": {
            "text/plain": [
              "Text(0, 0.5, 'Número de préstamos')"
            ]
          },
          "metadata": {
            "tags": []
          },
          "execution_count": 7
        },
        {
          "output_type": "display_data",
          "data": {
            "image/png": "[encoded data removed]",
            "text/plain": [
              "<Figure size 432x288 with 1 Axes>"
            ]
          },
          "metadata": {
            "tags": [],
            "needs_background": "light"
          }
        }
      ]
    },
    {
      "cell_type": "code",
      "metadata": {
        "id": "-kyiLanaAi1M",
        "colab_type": "code",
        "colab": {
          "base_uri": "https://localhost:8080/",
          "height": 312
        },
        "outputId": "3bf5f765-0f44-4c5e-b446-7227e47821af"
      },
      "source": [
        "# Ahora, exploremos el salario anual declarado por cada uno de los clientes\n",
        "\n",
        "# Esta variable es también continua\n",
        "\n",
        "fig = data.annual_inc.hist(bins=100)\n",
        "\n",
        "# para visualizarla mejor, restringiremos \n",
        "# el rango del eje x\n",
        "fig.set_xlim(0, 400000)\n",
        "\n",
        "# Título y leyendas para los ejes.\n",
        "fig.set_title(\"Clientes Salario Anual\")\n",
        "fig.set_xlabel('Salario Anual')\n",
        "fig.set_ylabel('Número de Clientes')"
      ],
      "execution_count": 8,
      "outputs": [
        {
          "output_type": "execute_result",
          "data": {
            "text/plain": [
              "Text(0, 0.5, 'Número de Clientes')"
            ]
          },
          "metadata": {
            "tags": []
          },
          "execution_count": 8
        },
        {
          "output_type": "display_data",
          "data": {
            "image/png": "[encoded data removed]",
            "text/plain": [
              "<Figure size 432x288 with 1 Axes>"
            ]
          },
          "metadata": {
            "tags": [],
            "needs_background": "light"
          }
        }
      ]
    },
    {
      "cell_type": "markdown",
      "metadata": {
        "id": "qk_qzczVCWGM",
        "colab_type": "text"
      },
      "source": [
        "#VARIABLES DISCRETAS\n",
        "\n",
        "Una variables cuyos valores son números enteros.\n",
        "\n",
        "$Ejemplo$\n",
        "\n",
        "$\\bullet$ Número de productos comprados en un supermercado (10,50,...)\n",
        "\n",
        "$\\bullet$ Número de cuentas bancarias activas (1,4,7,...)\n",
        "\n",
        "$\\bullet$ Número de mascotas en una familia\n",
        "\n",
        "$\\bullet$ Número de hijos en una familia\n"
      ]
    },
    {
      "cell_type": "markdown",
      "metadata": {
        "id": "ZpOJoKhNAwLP",
        "colab_type": "text"
      },
      "source": [
        "Exploremos la variable \"Número de líneas de crédito abiertas en el expediente de crédito del prestamista\" (open_acc en los datos). Esta variable representa el número total de productos en diferentes líneas de crédito  (por ejemplo tarjetas de crédito, préstamos para carros, hipotecas, etc.) que se conocen del prestamista. Por definición, es una variable discreta, porque el prestamista puede tener 1 tarjeta de crédito, pero no 3.5 tarjetas de crédito. Y en principio, un cliente puede tener solo un número finito de cuentas bancarias."
      ]
    },
    {
      "cell_type": "code",
      "metadata": {
        "id": "jazJhLTQAqvV",
        "colab_type": "code",
        "colab": {
          "base_uri": "https://localhost:8080/",
          "height": 85
        },
        "outputId": "a408e191-dd26-40a7-86e8-9cb7c5a1eca5"
      },
      "source": [
        "# Examinemos los valores de la variable \n",
        "\n",
        "# esta es una variable discreta\n",
        "data.open_acc.dropna().unique()"
      ],
      "execution_count": 9,
      "outputs": [
        {
          "output_type": "execute_result",
          "data": {
            "text/plain": [
              "array([ 6., 12., 20., 10., 16.,  8.,  7.,  4.,  2.,  9., 19., 28., 14.,\n",
              "       23., 18., 15.,  5., 13., 11., 27., 22., 17., 24., 41., 21., 35.,\n",
              "       32.,  3., 26., 25., 31., 39., 36.,  1., 48., 30., 33., 52., 38.,\n",
              "       29., 40., 37., 72., 34., 43.])"
            ]
          },
          "metadata": {
            "tags": []
          },
          "execution_count": 9
        }
      ]
    },
    {
      "cell_type": "code",
      "metadata": {
        "id": "fEhBHcdXA6Wc",
        "colab_type": "code",
        "colab": {
          "base_uri": "https://localhost:8080/",
          "height": 312
        },
        "outputId": "2d7879af-6dab-4571-898d-075b24e55117"
      },
      "source": [
        "# Creemos un histograma para familiarizarnos con la \n",
        "# distribución de la variable\n",
        "\n",
        "fig = data.open_acc.hist(bins=100)\n",
        "\n",
        "# para visualizarla mejor, restringiremos \n",
        "# el rango del eje x\n",
        "fig.set_xlim(0, 30)\n",
        "\n",
        "# Título y leyendas para los ejes.\n",
        "fig.set_title('Número de cuentas abiertas')\n",
        "fig.set_xlabel('Número de cuentas abiertas')\n",
        "fig.set_ylabel('Número de Clientes')"
      ],
      "execution_count": 10,
      "outputs": [
        {
          "output_type": "execute_result",
          "data": {
            "text/plain": [
              "Text(0, 0.5, 'Número de Clientes')"
            ]
          },
          "metadata": {
            "tags": []
          },
          "execution_count": 10
        },
        {
          "output_type": "display_data",
          "data": {
            "image/png": "[encoded data removed]",
            "text/plain": [
              "<Figure size 432x288 with 1 Axes>"
            ]
          },
          "metadata": {
            "tags": [],
            "needs_background": "light"
          }
        }
      ]
    },
    {
      "cell_type": "markdown",
      "metadata": {
        "id": "8btwPC5_BI3G",
        "colab_type": "text"
      },
      "source": [
        "Los histogramas de las variables discretas parecen 'quebrados', ya que no todos los valores dentro del rango posible (de la variable) están presentes. Como ya mencionamos, un cliente puede tener 3 tarjetas de crédito, pero no 3.5 tarjetas de créditos.\n",
        "\n",
        "Miremos otro ejemplo de una variable discreta en estos datos: **Número de préstamos a plazos o término fijo, tomados en los últimos 12 meses** (open_il_12m en los datos). Préstamos a plazos son los que al momento de adquirirlos, tienen un periodo fijo y un número de pagos acordados previamente entre el prestamista y la institución de crédito.  Un ejemplo son los préstamos para carros, o préstamos para estudiantes. El prestamista sabe que deberá pagar la deuda con un número fijo de cuotas con un valor predeterminado, por ejemplo $2,000 en 36 meses."
      ]
    },
    {
      "cell_type": "code",
      "metadata": {
        "id": "Ybtzo-UZA9B_",
        "colab_type": "code",
        "colab": {
          "base_uri": "https://localhost:8080/",
          "height": 34
        },
        "outputId": "f9fe158c-c7e7-4bee-ccad-92540cbe01f3"
      },
      "source": [
        "# Examinemos los valores de la variable\n",
        "\n",
        "data.open_il_12m.unique()"
      ],
      "execution_count": 11,
      "outputs": [
        {
          "output_type": "execute_result",
          "data": {
            "text/plain": [
              "array([nan,  2.,  0.,  5.,  1.,  3.,  4.,  7.,  6.])"
            ]
          },
          "metadata": {
            "tags": []
          },
          "execution_count": 11
        }
      ]
    },
    {
      "cell_type": "code",
      "metadata": {
        "id": "aM7RnL3XBTXK",
        "colab_type": "code",
        "colab": {
          "base_uri": "https://localhost:8080/",
          "height": 313
        },
        "outputId": "48367e5d-c68e-4a3b-b1c2-8aaea37553f6"
      },
      "source": [
        "# Creemos un histograma para familiarizarnos con la \n",
        "# distribución de la variable\n",
        "\n",
        "fig = data.open_il_12m.hist(bins=50)\n",
        "fig.set_title('Número de créditos a término fijo abiertos en los últimos 12 meses')\n",
        "fig.set_xlabel('Número de créditos a término fijo abiertos en los últimos 12 meses')\n",
        "fig.set_ylabel('Número de Prestamistas')"
      ],
      "execution_count": 12,
      "outputs": [
        {
          "output_type": "execute_result",
          "data": {
            "text/plain": [
              "Text(0, 0.5, 'Número de Prestamistas')"
            ]
          },
          "metadata": {
            "tags": []
          },
          "execution_count": 12
        },
        {
          "output_type": "display_data",
          "data": {
            "image/png": "[encoded data removed]",
            "text/plain": [
              "<Figure size 432x288 with 1 Axes>"
            ]
          },
          "metadata": {
            "tags": [],
            "needs_background": "light"
          }
        }
      ]
    },
    {
      "cell_type": "markdown",
      "metadata": {
        "id": "bOl8X9grBc4O",
        "colab_type": "text"
      },
      "source": [
        "La mayoría de los prestamistas no tienen o solo han abierto 1 línea de crédito a termino fijo, con tan solo unos pocos prestamistas con 2 o más."
      ]
    },
    {
      "cell_type": "markdown",
      "metadata": {
        "id": "p9HL2FA9BdM_",
        "colab_type": "text"
      },
      "source": [
        "### Una variación de las variables discretas: variables binarias\n",
        "\n",
        "Las variables binarias, son variables discretas, que tan solo toman 2 valores, y por lo tanto son binarias.\n",
        "\n",
        "En las próximas celdas, crearemos una variable adicional que capture el número de préstamos que el prestamista ha incumplido en pagar (en inglés 'defaulted') y por lo tanto se considera que el dinero se ha perdido.\n",
        "\n",
        "La variable toma valores de 0 cuando el préstamo está bien, es decir, que los pagos se han hecho regularmente o 1, cuando el prestamista ha confirmado que no podrá pagar más cuotas del préstamo."
      ]
    },
    {
      "cell_type": "code",
      "metadata": {
        "id": "X9UPHvWUBVb-",
        "colab_type": "code",
        "colab": {
          "base_uri": "https://localhost:8080/",
          "height": 102
        },
        "outputId": "c00e4d1c-6ab1-4ea6-8bdc-3284f1cddb61"
      },
      "source": [
        "# Examinemos los valores de la variable loan_status\n",
        "\n",
        "data.loan_status.unique()"
      ],
      "execution_count": 13,
      "outputs": [
        {
          "output_type": "execute_result",
          "data": {
            "text/plain": [
              "array(['Fully Paid', 'Charged Off', 'Current', 'Late (31-120 days)',\n",
              "       'In Grace Period', 'Late (16-30 days)',\n",
              "       'Does not meet the credit policy. Status:Fully Paid',\n",
              "       'Does not meet the credit policy. Status:Charged Off', 'Default'],\n",
              "      dtype=object)"
            ]
          },
          "metadata": {
            "tags": []
          },
          "execution_count": 13
        }
      ]
    },
    {
      "cell_type": "code",
      "metadata": {
        "id": "ds4CdNzmBkF2",
        "colab_type": "code",
        "colab": {
          "base_uri": "https://localhost:8080/",
          "height": 34
        },
        "outputId": "8411c47a-a57a-44f6-b786-8d02a4e53e5d"
      },
      "source": [
        "# Creemos una variable adicional llamada \"defaulted\".\n",
        "# Esta variable indica si el prestamista ha incumplido con sus pagos y que el dinero\n",
        "# se considera perdido - préstamo no reembolsado\n",
        "\n",
        "data['defaulted'] = np.where(data.loan_status.isin(['Default']), 1, 0)\n",
        "data.defaulted.mean()"
      ],
      "execution_count": 14,
      "outputs": [
        {
          "output_type": "execute_result",
          "data": {
            "text/plain": [
              "0.0001"
            ]
          },
          "metadata": {
            "tags": []
          },
          "execution_count": 14
        }
      ]
    },
    {
      "cell_type": "code",
      "metadata": {
        "id": "ZU6BUFCRBmVU",
        "colab_type": "code",
        "colab": {
          "base_uri": "https://localhost:8080/",
          "height": 204
        },
        "outputId": "d95fc8c8-be45-4beb-b04f-0d720f20dcaf"
      },
      "source": [
        "# La nueva variable toma el valor 1 si el prestamista a incumplido\n",
        "\n",
        "data.head()"
      ],
      "execution_count": 15,
      "outputs": [
        {
          "output_type": "execute_result",
          "data": {
            "text/html": [
              "<div>\n",
              "<style scoped>\n",
              "    .dataframe tbody tr th:only-of-type {\n",
              "        vertical-align: middle;\n",
              "    }\n",
              "\n",
              "    .dataframe tbody tr th {\n",
              "        vertical-align: top;\n",
              "    }\n",
              "\n",
              "    .dataframe thead th {\n",
              "        text-align: right;\n",
              "    }\n",
              "</style>\n",
              "<table border=\"1\" class=\"dataframe\">\n",
              "  <thead>\n",
              "    <tr style=\"text-align: right;\">\n",
              "      <th></th>\n",
              "      <th>loan_amnt</th>\n",
              "      <th>int_rate</th>\n",
              "      <th>annual_inc</th>\n",
              "      <th>loan_status</th>\n",
              "      <th>open_acc</th>\n",
              "      <th>open_il_12m</th>\n",
              "      <th>defaulted</th>\n",
              "    </tr>\n",
              "  </thead>\n",
              "  <tbody>\n",
              "    <tr>\n",
              "      <th>2101510</th>\n",
              "      <td>9500</td>\n",
              "      <td>6.03</td>\n",
              "      <td>35000.0</td>\n",
              "      <td>Fully Paid</td>\n",
              "      <td>6.0</td>\n",
              "      <td>NaN</td>\n",
              "      <td>0</td>\n",
              "    </tr>\n",
              "    <tr>\n",
              "      <th>989937</th>\n",
              "      <td>20000</td>\n",
              "      <td>12.05</td>\n",
              "      <td>62000.0</td>\n",
              "      <td>Charged Off</td>\n",
              "      <td>12.0</td>\n",
              "      <td>NaN</td>\n",
              "      <td>0</td>\n",
              "    </tr>\n",
              "    <tr>\n",
              "      <th>195177</th>\n",
              "      <td>40000</td>\n",
              "      <td>13.56</td>\n",
              "      <td>70000.0</td>\n",
              "      <td>Current</td>\n",
              "      <td>20.0</td>\n",
              "      <td>2.0</td>\n",
              "      <td>0</td>\n",
              "    </tr>\n",
              "    <tr>\n",
              "      <th>946402</th>\n",
              "      <td>12000</td>\n",
              "      <td>13.18</td>\n",
              "      <td>37511.4</td>\n",
              "      <td>Current</td>\n",
              "      <td>10.0</td>\n",
              "      <td>0.0</td>\n",
              "      <td>0</td>\n",
              "    </tr>\n",
              "    <tr>\n",
              "      <th>2089029</th>\n",
              "      <td>10000</td>\n",
              "      <td>10.99</td>\n",
              "      <td>84000.0</td>\n",
              "      <td>Fully Paid</td>\n",
              "      <td>16.0</td>\n",
              "      <td>NaN</td>\n",
              "      <td>0</td>\n",
              "    </tr>\n",
              "  </tbody>\n",
              "</table>\n",
              "</div>"
            ],
            "text/plain": [
              "         loan_amnt  int_rate  annual_inc  ... open_acc  open_il_12m  defaulted\n",
              "2101510       9500      6.03     35000.0  ...      6.0          NaN          0\n",
              "989937       20000     12.05     62000.0  ...     12.0          NaN          0\n",
              "195177       40000     13.56     70000.0  ...     20.0          2.0          0\n",
              "946402       12000     13.18     37511.4  ...     10.0          0.0          0\n",
              "2089029      10000     10.99     84000.0  ...     16.0          NaN          0\n",
              "\n",
              "[5 rows x 7 columns]"
            ]
          },
          "metadata": {
            "tags": []
          },
          "execution_count": 15
        }
      ]
    },
    {
      "cell_type": "markdown",
      "metadata": {
        "id": "GM6UFJMHBuAD",
        "colab_type": "text"
      },
      "source": [
        "Comparemos las columnas de 'loan_status' y 'defaulted' para confirmar el resultado de la función anterior."
      ]
    },
    {
      "cell_type": "code",
      "metadata": {
        "id": "pf2eZ5GsBocD",
        "colab_type": "code",
        "colab": {
          "base_uri": "https://localhost:8080/",
          "height": 80
        },
        "outputId": "45208982-d31e-4a12-d00e-b9844e98bfee"
      },
      "source": [
        "# La nueva variable toma el valor 1 si el prestamista a incumplido\n",
        "\n",
        "data[data.loan_status.isin(['Default'])].head()"
      ],
      "execution_count": 16,
      "outputs": [
        {
          "output_type": "execute_result",
          "data": {
            "text/html": [
              "<div>\n",
              "<style scoped>\n",
              "    .dataframe tbody tr th:only-of-type {\n",
              "        vertical-align: middle;\n",
              "    }\n",
              "\n",
              "    .dataframe tbody tr th {\n",
              "        vertical-align: top;\n",
              "    }\n",
              "\n",
              "    .dataframe thead th {\n",
              "        text-align: right;\n",
              "    }\n",
              "</style>\n",
              "<table border=\"1\" class=\"dataframe\">\n",
              "  <thead>\n",
              "    <tr style=\"text-align: right;\">\n",
              "      <th></th>\n",
              "      <th>loan_amnt</th>\n",
              "      <th>int_rate</th>\n",
              "      <th>annual_inc</th>\n",
              "      <th>loan_status</th>\n",
              "      <th>open_acc</th>\n",
              "      <th>open_il_12m</th>\n",
              "      <th>defaulted</th>\n",
              "    </tr>\n",
              "  </thead>\n",
              "  <tbody>\n",
              "    <tr>\n",
              "      <th>1436214</th>\n",
              "      <td>24000</td>\n",
              "      <td>25.49</td>\n",
              "      <td>155000.0</td>\n",
              "      <td>Default</td>\n",
              "      <td>14.0</td>\n",
              "      <td>2.0</td>\n",
              "      <td>1</td>\n",
              "    </tr>\n",
              "  </tbody>\n",
              "</table>\n",
              "</div>"
            ],
            "text/plain": [
              "         loan_amnt  int_rate  annual_inc  ... open_acc  open_il_12m  defaulted\n",
              "1436214      24000     25.49    155000.0  ...     14.0          2.0          1\n",
              "\n",
              "[1 rows x 7 columns]"
            ]
          },
          "metadata": {
            "tags": []
          },
          "execution_count": 16
        }
      ]
    },
    {
      "cell_type": "code",
      "metadata": {
        "id": "QDWf_1vmBzmD",
        "colab_type": "code",
        "colab": {
          "base_uri": "https://localhost:8080/",
          "height": 34
        },
        "outputId": "8f093afa-4943-4518-8cb3-03fe2797a180"
      },
      "source": [
        "# Una variable binaria, puede tomar 2 valores. Por ejemplo, \n",
        "# la variable \"defaulted\" que acabamos de crear\n",
        "# toma el valor de uno si los pagos se incumplieron - préstamo no reembolsado (defaulted) (1) \n",
        "# o (0) si no es el caso.\n",
        "\n",
        "data.defaulted.unique()"
      ],
      "execution_count": 17,
      "outputs": [
        {
          "output_type": "execute_result",
          "data": {
            "text/plain": [
              "array([0, 1])"
            ]
          },
          "metadata": {
            "tags": []
          },
          "execution_count": 17
        }
      ]
    },
    {
      "cell_type": "code",
      "metadata": {
        "id": "e8jEKdsDB1xI",
        "colab_type": "code",
        "colab": {
          "base_uri": "https://localhost:8080/",
          "height": 313
        },
        "outputId": "4e50c9d2-040d-4848-df06-2b36d182d83e"
      },
      "source": [
        "# Creemos un histograma, aunque para una variable binaria no es la mejor opción.\n",
        "\n",
        "fig = data.defaulted.hist()\n",
        "fig.set_xlim(0, 2)\n",
        "fig.set_title('Préstamos no reembolsados')\n",
        "fig.set_xlabel('Número de créditos incumplidos')\n",
        "fig.set_ylabel('Número de préstamos')"
      ],
      "execution_count": 18,
      "outputs": [
        {
          "output_type": "execute_result",
          "data": {
            "text/plain": [
              "Text(0, 0.5, 'Número de préstamos')"
            ]
          },
          "metadata": {
            "tags": []
          },
          "execution_count": 18
        },
        {
          "output_type": "display_data",
          "data": {
            "image/png": "[encoded data removed]",
            "text/plain": [
              "<Figure size 432x288 with 1 Axes>"
            ]
          },
          "metadata": {
            "tags": [],
            "needs_background": "light"
          }
        }
      ]
    },
    {
      "cell_type": "markdown",
      "metadata": {
        "id": "qraXLJTgB6e5",
        "colab_type": "text"
      },
      "source": [
        "Podemos ver, que la variable toma 2 valores, 0 y 1, y que la mayoría de los préstamos estan bien (al día con los pagos).\n"
      ]
    },
    {
      "cell_type": "code",
      "metadata": {
        "id": "W4Ml1c7OB3q-",
        "colab_type": "code",
        "colab": {}
      },
      "source": [
        ""
      ],
      "execution_count": null,
      "outputs": []
    }
  ]
}