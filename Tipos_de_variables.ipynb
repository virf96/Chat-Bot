{
  "nbformat": 4,
  "nbformat_minor": 0,
  "metadata": {
    "colab": {
      "name": "Untitled1.ipynb",
      "provenance": [],
      "toc_visible": true,
      "include_colab_link": true
    },
    "kernelspec": {
      "name": "python3",
      "display_name": "Python 3"
    }
  },
  "cells": [
    {
      "cell_type": "markdown",
      "metadata": {
        "id": "view-in-github",
        "colab_type": "text"
      },
      "source": [
        "<a href=\"https://colab.research.google.com/github/virf96/Chat-Bot/blob/master/Tipos_de_variables.ipynb\" target=\"_parent\"><img src=\"https://colab.research.google.com/assets/colab-badge.svg\" alt=\"Open In Colab\"/></a>"
      ]
    },
    {
      "cell_type": "markdown",
      "metadata": {
        "id": "Yhy9Zo3dHmY-",
        "colab_type": "text"
      },
      "source": [
        "#¿Que es una variable?\n",
        "\n",
        "Una variable es cualquier característica, número o cantidad que puede ser medida o contado.\n",
        "\n",
        "#Tipos de Variables\n",
        "\n",
        "$Númericas$\n",
        "\n",
        "$\\bullet$ Discretas\n",
        "\n",
        "$\\bullet$ Continuas\n",
        "\n",
        "$\\bullet$ Binarias\n",
        "\n",
        "$Categóricas$\n",
        "\n",
        "$\\bullet$ Nominal\n",
        "\n",
        "$\\bullet$ Ordinal\n",
        "\n",
        "$\\bullet$ Fecha/Hora\n",
        "\n",
        "$Variables$ $Mixtas$\n",
        "\n",
        "$\\bullet$ Númericas y cadenas de caracteres\n"
      ]
    },
    {
      "cell_type": "code",
      "metadata": {
        "id": "eSKeLEqB8iXT",
        "colab_type": "code",
        "colab": {
          "base_uri": "https://localhost:8080/",
          "height": 122
        },
        "outputId": "58ee37e6-e3d7-4479-f43d-5b33b5e580d8"
      },
      "source": [
        "from google.colab import drive\n",
        "drive.mount('/content/drive')"
      ],
      "execution_count": 1,
      "outputs": [
        {
          "output_type": "stream",
          "text": [
            "Go to this URL in a browser: https://accounts.google.com/o/oauth2/auth?client_id=947318989803-6bn6qk8qdgf4n4g3pfee6491hc0brc4i.apps.googleusercontent.com&redirect_uri=urn%3aietf%3awg%3aoauth%3a2.0%3aoob&response_type=code&scope=email%20https%3a%2f%2fwww.googleapis.com%2fauth%2fdocs.test%20https%3a%2f%2fwww.googleapis.com%2fauth%2fdrive%20https%3a%2f%2fwww.googleapis.com%2fauth%2fdrive.photos.readonly%20https%3a%2f%2fwww.googleapis.com%2fauth%2fpeopleapi.readonly\n",
            "\n",
            "Enter your authorization code:\n",
            "··········\n",
            "Mounted at /content/drive\n"
          ],
          "name": "stdout"
        }
      ]
    },
    {
      "cell_type": "code",
      "metadata": {
        "id": "XV-VwyId9M9T",
        "colab_type": "code",
        "colab": {}
      },
      "source": [
        "import numpy as np\n",
        "import pandas as pd"
      ],
      "execution_count": 2,
      "outputs": []
    },
    {
      "cell_type": "code",
      "metadata": {
        "id": "QfH_Y_61-6HX",
        "colab_type": "code",
        "colab": {}
      },
      "source": [
        "# Definición de las variables del set de datos:\n",
        "#-------------------------\n",
        "# loan_amnt: Valor del préstamo\n",
        "# int_rate:  tasa de interés\n",
        "# annual_inc: salario anual \n",
        "# open_acc: número de cuentas bancarias abiertas (más detalles más adelante)\n",
        "# loan_status: estado del préstamo (paid (pagado), defaulted (pago incumplido), etc)\n",
        "# open_il_12m: cuentas abiertas en los últimos 12 meses\n",
        "\n",
        "use_cols = [\n",
        "    'loan_amnt', 'int_rate', 'annual_inc', 'open_acc', 'loan_status',\n",
        "    'open_il_12m'\n",
        "]\n",
        "\n",
        "# Carguemos los datos con solo unas columnas y unas pocas filas para \n",
        "# facilitar y reducir el tiempo que toma correr el demo.\n",
        "\n",
        "data = pd.read_csv('/content/drive/My Drive/datasets/loan.csv', usecols=use_cols).sample(\n",
        "    10000, random_state=60)  # fijamos la semilla o \"seed\" para poder reproducir resultados"
      ],
      "execution_count": 3,
      "outputs": []
    },
    {
      "cell_type": "code",
      "metadata": {
        "id": "n6mKrwV19LE5",
        "colab_type": "code",
        "colab": {
          "base_uri": "https://localhost:8080/",
          "height": 204
        },
        "outputId": "4a0aa7dd-76fa-4f21-c420-ed6848738933"
      },
      "source": [
        "data.head()"
      ],
      "execution_count": null,
      "outputs": [
        {
          "output_type": "execute_result",
          "data": {
            "text/html": [
              "<div>\n",
              "<style scoped>\n",
              "    .dataframe tbody tr th:only-of-type {\n",
              "        vertical-align: middle;\n",
              "    }\n",
              "\n",
              "    .dataframe tbody tr th {\n",
              "        vertical-align: top;\n",
              "    }\n",
              "\n",
              "    .dataframe thead th {\n",
              "        text-align: right;\n",
              "    }\n",
              "</style>\n",
              "<table border=\"1\" class=\"dataframe\">\n",
              "  <thead>\n",
              "    <tr style=\"text-align: right;\">\n",
              "      <th></th>\n",
              "      <th>loan_amnt</th>\n",
              "      <th>int_rate</th>\n",
              "      <th>annual_inc</th>\n",
              "      <th>loan_status</th>\n",
              "      <th>open_acc</th>\n",
              "      <th>open_il_12m</th>\n",
              "    </tr>\n",
              "  </thead>\n",
              "  <tbody>\n",
              "    <tr>\n",
              "      <th>2101510</th>\n",
              "      <td>9500</td>\n",
              "      <td>6.03</td>\n",
              "      <td>35000.0</td>\n",
              "      <td>Fully Paid</td>\n",
              "      <td>6.0</td>\n",
              "      <td>NaN</td>\n",
              "    </tr>\n",
              "    <tr>\n",
              "      <th>989937</th>\n",
              "      <td>20000</td>\n",
              "      <td>12.05</td>\n",
              "      <td>62000.0</td>\n",
              "      <td>Charged Off</td>\n",
              "      <td>12.0</td>\n",
              "      <td>NaN</td>\n",
              "    </tr>\n",
              "    <tr>\n",
              "      <th>195177</th>\n",
              "      <td>40000</td>\n",
              "      <td>13.56</td>\n",
              "      <td>70000.0</td>\n",
              "      <td>Current</td>\n",
              "      <td>20.0</td>\n",
              "      <td>2.0</td>\n",
              "    </tr>\n",
              "    <tr>\n",
              "      <th>946402</th>\n",
              "      <td>12000</td>\n",
              "      <td>13.18</td>\n",
              "      <td>37511.4</td>\n",
              "      <td>Current</td>\n",
              "      <td>10.0</td>\n",
              "      <td>0.0</td>\n",
              "    </tr>\n",
              "    <tr>\n",
              "      <th>2089029</th>\n",
              "      <td>10000</td>\n",
              "      <td>10.99</td>\n",
              "      <td>84000.0</td>\n",
              "      <td>Fully Paid</td>\n",
              "      <td>16.0</td>\n",
              "      <td>NaN</td>\n",
              "    </tr>\n",
              "  </tbody>\n",
              "</table>\n",
              "</div>"
            ],
            "text/plain": [
              "         loan_amnt  int_rate  annual_inc  loan_status  open_acc  open_il_12m\n",
              "2101510       9500      6.03     35000.0   Fully Paid       6.0          NaN\n",
              "989937       20000     12.05     62000.0  Charged Off      12.0          NaN\n",
              "195177       40000     13.56     70000.0      Current      20.0          2.0\n",
              "946402       12000     13.18     37511.4      Current      10.0          0.0\n",
              "2089029      10000     10.99     84000.0   Fully Paid      16.0          NaN"
            ]
          },
          "metadata": {
            "tags": []
          },
          "execution_count": 4
        }
      ]
    },
    {
      "cell_type": "code",
      "metadata": {
        "id": "xv9_TTo_CtPh",
        "colab_type": "code",
        "colab": {
          "base_uri": "https://localhost:8080/",
          "height": 34
        },
        "outputId": "af68f858-c38e-4146-e889-bf0bc3fd0230"
      },
      "source": [
        "len(data.loan_amnt)"
      ],
      "execution_count": null,
      "outputs": [
        {
          "output_type": "execute_result",
          "data": {
            "text/plain": [
              "10000"
            ]
          },
          "metadata": {
            "tags": []
          },
          "execution_count": 5
        }
      ]
    },
    {
      "cell_type": "markdown",
      "metadata": {
        "id": "UcJE7vJJCFvS",
        "colab_type": "text"
      },
      "source": [
        "#Variables Continuas\n",
        "\n",
        "Una variable que puede tomar cualquier valor en un rango\n",
        "\n",
        "$Ejemplo$\n",
        "\n",
        "$\\bullet$ Pago en un supermercado ($32.50$,$12$,$5.20$)\n",
        "\n",
        "$\\bullet$ Precio de una casa ($350,000$ , $57,000$ , $1,000,000$)\n",
        "\n",
        "$\\bullet$ Tiempo navengando en una página web ($3.4$ segundos, $5.10$ segundos,...)\n",
        "\n",
        "$\\bullet$ Deuda total como porcentaje de ingreso mensual (20%,1%,75%,...)\n"
      ]
    },
    {
      "cell_type": "code",
      "metadata": {
        "id": "0lbDq-edAaHA",
        "colab_type": "code",
        "colab": {
          "base_uri": "https://localhost:8080/",
          "height": 313
        },
        "outputId": "23c28bf1-96c1-4571-a74c-65f0f86cd237"
      },
      "source": [
        "# Examinemenos el histograma para familiarizarnos con la\n",
        "# distribución de la variable\n",
        "\n",
        "fig = data.loan_amnt.hist(bins=50)\n",
        "\n",
        "fig.set_title('Valor del préstamo')\n",
        "fig.set_xlabel('Valor del préstamo')\n",
        "fig.set_ylabel('Número de préstamos')"
      ],
      "execution_count": null,
      "outputs": [
        {
          "output_type": "execute_result",
          "data": {
            "text/plain": [
              "Text(0, 0.5, 'Número de préstamos')"
            ]
          },
          "metadata": {
            "tags": []
          },
          "execution_count": 6
        },
        {
          "output_type": "display_data",
          "data": {
            "image/png": "[encoded data removed]",
            "text/plain": [
              "<Figure size 432x288 with 1 Axes>"
            ]
          },
          "metadata": {
            "tags": [],
            "needs_background": "light"
          }
        }
      ]
    },
    {
      "cell_type": "code",
      "metadata": {
        "id": "pfuY-y8KAa5f",
        "colab_type": "code",
        "colab": {
          "base_uri": "https://localhost:8080/",
          "height": 312
        },
        "outputId": "b795dd5e-c9df-4aff-8d3e-8b75913db26d"
      },
      "source": [
        "# Creemos un histograma para familiarizarnos con la \n",
        "# distribución de la variable\n",
        "\n",
        "fig = data.int_rate.hist(bins=30)\n",
        "\n",
        "fig.set_title('Tasa de interés')\n",
        "fig.set_xlabel('Tasa de interés')\n",
        "fig.set_ylabel('Número de préstamos')"
      ],
      "execution_count": null,
      "outputs": [
        {
          "output_type": "execute_result",
          "data": {
            "text/plain": [
              "Text(0, 0.5, 'Número de préstamos')"
            ]
          },
          "metadata": {
            "tags": []
          },
          "execution_count": 7
        },
        {
          "output_type": "display_data",
          "data": {
            "image/png": "[encoded data removed]",
            "text/plain": [
              "<Figure size 432x288 with 1 Axes>"
            ]
          },
          "metadata": {
            "tags": [],
            "needs_background": "light"
          }
        }
      ]
    },
    {
      "cell_type": "code",
      "metadata": {
        "id": "-kyiLanaAi1M",
        "colab_type": "code",
        "colab": {
          "base_uri": "https://localhost:8080/",
          "height": 312
        },
        "outputId": "ef730f1a-ef29-465a-e114-aa695b2f9648"
      },
      "source": [
        "# Ahora, exploremos el salario anual declarado por cada uno de los clientes\n",
        "\n",
        "# Esta variable es también continua\n",
        "\n",
        "fig = data.annual_inc.hist(bins=100)\n",
        "\n",
        "# para visualizarla mejor, restringiremos \n",
        "# el rango del eje x\n",
        "fig.set_xlim(0, 400000)\n",
        "\n",
        "# Título y leyendas para los ejes.\n",
        "fig.set_title(\"Clientes Salario Anual\")\n",
        "fig.set_xlabel('Salario Anual')\n",
        "fig.set_ylabel('Número de Clientes')"
      ],
      "execution_count": null,
      "outputs": [
        {
          "output_type": "execute_result",
          "data": {
            "text/plain": [
              "Text(0, 0.5, 'Número de Clientes')"
            ]
          },
          "metadata": {
            "tags": []
          },
          "execution_count": 8
        },
        {
          "output_type": "display_data",
          "data": {
            "image/png": "[encoded data removed]",
            "text/plain": [
              "<Figure size 432x288 with 1 Axes>"
            ]
          },
          "metadata": {
            "tags": [],
            "needs_background": "light"
          }
        }
      ]
    },
    {
      "cell_type": "markdown",
      "metadata": {
        "id": "qk_qzczVCWGM",
        "colab_type": "text"
      },
      "source": [
        "#VARIABLES DISCRETAS\n",
        "\n",
        "Una variables cuyos valores son números enteros.\n",
        "\n",
        "$Ejemplo$\n",
        "\n",
        "$\\bullet$ Número de productos comprados en un supermercado (10,50,...)\n",
        "\n",
        "$\\bullet$ Número de cuentas bancarias activas (1,4,7,...)\n",
        "\n",
        "$\\bullet$ Número de mascotas en una familia\n",
        "\n",
        "$\\bullet$ Número de hijos en una familia\n"
      ]
    },
    {
      "cell_type": "markdown",
      "metadata": {
        "id": "ZpOJoKhNAwLP",
        "colab_type": "text"
      },
      "source": [
        "Exploremos la variable \"Número de líneas de crédito abiertas en el expediente de crédito del prestamista\" (open_acc en los datos). Esta variable representa el número total de productos en diferentes líneas de crédito  (por ejemplo tarjetas de crédito, préstamos para carros, hipotecas, etc.) que se conocen del prestamista. Por definición, es una variable discreta, porque el prestamista puede tener 1 tarjeta de crédito, pero no 3.5 tarjetas de crédito. Y en principio, un cliente puede tener solo un número finito de cuentas bancarias."
      ]
    },
    {
      "cell_type": "code",
      "metadata": {
        "id": "jazJhLTQAqvV",
        "colab_type": "code",
        "colab": {
          "base_uri": "https://localhost:8080/",
          "height": 85
        },
        "outputId": "3de84cd7-80fc-4797-8e1e-e1c088972422"
      },
      "source": [
        "# Examinemos los valores de la variable \n",
        "\n",
        "# esta es una variable discreta\n",
        "data.open_acc.dropna().unique()"
      ],
      "execution_count": null,
      "outputs": [
        {
          "output_type": "execute_result",
          "data": {
            "text/plain": [
              "array([ 6., 12., 20., 10., 16.,  8.,  7.,  4.,  2.,  9., 19., 28., 14.,\n",
              "       23., 18., 15.,  5., 13., 11., 27., 22., 17., 24., 41., 21., 35.,\n",
              "       32.,  3., 26., 25., 31., 39., 36.,  1., 48., 30., 33., 52., 38.,\n",
              "       29., 40., 37., 72., 34., 43.])"
            ]
          },
          "metadata": {
            "tags": []
          },
          "execution_count": 9
        }
      ]
    },
    {
      "cell_type": "code",
      "metadata": {
        "id": "fEhBHcdXA6Wc",
        "colab_type": "code",
        "colab": {
          "base_uri": "https://localhost:8080/",
          "height": 312
        },
        "outputId": "e1030eb9-5ebb-4fd7-d8e5-2f0aafd49738"
      },
      "source": [
        "# Creemos un histograma para familiarizarnos con la \n",
        "# distribución de la variable\n",
        "\n",
        "fig = data.open_acc.hist(bins=100)\n",
        "\n",
        "# para visualizarla mejor, restringiremos \n",
        "# el rango del eje x\n",
        "fig.set_xlim(0, 30)\n",
        "\n",
        "# Título y leyendas para los ejes.\n",
        "fig.set_title('Número de cuentas abiertas')\n",
        "fig.set_xlabel('Número de cuentas abiertas')\n",
        "fig.set_ylabel('Número de Clientes')"
      ],
      "execution_count": null,
      "outputs": [
        {
          "output_type": "execute_result",
          "data": {
            "text/plain": [
              "Text(0, 0.5, 'Número de Clientes')"
            ]
          },
          "metadata": {
            "tags": []
          },
          "execution_count": 10
        },
        {
          "output_type": "display_data",
          "data": {
            "image/png": "[encoded data removed]",
            "text/plain": [
              "<Figure size 432x288 with 1 Axes>"
            ]
          },
          "metadata": {
            "tags": [],
            "needs_background": "light"
          }
        }
      ]
    },
    {
      "cell_type": "markdown",
      "metadata": {
        "id": "8btwPC5_BI3G",
        "colab_type": "text"
      },
      "source": [
        "Los histogramas de las variables discretas parecen 'quebrados', ya que no todos los valores dentro del rango posible (de la variable) están presentes. Como ya mencionamos, un cliente puede tener 3 tarjetas de crédito, pero no 3.5 tarjetas de créditos.\n",
        "\n",
        "Miremos otro ejemplo de una variable discreta en estos datos: **Número de préstamos a plazos o término fijo, tomados en los últimos 12 meses** (open_il_12m en los datos). Préstamos a plazos son los que al momento de adquirirlos, tienen un periodo fijo y un número de pagos acordados previamente entre el prestamista y la institución de crédito.  Un ejemplo son los préstamos para carros, o préstamos para estudiantes. El prestamista sabe que deberá pagar la deuda con un número fijo de cuotas con un valor predeterminado, por ejemplo $2,000 en 36 meses."
      ]
    },
    {
      "cell_type": "code",
      "metadata": {
        "id": "Ybtzo-UZA9B_",
        "colab_type": "code",
        "colab": {
          "base_uri": "https://localhost:8080/",
          "height": 34
        },
        "outputId": "6e039843-20ec-474b-99af-58d5c5173dfe"
      },
      "source": [
        "# Examinemos los valores de la variable\n",
        "\n",
        "data.open_il_12m.unique()"
      ],
      "execution_count": null,
      "outputs": [
        {
          "output_type": "execute_result",
          "data": {
            "text/plain": [
              "array([nan,  2.,  0.,  5.,  1.,  3.,  4.,  7.,  6.])"
            ]
          },
          "metadata": {
            "tags": []
          },
          "execution_count": 11
        }
      ]
    },
    {
      "cell_type": "code",
      "metadata": {
        "id": "aM7RnL3XBTXK",
        "colab_type": "code",
        "colab": {
          "base_uri": "https://localhost:8080/",
          "height": 313
        },
        "outputId": "e23cdc22-bab6-4980-c490-d343ee99f123"
      },
      "source": [
        "# Creemos un histograma para familiarizarnos con la \n",
        "# distribución de la variable\n",
        "\n",
        "fig = data.open_il_12m.hist(bins=50)\n",
        "fig.set_title('Número de créditos a término fijo abiertos en los últimos 12 meses')\n",
        "fig.set_xlabel('Número de créditos a término fijo abiertos en los últimos 12 meses')\n",
        "fig.set_ylabel('Número de Prestamistas')"
      ],
      "execution_count": null,
      "outputs": [
        {
          "output_type": "execute_result",
          "data": {
            "text/plain": [
              "Text(0, 0.5, 'Número de Prestamistas')"
            ]
          },
          "metadata": {
            "tags": []
          },
          "execution_count": 12
        },
        {
          "output_type": "display_data",
          "data": {
            "image/png": "[encoded data removed]",
            "text/plain": [
              "<Figure size 432x288 with 1 Axes>"
            ]
          },
          "metadata": {
            "tags": [],
            "needs_background": "light"
          }
        }
      ]
    },
    {
      "cell_type": "markdown",
      "metadata": {
        "id": "bOl8X9grBc4O",
        "colab_type": "text"
      },
      "source": [
        "La mayoría de los prestamistas no tienen o solo han abierto 1 línea de crédito a termino fijo, con tan solo unos pocos prestamistas con 2 o más."
      ]
    },
    {
      "cell_type": "markdown",
      "metadata": {
        "id": "p9HL2FA9BdM_",
        "colab_type": "text"
      },
      "source": [
        "### Una variación de las variables discretas: variables binarias\n",
        "\n",
        "Las variables binarias, son variables discretas, que tan solo toman 2 valores, y por lo tanto son binarias.\n",
        "\n",
        "En las próximas celdas, crearemos una variable adicional que capture el número de préstamos que el prestamista ha incumplido en pagar (en inglés 'defaulted') y por lo tanto se considera que el dinero se ha perdido.\n",
        "\n",
        "La variable toma valores de 0 cuando el préstamo está bien, es decir, que los pagos se han hecho regularmente o 1, cuando el prestamista ha confirmado que no podrá pagar más cuotas del préstamo."
      ]
    },
    {
      "cell_type": "code",
      "metadata": {
        "id": "X9UPHvWUBVb-",
        "colab_type": "code",
        "colab": {
          "base_uri": "https://localhost:8080/",
          "height": 102
        },
        "outputId": "16708c09-78f2-45e0-c68c-8551e20ae476"
      },
      "source": [
        "# Examinemos los valores de la variable loan_status\n",
        "\n",
        "data.loan_status.unique()"
      ],
      "execution_count": null,
      "outputs": [
        {
          "output_type": "execute_result",
          "data": {
            "text/plain": [
              "array(['Fully Paid', 'Charged Off', 'Current', 'Late (31-120 days)',\n",
              "       'In Grace Period', 'Late (16-30 days)',\n",
              "       'Does not meet the credit policy. Status:Fully Paid',\n",
              "       'Does not meet the credit policy. Status:Charged Off', 'Default'],\n",
              "      dtype=object)"
            ]
          },
          "metadata": {
            "tags": []
          },
          "execution_count": 13
        }
      ]
    },
    {
      "cell_type": "code",
      "metadata": {
        "id": "ds4CdNzmBkF2",
        "colab_type": "code",
        "colab": {
          "base_uri": "https://localhost:8080/",
          "height": 34
        },
        "outputId": "04ca8e20-97d5-4184-d884-b070a7109362"
      },
      "source": [
        "# Creemos una variable adicional llamada \"defaulted\".\n",
        "# Esta variable indica si el prestamista ha incumplido con sus pagos y que el dinero\n",
        "# se considera perdido - préstamo no reembolsado\n",
        "\n",
        "data['defaulted'] = np.where(data.loan_status.isin(['Default']), 1, 0)\n",
        "data.defaulted.mean()"
      ],
      "execution_count": null,
      "outputs": [
        {
          "output_type": "execute_result",
          "data": {
            "text/plain": [
              "0.0001"
            ]
          },
          "metadata": {
            "tags": []
          },
          "execution_count": 14
        }
      ]
    },
    {
      "cell_type": "code",
      "metadata": {
        "id": "ZU6BUFCRBmVU",
        "colab_type": "code",
        "colab": {
          "base_uri": "https://localhost:8080/",
          "height": 204
        },
        "outputId": "ce821fa5-0923-480e-a238-3255ee03dcb3"
      },
      "source": [
        "# La nueva variable toma el valor 1 si el prestamista a incumplido\n",
        "\n",
        "data.head()"
      ],
      "execution_count": null,
      "outputs": [
        {
          "output_type": "execute_result",
          "data": {
            "text/html": [
              "<div>\n",
              "<style scoped>\n",
              "    .dataframe tbody tr th:only-of-type {\n",
              "        vertical-align: middle;\n",
              "    }\n",
              "\n",
              "    .dataframe tbody tr th {\n",
              "        vertical-align: top;\n",
              "    }\n",
              "\n",
              "    .dataframe thead th {\n",
              "        text-align: right;\n",
              "    }\n",
              "</style>\n",
              "<table border=\"1\" class=\"dataframe\">\n",
              "  <thead>\n",
              "    <tr style=\"text-align: right;\">\n",
              "      <th></th>\n",
              "      <th>loan_amnt</th>\n",
              "      <th>int_rate</th>\n",
              "      <th>annual_inc</th>\n",
              "      <th>loan_status</th>\n",
              "      <th>open_acc</th>\n",
              "      <th>open_il_12m</th>\n",
              "      <th>defaulted</th>\n",
              "    </tr>\n",
              "  </thead>\n",
              "  <tbody>\n",
              "    <tr>\n",
              "      <th>2101510</th>\n",
              "      <td>9500</td>\n",
              "      <td>6.03</td>\n",
              "      <td>35000.0</td>\n",
              "      <td>Fully Paid</td>\n",
              "      <td>6.0</td>\n",
              "      <td>NaN</td>\n",
              "      <td>0</td>\n",
              "    </tr>\n",
              "    <tr>\n",
              "      <th>989937</th>\n",
              "      <td>20000</td>\n",
              "      <td>12.05</td>\n",
              "      <td>62000.0</td>\n",
              "      <td>Charged Off</td>\n",
              "      <td>12.0</td>\n",
              "      <td>NaN</td>\n",
              "      <td>0</td>\n",
              "    </tr>\n",
              "    <tr>\n",
              "      <th>195177</th>\n",
              "      <td>40000</td>\n",
              "      <td>13.56</td>\n",
              "      <td>70000.0</td>\n",
              "      <td>Current</td>\n",
              "      <td>20.0</td>\n",
              "      <td>2.0</td>\n",
              "      <td>0</td>\n",
              "    </tr>\n",
              "    <tr>\n",
              "      <th>946402</th>\n",
              "      <td>12000</td>\n",
              "      <td>13.18</td>\n",
              "      <td>37511.4</td>\n",
              "      <td>Current</td>\n",
              "      <td>10.0</td>\n",
              "      <td>0.0</td>\n",
              "      <td>0</td>\n",
              "    </tr>\n",
              "    <tr>\n",
              "      <th>2089029</th>\n",
              "      <td>10000</td>\n",
              "      <td>10.99</td>\n",
              "      <td>84000.0</td>\n",
              "      <td>Fully Paid</td>\n",
              "      <td>16.0</td>\n",
              "      <td>NaN</td>\n",
              "      <td>0</td>\n",
              "    </tr>\n",
              "  </tbody>\n",
              "</table>\n",
              "</div>"
            ],
            "text/plain": [
              "         loan_amnt  int_rate  annual_inc  ... open_acc  open_il_12m  defaulted\n",
              "2101510       9500      6.03     35000.0  ...      6.0          NaN          0\n",
              "989937       20000     12.05     62000.0  ...     12.0          NaN          0\n",
              "195177       40000     13.56     70000.0  ...     20.0          2.0          0\n",
              "946402       12000     13.18     37511.4  ...     10.0          0.0          0\n",
              "2089029      10000     10.99     84000.0  ...     16.0          NaN          0\n",
              "\n",
              "[5 rows x 7 columns]"
            ]
          },
          "metadata": {
            "tags": []
          },
          "execution_count": 15
        }
      ]
    },
    {
      "cell_type": "markdown",
      "metadata": {
        "id": "GM6UFJMHBuAD",
        "colab_type": "text"
      },
      "source": [
        "Comparemos las columnas de 'loan_status' y 'defaulted' para confirmar el resultado de la función anterior."
      ]
    },
    {
      "cell_type": "code",
      "metadata": {
        "id": "pf2eZ5GsBocD",
        "colab_type": "code",
        "colab": {
          "base_uri": "https://localhost:8080/",
          "height": 80
        },
        "outputId": "817466c0-b05c-4817-9a5b-e993d500cff3"
      },
      "source": [
        "# La nueva variable toma el valor 1 si el prestamista a incumplido\n",
        "\n",
        "data[data.loan_status.isin(['Default'])].head()"
      ],
      "execution_count": null,
      "outputs": [
        {
          "output_type": "execute_result",
          "data": {
            "text/html": [
              "<div>\n",
              "<style scoped>\n",
              "    .dataframe tbody tr th:only-of-type {\n",
              "        vertical-align: middle;\n",
              "    }\n",
              "\n",
              "    .dataframe tbody tr th {\n",
              "        vertical-align: top;\n",
              "    }\n",
              "\n",
              "    .dataframe thead th {\n",
              "        text-align: right;\n",
              "    }\n",
              "</style>\n",
              "<table border=\"1\" class=\"dataframe\">\n",
              "  <thead>\n",
              "    <tr style=\"text-align: right;\">\n",
              "      <th></th>\n",
              "      <th>loan_amnt</th>\n",
              "      <th>int_rate</th>\n",
              "      <th>annual_inc</th>\n",
              "      <th>loan_status</th>\n",
              "      <th>open_acc</th>\n",
              "      <th>open_il_12m</th>\n",
              "      <th>defaulted</th>\n",
              "    </tr>\n",
              "  </thead>\n",
              "  <tbody>\n",
              "    <tr>\n",
              "      <th>1436214</th>\n",
              "      <td>24000</td>\n",
              "      <td>25.49</td>\n",
              "      <td>155000.0</td>\n",
              "      <td>Default</td>\n",
              "      <td>14.0</td>\n",
              "      <td>2.0</td>\n",
              "      <td>1</td>\n",
              "    </tr>\n",
              "  </tbody>\n",
              "</table>\n",
              "</div>"
            ],
            "text/plain": [
              "         loan_amnt  int_rate  annual_inc  ... open_acc  open_il_12m  defaulted\n",
              "1436214      24000     25.49    155000.0  ...     14.0          2.0          1\n",
              "\n",
              "[1 rows x 7 columns]"
            ]
          },
          "metadata": {
            "tags": []
          },
          "execution_count": 16
        }
      ]
    },
    {
      "cell_type": "code",
      "metadata": {
        "id": "QDWf_1vmBzmD",
        "colab_type": "code",
        "colab": {
          "base_uri": "https://localhost:8080/",
          "height": 34
        },
        "outputId": "288015c5-a901-44ff-de4a-ffe13238d3e1"
      },
      "source": [
        "# Una variable binaria, puede tomar 2 valores. Por ejemplo, \n",
        "# la variable \"defaulted\" que acabamos de crear\n",
        "# toma el valor de uno si los pagos se incumplieron - préstamo no reembolsado (defaulted) (1) \n",
        "# o (0) si no es el caso.\n",
        "\n",
        "data.defaulted.unique()"
      ],
      "execution_count": null,
      "outputs": [
        {
          "output_type": "execute_result",
          "data": {
            "text/plain": [
              "array([0, 1])"
            ]
          },
          "metadata": {
            "tags": []
          },
          "execution_count": 17
        }
      ]
    },
    {
      "cell_type": "code",
      "metadata": {
        "id": "e8jEKdsDB1xI",
        "colab_type": "code",
        "colab": {
          "base_uri": "https://localhost:8080/",
          "height": 313
        },
        "outputId": "6ada4a21-81e7-4fed-e858-2d0070d5cd1f"
      },
      "source": [
        "# Creemos un histograma, aunque para una variable binaria no es la mejor opción.\n",
        "\n",
        "fig = data.defaulted.hist()\n",
        "fig.set_xlim(0, 2)\n",
        "fig.set_title('Préstamos no reembolsados')\n",
        "fig.set_xlabel('Número de créditos incumplidos')\n",
        "fig.set_ylabel('Número de préstamos')"
      ],
      "execution_count": null,
      "outputs": [
        {
          "output_type": "execute_result",
          "data": {
            "text/plain": [
              "Text(0, 0.5, 'Número de préstamos')"
            ]
          },
          "metadata": {
            "tags": []
          },
          "execution_count": 18
        },
        {
          "output_type": "display_data",
          "data": {
            "image/png": "[encoded data removed]",
            "text/plain": [
              "<Figure size 432x288 with 1 Axes>"
            ]
          },
          "metadata": {
            "tags": [],
            "needs_background": "light"
          }
        }
      ]
    },
    {
      "cell_type": "markdown",
      "metadata": {
        "id": "qraXLJTgB6e5",
        "colab_type": "text"
      },
      "source": [
        "Podemos ver, que la variable toma 2 valores, 0 y 1, y que la mayoría de los préstamos estan bien (al día con los pagos).\n"
      ]
    },
    {
      "cell_type": "markdown",
      "metadata": {
        "id": "IG1fLHWF1mMC",
        "colab_type": "text"
      },
      "source": [
        "\n",
        "#VARIABLES CATEGÓRICAS\n",
        "\n",
        "Contienen un número finito de categorías o etiquetas y pueden tener o no un orden lógico.\n",
        "\n",
        "$\\bullet$ Estado civil (Soltero,Casado,...)\n",
        "\n",
        "$\\bullet$ Género (masculino, femenino)\n",
        "\n",
        "$\\bullet$ Próposito del prestamo (vacaciones, compra vehículo,...)\n",
        "\n",
        "$\\bullet$ Proveeedor de red celular (Vodafone, Orange,...)\n",
        "\n",
        "#VARIABLES ORDINALES\n",
        "\n",
        "Variables categóricas cuyos valores representan una categoría o grupo con alguna clasificación intrínseca.\n",
        "\n",
        "$\\bullet$ Puntuación examen estudiantil (A,B ,C ó D)\n",
        "\n",
        "$\\bullet$ Días de la semana (Lunes=1,...,Domingo=7)\n",
        "\n",
        "$\\bullet$ Nivel de educación (Primaria=1,Secundaria=2,...,Maestría=5)\n",
        "\n",
        "#VARIABLES NOMINALES\n",
        "\n",
        "Cuando sus valores representan valores categorías que no obedecen a una clasificación intrínseca u orden lógico.\n",
        "\n",
        "$\\bullet$ País de nacimiento (Argentina, Inglaterra,Colombia, etc)\n",
        "\n",
        "$\\bullet$ Código Postal\n",
        "\n",
        "$\\bullet$ Marca de vehículo (Citroen,Peugeot,etc)\n"
      ]
    },
    {
      "cell_type": "markdown",
      "metadata": {
        "id": "r_BLPqjC3Vv0",
        "colab_type": "text"
      },
      "source": [
        "**Para considerar:**\n",
        "\n",
        "Algunas variables categóricas están codificadas como números cuando los datos son generados y guardados (ej. género puede codificado como 0 para masculino y 1 para femenino). La variable sigue siendo categórica, a pesar de que los valores sean numéricos.\n",
        "\n",
        "Igualmente, personas que responden una encuesta pueden ser codificados con un número que los identifica de forma única (por ejemplo para evitar guardar información personal por cuestiones de confidencialidad). Este número es realmente una categoría, y la variable por lo tanto categórica. El número no tiene ningún significado, aparte de hacer posible la identificación única de la observación (en este caso, la persona encuestada).\n",
        "\n",
        "Cuando trabajamos con un conjunto de datos en un escenario de negocios, los datos suelen estar acompañados de un “diccionario” que indica si los números en una variable deben ser considerados como categorías o como valores numéricos. Y si los números representan categorías, el diccionario explicaría que representa cada uno de los valores en la variable. \n"
      ]
    },
    {
      "cell_type": "code",
      "metadata": {
        "id": "W4Ml1c7OB3q-",
        "colab_type": "code",
        "colab": {}
      },
      "source": [
        "import matplotlib.pyplot as plt"
      ],
      "execution_count": null,
      "outputs": []
    },
    {
      "cell_type": "code",
      "metadata": {
        "id": "AzTBVEwt3Y4M",
        "colab_type": "code",
        "colab": {
          "base_uri": "https://localhost:8080/",
          "height": 204
        },
        "outputId": "f1c12fff-c2ea-405f-fbfd-206bd8b31ba0"
      },
      "source": [
        "# Definición de las variables:\n",
        "#-------------------------\n",
        "# loan_status: estado del préstamo (paid (pagado), defaulted (pago no reembolsado), etc)\n",
        "# purpose: propósito/intención de uso del préstamo \n",
        "# home_ownership: si el prestamista es dueño o arrienda la propiedad que habita.\n",
        "\n",
        "use_cols = ['id', 'purpose', 'loan_status', 'home_ownership']\n",
        "\n",
        "# Carguemos los datos con solo unas columnas y unas pocas filas para \n",
        "# facilitar y reducir el tiempo que toma correr el demo.\n",
        "\n",
        "data = pd.read_csv('/content/drive/My Drive/datasets/loan.csv', usecols=use_cols).sample(\n",
        "    10000, random_state=44)  # fijamos la semilla o \"seed\" para poder reproducir resultados\n",
        "\n",
        "data.head()"
      ],
      "execution_count": null,
      "outputs": [
        {
          "output_type": "execute_result",
          "data": {
            "text/html": [
              "<div>\n",
              "<style scoped>\n",
              "    .dataframe tbody tr th:only-of-type {\n",
              "        vertical-align: middle;\n",
              "    }\n",
              "\n",
              "    .dataframe tbody tr th {\n",
              "        vertical-align: top;\n",
              "    }\n",
              "\n",
              "    .dataframe thead th {\n",
              "        text-align: right;\n",
              "    }\n",
              "</style>\n",
              "<table border=\"1\" class=\"dataframe\">\n",
              "  <thead>\n",
              "    <tr style=\"text-align: right;\">\n",
              "      <th></th>\n",
              "      <th>id</th>\n",
              "      <th>home_ownership</th>\n",
              "      <th>loan_status</th>\n",
              "      <th>purpose</th>\n",
              "    </tr>\n",
              "  </thead>\n",
              "  <tbody>\n",
              "    <tr>\n",
              "      <th>70642</th>\n",
              "      <td>NaN</td>\n",
              "      <td>MORTGAGE</td>\n",
              "      <td>Current</td>\n",
              "      <td>other</td>\n",
              "    </tr>\n",
              "    <tr>\n",
              "      <th>490788</th>\n",
              "      <td>NaN</td>\n",
              "      <td>MORTGAGE</td>\n",
              "      <td>Current</td>\n",
              "      <td>debt_consolidation</td>\n",
              "    </tr>\n",
              "    <tr>\n",
              "      <th>2081591</th>\n",
              "      <td>NaN</td>\n",
              "      <td>MORTGAGE</td>\n",
              "      <td>Charged Off</td>\n",
              "      <td>debt_consolidation</td>\n",
              "    </tr>\n",
              "    <tr>\n",
              "      <th>900431</th>\n",
              "      <td>NaN</td>\n",
              "      <td>MORTGAGE</td>\n",
              "      <td>Fully Paid</td>\n",
              "      <td>home_improvement</td>\n",
              "    </tr>\n",
              "    <tr>\n",
              "      <th>781582</th>\n",
              "      <td>NaN</td>\n",
              "      <td>MORTGAGE</td>\n",
              "      <td>Fully Paid</td>\n",
              "      <td>debt_consolidation</td>\n",
              "    </tr>\n",
              "  </tbody>\n",
              "</table>\n",
              "</div>"
            ],
            "text/plain": [
              "         id home_ownership  loan_status             purpose\n",
              "70642   NaN       MORTGAGE      Current               other\n",
              "490788  NaN       MORTGAGE      Current  debt_consolidation\n",
              "2081591 NaN       MORTGAGE  Charged Off  debt_consolidation\n",
              "900431  NaN       MORTGAGE   Fully Paid    home_improvement\n",
              "781582  NaN       MORTGAGE   Fully Paid  debt_consolidation"
            ]
          },
          "metadata": {
            "tags": []
          },
          "execution_count": 33
        }
      ]
    },
    {
      "cell_type": "code",
      "metadata": {
        "id": "9ijctGPN3jK_",
        "colab_type": "code",
        "colab": {
          "base_uri": "https://localhost:8080/",
          "height": 34
        },
        "outputId": "8e72d458-4673-4773-fcdc-ae3029856a0c"
      },
      "source": [
        "# Examinemos los valores de la variable home_ownership\n",
        "\n",
        "# esta variable indica si el prestamista posee\n",
        "# o arrienda la propiedad que habita\n",
        "\n",
        "data.home_ownership.unique()"
      ],
      "execution_count": null,
      "outputs": [
        {
          "output_type": "execute_result",
          "data": {
            "text/plain": [
              "array(['MORTGAGE', 'RENT', 'OWN', 'ANY', 'OTHER'], dtype=object)"
            ]
          },
          "metadata": {
            "tags": []
          },
          "execution_count": 21
        }
      ]
    },
    {
      "cell_type": "code",
      "metadata": {
        "id": "K2ng-tVT3m4H",
        "colab_type": "code",
        "colab": {
          "base_uri": "https://localhost:8080/",
          "height": 345
        },
        "outputId": "b4576716-9e45-4606-bce0-ddcaf39c7459"
      },
      "source": [
        "# Creemos un gráfico de barras, con el número de préstamistas\n",
        "# por cada una de las categorías de home_ownership\n",
        "\n",
        "# El siguiente código cuenta el número de observaciones (prestamistas) \n",
        "# en cada una de las categorías y crea un gráfico de barras.\n",
        "\n",
        "fig = data['home_ownership'].value_counts().plot.bar()\n",
        "fig.set_title('Tipo de propietario')\n",
        "fig.set_ylabel('Número de clientes')"
      ],
      "execution_count": null,
      "outputs": [
        {
          "output_type": "execute_result",
          "data": {
            "text/plain": [
              "Text(0, 0.5, 'Número de clientes')"
            ]
          },
          "metadata": {
            "tags": []
          },
          "execution_count": 22
        },
        {
          "output_type": "display_data",
          "data": {
            "image/png": "[encoded data removed]",
            "text/plain": [
              "<Figure size 432x288 with 1 Axes>"
            ]
          },
          "metadata": {
            "tags": [],
            "needs_background": "light"
          }
        }
      ]
    },
    {
      "cell_type": "markdown",
      "metadata": {
        "id": "t7b59R3Z3ygz",
        "colab_type": "text"
      },
      "source": [
        "La mayoría de los prestamistas son dueños de sus casas pero todavia pagan una hipoteca (MORTGAGE) o arriendan la propiedad en la que viven (RENT). Algunos pocos prestamistas son dueños de su casa completamente (OWN). La categoría 'OTHER' parece estar vacía. Para asegurarnos completamente, imprimamos los números:"
      ]
    },
    {
      "cell_type": "code",
      "metadata": {
        "id": "wRWo3ygy3t1V",
        "colab_type": "code",
        "colab": {
          "base_uri": "https://localhost:8080/",
          "height": 119
        },
        "outputId": "5e160d91-6190-4b7b-9931-7bad8a8d0e02"
      },
      "source": [
        "data['home_ownership'].value_counts()"
      ],
      "execution_count": null,
      "outputs": [
        {
          "output_type": "execute_result",
          "data": {
            "text/plain": [
              "MORTGAGE    4937\n",
              "RENT        3980\n",
              "OWN         1075\n",
              "ANY            6\n",
              "OTHER          2\n",
              "Name: home_ownership, dtype: int64"
            ]
          },
          "metadata": {
            "tags": []
          },
          "execution_count": 23
        }
      ]
    },
    {
      "cell_type": "markdown",
      "metadata": {
        "id": "on14OFKW37EK",
        "colab_type": "text"
      },
      "source": [
        "Hay dos prestamistas que tienen otros acuerdos para la propiedad en la que viven. Por ejemplo, pueden vivir con sus padres o en un hotel."
      ]
    },
    {
      "cell_type": "code",
      "metadata": {
        "id": "IrV5v4kx311x",
        "colab_type": "code",
        "colab": {
          "base_uri": "https://localhost:8080/",
          "height": 85
        },
        "outputId": "0967df17-fbbb-4872-d286-966ea164805e"
      },
      "source": [
        "# La variable \"purpose\" es otra variable categórica\n",
        "# que indica el propósito/intención de uso del préstamo \n",
        "# por ejemplo para hacer arreglos en la casa o consolidar otras deudas.\n",
        "\n",
        "data.purpose.unique()"
      ],
      "execution_count": null,
      "outputs": [
        {
          "output_type": "execute_result",
          "data": {
            "text/plain": [
              "array(['other', 'debt_consolidation', 'home_improvement', 'credit_card',\n",
              "       'moving', 'medical', 'car', 'major_purchase', 'house',\n",
              "       'small_business', 'vacation', 'renewable_energy', 'wedding'],\n",
              "      dtype=object)"
            ]
          },
          "metadata": {
            "tags": []
          },
          "execution_count": 24
        }
      ]
    },
    {
      "cell_type": "markdown",
      "metadata": {
        "id": "AUQ_JiGm4Dhz",
        "colab_type": "text"
      },
      "source": [
        "Exploremos algunos valores:\n",
        "- 'debt_consolidation': el préstamo se va a usar consolidar otras deudas previamente adquiridas \n",
        "- 'car': comprar un vehículo\n",
        "- 'home_improvement': para mejoras/reparaciones en la casa\n",
        "\n",
        "Esto nos da una idea de la intención de uso del préstamo."
      ]
    },
    {
      "cell_type": "code",
      "metadata": {
        "id": "nWSe5ZCA394v",
        "colab_type": "code",
        "colab": {
          "base_uri": "https://localhost:8080/",
          "height": 388
        },
        "outputId": "ceff3b57-f277-4d8c-d1df-5e54dfc15f39"
      },
      "source": [
        "# Creemos un gráfico de barras, con el número de préstamistas\n",
        "# por cada una de las categorías\n",
        "\n",
        "# El siguiente código cuenta el número de observaciones (prestamistas) \n",
        "# en cada una de las categorías y crea un gráfico de barras.\n",
        "\n",
        "fig = data['purpose'].value_counts().plot.bar()\n",
        "fig.set_title('Propósito del préstamo')\n",
        "fig.set_ylabel('Número de clientes')"
      ],
      "execution_count": null,
      "outputs": [
        {
          "output_type": "execute_result",
          "data": {
            "text/plain": [
              "Text(0, 0.5, 'Número de clientes')"
            ]
          },
          "metadata": {
            "tags": []
          },
          "execution_count": 25
        },
        {
          "output_type": "display_data",
          "data": {
            "image/png": "[encoded data removed]",
            "text/plain": [
              "<Figure size 432x288 with 1 Axes>"
            ]
          },
          "metadata": {
            "tags": [],
            "needs_background": "light"
          }
        }
      ]
    },
    {
      "cell_type": "markdown",
      "metadata": {
        "id": "uy2uO2sk4Nxe",
        "colab_type": "text"
      },
      "source": [
        "La mayoría de los prestamistas tienen la intención de usar el préstamo para consolidar deudas previamente adquiridas 'debt consolidation' o para pagar sus tarjetas de crédito 'credit cards'. Esto es bastante común, ya que los prestamistas prefieren consolidar todas sus deudas en una sola, en este caso usando el préstamo que toman de Lending Club. El préstamo usualmente les da la facilidad de ya sea tasas de interés más bajas comparadas con las tarjetas de crédito y por ejemplo plazos más largos para pagar."
      ]
    },
    {
      "cell_type": "code",
      "metadata": {
        "id": "c8-8WXyo4YRw",
        "colab_type": "code",
        "colab": {
          "base_uri": "https://localhost:8080/",
          "height": 102
        },
        "outputId": "31915c6b-edf2-48b5-ce29-1dc8384ee771"
      },
      "source": [
        "# Miremos otra variable categórica, \"loan status\",\n",
        "# que representa el estado del préstamo, si esta activo 'current',\n",
        "# pagado 'paid', incumplido 'defaulted', entre otros casos.\n",
        "\n",
        "data.loan_status.unique()"
      ],
      "execution_count": null,
      "outputs": [
        {
          "output_type": "execute_result",
          "data": {
            "text/plain": [
              "array(['Current', 'Charged Off', 'Fully Paid',\n",
              "       'Does not meet the credit policy. Status:Fully Paid',\n",
              "       'Late (16-30 days)', 'Late (31-120 days)', 'In Grace Period',\n",
              "       'Does not meet the credit policy. Status:Charged Off'],\n",
              "      dtype=object)"
            ]
          },
          "metadata": {
            "tags": []
          },
          "execution_count": 26
        }
      ]
    },
    {
      "cell_type": "code",
      "metadata": {
        "id": "X3CBr6Ty4HCY",
        "colab_type": "code",
        "colab": {
          "base_uri": "https://localhost:8080/",
          "height": 546
        },
        "outputId": "b321b871-d6bd-4e40-9a0c-12fac0cb9df3"
      },
      "source": [
        "# Creemos un gráfico de barras, con el número de préstamistas\n",
        "# por cada una de las categorías\n",
        "\n",
        "fig = data['loan_status'].value_counts().plot.bar()\n",
        "fig.set_title('Estado del préstamo')\n",
        "fig.set_ylabel('Número de clientes')"
      ],
      "execution_count": null,
      "outputs": [
        {
          "output_type": "execute_result",
          "data": {
            "text/plain": [
              "Text(0, 0.5, 'Número de clientes')"
            ]
          },
          "metadata": {
            "tags": []
          },
          "execution_count": 27
        },
        {
          "output_type": "display_data",
          "data": {
            "image/png": "[encoded data removed]",
            "text/plain": [
              "<Figure size 432x288 with 1 Axes>"
            ]
          },
          "metadata": {
            "tags": [],
            "needs_background": "light"
          }
        }
      ]
    },
    {
      "cell_type": "markdown",
      "metadata": {
        "id": "M2YRaErj4jmA",
        "colab_type": "text"
      },
      "source": [
        "Podemos ver que la mayoría de los préstamos están todavía activos 'current' y un gran número han sido completamente pagos 'Fully paid'. Las siguientes categorías tiene el siguiente significado:\n",
        "\n",
        "- Late (16-30 days): cliente se ha retrasado con el pago entre 16-30 días\n",
        "- Late (31-120 days): cliente está retrasado en sus pagos más de un mes (31-120 días)\n",
        "- Charged off: la compañía declaró que no será posible recuperar el dinero del préstamo \n",
        "- Issued: el préstamo fue concedido pero el dinero no ha sido entregado al prestamista\n",
        "- In Grace Period: ventana de tiempo acordada con el cliente para realizar el siguiente pago, usualmente, cuando el prestamista está atrasado con sus pagos.\n"
      ]
    },
    {
      "cell_type": "code",
      "metadata": {
        "id": "Mjhl_uKu4hjx",
        "colab_type": "code",
        "colab": {
          "base_uri": "https://localhost:8080/",
          "height": 119
        },
        "outputId": "2c24b294-2da7-473d-a792-b74f6dc827b7"
      },
      "source": [
        "# Para terminar,  miremos a una variable que es numérica \n",
        "# pero cuyos valores no tienen un significado real, se usan más como identificadores\n",
        "\n",
        "data['id'].head()"
      ],
      "execution_count": null,
      "outputs": [
        {
          "output_type": "execute_result",
          "data": {
            "text/plain": [
              "70642     NaN\n",
              "490788    NaN\n",
              "2081591   NaN\n",
              "900431    NaN\n",
              "781582    NaN\n",
              "Name: id, dtype: float64"
            ]
          },
          "metadata": {
            "tags": []
          },
          "execution_count": 31
        }
      ]
    },
    {
      "cell_type": "markdown",
      "metadata": {
        "id": "-FMFG8Sn4zjR",
        "colab_type": "text"
      },
      "source": [
        "Cada id representa un cliente. Este número es asignado para identificar\n",
        "el cliente si se necesita, al mismo tiempo, que se asegura confidencialidad y protección de los datos. "
      ]
    },
    {
      "cell_type": "code",
      "metadata": {
        "id": "Lf8mk35V45SI",
        "colab_type": "code",
        "colab": {
          "base_uri": "https://localhost:8080/",
          "height": 34
        },
        "outputId": "4e84d766-cdce-42b1-9c31-df40ce5abc83"
      },
      "source": [
        "# La variable tiene tantos valores distintos (ids) como clientes\n",
        "# en este caso 10,000, \n",
        "\n",
        "# recuerda que solamente cargamos 10,000 filas/clientes del total de los datos\n",
        "# del conjunto de datos inicial.\n",
        "\n",
        "len(data['id'].unique())"
      ],
      "execution_count": null,
      "outputs": [
        {
          "output_type": "execute_result",
          "data": {
            "text/plain": [
              "1"
            ]
          },
          "metadata": {
            "tags": []
          },
          "execution_count": 32
        }
      ]
    },
    {
      "cell_type": "markdown",
      "metadata": {
        "id": "-2VT2tyt54aA",
        "colab_type": "text"
      },
      "source": [
        "## Fechas y Horas\n",
        "\n",
        "Este es un caso especial de variables categóricas en el cual en vez de tener los grupos o categorías tradicionales, como color (azul, rojo), o ciudad (London, Manchester), las categorías son fechas y/o horas. Por ejemplo, fecha de nacimiento ('29-08-1987', '12-01-2012'), o fecha de aplicación ('2016-Dic', '2013-Marzo').\n",
        "\n",
        "Las variables 'datetime' por su nombre en inglés, pueden tomar valores ya sea de fechas, de horas o de fechas y horas a la vez.\n",
        "\n",
        "Normalmente, no utilizamos este tipo de variables en su formato de fecha y hora porque:\n",
        "\n",
        "- Las variables con fechas tienen un gran número de diferentes categorías\n",
        "- Una gran cantidad de información valiosa puede ser extraída de las variables 'datetime' si se pre-procesan correctamente\n",
        "\n",
        "Además, usualmente con este tipo de variables, puede suceder que las fechas que se usaron en los datos para entrenar un modelo predictivo, no estén presentes en los datos que se usan para validar el modelo. De hecho, las variables pueden contener fechas en el futuro, con respecto a las fechas que se usaron para entrenar el modelo. Por lo tanto, el modelo predictivo no sabría qué hacer con ellas, porque nunca estuvieron presentes durante el modelamiento.\n",
        "\n"
      ]
    },
    {
      "cell_type": "code",
      "metadata": {
        "id": "JVTzmIiT4uxA",
        "colab_type": "code",
        "colab": {
          "base_uri": "https://localhost:8080/",
          "height": 204
        },
        "outputId": "5b0fc948-4ace-4f12-b687-172cef70b685"
      },
      "source": [
        "# Carguemos los datos con solo unas pocas columnas.\n",
        "\n",
        "# Definición de variables:\n",
        "#-------------------------\n",
        "# loan_amnt: Valor del préstamo\n",
        "# purpose: propósito/intención de uso del préstamo \n",
        "# grade: nivel de riesgo asignado al prestamista\n",
        "# issue_d: fecha en la cual el préstamo fué aprobado\n",
        "# last_pymnt_d: fecha del último pago \n",
        "\n",
        "use_cols = ['loan_amnt', 'grade', 'purpose', 'issue_d', 'last_pymnt_d']\n",
        "\n",
        "data = pd.read_csv('/content/drive/My Drive/datasets/loan.csv', usecols=use_cols)\n",
        "\n",
        "data.head()"
      ],
      "execution_count": null,
      "outputs": [
        {
          "output_type": "execute_result",
          "data": {
            "text/html": [
              "<div>\n",
              "<style scoped>\n",
              "    .dataframe tbody tr th:only-of-type {\n",
              "        vertical-align: middle;\n",
              "    }\n",
              "\n",
              "    .dataframe tbody tr th {\n",
              "        vertical-align: top;\n",
              "    }\n",
              "\n",
              "    .dataframe thead th {\n",
              "        text-align: right;\n",
              "    }\n",
              "</style>\n",
              "<table border=\"1\" class=\"dataframe\">\n",
              "  <thead>\n",
              "    <tr style=\"text-align: right;\">\n",
              "      <th></th>\n",
              "      <th>loan_amnt</th>\n",
              "      <th>grade</th>\n",
              "      <th>issue_d</th>\n",
              "      <th>purpose</th>\n",
              "      <th>last_pymnt_d</th>\n",
              "    </tr>\n",
              "  </thead>\n",
              "  <tbody>\n",
              "    <tr>\n",
              "      <th>0</th>\n",
              "      <td>2500</td>\n",
              "      <td>C</td>\n",
              "      <td>Dec-2018</td>\n",
              "      <td>debt_consolidation</td>\n",
              "      <td>Feb-2019</td>\n",
              "    </tr>\n",
              "    <tr>\n",
              "      <th>1</th>\n",
              "      <td>30000</td>\n",
              "      <td>D</td>\n",
              "      <td>Dec-2018</td>\n",
              "      <td>debt_consolidation</td>\n",
              "      <td>Feb-2019</td>\n",
              "    </tr>\n",
              "    <tr>\n",
              "      <th>2</th>\n",
              "      <td>5000</td>\n",
              "      <td>D</td>\n",
              "      <td>Dec-2018</td>\n",
              "      <td>debt_consolidation</td>\n",
              "      <td>Feb-2019</td>\n",
              "    </tr>\n",
              "    <tr>\n",
              "      <th>3</th>\n",
              "      <td>4000</td>\n",
              "      <td>D</td>\n",
              "      <td>Dec-2018</td>\n",
              "      <td>debt_consolidation</td>\n",
              "      <td>Feb-2019</td>\n",
              "    </tr>\n",
              "    <tr>\n",
              "      <th>4</th>\n",
              "      <td>30000</td>\n",
              "      <td>C</td>\n",
              "      <td>Dec-2018</td>\n",
              "      <td>debt_consolidation</td>\n",
              "      <td>Feb-2019</td>\n",
              "    </tr>\n",
              "  </tbody>\n",
              "</table>\n",
              "</div>"
            ],
            "text/plain": [
              "   loan_amnt grade   issue_d             purpose last_pymnt_d\n",
              "0       2500     C  Dec-2018  debt_consolidation     Feb-2019\n",
              "1      30000     D  Dec-2018  debt_consolidation     Feb-2019\n",
              "2       5000     D  Dec-2018  debt_consolidation     Feb-2019\n",
              "3       4000     D  Dec-2018  debt_consolidation     Feb-2019\n",
              "4      30000     C  Dec-2018  debt_consolidation     Feb-2019"
            ]
          },
          "metadata": {
            "tags": []
          },
          "execution_count": 35
        }
      ]
    },
    {
      "cell_type": "code",
      "metadata": {
        "id": "Crt0coMU6mpF",
        "colab_type": "code",
        "colab": {
          "base_uri": "https://localhost:8080/",
          "height": 119
        },
        "outputId": "d551440b-6416-4af9-8433-584755a7501c"
      },
      "source": [
        "# pandas asigna el tipo 'object' cuando lee formatos de fechas\n",
        "# de un archivo csv y considera a los valores como cadenas de caracteres.\n",
        "\n",
        "data.dtypes"
      ],
      "execution_count": null,
      "outputs": [
        {
          "output_type": "execute_result",
          "data": {
            "text/plain": [
              "loan_amnt        int64\n",
              "grade           object\n",
              "issue_d         object\n",
              "purpose         object\n",
              "last_pymnt_d    object\n",
              "dtype: object"
            ]
          },
          "metadata": {
            "tags": []
          },
          "execution_count": 36
        }
      ]
    },
    {
      "cell_type": "markdown",
      "metadata": {
        "id": "sl1pn1Py66rf",
        "colab_type": "text"
      },
      "source": [
        "Ambas issue_d y last_pymnt_d son convertidas a objetos ('object'). Por lo tanto, pandas las manipula como cadenas de caracteres o variables categóricas. \n",
        "\n",
        "Para que pandas procese estas variables como fechas, es necesario convertirlas a formato datetime. "
      ]
    },
    {
      "cell_type": "code",
      "metadata": {
        "id": "pYiW-qhP60i1",
        "colab_type": "code",
        "colab": {
          "base_uri": "https://localhost:8080/",
          "height": 204
        },
        "outputId": "945cfc31-83c1-454e-9139-aea5cc6ed5fb"
      },
      "source": [
        "# Convirtamos estas variables de su formato actual a formato 'datetime'\n",
        "# esto nos permitirá hacer un análisis mas avanzado \n",
        "\n",
        "data['issue_dt'] = pd.to_datetime(data.issue_d)\n",
        "data['last_pymnt_dt'] = pd.to_datetime(data.last_pymnt_d)\n",
        "\n",
        "data[['issue_d', 'issue_dt', 'last_pymnt_d', 'last_pymnt_dt']].head()"
      ],
      "execution_count": null,
      "outputs": [
        {
          "output_type": "execute_result",
          "data": {
            "text/html": [
              "<div>\n",
              "<style scoped>\n",
              "    .dataframe tbody tr th:only-of-type {\n",
              "        vertical-align: middle;\n",
              "    }\n",
              "\n",
              "    .dataframe tbody tr th {\n",
              "        vertical-align: top;\n",
              "    }\n",
              "\n",
              "    .dataframe thead th {\n",
              "        text-align: right;\n",
              "    }\n",
              "</style>\n",
              "<table border=\"1\" class=\"dataframe\">\n",
              "  <thead>\n",
              "    <tr style=\"text-align: right;\">\n",
              "      <th></th>\n",
              "      <th>issue_d</th>\n",
              "      <th>issue_dt</th>\n",
              "      <th>last_pymnt_d</th>\n",
              "      <th>last_pymnt_dt</th>\n",
              "    </tr>\n",
              "  </thead>\n",
              "  <tbody>\n",
              "    <tr>\n",
              "      <th>0</th>\n",
              "      <td>Dec-2018</td>\n",
              "      <td>2018-12-01</td>\n",
              "      <td>Feb-2019</td>\n",
              "      <td>2019-02-01</td>\n",
              "    </tr>\n",
              "    <tr>\n",
              "      <th>1</th>\n",
              "      <td>Dec-2018</td>\n",
              "      <td>2018-12-01</td>\n",
              "      <td>Feb-2019</td>\n",
              "      <td>2019-02-01</td>\n",
              "    </tr>\n",
              "    <tr>\n",
              "      <th>2</th>\n",
              "      <td>Dec-2018</td>\n",
              "      <td>2018-12-01</td>\n",
              "      <td>Feb-2019</td>\n",
              "      <td>2019-02-01</td>\n",
              "    </tr>\n",
              "    <tr>\n",
              "      <th>3</th>\n",
              "      <td>Dec-2018</td>\n",
              "      <td>2018-12-01</td>\n",
              "      <td>Feb-2019</td>\n",
              "      <td>2019-02-01</td>\n",
              "    </tr>\n",
              "    <tr>\n",
              "      <th>4</th>\n",
              "      <td>Dec-2018</td>\n",
              "      <td>2018-12-01</td>\n",
              "      <td>Feb-2019</td>\n",
              "      <td>2019-02-01</td>\n",
              "    </tr>\n",
              "  </tbody>\n",
              "</table>\n",
              "</div>"
            ],
            "text/plain": [
              "    issue_d   issue_dt last_pymnt_d last_pymnt_dt\n",
              "0  Dec-2018 2018-12-01     Feb-2019    2019-02-01\n",
              "1  Dec-2018 2018-12-01     Feb-2019    2019-02-01\n",
              "2  Dec-2018 2018-12-01     Feb-2019    2019-02-01\n",
              "3  Dec-2018 2018-12-01     Feb-2019    2019-02-01\n",
              "4  Dec-2018 2018-12-01     Feb-2019    2019-02-01"
            ]
          },
          "metadata": {
            "tags": []
          },
          "execution_count": 37
        }
      ]
    },
    {
      "cell_type": "code",
      "metadata": {
        "id": "zmn8eOcP7BFl",
        "colab_type": "code",
        "colab": {
          "base_uri": "https://localhost:8080/",
          "height": 368
        },
        "outputId": "06229dba-519d-4f6d-f928-7315b1425541"
      },
      "source": [
        "# Miremos cuanto dinero Lending Club ha desembolsado en préstamos\n",
        "# en los últimos años para los diferentes niveles de riesgo\n",
        "# (variable 'grade')\n",
        "\n",
        "fig = data.groupby(['issue_dt', 'grade'])['loan_amnt'].sum().unstack().plot(\n",
        "    figsize=(20, 5), linewidth=2)\n",
        "\n",
        "fig.set_title('Cantidad Desembolsada tiempo')\n",
        "fig.set_ylabel('Cantidad Desembolsada  (USD)')"
      ],
      "execution_count": null,
      "outputs": [
        {
          "output_type": "execute_result",
          "data": {
            "text/plain": [
              "Text(0, 0.5, 'Cantidad Desembolsada  (USD)')"
            ]
          },
          "metadata": {
            "tags": []
          },
          "execution_count": 39
        },
        {
          "output_type": "display_data",
          "data": {
            "image/png": "[encoded data removed]",
            "text/plain": [
              "<Figure size 1440x360 with 1 Axes>"
            ]
          },
          "metadata": {
            "tags": [],
            "needs_background": "light"
          }
        }
      ]
    },
    {
      "cell_type": "markdown",
      "metadata": {
        "id": "45-YREKY7gZ5",
        "colab_type": "text"
      },
      "source": [
        "Lending Club parece haber incrementado la cantidad de dinero que otorga en préstamos desde el 2013, una tendencia que parece continuar. Además, podemos ver que la mayoría de préstamos están son desembolsados en las categorías de riesgo C y B ('grade').\n",
        "\n",
        "La categoría ('grade') 'A' es la de menor riesgo, los prestamistas en este grupo probablemente pagarán toda su deuda, ya que por lo general están en una mejor situación financiera. En esta categoría, las tasas de interés son más bajas.\n",
        "\n",
        "Categorías E, F y G  representan mayor riesgo. Usualmente los prestamistas están en una situación financiera más delicada o no tienen suficiente historia crediticia para hacer una evaluación fiable. Típicamente, se les cobran tasas de interés más altas, ya que la entidad financiera (y sus inversores) están tomando un riesgo mayor al otorgales el crédito.\n"
      ]
    },
    {
      "cell_type": "markdown",
      "metadata": {
        "id": "wwv_yYIp77n-",
        "colab_type": "text"
      },
      "source": [
        "\n",
        "#VARIABLES MIXTAS\n",
        "\n",
        "Observaciones que contienen ya sean números o categorías.\n",
        "\n",
        "$\\bullet$ Número de créditos (1-100,U,T,M) \n",
        "\n",
        "U=Desconocido,T=Sin verificar,M=Sin cuenta abierta\n",
        "\n",
        "$\\bullet$ Número de pagos atrasados (1-3,D,A)\n",
        "\n",
        "D=defaulted, A=arrangements\n",
        "\n"
      ]
    },
    {
      "cell_type": "markdown",
      "metadata": {
        "id": "qP2SQDfu8Al1",
        "colab_type": "text"
      },
      "source": [
        "## Variables Mixtas\n",
        "\n",
        "Las variables mixtas son aquellas que contienen valores numéricos y categorías.\n",
        "\n",
        "Las variables pueden ser mixtas por una multitud de razones. Por ejemplo, cuando entidades financieras recogen y guardan información acerca de usuarios, generalmente utilizan números. Sin embargo, a veces sucede que dichas entidades no pueden recuperar la información de un cliente. En estos casos, las agencias codifican cada razón con un código diferente. Esto genera estas variables combinadas que contienen códigos alfanuméricos cuando el valor no pudo ser recuperado y números para los valores usuales.\n",
        "\n",
        "Un ejemplo es el número de cuentas abiertas 'number_of_open_accounts', que en principio puede ser cualquier número que represente el número de productos financieros que tenga el prestamista. Cuando la información no está disponible, cada razón se codifica con una letra diferente, por ejemplo: 'A': no se pudo identificar a la persona, 'B': datos no relevantes, 'C': la persona parece no tener ninguna cuenta abierta.\n",
        "\n",
        "Otro ejemplo de variables mixtas, es la variable missed_payment_status, que indica si el prestamista está retrasado con uno o varios pagos. Por ejemplo, si el prestamista tiene una tarjeta de crédito, esta variable indicaría si está retrasado con sus pagos mensuales. Valores 0, 1, 2, 3 significan que el cliente no ha pagado 0-3 cuotas del préstamo. El valor 'D', se usa cuando el cliente incumple con el número máximo de pagos retrasados permitidos (D por la palabra en inglés 'defaulted'), que típicamente son tres pagos.\n",
        "\n"
      ]
    },
    {
      "cell_type": "code",
      "metadata": {
        "id": "dTN3OIy57LJe",
        "colab_type": "code",
        "colab": {
          "base_uri": "https://localhost:8080/",
          "height": 204
        },
        "outputId": "8f09c74b-f88e-4f91-93f1-b4f56c0aacf4"
      },
      "source": [
        "# open_il_24m indica:\n",
        "# \"Número de líneas de crédito a termino fijo abiertas en los últimos 24 meses\".\n",
        "# Estas líneas de crédito a termino fijo tienen un número de cuotas fijas por un valor \n",
        "# predeterminado entre el prestamista y la entidad financiera.\n",
        "# Ejemplos son los préstamos para vehículos o prestamos para estudiantes.\n",
        "\n",
        "data = pd.read_csv('/content/drive/My Drive/datasets/sample_s2.csv')\n",
        "\n",
        "data.head()"
      ],
      "execution_count": null,
      "outputs": [
        {
          "output_type": "execute_result",
          "data": {
            "text/html": [
              "<div>\n",
              "<style scoped>\n",
              "    .dataframe tbody tr th:only-of-type {\n",
              "        vertical-align: middle;\n",
              "    }\n",
              "\n",
              "    .dataframe tbody tr th {\n",
              "        vertical-align: top;\n",
              "    }\n",
              "\n",
              "    .dataframe thead th {\n",
              "        text-align: right;\n",
              "    }\n",
              "</style>\n",
              "<table border=\"1\" class=\"dataframe\">\n",
              "  <thead>\n",
              "    <tr style=\"text-align: right;\">\n",
              "      <th></th>\n",
              "      <th>id</th>\n",
              "      <th>open_il_24m</th>\n",
              "    </tr>\n",
              "  </thead>\n",
              "  <tbody>\n",
              "    <tr>\n",
              "      <th>0</th>\n",
              "      <td>1077501</td>\n",
              "      <td>C</td>\n",
              "    </tr>\n",
              "    <tr>\n",
              "      <th>1</th>\n",
              "      <td>1077430</td>\n",
              "      <td>A</td>\n",
              "    </tr>\n",
              "    <tr>\n",
              "      <th>2</th>\n",
              "      <td>1077175</td>\n",
              "      <td>A</td>\n",
              "    </tr>\n",
              "    <tr>\n",
              "      <th>3</th>\n",
              "      <td>1076863</td>\n",
              "      <td>A</td>\n",
              "    </tr>\n",
              "    <tr>\n",
              "      <th>4</th>\n",
              "      <td>1075358</td>\n",
              "      <td>A</td>\n",
              "    </tr>\n",
              "  </tbody>\n",
              "</table>\n",
              "</div>"
            ],
            "text/plain": [
              "        id open_il_24m\n",
              "0  1077501           C\n",
              "1  1077430           A\n",
              "2  1077175           A\n",
              "3  1076863           A\n",
              "4  1075358           A"
            ]
          },
          "metadata": {
            "tags": []
          },
          "execution_count": 40
        }
      ]
    },
    {
      "cell_type": "code",
      "metadata": {
        "id": "hYQ8pe7j9N6I",
        "colab_type": "code",
        "colab": {
          "base_uri": "https://localhost:8080/",
          "height": 34
        },
        "outputId": "20da4cf6-8a7c-43ec-ccc9-1f387774e667"
      },
      "source": [
        "data.shape"
      ],
      "execution_count": null,
      "outputs": [
        {
          "output_type": "execute_result",
          "data": {
            "text/plain": [
              "(887379, 2)"
            ]
          },
          "metadata": {
            "tags": []
          },
          "execution_count": 41
        }
      ]
    },
    {
      "cell_type": "code",
      "metadata": {
        "id": "THHJVHm_9Rha",
        "colab_type": "code",
        "colab": {
          "base_uri": "https://localhost:8080/",
          "height": 68
        },
        "outputId": "73088c6e-face-471b-be25-28c3e2888bcd"
      },
      "source": [
        "# Adicionalmente, la variable toma los siguientes códigos:\n",
        "# 'A': no se pudo identificar a la persona \n",
        "# 'B': no hay datos relevantes\n",
        "# 'C': la persona parece no tener ninguna cuenta abierta\n",
        " \n",
        "data.open_il_24m.unique()"
      ],
      "execution_count": null,
      "outputs": [
        {
          "output_type": "execute_result",
          "data": {
            "text/plain": [
              "array(['C', 'A', 'B', '0.0', '1.0', '2.0', '4.0', '3.0', '6.0', '5.0',\n",
              "       '9.0', '7.0', '8.0', '13.0', '10.0', '19.0', '11.0', '12.0',\n",
              "       '14.0', '15.0'], dtype=object)"
            ]
          },
          "metadata": {
            "tags": []
          },
          "execution_count": 42
        }
      ]
    },
    {
      "cell_type": "code",
      "metadata": {
        "id": "wk_Rkaol9Tc7",
        "colab_type": "code",
        "colab": {
          "base_uri": "https://localhost:8080/",
          "height": 311
        },
        "outputId": "15def846-3066-461d-b81c-75e0af227a18"
      },
      "source": [
        "# Creemos un gráfico de barras, con el número de préstamistas\n",
        "# por cada uno de los valores de la variable combinada\n",
        "\n",
        "fig = data.open_il_24m.value_counts().plot.bar()\n",
        "fig.set_title('Número de cuentas a término fijo')\n",
        "fig.set_ylabel('Número de prestamistas')"
      ],
      "execution_count": null,
      "outputs": [
        {
          "output_type": "execute_result",
          "data": {
            "text/plain": [
              "Text(0, 0.5, 'Número de prestamistas')"
            ]
          },
          "metadata": {
            "tags": []
          },
          "execution_count": 43
        },
        {
          "output_type": "display_data",
          "data": {
            "image/png": "[encoded data removed]",
            "text/plain": [
              "<Figure size 432x288 with 1 Axes>"
            ]
          },
          "metadata": {
            "tags": [],
            "needs_background": "light"
          }
        }
      ]
    },
    {
      "cell_type": "markdown",
      "metadata": {
        "id": "aHkkg6rV9ghE",
        "colab_type": "text"
      },
      "source": [
        "Este es un ejemplo de una variable combinada!"
      ]
    },
    {
      "cell_type": "markdown",
      "metadata": {
        "id": "YChJkpZdBASF",
        "colab_type": "text"
      },
      "source": [
        "# **Cardinalidad**\n",
        "\n",
        "**Definición**\n",
        "\n",
        "El número de los diferentes niveles dentro de una variable categórica se conoce como **Cardinalidad**.\n",
        "\n",
        "### Consideraciones para contruir modelo de Machine Learning con variables altamente cardinales.\n",
        "\n",
        "$\\bullet$ **Scikit-Learn** líbreria estandar para Machine Learning no soporta cadenas (strings) dentro de las variables (Deben codificarse a números).\n",
        "\n",
        "$\\bullet$ Las variables altamente cardinales puede llevar a tener distribuciones desiguales entre el set de entrenamiento y prueba.\n",
        "\n",
        "$\\star$Algunas etiquetas solo aparecen en el set de entrenamiento $\\Rightarrow$ sobre ajuste.\n",
        "\n",
        "$\\star$Algunas etiquetas solo aparecen en el set de prueba $\\Rightarrow$ el modelo no sabe como interpretar estos valores.\n",
        "\n",
        "$\\bullet$ Las variables altamente cardinales puede llevar a tener sobre ajustes principalmente en **algoritmos basados en árboles**.\n",
        "\n",
        "$\\star$Variables con muchas etiquetas tienden a dominar a las de menos etiquetas, particularmente en **algoritmos basados en árboles**.\n",
        "\n",
        "$\\star$Un gran número de etiquetas en una variable puede introducir ruido y poca información.\n",
        "\n",
        "$\\star$Reducción de la cardinalidad puede ayudar con el desempeño de los modelos de Machine Learning.\n",
        "\n",
        "\n",
        "\n",
        "\n"
      ]
    },
    {
      "cell_type": "code",
      "metadata": {
        "id": "cBaeUFl8HMoL",
        "colab_type": "code",
        "colab": {}
      },
      "source": [
        "import pandas as pd\n",
        "import numpy as np\n",
        "\n",
        "import matplotlib.pyplot as plt\n",
        "\n",
        "# para construir modelos de machine learning \n",
        "from sklearn.linear_model import LogisticRegression\n",
        "from sklearn.ensemble import AdaBoostClassifier\n",
        "from sklearn.ensemble import RandomForestClassifier\n",
        "from sklearn.ensemble import GradientBoostingClassifier\n",
        "\n",
        "# para evaluar los modelos\n",
        "from sklearn.metrics import roc_auc_score\n",
        "\n",
        "# para separar datos en sets de entrenamiento y prueba\n",
        "from sklearn.model_selection import train_test_split"
      ],
      "execution_count": 5,
      "outputs": []
    },
    {
      "cell_type": "code",
      "metadata": {
        "id": "ctzvZR3fHOx1",
        "colab_type": "code",
        "colab": {
          "base_uri": "https://localhost:8080/",
          "height": 204
        },
        "outputId": "0684053a-b669-4388-de6a-d9321182dddf"
      },
      "source": [
        "# carguemos los datos del titanic \n",
        "\n",
        "data = pd.read_csv('/content/drive/My Drive/datasets/titanic.csv')\n",
        "data.head()"
      ],
      "execution_count": 6,
      "outputs": [
        {
          "output_type": "execute_result",
          "data": {
            "text/html": [
              "<div>\n",
              "<style scoped>\n",
              "    .dataframe tbody tr th:only-of-type {\n",
              "        vertical-align: middle;\n",
              "    }\n",
              "\n",
              "    .dataframe tbody tr th {\n",
              "        vertical-align: top;\n",
              "    }\n",
              "\n",
              "    .dataframe thead th {\n",
              "        text-align: right;\n",
              "    }\n",
              "</style>\n",
              "<table border=\"1\" class=\"dataframe\">\n",
              "  <thead>\n",
              "    <tr style=\"text-align: right;\">\n",
              "      <th></th>\n",
              "      <th>pclass</th>\n",
              "      <th>survived</th>\n",
              "      <th>name</th>\n",
              "      <th>sex</th>\n",
              "      <th>age</th>\n",
              "      <th>sibsp</th>\n",
              "      <th>parch</th>\n",
              "      <th>ticket</th>\n",
              "      <th>fare</th>\n",
              "      <th>cabin</th>\n",
              "      <th>embarked</th>\n",
              "      <th>boat</th>\n",
              "      <th>body</th>\n",
              "      <th>home.dest</th>\n",
              "    </tr>\n",
              "  </thead>\n",
              "  <tbody>\n",
              "    <tr>\n",
              "      <th>0</th>\n",
              "      <td>1</td>\n",
              "      <td>1</td>\n",
              "      <td>Allen, Miss. Elisabeth Walton</td>\n",
              "      <td>female</td>\n",
              "      <td>29.0000</td>\n",
              "      <td>0</td>\n",
              "      <td>0</td>\n",
              "      <td>24160</td>\n",
              "      <td>211.3375</td>\n",
              "      <td>B5</td>\n",
              "      <td>S</td>\n",
              "      <td>2</td>\n",
              "      <td>NaN</td>\n",
              "      <td>St Louis, MO</td>\n",
              "    </tr>\n",
              "    <tr>\n",
              "      <th>1</th>\n",
              "      <td>1</td>\n",
              "      <td>1</td>\n",
              "      <td>Allison, Master. Hudson Trevor</td>\n",
              "      <td>male</td>\n",
              "      <td>0.9167</td>\n",
              "      <td>1</td>\n",
              "      <td>2</td>\n",
              "      <td>113781</td>\n",
              "      <td>151.5500</td>\n",
              "      <td>C22</td>\n",
              "      <td>S</td>\n",
              "      <td>11</td>\n",
              "      <td>NaN</td>\n",
              "      <td>Montreal, PQ / Chesterville, ON</td>\n",
              "    </tr>\n",
              "    <tr>\n",
              "      <th>2</th>\n",
              "      <td>1</td>\n",
              "      <td>0</td>\n",
              "      <td>Allison, Miss. Helen Loraine</td>\n",
              "      <td>female</td>\n",
              "      <td>2.0000</td>\n",
              "      <td>1</td>\n",
              "      <td>2</td>\n",
              "      <td>113781</td>\n",
              "      <td>151.5500</td>\n",
              "      <td>C22</td>\n",
              "      <td>S</td>\n",
              "      <td>NaN</td>\n",
              "      <td>NaN</td>\n",
              "      <td>Montreal, PQ / Chesterville, ON</td>\n",
              "    </tr>\n",
              "    <tr>\n",
              "      <th>3</th>\n",
              "      <td>1</td>\n",
              "      <td>0</td>\n",
              "      <td>Allison, Mr. Hudson Joshua Creighton</td>\n",
              "      <td>male</td>\n",
              "      <td>30.0000</td>\n",
              "      <td>1</td>\n",
              "      <td>2</td>\n",
              "      <td>113781</td>\n",
              "      <td>151.5500</td>\n",
              "      <td>C22</td>\n",
              "      <td>S</td>\n",
              "      <td>NaN</td>\n",
              "      <td>135.0</td>\n",
              "      <td>Montreal, PQ / Chesterville, ON</td>\n",
              "    </tr>\n",
              "    <tr>\n",
              "      <th>4</th>\n",
              "      <td>1</td>\n",
              "      <td>0</td>\n",
              "      <td>Allison, Mrs. Hudson J C (Bessie Waldo Daniels)</td>\n",
              "      <td>female</td>\n",
              "      <td>25.0000</td>\n",
              "      <td>1</td>\n",
              "      <td>2</td>\n",
              "      <td>113781</td>\n",
              "      <td>151.5500</td>\n",
              "      <td>C22</td>\n",
              "      <td>S</td>\n",
              "      <td>NaN</td>\n",
              "      <td>NaN</td>\n",
              "      <td>Montreal, PQ / Chesterville, ON</td>\n",
              "    </tr>\n",
              "  </tbody>\n",
              "</table>\n",
              "</div>"
            ],
            "text/plain": [
              "   pclass  survived  ...   body                        home.dest\n",
              "0       1         1  ...    NaN                     St Louis, MO\n",
              "1       1         1  ...    NaN  Montreal, PQ / Chesterville, ON\n",
              "2       1         0  ...    NaN  Montreal, PQ / Chesterville, ON\n",
              "3       1         0  ...  135.0  Montreal, PQ / Chesterville, ON\n",
              "4       1         0  ...    NaN  Montreal, PQ / Chesterville, ON\n",
              "\n",
              "[5 rows x 14 columns]"
            ]
          },
          "metadata": {
            "tags": []
          },
          "execution_count": 6
        }
      ]
    },
    {
      "cell_type": "markdown",
      "metadata": {
        "id": "AiF1wPw6IfRX",
        "colab_type": "text"
      },
      "source": [
        "Las variables categóricas en estos datos son Name (nombre), Sex (género), Ticket ( Tiquete), Cabin (cabina) y Embarked (puerto de embarque).\n",
        "\n",
        "---------------\n",
        "**Nota** Ticket y Cabin son variables alfanúmericas, es decir contienen letras y números, asi q deben ser tratados como Variables Combinadas. Para este demo, las manipularemos como categóricas.\n"
      ]
    },
    {
      "cell_type": "code",
      "metadata": {
        "id": "0JDxTvzHHO71",
        "colab_type": "code",
        "colab": {
          "base_uri": "https://localhost:8080/",
          "height": 119
        },
        "outputId": "377eb8f1-ce12-4bf1-9e11-1dabb293601d"
      },
      "source": [
        "# Miremos la cardinalidad para cada una de las variables\n",
        "\n",
        "# Es decir, el número de diferentes categorías o etiquetas.\n",
        "\n",
        "print('Número de diferentes categorías en la variable Name: {}'.format(\n",
        "    len(data.name.unique())))\n",
        "\n",
        "print('Número de diferentes categorías en la variable Gender: {}'.format(\n",
        "    len(data.sex.unique())))\n",
        "\n",
        "print('Número de diferentes categorías en la variable Ticket: {}'.format(\n",
        "    len(data.ticket.unique())))\n",
        "\n",
        "print('Número de diferentes categorías en la variable Cabin: {}'.format(\n",
        "    len(data.cabin.unique())))\n",
        "\n",
        "print('Número de diferentes categorías en la variable Embarked: {}'.format(\n",
        "    len(data.embarked.unique())))\n",
        "\n",
        "print('Número total de pasajeros en el Titanic: {}'.format(len(data)))"
      ],
      "execution_count": 7,
      "outputs": [
        {
          "output_type": "stream",
          "text": [
            "Número de diferentes categorías en la variable Name: 1307\n",
            "Número de diferentes categorías en la variable Gender: 2\n",
            "Número de diferentes categorías en la variable Ticket: 929\n",
            "Número de diferentes categorías en la variable Cabin: 182\n",
            "Número de diferentes categorías en la variable Embarked: 4\n",
            "Número total de pasajeros en el Titanic: 1309\n"
          ],
          "name": "stdout"
        }
      ]
    },
    {
      "cell_type": "markdown",
      "metadata": {
        "id": "cs2g0uOzOTrT",
        "colab_type": "text"
      },
      "source": [
        "# Mientras que la variable Sex tiene solo 2 etiquetas y Embarked 4 (baja cardinalidad), las variables Ticket, Name y Cabin, como es de esperarse, contienen un gran número de etiquetas (alta cardinalidad).\n",
        "\n",
        "Para demostrar, el efecto de alta cardinalidad en la preparación de datos para entrenamiento y pruebas de un modelo de machine learning así como su desempeño usaremos la variable Cabin. \n",
        "Crearemos una nueva variable con cardinalidad reducida.\n"
      ]
    },
    {
      "cell_type": "code",
      "metadata": {
        "id": "KeJBlSavHPCN",
        "colab_type": "code",
        "colab": {
          "base_uri": "https://localhost:8080/",
          "height": 357
        },
        "outputId": "c86e2077-5e3a-474f-81de-3943685b5c1a"
      },
      "source": [
        "# exploremos los valores / categorías de Cabin\n",
        "\n",
        "# Podemos observar que hay 182 diferentes cabinas\n",
        "# por lo tanto la variable tienen alta cardinalidad\n",
        "\n",
        "data.cabin.unique()"
      ],
      "execution_count": 8,
      "outputs": [
        {
          "output_type": "execute_result",
          "data": {
            "text/plain": [
              "array(['B5', 'C22', 'E12', 'D7', 'A36', 'C101', nan, 'C62', 'B35', 'A23',\n",
              "       'B58', 'D15', 'C6', 'D35', 'C148', 'C97', 'B49', 'C99', 'C52', 'T',\n",
              "       'A31', 'C7', 'C103', 'D22', 'E33', 'A21', 'B10', 'B4', 'E40',\n",
              "       'B38', 'E24', 'B51', 'B96', 'C46', 'E31', 'E8', 'B61', 'B77', 'A9',\n",
              "       'C89', 'A14', 'E58', 'E49', 'E52', 'E45', 'B22', 'B26', 'C85',\n",
              "       'E17', 'B71', 'B20', 'A34', 'C86', 'A16', 'A20', 'A18', 'C54',\n",
              "       'C45', 'D20', 'A29', 'C95', 'E25', 'C111', 'C23', 'E36', 'D34',\n",
              "       'D40', 'B39', 'B41', 'B102', 'C123', 'E63', 'C130', 'B86', 'C92',\n",
              "       'A5', 'C51', 'B42', 'C91', 'C125', 'D10', 'B82', 'E50', 'D33',\n",
              "       'C83', 'B94', 'D49', 'D45', 'B69', 'B11', 'E46', 'C39', 'B18',\n",
              "       'D11', 'C93', 'B28', 'C49', 'B52', 'E60', 'C132', 'B37', 'D21',\n",
              "       'D19', 'C124', 'D17', 'B101', 'D28', 'D6', 'D9', 'B80', 'C106',\n",
              "       'B79', 'C47', 'D30', 'C90', 'E38', 'C78', 'C30', 'C118', 'D36',\n",
              "       'D48', 'D47', 'C105', 'B36', 'B30', 'D43', 'B24', 'C2', 'C65',\n",
              "       'B73', 'C104', 'C110', 'C50', 'B3', 'A24', 'A32', 'A11', 'A10',\n",
              "       'B57', 'C28', 'E44', 'A26', 'A6', 'A7', 'C31', 'A19', 'B45', 'E34',\n",
              "       'B78', 'B50', 'C87', 'C116', 'C55', 'D50', 'E68', 'E67', 'C126',\n",
              "       'C68', 'C70', 'C53', 'B19', 'D46', 'D37', 'D26', 'C32', 'C80',\n",
              "       'C82', 'C128', 'E39', 'D', 'F4', 'D56', 'F33', 'E101', 'E77', 'F2',\n",
              "       'D38', 'F', 'E121', 'E10', 'G6', 'F38'], dtype=object)"
            ]
          },
          "metadata": {
            "tags": []
          },
          "execution_count": 8
        }
      ]
    },
    {
      "cell_type": "markdown",
      "metadata": {
        "id": "9gY0qZ4JOzsS",
        "colab_type": "text"
      },
      "source": [
        "Ahora reduzcamos la cardinalidad de esta variable. \n",
        "Cómo? en vez de usar toda la variable Cabin, capturaremos solamente la primera letra.\n",
        "\n",
        "***Justificación***: la primera letra indica el piso en el cual la cabina se encontraba, y por lo tanto, es un indicativo de la clase social y estatus, así como de la proximidad a la superficie del Titanic. Ambos se conocen por mejorar la probabilidad de sobrevivir en el Titanic."
      ]
    },
    {
      "cell_type": "code",
      "metadata": {
        "id": "IFv4PH8pHPFU",
        "colab_type": "code",
        "colab": {
          "base_uri": "https://localhost:8080/",
          "height": 204
        },
        "outputId": "ac17c066-e152-435c-c9dc-95196709718a"
      },
      "source": [
        "# let's capture the first letter of Cabin\n",
        "\n",
        "data['Cabin_reduced'] = data['cabin'].astype(str).str[0]\n",
        "\n",
        "data[['cabin', 'Cabin_reduced']].head()"
      ],
      "execution_count": 9,
      "outputs": [
        {
          "output_type": "execute_result",
          "data": {
            "text/html": [
              "<div>\n",
              "<style scoped>\n",
              "    .dataframe tbody tr th:only-of-type {\n",
              "        vertical-align: middle;\n",
              "    }\n",
              "\n",
              "    .dataframe tbody tr th {\n",
              "        vertical-align: top;\n",
              "    }\n",
              "\n",
              "    .dataframe thead th {\n",
              "        text-align: right;\n",
              "    }\n",
              "</style>\n",
              "<table border=\"1\" class=\"dataframe\">\n",
              "  <thead>\n",
              "    <tr style=\"text-align: right;\">\n",
              "      <th></th>\n",
              "      <th>cabin</th>\n",
              "      <th>Cabin_reduced</th>\n",
              "    </tr>\n",
              "  </thead>\n",
              "  <tbody>\n",
              "    <tr>\n",
              "      <th>0</th>\n",
              "      <td>B5</td>\n",
              "      <td>B</td>\n",
              "    </tr>\n",
              "    <tr>\n",
              "      <th>1</th>\n",
              "      <td>C22</td>\n",
              "      <td>C</td>\n",
              "    </tr>\n",
              "    <tr>\n",
              "      <th>2</th>\n",
              "      <td>C22</td>\n",
              "      <td>C</td>\n",
              "    </tr>\n",
              "    <tr>\n",
              "      <th>3</th>\n",
              "      <td>C22</td>\n",
              "      <td>C</td>\n",
              "    </tr>\n",
              "    <tr>\n",
              "      <th>4</th>\n",
              "      <td>C22</td>\n",
              "      <td>C</td>\n",
              "    </tr>\n",
              "  </tbody>\n",
              "</table>\n",
              "</div>"
            ],
            "text/plain": [
              "  cabin Cabin_reduced\n",
              "0    B5             B\n",
              "1   C22             C\n",
              "2   C22             C\n",
              "3   C22             C\n",
              "4   C22             C"
            ]
          },
          "metadata": {
            "tags": []
          },
          "execution_count": 9
        }
      ]
    },
    {
      "cell_type": "code",
      "metadata": {
        "id": "UlxUYgeJHPIM",
        "colab_type": "code",
        "colab": {
          "base_uri": "https://localhost:8080/",
          "height": 51
        },
        "outputId": "1edf20c8-1df8-4b74-c291-7c548a2875a2"
      },
      "source": [
        "print('Número de diferentes categorías en la variable Cabin: {}'.format(\n",
        "    len(data.cabin.unique())))\n",
        "\n",
        "print('Número de diferentes categorías en la variable Cabin reducida: {}'.format(\n",
        "    len(data.Cabin_reduced.unique())))"
      ],
      "execution_count": 10,
      "outputs": [
        {
          "output_type": "stream",
          "text": [
            "Número de diferentes categorías en la variable Cabin: 182\n",
            "Número de diferentes categorías en la variable Cabin reducida: 9\n"
          ],
          "name": "stdout"
        }
      ]
    },
    {
      "cell_type": "markdown",
      "metadata": {
        "id": "o6LRLiioPIU8",
        "colab_type": "text"
      },
      "source": [
        "Se redujeron el número de diferentes etiquetas de 182 a 9.\n"
      ]
    },
    {
      "cell_type": "code",
      "metadata": {
        "id": "PAT_i2tePDUz",
        "colab_type": "code",
        "colab": {
          "base_uri": "https://localhost:8080/",
          "height": 34
        },
        "outputId": "4b9215e1-45f1-407c-8a16-ecafcbc79826"
      },
      "source": [
        "# separemos los datos para entrenamiento y pruebas\n",
        "# para constuir modelo de machine learning\n",
        "\n",
        "use_cols = ['cabin', 'Cabin_reduced', 'sex']\n",
        "\n",
        "# tomemos función de scikit-learn\n",
        "X_train, X_test, y_train, y_test = train_test_split(\n",
        "    data[use_cols], \n",
        "    data.survived,  \n",
        "    test_size=0.3,\n",
        "    random_state=0)\n",
        "\n",
        "X_train.shape, X_test.shape\n"
      ],
      "execution_count": 11,
      "outputs": [
        {
          "output_type": "execute_result",
          "data": {
            "text/plain": [
              "((916, 3), (393, 3))"
            ]
          },
          "metadata": {
            "tags": []
          },
          "execution_count": 11
        }
      ]
    },
    {
      "cell_type": "markdown",
      "metadata": {
        "id": "-SxNbG2uPUGD",
        "colab_type": "text"
      },
      "source": [
        "### Alta cardinalidad lleva a una distribución desigual de las categorías para las muestras usadas para entrenamiento y pruebas.\n",
        "\n",
        "Cuando una variable es altamente cardinal, frecuentemente las categorías solo aparecen en la muestra de datos para entrenamiento, lo cual tiende a generar sobreajustes.\n",
        "\n",
        "Por el contrario, si las categorías están presentes solo en la muestra de pruebas (o nuevos datos cuando el modelo se encuentra en producción), el algoritmo no sabrá cómo manejar estas nuevas etiquetas. \n",
        "\n",
        "Este problema se resuelve en gran parte reduciendo la cardinalidad de la variable. Veamos a continuación:"
      ]
    },
    {
      "cell_type": "code",
      "metadata": {
        "id": "rlaI_8GtPDX0",
        "colab_type": "code",
        "colab": {
          "base_uri": "https://localhost:8080/",
          "height": 34
        },
        "outputId": "d76c2e6e-555f-4f74-998c-ba510ce43a07"
      },
      "source": [
        "# Busquemos las etiquetas presentes solamente en el conjunto de datos para entrenamiento \n",
        "\n",
        "unique_to_train_set = [\n",
        "    x for x in X_train.cabin.unique() if x not in X_test.cabin.unique()\n",
        "]\n",
        "\n",
        "len(unique_to_train_set)"
      ],
      "execution_count": 12,
      "outputs": [
        {
          "output_type": "execute_result",
          "data": {
            "text/plain": [
              "113"
            ]
          },
          "metadata": {
            "tags": []
          },
          "execution_count": 12
        }
      ]
    },
    {
      "cell_type": "markdown",
      "metadata": {
        "id": "qpHKpvYvPnpm",
        "colab_type": "text"
      },
      "source": [
        "Hay 113 cabinas solamente presentes en la muestra de entrenamiento y no en el de pruebas.\n"
      ]
    },
    {
      "cell_type": "code",
      "metadata": {
        "id": "l3f24n3RPOT3",
        "colab_type": "code",
        "colab": {
          "base_uri": "https://localhost:8080/",
          "height": 34
        },
        "outputId": "ed8a9555-ed05-4f81-ad0b-babc5ef77a2d"
      },
      "source": [
        "# Busquemos las etiquetas presentes solamente en el conjunto de datos para pruebas \n",
        "\n",
        "unique_to_test_set = [\n",
        "    x for x in X_test.cabin.unique() if x not in X_train.cabin.unique()\n",
        "]\n",
        "\n",
        "len(unique_to_test_set)"
      ],
      "execution_count": 14,
      "outputs": [
        {
          "output_type": "execute_result",
          "data": {
            "text/plain": [
              "36"
            ]
          },
          "metadata": {
            "tags": []
          },
          "execution_count": 14
        }
      ]
    },
    {
      "cell_type": "markdown",
      "metadata": {
        "id": "jE4fHxJ3Pvau",
        "colab_type": "text"
      },
      "source": [
        "Vemos como para una variable con alta cardinalidad,  valores (categorías) presentes en el conjunto de datos para entrenamiento no están en la muestra de prueba y viceversa. \n",
        "\n",
        "Ahora, este problema se puede resolver, reduciendo la cardinalidad de la variable como se muestra a continuación:"
      ]
    },
    {
      "cell_type": "code",
      "metadata": {
        "id": "vaFOKGFYPOW0",
        "colab_type": "code",
        "colab": {
          "base_uri": "https://localhost:8080/",
          "height": 34
        },
        "outputId": "c68e8a16-2549-4160-d0a7-d3eb12a7a5cc"
      },
      "source": [
        "# Veamos las etiquetas presentes en los datos de entrenamiento\n",
        "# para la variable Cabin cardinalidad reducida\n",
        "\n",
        "unique_to_train_set = [\n",
        "    x for x in X_train['Cabin_reduced'].unique()\n",
        "    if x not in X_test['Cabin_reduced'].unique()\n",
        "]\n",
        "\n",
        "len(unique_to_train_set)"
      ],
      "execution_count": 15,
      "outputs": [
        {
          "output_type": "execute_result",
          "data": {
            "text/plain": [
              "1"
            ]
          },
          "metadata": {
            "tags": []
          },
          "execution_count": 15
        }
      ]
    },
    {
      "cell_type": "code",
      "metadata": {
        "id": "KMPAB6daPOZy",
        "colab_type": "code",
        "colab": {
          "base_uri": "https://localhost:8080/",
          "height": 34
        },
        "outputId": "96fe272d-ae84-48d3-83ff-37766f51db70"
      },
      "source": [
        "# Veamos las etiquetas presentes en los datos de prueba\n",
        "# para la variable Cabin cardinalidad reducida\n",
        "\n",
        "unique_to_test_set = [\n",
        "    x for x in X_test['Cabin_reduced'].unique()\n",
        "    if x not in X_train['Cabin_reduced'].unique()\n",
        "]\n",
        "\n",
        "len(unique_to_test_set)"
      ],
      "execution_count": 16,
      "outputs": [
        {
          "output_type": "execute_result",
          "data": {
            "text/plain": [
              "0"
            ]
          },
          "metadata": {
            "tags": []
          },
          "execution_count": 16
        }
      ]
    },
    {
      "cell_type": "markdown",
      "metadata": {
        "id": "sfgvmT0hP2_O",
        "colab_type": "text"
      },
      "source": [
        "Podemos ver como reduciendo la cardinalidad conlleva a solo tener una categoría en los datos de entrenamiento que no esta presente en los de prueba.  Y todas las etiquetes en el conjunto de prueba estan enel de entrenamiento.\n",
        "\n",
        "### Efecto de la cardinalidad en el desempeño de los modelos de Machine Learning\n",
        "\n",
        "Para evaluar el efecto de las variables categóricas en los modelos de machine learning, reemplacemos las categorías por números."
      ]
    },
    {
      "cell_type": "code",
      "metadata": {
        "id": "732Mg_cTPOca",
        "colab_type": "code",
        "colab": {
          "base_uri": "https://localhost:8080/",
          "height": 1000
        },
        "outputId": "5de9fce1-3e81-4060-8bf3-8651586834f9"
      },
      "source": [
        "# Reemplacemos cada cabina por un número\n",
        "# para demostrar rápidamente el efecto de las\n",
        "# etiquetas en los algoritmos de machine learning\n",
        "\n",
        "##############\n",
        "# Nota: esta no es ni la única ni la mejor forma de  \n",
        "# codificar variables categóricas en números \n",
        "# Veremos más detalles sobre estas y otras técnicas de codificación\n",
        "# de variables categóricas en la sección respectiva: \n",
        "# \"Codificando variables categóricas\"\n",
        "##############\n",
        "\n",
        "\n",
        "cabin_dict = {k: i for i, k in enumerate(X_train.cabin.unique(), 0)}\n",
        "cabin_dict"
      ],
      "execution_count": 17,
      "outputs": [
        {
          "output_type": "execute_result",
          "data": {
            "text/plain": [
              "{'A10': 142,\n",
              " 'A11': 51,\n",
              " 'A14': 93,\n",
              " 'A16': 143,\n",
              " 'A18': 23,\n",
              " 'A20': 82,\n",
              " 'A21': 47,\n",
              " 'A24': 7,\n",
              " 'A26': 22,\n",
              " 'A29': 49,\n",
              " 'A34': 37,\n",
              " 'A36': 104,\n",
              " 'A5': 95,\n",
              " 'A6': 101,\n",
              " 'A9': 58,\n",
              " 'B102': 80,\n",
              " 'B18': 111,\n",
              " 'B19': 108,\n",
              " 'B20': 137,\n",
              " 'B24': 98,\n",
              " 'B26': 32,\n",
              " 'B28': 97,\n",
              " 'B3': 77,\n",
              " 'B30': 115,\n",
              " 'B35': 18,\n",
              " 'B36': 83,\n",
              " 'B37': 144,\n",
              " 'B4': 130,\n",
              " 'B41': 134,\n",
              " 'B42': 103,\n",
              " 'B45': 13,\n",
              " 'B49': 96,\n",
              " 'B5': 42,\n",
              " 'B50': 6,\n",
              " 'B51': 52,\n",
              " 'B52': 72,\n",
              " 'B57': 21,\n",
              " 'B58': 70,\n",
              " 'B61': 81,\n",
              " 'B69': 33,\n",
              " 'B71': 59,\n",
              " 'B73': 20,\n",
              " 'B77': 85,\n",
              " 'B78': 146,\n",
              " 'B86': 90,\n",
              " 'B94': 36,\n",
              " 'B96': 24,\n",
              " 'C101': 27,\n",
              " 'C103': 124,\n",
              " 'C105': 88,\n",
              " 'C110': 123,\n",
              " 'C111': 8,\n",
              " 'C116': 107,\n",
              " 'C118': 126,\n",
              " 'C123': 35,\n",
              " 'C124': 64,\n",
              " 'C125': 17,\n",
              " 'C126': 66,\n",
              " 'C128': 30,\n",
              " 'C130': 118,\n",
              " 'C132': 91,\n",
              " 'C148': 87,\n",
              " 'C2': 99,\n",
              " 'C22': 4,\n",
              " 'C23': 65,\n",
              " 'C28': 138,\n",
              " 'C30': 55,\n",
              " 'C39': 39,\n",
              " 'C49': 135,\n",
              " 'C51': 120,\n",
              " 'C52': 105,\n",
              " 'C54': 94,\n",
              " 'C55': 62,\n",
              " 'C6': 10,\n",
              " 'C62': 132,\n",
              " 'C65': 75,\n",
              " 'C68': 2,\n",
              " 'C7': 84,\n",
              " 'C78': 26,\n",
              " 'C80': 145,\n",
              " 'C82': 71,\n",
              " 'C83': 102,\n",
              " 'C85': 136,\n",
              " 'C86': 92,\n",
              " 'C87': 11,\n",
              " 'C89': 63,\n",
              " 'C90': 125,\n",
              " 'C91': 79,\n",
              " 'C92': 73,\n",
              " 'C93': 14,\n",
              " 'C95': 112,\n",
              " 'C97': 127,\n",
              " 'C99': 140,\n",
              " 'D': 38,\n",
              " 'D15': 113,\n",
              " 'D17': 43,\n",
              " 'D19': 69,\n",
              " 'D20': 86,\n",
              " 'D21': 116,\n",
              " 'D26': 56,\n",
              " 'D28': 15,\n",
              " 'D30': 121,\n",
              " 'D33': 29,\n",
              " 'D34': 48,\n",
              " 'D35': 50,\n",
              " 'D36': 16,\n",
              " 'D37': 60,\n",
              " 'D38': 5,\n",
              " 'D40': 78,\n",
              " 'D43': 40,\n",
              " 'D46': 53,\n",
              " 'D47': 128,\n",
              " 'D49': 141,\n",
              " 'D50': 131,\n",
              " 'D56': 106,\n",
              " 'D6': 119,\n",
              " 'D7': 46,\n",
              " 'D9': 28,\n",
              " 'E10': 117,\n",
              " 'E101': 110,\n",
              " 'E121': 34,\n",
              " 'E17': 133,\n",
              " 'E24': 3,\n",
              " 'E25': 76,\n",
              " 'E31': 41,\n",
              " 'E33': 114,\n",
              " 'E34': 129,\n",
              " 'E36': 1,\n",
              " 'E38': 89,\n",
              " 'E44': 45,\n",
              " 'E45': 74,\n",
              " 'E46': 68,\n",
              " 'E49': 67,\n",
              " 'E50': 31,\n",
              " 'E60': 54,\n",
              " 'E63': 139,\n",
              " 'E67': 122,\n",
              " 'E68': 57,\n",
              " 'E77': 109,\n",
              " 'E8': 12,\n",
              " 'F': 9,\n",
              " 'F2': 61,\n",
              " 'F33': 44,\n",
              " 'F4': 100,\n",
              " 'G6': 25,\n",
              " 'T': 19,\n",
              " nan: 0}"
            ]
          },
          "metadata": {
            "tags": []
          },
          "execution_count": 17
        }
      ]
    },
    {
      "cell_type": "code",
      "metadata": {
        "id": "1Zkjb3KsPDa9",
        "colab_type": "code",
        "colab": {
          "base_uri": "https://localhost:8080/",
          "height": 359
        },
        "outputId": "e51e90ac-ae2d-4d8d-b0f1-db9909e5b8c0"
      },
      "source": [
        "# codificar la variable cabina utilizando el diccionario creado anteriormente\n",
        "# notemos que el diccionario reemplaza valores nulos por zero\n",
        "\n",
        "X_train.loc[:, 'Cabin_mapped'] = X_train.loc[:, 'cabin'].map(cabin_dict)\n",
        "X_test.loc[:, 'Cabin_mapped'] = X_test.loc[:, 'cabin'].map(cabin_dict)\n",
        "\n",
        "X_train[['Cabin_mapped', 'cabin']].head(10)"
      ],
      "execution_count": 18,
      "outputs": [
        {
          "output_type": "execute_result",
          "data": {
            "text/html": [
              "<div>\n",
              "<style scoped>\n",
              "    .dataframe tbody tr th:only-of-type {\n",
              "        vertical-align: middle;\n",
              "    }\n",
              "\n",
              "    .dataframe tbody tr th {\n",
              "        vertical-align: top;\n",
              "    }\n",
              "\n",
              "    .dataframe thead th {\n",
              "        text-align: right;\n",
              "    }\n",
              "</style>\n",
              "<table border=\"1\" class=\"dataframe\">\n",
              "  <thead>\n",
              "    <tr style=\"text-align: right;\">\n",
              "      <th></th>\n",
              "      <th>Cabin_mapped</th>\n",
              "      <th>cabin</th>\n",
              "    </tr>\n",
              "  </thead>\n",
              "  <tbody>\n",
              "    <tr>\n",
              "      <th>501</th>\n",
              "      <td>0</td>\n",
              "      <td>NaN</td>\n",
              "    </tr>\n",
              "    <tr>\n",
              "      <th>588</th>\n",
              "      <td>0</td>\n",
              "      <td>NaN</td>\n",
              "    </tr>\n",
              "    <tr>\n",
              "      <th>402</th>\n",
              "      <td>0</td>\n",
              "      <td>NaN</td>\n",
              "    </tr>\n",
              "    <tr>\n",
              "      <th>1193</th>\n",
              "      <td>0</td>\n",
              "      <td>NaN</td>\n",
              "    </tr>\n",
              "    <tr>\n",
              "      <th>686</th>\n",
              "      <td>0</td>\n",
              "      <td>NaN</td>\n",
              "    </tr>\n",
              "    <tr>\n",
              "      <th>971</th>\n",
              "      <td>0</td>\n",
              "      <td>NaN</td>\n",
              "    </tr>\n",
              "    <tr>\n",
              "      <th>117</th>\n",
              "      <td>1</td>\n",
              "      <td>E36</td>\n",
              "    </tr>\n",
              "    <tr>\n",
              "      <th>540</th>\n",
              "      <td>0</td>\n",
              "      <td>NaN</td>\n",
              "    </tr>\n",
              "    <tr>\n",
              "      <th>294</th>\n",
              "      <td>2</td>\n",
              "      <td>C68</td>\n",
              "    </tr>\n",
              "    <tr>\n",
              "      <th>261</th>\n",
              "      <td>3</td>\n",
              "      <td>E24</td>\n",
              "    </tr>\n",
              "  </tbody>\n",
              "</table>\n",
              "</div>"
            ],
            "text/plain": [
              "      Cabin_mapped cabin\n",
              "501              0   NaN\n",
              "588              0   NaN\n",
              "402              0   NaN\n",
              "1193             0   NaN\n",
              "686              0   NaN\n",
              "971              0   NaN\n",
              "117              1   E36\n",
              "540              0   NaN\n",
              "294              2   C68\n",
              "261              3   E24"
            ]
          },
          "metadata": {
            "tags": []
          },
          "execution_count": 18
        }
      ]
    },
    {
      "cell_type": "markdown",
      "metadata": {
        "id": "hc5XurzcQire",
        "colab_type": "text"
      },
      "source": [
        "Vemos como NaN toma el valor de 0 en la nueva variable, E36 toma el valor de 1, C68 toma el valor de 2 y asi sucesivamente."
      ]
    },
    {
      "cell_type": "code",
      "metadata": {
        "id": "gMxkT2UmPDdR",
        "colab_type": "code",
        "colab": {
          "base_uri": "https://localhost:8080/",
          "height": 359
        },
        "outputId": "ae777f6a-893a-4cf4-a3eb-7252fc697a72"
      },
      "source": [
        "# Ahora reemplazamos las letras en la variable\n",
        "# cabina reducida siguiendo el mismo procedimiento\n",
        "\n",
        "# crear diccionario para reeemplazar\n",
        "cabin_dict = {k: i for i, k in enumerate(X_train['Cabin_reduced'].unique(), 0)}\n",
        "\n",
        "# reemplazar las etiquetas por los números con el diccionario\n",
        "X_train.loc[:, 'Cabin_reduced'] = X_train.loc[:, 'Cabin_reduced'].map(\n",
        "    cabin_dict)\n",
        "X_test.loc[:, 'Cabin_reduced'] = X_test.loc[:, 'Cabin_reduced'].map(cabin_dict)\n",
        "\n",
        "X_train[['Cabin_reduced', 'cabin']].head(10)"
      ],
      "execution_count": 19,
      "outputs": [
        {
          "output_type": "execute_result",
          "data": {
            "text/html": [
              "<div>\n",
              "<style scoped>\n",
              "    .dataframe tbody tr th:only-of-type {\n",
              "        vertical-align: middle;\n",
              "    }\n",
              "\n",
              "    .dataframe tbody tr th {\n",
              "        vertical-align: top;\n",
              "    }\n",
              "\n",
              "    .dataframe thead th {\n",
              "        text-align: right;\n",
              "    }\n",
              "</style>\n",
              "<table border=\"1\" class=\"dataframe\">\n",
              "  <thead>\n",
              "    <tr style=\"text-align: right;\">\n",
              "      <th></th>\n",
              "      <th>Cabin_reduced</th>\n",
              "      <th>cabin</th>\n",
              "    </tr>\n",
              "  </thead>\n",
              "  <tbody>\n",
              "    <tr>\n",
              "      <th>501</th>\n",
              "      <td>0</td>\n",
              "      <td>NaN</td>\n",
              "    </tr>\n",
              "    <tr>\n",
              "      <th>588</th>\n",
              "      <td>0</td>\n",
              "      <td>NaN</td>\n",
              "    </tr>\n",
              "    <tr>\n",
              "      <th>402</th>\n",
              "      <td>0</td>\n",
              "      <td>NaN</td>\n",
              "    </tr>\n",
              "    <tr>\n",
              "      <th>1193</th>\n",
              "      <td>0</td>\n",
              "      <td>NaN</td>\n",
              "    </tr>\n",
              "    <tr>\n",
              "      <th>686</th>\n",
              "      <td>0</td>\n",
              "      <td>NaN</td>\n",
              "    </tr>\n",
              "    <tr>\n",
              "      <th>971</th>\n",
              "      <td>0</td>\n",
              "      <td>NaN</td>\n",
              "    </tr>\n",
              "    <tr>\n",
              "      <th>117</th>\n",
              "      <td>1</td>\n",
              "      <td>E36</td>\n",
              "    </tr>\n",
              "    <tr>\n",
              "      <th>540</th>\n",
              "      <td>0</td>\n",
              "      <td>NaN</td>\n",
              "    </tr>\n",
              "    <tr>\n",
              "      <th>294</th>\n",
              "      <td>2</td>\n",
              "      <td>C68</td>\n",
              "    </tr>\n",
              "    <tr>\n",
              "      <th>261</th>\n",
              "      <td>1</td>\n",
              "      <td>E24</td>\n",
              "    </tr>\n",
              "  </tbody>\n",
              "</table>\n",
              "</div>"
            ],
            "text/plain": [
              "      Cabin_reduced cabin\n",
              "501               0   NaN\n",
              "588               0   NaN\n",
              "402               0   NaN\n",
              "1193              0   NaN\n",
              "686               0   NaN\n",
              "971               0   NaN\n",
              "117               1   E36\n",
              "540               0   NaN\n",
              "294               2   C68\n",
              "261               1   E24"
            ]
          },
          "metadata": {
            "tags": []
          },
          "execution_count": 19
        }
      ]
    },
    {
      "cell_type": "markdown",
      "metadata": {
        "id": "Sy0EFD-VRAEq",
        "colab_type": "text"
      },
      "source": [
        "Vemos que E36 y E24 tiene el mismo número, 1, porque estamos capturando solo la información de letras y ambos empiezan con E."
      ]
    },
    {
      "cell_type": "code",
      "metadata": {
        "id": "zcav4mEwQdDw",
        "colab_type": "code",
        "colab": {
          "base_uri": "https://localhost:8080/",
          "height": 119
        },
        "outputId": "884f7867-ff9f-4076-c59a-947e51486765"
      },
      "source": [
        "# Ahora reemplacemos las categorías de la variable Sex con números\n",
        "\n",
        "X_train.loc[:, 'sex'] = X_train.loc[:, 'sex'].map({'male': 0, 'female': 1})\n",
        "X_test.loc[:, 'sex'] = X_test.loc[:, 'sex'].map({'male': 0, 'female': 1})\n",
        "\n",
        "X_train.sex.head()"
      ],
      "execution_count": 20,
      "outputs": [
        {
          "output_type": "execute_result",
          "data": {
            "text/plain": [
              "501     1\n",
              "588     1\n",
              "402     1\n",
              "1193    0\n",
              "686     1\n",
              "Name: sex, dtype: int64"
            ]
          },
          "metadata": {
            "tags": []
          },
          "execution_count": 20
        }
      ]
    },
    {
      "cell_type": "code",
      "metadata": {
        "id": "WrCRWlEKQdHB",
        "colab_type": "code",
        "colab": {
          "base_uri": "https://localhost:8080/",
          "height": 85
        },
        "outputId": "1798004c-b861-4db2-e984-a18548c621f7"
      },
      "source": [
        "# miremos si hay datos faltantes en estas variables\n",
        "\n",
        "X_train[['Cabin_mapped', 'Cabin_reduced', 'sex']].isnull().sum()"
      ],
      "execution_count": 21,
      "outputs": [
        {
          "output_type": "execute_result",
          "data": {
            "text/plain": [
              "Cabin_mapped     0\n",
              "Cabin_reduced    0\n",
              "sex              0\n",
              "dtype: int64"
            ]
          },
          "metadata": {
            "tags": []
          },
          "execution_count": 21
        }
      ]
    },
    {
      "cell_type": "code",
      "metadata": {
        "id": "zlM8jMZ1QdKc",
        "colab_type": "code",
        "colab": {
          "base_uri": "https://localhost:8080/",
          "height": 85
        },
        "outputId": "ec7a2fc4-0efc-4add-96ed-6182b4ee2115"
      },
      "source": [
        "X_test[['Cabin_mapped', 'Cabin_reduced', 'sex']].isnull().sum()"
      ],
      "execution_count": 22,
      "outputs": [
        {
          "output_type": "execute_result",
          "data": {
            "text/plain": [
              "Cabin_mapped     41\n",
              "Cabin_reduced     0\n",
              "sex               0\n",
              "dtype: int64"
            ]
          },
          "metadata": {
            "tags": []
          },
          "execution_count": 22
        }
      ]
    },
    {
      "cell_type": "markdown",
      "metadata": {
        "id": "_kLApDHEROl4",
        "colab_type": "text"
      },
      "source": [
        "En el set de prueba, hay ahora 41 valores faltantes para la variable de alta cardinalidad. Estas fueron introducidas cuando re-asignamos las categorías a números. Cómo sucedió? muchas categorías existen solo en la muestra de prueba. Inicialmente creamos nuestro  diccionario  usando la muestra de entrenamiento, y no generamos números para reemplazar esas etiquetas que se encontraban solo en la muestra de prueba. El resultado, es que estas etiquetas se codificaron con NaN.  Por ahora, llenaremos esos datos faltantes con 0.\n"
      ]
    },
    {
      "cell_type": "code",
      "metadata": {
        "id": "rxVVyPpPQdM8",
        "colab_type": "code",
        "colab": {
          "base_uri": "https://localhost:8080/",
          "height": 34
        },
        "outputId": "bf202e16-5e0b-418e-bd57-d5e7aaeb7f6a"
      },
      "source": [
        "# Miremos el número de las diferentes categorias en las variables codificadas.\n",
        "len(X_train.Cabin_mapped.unique()), len(X_train.Cabin_reduced.unique())"
      ],
      "execution_count": 23,
      "outputs": [
        {
          "output_type": "execute_result",
          "data": {
            "text/plain": [
              "(147, 9)"
            ]
          },
          "metadata": {
            "tags": []
          },
          "execution_count": 23
        }
      ]
    },
    {
      "cell_type": "markdown",
      "metadata": {
        "id": "iNN9_4i_RdB5",
        "colab_type": "text"
      },
      "source": [
        "Podemos ver que de las 182 cabinas originales en los datos, solo 147 están presentes en la muestra de entrenamiento. Vemos también como reducimos el número de las diferentes categorías a solo 9.\n",
        "\n",
        "Prosigamos con la evaluación del efecto de la cardinalidad en los algoritmos de machine learning.\n"
      ]
    },
    {
      "cell_type": "markdown",
      "metadata": {
        "id": "D5Oil9aBRg5Z",
        "colab_type": "text"
      },
      "source": [
        "### Random Forests"
      ]
    },
    {
      "cell_type": "code",
      "metadata": {
        "id": "ZHlmwqOiRPpj",
        "colab_type": "code",
        "colab": {
          "base_uri": "https://localhost:8080/",
          "height": 85
        },
        "outputId": "a8032f06-0af5-442d-85b2-fd30ee216bd7"
      },
      "source": [
        "# Modelo construido con los datos de alta cardinalidad \n",
        "# en la variable cabina\n",
        "\n",
        "# Modelo\n",
        "rf = RandomForestClassifier(n_estimators=200, random_state=39)\n",
        "\n",
        "# entrenar el modelo\n",
        "rf.fit(X_train[['Cabin_mapped', 'sex']], y_train)\n",
        "\n",
        "# hacer las predicciones en la muestra de entrenamiento y prueba\n",
        "pred_train = rf.predict_proba(X_train[['Cabin_mapped', 'sex']])\n",
        "pred_test = rf.predict_proba(X_test[['Cabin_mapped', 'sex']].fillna(0))\n",
        "\n",
        "print('Muestra de entrenamiento')\n",
        "print('Random Forests roc-auc: {}'.format(roc_auc_score(y_train, pred_train[:,1])))\n",
        "print('Muestra de prueba')\n",
        "print('Random Forests roc-auc: {}'.format(roc_auc_score(y_test, pred_test[:,1])))"
      ],
      "execution_count": 24,
      "outputs": [
        {
          "output_type": "stream",
          "text": [
            "Muestra de entrenamiento\n",
            "Random Forests roc-auc: 0.853790650048556\n",
            "Muestra de prueba\n",
            "Random Forests roc-auc: 0.7691361097284443\n"
          ],
          "name": "stdout"
        }
      ]
    },
    {
      "cell_type": "markdown",
      "metadata": {
        "id": "8ll1W7DgRuLu",
        "colab_type": "text"
      },
      "source": [
        "Podemos ver que el desempeño de Random Forest en la muestra de entrenamiento es muy superior al desempeño en la muestra de prueba. Esto indica que el modelo esta sobre-ajustando: es muy bueno prediciendo los resultados en los datos que se usan para entrenarlo, pero no tiene el poder para generalizar las predicciones en datos nuevos.\n"
      ]
    },
    {
      "cell_type": "code",
      "metadata": {
        "id": "rpuhoF0gRPsZ",
        "colab_type": "code",
        "colab": {
          "base_uri": "https://localhost:8080/",
          "height": 85
        },
        "outputId": "8abf994b-49e3-499c-e770-5e2abd6efda6"
      },
      "source": [
        "  # modelo construido con dataos de baja cardinalidad para cabin\n",
        "\n",
        "# iniciar modelo\n",
        "rf = RandomForestClassifier(n_estimators=200, random_state=39)\n",
        "\n",
        "# entrenar  modelo\n",
        "rf.fit(X_train[['Cabin_reduced', 'sex']], y_train)\n",
        "\n",
        "# hacer predicciones en el segmento de prueba y entrenamiento \n",
        "pred_train = rf.predict_proba(X_train[['Cabin_reduced', 'sex']])\n",
        "pred_test = rf.predict_proba(X_test[['Cabin_reduced', 'sex']])\n",
        "\n",
        "print('Segmento de entrenamiento')\n",
        "print('Random Forests roc-auc: {}'.format(roc_auc_score(y_train, pred_train[:,1])))\n",
        "print('Segmento de prueba')\n",
        "print('Random Forests roc-auc: {}'.format(roc_auc_score(y_test, pred_test[:,1])))"
      ],
      "execution_count": 25,
      "outputs": [
        {
          "output_type": "stream",
          "text": [
            "Segmento de entrenamiento\n",
            "Random Forests roc-auc: 0.8163420365403872\n",
            "Segmento de prueba\n",
            "Random Forests roc-auc: 0.8017670482827277\n"
          ],
          "name": "stdout"
        }
      ]
    },
    {
      "cell_type": "markdown",
      "metadata": {
        "id": "oFJ9NT_fSFwx",
        "colab_type": "text"
      },
      "source": [
        "Podemos ver que con variables de baja cardinalidad, el Random Forest no sobre-ajusta al segmento de entrenamiento. Además, el modelo es mucho mejor generalizando las predicciones (compara el roc-auc de este modelo en el segmento de prueba vs el roc-auc del modelo anterior).\n",
        "\n",
        "**Algo para resaltar: probablemente se pueda mejorar el impacto de la alta cardinalidad ajustando los hiper-parámetros del Random Forest. Aquí simplemente queremos mostrar, que dado el mismo modelo, con los mismos hiper-parámetros, la alta cardinalidad puede causar sobre-ajustes en el mismo.**.\n"
      ]
    },
    {
      "cell_type": "markdown",
      "metadata": {
        "id": "JOkllzy4SPRJ",
        "colab_type": "text"
      },
      "source": [
        "### AdaBoost"
      ]
    },
    {
      "cell_type": "code",
      "metadata": {
        "id": "7BGrbMkpRPuv",
        "colab_type": "code",
        "colab": {
          "base_uri": "https://localhost:8080/",
          "height": 85
        },
        "outputId": "b0837970-f14f-4981-f5c1-a9ae12653457"
      },
      "source": [
        "# modelo construido con datos de alta cardinalidad para cabin\n",
        "\n",
        "# iniciar modelo\n",
        "ada = AdaBoostClassifier(n_estimators=200, random_state=44)\n",
        "\n",
        "# entrenar  modelo\n",
        "ada.fit(X_train[['Cabin_mapped', 'sex']], y_train)\n",
        "\n",
        "# hacer predicciones en el segmento de prueba y entrenamiento \n",
        "pred_train = ada.predict_proba(X_train[['Cabin_mapped', 'sex']])\n",
        "pred_test = ada.predict_proba(X_test[['Cabin_mapped', 'sex']].fillna(0))\n",
        "\n",
        "print('Segmento de entrenamiento')\n",
        "print('Adaboost roc-auc: {}'.format(roc_auc_score(y_train, pred_train[:,1])))\n",
        "print('Segmento de prueba')\n",
        "print('Adaboost roc-auc: {}'.format(roc_auc_score(y_test, pred_test[:,1])))"
      ],
      "execution_count": 27,
      "outputs": [
        {
          "output_type": "stream",
          "text": [
            "Segmento de entrenamiento\n",
            "Adaboost roc-auc: 0.8296861713101102\n",
            "Segmento de prueba\n",
            "Adaboost roc-auc: 0.7604391350035948\n"
          ],
          "name": "stdout"
        }
      ]
    },
    {
      "cell_type": "code",
      "metadata": {
        "id": "Isl_AZQmRPxs",
        "colab_type": "code",
        "colab": {
          "base_uri": "https://localhost:8080/",
          "height": 85
        },
        "outputId": "74616fd8-cc62-460e-be3d-2ff68a31ac50"
      },
      "source": [
        "# modelo construido con datos de baja cardinalidad para cabin\n",
        "\n",
        "# iniciar modelo\n",
        "ada = AdaBoostClassifier(n_estimators=200, random_state=44)\n",
        "\n",
        "# entrenar  modelo\n",
        "ada.fit(X_train[['Cabin_reduced', 'sex']], y_train)\n",
        "\n",
        "#  predicciones en el segmento de prueba y entrenamiento \n",
        "pred_train = ada.predict_proba(X_train[['Cabin_reduced', 'sex']])\n",
        "pred_test = ada.predict_proba(X_test[['Cabin_reduced', 'sex']].fillna(0))\n",
        "\n",
        "print('Segmento de entrenamiento')\n",
        "print('Adaboost roc-auc: {}'.format(roc_auc_score(y_train, pred_train[:,1])))\n",
        "print('Segmento de prueba')\n",
        "print('Adaboost roc-auc: {}'.format(roc_auc_score(y_test, pred_test[:,1])))\n"
      ],
      "execution_count": 28,
      "outputs": [
        {
          "output_type": "stream",
          "text": [
            "Segmento de entrenamiento\n",
            "Adaboost roc-auc: 0.8161256723642566\n",
            "Segmento de prueba\n",
            "Adaboost roc-auc: 0.8001078480172557\n"
          ],
          "name": "stdout"
        }
      ]
    },
    {
      "cell_type": "markdown",
      "metadata": {
        "id": "ZN6JbGY_SbUE",
        "colab_type": "text"
      },
      "source": [
        "Similarmente, el modelo Adaboost entrenado con la variable con alta cardinalidad sobre-ajusta el segmento de entrenamiento. Por el contrario, el modelo Adaboots entrenado con la variable de baja cardinalidad, generaliza mejor las predicciones.\n",
        "\n",
        "Adicionalmente hay otras ventajas en construir un modelo con menos categorías en Cabina: \n",
        "\n",
        "a) es más simple \n",
        "\n",
        " b) si una nueva categoría aparece en el segmento de prueba, simplemente con tomar la primera letra de la cabina, el modelo de machine learning sabrá cómo manejarla ya que ese caso “existía” en los datos de entrenamiento.\n"
      ]
    },
    {
      "cell_type": "markdown",
      "metadata": {
        "id": "cyMBlJd6TS9Z",
        "colab_type": "text"
      },
      "source": [
        "### Regresión Logística "
      ]
    },
    {
      "cell_type": "code",
      "metadata": {
        "id": "Cb4NCnmNTSBC",
        "colab_type": "code",
        "colab": {
          "base_uri": "https://localhost:8080/",
          "height": 85
        },
        "outputId": "2624c277-82b3-44ca-cbaa-ff496b36c2eb"
      },
      "source": [
        "# modelo construido con datos de alta cardinalidad para cabin\n",
        "\n",
        "# iniciar modelo\n",
        "logit = LogisticRegression(random_state=44, solver='lbfgs')\n",
        "\n",
        "# entrenar modelo\n",
        "logit.fit(X_train[['Cabin_mapped', 'sex']], y_train)\n",
        "\n",
        "#  hacer predicciones en el segmento de prueba y entrenamiento \n",
        "pred_train = logit.predict_proba(X_train[['Cabin_mapped', 'sex']])\n",
        "pred_test = logit.predict_proba(X_test[['Cabin_mapped', 'sex']].fillna(0))\n",
        "\n",
        "print('Segmento de entrenamiento')\n",
        "print('Logistic regression roc-auc: {}'.format(roc_auc_score(y_train, pred_train[:,1])))\n",
        "print('Segmento de prueba')\n",
        "print('Logistic regression roc-auc: {}'.format(roc_auc_score(y_test, pred_test[:,1])))"
      ],
      "execution_count": 29,
      "outputs": [
        {
          "output_type": "stream",
          "text": [
            "Segmento de entrenamiento\n",
            "Logistic regression roc-auc: 0.8133909298124677\n",
            "Segmento de prueba\n",
            "Logistic regression roc-auc: 0.7750815773463858\n"
          ],
          "name": "stdout"
        }
      ]
    },
    {
      "cell_type": "code",
      "metadata": {
        "id": "GAnx6N7zSU1c",
        "colab_type": "code",
        "colab": {
          "base_uri": "https://localhost:8080/",
          "height": 85
        },
        "outputId": "ff8ea07c-ef3a-4b89-fe54-5d49b9d5a937"
      },
      "source": [
        "# modelo construido con datos de baja cardinalidad para cabin\n",
        "\n",
        "# iniciar modelo\n",
        "logit = LogisticRegression(random_state=44, solver='lbfgs')\n",
        "\n",
        "# entrenar modelo\n",
        "logit.fit(X_train[['Cabin_reduced', 'sex']], y_train)\n",
        "\n",
        "#  hacer predicciones en el segmento de prueba y entrenamiento \n",
        "pred_train = logit.predict_proba(X_train[['Cabin_reduced', 'sex']])\n",
        "pred_test = logit.predict_proba(X_test[['Cabin_reduced', 'sex']].fillna(0))\n",
        "\n",
        "print('Segmento de entrenamiento')\n",
        "print('Logistic regression roc-auc: {}'.format(roc_auc_score(y_train, pred_train[:,1])))\n",
        "print('Segmento de prueba')\n",
        "print('Logistic regression roc-auc: {}'.format(roc_auc_score(y_test, pred_test[:,1])))"
      ],
      "execution_count": 30,
      "outputs": [
        {
          "output_type": "stream",
          "text": [
            "Segmento de entrenamiento\n",
            "Logistic regression roc-auc: 0.8123468468695123\n",
            "Segmento de prueba\n",
            "Logistic regression roc-auc: 0.8008268347989602\n"
          ],
          "name": "stdout"
        }
      ]
    },
    {
      "cell_type": "markdown",
      "metadata": {
        "id": "GbdEDJQCTiy6",
        "colab_type": "text"
      },
      "source": [
        "Podemos sacar la misma conclusión con la Regresión Logistica: reducir la cardinalidad mejora el desempeño del modelo y el poder de generalización del mismo\n"
      ]
    },
    {
      "cell_type": "markdown",
      "metadata": {
        "id": "Q6yM-sARTr-T",
        "colab_type": "text"
      },
      "source": [
        "### Gradient Boosted Classifier - Máquina de potenciación del gradiente"
      ]
    },
    {
      "cell_type": "code",
      "metadata": {
        "id": "DGr-dq-TSU4O",
        "colab_type": "code",
        "colab": {
          "base_uri": "https://localhost:8080/",
          "height": 85
        },
        "outputId": "42032244-b835-4815-af81-85e175fe4226"
      },
      "source": [
        "# Construir modelo con datos con variedad categorias\n",
        "# en la variable cabin\n",
        "\n",
        "# iniciar modelo\n",
        "gbc = GradientBoostingClassifier(n_estimators=300, random_state=44)\n",
        "\n",
        "# entrenar modelo\n",
        "gbc.fit(X_train[['Cabin_mapped', 'sex']], y_train)\n",
        "\n",
        "#  hacer predicciones en el segmento de prueba y entrenamiento \n",
        "pred_train = gbc.predict_proba(X_train[['Cabin_mapped', 'sex']])\n",
        "pred_test = gbc.predict_proba(X_test[['Cabin_mapped', 'sex']].fillna(0))\n",
        "\n",
        "print('Segmento de entrenamiento')\n",
        "print('Máquina de potenciación del gradiente roc-auc: {}'.format(roc_auc_score(y_train, pred_train[:,1])))\n",
        "print('Segmento de prueba')\n",
        "print('Máquina de potenciación del gradiente roc-auc: {}'.format(roc_auc_score(y_test, pred_test[:,1])))\n",
        "\n"
      ],
      "execution_count": 31,
      "outputs": [
        {
          "output_type": "stream",
          "text": [
            "Segmento de entrenamiento\n",
            "Máquina de potenciación del gradiente roc-auc: 0.862631390919749\n",
            "Segmento de prueba\n",
            "Máquina de potenciación del gradiente roc-auc: 0.7733117637298823\n"
          ],
          "name": "stdout"
        }
      ]
    },
    {
      "cell_type": "code",
      "metadata": {
        "id": "tbVFX8KMTkCp",
        "colab_type": "code",
        "colab": {
          "base_uri": "https://localhost:8080/",
          "height": 85
        },
        "outputId": "7c782091-905c-46c3-c200-d5ccb3fbb0cc"
      },
      "source": [
        "# Construir modelo con datos con variedad categorias\n",
        "# en la variable cabin\n",
        "\n",
        "# iniciar modelo\n",
        "gbc = GradientBoostingClassifier(n_estimators=300, random_state=44)\n",
        "\n",
        "# entrenar modelo\n",
        "gbc.fit(X_train[['Cabin_reduced', 'sex']], y_train)\n",
        "\n",
        "#  hacer predicciones en el segmento de prueba y entrenamiento \n",
        "pred_train = gbc.predict_proba(X_train[['Cabin_reduced', 'sex']])\n",
        "pred_test = gbc.predict_proba(X_test[['Cabin_reduced', 'sex']].fillna(0))\n",
        "\n",
        "\n",
        "print('Segmento de entrenamiento')\n",
        "print('Máquina de potenciación del gradiente roc-auc: {}'.format(roc_auc_score(y_train, pred_train[:,1])))\n",
        "print('Segmento de prueba')\n",
        "print('Máquina de potenciación del gradiente roc-auc: {}'.format(roc_auc_score(y_test, pred_test[:,1])))"
      ],
      "execution_count": 32,
      "outputs": [
        {
          "output_type": "stream",
          "text": [
            "Segmento de entrenamiento\n",
            "Máquina de potenciación del gradiente roc-auc: 0.816719415917359\n",
            "Segmento de prueba\n",
            "Máquina de potenciación del gradiente roc-auc: 0.8015181682429069\n"
          ],
          "name": "stdout"
        }
      ]
    },
    {
      "cell_type": "markdown",
      "metadata": {
        "id": "XUET_Pk4T7Oc",
        "colab_type": "text"
      },
      "source": [
        "Gradient Boosted trees sobre ajustan al segmento de entrenamiento en los casos donde la variable cabin tiene muchas etiquetas. Esto es de esperarse ya que los métodos basados en arboles tienden a sesgarse cuando hay muchas categorías en una variable.\n"
      ]
    },
    {
      "cell_type": "markdown",
      "metadata": {
        "id": "7alLprOT-9oi",
        "colab_type": "text"
      },
      "source": [
        "# **Etiquetas poco comunes**\n",
        "\n",
        "### Son éstas etiquetas poco comunes un problema?\n",
        "\n",
        "Estos valores poco comunes o raros puede que tengan un gran valor predictivo o por el contrario, ninguno. Por ejemplo, considera una reunión de accionistas donde cada persona puede votar en proporción a su número de acciones. Uno de los accionistas tiene el 50% de las acciones y los otros 99 accionistas tienen el 50% restante. El resultado del voto estaría ampliamente influenciado por el accionista que tiene la mayoría de las acciones. Los demás accionistas podrían tener algo de influencia solamente si se les considera en grupo, pero no individualmente.\n",
        "\n",
        "Lo mismo sucede con conjuntos de datos reales. Las etiquetas de las categorías sobre-representadas tienden a dominar los resultados, mientras que aquellas que están sub-representadas solo tienen impacto cuando se les consideran colectivamente.\n",
        "\n",
        "**Nota** En algunas ocasiones, los valores poco comunes son de hecho importantes. Por ejemplo, si estamos construyendo un modelo predictivo para detectar aplicaciones fraudulentas, un evento que es de por si poco común, una variable con ciertos valores raros puede ser de gran valor predictivo.  Este valor poco común puede ser un indicativo que la observación es probablemente una aplicación fraudulenta, y por lo tanto no debemos ignorarla.\n",
        "\n",
        "## Definición:\n",
        "\n",
        "Son aquellas que aparecen solo en una pequeña proporción de los datos.\n",
        "\n",
        "**Ejemplo:**\n",
        "\n",
        "Supongamos que tenemos la variable 'Ciudad' en donde aparecen estás 2 ciudades.\n",
        "\n",
        "$\\bullet$ New York es una categoría frecuente\n",
        "\n",
        "$\\bullet$ Leavenworth es una categoría poco común\n",
        "\n",
        "### ¿Cómo las etiquetas poco comunes pueden afectar el desempeño y operalización de modelos de Machine Learning?\n",
        "\n",
        "$\\bullet$ **Scikit-Learn** líbreria estandar para Machine Learning no soporta cadenas (strings) dentro de las variables (Deben codificarse a números).\n",
        "\n",
        "$\\bullet$ Las variables altamente cardinales puede llevar a tener distribuciones desiguales entre el set de entrenamiento y prueba.\n",
        "\n",
        "$\\star$Algunas etiquetas solo aparecen en el set de entrenamiento $\\Rightarrow$ sobre ajuste.\n",
        "\n",
        "$\\star$Algunas etiquetas solo aparecen en el set de prueba $\\Rightarrow$ el modelo no sabe como interpretar estos valores.\n",
        "\n",
        "$\\bullet$ Las variables altamente cardinales puede llevar a tener sobre ajustes principalmente en **algoritmos basados en árboles**.\n",
        "\n",
        "$\\star$Variables con muchas etiquetas tienden a dominar a las de menos etiquetas, particularmente en **algoritmos basados en árboles**.\n",
        "\n",
        "$\\star$Un gran número de etiquetas en una variable puede introducir ruido y poca información.\n",
        "\n",
        "$\\star$Reducción de la cardinalidad puede ayudar con el desempeño de los modelos de Machine Learning.\n",
        "\n",
        "\n",
        "\n"
      ]
    },
    {
      "cell_type": "code",
      "metadata": {
        "id": "oC4rWIPX9aiR",
        "colab_type": "code",
        "colab": {}
      },
      "source": [
        "import pandas as pd\n",
        "import numpy as np\n",
        "\n",
        "import matplotlib.pyplot as plt\n",
        "\n",
        "# para separar los datos en entrenamiento y prueba\n",
        "from sklearn.model_selection import train_test_split"
      ],
      "execution_count": 33,
      "outputs": []
    },
    {
      "cell_type": "code",
      "metadata": {
        "id": "s3mxSR2jeApC",
        "colab_type": "code",
        "colab": {
          "base_uri": "https://localhost:8080/",
          "height": 204
        },
        "outputId": "308436b5-9c7d-415b-d525-57dcc3529447"
      },
      "source": [
        "# Carguemos los datos con solo unas columnas.\n",
        "\n",
        "# Definición de variables:\n",
        "#-------------------------\n",
        "\n",
        "# Neighborhood: Localidad \n",
        "# Exterior1st: Material cubriendo el exterior de la casa \n",
        "# Exterior2nd: Material cubriendo el exterior de la casa (si hay más de un material)\n",
        "\n",
        "use_cols = ['Neighborhood', 'Exterior1st', 'Exterior2nd', 'SalePrice']\n",
        "\n",
        "data = pd.read_csv('/content/drive/My Drive/datasets/houseprice.csv', usecols=use_cols)\n",
        "\n",
        "data.head()"
      ],
      "execution_count": 34,
      "outputs": [
        {
          "output_type": "execute_result",
          "data": {
            "text/html": [
              "<div>\n",
              "<style scoped>\n",
              "    .dataframe tbody tr th:only-of-type {\n",
              "        vertical-align: middle;\n",
              "    }\n",
              "\n",
              "    .dataframe tbody tr th {\n",
              "        vertical-align: top;\n",
              "    }\n",
              "\n",
              "    .dataframe thead th {\n",
              "        text-align: right;\n",
              "    }\n",
              "</style>\n",
              "<table border=\"1\" class=\"dataframe\">\n",
              "  <thead>\n",
              "    <tr style=\"text-align: right;\">\n",
              "      <th></th>\n",
              "      <th>Neighborhood</th>\n",
              "      <th>Exterior1st</th>\n",
              "      <th>Exterior2nd</th>\n",
              "      <th>SalePrice</th>\n",
              "    </tr>\n",
              "  </thead>\n",
              "  <tbody>\n",
              "    <tr>\n",
              "      <th>0</th>\n",
              "      <td>CollgCr</td>\n",
              "      <td>VinylSd</td>\n",
              "      <td>VinylSd</td>\n",
              "      <td>208500</td>\n",
              "    </tr>\n",
              "    <tr>\n",
              "      <th>1</th>\n",
              "      <td>Veenker</td>\n",
              "      <td>MetalSd</td>\n",
              "      <td>MetalSd</td>\n",
              "      <td>181500</td>\n",
              "    </tr>\n",
              "    <tr>\n",
              "      <th>2</th>\n",
              "      <td>CollgCr</td>\n",
              "      <td>VinylSd</td>\n",
              "      <td>VinylSd</td>\n",
              "      <td>223500</td>\n",
              "    </tr>\n",
              "    <tr>\n",
              "      <th>3</th>\n",
              "      <td>Crawfor</td>\n",
              "      <td>Wd Sdng</td>\n",
              "      <td>Wd Shng</td>\n",
              "      <td>140000</td>\n",
              "    </tr>\n",
              "    <tr>\n",
              "      <th>4</th>\n",
              "      <td>NoRidge</td>\n",
              "      <td>VinylSd</td>\n",
              "      <td>VinylSd</td>\n",
              "      <td>250000</td>\n",
              "    </tr>\n",
              "  </tbody>\n",
              "</table>\n",
              "</div>"
            ],
            "text/plain": [
              "  Neighborhood Exterior1st Exterior2nd  SalePrice\n",
              "0      CollgCr     VinylSd     VinylSd     208500\n",
              "1      Veenker     MetalSd     MetalSd     181500\n",
              "2      CollgCr     VinylSd     VinylSd     223500\n",
              "3      Crawfor     Wd Sdng     Wd Shng     140000\n",
              "4      NoRidge     VinylSd     VinylSd     250000"
            ]
          },
          "metadata": {
            "tags": []
          },
          "execution_count": 34
        }
      ]
    },
    {
      "cell_type": "code",
      "metadata": {
        "id": "LYRisT5beR55",
        "colab_type": "code",
        "colab": {
          "base_uri": "https://localhost:8080/",
          "height": 85
        },
        "outputId": "896ea4eb-52a1-4576-df05-ca5b614e1375"
      },
      "source": [
        "# Miremos las diferentes categorías\n",
        "# en cada una de las variables (cardinalidad)\n",
        "\n",
        "# Estas son las variables categóricas \n",
        "cat_cols = ['Neighborhood', 'Exterior1st', 'Exterior2nd']\n",
        "\n",
        "for col in cat_cols:\n",
        "    print('variable: ', col, ' número de etiquetas: ', data[col].nunique())\n",
        "\n",
        "print('Número total de casas: ', len(data))"
      ],
      "execution_count": 36,
      "outputs": [
        {
          "output_type": "stream",
          "text": [
            "variable:  Neighborhood  número de etiquetas:  25\n",
            "variable:  Exterior1st  número de etiquetas:  15\n",
            "variable:  Exterior2nd  número de etiquetas:  16\n",
            "Número total de casas:  1460\n"
          ],
          "name": "stdout"
        }
      ]
    },
    {
      "cell_type": "markdown",
      "metadata": {
        "id": "BuFxvcPQg1T0",
        "colab_type": "text"
      },
      "source": [
        "La variable 'Neighborhood' muestra 25 valores diferentes, 'Exterior1st' 15, y 'Exterior2nd' 16 categorías."
      ]
    },
    {
      "cell_type": "code",
      "metadata": {
        "id": "REEyDoEge28j",
        "colab_type": "code",
        "colab": {
          "base_uri": "https://localhost:8080/",
          "height": 918
        },
        "outputId": "57b88fae-75ff-4ae3-f690-b3634e1fa2f1"
      },
      "source": [
        "# Grafiquemos que tan frecuentemente aparece\n",
        "# cada categoría en los datos.\n",
        "\n",
        "\n",
        "total_houses = len(data)\n",
        "\n",
        "# Por cada categoria\n",
        "for col in cat_cols:\n",
        "\n",
        "    # contar el número de casas por cada categoría\n",
        "    # y dividir por el número total de casas\n",
        "\n",
        "    # esto es, el porcentaje de casas por cada categoría \n",
        "\n",
        "    temp_df = pd.Series(data[col].value_counts() / total_houses)\n",
        "\n",
        "    # Creemos una gráfica con los porcentajes anteriores \n",
        "    fig = temp_df.sort_values(ascending=False).plot.bar()\n",
        "    fig.set_xlabel(col)\n",
        "\n",
        "    # Una línea al 5 % marca el límite para las categorias poco comunes\n",
        "    fig.axhline(y=0.05, color='red')\n",
        "    fig.set_ylabel('Porcentaje de casas')\n",
        "    plt.show()"
      ],
      "execution_count": 37,
      "outputs": [
        {
          "output_type": "display_data",
          "data": {
            "image/png": "[encoded data removed]",
            "text/plain": [
              "<Figure size 432x288 with 1 Axes>"
            ]
          },
          "metadata": {
            "tags": [],
            "needs_background": "light"
          }
        },
        {
          "output_type": "display_data",
          "data": {
            "image/png": "[encoded data removed]",
            "text/plain": [
              "<Figure size 432x288 with 1 Axes>"
            ]
          },
          "metadata": {
            "tags": [],
            "needs_background": "light"
          }
        },
        {
          "output_type": "display_data",
          "data": {
            "image/png": "[encoded data removed]",
            "text/plain": [
              "<Figure size 432x288 with 1 Axes>"
            ]
          },
          "metadata": {
            "tags": [],
            "needs_background": "light"
          }
        }
      ]
    },
    {
      "cell_type": "markdown",
      "metadata": {
        "id": "px0PnuUOhn0n",
        "colab_type": "text"
      },
      "source": [
        "Por cada variable categórica, algunas de las etiquetas aparecen en más del 10% de las casas y muchas otras en solo el 10% o hasta el 5% de las casas.\n",
        "Estas etiquetas que son menos frecuentes, son los **valores raros o poco comunes** y pueden causar sobreajustes.\n",
        "\n",
        "### Como se relaciona la variable objetivo o target, \"SalePrice\",  con estas categorías?\n",
        "\n",
        "En las siguientes celdas, vamos a explorar el precio de venta 'SalePrice' para cada grupo de casas que muestra estas categorías.\n",
        "\n"
      ]
    },
    {
      "cell_type": "code",
      "metadata": {
        "id": "R8ChYWoug6XW",
        "colab_type": "code",
        "colab": {}
      },
      "source": [
        "# Las siguientes funciones calculan:\n",
        "\n",
        "# 1) el porcentaje de casas por categoría \n",
        "# 2) el precio promedio de venta por categoría 'SalePrice' \n",
        "\n",
        "\n",
        "def calculate_mean_target_per_category(df, var):\n",
        "\n",
        "    # número total de casas\n",
        "    total_houses = len(df)\n",
        "\n",
        "    # porcenaje de casas por categoría\n",
        "    temp_df = pd.Series(df[var].value_counts() / total_houses).reset_index()\n",
        "    temp_df.columns = [var, 'perc_houses']\n",
        "\n",
        "    # precio promedio\n",
        "    temp_df = temp_df.merge(df.groupby([var])['SalePrice'].mean().reset_index(),\n",
        "                            on=var,\n",
        "                            how='left')\n",
        "\n",
        "    return temp_df"
      ],
      "execution_count": 42,
      "outputs": []
    },
    {
      "cell_type": "code",
      "metadata": {
        "id": "6KXEmHhahWeI",
        "colab_type": "code",
        "colab": {
          "base_uri": "https://localhost:8080/",
          "height": 824
        },
        "outputId": "be86d6a2-4bc7-4f98-f3cc-53bbf1a709bb"
      },
      "source": [
        "# Ahora usamos la funcíon applicada a la variable 'Neighborhood'\n",
        "temp_df = calculate_mean_target_per_category(data, 'Neighborhood')\n",
        "temp_df"
      ],
      "execution_count": 43,
      "outputs": [
        {
          "output_type": "execute_result",
          "data": {
            "text/html": [
              "<div>\n",
              "<style scoped>\n",
              "    .dataframe tbody tr th:only-of-type {\n",
              "        vertical-align: middle;\n",
              "    }\n",
              "\n",
              "    .dataframe tbody tr th {\n",
              "        vertical-align: top;\n",
              "    }\n",
              "\n",
              "    .dataframe thead th {\n",
              "        text-align: right;\n",
              "    }\n",
              "</style>\n",
              "<table border=\"1\" class=\"dataframe\">\n",
              "  <thead>\n",
              "    <tr style=\"text-align: right;\">\n",
              "      <th></th>\n",
              "      <th>Neighborhood</th>\n",
              "      <th>perc_houses</th>\n",
              "      <th>SalePrice</th>\n",
              "    </tr>\n",
              "  </thead>\n",
              "  <tbody>\n",
              "    <tr>\n",
              "      <th>0</th>\n",
              "      <td>NAmes</td>\n",
              "      <td>0.154110</td>\n",
              "      <td>145847.080000</td>\n",
              "    </tr>\n",
              "    <tr>\n",
              "      <th>1</th>\n",
              "      <td>CollgCr</td>\n",
              "      <td>0.102740</td>\n",
              "      <td>197965.773333</td>\n",
              "    </tr>\n",
              "    <tr>\n",
              "      <th>2</th>\n",
              "      <td>OldTown</td>\n",
              "      <td>0.077397</td>\n",
              "      <td>128225.300885</td>\n",
              "    </tr>\n",
              "    <tr>\n",
              "      <th>3</th>\n",
              "      <td>Edwards</td>\n",
              "      <td>0.068493</td>\n",
              "      <td>128219.700000</td>\n",
              "    </tr>\n",
              "    <tr>\n",
              "      <th>4</th>\n",
              "      <td>Somerst</td>\n",
              "      <td>0.058904</td>\n",
              "      <td>225379.837209</td>\n",
              "    </tr>\n",
              "    <tr>\n",
              "      <th>5</th>\n",
              "      <td>Gilbert</td>\n",
              "      <td>0.054110</td>\n",
              "      <td>192854.506329</td>\n",
              "    </tr>\n",
              "    <tr>\n",
              "      <th>6</th>\n",
              "      <td>NridgHt</td>\n",
              "      <td>0.052740</td>\n",
              "      <td>316270.623377</td>\n",
              "    </tr>\n",
              "    <tr>\n",
              "      <th>7</th>\n",
              "      <td>Sawyer</td>\n",
              "      <td>0.050685</td>\n",
              "      <td>136793.135135</td>\n",
              "    </tr>\n",
              "    <tr>\n",
              "      <th>8</th>\n",
              "      <td>NWAmes</td>\n",
              "      <td>0.050000</td>\n",
              "      <td>189050.068493</td>\n",
              "    </tr>\n",
              "    <tr>\n",
              "      <th>9</th>\n",
              "      <td>SawyerW</td>\n",
              "      <td>0.040411</td>\n",
              "      <td>186555.796610</td>\n",
              "    </tr>\n",
              "    <tr>\n",
              "      <th>10</th>\n",
              "      <td>BrkSide</td>\n",
              "      <td>0.039726</td>\n",
              "      <td>124834.051724</td>\n",
              "    </tr>\n",
              "    <tr>\n",
              "      <th>11</th>\n",
              "      <td>Crawfor</td>\n",
              "      <td>0.034932</td>\n",
              "      <td>210624.725490</td>\n",
              "    </tr>\n",
              "    <tr>\n",
              "      <th>12</th>\n",
              "      <td>Mitchel</td>\n",
              "      <td>0.033562</td>\n",
              "      <td>156270.122449</td>\n",
              "    </tr>\n",
              "    <tr>\n",
              "      <th>13</th>\n",
              "      <td>NoRidge</td>\n",
              "      <td>0.028082</td>\n",
              "      <td>335295.317073</td>\n",
              "    </tr>\n",
              "    <tr>\n",
              "      <th>14</th>\n",
              "      <td>Timber</td>\n",
              "      <td>0.026027</td>\n",
              "      <td>242247.447368</td>\n",
              "    </tr>\n",
              "    <tr>\n",
              "      <th>15</th>\n",
              "      <td>IDOTRR</td>\n",
              "      <td>0.025342</td>\n",
              "      <td>100123.783784</td>\n",
              "    </tr>\n",
              "    <tr>\n",
              "      <th>16</th>\n",
              "      <td>ClearCr</td>\n",
              "      <td>0.019178</td>\n",
              "      <td>212565.428571</td>\n",
              "    </tr>\n",
              "    <tr>\n",
              "      <th>17</th>\n",
              "      <td>SWISU</td>\n",
              "      <td>0.017123</td>\n",
              "      <td>142591.360000</td>\n",
              "    </tr>\n",
              "    <tr>\n",
              "      <th>18</th>\n",
              "      <td>StoneBr</td>\n",
              "      <td>0.017123</td>\n",
              "      <td>310499.000000</td>\n",
              "    </tr>\n",
              "    <tr>\n",
              "      <th>19</th>\n",
              "      <td>Blmngtn</td>\n",
              "      <td>0.011644</td>\n",
              "      <td>194870.882353</td>\n",
              "    </tr>\n",
              "    <tr>\n",
              "      <th>20</th>\n",
              "      <td>MeadowV</td>\n",
              "      <td>0.011644</td>\n",
              "      <td>98576.470588</td>\n",
              "    </tr>\n",
              "    <tr>\n",
              "      <th>21</th>\n",
              "      <td>BrDale</td>\n",
              "      <td>0.010959</td>\n",
              "      <td>104493.750000</td>\n",
              "    </tr>\n",
              "    <tr>\n",
              "      <th>22</th>\n",
              "      <td>Veenker</td>\n",
              "      <td>0.007534</td>\n",
              "      <td>238772.727273</td>\n",
              "    </tr>\n",
              "    <tr>\n",
              "      <th>23</th>\n",
              "      <td>NPkVill</td>\n",
              "      <td>0.006164</td>\n",
              "      <td>142694.444444</td>\n",
              "    </tr>\n",
              "    <tr>\n",
              "      <th>24</th>\n",
              "      <td>Blueste</td>\n",
              "      <td>0.001370</td>\n",
              "      <td>137500.000000</td>\n",
              "    </tr>\n",
              "  </tbody>\n",
              "</table>\n",
              "</div>"
            ],
            "text/plain": [
              "   Neighborhood  perc_houses      SalePrice\n",
              "0         NAmes     0.154110  145847.080000\n",
              "1       CollgCr     0.102740  197965.773333\n",
              "2       OldTown     0.077397  128225.300885\n",
              "3       Edwards     0.068493  128219.700000\n",
              "4       Somerst     0.058904  225379.837209\n",
              "5       Gilbert     0.054110  192854.506329\n",
              "6       NridgHt     0.052740  316270.623377\n",
              "7        Sawyer     0.050685  136793.135135\n",
              "8        NWAmes     0.050000  189050.068493\n",
              "9       SawyerW     0.040411  186555.796610\n",
              "10      BrkSide     0.039726  124834.051724\n",
              "11      Crawfor     0.034932  210624.725490\n",
              "12      Mitchel     0.033562  156270.122449\n",
              "13      NoRidge     0.028082  335295.317073\n",
              "14       Timber     0.026027  242247.447368\n",
              "15       IDOTRR     0.025342  100123.783784\n",
              "16      ClearCr     0.019178  212565.428571\n",
              "17        SWISU     0.017123  142591.360000\n",
              "18      StoneBr     0.017123  310499.000000\n",
              "19      Blmngtn     0.011644  194870.882353\n",
              "20      MeadowV     0.011644   98576.470588\n",
              "21       BrDale     0.010959  104493.750000\n",
              "22      Veenker     0.007534  238772.727273\n",
              "23      NPkVill     0.006164  142694.444444\n",
              "24      Blueste     0.001370  137500.000000"
            ]
          },
          "metadata": {
            "tags": []
          },
          "execution_count": 43
        }
      ]
    },
    {
      "cell_type": "markdown",
      "metadata": {
        "id": "5TWGN1LJiUQx",
        "colab_type": "text"
      },
      "source": [
        "El dataframe contiene el porcentaje de casas que muestran cada una de las etiquetas en un barrio o sector (Neighborhood), y el precio promedio (SalePrice) de venta por cada grupo de casas. En otras palabras, ~15% de las casas están en un sector llamado NAmes y el precio promedio de venta es USD 145,847."
      ]
    },
    {
      "cell_type": "code",
      "metadata": {
        "id": "xLf3bpNMiO4c",
        "colab_type": "code",
        "colab": {}
      },
      "source": [
        "# Creemos una función para graficar\n",
        "# la frecuencia por categoría y el precio promedio\n",
        "\n",
        "# Esto ayudará a visualizar la relación entre el target y las \n",
        "# etiquetas de la variable categórica \n",
        "\n",
        "def plot_categories(df, var):\n",
        "    \n",
        "    fig, ax = plt.subplots(figsize=(8, 4))\n",
        "    plt.xticks(df.index, df[var], rotation=90)\n",
        "\n",
        "    ax2 = ax.twinx()\n",
        "    ax.bar(df.index, df[\"perc_houses\"], color='lightgrey')\n",
        "    ax2.plot(df.index, df[\"SalePrice\"], color='green', label='Seconds')\n",
        "    ax.axhline(y=0.05, color='red')\n",
        "    ax.set_ylabel('porcentaje de casas por categoría')\n",
        "    ax.set_xlabel(var)\n",
        "    ax2.set_ylabel('Precio promedio SalePrice por categoría')\n",
        "    plt.show()"
      ],
      "execution_count": 44,
      "outputs": []
    },
    {
      "cell_type": "code",
      "metadata": {
        "id": "jOor7sy-ieCJ",
        "colab_type": "code",
        "colab": {
          "base_uri": "https://localhost:8080/",
          "height": 319
        },
        "outputId": "92d5d6b3-54de-4208-e83e-947a9b6b4244"
      },
      "source": [
        "  plot_categories(temp_df, 'Neighborhood')"
      ],
      "execution_count": 45,
      "outputs": [
        {
          "output_type": "display_data",
          "data": {
            "image/png": "[encoded data removed]",
            "text/plain": [
              "<Figure size 576x288 with 2 Axes>"
            ]
          },
          "metadata": {
            "tags": [],
            "needs_background": "light"
          }
        }
      ]
    },
    {
      "cell_type": "markdown",
      "metadata": {
        "id": "fydduyFfi5Nu",
        "colab_type": "text"
      },
      "source": [
        "Las casas en el sector 'NridgHt' se venden a un mayor precio, mientras que las casas en 'Sawyer' tienden a ser más baratas.\n",
        "\n",
        "Las casas en el barrio de 'StoneBr' tienen en promedio, precios promedio de venta altos, encima de 300k. Sin embargo, 'StoneBr' está presente en menos del 5% de las casas. En otras palabras, menos del 5% de las casas en los datos están en 'StoneBr'.\n",
        "\n",
        "Por qué es esto importante? Porque si no tenemos suficientes datos de casas de los cuales el modelo pueda aprender, podríamos sobre-estimar el efecto de 'StoneBr' en el precio de venta, SalePrice.\n",
        "\n",
        "Qué tan confidentes estamos de poder generalizar que la mayoría de las casas en StoneBr se venderán por alrededor de 300k, cuando solo tenemos unas pocas casas de donde un algoritmo puede aprender?\n"
      ]
    },
    {
      "cell_type": "code",
      "metadata": {
        "id": "Jn_NHkSJilMK",
        "colab_type": "code",
        "colab": {
          "base_uri": "https://localhost:8080/",
          "height": 616
        },
        "outputId": "de1a5ec9-9549-4fe2-b23f-45fe356c152e"
      },
      "source": [
        "# Grafiquemos las variables categóricas restantes\n",
        "\n",
        "for col in cat_cols:\n",
        "    \n",
        "    if col !='Neighborhood':\n",
        "        \n",
        "        # usemos las funciones que ya creamos\n",
        "        temp_df = calculate_mean_target_per_category(data, col)\n",
        "        plot_categories(temp_df, col)"
      ],
      "execution_count": 46,
      "outputs": [
        {
          "output_type": "display_data",
          "data": {
            "image/png": "[encoded data removed]",
            "text/plain": [
              "<Figure size 576x288 with 2 Axes>"
            ]
          },
          "metadata": {
            "tags": [],
            "needs_background": "light"
          }
        },
        {
          "output_type": "display_data",
          "data": {
            "image/png": "[encoded data removed]",
            "text/plain": [
              "<Figure size 576x288 with 2 Axes>"
            ]
          },
          "metadata": {
            "tags": [],
            "needs_background": "light"
          }
        }
      ]
    },
    {
      "cell_type": "markdown",
      "metadata": {
        "id": "cwCtNfD6js7S",
        "colab_type": "text"
      },
      "source": [
        "Exploremos la variable 'Exterior2nd': la mayoría de las categorías en  Exterior2nd están presentes en menos del 5% de las casas. Además, el precio de venta \"SalePrice\" varía significativamente en las categorías raras. Estas etiquetas poco comunes podrían tener un gran valor predictivo, o podrían estar introduciendo ruido. Ya que estas categorías poco comunes están sub-representadas, no podemos estar seguros del impacto real que tienen en el precio de las casas. Bien podríamos sobre- o sub- estimar su impacto dado que tenemos información de unas pocas casas.\n",
        "\n",
        "**Nota:** Esta gráfica sería de mayor ayuda si añadimos los errores en el precio de venta, ya que nos daría una idea de cuánto el valor de la variable objectivo 'SalePrice' varía en cada categoría. "
      ]
    },
    {
      "cell_type": "code",
      "metadata": {
        "id": "TONBJTqAjl3L",
        "colab_type": "code",
        "colab": {}
      },
      "source": [
        "# Las siguientes funciones calculan:\n",
        "\n",
        "# 1) el porcentaje de casas por categoría \n",
        "# 2) el desviación estadar del precio de venta por categoría 'SalePrice' \n",
        "\n",
        "\n",
        "def calculate_std_target_per_category(df, var):\n",
        "\n",
        "    # número total de casas\n",
        "    total_houses = len(df)\n",
        "\n",
        "    # porcenaje de casas por categoría\n",
        "    temp_df = pd.Series(df[var].value_counts() / total_houses).reset_index()\n",
        "    temp_df.columns = [var, 'perc_houses']\n",
        "\n",
        "    # varianza del precio\n",
        "    temp_df = temp_df.merge(df.groupby([var])['SalePrice'].std().reset_index(),\n",
        "                            on=var,\n",
        "                            how='left')\n",
        "\n",
        "    return temp_df"
      ],
      "execution_count": 55,
      "outputs": []
    },
    {
      "cell_type": "code",
      "metadata": {
        "id": "F5YZgCGakjH5",
        "colab_type": "code",
        "colab": {
          "base_uri": "https://localhost:8080/",
          "height": 824
        },
        "outputId": "07733fa4-5852-45ea-a4a1-7f01ab89b7c4"
      },
      "source": [
        "temp_df = calculate_std_target_per_category(data, 'Neighborhood')\n",
        "temp_df"
      ],
      "execution_count": 56,
      "outputs": [
        {
          "output_type": "execute_result",
          "data": {
            "text/html": [
              "<div>\n",
              "<style scoped>\n",
              "    .dataframe tbody tr th:only-of-type {\n",
              "        vertical-align: middle;\n",
              "    }\n",
              "\n",
              "    .dataframe tbody tr th {\n",
              "        vertical-align: top;\n",
              "    }\n",
              "\n",
              "    .dataframe thead th {\n",
              "        text-align: right;\n",
              "    }\n",
              "</style>\n",
              "<table border=\"1\" class=\"dataframe\">\n",
              "  <thead>\n",
              "    <tr style=\"text-align: right;\">\n",
              "      <th></th>\n",
              "      <th>Neighborhood</th>\n",
              "      <th>perc_houses</th>\n",
              "      <th>SalePrice</th>\n",
              "    </tr>\n",
              "  </thead>\n",
              "  <tbody>\n",
              "    <tr>\n",
              "      <th>0</th>\n",
              "      <td>NAmes</td>\n",
              "      <td>0.154110</td>\n",
              "      <td>33075.345450</td>\n",
              "    </tr>\n",
              "    <tr>\n",
              "      <th>1</th>\n",
              "      <td>CollgCr</td>\n",
              "      <td>0.102740</td>\n",
              "      <td>51403.666438</td>\n",
              "    </tr>\n",
              "    <tr>\n",
              "      <th>2</th>\n",
              "      <td>OldTown</td>\n",
              "      <td>0.077397</td>\n",
              "      <td>52650.583185</td>\n",
              "    </tr>\n",
              "    <tr>\n",
              "      <th>3</th>\n",
              "      <td>Edwards</td>\n",
              "      <td>0.068493</td>\n",
              "      <td>43208.616459</td>\n",
              "    </tr>\n",
              "    <tr>\n",
              "      <th>4</th>\n",
              "      <td>Somerst</td>\n",
              "      <td>0.058904</td>\n",
              "      <td>56177.555888</td>\n",
              "    </tr>\n",
              "    <tr>\n",
              "      <th>5</th>\n",
              "      <td>Gilbert</td>\n",
              "      <td>0.054110</td>\n",
              "      <td>35986.779085</td>\n",
              "    </tr>\n",
              "    <tr>\n",
              "      <th>6</th>\n",
              "      <td>NridgHt</td>\n",
              "      <td>0.052740</td>\n",
              "      <td>96392.544954</td>\n",
              "    </tr>\n",
              "    <tr>\n",
              "      <th>7</th>\n",
              "      <td>Sawyer</td>\n",
              "      <td>0.050685</td>\n",
              "      <td>22345.129157</td>\n",
              "    </tr>\n",
              "    <tr>\n",
              "      <th>8</th>\n",
              "      <td>NWAmes</td>\n",
              "      <td>0.050000</td>\n",
              "      <td>37172.218106</td>\n",
              "    </tr>\n",
              "    <tr>\n",
              "      <th>9</th>\n",
              "      <td>SawyerW</td>\n",
              "      <td>0.040411</td>\n",
              "      <td>55651.997820</td>\n",
              "    </tr>\n",
              "    <tr>\n",
              "      <th>10</th>\n",
              "      <td>BrkSide</td>\n",
              "      <td>0.039726</td>\n",
              "      <td>40348.689270</td>\n",
              "    </tr>\n",
              "    <tr>\n",
              "      <th>11</th>\n",
              "      <td>Crawfor</td>\n",
              "      <td>0.034932</td>\n",
              "      <td>68866.395472</td>\n",
              "    </tr>\n",
              "    <tr>\n",
              "      <th>12</th>\n",
              "      <td>Mitchel</td>\n",
              "      <td>0.033562</td>\n",
              "      <td>36486.625334</td>\n",
              "    </tr>\n",
              "    <tr>\n",
              "      <th>13</th>\n",
              "      <td>NoRidge</td>\n",
              "      <td>0.028082</td>\n",
              "      <td>121412.658640</td>\n",
              "    </tr>\n",
              "    <tr>\n",
              "      <th>14</th>\n",
              "      <td>Timber</td>\n",
              "      <td>0.026027</td>\n",
              "      <td>64845.651549</td>\n",
              "    </tr>\n",
              "    <tr>\n",
              "      <th>15</th>\n",
              "      <td>IDOTRR</td>\n",
              "      <td>0.025342</td>\n",
              "      <td>33376.710117</td>\n",
              "    </tr>\n",
              "    <tr>\n",
              "      <th>16</th>\n",
              "      <td>ClearCr</td>\n",
              "      <td>0.019178</td>\n",
              "      <td>50231.538993</td>\n",
              "    </tr>\n",
              "    <tr>\n",
              "      <th>17</th>\n",
              "      <td>SWISU</td>\n",
              "      <td>0.017123</td>\n",
              "      <td>32622.917679</td>\n",
              "    </tr>\n",
              "    <tr>\n",
              "      <th>18</th>\n",
              "      <td>StoneBr</td>\n",
              "      <td>0.017123</td>\n",
              "      <td>112969.676640</td>\n",
              "    </tr>\n",
              "    <tr>\n",
              "      <th>19</th>\n",
              "      <td>Blmngtn</td>\n",
              "      <td>0.011644</td>\n",
              "      <td>30393.229219</td>\n",
              "    </tr>\n",
              "    <tr>\n",
              "      <th>20</th>\n",
              "      <td>MeadowV</td>\n",
              "      <td>0.011644</td>\n",
              "      <td>23491.049610</td>\n",
              "    </tr>\n",
              "    <tr>\n",
              "      <th>21</th>\n",
              "      <td>BrDale</td>\n",
              "      <td>0.010959</td>\n",
              "      <td>14330.176493</td>\n",
              "    </tr>\n",
              "    <tr>\n",
              "      <th>22</th>\n",
              "      <td>Veenker</td>\n",
              "      <td>0.007534</td>\n",
              "      <td>72369.317959</td>\n",
              "    </tr>\n",
              "    <tr>\n",
              "      <th>23</th>\n",
              "      <td>NPkVill</td>\n",
              "      <td>0.006164</td>\n",
              "      <td>9377.314529</td>\n",
              "    </tr>\n",
              "    <tr>\n",
              "      <th>24</th>\n",
              "      <td>Blueste</td>\n",
              "      <td>0.001370</td>\n",
              "      <td>19091.883092</td>\n",
              "    </tr>\n",
              "  </tbody>\n",
              "</table>\n",
              "</div>"
            ],
            "text/plain": [
              "   Neighborhood  perc_houses      SalePrice\n",
              "0         NAmes     0.154110   33075.345450\n",
              "1       CollgCr     0.102740   51403.666438\n",
              "2       OldTown     0.077397   52650.583185\n",
              "3       Edwards     0.068493   43208.616459\n",
              "4       Somerst     0.058904   56177.555888\n",
              "5       Gilbert     0.054110   35986.779085\n",
              "6       NridgHt     0.052740   96392.544954\n",
              "7        Sawyer     0.050685   22345.129157\n",
              "8        NWAmes     0.050000   37172.218106\n",
              "9       SawyerW     0.040411   55651.997820\n",
              "10      BrkSide     0.039726   40348.689270\n",
              "11      Crawfor     0.034932   68866.395472\n",
              "12      Mitchel     0.033562   36486.625334\n",
              "13      NoRidge     0.028082  121412.658640\n",
              "14       Timber     0.026027   64845.651549\n",
              "15       IDOTRR     0.025342   33376.710117\n",
              "16      ClearCr     0.019178   50231.538993\n",
              "17        SWISU     0.017123   32622.917679\n",
              "18      StoneBr     0.017123  112969.676640\n",
              "19      Blmngtn     0.011644   30393.229219\n",
              "20      MeadowV     0.011644   23491.049610\n",
              "21       BrDale     0.010959   14330.176493\n",
              "22      Veenker     0.007534   72369.317959\n",
              "23      NPkVill     0.006164    9377.314529\n",
              "24      Blueste     0.001370   19091.883092"
            ]
          },
          "metadata": {
            "tags": []
          },
          "execution_count": 56
        }
      ]
    },
    {
      "cell_type": "code",
      "metadata": {
        "id": "wo5HVKDLn8Ia",
        "colab_type": "code",
        "colab": {}
      },
      "source": [
        "def plot_categories(df, var):\n",
        "    \n",
        "    fig, ax = plt.subplots(figsize=(8, 4))\n",
        "    plt.xticks(df.index, df[var], rotation=90)\n",
        "\n",
        "    ax2 = ax.twinx()\n",
        "    ax.bar(df.index, df[\"perc_houses\"], color='lightgrey')\n",
        "    ax2.plot(df.index, df[\"SalePrice\"], color='green', label='Seconds')\n",
        "    ax.axhline(y=0.05, color='red')\n",
        "    ax.set_ylabel('porcentaje de casas por categoría')\n",
        "    ax.set_xlabel(var)\n",
        "    ax2.set_ylabel('Varianza del precio (SalePrice) por categoría')\n",
        "    plt.show()"
      ],
      "execution_count": 59,
      "outputs": []
    },
    {
      "cell_type": "code",
      "metadata": {
        "id": "R71sQxchkvOs",
        "colab_type": "code",
        "colab": {
          "base_uri": "https://localhost:8080/",
          "height": 320
        },
        "outputId": "a1231d8f-5da2-4c74-feb7-80962b178de4"
      },
      "source": [
        "plot_categories(temp_df, 'Neighborhood')"
      ],
      "execution_count": 60,
      "outputs": [
        {
          "output_type": "display_data",
          "data": {
            "image/png": "[encoded data removed]",
            "text/plain": [
              "<Figure size 576x288 with 2 Axes>"
            ]
          },
          "metadata": {
            "tags": [],
            "needs_background": "light"
          }
        }
      ]
    },
    {
      "cell_type": "markdown",
      "metadata": {
        "id": "lh61gKI6mzJ9",
        "colab_type": "text"
      },
      "source": [
        "Observamos que la dispersión de los datos es alta y más de la mitad de las categórias tienen una frecuencia de menos del 5% por lo que procederemos a agrupar las categórias en grupos más representativos."
      ]
    },
    {
      "cell_type": "code",
      "metadata": {
        "id": "ExAB9FNElc7z",
        "colab_type": "code",
        "colab": {
          "base_uri": "https://localhost:8080/",
          "height": 621
        },
        "outputId": "bd85f9df-3bcd-4fd2-f4d0-0e258e5fca61"
      },
      "source": [
        "# Grafiquemos las variables categóricas restantes\n",
        "\n",
        "for col in cat_cols:\n",
        "    \n",
        "    if col !='Neighborhood':\n",
        "        \n",
        "        # usemos las funciones que ya creamos\n",
        "        temp_df = calculate_std_target_per_category(data, col)\n",
        "        plot_categories(temp_df, col)"
      ],
      "execution_count": 61,
      "outputs": [
        {
          "output_type": "display_data",
          "data": {
            "image/png": "[encoded data removed]",
            "text/plain": [
              "<Figure size 576x288 with 2 Axes>"
            ]
          },
          "metadata": {
            "tags": [],
            "needs_background": "light"
          }
        },
        {
          "output_type": "display_data",
          "data": {
            "image/png": "[encoded data removed]",
            "text/plain": [
              "<Figure size 576x288 with 2 Axes>"
            ]
          },
          "metadata": {
            "tags": [],
            "needs_background": "light"
          }
        }
      ]
    },
    {
      "cell_type": "markdown",
      "metadata": {
        "id": "auwDvKI1mwo5",
        "colab_type": "text"
      },
      "source": [
        "Podemos observar que la dispersión de los precios para la categória \"lmStucc\" es muy alta, lo cuál podría ser un hallazgo útil para poder agruparlas de manera que sea más eficiente para el aprendizaje del modelo.\n",
        "\n",
        "**Nota** En general las categórias con menos frecuencia dentro de la variable tienen más varianza en los precios lo cuál podría ayudar a construir una agrupación de mayor valor predictivo."
      ]
    },
    {
      "cell_type": "code",
      "metadata": {
        "id": "BfFxu1aAmHK5",
        "colab_type": "code",
        "colab": {}
      },
      "source": [
        ""
      ],
      "execution_count": null,
      "outputs": []
    }
  ]
}