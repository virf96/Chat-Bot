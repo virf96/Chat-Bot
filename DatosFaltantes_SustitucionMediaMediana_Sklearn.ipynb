{
  "nbformat": 4,
  "nbformat_minor": 0,
  "metadata": {
    "kernelspec": {
      "display_name": "feml",
      "language": "python",
      "name": "feml"
    },
    "language_info": {
      "codemirror_mode": {
        "name": "ipython",
        "version": 3
      },
      "file_extension": ".py",
      "mimetype": "text/x-python",
      "name": "python",
      "nbconvert_exporter": "python",
      "pygments_lexer": "ipython3",
      "version": "3.7.3"
    },
    "toc": {
      "nav_menu": {},
      "number_sections": true,
      "sideBar": true,
      "skip_h1_title": false,
      "toc_cell": false,
      "toc_position": {},
      "toc_section_display": true,
      "toc_window_display": true
    },
    "colab": {
      "name": "DatosFaltantes_SustitucionMediaMediana_Sklearn.ipynb",
      "provenance": [],
      "toc_visible": true,
      "include_colab_link": true
    }
  },
  "cells": [
    {
      "cell_type": "markdown",
      "metadata": {
        "id": "view-in-github",
        "colab_type": "text"
      },
      "source": [
        "<a href=\"https://colab.research.google.com/github/virf96/Chat-Bot/blob/master/DatosFaltantes_SustitucionMediaMediana_Sklearn.ipynb\" target=\"_parent\"><img src=\"https://colab.research.google.com/assets/colab-badge.svg\" alt=\"Open In Colab\"/></a>"
      ]
    },
    {
      "cell_type": "markdown",
      "metadata": {
        "id": "thoWl7dinW09"
      },
      "source": [
        "## Sustitución por la Media/Mediana con Scikit-learn ==> SimpleImputer\n",
        "\n",
        "En la librería Scikit-learn hay una clase para manejar una gran variedad de métodos de sustitución.\n",
        "\n",
        "El **SimpleImputer** es una clase que provee funcionalidad básica para la sustitución de valores ausentes, incluyendo:\n",
        "\n",
        "- Sustitución por la media y la mediana para variables numéricas\n",
        "- Sustitución por la categoría más frecuente para variables categóricas.\n",
        "- Sustitución por valores arbitrarios para variables numéricas y categóricas.\n",
        "\n",
        "### Ventajas\n",
        "\n",
        "- Fácil de usar si se aplica a todo el dataframe\n",
        "- Código mantenido por desarrolladores de Scikit-learn: buena calidad\n",
        "- Rápida computación (usa NumPy para los cálculos)\n",
        "- Permite usar grid-search (búsqueda en cuadrículas) para varios métodos de sustitución\n",
        "- Permite usar diferentes valores para codificar ausencia de datos (se puede indicar si por ejemplo los valores nulos son np.nan, ceros, cadenas de caracteres vacías, u otros)\n",
        "\n",
        "### Limitaciones\n",
        "\n",
        "- Retorna un arreglo de NumPy en lugar de un dataframe de pandas, lo cual es inconveniente para el análisis de datos\n",
        "- Necesita usar clases adicionales para seleccionar cuales variables se deben sustituir ==>\n",
        "    - requiere líneas de código adicional\n",
        "    - requiere ser usado con otras clases\n",
        "    - no es tan sencillo de usar\n",
        "    \n",
        "### Más detalles acerca de los transformadores (transformers en inglés)\n",
        "\n",
        "- [SimpleImputer](https://scikit-learn.org/stable/modules/generated/sklearn.impute.SimpleImputer.html#sklearn.impute.SimpleImputer)\n",
        "- [ColumnTransformer](https://scikit-learn.org/stable/modules/generated/sklearn.compose.ColumnTransformer.html)\n",
        "- [Stackoverflow](https://stackoverflow.com/questions/54160370/how-to-use-sklearn-column-transformer)\n",
        "\n",
        "\n",
        "## En este demo:\n",
        "\n",
        "Vamos a ver **sustitución media/mediana con Scikit-learn** usando los datos Ames House Price.\n",
        "\n",
        "### Nota: \n",
        "* 'Imputer' se deriva del verbo en inglés 'to impute' que quiere decir sustituir o reemplazar. Imputer es el objeto que completa la sustitución, de ahí el nombre dado a la clase.\n",
        "* 'slicing' significa seleccionar conjuntos de datos (columnas/filas) de un ‘DataFrame’.\n"
      ]
    },
    {
      "cell_type": "code",
      "metadata": {
        "id": "_pbFmahMnW0-"
      },
      "source": [
        "import pandas as pd\n",
        "import numpy as np\n",
        "\n",
        "import matplotlib.pyplot as plt\n",
        "\n",
        "# estas son las clases para sustitutición con sklearn\n",
        "from sklearn.impute import SimpleImputer\n",
        "from sklearn.compose import ColumnTransformer\n",
        "from sklearn.pipeline import Pipeline\n",
        "\n",
        "# dividir dataset\n",
        "from sklearn.model_selection import train_test_split"
      ],
      "execution_count": 1,
      "outputs": []
    },
    {
      "cell_type": "code",
      "metadata": {
        "id": "ZwIoqiLUnW1B"
      },
      "source": [
        "# solo usaremos las siguientes variables en el demo:\n",
        "# 3 tienen NA\n",
        "\n",
        "cols_to_use = [\n",
        "    'OverallQual', 'TotalBsmtSF', '1stFlrSF', 'GrLivArea', 'WoodDeckSF',\n",
        "    'BsmtUnfSF', 'LotFrontage', 'MasVnrArea', 'GarageYrBlt', 'SalePrice'\n",
        "]"
      ],
      "execution_count": 4,
      "outputs": []
    },
    {
      "cell_type": "code",
      "metadata": {
        "id": "oxI6_RDQMNxN",
        "outputId": "0bd992c7-1423-4065-fbc4-8e1a35e71459",
        "colab": {
          "base_uri": "https://localhost:8080/",
          "height": 34
        }
      },
      "source": [
        "from google.colab import drive\n",
        "drive.mount('/content/drive')"
      ],
      "execution_count": 2,
      "outputs": [
        {
          "output_type": "stream",
          "text": [
            "Mounted at /content/drive\n"
          ],
          "name": "stdout"
        }
      ]
    },
    {
      "cell_type": "code",
      "metadata": {
        "id": "7n3ifi48nW1E",
        "outputId": "c7c1149c-454b-4e4a-a1b6-2055e3c436e1",
        "colab": {
          "base_uri": "https://localhost:8080/",
          "height": 221
        }
      },
      "source": [
        "# carguemos datos con las columnas seleccionadas\n",
        "\n",
        "data = pd.read_csv('/content/drive/My Drive/datasets/houseprice.csv', usecols=cols_to_use)\n",
        "print(data.shape)\n",
        "data.head()"
      ],
      "execution_count": 5,
      "outputs": [
        {
          "output_type": "stream",
          "text": [
            "(1460, 10)\n"
          ],
          "name": "stdout"
        },
        {
          "output_type": "execute_result",
          "data": {
            "text/html": [
              "<div>\n",
              "<style scoped>\n",
              "    .dataframe tbody tr th:only-of-type {\n",
              "        vertical-align: middle;\n",
              "    }\n",
              "\n",
              "    .dataframe tbody tr th {\n",
              "        vertical-align: top;\n",
              "    }\n",
              "\n",
              "    .dataframe thead th {\n",
              "        text-align: right;\n",
              "    }\n",
              "</style>\n",
              "<table border=\"1\" class=\"dataframe\">\n",
              "  <thead>\n",
              "    <tr style=\"text-align: right;\">\n",
              "      <th></th>\n",
              "      <th>LotFrontage</th>\n",
              "      <th>OverallQual</th>\n",
              "      <th>MasVnrArea</th>\n",
              "      <th>BsmtUnfSF</th>\n",
              "      <th>TotalBsmtSF</th>\n",
              "      <th>1stFlrSF</th>\n",
              "      <th>GrLivArea</th>\n",
              "      <th>GarageYrBlt</th>\n",
              "      <th>WoodDeckSF</th>\n",
              "      <th>SalePrice</th>\n",
              "    </tr>\n",
              "  </thead>\n",
              "  <tbody>\n",
              "    <tr>\n",
              "      <th>0</th>\n",
              "      <td>65.0</td>\n",
              "      <td>7</td>\n",
              "      <td>196.0</td>\n",
              "      <td>150</td>\n",
              "      <td>856</td>\n",
              "      <td>856</td>\n",
              "      <td>1710</td>\n",
              "      <td>2003.0</td>\n",
              "      <td>0</td>\n",
              "      <td>208500</td>\n",
              "    </tr>\n",
              "    <tr>\n",
              "      <th>1</th>\n",
              "      <td>80.0</td>\n",
              "      <td>6</td>\n",
              "      <td>0.0</td>\n",
              "      <td>284</td>\n",
              "      <td>1262</td>\n",
              "      <td>1262</td>\n",
              "      <td>1262</td>\n",
              "      <td>1976.0</td>\n",
              "      <td>298</td>\n",
              "      <td>181500</td>\n",
              "    </tr>\n",
              "    <tr>\n",
              "      <th>2</th>\n",
              "      <td>68.0</td>\n",
              "      <td>7</td>\n",
              "      <td>162.0</td>\n",
              "      <td>434</td>\n",
              "      <td>920</td>\n",
              "      <td>920</td>\n",
              "      <td>1786</td>\n",
              "      <td>2001.0</td>\n",
              "      <td>0</td>\n",
              "      <td>223500</td>\n",
              "    </tr>\n",
              "    <tr>\n",
              "      <th>3</th>\n",
              "      <td>60.0</td>\n",
              "      <td>7</td>\n",
              "      <td>0.0</td>\n",
              "      <td>540</td>\n",
              "      <td>756</td>\n",
              "      <td>961</td>\n",
              "      <td>1717</td>\n",
              "      <td>1998.0</td>\n",
              "      <td>0</td>\n",
              "      <td>140000</td>\n",
              "    </tr>\n",
              "    <tr>\n",
              "      <th>4</th>\n",
              "      <td>84.0</td>\n",
              "      <td>8</td>\n",
              "      <td>350.0</td>\n",
              "      <td>490</td>\n",
              "      <td>1145</td>\n",
              "      <td>1145</td>\n",
              "      <td>2198</td>\n",
              "      <td>2000.0</td>\n",
              "      <td>192</td>\n",
              "      <td>250000</td>\n",
              "    </tr>\n",
              "  </tbody>\n",
              "</table>\n",
              "</div>"
            ],
            "text/plain": [
              "   LotFrontage  OverallQual  MasVnrArea  ...  GarageYrBlt  WoodDeckSF  SalePrice\n",
              "0         65.0            7       196.0  ...       2003.0           0     208500\n",
              "1         80.0            6         0.0  ...       1976.0         298     181500\n",
              "2         68.0            7       162.0  ...       2001.0           0     223500\n",
              "3         60.0            7         0.0  ...       1998.0           0     140000\n",
              "4         84.0            8       350.0  ...       2000.0         192     250000\n",
              "\n",
              "[5 rows x 10 columns]"
            ]
          },
          "metadata": {
            "tags": []
          },
          "execution_count": 5
        }
      ]
    },
    {
      "cell_type": "code",
      "metadata": {
        "id": "Kep8HSW6nW1G",
        "outputId": "086ab1d9-fb7d-4939-d71d-4efcdb8b7154",
        "colab": {
          "base_uri": "https://localhost:8080/",
          "height": 204
        }
      },
      "source": [
        "# evaluemos el porcentaje de valores nulos para cada variable\n",
        "data.isnull().mean().sort_values(ascending=False)"
      ],
      "execution_count": 7,
      "outputs": [
        {
          "output_type": "execute_result",
          "data": {
            "text/plain": [
              "LotFrontage    0.177397\n",
              "GarageYrBlt    0.055479\n",
              "MasVnrArea     0.005479\n",
              "SalePrice      0.000000\n",
              "WoodDeckSF     0.000000\n",
              "GrLivArea      0.000000\n",
              "1stFlrSF       0.000000\n",
              "TotalBsmtSF    0.000000\n",
              "BsmtUnfSF      0.000000\n",
              "OverallQual    0.000000\n",
              "dtype: float64"
            ]
          },
          "metadata": {
            "tags": []
          },
          "execution_count": 7
        }
      ]
    },
    {
      "cell_type": "markdown",
      "metadata": {
        "id": "r-fna6IcnW1J"
      },
      "source": [
        "Las variables LotFrontage, MasVnrArea y GarageYrBlt tienen datos ausentes."
      ]
    },
    {
      "cell_type": "code",
      "metadata": {
        "id": "H6FAwXaQnW1J",
        "outputId": "16bb4355-0000-4053-b40f-a18e4ceb1e6e",
        "colab": {
          "base_uri": "https://localhost:8080/",
          "height": 34
        }
      },
      "source": [
        "# separar datos en segmentos entrenamiento y prueba\n",
        "\n",
        "# primero, separemos el target (SalePrice) del resto de las variables\n",
        "#Y hacemos un split del set original porque la media y mediana tiene que ser aprendida solo del set de entrenamiento\n",
        "cols_to_use.remove('SalePrice')\n",
        "\n",
        "X_train, X_test, y_train, y_test = train_test_split(data[cols_to_use], # solo las variables\n",
        "                                                    data['SalePrice'], # el target\n",
        "                                                    test_size=0.3, # el percentaje de obs en el segmento de prueba\n",
        "                                                    random_state=0) # para reproducir\n",
        "X_train.shape, X_test.shape"
      ],
      "execution_count": 8,
      "outputs": [
        {
          "output_type": "execute_result",
          "data": {
            "text/plain": [
              "((1022, 9), (438, 9))"
            ]
          },
          "metadata": {
            "tags": []
          },
          "execution_count": 8
        }
      ]
    },
    {
      "cell_type": "code",
      "metadata": {
        "id": "Tv6kSfmVnW1M",
        "outputId": "3eda5ccc-070a-4eac-eb7a-5c95a7adebe4",
        "colab": {
          "base_uri": "https://localhost:8080/",
          "height": 187
        }
      },
      "source": [
        "# evaluemos el porcentaje de datos ausentes nuevamente\n",
        "#Los valores faltantes cambiaron un poco debido a que solo estamos trabajando con el 70%\n",
        "X_train.isnull().mean().sort_values(ascending=False)"
      ],
      "execution_count": 12,
      "outputs": [
        {
          "output_type": "execute_result",
          "data": {
            "text/plain": [
              "LotFrontage    0.184932\n",
              "GarageYrBlt    0.052838\n",
              "MasVnrArea     0.004892\n",
              "BsmtUnfSF      0.000000\n",
              "WoodDeckSF     0.000000\n",
              "GrLivArea      0.000000\n",
              "1stFlrSF       0.000000\n",
              "TotalBsmtSF    0.000000\n",
              "OverallQual    0.000000\n",
              "dtype: float64"
            ]
          },
          "metadata": {
            "tags": []
          },
          "execution_count": 12
        }
      ]
    },
    {
      "cell_type": "markdown",
      "metadata": {
        "id": "GpmUfd7-nW1O"
      },
      "source": [
        "### SimpleImputer en el conjunto de datos"
      ]
    },
    {
      "cell_type": "code",
      "metadata": {
        "id": "YAYtoUUQnW1O",
        "outputId": "e119a4d4-3368-4811-a000-d1fa968380f1",
        "colab": {
          "base_uri": "https://localhost:8080/",
          "height": 51
        }
      },
      "source": [
        "# Ahora sustituyamos los valores faltantes con  SimpleImputer\n",
        "\n",
        "# creemos una instancia de la clase SimpleImputer\n",
        "# indicaremos que queremos sustituir con la mediana\n",
        "imputer = SimpleImputer(strategy='median')\n",
        "\n",
        "# ajustamos 'imputer' al segmento de entrenamiento\n",
        "# el imputer aprenderá la mediana de cada variable\n",
        "imputer.fit(X_train[cols_to_use])"
      ],
      "execution_count": 13,
      "outputs": [
        {
          "output_type": "execute_result",
          "data": {
            "text/plain": [
              "SimpleImputer(add_indicator=False, copy=True, fill_value=None,\n",
              "              missing_values=nan, strategy='median', verbose=0)"
            ]
          },
          "metadata": {
            "tags": []
          },
          "execution_count": 13
        }
      ]
    },
    {
      "cell_type": "markdown",
      "metadata": {
        "id": "uwkMghHbnW1R"
      },
      "source": [
        "**Nota, si quieres hacer la sustitución por la media en lugar de la mediana, simplemente pasa el argumento 'mean' en 'strategy'**"
      ]
    },
    {
      "cell_type": "code",
      "metadata": {
        "id": "hdi8J_e5nW1R",
        "outputId": "1df20b39-6a77-42f8-be2e-59ebe52f3c61",
        "colab": {
          "base_uri": "https://localhost:8080/",
          "height": 51
        }
      },
      "source": [
        "# podemos ver cual fue la mediana calculada:\n",
        "imputer.statistics_"
      ],
      "execution_count": 14,
      "outputs": [
        {
          "output_type": "execute_result",
          "data": {
            "text/plain": [
              "array([   6. ,  992. , 1095. , 1479. ,    0. ,  486.5,   69. ,    0. ,\n",
              "       1979. ])"
            ]
          },
          "metadata": {
            "tags": []
          },
          "execution_count": 14
        }
      ]
    },
    {
      "cell_type": "code",
      "metadata": {
        "id": "BgmFbMTcnW1T",
        "outputId": "9c609f59-8b57-48de-83a7-fc49b789659f",
        "colab": {
          "base_uri": "https://localhost:8080/",
          "height": 187
        }
      },
      "source": [
        "# y ahora podemos investigar la mediana directamente para corroborar\n",
        "# que el imputer hizo un buen trabajo\n",
        "X_train[cols_to_use].median()"
      ],
      "execution_count": 15,
      "outputs": [
        {
          "output_type": "execute_result",
          "data": {
            "text/plain": [
              "OverallQual       6.0\n",
              "TotalBsmtSF     992.0\n",
              "1stFlrSF       1095.0\n",
              "GrLivArea      1479.0\n",
              "WoodDeckSF        0.0\n",
              "BsmtUnfSF       486.5\n",
              "LotFrontage      69.0\n",
              "MasVnrArea        0.0\n",
              "GarageYrBlt    1979.0\n",
              "dtype: float64"
            ]
          },
          "metadata": {
            "tags": []
          },
          "execution_count": 15
        }
      ]
    },
    {
      "cell_type": "markdown",
      "metadata": {
        "id": "OjmpdbPpnW1W"
      },
      "source": [
        "**Note** el SimpleImputer aprende (calcula) la mediana de TODAS las variables en los datos, tanto las que tienen y las que no tienen valores nulos o NA."
      ]
    },
    {
      "cell_type": "code",
      "metadata": {
        "id": "MmEtEeyRnW1W",
        "outputId": "71e40e80-0be2-4ae4-ecfa-8969cec0ba7d",
        "colab": {
          "base_uri": "https://localhost:8080/",
          "height": 136
        }
      },
      "source": [
        "# y ahora sustituimos los valores nulos en los sets de entrenamiento y prueba\n",
        "\n",
        "# NOTA: los datos retornados son un numpy array!!!\n",
        "X_train = imputer.transform(X_train)\n",
        "X_test = imputer.transform(X_test)\n",
        "\n",
        "X_train"
      ],
      "execution_count": 16,
      "outputs": [
        {
          "output_type": "execute_result",
          "data": {
            "text/plain": [
              "array([[   7., 1057., 1057., ...,   69.,  573., 1998.],\n",
              "       [   6., 1291., 1291., ...,   69.,    0., 1996.],\n",
              "       [   5.,  858.,  858., ...,   50.,    0., 1979.],\n",
              "       ...,\n",
              "       [   6.,    0., 1318., ...,   68.,    0., 1978.],\n",
              "       [   7., 1374., 1557., ...,   69.,   18., 2003.],\n",
              "       [   7., 1195., 1195., ...,   58.,   30., 1998.]])"
            ]
          },
          "metadata": {
            "tags": []
          },
          "execution_count": 16
        }
      ]
    },
    {
      "cell_type": "code",
      "metadata": {
        "id": "PKI_-REunW1Y",
        "outputId": "af2ad8ad-2235-4b8e-b97b-f47758482ee5",
        "colab": {
          "base_uri": "https://localhost:8080/",
          "height": 204
        }
      },
      "source": [
        "# si queremos continuar con nuestro análisis de datos, \n",
        "# tenemos que codificar los datos nuevamente en un dataframe:\n",
        "\n",
        "pd.DataFrame(X_train, columns=cols_to_use).head()"
      ],
      "execution_count": 17,
      "outputs": [
        {
          "output_type": "execute_result",
          "data": {
            "text/html": [
              "<div>\n",
              "<style scoped>\n",
              "    .dataframe tbody tr th:only-of-type {\n",
              "        vertical-align: middle;\n",
              "    }\n",
              "\n",
              "    .dataframe tbody tr th {\n",
              "        vertical-align: top;\n",
              "    }\n",
              "\n",
              "    .dataframe thead th {\n",
              "        text-align: right;\n",
              "    }\n",
              "</style>\n",
              "<table border=\"1\" class=\"dataframe\">\n",
              "  <thead>\n",
              "    <tr style=\"text-align: right;\">\n",
              "      <th></th>\n",
              "      <th>OverallQual</th>\n",
              "      <th>TotalBsmtSF</th>\n",
              "      <th>1stFlrSF</th>\n",
              "      <th>GrLivArea</th>\n",
              "      <th>WoodDeckSF</th>\n",
              "      <th>BsmtUnfSF</th>\n",
              "      <th>LotFrontage</th>\n",
              "      <th>MasVnrArea</th>\n",
              "      <th>GarageYrBlt</th>\n",
              "    </tr>\n",
              "  </thead>\n",
              "  <tbody>\n",
              "    <tr>\n",
              "      <th>0</th>\n",
              "      <td>7.0</td>\n",
              "      <td>1057.0</td>\n",
              "      <td>1057.0</td>\n",
              "      <td>2034.0</td>\n",
              "      <td>576.0</td>\n",
              "      <td>318.0</td>\n",
              "      <td>69.0</td>\n",
              "      <td>573.0</td>\n",
              "      <td>1998.0</td>\n",
              "    </tr>\n",
              "    <tr>\n",
              "      <th>1</th>\n",
              "      <td>6.0</td>\n",
              "      <td>1291.0</td>\n",
              "      <td>1291.0</td>\n",
              "      <td>1291.0</td>\n",
              "      <td>307.0</td>\n",
              "      <td>288.0</td>\n",
              "      <td>69.0</td>\n",
              "      <td>0.0</td>\n",
              "      <td>1996.0</td>\n",
              "    </tr>\n",
              "    <tr>\n",
              "      <th>2</th>\n",
              "      <td>5.0</td>\n",
              "      <td>858.0</td>\n",
              "      <td>858.0</td>\n",
              "      <td>858.0</td>\n",
              "      <td>117.0</td>\n",
              "      <td>162.0</td>\n",
              "      <td>50.0</td>\n",
              "      <td>0.0</td>\n",
              "      <td>1979.0</td>\n",
              "    </tr>\n",
              "    <tr>\n",
              "      <th>3</th>\n",
              "      <td>6.0</td>\n",
              "      <td>560.0</td>\n",
              "      <td>698.0</td>\n",
              "      <td>1258.0</td>\n",
              "      <td>0.0</td>\n",
              "      <td>356.0</td>\n",
              "      <td>60.0</td>\n",
              "      <td>0.0</td>\n",
              "      <td>1939.0</td>\n",
              "    </tr>\n",
              "    <tr>\n",
              "      <th>4</th>\n",
              "      <td>2.0</td>\n",
              "      <td>290.0</td>\n",
              "      <td>438.0</td>\n",
              "      <td>438.0</td>\n",
              "      <td>0.0</td>\n",
              "      <td>0.0</td>\n",
              "      <td>60.0</td>\n",
              "      <td>0.0</td>\n",
              "      <td>1930.0</td>\n",
              "    </tr>\n",
              "  </tbody>\n",
              "</table>\n",
              "</div>"
            ],
            "text/plain": [
              "   OverallQual  TotalBsmtSF  1stFlrSF  ...  LotFrontage  MasVnrArea  GarageYrBlt\n",
              "0          7.0       1057.0    1057.0  ...         69.0       573.0       1998.0\n",
              "1          6.0       1291.0    1291.0  ...         69.0         0.0       1996.0\n",
              "2          5.0        858.0     858.0  ...         50.0         0.0       1979.0\n",
              "3          6.0        560.0     698.0  ...         60.0         0.0       1939.0\n",
              "4          2.0        290.0     438.0  ...         60.0         0.0       1930.0\n",
              "\n",
              "[5 rows x 9 columns]"
            ]
          },
          "metadata": {
            "tags": []
          },
          "execution_count": 17
        }
      ]
    },
    {
      "cell_type": "code",
      "metadata": {
        "id": "Pa0k85l6N0o_",
        "outputId": "83b49ffb-8d06-416d-eb68-1da94c2d7f06",
        "colab": {
          "base_uri": "https://localhost:8080/",
          "height": 607
        }
      },
      "source": [
        "# Exploremos el cambio en las distribuciones después de la sustitución por la mediana\n",
        "data.hist(bins=50, figsize=(10,10))\n",
        "plt.show()"
      ],
      "execution_count": 19,
      "outputs": [
        {
          "output_type": "display_data",
          "data": {
            "image/png": "[encoded data removed]",
            "text/plain": [
              "<Figure size 720x720 with 12 Axes>"
            ]
          },
          "metadata": {
            "tags": [],
            "needs_background": "light"
          }
        }
      ]
    },
    {
      "cell_type": "code",
      "metadata": {
        "id": "V_effshenW1a",
        "outputId": "e18e5792-b672-4528-a98b-c7e70d9a4674",
        "colab": {
          "base_uri": "https://localhost:8080/",
          "height": 607
        }
      },
      "source": [
        "# Exploremos el cambio en las distribuciones después de la sustitución por la mediana\n",
        "X_train = pd.DataFrame(X_train, columns=cols_to_use)\n",
        "X_train.hist(bins=50, figsize=(10,10))\n",
        "plt.show()"
      ],
      "execution_count": 18,
      "outputs": [
        {
          "output_type": "display_data",
          "data": {
            "image/png": "[encoded data removed]",
            "text/plain": [
              "<Figure size 720x720 with 9 Axes>"
            ]
          },
          "metadata": {
            "tags": [],
            "needs_background": "light"
          }
        }
      ]
    },
    {
      "cell_type": "markdown",
      "metadata": {
        "id": "JRcZ6LqynW1d"
      },
      "source": [
        "La variable LotFrontAge tiene una barra sobresalientemente alta, sobre el valor de la media en el histograma, que aparece luego de la imputación. Esto es un producto de la imputación elegida.\n",
        "\n",
        "**ADVERTENCIA**: cuando se codifica el numpy array que retorna Scikit-learn de vuelta a un dataframe, existe el riesgo que el orden de las variables se altere y por lo tanto se DISTORSIONEN los datos!!\n",
        "\n",
        "Necesitas ser extremadamente cuidadoso de pasar las columnas al comando pd.DataFrame en el mismo orden que estaban en X_train ANTES de la transformación!.\n",
        "\n",
        "\n",
        "### SimpleImputer: diferentes métodos en diferentes variables\n",
        "\n",
        "En algunas ocasiones, queremos implementar diferentes técnicas de imputación para las diferentes variables. \n",
        "Cómo podemos hacer esto usando el SimpleImputer de Scikit-learn?\n",
        "\n",
        "Tenemos que utilizar otra clase llamada ColumnTransformer. \n",
        "\n",
        "Más detalles sobre el ColumnTransformer en [Sklearn website](https://scikit-learn.org/stable/modules/generated/sklearn.compose.ColumnTransformer.html)"
      ]
    },
    {
      "cell_type": "code",
      "metadata": {
        "id": "VA901LawnW1d",
        "outputId": "774f31ad-5103-4ce5-dc52-d0bd3bd6b2a4",
        "colab": {
          "base_uri": "https://localhost:8080/",
          "height": 34
        }
      },
      "source": [
        "# Separemos en sets para entrenamiento y prueba\n",
        "\n",
        "X_train, X_test, y_train, y_test = train_test_split(data[cols_to_use],\n",
        "                                                    data['SalePrice'],\n",
        "                                                    test_size=0.3,\n",
        "                                                    random_state=0)\n",
        "X_train.shape, X_test.shape"
      ],
      "execution_count": 20,
      "outputs": [
        {
          "output_type": "execute_result",
          "data": {
            "text/plain": [
              "((1022, 9), (438, 9))"
            ]
          },
          "metadata": {
            "tags": []
          },
          "execution_count": 20
        }
      ]
    },
    {
      "cell_type": "code",
      "metadata": {
        "id": "6JEw_l33nW1g",
        "outputId": "c71906bb-9407-42c5-b37f-35cf4b86c1e4",
        "colab": {
          "base_uri": "https://localhost:8080/",
          "height": 187
        }
      },
      "source": [
        "# % de valores ausentes\n",
        "X_train.isnull().mean()"
      ],
      "execution_count": 21,
      "outputs": [
        {
          "output_type": "execute_result",
          "data": {
            "text/plain": [
              "OverallQual    0.000000\n",
              "TotalBsmtSF    0.000000\n",
              "1stFlrSF       0.000000\n",
              "GrLivArea      0.000000\n",
              "WoodDeckSF     0.000000\n",
              "BsmtUnfSF      0.000000\n",
              "LotFrontage    0.184932\n",
              "MasVnrArea     0.004892\n",
              "GarageYrBlt    0.052838\n",
              "dtype: float64"
            ]
          },
          "metadata": {
            "tags": []
          },
          "execution_count": 21
        }
      ]
    },
    {
      "cell_type": "code",
      "metadata": {
        "id": "tYV1152cnW1j",
        "outputId": "fb2d2840-c8a8-4587-a6ec-02b5378ae3a7",
        "colab": {
          "base_uri": "https://localhost:8080/",
          "height": 607
        }
      },
      "source": [
        "# Exploremos as distribuciones para decidir si es mejor usar\n",
        "# sustitutición por media o mediana\n",
        "\n",
        "X_train.hist(bins=50, figsize=(10,10))\n",
        "plt.show()"
      ],
      "execution_count": 22,
      "outputs": [
        {
          "output_type": "display_data",
          "data": {
            "image/png": "[encoded data removed]",
            "text/plain": [
              "<Figure size 720x720 with 9 Axes>"
            ]
          },
          "metadata": {
            "tags": [],
            "needs_background": "light"
          }
        }
      ]
    },
    {
      "cell_type": "markdown",
      "metadata": {
        "id": "_NM_4gaXnW1l"
      },
      "source": [
        "Para este demo, vamos a sustituir LotFrontage con la media, y MasVnrArea, GarageYrBlt con la mediana ya que estas variables están un poco sesgadas."
      ]
    },
    {
      "cell_type": "code",
      "metadata": {
        "id": "ZUMPA_xZnW1m"
      },
      "source": [
        "# primero vamos a crear una lista, indicando cuales son las \n",
        "# variables a sustituir con cada método\n",
        "\n",
        "numeric_features_mean = ['LotFrontage']\n",
        "numeric_features_median = ['MasVnrArea', 'GarageYrBlt']\n",
        "\n",
        "# luego vamos a instanciar imputers dentro de un pipeline\n",
        "# creamos un imputer para la media y otro para la mediana\n",
        "# simplemente intercambiando los parámetros en 'strategy'\n",
        "\n",
        "numeric_mean_imputer = Pipeline(steps=[\n",
        "    ('imputer', SimpleImputer(strategy='mean')),\n",
        "])\n",
        "\n",
        "numeric_median_imputer = Pipeline(steps=[\n",
        "    ('imputer', SimpleImputer(strategy='median')),\n",
        "])\n",
        "\n",
        "# luego ponemos las variables en una lista junto a los transformadores \n",
        "# usando el ColumnTransformer\n",
        "\n",
        "# necesitamos añadir remainder = True para indicar que queremos\n",
        "# TODAS las columnas devueltas al final de la transformación\n",
        "# y no solo las que hemos transformado, que es el comportamiento por\n",
        "# defecto del ColumnTransformer.\n",
        "\n",
        "preprocessor = ColumnTransformer(transformers=[\n",
        "    ('mean_imputer', numeric_mean_imputer, numeric_features_mean),\n",
        "    ('median_imputer', numeric_median_imputer, numeric_features_median)\n",
        "], remainder='passthrough')\n",
        "\n",
        "\n",
        "# parámetros del ColumnTransformer\n",
        "# remainder = 'passthrough' indica que queremos retener TODAS las columnas del dataframe\n",
        "            # de lo contrario solo las especificadas en los pasos de la sustitución se mantendrán\n",
        "    \n",
        "# para mas detalles seguir la página de sklearn:\n",
        "# https://scikit-learn.org/stable/modules/generated/sklearn.compose.ColumnTransformer.html"
      ],
      "execution_count": 23,
      "outputs": []
    },
    {
      "cell_type": "code",
      "metadata": {
        "id": "hJvYkbwfnW1o",
        "outputId": "ffcabf47-680e-4f70-84fa-60b1044775d7",
        "colab": {
          "base_uri": "https://localhost:8080/",
          "height": 442
        }
      },
      "source": [
        "# ahora ajustemos el preprocessor\n",
        "preprocessor.fit(X_train)"
      ],
      "execution_count": 24,
      "outputs": [
        {
          "output_type": "execute_result",
          "data": {
            "text/plain": [
              "ColumnTransformer(n_jobs=None, remainder='passthrough', sparse_threshold=0.3,\n",
              "                  transformer_weights=None,\n",
              "                  transformers=[('mean_imputer',\n",
              "                                 Pipeline(memory=None,\n",
              "                                          steps=[('imputer',\n",
              "                                                  SimpleImputer(add_indicator=False,\n",
              "                                                                copy=True,\n",
              "                                                                fill_value=None,\n",
              "                                                                missing_values=nan,\n",
              "                                                                strategy='mean',\n",
              "                                                                verbose=0))],\n",
              "                                          verbose=False),\n",
              "                                 ['LotFrontage']),\n",
              "                                ('median_imputer',\n",
              "                                 Pipeline(memory=None,\n",
              "                                          steps=[('imputer',\n",
              "                                                  SimpleImputer(add_indicator=False,\n",
              "                                                                copy=True,\n",
              "                                                                fill_value=None,\n",
              "                                                                missing_values=nan,\n",
              "                                                                strategy='median',\n",
              "                                                                verbose=0))],\n",
              "                                          verbose=False),\n",
              "                                 ['MasVnrArea', 'GarageYrBlt'])],\n",
              "                  verbose=False)"
            ]
          },
          "metadata": {
            "tags": []
          },
          "execution_count": 24
        }
      ]
    },
    {
      "cell_type": "code",
      "metadata": {
        "id": "ezBoL1V6nW1r",
        "outputId": "93c9e1be-58ba-415f-d10e-5774b35706f6",
        "colab": {
          "base_uri": "https://localhost:8080/",
          "height": 221
        }
      },
      "source": [
        "# exploremos los transformers:\n",
        "preprocessor.transformers"
      ],
      "execution_count": 25,
      "outputs": [
        {
          "output_type": "execute_result",
          "data": {
            "text/plain": [
              "[('mean_imputer', Pipeline(memory=None,\n",
              "           steps=[('imputer',\n",
              "                   SimpleImputer(add_indicator=False, copy=True, fill_value=None,\n",
              "                                 missing_values=nan, strategy='mean',\n",
              "                                 verbose=0))],\n",
              "           verbose=False), ['LotFrontage']),\n",
              " ('median_imputer', Pipeline(memory=None,\n",
              "           steps=[('imputer',\n",
              "                   SimpleImputer(add_indicator=False, copy=True, fill_value=None,\n",
              "                                 missing_values=nan, strategy='median',\n",
              "                                 verbose=0))],\n",
              "           verbose=False), ['MasVnrArea', 'GarageYrBlt'])]"
            ]
          },
          "metadata": {
            "tags": []
          },
          "execution_count": 25
        }
      ]
    },
    {
      "cell_type": "code",
      "metadata": {
        "id": "Zh62FAD8nW1t",
        "outputId": "d7ba6afe-e6eb-4837-b814-2a26a764d219",
        "colab": {
          "base_uri": "https://localhost:8080/",
          "height": 34
        }
      },
      "source": [
        "# podemos ver los parámetros aprendidos:\n",
        "\n",
        "# para el imputer de la media\n",
        "preprocessor.named_transformers_['mean_imputer'].named_steps['imputer'].statistics_"
      ],
      "execution_count": 26,
      "outputs": [
        {
          "output_type": "execute_result",
          "data": {
            "text/plain": [
              "array([69.66866747])"
            ]
          },
          "metadata": {
            "tags": []
          },
          "execution_count": 26
        }
      ]
    },
    {
      "cell_type": "code",
      "metadata": {
        "id": "KPmxzBHinW1v",
        "outputId": "5ef9d6bb-dced-4ab3-ef05-d400e1f0bf3e",
        "colab": {
          "base_uri": "https://localhost:8080/",
          "height": 51
        }
      },
      "source": [
        "# y podemos corroborar el valor con el obtenido en el set de entrenamiento\n",
        "X_train[numeric_features_mean].mean()"
      ],
      "execution_count": 27,
      "outputs": [
        {
          "output_type": "execute_result",
          "data": {
            "text/plain": [
              "LotFrontage    69.668667\n",
              "dtype: float64"
            ]
          },
          "metadata": {
            "tags": []
          },
          "execution_count": 27
        }
      ]
    },
    {
      "cell_type": "code",
      "metadata": {
        "id": "Q9uw-d0QnW1y",
        "outputId": "68340db5-9791-40e3-c3c3-ccafb2236caa",
        "colab": {
          "base_uri": "https://localhost:8080/",
          "height": 34
        }
      },
      "source": [
        "# para el imputer por la mediana hay dos valores aprendidos\n",
        "# porque queremos sustituir 2 variables diferentes\n",
        "\n",
        "preprocessor.named_transformers_['median_imputer'].named_steps['imputer'].statistics_"
      ],
      "execution_count": 28,
      "outputs": [
        {
          "output_type": "execute_result",
          "data": {
            "text/plain": [
              "array([   0., 1979.])"
            ]
          },
          "metadata": {
            "tags": []
          },
          "execution_count": 28
        }
      ]
    },
    {
      "cell_type": "code",
      "metadata": {
        "id": "cJJzPPIenW1z",
        "outputId": "68cc7d9e-79e1-4c90-8a71-f5819678fc94",
        "colab": {
          "base_uri": "https://localhost:8080/",
          "height": 68
        }
      },
      "source": [
        "# y si corroboramos estos valores en el set de entrenamiento\n",
        "X_train[numeric_features_median].median()"
      ],
      "execution_count": 29,
      "outputs": [
        {
          "output_type": "execute_result",
          "data": {
            "text/plain": [
              "MasVnrArea        0.0\n",
              "GarageYrBlt    1979.0\n",
              "dtype: float64"
            ]
          },
          "metadata": {
            "tags": []
          },
          "execution_count": 29
        }
      ]
    },
    {
      "cell_type": "code",
      "metadata": {
        "id": "c7ZyKdjlnW11",
        "outputId": "8772fe72-2adb-4c4e-fb64-a8ff3339556a",
        "colab": {
          "base_uri": "https://localhost:8080/",
          "height": 34
        }
      },
      "source": [
        "# y ahora podemos sustituir los datos\n",
        "X_train = preprocessor.transform(X_train)\n",
        "\n",
        "# y revisar que funcionó\n",
        "np.mean(np.isnan(X_train))"
      ],
      "execution_count": 30,
      "outputs": [
        {
          "output_type": "execute_result",
          "data": {
            "text/plain": [
              "0.0"
            ]
          },
          "metadata": {
            "tags": []
          },
          "execution_count": 30
        }
      ]
    },
    {
      "cell_type": "code",
      "metadata": {
        "id": "zp_wC1q5nW13",
        "outputId": "fb4492d3-1e69-4f70-cb4a-3e3d14b6580a",
        "colab": {
          "base_uri": "https://localhost:8080/",
          "height": 34
        }
      },
      "source": [
        "# lo mismo en el set de prueba\n",
        "X_test = preprocessor.transform(X_test)\n",
        "\n",
        "# y revisar que funcionó\n",
        "np.mean(np.isnan(X_test))"
      ],
      "execution_count": 31,
      "outputs": [
        {
          "output_type": "execute_result",
          "data": {
            "text/plain": [
              "0.0"
            ]
          },
          "metadata": {
            "tags": []
          },
          "execution_count": 31
        }
      ]
    },
    {
      "cell_type": "code",
      "metadata": {
        "id": "wwx3oVe0nW16",
        "outputId": "e74847b2-cb59-4246-ece3-12d6d694912b",
        "colab": {
          "base_uri": "https://localhost:8080/",
          "height": 238
        }
      },
      "source": [
        "# recuerda que el objeto retornado es un NumPy array\n",
        "X_train"
      ],
      "execution_count": 32,
      "outputs": [
        {
          "output_type": "execute_result",
          "data": {
            "text/plain": [
              "array([[  69.66866747,  573.        , 1998.        , ..., 2034.        ,\n",
              "         576.        ,  318.        ],\n",
              "       [  69.66866747,    0.        , 1996.        , ..., 1291.        ,\n",
              "         307.        ,  288.        ],\n",
              "       [  50.        ,    0.        , 1979.        , ...,  858.        ,\n",
              "         117.        ,  162.        ],\n",
              "       ...,\n",
              "       [  68.        ,    0.        , 1978.        , ..., 1902.        ,\n",
              "           0.        ,    0.        ],\n",
              "       [  69.66866747,   18.        , 2003.        , ..., 1557.        ,\n",
              "         143.        , 1374.        ],\n",
              "       [  58.        ,   30.        , 1998.        , ..., 1839.        ,\n",
              "           0.        , 1195.        ]])"
            ]
          },
          "metadata": {
            "tags": []
          },
          "execution_count": 32
        }
      ]
    },
    {
      "cell_type": "code",
      "metadata": {
        "id": "8BTACRranW18",
        "outputId": "c2d4f27e-2285-4c30-b9bc-94741626eecb",
        "colab": {
          "base_uri": "https://localhost:8080/",
          "height": 238
        }
      },
      "source": [
        "# si queremos poner el array de vuelta en un dataframe, necesitamos\n",
        "# ser cuidadosos con el orden de las columnas\n",
        "\n",
        "# podemos explorar las variables usadas en cada transformador\n",
        "# incluyendo aquellas que quedaron ('remainder' en inglés) (estas son las que no fueron transformadas)\n",
        "preprocessor.transformers_"
      ],
      "execution_count": 33,
      "outputs": [
        {
          "output_type": "execute_result",
          "data": {
            "text/plain": [
              "[('mean_imputer', Pipeline(memory=None,\n",
              "           steps=[('imputer',\n",
              "                   SimpleImputer(add_indicator=False, copy=True, fill_value=None,\n",
              "                                 missing_values=nan, strategy='mean',\n",
              "                                 verbose=0))],\n",
              "           verbose=False), ['LotFrontage']),\n",
              " ('median_imputer', Pipeline(memory=None,\n",
              "           steps=[('imputer',\n",
              "                   SimpleImputer(add_indicator=False, copy=True, fill_value=None,\n",
              "                                 missing_values=nan, strategy='median',\n",
              "                                 verbose=0))],\n",
              "           verbose=False), ['MasVnrArea', 'GarageYrBlt']),\n",
              " ('remainder', 'passthrough', [0, 1, 2, 3, 4, 5])]"
            ]
          },
          "metadata": {
            "tags": []
          },
          "execution_count": 33
        }
      ]
    },
    {
      "cell_type": "markdown",
      "metadata": {
        "id": "RLpZpq_EnW1-"
      },
      "source": [
        "'remainder', 'passthrough', [0, 1, 2, 3, 4, 5]\n",
        "\n",
        "el código anterior nos dice cuáles son las columnas que quedaron sin transformar – indica específicamente su posición 0, 1, 2, 3, 4, 5 en X_train"
      ]
    },
    {
      "cell_type": "code",
      "metadata": {
        "id": "N6vtZJE3nW1-",
        "outputId": "2eadc6be-1438-4ff6-a8ed-88043f4c6513",
        "colab": {
          "base_uri": "https://localhost:8080/",
          "height": 119
        }
      },
      "source": [
        "# capturemos las columnas en una lista\n",
        "\n",
        "remainder_cols = [cols_to_use[c] for c in [0, 1, 2, 3, 4, 5]]\n",
        "remainder_cols"
      ],
      "execution_count": 34,
      "outputs": [
        {
          "output_type": "execute_result",
          "data": {
            "text/plain": [
              "['OverallQual',\n",
              " 'TotalBsmtSF',\n",
              " '1stFlrSF',\n",
              " 'GrLivArea',\n",
              " 'WoodDeckSF',\n",
              " 'BsmtUnfSF']"
            ]
          },
          "metadata": {
            "tags": []
          },
          "execution_count": 34
        }
      ]
    },
    {
      "cell_type": "code",
      "metadata": {
        "id": "CXUYgeo4nW2A",
        "outputId": "1b2ab748-6632-46a5-b57f-c5b9137408dd",
        "colab": {
          "base_uri": "https://localhost:8080/",
          "height": 204
        }
      },
      "source": [
        "# capturemos los datos de vuelta en un dataframe\n",
        "pd.DataFrame(X_train,\n",
        "             columns = numeric_features_mean+numeric_features_median+remainder_cols).head()"
      ],
      "execution_count": 35,
      "outputs": [
        {
          "output_type": "execute_result",
          "data": {
            "text/html": [
              "<div>\n",
              "<style scoped>\n",
              "    .dataframe tbody tr th:only-of-type {\n",
              "        vertical-align: middle;\n",
              "    }\n",
              "\n",
              "    .dataframe tbody tr th {\n",
              "        vertical-align: top;\n",
              "    }\n",
              "\n",
              "    .dataframe thead th {\n",
              "        text-align: right;\n",
              "    }\n",
              "</style>\n",
              "<table border=\"1\" class=\"dataframe\">\n",
              "  <thead>\n",
              "    <tr style=\"text-align: right;\">\n",
              "      <th></th>\n",
              "      <th>LotFrontage</th>\n",
              "      <th>MasVnrArea</th>\n",
              "      <th>GarageYrBlt</th>\n",
              "      <th>OverallQual</th>\n",
              "      <th>TotalBsmtSF</th>\n",
              "      <th>1stFlrSF</th>\n",
              "      <th>GrLivArea</th>\n",
              "      <th>WoodDeckSF</th>\n",
              "      <th>BsmtUnfSF</th>\n",
              "    </tr>\n",
              "  </thead>\n",
              "  <tbody>\n",
              "    <tr>\n",
              "      <th>0</th>\n",
              "      <td>69.668667</td>\n",
              "      <td>573.0</td>\n",
              "      <td>1998.0</td>\n",
              "      <td>7.0</td>\n",
              "      <td>1057.0</td>\n",
              "      <td>1057.0</td>\n",
              "      <td>2034.0</td>\n",
              "      <td>576.0</td>\n",
              "      <td>318.0</td>\n",
              "    </tr>\n",
              "    <tr>\n",
              "      <th>1</th>\n",
              "      <td>69.668667</td>\n",
              "      <td>0.0</td>\n",
              "      <td>1996.0</td>\n",
              "      <td>6.0</td>\n",
              "      <td>1291.0</td>\n",
              "      <td>1291.0</td>\n",
              "      <td>1291.0</td>\n",
              "      <td>307.0</td>\n",
              "      <td>288.0</td>\n",
              "    </tr>\n",
              "    <tr>\n",
              "      <th>2</th>\n",
              "      <td>50.000000</td>\n",
              "      <td>0.0</td>\n",
              "      <td>1979.0</td>\n",
              "      <td>5.0</td>\n",
              "      <td>858.0</td>\n",
              "      <td>858.0</td>\n",
              "      <td>858.0</td>\n",
              "      <td>117.0</td>\n",
              "      <td>162.0</td>\n",
              "    </tr>\n",
              "    <tr>\n",
              "      <th>3</th>\n",
              "      <td>60.000000</td>\n",
              "      <td>0.0</td>\n",
              "      <td>1939.0</td>\n",
              "      <td>6.0</td>\n",
              "      <td>560.0</td>\n",
              "      <td>698.0</td>\n",
              "      <td>1258.0</td>\n",
              "      <td>0.0</td>\n",
              "      <td>356.0</td>\n",
              "    </tr>\n",
              "    <tr>\n",
              "      <th>4</th>\n",
              "      <td>60.000000</td>\n",
              "      <td>0.0</td>\n",
              "      <td>1930.0</td>\n",
              "      <td>2.0</td>\n",
              "      <td>290.0</td>\n",
              "      <td>438.0</td>\n",
              "      <td>438.0</td>\n",
              "      <td>0.0</td>\n",
              "      <td>0.0</td>\n",
              "    </tr>\n",
              "  </tbody>\n",
              "</table>\n",
              "</div>"
            ],
            "text/plain": [
              "   LotFrontage  MasVnrArea  GarageYrBlt  ...  GrLivArea  WoodDeckSF  BsmtUnfSF\n",
              "0    69.668667       573.0       1998.0  ...     2034.0       576.0      318.0\n",
              "1    69.668667         0.0       1996.0  ...     1291.0       307.0      288.0\n",
              "2    50.000000         0.0       1979.0  ...      858.0       117.0      162.0\n",
              "3    60.000000         0.0       1939.0  ...     1258.0         0.0      356.0\n",
              "4    60.000000         0.0       1930.0  ...      438.0         0.0        0.0\n",
              "\n",
              "[5 rows x 9 columns]"
            ]
          },
          "metadata": {
            "tags": []
          },
          "execution_count": 35
        }
      ]
    },
    {
      "cell_type": "code",
      "metadata": {
        "id": "UO2KhLy8PAFO",
        "outputId": "6f974fa4-00af-4001-c86d-d976b99174c6",
        "colab": {
          "base_uri": "https://localhost:8080/",
          "height": 607
        }
      },
      "source": [
        "# Exploremos el cambio en las distribuciones después de la sustitución por la mediana\n",
        "data.hist(bins=50, figsize=(10,10))\n",
        "plt.show()"
      ],
      "execution_count": 36,
      "outputs": [
        {
          "output_type": "display_data",
          "data": {
            "image/png": "[encoded data removed]",
            "text/plain": [
              "<Figure size 720x720 with 12 Axes>"
            ]
          },
          "metadata": {
            "tags": [],
            "needs_background": "light"
          }
        }
      ]
    },
    {
      "cell_type": "code",
      "metadata": {
        "id": "5UrBqgWkPGT7",
        "outputId": "28f47d49-9d8b-4385-f76c-0732a5c32720",
        "colab": {
          "base_uri": "https://localhost:8080/",
          "height": 607
        }
      },
      "source": [
        "# Exploremos el cambio en las distribuciones después de la sustitución por la mediana\n",
        "pd.DataFrame(X_train,\n",
        "             columns = numeric_features_mean+numeric_features_median+remainder_cols).hist(bins=50, figsize=(10,10))\n",
        "plt.show()"
      ],
      "execution_count": 37,
      "outputs": [
        {
          "output_type": "display_data",
          "data": {
            "image/png": "[encoded data removed]",
            "text/plain": [
              "<Figure size 720x720 with 9 Axes>"
            ]
          },
          "metadata": {
            "tags": [],
            "needs_background": "light"
          }
        }
      ]
    },
    {
      "cell_type": "markdown",
      "metadata": {
        "id": "cTee379nnW2C"
      },
      "source": [
        "**OTRA ADVERTENCIA**\n",
        "\n",
        "El ColumnTransformer simplemente selecciona una porción del dataframe que tiene las columnas requeridas para la sustitución. Luego el SimpleImputer opera en este sub-dataframe.\n",
        "Si diferentes hacemos diferentes sustituciones en diferentes columnas, el ColumnTransformer genera dos dataframes con las columnas requeridas, aplica los imputadores, y luego concatena los dataframes para producir el resultado final.\n",
        "\n",
        "En nuestro ejemplo, sucede lo siguiente:\n",
        "\n",
        "- El ColumnTransformer primero crea una columna sola con el primer feature, LotFrontage\n",
        "- El ColumnTransformer crea un dataframe de dos 2 columnas con las variables MasVnrArea y GarageBlt\n",
        "- ColumnTransformer crea un dataframe adicional con las variables restantes del set de entrenamiento\n",
        "- Los diferentes SimpleImputers aprenden los parámetros para cada uno de los dataframes seleccionados\n",
        "- ColunmnTransformer concatena de vuelta todos los dataframes en el resultado final"
      ]
    },
    {
      "cell_type": "code",
      "metadata": {
        "id": "mpEg3nMQnW2C"
      },
      "source": [
        ""
      ],
      "execution_count": null,
      "outputs": []
    }
  ]
}