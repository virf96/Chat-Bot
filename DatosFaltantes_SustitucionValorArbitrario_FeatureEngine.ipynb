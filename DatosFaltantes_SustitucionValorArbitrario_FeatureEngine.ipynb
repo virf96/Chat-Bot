{
  "nbformat": 4,
  "nbformat_minor": 0,
  "metadata": {
    "kernelspec": {
      "display_name": "fe_test",
      "language": "python",
      "name": "fe_test"
    },
    "language_info": {
      "codemirror_mode": {
        "name": "ipython",
        "version": 3
      },
      "file_extension": ".py",
      "mimetype": "text/x-python",
      "name": "python",
      "nbconvert_exporter": "python",
      "pygments_lexer": "ipython3",
      "version": "3.8.2"
    },
    "toc": {
      "base_numbering": 1,
      "nav_menu": {},
      "number_sections": true,
      "sideBar": true,
      "skip_h1_title": false,
      "title_cell": "Table of Contents",
      "title_sidebar": "Contents",
      "toc_cell": false,
      "toc_position": {},
      "toc_section_display": "block",
      "toc_window_display": true
    },
    "colab": {
      "name": "DatosFaltantes_SustitucionValorArbitrario_FeatureEngine.ipynb",
      "provenance": [],
      "toc_visible": true,
      "include_colab_link": true
    }
  },
  "cells": [
    {
      "cell_type": "markdown",
      "metadata": {
        "id": "view-in-github",
        "colab_type": "text"
      },
      "source": [
        "<a href=\"https://colab.research.google.com/github/virf96/Chat-Bot/blob/master/DatosFaltantes_SustitucionValorArbitrario_FeatureEngine.ipynb\" target=\"_parent\"><img src=\"https://colab.research.google.com/assets/colab-badge.svg\" alt=\"Open In Colab\"/></a>"
      ]
    },
    {
      "cell_type": "markdown",
      "metadata": {
        "id": "twRp0Fp0m2ns"
      },
      "source": [
        "## Sustitución por valores arbitrarios  ==> Feature-engine\n",
        "\n",
        "\n",
        "### Qué es Feature-engine?\n",
        "\n",
        "Feature-engine es una librería de Python que hemos creado para este curso. \n",
        "\n",
        "- Feature-engine incluye todas las técnicas de ingeniería de variables descritas en este curso\n",
        "- Feature-engine funciona como Scikit-learn, por lo tanto es fácil de aprender\n",
        "- Feature-engine te permite implementar pasos de ingeniería de variables específicos para diferentes grupos de variables\n",
        "- Feature-engine puede ser integrado con las pipelines de Scikit-learn pipeline permitiendo construir modelos fácilmente\n",
        "** Feature-engine te permite diseñar y guardar un flujo de ingeniería de variables con procesos diseñados específicamente para diferentes grupos de variables.**\n",
        "\n",
        "-------------------------------------------------------------------\n",
        "Feature-engine puede ser instalado vía pip ==> pip install feature-engine\n",
        "\n",
        "- Asegurate que haz instalado Feature-engine antes de correr este notebook\n",
        "\n",
        "Para más detalle visita el [website the trainindata]( https://www.trainindata.com/feature-engine) \n",
        "\n",
        "\n",
        "## En este demo:\n",
        "\n",
        "Vamos a usar **Feature Engine para hacer la sustitución por valores arbitrarios** usando los datos Ames House Price.\n",
        "\n",
        "\n",
        "### Nota: \n",
        "* 'Imputer' se deriva del verbo en inglés 'to impute' que quiere decir sustituir o reemplazar. Imputer es el objeto que completa la sustitución, de ahí el nombre dado a la clase.\n"
      ]
    },
    {
      "cell_type": "code",
      "metadata": {
        "id": "o5RICx0am_q_",
        "outputId": "db5a0187-e84b-4c2d-cbe0-5633bc6edee4",
        "colab": {
          "base_uri": "https://localhost:8080/",
          "height": 360
        }
      },
      "source": [
        "pip install feature-engine"
      ],
      "execution_count": 1,
      "outputs": [
        {
          "output_type": "stream",
          "text": [
            "Collecting feature-engine\n",
            "  Downloading https://files.pythonhosted.org/packages/14/ed/5680bf401855b788f79cadc1298c210c5860eb5d54c4008cfa234b752ef1/feature_engine-0.6.1-py2.py3-none-any.whl\n",
            "Requirement already satisfied: scipy>=1.4.1 in /usr/local/lib/python3.6/dist-packages (from feature-engine) (1.4.1)\n",
            "Requirement already satisfied: pandas>=1.0.3 in /usr/local/lib/python3.6/dist-packages (from feature-engine) (1.1.2)\n",
            "Requirement already satisfied: scikit-learn>=0.22.2 in /usr/local/lib/python3.6/dist-packages (from feature-engine) (0.22.2.post1)\n",
            "Requirement already satisfied: numpy>=1.18.2 in /usr/local/lib/python3.6/dist-packages (from feature-engine) (1.18.5)\n",
            "Collecting statsmodels>=0.11.1\n",
            "\u001b[?25l  Downloading https://files.pythonhosted.org/packages/00/93/1b6882f92d94e491a3e3be101fc83934551eada261281980f3957246432f/statsmodels-0.12.0-cp36-cp36m-manylinux1_x86_64.whl (9.5MB)\n",
            "\u001b[K     |████████████████████████████████| 9.5MB 522kB/s \n",
            "\u001b[?25hRequirement already satisfied: pytz>=2017.2 in /usr/local/lib/python3.6/dist-packages (from pandas>=1.0.3->feature-engine) (2018.9)\n",
            "Requirement already satisfied: python-dateutil>=2.7.3 in /usr/local/lib/python3.6/dist-packages (from pandas>=1.0.3->feature-engine) (2.8.1)\n",
            "Requirement already satisfied: joblib>=0.11 in /usr/local/lib/python3.6/dist-packages (from scikit-learn>=0.22.2->feature-engine) (0.16.0)\n",
            "Requirement already satisfied: patsy>=0.5 in /usr/local/lib/python3.6/dist-packages (from statsmodels>=0.11.1->feature-engine) (0.5.1)\n",
            "Requirement already satisfied: six>=1.5 in /usr/local/lib/python3.6/dist-packages (from python-dateutil>=2.7.3->pandas>=1.0.3->feature-engine) (1.15.0)\n",
            "Installing collected packages: statsmodels, feature-engine\n",
            "  Found existing installation: statsmodels 0.10.2\n",
            "    Uninstalling statsmodels-0.10.2:\n",
            "      Successfully uninstalled statsmodels-0.10.2\n",
            "Successfully installed feature-engine-0.6.1 statsmodels-0.12.0\n"
          ],
          "name": "stdout"
        }
      ]
    },
    {
      "cell_type": "code",
      "metadata": {
        "id": "4y7d6Y0Jm2nt"
      },
      "source": [
        "import pandas as pd\n",
        "import numpy as np\n",
        "\n",
        "import matplotlib.pyplot as plt\n",
        "\n",
        "from sklearn.model_selection import train_test_split\n",
        "from sklearn.pipeline import Pipeline\n",
        "\n",
        "#  Feature-engine\n",
        "from feature_engine import missing_data_imputers as mdi"
      ],
      "execution_count": 2,
      "outputs": []
    },
    {
      "cell_type": "code",
      "metadata": {
        "id": "plZ53RSTnROt",
        "outputId": "07bdc677-141d-4261-ffda-7d74320ee8d8",
        "colab": {
          "base_uri": "https://localhost:8080/",
          "height": 34
        }
      },
      "source": [
        "from google.colab import drive\n",
        "drive.mount('/content/drive')"
      ],
      "execution_count": 3,
      "outputs": [
        {
          "output_type": "stream",
          "text": [
            "Mounted at /content/drive\n"
          ],
          "name": "stdout"
        }
      ]
    },
    {
      "cell_type": "code",
      "metadata": {
        "id": "DvGcLGbzm2nx",
        "outputId": "5ea81a72-a1e9-477a-fca2-62c19da03924",
        "colab": {
          "base_uri": "https://localhost:8080/",
          "height": 204
        }
      },
      "source": [
        "# carguemos los datos con unas columnas seleccionadas\n",
        "\n",
        "cols_to_use = [\n",
        "    'BsmtQual', 'FireplaceQu', 'LotFrontage', 'MasVnrArea', 'GarageYrBlt',\n",
        "    'SalePrice'\n",
        "]\n",
        "\n",
        "data = pd.read_csv('/content/drive/My Drive/datasets/houseprice.csv', usecols=cols_to_use)\n",
        "data.head()"
      ],
      "execution_count": 11,
      "outputs": [
        {
          "output_type": "execute_result",
          "data": {
            "text/html": [
              "<div>\n",
              "<style scoped>\n",
              "    .dataframe tbody tr th:only-of-type {\n",
              "        vertical-align: middle;\n",
              "    }\n",
              "\n",
              "    .dataframe tbody tr th {\n",
              "        vertical-align: top;\n",
              "    }\n",
              "\n",
              "    .dataframe thead th {\n",
              "        text-align: right;\n",
              "    }\n",
              "</style>\n",
              "<table border=\"1\" class=\"dataframe\">\n",
              "  <thead>\n",
              "    <tr style=\"text-align: right;\">\n",
              "      <th></th>\n",
              "      <th>LotFrontage</th>\n",
              "      <th>MasVnrArea</th>\n",
              "      <th>BsmtQual</th>\n",
              "      <th>FireplaceQu</th>\n",
              "      <th>GarageYrBlt</th>\n",
              "      <th>SalePrice</th>\n",
              "    </tr>\n",
              "  </thead>\n",
              "  <tbody>\n",
              "    <tr>\n",
              "      <th>0</th>\n",
              "      <td>65.0</td>\n",
              "      <td>196.0</td>\n",
              "      <td>Gd</td>\n",
              "      <td>NaN</td>\n",
              "      <td>2003.0</td>\n",
              "      <td>208500</td>\n",
              "    </tr>\n",
              "    <tr>\n",
              "      <th>1</th>\n",
              "      <td>80.0</td>\n",
              "      <td>0.0</td>\n",
              "      <td>Gd</td>\n",
              "      <td>TA</td>\n",
              "      <td>1976.0</td>\n",
              "      <td>181500</td>\n",
              "    </tr>\n",
              "    <tr>\n",
              "      <th>2</th>\n",
              "      <td>68.0</td>\n",
              "      <td>162.0</td>\n",
              "      <td>Gd</td>\n",
              "      <td>TA</td>\n",
              "      <td>2001.0</td>\n",
              "      <td>223500</td>\n",
              "    </tr>\n",
              "    <tr>\n",
              "      <th>3</th>\n",
              "      <td>60.0</td>\n",
              "      <td>0.0</td>\n",
              "      <td>TA</td>\n",
              "      <td>Gd</td>\n",
              "      <td>1998.0</td>\n",
              "      <td>140000</td>\n",
              "    </tr>\n",
              "    <tr>\n",
              "      <th>4</th>\n",
              "      <td>84.0</td>\n",
              "      <td>350.0</td>\n",
              "      <td>Gd</td>\n",
              "      <td>TA</td>\n",
              "      <td>2000.0</td>\n",
              "      <td>250000</td>\n",
              "    </tr>\n",
              "  </tbody>\n",
              "</table>\n",
              "</div>"
            ],
            "text/plain": [
              "   LotFrontage  MasVnrArea BsmtQual FireplaceQu  GarageYrBlt  SalePrice\n",
              "0         65.0       196.0       Gd         NaN       2003.0     208500\n",
              "1         80.0         0.0       Gd          TA       1976.0     181500\n",
              "2         68.0       162.0       Gd          TA       2001.0     223500\n",
              "3         60.0         0.0       TA          Gd       1998.0     140000\n",
              "4         84.0       350.0       Gd          TA       2000.0     250000"
            ]
          },
          "metadata": {
            "tags": []
          },
          "execution_count": 11
        }
      ]
    },
    {
      "cell_type": "code",
      "metadata": {
        "id": "1kSL1zqPnnry",
        "outputId": "7ff28893-75f2-4cf9-9f74-64020806201a",
        "colab": {
          "base_uri": "https://localhost:8080/",
          "height": 238
        }
      },
      "source": [
        "data.info()"
      ],
      "execution_count": 12,
      "outputs": [
        {
          "output_type": "stream",
          "text": [
            "<class 'pandas.core.frame.DataFrame'>\n",
            "RangeIndex: 1460 entries, 0 to 1459\n",
            "Data columns (total 6 columns):\n",
            " #   Column       Non-Null Count  Dtype  \n",
            "---  ------       --------------  -----  \n",
            " 0   LotFrontage  1201 non-null   float64\n",
            " 1   MasVnrArea   1452 non-null   float64\n",
            " 2   BsmtQual     1423 non-null   object \n",
            " 3   FireplaceQu  770 non-null    object \n",
            " 4   GarageYrBlt  1379 non-null   float64\n",
            " 5   SalePrice    1460 non-null   int64  \n",
            "dtypes: float64(3), int64(1), object(2)\n",
            "memory usage: 68.6+ KB\n"
          ],
          "name": "stdout"
        }
      ]
    },
    {
      "cell_type": "code",
      "metadata": {
        "id": "ocyheO2Sm2n0",
        "outputId": "0b768342-0917-4ace-8198-2b1629fd4367",
        "colab": {
          "base_uri": "https://localhost:8080/",
          "height": 136
        }
      },
      "source": [
        "data.isnull().mean().sort_values(ascending=False)"
      ],
      "execution_count": 13,
      "outputs": [
        {
          "output_type": "execute_result",
          "data": {
            "text/plain": [
              "FireplaceQu    0.472603\n",
              "LotFrontage    0.177397\n",
              "GarageYrBlt    0.055479\n",
              "BsmtQual       0.025342\n",
              "MasVnrArea     0.005479\n",
              "SalePrice      0.000000\n",
              "dtype: float64"
            ]
          },
          "metadata": {
            "tags": []
          },
          "execution_count": 13
        }
      ]
    },
    {
      "cell_type": "markdown",
      "metadata": {
        "id": "MUYbdv1wm2n2"
      },
      "source": [
        "Todas las variables predictivas tienen datos ausentes"
      ]
    },
    {
      "cell_type": "code",
      "metadata": {
        "id": "guogSw_Um2n3",
        "outputId": "a2dd0531-322d-4414-8530-e5603ba45cc6",
        "colab": {
          "base_uri": "https://localhost:8080/",
          "height": 34
        }
      },
      "source": [
        "# separar datos en segmentos entrenamiento y prueba\n",
        "\n",
        "# primero, separemos el target (SalePrice) del resto de las variables\n",
        "#Separamos los conjuntos porque la función solo debe de aprender del set de entrenamiento\n",
        "cols_to_use.remove('SalePrice')\n",
        "\n",
        "X_train, X_test, y_train, y_test = train_test_split(data[cols_to_use],\n",
        "                                                    data['SalePrice'],\n",
        "                                                    test_size=0.3,\n",
        "                                                    random_state=0)\n",
        "X_train.shape, X_test.shape"
      ],
      "execution_count": 14,
      "outputs": [
        {
          "output_type": "execute_result",
          "data": {
            "text/plain": [
              "((1022, 5), (438, 5))"
            ]
          },
          "metadata": {
            "tags": []
          },
          "execution_count": 14
        }
      ]
    },
    {
      "cell_type": "markdown",
      "metadata": {
        "id": "9zvX1-EKm2n5"
      },
      "source": [
        "## Feature-engine captura las variables numéricas automáticamente"
      ]
    },
    {
      "cell_type": "code",
      "metadata": {
        "id": "cikooXpdm2n6"
      },
      "source": [
        "# llamemos el imputer de Feature-engine\n",
        "# especifiquemos el valor arbitrario a utilizar como un argumento\n",
        "\n",
        "imputer = mdi.ArbitraryNumberImputer(arbitrary_number = -999)"
      ],
      "execution_count": 15,
      "outputs": []
    },
    {
      "cell_type": "code",
      "metadata": {
        "id": "GNwLIYuJm2n8",
        "outputId": "239f9bb1-bddd-4d8b-e9c3-cc523c47b9e7",
        "colab": {
          "base_uri": "https://localhost:8080/",
          "height": 51
        }
      },
      "source": [
        "# ajustemos el imputer\n",
        "\n",
        "imputer.fit(X_train)"
      ],
      "execution_count": 16,
      "outputs": [
        {
          "output_type": "execute_result",
          "data": {
            "text/plain": [
              "ArbitraryNumberImputer(arbitrary_number=-999, imputer_dict=None,\n",
              "                       variables=['LotFrontage', 'MasVnrArea', 'GarageYrBlt'])"
            ]
          },
          "metadata": {
            "tags": []
          },
          "execution_count": 16
        }
      ]
    },
    {
      "cell_type": "code",
      "metadata": {
        "id": "kj8lfMD_m2n_",
        "outputId": "d59dd466-fa38-4d41-8b83-02d51191a4b7",
        "colab": {
          "base_uri": "https://localhost:8080/",
          "height": 34
        }
      },
      "source": [
        "# vemos que el imputer encontró las variables numéricas para sustituir con el valor arbitrario\n",
        "\n",
        "imputer.variables"
      ],
      "execution_count": 17,
      "outputs": [
        {
          "output_type": "execute_result",
          "data": {
            "text/plain": [
              "['LotFrontage', 'MasVnrArea', 'GarageYrBlt']"
            ]
          },
          "metadata": {
            "tags": []
          },
          "execution_count": 17
        }
      ]
    },
    {
      "cell_type": "code",
      "metadata": {
        "scrolled": true,
        "id": "ZwUsHWNlm2oD",
        "outputId": "1a1a4f4c-544f-466f-ce6f-8fb921f14e64",
        "colab": {
          "base_uri": "https://localhost:8080/",
          "height": 34
        }
      },
      "source": [
        "# aquí podemos ver el valor arbitrario guardado\n",
        "imputer.arbitrary_number"
      ],
      "execution_count": 18,
      "outputs": [
        {
          "output_type": "execute_result",
          "data": {
            "text/plain": [
              "-999"
            ]
          },
          "metadata": {
            "tags": []
          },
          "execution_count": 18
        }
      ]
    },
    {
      "cell_type": "code",
      "metadata": {
        "id": "PC9tyUknm2oG",
        "outputId": "5fa4d75d-b44a-4738-eed8-a8839d2b9673",
        "colab": {
          "base_uri": "https://localhost:8080/",
          "height": 204
        }
      },
      "source": [
        "# Feature-engine retorna un dataframe\n",
        "\n",
        "tmp = imputer.transform(X_train)\n",
        "tmp.head()"
      ],
      "execution_count": 19,
      "outputs": [
        {
          "output_type": "execute_result",
          "data": {
            "text/html": [
              "<div>\n",
              "<style scoped>\n",
              "    .dataframe tbody tr th:only-of-type {\n",
              "        vertical-align: middle;\n",
              "    }\n",
              "\n",
              "    .dataframe tbody tr th {\n",
              "        vertical-align: top;\n",
              "    }\n",
              "\n",
              "    .dataframe thead th {\n",
              "        text-align: right;\n",
              "    }\n",
              "</style>\n",
              "<table border=\"1\" class=\"dataframe\">\n",
              "  <thead>\n",
              "    <tr style=\"text-align: right;\">\n",
              "      <th></th>\n",
              "      <th>BsmtQual</th>\n",
              "      <th>FireplaceQu</th>\n",
              "      <th>LotFrontage</th>\n",
              "      <th>MasVnrArea</th>\n",
              "      <th>GarageYrBlt</th>\n",
              "    </tr>\n",
              "  </thead>\n",
              "  <tbody>\n",
              "    <tr>\n",
              "      <th>64</th>\n",
              "      <td>Gd</td>\n",
              "      <td>NaN</td>\n",
              "      <td>-999.0</td>\n",
              "      <td>573.0</td>\n",
              "      <td>1998.0</td>\n",
              "    </tr>\n",
              "    <tr>\n",
              "      <th>682</th>\n",
              "      <td>Gd</td>\n",
              "      <td>Gd</td>\n",
              "      <td>-999.0</td>\n",
              "      <td>0.0</td>\n",
              "      <td>1996.0</td>\n",
              "    </tr>\n",
              "    <tr>\n",
              "      <th>960</th>\n",
              "      <td>TA</td>\n",
              "      <td>NaN</td>\n",
              "      <td>50.0</td>\n",
              "      <td>0.0</td>\n",
              "      <td>-999.0</td>\n",
              "    </tr>\n",
              "    <tr>\n",
              "      <th>1384</th>\n",
              "      <td>TA</td>\n",
              "      <td>NaN</td>\n",
              "      <td>60.0</td>\n",
              "      <td>0.0</td>\n",
              "      <td>1939.0</td>\n",
              "    </tr>\n",
              "    <tr>\n",
              "      <th>1100</th>\n",
              "      <td>TA</td>\n",
              "      <td>NaN</td>\n",
              "      <td>60.0</td>\n",
              "      <td>0.0</td>\n",
              "      <td>1930.0</td>\n",
              "    </tr>\n",
              "  </tbody>\n",
              "</table>\n",
              "</div>"
            ],
            "text/plain": [
              "     BsmtQual FireplaceQu  LotFrontage  MasVnrArea  GarageYrBlt\n",
              "64         Gd         NaN       -999.0       573.0       1998.0\n",
              "682        Gd          Gd       -999.0         0.0       1996.0\n",
              "960        TA         NaN         50.0         0.0       -999.0\n",
              "1384       TA         NaN         60.0         0.0       1939.0\n",
              "1100       TA         NaN         60.0         0.0       1930.0"
            ]
          },
          "metadata": {
            "tags": []
          },
          "execution_count": 19
        }
      ]
    },
    {
      "cell_type": "code",
      "metadata": {
        "id": "3grzgOfppSWt",
        "outputId": "5b725737-bc5c-4914-917b-3fc4067a0a35",
        "colab": {
          "base_uri": "https://localhost:8080/",
          "height": 366
        }
      },
      "source": [
        "data.hist()"
      ],
      "execution_count": 21,
      "outputs": [
        {
          "output_type": "execute_result",
          "data": {
            "text/plain": [
              "array([[<matplotlib.axes._subplots.AxesSubplot object at 0x7f6bfa77ef28>,\n",
              "        <matplotlib.axes._subplots.AxesSubplot object at 0x7f6bfa755f28>],\n",
              "       [<matplotlib.axes._subplots.AxesSubplot object at 0x7f6bfa713198>,\n",
              "        <matplotlib.axes._subplots.AxesSubplot object at 0x7f6bfa6c3400>]],\n",
              "      dtype=object)"
            ]
          },
          "metadata": {
            "tags": []
          },
          "execution_count": 21
        },
        {
          "output_type": "display_data",
          "data": {
            "image/png": "[encoded data removed]",
            "text/plain": [
              "<Figure size 432x288 with 4 Axes>"
            ]
          },
          "metadata": {
            "tags": [],
            "needs_background": "light"
          }
        }
      ]
    },
    {
      "cell_type": "code",
      "metadata": {
        "id": "SGdWjCpopVtZ",
        "outputId": "e3258fac-9498-44cd-dbb2-b8fb1e9bf7ce",
        "colab": {
          "base_uri": "https://localhost:8080/",
          "height": 366
        }
      },
      "source": [
        "#La distribuición cambio después de la imputación\n",
        "X_train.hist()"
      ],
      "execution_count": 23,
      "outputs": [
        {
          "output_type": "execute_result",
          "data": {
            "text/plain": [
              "array([[<matplotlib.axes._subplots.AxesSubplot object at 0x7f6bfa7b8fd0>,\n",
              "        <matplotlib.axes._subplots.AxesSubplot object at 0x7f6bfa0f5978>],\n",
              "       [<matplotlib.axes._subplots.AxesSubplot object at 0x7f6bfa126be0>,\n",
              "        <matplotlib.axes._subplots.AxesSubplot object at 0x7f6bfa0d8e48>]],\n",
              "      dtype=object)"
            ]
          },
          "metadata": {
            "tags": []
          },
          "execution_count": 23
        },
        {
          "output_type": "display_data",
          "data": {
            "image/png": "[encoded data removed]",
            "text/plain": [
              "<Figure size 432x288 with 4 Axes>"
            ]
          },
          "metadata": {
            "tags": [],
            "needs_background": "light"
          }
        }
      ]
    },
    {
      "cell_type": "code",
      "metadata": {
        "id": "YLMf1Q7qm2oJ",
        "outputId": "e27a7a06-2f56-4255-841f-ee863c83fb5f",
        "colab": {
          "base_uri": "https://localhost:8080/",
          "height": 85
        }
      },
      "source": [
        "# revisemos que las variables ya no tienen NA\n",
        "\n",
        "tmp[imputer.variables].isnull().mean()"
      ],
      "execution_count": 24,
      "outputs": [
        {
          "output_type": "execute_result",
          "data": {
            "text/plain": [
              "LotFrontage    0.0\n",
              "MasVnrArea     0.0\n",
              "GarageYrBlt    0.0\n",
              "dtype: float64"
            ]
          },
          "metadata": {
            "tags": []
          },
          "execution_count": 24
        }
      ]
    },
    {
      "cell_type": "markdown",
      "metadata": {
        "id": "F-3HWvCim2oM"
      },
      "source": [
        "## Feature-engine te permite especificar grupos de variables fácilmente\n"
      ]
    },
    {
      "cell_type": "code",
      "metadata": {
        "id": "JIBfViH8m2oN",
        "outputId": "01d9783f-5ea8-4e6d-8ef8-abc971c3e5c4",
        "colab": {
          "base_uri": "https://localhost:8080/",
          "height": 51
        }
      },
      "source": [
        "# usemos la sustitución pero esta vez  \n",
        "# imputemos 2 de la 3 variables numéricas\n",
        "\n",
        "imputer = mdi.ArbitraryNumberImputer(arbitrary_number = -999,\n",
        "                                     variables=['LotFrontage', 'MasVnrArea'])\n",
        "\n",
        "imputer.fit(X_train)"
      ],
      "execution_count": 25,
      "outputs": [
        {
          "output_type": "execute_result",
          "data": {
            "text/plain": [
              "ArbitraryNumberImputer(arbitrary_number=-999, imputer_dict=None,\n",
              "                       variables=['LotFrontage', 'MasVnrArea'])"
            ]
          },
          "metadata": {
            "tags": []
          },
          "execution_count": 25
        }
      ]
    },
    {
      "cell_type": "code",
      "metadata": {
        "id": "r3aGnZGQm2oP",
        "outputId": "d289616c-ffa0-4b66-f2c7-c7bc4f6bae6c",
        "colab": {
          "base_uri": "https://localhost:8080/",
          "height": 34
        }
      },
      "source": [
        "# ahora el imputer solo transforma las variable que le indicamos\n",
        "\n",
        "imputer.variables"
      ],
      "execution_count": 26,
      "outputs": [
        {
          "output_type": "execute_result",
          "data": {
            "text/plain": [
              "['LotFrontage', 'MasVnrArea']"
            ]
          },
          "metadata": {
            "tags": []
          },
          "execution_count": 26
        }
      ]
    },
    {
      "cell_type": "code",
      "metadata": {
        "id": "VGw18UEom2oS",
        "outputId": "d4a9785e-e62b-4ba0-d431-269ac16e55f5",
        "colab": {
          "base_uri": "https://localhost:8080/",
          "height": 34
        }
      },
      "source": [
        "# y podemos ver el valor asignado para cada variable\n",
        "\n",
        "imputer.arbitrary_number"
      ],
      "execution_count": 27,
      "outputs": [
        {
          "output_type": "execute_result",
          "data": {
            "text/plain": [
              "-999"
            ]
          },
          "metadata": {
            "tags": []
          },
          "execution_count": 27
        }
      ]
    },
    {
      "cell_type": "code",
      "metadata": {
        "id": "xxrKl6qUm2oV",
        "outputId": "afc762e1-14db-4c66-c3c1-691773d5b2ee",
        "colab": {
          "base_uri": "https://localhost:8080/",
          "height": 68
        }
      },
      "source": [
        "# Feature-engine devuelve un dataframe\n",
        "\n",
        "tmp = imputer.transform(X_train)\n",
        "\n",
        "# revisemos que las variables ya no tienen NA\n",
        "\n",
        "tmp[imputer.variables].isnull().mean()"
      ],
      "execution_count": 28,
      "outputs": [
        {
          "output_type": "execute_result",
          "data": {
            "text/plain": [
              "LotFrontage    0.0\n",
              "MasVnrArea     0.0\n",
              "dtype: float64"
            ]
          },
          "metadata": {
            "tags": []
          },
          "execution_count": 28
        }
      ]
    },
    {
      "cell_type": "markdown",
      "metadata": {
        "id": "QgoR4WX_m2oY"
      },
      "source": [
        "## Feature-engine puede ser usado con los flujos de Scikit-learn (pipeline)"
      ]
    },
    {
      "cell_type": "code",
      "metadata": {
        "id": "-qH8oHM7m2oY",
        "outputId": "2fae1fa5-ce0c-41ee-b37b-28b5fcb11538",
        "colab": {
          "base_uri": "https://localhost:8080/",
          "height": 366
        }
      },
      "source": [
        "# miremos las distribuciones y determinemos el valor arbitrario a usar\n",
        "\n",
        "X_train.hist()"
      ],
      "execution_count": 29,
      "outputs": [
        {
          "output_type": "execute_result",
          "data": {
            "text/plain": [
              "array([[<matplotlib.axes._subplots.AxesSubplot object at 0x7f6bfa5f17f0>,\n",
              "        <matplotlib.axes._subplots.AxesSubplot object at 0x7f6bfa76ab00>],\n",
              "       [<matplotlib.axes._subplots.AxesSubplot object at 0x7f6bfa101cf8>,\n",
              "        <matplotlib.axes._subplots.AxesSubplot object at 0x7f6bfa5e13c8>]],\n",
              "      dtype=object)"
            ]
          },
          "metadata": {
            "tags": []
          },
          "execution_count": 29
        },
        {
          "output_type": "display_data",
          "data": {
            "image/png": "[encoded data removed]",
            "text/plain": [
              "<Figure size 432x288 with 4 Axes>"
            ]
          },
          "metadata": {
            "tags": [],
            "needs_background": "light"
          }
        }
      ]
    },
    {
      "cell_type": "code",
      "metadata": {
        "id": "iSS2ks5Gm2ob"
      },
      "source": [
        "pipe = Pipeline([\n",
        "    ('imputer_999', mdi.ArbitraryNumberImputer(arbitrary_number = -999,\n",
        "                                             variables = ['LotFrontage', 'MasVnrArea'])),\n",
        "     \n",
        "    ('imputer_minus1', mdi.ArbitraryNumberImputer(arbitrary_number = -1,\n",
        "                                          variables = ['GarageYrBlt'])),\n",
        "     ])"
      ],
      "execution_count": 30,
      "outputs": []
    },
    {
      "cell_type": "code",
      "metadata": {
        "id": "Ezvec-ubm2oe",
        "outputId": "2e3baba9-acac-4340-a591-b0970cef6240",
        "colab": {
          "base_uri": "https://localhost:8080/",
          "height": 187
        }
      },
      "source": [
        "pipe.fit(X_train)"
      ],
      "execution_count": 31,
      "outputs": [
        {
          "output_type": "execute_result",
          "data": {
            "text/plain": [
              "Pipeline(memory=None,\n",
              "         steps=[('imputer_999',\n",
              "                 ArbitraryNumberImputer(arbitrary_number=-999,\n",
              "                                        imputer_dict=None,\n",
              "                                        variables=['LotFrontage',\n",
              "                                                   'MasVnrArea'])),\n",
              "                ('imputer_minus1',\n",
              "                 ArbitraryNumberImputer(arbitrary_number=-1, imputer_dict=None,\n",
              "                                        variables=['GarageYrBlt']))],\n",
              "         verbose=False)"
            ]
          },
          "metadata": {
            "tags": []
          },
          "execution_count": 31
        }
      ]
    },
    {
      "cell_type": "code",
      "metadata": {
        "id": "bQACRB7qm2og",
        "outputId": "0e8af572-4be7-4835-96f2-5cd84108bd2b",
        "colab": {
          "base_uri": "https://localhost:8080/",
          "height": 34
        }
      },
      "source": [
        "pipe.named_steps['imputer_999'].arbitrary_number"
      ],
      "execution_count": 32,
      "outputs": [
        {
          "output_type": "execute_result",
          "data": {
            "text/plain": [
              "-999"
            ]
          },
          "metadata": {
            "tags": []
          },
          "execution_count": 32
        }
      ]
    },
    {
      "cell_type": "code",
      "metadata": {
        "id": "OHVkfdYFm2oj",
        "outputId": "3ba3138b-b38e-4b97-a963-50178afe5eb1",
        "colab": {
          "base_uri": "https://localhost:8080/",
          "height": 34
        }
      },
      "source": [
        "pipe.named_steps['imputer_minus1'].arbitrary_number"
      ],
      "execution_count": 33,
      "outputs": [
        {
          "output_type": "execute_result",
          "data": {
            "text/plain": [
              "-1"
            ]
          },
          "metadata": {
            "tags": []
          },
          "execution_count": 33
        }
      ]
    },
    {
      "cell_type": "code",
      "metadata": {
        "id": "VdKfebAZm2om",
        "outputId": "70827893-ed90-43aa-9d59-759222083dee",
        "colab": {
          "base_uri": "https://localhost:8080/",
          "height": 119
        }
      },
      "source": [
        "# transformemos los datos con la pipeline\n",
        "tmp = pipe.transform(X_train)\n",
        "\n",
        "# revisemos que ya no tenemos valores nulos\n",
        "tmp.isnull().mean()"
      ],
      "execution_count": 34,
      "outputs": [
        {
          "output_type": "execute_result",
          "data": {
            "text/plain": [
              "BsmtQual       0.023483\n",
              "FireplaceQu    0.467710\n",
              "LotFrontage    0.000000\n",
              "MasVnrArea     0.000000\n",
              "GarageYrBlt    0.000000\n",
              "dtype: float64"
            ]
          },
          "metadata": {
            "tags": []
          },
          "execution_count": 34
        }
      ]
    },
    {
      "cell_type": "markdown",
      "metadata": {
        "id": "qGe8zLMom2op"
      },
      "source": [
        "Ya no tenemos valores nulos para ninguna de las 3 variables numéricas que sustituimos"
      ]
    },
    {
      "cell_type": "code",
      "metadata": {
        "id": "SpRtU2dppvoc"
      },
      "source": [
        ""
      ],
      "execution_count": null,
      "outputs": []
    }
  ]
}