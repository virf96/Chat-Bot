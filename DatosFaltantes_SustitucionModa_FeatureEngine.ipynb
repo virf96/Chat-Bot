{
  "nbformat": 4,
  "nbformat_minor": 0,
  "metadata": {
    "kernelspec": {
      "display_name": "fe_test",
      "language": "python",
      "name": "fe_test"
    },
    "language_info": {
      "codemirror_mode": {
        "name": "ipython",
        "version": 3
      },
      "file_extension": ".py",
      "mimetype": "text/x-python",
      "name": "python",
      "nbconvert_exporter": "python",
      "pygments_lexer": "ipython3",
      "version": "3.8.2"
    },
    "toc": {
      "base_numbering": 1,
      "nav_menu": {},
      "number_sections": true,
      "sideBar": true,
      "skip_h1_title": false,
      "title_cell": "Table of Contents",
      "title_sidebar": "Contents",
      "toc_cell": false,
      "toc_position": {},
      "toc_section_display": "block",
      "toc_window_display": true
    },
    "colab": {
      "name": "DatosFaltantes_SustitucionModa_FeatureEngine.ipynb",
      "provenance": [],
      "toc_visible": true,
      "include_colab_link": true
    }
  },
  "cells": [
    {
      "cell_type": "markdown",
      "metadata": {
        "id": "view-in-github",
        "colab_type": "text"
      },
      "source": [
        "<a href=\"https://colab.research.google.com/github/virf96/Chat-Bot/blob/master/DatosFaltantes_SustitucionModa_FeatureEngine.ipynb\" target=\"_parent\"><img src=\"https://colab.research.google.com/assets/colab-badge.svg\" alt=\"Open In Colab\"/></a>"
      ]
    },
    {
      "cell_type": "markdown",
      "metadata": {
        "id": "Qh2gWED3dKvq"
      },
      "source": [
        "## Sustitución categoría más frecuente  ==> Feature-engine\n",
        "\n",
        "\n",
        "### Qué es Feature-engine?\n",
        "\n",
        "Feature-engine es una librería de Python que hemos creado para este curso. \n",
        "\n",
        "- Feature-engine incluye todas las técnicas de ingeniería de variables descritas en este curso\n",
        "- Feature-engine funciona como Scikit-learn, por lo tanto es fácil de aprender\n",
        "- Feature-engine te permite implementar pasos de ingeniería de variables específicos para diferentes grupos de variables\n",
        "- Feature-engine puede ser integrado con las pipelines de Scikit-learn pipeline permitiendo construir modelos fácilmente\n",
        "** Feature-engine te permite diseñar y guardar un flujo de ingeniería de variables con procesos diseñados específicamente para diferentes grupos de variables.**\n",
        "\n",
        "-------------------------------------------------------------------\n",
        "Feature-engine puede ser instalado vía pip ==> pip install feature-engine\n",
        "\n",
        "- Asegurate que haz instalado Feature-engine antes de correr este notebook\n",
        "\n",
        "Para más detalle visita el [website the trainindata]( https://www.trainindata.com/feature-engine) \n",
        "\n",
        "\n",
        "## En este demo:\n",
        "\n",
        "Vamos a usar **Feature Engine para hacer la sustitución por la categoría más frecuente** usando los datos Ames House Price.\n",
        "\n",
        "### Nota: \n",
        "* 'Imputer' se deriva del verbo en inglés 'to impute' que quiere decir sustituir o reemplazar. Imputer es el objeto que completa la sustitución, de ahí el nombre dado a la clase."
      ]
    },
    {
      "cell_type": "code",
      "metadata": {
        "id": "w_a1Trb2fOqN",
        "outputId": "a465091e-2163-4b2b-9a6f-b641f7bf2ae5",
        "colab": {
          "base_uri": "https://localhost:8080/"
        }
      },
      "source": [
        "from google.colab import drive\n",
        "drive.mount('/content/drive')"
      ],
      "execution_count": 1,
      "outputs": [
        {
          "output_type": "stream",
          "text": [
            "Mounted at /content/drive\n"
          ],
          "name": "stdout"
        }
      ]
    },
    {
      "cell_type": "code",
      "metadata": {
        "id": "-DgLBCAhfXAs",
        "outputId": "e3726590-f69b-431d-aedd-a5fbaf45d0d8",
        "colab": {
          "base_uri": "https://localhost:8080/"
        }
      },
      "source": [
        "pip install feature_engine"
      ],
      "execution_count": 3,
      "outputs": [
        {
          "output_type": "stream",
          "text": [
            "Collecting feature_engine\n",
            "  Downloading https://files.pythonhosted.org/packages/14/ed/5680bf401855b788f79cadc1298c210c5860eb5d54c4008cfa234b752ef1/feature_engine-0.6.1-py2.py3-none-any.whl\n",
            "Requirement already satisfied: scikit-learn>=0.22.2 in /usr/local/lib/python3.6/dist-packages (from feature_engine) (0.22.2.post1)\n",
            "Requirement already satisfied: numpy>=1.18.2 in /usr/local/lib/python3.6/dist-packages (from feature_engine) (1.18.5)\n",
            "Collecting statsmodels>=0.11.1\n",
            "\u001b[?25l  Downloading https://files.pythonhosted.org/packages/00/93/1b6882f92d94e491a3e3be101fc83934551eada261281980f3957246432f/statsmodels-0.12.0-cp36-cp36m-manylinux1_x86_64.whl (9.5MB)\n",
            "\u001b[K     |████████████████████████████████| 9.5MB 11.1MB/s \n",
            "\u001b[?25hRequirement already satisfied: pandas>=1.0.3 in /usr/local/lib/python3.6/dist-packages (from feature_engine) (1.1.3)\n",
            "Requirement already satisfied: scipy>=1.4.1 in /usr/local/lib/python3.6/dist-packages (from feature_engine) (1.4.1)\n",
            "Requirement already satisfied: joblib>=0.11 in /usr/local/lib/python3.6/dist-packages (from scikit-learn>=0.22.2->feature_engine) (0.17.0)\n",
            "Requirement already satisfied: patsy>=0.5 in /usr/local/lib/python3.6/dist-packages (from statsmodels>=0.11.1->feature_engine) (0.5.1)\n",
            "Requirement already satisfied: pytz>=2017.2 in /usr/local/lib/python3.6/dist-packages (from pandas>=1.0.3->feature_engine) (2018.9)\n",
            "Requirement already satisfied: python-dateutil>=2.7.3 in /usr/local/lib/python3.6/dist-packages (from pandas>=1.0.3->feature_engine) (2.8.1)\n",
            "Requirement already satisfied: six in /usr/local/lib/python3.6/dist-packages (from patsy>=0.5->statsmodels>=0.11.1->feature_engine) (1.15.0)\n",
            "Installing collected packages: statsmodels, feature-engine\n",
            "  Found existing installation: statsmodels 0.10.2\n",
            "    Uninstalling statsmodels-0.10.2:\n",
            "      Successfully uninstalled statsmodels-0.10.2\n",
            "Successfully installed feature-engine-0.6.1 statsmodels-0.12.0\n"
          ],
          "name": "stdout"
        }
      ]
    },
    {
      "cell_type": "code",
      "metadata": {
        "id": "KKdZl6tkdKvs"
      },
      "source": [
        "import pandas as pd\n",
        "import numpy as np\n",
        "\n",
        "import matplotlib.pyplot as plt\n",
        "\n",
        "from sklearn.model_selection import train_test_split\n",
        "from sklearn.pipeline import Pipeline\n",
        "\n",
        "#  feature engine\n",
        "from feature_engine import missing_data_imputers as mdi"
      ],
      "execution_count": 4,
      "outputs": []
    },
    {
      "cell_type": "code",
      "metadata": {
        "id": "_xRxxkx_dKvw",
        "outputId": "8d49343d-4080-4925-e4c8-789f56aebc87",
        "colab": {
          "base_uri": "https://localhost:8080/",
          "height": 204
        }
      },
      "source": [
        "# carguemos los datos con unas columnas seleccionadas\n",
        "\n",
        "cols_to_use = [\n",
        "    'BsmtQual', 'FireplaceQu', 'LotFrontage', 'MasVnrArea', 'GarageYrBlt',\n",
        "    'SalePrice'\n",
        "]\n",
        "\n",
        "data = pd.read_csv('/content/drive/My Drive/datasets/houseprice.csv', usecols=cols_to_use)\n",
        "data.head()"
      ],
      "execution_count": 5,
      "outputs": [
        {
          "output_type": "execute_result",
          "data": {
            "text/html": [
              "<div>\n",
              "<style scoped>\n",
              "    .dataframe tbody tr th:only-of-type {\n",
              "        vertical-align: middle;\n",
              "    }\n",
              "\n",
              "    .dataframe tbody tr th {\n",
              "        vertical-align: top;\n",
              "    }\n",
              "\n",
              "    .dataframe thead th {\n",
              "        text-align: right;\n",
              "    }\n",
              "</style>\n",
              "<table border=\"1\" class=\"dataframe\">\n",
              "  <thead>\n",
              "    <tr style=\"text-align: right;\">\n",
              "      <th></th>\n",
              "      <th>LotFrontage</th>\n",
              "      <th>MasVnrArea</th>\n",
              "      <th>BsmtQual</th>\n",
              "      <th>FireplaceQu</th>\n",
              "      <th>GarageYrBlt</th>\n",
              "      <th>SalePrice</th>\n",
              "    </tr>\n",
              "  </thead>\n",
              "  <tbody>\n",
              "    <tr>\n",
              "      <th>0</th>\n",
              "      <td>65.0</td>\n",
              "      <td>196.0</td>\n",
              "      <td>Gd</td>\n",
              "      <td>NaN</td>\n",
              "      <td>2003.0</td>\n",
              "      <td>208500</td>\n",
              "    </tr>\n",
              "    <tr>\n",
              "      <th>1</th>\n",
              "      <td>80.0</td>\n",
              "      <td>0.0</td>\n",
              "      <td>Gd</td>\n",
              "      <td>TA</td>\n",
              "      <td>1976.0</td>\n",
              "      <td>181500</td>\n",
              "    </tr>\n",
              "    <tr>\n",
              "      <th>2</th>\n",
              "      <td>68.0</td>\n",
              "      <td>162.0</td>\n",
              "      <td>Gd</td>\n",
              "      <td>TA</td>\n",
              "      <td>2001.0</td>\n",
              "      <td>223500</td>\n",
              "    </tr>\n",
              "    <tr>\n",
              "      <th>3</th>\n",
              "      <td>60.0</td>\n",
              "      <td>0.0</td>\n",
              "      <td>TA</td>\n",
              "      <td>Gd</td>\n",
              "      <td>1998.0</td>\n",
              "      <td>140000</td>\n",
              "    </tr>\n",
              "    <tr>\n",
              "      <th>4</th>\n",
              "      <td>84.0</td>\n",
              "      <td>350.0</td>\n",
              "      <td>Gd</td>\n",
              "      <td>TA</td>\n",
              "      <td>2000.0</td>\n",
              "      <td>250000</td>\n",
              "    </tr>\n",
              "  </tbody>\n",
              "</table>\n",
              "</div>"
            ],
            "text/plain": [
              "   LotFrontage  MasVnrArea BsmtQual FireplaceQu  GarageYrBlt  SalePrice\n",
              "0         65.0       196.0       Gd         NaN       2003.0     208500\n",
              "1         80.0         0.0       Gd          TA       1976.0     181500\n",
              "2         68.0       162.0       Gd          TA       2001.0     223500\n",
              "3         60.0         0.0       TA          Gd       1998.0     140000\n",
              "4         84.0       350.0       Gd          TA       2000.0     250000"
            ]
          },
          "metadata": {
            "tags": []
          },
          "execution_count": 5
        }
      ]
    },
    {
      "cell_type": "code",
      "metadata": {
        "id": "iA5HxrxxdKv0",
        "outputId": "af41f967-ef01-4141-d124-8db5ff0e5f50",
        "colab": {
          "base_uri": "https://localhost:8080/"
        }
      },
      "source": [
        "#Valores faltantes\n",
        "data.isnull().mean().sort_values(ascending=False)"
      ],
      "execution_count": 7,
      "outputs": [
        {
          "output_type": "execute_result",
          "data": {
            "text/plain": [
              "FireplaceQu    0.472603\n",
              "LotFrontage    0.177397\n",
              "GarageYrBlt    0.055479\n",
              "BsmtQual       0.025342\n",
              "MasVnrArea     0.005479\n",
              "SalePrice      0.000000\n",
              "dtype: float64"
            ]
          },
          "metadata": {
            "tags": []
          },
          "execution_count": 7
        }
      ]
    },
    {
      "cell_type": "markdown",
      "metadata": {
        "id": "LP-z9c8bdKv3"
      },
      "source": [
        "Todas las variables predictivas tienen datos ausentes"
      ]
    },
    {
      "cell_type": "code",
      "metadata": {
        "id": "xguXFucMdKv3",
        "outputId": "848623b9-1df0-4a4e-f628-113d3751da50",
        "colab": {
          "base_uri": "https://localhost:8080/"
        }
      },
      "source": [
        "# separar datos en segmentos entrenamiento y prueba\n",
        "\n",
        "# primero, separemos el target (SalePrice) del resto de las variables\n",
        "#Solo trabajaremo con el train set dado que solo debe aprender de este set\n",
        "cols_to_use.remove('SalePrice')\n",
        "\n",
        "X_train, X_test, y_train, y_test = train_test_split(data[cols_to_use],\n",
        "                                                    data['SalePrice'],\n",
        "                                                    test_size=0.3,\n",
        "                                                    random_state=0)\n",
        "X_train.shape, X_test.shape"
      ],
      "execution_count": 8,
      "outputs": [
        {
          "output_type": "execute_result",
          "data": {
            "text/plain": [
              "((1022, 5), (438, 5))"
            ]
          },
          "metadata": {
            "tags": []
          },
          "execution_count": 8
        }
      ]
    },
    {
      "cell_type": "markdown",
      "metadata": {
        "id": "4v7bqgZUdKv6"
      },
      "source": [
        "## Feature-engine captura las variables categóricas automáticamente"
      ]
    },
    {
      "cell_type": "code",
      "metadata": {
        "id": "7wjVb9uqdKv7"
      },
      "source": [
        "# llamemos el imputer de feature engine\n",
        "# no necesitamos especificar nada\n",
        "#Indicamo el método \"frequent\" para que sea por moda\n",
        "imputer = mdi.CategoricalVariableImputer(imputation_method='frequent')"
      ],
      "execution_count": 9,
      "outputs": []
    },
    {
      "cell_type": "code",
      "metadata": {
        "id": "F45VRh3idKv-",
        "outputId": "955245d7-4aac-4ea8-82f5-0fccd2d9ed75",
        "colab": {
          "base_uri": "https://localhost:8080/"
        }
      },
      "source": [
        "# ajustemos el imputer\n",
        "#Solo imputaremos a las variables categoricas de momento\n",
        "imputer.fit(X_train)"
      ],
      "execution_count": 11,
      "outputs": [
        {
          "output_type": "execute_result",
          "data": {
            "text/plain": [
              "CategoricalVariableImputer(fill_value='Missing', imputation_method='frequent',\n",
              "                           return_object=False,\n",
              "                           variables=['BsmtQual', 'FireplaceQu'])"
            ]
          },
          "metadata": {
            "tags": []
          },
          "execution_count": 11
        }
      ]
    },
    {
      "cell_type": "code",
      "metadata": {
        "id": "CKi4kG1XdKwB",
        "outputId": "60bd2f13-fa03-4d23-f3b7-210d2eabe07e",
        "colab": {
          "base_uri": "https://localhost:8080/"
        }
      },
      "source": [
        "# vemos que el imputer encontró las variables categóricas \n",
        "# para sustituir con la categoría más frecuente o moda\n",
        "\n",
        "\n",
        "imputer.variables"
      ],
      "execution_count": 12,
      "outputs": [
        {
          "output_type": "execute_result",
          "data": {
            "text/plain": [
              "['BsmtQual', 'FireplaceQu']"
            ]
          },
          "metadata": {
            "tags": []
          },
          "execution_count": 12
        }
      ]
    },
    {
      "cell_type": "code",
      "metadata": {
        "id": "IC2ztZyhdKwD",
        "outputId": "44fdfaeb-6272-4f12-cb31-aa686eb1bc1d",
        "colab": {
          "base_uri": "https://localhost:8080/"
        }
      },
      "source": [
        "# aquí vemos los valores  que serán usados\n",
        "# para reemplazar los NA en cada variable\n",
        "\n",
        "\n",
        "imputer.imputer_dict_"
      ],
      "execution_count": 14,
      "outputs": [
        {
          "output_type": "execute_result",
          "data": {
            "text/plain": [
              "{'BsmtQual': 'TA', 'FireplaceQu': 'Gd'}"
            ]
          },
          "metadata": {
            "tags": []
          },
          "execution_count": 14
        }
      ]
    },
    {
      "cell_type": "code",
      "metadata": {
        "id": "xiz_-8pldKwG",
        "outputId": "fa41591e-9421-49b0-b640-f5eb298af853",
        "colab": {
          "base_uri": "https://localhost:8080/",
          "height": 80
        }
      },
      "source": [
        "# revisemos las modas sobre el set de entrenamiento\n",
        "\n",
        "X_train[imputer.variables].mode()"
      ],
      "execution_count": 15,
      "outputs": [
        {
          "output_type": "execute_result",
          "data": {
            "text/html": [
              "<div>\n",
              "<style scoped>\n",
              "    .dataframe tbody tr th:only-of-type {\n",
              "        vertical-align: middle;\n",
              "    }\n",
              "\n",
              "    .dataframe tbody tr th {\n",
              "        vertical-align: top;\n",
              "    }\n",
              "\n",
              "    .dataframe thead th {\n",
              "        text-align: right;\n",
              "    }\n",
              "</style>\n",
              "<table border=\"1\" class=\"dataframe\">\n",
              "  <thead>\n",
              "    <tr style=\"text-align: right;\">\n",
              "      <th></th>\n",
              "      <th>BsmtQual</th>\n",
              "      <th>FireplaceQu</th>\n",
              "    </tr>\n",
              "  </thead>\n",
              "  <tbody>\n",
              "    <tr>\n",
              "      <th>0</th>\n",
              "      <td>TA</td>\n",
              "      <td>Gd</td>\n",
              "    </tr>\n",
              "  </tbody>\n",
              "</table>\n",
              "</div>"
            ],
            "text/plain": [
              "  BsmtQual FireplaceQu\n",
              "0       TA          Gd"
            ]
          },
          "metadata": {
            "tags": []
          },
          "execution_count": 15
        }
      ]
    },
    {
      "cell_type": "code",
      "metadata": {
        "id": "011hZMuDdKwI",
        "outputId": "ba1f38b5-0185-4b40-adcf-5dcdc52c4b2c",
        "colab": {
          "base_uri": "https://localhost:8080/",
          "height": 204
        }
      },
      "source": [
        "# feature-engine devuelve un dataframe\n",
        "\n",
        "tmp = imputer.transform(X_train)\n",
        "tmp.head()"
      ],
      "execution_count": 16,
      "outputs": [
        {
          "output_type": "execute_result",
          "data": {
            "text/html": [
              "<div>\n",
              "<style scoped>\n",
              "    .dataframe tbody tr th:only-of-type {\n",
              "        vertical-align: middle;\n",
              "    }\n",
              "\n",
              "    .dataframe tbody tr th {\n",
              "        vertical-align: top;\n",
              "    }\n",
              "\n",
              "    .dataframe thead th {\n",
              "        text-align: right;\n",
              "    }\n",
              "</style>\n",
              "<table border=\"1\" class=\"dataframe\">\n",
              "  <thead>\n",
              "    <tr style=\"text-align: right;\">\n",
              "      <th></th>\n",
              "      <th>BsmtQual</th>\n",
              "      <th>FireplaceQu</th>\n",
              "      <th>LotFrontage</th>\n",
              "      <th>MasVnrArea</th>\n",
              "      <th>GarageYrBlt</th>\n",
              "    </tr>\n",
              "  </thead>\n",
              "  <tbody>\n",
              "    <tr>\n",
              "      <th>64</th>\n",
              "      <td>Gd</td>\n",
              "      <td>Gd</td>\n",
              "      <td>NaN</td>\n",
              "      <td>573.0</td>\n",
              "      <td>1998.0</td>\n",
              "    </tr>\n",
              "    <tr>\n",
              "      <th>682</th>\n",
              "      <td>Gd</td>\n",
              "      <td>Gd</td>\n",
              "      <td>NaN</td>\n",
              "      <td>0.0</td>\n",
              "      <td>1996.0</td>\n",
              "    </tr>\n",
              "    <tr>\n",
              "      <th>960</th>\n",
              "      <td>TA</td>\n",
              "      <td>Gd</td>\n",
              "      <td>50.0</td>\n",
              "      <td>0.0</td>\n",
              "      <td>NaN</td>\n",
              "    </tr>\n",
              "    <tr>\n",
              "      <th>1384</th>\n",
              "      <td>TA</td>\n",
              "      <td>Gd</td>\n",
              "      <td>60.0</td>\n",
              "      <td>0.0</td>\n",
              "      <td>1939.0</td>\n",
              "    </tr>\n",
              "    <tr>\n",
              "      <th>1100</th>\n",
              "      <td>TA</td>\n",
              "      <td>Gd</td>\n",
              "      <td>60.0</td>\n",
              "      <td>0.0</td>\n",
              "      <td>1930.0</td>\n",
              "    </tr>\n",
              "  </tbody>\n",
              "</table>\n",
              "</div>"
            ],
            "text/plain": [
              "     BsmtQual FireplaceQu  LotFrontage  MasVnrArea  GarageYrBlt\n",
              "64         Gd          Gd          NaN       573.0       1998.0\n",
              "682        Gd          Gd          NaN         0.0       1996.0\n",
              "960        TA          Gd         50.0         0.0          NaN\n",
              "1384       TA          Gd         60.0         0.0       1939.0\n",
              "1100       TA          Gd         60.0         0.0       1930.0"
            ]
          },
          "metadata": {
            "tags": []
          },
          "execution_count": 16
        }
      ]
    },
    {
      "cell_type": "code",
      "metadata": {
        "id": "HlqfrRMkdKwL",
        "outputId": "a443b587-4ebb-4fba-eecd-3b466c2f6752",
        "colab": {
          "base_uri": "https://localhost:8080/"
        }
      },
      "source": [
        "# revisemos que los valores nulos ya no existen\n",
        "\n",
        "tmp[imputer.variables].isnull().mean()"
      ],
      "execution_count": 17,
      "outputs": [
        {
          "output_type": "execute_result",
          "data": {
            "text/plain": [
              "BsmtQual       0.0\n",
              "FireplaceQu    0.0\n",
              "dtype: float64"
            ]
          },
          "metadata": {
            "tags": []
          },
          "execution_count": 17
        }
      ]
    },
    {
      "cell_type": "markdown",
      "metadata": {
        "id": "aDPA1vnZdKwO"
      },
      "source": [
        "## Feature-engine te permite especificar grupos de variables fácilmente"
      ]
    },
    {
      "cell_type": "code",
      "metadata": {
        "id": "M5BfJZYpdKwP",
        "outputId": "2aac86da-e628-42f1-b6ef-f2820f7de2aa",
        "colab": {
          "base_uri": "https://localhost:8080/"
        }
      },
      "source": [
        "# usemos la sustitución pero esta vez solo \n",
        "# imputemos una variable\n",
        "\n",
        "imputer = mdi.CategoricalVariableImputer(imputation_method='frequent',\n",
        "                                         variables=['BsmtQual'])\n",
        "\n",
        "imputer.fit(X_train)"
      ],
      "execution_count": 18,
      "outputs": [
        {
          "output_type": "execute_result",
          "data": {
            "text/plain": [
              "CategoricalVariableImputer(fill_value='Missing', imputation_method='frequent',\n",
              "                           return_object=False, variables=['BsmtQual'])"
            ]
          },
          "metadata": {
            "tags": []
          },
          "execution_count": 18
        }
      ]
    },
    {
      "cell_type": "code",
      "metadata": {
        "id": "TCGgyVP0dKwR",
        "outputId": "42b4c15f-d1b8-4c34-d102-ad35882a3bee",
        "colab": {
          "base_uri": "https://localhost:8080/"
        }
      },
      "source": [
        "# ahora el imputer solo tiene la variable indicada\n",
        "\n",
        "imputer.variables"
      ],
      "execution_count": 19,
      "outputs": [
        {
          "output_type": "execute_result",
          "data": {
            "text/plain": [
              "['BsmtQual']"
            ]
          },
          "metadata": {
            "tags": []
          },
          "execution_count": 19
        }
      ]
    },
    {
      "cell_type": "code",
      "metadata": {
        "id": "lkp4zmC4dKwV",
        "outputId": "46fb4375-1e8f-42b4-aef7-8ac48aa80850",
        "colab": {
          "base_uri": "https://localhost:8080/"
        }
      },
      "source": [
        "# y podemos ver el valor asignado para sustituirla\n",
        "\n",
        "imputer.imputer_dict_"
      ],
      "execution_count": 20,
      "outputs": [
        {
          "output_type": "execute_result",
          "data": {
            "text/plain": [
              "{'BsmtQual': 'TA'}"
            ]
          },
          "metadata": {
            "tags": []
          },
          "execution_count": 20
        }
      ]
    },
    {
      "cell_type": "code",
      "metadata": {
        "id": "F0Y9SW97dKwX",
        "outputId": "137b7251-c699-4f16-9956-241c2b4e948c",
        "colab": {
          "base_uri": "https://localhost:8080/"
        }
      },
      "source": [
        "# feature-engine devuelve un dataframe\n",
        "# al imputar la variable:\n",
        "\n",
        "tmp = imputer.transform(X_train)\n",
        "\n",
        "\n",
        "# revisemos que la variable indicada ya no tiene valores nulos\n",
        "tmp[imputer.variables].isnull().mean()"
      ],
      "execution_count": 21,
      "outputs": [
        {
          "output_type": "execute_result",
          "data": {
            "text/plain": [
              "BsmtQual    0.0\n",
              "dtype: float64"
            ]
          },
          "metadata": {
            "tags": []
          },
          "execution_count": 21
        }
      ]
    },
    {
      "cell_type": "markdown",
      "metadata": {
        "id": "MGTjiGkfdKwZ"
      },
      "source": [
        "Funcionó!\n",
        "\n",
        "More details here:\n",
        "https://feature-engine.readthedocs.io/en/latest/imputers/CategoricalVariableImputer.html"
      ]
    }
  ]
}