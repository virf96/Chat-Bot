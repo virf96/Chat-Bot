{
  "nbformat": 4,
  "nbformat_minor": 0,
  "metadata": {
    "kernelspec": {
      "display_name": "feml",
      "language": "python",
      "name": "feml"
    },
    "language_info": {
      "codemirror_mode": {
        "name": "ipython",
        "version": 3
      },
      "file_extension": ".py",
      "mimetype": "text/x-python",
      "name": "python",
      "nbconvert_exporter": "python",
      "pygments_lexer": "ipython3",
      "version": "3.7.3"
    },
    "toc": {
      "nav_menu": {},
      "number_sections": true,
      "sideBar": true,
      "skip_h1_title": false,
      "toc_cell": false,
      "toc_position": {},
      "toc_section_display": "block",
      "toc_window_display": true
    },
    "colab": {
      "name": "DatosFaltantes_SustitucionModa.ipynb",
      "provenance": [],
      "include_colab_link": true
    }
  },
  "cells": [
    {
      "cell_type": "markdown",
      "metadata": {
        "id": "view-in-github",
        "colab_type": "text"
      },
      "source": [
        "<a href=\"https://colab.research.google.com/github/virf96/Chat-Bot/blob/master/DatosFaltantes_SustitucionModa.ipynb\" target=\"_parent\"><img src=\"https://colab.research.google.com/assets/colab-badge.svg\" alt=\"Open In Colab\"/></a>"
      ]
    },
    {
      "cell_type": "markdown",
      "metadata": {
        "id": "t1E_mNrE4rpt"
      },
      "source": [
        "## Sustitución por moda | categoría más frecuente\n",
        "\n",
        "Los métodos de imputación consisten en estimar los valores faltantes en base a los valores existentes de una variable. El objetivo de cualquier método de imputación es producir un **conjunto completo** de datos que pueda ser utilizado por un algoritmo de aprendizaje de máquina (machine learning). \n",
        "\n",
        "En sustitución por la moda, asignamos la categoría más frecuente o la moda, a los valores nulos.\n",
        "\n",
        "### Cuáles variables se pueden sustituir por la moda/categoría más frecuente?\n",
        "\n",
        "A pesar que la moda/categoría más frecuente puede ser calculada para variables numéricas y categóricas, en la práctica, solamente usamos esta técnica en variables categóricas. \n",
        "En variables numéricas, la media o la mediana suelen ser mejores parámetros para representar la distribución.\n",
        "\n",
        "### Condiciones\n",
        "\n",
        "- Los datos faltan completamente al azar (MCAR)\n",
        "- Lo más probable es que las observaciones ausentes tengan valores similares a los de la mayoría de las observaciones en la variable (o sea la moda o categoría más frecuente)\n",
        "\n",
        "### Ventajas\n",
        "\n",
        "- Fácil de implementar\n",
        "- Forma rápida de obtener conjuntos completos de datos\n",
        "- Puede ser integrado en producción (durante el despliegue del modelo)\n",
        "\n",
        "### Limitaciones\n",
        "\n",
        "- Distorsión de la relación entre la etiquete más frecuente con las demás variables dentro del conjunto de datos.\n",
        "- Puede llevar a la sobre-representación de la etiqueta más frecuente si hay muchos valores nulos\n",
        "\n",
        "### Cuándo usar la sustitución por la moda/categoría más frecuente?\n",
        "\n",
        "- Los datos faltan completamente al azar (MCAR)\n",
        "- No más del 5% de las observaciones presentan valores nulos\n",
        "\n",
        "\n",
        "## En este demo:\n",
        "\n",
        "Vamos a aprender cómo implementar la sustitución por la moda usando pandas y los datos Ames House Price \n",
        "\n"
      ]
    },
    {
      "cell_type": "code",
      "metadata": {
        "id": "sbJaHbhY4rpu"
      },
      "source": [
        "import pandas as pd\n",
        "import numpy as np\n",
        "\n",
        "import matplotlib.pyplot as plt\n",
        "\n",
        "from sklearn.model_selection import train_test_split"
      ],
      "execution_count": 2,
      "outputs": []
    },
    {
      "cell_type": "markdown",
      "metadata": {
        "id": "_Llpjnpz4rpx"
      },
      "source": [
        "### House Price dataset"
      ]
    },
    {
      "cell_type": "code",
      "metadata": {
        "id": "Mx3DC-w344r0",
        "outputId": "f416acc0-fc30-4834-8dac-c54a55cd8dc7",
        "colab": {
          "base_uri": "https://localhost:8080/",
          "height": 54
        }
      },
      "source": [
        "from google.colab import drive\n",
        "drive.mount('/content/drive')"
      ],
      "execution_count": 3,
      "outputs": [
        {
          "output_type": "stream",
          "text": [
            "Drive already mounted at /content/drive; to attempt to forcibly remount, call drive.mount(\"/content/drive\", force_remount=True).\n"
          ],
          "name": "stdout"
        }
      ]
    },
    {
      "cell_type": "code",
      "metadata": {
        "id": "izKMpVri4rpy",
        "outputId": "6f3c8b28-d6c7-443d-cbac-688e69afaaf1",
        "colab": {
          "base_uri": "https://localhost:8080/",
          "height": 204
        }
      },
      "source": [
        "# carguemos datos con unas columnas\n",
        "\n",
        "# estas son las columnas categóricas y la variable target SalePrice (precio de venta)\n",
        "cols_to_use = ['BsmtQual', 'FireplaceQu', 'SalePrice']\n",
        "\n",
        "data = pd.read_csv('/content/drive/My Drive/datasets/houseprice.csv', usecols=cols_to_use)\n",
        "data.head()"
      ],
      "execution_count": 4,
      "outputs": [
        {
          "output_type": "execute_result",
          "data": {
            "text/html": [
              "<div>\n",
              "<style scoped>\n",
              "    .dataframe tbody tr th:only-of-type {\n",
              "        vertical-align: middle;\n",
              "    }\n",
              "\n",
              "    .dataframe tbody tr th {\n",
              "        vertical-align: top;\n",
              "    }\n",
              "\n",
              "    .dataframe thead th {\n",
              "        text-align: right;\n",
              "    }\n",
              "</style>\n",
              "<table border=\"1\" class=\"dataframe\">\n",
              "  <thead>\n",
              "    <tr style=\"text-align: right;\">\n",
              "      <th></th>\n",
              "      <th>BsmtQual</th>\n",
              "      <th>FireplaceQu</th>\n",
              "      <th>SalePrice</th>\n",
              "    </tr>\n",
              "  </thead>\n",
              "  <tbody>\n",
              "    <tr>\n",
              "      <th>0</th>\n",
              "      <td>Gd</td>\n",
              "      <td>NaN</td>\n",
              "      <td>208500</td>\n",
              "    </tr>\n",
              "    <tr>\n",
              "      <th>1</th>\n",
              "      <td>Gd</td>\n",
              "      <td>TA</td>\n",
              "      <td>181500</td>\n",
              "    </tr>\n",
              "    <tr>\n",
              "      <th>2</th>\n",
              "      <td>Gd</td>\n",
              "      <td>TA</td>\n",
              "      <td>223500</td>\n",
              "    </tr>\n",
              "    <tr>\n",
              "      <th>3</th>\n",
              "      <td>TA</td>\n",
              "      <td>Gd</td>\n",
              "      <td>140000</td>\n",
              "    </tr>\n",
              "    <tr>\n",
              "      <th>4</th>\n",
              "      <td>Gd</td>\n",
              "      <td>TA</td>\n",
              "      <td>250000</td>\n",
              "    </tr>\n",
              "  </tbody>\n",
              "</table>\n",
              "</div>"
            ],
            "text/plain": [
              "  BsmtQual FireplaceQu  SalePrice\n",
              "0       Gd         NaN     208500\n",
              "1       Gd          TA     181500\n",
              "2       Gd          TA     223500\n",
              "3       TA          Gd     140000\n",
              "4       Gd          TA     250000"
            ]
          },
          "metadata": {
            "tags": []
          },
          "execution_count": 4
        }
      ]
    },
    {
      "cell_type": "code",
      "metadata": {
        "id": "tlTxCry44rp1",
        "outputId": "8a699362-5fbc-41f9-99da-83ac3da83303",
        "colab": {
          "base_uri": "https://localhost:8080/",
          "height": 85
        }
      },
      "source": [
        "# evaluemos el porcentaje de valores nulos por cada una de las variables\n",
        "#Notamos 2.5% de missing values en \"BsmtQual\"\n",
        "#Notamos 47% de missing values en \"FireplaceQu\"\n",
        "data.isnull().mean()"
      ],
      "execution_count": 5,
      "outputs": [
        {
          "output_type": "execute_result",
          "data": {
            "text/plain": [
              "BsmtQual       0.025342\n",
              "FireplaceQu    0.472603\n",
              "SalePrice      0.000000\n",
              "dtype: float64"
            ]
          },
          "metadata": {
            "tags": []
          },
          "execution_count": 5
        }
      ]
    },
    {
      "cell_type": "markdown",
      "metadata": {
        "id": "zS5B4h8Z4rp3"
      },
      "source": [
        "La variable BsmtQual contiene solo unas pocas observaciones con valores nulos (2.5%), por lo tanto, reemplazar estas observaciones con el valor de la categoría más frecuente es una buena idea.\n",
        "\n",
        "Por otra parte, la variable FireplaceQu, tiene valores ausentes en casi la mitad de las observaciones. Por lo tanto, si los reemplazamos con la categoría más frecuente, lo más probable es que distorsionemos la relación entre la categoría más frecuente con la variable target SalePrice (precio de venta). \n",
        "\n",
        "Adicionalmente, si muchas observaciones están ausentes en FireplaceQu, puede que exista una razón de  por la que estén faltando, por lo tanto, el método de sustitución que explicamos en el siguiente notebooks, seria mas apropiado.\n"
      ]
    },
    {
      "cell_type": "markdown",
      "metadata": {
        "id": "vSYMmP0P4rp3"
      },
      "source": [
        "### Para tener en cuenta\n",
        "\n",
        "Los parámetros para la sustitución o imputación se deben aprender sobre el set de datos de entrenamiento, usado para entrenar el modelo. Luego estos mismos parámetros se utilizan para imputar valores nulos en el set de prueba. Y esto es para evitar sobre-ajustes. En este caso, la categoría más frecuente, debe calcularse sobre el set de entrenamiento\n"
      ]
    },
    {
      "cell_type": "code",
      "metadata": {
        "id": "3ow0Uldo4rp4",
        "outputId": "e55cfd12-5985-4805-b9e9-1b09ccb69b09",
        "colab": {
          "base_uri": "https://localhost:8080/",
          "height": 34
        }
      },
      "source": [
        "# separar datos en segmentos entrenamiento y prueba\n",
        "\n",
        "X_train, X_test, y_train, y_test = train_test_split(\n",
        "    data,\n",
        "    data['SalePrice'], # target\n",
        "    test_size=0.3, # porcentaje de obs en test set\n",
        "    random_state=0) # semilla para reproducibilidad\n",
        "\n",
        "X_train.shape, X_test.shape"
      ],
      "execution_count": 27,
      "outputs": [
        {
          "output_type": "execute_result",
          "data": {
            "text/plain": [
              "((1022, 3), (438, 3))"
            ]
          },
          "metadata": {
            "tags": []
          },
          "execution_count": 27
        }
      ]
    },
    {
      "cell_type": "markdown",
      "metadata": {
        "id": "fSYDnOv54rp6"
      },
      "source": [
        "#### BsmtQual"
      ]
    },
    {
      "cell_type": "code",
      "metadata": {
        "id": "LrSanZ6I4rp6",
        "outputId": "250ef3d3-54bb-42db-dfb3-7430c8e4ecde",
        "colab": {
          "base_uri": "https://localhost:8080/",
          "height": 34
        }
      },
      "source": [
        "# % de valores ausentes\n",
        "#El porcentaje de valores nulos ha bajado dado que solo tenemos el 70% de la base original en el train set\n",
        "X_train['BsmtQual'].isnull().mean()"
      ],
      "execution_count": 28,
      "outputs": [
        {
          "output_type": "execute_result",
          "data": {
            "text/plain": [
              "0.023483365949119372"
            ]
          },
          "metadata": {
            "tags": []
          },
          "execution_count": 28
        }
      ]
    },
    {
      "cell_type": "code",
      "metadata": {
        "id": "L3agK1zc4rp9",
        "outputId": "a6c07ea9-4e95-48c4-eba0-8a931a35d9cd",
        "colab": {
          "base_uri": "https://localhost:8080/",
          "height": 300
        }
      },
      "source": [
        "# exploremos el número de observaciones por categoría en \"BsmtQual\"\n",
        "\n",
        "# usamos esta línea de código en la sección 3 “características de las variables”\n",
        "\n",
        "# value_counts() retorna el número de observaciones por categoría de la variable\n",
        "\n",
        "X_train['BsmtQual'].value_counts().sort_values(ascending=False).plot.bar()\n",
        "plt.xlabel('BsmtQual')\n",
        "plt.ylabel('Number of houses')"
      ],
      "execution_count": 29,
      "outputs": [
        {
          "output_type": "execute_result",
          "data": {
            "text/plain": [
              "Text(0, 0.5, 'Number of houses')"
            ]
          },
          "metadata": {
            "tags": []
          },
          "execution_count": 29
        },
        {
          "output_type": "display_data",
          "data": {
            "image/png": "[encoded data removed]",
            "text/plain": [
              "<Figure size 432x288 with 1 Axes>"
            ]
          },
          "metadata": {
            "tags": [],
            "needs_background": "light"
          }
        }
      ]
    },
    {
      "cell_type": "code",
      "metadata": {
        "id": "lpWtZX2U4rp_",
        "outputId": "a7d1dda6-5035-405e-916f-d174283da283",
        "colab": {
          "base_uri": "https://localhost:8080/",
          "height": 51
        }
      },
      "source": [
        "# categoría más frecuente para BsmtQual\n",
        "\n",
        "X_train['BsmtQual'].mode()"
      ],
      "execution_count": 30,
      "outputs": [
        {
          "output_type": "execute_result",
          "data": {
            "text/plain": [
              "0    TA\n",
              "dtype: object"
            ]
          },
          "metadata": {
            "tags": []
          },
          "execution_count": 30
        }
      ]
    },
    {
      "cell_type": "code",
      "metadata": {
        "id": "l5zP_Scv4rqC",
        "outputId": "1a85e1c7-8467-40b4-aeda-ce81dc2bd2ff",
        "colab": {
          "base_uri": "https://localhost:8080/",
          "height": 298
        }
      },
      "source": [
        "# grafiquemos las distribuciones de la variable target para las casas que: \n",
        "\n",
        "# tienen la categoría más frecuente o\n",
        "# para aquellas que tienen datos ausentes\n",
        "\n",
        "fig = plt.figure()\n",
        "ax = fig.add_subplot(111)\n",
        "\n",
        "# selección y gráfica de las casas con la etiqueta más frecuente\n",
        "X_train[X_train['BsmtQual']=='TA']['SalePrice'].plot(kind='kde', ax=ax)\n",
        "\n",
        "# selección y gráfica de las casas con valores ausentes\n",
        "X_train[X_train['BsmtQual'].isnull()]['SalePrice'].plot(kind='kde', ax=ax, color='red')\n",
        "\n",
        "# etiquetas\n",
        "lines, labels = ax.get_legend_handles_labels()\n",
        "labels = ['Houses with TA', 'Houses with NA']\n",
        "ax.legend(lines, labels, loc='best')\n",
        "\n",
        "# título\n",
        "plt.title('BsmtQual')"
      ],
      "execution_count": 31,
      "outputs": [
        {
          "output_type": "execute_result",
          "data": {
            "text/plain": [
              "Text(0.5, 1.0, 'BsmtQual')"
            ]
          },
          "metadata": {
            "tags": []
          },
          "execution_count": 31
        },
        {
          "output_type": "display_data",
          "data": {
            "image/png": "[encoded data removed]",
            "text/plain": [
              "<Figure size 432x288 with 1 Axes>"
            ]
          },
          "metadata": {
            "tags": [],
            "needs_background": "light"
          }
        }
      ]
    },
    {
      "cell_type": "markdown",
      "metadata": {
        "id": "mNlcDR4Q4rqE"
      },
      "source": [
        "La gráfica anterior indica que las casas con datos ausentes cuestan en promedio mucho menos que aquellas con la etiqueta TA. Por lo tanto, si reemplazamos los valores ausentes con TA, podríamos afectar la distribución general, si hay una proporción grande de observaciones con valores nulos."
      ]
    },
    {
      "cell_type": "code",
      "metadata": {
        "id": "m6fhUlPo4rqE"
      },
      "source": [
        "# guardemos la distribución original de SalePrice para la\n",
        "# categoría más frecuente ( la usaremos más adelante)\n",
        "\n",
        "# el uso de 'tmp' como nombre de las variables temporales\n",
        "# es una práctica bastante común\n",
        "\n",
        "tmp = X_train[X_train['BsmtQual']=='TA']['SalePrice']"
      ],
      "execution_count": 32,
      "outputs": []
    },
    {
      "cell_type": "code",
      "metadata": {
        "id": "8LD_0i-n4rqG",
        "outputId": "0782e99d-8e5a-4a45-eb6f-1ec3f2b0b8a5",
        "colab": {
          "base_uri": "https://localhost:8080/",
          "height": 122
        }
      },
      "source": [
        "# reemplacemos NA en los sets de prueba y entrenamiento\n",
        "\n",
        "# usemos el método fillna() de pandas\n",
        "\n",
        "# con el argumento inplace=True, indicándole a pandas\n",
        "# que queremos reemplazar los valores en los datos\n",
        "\n",
        "X_train['BsmtQual'].fillna('TA', inplace=True)\n",
        "X_test['BsmtQual'].fillna('TA', inplace=True)"
      ],
      "execution_count": 33,
      "outputs": [
        {
          "output_type": "stream",
          "text": [
            "/usr/local/lib/python3.6/dist-packages/pandas/core/series.py:4523: SettingWithCopyWarning: \n",
            "A value is trying to be set on a copy of a slice from a DataFrame\n",
            "\n",
            "See the caveats in the documentation: https://pandas.pydata.org/pandas-docs/stable/user_guide/indexing.html#returning-a-view-versus-a-copy\n",
            "  downcast=downcast,\n"
          ],
          "name": "stderr"
        }
      ]
    },
    {
      "cell_type": "code",
      "metadata": {
        "id": "e772Aefm4rqI",
        "outputId": "04c65151-46f4-4cbf-df58-6fbe8bf97976",
        "colab": {
          "base_uri": "https://localhost:8080/",
          "height": 34
        }
      },
      "source": [
        "# revisemos que los NA se han reemplazado \n",
        "\n",
        "X_train['BsmtQual'].isnull().sum()"
      ],
      "execution_count": 34,
      "outputs": [
        {
          "output_type": "execute_result",
          "data": {
            "text/plain": [
              "0"
            ]
          },
          "metadata": {
            "tags": []
          },
          "execution_count": 34
        }
      ]
    },
    {
      "cell_type": "code",
      "metadata": {
        "id": "xx-7ioma4rqK",
        "outputId": "d22592bf-6cb2-4873-d760-6dbec80d0618",
        "colab": {
          "base_uri": "https://localhost:8080/",
          "height": 300
        }
      },
      "source": [
        "# evaluemos el efecto de este cambio en la distribución de las variables\n",
        "\n",
        "X_train['BsmtQual'].value_counts().sort_values(ascending=False).plot.bar()\n",
        "plt.xlabel('BsmtQual')\n",
        "plt.ylabel('Número de casas')"
      ],
      "execution_count": 35,
      "outputs": [
        {
          "output_type": "execute_result",
          "data": {
            "text/plain": [
              "Text(0, 0.5, 'Número de casas')"
            ]
          },
          "metadata": {
            "tags": []
          },
          "execution_count": 35
        },
        {
          "output_type": "display_data",
          "data": {
            "image/png": "[encoded data removed]",
            "text/plain": [
              "<Figure size 432x288 with 1 Axes>"
            ]
          },
          "metadata": {
            "tags": [],
            "needs_background": "light"
          }
        }
      ]
    },
    {
      "cell_type": "markdown",
      "metadata": {
        "id": "ojMjzh3B4rqN"
      },
      "source": [
        "De la gráfica anterior, podemos ver que ahora hay más casas con la etiqueta TA, que son las que antes tenían un valor nulo o NA. Sin embargo, también se puede observar que el cambio no es dramático; la gráfica se ve casi igual que antes de la sustitución."
      ]
    },
    {
      "cell_type": "code",
      "metadata": {
        "id": "O-HjYIBb4rqN",
        "outputId": "e7f89f51-7d94-458a-d93d-df20c03ea2cf",
        "colab": {
          "base_uri": "https://localhost:8080/",
          "height": 298
        }
      },
      "source": [
        "# grafiquemos la distribución del target (SalePrice - precio de venta)\n",
        "\n",
        "# ha cambiado para la categoría más frecuente?\n",
        "# veamos\n",
        "fig = plt.figure()\n",
        "ax = fig.add_subplot(111)\n",
        "\n",
        "# distribución original del SalePrice para casas con la categoría más frecuente\n",
        "# recuerda que la guardamos unas celdas atrás en el notebook\n",
        "tmp.plot(kind='kde', ax=ax)\n",
        "\n",
        "# distribución de la variable después de la sustitución\n",
        "X_train[X_train['BsmtQual'] == 'TA']['SalePrice'].plot(\n",
        "    kind='kde', ax=ax, color='red')\n",
        "\n",
        "# leyenda\n",
        "lines, labels = ax.get_legend_handles_labels()\n",
        "labels = ['Original variable', 'Imputed variable']\n",
        "ax.legend(lines, labels, loc='best')\n",
        "\n",
        "# título\n",
        "plt.title('BsmtQual')"
      ],
      "execution_count": 36,
      "outputs": [
        {
          "output_type": "execute_result",
          "data": {
            "text/plain": [
              "Text(0.5, 1.0, 'BsmtQual')"
            ]
          },
          "metadata": {
            "tags": []
          },
          "execution_count": 36
        },
        {
          "output_type": "display_data",
          "data": {
            "image/png": "[encoded data removed]",
            "text/plain": [
              "<Figure size 432x288 with 1 Axes>"
            ]
          },
          "metadata": {
            "tags": [],
            "needs_background": "light"
          }
        }
      ]
    },
    {
      "cell_type": "code",
      "metadata": {
        "id": "f_crQ0yhbeBv",
        "outputId": "8187076b-91f1-454c-a2e6-772f56572098",
        "colab": {
          "base_uri": "https://localhost:8080/",
          "height": 51
        }
      },
      "source": [
        "print('promedio de precios de la distribución original',tmp.mean())\n",
        "print('promedio de precios de la distribución sustituida',X_train[X_train['BsmtQual'] == 'TA']['SalePrice'].mean())"
      ],
      "execution_count": 37,
      "outputs": [
        {
          "output_type": "stream",
          "text": [
            "promedio de precios de la distribución original 141808.65010799136\n",
            "promedio de precios de la distribución sustituida 139915.3162217659\n"
          ],
          "name": "stdout"
        }
      ]
    },
    {
      "cell_type": "markdown",
      "metadata": {
        "id": "lKyA13XH4rqP"
      },
      "source": [
        "La distribución de los precios de las casas entre la variable original y sustituida son muy similares, porque el número de datos ausentes era pequeño. Esto era de esperarse.\n",
        "\n",
        "Exploremos el efecto de la sustitución por la moda cuando el porcentaje de datos ausentes es alto.\n",
        "\n",
        "#### FirePlaceQu"
      ]
    },
    {
      "cell_type": "code",
      "metadata": {
        "id": "Hfdi0gMb4rqP",
        "outputId": "6395ed82-4f74-4db5-d1f6-a5f3344f504d",
        "colab": {
          "base_uri": "https://localhost:8080/",
          "height": 34
        }
      },
      "source": [
        "# recordemos el % de datos ausentes\n",
        "X_train['FireplaceQu'].isnull().mean()"
      ],
      "execution_count": 17,
      "outputs": [
        {
          "output_type": "execute_result",
          "data": {
            "text/plain": [
              "0.46771037181996084"
            ]
          },
          "metadata": {
            "tags": []
          },
          "execution_count": 17
        }
      ]
    },
    {
      "cell_type": "code",
      "metadata": {
        "id": "UPecXiK_4rqS",
        "outputId": "d5d44e06-7bc5-48a9-dd9c-67266205e67b",
        "colab": {
          "base_uri": "https://localhost:8080/",
          "height": 300
        }
      },
      "source": [
        "# exploremos el número de observaciones por categoría\n",
        "\n",
        "X_train['FireplaceQu'].value_counts().sort_values(ascending=False).plot.bar()\n",
        "plt.xlabel('FireplaceQu')\n",
        "plt.ylabel('Número de casas')"
      ],
      "execution_count": 18,
      "outputs": [
        {
          "output_type": "execute_result",
          "data": {
            "text/plain": [
              "Text(0, 0.5, 'Número de casas')"
            ]
          },
          "metadata": {
            "tags": []
          },
          "execution_count": 18
        },
        {
          "output_type": "display_data",
          "data": {
            "image/png": "[encoded data removed]",
            "text/plain": [
              "<Figure size 432x288 with 1 Axes>"
            ]
          },
          "metadata": {
            "tags": [],
            "needs_background": "light"
          }
        }
      ]
    },
    {
      "cell_type": "code",
      "metadata": {
        "id": "GCqwebkx4rqU",
        "outputId": "3550ff56-7773-4607-d3b7-a32501f8838a",
        "colab": {
          "base_uri": "https://localhost:8080/",
          "height": 51
        }
      },
      "source": [
        "# encontremos la categoría mas frecuente en la variable FirePlaceQu\n",
        "\n",
        "X_train['FireplaceQu'].mode()"
      ],
      "execution_count": 19,
      "outputs": [
        {
          "output_type": "execute_result",
          "data": {
            "text/plain": [
              "0    Gd\n",
              "dtype: object"
            ]
          },
          "metadata": {
            "tags": []
          },
          "execution_count": 19
        }
      ]
    },
    {
      "cell_type": "code",
      "metadata": {
        "id": "E5ceoC5M4rqW",
        "outputId": "852c205b-5a0b-4b85-cdbc-66c334d78e19",
        "colab": {
          "base_uri": "https://localhost:8080/",
          "height": 298
        }
      },
      "source": [
        "# grafiquemos la distribución del target (SalePrice - precio de venta)\n",
        "# para las casas que tienen la categoría más frecuente y aquellas que \n",
        "# tienen datos ausentes\n",
        "\n",
        "\n",
        "fig = plt.figure()\n",
        "ax = fig.add_subplot(111)\n",
        "\n",
        "# casas con la categoría más frecuente para FirePlaceQu\n",
        "X_train[X_train['FireplaceQu']=='Gd']['SalePrice'].plot(kind='kde', ax=ax)\n",
        "\n",
        "# casas con datos ausentes en FirePlaceQu\n",
        "X_train[X_train['FireplaceQu'].isnull()]['SalePrice'].plot(kind='kde', ax=ax, color='red')\n",
        "\n",
        "# leyenda\n",
        "lines, labels = ax.get_legend_handles_labels()\n",
        "labels = ['Casas con Gd', 'Casas con NA']\n",
        "ax.legend(lines, labels, loc='best')\n",
        "\n",
        "plt.title('FirePlaceQu')"
      ],
      "execution_count": 20,
      "outputs": [
        {
          "output_type": "execute_result",
          "data": {
            "text/plain": [
              "Text(0.5, 1.0, 'FirePlaceQu')"
            ]
          },
          "metadata": {
            "tags": []
          },
          "execution_count": 20
        },
        {
          "output_type": "display_data",
          "data": {
            "image/png": "[encoded data removed]",
            "text/plain": [
              "<Figure size 432x288 with 1 Axes>"
            ]
          },
          "metadata": {
            "tags": [],
            "needs_background": "light"
          }
        }
      ]
    },
    {
      "cell_type": "markdown",
      "metadata": {
        "id": "eO_b3x204rqY"
      },
      "source": [
        "Las distribuciones son diferentes; las casas con datos ausentes cuestan menos en general que las casas con la etiquete Gd."
      ]
    },
    {
      "cell_type": "code",
      "metadata": {
        "id": "aNFPzGl44rqZ"
      },
      "source": [
        "# Guardemos la distribuciones originales de SalePrice para\n",
        "# las casas que tienen la etiquete Gd en FirePlaceQu.\n",
        "\n",
        "tmp = X_train[X_train['FireplaceQu']=='Gd']['SalePrice']"
      ],
      "execution_count": 21,
      "outputs": []
    },
    {
      "cell_type": "code",
      "metadata": {
        "id": "eHbkw3ff4rqb",
        "outputId": "f0f02ba7-01d2-4e1f-8efa-ba65fdf7cced",
        "colab": {
          "base_uri": "https://localhost:8080/",
          "height": 122
        }
      },
      "source": [
        "# Reemplacemos los valores nulos NA con la etiqueta Gd en los sets de entrenamiento y prueba\n",
        "\n",
        "X_train['FireplaceQu'].fillna('Gd', inplace=True)\n",
        "X_test['FireplaceQu'].fillna('Gd', inplace=True)"
      ],
      "execution_count": 22,
      "outputs": [
        {
          "output_type": "stream",
          "text": [
            "/usr/local/lib/python3.6/dist-packages/pandas/core/series.py:4523: SettingWithCopyWarning: \n",
            "A value is trying to be set on a copy of a slice from a DataFrame\n",
            "\n",
            "See the caveats in the documentation: https://pandas.pydata.org/pandas-docs/stable/user_guide/indexing.html#returning-a-view-versus-a-copy\n",
            "  downcast=downcast,\n"
          ],
          "name": "stderr"
        }
      ]
    },
    {
      "cell_type": "code",
      "metadata": {
        "id": "9cndmOOt4rqd",
        "outputId": "250bf8ec-7ef0-426e-e3a8-3b8b1b822642",
        "colab": {
          "base_uri": "https://localhost:8080/",
          "height": 300
        }
      },
      "source": [
        "# exploremos el número de observaciones por categoría\n",
        "\n",
        "X_train['FireplaceQu'].value_counts().sort_values(ascending=False).plot.bar()\n",
        "plt.xlabel('FireplaceQu')\n",
        "plt.ylabel('Número de casas')"
      ],
      "execution_count": 23,
      "outputs": [
        {
          "output_type": "execute_result",
          "data": {
            "text/plain": [
              "Text(0, 0.5, 'Número de casas')"
            ]
          },
          "metadata": {
            "tags": []
          },
          "execution_count": 23
        },
        {
          "output_type": "display_data",
          "data": {
            "image/png": "[encoded data removed]",
            "text/plain": [
              "<Figure size 432x288 with 1 Axes>"
            ]
          },
          "metadata": {
            "tags": [],
            "needs_background": "light"
          }
        }
      ]
    },
    {
      "cell_type": "markdown",
      "metadata": {
        "id": "x2n2So4h4rqf"
      },
      "source": [
        "En este caso vemos que hay una gran distorsión en la distribución original de la variable. Ahora hay muchas casas que tienen la etiqueta Gd, con respecto a las casas que tienen las otras categorías. Originalmente, la mitad de las observaciones en FirePlaceQu estaban ausentes. Ahora, todos los valores contienen Gd. Por eso es que vemos un gran incremento en Gd en la gráfica de barras."
      ]
    },
    {
      "cell_type": "code",
      "metadata": {
        "id": "2Wx0SxKi4rqg",
        "outputId": "44ddf950-b97c-4eb5-f067-1e5b9044e678",
        "colab": {
          "base_uri": "https://localhost:8080/",
          "height": 298
        }
      },
      "source": [
        "# grafiquemos las distribuciones del target para la variable original y\n",
        "# la variable después de la sustitución\n",
        "\n",
        "fig = plt.figure()\n",
        "ax = fig.add_subplot(111)\n",
        "\n",
        "# distribución original de la variable\n",
        "# recuerda que la guardamos unas celdas atrás en el notebook\n",
        "\n",
        "tmp.plot(kind='kde', ax=ax)\n",
        "\n",
        "# distribución de la variable luego de la sustitución\n",
        "X_train[X_train['FireplaceQu'] == 'Gd']['SalePrice'].plot(\n",
        "    kind='kde', ax=ax, color='red')\n",
        "\n",
        "# leyenda\n",
        "lines, labels = ax.get_legend_handles_labels()\n",
        "labels = ['Variable original', 'Variable sustituida']\n",
        "ax.legend(lines, labels, loc='best')\n",
        "\n",
        "plt.title('FirePlaceQu')"
      ],
      "execution_count": 24,
      "outputs": [
        {
          "output_type": "execute_result",
          "data": {
            "text/plain": [
              "Text(0.5, 1.0, 'FirePlaceQu')"
            ]
          },
          "metadata": {
            "tags": []
          },
          "execution_count": 24
        },
        {
          "output_type": "display_data",
          "data": {
            "image/png": "[encoded data removed]",
            "text/plain": [
              "<Figure size 432x288 with 1 Axes>"
            ]
          },
          "metadata": {
            "tags": [],
            "needs_background": "light"
          }
        }
      ]
    },
    {
      "cell_type": "code",
      "metadata": {
        "id": "nbnl3SAJa89O",
        "outputId": "eafbb584-40f9-4f58-c5eb-e79ef88fa645",
        "colab": {
          "base_uri": "https://localhost:8080/",
          "height": 51
        }
      },
      "source": [
        "print('promedio de precios de la distribución original',tmp.mean())\n",
        "print('promedio de precios de la distribución sustituida',X_train[X_train['FireplaceQu'] == 'Gd']['SalePrice'].mean())"
      ],
      "execution_count": 26,
      "outputs": [
        {
          "output_type": "stream",
          "text": [
            "promedio de precios de la distribución original 223413.58039215687\n",
            "promedio de precios de la distribución sustituida 169501.47476125511\n"
          ],
          "name": "stdout"
        }
      ]
    },
    {
      "cell_type": "markdown",
      "metadata": {
        "id": "FBONOp_84rqh"
      },
      "source": [
        "El promedio del valor de las casas para la categoría más frecuente ha decrecido dramáticamente luego de añadir las casas con valores nulos NA, siguiendo la re-categorización de NA con la categoría más frecuente.\n",
        "\n",
        "Entonces, la importancia de esta etiqueta en particular para la predicción de los precios de las casas, es encubierta o cambiada por la adición de los valores ausentes.\n",
        "\n",
        "En casos como este, cuando el porcentaje de valores ausentes es alto (~50%), es mejor crear una nueva categoría para las observaciones con NA."
      ]
    },
    {
      "cell_type": "code",
      "metadata": {
        "id": "Cel4BoOCavLg"
      },
      "source": [
        ""
      ],
      "execution_count": null,
      "outputs": []
    }
  ]
}