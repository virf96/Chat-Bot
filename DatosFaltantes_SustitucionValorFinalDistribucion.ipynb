{
  "nbformat": 4,
  "nbformat_minor": 0,
  "metadata": {
    "kernelspec": {
      "display_name": "feml",
      "language": "python",
      "name": "feml"
    },
    "language_info": {
      "codemirror_mode": {
        "name": "ipython",
        "version": 3
      },
      "file_extension": ".py",
      "mimetype": "text/x-python",
      "name": "python",
      "nbconvert_exporter": "python",
      "pygments_lexer": "ipython3",
      "version": "3.7.3"
    },
    "toc": {
      "nav_menu": {},
      "number_sections": true,
      "sideBar": true,
      "skip_h1_title": false,
      "toc_cell": false,
      "toc_position": {
        "height": "881.867px",
        "left": "0px",
        "right": "1728px",
        "top": "111.133px",
        "width": "212px"
      },
      "toc_section_display": "block",
      "toc_window_display": true
    },
    "colab": {
      "name": "DatosFaltantes_SustitucionValorFinalDistribucion.ipynb",
      "provenance": [],
      "include_colab_link": true
    }
  },
  "cells": [
    {
      "cell_type": "markdown",
      "metadata": {
        "id": "view-in-github",
        "colab_type": "text"
      },
      "source": [
        "<a href=\"https://colab.research.google.com/github/virf96/Chat-Bot/blob/master/DatosFaltantes_SustitucionValorFinalDistribucion.ipynb\" target=\"_parent\"><img src=\"https://colab.research.google.com/assets/colab-badge.svg\" alt=\"Open In Colab\"/></a>"
      ]
    },
    {
      "cell_type": "markdown",
      "metadata": {
        "id": "A4u_DdNQF8ND"
      },
      "source": [
        "\n",
        "## Sustitución por valores al final de la distribución \n",
        "\n",
        "En la sección anterior, sustituimos valores ausentes por valores constantes arbitrarios. Sin embargo, determinar el valor arbitrario es un proceso laborioso y manual. Este proceso se puede automatizar seleccionando un valor al final de la distribución.\n",
        "\n",
        "### Cómo se seleccionan los valores al final de la distribución?\n",
        "\n",
        "- Si la variable está normalmente distribuida, podemos usar el promedio más o menos 3 veces la desviación estándar.\n",
        "- Si la variable está sesgada, podemos usar la regla de proximidad entre-cuantil, IQR\n",
        "\n",
        "Estas técnicas las aprendimos en la sección 3, en la clase de \"Outliers\" o Valores Extremos\n",
        "\n",
        "- Podemos también seleccionar el valor mínimo o máximo y multiplicarlo por factor, como 2 o 3.\n",
        "\n",
        "### Cuáles variables podemos sustituir con valores arbitrarios?\n",
        "\n",
        "Este método es apropiado para variables numéricas.\n",
        "\n",
        "\n",
        "### Condiciones\n",
        "\n",
        "- Los datos no faltan de forma aleatoria\n",
        "\n",
        "Si este es el caso, queremos comunicar que estos valores nulos son diferentes al resto de la población y por lo tanto los reemplazamos con un valor arbitrario y no con la media/mediana que representan los valores más comunes.\n",
        "\n",
        "\n",
        "### Ventajas\n",
        "\n",
        "- Fácil de implementar\n",
        "- Forma rápida de obtener conjuntos completos de datos\n",
        "- Puede ser integrado en producción (durante el despliegue del modelo)\n",
        "- Captura la importancia de la 'ausencia' (si existe)\n",
        "\n",
        "### Limitaciones\n",
        "\n",
        "- Distorsión de la distribución original de la variable\n",
        "- Distorsión de la varianza original\n",
        "- Distorsión de la covarianza con las otras variables en los datos.\n",
        "- Esta técnica puede encubrir los valores extremos verdaderos que se encuentran al final de la distribución.\n",
        "\n",
        "### Nota Final\n",
        "\n",
        "Este método no es muy común en las competenticas de ciencia de datos, sin embargo es usado ampliamente en compañías financieras. Cuando se captura la historia financiera de clientes, para no asumir que los valores faltan aleatoriamente, los datos ausentes son reemplazados por un valor al final de la distribución.\n",
        "\n",
        "Pueden ver nuestra charla en [talk at PyData London in 2017](https://www.youtube.com/watch?v=KHGGlozsRtA) donde se presenta un ejemplo de ingeniería de variables en Finanzas.\n",
        "\n",
        "## En este demo:\n",
        "\n",
        "Vamos a aprender como sustituir valores nulos con valores arbitrarios utilizando pandas y los set de datos Ames House Price y Titanic.\n",
        "\n",
        "- Para bajar los datos, por favor referirse a la clase en **Datasets** en la  **Sección 1** del curso.\n"
      ]
    },
    {
      "cell_type": "code",
      "metadata": {
        "id": "zAC-lyV1F8NG"
      },
      "source": [
        "import pandas as pd\n",
        "import numpy as np\n",
        "\n",
        "import matplotlib.pyplot as plt\n",
        "import seaborn as sns\n",
        "\n",
        "from sklearn.model_selection import train_test_split"
      ],
      "execution_count": 3,
      "outputs": []
    },
    {
      "cell_type": "code",
      "metadata": {
        "id": "WUY7ndcgGrjx",
        "outputId": "50f07b7b-beec-4910-e671-775c5d0084c9",
        "colab": {
          "base_uri": "https://localhost:8080/",
          "height": 34
        }
      },
      "source": [
        "from google.colab import drive\n",
        "drive.mount('/content/drive')"
      ],
      "execution_count": 2,
      "outputs": [
        {
          "output_type": "stream",
          "text": [
            "Mounted at /content/drive\n"
          ],
          "name": "stdout"
        }
      ]
    },
    {
      "cell_type": "code",
      "metadata": {
        "id": "_ulVAR9GF8NJ",
        "outputId": "a08569f3-43e3-49d5-a581-d4dbc93315fa",
        "colab": {
          "base_uri": "https://localhost:8080/",
          "height": 204
        }
      },
      "source": [
        "# Titanic Dataset con unas variables para el demo\n",
        "\n",
        "data = pd.read_csv('/content/drive/My Drive/datasets/titanic.csv', usecols=['age', 'fare', 'survived'])\n",
        "data.head()"
      ],
      "execution_count": 4,
      "outputs": [
        {
          "output_type": "execute_result",
          "data": {
            "text/html": [
              "<div>\n",
              "<style scoped>\n",
              "    .dataframe tbody tr th:only-of-type {\n",
              "        vertical-align: middle;\n",
              "    }\n",
              "\n",
              "    .dataframe tbody tr th {\n",
              "        vertical-align: top;\n",
              "    }\n",
              "\n",
              "    .dataframe thead th {\n",
              "        text-align: right;\n",
              "    }\n",
              "</style>\n",
              "<table border=\"1\" class=\"dataframe\">\n",
              "  <thead>\n",
              "    <tr style=\"text-align: right;\">\n",
              "      <th></th>\n",
              "      <th>survived</th>\n",
              "      <th>age</th>\n",
              "      <th>fare</th>\n",
              "    </tr>\n",
              "  </thead>\n",
              "  <tbody>\n",
              "    <tr>\n",
              "      <th>0</th>\n",
              "      <td>1</td>\n",
              "      <td>29.0000</td>\n",
              "      <td>211.3375</td>\n",
              "    </tr>\n",
              "    <tr>\n",
              "      <th>1</th>\n",
              "      <td>1</td>\n",
              "      <td>0.9167</td>\n",
              "      <td>151.5500</td>\n",
              "    </tr>\n",
              "    <tr>\n",
              "      <th>2</th>\n",
              "      <td>0</td>\n",
              "      <td>2.0000</td>\n",
              "      <td>151.5500</td>\n",
              "    </tr>\n",
              "    <tr>\n",
              "      <th>3</th>\n",
              "      <td>0</td>\n",
              "      <td>30.0000</td>\n",
              "      <td>151.5500</td>\n",
              "    </tr>\n",
              "    <tr>\n",
              "      <th>4</th>\n",
              "      <td>0</td>\n",
              "      <td>25.0000</td>\n",
              "      <td>151.5500</td>\n",
              "    </tr>\n",
              "  </tbody>\n",
              "</table>\n",
              "</div>"
            ],
            "text/plain": [
              "   survived      age      fare\n",
              "0         1  29.0000  211.3375\n",
              "1         1   0.9167  151.5500\n",
              "2         0   2.0000  151.5500\n",
              "3         0  30.0000  151.5500\n",
              "4         0  25.0000  151.5500"
            ]
          },
          "metadata": {
            "tags": []
          },
          "execution_count": 4
        }
      ]
    },
    {
      "cell_type": "code",
      "metadata": {
        "id": "ZgAW1Oc8F8NL",
        "outputId": "38272fa2-7405-46f0-8314-6cd3b3e1293a",
        "colab": {
          "base_uri": "https://localhost:8080/",
          "height": 85
        }
      },
      "source": [
        "# porcentaje de NA o valores nulos\n",
        "#20% de missing values en \"age\"\n",
        "\n",
        "data.isnull().mean()"
      ],
      "execution_count": 6,
      "outputs": [
        {
          "output_type": "execute_result",
          "data": {
            "text/plain": [
              "survived    0.000000\n",
              "age         0.200917\n",
              "fare        0.000764\n",
              "dtype: float64"
            ]
          },
          "metadata": {
            "tags": []
          },
          "execution_count": 6
        }
      ]
    },
    {
      "cell_type": "markdown",
      "metadata": {
        "id": "8zOocAEdF8NN"
      },
      "source": [
        "### Para tener en cuenta\n",
        "\n",
        "Los parámetros para la sustitución o imputación de datos nulos se deben aprender utilizando el set de entrenamiento SOLAMENTE. Luego, estos parámetros se utilizaran para imputar los valores nulos en el set de prueba. "
      ]
    },
    {
      "cell_type": "code",
      "metadata": {
        "id": "cry4sMIKF8NO",
        "outputId": "1545b6bd-d0e8-400f-f681-f35997985188",
        "colab": {
          "base_uri": "https://localhost:8080/",
          "height": 34
        }
      },
      "source": [
        "# Separemos en segmentos para entrenamiento y prueba\n",
        "\n",
        "X_train, X_test, y_train, y_test = train_test_split(\n",
        "    data[['age', 'fare']],  # variables independientes\n",
        "    data['survived'],  # target\n",
        "    test_size=0.3,  # porcentaje de obs en test set\n",
        "    random_state=0)  # semilla para reproducibilidad\n",
        "\n",
        "X_train.shape, X_test.shape"
      ],
      "execution_count": 7,
      "outputs": [
        {
          "output_type": "execute_result",
          "data": {
            "text/plain": [
              "((916, 2), (393, 2))"
            ]
          },
          "metadata": {
            "tags": []
          },
          "execution_count": 7
        }
      ]
    },
    {
      "cell_type": "code",
      "metadata": {
        "id": "3OHBR7NHF8NQ",
        "outputId": "51654370-7640-42f1-c38f-0eb3d6d97fcf",
        "colab": {
          "base_uri": "https://localhost:8080/",
          "height": 282
        }
      },
      "source": [
        "# distribución de la variable age\n",
        "#Notamos que la distribución esta medianamente centrada\n",
        "X_train.age.hist(bins=50)"
      ],
      "execution_count": 8,
      "outputs": [
        {
          "output_type": "execute_result",
          "data": {
            "text/plain": [
              "<matplotlib.axes._subplots.AxesSubplot at 0x7f79195f5048>"
            ]
          },
          "metadata": {
            "tags": []
          },
          "execution_count": 8
        },
        {
          "output_type": "display_data",
          "data": {
            "image/png": "[encoded data removed]",
            "text/plain": [
              "<Figure size 432x288 with 1 Axes>"
            ]
          },
          "metadata": {
            "tags": [],
            "needs_background": "light"
          }
        }
      ]
    },
    {
      "cell_type": "code",
      "metadata": {
        "id": "uUfGhmIfF8NS"
      },
      "source": [
        "# creemos una función para sustituir los valores faltantes\n",
        "# con un valor determinado\n",
        "\n",
        "# la función toma como argumentos:\n",
        "# dataframe, variable, y el valor de arbitrario para la sustitución\n",
        "# retorna la variable con los valores sustituidos\n",
        "\n",
        "def impute_na(df, variable, value):\n",
        "\n",
        "    return df[variable].fillna(value)"
      ],
      "execution_count": 10,
      "outputs": []
    },
    {
      "cell_type": "code",
      "metadata": {
        "id": "a9OpTT4QF8NV",
        "outputId": "fddfaf77-94a8-4f5f-9547-b2989247b6ca",
        "colab": {
          "base_uri": "https://localhost:8080/",
          "height": 34
        }
      },
      "source": [
        "# extremo final de la distribución:\n",
        "\n",
        "# Age parece tener distribución Gaussiana, usaremos\n",
        "# el promedio y la desviación estándar para sustituir valores\n",
        "\n",
        "X_train.age.mean() + 3 * X_train.age.std()"
      ],
      "execution_count": 11,
      "outputs": [
        {
          "output_type": "execute_result",
          "data": {
            "text/plain": [
              "72.03416424092518"
            ]
          },
          "metadata": {
            "tags": []
          },
          "execution_count": 11
        }
      ]
    },
    {
      "cell_type": "code",
      "metadata": {
        "id": "ai8rLqLZF8NX",
        "outputId": "a88c6edb-5960-45d0-c16b-135bab0174e3",
        "colab": {
          "base_uri": "https://localhost:8080/",
          "height": 514
        }
      },
      "source": [
        "# sustituir los NA con los valores calculados en la celda anterior\n",
        "\n",
        "X_train['age_imputed'] = impute_na(X_train, 'age',\n",
        "                                   X_train.age.mean() + 3 * X_train.age.std())\n",
        "\n",
        "X_train.head(15)"
      ],
      "execution_count": 12,
      "outputs": [
        {
          "output_type": "execute_result",
          "data": {
            "text/html": [
              "<div>\n",
              "<style scoped>\n",
              "    .dataframe tbody tr th:only-of-type {\n",
              "        vertical-align: middle;\n",
              "    }\n",
              "\n",
              "    .dataframe tbody tr th {\n",
              "        vertical-align: top;\n",
              "    }\n",
              "\n",
              "    .dataframe thead th {\n",
              "        text-align: right;\n",
              "    }\n",
              "</style>\n",
              "<table border=\"1\" class=\"dataframe\">\n",
              "  <thead>\n",
              "    <tr style=\"text-align: right;\">\n",
              "      <th></th>\n",
              "      <th>age</th>\n",
              "      <th>fare</th>\n",
              "      <th>age_imputed</th>\n",
              "    </tr>\n",
              "  </thead>\n",
              "  <tbody>\n",
              "    <tr>\n",
              "      <th>501</th>\n",
              "      <td>13.0</td>\n",
              "      <td>19.5000</td>\n",
              "      <td>13.000000</td>\n",
              "    </tr>\n",
              "    <tr>\n",
              "      <th>588</th>\n",
              "      <td>4.0</td>\n",
              "      <td>23.0000</td>\n",
              "      <td>4.000000</td>\n",
              "    </tr>\n",
              "    <tr>\n",
              "      <th>402</th>\n",
              "      <td>30.0</td>\n",
              "      <td>13.8583</td>\n",
              "      <td>30.000000</td>\n",
              "    </tr>\n",
              "    <tr>\n",
              "      <th>1193</th>\n",
              "      <td>NaN</td>\n",
              "      <td>7.7250</td>\n",
              "      <td>72.034164</td>\n",
              "    </tr>\n",
              "    <tr>\n",
              "      <th>686</th>\n",
              "      <td>22.0</td>\n",
              "      <td>7.7250</td>\n",
              "      <td>22.000000</td>\n",
              "    </tr>\n",
              "    <tr>\n",
              "      <th>971</th>\n",
              "      <td>NaN</td>\n",
              "      <td>7.8792</td>\n",
              "      <td>72.034164</td>\n",
              "    </tr>\n",
              "    <tr>\n",
              "      <th>117</th>\n",
              "      <td>30.0</td>\n",
              "      <td>56.9292</td>\n",
              "      <td>30.000000</td>\n",
              "    </tr>\n",
              "    <tr>\n",
              "      <th>540</th>\n",
              "      <td>2.0</td>\n",
              "      <td>26.0000</td>\n",
              "      <td>2.000000</td>\n",
              "    </tr>\n",
              "    <tr>\n",
              "      <th>294</th>\n",
              "      <td>49.0</td>\n",
              "      <td>110.8833</td>\n",
              "      <td>49.000000</td>\n",
              "    </tr>\n",
              "    <tr>\n",
              "      <th>261</th>\n",
              "      <td>35.0</td>\n",
              "      <td>26.2875</td>\n",
              "      <td>35.000000</td>\n",
              "    </tr>\n",
              "    <tr>\n",
              "      <th>587</th>\n",
              "      <td>2.0</td>\n",
              "      <td>23.0000</td>\n",
              "      <td>2.000000</td>\n",
              "    </tr>\n",
              "    <tr>\n",
              "      <th>489</th>\n",
              "      <td>42.0</td>\n",
              "      <td>26.0000</td>\n",
              "      <td>42.000000</td>\n",
              "    </tr>\n",
              "    <tr>\n",
              "      <th>2</th>\n",
              "      <td>2.0</td>\n",
              "      <td>151.5500</td>\n",
              "      <td>2.000000</td>\n",
              "    </tr>\n",
              "    <tr>\n",
              "      <th>405</th>\n",
              "      <td>18.0</td>\n",
              "      <td>13.0000</td>\n",
              "      <td>18.000000</td>\n",
              "    </tr>\n",
              "    <tr>\n",
              "      <th>1284</th>\n",
              "      <td>NaN</td>\n",
              "      <td>8.0500</td>\n",
              "      <td>72.034164</td>\n",
              "    </tr>\n",
              "  </tbody>\n",
              "</table>\n",
              "</div>"
            ],
            "text/plain": [
              "       age      fare  age_imputed\n",
              "501   13.0   19.5000    13.000000\n",
              "588    4.0   23.0000     4.000000\n",
              "402   30.0   13.8583    30.000000\n",
              "1193   NaN    7.7250    72.034164\n",
              "686   22.0    7.7250    22.000000\n",
              "971    NaN    7.8792    72.034164\n",
              "117   30.0   56.9292    30.000000\n",
              "540    2.0   26.0000     2.000000\n",
              "294   49.0  110.8833    49.000000\n",
              "261   35.0   26.2875    35.000000\n",
              "587    2.0   23.0000     2.000000\n",
              "489   42.0   26.0000    42.000000\n",
              "2      2.0  151.5500     2.000000\n",
              "405   18.0   13.0000    18.000000\n",
              "1284   NaN    8.0500    72.034164"
            ]
          },
          "metadata": {
            "tags": []
          },
          "execution_count": 12
        }
      ]
    },
    {
      "cell_type": "markdown",
      "metadata": {
        "id": "UBuxV8WTF8Na"
      },
      "source": [
        "Observa como las filas con valores nulos (NaN) in Age, fueron reemplazadas con el valor 72.034164"
      ]
    },
    {
      "cell_type": "code",
      "metadata": {
        "id": "qEqzf9-pF8Nb",
        "outputId": "e72136a1-4b94-43e0-9e93-b0a217b691a9",
        "colab": {
          "base_uri": "https://localhost:8080/",
          "height": 51
        }
      },
      "source": [
        "# podemos ver un cambio en la varianza tras la imputación\n",
        "\n",
        "# esto es de esperarse, porque el porcentaje de valores ausentes \n",
        "# es relativamente grande en age, ~20%\n",
        "\n",
        "\n",
        "print('Varianza variable original: ', X_train['age'].var())\n",
        "print('Varianza luego de sustitución por media mas 3*std: ', X_train['age_imputed'].var())"
      ],
      "execution_count": 13,
      "outputs": [
        {
          "output_type": "stream",
          "text": [
            "Varianza variable original:  194.16304666581854\n",
            "Varianza luego de sustitución por media mas 3*std:  427.39198372523583\n"
          ],
          "name": "stdout"
        }
      ]
    },
    {
      "cell_type": "code",
      "metadata": {
        "id": "8hPgs_zVF8Nd",
        "outputId": "3932fe02-d01e-4389-d957-336b1704685a",
        "colab": {
          "base_uri": "https://localhost:8080/",
          "height": 284
        }
      },
      "source": [
        "# Comparemos distribuciones\n",
        "\n",
        "# podemos ver que la distribución ha cambiado con más\n",
        "# valores acumulados al final de la escala\n",
        "\n",
        "fig = plt.figure()\n",
        "ax = fig.add_subplot(111)\n",
        "\n",
        "# distribución original de la variable\n",
        "X_train['age'].plot(kind='kde', ax=ax)\n",
        "\n",
        "# distribución variable sustituida con  media más 3*std\n",
        "X_train['age_imputed'].plot(kind='kde', ax=ax, color='red')\n",
        "\n",
        "# etiquetas\n",
        "lines, labels = ax.get_legend_handles_labels()\n",
        "ax.legend(lines, labels, loc='best')"
      ],
      "execution_count": 14,
      "outputs": [
        {
          "output_type": "execute_result",
          "data": {
            "text/plain": [
              "<matplotlib.legend.Legend at 0x7f7919037a20>"
            ]
          },
          "metadata": {
            "tags": []
          },
          "execution_count": 14
        },
        {
          "output_type": "display_data",
          "data": {
            "image/png": "[encoded data removed]",
            "text/plain": [
              "<Figure size 432x288 with 1 Axes>"
            ]
          },
          "metadata": {
            "tags": [],
            "needs_background": "light"
          }
        }
      ]
    },
    {
      "cell_type": "markdown",
      "metadata": {
        "id": "thsyIfb5F8Nf"
      },
      "source": [
        "Al igual que en la sustitución por valores arbitrarios, la sustitución por valores al final de la distribución distorsiona la distribución original de la variables y como es de esperarse, la variable transformada tiene más valores al extremo de la distribución.\n",
        "\n",
        "**Es esto importante?**\n",
        "\n",
        "Depende del algoritmo de machine learning seleccionado para construir el modelo.\n",
        "Los modelos lineales asumen que las variables están normalmente distribuidas. La sustitución por valores arbitrarios puede distorsionar la distribución normal original si el porcentaje de valores ausentes es alto y por lo tanto afectar el desempeño del modelo lineal.\n",
        "\n",
        "\n",
        "Por el contrario, esta técnica funciona muy bien para los algoritmos basados en árboles."
      ]
    },
    {
      "cell_type": "code",
      "metadata": {
        "id": "RSezegZKF8Nf",
        "outputId": "eb592729-2a92-4c27-be60-f898395fcdc0",
        "colab": {
          "base_uri": "https://localhost:8080/",
          "height": 142
        }
      },
      "source": [
        "# esta técnica también puede afectar la relación de la variable imputada\n",
        "# con las restantes variables en el set de datos\n",
        "\n",
        "# veamos para esto la covarianza\n",
        "\n",
        "X_train[['fare', 'age', 'age_imputed']].cov()"
      ],
      "execution_count": 15,
      "outputs": [
        {
          "output_type": "execute_result",
          "data": {
            "text/html": [
              "<div>\n",
              "<style scoped>\n",
              "    .dataframe tbody tr th:only-of-type {\n",
              "        vertical-align: middle;\n",
              "    }\n",
              "\n",
              "    .dataframe tbody tr th {\n",
              "        vertical-align: top;\n",
              "    }\n",
              "\n",
              "    .dataframe thead th {\n",
              "        text-align: right;\n",
              "    }\n",
              "</style>\n",
              "<table border=\"1\" class=\"dataframe\">\n",
              "  <thead>\n",
              "    <tr style=\"text-align: right;\">\n",
              "      <th></th>\n",
              "      <th>fare</th>\n",
              "      <th>age</th>\n",
              "      <th>age_imputed</th>\n",
              "    </tr>\n",
              "  </thead>\n",
              "  <tbody>\n",
              "    <tr>\n",
              "      <th>fare</th>\n",
              "      <td>2248.326729</td>\n",
              "      <td>136.176223</td>\n",
              "      <td>19.647139</td>\n",
              "    </tr>\n",
              "    <tr>\n",
              "      <th>age</th>\n",
              "      <td>136.176223</td>\n",
              "      <td>194.163047</td>\n",
              "      <td>194.163047</td>\n",
              "    </tr>\n",
              "    <tr>\n",
              "      <th>age_imputed</th>\n",
              "      <td>19.647139</td>\n",
              "      <td>194.163047</td>\n",
              "      <td>427.391984</td>\n",
              "    </tr>\n",
              "  </tbody>\n",
              "</table>\n",
              "</div>"
            ],
            "text/plain": [
              "                    fare         age  age_imputed\n",
              "fare         2248.326729  136.176223    19.647139\n",
              "age           136.176223  194.163047   194.163047\n",
              "age_imputed    19.647139  194.163047   427.391984"
            ]
          },
          "metadata": {
            "tags": []
          },
          "execution_count": 15
        }
      ]
    },
    {
      "cell_type": "markdown",
      "metadata": {
        "id": "kzMVdjDTF8Nh"
      },
      "source": [
        "Se puede observar que la covarianza entre Age y Fare cambió luego de la sustitución"
      ]
    },
    {
      "cell_type": "code",
      "metadata": {
        "id": "gbciM7ZFHO_8",
        "outputId": "c162d8a6-65f0-4f28-f180-1a852029a70e",
        "colab": {
          "base_uri": "https://localhost:8080/",
          "height": 722
        }
      },
      "source": [
        "import seaborn as sns\n",
        "features = X_train.columns\n",
        "correlation_matrix = X_train[features].corr().round(2)\n",
        "\n",
        "# Grafiquemos la matriz de correlación usando seaborn\n",
        "# annot = True para imprimir los coeficientes de correlación\n",
        "#Podemos ver que si bien la varianza cambio radicalmente, la relación entre la variables es la misma.\n",
        "\n",
        "figure = plt.figure(figsize=(12, 12))\n",
        "sns.heatmap(data=correlation_matrix, annot=True)"
      ],
      "execution_count": 17,
      "outputs": [
        {
          "output_type": "execute_result",
          "data": {
            "text/plain": [
              "<matplotlib.axes._subplots.AxesSubplot at 0x7f791a0bf5f8>"
            ]
          },
          "metadata": {
            "tags": []
          },
          "execution_count": 17
        },
        {
          "output_type": "display_data",
          "data": {
            "image/png": "[encoded data removed]",
            "text/plain": [
              "<Figure size 864x864 with 2 Axes>"
            ]
          },
          "metadata": {
            "tags": [],
            "needs_background": "light"
          }
        }
      ]
    },
    {
      "cell_type": "code",
      "metadata": {
        "id": "pxLNi94KF8Ni",
        "outputId": "648ea4b2-02ce-465d-9c87-5df1116b5a72",
        "colab": {
          "base_uri": "https://localhost:8080/",
          "height": 283
        }
      },
      "source": [
        "# Finalmente, la sustitución puede afectar los valores extremos\n",
        "\n",
        "#Dado que se imputan valores al final de la distribución, esto enmascara la presencia de valores extremos.\n",
        "\n",
        "# Gráfico de caja\n",
        "X_train[['age', 'age_imputed']].boxplot()"
      ],
      "execution_count": 18,
      "outputs": [
        {
          "output_type": "execute_result",
          "data": {
            "text/plain": [
              "<matplotlib.axes._subplots.AxesSubplot at 0x7f7918f95668>"
            ]
          },
          "metadata": {
            "tags": []
          },
          "execution_count": 18
        },
        {
          "output_type": "display_data",
          "data": {
            "image/png": "[encoded data removed]",
            "text/plain": [
              "<Figure size 432x288 with 1 Axes>"
            ]
          },
          "metadata": {
            "tags": [],
            "needs_background": "light"
          }
        }
      ]
    },
    {
      "cell_type": "markdown",
      "metadata": {
        "id": "s_wvROPwF8Nk"
      },
      "source": [
        "Los valores extremos presentes en la variable original parecen haber desaparecido!!!!"
      ]
    },
    {
      "cell_type": "markdown",
      "metadata": {
        "id": "H2DO5WQ1F8Nl"
      },
      "source": [
        "## House Prices Dataset\n",
        "\n",
        "Repitamos rápidamente el mismo ejercicio con el House Prices dataset; este tiene variables con pocos o muchos valores nulos, por lo tanto podemos comparar el efecto de la sustitución en ambos escenarios."
      ]
    },
    {
      "cell_type": "code",
      "metadata": {
        "id": "gznIykvCF8Nl"
      },
      "source": [
        "# Vamos a usar las siguientes variables\n",
        "# 3 de las cuales tienen valores nulos\n",
        "\n",
        "cols_to_use = [\n",
        "    'OverallQual', 'TotalBsmtSF', '1stFlrSF', 'GrLivArea', 'WoodDeckSF',\n",
        "    'BsmtUnfSF', 'LotFrontage', 'MasVnrArea', 'GarageYrBlt', 'SalePrice'\n",
        "]"
      ],
      "execution_count": 19,
      "outputs": []
    },
    {
      "cell_type": "code",
      "metadata": {
        "id": "H-kSN5soF8Nn",
        "outputId": "741de09f-e24b-48a8-871b-c991f1237965",
        "colab": {
          "base_uri": "https://localhost:8080/",
          "height": 221
        }
      },
      "source": [
        "# House Prices dataset\n",
        "\n",
        "data = pd.read_csv('/content/drive/My Drive/datasets/houseprice.csv', usecols=cols_to_use)\n",
        "print(data.shape)\n",
        "data.head()"
      ],
      "execution_count": 20,
      "outputs": [
        {
          "output_type": "stream",
          "text": [
            "(1460, 10)\n"
          ],
          "name": "stdout"
        },
        {
          "output_type": "execute_result",
          "data": {
            "text/html": [
              "<div>\n",
              "<style scoped>\n",
              "    .dataframe tbody tr th:only-of-type {\n",
              "        vertical-align: middle;\n",
              "    }\n",
              "\n",
              "    .dataframe tbody tr th {\n",
              "        vertical-align: top;\n",
              "    }\n",
              "\n",
              "    .dataframe thead th {\n",
              "        text-align: right;\n",
              "    }\n",
              "</style>\n",
              "<table border=\"1\" class=\"dataframe\">\n",
              "  <thead>\n",
              "    <tr style=\"text-align: right;\">\n",
              "      <th></th>\n",
              "      <th>LotFrontage</th>\n",
              "      <th>OverallQual</th>\n",
              "      <th>MasVnrArea</th>\n",
              "      <th>BsmtUnfSF</th>\n",
              "      <th>TotalBsmtSF</th>\n",
              "      <th>1stFlrSF</th>\n",
              "      <th>GrLivArea</th>\n",
              "      <th>GarageYrBlt</th>\n",
              "      <th>WoodDeckSF</th>\n",
              "      <th>SalePrice</th>\n",
              "    </tr>\n",
              "  </thead>\n",
              "  <tbody>\n",
              "    <tr>\n",
              "      <th>0</th>\n",
              "      <td>65.0</td>\n",
              "      <td>7</td>\n",
              "      <td>196.0</td>\n",
              "      <td>150</td>\n",
              "      <td>856</td>\n",
              "      <td>856</td>\n",
              "      <td>1710</td>\n",
              "      <td>2003.0</td>\n",
              "      <td>0</td>\n",
              "      <td>208500</td>\n",
              "    </tr>\n",
              "    <tr>\n",
              "      <th>1</th>\n",
              "      <td>80.0</td>\n",
              "      <td>6</td>\n",
              "      <td>0.0</td>\n",
              "      <td>284</td>\n",
              "      <td>1262</td>\n",
              "      <td>1262</td>\n",
              "      <td>1262</td>\n",
              "      <td>1976.0</td>\n",
              "      <td>298</td>\n",
              "      <td>181500</td>\n",
              "    </tr>\n",
              "    <tr>\n",
              "      <th>2</th>\n",
              "      <td>68.0</td>\n",
              "      <td>7</td>\n",
              "      <td>162.0</td>\n",
              "      <td>434</td>\n",
              "      <td>920</td>\n",
              "      <td>920</td>\n",
              "      <td>1786</td>\n",
              "      <td>2001.0</td>\n",
              "      <td>0</td>\n",
              "      <td>223500</td>\n",
              "    </tr>\n",
              "    <tr>\n",
              "      <th>3</th>\n",
              "      <td>60.0</td>\n",
              "      <td>7</td>\n",
              "      <td>0.0</td>\n",
              "      <td>540</td>\n",
              "      <td>756</td>\n",
              "      <td>961</td>\n",
              "      <td>1717</td>\n",
              "      <td>1998.0</td>\n",
              "      <td>0</td>\n",
              "      <td>140000</td>\n",
              "    </tr>\n",
              "    <tr>\n",
              "      <th>4</th>\n",
              "      <td>84.0</td>\n",
              "      <td>8</td>\n",
              "      <td>350.0</td>\n",
              "      <td>490</td>\n",
              "      <td>1145</td>\n",
              "      <td>1145</td>\n",
              "      <td>2198</td>\n",
              "      <td>2000.0</td>\n",
              "      <td>192</td>\n",
              "      <td>250000</td>\n",
              "    </tr>\n",
              "  </tbody>\n",
              "</table>\n",
              "</div>"
            ],
            "text/plain": [
              "   LotFrontage  OverallQual  MasVnrArea  ...  GarageYrBlt  WoodDeckSF  SalePrice\n",
              "0         65.0            7       196.0  ...       2003.0           0     208500\n",
              "1         80.0            6         0.0  ...       1976.0         298     181500\n",
              "2         68.0            7       162.0  ...       2001.0           0     223500\n",
              "3         60.0            7         0.0  ...       1998.0           0     140000\n",
              "4         84.0            8       350.0  ...       2000.0         192     250000\n",
              "\n",
              "[5 rows x 10 columns]"
            ]
          },
          "metadata": {
            "tags": []
          },
          "execution_count": 20
        }
      ]
    },
    {
      "cell_type": "code",
      "metadata": {
        "id": "b5XHnhLCF8Nq",
        "outputId": "e8a80f0b-281e-4eba-b085-51670a1342f6",
        "colab": {
          "base_uri": "https://localhost:8080/",
          "height": 34
        }
      },
      "source": [
        "# en la siguiente lista (list comprehension), vamos a iterar sobre \n",
        "# las columnas en los datos y seleccionar aquellas con valores faltantes\n",
        "\n",
        "[var for var in data.columns if data[var].isnull().sum()>0]"
      ],
      "execution_count": 21,
      "outputs": [
        {
          "output_type": "execute_result",
          "data": {
            "text/plain": [
              "['LotFrontage', 'MasVnrArea', 'GarageYrBlt']"
            ]
          },
          "metadata": {
            "tags": []
          },
          "execution_count": 21
        }
      ]
    },
    {
      "cell_type": "code",
      "metadata": {
        "id": "2CMA6VAyF8Ns",
        "outputId": "2d2976ee-383a-4770-9404-fdd6a60bccc5",
        "colab": {
          "base_uri": "https://localhost:8080/",
          "height": 85
        }
      },
      "source": [
        "# porcentaje de valores nulos\n",
        "# 'LotFrontage' tiene 17% de datos nulos\n",
        "#  'MasVnrArea' tiene .005 de datos nulos\n",
        "# 'GarageYrBlt' tiene 5% de datos nulos\n",
        "data[['LotFrontage', 'MasVnrArea', 'GarageYrBlt']].isnull().mean()"
      ],
      "execution_count": 22,
      "outputs": [
        {
          "output_type": "execute_result",
          "data": {
            "text/plain": [
              "LotFrontage    0.177397\n",
              "MasVnrArea     0.005479\n",
              "GarageYrBlt    0.055479\n",
              "dtype: float64"
            ]
          },
          "metadata": {
            "tags": []
          },
          "execution_count": 22
        }
      ]
    },
    {
      "cell_type": "code",
      "metadata": {
        "scrolled": false,
        "id": "fPq3Ff4FF8Nu",
        "outputId": "647f4f70-b863-4048-b83a-55eb1017b5d5",
        "colab": {
          "base_uri": "https://localhost:8080/",
          "height": 34
        }
      },
      "source": [
        "# separemos los datos en entrenamiento y prueba\n",
        "\n",
        "X_train, X_test, y_train, y_test = train_test_split(data,\n",
        "                                                    data['SalePrice'],\n",
        "                                                    test_size=0.3,\n",
        "                                                    random_state=0)\n",
        "X_train.shape, X_test.shape"
      ],
      "execution_count": 23,
      "outputs": [
        {
          "output_type": "execute_result",
          "data": {
            "text/plain": [
              "((1022, 10), (438, 10))"
            ]
          },
          "metadata": {
            "tags": []
          },
          "execution_count": 23
        }
      ]
    },
    {
      "cell_type": "code",
      "metadata": {
        "id": "ieCcQUDRF8Nw",
        "outputId": "4956e930-8445-4001-e842-569410f01882",
        "colab": {
          "base_uri": "https://localhost:8080/",
          "height": 608
        }
      },
      "source": [
        "# distribuciones de las variables\n",
        "#Notamos que las 3 variables estan sesgadas por lo que usaremos el enfoque del rango intercuantil\n",
        "X_train[['LotFrontage', 'MasVnrArea', 'GarageYrBlt']].hist(bins=50, figsize=(10,10))\n",
        "plt.show()"
      ],
      "execution_count": 24,
      "outputs": [
        {
          "output_type": "display_data",
          "data": {
            "image/png": "[encoded data removed]",
            "text/plain": [
              "<Figure size 720x720 with 4 Axes>"
            ]
          },
          "metadata": {
            "tags": [],
            "needs_background": "light"
          }
        }
      ]
    },
    {
      "cell_type": "code",
      "metadata": {
        "id": "-7xTZy1xF8Nz",
        "outputId": "52e9e377-1d30-4ea4-8b02-cb72bfad6f8e",
        "colab": {
          "base_uri": "https://localhost:8080/",
          "height": 34
        }
      },
      "source": [
        "# las variables están normalmente distribuidas\n",
        "\n",
        "# sustituyamos los valores nulos con la regla de proximidad del rango entre-cuantil\n",
        "# como vimos en la clase de valores extremos en la sección 3\n",
        "\n",
        "# rango entre-cuantil IQR\n",
        "\n",
        "IQR = X_train['LotFrontage'].quantile(0.75) - X_train['LotFrontage'].quantile(\n",
        "    0.25)\n",
        "\n",
        "# límite superior\n",
        "extreme_value = X_train['LotFrontage'].quantile(0.75) + 3 * IQR\n",
        "\n",
        "extreme_value"
      ],
      "execution_count": 25,
      "outputs": [
        {
          "output_type": "execute_result",
          "data": {
            "text/plain": [
              "146.0"
            ]
          },
          "metadata": {
            "tags": []
          },
          "execution_count": 25
        }
      ]
    },
    {
      "cell_type": "code",
      "metadata": {
        "id": "COV45G1fF8N0",
        "outputId": "0b00cebd-0e5f-43cc-8eab-7732e59428ef",
        "colab": {
          "base_uri": "https://localhost:8080/",
          "height": 241
        }
      },
      "source": [
        "# sustituir valores nulos con los valores extremos\n",
        "\n",
        "X_train.loc[:,'LotFrontage_imputed'] = impute_na(X_train, 'LotFrontage', extreme_value)\n",
        "X_test.loc[:,'LotFrontage_imputed'] = impute_na(X_test, 'LotFrontage', extreme_value)"
      ],
      "execution_count": 26,
      "outputs": [
        {
          "output_type": "stream",
          "text": [
            "/usr/local/lib/python3.6/dist-packages/pandas/core/indexing.py:1596: SettingWithCopyWarning: \n",
            "A value is trying to be set on a copy of a slice from a DataFrame.\n",
            "Try using .loc[row_indexer,col_indexer] = value instead\n",
            "\n",
            "See the caveats in the documentation: https://pandas.pydata.org/pandas-docs/stable/user_guide/indexing.html#returning-a-view-versus-a-copy\n",
            "  self.obj[key] = _infer_fill_value(value)\n",
            "/usr/local/lib/python3.6/dist-packages/pandas/core/indexing.py:1745: SettingWithCopyWarning: \n",
            "A value is trying to be set on a copy of a slice from a DataFrame.\n",
            "Try using .loc[row_indexer,col_indexer] = value instead\n",
            "\n",
            "See the caveats in the documentation: https://pandas.pydata.org/pandas-docs/stable/user_guide/indexing.html#returning-a-view-versus-a-copy\n",
            "  isetter(ilocs[0], value)\n"
          ],
          "name": "stderr"
        }
      ]
    },
    {
      "cell_type": "code",
      "metadata": {
        "id": "Y0NMYdrwF8N5",
        "outputId": "0fb2b7bf-e833-47df-f630-eb48f4709c22",
        "colab": {
          "base_uri": "https://localhost:8080/",
          "height": 34
        }
      },
      "source": [
        "# repitamos para la variable MasVnrArea\n",
        "\n",
        "# rango entre-cuantil IQR\n",
        "IQR = X_train['MasVnrArea'].quantile(0.75) - X_train['MasVnrArea'].quantile(\n",
        "    0.25)\n",
        "\n",
        "# límite superior\n",
        "extreme_value = X_train['MasVnrArea'].quantile(0.75) + 3 * IQR\n",
        "\n",
        "extreme_value"
      ],
      "execution_count": 27,
      "outputs": [
        {
          "output_type": "execute_result",
          "data": {
            "text/plain": [
              "680.0"
            ]
          },
          "metadata": {
            "tags": []
          },
          "execution_count": 27
        }
      ]
    },
    {
      "cell_type": "code",
      "metadata": {
        "id": "oMpQh4aGF8N6",
        "outputId": "a848f472-ce2a-4e8a-f40b-5a10fa5f0fbc",
        "colab": {
          "base_uri": "https://localhost:8080/",
          "height": 241
        }
      },
      "source": [
        "# sustituir valores nulos con los valores extremos\n",
        "\n",
        "X_train.loc[:,'MasVnrArea_imputed'] = impute_na(X_train, 'MasVnrArea', extreme_value)\n",
        "X_test.loc[:,'MasVnrArea_imputed'] = impute_na(X_test, 'MasVnrArea', extreme_value)"
      ],
      "execution_count": 28,
      "outputs": [
        {
          "output_type": "stream",
          "text": [
            "/usr/local/lib/python3.6/dist-packages/pandas/core/indexing.py:1596: SettingWithCopyWarning: \n",
            "A value is trying to be set on a copy of a slice from a DataFrame.\n",
            "Try using .loc[row_indexer,col_indexer] = value instead\n",
            "\n",
            "See the caveats in the documentation: https://pandas.pydata.org/pandas-docs/stable/user_guide/indexing.html#returning-a-view-versus-a-copy\n",
            "  self.obj[key] = _infer_fill_value(value)\n",
            "/usr/local/lib/python3.6/dist-packages/pandas/core/indexing.py:1745: SettingWithCopyWarning: \n",
            "A value is trying to be set on a copy of a slice from a DataFrame.\n",
            "Try using .loc[row_indexer,col_indexer] = value instead\n",
            "\n",
            "See the caveats in the documentation: https://pandas.pydata.org/pandas-docs/stable/user_guide/indexing.html#returning-a-view-versus-a-copy\n",
            "  isetter(ilocs[0], value)\n"
          ],
          "name": "stderr"
        }
      ]
    },
    {
      "cell_type": "code",
      "metadata": {
        "id": "aMIeRnM_F8N8",
        "outputId": "f65b958f-30ca-456c-e70d-97a38af16eda",
        "colab": {
          "base_uri": "https://localhost:8080/",
          "height": 282
        }
      },
      "source": [
        "# evaluemos el efecto de la sustitución en las distribuciones\n",
        "\n",
        "# los valores de la variable imputada presentan una acumulación\n",
        "# hacia el valor utilizado para reemplazar NA\n",
        "\n",
        "fig = plt.figure()\n",
        "ax = fig.add_subplot(111)\n",
        "\n",
        "# distribución original\n",
        "X_train['LotFrontage'].plot(kind='kde', ax=ax)\n",
        "\n",
        "# variable sustituida \n",
        "X_train['LotFrontage_imputed'].plot(kind='kde', ax=ax, color='red')\n",
        "\n",
        "# etiquetas\n",
        "lines, labels = ax.get_legend_handles_labels()\n",
        "ax.legend(lines, labels, loc='best')"
      ],
      "execution_count": 29,
      "outputs": [
        {
          "output_type": "execute_result",
          "data": {
            "text/plain": [
              "<matplotlib.legend.Legend at 0x7f7916287080>"
            ]
          },
          "metadata": {
            "tags": []
          },
          "execution_count": 29
        },
        {
          "output_type": "display_data",
          "data": {
            "image/png": "[encoded data removed]",
            "text/plain": [
              "<Figure size 432x288 with 1 Axes>"
            ]
          },
          "metadata": {
            "tags": [],
            "needs_background": "light"
          }
        }
      ]
    },
    {
      "cell_type": "code",
      "metadata": {
        "id": "uFUINtZ7F8N-",
        "outputId": "3dc66658-d758-4a49-c632-3710a780d7c5",
        "colab": {
          "base_uri": "https://localhost:8080/",
          "height": 282
        }
      },
      "source": [
        "# evaluemos el efecto de la sustitución en las distribuciones\n",
        "\n",
        "# MasVnrArea tienen solo unos pocos valores nulos, por lo tanto\n",
        "# el cambio en la distribución es menos dramático. Menos que cuando utilizamos\n",
        "# el valor arbitrario es 2999 como vimos en el notebook anterior\n",
        "\n",
        "\n",
        "fig = plt.figure()\n",
        "ax = fig.add_subplot(111)\n",
        "\n",
        "# distribución original\n",
        "X_train['MasVnrArea'].plot(kind='kde', ax=ax)\n",
        "\n",
        "# variable sustituida\n",
        "X_train['MasVnrArea_imputed'].plot(kind='kde', ax=ax, color='red')\n",
        "\n",
        "# etiquetas\n",
        "lines, labels = ax.get_legend_handles_labels()\n",
        "ax.legend(lines, labels, loc='best')"
      ],
      "execution_count": 30,
      "outputs": [
        {
          "output_type": "execute_result",
          "data": {
            "text/plain": [
              "<matplotlib.legend.Legend at 0x7f79161e9940>"
            ]
          },
          "metadata": {
            "tags": []
          },
          "execution_count": 30
        },
        {
          "output_type": "display_data",
          "data": {
            "image/png": "[encoded data removed]",
            "text/plain": [
              "<Figure size 432x288 with 1 Axes>"
            ]
          },
          "metadata": {
            "tags": [],
            "needs_background": "light"
          }
        }
      ]
    },
    {
      "cell_type": "markdown",
      "metadata": {
        "collapsed": true,
        "id": "mTHNtYWgF8OB"
      },
      "source": [
        "Podemos observar de las gráficas anteriores que la distribución de LotFrontAge cambió dramáticamente, a diferencia de MasVnrArea. Esto se debe a que el % de valores nulos en la segunda variable es pequeño."
      ]
    },
    {
      "cell_type": "code",
      "metadata": {
        "id": "MhB1lq-vF8OC",
        "outputId": "b95e103f-76db-4818-9407-1e3ece6aaf27",
        "colab": {
          "base_uri": "https://localhost:8080/",
          "height": 283
        }
      },
      "source": [
        "# también vemos que hay menos valores extremos después de la sustitución\n",
        "\n",
        "#Dado que se imputan valores al final de la distribución enmascara la presencia de valores extremos\n",
        "\n",
        "X_train[['LotFrontage', 'LotFrontage_imputed']].boxplot()"
      ],
      "execution_count": 31,
      "outputs": [
        {
          "output_type": "execute_result",
          "data": {
            "text/plain": [
              "<matplotlib.axes._subplots.AxesSubplot at 0x7f7916356be0>"
            ]
          },
          "metadata": {
            "tags": []
          },
          "execution_count": 31
        },
        {
          "output_type": "display_data",
          "data": {
            "image/png": "[encoded data removed]",
            "text/plain": [
              "<Figure size 432x288 with 1 Axes>"
            ]
          },
          "metadata": {
            "tags": [],
            "needs_background": "light"
          }
        }
      ]
    },
    {
      "cell_type": "code",
      "metadata": {
        "id": "YauRz2qaF8OE",
        "outputId": "4c7ab74d-53cf-41cc-ee91-198de823ce23",
        "colab": {
          "base_uri": "https://localhost:8080/",
          "height": 283
        }
      },
      "source": [
        "# sin embargo, los valores extremos no se afectan para la variable, dado que el porcentaje de missing values es pequeño\n",
        "# MasVnrArea\n",
        "\n",
        "X_train[['MasVnrArea', 'MasVnrArea_imputed']].boxplot()"
      ],
      "execution_count": 32,
      "outputs": [
        {
          "output_type": "execute_result",
          "data": {
            "text/plain": [
              "<matplotlib.axes._subplots.AxesSubplot at 0x7f7916122ac8>"
            ]
          },
          "metadata": {
            "tags": []
          },
          "execution_count": 32
        },
        {
          "output_type": "display_data",
          "data": {
            "image/png": "[encoded data removed]",
            "text/plain": [
              "<Figure size 432x288 with 1 Axes>"
            ]
          },
          "metadata": {
            "tags": [],
            "needs_background": "light"
          }
        }
      ]
    },
    {
      "cell_type": "code",
      "metadata": {
        "id": "NELw4AVxF8OG",
        "outputId": "15807d10-56c7-4165-a446-604fc09a82dc",
        "colab": {
          "base_uri": "https://localhost:8080/",
          "height": 51
        }
      },
      "source": [
        "# Igualmente podemos ver el efecto de la sustitución\n",
        "# en la varianza\n",
        "\n",
        "# Para LotFrontAge hay un cambio significativo ya que el porcentaje\n",
        "# de valores nulos es alto ~20%\n",
        "\n",
        "print('Original Variance: ', X_train['LotFrontage'].var())\n",
        "print('Variance after imputation: ', X_train['LotFrontage_imputed'].var())"
      ],
      "execution_count": 33,
      "outputs": [
        {
          "output_type": "stream",
          "text": [
            "Original Variance:  532.5872021885676\n",
            "Variance after imputation:  1313.0936747097685\n"
          ],
          "name": "stdout"
        }
      ]
    },
    {
      "cell_type": "code",
      "metadata": {
        "id": "s5sIooSBF8OI",
        "outputId": "524d5a97-a110-4fb9-ce84-be1c4ab3ada6",
        "colab": {
          "base_uri": "https://localhost:8080/",
          "height": 51
        }
      },
      "source": [
        "# En MasnVnrArea, el cambio en la varianza no es considerable\n",
        "# es importante resaltar que el efecto es mucho más pequeño \n",
        "# que cuando se uso el valor 2999 para la sustitución de los valores nulos\n",
        "# (compara con los resultados del notebook anterior)\n",
        "\n",
        "print('Varianza original: ', X_train['MasVnrArea'].var())\n",
        "print('Varianza despues de sustitución: ', X_train['MasVnrArea_imputed'].var())"
      ],
      "execution_count": 34,
      "outputs": [
        {
          "output_type": "stream",
          "text": [
            "Varianza original:  32983.538710039466\n",
            "Varianza despues de sustitución:  34441.33126074531\n"
          ],
          "name": "stdout"
        }
      ]
    },
    {
      "cell_type": "code",
      "metadata": {
        "id": "kVS3TRqPF8OK",
        "outputId": "6c916596-d659-4b58-bd72-c5ae6afc57ff",
        "colab": {
          "base_uri": "https://localhost:8080/",
          "height": 441
        }
      },
      "source": [
        "# Exploremos la covarianza:\n",
        "# tómate el tiempo de comparar los valores en la tabla\n",
        "\n",
        "X_train.cov()"
      ],
      "execution_count": 35,
      "outputs": [
        {
          "output_type": "execute_result",
          "data": {
            "text/html": [
              "<div>\n",
              "<style scoped>\n",
              "    .dataframe tbody tr th:only-of-type {\n",
              "        vertical-align: middle;\n",
              "    }\n",
              "\n",
              "    .dataframe tbody tr th {\n",
              "        vertical-align: top;\n",
              "    }\n",
              "\n",
              "    .dataframe thead th {\n",
              "        text-align: right;\n",
              "    }\n",
              "</style>\n",
              "<table border=\"1\" class=\"dataframe\">\n",
              "  <thead>\n",
              "    <tr style=\"text-align: right;\">\n",
              "      <th></th>\n",
              "      <th>LotFrontage</th>\n",
              "      <th>OverallQual</th>\n",
              "      <th>MasVnrArea</th>\n",
              "      <th>BsmtUnfSF</th>\n",
              "      <th>TotalBsmtSF</th>\n",
              "      <th>1stFlrSF</th>\n",
              "      <th>GrLivArea</th>\n",
              "      <th>GarageYrBlt</th>\n",
              "      <th>WoodDeckSF</th>\n",
              "      <th>SalePrice</th>\n",
              "      <th>LotFrontage_imputed</th>\n",
              "      <th>MasVnrArea_imputed</th>\n",
              "    </tr>\n",
              "  </thead>\n",
              "  <tbody>\n",
              "    <tr>\n",
              "      <th>LotFrontage</th>\n",
              "      <td>532.587202</td>\n",
              "      <td>6.587119</td>\n",
              "      <td>6.805603e+02</td>\n",
              "      <td>9.496573e+02</td>\n",
              "      <td>2.908856e+03</td>\n",
              "      <td>3.379794e+03</td>\n",
              "      <td>3.919952e+03</td>\n",
              "      <td>30.611717</td>\n",
              "      <td>1.347414e+02</td>\n",
              "      <td>6.689645e+05</td>\n",
              "      <td>532.587202</td>\n",
              "      <td>6.934872e+02</td>\n",
              "    </tr>\n",
              "    <tr>\n",
              "      <th>OverallQual</th>\n",
              "      <td>6.587119</td>\n",
              "      <td>1.843859</td>\n",
              "      <td>1.014970e+02</td>\n",
              "      <td>1.746147e+02</td>\n",
              "      <td>2.886241e+02</td>\n",
              "      <td>2.242973e+02</td>\n",
              "      <td>4.091242e+02</td>\n",
              "      <td>17.902809</td>\n",
              "      <td>3.168557e+01</td>\n",
              "      <td>8.320132e+04</td>\n",
              "      <td>3.425501</td>\n",
              "      <td>1.035991e+02</td>\n",
              "    </tr>\n",
              "    <tr>\n",
              "      <th>MasVnrArea</th>\n",
              "      <td>680.560330</td>\n",
              "      <td>101.496976</td>\n",
              "      <td>3.298354e+04</td>\n",
              "      <td>7.540788e+03</td>\n",
              "      <td>2.478877e+04</td>\n",
              "      <td>2.086595e+04</td>\n",
              "      <td>3.520785e+04</td>\n",
              "      <td>1203.583792</td>\n",
              "      <td>3.208924e+03</td>\n",
              "      <td>6.836439e+06</td>\n",
              "      <td>639.100679</td>\n",
              "      <td>3.298354e+04</td>\n",
              "    </tr>\n",
              "    <tr>\n",
              "      <th>BsmtUnfSF</th>\n",
              "      <td>949.657293</td>\n",
              "      <td>174.614725</td>\n",
              "      <td>7.540788e+03</td>\n",
              "      <td>1.875241e+05</td>\n",
              "      <td>7.513307e+04</td>\n",
              "      <td>4.987449e+04</td>\n",
              "      <td>5.203392e+04</td>\n",
              "      <td>1823.065167</td>\n",
              "      <td>-1.833201e+03</td>\n",
              "      <td>6.833028e+06</td>\n",
              "      <td>-850.739199</td>\n",
              "      <td>7.680598e+03</td>\n",
              "    </tr>\n",
              "    <tr>\n",
              "      <th>TotalBsmtSF</th>\n",
              "      <td>2908.855504</td>\n",
              "      <td>288.624075</td>\n",
              "      <td>2.478877e+04</td>\n",
              "      <td>7.513307e+04</td>\n",
              "      <td>1.682931e+05</td>\n",
              "      <td>1.212079e+05</td>\n",
              "      <td>8.615192e+04</td>\n",
              "      <td>3173.042442</td>\n",
              "      <td>1.227966e+04</td>\n",
              "      <td>2.003928e+07</td>\n",
              "      <td>2308.792907</td>\n",
              "      <td>2.473980e+04</td>\n",
              "    </tr>\n",
              "    <tr>\n",
              "      <th>1stFlrSF</th>\n",
              "      <td>3379.793504</td>\n",
              "      <td>224.297266</td>\n",
              "      <td>2.086595e+04</td>\n",
              "      <td>4.987449e+04</td>\n",
              "      <td>1.212079e+05</td>\n",
              "      <td>1.398656e+05</td>\n",
              "      <td>1.044401e+05</td>\n",
              "      <td>2009.195552</td>\n",
              "      <td>1.109406e+04</td>\n",
              "      <td>1.783631e+07</td>\n",
              "      <td>3142.724647</td>\n",
              "      <td>2.055453e+04</td>\n",
              "    </tr>\n",
              "    <tr>\n",
              "      <th>GrLivArea</th>\n",
              "      <td>3919.951834</td>\n",
              "      <td>409.124216</td>\n",
              "      <td>3.520785e+04</td>\n",
              "      <td>5.203392e+04</td>\n",
              "      <td>8.615192e+04</td>\n",
              "      <td>1.044401e+05</td>\n",
              "      <td>2.681277e+05</td>\n",
              "      <td>2738.982988</td>\n",
              "      <td>1.558395e+04</td>\n",
              "      <td>2.934477e+07</td>\n",
              "      <td>3723.250100</td>\n",
              "      <td>3.541558e+04</td>\n",
              "    </tr>\n",
              "    <tr>\n",
              "      <th>GarageYrBlt</th>\n",
              "      <td>30.611717</td>\n",
              "      <td>17.902809</td>\n",
              "      <td>1.203584e+03</td>\n",
              "      <td>1.823065e+03</td>\n",
              "      <td>3.173042e+03</td>\n",
              "      <td>2.009196e+03</td>\n",
              "      <td>2.738983e+03</td>\n",
              "      <td>624.305948</td>\n",
              "      <td>6.658911e+02</td>\n",
              "      <td>9.309355e+05</td>\n",
              "      <td>26.484608</td>\n",
              "      <td>1.274750e+03</td>\n",
              "    </tr>\n",
              "    <tr>\n",
              "      <th>WoodDeckSF</th>\n",
              "      <td>134.741376</td>\n",
              "      <td>31.685571</td>\n",
              "      <td>3.208924e+03</td>\n",
              "      <td>-1.833201e+03</td>\n",
              "      <td>1.227966e+04</td>\n",
              "      <td>1.109406e+04</td>\n",
              "      <td>1.558395e+04</td>\n",
              "      <td>665.891118</td>\n",
              "      <td>1.648582e+04</td>\n",
              "      <td>3.029981e+06</td>\n",
              "      <td>542.437312</td>\n",
              "      <td>3.088048e+03</td>\n",
              "    </tr>\n",
              "    <tr>\n",
              "      <th>SalePrice</th>\n",
              "      <td>668964.454191</td>\n",
              "      <td>83201.317781</td>\n",
              "      <td>6.836439e+06</td>\n",
              "      <td>6.833028e+06</td>\n",
              "      <td>2.003928e+07</td>\n",
              "      <td>1.783631e+07</td>\n",
              "      <td>2.934477e+07</td>\n",
              "      <td>930935.489321</td>\n",
              "      <td>3.029981e+06</td>\n",
              "      <td>6.105731e+09</td>\n",
              "      <td>578446.035624</td>\n",
              "      <td>6.872641e+06</td>\n",
              "    </tr>\n",
              "    <tr>\n",
              "      <th>LotFrontage_imputed</th>\n",
              "      <td>532.587202</td>\n",
              "      <td>3.425501</td>\n",
              "      <td>6.391007e+02</td>\n",
              "      <td>-8.507392e+02</td>\n",
              "      <td>2.308793e+03</td>\n",
              "      <td>3.142725e+03</td>\n",
              "      <td>3.723250e+03</td>\n",
              "      <td>26.484608</td>\n",
              "      <td>5.424373e+02</td>\n",
              "      <td>5.784460e+05</td>\n",
              "      <td>1313.093675</td>\n",
              "      <td>6.523871e+02</td>\n",
              "    </tr>\n",
              "    <tr>\n",
              "      <th>MasVnrArea_imputed</th>\n",
              "      <td>693.487235</td>\n",
              "      <td>103.599142</td>\n",
              "      <td>3.298354e+04</td>\n",
              "      <td>7.680598e+03</td>\n",
              "      <td>2.473980e+04</td>\n",
              "      <td>2.055453e+04</td>\n",
              "      <td>3.541558e+04</td>\n",
              "      <td>1274.749707</td>\n",
              "      <td>3.088048e+03</td>\n",
              "      <td>6.872641e+06</td>\n",
              "      <td>652.387102</td>\n",
              "      <td>3.444133e+04</td>\n",
              "    </tr>\n",
              "  </tbody>\n",
              "</table>\n",
              "</div>"
            ],
            "text/plain": [
              "                       LotFrontage  ...  MasVnrArea_imputed\n",
              "LotFrontage             532.587202  ...        6.934872e+02\n",
              "OverallQual               6.587119  ...        1.035991e+02\n",
              "MasVnrArea              680.560330  ...        3.298354e+04\n",
              "BsmtUnfSF               949.657293  ...        7.680598e+03\n",
              "TotalBsmtSF            2908.855504  ...        2.473980e+04\n",
              "1stFlrSF               3379.793504  ...        2.055453e+04\n",
              "GrLivArea              3919.951834  ...        3.541558e+04\n",
              "GarageYrBlt              30.611717  ...        1.274750e+03\n",
              "WoodDeckSF              134.741376  ...        3.088048e+03\n",
              "SalePrice            668964.454191  ...        6.872641e+06\n",
              "LotFrontage_imputed     532.587202  ...        6.523871e+02\n",
              "MasVnrArea_imputed      693.487235  ...        3.444133e+04\n",
              "\n",
              "[12 rows x 12 columns]"
            ]
          },
          "metadata": {
            "tags": []
          },
          "execution_count": 35
        }
      ]
    },
    {
      "cell_type": "code",
      "metadata": {
        "id": "vBkBfvWDHI24",
        "outputId": "a6818f01-9130-4031-dd97-914a48eea6fa",
        "colab": {
          "base_uri": "https://localhost:8080/",
          "height": 818
        }
      },
      "source": [
        "features = X_train.columns\n",
        "correlation_matrix = X_train[features].corr().round(2)\n",
        "\n",
        "# Grafiquemos la matriz de correlación usando seaborn\n",
        "# annot = True para imprimir los coeficientes de correlación\n",
        "\n",
        "# La variable que cambia su relación es \"LotFrontage\" dado que su porcentaje de missing values era alto\n",
        "#La variables \"MasVnrArea\" no se afecta demasiado debido a que su cantidad de missing values no es muy alto\n",
        "figure = plt.figure(figsize=(12, 12))\n",
        "sns.heatmap(data=correlation_matrix, annot=True)"
      ],
      "execution_count": 36,
      "outputs": [
        {
          "output_type": "execute_result",
          "data": {
            "text/plain": [
              "<matplotlib.axes._subplots.AxesSubplot at 0x7f79194d8160>"
            ]
          },
          "metadata": {
            "tags": []
          },
          "execution_count": 36
        },
        {
          "output_type": "display_data",
          "data": {
            "image/png": "[encoded data removed]",
            "text/plain": [
              "<Figure size 864x864 with 2 Axes>"
            ]
          },
          "metadata": {
            "tags": [],
            "needs_background": "light"
          }
        }
      ]
    },
    {
      "cell_type": "code",
      "metadata": {
        "id": "u9kGIdjxQA4j"
      },
      "source": [
        ""
      ],
      "execution_count": null,
      "outputs": []
    }
  ]
}