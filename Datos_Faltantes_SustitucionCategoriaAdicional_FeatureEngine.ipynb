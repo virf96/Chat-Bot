{
  "nbformat": 4,
  "nbformat_minor": 0,
  "metadata": {
    "kernelspec": {
      "display_name": "fe_test",
      "language": "python",
      "name": "fe_test"
    },
    "language_info": {
      "codemirror_mode": {
        "name": "ipython",
        "version": 3
      },
      "file_extension": ".py",
      "mimetype": "text/x-python",
      "name": "python",
      "nbconvert_exporter": "python",
      "pygments_lexer": "ipython3",
      "version": "3.8.2"
    },
    "toc": {
      "base_numbering": 1,
      "nav_menu": {},
      "number_sections": true,
      "sideBar": true,
      "skip_h1_title": false,
      "title_cell": "Table of Contents",
      "title_sidebar": "Contents",
      "toc_cell": false,
      "toc_position": {},
      "toc_section_display": "block",
      "toc_window_display": true
    },
    "colab": {
      "name": "Datos Faltantes_SustitucionCategoriaAdicional_FeatureEngine.ipynb",
      "provenance": [],
      "toc_visible": true,
      "include_colab_link": true
    }
  },
  "cells": [
    {
      "cell_type": "markdown",
      "metadata": {
        "id": "view-in-github",
        "colab_type": "text"
      },
      "source": [
        "<a href=\"https://colab.research.google.com/github/virf96/Chat-Bot/blob/master/Datos_Faltantes_SustitucionCategoriaAdicional_FeatureEngine.ipynb\" target=\"_parent\"><img src=\"https://colab.research.google.com/assets/colab-badge.svg\" alt=\"Open In Colab\"/></a>"
      ]
    },
    {
      "cell_type": "markdown",
      "metadata": {
        "id": "PKKwGHu3hQus"
      },
      "source": [
        "## Sustitución usando una etiqueta adicional en variables categóricas  ==> Feature-engine\n",
        "\n",
        "### Qué es Feature-engine?\n",
        "\n",
        "Feature-engine es una librería de Python que hemos creado para este curso. \n",
        "\n",
        "- Feature-engine incluye todas las técnicas de ingeniería de variables descritas en este curso\n",
        "- Feature-engine funciona como Scikit-learn, por lo tanto es fácil de aprender\n",
        "- Feature-engine te permite implementar pasos de ingeniería de variables específicos para diferentes grupos de variables\n",
        "- Feature-engine puede ser integrado con las pipelines de Scikit-learn pipeline permitiendo construir modelos fácilmente\n",
        "** Feature-engine te permite diseñar y guardar un flujo de ingeniería de variables con procesos diseñados específicamente para diferentes grupos de variables.**\n",
        "\n",
        "-------------------------------------------------------------------\n",
        "Feature-engine puede ser instalado vía pip ==> pip install feature-engine\n",
        "\n",
        "- Asegurate que haz instalado Feature-engine antes de correr este notebook\n",
        "\n",
        "Para más detalle visita el [website the trainindata]( https://www.trainindata.com/feature-engine) \n",
        "\n",
        "\n",
        "## En este demo:\n",
        "\n",
        "Vamos a usar **Feature-engine para hacer la sustitución usando una etiqueta adicional en variables categóricas 'Missing' ** usando los datos Ames House Price.\n",
        "\n",
        "### Nota: \n",
        "* 'Imputer' se deriva del verbo en inglés 'to impute' que quiere decir sustituir o reemplazar. Imputer es el objeto que completa la sustitución, de ahí el nombre dado a la clase."
      ]
    },
    {
      "cell_type": "code",
      "metadata": {
        "id": "1GcqZxVAhgPB",
        "outputId": "8791d004-b3f5-4885-9938-61d731bb049f",
        "colab": {
          "base_uri": "https://localhost:8080/"
        }
      },
      "source": [
        "from google.colab import drive\n",
        "drive.mount('/content/drive')"
      ],
      "execution_count": 1,
      "outputs": [
        {
          "output_type": "stream",
          "text": [
            "Mounted at /content/drive\n"
          ],
          "name": "stdout"
        }
      ]
    },
    {
      "cell_type": "code",
      "metadata": {
        "id": "RmbiET2Shd7r",
        "outputId": "ce0bc6b8-d2fa-444e-b3a7-f2be3b2c3f51",
        "colab": {
          "base_uri": "https://localhost:8080/"
        }
      },
      "source": [
        "pip install feature_engine"
      ],
      "execution_count": 2,
      "outputs": [
        {
          "output_type": "stream",
          "text": [
            "Collecting feature_engine\n",
            "  Downloading https://files.pythonhosted.org/packages/14/ed/5680bf401855b788f79cadc1298c210c5860eb5d54c4008cfa234b752ef1/feature_engine-0.6.1-py2.py3-none-any.whl\n",
            "Collecting statsmodels>=0.11.1\n",
            "\u001b[?25l  Downloading https://files.pythonhosted.org/packages/00/93/1b6882f92d94e491a3e3be101fc83934551eada261281980f3957246432f/statsmodels-0.12.0-cp36-cp36m-manylinux1_x86_64.whl (9.5MB)\n",
            "\u001b[K     |████████████████████████████████| 9.5MB 5.8MB/s \n",
            "\u001b[?25hRequirement already satisfied: scipy>=1.4.1 in /usr/local/lib/python3.6/dist-packages (from feature_engine) (1.4.1)\n",
            "Requirement already satisfied: pandas>=1.0.3 in /usr/local/lib/python3.6/dist-packages (from feature_engine) (1.1.3)\n",
            "Requirement already satisfied: scikit-learn>=0.22.2 in /usr/local/lib/python3.6/dist-packages (from feature_engine) (0.22.2.post1)\n",
            "Requirement already satisfied: numpy>=1.18.2 in /usr/local/lib/python3.6/dist-packages (from feature_engine) (1.18.5)\n",
            "Requirement already satisfied: patsy>=0.5 in /usr/local/lib/python3.6/dist-packages (from statsmodels>=0.11.1->feature_engine) (0.5.1)\n",
            "Requirement already satisfied: python-dateutil>=2.7.3 in /usr/local/lib/python3.6/dist-packages (from pandas>=1.0.3->feature_engine) (2.8.1)\n",
            "Requirement already satisfied: pytz>=2017.2 in /usr/local/lib/python3.6/dist-packages (from pandas>=1.0.3->feature_engine) (2018.9)\n",
            "Requirement already satisfied: joblib>=0.11 in /usr/local/lib/python3.6/dist-packages (from scikit-learn>=0.22.2->feature_engine) (0.17.0)\n",
            "Requirement already satisfied: six in /usr/local/lib/python3.6/dist-packages (from patsy>=0.5->statsmodels>=0.11.1->feature_engine) (1.15.0)\n",
            "Installing collected packages: statsmodels, feature-engine\n",
            "  Found existing installation: statsmodels 0.10.2\n",
            "    Uninstalling statsmodels-0.10.2:\n",
            "      Successfully uninstalled statsmodels-0.10.2\n",
            "Successfully installed feature-engine-0.6.1 statsmodels-0.12.0\n"
          ],
          "name": "stdout"
        }
      ]
    },
    {
      "cell_type": "code",
      "metadata": {
        "id": "MgORz7EphQuu"
      },
      "source": [
        "import pandas as pd\n",
        "import numpy as np\n",
        "\n",
        "import matplotlib.pyplot as plt\n",
        "\n",
        "from sklearn.model_selection import train_test_split\n",
        "from sklearn.pipeline import Pipeline\n",
        "\n",
        "# feature engine\n",
        "from feature_engine import missing_data_imputers as mdi"
      ],
      "execution_count": 3,
      "outputs": []
    },
    {
      "cell_type": "code",
      "metadata": {
        "id": "sCVz4f3thQu4",
        "outputId": "c65218ae-170f-4a48-f651-96596514e6b6",
        "colab": {
          "base_uri": "https://localhost:8080/",
          "height": 204
        }
      },
      "source": [
        "# carguemos los datos con un grupo de variables seleccionadas\n",
        "\n",
        "cols_to_use = [\n",
        "    'BsmtQual', 'FireplaceQu', 'LotFrontage', 'MasVnrArea', 'GarageYrBlt',\n",
        "    'SalePrice'\n",
        "]\n",
        "\n",
        "data = pd.read_csv('/content/drive/My Drive/datasets/houseprice.csv', usecols=cols_to_use)\n",
        "data.head()"
      ],
      "execution_count": 5,
      "outputs": [
        {
          "output_type": "execute_result",
          "data": {
            "text/html": [
              "<div>\n",
              "<style scoped>\n",
              "    .dataframe tbody tr th:only-of-type {\n",
              "        vertical-align: middle;\n",
              "    }\n",
              "\n",
              "    .dataframe tbody tr th {\n",
              "        vertical-align: top;\n",
              "    }\n",
              "\n",
              "    .dataframe thead th {\n",
              "        text-align: right;\n",
              "    }\n",
              "</style>\n",
              "<table border=\"1\" class=\"dataframe\">\n",
              "  <thead>\n",
              "    <tr style=\"text-align: right;\">\n",
              "      <th></th>\n",
              "      <th>LotFrontage</th>\n",
              "      <th>MasVnrArea</th>\n",
              "      <th>BsmtQual</th>\n",
              "      <th>FireplaceQu</th>\n",
              "      <th>GarageYrBlt</th>\n",
              "      <th>SalePrice</th>\n",
              "    </tr>\n",
              "  </thead>\n",
              "  <tbody>\n",
              "    <tr>\n",
              "      <th>0</th>\n",
              "      <td>65.0</td>\n",
              "      <td>196.0</td>\n",
              "      <td>Gd</td>\n",
              "      <td>NaN</td>\n",
              "      <td>2003.0</td>\n",
              "      <td>208500</td>\n",
              "    </tr>\n",
              "    <tr>\n",
              "      <th>1</th>\n",
              "      <td>80.0</td>\n",
              "      <td>0.0</td>\n",
              "      <td>Gd</td>\n",
              "      <td>TA</td>\n",
              "      <td>1976.0</td>\n",
              "      <td>181500</td>\n",
              "    </tr>\n",
              "    <tr>\n",
              "      <th>2</th>\n",
              "      <td>68.0</td>\n",
              "      <td>162.0</td>\n",
              "      <td>Gd</td>\n",
              "      <td>TA</td>\n",
              "      <td>2001.0</td>\n",
              "      <td>223500</td>\n",
              "    </tr>\n",
              "    <tr>\n",
              "      <th>3</th>\n",
              "      <td>60.0</td>\n",
              "      <td>0.0</td>\n",
              "      <td>TA</td>\n",
              "      <td>Gd</td>\n",
              "      <td>1998.0</td>\n",
              "      <td>140000</td>\n",
              "    </tr>\n",
              "    <tr>\n",
              "      <th>4</th>\n",
              "      <td>84.0</td>\n",
              "      <td>350.0</td>\n",
              "      <td>Gd</td>\n",
              "      <td>TA</td>\n",
              "      <td>2000.0</td>\n",
              "      <td>250000</td>\n",
              "    </tr>\n",
              "  </tbody>\n",
              "</table>\n",
              "</div>"
            ],
            "text/plain": [
              "   LotFrontage  MasVnrArea BsmtQual FireplaceQu  GarageYrBlt  SalePrice\n",
              "0         65.0       196.0       Gd         NaN       2003.0     208500\n",
              "1         80.0         0.0       Gd          TA       1976.0     181500\n",
              "2         68.0       162.0       Gd          TA       2001.0     223500\n",
              "3         60.0         0.0       TA          Gd       1998.0     140000\n",
              "4         84.0       350.0       Gd          TA       2000.0     250000"
            ]
          },
          "metadata": {
            "tags": []
          },
          "execution_count": 5
        }
      ]
    },
    {
      "cell_type": "code",
      "metadata": {
        "id": "B498yvhykNYe",
        "outputId": "0d9b3c13-31e0-473d-86c0-8872b2e6530c",
        "colab": {
          "base_uri": "https://localhost:8080/"
        }
      },
      "source": [
        "#Visualizamos que tipo de variables tenemos\n",
        "data.info()"
      ],
      "execution_count": 6,
      "outputs": [
        {
          "output_type": "stream",
          "text": [
            "<class 'pandas.core.frame.DataFrame'>\n",
            "RangeIndex: 1460 entries, 0 to 1459\n",
            "Data columns (total 6 columns):\n",
            " #   Column       Non-Null Count  Dtype  \n",
            "---  ------       --------------  -----  \n",
            " 0   LotFrontage  1201 non-null   float64\n",
            " 1   MasVnrArea   1452 non-null   float64\n",
            " 2   BsmtQual     1423 non-null   object \n",
            " 3   FireplaceQu  770 non-null    object \n",
            " 4   GarageYrBlt  1379 non-null   float64\n",
            " 5   SalePrice    1460 non-null   int64  \n",
            "dtypes: float64(3), int64(1), object(2)\n",
            "memory usage: 68.6+ KB\n"
          ],
          "name": "stdout"
        }
      ]
    },
    {
      "cell_type": "code",
      "metadata": {
        "id": "dLJLsMT3hQvD",
        "outputId": "271a8064-cbc3-464b-9218-fdd6934b6f4a",
        "colab": {
          "base_uri": "https://localhost:8080/"
        }
      },
      "source": [
        "#Veamos el porcentaje de nulos\n",
        "data.isnull().mean().sort_values(ascending=False)"
      ],
      "execution_count": 7,
      "outputs": [
        {
          "output_type": "execute_result",
          "data": {
            "text/plain": [
              "FireplaceQu    0.472603\n",
              "LotFrontage    0.177397\n",
              "GarageYrBlt    0.055479\n",
              "BsmtQual       0.025342\n",
              "MasVnrArea     0.005479\n",
              "SalePrice      0.000000\n",
              "dtype: float64"
            ]
          },
          "metadata": {
            "tags": []
          },
          "execution_count": 7
        }
      ]
    },
    {
      "cell_type": "code",
      "metadata": {
        "id": "7jlQqoxMhQvI",
        "outputId": "ed1dad25-5fc9-4304-d428-84bf0a57c613",
        "colab": {
          "base_uri": "https://localhost:8080/"
        }
      },
      "source": [
        "# separar datos en segmentos entrenamiento y prueba\n",
        "\n",
        "# primero, separemos el target (SalePrice) del resto de las variables\n",
        "#Separamos los datos dado que la función solo debe de aprender del train set\n",
        "cols_to_use.remove('SalePrice')\n",
        "\n",
        "X_train, X_test, y_train, y_test = train_test_split(data[cols_to_use],\n",
        "                                                    data['SalePrice'],\n",
        "                                                    test_size=0.3,\n",
        "                                                    random_state=0)\n",
        "X_train.shape, X_test.shape"
      ],
      "execution_count": 8,
      "outputs": [
        {
          "output_type": "execute_result",
          "data": {
            "text/plain": [
              "((1022, 5), (438, 5))"
            ]
          },
          "metadata": {
            "tags": []
          },
          "execution_count": 8
        }
      ]
    },
    {
      "cell_type": "markdown",
      "metadata": {
        "id": "Q9QaB4SfhQvM"
      },
      "source": [
        "## Feature-engine captura las variables categóricas automáticamente"
      ]
    },
    {
      "cell_type": "code",
      "metadata": {
        "id": "cIxKHMG0hQvN"
      },
      "source": [
        "# llamemos el imputer de feature-engine\n",
        "# no necesitamos especificar nada\n",
        "\n",
        "imputer = mdi.CategoricalVariableImputer()"
      ],
      "execution_count": 9,
      "outputs": []
    },
    {
      "cell_type": "code",
      "metadata": {
        "id": "E-uF1-5nhQvQ",
        "outputId": "2d93bc42-ccb0-454d-aa40-a5f2dc9eb1a8",
        "colab": {
          "base_uri": "https://localhost:8080/"
        }
      },
      "source": [
        "# ajustamos el imputer\n",
        "#Podemos ver que por default CategoricalVariableImputer() tiene como parametro method='missing'\n",
        "imputer.fit(X_train)"
      ],
      "execution_count": 10,
      "outputs": [
        {
          "output_type": "execute_result",
          "data": {
            "text/plain": [
              "CategoricalVariableImputer(fill_value='Missing', imputation_method='missing',\n",
              "                           return_object=False,\n",
              "                           variables=['BsmtQual', 'FireplaceQu'])"
            ]
          },
          "metadata": {
            "tags": []
          },
          "execution_count": 10
        }
      ]
    },
    {
      "cell_type": "code",
      "metadata": {
        "id": "dKywLewUhQvS",
        "outputId": "acc4640f-1c17-4f46-b21e-2504781a446e",
        "colab": {
          "base_uri": "https://localhost:8080/"
        }
      },
      "source": [
        "# vemos que el imputer encontró las variables categóricas \n",
        "# automáticamente\n",
        "\n",
        "imputer.variables"
      ],
      "execution_count": 11,
      "outputs": [
        {
          "output_type": "execute_result",
          "data": {
            "text/plain": [
              "['BsmtQual', 'FireplaceQu']"
            ]
          },
          "metadata": {
            "tags": []
          },
          "execution_count": 11
        }
      ]
    },
    {
      "cell_type": "markdown",
      "metadata": {
        "id": "6Lr2FG5uhQvV"
      },
      "source": [
        "**Este imputer reemplaza la categoría ausente con una etiqueta adicional \"Missing\"**"
      ]
    },
    {
      "cell_type": "code",
      "metadata": {
        "id": "wgkNBGqChQvV",
        "outputId": "c8a2bd9d-1846-42b2-f069-5e17f42c1c94",
        "colab": {
          "base_uri": "https://localhost:8080/",
          "height": 204
        }
      },
      "source": [
        "# feature engine retorna un dataframe\n",
        "\n",
        "tmp = imputer.transform(X_train)\n",
        "tmp.head()"
      ],
      "execution_count": 12,
      "outputs": [
        {
          "output_type": "execute_result",
          "data": {
            "text/html": [
              "<div>\n",
              "<style scoped>\n",
              "    .dataframe tbody tr th:only-of-type {\n",
              "        vertical-align: middle;\n",
              "    }\n",
              "\n",
              "    .dataframe tbody tr th {\n",
              "        vertical-align: top;\n",
              "    }\n",
              "\n",
              "    .dataframe thead th {\n",
              "        text-align: right;\n",
              "    }\n",
              "</style>\n",
              "<table border=\"1\" class=\"dataframe\">\n",
              "  <thead>\n",
              "    <tr style=\"text-align: right;\">\n",
              "      <th></th>\n",
              "      <th>BsmtQual</th>\n",
              "      <th>FireplaceQu</th>\n",
              "      <th>LotFrontage</th>\n",
              "      <th>MasVnrArea</th>\n",
              "      <th>GarageYrBlt</th>\n",
              "    </tr>\n",
              "  </thead>\n",
              "  <tbody>\n",
              "    <tr>\n",
              "      <th>64</th>\n",
              "      <td>Gd</td>\n",
              "      <td>Missing</td>\n",
              "      <td>NaN</td>\n",
              "      <td>573.0</td>\n",
              "      <td>1998.0</td>\n",
              "    </tr>\n",
              "    <tr>\n",
              "      <th>682</th>\n",
              "      <td>Gd</td>\n",
              "      <td>Gd</td>\n",
              "      <td>NaN</td>\n",
              "      <td>0.0</td>\n",
              "      <td>1996.0</td>\n",
              "    </tr>\n",
              "    <tr>\n",
              "      <th>960</th>\n",
              "      <td>TA</td>\n",
              "      <td>Missing</td>\n",
              "      <td>50.0</td>\n",
              "      <td>0.0</td>\n",
              "      <td>NaN</td>\n",
              "    </tr>\n",
              "    <tr>\n",
              "      <th>1384</th>\n",
              "      <td>TA</td>\n",
              "      <td>Missing</td>\n",
              "      <td>60.0</td>\n",
              "      <td>0.0</td>\n",
              "      <td>1939.0</td>\n",
              "    </tr>\n",
              "    <tr>\n",
              "      <th>1100</th>\n",
              "      <td>TA</td>\n",
              "      <td>Missing</td>\n",
              "      <td>60.0</td>\n",
              "      <td>0.0</td>\n",
              "      <td>1930.0</td>\n",
              "    </tr>\n",
              "  </tbody>\n",
              "</table>\n",
              "</div>"
            ],
            "text/plain": [
              "     BsmtQual FireplaceQu  LotFrontage  MasVnrArea  GarageYrBlt\n",
              "64         Gd     Missing          NaN       573.0       1998.0\n",
              "682        Gd          Gd          NaN         0.0       1996.0\n",
              "960        TA     Missing         50.0         0.0          NaN\n",
              "1384       TA     Missing         60.0         0.0       1939.0\n",
              "1100       TA     Missing         60.0         0.0       1930.0"
            ]
          },
          "metadata": {
            "tags": []
          },
          "execution_count": 12
        }
      ]
    },
    {
      "cell_type": "code",
      "metadata": {
        "id": "aDm3DzClhQvY",
        "outputId": "af9be933-536a-4027-a279-01124f015762",
        "colab": {
          "base_uri": "https://localhost:8080/"
        }
      },
      "source": [
        "# revisemos que los valores nulos ya no existen\n",
        "\n",
        "tmp[imputer.variables].isnull().mean()"
      ],
      "execution_count": 13,
      "outputs": [
        {
          "output_type": "execute_result",
          "data": {
            "text/plain": [
              "BsmtQual       0.0\n",
              "FireplaceQu    0.0\n",
              "dtype: float64"
            ]
          },
          "metadata": {
            "tags": []
          },
          "execution_count": 13
        }
      ]
    },
    {
      "cell_type": "markdown",
      "metadata": {
        "id": "wciSDn8NhQva"
      },
      "source": [
        "## Feature-engine te permite especificar grupos de variables fácilmente"
      ]
    },
    {
      "cell_type": "code",
      "metadata": {
        "id": "5-J4INFIhQva",
        "outputId": "df145989-9611-4c73-8d72-648be308806f",
        "colab": {
          "base_uri": "https://localhost:8080/"
        }
      },
      "source": [
        "# usemos la sustitución pero esta vez solo \n",
        "# imputemos una variable\n",
        "\n",
        "imputer = mdi.CategoricalVariableImputer(variables=['BsmtQual'])\n",
        "\n",
        "imputer.fit(X_train)"
      ],
      "execution_count": 14,
      "outputs": [
        {
          "output_type": "execute_result",
          "data": {
            "text/plain": [
              "CategoricalVariableImputer(fill_value='Missing', imputation_method='missing',\n",
              "                           return_object=False, variables=['BsmtQual'])"
            ]
          },
          "metadata": {
            "tags": []
          },
          "execution_count": 14
        }
      ]
    },
    {
      "cell_type": "code",
      "metadata": {
        "id": "Q2lAPhlihQve",
        "outputId": "e656cb48-7d7d-4b26-d17d-963042e08e51",
        "colab": {
          "base_uri": "https://localhost:8080/"
        }
      },
      "source": [
        "# ahora el imputer solo tiene la variable indicada\n",
        "\n",
        "imputer.variables"
      ],
      "execution_count": 15,
      "outputs": [
        {
          "output_type": "execute_result",
          "data": {
            "text/plain": [
              "['BsmtQual']"
            ]
          },
          "metadata": {
            "tags": []
          },
          "execution_count": 15
        }
      ]
    },
    {
      "cell_type": "code",
      "metadata": {
        "id": "KDuJhRYEhQvg",
        "outputId": "f5dde576-36ec-46e4-c7f6-c6b0df2b9fbe",
        "colab": {
          "base_uri": "https://localhost:8080/"
        }
      },
      "source": [
        "# feature-engine devuelve un dataframe\n",
        "# al imputar la variable:\n",
        "\n",
        "tmp = imputer.transform(X_train)\n",
        "\n",
        "\n",
        "# revisemos que la variable indicada ya no tiene valores nulos\n",
        "tmp[imputer.variables].isnull().mean()"
      ],
      "execution_count": 16,
      "outputs": [
        {
          "output_type": "execute_result",
          "data": {
            "text/plain": [
              "BsmtQual    0.0\n",
              "dtype: float64"
            ]
          },
          "metadata": {
            "tags": []
          },
          "execution_count": 16
        }
      ]
    },
    {
      "cell_type": "markdown",
      "metadata": {
        "scrolled": true,
        "id": "zvN5qDeQhQvi"
      },
      "source": [
        "## Feature-engine puede ser usado con los flujos de Scikit-learn (pipeline)"
      ]
    },
    {
      "cell_type": "code",
      "metadata": {
        "id": "6PeysHjYhQvj",
        "outputId": "522f89a9-2480-4864-b128-b8bfe55e6984",
        "colab": {
          "base_uri": "https://localhost:8080/"
        }
      },
      "source": [
        "# revisemos los valores nulos\n",
        "\n",
        "X_train.isnull().mean().sort_values(ascending=False)"
      ],
      "execution_count": 18,
      "outputs": [
        {
          "output_type": "execute_result",
          "data": {
            "text/plain": [
              "FireplaceQu    0.467710\n",
              "LotFrontage    0.184932\n",
              "GarageYrBlt    0.052838\n",
              "BsmtQual       0.023483\n",
              "MasVnrArea     0.004892\n",
              "dtype: float64"
            ]
          },
          "metadata": {
            "tags": []
          },
          "execution_count": 18
        }
      ]
    },
    {
      "cell_type": "markdown",
      "metadata": {
        "id": "JzkUn0xhhQvl"
      },
      "source": [
        "Vamos a realizar las siguientes imputaciones\n",
        "\n",
        "- BsmtQual ==> categoría frecuente\n",
        "- FirePlaceQu ==> etiqueta missing"
      ]
    },
    {
      "cell_type": "code",
      "metadata": {
        "id": "vI67MTGMhQvm"
      },
      "source": [
        "#Indicamos en el pipeline que el metodo es imputation_method='frequent' para la variable 'BsmtQual'\n",
        "#Indicamos en el pipeline que el metodo es imputation_method='imputer_missing' para la variable 'FireplaceQu'\n",
        "\n",
        "pipe = Pipeline([\n",
        "    ('imputer_mode', mdi.CategoricalVariableImputer(imputation_method='frequent', variables=['BsmtQual'])),\n",
        "    ('imputer_missing', mdi.CategoricalVariableImputer(variables=['FireplaceQu'])),\n",
        "])"
      ],
      "execution_count": 19,
      "outputs": []
    },
    {
      "cell_type": "code",
      "metadata": {
        "id": "Xz6fwdFShQvp",
        "outputId": "288213f8-64f4-44f5-9760-4d59e80e6cfd",
        "colab": {
          "base_uri": "https://localhost:8080/"
        }
      },
      "source": [
        "pipe.fit(X_train)"
      ],
      "execution_count": 20,
      "outputs": [
        {
          "output_type": "execute_result",
          "data": {
            "text/plain": [
              "Pipeline(memory=None,\n",
              "         steps=[('imputer_mode',\n",
              "                 CategoricalVariableImputer(fill_value='Missing',\n",
              "                                            imputation_method='frequent',\n",
              "                                            return_object=False,\n",
              "                                            variables=['BsmtQual'])),\n",
              "                ('imputer_missing',\n",
              "                 CategoricalVariableImputer(fill_value='Missing',\n",
              "                                            imputation_method='missing',\n",
              "                                            return_object=False,\n",
              "                                            variables=['FireplaceQu']))],\n",
              "         verbose=False)"
            ]
          },
          "metadata": {
            "tags": []
          },
          "execution_count": 20
        }
      ]
    },
    {
      "cell_type": "code",
      "metadata": {
        "id": "XLo96ctOhQvr",
        "outputId": "a2948810-d9eb-4e21-c6b8-972fe99005d6",
        "colab": {
          "base_uri": "https://localhost:8080/"
        }
      },
      "source": [
        "pipe.named_steps['imputer_mode'].variables"
      ],
      "execution_count": 21,
      "outputs": [
        {
          "output_type": "execute_result",
          "data": {
            "text/plain": [
              "['BsmtQual']"
            ]
          },
          "metadata": {
            "tags": []
          },
          "execution_count": 21
        }
      ]
    },
    {
      "cell_type": "code",
      "metadata": {
        "scrolled": true,
        "id": "xSu6eFLzhQvt",
        "outputId": "e51a6e94-03c4-42fa-9b36-68b6f66034c6",
        "colab": {
          "base_uri": "https://localhost:8080/"
        }
      },
      "source": [
        "pipe.named_steps['imputer_missing'].variables"
      ],
      "execution_count": 22,
      "outputs": [
        {
          "output_type": "execute_result",
          "data": {
            "text/plain": [
              "['FireplaceQu']"
            ]
          },
          "metadata": {
            "tags": []
          },
          "execution_count": 22
        }
      ]
    },
    {
      "cell_type": "code",
      "metadata": {
        "id": "w_YvuLoXhQvw",
        "outputId": "0fee7568-5128-4eee-9859-e38f381d619f",
        "colab": {
          "base_uri": "https://localhost:8080/"
        }
      },
      "source": [
        "# transformemos los datos con la pipeline\n",
        "tmp = pipe.transform(X_train)\n",
        "\n",
        "# revisemos que ya no tenemos valores nulos\n",
        "tmp.isnull().mean()"
      ],
      "execution_count": 23,
      "outputs": [
        {
          "output_type": "execute_result",
          "data": {
            "text/plain": [
              "BsmtQual       0.000000\n",
              "FireplaceQu    0.000000\n",
              "LotFrontage    0.184932\n",
              "MasVnrArea     0.004892\n",
              "GarageYrBlt    0.052838\n",
              "dtype: float64"
            ]
          },
          "metadata": {
            "tags": []
          },
          "execution_count": 23
        }
      ]
    },
    {
      "cell_type": "code",
      "metadata": {
        "id": "xp9AHMAGloOa"
      },
      "source": [
        ""
      ],
      "execution_count": null,
      "outputs": []
    }
  ]
}