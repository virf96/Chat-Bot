{
  "nbformat": 4,
  "nbformat_minor": 0,
  "metadata": {
    "kernelspec": {
      "display_name": "feml",
      "language": "python",
      "name": "feml"
    },
    "language_info": {
      "codemirror_mode": {
        "name": "ipython",
        "version": 3
      },
      "file_extension": ".py",
      "mimetype": "text/x-python",
      "name": "python",
      "nbconvert_exporter": "python",
      "pygments_lexer": "ipython3",
      "version": "3.7.3"
    },
    "toc": {
      "nav_menu": {},
      "number_sections": true,
      "sideBar": true,
      "skip_h1_title": false,
      "toc_cell": false,
      "toc_position": {},
      "toc_section_display": true,
      "toc_window_display": true
    },
    "colab": {
      "name": "DatosFaltantes_IndicadorAusencia_Sklearn.ipynb",
      "provenance": [],
      "include_colab_link": true
    }
  },
  "cells": [
    {
      "cell_type": "markdown",
      "metadata": {
        "id": "view-in-github",
        "colab_type": "text"
      },
      "source": [
        "<a href=\"https://colab.research.google.com/github/virf96/Chat-Bot/blob/master/DatosFaltantes_IndicadorAusencia_Sklearn.ipynb\" target=\"_parent\"><img src=\"https://colab.research.google.com/assets/colab-badge.svg\" alt=\"Open In Colab\"/></a>"
      ]
    },
    {
      "cell_type": "markdown",
      "metadata": {
        "id": "MSlxWtyxmBE2"
      },
      "source": [
        "## Agregar un Indicador de ausencia con Scikit-learn ==> MissingIndicator\n",
        "\n",
        "Scikit-learn tiene una clase **MissingIndicator** para añadir una variable binaria que marque los valores ausentes.\n",
        "\n",
        "MissingIndicator tiene la opción de añadir un indicador binario (variable) para cada variable en un conjunto de datos o solamente para aquellas que tienen NA en el segmento de entrenamiento.\n",
        "\n",
        "### Atención!\n",
        "\n",
        "El transformer solo devuelve las variables binarias, que luego deben ser añadidas a los datos originales de entrenamiento.\n",
        "\n",
        "### Más detalles acerca de los transformadores\n",
        "\n",
        "- [MissingIndicaror](https://scikit-learn.org/stable/modules/generated/sklearn.impute.MissingIndicator.html#sklearn.impute.MissingIndicator)\n",
        "\n",
        "## En este demo:\n",
        "\n",
        "Vamos a añadir un Indicador de ausencia (Missing Indicator) para las variables en el Ames House Price Dataset\n",
        "\n",
        "- Para bajar los datos, por favor referirse a la clase **Datasets** en la  **Sección 1** del curso."
      ]
    },
    {
      "cell_type": "code",
      "metadata": {
        "id": "fRu_5efwmBE3"
      },
      "source": [
        "import pandas as pd\n",
        "import numpy as np\n",
        "\n",
        "import matplotlib.pyplot as plt\n",
        "\n",
        "# estas son las clases para sustitutición con sklearn\n",
        "from sklearn.impute import SimpleImputer, MissingIndicator\n",
        "from sklearn.pipeline import Pipeline\n",
        "\n",
        "# separar segmentos prueba/entrenamiento\n",
        "from sklearn.model_selection import train_test_split"
      ],
      "execution_count": null,
      "outputs": []
    },
    {
      "cell_type": "code",
      "metadata": {
        "id": "O9u5MioGmBE6"
      },
      "source": [
        "# solo usaremos las siguientes variables categóricas en el demo:\n",
        "\n",
        "# una mezcla de variables categóricas y numéricas\n",
        "\n",
        "cols_to_use = ['BsmtQual', 'FireplaceQu', 'MSZoning',\n",
        "               'BsmtUnfSF', 'LotFrontage', 'MasVnrArea',\n",
        "               'Street', 'Alley', 'SalePrice']"
      ],
      "execution_count": null,
      "outputs": []
    },
    {
      "cell_type": "code",
      "metadata": {
        "id": "p01tunI2mBE9",
        "outputId": "92d69b2e-52b6-4906-bf8b-36c8fa67aac0"
      },
      "source": [
        "# carguemos los datos \n",
        "data = pd.read_csv('../houseprice.csv', usecols=cols_to_use)\n",
        "print(data.shape)\n",
        "data.head()"
      ],
      "execution_count": null,
      "outputs": [
        {
          "output_type": "stream",
          "text": [
            "(1460, 9)\n"
          ],
          "name": "stdout"
        },
        {
          "output_type": "execute_result",
          "data": {
            "text/html": [
              "<div>\n",
              "<style scoped>\n",
              "    .dataframe tbody tr th:only-of-type {\n",
              "        vertical-align: middle;\n",
              "    }\n",
              "\n",
              "    .dataframe tbody tr th {\n",
              "        vertical-align: top;\n",
              "    }\n",
              "\n",
              "    .dataframe thead th {\n",
              "        text-align: right;\n",
              "    }\n",
              "</style>\n",
              "<table border=\"1\" class=\"dataframe\">\n",
              "  <thead>\n",
              "    <tr style=\"text-align: right;\">\n",
              "      <th></th>\n",
              "      <th>MSZoning</th>\n",
              "      <th>LotFrontage</th>\n",
              "      <th>Street</th>\n",
              "      <th>Alley</th>\n",
              "      <th>MasVnrArea</th>\n",
              "      <th>BsmtQual</th>\n",
              "      <th>BsmtUnfSF</th>\n",
              "      <th>FireplaceQu</th>\n",
              "      <th>SalePrice</th>\n",
              "    </tr>\n",
              "  </thead>\n",
              "  <tbody>\n",
              "    <tr>\n",
              "      <td>0</td>\n",
              "      <td>RL</td>\n",
              "      <td>65.0</td>\n",
              "      <td>Pave</td>\n",
              "      <td>NaN</td>\n",
              "      <td>196.0</td>\n",
              "      <td>Gd</td>\n",
              "      <td>150</td>\n",
              "      <td>NaN</td>\n",
              "      <td>208500</td>\n",
              "    </tr>\n",
              "    <tr>\n",
              "      <td>1</td>\n",
              "      <td>RL</td>\n",
              "      <td>80.0</td>\n",
              "      <td>Pave</td>\n",
              "      <td>NaN</td>\n",
              "      <td>0.0</td>\n",
              "      <td>Gd</td>\n",
              "      <td>284</td>\n",
              "      <td>TA</td>\n",
              "      <td>181500</td>\n",
              "    </tr>\n",
              "    <tr>\n",
              "      <td>2</td>\n",
              "      <td>RL</td>\n",
              "      <td>68.0</td>\n",
              "      <td>Pave</td>\n",
              "      <td>NaN</td>\n",
              "      <td>162.0</td>\n",
              "      <td>Gd</td>\n",
              "      <td>434</td>\n",
              "      <td>TA</td>\n",
              "      <td>223500</td>\n",
              "    </tr>\n",
              "    <tr>\n",
              "      <td>3</td>\n",
              "      <td>RL</td>\n",
              "      <td>60.0</td>\n",
              "      <td>Pave</td>\n",
              "      <td>NaN</td>\n",
              "      <td>0.0</td>\n",
              "      <td>TA</td>\n",
              "      <td>540</td>\n",
              "      <td>Gd</td>\n",
              "      <td>140000</td>\n",
              "    </tr>\n",
              "    <tr>\n",
              "      <td>4</td>\n",
              "      <td>RL</td>\n",
              "      <td>84.0</td>\n",
              "      <td>Pave</td>\n",
              "      <td>NaN</td>\n",
              "      <td>350.0</td>\n",
              "      <td>Gd</td>\n",
              "      <td>490</td>\n",
              "      <td>TA</td>\n",
              "      <td>250000</td>\n",
              "    </tr>\n",
              "  </tbody>\n",
              "</table>\n",
              "</div>"
            ],
            "text/plain": [
              "  MSZoning  LotFrontage Street Alley  MasVnrArea BsmtQual  BsmtUnfSF  \\\n",
              "0       RL         65.0   Pave   NaN       196.0       Gd        150   \n",
              "1       RL         80.0   Pave   NaN         0.0       Gd        284   \n",
              "2       RL         68.0   Pave   NaN       162.0       Gd        434   \n",
              "3       RL         60.0   Pave   NaN         0.0       TA        540   \n",
              "4       RL         84.0   Pave   NaN       350.0       Gd        490   \n",
              "\n",
              "  FireplaceQu  SalePrice  \n",
              "0         NaN     208500  \n",
              "1          TA     181500  \n",
              "2          TA     223500  \n",
              "3          Gd     140000  \n",
              "4          TA     250000  "
            ]
          },
          "metadata": {
            "tags": []
          },
          "execution_count": 3
        }
      ]
    },
    {
      "cell_type": "code",
      "metadata": {
        "id": "JL18WIlJmBFA",
        "outputId": "bee07002-faec-47e8-fb45-498a340de2ec"
      },
      "source": [
        "# revisemos los valores nulos\n",
        "data.isnull().mean()"
      ],
      "execution_count": null,
      "outputs": [
        {
          "output_type": "execute_result",
          "data": {
            "text/plain": [
              "MSZoning       0.000000\n",
              "LotFrontage    0.177397\n",
              "Street         0.000000\n",
              "Alley          0.937671\n",
              "MasVnrArea     0.005479\n",
              "BsmtQual       0.025342\n",
              "BsmtUnfSF      0.000000\n",
              "FireplaceQu    0.472603\n",
              "SalePrice      0.000000\n",
              "dtype: float64"
            ]
          },
          "metadata": {
            "tags": []
          },
          "execution_count": 4
        }
      ]
    },
    {
      "cell_type": "code",
      "metadata": {
        "id": "TWO9K5_BmBFD",
        "outputId": "a3af0b30-80c6-4353-8208-ee78fd18f808"
      },
      "source": [
        "# separar datos en segmentos entrenamiento y prueba\n",
        "\n",
        "# primero, separemos el target (SalePrice) del resto de las variables (features)\n",
        "\n",
        "cols_to_use.remove('SalePrice')\n",
        "\n",
        "X_train, X_test, y_train, y_test = train_test_split(data[cols_to_use], # solo las variables\n",
        "                                                    data['SalePrice'], # el target\n",
        "                                                    test_size=0.3, # el porcentaje de obs en el segmento de prueba\n",
        "                                                    random_state=0) # para reproducir\n",
        "X_train.shape, X_test.shape"
      ],
      "execution_count": null,
      "outputs": [
        {
          "output_type": "execute_result",
          "data": {
            "text/plain": [
              "((1022, 8), (438, 8))"
            ]
          },
          "metadata": {
            "tags": []
          },
          "execution_count": 5
        }
      ]
    },
    {
      "cell_type": "code",
      "metadata": {
        "id": "kKASxQYCmBFF",
        "outputId": "7322026b-e9ab-4855-c3d5-9ba3d7553ce1"
      },
      "source": [
        "# evaluemos el porcentaje de datos ausentes nuevamente\n",
        "X_train.isnull().mean()"
      ],
      "execution_count": null,
      "outputs": [
        {
          "output_type": "execute_result",
          "data": {
            "text/plain": [
              "BsmtQual       0.023483\n",
              "FireplaceQu    0.467710\n",
              "MSZoning       0.000000\n",
              "BsmtUnfSF      0.000000\n",
              "LotFrontage    0.184932\n",
              "MasVnrArea     0.004892\n",
              "Street         0.000000\n",
              "Alley          0.939335\n",
              "dtype: float64"
            ]
          },
          "metadata": {
            "tags": []
          },
          "execution_count": 6
        }
      ]
    },
    {
      "cell_type": "markdown",
      "metadata": {
        "id": "1H_zE9eAmBFH"
      },
      "source": [
        "## Añadir un Indicador  de Ausencia (Missing Indicator)"
      ]
    },
    {
      "cell_type": "code",
      "metadata": {
        "id": "Ur_8UaszmBFI",
        "outputId": "ae1d5d19-5afa-4f3a-c07b-d2b8a09e7661"
      },
      "source": [
        "indicator = MissingIndicator(error_on_new=True, features='missing-only')\n",
        "indicator.fit(X_train)  "
      ],
      "execution_count": null,
      "outputs": [
        {
          "output_type": "execute_result",
          "data": {
            "text/plain": [
              "MissingIndicator(error_on_new=True, features='missing-only', missing_values=nan,\n",
              "                 sparse='auto')"
            ]
          },
          "metadata": {
            "tags": []
          },
          "execution_count": 7
        }
      ]
    },
    {
      "cell_type": "code",
      "metadata": {
        "id": "fUb51xZSmBFL",
        "outputId": "f61a9680-98ac-493a-df70-402f9bc32c43"
      },
      "source": [
        "# podemos ver las variables con valores nulos na:\n",
        "# el resultado muestra el índice (index)\n",
        "\n",
        "indicator.features_"
      ],
      "execution_count": null,
      "outputs": [
        {
          "output_type": "execute_result",
          "data": {
            "text/plain": [
              "array([0, 1, 4, 5, 7], dtype=int64)"
            ]
          },
          "metadata": {
            "tags": []
          },
          "execution_count": 8
        }
      ]
    },
    {
      "cell_type": "code",
      "metadata": {
        "id": "yKldFwEcmBFO",
        "outputId": "3d756aec-ed1d-4d9c-dc0a-2dbabe85e18b"
      },
      "source": [
        "# podemos encontrar el nombre de las variables pasando el índice \n",
        "# a la lista de columnas\n",
        "X_train.columns[indicator.features_]"
      ],
      "execution_count": null,
      "outputs": [
        {
          "output_type": "execute_result",
          "data": {
            "text/plain": [
              "Index(['BsmtQual', 'FireplaceQu', 'LotFrontage', 'MasVnrArea', 'Alley'], dtype='object')"
            ]
          },
          "metadata": {
            "tags": []
          },
          "execution_count": 9
        }
      ]
    },
    {
      "cell_type": "code",
      "metadata": {
        "id": "OqH5VhGnmBFQ",
        "outputId": "dc7ae650-5ab2-4700-d187-36e686245ccc"
      },
      "source": [
        "# el 'indicator' devuelve solamente los indicadores adicionales\n",
        "# cuando tranformamos los datos\n",
        "\n",
        "tmp = indicator.transform(X_train)\n",
        "\n",
        "tmp"
      ],
      "execution_count": null,
      "outputs": [
        {
          "output_type": "execute_result",
          "data": {
            "text/plain": [
              "array([[False,  True,  True, False,  True],\n",
              "       [False, False,  True, False,  True],\n",
              "       [False,  True, False, False,  True],\n",
              "       ...,\n",
              "       [ True,  True, False, False,  True],\n",
              "       [False, False,  True, False,  True],\n",
              "       [False,  True, False, False,  True]])"
            ]
          },
          "metadata": {
            "tags": []
          },
          "execution_count": 10
        }
      ]
    },
    {
      "cell_type": "code",
      "metadata": {
        "id": "st1OzHGFmBFS",
        "outputId": "99b0b9fa-f3ba-48b2-9578-83da7f175922"
      },
      "source": [
        "# ahora necesitamos unirlo manualmente al segmento X_train\n",
        "\n",
        "# creemos una columna por cada uno de los nuevos indicadores MissingIndicators\n",
        "indicator_cols = [c+'_NA' for c in X_train.columns[indicator.features_]]\n",
        "\n",
        "# y ahora concatenamos\n",
        "X_train = pd.concat([\n",
        "    X_train.reset_index(),\n",
        "    pd.DataFrame(tmp, columns = indicator_cols)],\n",
        "    axis=1)\n",
        "\n",
        "X_train.head()"
      ],
      "execution_count": null,
      "outputs": [
        {
          "output_type": "execute_result",
          "data": {
            "text/html": [
              "<div>\n",
              "<style scoped>\n",
              "    .dataframe tbody tr th:only-of-type {\n",
              "        vertical-align: middle;\n",
              "    }\n",
              "\n",
              "    .dataframe tbody tr th {\n",
              "        vertical-align: top;\n",
              "    }\n",
              "\n",
              "    .dataframe thead th {\n",
              "        text-align: right;\n",
              "    }\n",
              "</style>\n",
              "<table border=\"1\" class=\"dataframe\">\n",
              "  <thead>\n",
              "    <tr style=\"text-align: right;\">\n",
              "      <th></th>\n",
              "      <th>index</th>\n",
              "      <th>BsmtQual</th>\n",
              "      <th>FireplaceQu</th>\n",
              "      <th>MSZoning</th>\n",
              "      <th>BsmtUnfSF</th>\n",
              "      <th>LotFrontage</th>\n",
              "      <th>MasVnrArea</th>\n",
              "      <th>Street</th>\n",
              "      <th>Alley</th>\n",
              "      <th>BsmtQual_NA</th>\n",
              "      <th>FireplaceQu_NA</th>\n",
              "      <th>LotFrontage_NA</th>\n",
              "      <th>MasVnrArea_NA</th>\n",
              "      <th>Alley_NA</th>\n",
              "    </tr>\n",
              "  </thead>\n",
              "  <tbody>\n",
              "    <tr>\n",
              "      <td>0</td>\n",
              "      <td>64</td>\n",
              "      <td>Gd</td>\n",
              "      <td>NaN</td>\n",
              "      <td>RL</td>\n",
              "      <td>318</td>\n",
              "      <td>NaN</td>\n",
              "      <td>573.0</td>\n",
              "      <td>Pave</td>\n",
              "      <td>NaN</td>\n",
              "      <td>False</td>\n",
              "      <td>True</td>\n",
              "      <td>True</td>\n",
              "      <td>False</td>\n",
              "      <td>True</td>\n",
              "    </tr>\n",
              "    <tr>\n",
              "      <td>1</td>\n",
              "      <td>682</td>\n",
              "      <td>Gd</td>\n",
              "      <td>Gd</td>\n",
              "      <td>RL</td>\n",
              "      <td>288</td>\n",
              "      <td>NaN</td>\n",
              "      <td>0.0</td>\n",
              "      <td>Pave</td>\n",
              "      <td>NaN</td>\n",
              "      <td>False</td>\n",
              "      <td>False</td>\n",
              "      <td>True</td>\n",
              "      <td>False</td>\n",
              "      <td>True</td>\n",
              "    </tr>\n",
              "    <tr>\n",
              "      <td>2</td>\n",
              "      <td>960</td>\n",
              "      <td>TA</td>\n",
              "      <td>NaN</td>\n",
              "      <td>RL</td>\n",
              "      <td>162</td>\n",
              "      <td>50.0</td>\n",
              "      <td>0.0</td>\n",
              "      <td>Pave</td>\n",
              "      <td>NaN</td>\n",
              "      <td>False</td>\n",
              "      <td>True</td>\n",
              "      <td>False</td>\n",
              "      <td>False</td>\n",
              "      <td>True</td>\n",
              "    </tr>\n",
              "    <tr>\n",
              "      <td>3</td>\n",
              "      <td>1384</td>\n",
              "      <td>TA</td>\n",
              "      <td>NaN</td>\n",
              "      <td>RL</td>\n",
              "      <td>356</td>\n",
              "      <td>60.0</td>\n",
              "      <td>0.0</td>\n",
              "      <td>Pave</td>\n",
              "      <td>NaN</td>\n",
              "      <td>False</td>\n",
              "      <td>True</td>\n",
              "      <td>False</td>\n",
              "      <td>False</td>\n",
              "      <td>True</td>\n",
              "    </tr>\n",
              "    <tr>\n",
              "      <td>4</td>\n",
              "      <td>1100</td>\n",
              "      <td>TA</td>\n",
              "      <td>NaN</td>\n",
              "      <td>RL</td>\n",
              "      <td>0</td>\n",
              "      <td>60.0</td>\n",
              "      <td>0.0</td>\n",
              "      <td>Pave</td>\n",
              "      <td>NaN</td>\n",
              "      <td>False</td>\n",
              "      <td>True</td>\n",
              "      <td>False</td>\n",
              "      <td>False</td>\n",
              "      <td>True</td>\n",
              "    </tr>\n",
              "  </tbody>\n",
              "</table>\n",
              "</div>"
            ],
            "text/plain": [
              "   index BsmtQual FireplaceQu MSZoning  BsmtUnfSF  LotFrontage  MasVnrArea  \\\n",
              "0     64       Gd         NaN       RL        318          NaN       573.0   \n",
              "1    682       Gd          Gd       RL        288          NaN         0.0   \n",
              "2    960       TA         NaN       RL        162         50.0         0.0   \n",
              "3   1384       TA         NaN       RL        356         60.0         0.0   \n",
              "4   1100       TA         NaN       RL          0         60.0         0.0   \n",
              "\n",
              "  Street Alley  BsmtQual_NA  FireplaceQu_NA  LotFrontage_NA  MasVnrArea_NA  \\\n",
              "0   Pave   NaN        False            True            True          False   \n",
              "1   Pave   NaN        False           False            True          False   \n",
              "2   Pave   NaN        False            True           False          False   \n",
              "3   Pave   NaN        False            True           False          False   \n",
              "4   Pave   NaN        False            True           False          False   \n",
              "\n",
              "   Alley_NA  \n",
              "0      True  \n",
              "1      True  \n",
              "2      True  \n",
              "3      True  \n",
              "4      True  "
            ]
          },
          "metadata": {
            "tags": []
          },
          "execution_count": 11
        }
      ]
    },
    {
      "cell_type": "code",
      "metadata": {
        "id": "CkeD3zEomBFV",
        "outputId": "c272caa5-9dc8-4163-97f2-ec3b61595b93"
      },
      "source": [
        "# repetimos para el segmento de prueba\n",
        "tmp = indicator.transform(X_test)\n",
        "\n",
        "X_test = pd.concat([\n",
        "    X_test.reset_index(),\n",
        "    pd.DataFrame(tmp, columns = indicator_cols)],\n",
        "    axis=1)\n",
        "\n",
        "X_test.head()"
      ],
      "execution_count": null,
      "outputs": [
        {
          "output_type": "execute_result",
          "data": {
            "text/html": [
              "<div>\n",
              "<style scoped>\n",
              "    .dataframe tbody tr th:only-of-type {\n",
              "        vertical-align: middle;\n",
              "    }\n",
              "\n",
              "    .dataframe tbody tr th {\n",
              "        vertical-align: top;\n",
              "    }\n",
              "\n",
              "    .dataframe thead th {\n",
              "        text-align: right;\n",
              "    }\n",
              "</style>\n",
              "<table border=\"1\" class=\"dataframe\">\n",
              "  <thead>\n",
              "    <tr style=\"text-align: right;\">\n",
              "      <th></th>\n",
              "      <th>index</th>\n",
              "      <th>BsmtQual</th>\n",
              "      <th>FireplaceQu</th>\n",
              "      <th>MSZoning</th>\n",
              "      <th>BsmtUnfSF</th>\n",
              "      <th>LotFrontage</th>\n",
              "      <th>MasVnrArea</th>\n",
              "      <th>Street</th>\n",
              "      <th>Alley</th>\n",
              "      <th>BsmtQual_NA</th>\n",
              "      <th>FireplaceQu_NA</th>\n",
              "      <th>LotFrontage_NA</th>\n",
              "      <th>MasVnrArea_NA</th>\n",
              "      <th>Alley_NA</th>\n",
              "    </tr>\n",
              "  </thead>\n",
              "  <tbody>\n",
              "    <tr>\n",
              "      <td>0</td>\n",
              "      <td>529</td>\n",
              "      <td>TA</td>\n",
              "      <td>TA</td>\n",
              "      <td>RL</td>\n",
              "      <td>816</td>\n",
              "      <td>NaN</td>\n",
              "      <td>NaN</td>\n",
              "      <td>Pave</td>\n",
              "      <td>NaN</td>\n",
              "      <td>False</td>\n",
              "      <td>False</td>\n",
              "      <td>True</td>\n",
              "      <td>True</td>\n",
              "      <td>True</td>\n",
              "    </tr>\n",
              "    <tr>\n",
              "      <td>1</td>\n",
              "      <td>491</td>\n",
              "      <td>TA</td>\n",
              "      <td>TA</td>\n",
              "      <td>RL</td>\n",
              "      <td>238</td>\n",
              "      <td>79.0</td>\n",
              "      <td>0.0</td>\n",
              "      <td>Pave</td>\n",
              "      <td>NaN</td>\n",
              "      <td>False</td>\n",
              "      <td>False</td>\n",
              "      <td>False</td>\n",
              "      <td>False</td>\n",
              "      <td>True</td>\n",
              "    </tr>\n",
              "    <tr>\n",
              "      <td>2</td>\n",
              "      <td>459</td>\n",
              "      <td>TA</td>\n",
              "      <td>TA</td>\n",
              "      <td>RL</td>\n",
              "      <td>524</td>\n",
              "      <td>NaN</td>\n",
              "      <td>161.0</td>\n",
              "      <td>Pave</td>\n",
              "      <td>NaN</td>\n",
              "      <td>False</td>\n",
              "      <td>False</td>\n",
              "      <td>True</td>\n",
              "      <td>False</td>\n",
              "      <td>True</td>\n",
              "    </tr>\n",
              "    <tr>\n",
              "      <td>3</td>\n",
              "      <td>279</td>\n",
              "      <td>Gd</td>\n",
              "      <td>TA</td>\n",
              "      <td>RL</td>\n",
              "      <td>768</td>\n",
              "      <td>83.0</td>\n",
              "      <td>299.0</td>\n",
              "      <td>Pave</td>\n",
              "      <td>NaN</td>\n",
              "      <td>False</td>\n",
              "      <td>False</td>\n",
              "      <td>False</td>\n",
              "      <td>False</td>\n",
              "      <td>True</td>\n",
              "    </tr>\n",
              "    <tr>\n",
              "      <td>4</td>\n",
              "      <td>655</td>\n",
              "      <td>TA</td>\n",
              "      <td>NaN</td>\n",
              "      <td>RM</td>\n",
              "      <td>525</td>\n",
              "      <td>21.0</td>\n",
              "      <td>381.0</td>\n",
              "      <td>Pave</td>\n",
              "      <td>NaN</td>\n",
              "      <td>False</td>\n",
              "      <td>True</td>\n",
              "      <td>False</td>\n",
              "      <td>False</td>\n",
              "      <td>True</td>\n",
              "    </tr>\n",
              "  </tbody>\n",
              "</table>\n",
              "</div>"
            ],
            "text/plain": [
              "   index BsmtQual FireplaceQu MSZoning  BsmtUnfSF  LotFrontage  MasVnrArea  \\\n",
              "0    529       TA          TA       RL        816          NaN         NaN   \n",
              "1    491       TA          TA       RL        238         79.0         0.0   \n",
              "2    459       TA          TA       RL        524          NaN       161.0   \n",
              "3    279       Gd          TA       RL        768         83.0       299.0   \n",
              "4    655       TA         NaN       RM        525         21.0       381.0   \n",
              "\n",
              "  Street Alley  BsmtQual_NA  FireplaceQu_NA  LotFrontage_NA  MasVnrArea_NA  \\\n",
              "0   Pave   NaN        False           False            True           True   \n",
              "1   Pave   NaN        False           False           False          False   \n",
              "2   Pave   NaN        False           False            True          False   \n",
              "3   Pave   NaN        False           False           False          False   \n",
              "4   Pave   NaN        False            True           False          False   \n",
              "\n",
              "   Alley_NA  \n",
              "0      True  \n",
              "1      True  \n",
              "2      True  \n",
              "3      True  \n",
              "4      True  "
            ]
          },
          "metadata": {
            "tags": []
          },
          "execution_count": 12
        }
      ]
    },
    {
      "cell_type": "markdown",
      "metadata": {
        "id": "5XRF69mPmBFX"
      },
      "source": [
        "### SimpleImputer en un conjunto de datos diferente"
      ]
    },
    {
      "cell_type": "code",
      "metadata": {
        "id": "Q0urwBgbmBFX",
        "outputId": "7fae3824-3895-4401-c531-c1e497144180"
      },
      "source": [
        "# Ahora sustituimos los valores ausentes con el SimpleImputer\n",
        "\n",
        "# creamos una instancia del SimpleImputer\n",
        "# indicamos que queramos sustituir con la \n",
        "# categoría más frecuente\n",
        "imputer = SimpleImputer(strategy='most_frequent')\n",
        "\n",
        "# ajustamos el 'imputer' al set de entrenamiento asi aprende\n",
        "# la moda\n",
        "imputer.fit(X_train)"
      ],
      "execution_count": null,
      "outputs": [
        {
          "output_type": "execute_result",
          "data": {
            "text/plain": [
              "SimpleImputer(add_indicator=False, copy=True, fill_value=None,\n",
              "              missing_values=nan, strategy='most_frequent', verbose=0)"
            ]
          },
          "metadata": {
            "tags": []
          },
          "execution_count": 13
        }
      ]
    },
    {
      "cell_type": "code",
      "metadata": {
        "id": "exOvaxghmBFa",
        "outputId": "6a505322-a50b-4aa8-a3a4-aa8328d7e938"
      },
      "source": [
        "# podemos ver cuales fueron los valores frecuentes aprendidos:\n",
        "imputer.statistics_"
      ],
      "execution_count": null,
      "outputs": [
        {
          "output_type": "execute_result",
          "data": {
            "text/plain": [
              "array([0, 'TA', 'Gd', 'RL', 0, 60.0, 0.0, 'Pave', 'Pave', False, False,\n",
              "       False, False, True], dtype=object)"
            ]
          },
          "metadata": {
            "tags": []
          },
          "execution_count": 14
        }
      ]
    },
    {
      "cell_type": "markdown",
      "metadata": {
        "id": "FosxnMKhmBFc"
      },
      "source": [
        "**Nota** el transformer aprende cual es el valor de la categoría más frecuente para AMBAS variables las categóricas y las numéricas."
      ]
    },
    {
      "cell_type": "code",
      "metadata": {
        "id": "9OD5T0V3mBFd",
        "outputId": "6d54df3d-7f20-40e2-dcec-bf18774fcebe"
      },
      "source": [
        "# y ahora sustituimos ambos segmentos de prueba y entrenamiento\n",
        "\n",
        "# NOTA: los datos se devuelven como un numpy array!!!\n",
        "X_train = imputer.transform(X_train)\n",
        "X_test = imputer.transform(X_test)\n",
        "\n",
        "X_train"
      ],
      "execution_count": null,
      "outputs": [
        {
          "output_type": "execute_result",
          "data": {
            "text/plain": [
              "array([[64, 'Gd', 'Gd', ..., True, False, True],\n",
              "       [682, 'Gd', 'Gd', ..., True, False, True],\n",
              "       [960, 'TA', 'Gd', ..., False, False, True],\n",
              "       ...,\n",
              "       [1216, 'TA', 'Gd', ..., False, False, True],\n",
              "       [559, 'Gd', 'TA', ..., True, False, True],\n",
              "       [684, 'Gd', 'Gd', ..., False, False, True]], dtype=object)"
            ]
          },
          "metadata": {
            "tags": []
          },
          "execution_count": 15
        }
      ]
    },
    {
      "cell_type": "code",
      "metadata": {
        "id": "1GTWrFlGmBFf"
      },
      "source": [
        ""
      ],
      "execution_count": null,
      "outputs": []
    }
  ]
}