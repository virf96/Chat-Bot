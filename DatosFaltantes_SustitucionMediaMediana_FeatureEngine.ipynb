{
  "nbformat": 4,
  "nbformat_minor": 0,
  "metadata": {
    "kernelspec": {
      "display_name": "fe_test",
      "language": "python",
      "name": "fe_test"
    },
    "language_info": {
      "codemirror_mode": {
        "name": "ipython",
        "version": 3
      },
      "file_extension": ".py",
      "mimetype": "text/x-python",
      "name": "python",
      "nbconvert_exporter": "python",
      "pygments_lexer": "ipython3",
      "version": "3.8.2"
    },
    "toc": {
      "base_numbering": 1,
      "nav_menu": {},
      "number_sections": true,
      "sideBar": true,
      "skip_h1_title": false,
      "title_cell": "Table of Contents",
      "title_sidebar": "Contents",
      "toc_cell": false,
      "toc_position": {},
      "toc_section_display": "block",
      "toc_window_display": true
    },
    "colab": {
      "name": "DatosFaltantes_SustitucionMediaMediana_FeatureEngine.ipynb",
      "provenance": [],
      "include_colab_link": true
    }
  },
  "cells": [
    {
      "cell_type": "markdown",
      "metadata": {
        "id": "view-in-github",
        "colab_type": "text"
      },
      "source": [
        "<a href=\"https://colab.research.google.com/github/virf96/Chat-Bot/blob/master/DatosFaltantes_SustitucionMediaMediana_FeatureEngine.ipynb\" target=\"_parent\"><img src=\"https://colab.research.google.com/assets/colab-badge.svg\" alt=\"Open In Colab\"/></a>"
      ]
    },
    {
      "cell_type": "markdown",
      "metadata": {
        "id": "HoUcThY_XX5I"
      },
      "source": [
        "## Sustitución por la Media / Mediana  ==> Feature-engine\n",
        "\n",
        "\n",
        "### Qué es Feature-engine?\n",
        "\n",
        "Feature-engine es una librería de Python que hemos creado para este curso. \n",
        "\n",
        "- Feature-engine incluye todas las técnicas de ingeniería de variables descritas en este curso\n",
        "- Feature-engine funciona como Scikit-learn, por lo tanto es fácil de aprender\n",
        "- Feature-engine te permite implementar pasos de ingeniería de variables específicos para diferentes grupos de variables\n",
        "- Feature-engine puede ser integrado con las pipelines de Scikit-learn pipeline permitiendo construir modelos fácilmente\n",
        "** Feature-engine te permite diseñar y guardar un flujo de ingeniería de variables con procesos diseñados específicamente para diferentes grupos de variables.**\n",
        "\n",
        "-------------------------------------------------------------------\n",
        "Feature-engine puede ser instalado vía pip ==> pip install feature-engine\n",
        "\n",
        "- Asegurate que haz instalado Feature-engine antes de correr este notebook\n",
        "\n",
        "Para más detalle visita el [website de trainindata]( https://www.trainindata.com/feature-engine) \n",
        "\n",
        "\n",
        "## En este demo:\n",
        "\n",
        "Vamos a usar ** Feature-engine para hacer la sustitución por la media o la mediana** usando los datos Ames House Price.\n",
        "\n",
        "- Para bajar los datos, por favor referirse a la clase de **Datasets** en la  **Sección 1** del curso.\n",
        "\n",
        "### Nota: \n",
        "* 'Imputer' deriva del verbo en inglés 'to impute' que quiere decir sustituir o reemplazar. Imputer es el objeto que completa la sustitución, de ahí el nombre dado a la clase."
      ]
    },
    {
      "cell_type": "code",
      "metadata": {
        "id": "kmSRj1kDXX5J"
      },
      "source": [
        "import pandas as pd\n",
        "import numpy as np\n",
        "\n",
        "import matplotlib.pyplot as plt\n",
        "\n",
        "from sklearn.model_selection import train_test_split\n",
        "from sklearn.pipeline import Pipeline\n",
        "\n",
        "# feature-engine\n",
        "from feature_engine import missing_data_imputers as mdi"
      ],
      "execution_count": null,
      "outputs": []
    },
    {
      "cell_type": "code",
      "metadata": {
        "id": "jkxqHcPXXpCt",
        "outputId": "ff453747-bb71-4e9c-a5bf-1d37691aedbb",
        "colab": {
          "base_uri": "https://localhost:8080/",
          "height": 34
        }
      },
      "source": [
        "from google.colab import drive\n",
        "drive.mount('/content/drive')"
      ],
      "execution_count": 1,
      "outputs": [
        {
          "output_type": "stream",
          "text": [
            "Mounted at /content/drive\n"
          ],
          "name": "stdout"
        }
      ]
    },
    {
      "cell_type": "code",
      "metadata": {
        "id": "rOh7XgOMXX5N",
        "outputId": "eb34ace2-014e-4fbf-aa96-05320716bed1"
      },
      "source": [
        "# carguemos los datos con las variables seleccionadas\n",
        "\n",
        "cols_to_use = [\n",
        "    'BsmtQual', 'FireplaceQu', 'LotFrontage', 'MasVnrArea', 'GarageYrBlt',\n",
        "    'SalePrice'\n",
        "]\n",
        "\n",
        "data = pd.read_csv('/content/drive/My Drive/datasets/houseprice.csv', usecols=cols_to_use)\n",
        "data.head()"
      ],
      "execution_count": null,
      "outputs": [
        {
          "output_type": "execute_result",
          "data": {
            "text/html": [
              "<div>\n",
              "<style scoped>\n",
              "    .dataframe tbody tr th:only-of-type {\n",
              "        vertical-align: middle;\n",
              "    }\n",
              "\n",
              "    .dataframe tbody tr th {\n",
              "        vertical-align: top;\n",
              "    }\n",
              "\n",
              "    .dataframe thead th {\n",
              "        text-align: right;\n",
              "    }\n",
              "</style>\n",
              "<table border=\"1\" class=\"dataframe\">\n",
              "  <thead>\n",
              "    <tr style=\"text-align: right;\">\n",
              "      <th></th>\n",
              "      <th>LotFrontage</th>\n",
              "      <th>MasVnrArea</th>\n",
              "      <th>BsmtQual</th>\n",
              "      <th>FireplaceQu</th>\n",
              "      <th>GarageYrBlt</th>\n",
              "      <th>SalePrice</th>\n",
              "    </tr>\n",
              "  </thead>\n",
              "  <tbody>\n",
              "    <tr>\n",
              "      <th>0</th>\n",
              "      <td>65.0</td>\n",
              "      <td>196.0</td>\n",
              "      <td>Gd</td>\n",
              "      <td>NaN</td>\n",
              "      <td>2003.0</td>\n",
              "      <td>208500</td>\n",
              "    </tr>\n",
              "    <tr>\n",
              "      <th>1</th>\n",
              "      <td>80.0</td>\n",
              "      <td>0.0</td>\n",
              "      <td>Gd</td>\n",
              "      <td>TA</td>\n",
              "      <td>1976.0</td>\n",
              "      <td>181500</td>\n",
              "    </tr>\n",
              "    <tr>\n",
              "      <th>2</th>\n",
              "      <td>68.0</td>\n",
              "      <td>162.0</td>\n",
              "      <td>Gd</td>\n",
              "      <td>TA</td>\n",
              "      <td>2001.0</td>\n",
              "      <td>223500</td>\n",
              "    </tr>\n",
              "    <tr>\n",
              "      <th>3</th>\n",
              "      <td>60.0</td>\n",
              "      <td>0.0</td>\n",
              "      <td>TA</td>\n",
              "      <td>Gd</td>\n",
              "      <td>1998.0</td>\n",
              "      <td>140000</td>\n",
              "    </tr>\n",
              "    <tr>\n",
              "      <th>4</th>\n",
              "      <td>84.0</td>\n",
              "      <td>350.0</td>\n",
              "      <td>Gd</td>\n",
              "      <td>TA</td>\n",
              "      <td>2000.0</td>\n",
              "      <td>250000</td>\n",
              "    </tr>\n",
              "  </tbody>\n",
              "</table>\n",
              "</div>"
            ],
            "text/plain": [
              "   LotFrontage  MasVnrArea BsmtQual FireplaceQu  GarageYrBlt  SalePrice\n",
              "0         65.0       196.0       Gd         NaN       2003.0     208500\n",
              "1         80.0         0.0       Gd          TA       1976.0     181500\n",
              "2         68.0       162.0       Gd          TA       2001.0     223500\n",
              "3         60.0         0.0       TA          Gd       1998.0     140000\n",
              "4         84.0       350.0       Gd          TA       2000.0     250000"
            ]
          },
          "metadata": {
            "tags": []
          },
          "execution_count": 2
        }
      ]
    },
    {
      "cell_type": "code",
      "metadata": {
        "id": "onriKcKnXX5Q",
        "outputId": "19a287ab-6862-4503-eaed-7199de088e89"
      },
      "source": [
        "# porcentaje de valores nulos\n",
        "\n",
        "data.isnull().mean()"
      ],
      "execution_count": null,
      "outputs": [
        {
          "output_type": "execute_result",
          "data": {
            "text/plain": [
              "LotFrontage    0.177397\n",
              "MasVnrArea     0.005479\n",
              "BsmtQual       0.025342\n",
              "FireplaceQu    0.472603\n",
              "GarageYrBlt    0.055479\n",
              "SalePrice      0.000000\n",
              "dtype: float64"
            ]
          },
          "metadata": {
            "tags": []
          },
          "execution_count": 3
        }
      ]
    },
    {
      "cell_type": "markdown",
      "metadata": {
        "id": "dwZzNCUBXX5T"
      },
      "source": [
        "Todas las variables predictivas tienen datos ausentes\n"
      ]
    },
    {
      "cell_type": "code",
      "metadata": {
        "id": "-R9zmhQ0XX5T",
        "outputId": "d461b14c-d50c-4fd3-999a-ea506ec8a468"
      },
      "source": [
        "# separar datos en segmentos de entrenamiento y prueba\n",
        "\n",
        "# primero, separemos el target (SalePrice) del resto de las variables\n",
        "cols_to_use.remove('SalePrice')\n",
        "\n",
        "X_train, X_test, y_train, y_test = train_test_split(data[cols_to_use],\n",
        "                                                    data['SalePrice'],\n",
        "                                                    test_size=0.3,\n",
        "                                                    random_state=0)\n",
        "X_train.shape, X_test.shape"
      ],
      "execution_count": null,
      "outputs": [
        {
          "output_type": "execute_result",
          "data": {
            "text/plain": [
              "((1022, 5), (438, 5))"
            ]
          },
          "metadata": {
            "tags": []
          },
          "execution_count": 4
        }
      ]
    },
    {
      "cell_type": "markdown",
      "metadata": {
        "id": "z_4W6QQFXX5W"
      },
      "source": [
        "### Feature-engine captura las variables numéricas automáticamente"
      ]
    },
    {
      "cell_type": "code",
      "metadata": {
        "id": "Og2QudjSXX5W"
      },
      "source": [
        "# llamamos el imputer de Feature-engine\n",
        "# especificamos la estrategia de sustitución, mediana en este caso\n",
        "\n",
        "imputer = mdi.MeanMedianImputer(imputation_method='median')"
      ],
      "execution_count": null,
      "outputs": []
    },
    {
      "cell_type": "code",
      "metadata": {
        "id": "kINqaVyvXX5Y",
        "outputId": "8c33bbd9-5c48-4360-dcf0-0143b1fc82b5"
      },
      "source": [
        "# ajustamos el imputer\n",
        "imputer.fit(X_train)"
      ],
      "execution_count": null,
      "outputs": [
        {
          "output_type": "execute_result",
          "data": {
            "text/plain": [
              "MeanMedianImputer(imputation_method='median',\n",
              "                  variables=['LotFrontage', 'MasVnrArea', 'GarageYrBlt'])"
            ]
          },
          "metadata": {
            "tags": []
          },
          "execution_count": 6
        }
      ]
    },
    {
      "cell_type": "code",
      "metadata": {
        "id": "l_mn7XziXX5b",
        "outputId": "213ab235-04c5-42ef-a603-3691ff5c1571"
      },
      "source": [
        "# vemos que el imputer automáticamente encontró las variables numéricas para \n",
        "# sustituir con la media\n",
        "\n",
        "imputer.variables"
      ],
      "execution_count": null,
      "outputs": [
        {
          "output_type": "execute_result",
          "data": {
            "text/plain": [
              "['LotFrontage', 'MasVnrArea', 'GarageYrBlt']"
            ]
          },
          "metadata": {
            "tags": []
          },
          "execution_count": 7
        }
      ]
    },
    {
      "cell_type": "code",
      "metadata": {
        "id": "TdqzKQxsXX5e",
        "outputId": "7cd8ba26-4ef1-4b66-de2e-0c120e7db2d7"
      },
      "source": [
        "# aquí podemos ver la mediana asignada a cada variable\n",
        "\n",
        "imputer.imputer_dict_"
      ],
      "execution_count": null,
      "outputs": [
        {
          "output_type": "execute_result",
          "data": {
            "text/plain": [
              "{'LotFrontage': 69.0, 'MasVnrArea': 0.0, 'GarageYrBlt': 1979.0}"
            ]
          },
          "metadata": {
            "tags": []
          },
          "execution_count": 8
        }
      ]
    },
    {
      "cell_type": "code",
      "metadata": {
        "id": "hDzy5RyHXX5h",
        "outputId": "baab86f2-1909-4b54-ec60-e2b23f3c9b02"
      },
      "source": [
        "# Feature-engine retorna un dataframe \n",
        "\n",
        "tmp = imputer.transform(X_train)\n",
        "tmp.head()"
      ],
      "execution_count": null,
      "outputs": [
        {
          "output_type": "execute_result",
          "data": {
            "text/html": [
              "<div>\n",
              "<style scoped>\n",
              "    .dataframe tbody tr th:only-of-type {\n",
              "        vertical-align: middle;\n",
              "    }\n",
              "\n",
              "    .dataframe tbody tr th {\n",
              "        vertical-align: top;\n",
              "    }\n",
              "\n",
              "    .dataframe thead th {\n",
              "        text-align: right;\n",
              "    }\n",
              "</style>\n",
              "<table border=\"1\" class=\"dataframe\">\n",
              "  <thead>\n",
              "    <tr style=\"text-align: right;\">\n",
              "      <th></th>\n",
              "      <th>BsmtQual</th>\n",
              "      <th>FireplaceQu</th>\n",
              "      <th>LotFrontage</th>\n",
              "      <th>MasVnrArea</th>\n",
              "      <th>GarageYrBlt</th>\n",
              "    </tr>\n",
              "  </thead>\n",
              "  <tbody>\n",
              "    <tr>\n",
              "      <th>64</th>\n",
              "      <td>Gd</td>\n",
              "      <td>NaN</td>\n",
              "      <td>69.0</td>\n",
              "      <td>573.0</td>\n",
              "      <td>1998.0</td>\n",
              "    </tr>\n",
              "    <tr>\n",
              "      <th>682</th>\n",
              "      <td>Gd</td>\n",
              "      <td>Gd</td>\n",
              "      <td>69.0</td>\n",
              "      <td>0.0</td>\n",
              "      <td>1996.0</td>\n",
              "    </tr>\n",
              "    <tr>\n",
              "      <th>960</th>\n",
              "      <td>TA</td>\n",
              "      <td>NaN</td>\n",
              "      <td>50.0</td>\n",
              "      <td>0.0</td>\n",
              "      <td>1979.0</td>\n",
              "    </tr>\n",
              "    <tr>\n",
              "      <th>1384</th>\n",
              "      <td>TA</td>\n",
              "      <td>NaN</td>\n",
              "      <td>60.0</td>\n",
              "      <td>0.0</td>\n",
              "      <td>1939.0</td>\n",
              "    </tr>\n",
              "    <tr>\n",
              "      <th>1100</th>\n",
              "      <td>TA</td>\n",
              "      <td>NaN</td>\n",
              "      <td>60.0</td>\n",
              "      <td>0.0</td>\n",
              "      <td>1930.0</td>\n",
              "    </tr>\n",
              "  </tbody>\n",
              "</table>\n",
              "</div>"
            ],
            "text/plain": [
              "     BsmtQual FireplaceQu  LotFrontage  MasVnrArea  GarageYrBlt\n",
              "64         Gd         NaN         69.0       573.0       1998.0\n",
              "682        Gd          Gd         69.0         0.0       1996.0\n",
              "960        TA         NaN         50.0         0.0       1979.0\n",
              "1384       TA         NaN         60.0         0.0       1939.0\n",
              "1100       TA         NaN         60.0         0.0       1930.0"
            ]
          },
          "metadata": {
            "tags": []
          },
          "execution_count": 9
        }
      ]
    },
    {
      "cell_type": "code",
      "metadata": {
        "id": "lJKfUlqJXX5j",
        "outputId": "2debc472-182c-4c16-e97a-9408623a1eb5"
      },
      "source": [
        "# revisemos que las variables numéricas no tengan \n",
        "# valores nulos NA \n",
        "\n",
        "tmp[imputer.variables].isnull().mean()"
      ],
      "execution_count": null,
      "outputs": [
        {
          "output_type": "execute_result",
          "data": {
            "text/plain": [
              "LotFrontage    0.0\n",
              "MasVnrArea     0.0\n",
              "GarageYrBlt    0.0\n",
              "dtype: float64"
            ]
          },
          "metadata": {
            "tags": []
          },
          "execution_count": 10
        }
      ]
    },
    {
      "cell_type": "markdown",
      "metadata": {
        "id": "vVQbhErJXX5n"
      },
      "source": [
        "## Feature-engine te permite especificar grupos de variables fácilmente"
      ]
    },
    {
      "cell_type": "code",
      "metadata": {
        "id": "wP4VKRi8XX5n",
        "outputId": "f98e658d-85bb-4bb6-f8f9-f3ee713ff6d5"
      },
      "source": [
        "# usemos la sustitución por la media \n",
        "# para 2 de la 3 variables numéricas\n",
        "\n",
        "imputer = mdi.MeanMedianImputer(imputation_method='mean',\n",
        "                                variables=['LotFrontage', 'MasVnrArea'])\n",
        "\n",
        "imputer.fit(X_train)"
      ],
      "execution_count": null,
      "outputs": [
        {
          "output_type": "execute_result",
          "data": {
            "text/plain": [
              "MeanMedianImputer(imputation_method='mean',\n",
              "                  variables=['LotFrontage', 'MasVnrArea'])"
            ]
          },
          "metadata": {
            "tags": []
          },
          "execution_count": 11
        }
      ]
    },
    {
      "cell_type": "code",
      "metadata": {
        "id": "IautIOftXX5q",
        "outputId": "5799f43e-691f-4a02-de69-044d9da58ca5"
      },
      "source": [
        "# ahora el imputer solo imputa las variables que indicamos\n",
        "\n",
        "imputer.variables"
      ],
      "execution_count": null,
      "outputs": [
        {
          "output_type": "execute_result",
          "data": {
            "text/plain": [
              "['LotFrontage', 'MasVnrArea']"
            ]
          },
          "metadata": {
            "tags": []
          },
          "execution_count": 12
        }
      ]
    },
    {
      "cell_type": "code",
      "metadata": {
        "id": "biveeNpvXX5s",
        "outputId": "096913ce-6f6b-4383-a969-ed6d4dd150b2"
      },
      "source": [
        "# y podemos ver el valor asignado a cada variable\n",
        "imputer.imputer_dict_"
      ],
      "execution_count": null,
      "outputs": [
        {
          "output_type": "execute_result",
          "data": {
            "text/plain": [
              "{'LotFrontage': 69.66866746698679, 'MasVnrArea': 103.55358898721731}"
            ]
          },
          "metadata": {
            "tags": []
          },
          "execution_count": 13
        }
      ]
    },
    {
      "cell_type": "code",
      "metadata": {
        "id": "llPC0_QCXX5v",
        "outputId": "300af434-a047-40b4-f597-61af4fd826bd"
      },
      "source": [
        "# corroboremos que el diccionario anterior contiene los valores promedio\n",
        "# de las variables\n",
        "\n",
        "X_train[imputer.variables].mean()"
      ],
      "execution_count": null,
      "outputs": [
        {
          "output_type": "execute_result",
          "data": {
            "text/plain": [
              "LotFrontage     69.668667\n",
              "MasVnrArea     103.553589\n",
              "dtype: float64"
            ]
          },
          "metadata": {
            "tags": []
          },
          "execution_count": 14
        }
      ]
    },
    {
      "cell_type": "code",
      "metadata": {
        "id": "xaxF7hcqXX5x",
        "outputId": "bc225747-e974-49f8-fd38-ef9b79c0cd6e"
      },
      "source": [
        "# Feature-engine devuelve un dataframe\n",
        "\n",
        "tmp = imputer.transform(X_train)\n",
        "\n",
        "# miremos que los valores nulos efectivamente ya no existen\n",
        "tmp[imputer.variables].isnull().mean()"
      ],
      "execution_count": null,
      "outputs": [
        {
          "output_type": "execute_result",
          "data": {
            "text/plain": [
              "LotFrontage    0.0\n",
              "MasVnrArea     0.0\n",
              "dtype: float64"
            ]
          },
          "metadata": {
            "tags": []
          },
          "execution_count": 15
        }
      ]
    },
    {
      "cell_type": "markdown",
      "metadata": {
        "id": "lGBhVWGmXX5z"
      },
      "source": [
        "## Feature-engine puede ser usado con los flujos de Scikit-learn (pipeline)"
      ]
    },
    {
      "cell_type": "code",
      "metadata": {
        "id": "l6rgf5ODXX50"
      },
      "source": [
        "pipe = Pipeline([\n",
        "    ('median_imputer', mdi.MeanMedianImputer(imputation_method='median',\n",
        "                                             variables = ['LotFrontage', 'GarageYrBlt'])),\n",
        "     \n",
        "    ('mean_imputer', mdi.MeanMedianImputer(imputation_method='mean',\n",
        "                                          variables = ['MasVnrArea'])),\n",
        "     ])"
      ],
      "execution_count": null,
      "outputs": []
    },
    {
      "cell_type": "code",
      "metadata": {
        "id": "Sa5YBAX-XX52",
        "outputId": "e1ef28b2-41d5-4f29-b8bf-da1ec3c75592"
      },
      "source": [
        "pipe.fit(X_train)"
      ],
      "execution_count": null,
      "outputs": [
        {
          "output_type": "execute_result",
          "data": {
            "text/plain": [
              "Pipeline(memory=None,\n",
              "         steps=[('median_imputer',\n",
              "                 MeanMedianImputer(imputation_method='median',\n",
              "                                   variables=['LotFrontage', 'GarageYrBlt'])),\n",
              "                ('mean_imputer',\n",
              "                 MeanMedianImputer(imputation_method='mean',\n",
              "                                   variables=['MasVnrArea']))],\n",
              "         verbose=False)"
            ]
          },
          "metadata": {
            "tags": []
          },
          "execution_count": 17
        }
      ]
    },
    {
      "cell_type": "code",
      "metadata": {
        "id": "BW4KtdfpXX54",
        "outputId": "f11c0b4d-81e4-429a-c33f-b79194106017"
      },
      "source": [
        "pipe.named_steps['median_imputer'].imputer_dict_"
      ],
      "execution_count": null,
      "outputs": [
        {
          "output_type": "execute_result",
          "data": {
            "text/plain": [
              "{'LotFrontage': 69.0, 'GarageYrBlt': 1979.0}"
            ]
          },
          "metadata": {
            "tags": []
          },
          "execution_count": 18
        }
      ]
    },
    {
      "cell_type": "code",
      "metadata": {
        "id": "mI5q4CJyXX57",
        "outputId": "a0229f47-438c-47fd-d30b-bff0a2476af8"
      },
      "source": [
        "pipe.named_steps['mean_imputer'].imputer_dict_"
      ],
      "execution_count": null,
      "outputs": [
        {
          "output_type": "execute_result",
          "data": {
            "text/plain": [
              "{'MasVnrArea': 103.55358898721731}"
            ]
          },
          "metadata": {
            "tags": []
          },
          "execution_count": 19
        }
      ]
    },
    {
      "cell_type": "code",
      "metadata": {
        "id": "YTo_sfZNXX5-",
        "outputId": "987b18c4-6c5a-4341-f7e1-369b899a5871"
      },
      "source": [
        "# transformemos los datos con la pipeline\n",
        "tmp = pipe.transform(X_train)\n",
        "\n",
        "# revisemos que ya no tenemos valores nulos\n",
        "tmp.isnull().mean()"
      ],
      "execution_count": null,
      "outputs": [
        {
          "output_type": "execute_result",
          "data": {
            "text/plain": [
              "BsmtQual       0.023483\n",
              "FireplaceQu    0.467710\n",
              "LotFrontage    0.000000\n",
              "MasVnrArea     0.000000\n",
              "GarageYrBlt    0.000000\n",
              "dtype: float64"
            ]
          },
          "metadata": {
            "tags": []
          },
          "execution_count": 20
        }
      ]
    }
  ]
}