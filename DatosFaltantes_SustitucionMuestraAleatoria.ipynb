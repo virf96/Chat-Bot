{
  "nbformat": 4,
  "nbformat_minor": 0,
  "metadata": {
    "kernelspec": {
      "display_name": "feml",
      "language": "python",
      "name": "feml"
    },
    "language_info": {
      "codemirror_mode": {
        "name": "ipython",
        "version": 3
      },
      "file_extension": ".py",
      "mimetype": "text/x-python",
      "name": "python",
      "nbconvert_exporter": "python",
      "pygments_lexer": "ipython3",
      "version": "3.7.3"
    },
    "toc": {
      "nav_menu": {},
      "number_sections": true,
      "sideBar": true,
      "skip_h1_title": false,
      "toc_cell": false,
      "toc_position": {},
      "toc_section_display": "block",
      "toc_window_display": true
    },
    "colab": {
      "name": "DatosFaltantes_SustitucionMuestraAleatoria.ipynb",
      "provenance": [],
      "toc_visible": true,
      "include_colab_link": true
    }
  },
  "cells": [
    {
      "cell_type": "markdown",
      "metadata": {
        "id": "view-in-github",
        "colab_type": "text"
      },
      "source": [
        "<a href=\"https://colab.research.google.com/github/virf96/Chat-Bot/blob/master/DatosFaltantes_SustitucionMuestraAleatoria.ipynb\" target=\"_parent\"><img src=\"https://colab.research.google.com/assets/colab-badge.svg\" alt=\"Open In Colab\"/></a>"
      ]
    },
    {
      "cell_type": "markdown",
      "metadata": {
        "id": "HDD_JeNzu94g"
      },
      "source": [
        "## Sustitución por muestras aleatorias\n",
        "\n",
        "Los métodos de imputación consisten en estimar los valores faltantes en base a los valores existentes de la variable. El objetivo de cualquier método de imputación es producir un **conjunto completo** de datos que pueda ser utilizado por un algoritmo de aprendizaje de máquina. \n",
        "\n",
        "La sustitución por muestras aleatorias en principio es similar a la sustitución busca preservar los parámetros estadísticos de la variable original que presenta datos ausentes.\n",
        "\n",
        "Como su nombre lo indica, muestreo aleatorio consiste en tomar observaciones de una variable de forma aleatoria, y usarlas para sustituir los valores nulos en la misma variable. En la sustitución por muestras aleatorias, se extraen tantos valores aleatorias como observaciones nulas haya en la variable.\n",
        "\n",
        "Con el muestreo aleatorio sobre variables numéricas, garantizamos que la media y la desviación estándar de la variable se preserven.\n",
        "\n",
        "Con el muestreo aleatorio sobre variables categóricas, garantizamos que la frecuencia de las diferentes categorías se preserven.\n",
        "\n",
        "### Cuáles variables se pueden sustituir por muestras aleatorias?\n",
        "\n",
        "La sustitución aleatoria se puede aplicar en variables numéricas y categóricas.\n",
        "\n",
        "### Supuestos\n",
        "\n",
        "La sustitución por muestras aleatorias asume que los datos faltan completamente al azar (MCAR). Si este es el caso, tiene sentido que reemplacemos los datos ausentes por valores extraídos de la distribución original de la variable\n",
        "\n",
        "Desde el punto de vista probabilístico, los valores que son más frecuentes, como la media o la mediana o la categoría más frecuente serán seleccionados más frecuentemente – ya que en proporción, hay más de ellos - pero otros valores menos frecuentes serán también extraídos al azar. Por lo tanto las distribuciones de las variables se preservan.\n",
        "\n",
        "La idea es reemplazar una población de datos nulos por una población de valores existentes, que muestre la misma distribución de la variable original.\n",
        "\n",
        "### Ventajas\n",
        "\n",
        "- Fácil de implementar\n",
        "- Forma rápida de obtener conjuntos completos de datos\n",
        "- Preserva la varianza de la variable \n",
        "\n",
        "### Limitaciones\n",
        "\n",
        "- Aleatoriedad\n",
        "- Distorsión de la relación entre la variables sustituida y el resto de las variables si el número de datos ausentes es alto\n",
        "- Consume bastante memoria para modelos en producción, ya que necesita guardar los datos originales usados para entrenar el modelo para así poder extraer los valores que se van a usar para reemplazar los valores nulos.\n",
        "\n",
        "\n",
        "### Cuándo puedo usar la sustitución por muestra aleatoria?\n",
        "\n",
        "- Cuando los datos están ausentes completamente al azar\n",
        "- No más del 5% de la variable está ausente \n",
        "- Es apropiado cuando se quiere usar modelos lineales ya que no distorsiona la distribución de la variable, independientemente del número de valores nulos\n",
        "\n",
        "Si se usa en combinación con un Indicador de Ausencia, este método también puede usarse con datos que no estén ausentes de forma aleatoria o cuando el  % de observaciones ausentes es mayor.\n",
        "\n",
        "\n",
        "#### Aleatoriedad\n",
        "\n",
        "La aleatoriedad puede no ser grave cuando reemplazamos valores ausentes en datos para competiciones de ciencia de datos, donde todo el conjunto de datos ausentes es reemplazado una vez, los datos se usan para hacer las predicciones y el problema finaliza. Sin embargo, en organizaciones que necesitan utilizar el modelo para derivar soluciones, la situación es  diferente.\n",
        "\n",
        "Imagina, por ejemplo una fábrica de autos intentando predecir cuanto tiempo un carro estará en la fábrica antes de pasar todas las pruebas de seguridad. Hoy, reciben un carro con datos ausentes en alguna de las variables, corren un modelo de machine learning para predecir cuanto tiempo el carro tardará antes de pasar todas las pruebas de seguridad, reemplazan los valores ausentes con una muestra aleatoria y producen una estimación de cuánto tiempo va a tardar. Mañana, cuando usan el mismo modelo para el mismo carro, el modelo va a tomar otra muestra aleatoria para sustituir los valores ausentes, que puede que sean o no lo mismos que se seleccionaron hoy, y por lo tanto, la estimación final del tiempo que tardará en pasar las pruebas de seguridad puede que no sea igual al obtenido el día anterior.\n",
        "\n",
        "Adicionalmente, imagina que la fábrica de autos evaluá dos autos diferentes que tienen los mismos valores para todas las variables y valores ausentes para el mismo subconjunto de variables. Corren el modelo de machine learning para cada carro y ya que los datos ausentes son sustituidos con valores tomados aleatoriamente, los dos autos, que son exactamente iguales, pueden terminar con diferentes estimados de tiempos de espera para pasar las pruebas.\n",
        "\n",
        "Esto puede no parecer importante o de hecho trivial, sin embargo las empresas deben adherirse a ciertas regulaciones, que incluyen dar el mismo tratamiento en situaciones similares. De este modo, si por ejemplo, en lugar de autos, estamos hablando de personas aplicando para un préstamo, o personas buscando un tratamiento médico, el modelo de machine learning podría retornar predicciones diferentes soluciones para candidatos que están bajo las mismas condiciones. Y esto no es ni justo ni aceptable. Este comportamiento, por lo tanto, necesita ser evitado.\n",
        "\n",
        "#### Entonces, debemos reemplazar los valores ausentes con muestras aleatorias o no?\n",
        "\n",
        "Es posible reemplazar los datos ausentes con una muestra aleatoria, pero es necesario controlar la aleatoriedad, así individuos en la misma situación reciben predicciones similares, y por lo tanto se les ofrece la misma solución. \n",
        "Y cómo podemos estar seguros de que este es el caso? Pues fijando las semillas durante los procesos de extracción aleatoria de valores.\n",
        "\n",
        "Otra cosa a tener en cuenta con la sustitución aleatoria, es que, al igual que cuando se hacen sustituciones por la media o mediana,  la covarianza y correlaciones con las otras variables del set de datos pueden ser modificados, particularmente, si hay un alto porcentaje de valores nulos.\n",
        "\n",
        "\n",
        "### Nota Final\n",
        "\n",
        "El reemplazo de valores ausentes por una muestra aleatoria, aunque es similar en concepto al reemplazo por la media o la mediana, no es tan popular en las competencias de ciencia de datos como estos métodos. Probablemente, por el elemento de aleatoriedad o porque el código para implementarlo no es tan sencillo.\n",
        "\n",
        "Sin embargo, es un método válido, con claras ventajas sobre la sustitución por la media/ mediana ya que preserva la distribución de las variables. Y si eres cuidadoso con la aleatoriedad, este puede ser un buen método para elegir, particularmente para modelos lineales."
      ]
    },
    {
      "cell_type": "code",
      "metadata": {
        "id": "een1PLQLu94h"
      },
      "source": [
        "import pandas as pd\n",
        "import numpy as np\n",
        "\n",
        "import matplotlib.pyplot as plt\n",
        "\n",
        "# separar los datasets\n",
        "from sklearn.model_selection import train_test_split\n",
        "\n",
        "import warnings\n",
        "warnings.filterwarnings(\"ignore\")"
      ],
      "execution_count": 1,
      "outputs": []
    },
    {
      "cell_type": "markdown",
      "metadata": {
        "id": "yO2aFqNzu94k"
      },
      "source": [
        "## Muestra aleatoria para variables numéricas\n"
      ]
    },
    {
      "cell_type": "code",
      "metadata": {
        "id": "bRDzdCp3vDjI",
        "outputId": "525a9ab6-eae0-4804-d664-08b6b4d267ed",
        "colab": {
          "base_uri": "https://localhost:8080/",
          "height": 34
        }
      },
      "source": [
        "from google.colab import drive\n",
        "drive.mount('/content/drive')"
      ],
      "execution_count": 2,
      "outputs": [
        {
          "output_type": "stream",
          "text": [
            "Mounted at /content/drive\n"
          ],
          "name": "stdout"
        }
      ]
    },
    {
      "cell_type": "code",
      "metadata": {
        "id": "2Ls7Pu3pu94k",
        "outputId": "654224b1-c08f-4d4b-a622-8cd9b81fcf61",
        "colab": {
          "base_uri": "https://localhost:8080/",
          "height": 204
        }
      },
      "source": [
        "# carguemos los datos con 3 columnas seleccionadas\n",
        "\n",
        "data = pd.read_csv('/content/drive/My Drive/datasets/titanic.csv', usecols=['age', 'fare', 'survived'])\n",
        "\n",
        "data.head()"
      ],
      "execution_count": 3,
      "outputs": [
        {
          "output_type": "execute_result",
          "data": {
            "text/html": [
              "<div>\n",
              "<style scoped>\n",
              "    .dataframe tbody tr th:only-of-type {\n",
              "        vertical-align: middle;\n",
              "    }\n",
              "\n",
              "    .dataframe tbody tr th {\n",
              "        vertical-align: top;\n",
              "    }\n",
              "\n",
              "    .dataframe thead th {\n",
              "        text-align: right;\n",
              "    }\n",
              "</style>\n",
              "<table border=\"1\" class=\"dataframe\">\n",
              "  <thead>\n",
              "    <tr style=\"text-align: right;\">\n",
              "      <th></th>\n",
              "      <th>survived</th>\n",
              "      <th>age</th>\n",
              "      <th>fare</th>\n",
              "    </tr>\n",
              "  </thead>\n",
              "  <tbody>\n",
              "    <tr>\n",
              "      <th>0</th>\n",
              "      <td>1</td>\n",
              "      <td>29.0000</td>\n",
              "      <td>211.3375</td>\n",
              "    </tr>\n",
              "    <tr>\n",
              "      <th>1</th>\n",
              "      <td>1</td>\n",
              "      <td>0.9167</td>\n",
              "      <td>151.5500</td>\n",
              "    </tr>\n",
              "    <tr>\n",
              "      <th>2</th>\n",
              "      <td>0</td>\n",
              "      <td>2.0000</td>\n",
              "      <td>151.5500</td>\n",
              "    </tr>\n",
              "    <tr>\n",
              "      <th>3</th>\n",
              "      <td>0</td>\n",
              "      <td>30.0000</td>\n",
              "      <td>151.5500</td>\n",
              "    </tr>\n",
              "    <tr>\n",
              "      <th>4</th>\n",
              "      <td>0</td>\n",
              "      <td>25.0000</td>\n",
              "      <td>151.5500</td>\n",
              "    </tr>\n",
              "  </tbody>\n",
              "</table>\n",
              "</div>"
            ],
            "text/plain": [
              "   survived      age      fare\n",
              "0         1  29.0000  211.3375\n",
              "1         1   0.9167  151.5500\n",
              "2         0   2.0000  151.5500\n",
              "3         0  30.0000  151.5500\n",
              "4         0  25.0000  151.5500"
            ]
          },
          "metadata": {
            "tags": []
          },
          "execution_count": 3
        }
      ]
    },
    {
      "cell_type": "code",
      "metadata": {
        "id": "CnS190pLu94n",
        "outputId": "c6cab05c-6caf-4bd9-9fc1-d5cbdf9cb33d",
        "colab": {
          "base_uri": "https://localhost:8080/",
          "height": 85
        }
      },
      "source": [
        "# evaluemos el porcentaje de valores nulos\n",
        "# Notamos que \"age\" tiene el 20% de missing en la variable\n",
        "# Notamos que \"fare\" tiene el .0007 de missing en la variable\n",
        "data.isnull().mean()"
      ],
      "execution_count": 4,
      "outputs": [
        {
          "output_type": "execute_result",
          "data": {
            "text/plain": [
              "survived    0.000000\n",
              "age         0.200917\n",
              "fare        0.000764\n",
              "dtype: float64"
            ]
          },
          "metadata": {
            "tags": []
          },
          "execution_count": 4
        }
      ]
    },
    {
      "cell_type": "markdown",
      "metadata": {
        "id": "ycD5PFsCu94q"
      },
      "source": [
        "### Importante\n",
        "\n",
        "Los valores para sustituir datos nulos deben ser extraídos del set de entrenamiento solamente. De modo que debemos separar el set de datos original en set de entrenamiento y prueba."
      ]
    },
    {
      "cell_type": "code",
      "metadata": {
        "id": "CjraQBeZu94q",
        "outputId": "5cb2f5ab-f8cf-439c-b0dc-b6c8dac486b9",
        "colab": {
          "base_uri": "https://localhost:8080/",
          "height": 34
        }
      },
      "source": [
        "# separar datos en sets entrenamiento y prueba\n",
        "\n",
        "X_train, X_test, y_train, y_test = train_test_split(\n",
        "    data,\n",
        "    data.survived, # target\n",
        "    test_size=0.3, # porcentaje de obsen test set\n",
        "    random_state=0) # semilla\n",
        "\n",
        "X_train.shape, X_test.shape"
      ],
      "execution_count": 5,
      "outputs": [
        {
          "output_type": "execute_result",
          "data": {
            "text/plain": [
              "((916, 3), (393, 3))"
            ]
          },
          "metadata": {
            "tags": []
          },
          "execution_count": 5
        }
      ]
    },
    {
      "cell_type": "code",
      "metadata": {
        "id": "pZyIYSVqu94t"
      },
      "source": [
        "# sustituyamos age usando una muestra aleatoria \n",
        "# para ambos sets, el de entrenamiento y prueba\n",
        "\n",
        "# creemos las nuevas variables donde los valores nulos van a ser sustituidos\n",
        "# haz una copia de la variable original, con valores nulos\n",
        "\n",
        "X_train['age_imputed'] = X_train['age'].copy()\n",
        "X_test['age_imputed'] = X_test['age'].copy()\n",
        "\n",
        "# extraer la muestra aleatoria para sustituir los valores nulos\n",
        "# recuerda que se hace en el set de entrenamiento\n",
        "# y luego usamos estos valores para sustituir en ambos\n",
        "# sets de entrenamiento y prueba\n",
        "\n",
        "\n",
        "random_sample_train = X_train['age'].dropna().sample(\n",
        "    X_train['age'].isnull().sum(), random_state=0)\n",
        "\n",
        "random_sample_test = X_train['age'].dropna().sample(\n",
        "    X_test['age'].isnull().sum(), random_state=0)\n",
        "\n",
        "# Veamos en más detalle lo que está sucediendo:\n",
        "\n",
        "# 1) dropna() remueve los valores nulos NA de la variable original,\n",
        "# esto significa que vamos a extraer aleatoriamente valores existentes\n",
        "\n",
        "# 2) sample() es el método para calcular la muestra aleatoria\n",
        "\n",
        "# 3) X_train['age'].isnull().sum() es el número de valores aleatorios a extraer\n",
        "# queremos extraer tantos valores al azar como valores nulos hayan en la variable original\n",
        "\n",
        "# 4) random_state fija la semilla para poder reproducir los resultados,\n",
        "# de manera que se puedan extraer siempre los mismos valores, cada vez que corramos el notebook\n",
        "\n",
        "# pandas necesita tener el mismo índice para poder unir los datos\n",
        "random_sample_train.index = X_train[X_train['age'].isnull()].index\n",
        "random_sample_test.index = X_test[X_test['age'].isnull()].index\n",
        "\n",
        "# reemplazar los datos nulos en la variable nueva\n",
        "X_train.loc[X_train['age'].isnull(), 'age_imputed'] = random_sample_train\n",
        "X_test.loc[X_test['age'].isnull(), 'age_imputed'] = random_sample_test"
      ],
      "execution_count": 6,
      "outputs": []
    },
    {
      "cell_type": "code",
      "metadata": {
        "id": "5v0XPe2W-dnQ",
        "outputId": "48f96822-9d3d-43a3-a780-2bd72e5d96f4",
        "colab": {
          "base_uri": "https://localhost:8080/",
          "height": 51
        }
      },
      "source": [
        "print('número de datos nulos a reemplazar en train:',X_train['age'].isnull().sum())\n",
        "print('número de datos nulos a reemplazar en test:',X_test['age'].isnull().sum())"
      ],
      "execution_count": 9,
      "outputs": [
        {
          "output_type": "stream",
          "text": [
            "número de datos nulos a reemplazar en train: 175\n",
            "número de datos nulos a reemplazar en test: 88\n"
          ],
          "name": "stdout"
        }
      ]
    },
    {
      "cell_type": "code",
      "metadata": {
        "id": "dw7GfJUm-Tkg",
        "outputId": "ec1351fe-ef3f-44f5-912b-b3c789ca49ee",
        "colab": {
          "base_uri": "https://localhost:8080/",
          "height": 238
        }
      },
      "source": [
        "#Indices en donde reemplazamos\n",
        "print(random_sample_train.index )\n",
        "print(random_sample_test.index )"
      ],
      "execution_count": 7,
      "outputs": [
        {
          "output_type": "stream",
          "text": [
            "Int64Index([1193,  971, 1284, 1027, 1023, 1255, 1114, 1034,  384, 1137,\n",
            "            ...\n",
            "            1077, 1262,  802,  882,  976,  705,  277, 1033,  835, 1216],\n",
            "           dtype='int64', length=175)\n",
            "Int64Index([1150,  887,  531, 1005, 1168, 1166,  813, 1291,  874, 1041, 1243,\n",
            "             152, 1012,  961, 1000, 1002,  108,  528,  858,  942, 1302, 1179,\n",
            "            1028, 1030,  241,  283,  948,  768, 1135,  184, 1095, 1124,  254,\n",
            "            1128,   80,  918,  491,  988,  477, 1198, 1215, 1305,  991,  204,\n",
            "            1122, 1200, 1078,  320,  483,  798, 1042, 1149, 1197,  597,  795,\n",
            "            1052, 1213, 1072,  958,  269, 1221,  955,   70,  682, 1164,  987,\n",
            "            1073, 1247, 1241, 1013,   15, 1115,  789,  923,  672, 1194,  946,\n",
            "             805, 1076,  808, 1003, 1253,  196,  815, 1292,  900, 1080, 1249],\n",
            "           dtype='int64')\n"
          ],
          "name": "stdout"
        }
      ]
    },
    {
      "cell_type": "code",
      "metadata": {
        "id": "6gCKCvDV_Q28",
        "outputId": "81be4dce-6d8d-40b4-e029-0a949f54b385",
        "colab": {
          "base_uri": "https://localhost:8080/",
          "height": 355
        }
      },
      "source": [
        "X_train.head(15).style"
      ],
      "execution_count": 18,
      "outputs": [
        {
          "output_type": "execute_result",
          "data": {
            "text/html": [
              "<style  type=\"text/css\" >\n",
              "</style><table id=\"T_96f9c66e_0e8a_11eb_b10d_0242ac1c0002\" ><thead>    <tr>        <th class=\"blank level0\" ></th>        <th class=\"col_heading level0 col0\" >survived</th>        <th class=\"col_heading level0 col1\" >age</th>        <th class=\"col_heading level0 col2\" >fare</th>        <th class=\"col_heading level0 col3\" >age_imputed</th>    </tr></thead><tbody>\n",
              "                <tr>\n",
              "                        <th id=\"T_96f9c66e_0e8a_11eb_b10d_0242ac1c0002level0_row0\" class=\"row_heading level0 row0\" >501</th>\n",
              "                        <td id=\"T_96f9c66e_0e8a_11eb_b10d_0242ac1c0002row0_col0\" class=\"data row0 col0\" >1</td>\n",
              "                        <td id=\"T_96f9c66e_0e8a_11eb_b10d_0242ac1c0002row0_col1\" class=\"data row0 col1\" >13.000000</td>\n",
              "                        <td id=\"T_96f9c66e_0e8a_11eb_b10d_0242ac1c0002row0_col2\" class=\"data row0 col2\" >19.500000</td>\n",
              "                        <td id=\"T_96f9c66e_0e8a_11eb_b10d_0242ac1c0002row0_col3\" class=\"data row0 col3\" >13.000000</td>\n",
              "            </tr>\n",
              "            <tr>\n",
              "                        <th id=\"T_96f9c66e_0e8a_11eb_b10d_0242ac1c0002level0_row1\" class=\"row_heading level0 row1\" >588</th>\n",
              "                        <td id=\"T_96f9c66e_0e8a_11eb_b10d_0242ac1c0002row1_col0\" class=\"data row1 col0\" >1</td>\n",
              "                        <td id=\"T_96f9c66e_0e8a_11eb_b10d_0242ac1c0002row1_col1\" class=\"data row1 col1\" >4.000000</td>\n",
              "                        <td id=\"T_96f9c66e_0e8a_11eb_b10d_0242ac1c0002row1_col2\" class=\"data row1 col2\" >23.000000</td>\n",
              "                        <td id=\"T_96f9c66e_0e8a_11eb_b10d_0242ac1c0002row1_col3\" class=\"data row1 col3\" >4.000000</td>\n",
              "            </tr>\n",
              "            <tr>\n",
              "                        <th id=\"T_96f9c66e_0e8a_11eb_b10d_0242ac1c0002level0_row2\" class=\"row_heading level0 row2\" >402</th>\n",
              "                        <td id=\"T_96f9c66e_0e8a_11eb_b10d_0242ac1c0002row2_col0\" class=\"data row2 col0\" >1</td>\n",
              "                        <td id=\"T_96f9c66e_0e8a_11eb_b10d_0242ac1c0002row2_col1\" class=\"data row2 col1\" >30.000000</td>\n",
              "                        <td id=\"T_96f9c66e_0e8a_11eb_b10d_0242ac1c0002row2_col2\" class=\"data row2 col2\" >13.858300</td>\n",
              "                        <td id=\"T_96f9c66e_0e8a_11eb_b10d_0242ac1c0002row2_col3\" class=\"data row2 col3\" >30.000000</td>\n",
              "            </tr>\n",
              "            <tr>\n",
              "                        <th id=\"T_96f9c66e_0e8a_11eb_b10d_0242ac1c0002level0_row3\" class=\"row_heading level0 row3\" >1193</th>\n",
              "                        <td id=\"T_96f9c66e_0e8a_11eb_b10d_0242ac1c0002row3_col0\" class=\"data row3 col0\" >0</td>\n",
              "                        <td id=\"T_96f9c66e_0e8a_11eb_b10d_0242ac1c0002row3_col1\" class=\"data row3 col1\" >nan</td>\n",
              "                        <td id=\"T_96f9c66e_0e8a_11eb_b10d_0242ac1c0002row3_col2\" class=\"data row3 col2\" >7.725000</td>\n",
              "                        <td id=\"T_96f9c66e_0e8a_11eb_b10d_0242ac1c0002row3_col3\" class=\"data row3 col3\" >40.500000</td>\n",
              "            </tr>\n",
              "            <tr>\n",
              "                        <th id=\"T_96f9c66e_0e8a_11eb_b10d_0242ac1c0002level0_row4\" class=\"row_heading level0 row4\" >686</th>\n",
              "                        <td id=\"T_96f9c66e_0e8a_11eb_b10d_0242ac1c0002row4_col0\" class=\"data row4 col0\" >1</td>\n",
              "                        <td id=\"T_96f9c66e_0e8a_11eb_b10d_0242ac1c0002row4_col1\" class=\"data row4 col1\" >22.000000</td>\n",
              "                        <td id=\"T_96f9c66e_0e8a_11eb_b10d_0242ac1c0002row4_col2\" class=\"data row4 col2\" >7.725000</td>\n",
              "                        <td id=\"T_96f9c66e_0e8a_11eb_b10d_0242ac1c0002row4_col3\" class=\"data row4 col3\" >22.000000</td>\n",
              "            </tr>\n",
              "            <tr>\n",
              "                        <th id=\"T_96f9c66e_0e8a_11eb_b10d_0242ac1c0002level0_row5\" class=\"row_heading level0 row5\" >971</th>\n",
              "                        <td id=\"T_96f9c66e_0e8a_11eb_b10d_0242ac1c0002row5_col0\" class=\"data row5 col0\" >0</td>\n",
              "                        <td id=\"T_96f9c66e_0e8a_11eb_b10d_0242ac1c0002row5_col1\" class=\"data row5 col1\" >nan</td>\n",
              "                        <td id=\"T_96f9c66e_0e8a_11eb_b10d_0242ac1c0002row5_col2\" class=\"data row5 col2\" >7.879200</td>\n",
              "                        <td id=\"T_96f9c66e_0e8a_11eb_b10d_0242ac1c0002row5_col3\" class=\"data row5 col3\" >39.000000</td>\n",
              "            </tr>\n",
              "            <tr>\n",
              "                        <th id=\"T_96f9c66e_0e8a_11eb_b10d_0242ac1c0002level0_row6\" class=\"row_heading level0 row6\" >117</th>\n",
              "                        <td id=\"T_96f9c66e_0e8a_11eb_b10d_0242ac1c0002row6_col0\" class=\"data row6 col0\" >1</td>\n",
              "                        <td id=\"T_96f9c66e_0e8a_11eb_b10d_0242ac1c0002row6_col1\" class=\"data row6 col1\" >30.000000</td>\n",
              "                        <td id=\"T_96f9c66e_0e8a_11eb_b10d_0242ac1c0002row6_col2\" class=\"data row6 col2\" >56.929200</td>\n",
              "                        <td id=\"T_96f9c66e_0e8a_11eb_b10d_0242ac1c0002row6_col3\" class=\"data row6 col3\" >30.000000</td>\n",
              "            </tr>\n",
              "            <tr>\n",
              "                        <th id=\"T_96f9c66e_0e8a_11eb_b10d_0242ac1c0002level0_row7\" class=\"row_heading level0 row7\" >540</th>\n",
              "                        <td id=\"T_96f9c66e_0e8a_11eb_b10d_0242ac1c0002row7_col0\" class=\"data row7 col0\" >1</td>\n",
              "                        <td id=\"T_96f9c66e_0e8a_11eb_b10d_0242ac1c0002row7_col1\" class=\"data row7 col1\" >2.000000</td>\n",
              "                        <td id=\"T_96f9c66e_0e8a_11eb_b10d_0242ac1c0002row7_col2\" class=\"data row7 col2\" >26.000000</td>\n",
              "                        <td id=\"T_96f9c66e_0e8a_11eb_b10d_0242ac1c0002row7_col3\" class=\"data row7 col3\" >2.000000</td>\n",
              "            </tr>\n",
              "            <tr>\n",
              "                        <th id=\"T_96f9c66e_0e8a_11eb_b10d_0242ac1c0002level0_row8\" class=\"row_heading level0 row8\" >294</th>\n",
              "                        <td id=\"T_96f9c66e_0e8a_11eb_b10d_0242ac1c0002row8_col0\" class=\"data row8 col0\" >0</td>\n",
              "                        <td id=\"T_96f9c66e_0e8a_11eb_b10d_0242ac1c0002row8_col1\" class=\"data row8 col1\" >49.000000</td>\n",
              "                        <td id=\"T_96f9c66e_0e8a_11eb_b10d_0242ac1c0002row8_col2\" class=\"data row8 col2\" >110.883300</td>\n",
              "                        <td id=\"T_96f9c66e_0e8a_11eb_b10d_0242ac1c0002row8_col3\" class=\"data row8 col3\" >49.000000</td>\n",
              "            </tr>\n",
              "            <tr>\n",
              "                        <th id=\"T_96f9c66e_0e8a_11eb_b10d_0242ac1c0002level0_row9\" class=\"row_heading level0 row9\" >261</th>\n",
              "                        <td id=\"T_96f9c66e_0e8a_11eb_b10d_0242ac1c0002row9_col0\" class=\"data row9 col0\" >1</td>\n",
              "                        <td id=\"T_96f9c66e_0e8a_11eb_b10d_0242ac1c0002row9_col1\" class=\"data row9 col1\" >35.000000</td>\n",
              "                        <td id=\"T_96f9c66e_0e8a_11eb_b10d_0242ac1c0002row9_col2\" class=\"data row9 col2\" >26.287500</td>\n",
              "                        <td id=\"T_96f9c66e_0e8a_11eb_b10d_0242ac1c0002row9_col3\" class=\"data row9 col3\" >35.000000</td>\n",
              "            </tr>\n",
              "            <tr>\n",
              "                        <th id=\"T_96f9c66e_0e8a_11eb_b10d_0242ac1c0002level0_row10\" class=\"row_heading level0 row10\" >587</th>\n",
              "                        <td id=\"T_96f9c66e_0e8a_11eb_b10d_0242ac1c0002row10_col0\" class=\"data row10 col0\" >1</td>\n",
              "                        <td id=\"T_96f9c66e_0e8a_11eb_b10d_0242ac1c0002row10_col1\" class=\"data row10 col1\" >2.000000</td>\n",
              "                        <td id=\"T_96f9c66e_0e8a_11eb_b10d_0242ac1c0002row10_col2\" class=\"data row10 col2\" >23.000000</td>\n",
              "                        <td id=\"T_96f9c66e_0e8a_11eb_b10d_0242ac1c0002row10_col3\" class=\"data row10 col3\" >2.000000</td>\n",
              "            </tr>\n",
              "            <tr>\n",
              "                        <th id=\"T_96f9c66e_0e8a_11eb_b10d_0242ac1c0002level0_row11\" class=\"row_heading level0 row11\" >489</th>\n",
              "                        <td id=\"T_96f9c66e_0e8a_11eb_b10d_0242ac1c0002row11_col0\" class=\"data row11 col0\" >1</td>\n",
              "                        <td id=\"T_96f9c66e_0e8a_11eb_b10d_0242ac1c0002row11_col1\" class=\"data row11 col1\" >42.000000</td>\n",
              "                        <td id=\"T_96f9c66e_0e8a_11eb_b10d_0242ac1c0002row11_col2\" class=\"data row11 col2\" >26.000000</td>\n",
              "                        <td id=\"T_96f9c66e_0e8a_11eb_b10d_0242ac1c0002row11_col3\" class=\"data row11 col3\" >42.000000</td>\n",
              "            </tr>\n",
              "            <tr>\n",
              "                        <th id=\"T_96f9c66e_0e8a_11eb_b10d_0242ac1c0002level0_row12\" class=\"row_heading level0 row12\" >2</th>\n",
              "                        <td id=\"T_96f9c66e_0e8a_11eb_b10d_0242ac1c0002row12_col0\" class=\"data row12 col0\" >0</td>\n",
              "                        <td id=\"T_96f9c66e_0e8a_11eb_b10d_0242ac1c0002row12_col1\" class=\"data row12 col1\" >2.000000</td>\n",
              "                        <td id=\"T_96f9c66e_0e8a_11eb_b10d_0242ac1c0002row12_col2\" class=\"data row12 col2\" >151.550000</td>\n",
              "                        <td id=\"T_96f9c66e_0e8a_11eb_b10d_0242ac1c0002row12_col3\" class=\"data row12 col3\" >2.000000</td>\n",
              "            </tr>\n",
              "            <tr>\n",
              "                        <th id=\"T_96f9c66e_0e8a_11eb_b10d_0242ac1c0002level0_row13\" class=\"row_heading level0 row13\" >405</th>\n",
              "                        <td id=\"T_96f9c66e_0e8a_11eb_b10d_0242ac1c0002row13_col0\" class=\"data row13 col0\" >0</td>\n",
              "                        <td id=\"T_96f9c66e_0e8a_11eb_b10d_0242ac1c0002row13_col1\" class=\"data row13 col1\" >18.000000</td>\n",
              "                        <td id=\"T_96f9c66e_0e8a_11eb_b10d_0242ac1c0002row13_col2\" class=\"data row13 col2\" >13.000000</td>\n",
              "                        <td id=\"T_96f9c66e_0e8a_11eb_b10d_0242ac1c0002row13_col3\" class=\"data row13 col3\" >18.000000</td>\n",
              "            </tr>\n",
              "            <tr>\n",
              "                        <th id=\"T_96f9c66e_0e8a_11eb_b10d_0242ac1c0002level0_row14\" class=\"row_heading level0 row14\" >1284</th>\n",
              "                        <td id=\"T_96f9c66e_0e8a_11eb_b10d_0242ac1c0002row14_col0\" class=\"data row14 col0\" >0</td>\n",
              "                        <td id=\"T_96f9c66e_0e8a_11eb_b10d_0242ac1c0002row14_col1\" class=\"data row14 col1\" >nan</td>\n",
              "                        <td id=\"T_96f9c66e_0e8a_11eb_b10d_0242ac1c0002row14_col2\" class=\"data row14 col2\" >8.050000</td>\n",
              "                        <td id=\"T_96f9c66e_0e8a_11eb_b10d_0242ac1c0002row14_col3\" class=\"data row14 col3\" >24.000000</td>\n",
              "            </tr>\n",
              "    </tbody></table>"
            ],
            "text/plain": [
              "<pandas.io.formats.style.Styler at 0x7ff8c2bc19e8>"
            ]
          },
          "metadata": {
            "tags": []
          },
          "execution_count": 18
        }
      ]
    },
    {
      "cell_type": "code",
      "metadata": {
        "id": "Vh8K4Rrx_jl4",
        "outputId": "9d280fff-b4e9-4dd5-e1f8-fcb056998c87",
        "colab": {
          "base_uri": "https://localhost:8080/",
          "height": 355
        }
      },
      "source": [
        "X_test.head(15).style"
      ],
      "execution_count": 17,
      "outputs": [
        {
          "output_type": "execute_result",
          "data": {
            "text/html": [
              "<style  type=\"text/css\" >\n",
              "</style><table id=\"T_92d73bca_0e8a_11eb_b10d_0242ac1c0002\" ><thead>    <tr>        <th class=\"blank level0\" ></th>        <th class=\"col_heading level0 col0\" >survived</th>        <th class=\"col_heading level0 col1\" >age</th>        <th class=\"col_heading level0 col2\" >fare</th>        <th class=\"col_heading level0 col3\" >age_imputed</th>    </tr></thead><tbody>\n",
              "                <tr>\n",
              "                        <th id=\"T_92d73bca_0e8a_11eb_b10d_0242ac1c0002level0_row0\" class=\"row_heading level0 row0\" >1139</th>\n",
              "                        <td id=\"T_92d73bca_0e8a_11eb_b10d_0242ac1c0002row0_col0\" class=\"data row0 col0\" >0</td>\n",
              "                        <td id=\"T_92d73bca_0e8a_11eb_b10d_0242ac1c0002row0_col1\" class=\"data row0 col1\" >38.000000</td>\n",
              "                        <td id=\"T_92d73bca_0e8a_11eb_b10d_0242ac1c0002row0_col2\" class=\"data row0 col2\" >7.895800</td>\n",
              "                        <td id=\"T_92d73bca_0e8a_11eb_b10d_0242ac1c0002row0_col3\" class=\"data row0 col3\" >38.000000</td>\n",
              "            </tr>\n",
              "            <tr>\n",
              "                        <th id=\"T_92d73bca_0e8a_11eb_b10d_0242ac1c0002level0_row1\" class=\"row_heading level0 row1\" >533</th>\n",
              "                        <td id=\"T_92d73bca_0e8a_11eb_b10d_0242ac1c0002row1_col0\" class=\"data row1 col0\" >1</td>\n",
              "                        <td id=\"T_92d73bca_0e8a_11eb_b10d_0242ac1c0002row1_col1\" class=\"data row1 col1\" >21.000000</td>\n",
              "                        <td id=\"T_92d73bca_0e8a_11eb_b10d_0242ac1c0002row1_col2\" class=\"data row1 col2\" >21.000000</td>\n",
              "                        <td id=\"T_92d73bca_0e8a_11eb_b10d_0242ac1c0002row1_col3\" class=\"data row1 col3\" >21.000000</td>\n",
              "            </tr>\n",
              "            <tr>\n",
              "                        <th id=\"T_92d73bca_0e8a_11eb_b10d_0242ac1c0002level0_row2\" class=\"row_heading level0 row2\" >459</th>\n",
              "                        <td id=\"T_92d73bca_0e8a_11eb_b10d_0242ac1c0002row2_col0\" class=\"data row2 col0\" >0</td>\n",
              "                        <td id=\"T_92d73bca_0e8a_11eb_b10d_0242ac1c0002row2_col1\" class=\"data row2 col1\" >42.000000</td>\n",
              "                        <td id=\"T_92d73bca_0e8a_11eb_b10d_0242ac1c0002row2_col2\" class=\"data row2 col2\" >27.000000</td>\n",
              "                        <td id=\"T_92d73bca_0e8a_11eb_b10d_0242ac1c0002row2_col3\" class=\"data row2 col3\" >42.000000</td>\n",
              "            </tr>\n",
              "            <tr>\n",
              "                        <th id=\"T_92d73bca_0e8a_11eb_b10d_0242ac1c0002level0_row3\" class=\"row_heading level0 row3\" >1150</th>\n",
              "                        <td id=\"T_92d73bca_0e8a_11eb_b10d_0242ac1c0002row3_col0\" class=\"data row3 col0\" >0</td>\n",
              "                        <td id=\"T_92d73bca_0e8a_11eb_b10d_0242ac1c0002row3_col1\" class=\"data row3 col1\" >nan</td>\n",
              "                        <td id=\"T_92d73bca_0e8a_11eb_b10d_0242ac1c0002row3_col2\" class=\"data row3 col2\" >14.500000</td>\n",
              "                        <td id=\"T_92d73bca_0e8a_11eb_b10d_0242ac1c0002row3_col3\" class=\"data row3 col3\" >40.500000</td>\n",
              "            </tr>\n",
              "            <tr>\n",
              "                        <th id=\"T_92d73bca_0e8a_11eb_b10d_0242ac1c0002level0_row4\" class=\"row_heading level0 row4\" >393</th>\n",
              "                        <td id=\"T_92d73bca_0e8a_11eb_b10d_0242ac1c0002row4_col0\" class=\"data row4 col0\" >0</td>\n",
              "                        <td id=\"T_92d73bca_0e8a_11eb_b10d_0242ac1c0002row4_col1\" class=\"data row4 col1\" >25.000000</td>\n",
              "                        <td id=\"T_92d73bca_0e8a_11eb_b10d_0242ac1c0002row4_col2\" class=\"data row4 col2\" >31.500000</td>\n",
              "                        <td id=\"T_92d73bca_0e8a_11eb_b10d_0242ac1c0002row4_col3\" class=\"data row4 col3\" >25.000000</td>\n",
              "            </tr>\n",
              "            <tr>\n",
              "                        <th id=\"T_92d73bca_0e8a_11eb_b10d_0242ac1c0002level0_row5\" class=\"row_heading level0 row5\" >1189</th>\n",
              "                        <td id=\"T_92d73bca_0e8a_11eb_b10d_0242ac1c0002row5_col0\" class=\"data row5 col0\" >1</td>\n",
              "                        <td id=\"T_92d73bca_0e8a_11eb_b10d_0242ac1c0002row5_col1\" class=\"data row5 col1\" >4.000000</td>\n",
              "                        <td id=\"T_92d73bca_0e8a_11eb_b10d_0242ac1c0002row5_col2\" class=\"data row5 col2\" >16.700000</td>\n",
              "                        <td id=\"T_92d73bca_0e8a_11eb_b10d_0242ac1c0002row5_col3\" class=\"data row5 col3\" >4.000000</td>\n",
              "            </tr>\n",
              "            <tr>\n",
              "                        <th id=\"T_92d73bca_0e8a_11eb_b10d_0242ac1c0002level0_row6\" class=\"row_heading level0 row6\" >5</th>\n",
              "                        <td id=\"T_92d73bca_0e8a_11eb_b10d_0242ac1c0002row6_col0\" class=\"data row6 col0\" >1</td>\n",
              "                        <td id=\"T_92d73bca_0e8a_11eb_b10d_0242ac1c0002row6_col1\" class=\"data row6 col1\" >48.000000</td>\n",
              "                        <td id=\"T_92d73bca_0e8a_11eb_b10d_0242ac1c0002row6_col2\" class=\"data row6 col2\" >26.550000</td>\n",
              "                        <td id=\"T_92d73bca_0e8a_11eb_b10d_0242ac1c0002row6_col3\" class=\"data row6 col3\" >48.000000</td>\n",
              "            </tr>\n",
              "            <tr>\n",
              "                        <th id=\"T_92d73bca_0e8a_11eb_b10d_0242ac1c0002level0_row7\" class=\"row_heading level0 row7\" >231</th>\n",
              "                        <td id=\"T_92d73bca_0e8a_11eb_b10d_0242ac1c0002row7_col0\" class=\"data row7 col0\" >1</td>\n",
              "                        <td id=\"T_92d73bca_0e8a_11eb_b10d_0242ac1c0002row7_col1\" class=\"data row7 col1\" >52.000000</td>\n",
              "                        <td id=\"T_92d73bca_0e8a_11eb_b10d_0242ac1c0002row7_col2\" class=\"data row7 col2\" >30.500000</td>\n",
              "                        <td id=\"T_92d73bca_0e8a_11eb_b10d_0242ac1c0002row7_col3\" class=\"data row7 col3\" >52.000000</td>\n",
              "            </tr>\n",
              "            <tr>\n",
              "                        <th id=\"T_92d73bca_0e8a_11eb_b10d_0242ac1c0002level0_row8\" class=\"row_heading level0 row8\" >330</th>\n",
              "                        <td id=\"T_92d73bca_0e8a_11eb_b10d_0242ac1c0002row8_col0\" class=\"data row8 col0\" >0</td>\n",
              "                        <td id=\"T_92d73bca_0e8a_11eb_b10d_0242ac1c0002row8_col1\" class=\"data row8 col1\" >57.000000</td>\n",
              "                        <td id=\"T_92d73bca_0e8a_11eb_b10d_0242ac1c0002row8_col2\" class=\"data row8 col2\" >13.000000</td>\n",
              "                        <td id=\"T_92d73bca_0e8a_11eb_b10d_0242ac1c0002row8_col3\" class=\"data row8 col3\" >57.000000</td>\n",
              "            </tr>\n",
              "            <tr>\n",
              "                        <th id=\"T_92d73bca_0e8a_11eb_b10d_0242ac1c0002level0_row9\" class=\"row_heading level0 row9\" >887</th>\n",
              "                        <td id=\"T_92d73bca_0e8a_11eb_b10d_0242ac1c0002row9_col0\" class=\"data row9 col0\" >1</td>\n",
              "                        <td id=\"T_92d73bca_0e8a_11eb_b10d_0242ac1c0002row9_col1\" class=\"data row9 col1\" >nan</td>\n",
              "                        <td id=\"T_92d73bca_0e8a_11eb_b10d_0242ac1c0002row9_col2\" class=\"data row9 col2\" >8.112500</td>\n",
              "                        <td id=\"T_92d73bca_0e8a_11eb_b10d_0242ac1c0002row9_col3\" class=\"data row9 col3\" >39.000000</td>\n",
              "            </tr>\n",
              "            <tr>\n",
              "                        <th id=\"T_92d73bca_0e8a_11eb_b10d_0242ac1c0002level0_row10\" class=\"row_heading level0 row10\" >531</th>\n",
              "                        <td id=\"T_92d73bca_0e8a_11eb_b10d_0242ac1c0002row10_col0\" class=\"data row10 col0\" >0</td>\n",
              "                        <td id=\"T_92d73bca_0e8a_11eb_b10d_0242ac1c0002row10_col1\" class=\"data row10 col1\" >nan</td>\n",
              "                        <td id=\"T_92d73bca_0e8a_11eb_b10d_0242ac1c0002row10_col2\" class=\"data row10 col2\" >15.050000</td>\n",
              "                        <td id=\"T_92d73bca_0e8a_11eb_b10d_0242ac1c0002row10_col3\" class=\"data row10 col3\" >24.000000</td>\n",
              "            </tr>\n",
              "            <tr>\n",
              "                        <th id=\"T_92d73bca_0e8a_11eb_b10d_0242ac1c0002level0_row11\" class=\"row_heading level0 row11\" >790</th>\n",
              "                        <td id=\"T_92d73bca_0e8a_11eb_b10d_0242ac1c0002row11_col0\" class=\"data row11 col0\" >0</td>\n",
              "                        <td id=\"T_92d73bca_0e8a_11eb_b10d_0242ac1c0002row11_col1\" class=\"data row11 col1\" >39.000000</td>\n",
              "                        <td id=\"T_92d73bca_0e8a_11eb_b10d_0242ac1c0002row11_col2\" class=\"data row11 col2\" >7.229200</td>\n",
              "                        <td id=\"T_92d73bca_0e8a_11eb_b10d_0242ac1c0002row11_col3\" class=\"data row11 col3\" >39.000000</td>\n",
              "            </tr>\n",
              "            <tr>\n",
              "                        <th id=\"T_92d73bca_0e8a_11eb_b10d_0242ac1c0002level0_row12\" class=\"row_heading level0 row12\" >427</th>\n",
              "                        <td id=\"T_92d73bca_0e8a_11eb_b10d_0242ac1c0002row12_col0\" class=\"data row12 col0\" >1</td>\n",
              "                        <td id=\"T_92d73bca_0e8a_11eb_b10d_0242ac1c0002row12_col1\" class=\"data row12 col1\" >0.666700</td>\n",
              "                        <td id=\"T_92d73bca_0e8a_11eb_b10d_0242ac1c0002row12_col2\" class=\"data row12 col2\" >14.500000</td>\n",
              "                        <td id=\"T_92d73bca_0e8a_11eb_b10d_0242ac1c0002row12_col3\" class=\"data row12 col3\" >0.666700</td>\n",
              "            </tr>\n",
              "            <tr>\n",
              "                        <th id=\"T_92d73bca_0e8a_11eb_b10d_0242ac1c0002level0_row13\" class=\"row_heading level0 row13\" >1260</th>\n",
              "                        <td id=\"T_92d73bca_0e8a_11eb_b10d_0242ac1c0002row13_col0\" class=\"data row13 col0\" >1</td>\n",
              "                        <td id=\"T_92d73bca_0e8a_11eb_b10d_0242ac1c0002row13_col1\" class=\"data row13 col1\" >18.000000</td>\n",
              "                        <td id=\"T_92d73bca_0e8a_11eb_b10d_0242ac1c0002row13_col2\" class=\"data row13 col2\" >9.841700</td>\n",
              "                        <td id=\"T_92d73bca_0e8a_11eb_b10d_0242ac1c0002row13_col3\" class=\"data row13 col3\" >18.000000</td>\n",
              "            </tr>\n",
              "            <tr>\n",
              "                        <th id=\"T_92d73bca_0e8a_11eb_b10d_0242ac1c0002level0_row14\" class=\"row_heading level0 row14\" >251</th>\n",
              "                        <td id=\"T_92d73bca_0e8a_11eb_b10d_0242ac1c0002row14_col0\" class=\"data row14 col0\" >1</td>\n",
              "                        <td id=\"T_92d73bca_0e8a_11eb_b10d_0242ac1c0002row14_col1\" class=\"data row14 col1\" >21.000000</td>\n",
              "                        <td id=\"T_92d73bca_0e8a_11eb_b10d_0242ac1c0002row14_col2\" class=\"data row14 col2\" >262.375000</td>\n",
              "                        <td id=\"T_92d73bca_0e8a_11eb_b10d_0242ac1c0002row14_col3\" class=\"data row14 col3\" >21.000000</td>\n",
              "            </tr>\n",
              "    </tbody></table>"
            ],
            "text/plain": [
              "<pandas.io.formats.style.Styler at 0x7ff8c2bc1278>"
            ]
          },
          "metadata": {
            "tags": []
          },
          "execution_count": 17
        }
      ]
    },
    {
      "cell_type": "code",
      "metadata": {
        "id": "FqhnWNrgu94v",
        "outputId": "ff69707d-d83f-4e59-c19d-45ce6601e6f7",
        "colab": {
          "base_uri": "https://localhost:8080/",
          "height": 34
        }
      },
      "source": [
        "# revisemos que los valores nulos fueron sustituidos\n",
        "X_train['age_imputed'].isnull().sum()"
      ],
      "execution_count": 15,
      "outputs": [
        {
          "output_type": "execute_result",
          "data": {
            "text/plain": [
              "0"
            ]
          },
          "metadata": {
            "tags": []
          },
          "execution_count": 15
        }
      ]
    },
    {
      "cell_type": "code",
      "metadata": {
        "id": "JaPSktqgu94y",
        "outputId": "99ac81e8-b9b1-49e1-9ab0-31abca8b0eac",
        "colab": {
          "base_uri": "https://localhost:8080/",
          "height": 34
        }
      },
      "source": [
        "# revisemos que los valores nulos fueron sustituidos\n",
        "X_test['age_imputed'].isnull().sum()"
      ],
      "execution_count": 16,
      "outputs": [
        {
          "output_type": "execute_result",
          "data": {
            "text/plain": [
              "0"
            ]
          },
          "metadata": {
            "tags": []
          },
          "execution_count": 16
        }
      ]
    },
    {
      "cell_type": "markdown",
      "metadata": {
        "id": "HiV6coi3u944"
      },
      "source": [
        "Podemos ver como los valores nulos fueron reemplazados por diferentes valores en las diferentes filas u observaciones!. Esto es lo que queríamos."
      ]
    },
    {
      "cell_type": "markdown",
      "metadata": {
        "id": "vNULlIKVu944"
      },
      "source": [
        "#### La muestra aleatoria preserva la distribución original de las variables\n"
      ]
    },
    {
      "cell_type": "code",
      "metadata": {
        "id": "CAr30r47u945",
        "outputId": "ade450ac-66c3-4a4a-9e56-10e5b24ea821",
        "colab": {
          "base_uri": "https://localhost:8080/",
          "height": 284
        }
      },
      "source": [
        "# podemos ver que la distribución de la variable luego de \n",
        "# la sustitución es casi igual que la original\n",
        "\n",
        "fig = plt.figure()\n",
        "ax = fig.add_subplot(111)\n",
        "\n",
        "X_train['age'].plot(kind='kde', ax=ax)\n",
        "X_train['age_imputed'].plot(kind='kde', ax=ax, color='red')\n",
        "\n",
        "lines, labels = ax.get_legend_handles_labels()\n",
        "ax.legend(lines, labels, loc='best')"
      ],
      "execution_count": 19,
      "outputs": [
        {
          "output_type": "execute_result",
          "data": {
            "text/plain": [
              "<matplotlib.legend.Legend at 0x7ff8c2ab6550>"
            ]
          },
          "metadata": {
            "tags": []
          },
          "execution_count": 19
        },
        {
          "output_type": "display_data",
          "data": {
            "image/png": "[encoded data removed]",
            "text/plain": [
              "<Figure size 432x288 with 1 Axes>"
            ]
          },
          "metadata": {
            "tags": [],
            "needs_background": "light"
          }
        }
      ]
    },
    {
      "cell_type": "markdown",
      "metadata": {
        "id": "KvGtc71Fu947"
      },
      "source": [
        "Podemos ver que reemplazando los valores faltantes con una muestra aleatoria del set de entrenamiento se preserva la distribución original de la variable.\n",
        "\n",
        "Si recuerdas de los notebooks anteriores, las otras técnicas de imputación alteraron la distribución de age, porque el porcentaje de NA en age es bastante alto,  ~20%. Sin embargo, la sustitución por muestra aleatoria preserva la distribución original, hasta en esos casos. Por lo tanto esta técnica es bastante útil, si estamos construyendo modelos lineales y no queremos distorsionar la distribución normal de las variables.\n"
      ]
    },
    {
      "cell_type": "code",
      "metadata": {
        "id": "Xn0R_qUdu947",
        "outputId": "61e59edd-04c9-4ef6-d0ce-b09a1d79e207",
        "colab": {
          "base_uri": "https://localhost:8080/",
          "height": 51
        }
      },
      "source": [
        "# hay cambios en la varianza de la variable.\n",
        "# sin embargo, este cambio es mucho más pequeño \n",
        "# comparado con la sustitución por la media / mediana \n",
        "\n",
        "print('Varianza variable original: ', X_train['age'].var())\n",
        "print('Varianza despues de la sustitición aleatoria: ', X_train['age_imputed'].var())"
      ],
      "execution_count": 20,
      "outputs": [
        {
          "output_type": "stream",
          "text": [
            "Varianza variable original:  194.16304666581854\n",
            "Varianza despues de la sustitición aleatoria:  198.53703762759602\n"
          ],
          "name": "stdout"
        }
      ]
    },
    {
      "cell_type": "code",
      "metadata": {
        "id": "WCA5wl91u949",
        "outputId": "3e8f6c9c-63dc-4ef2-c5c4-6c73852b0175",
        "colab": {
          "base_uri": "https://localhost:8080/",
          "height": 142
        }
      },
      "source": [
        "# La covarianza de edad con fare son menos afectadas por la técnica de imputación\n",
        "# comparada con la suputación por la media o mediana\n",
        "\n",
        "X_train[['fare', 'age', 'age_imputed']].cov()"
      ],
      "execution_count": 21,
      "outputs": [
        {
          "output_type": "execute_result",
          "data": {
            "text/html": [
              "<div>\n",
              "<style scoped>\n",
              "    .dataframe tbody tr th:only-of-type {\n",
              "        vertical-align: middle;\n",
              "    }\n",
              "\n",
              "    .dataframe tbody tr th {\n",
              "        vertical-align: top;\n",
              "    }\n",
              "\n",
              "    .dataframe thead th {\n",
              "        text-align: right;\n",
              "    }\n",
              "</style>\n",
              "<table border=\"1\" class=\"dataframe\">\n",
              "  <thead>\n",
              "    <tr style=\"text-align: right;\">\n",
              "      <th></th>\n",
              "      <th>fare</th>\n",
              "      <th>age</th>\n",
              "      <th>age_imputed</th>\n",
              "    </tr>\n",
              "  </thead>\n",
              "  <tbody>\n",
              "    <tr>\n",
              "      <th>fare</th>\n",
              "      <td>2248.326729</td>\n",
              "      <td>136.176223</td>\n",
              "      <td>100.938070</td>\n",
              "    </tr>\n",
              "    <tr>\n",
              "      <th>age</th>\n",
              "      <td>136.176223</td>\n",
              "      <td>194.163047</td>\n",
              "      <td>194.163047</td>\n",
              "    </tr>\n",
              "    <tr>\n",
              "      <th>age_imputed</th>\n",
              "      <td>100.938070</td>\n",
              "      <td>194.163047</td>\n",
              "      <td>198.537038</td>\n",
              "    </tr>\n",
              "  </tbody>\n",
              "</table>\n",
              "</div>"
            ],
            "text/plain": [
              "                    fare         age  age_imputed\n",
              "fare         2248.326729  136.176223   100.938070\n",
              "age           136.176223  194.163047   194.163047\n",
              "age_imputed   100.938070  194.163047   198.537038"
            ]
          },
          "metadata": {
            "tags": []
          },
          "execution_count": 21
        }
      ]
    },
    {
      "cell_type": "code",
      "metadata": {
        "id": "dClXDaZTAXW1",
        "outputId": "80d92f8b-900e-4ef2-b411-ec8c96143e91",
        "colab": {
          "base_uri": "https://localhost:8080/",
          "height": 722
        }
      },
      "source": [
        "#Revisemos si la correlación fue afectada\n",
        "# redondeando los valores a 2 decimales\n",
        "import seaborn as sns\n",
        "features = X_train.columns\n",
        "correlation_matrix = X_train[features].corr().round(2)\n",
        "\n",
        "# Grafiquemos la matriz de correlación usando seaborn\n",
        "# annot = True para imprimir los coeficientes de correlación\n",
        "\n",
        "#Podemos ver que la relación de las variables age, age_imputed con Fare es la misma\n",
        "#Podemos ver que el indice de correlación si está afectado por la imputación\n",
        "figure = plt.figure(figsize=(12, 12))\n",
        "sns.heatmap(data=correlation_matrix, annot=True)"
      ],
      "execution_count": 22,
      "outputs": [
        {
          "output_type": "execute_result",
          "data": {
            "text/plain": [
              "<matplotlib.axes._subplots.AxesSubplot at 0x7ff8c2453f28>"
            ]
          },
          "metadata": {
            "tags": []
          },
          "execution_count": 22
        },
        {
          "output_type": "display_data",
          "data": {
            "image/png": "[encoded data removed]",
            "text/plain": [
              "<Figure size 864x864 with 2 Axes>"
            ]
          },
          "metadata": {
            "tags": [],
            "needs_background": "light"
          }
        }
      ]
    },
    {
      "cell_type": "code",
      "metadata": {
        "id": "K4c6lNFvu94_",
        "outputId": "3879aefc-c47f-4f85-d881-0403d73ab021",
        "colab": {
          "base_uri": "https://localhost:8080/",
          "height": 283
        }
      },
      "source": [
        "# Finalmente, los outliers (valores extremos) están menos afectados por esta técnica\n",
        "\n",
        "# Corroboremos usando un gráfico de caja \n",
        "X_train[['age', 'age_imputed']].boxplot()"
      ],
      "execution_count": 23,
      "outputs": [
        {
          "output_type": "execute_result",
          "data": {
            "text/plain": [
              "<matplotlib.axes._subplots.AxesSubplot at 0x7ff8c2bc1978>"
            ]
          },
          "metadata": {
            "tags": []
          },
          "execution_count": 23
        },
        {
          "output_type": "display_data",
          "data": {
            "image/png": "[encoded data removed]",
            "text/plain": [
              "<Figure size 432x288 with 1 Axes>"
            ]
          },
          "metadata": {
            "tags": [],
            "needs_background": "light"
          }
        }
      ]
    },
    {
      "cell_type": "markdown",
      "metadata": {
        "id": "C2bOmgmhu95B"
      },
      "source": [
        "La sustitución por muestra aleatoria ofrece todas las ventajas que trae preservar la distribución original. Y eso es algo positivo, particularmente, si estamos interesados en la distribución de la variable y en la presencia de valores extremos.\n",
        "\n",
        "Esto es particularmente relevante para los modelos lineales pero no tan importante para los modelos basados en árboles de decisión.\n"
      ]
    },
    {
      "cell_type": "markdown",
      "metadata": {
        "id": "qWCHGxYju95C"
      },
      "source": [
        "## Aleatoriedad puede llevar a diferentes predicciones para la misma observación\n",
        "\n",
        "Examinemos el efecto de aleatoriedad en múltiples predicciones sobre la misma observacion, y cómo podemos mitigar este comportamiento, ya que es muy importante cuando ponemos nuestros modelos en producción.\n"
      ]
    },
    {
      "cell_type": "code",
      "metadata": {
        "id": "vYgvDkJHu95C",
        "outputId": "ef6dbfe6-e545-40d2-dff2-198b8b15b846",
        "colab": {
          "base_uri": "https://localhost:8080/",
          "height": 80
        }
      },
      "source": [
        "# seleccionemos una observación con NA en age\n",
        "# en este caso seleccionamos la observación con índice 15\n",
        "\n",
        "observation = data[data.age.isnull()].head(1)\n",
        "observation"
      ],
      "execution_count": 24,
      "outputs": [
        {
          "output_type": "execute_result",
          "data": {
            "text/html": [
              "<div>\n",
              "<style scoped>\n",
              "    .dataframe tbody tr th:only-of-type {\n",
              "        vertical-align: middle;\n",
              "    }\n",
              "\n",
              "    .dataframe tbody tr th {\n",
              "        vertical-align: top;\n",
              "    }\n",
              "\n",
              "    .dataframe thead th {\n",
              "        text-align: right;\n",
              "    }\n",
              "</style>\n",
              "<table border=\"1\" class=\"dataframe\">\n",
              "  <thead>\n",
              "    <tr style=\"text-align: right;\">\n",
              "      <th></th>\n",
              "      <th>survived</th>\n",
              "      <th>age</th>\n",
              "      <th>fare</th>\n",
              "    </tr>\n",
              "  </thead>\n",
              "  <tbody>\n",
              "    <tr>\n",
              "      <th>15</th>\n",
              "      <td>0</td>\n",
              "      <td>NaN</td>\n",
              "      <td>25.925</td>\n",
              "    </tr>\n",
              "  </tbody>\n",
              "</table>\n",
              "</div>"
            ],
            "text/plain": [
              "    survived  age    fare\n",
              "15         0  NaN  25.925"
            ]
          },
          "metadata": {
            "tags": []
          },
          "execution_count": 24
        }
      ]
    },
    {
      "cell_type": "code",
      "metadata": {
        "id": "rl02L2q-u95E",
        "outputId": "7723ecb6-8813-4a0e-b643-32ce4e37ca37",
        "colab": {
          "base_uri": "https://localhost:8080/",
          "height": 80
        }
      },
      "source": [
        "# y ahora llenamos los NA con un valor aleatorio extraido de la misma\n",
        "# variable donde las observaciones están disponibles\n",
        "\n",
        "# extraer un valor eleatorio, solo 1\n",
        "sampled_value = X_train['age'].dropna().sample(1)\n",
        "\n",
        "# re indexar a 15\n",
        "sampled_value.index = [15]  # pandas necesita el mismo índice para hacer la unión\n",
        "\n",
        "# reemplazar el NA con el valor de la muestra\n",
        "observation['age_random'] = sampled_value\n",
        "\n",
        "observation"
      ],
      "execution_count": 25,
      "outputs": [
        {
          "output_type": "execute_result",
          "data": {
            "text/html": [
              "<div>\n",
              "<style scoped>\n",
              "    .dataframe tbody tr th:only-of-type {\n",
              "        vertical-align: middle;\n",
              "    }\n",
              "\n",
              "    .dataframe tbody tr th {\n",
              "        vertical-align: top;\n",
              "    }\n",
              "\n",
              "    .dataframe thead th {\n",
              "        text-align: right;\n",
              "    }\n",
              "</style>\n",
              "<table border=\"1\" class=\"dataframe\">\n",
              "  <thead>\n",
              "    <tr style=\"text-align: right;\">\n",
              "      <th></th>\n",
              "      <th>survived</th>\n",
              "      <th>age</th>\n",
              "      <th>fare</th>\n",
              "      <th>age_random</th>\n",
              "    </tr>\n",
              "  </thead>\n",
              "  <tbody>\n",
              "    <tr>\n",
              "      <th>15</th>\n",
              "      <td>0</td>\n",
              "      <td>NaN</td>\n",
              "      <td>25.925</td>\n",
              "      <td>45.0</td>\n",
              "    </tr>\n",
              "  </tbody>\n",
              "</table>\n",
              "</div>"
            ],
            "text/plain": [
              "    survived  age    fare  age_random\n",
              "15         0  NaN  25.925        45.0"
            ]
          },
          "metadata": {
            "tags": []
          },
          "execution_count": 25
        }
      ]
    },
    {
      "cell_type": "code",
      "metadata": {
        "id": "O6IKDRTFu95H",
        "outputId": "dd3e5b58-2703-4bc2-a680-909475e1b6f0",
        "colab": {
          "base_uri": "https://localhost:8080/",
          "height": 80
        }
      },
      "source": [
        "# repitamos el ejercicio nuevamente: \n",
        "# llenamos los NA con otro valor aleatorio \n",
        "\n",
        "# extraer valor aleatorio, solo 1\n",
        "sampled_value = X_train['age'].dropna().sample(1)\n",
        "\n",
        "# re indexar a 15\n",
        "sampled_value.index = [15]   #pandas necesita el mismo índice para hacer la unión\n",
        "\n",
        "# reemplazar el NA con el valor de la muestra\n",
        "observation['age_random'] = sampled_value\n",
        "\n",
        "observation"
      ],
      "execution_count": 26,
      "outputs": [
        {
          "output_type": "execute_result",
          "data": {
            "text/html": [
              "<div>\n",
              "<style scoped>\n",
              "    .dataframe tbody tr th:only-of-type {\n",
              "        vertical-align: middle;\n",
              "    }\n",
              "\n",
              "    .dataframe tbody tr th {\n",
              "        vertical-align: top;\n",
              "    }\n",
              "\n",
              "    .dataframe thead th {\n",
              "        text-align: right;\n",
              "    }\n",
              "</style>\n",
              "<table border=\"1\" class=\"dataframe\">\n",
              "  <thead>\n",
              "    <tr style=\"text-align: right;\">\n",
              "      <th></th>\n",
              "      <th>survived</th>\n",
              "      <th>age</th>\n",
              "      <th>fare</th>\n",
              "      <th>age_random</th>\n",
              "    </tr>\n",
              "  </thead>\n",
              "  <tbody>\n",
              "    <tr>\n",
              "      <th>15</th>\n",
              "      <td>0</td>\n",
              "      <td>NaN</td>\n",
              "      <td>25.925</td>\n",
              "      <td>45.0</td>\n",
              "    </tr>\n",
              "  </tbody>\n",
              "</table>\n",
              "</div>"
            ],
            "text/plain": [
              "    survived  age    fare  age_random\n",
              "15         0  NaN  25.925        45.0"
            ]
          },
          "metadata": {
            "tags": []
          },
          "execution_count": 26
        }
      ]
    },
    {
      "cell_type": "code",
      "metadata": {
        "id": "AjxvKTtgu95J",
        "outputId": "a43037b2-3aaf-4193-d792-3a71c7df8c54",
        "colab": {
          "base_uri": "https://localhost:8080/",
          "height": 80
        }
      },
      "source": [
        "# y nuevamente\n",
        "# llenamos los NA con otro valor aleatorio \n",
        "\n",
        "# extraer valor aleatorio, solo 1\n",
        "sampled_value = X_train['age'].dropna().sample(1)\n",
        "\n",
        "# re indexar a 15\n",
        "sampled_value.index = [15]  #pandas necesita el mismo índice para hacer la unión\n",
        "\n",
        "# reemplazar el NA con el valor de la muestra\n",
        "observation['age_random'] = sampled_value\n",
        "\n",
        "observation"
      ],
      "execution_count": 27,
      "outputs": [
        {
          "output_type": "execute_result",
          "data": {
            "text/html": [
              "<div>\n",
              "<style scoped>\n",
              "    .dataframe tbody tr th:only-of-type {\n",
              "        vertical-align: middle;\n",
              "    }\n",
              "\n",
              "    .dataframe tbody tr th {\n",
              "        vertical-align: top;\n",
              "    }\n",
              "\n",
              "    .dataframe thead th {\n",
              "        text-align: right;\n",
              "    }\n",
              "</style>\n",
              "<table border=\"1\" class=\"dataframe\">\n",
              "  <thead>\n",
              "    <tr style=\"text-align: right;\">\n",
              "      <th></th>\n",
              "      <th>survived</th>\n",
              "      <th>age</th>\n",
              "      <th>fare</th>\n",
              "      <th>age_random</th>\n",
              "    </tr>\n",
              "  </thead>\n",
              "  <tbody>\n",
              "    <tr>\n",
              "      <th>15</th>\n",
              "      <td>0</td>\n",
              "      <td>NaN</td>\n",
              "      <td>25.925</td>\n",
              "      <td>28.0</td>\n",
              "    </tr>\n",
              "  </tbody>\n",
              "</table>\n",
              "</div>"
            ],
            "text/plain": [
              "    survived  age    fare  age_random\n",
              "15         0  NaN  25.925        28.0"
            ]
          },
          "metadata": {
            "tags": []
          },
          "execution_count": 27
        }
      ]
    },
    {
      "cell_type": "markdown",
      "metadata": {
        "id": "KKTxOzQUu95M"
      },
      "source": [
        "Podemos ver que cada vez que repetimos esta operación, obtenemos diferentes valores para reemplazar en la misma observación. De hecho, si repetimos este proceso 1000 veces:"
      ]
    },
    {
      "cell_type": "code",
      "metadata": {
        "id": "8U8mppyNu95M",
        "outputId": "f97cc431-0a17-4991-80b7-41aa362534ea",
        "colab": {
          "base_uri": "https://localhost:8080/",
          "height": 296
        }
      },
      "source": [
        "# si repetimos este proceso 1000 veces:\n",
        "\n",
        "values_ls = []\n",
        "\n",
        "# capturamos los valores existentes para faciliar el cómputo\n",
        "tmp = X_train.age.dropna()\n",
        "\n",
        "for i in range(1000):\n",
        "    \n",
        "    # extraer valor aleatorio, solo 1\n",
        "    sampled_value = tmp.sample(1).values\n",
        "    \n",
        "    # anadir el valor extraído a la lista\n",
        "    values_ls.append(float(sampled_value))\n",
        "    \n",
        "pd.Series(values_ls).hist(bins=50)\n",
        "plt.xlabel('Valor extraído aleatoriamente')\n",
        "plt.ylabel('Número de veces')"
      ],
      "execution_count": 28,
      "outputs": [
        {
          "output_type": "execute_result",
          "data": {
            "text/plain": [
              "Text(0, 0.5, 'Número de veces')"
            ]
          },
          "metadata": {
            "tags": []
          },
          "execution_count": 28
        },
        {
          "output_type": "display_data",
          "data": {
            "image/png": "[encoded data removed]",
            "text/plain": [
              "<Figure size 432x288 with 1 Axes>"
            ]
          },
          "metadata": {
            "tags": [],
            "needs_background": "light"
          }
        }
      ]
    },
    {
      "cell_type": "markdown",
      "metadata": {
        "id": "zvlLUlrbu95O"
      },
      "source": [
        "Obtenemos valores muy diferentes para la misma observación. Observa como la distribución de los valores extraídos es similar a la distribución de la variable age.\n",
        "\n",
        "Si estos fueran pacientes buscando un tratamiento médico, cada vez que corremos un modelo predictivo con los valores extraídos aleatoriamente, asignaríamos a los pacientes con mismas características, diferentes tratamiento, y esto no está bien.\n",
        "\n",
        "### Cómo podemos cambiar este comportamiento?\n",
        "\n",
        "Podemos mejorar este comportamiento asignado una semilla:"
      ]
    },
    {
      "cell_type": "code",
      "metadata": {
        "id": "V79AWw8Iu95P",
        "outputId": "661fcb8a-ca0f-4622-e990-c7f28268862c",
        "colab": {
          "base_uri": "https://localhost:8080/",
          "height": 34
        }
      },
      "source": [
        "values_ls = []\n",
        "\n",
        "for i in range(100):\n",
        "\n",
        "    # extraer valor aleatorio, solo 1, ahora con la semilla\n",
        "    sampled_value = X_train.age.dropna().sample(1, random_state=10)\n",
        "\n",
        "    # añadir valor aleatorio a la lista\n",
        "    values_ls.append(float(sampled_value))\n",
        "\n",
        "# imprimir los valores\n",
        "pd.Series(values_ls).unique()"
      ],
      "execution_count": 29,
      "outputs": [
        {
          "output_type": "execute_result",
          "data": {
            "text/plain": [
              "array([23.5])"
            ]
          },
          "metadata": {
            "tags": []
          },
          "execution_count": 29
        }
      ]
    },
    {
      "cell_type": "code",
      "metadata": {
        "scrolled": true,
        "id": "yomTvKdJu95R",
        "outputId": "2671457c-7de9-4554-9d4b-6ad9ad6824e9",
        "colab": {
          "base_uri": "https://localhost:8080/",
          "height": 1000
        }
      },
      "source": [
        "values_ls"
      ],
      "execution_count": 30,
      "outputs": [
        {
          "output_type": "execute_result",
          "data": {
            "text/plain": [
              "[23.5,\n",
              " 23.5,\n",
              " 23.5,\n",
              " 23.5,\n",
              " 23.5,\n",
              " 23.5,\n",
              " 23.5,\n",
              " 23.5,\n",
              " 23.5,\n",
              " 23.5,\n",
              " 23.5,\n",
              " 23.5,\n",
              " 23.5,\n",
              " 23.5,\n",
              " 23.5,\n",
              " 23.5,\n",
              " 23.5,\n",
              " 23.5,\n",
              " 23.5,\n",
              " 23.5,\n",
              " 23.5,\n",
              " 23.5,\n",
              " 23.5,\n",
              " 23.5,\n",
              " 23.5,\n",
              " 23.5,\n",
              " 23.5,\n",
              " 23.5,\n",
              " 23.5,\n",
              " 23.5,\n",
              " 23.5,\n",
              " 23.5,\n",
              " 23.5,\n",
              " 23.5,\n",
              " 23.5,\n",
              " 23.5,\n",
              " 23.5,\n",
              " 23.5,\n",
              " 23.5,\n",
              " 23.5,\n",
              " 23.5,\n",
              " 23.5,\n",
              " 23.5,\n",
              " 23.5,\n",
              " 23.5,\n",
              " 23.5,\n",
              " 23.5,\n",
              " 23.5,\n",
              " 23.5,\n",
              " 23.5,\n",
              " 23.5,\n",
              " 23.5,\n",
              " 23.5,\n",
              " 23.5,\n",
              " 23.5,\n",
              " 23.5,\n",
              " 23.5,\n",
              " 23.5,\n",
              " 23.5,\n",
              " 23.5,\n",
              " 23.5,\n",
              " 23.5,\n",
              " 23.5,\n",
              " 23.5,\n",
              " 23.5,\n",
              " 23.5,\n",
              " 23.5,\n",
              " 23.5,\n",
              " 23.5,\n",
              " 23.5,\n",
              " 23.5,\n",
              " 23.5,\n",
              " 23.5,\n",
              " 23.5,\n",
              " 23.5,\n",
              " 23.5,\n",
              " 23.5,\n",
              " 23.5,\n",
              " 23.5,\n",
              " 23.5,\n",
              " 23.5,\n",
              " 23.5,\n",
              " 23.5,\n",
              " 23.5,\n",
              " 23.5,\n",
              " 23.5,\n",
              " 23.5,\n",
              " 23.5,\n",
              " 23.5,\n",
              " 23.5,\n",
              " 23.5,\n",
              " 23.5,\n",
              " 23.5,\n",
              " 23.5,\n",
              " 23.5,\n",
              " 23.5,\n",
              " 23.5,\n",
              " 23.5,\n",
              " 23.5,\n",
              " 23.5]"
            ]
          },
          "metadata": {
            "tags": []
          },
          "execution_count": 30
        }
      ]
    },
    {
      "cell_type": "markdown",
      "metadata": {
        "id": "FxoBBvmqu95U"
      },
      "source": [
        "Ahora que la semilla esta fija, los valores aleatorios extraídos para cada observación son los mismos!!!\n",
        "\n",
        "Si fijamos la misma semilla para cada observación, lo que pasaría es que por cada diferente observación, podríamos estar sustituyendo los valores nulos con el mismo valor (misma semilla == mismo valor aleatorio extraído). Esto sería lo equivalente a la sustitución por valor arbitrario!!!!\n",
        "\n",
        "No queremos ese comportamiento tampoco.\n",
        "\n",
        "Por lo tanto, queremos que nuestra semilla cambie de observación en observación, pero de una forma controlada, así dos observaciones que sean iguales, seran imputadas con el mismo valor aleatorio, mientras que dos observaciones diferentes, seran imputadas con diferentes valores aleatorios."
      ]
    },
    {
      "cell_type": "markdown",
      "metadata": {
        "id": "yx5BhbJ8u95U"
      },
      "source": [
        "### Controlando la aleatoriedad con la semilla\n",
        "\n",
        "Podemos atribuir diferentes semillas a cada observación, de hecho, podemos hacer que esta semilla dependa de una variable alternativa de la misma observación.\n",
        "\n",
        "Si tomamos el conjunto de datos del Titanic, si dos pasajeros pagaron exactamente la misma tarifa 'fare', deberían tener la misma probabilidad de supervivencia (cuando la edad 'age' es ausente).\n",
        "Implementemos esto en código:"
      ]
    },
    {
      "cell_type": "code",
      "metadata": {
        "id": "iH2dKKlpu95V",
        "outputId": "97836830-357e-43af-8e1e-3915c1cd3800",
        "colab": {
          "base_uri": "https://localhost:8080/",
          "height": 80
        }
      },
      "source": [
        "# seleccionemos una observación con NA en 'age'\n",
        "# en este caso tomamos la observación con índice 15\n",
        "\n",
        "observation = data[data.age.isnull()].head(1)\n",
        "observation"
      ],
      "execution_count": 32,
      "outputs": [
        {
          "output_type": "execute_result",
          "data": {
            "text/html": [
              "<div>\n",
              "<style scoped>\n",
              "    .dataframe tbody tr th:only-of-type {\n",
              "        vertical-align: middle;\n",
              "    }\n",
              "\n",
              "    .dataframe tbody tr th {\n",
              "        vertical-align: top;\n",
              "    }\n",
              "\n",
              "    .dataframe thead th {\n",
              "        text-align: right;\n",
              "    }\n",
              "</style>\n",
              "<table border=\"1\" class=\"dataframe\">\n",
              "  <thead>\n",
              "    <tr style=\"text-align: right;\">\n",
              "      <th></th>\n",
              "      <th>survived</th>\n",
              "      <th>age</th>\n",
              "      <th>fare</th>\n",
              "    </tr>\n",
              "  </thead>\n",
              "  <tbody>\n",
              "    <tr>\n",
              "      <th>15</th>\n",
              "      <td>0</td>\n",
              "      <td>NaN</td>\n",
              "      <td>25.925</td>\n",
              "    </tr>\n",
              "  </tbody>\n",
              "</table>\n",
              "</div>"
            ],
            "text/plain": [
              "    survived  age    fare\n",
              "15         0  NaN  25.925"
            ]
          },
          "metadata": {
            "tags": []
          },
          "execution_count": 32
        }
      ]
    },
    {
      "cell_type": "code",
      "metadata": {
        "id": "HjdFZditu95X",
        "outputId": "f1ab1a68-fd08-4697-9f7c-30976f8369e0",
        "colab": {
          "base_uri": "https://localhost:8080/",
          "height": 34
        }
      },
      "source": [
        "# la semilla es ahora el valor en la variable 'fare'\n",
        "\n",
        "int(observation.fare)"
      ],
      "execution_count": 33,
      "outputs": [
        {
          "output_type": "execute_result",
          "data": {
            "text/plain": [
              "25"
            ]
          },
          "metadata": {
            "tags": []
          },
          "execution_count": 33
        }
      ]
    },
    {
      "cell_type": "code",
      "metadata": {
        "id": "2rj4Dbf7u95Y",
        "outputId": "5b0fac60-707d-4068-fc30-c220219b8ff7",
        "colab": {
          "base_uri": "https://localhost:8080/",
          "height": 80
        }
      },
      "source": [
        "# asignamos el valor de 'fare' como la semilla en la extracción \n",
        "# de la muestra aleatoria\n",
        "\n",
        "sampled_value = X_train.age.dropna().sample(1,\n",
        "                                            random_state=int(observation.fare))\n",
        "sampled_value.index = [15]\n",
        "\n",
        "observation['age_random'] = sampled_value\n",
        "observation"
      ],
      "execution_count": 34,
      "outputs": [
        {
          "output_type": "execute_result",
          "data": {
            "text/html": [
              "<div>\n",
              "<style scoped>\n",
              "    .dataframe tbody tr th:only-of-type {\n",
              "        vertical-align: middle;\n",
              "    }\n",
              "\n",
              "    .dataframe tbody tr th {\n",
              "        vertical-align: top;\n",
              "    }\n",
              "\n",
              "    .dataframe thead th {\n",
              "        text-align: right;\n",
              "    }\n",
              "</style>\n",
              "<table border=\"1\" class=\"dataframe\">\n",
              "  <thead>\n",
              "    <tr style=\"text-align: right;\">\n",
              "      <th></th>\n",
              "      <th>survived</th>\n",
              "      <th>age</th>\n",
              "      <th>fare</th>\n",
              "      <th>age_random</th>\n",
              "    </tr>\n",
              "  </thead>\n",
              "  <tbody>\n",
              "    <tr>\n",
              "      <th>15</th>\n",
              "      <td>0</td>\n",
              "      <td>NaN</td>\n",
              "      <td>25.925</td>\n",
              "      <td>44.0</td>\n",
              "    </tr>\n",
              "  </tbody>\n",
              "</table>\n",
              "</div>"
            ],
            "text/plain": [
              "    survived  age    fare  age_random\n",
              "15         0  NaN  25.925        44.0"
            ]
          },
          "metadata": {
            "tags": []
          },
          "execution_count": 34
        }
      ]
    },
    {
      "cell_type": "code",
      "metadata": {
        "id": "qN2DbPgzu95a",
        "outputId": "a03eea25-433f-4100-ab11-f00b11b338ef",
        "colab": {
          "base_uri": "https://localhost:8080/",
          "height": 80
        }
      },
      "source": [
        "# para una observación con un valor diferente en 'fare',\n",
        "# obtendríamos una muestra aleatoria diferente \n",
        "\n",
        "observation = data[data.age.isnull()].tail(1)\n",
        "observation"
      ],
      "execution_count": 35,
      "outputs": [
        {
          "output_type": "execute_result",
          "data": {
            "text/html": [
              "<div>\n",
              "<style scoped>\n",
              "    .dataframe tbody tr th:only-of-type {\n",
              "        vertical-align: middle;\n",
              "    }\n",
              "\n",
              "    .dataframe tbody tr th {\n",
              "        vertical-align: top;\n",
              "    }\n",
              "\n",
              "    .dataframe thead th {\n",
              "        text-align: right;\n",
              "    }\n",
              "</style>\n",
              "<table border=\"1\" class=\"dataframe\">\n",
              "  <thead>\n",
              "    <tr style=\"text-align: right;\">\n",
              "      <th></th>\n",
              "      <th>survived</th>\n",
              "      <th>age</th>\n",
              "      <th>fare</th>\n",
              "    </tr>\n",
              "  </thead>\n",
              "  <tbody>\n",
              "    <tr>\n",
              "      <th>1305</th>\n",
              "      <td>0</td>\n",
              "      <td>NaN</td>\n",
              "      <td>14.4542</td>\n",
              "    </tr>\n",
              "  </tbody>\n",
              "</table>\n",
              "</div>"
            ],
            "text/plain": [
              "      survived  age     fare\n",
              "1305         0  NaN  14.4542"
            ]
          },
          "metadata": {
            "tags": []
          },
          "execution_count": 35
        }
      ]
    },
    {
      "cell_type": "code",
      "metadata": {
        "id": "CASCmP1Lu95c",
        "outputId": "80e814fc-5341-4fa2-a4d2-5f52c00c4790",
        "colab": {
          "base_uri": "https://localhost:8080/",
          "height": 34
        }
      },
      "source": [
        "# nueva semilla\n",
        "int(observation.fare)"
      ],
      "execution_count": 36,
      "outputs": [
        {
          "output_type": "execute_result",
          "data": {
            "text/plain": [
              "14"
            ]
          },
          "metadata": {
            "tags": []
          },
          "execution_count": 36
        }
      ]
    },
    {
      "cell_type": "code",
      "metadata": {
        "id": "22PD59nTu95f",
        "outputId": "bfc9fc02-2348-48b6-f08b-465067da9c4c",
        "colab": {
          "base_uri": "https://localhost:8080/",
          "height": 80
        }
      },
      "source": [
        "# asignamos el valor de 'fare' como la semilla en el proceso de extracción del valor elatorio\n",
        "sampled_value = X_train.age.dropna().sample(1,\n",
        "                                            random_state=int(observation.fare))\n",
        "sampled_value.index = [1305]\n",
        "\n",
        "observation['age_random'] = sampled_value\n",
        "observation"
      ],
      "execution_count": 37,
      "outputs": [
        {
          "output_type": "execute_result",
          "data": {
            "text/html": [
              "<div>\n",
              "<style scoped>\n",
              "    .dataframe tbody tr th:only-of-type {\n",
              "        vertical-align: middle;\n",
              "    }\n",
              "\n",
              "    .dataframe tbody tr th {\n",
              "        vertical-align: top;\n",
              "    }\n",
              "\n",
              "    .dataframe thead th {\n",
              "        text-align: right;\n",
              "    }\n",
              "</style>\n",
              "<table border=\"1\" class=\"dataframe\">\n",
              "  <thead>\n",
              "    <tr style=\"text-align: right;\">\n",
              "      <th></th>\n",
              "      <th>survived</th>\n",
              "      <th>age</th>\n",
              "      <th>fare</th>\n",
              "      <th>age_random</th>\n",
              "    </tr>\n",
              "  </thead>\n",
              "  <tbody>\n",
              "    <tr>\n",
              "      <th>1305</th>\n",
              "      <td>0</td>\n",
              "      <td>NaN</td>\n",
              "      <td>14.4542</td>\n",
              "      <td>40.0</td>\n",
              "    </tr>\n",
              "  </tbody>\n",
              "</table>\n",
              "</div>"
            ],
            "text/plain": [
              "      survived  age     fare  age_random\n",
              "1305         0  NaN  14.4542        40.0"
            ]
          },
          "metadata": {
            "tags": []
          },
          "execution_count": 37
        }
      ]
    },
    {
      "cell_type": "markdown",
      "metadata": {
        "id": "uAMDuKhmu95h"
      },
      "source": [
        "Esta es una forma de controlar la aleatoriedad. Usando el valor de 'fare' para fijar el 'random_state' en la función, podemos garantizar que pasajeros que pagaron el mismo 'fare', tendrán el valor de 'age' sustituido con el mismo número y por lo tanto los dos pasajeros tendrán la misma probabilidad de supervivencia.\n",
        "\n",
        "### Nota!!\n",
        "\n",
        "En la vida real, construirás modelos que usan decenas de variables o más. En casos como ese, puedes seleccionar las 3-5 variables más importantes, aquellas que tiene el impacto más fuerte en los resultados del modelo de machine learning y combinarlos para create el 'random_state' o estado aleatorio. Por lo tanto clientes que compartan los mismos valores de las 3-5 variables principales, tendrán resultados o probabilidades similares."
      ]
    },
    {
      "cell_type": "markdown",
      "metadata": {
        "collapsed": true,
        "id": "tgsKkczNu95h"
      },
      "source": [
        "## Muestras aleatorias para Variables Categóricas\n",
        "\n",
        "Repitamos el ejercicio pero ahora para variables categóricas."
      ]
    },
    {
      "cell_type": "code",
      "metadata": {
        "id": "ZgYlyBNfu95i",
        "outputId": "a499f728-7f0b-43c9-fbd3-e1453b86951f",
        "colab": {
          "base_uri": "https://localhost:8080/",
          "height": 85
        }
      },
      "source": [
        "# carguemos los datos con unas pocas columnas para el demo\n",
        "cols_to_use = ['BsmtQual', 'FireplaceQu', 'SalePrice']\n",
        "\n",
        "data = pd.read_csv('/content/drive/My Drive/datasets/houseprice.csv', usecols=cols_to_use)\n",
        "\n",
        "# inspeccionemos el porcentaje de valores ausentes en cada variable\n",
        "data.isnull().mean().sort_values(ascending=True)"
      ],
      "execution_count": 38,
      "outputs": [
        {
          "output_type": "execute_result",
          "data": {
            "text/plain": [
              "SalePrice      0.000000\n",
              "BsmtQual       0.025342\n",
              "FireplaceQu    0.472603\n",
              "dtype: float64"
            ]
          },
          "metadata": {
            "tags": []
          },
          "execution_count": 38
        }
      ]
    },
    {
      "cell_type": "code",
      "metadata": {
        "id": "n68lM5e4u95k",
        "outputId": "e6d56cd6-ed88-4b30-bf92-830693a5d786",
        "colab": {
          "base_uri": "https://localhost:8080/",
          "height": 34
        }
      },
      "source": [
        "# separemos datos en sets de entrenamiento y prueba\n",
        "\n",
        "X_train, X_test, y_train, y_test = train_test_split(data,\n",
        "                                                    data.SalePrice,\n",
        "                                                    test_size=0.3,\n",
        "                                                    random_state=0)\n",
        "X_train.shape, X_test.shape"
      ],
      "execution_count": 39,
      "outputs": [
        {
          "output_type": "execute_result",
          "data": {
            "text/plain": [
              "((1022, 3), (438, 3))"
            ]
          },
          "metadata": {
            "tags": []
          },
          "execution_count": 39
        }
      ]
    },
    {
      "cell_type": "code",
      "metadata": {
        "id": "Mg_vOn2Uu95l"
      },
      "source": [
        "# sustituyamos BsmtQual por una muestra aleatoria en ambos sets\n",
        "# entrenamiento y prueba\n",
        "\n",
        "# creemos una nueva variable donde NA serán imputados\n",
        "# creemos una copia de la variable original con NA\n",
        "X_train['BsmtQual_imputed'] = X_train['BsmtQual'].copy()\n",
        "X_test['BsmtQual_imputed'] = X_test['BsmtQual'].copy()\n",
        "\n",
        "# extraigamos la muestra aleatoria para llenar los na:\n",
        "# recuerda seleccionamos valores en el set de entrenamiento y luego\n",
        "# usamos estos valores para reemplazar valores nulos en ambos sets, de entrenamiento y prueba\n",
        "random_sample_train = X_train['BsmtQual'].dropna().sample(\n",
        "    X_train['BsmtQual'].isnull().sum(), random_state=0)\n",
        "\n",
        "random_sample_test = X_train['BsmtQual'].dropna().sample(\n",
        "    X_test['BsmtQual'].isnull().sum(), random_state=0)\n",
        "\n",
        "# Qué está sucediendo en el código anterior? \n",
        "# 1) dropna() remueve los NA de la variable original, eso significa\n",
        "# que aleatoriamente extraemos los valores existentes y no NAs\n",
        "\n",
        "# 2) sample() es el método que toma la muestra aleatoria\n",
        "# 3) X_train['BsmtQual'].isnull().sum() es el número  de valores aleatorios para \n",
        "# extraer tantos valores como NAs están presentes en la variable original\n",
        "# 4) random_state fija la semilla para reproducir los resultados, \n",
        "#   es decir obtener los mismos valore aleatorios cada vez que corres el notebook\n",
        "\n",
        "# pandas necesita tener el mismo orden de índices para unir los dataframes\n",
        "random_sample_train.index = X_train[X_train['BsmtQual'].isnull()].index\n",
        "random_sample_test.index = X_test[X_test['BsmtQual'].isnull()].index\n",
        "\n",
        "# reemplazar los NA con los valores extraidos al azar\n",
        "X_train.loc[X_train['BsmtQual'].isnull(), 'BsmtQual_imputed'] = random_sample_train\n",
        "X_test.loc[X_test['BsmtQual'].isnull(), 'BsmtQual_imputed'] = random_sample_test"
      ],
      "execution_count": 40,
      "outputs": []
    },
    {
      "cell_type": "code",
      "metadata": {
        "id": "EhCcDIktEspv",
        "outputId": "fe47c253-cb5d-4066-d106-e127dbb9c4a7",
        "colab": {
          "base_uri": "https://localhost:8080/",
          "height": 355
        }
      },
      "source": [
        "X_train.head(15).style"
      ],
      "execution_count": 41,
      "outputs": [
        {
          "output_type": "execute_result",
          "data": {
            "text/html": [
              "<style  type=\"text/css\" >\n",
              "</style><table id=\"T_9a8cdcaa_0e8d_11eb_b10d_0242ac1c0002\" ><thead>    <tr>        <th class=\"blank level0\" ></th>        <th class=\"col_heading level0 col0\" >BsmtQual</th>        <th class=\"col_heading level0 col1\" >FireplaceQu</th>        <th class=\"col_heading level0 col2\" >SalePrice</th>        <th class=\"col_heading level0 col3\" >BsmtQual_imputed</th>    </tr></thead><tbody>\n",
              "                <tr>\n",
              "                        <th id=\"T_9a8cdcaa_0e8d_11eb_b10d_0242ac1c0002level0_row0\" class=\"row_heading level0 row0\" >64</th>\n",
              "                        <td id=\"T_9a8cdcaa_0e8d_11eb_b10d_0242ac1c0002row0_col0\" class=\"data row0 col0\" >Gd</td>\n",
              "                        <td id=\"T_9a8cdcaa_0e8d_11eb_b10d_0242ac1c0002row0_col1\" class=\"data row0 col1\" >nan</td>\n",
              "                        <td id=\"T_9a8cdcaa_0e8d_11eb_b10d_0242ac1c0002row0_col2\" class=\"data row0 col2\" >219500</td>\n",
              "                        <td id=\"T_9a8cdcaa_0e8d_11eb_b10d_0242ac1c0002row0_col3\" class=\"data row0 col3\" >Gd</td>\n",
              "            </tr>\n",
              "            <tr>\n",
              "                        <th id=\"T_9a8cdcaa_0e8d_11eb_b10d_0242ac1c0002level0_row1\" class=\"row_heading level0 row1\" >682</th>\n",
              "                        <td id=\"T_9a8cdcaa_0e8d_11eb_b10d_0242ac1c0002row1_col0\" class=\"data row1 col0\" >Gd</td>\n",
              "                        <td id=\"T_9a8cdcaa_0e8d_11eb_b10d_0242ac1c0002row1_col1\" class=\"data row1 col1\" >Gd</td>\n",
              "                        <td id=\"T_9a8cdcaa_0e8d_11eb_b10d_0242ac1c0002row1_col2\" class=\"data row1 col2\" >173000</td>\n",
              "                        <td id=\"T_9a8cdcaa_0e8d_11eb_b10d_0242ac1c0002row1_col3\" class=\"data row1 col3\" >Gd</td>\n",
              "            </tr>\n",
              "            <tr>\n",
              "                        <th id=\"T_9a8cdcaa_0e8d_11eb_b10d_0242ac1c0002level0_row2\" class=\"row_heading level0 row2\" >960</th>\n",
              "                        <td id=\"T_9a8cdcaa_0e8d_11eb_b10d_0242ac1c0002row2_col0\" class=\"data row2 col0\" >TA</td>\n",
              "                        <td id=\"T_9a8cdcaa_0e8d_11eb_b10d_0242ac1c0002row2_col1\" class=\"data row2 col1\" >nan</td>\n",
              "                        <td id=\"T_9a8cdcaa_0e8d_11eb_b10d_0242ac1c0002row2_col2\" class=\"data row2 col2\" >116500</td>\n",
              "                        <td id=\"T_9a8cdcaa_0e8d_11eb_b10d_0242ac1c0002row2_col3\" class=\"data row2 col3\" >TA</td>\n",
              "            </tr>\n",
              "            <tr>\n",
              "                        <th id=\"T_9a8cdcaa_0e8d_11eb_b10d_0242ac1c0002level0_row3\" class=\"row_heading level0 row3\" >1384</th>\n",
              "                        <td id=\"T_9a8cdcaa_0e8d_11eb_b10d_0242ac1c0002row3_col0\" class=\"data row3 col0\" >TA</td>\n",
              "                        <td id=\"T_9a8cdcaa_0e8d_11eb_b10d_0242ac1c0002row3_col1\" class=\"data row3 col1\" >nan</td>\n",
              "                        <td id=\"T_9a8cdcaa_0e8d_11eb_b10d_0242ac1c0002row3_col2\" class=\"data row3 col2\" >105000</td>\n",
              "                        <td id=\"T_9a8cdcaa_0e8d_11eb_b10d_0242ac1c0002row3_col3\" class=\"data row3 col3\" >TA</td>\n",
              "            </tr>\n",
              "            <tr>\n",
              "                        <th id=\"T_9a8cdcaa_0e8d_11eb_b10d_0242ac1c0002level0_row4\" class=\"row_heading level0 row4\" >1100</th>\n",
              "                        <td id=\"T_9a8cdcaa_0e8d_11eb_b10d_0242ac1c0002row4_col0\" class=\"data row4 col0\" >TA</td>\n",
              "                        <td id=\"T_9a8cdcaa_0e8d_11eb_b10d_0242ac1c0002row4_col1\" class=\"data row4 col1\" >nan</td>\n",
              "                        <td id=\"T_9a8cdcaa_0e8d_11eb_b10d_0242ac1c0002row4_col2\" class=\"data row4 col2\" >60000</td>\n",
              "                        <td id=\"T_9a8cdcaa_0e8d_11eb_b10d_0242ac1c0002row4_col3\" class=\"data row4 col3\" >TA</td>\n",
              "            </tr>\n",
              "            <tr>\n",
              "                        <th id=\"T_9a8cdcaa_0e8d_11eb_b10d_0242ac1c0002level0_row5\" class=\"row_heading level0 row5\" >416</th>\n",
              "                        <td id=\"T_9a8cdcaa_0e8d_11eb_b10d_0242ac1c0002row5_col0\" class=\"data row5 col0\" >TA</td>\n",
              "                        <td id=\"T_9a8cdcaa_0e8d_11eb_b10d_0242ac1c0002row5_col1\" class=\"data row5 col1\" >TA</td>\n",
              "                        <td id=\"T_9a8cdcaa_0e8d_11eb_b10d_0242ac1c0002row5_col2\" class=\"data row5 col2\" >149500</td>\n",
              "                        <td id=\"T_9a8cdcaa_0e8d_11eb_b10d_0242ac1c0002row5_col3\" class=\"data row5 col3\" >TA</td>\n",
              "            </tr>\n",
              "            <tr>\n",
              "                        <th id=\"T_9a8cdcaa_0e8d_11eb_b10d_0242ac1c0002level0_row6\" class=\"row_heading level0 row6\" >1034</th>\n",
              "                        <td id=\"T_9a8cdcaa_0e8d_11eb_b10d_0242ac1c0002row6_col0\" class=\"data row6 col0\" >Fa</td>\n",
              "                        <td id=\"T_9a8cdcaa_0e8d_11eb_b10d_0242ac1c0002row6_col1\" class=\"data row6 col1\" >Gd</td>\n",
              "                        <td id=\"T_9a8cdcaa_0e8d_11eb_b10d_0242ac1c0002row6_col2\" class=\"data row6 col2\" >119750</td>\n",
              "                        <td id=\"T_9a8cdcaa_0e8d_11eb_b10d_0242ac1c0002row6_col3\" class=\"data row6 col3\" >Fa</td>\n",
              "            </tr>\n",
              "            <tr>\n",
              "                        <th id=\"T_9a8cdcaa_0e8d_11eb_b10d_0242ac1c0002level0_row7\" class=\"row_heading level0 row7\" >853</th>\n",
              "                        <td id=\"T_9a8cdcaa_0e8d_11eb_b10d_0242ac1c0002row7_col0\" class=\"data row7 col0\" >TA</td>\n",
              "                        <td id=\"T_9a8cdcaa_0e8d_11eb_b10d_0242ac1c0002row7_col1\" class=\"data row7 col1\" >Fa</td>\n",
              "                        <td id=\"T_9a8cdcaa_0e8d_11eb_b10d_0242ac1c0002row7_col2\" class=\"data row7 col2\" >158000</td>\n",
              "                        <td id=\"T_9a8cdcaa_0e8d_11eb_b10d_0242ac1c0002row7_col3\" class=\"data row7 col3\" >TA</td>\n",
              "            </tr>\n",
              "            <tr>\n",
              "                        <th id=\"T_9a8cdcaa_0e8d_11eb_b10d_0242ac1c0002level0_row8\" class=\"row_heading level0 row8\" >472</th>\n",
              "                        <td id=\"T_9a8cdcaa_0e8d_11eb_b10d_0242ac1c0002row8_col0\" class=\"data row8 col0\" >Gd</td>\n",
              "                        <td id=\"T_9a8cdcaa_0e8d_11eb_b10d_0242ac1c0002row8_col1\" class=\"data row8 col1\" >nan</td>\n",
              "                        <td id=\"T_9a8cdcaa_0e8d_11eb_b10d_0242ac1c0002row8_col2\" class=\"data row8 col2\" >148000</td>\n",
              "                        <td id=\"T_9a8cdcaa_0e8d_11eb_b10d_0242ac1c0002row8_col3\" class=\"data row8 col3\" >Gd</td>\n",
              "            </tr>\n",
              "            <tr>\n",
              "                        <th id=\"T_9a8cdcaa_0e8d_11eb_b10d_0242ac1c0002level0_row9\" class=\"row_heading level0 row9\" >1011</th>\n",
              "                        <td id=\"T_9a8cdcaa_0e8d_11eb_b10d_0242ac1c0002row9_col0\" class=\"data row9 col0\" >nan</td>\n",
              "                        <td id=\"T_9a8cdcaa_0e8d_11eb_b10d_0242ac1c0002row9_col1\" class=\"data row9 col1\" >nan</td>\n",
              "                        <td id=\"T_9a8cdcaa_0e8d_11eb_b10d_0242ac1c0002row9_col2\" class=\"data row9 col2\" >100000</td>\n",
              "                        <td id=\"T_9a8cdcaa_0e8d_11eb_b10d_0242ac1c0002row9_col3\" class=\"data row9 col3\" >TA</td>\n",
              "            </tr>\n",
              "            <tr>\n",
              "                        <th id=\"T_9a8cdcaa_0e8d_11eb_b10d_0242ac1c0002level0_row10\" class=\"row_heading level0 row10\" >328</th>\n",
              "                        <td id=\"T_9a8cdcaa_0e8d_11eb_b10d_0242ac1c0002row10_col0\" class=\"data row10 col0\" >TA</td>\n",
              "                        <td id=\"T_9a8cdcaa_0e8d_11eb_b10d_0242ac1c0002row10_col1\" class=\"data row10 col1\" >nan</td>\n",
              "                        <td id=\"T_9a8cdcaa_0e8d_11eb_b10d_0242ac1c0002row10_col2\" class=\"data row10 col2\" >214500</td>\n",
              "                        <td id=\"T_9a8cdcaa_0e8d_11eb_b10d_0242ac1c0002row10_col3\" class=\"data row10 col3\" >TA</td>\n",
              "            </tr>\n",
              "            <tr>\n",
              "                        <th id=\"T_9a8cdcaa_0e8d_11eb_b10d_0242ac1c0002level0_row11\" class=\"row_heading level0 row11\" >608</th>\n",
              "                        <td id=\"T_9a8cdcaa_0e8d_11eb_b10d_0242ac1c0002row11_col0\" class=\"data row11 col0\" >Gd</td>\n",
              "                        <td id=\"T_9a8cdcaa_0e8d_11eb_b10d_0242ac1c0002row11_col1\" class=\"data row11 col1\" >Gd</td>\n",
              "                        <td id=\"T_9a8cdcaa_0e8d_11eb_b10d_0242ac1c0002row11_col2\" class=\"data row11 col2\" >359100</td>\n",
              "                        <td id=\"T_9a8cdcaa_0e8d_11eb_b10d_0242ac1c0002row11_col3\" class=\"data row11 col3\" >Gd</td>\n",
              "            </tr>\n",
              "            <tr>\n",
              "                        <th id=\"T_9a8cdcaa_0e8d_11eb_b10d_0242ac1c0002level0_row12\" class=\"row_heading level0 row12\" >1283</th>\n",
              "                        <td id=\"T_9a8cdcaa_0e8d_11eb_b10d_0242ac1c0002row12_col0\" class=\"data row12 col0\" >TA</td>\n",
              "                        <td id=\"T_9a8cdcaa_0e8d_11eb_b10d_0242ac1c0002row12_col1\" class=\"data row12 col1\" >nan</td>\n",
              "                        <td id=\"T_9a8cdcaa_0e8d_11eb_b10d_0242ac1c0002row12_col2\" class=\"data row12 col2\" >139000</td>\n",
              "                        <td id=\"T_9a8cdcaa_0e8d_11eb_b10d_0242ac1c0002row12_col3\" class=\"data row12 col3\" >TA</td>\n",
              "            </tr>\n",
              "            <tr>\n",
              "                        <th id=\"T_9a8cdcaa_0e8d_11eb_b10d_0242ac1c0002level0_row13\" class=\"row_heading level0 row13\" >452</th>\n",
              "                        <td id=\"T_9a8cdcaa_0e8d_11eb_b10d_0242ac1c0002row13_col0\" class=\"data row13 col0\" >Ex</td>\n",
              "                        <td id=\"T_9a8cdcaa_0e8d_11eb_b10d_0242ac1c0002row13_col1\" class=\"data row13 col1\" >nan</td>\n",
              "                        <td id=\"T_9a8cdcaa_0e8d_11eb_b10d_0242ac1c0002row13_col2\" class=\"data row13 col2\" >204000</td>\n",
              "                        <td id=\"T_9a8cdcaa_0e8d_11eb_b10d_0242ac1c0002row13_col3\" class=\"data row13 col3\" >Ex</td>\n",
              "            </tr>\n",
              "            <tr>\n",
              "                        <th id=\"T_9a8cdcaa_0e8d_11eb_b10d_0242ac1c0002level0_row14\" class=\"row_heading level0 row14\" >1227</th>\n",
              "                        <td id=\"T_9a8cdcaa_0e8d_11eb_b10d_0242ac1c0002row14_col0\" class=\"data row14 col0\" >TA</td>\n",
              "                        <td id=\"T_9a8cdcaa_0e8d_11eb_b10d_0242ac1c0002row14_col1\" class=\"data row14 col1\" >nan</td>\n",
              "                        <td id=\"T_9a8cdcaa_0e8d_11eb_b10d_0242ac1c0002row14_col2\" class=\"data row14 col2\" >147000</td>\n",
              "                        <td id=\"T_9a8cdcaa_0e8d_11eb_b10d_0242ac1c0002row14_col3\" class=\"data row14 col3\" >TA</td>\n",
              "            </tr>\n",
              "    </tbody></table>"
            ],
            "text/plain": [
              "<pandas.io.formats.style.Styler at 0x7ff8bf3fb588>"
            ]
          },
          "metadata": {
            "tags": []
          },
          "execution_count": 41
        }
      ]
    },
    {
      "cell_type": "code",
      "metadata": {
        "id": "v9AM2Iy6EycJ",
        "outputId": "05f80624-eddb-48b6-b60b-7a50d1841adf",
        "colab": {
          "base_uri": "https://localhost:8080/",
          "height": 355
        }
      },
      "source": [
        "X_test.head(15).style"
      ],
      "execution_count": 42,
      "outputs": [
        {
          "output_type": "execute_result",
          "data": {
            "text/html": [
              "<style  type=\"text/css\" >\n",
              "</style><table id=\"T_a3a2d42a_0e8d_11eb_b10d_0242ac1c0002\" ><thead>    <tr>        <th class=\"blank level0\" ></th>        <th class=\"col_heading level0 col0\" >BsmtQual</th>        <th class=\"col_heading level0 col1\" >FireplaceQu</th>        <th class=\"col_heading level0 col2\" >SalePrice</th>        <th class=\"col_heading level0 col3\" >BsmtQual_imputed</th>    </tr></thead><tbody>\n",
              "                <tr>\n",
              "                        <th id=\"T_a3a2d42a_0e8d_11eb_b10d_0242ac1c0002level0_row0\" class=\"row_heading level0 row0\" >529</th>\n",
              "                        <td id=\"T_a3a2d42a_0e8d_11eb_b10d_0242ac1c0002row0_col0\" class=\"data row0 col0\" >TA</td>\n",
              "                        <td id=\"T_a3a2d42a_0e8d_11eb_b10d_0242ac1c0002row0_col1\" class=\"data row0 col1\" >TA</td>\n",
              "                        <td id=\"T_a3a2d42a_0e8d_11eb_b10d_0242ac1c0002row0_col2\" class=\"data row0 col2\" >200624</td>\n",
              "                        <td id=\"T_a3a2d42a_0e8d_11eb_b10d_0242ac1c0002row0_col3\" class=\"data row0 col3\" >TA</td>\n",
              "            </tr>\n",
              "            <tr>\n",
              "                        <th id=\"T_a3a2d42a_0e8d_11eb_b10d_0242ac1c0002level0_row1\" class=\"row_heading level0 row1\" >491</th>\n",
              "                        <td id=\"T_a3a2d42a_0e8d_11eb_b10d_0242ac1c0002row1_col0\" class=\"data row1 col0\" >TA</td>\n",
              "                        <td id=\"T_a3a2d42a_0e8d_11eb_b10d_0242ac1c0002row1_col1\" class=\"data row1 col1\" >TA</td>\n",
              "                        <td id=\"T_a3a2d42a_0e8d_11eb_b10d_0242ac1c0002row1_col2\" class=\"data row1 col2\" >133000</td>\n",
              "                        <td id=\"T_a3a2d42a_0e8d_11eb_b10d_0242ac1c0002row1_col3\" class=\"data row1 col3\" >TA</td>\n",
              "            </tr>\n",
              "            <tr>\n",
              "                        <th id=\"T_a3a2d42a_0e8d_11eb_b10d_0242ac1c0002level0_row2\" class=\"row_heading level0 row2\" >459</th>\n",
              "                        <td id=\"T_a3a2d42a_0e8d_11eb_b10d_0242ac1c0002row2_col0\" class=\"data row2 col0\" >TA</td>\n",
              "                        <td id=\"T_a3a2d42a_0e8d_11eb_b10d_0242ac1c0002row2_col1\" class=\"data row2 col1\" >TA</td>\n",
              "                        <td id=\"T_a3a2d42a_0e8d_11eb_b10d_0242ac1c0002row2_col2\" class=\"data row2 col2\" >110000</td>\n",
              "                        <td id=\"T_a3a2d42a_0e8d_11eb_b10d_0242ac1c0002row2_col3\" class=\"data row2 col3\" >TA</td>\n",
              "            </tr>\n",
              "            <tr>\n",
              "                        <th id=\"T_a3a2d42a_0e8d_11eb_b10d_0242ac1c0002level0_row3\" class=\"row_heading level0 row3\" >279</th>\n",
              "                        <td id=\"T_a3a2d42a_0e8d_11eb_b10d_0242ac1c0002row3_col0\" class=\"data row3 col0\" >Gd</td>\n",
              "                        <td id=\"T_a3a2d42a_0e8d_11eb_b10d_0242ac1c0002row3_col1\" class=\"data row3 col1\" >TA</td>\n",
              "                        <td id=\"T_a3a2d42a_0e8d_11eb_b10d_0242ac1c0002row3_col2\" class=\"data row3 col2\" >192000</td>\n",
              "                        <td id=\"T_a3a2d42a_0e8d_11eb_b10d_0242ac1c0002row3_col3\" class=\"data row3 col3\" >Gd</td>\n",
              "            </tr>\n",
              "            <tr>\n",
              "                        <th id=\"T_a3a2d42a_0e8d_11eb_b10d_0242ac1c0002level0_row4\" class=\"row_heading level0 row4\" >655</th>\n",
              "                        <td id=\"T_a3a2d42a_0e8d_11eb_b10d_0242ac1c0002row4_col0\" class=\"data row4 col0\" >TA</td>\n",
              "                        <td id=\"T_a3a2d42a_0e8d_11eb_b10d_0242ac1c0002row4_col1\" class=\"data row4 col1\" >nan</td>\n",
              "                        <td id=\"T_a3a2d42a_0e8d_11eb_b10d_0242ac1c0002row4_col2\" class=\"data row4 col2\" >88000</td>\n",
              "                        <td id=\"T_a3a2d42a_0e8d_11eb_b10d_0242ac1c0002row4_col3\" class=\"data row4 col3\" >TA</td>\n",
              "            </tr>\n",
              "            <tr>\n",
              "                        <th id=\"T_a3a2d42a_0e8d_11eb_b10d_0242ac1c0002level0_row5\" class=\"row_heading level0 row5\" >1013</th>\n",
              "                        <td id=\"T_a3a2d42a_0e8d_11eb_b10d_0242ac1c0002row5_col0\" class=\"data row5 col0\" >TA</td>\n",
              "                        <td id=\"T_a3a2d42a_0e8d_11eb_b10d_0242ac1c0002row5_col1\" class=\"data row5 col1\" >nan</td>\n",
              "                        <td id=\"T_a3a2d42a_0e8d_11eb_b10d_0242ac1c0002row5_col2\" class=\"data row5 col2\" >85000</td>\n",
              "                        <td id=\"T_a3a2d42a_0e8d_11eb_b10d_0242ac1c0002row5_col3\" class=\"data row5 col3\" >TA</td>\n",
              "            </tr>\n",
              "            <tr>\n",
              "                        <th id=\"T_a3a2d42a_0e8d_11eb_b10d_0242ac1c0002level0_row6\" class=\"row_heading level0 row6\" >1403</th>\n",
              "                        <td id=\"T_a3a2d42a_0e8d_11eb_b10d_0242ac1c0002row6_col0\" class=\"data row6 col0\" >Gd</td>\n",
              "                        <td id=\"T_a3a2d42a_0e8d_11eb_b10d_0242ac1c0002row6_col1\" class=\"data row6 col1\" >nan</td>\n",
              "                        <td id=\"T_a3a2d42a_0e8d_11eb_b10d_0242ac1c0002row6_col2\" class=\"data row6 col2\" >282922</td>\n",
              "                        <td id=\"T_a3a2d42a_0e8d_11eb_b10d_0242ac1c0002row6_col3\" class=\"data row6 col3\" >Gd</td>\n",
              "            </tr>\n",
              "            <tr>\n",
              "                        <th id=\"T_a3a2d42a_0e8d_11eb_b10d_0242ac1c0002level0_row7\" class=\"row_heading level0 row7\" >601</th>\n",
              "                        <td id=\"T_a3a2d42a_0e8d_11eb_b10d_0242ac1c0002row7_col0\" class=\"data row7 col0\" >TA</td>\n",
              "                        <td id=\"T_a3a2d42a_0e8d_11eb_b10d_0242ac1c0002row7_col1\" class=\"data row7 col1\" >Gd</td>\n",
              "                        <td id=\"T_a3a2d42a_0e8d_11eb_b10d_0242ac1c0002row7_col2\" class=\"data row7 col2\" >141000</td>\n",
              "                        <td id=\"T_a3a2d42a_0e8d_11eb_b10d_0242ac1c0002row7_col3\" class=\"data row7 col3\" >TA</td>\n",
              "            </tr>\n",
              "            <tr>\n",
              "                        <th id=\"T_a3a2d42a_0e8d_11eb_b10d_0242ac1c0002level0_row8\" class=\"row_heading level0 row8\" >1182</th>\n",
              "                        <td id=\"T_a3a2d42a_0e8d_11eb_b10d_0242ac1c0002row8_col0\" class=\"data row8 col0\" >Ex</td>\n",
              "                        <td id=\"T_a3a2d42a_0e8d_11eb_b10d_0242ac1c0002row8_col1\" class=\"data row8 col1\" >TA</td>\n",
              "                        <td id=\"T_a3a2d42a_0e8d_11eb_b10d_0242ac1c0002row8_col2\" class=\"data row8 col2\" >745000</td>\n",
              "                        <td id=\"T_a3a2d42a_0e8d_11eb_b10d_0242ac1c0002row8_col3\" class=\"data row8 col3\" >Ex</td>\n",
              "            </tr>\n",
              "            <tr>\n",
              "                        <th id=\"T_a3a2d42a_0e8d_11eb_b10d_0242ac1c0002level0_row9\" class=\"row_heading level0 row9\" >687</th>\n",
              "                        <td id=\"T_a3a2d42a_0e8d_11eb_b10d_0242ac1c0002row9_col0\" class=\"data row9 col0\" >Gd</td>\n",
              "                        <td id=\"T_a3a2d42a_0e8d_11eb_b10d_0242ac1c0002row9_col1\" class=\"data row9 col1\" >nan</td>\n",
              "                        <td id=\"T_a3a2d42a_0e8d_11eb_b10d_0242ac1c0002row9_col2\" class=\"data row9 col2\" >148800</td>\n",
              "                        <td id=\"T_a3a2d42a_0e8d_11eb_b10d_0242ac1c0002row9_col3\" class=\"data row9 col3\" >Gd</td>\n",
              "            </tr>\n",
              "            <tr>\n",
              "                        <th id=\"T_a3a2d42a_0e8d_11eb_b10d_0242ac1c0002level0_row10\" class=\"row_heading level0 row10\" >1317</th>\n",
              "                        <td id=\"T_a3a2d42a_0e8d_11eb_b10d_0242ac1c0002row10_col0\" class=\"data row10 col0\" >Ex</td>\n",
              "                        <td id=\"T_a3a2d42a_0e8d_11eb_b10d_0242ac1c0002row10_col1\" class=\"data row10 col1\" >Gd</td>\n",
              "                        <td id=\"T_a3a2d42a_0e8d_11eb_b10d_0242ac1c0002row10_col2\" class=\"data row10 col2\" >208900</td>\n",
              "                        <td id=\"T_a3a2d42a_0e8d_11eb_b10d_0242ac1c0002row10_col3\" class=\"data row10 col3\" >Ex</td>\n",
              "            </tr>\n",
              "            <tr>\n",
              "                        <th id=\"T_a3a2d42a_0e8d_11eb_b10d_0242ac1c0002level0_row11\" class=\"row_heading level0 row11\" >1003</th>\n",
              "                        <td id=\"T_a3a2d42a_0e8d_11eb_b10d_0242ac1c0002row11_col0\" class=\"data row11 col0\" >TA</td>\n",
              "                        <td id=\"T_a3a2d42a_0e8d_11eb_b10d_0242ac1c0002row11_col1\" class=\"data row11 col1\" >nan</td>\n",
              "                        <td id=\"T_a3a2d42a_0e8d_11eb_b10d_0242ac1c0002row11_col2\" class=\"data row11 col2\" >136905</td>\n",
              "                        <td id=\"T_a3a2d42a_0e8d_11eb_b10d_0242ac1c0002row11_col3\" class=\"data row11 col3\" >TA</td>\n",
              "            </tr>\n",
              "            <tr>\n",
              "                        <th id=\"T_a3a2d42a_0e8d_11eb_b10d_0242ac1c0002level0_row12\" class=\"row_heading level0 row12\" >1300</th>\n",
              "                        <td id=\"T_a3a2d42a_0e8d_11eb_b10d_0242ac1c0002row12_col0\" class=\"data row12 col0\" >Gd</td>\n",
              "                        <td id=\"T_a3a2d42a_0e8d_11eb_b10d_0242ac1c0002row12_col1\" class=\"data row12 col1\" >TA</td>\n",
              "                        <td id=\"T_a3a2d42a_0e8d_11eb_b10d_0242ac1c0002row12_col2\" class=\"data row12 col2\" >225000</td>\n",
              "                        <td id=\"T_a3a2d42a_0e8d_11eb_b10d_0242ac1c0002row12_col3\" class=\"data row12 col3\" >Gd</td>\n",
              "            </tr>\n",
              "            <tr>\n",
              "                        <th id=\"T_a3a2d42a_0e8d_11eb_b10d_0242ac1c0002level0_row13\" class=\"row_heading level0 row13\" >1392</th>\n",
              "                        <td id=\"T_a3a2d42a_0e8d_11eb_b10d_0242ac1c0002row13_col0\" class=\"data row13 col0\" >TA</td>\n",
              "                        <td id=\"T_a3a2d42a_0e8d_11eb_b10d_0242ac1c0002row13_col1\" class=\"data row13 col1\" >Po</td>\n",
              "                        <td id=\"T_a3a2d42a_0e8d_11eb_b10d_0242ac1c0002row13_col2\" class=\"data row13 col2\" >123000</td>\n",
              "                        <td id=\"T_a3a2d42a_0e8d_11eb_b10d_0242ac1c0002row13_col3\" class=\"data row13 col3\" >TA</td>\n",
              "            </tr>\n",
              "            <tr>\n",
              "                        <th id=\"T_a3a2d42a_0e8d_11eb_b10d_0242ac1c0002level0_row14\" class=\"row_heading level0 row14\" >1014</th>\n",
              "                        <td id=\"T_a3a2d42a_0e8d_11eb_b10d_0242ac1c0002row14_col0\" class=\"data row14 col0\" >TA</td>\n",
              "                        <td id=\"T_a3a2d42a_0e8d_11eb_b10d_0242ac1c0002row14_col1\" class=\"data row14 col1\" >Gd</td>\n",
              "                        <td id=\"T_a3a2d42a_0e8d_11eb_b10d_0242ac1c0002row14_col2\" class=\"data row14 col2\" >119200</td>\n",
              "                        <td id=\"T_a3a2d42a_0e8d_11eb_b10d_0242ac1c0002row14_col3\" class=\"data row14 col3\" >TA</td>\n",
              "            </tr>\n",
              "    </tbody></table>"
            ],
            "text/plain": [
              "<pandas.io.formats.style.Styler at 0x7ff8bf28b860>"
            ]
          },
          "metadata": {
            "tags": []
          },
          "execution_count": 42
        }
      ]
    },
    {
      "cell_type": "code",
      "metadata": {
        "id": "vo0CUSJou95o"
      },
      "source": [
        "# sustituyamos FireplaceQu por una muestra aleatoria en ambos sets\n",
        "# entrenamiento y prueba\n",
        "\n",
        "# creemos una nueva variable donde NA serán imputados\n",
        "# creemos una copia de la variable original con NA\n",
        "\n",
        "X_train['FireplaceQu_imputed'] = X_train['FireplaceQu'].copy()\n",
        "X_test['FireplaceQu_imputed'] = X_test['FireplaceQu'].copy()\n",
        "\n",
        "# extraigamos la muestra aleatoria para llenar los na:\n",
        "# recuerda seleccionamos valores en el set de entrenamiento y luego\n",
        "# usamos estos valores para reemplazar valores nulos en ambos sets, de entrenamiento y prueba\n",
        "random_sample_train = X_train['FireplaceQu'].dropna().sample(\n",
        "    X_train['FireplaceQu'].isnull().sum(), random_state=0)\n",
        "\n",
        "random_sample_test = X_train['FireplaceQu'].dropna().sample(\n",
        "    X_test['FireplaceQu'].isnull().sum(), random_state=0)\n",
        "\n",
        "# Qué está sucediendo en el código anterior? \n",
        "# 1) dropna() remueve los NA de la variable original, eso significa\n",
        "# que aleatoriamente extraemos los valores existentes y no NAs\n",
        "\n",
        "# 2) sample() es el método que toma la muestra aleatoria\n",
        "# 3) X_train['BsmtQual'].isnull().sum() es el número  de valores aleatorios para \n",
        "# extraer tantos valores como NAs están presentes en la variable original\n",
        "# 4) random_state fija la semilla para reproducir los resultados, \n",
        "#   es decir obtener los mismos valore aleatorios cada vez que corres el notebook\n",
        "\n",
        "# pandas necesita tener el mismo orden de índices para unir los dataframes\n",
        "random_sample_train.index = X_train[X_train['FireplaceQu'].isnull()].index\n",
        "random_sample_test.index = X_test[X_test['FireplaceQu'].isnull()].index\n",
        "\n",
        "# reemplazar los NA con los valores extraidos al azar\n",
        "X_train.loc[X_train['FireplaceQu'].isnull(), 'FireplaceQu_imputed'] = random_sample_train\n",
        "X_test.loc[X_test['FireplaceQu'].isnull(), 'FireplaceQu_imputed'] = random_sample_test"
      ],
      "execution_count": 48,
      "outputs": []
    },
    {
      "cell_type": "code",
      "metadata": {
        "id": "lub7mVaxE93W",
        "outputId": "08d709b9-520b-4756-d153-125b4fff8841",
        "colab": {
          "base_uri": "https://localhost:8080/",
          "height": 355
        }
      },
      "source": [
        "X_train.head(15).style"
      ],
      "execution_count": 49,
      "outputs": [
        {
          "output_type": "execute_result",
          "data": {
            "text/html": [
              "<style  type=\"text/css\" >\n",
              "</style><table id=\"T_ed6aae98_0e8d_11eb_b10d_0242ac1c0002\" ><thead>    <tr>        <th class=\"blank level0\" ></th>        <th class=\"col_heading level0 col0\" >BsmtQual</th>        <th class=\"col_heading level0 col1\" >FireplaceQu</th>        <th class=\"col_heading level0 col2\" >SalePrice</th>        <th class=\"col_heading level0 col3\" >BsmtQual_imputed</th>        <th class=\"col_heading level0 col4\" >FireplaceQu_imputed</th>    </tr></thead><tbody>\n",
              "                <tr>\n",
              "                        <th id=\"T_ed6aae98_0e8d_11eb_b10d_0242ac1c0002level0_row0\" class=\"row_heading level0 row0\" >64</th>\n",
              "                        <td id=\"T_ed6aae98_0e8d_11eb_b10d_0242ac1c0002row0_col0\" class=\"data row0 col0\" >Gd</td>\n",
              "                        <td id=\"T_ed6aae98_0e8d_11eb_b10d_0242ac1c0002row0_col1\" class=\"data row0 col1\" >nan</td>\n",
              "                        <td id=\"T_ed6aae98_0e8d_11eb_b10d_0242ac1c0002row0_col2\" class=\"data row0 col2\" >219500</td>\n",
              "                        <td id=\"T_ed6aae98_0e8d_11eb_b10d_0242ac1c0002row0_col3\" class=\"data row0 col3\" >Gd</td>\n",
              "                        <td id=\"T_ed6aae98_0e8d_11eb_b10d_0242ac1c0002row0_col4\" class=\"data row0 col4\" >Gd</td>\n",
              "            </tr>\n",
              "            <tr>\n",
              "                        <th id=\"T_ed6aae98_0e8d_11eb_b10d_0242ac1c0002level0_row1\" class=\"row_heading level0 row1\" >682</th>\n",
              "                        <td id=\"T_ed6aae98_0e8d_11eb_b10d_0242ac1c0002row1_col0\" class=\"data row1 col0\" >Gd</td>\n",
              "                        <td id=\"T_ed6aae98_0e8d_11eb_b10d_0242ac1c0002row1_col1\" class=\"data row1 col1\" >Gd</td>\n",
              "                        <td id=\"T_ed6aae98_0e8d_11eb_b10d_0242ac1c0002row1_col2\" class=\"data row1 col2\" >173000</td>\n",
              "                        <td id=\"T_ed6aae98_0e8d_11eb_b10d_0242ac1c0002row1_col3\" class=\"data row1 col3\" >Gd</td>\n",
              "                        <td id=\"T_ed6aae98_0e8d_11eb_b10d_0242ac1c0002row1_col4\" class=\"data row1 col4\" >Gd</td>\n",
              "            </tr>\n",
              "            <tr>\n",
              "                        <th id=\"T_ed6aae98_0e8d_11eb_b10d_0242ac1c0002level0_row2\" class=\"row_heading level0 row2\" >960</th>\n",
              "                        <td id=\"T_ed6aae98_0e8d_11eb_b10d_0242ac1c0002row2_col0\" class=\"data row2 col0\" >TA</td>\n",
              "                        <td id=\"T_ed6aae98_0e8d_11eb_b10d_0242ac1c0002row2_col1\" class=\"data row2 col1\" >nan</td>\n",
              "                        <td id=\"T_ed6aae98_0e8d_11eb_b10d_0242ac1c0002row2_col2\" class=\"data row2 col2\" >116500</td>\n",
              "                        <td id=\"T_ed6aae98_0e8d_11eb_b10d_0242ac1c0002row2_col3\" class=\"data row2 col3\" >TA</td>\n",
              "                        <td id=\"T_ed6aae98_0e8d_11eb_b10d_0242ac1c0002row2_col4\" class=\"data row2 col4\" >TA</td>\n",
              "            </tr>\n",
              "            <tr>\n",
              "                        <th id=\"T_ed6aae98_0e8d_11eb_b10d_0242ac1c0002level0_row3\" class=\"row_heading level0 row3\" >1384</th>\n",
              "                        <td id=\"T_ed6aae98_0e8d_11eb_b10d_0242ac1c0002row3_col0\" class=\"data row3 col0\" >TA</td>\n",
              "                        <td id=\"T_ed6aae98_0e8d_11eb_b10d_0242ac1c0002row3_col1\" class=\"data row3 col1\" >nan</td>\n",
              "                        <td id=\"T_ed6aae98_0e8d_11eb_b10d_0242ac1c0002row3_col2\" class=\"data row3 col2\" >105000</td>\n",
              "                        <td id=\"T_ed6aae98_0e8d_11eb_b10d_0242ac1c0002row3_col3\" class=\"data row3 col3\" >TA</td>\n",
              "                        <td id=\"T_ed6aae98_0e8d_11eb_b10d_0242ac1c0002row3_col4\" class=\"data row3 col4\" >TA</td>\n",
              "            </tr>\n",
              "            <tr>\n",
              "                        <th id=\"T_ed6aae98_0e8d_11eb_b10d_0242ac1c0002level0_row4\" class=\"row_heading level0 row4\" >1100</th>\n",
              "                        <td id=\"T_ed6aae98_0e8d_11eb_b10d_0242ac1c0002row4_col0\" class=\"data row4 col0\" >TA</td>\n",
              "                        <td id=\"T_ed6aae98_0e8d_11eb_b10d_0242ac1c0002row4_col1\" class=\"data row4 col1\" >nan</td>\n",
              "                        <td id=\"T_ed6aae98_0e8d_11eb_b10d_0242ac1c0002row4_col2\" class=\"data row4 col2\" >60000</td>\n",
              "                        <td id=\"T_ed6aae98_0e8d_11eb_b10d_0242ac1c0002row4_col3\" class=\"data row4 col3\" >TA</td>\n",
              "                        <td id=\"T_ed6aae98_0e8d_11eb_b10d_0242ac1c0002row4_col4\" class=\"data row4 col4\" >Gd</td>\n",
              "            </tr>\n",
              "            <tr>\n",
              "                        <th id=\"T_ed6aae98_0e8d_11eb_b10d_0242ac1c0002level0_row5\" class=\"row_heading level0 row5\" >416</th>\n",
              "                        <td id=\"T_ed6aae98_0e8d_11eb_b10d_0242ac1c0002row5_col0\" class=\"data row5 col0\" >TA</td>\n",
              "                        <td id=\"T_ed6aae98_0e8d_11eb_b10d_0242ac1c0002row5_col1\" class=\"data row5 col1\" >TA</td>\n",
              "                        <td id=\"T_ed6aae98_0e8d_11eb_b10d_0242ac1c0002row5_col2\" class=\"data row5 col2\" >149500</td>\n",
              "                        <td id=\"T_ed6aae98_0e8d_11eb_b10d_0242ac1c0002row5_col3\" class=\"data row5 col3\" >TA</td>\n",
              "                        <td id=\"T_ed6aae98_0e8d_11eb_b10d_0242ac1c0002row5_col4\" class=\"data row5 col4\" >TA</td>\n",
              "            </tr>\n",
              "            <tr>\n",
              "                        <th id=\"T_ed6aae98_0e8d_11eb_b10d_0242ac1c0002level0_row6\" class=\"row_heading level0 row6\" >1034</th>\n",
              "                        <td id=\"T_ed6aae98_0e8d_11eb_b10d_0242ac1c0002row6_col0\" class=\"data row6 col0\" >Fa</td>\n",
              "                        <td id=\"T_ed6aae98_0e8d_11eb_b10d_0242ac1c0002row6_col1\" class=\"data row6 col1\" >Gd</td>\n",
              "                        <td id=\"T_ed6aae98_0e8d_11eb_b10d_0242ac1c0002row6_col2\" class=\"data row6 col2\" >119750</td>\n",
              "                        <td id=\"T_ed6aae98_0e8d_11eb_b10d_0242ac1c0002row6_col3\" class=\"data row6 col3\" >Fa</td>\n",
              "                        <td id=\"T_ed6aae98_0e8d_11eb_b10d_0242ac1c0002row6_col4\" class=\"data row6 col4\" >Gd</td>\n",
              "            </tr>\n",
              "            <tr>\n",
              "                        <th id=\"T_ed6aae98_0e8d_11eb_b10d_0242ac1c0002level0_row7\" class=\"row_heading level0 row7\" >853</th>\n",
              "                        <td id=\"T_ed6aae98_0e8d_11eb_b10d_0242ac1c0002row7_col0\" class=\"data row7 col0\" >TA</td>\n",
              "                        <td id=\"T_ed6aae98_0e8d_11eb_b10d_0242ac1c0002row7_col1\" class=\"data row7 col1\" >Fa</td>\n",
              "                        <td id=\"T_ed6aae98_0e8d_11eb_b10d_0242ac1c0002row7_col2\" class=\"data row7 col2\" >158000</td>\n",
              "                        <td id=\"T_ed6aae98_0e8d_11eb_b10d_0242ac1c0002row7_col3\" class=\"data row7 col3\" >TA</td>\n",
              "                        <td id=\"T_ed6aae98_0e8d_11eb_b10d_0242ac1c0002row7_col4\" class=\"data row7 col4\" >Fa</td>\n",
              "            </tr>\n",
              "            <tr>\n",
              "                        <th id=\"T_ed6aae98_0e8d_11eb_b10d_0242ac1c0002level0_row8\" class=\"row_heading level0 row8\" >472</th>\n",
              "                        <td id=\"T_ed6aae98_0e8d_11eb_b10d_0242ac1c0002row8_col0\" class=\"data row8 col0\" >Gd</td>\n",
              "                        <td id=\"T_ed6aae98_0e8d_11eb_b10d_0242ac1c0002row8_col1\" class=\"data row8 col1\" >nan</td>\n",
              "                        <td id=\"T_ed6aae98_0e8d_11eb_b10d_0242ac1c0002row8_col2\" class=\"data row8 col2\" >148000</td>\n",
              "                        <td id=\"T_ed6aae98_0e8d_11eb_b10d_0242ac1c0002row8_col3\" class=\"data row8 col3\" >Gd</td>\n",
              "                        <td id=\"T_ed6aae98_0e8d_11eb_b10d_0242ac1c0002row8_col4\" class=\"data row8 col4\" >Gd</td>\n",
              "            </tr>\n",
              "            <tr>\n",
              "                        <th id=\"T_ed6aae98_0e8d_11eb_b10d_0242ac1c0002level0_row9\" class=\"row_heading level0 row9\" >1011</th>\n",
              "                        <td id=\"T_ed6aae98_0e8d_11eb_b10d_0242ac1c0002row9_col0\" class=\"data row9 col0\" >nan</td>\n",
              "                        <td id=\"T_ed6aae98_0e8d_11eb_b10d_0242ac1c0002row9_col1\" class=\"data row9 col1\" >nan</td>\n",
              "                        <td id=\"T_ed6aae98_0e8d_11eb_b10d_0242ac1c0002row9_col2\" class=\"data row9 col2\" >100000</td>\n",
              "                        <td id=\"T_ed6aae98_0e8d_11eb_b10d_0242ac1c0002row9_col3\" class=\"data row9 col3\" >TA</td>\n",
              "                        <td id=\"T_ed6aae98_0e8d_11eb_b10d_0242ac1c0002row9_col4\" class=\"data row9 col4\" >Gd</td>\n",
              "            </tr>\n",
              "            <tr>\n",
              "                        <th id=\"T_ed6aae98_0e8d_11eb_b10d_0242ac1c0002level0_row10\" class=\"row_heading level0 row10\" >328</th>\n",
              "                        <td id=\"T_ed6aae98_0e8d_11eb_b10d_0242ac1c0002row10_col0\" class=\"data row10 col0\" >TA</td>\n",
              "                        <td id=\"T_ed6aae98_0e8d_11eb_b10d_0242ac1c0002row10_col1\" class=\"data row10 col1\" >nan</td>\n",
              "                        <td id=\"T_ed6aae98_0e8d_11eb_b10d_0242ac1c0002row10_col2\" class=\"data row10 col2\" >214500</td>\n",
              "                        <td id=\"T_ed6aae98_0e8d_11eb_b10d_0242ac1c0002row10_col3\" class=\"data row10 col3\" >TA</td>\n",
              "                        <td id=\"T_ed6aae98_0e8d_11eb_b10d_0242ac1c0002row10_col4\" class=\"data row10 col4\" >Gd</td>\n",
              "            </tr>\n",
              "            <tr>\n",
              "                        <th id=\"T_ed6aae98_0e8d_11eb_b10d_0242ac1c0002level0_row11\" class=\"row_heading level0 row11\" >608</th>\n",
              "                        <td id=\"T_ed6aae98_0e8d_11eb_b10d_0242ac1c0002row11_col0\" class=\"data row11 col0\" >Gd</td>\n",
              "                        <td id=\"T_ed6aae98_0e8d_11eb_b10d_0242ac1c0002row11_col1\" class=\"data row11 col1\" >Gd</td>\n",
              "                        <td id=\"T_ed6aae98_0e8d_11eb_b10d_0242ac1c0002row11_col2\" class=\"data row11 col2\" >359100</td>\n",
              "                        <td id=\"T_ed6aae98_0e8d_11eb_b10d_0242ac1c0002row11_col3\" class=\"data row11 col3\" >Gd</td>\n",
              "                        <td id=\"T_ed6aae98_0e8d_11eb_b10d_0242ac1c0002row11_col4\" class=\"data row11 col4\" >Gd</td>\n",
              "            </tr>\n",
              "            <tr>\n",
              "                        <th id=\"T_ed6aae98_0e8d_11eb_b10d_0242ac1c0002level0_row12\" class=\"row_heading level0 row12\" >1283</th>\n",
              "                        <td id=\"T_ed6aae98_0e8d_11eb_b10d_0242ac1c0002row12_col0\" class=\"data row12 col0\" >TA</td>\n",
              "                        <td id=\"T_ed6aae98_0e8d_11eb_b10d_0242ac1c0002row12_col1\" class=\"data row12 col1\" >nan</td>\n",
              "                        <td id=\"T_ed6aae98_0e8d_11eb_b10d_0242ac1c0002row12_col2\" class=\"data row12 col2\" >139000</td>\n",
              "                        <td id=\"T_ed6aae98_0e8d_11eb_b10d_0242ac1c0002row12_col3\" class=\"data row12 col3\" >TA</td>\n",
              "                        <td id=\"T_ed6aae98_0e8d_11eb_b10d_0242ac1c0002row12_col4\" class=\"data row12 col4\" >Gd</td>\n",
              "            </tr>\n",
              "            <tr>\n",
              "                        <th id=\"T_ed6aae98_0e8d_11eb_b10d_0242ac1c0002level0_row13\" class=\"row_heading level0 row13\" >452</th>\n",
              "                        <td id=\"T_ed6aae98_0e8d_11eb_b10d_0242ac1c0002row13_col0\" class=\"data row13 col0\" >Ex</td>\n",
              "                        <td id=\"T_ed6aae98_0e8d_11eb_b10d_0242ac1c0002row13_col1\" class=\"data row13 col1\" >nan</td>\n",
              "                        <td id=\"T_ed6aae98_0e8d_11eb_b10d_0242ac1c0002row13_col2\" class=\"data row13 col2\" >204000</td>\n",
              "                        <td id=\"T_ed6aae98_0e8d_11eb_b10d_0242ac1c0002row13_col3\" class=\"data row13 col3\" >Ex</td>\n",
              "                        <td id=\"T_ed6aae98_0e8d_11eb_b10d_0242ac1c0002row13_col4\" class=\"data row13 col4\" >Gd</td>\n",
              "            </tr>\n",
              "            <tr>\n",
              "                        <th id=\"T_ed6aae98_0e8d_11eb_b10d_0242ac1c0002level0_row14\" class=\"row_heading level0 row14\" >1227</th>\n",
              "                        <td id=\"T_ed6aae98_0e8d_11eb_b10d_0242ac1c0002row14_col0\" class=\"data row14 col0\" >TA</td>\n",
              "                        <td id=\"T_ed6aae98_0e8d_11eb_b10d_0242ac1c0002row14_col1\" class=\"data row14 col1\" >nan</td>\n",
              "                        <td id=\"T_ed6aae98_0e8d_11eb_b10d_0242ac1c0002row14_col2\" class=\"data row14 col2\" >147000</td>\n",
              "                        <td id=\"T_ed6aae98_0e8d_11eb_b10d_0242ac1c0002row14_col3\" class=\"data row14 col3\" >TA</td>\n",
              "                        <td id=\"T_ed6aae98_0e8d_11eb_b10d_0242ac1c0002row14_col4\" class=\"data row14 col4\" >TA</td>\n",
              "            </tr>\n",
              "    </tbody></table>"
            ],
            "text/plain": [
              "<pandas.io.formats.style.Styler at 0x7ff8c300dda0>"
            ]
          },
          "metadata": {
            "tags": []
          },
          "execution_count": 49
        }
      ]
    },
    {
      "cell_type": "code",
      "metadata": {
        "id": "8Pfn6HlqE-EZ",
        "outputId": "16cb00ba-21b4-4ccc-ed3c-4b305c45febe",
        "colab": {
          "base_uri": "https://localhost:8080/",
          "height": 355
        }
      },
      "source": [
        "X_test.head(15).style"
      ],
      "execution_count": 50,
      "outputs": [
        {
          "output_type": "execute_result",
          "data": {
            "text/html": [
              "<style  type=\"text/css\" >\n",
              "</style><table id=\"T_f75f0cc8_0e8d_11eb_b10d_0242ac1c0002\" ><thead>    <tr>        <th class=\"blank level0\" ></th>        <th class=\"col_heading level0 col0\" >BsmtQual</th>        <th class=\"col_heading level0 col1\" >FireplaceQu</th>        <th class=\"col_heading level0 col2\" >SalePrice</th>        <th class=\"col_heading level0 col3\" >BsmtQual_imputed</th>        <th class=\"col_heading level0 col4\" >FireplaceQu_imputed</th>    </tr></thead><tbody>\n",
              "                <tr>\n",
              "                        <th id=\"T_f75f0cc8_0e8d_11eb_b10d_0242ac1c0002level0_row0\" class=\"row_heading level0 row0\" >529</th>\n",
              "                        <td id=\"T_f75f0cc8_0e8d_11eb_b10d_0242ac1c0002row0_col0\" class=\"data row0 col0\" >TA</td>\n",
              "                        <td id=\"T_f75f0cc8_0e8d_11eb_b10d_0242ac1c0002row0_col1\" class=\"data row0 col1\" >TA</td>\n",
              "                        <td id=\"T_f75f0cc8_0e8d_11eb_b10d_0242ac1c0002row0_col2\" class=\"data row0 col2\" >200624</td>\n",
              "                        <td id=\"T_f75f0cc8_0e8d_11eb_b10d_0242ac1c0002row0_col3\" class=\"data row0 col3\" >TA</td>\n",
              "                        <td id=\"T_f75f0cc8_0e8d_11eb_b10d_0242ac1c0002row0_col4\" class=\"data row0 col4\" >TA</td>\n",
              "            </tr>\n",
              "            <tr>\n",
              "                        <th id=\"T_f75f0cc8_0e8d_11eb_b10d_0242ac1c0002level0_row1\" class=\"row_heading level0 row1\" >491</th>\n",
              "                        <td id=\"T_f75f0cc8_0e8d_11eb_b10d_0242ac1c0002row1_col0\" class=\"data row1 col0\" >TA</td>\n",
              "                        <td id=\"T_f75f0cc8_0e8d_11eb_b10d_0242ac1c0002row1_col1\" class=\"data row1 col1\" >TA</td>\n",
              "                        <td id=\"T_f75f0cc8_0e8d_11eb_b10d_0242ac1c0002row1_col2\" class=\"data row1 col2\" >133000</td>\n",
              "                        <td id=\"T_f75f0cc8_0e8d_11eb_b10d_0242ac1c0002row1_col3\" class=\"data row1 col3\" >TA</td>\n",
              "                        <td id=\"T_f75f0cc8_0e8d_11eb_b10d_0242ac1c0002row1_col4\" class=\"data row1 col4\" >TA</td>\n",
              "            </tr>\n",
              "            <tr>\n",
              "                        <th id=\"T_f75f0cc8_0e8d_11eb_b10d_0242ac1c0002level0_row2\" class=\"row_heading level0 row2\" >459</th>\n",
              "                        <td id=\"T_f75f0cc8_0e8d_11eb_b10d_0242ac1c0002row2_col0\" class=\"data row2 col0\" >TA</td>\n",
              "                        <td id=\"T_f75f0cc8_0e8d_11eb_b10d_0242ac1c0002row2_col1\" class=\"data row2 col1\" >TA</td>\n",
              "                        <td id=\"T_f75f0cc8_0e8d_11eb_b10d_0242ac1c0002row2_col2\" class=\"data row2 col2\" >110000</td>\n",
              "                        <td id=\"T_f75f0cc8_0e8d_11eb_b10d_0242ac1c0002row2_col3\" class=\"data row2 col3\" >TA</td>\n",
              "                        <td id=\"T_f75f0cc8_0e8d_11eb_b10d_0242ac1c0002row2_col4\" class=\"data row2 col4\" >TA</td>\n",
              "            </tr>\n",
              "            <tr>\n",
              "                        <th id=\"T_f75f0cc8_0e8d_11eb_b10d_0242ac1c0002level0_row3\" class=\"row_heading level0 row3\" >279</th>\n",
              "                        <td id=\"T_f75f0cc8_0e8d_11eb_b10d_0242ac1c0002row3_col0\" class=\"data row3 col0\" >Gd</td>\n",
              "                        <td id=\"T_f75f0cc8_0e8d_11eb_b10d_0242ac1c0002row3_col1\" class=\"data row3 col1\" >TA</td>\n",
              "                        <td id=\"T_f75f0cc8_0e8d_11eb_b10d_0242ac1c0002row3_col2\" class=\"data row3 col2\" >192000</td>\n",
              "                        <td id=\"T_f75f0cc8_0e8d_11eb_b10d_0242ac1c0002row3_col3\" class=\"data row3 col3\" >Gd</td>\n",
              "                        <td id=\"T_f75f0cc8_0e8d_11eb_b10d_0242ac1c0002row3_col4\" class=\"data row3 col4\" >TA</td>\n",
              "            </tr>\n",
              "            <tr>\n",
              "                        <th id=\"T_f75f0cc8_0e8d_11eb_b10d_0242ac1c0002level0_row4\" class=\"row_heading level0 row4\" >655</th>\n",
              "                        <td id=\"T_f75f0cc8_0e8d_11eb_b10d_0242ac1c0002row4_col0\" class=\"data row4 col0\" >TA</td>\n",
              "                        <td id=\"T_f75f0cc8_0e8d_11eb_b10d_0242ac1c0002row4_col1\" class=\"data row4 col1\" >nan</td>\n",
              "                        <td id=\"T_f75f0cc8_0e8d_11eb_b10d_0242ac1c0002row4_col2\" class=\"data row4 col2\" >88000</td>\n",
              "                        <td id=\"T_f75f0cc8_0e8d_11eb_b10d_0242ac1c0002row4_col3\" class=\"data row4 col3\" >TA</td>\n",
              "                        <td id=\"T_f75f0cc8_0e8d_11eb_b10d_0242ac1c0002row4_col4\" class=\"data row4 col4\" >Gd</td>\n",
              "            </tr>\n",
              "            <tr>\n",
              "                        <th id=\"T_f75f0cc8_0e8d_11eb_b10d_0242ac1c0002level0_row5\" class=\"row_heading level0 row5\" >1013</th>\n",
              "                        <td id=\"T_f75f0cc8_0e8d_11eb_b10d_0242ac1c0002row5_col0\" class=\"data row5 col0\" >TA</td>\n",
              "                        <td id=\"T_f75f0cc8_0e8d_11eb_b10d_0242ac1c0002row5_col1\" class=\"data row5 col1\" >nan</td>\n",
              "                        <td id=\"T_f75f0cc8_0e8d_11eb_b10d_0242ac1c0002row5_col2\" class=\"data row5 col2\" >85000</td>\n",
              "                        <td id=\"T_f75f0cc8_0e8d_11eb_b10d_0242ac1c0002row5_col3\" class=\"data row5 col3\" >TA</td>\n",
              "                        <td id=\"T_f75f0cc8_0e8d_11eb_b10d_0242ac1c0002row5_col4\" class=\"data row5 col4\" >TA</td>\n",
              "            </tr>\n",
              "            <tr>\n",
              "                        <th id=\"T_f75f0cc8_0e8d_11eb_b10d_0242ac1c0002level0_row6\" class=\"row_heading level0 row6\" >1403</th>\n",
              "                        <td id=\"T_f75f0cc8_0e8d_11eb_b10d_0242ac1c0002row6_col0\" class=\"data row6 col0\" >Gd</td>\n",
              "                        <td id=\"T_f75f0cc8_0e8d_11eb_b10d_0242ac1c0002row6_col1\" class=\"data row6 col1\" >nan</td>\n",
              "                        <td id=\"T_f75f0cc8_0e8d_11eb_b10d_0242ac1c0002row6_col2\" class=\"data row6 col2\" >282922</td>\n",
              "                        <td id=\"T_f75f0cc8_0e8d_11eb_b10d_0242ac1c0002row6_col3\" class=\"data row6 col3\" >Gd</td>\n",
              "                        <td id=\"T_f75f0cc8_0e8d_11eb_b10d_0242ac1c0002row6_col4\" class=\"data row6 col4\" >TA</td>\n",
              "            </tr>\n",
              "            <tr>\n",
              "                        <th id=\"T_f75f0cc8_0e8d_11eb_b10d_0242ac1c0002level0_row7\" class=\"row_heading level0 row7\" >601</th>\n",
              "                        <td id=\"T_f75f0cc8_0e8d_11eb_b10d_0242ac1c0002row7_col0\" class=\"data row7 col0\" >TA</td>\n",
              "                        <td id=\"T_f75f0cc8_0e8d_11eb_b10d_0242ac1c0002row7_col1\" class=\"data row7 col1\" >Gd</td>\n",
              "                        <td id=\"T_f75f0cc8_0e8d_11eb_b10d_0242ac1c0002row7_col2\" class=\"data row7 col2\" >141000</td>\n",
              "                        <td id=\"T_f75f0cc8_0e8d_11eb_b10d_0242ac1c0002row7_col3\" class=\"data row7 col3\" >TA</td>\n",
              "                        <td id=\"T_f75f0cc8_0e8d_11eb_b10d_0242ac1c0002row7_col4\" class=\"data row7 col4\" >Gd</td>\n",
              "            </tr>\n",
              "            <tr>\n",
              "                        <th id=\"T_f75f0cc8_0e8d_11eb_b10d_0242ac1c0002level0_row8\" class=\"row_heading level0 row8\" >1182</th>\n",
              "                        <td id=\"T_f75f0cc8_0e8d_11eb_b10d_0242ac1c0002row8_col0\" class=\"data row8 col0\" >Ex</td>\n",
              "                        <td id=\"T_f75f0cc8_0e8d_11eb_b10d_0242ac1c0002row8_col1\" class=\"data row8 col1\" >TA</td>\n",
              "                        <td id=\"T_f75f0cc8_0e8d_11eb_b10d_0242ac1c0002row8_col2\" class=\"data row8 col2\" >745000</td>\n",
              "                        <td id=\"T_f75f0cc8_0e8d_11eb_b10d_0242ac1c0002row8_col3\" class=\"data row8 col3\" >Ex</td>\n",
              "                        <td id=\"T_f75f0cc8_0e8d_11eb_b10d_0242ac1c0002row8_col4\" class=\"data row8 col4\" >TA</td>\n",
              "            </tr>\n",
              "            <tr>\n",
              "                        <th id=\"T_f75f0cc8_0e8d_11eb_b10d_0242ac1c0002level0_row9\" class=\"row_heading level0 row9\" >687</th>\n",
              "                        <td id=\"T_f75f0cc8_0e8d_11eb_b10d_0242ac1c0002row9_col0\" class=\"data row9 col0\" >Gd</td>\n",
              "                        <td id=\"T_f75f0cc8_0e8d_11eb_b10d_0242ac1c0002row9_col1\" class=\"data row9 col1\" >nan</td>\n",
              "                        <td id=\"T_f75f0cc8_0e8d_11eb_b10d_0242ac1c0002row9_col2\" class=\"data row9 col2\" >148800</td>\n",
              "                        <td id=\"T_f75f0cc8_0e8d_11eb_b10d_0242ac1c0002row9_col3\" class=\"data row9 col3\" >Gd</td>\n",
              "                        <td id=\"T_f75f0cc8_0e8d_11eb_b10d_0242ac1c0002row9_col4\" class=\"data row9 col4\" >Gd</td>\n",
              "            </tr>\n",
              "            <tr>\n",
              "                        <th id=\"T_f75f0cc8_0e8d_11eb_b10d_0242ac1c0002level0_row10\" class=\"row_heading level0 row10\" >1317</th>\n",
              "                        <td id=\"T_f75f0cc8_0e8d_11eb_b10d_0242ac1c0002row10_col0\" class=\"data row10 col0\" >Ex</td>\n",
              "                        <td id=\"T_f75f0cc8_0e8d_11eb_b10d_0242ac1c0002row10_col1\" class=\"data row10 col1\" >Gd</td>\n",
              "                        <td id=\"T_f75f0cc8_0e8d_11eb_b10d_0242ac1c0002row10_col2\" class=\"data row10 col2\" >208900</td>\n",
              "                        <td id=\"T_f75f0cc8_0e8d_11eb_b10d_0242ac1c0002row10_col3\" class=\"data row10 col3\" >Ex</td>\n",
              "                        <td id=\"T_f75f0cc8_0e8d_11eb_b10d_0242ac1c0002row10_col4\" class=\"data row10 col4\" >Gd</td>\n",
              "            </tr>\n",
              "            <tr>\n",
              "                        <th id=\"T_f75f0cc8_0e8d_11eb_b10d_0242ac1c0002level0_row11\" class=\"row_heading level0 row11\" >1003</th>\n",
              "                        <td id=\"T_f75f0cc8_0e8d_11eb_b10d_0242ac1c0002row11_col0\" class=\"data row11 col0\" >TA</td>\n",
              "                        <td id=\"T_f75f0cc8_0e8d_11eb_b10d_0242ac1c0002row11_col1\" class=\"data row11 col1\" >nan</td>\n",
              "                        <td id=\"T_f75f0cc8_0e8d_11eb_b10d_0242ac1c0002row11_col2\" class=\"data row11 col2\" >136905</td>\n",
              "                        <td id=\"T_f75f0cc8_0e8d_11eb_b10d_0242ac1c0002row11_col3\" class=\"data row11 col3\" >TA</td>\n",
              "                        <td id=\"T_f75f0cc8_0e8d_11eb_b10d_0242ac1c0002row11_col4\" class=\"data row11 col4\" >Gd</td>\n",
              "            </tr>\n",
              "            <tr>\n",
              "                        <th id=\"T_f75f0cc8_0e8d_11eb_b10d_0242ac1c0002level0_row12\" class=\"row_heading level0 row12\" >1300</th>\n",
              "                        <td id=\"T_f75f0cc8_0e8d_11eb_b10d_0242ac1c0002row12_col0\" class=\"data row12 col0\" >Gd</td>\n",
              "                        <td id=\"T_f75f0cc8_0e8d_11eb_b10d_0242ac1c0002row12_col1\" class=\"data row12 col1\" >TA</td>\n",
              "                        <td id=\"T_f75f0cc8_0e8d_11eb_b10d_0242ac1c0002row12_col2\" class=\"data row12 col2\" >225000</td>\n",
              "                        <td id=\"T_f75f0cc8_0e8d_11eb_b10d_0242ac1c0002row12_col3\" class=\"data row12 col3\" >Gd</td>\n",
              "                        <td id=\"T_f75f0cc8_0e8d_11eb_b10d_0242ac1c0002row12_col4\" class=\"data row12 col4\" >TA</td>\n",
              "            </tr>\n",
              "            <tr>\n",
              "                        <th id=\"T_f75f0cc8_0e8d_11eb_b10d_0242ac1c0002level0_row13\" class=\"row_heading level0 row13\" >1392</th>\n",
              "                        <td id=\"T_f75f0cc8_0e8d_11eb_b10d_0242ac1c0002row13_col0\" class=\"data row13 col0\" >TA</td>\n",
              "                        <td id=\"T_f75f0cc8_0e8d_11eb_b10d_0242ac1c0002row13_col1\" class=\"data row13 col1\" >Po</td>\n",
              "                        <td id=\"T_f75f0cc8_0e8d_11eb_b10d_0242ac1c0002row13_col2\" class=\"data row13 col2\" >123000</td>\n",
              "                        <td id=\"T_f75f0cc8_0e8d_11eb_b10d_0242ac1c0002row13_col3\" class=\"data row13 col3\" >TA</td>\n",
              "                        <td id=\"T_f75f0cc8_0e8d_11eb_b10d_0242ac1c0002row13_col4\" class=\"data row13 col4\" >Po</td>\n",
              "            </tr>\n",
              "            <tr>\n",
              "                        <th id=\"T_f75f0cc8_0e8d_11eb_b10d_0242ac1c0002level0_row14\" class=\"row_heading level0 row14\" >1014</th>\n",
              "                        <td id=\"T_f75f0cc8_0e8d_11eb_b10d_0242ac1c0002row14_col0\" class=\"data row14 col0\" >TA</td>\n",
              "                        <td id=\"T_f75f0cc8_0e8d_11eb_b10d_0242ac1c0002row14_col1\" class=\"data row14 col1\" >Gd</td>\n",
              "                        <td id=\"T_f75f0cc8_0e8d_11eb_b10d_0242ac1c0002row14_col2\" class=\"data row14 col2\" >119200</td>\n",
              "                        <td id=\"T_f75f0cc8_0e8d_11eb_b10d_0242ac1c0002row14_col3\" class=\"data row14 col3\" >TA</td>\n",
              "                        <td id=\"T_f75f0cc8_0e8d_11eb_b10d_0242ac1c0002row14_col4\" class=\"data row14 col4\" >Gd</td>\n",
              "            </tr>\n",
              "    </tbody></table>"
            ],
            "text/plain": [
              "<pandas.io.formats.style.Styler at 0x7ff8c2ba2ba8>"
            ]
          },
          "metadata": {
            "tags": []
          },
          "execution_count": 50
        }
      ]
    },
    {
      "cell_type": "code",
      "metadata": {
        "id": "R_Gv3hNDu95p",
        "outputId": "78526943-35ae-48b0-b0f1-78075a4af9c9",
        "colab": {
          "base_uri": "https://localhost:8080/",
          "height": 34
        }
      },
      "source": [
        "# revisemos que los valores nulos fueron reemplazados\n",
        "X_train['FireplaceQu_imputed'].isnull().sum()"
      ],
      "execution_count": 51,
      "outputs": [
        {
          "output_type": "execute_result",
          "data": {
            "text/plain": [
              "0"
            ]
          },
          "metadata": {
            "tags": []
          },
          "execution_count": 51
        }
      ]
    },
    {
      "cell_type": "code",
      "metadata": {
        "id": "rN1Q6IEqu95s"
      },
      "source": [
        "# ahora evaluemos el efecto de la sustitución en la distribución\n",
        "# de las categorías y el target\n",
        "\n",
        "# usamos una función similar en el notebook de sustitución de valores arbitrarios\n",
        "# para variables categóricas\n",
        "\n",
        "def categorical_distribution(df, variable_original, variable_imputed):\n",
        "\n",
        "    tmp = pd.concat(\n",
        "        [\n",
        "            # porcentaje de observaciones por categoría, variable original\n",
        "            df[variable_original].value_counts() / len(df[variable_original].dropna()),\n",
        "\n",
        "            # porcentaje de observaciones por categoría, variable imputada\n",
        "            df[variable_imputed].value_counts() / len(df)\n",
        "        ],\n",
        "        axis=1)\n",
        "\n",
        "    # nombre de las columnas\n",
        "    tmp.columns = ['original', 'imputed']\n",
        "\n",
        "    return tmp"
      ],
      "execution_count": 52,
      "outputs": []
    },
    {
      "cell_type": "code",
      "metadata": {
        "id": "CT7aPzHWu95u",
        "outputId": "4a7d6ff9-f94e-4d2f-c8f1-d1d23f01974b",
        "colab": {
          "base_uri": "https://localhost:8080/",
          "height": 173
        }
      },
      "source": [
        "# correr la función en una variable categórica\n",
        "\n",
        "categorical_distribution(X_train, 'BsmtQual', 'BsmtQual_imputed')"
      ],
      "execution_count": 53,
      "outputs": [
        {
          "output_type": "execute_result",
          "data": {
            "text/html": [
              "<div>\n",
              "<style scoped>\n",
              "    .dataframe tbody tr th:only-of-type {\n",
              "        vertical-align: middle;\n",
              "    }\n",
              "\n",
              "    .dataframe tbody tr th {\n",
              "        vertical-align: top;\n",
              "    }\n",
              "\n",
              "    .dataframe thead th {\n",
              "        text-align: right;\n",
              "    }\n",
              "</style>\n",
              "<table border=\"1\" class=\"dataframe\">\n",
              "  <thead>\n",
              "    <tr style=\"text-align: right;\">\n",
              "      <th></th>\n",
              "      <th>original</th>\n",
              "      <th>imputed</th>\n",
              "    </tr>\n",
              "  </thead>\n",
              "  <tbody>\n",
              "    <tr>\n",
              "      <th>TA</th>\n",
              "      <td>0.463928</td>\n",
              "      <td>0.465753</td>\n",
              "    </tr>\n",
              "    <tr>\n",
              "      <th>Gd</th>\n",
              "      <td>0.430862</td>\n",
              "      <td>0.428571</td>\n",
              "    </tr>\n",
              "    <tr>\n",
              "      <th>Ex</th>\n",
              "      <td>0.082164</td>\n",
              "      <td>0.083170</td>\n",
              "    </tr>\n",
              "    <tr>\n",
              "      <th>Fa</th>\n",
              "      <td>0.023046</td>\n",
              "      <td>0.022505</td>\n",
              "    </tr>\n",
              "  </tbody>\n",
              "</table>\n",
              "</div>"
            ],
            "text/plain": [
              "    original   imputed\n",
              "TA  0.463928  0.465753\n",
              "Gd  0.430862  0.428571\n",
              "Ex  0.082164  0.083170\n",
              "Fa  0.023046  0.022505"
            ]
          },
          "metadata": {
            "tags": []
          },
          "execution_count": 53
        }
      ]
    },
    {
      "cell_type": "code",
      "metadata": {
        "id": "pM-iViwAu95v",
        "outputId": "c34e146b-02d9-46ee-aff4-cb324386ea68",
        "colab": {
          "base_uri": "https://localhost:8080/",
          "height": 204
        }
      },
      "source": [
        "# correr la función en una variable categórica\n",
        "\n",
        "categorical_distribution(X_train, 'FireplaceQu', 'FireplaceQu_imputed')"
      ],
      "execution_count": 54,
      "outputs": [
        {
          "output_type": "execute_result",
          "data": {
            "text/html": [
              "<div>\n",
              "<style scoped>\n",
              "    .dataframe tbody tr th:only-of-type {\n",
              "        vertical-align: middle;\n",
              "    }\n",
              "\n",
              "    .dataframe tbody tr th {\n",
              "        vertical-align: top;\n",
              "    }\n",
              "\n",
              "    .dataframe thead th {\n",
              "        text-align: right;\n",
              "    }\n",
              "</style>\n",
              "<table border=\"1\" class=\"dataframe\">\n",
              "  <thead>\n",
              "    <tr style=\"text-align: right;\">\n",
              "      <th></th>\n",
              "      <th>original</th>\n",
              "      <th>imputed</th>\n",
              "    </tr>\n",
              "  </thead>\n",
              "  <tbody>\n",
              "    <tr>\n",
              "      <th>Gd</th>\n",
              "      <td>0.468750</td>\n",
              "      <td>0.469667</td>\n",
              "    </tr>\n",
              "    <tr>\n",
              "      <th>TA</th>\n",
              "      <td>0.420956</td>\n",
              "      <td>0.420744</td>\n",
              "    </tr>\n",
              "    <tr>\n",
              "      <th>Fa</th>\n",
              "      <td>0.047794</td>\n",
              "      <td>0.046967</td>\n",
              "    </tr>\n",
              "    <tr>\n",
              "      <th>Ex</th>\n",
              "      <td>0.033088</td>\n",
              "      <td>0.032290</td>\n",
              "    </tr>\n",
              "    <tr>\n",
              "      <th>Po</th>\n",
              "      <td>0.029412</td>\n",
              "      <td>0.030333</td>\n",
              "    </tr>\n",
              "  </tbody>\n",
              "</table>\n",
              "</div>"
            ],
            "text/plain": [
              "    original   imputed\n",
              "Gd  0.468750  0.469667\n",
              "TA  0.420956  0.420744\n",
              "Fa  0.047794  0.046967\n",
              "Ex  0.033088  0.032290\n",
              "Po  0.029412  0.030333"
            ]
          },
          "metadata": {
            "tags": []
          },
          "execution_count": 54
        }
      ]
    },
    {
      "cell_type": "markdown",
      "metadata": {
        "id": "gKv5EOQPu95y"
      },
      "source": [
        "Como era de esperase, el porcentaje de observaciones en cada categoría es muy similar entre la variable original y la variable sustituida, en ambos casos: para  BsmtQual donde los NA son pocos y para FireplaceQu donde los NA son muchos."
      ]
    },
    {
      "cell_type": "code",
      "metadata": {
        "id": "AshsKsrJu95y"
      },
      "source": [
        "# veamos la distribución del target dentro de cada categoría\n",
        "\n",
        "def automate_plot(df, variable, target):\n",
        "    \n",
        "    fig = plt.figure()\n",
        "    ax = fig.add_subplot(111)\n",
        "    \n",
        "    for category in df[variable].dropna().unique():\n",
        "        df[df[variable]==category][target].plot(kind='kde', ax=ax)\n",
        "    \n",
        "    # leyenda\n",
        "    lines, labels = ax.get_legend_handles_labels()\n",
        "    labels = df[variable].dropna().unique()\n",
        "    ax.legend(lines, labels, loc='best')\n",
        "    \n",
        "    plt.show()"
      ],
      "execution_count": 55,
      "outputs": []
    },
    {
      "cell_type": "code",
      "metadata": {
        "id": "Nkou2ZA6u950",
        "outputId": "15cef7dc-964c-4b94-f8a8-47f16f6d4a57",
        "colab": {
          "base_uri": "https://localhost:8080/",
          "height": 289
        }
      },
      "source": [
        "automate_plot(X_train, 'BsmtQual', 'SalePrice')"
      ],
      "execution_count": 56,
      "outputs": [
        {
          "output_type": "display_data",
          "data": {
            "image/png": "[encoded data removed]",
            "text/plain": [
              "<Figure size 432x288 with 1 Axes>"
            ]
          },
          "metadata": {
            "tags": [],
            "needs_background": "light"
          }
        }
      ]
    },
    {
      "cell_type": "code",
      "metadata": {
        "id": "-P7qTrRnGvgu",
        "outputId": "0e0475eb-639a-43d6-c2d7-bf753e1a7f8e",
        "colab": {
          "base_uri": "https://localhost:8080/",
          "height": 85
        }
      },
      "source": [
        "print('Precio de categoría Gd original',X_train[X_train['BsmtQual']=='Gd']['SalePrice'].mean())\n",
        "print('Precio de categoría TA original',X_train[X_train['BsmtQual']=='TA']['SalePrice'].mean())\n",
        "print('Precio de categoría Fa original',X_train[X_train['BsmtQual']=='Fa']['SalePrice'].mean())\n",
        "print('Precio de categoría Ex original',X_train[X_train['BsmtQual']=='Ex']['SalePrice'].mean())"
      ],
      "execution_count": 61,
      "outputs": [
        {
          "output_type": "stream",
          "text": [
            "Precio de categoría Gd original 202298.8558139535\n",
            "Precio de categoría TA original 141808.65010799136\n",
            "Precio de categoría Fa original 118067.39130434782\n",
            "Precio de categoría Ex original 325808.64634146343\n"
          ],
          "name": "stdout"
        }
      ]
    },
    {
      "cell_type": "code",
      "metadata": {
        "id": "HitpCz0pu952",
        "outputId": "65806e36-abcf-49fd-beae-4876bce1eebe",
        "colab": {
          "base_uri": "https://localhost:8080/",
          "height": 289
        }
      },
      "source": [
        "automate_plot(X_train, 'BsmtQual_imputed', 'SalePrice')"
      ],
      "execution_count": 57,
      "outputs": [
        {
          "output_type": "display_data",
          "data": {
            "image/png": "[encoded data removed]",
            "text/plain": [
              "<Figure size 432x288 with 1 Axes>"
            ]
          },
          "metadata": {
            "tags": [],
            "needs_background": "light"
          }
        }
      ]
    },
    {
      "cell_type": "code",
      "metadata": {
        "id": "1OzKJUQtGwSi",
        "outputId": "5661f993-8a69-4ee8-e7c9-79fdefba79b4",
        "colab": {
          "base_uri": "https://localhost:8080/",
          "height": 85
        }
      },
      "source": [
        "print('Precio de categoría Gd imputada',X_train[X_train['BsmtQual_imputed']=='Gd']['SalePrice'].mean())\n",
        "print('Precio de categoría TA imputada',X_train[X_train['BsmtQual_imputed']=='TA']['SalePrice'].mean())\n",
        "print('Precio de categoría Fa imputada',X_train[X_train['BsmtQual_imputed']=='Fa']['SalePrice'].mean())\n",
        "print('Precio de categoría Ex imputada',X_train[X_train['BsmtQual_imputed']=='Ex']['SalePrice'].mean())"
      ],
      "execution_count": 62,
      "outputs": [
        {
          "output_type": "stream",
          "text": [
            "Precio de categoría Gd imputada 200626.7305936073\n",
            "Precio de categoría TA imputada 140647.04831932773\n",
            "Precio de categoría Fa imputada 118067.39130434782\n",
            "Precio de categoría Ex imputada 317894.97647058824\n"
          ],
          "name": "stdout"
        }
      ]
    },
    {
      "cell_type": "markdown",
      "metadata": {
        "id": "kjGxkC1zIofE"
      },
      "source": [
        "La relación de las variables categoricas con el target casi no fue afectado."
      ]
    },
    {
      "cell_type": "code",
      "metadata": {
        "id": "2JQEOjtbu954",
        "outputId": "dd2c326a-bc07-4516-d8c5-a4e4cd1fd301",
        "colab": {
          "base_uri": "https://localhost:8080/",
          "height": 289
        }
      },
      "source": [
        "automate_plot(X_train, 'FireplaceQu', 'SalePrice')"
      ],
      "execution_count": 58,
      "outputs": [
        {
          "output_type": "display_data",
          "data": {
            "image/png": "[encoded data removed]",
            "text/plain": [
              "<Figure size 432x288 with 1 Axes>"
            ]
          },
          "metadata": {
            "tags": [],
            "needs_background": "light"
          }
        }
      ]
    },
    {
      "cell_type": "code",
      "metadata": {
        "id": "6i7aYKAKGx-G",
        "outputId": "050a0941-a46f-4364-b02e-cd02ec0bd607",
        "colab": {
          "base_uri": "https://localhost:8080/",
          "height": 85
        }
      },
      "source": [
        "print('Precio de categoría Gd original',X_train[X_train['FireplaceQu']=='Gd']['SalePrice'].mean())\n",
        "print('Precio de categoría TA original',X_train[X_train['FireplaceQu']=='TA']['SalePrice'].mean())\n",
        "print('Precio de categoría Fa original',X_train[X_train['FireplaceQu']=='Fa']['SalePrice'].mean())\n",
        "print('Precio de categoría Ex original',X_train[X_train['FireplaceQu']=='Ex']['SalePrice'].mean())"
      ],
      "execution_count": 63,
      "outputs": [
        {
          "output_type": "stream",
          "text": [
            "Precio de categoría Gd imputada 223413.58039215687\n",
            "Precio de categoría TA imputada 207675.58951965065\n",
            "Precio de categoría Fa imputada 167000.0\n",
            "Precio de categoría Ex imputada 351475.1111111111\n"
          ],
          "name": "stdout"
        }
      ]
    },
    {
      "cell_type": "code",
      "metadata": {
        "id": "mPn429lgu955",
        "outputId": "ce0f66e4-3624-4699-a946-f17823a5bc84",
        "colab": {
          "base_uri": "https://localhost:8080/",
          "height": 289
        }
      },
      "source": [
        "automate_plot(X_train, 'FireplaceQu_imputed', 'SalePrice')"
      ],
      "execution_count": 59,
      "outputs": [
        {
          "output_type": "display_data",
          "data": {
            "image/png": "[encoded data removed]",
            "text/plain": [
              "<Figure size 432x288 with 1 Axes>"
            ]
          },
          "metadata": {
            "tags": [],
            "needs_background": "light"
          }
        }
      ]
    },
    {
      "cell_type": "code",
      "metadata": {
        "id": "lhpzK-OvGyz7",
        "outputId": "da915cd2-73b1-4575-e58b-bf8749a5385b",
        "colab": {
          "base_uri": "https://localhost:8080/",
          "height": 85
        }
      },
      "source": [
        "print('Precio de categoría Gd imputada',X_train[X_train['FireplaceQu_imputed']=='Gd']['SalePrice'].mean())\n",
        "print('Precio de categoría TA imputada',X_train[X_train['FireplaceQu_imputed']=='TA']['SalePrice'].mean())\n",
        "print('Precio de categoría Fa imputada',X_train[X_train['FireplaceQu_imputed']=='Fa']['SalePrice'].mean())\n",
        "print('Precio de categoría Ex imputada',X_train[X_train['FireplaceQu_imputed']=='Ex']['SalePrice'].mean())"
      ],
      "execution_count": 64,
      "outputs": [
        {
          "output_type": "stream",
          "text": [
            "Precio de categoría Gd imputada 184848.34375\n",
            "Precio de categoría TA imputada 175949.21162790697\n",
            "Precio de categoría Fa imputada 154622.91666666666\n",
            "Precio de categoría Ex imputada 254820.51515151514\n"
          ],
          "name": "stdout"
        }
      ]
    },
    {
      "cell_type": "markdown",
      "metadata": {
        "id": "GRVHJx1lu958"
      },
      "source": [
        "Para BsmtQual, donde los NA son pocos, la distribución del target es preservada para las categorías en la variable original y la imputada. Sin embargo, para FireplaceQu con 47% de missing values, la distribución del target por cada categoría se afecta un poco.\n",
        "\n",
        "**Concluimos que: El método de imputación aleatoria tiene el beneficio de preservar la distribución de la variable pero si afecta la relación de las variable con las demás y con el target.**\n",
        "\n",
        "**Para el caso de variables númericas el indice de correlación y en las categóricas afecta el la relación de la variable con el target**\n",
        "\n"
      ]
    }
  ]
}