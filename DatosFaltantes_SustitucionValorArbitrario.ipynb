{
  "nbformat": 4,
  "nbformat_minor": 0,
  "metadata": {
    "kernelspec": {
      "display_name": "feml",
      "language": "python",
      "name": "feml"
    },
    "language_info": {
      "codemirror_mode": {
        "name": "ipython",
        "version": 3
      },
      "file_extension": ".py",
      "mimetype": "text/x-python",
      "name": "python",
      "nbconvert_exporter": "python",
      "pygments_lexer": "ipython3",
      "version": "3.8.2"
    },
    "toc": {
      "base_numbering": 1,
      "nav_menu": {},
      "number_sections": true,
      "sideBar": true,
      "skip_h1_title": false,
      "title_cell": "Table of Contents",
      "title_sidebar": "Contents",
      "toc_cell": false,
      "toc_position": {},
      "toc_section_display": "block",
      "toc_window_display": true
    },
    "colab": {
      "name": "DatosFaltantes_SustitucionValorArbitrario.ipynb",
      "provenance": [],
      "include_colab_link": true
    }
  },
  "cells": [
    {
      "cell_type": "markdown",
      "metadata": {
        "id": "view-in-github",
        "colab_type": "text"
      },
      "source": [
        "<a href=\"https://colab.research.google.com/github/virf96/Chat-Bot/blob/master/DatosFaltantes_SustitucionValorArbitrario.ipynb\" target=\"_parent\"><img src=\"https://colab.research.google.com/assets/colab-badge.svg\" alt=\"Open In Colab\"/></a>"
      ]
    },
    {
      "cell_type": "markdown",
      "metadata": {
        "id": "G_Zr9_oOnVUF"
      },
      "source": [
        "## Sustitución por valores arbitrarios o valores constantes\n",
        "\n",
        "Los métodos de imputación consisten en estimar los valores faltantes en base a los valores existentes de la variable. El objetivo de cualquier método de imputación es producir un **conjunto completo** de datos que pueda ser utilizado por un algoritmo de aprendizaje de máquina. \n",
        "\n",
        "\n",
        "Como su nombre lo indica, la sustitución por valores arbitrarios consiste en reemplazar los valores nulos por un valor cualquiera, arbitrario. Típicamente se usan valores como  0, 999, -999 (u otras combinaciones de 9s) o -1 (si la distribución es positiva).\n",
        "\n",
        "### Cuáles variables se pueden sustituir con valores arbitrarios o constantes?\n",
        "\n",
        "Variables categóricas o numéricas pueden ser sustituidas por valores arbitrarios\n",
        "\n",
        "Para variables categóricas, es equivalente a reemplazar los valores nulos por una etiqueta adicional, lo cual es una práctica bastante común, por lo tanto lo veremos en otro notebook.\n",
        "\n",
        "### Condiciones\n",
        "\n",
        "- MNAR - Los datos no faltan de forma aleatoria\n",
        "\n",
        "Si este es el caso, queremos comunicar que estos valores nulos son diferentes y por lo tanto los reemplazamos con un valor arbitrario y no con la media/mediana que representan los valores más comunes.\n",
        "\n",
        "\n",
        "### Ventajas\n",
        "\n",
        "- Fácil de implementar\n",
        "- Forma rápida de obtener conjuntos completos de datos\n",
        "- Puede ser integrado en producción (durante el despliegue del modelo)\n",
        "- Captura la importancia de la 'ausencia' (si existe)\n",
        "\n",
        "### Limitaciones\n",
        "\n",
        "- Distorsión de la distribución original de la variable\n",
        "- Distorsión de la varianza original\n",
        "- Distorsión de la covarianza con las otras variables en los datos.\n",
        "- Si el valor arbitrario es al final de la distribución puede generar valores extremos\n",
        "- El 'valor arbitrario' seleccionado debe ser escogido cuidadosamente para que no sea similar a otros valores comunes en los datos/distribución (media, mediana, moda)\n",
        "\n",
        "\n",
        "\n",
        "### Cuando usar la sustitución por valor arbitrario?\n",
        "\n",
        "Sustituir los valores nulos por un valor arbitrario se debe usar cuando hay razones suficientes para suponer que los datos no faltan al azar. En situaciones como estas, queremos resaltar que los datos faltantes. Por lo tanto no se sustituyen los valores por la media/mediana u otro valor común, sino por el contrario por un valor arbitrario o constante que muestre esa diferencia.\n",
        "\n",
        "### Nota final\n",
        "\n",
        "Cuando las variables son capturadas por terceras partes, como agencias de crédito, dichas organizaciones usan valores arbitrarios para resaltar los valores ausentes.\n",
        " \n",
        "## En este demo:\n",
        "\n",
        "Vamos a aprender como sustituir valores nulos con valores arbitrarios utilizando pandas y el Ames House Price y los datos del Titanic.\n",
        "\n",
        "- Para bajar los datos, por favor referirse a la clase en **Datasets** en la  **Sección 1** del curso."
      ]
    },
    {
      "cell_type": "code",
      "metadata": {
        "id": "zYRr7mjvnVUG"
      },
      "source": [
        "import pandas as pd\n",
        "import numpy as np\n",
        "\n",
        "import matplotlib.pyplot as plt\n",
        "\n",
        "from sklearn.model_selection import train_test_split"
      ],
      "execution_count": 1,
      "outputs": []
    },
    {
      "cell_type": "code",
      "metadata": {
        "id": "cjLdMSmSwIaS",
        "outputId": "133dddbc-4f10-4b3b-db67-bcba31cb3d76",
        "colab": {
          "base_uri": "https://localhost:8080/",
          "height": 34
        }
      },
      "source": [
        "from google.colab import drive\n",
        "drive.mount('/content/drive')"
      ],
      "execution_count": 2,
      "outputs": [
        {
          "output_type": "stream",
          "text": [
            "Mounted at /content/drive\n"
          ],
          "name": "stdout"
        }
      ]
    },
    {
      "cell_type": "code",
      "metadata": {
        "id": "BIJUzxhqnVUJ",
        "outputId": "9682f170-5730-4eea-fbc7-24d477d408f4",
        "colab": {
          "base_uri": "https://localhost:8080/",
          "height": 204
        }
      },
      "source": [
        "# Carguemos el set de datos Titanic con una selección de variables\n",
        "\n",
        "data = pd.read_csv('/content/drive/My Drive/datasets/titanic.csv', usecols=['age', 'fare', 'survived'])\n",
        "data.head()"
      ],
      "execution_count": 3,
      "outputs": [
        {
          "output_type": "execute_result",
          "data": {
            "text/html": [
              "<div>\n",
              "<style scoped>\n",
              "    .dataframe tbody tr th:only-of-type {\n",
              "        vertical-align: middle;\n",
              "    }\n",
              "\n",
              "    .dataframe tbody tr th {\n",
              "        vertical-align: top;\n",
              "    }\n",
              "\n",
              "    .dataframe thead th {\n",
              "        text-align: right;\n",
              "    }\n",
              "</style>\n",
              "<table border=\"1\" class=\"dataframe\">\n",
              "  <thead>\n",
              "    <tr style=\"text-align: right;\">\n",
              "      <th></th>\n",
              "      <th>survived</th>\n",
              "      <th>age</th>\n",
              "      <th>fare</th>\n",
              "    </tr>\n",
              "  </thead>\n",
              "  <tbody>\n",
              "    <tr>\n",
              "      <th>0</th>\n",
              "      <td>1</td>\n",
              "      <td>29.0000</td>\n",
              "      <td>211.3375</td>\n",
              "    </tr>\n",
              "    <tr>\n",
              "      <th>1</th>\n",
              "      <td>1</td>\n",
              "      <td>0.9167</td>\n",
              "      <td>151.5500</td>\n",
              "    </tr>\n",
              "    <tr>\n",
              "      <th>2</th>\n",
              "      <td>0</td>\n",
              "      <td>2.0000</td>\n",
              "      <td>151.5500</td>\n",
              "    </tr>\n",
              "    <tr>\n",
              "      <th>3</th>\n",
              "      <td>0</td>\n",
              "      <td>30.0000</td>\n",
              "      <td>151.5500</td>\n",
              "    </tr>\n",
              "    <tr>\n",
              "      <th>4</th>\n",
              "      <td>0</td>\n",
              "      <td>25.0000</td>\n",
              "      <td>151.5500</td>\n",
              "    </tr>\n",
              "  </tbody>\n",
              "</table>\n",
              "</div>"
            ],
            "text/plain": [
              "   survived      age      fare\n",
              "0         1  29.0000  211.3375\n",
              "1         1   0.9167  151.5500\n",
              "2         0   2.0000  151.5500\n",
              "3         0  30.0000  151.5500\n",
              "4         0  25.0000  151.5500"
            ]
          },
          "metadata": {
            "tags": []
          },
          "execution_count": 3
        }
      ]
    },
    {
      "cell_type": "code",
      "metadata": {
        "id": "vTKeHVVwnVUN",
        "outputId": "83b32208-4245-4281-a5b1-e87bbb51f4dc",
        "colab": {
          "base_uri": "https://localhost:8080/",
          "height": 85
        }
      },
      "source": [
        "# porcentaje de valores nulos \n",
        "#20% de valores nulos en \"age\"\n",
        "\n",
        "data.isnull().mean()"
      ],
      "execution_count": 4,
      "outputs": [
        {
          "output_type": "execute_result",
          "data": {
            "text/plain": [
              "survived    0.000000\n",
              "age         0.200917\n",
              "fare        0.000764\n",
              "dtype: float64"
            ]
          },
          "metadata": {
            "tags": []
          },
          "execution_count": 4
        }
      ]
    },
    {
      "cell_type": "markdown",
      "metadata": {
        "id": "5hh0r8EynVUP"
      },
      "source": [
        "### Para tener en cuenta\n",
        "\n",
        "Los parámetros para la sustitución o imputación se deben aprender sobre el set de datos de entrenamiento, usado para entrenar el modelo. Luego estos mismos parámetros se utilizan para imputar valores nulos en el set de prueba. Y esto es para evitar sobre-ajustes.\n",
        "\n",
        "Cuando se sustituyen valores nulos por valores arbitrarios, esta condición no es tan importante, ya que escogemos el valor arbitrariamente. Sin embargo, es bueno adherirse a esta premisa en la práctica y seleccionar el valor arbitrario analizando la distribución de la variable en el set de entrenamiento.\n"
      ]
    },
    {
      "cell_type": "code",
      "metadata": {
        "id": "sIMaMbuZnVUQ",
        "outputId": "7b80ab86-618c-41b9-8b38-29a05374680e",
        "colab": {
          "base_uri": "https://localhost:8080/",
          "height": 34
        }
      },
      "source": [
        "# Separemos en sets de entrenamiento y prueba\n",
        "\n",
        "X_train, X_test, y_train, y_test = train_test_split(\n",
        "    data[['age', 'fare']],  # variables independientes\n",
        "    data['survived'],  # target\n",
        "    test_size=0.3,  # porcentaje de obs en test set\n",
        "    random_state=0)  # semilla para reproducibilidad\n",
        "\n",
        "X_train.shape, X_test.shape"
      ],
      "execution_count": 5,
      "outputs": [
        {
          "output_type": "execute_result",
          "data": {
            "text/plain": [
              "((916, 2), (393, 2))"
            ]
          },
          "metadata": {
            "tags": []
          },
          "execution_count": 5
        }
      ]
    },
    {
      "cell_type": "code",
      "metadata": {
        "id": "GmCPq1UynVUS",
        "outputId": "2c4f2f38-6b96-4084-dff3-6fd0d73485b0",
        "colab": {
          "base_uri": "https://localhost:8080/",
          "height": 68
        }
      },
      "source": [
        "# exploremos datos nulos en el segmento de entrenamiento\n",
        "# el porcentaje debe ser similar que para todo el \n",
        "# conjunto de datos\n",
        "\n",
        "#El porcentaje de valores nulos ha disminuido debido a que estamos trabajando con el 70% de los datos (train)\n",
        "\n",
        "X_train.isnull().mean()    "
      ],
      "execution_count": 6,
      "outputs": [
        {
          "output_type": "execute_result",
          "data": {
            "text/plain": [
              "age     0.191048\n",
              "fare    0.000000\n",
              "dtype: float64"
            ]
          },
          "metadata": {
            "tags": []
          },
          "execution_count": 6
        }
      ]
    },
    {
      "cell_type": "code",
      "metadata": {
        "id": "ItwnicUEnVUU"
      },
      "source": [
        "# creemos una función para sustituir los valores faltantes\n",
        "# con un valor arbitrario\n",
        "\n",
        "# la función toma como argumentos:\n",
        "# dataframe, variable, y el valor de arbitrario para la sustitución\n",
        "# retorna la variable con los valores sustituidos\n",
        "\n",
        "\n",
        "def impute_na(df, variable, value):\n",
        "\n",
        "    return df[variable].fillna(value)"
      ],
      "execution_count": 7,
      "outputs": []
    },
    {
      "cell_type": "code",
      "metadata": {
        "id": "KmWwtItBnVUW",
        "outputId": "16eb704e-49bc-4cb7-bbf9-359a0e1aba28",
        "colab": {
          "base_uri": "https://localhost:8080/",
          "height": 281
        }
      },
      "source": [
        "# exploremos la distribución de la variable \n",
        "# para seleccionar el valor arbitrario\n",
        "\n",
        "#Notamos que \"AGE\" es una distribución medianamente centrada\n",
        "#Notamos que \"fare\" es una ditribución sesgada a la izquierda\n",
        "\n",
        "X_train.hist(bins=50)\n",
        "plt.show()"
      ],
      "execution_count": 9,
      "outputs": [
        {
          "output_type": "display_data",
          "data": {
            "image/png": "[encoded data removed]",
            "text/plain": [
              "<Figure size 432x288 with 2 Axes>"
            ]
          },
          "metadata": {
            "tags": [],
            "needs_background": "light"
          }
        }
      ]
    },
    {
      "cell_type": "code",
      "metadata": {
        "id": "e90YOOHbnVUZ",
        "outputId": "716fcf7e-ab43-4b33-ddd9-74565312bb1c",
        "colab": {
          "base_uri": "https://localhost:8080/",
          "height": 514
        }
      },
      "source": [
        "# En este demo vamos a usar dos valores arbitrarios para la \n",
        "# sustitución de los valores nulos en la variable 'age', compararemos los 2 resutados\n",
        "# uno al final de la distribución ==> 99\n",
        "# y el otro -1, ya que age no toma valores negativos\n",
        "\n",
        "# primero imputamos con 99\n",
        "X_train['age_99'] = impute_na(X_train, 'age', 99)\n",
        "\n",
        "# luego imputamos con -1\n",
        "X_train['age_minus1'] = impute_na(X_train, 'age', -1)\n",
        "\n",
        "X_train.head(15)"
      ],
      "execution_count": 10,
      "outputs": [
        {
          "output_type": "execute_result",
          "data": {
            "text/html": [
              "<div>\n",
              "<style scoped>\n",
              "    .dataframe tbody tr th:only-of-type {\n",
              "        vertical-align: middle;\n",
              "    }\n",
              "\n",
              "    .dataframe tbody tr th {\n",
              "        vertical-align: top;\n",
              "    }\n",
              "\n",
              "    .dataframe thead th {\n",
              "        text-align: right;\n",
              "    }\n",
              "</style>\n",
              "<table border=\"1\" class=\"dataframe\">\n",
              "  <thead>\n",
              "    <tr style=\"text-align: right;\">\n",
              "      <th></th>\n",
              "      <th>age</th>\n",
              "      <th>fare</th>\n",
              "      <th>age_99</th>\n",
              "      <th>age_minus1</th>\n",
              "    </tr>\n",
              "  </thead>\n",
              "  <tbody>\n",
              "    <tr>\n",
              "      <th>501</th>\n",
              "      <td>13.0</td>\n",
              "      <td>19.5000</td>\n",
              "      <td>13.0</td>\n",
              "      <td>13.0</td>\n",
              "    </tr>\n",
              "    <tr>\n",
              "      <th>588</th>\n",
              "      <td>4.0</td>\n",
              "      <td>23.0000</td>\n",
              "      <td>4.0</td>\n",
              "      <td>4.0</td>\n",
              "    </tr>\n",
              "    <tr>\n",
              "      <th>402</th>\n",
              "      <td>30.0</td>\n",
              "      <td>13.8583</td>\n",
              "      <td>30.0</td>\n",
              "      <td>30.0</td>\n",
              "    </tr>\n",
              "    <tr>\n",
              "      <th>1193</th>\n",
              "      <td>NaN</td>\n",
              "      <td>7.7250</td>\n",
              "      <td>99.0</td>\n",
              "      <td>-1.0</td>\n",
              "    </tr>\n",
              "    <tr>\n",
              "      <th>686</th>\n",
              "      <td>22.0</td>\n",
              "      <td>7.7250</td>\n",
              "      <td>22.0</td>\n",
              "      <td>22.0</td>\n",
              "    </tr>\n",
              "    <tr>\n",
              "      <th>971</th>\n",
              "      <td>NaN</td>\n",
              "      <td>7.8792</td>\n",
              "      <td>99.0</td>\n",
              "      <td>-1.0</td>\n",
              "    </tr>\n",
              "    <tr>\n",
              "      <th>117</th>\n",
              "      <td>30.0</td>\n",
              "      <td>56.9292</td>\n",
              "      <td>30.0</td>\n",
              "      <td>30.0</td>\n",
              "    </tr>\n",
              "    <tr>\n",
              "      <th>540</th>\n",
              "      <td>2.0</td>\n",
              "      <td>26.0000</td>\n",
              "      <td>2.0</td>\n",
              "      <td>2.0</td>\n",
              "    </tr>\n",
              "    <tr>\n",
              "      <th>294</th>\n",
              "      <td>49.0</td>\n",
              "      <td>110.8833</td>\n",
              "      <td>49.0</td>\n",
              "      <td>49.0</td>\n",
              "    </tr>\n",
              "    <tr>\n",
              "      <th>261</th>\n",
              "      <td>35.0</td>\n",
              "      <td>26.2875</td>\n",
              "      <td>35.0</td>\n",
              "      <td>35.0</td>\n",
              "    </tr>\n",
              "    <tr>\n",
              "      <th>587</th>\n",
              "      <td>2.0</td>\n",
              "      <td>23.0000</td>\n",
              "      <td>2.0</td>\n",
              "      <td>2.0</td>\n",
              "    </tr>\n",
              "    <tr>\n",
              "      <th>489</th>\n",
              "      <td>42.0</td>\n",
              "      <td>26.0000</td>\n",
              "      <td>42.0</td>\n",
              "      <td>42.0</td>\n",
              "    </tr>\n",
              "    <tr>\n",
              "      <th>2</th>\n",
              "      <td>2.0</td>\n",
              "      <td>151.5500</td>\n",
              "      <td>2.0</td>\n",
              "      <td>2.0</td>\n",
              "    </tr>\n",
              "    <tr>\n",
              "      <th>405</th>\n",
              "      <td>18.0</td>\n",
              "      <td>13.0000</td>\n",
              "      <td>18.0</td>\n",
              "      <td>18.0</td>\n",
              "    </tr>\n",
              "    <tr>\n",
              "      <th>1284</th>\n",
              "      <td>NaN</td>\n",
              "      <td>8.0500</td>\n",
              "      <td>99.0</td>\n",
              "      <td>-1.0</td>\n",
              "    </tr>\n",
              "  </tbody>\n",
              "</table>\n",
              "</div>"
            ],
            "text/plain": [
              "       age      fare  age_99  age_minus1\n",
              "501   13.0   19.5000    13.0        13.0\n",
              "588    4.0   23.0000     4.0         4.0\n",
              "402   30.0   13.8583    30.0        30.0\n",
              "1193   NaN    7.7250    99.0        -1.0\n",
              "686   22.0    7.7250    22.0        22.0\n",
              "971    NaN    7.8792    99.0        -1.0\n",
              "117   30.0   56.9292    30.0        30.0\n",
              "540    2.0   26.0000     2.0         2.0\n",
              "294   49.0  110.8833    49.0        49.0\n",
              "261   35.0   26.2875    35.0        35.0\n",
              "587    2.0   23.0000     2.0         2.0\n",
              "489   42.0   26.0000    42.0        42.0\n",
              "2      2.0  151.5500     2.0         2.0\n",
              "405   18.0   13.0000    18.0        18.0\n",
              "1284   NaN    8.0500    99.0        -1.0"
            ]
          },
          "metadata": {
            "tags": []
          },
          "execution_count": 10
        }
      ]
    },
    {
      "cell_type": "markdown",
      "metadata": {
        "id": "u9q1o5xJnVUc"
      },
      "source": [
        "Compara las filas con datos ausentes (NaN) en age, y observa como esos valores fueron reemplazados ya sea por 99 o -1."
      ]
    },
    {
      "cell_type": "code",
      "metadata": {
        "id": "GbmOvCEjnVUc",
        "outputId": "5425563f-45da-461b-aaa0-ca7ce00d5a10",
        "colab": {
          "base_uri": "https://localhost:8080/",
          "height": 68
        }
      },
      "source": [
        "# vemos como la varianza cambia luego de la sustitución con culaquiera de los 2 métodos\n",
        "# esto es de esperarse, porque el porcentaje de valores ausentes \n",
        "# es relativamente grande en age, ~20%\n",
        "\n",
        "print('Varianza variable original: ', X_train['age'].var())\n",
        "print('Varianza luego de sustitución por 99: ', X_train['age_99'].var())\n",
        "print('Varianza luego de sustitución por -1: ', X_train['age_minus1'].var())"
      ],
      "execution_count": 11,
      "outputs": [
        {
          "output_type": "stream",
          "text": [
            "Varianza variable original:  194.16304666581854\n",
            "Varianza luego de sustitución por 99:  888.7051993280891\n",
            "Varianza luego de sustitución por -1:  307.9400526938762\n"
          ],
          "name": "stdout"
        }
      ]
    },
    {
      "cell_type": "markdown",
      "metadata": {
        "id": "JIyd25hsnVUe"
      },
      "source": [
        "De hecho, el efecto de la varianza es influenciado por la magnitud del valor arbitrario seleccionado para la sustitución: comparen 99 con -1."
      ]
    },
    {
      "cell_type": "code",
      "metadata": {
        "id": "JScAm9fcnVUf",
        "outputId": "e4737363-5701-424d-98d6-3741a46c8a39",
        "colab": {
          "base_uri": "https://localhost:8080/",
          "height": 284
        }
      },
      "source": [
        "# Comparemos distribuciones\n",
        "\n",
        "#Observamos las siguientes cosas:\n",
        "#La sustitución con 99 concentra los valores al final de la distribución\n",
        "#La sustitución con -1 concentra los valores al inicio de la distribución\n",
        "#Cualquiera de los 2 métodos altera drámaticamente la distribución original\n",
        "\n",
        "fig = plt.figure()\n",
        "ax = fig.add_subplot(111)\n",
        "\n",
        "# distribución original de la variable\n",
        "X_train['age'].plot(kind='kde', ax=ax)\n",
        "\n",
        "# distribución variable sustituida con 99\n",
        "X_train['age_99'].plot(kind='kde', ax=ax, color='red')\n",
        "\n",
        "# distribución variable sustituida con -1\n",
        "X_train['age_minus1'].plot(kind='kde', ax=ax, color='green')\n",
        "\n",
        "# etiquetas\n",
        "lines, labels = ax.get_legend_handles_labels()\n",
        "ax.legend(lines, labels, loc='best')"
      ],
      "execution_count": 12,
      "outputs": [
        {
          "output_type": "execute_result",
          "data": {
            "text/plain": [
              "<matplotlib.legend.Legend at 0x7f310ae9d7f0>"
            ]
          },
          "metadata": {
            "tags": []
          },
          "execution_count": 12
        },
        {
          "output_type": "display_data",
          "data": {
            "image/png": "[encoded data removed]",
            "text/plain": [
              "<Figure size 432x288 with 1 Axes>"
            ]
          },
          "metadata": {
            "tags": [],
            "needs_background": "light"
          }
        }
      ]
    },
    {
      "cell_type": "markdown",
      "metadata": {
        "id": "hhKKdZqInVUh"
      },
      "source": [
        "La sustitución por valores arbitrarios distorsiona la distribución original de la variable y como es de esperarse, la variable transformada tiene más valores alrededor del valor arbitrario seleccionado. \n",
        "\n",
        "**Es esto importante?**\n",
        "\n",
        "Depende del algoritmo de machine learning seleccionado para construir el modelo.\n",
        "Los modelos lineales asumen que las variables están normalmente distribuidas. La sustitución por valores arbitrarios puede distorsionar la distribución normal original si el porcentaje de valores ausentes es alto y por lo tanto afectar el desempeño del modelo lineal.\n",
        "\n",
        "\n",
        "Por el contrario, esta técnica funciona muy bien para los algoritmos basados en árboles.\n"
      ]
    },
    {
      "cell_type": "code",
      "metadata": {
        "id": "KTtvv4jYnVUh",
        "outputId": "02e87826-6a80-4ec3-d612-baed4ff6e591",
        "colab": {
          "base_uri": "https://localhost:8080/",
          "height": 173
        }
      },
      "source": [
        "# esta técnica también puede afectar la relación de la variable imputada\n",
        "# con las otras variables en los datos\n",
        "\n",
        "# examinemos para ello la covarianza\n",
        "\n",
        "X_train[['fare', 'age', 'age_99', 'age_minus1']].cov()"
      ],
      "execution_count": 13,
      "outputs": [
        {
          "output_type": "execute_result",
          "data": {
            "text/html": [
              "<div>\n",
              "<style scoped>\n",
              "    .dataframe tbody tr th:only-of-type {\n",
              "        vertical-align: middle;\n",
              "    }\n",
              "\n",
              "    .dataframe tbody tr th {\n",
              "        vertical-align: top;\n",
              "    }\n",
              "\n",
              "    .dataframe thead th {\n",
              "        text-align: right;\n",
              "    }\n",
              "</style>\n",
              "<table border=\"1\" class=\"dataframe\">\n",
              "  <thead>\n",
              "    <tr style=\"text-align: right;\">\n",
              "      <th></th>\n",
              "      <th>fare</th>\n",
              "      <th>age</th>\n",
              "      <th>age_99</th>\n",
              "      <th>age_minus1</th>\n",
              "    </tr>\n",
              "  </thead>\n",
              "  <tbody>\n",
              "    <tr>\n",
              "      <th>fare</th>\n",
              "      <td>2248.326729</td>\n",
              "      <td>136.176223</td>\n",
              "      <td>-38.722001</td>\n",
              "      <td>177.733891</td>\n",
              "    </tr>\n",
              "    <tr>\n",
              "      <th>age</th>\n",
              "      <td>136.176223</td>\n",
              "      <td>194.163047</td>\n",
              "      <td>194.163047</td>\n",
              "      <td>194.163047</td>\n",
              "    </tr>\n",
              "    <tr>\n",
              "      <th>age_99</th>\n",
              "      <td>-38.722001</td>\n",
              "      <td>194.163047</td>\n",
              "      <td>888.705199</td>\n",
              "      <td>-175.265319</td>\n",
              "    </tr>\n",
              "    <tr>\n",
              "      <th>age_minus1</th>\n",
              "      <td>177.733891</td>\n",
              "      <td>194.163047</td>\n",
              "      <td>-175.265319</td>\n",
              "      <td>307.940053</td>\n",
              "    </tr>\n",
              "  </tbody>\n",
              "</table>\n",
              "</div>"
            ],
            "text/plain": [
              "                   fare         age      age_99  age_minus1\n",
              "fare        2248.326729  136.176223  -38.722001  177.733891\n",
              "age          136.176223  194.163047  194.163047  194.163047\n",
              "age_99       -38.722001  194.163047  888.705199 -175.265319\n",
              "age_minus1   177.733891  194.163047 -175.265319  307.940053"
            ]
          },
          "metadata": {
            "tags": []
          },
          "execution_count": 13
        }
      ]
    },
    {
      "cell_type": "markdown",
      "metadata": {
        "id": "RUgidS-LnVUk"
      },
      "source": [
        "Podemos ver que la covariance entre Age y Fare cambio después de la sustitución."
      ]
    },
    {
      "cell_type": "markdown",
      "metadata": {
        "id": "4gbp_iFAAEDt"
      },
      "source": [
        "Veamos como ha afectado la imputación al coeficiente de correlación"
      ]
    },
    {
      "cell_type": "code",
      "metadata": {
        "id": "9zNcoriV_-j4",
        "outputId": "897d31e0-a434-4253-a646-dd0aa778864b",
        "colab": {
          "base_uri": "https://localhost:8080/",
          "height": 722
        }
      },
      "source": [
        "# redondeando los valores a 2 decimales\n",
        "import seaborn as sns\n",
        "features = X_train.columns\n",
        "correlation_matrix = X_train[features].corr().round(2)\n",
        "\n",
        "# Grafiquemos la matriz de correlación usando seaborn\n",
        "# annot = True para imprimir los coeficientes de correlación\n",
        "\n",
        "\n",
        "#Podemos ver que la relación de las variables creadas con la variable \"fare\" cambio notoriamente\n",
        "figure = plt.figure(figsize=(12, 12))\n",
        "sns.heatmap(data=correlation_matrix, annot=True)"
      ],
      "execution_count": 14,
      "outputs": [
        {
          "output_type": "execute_result",
          "data": {
            "text/plain": [
              "<matplotlib.axes._subplots.AxesSubplot at 0x7f310af79668>"
            ]
          },
          "metadata": {
            "tags": []
          },
          "execution_count": 14
        },
        {
          "output_type": "display_data",
          "data": {
            "image/png": "[encoded data removed]",
            "text/plain": [
              "<Figure size 864x864 with 2 Axes>"
            ]
          },
          "metadata": {
            "tags": [],
            "needs_background": "light"
          }
        }
      ]
    },
    {
      "cell_type": "code",
      "metadata": {
        "id": "OnE0wO88nVUk",
        "outputId": "793657c4-07d6-4e8c-e322-3fde457d222f",
        "colab": {
          "base_uri": "https://localhost:8080/",
          "height": 283
        }
      },
      "source": [
        "# Finalmente, la sustitución arbitraria también puede\n",
        "# generar observaciones que siendo completamente normales parecen\n",
        "# valores extremos\n",
        "\n",
        "# o en otras palabras la sustitución puede alterar\n",
        "# el número percibido de valores extremos\n",
        "\n",
        "\n",
        "# Gráfico de caja\n",
        "X_train[['age', 'age_99', 'age_minus1']].boxplot()"
      ],
      "execution_count": 15,
      "outputs": [
        {
          "output_type": "execute_result",
          "data": {
            "text/plain": [
              "<matplotlib.axes._subplots.AxesSubplot at 0x7f310b635a90>"
            ]
          },
          "metadata": {
            "tags": []
          },
          "execution_count": 15
        },
        {
          "output_type": "display_data",
          "data": {
            "image/png": "[encoded data removed]",
            "text/plain": [
              "<Figure size 432x288 with 1 Axes>"
            ]
          },
          "metadata": {
            "tags": [],
            "needs_background": "light"
          }
        }
      ]
    },
    {
      "cell_type": "markdown",
      "metadata": {
        "id": "prDIhTwvnVUn"
      },
      "source": [
        "De la gráfica anterior, podemos ver después de la sustitución hay más valores extremos hacia los valores altos de Age, pero también para los valores inferiores.\n",
        "\n",
        "\n",
        "## House Prices Dataset\n",
        "\n",
        "Repitamos rápidamente el mismo ejercicio con el House Prices dataset; este tiene variables con pocos o muchos valores nulos, por lo tanto podemos comparar el efecto de la sustitución en ambos escenarios.\n"
      ]
    },
    {
      "cell_type": "code",
      "metadata": {
        "id": "z1MCk-tbnVUo"
      },
      "source": [
        "# Vamos a usar las siguientes variables\n",
        "# 3 de las cuales tienen valores nulos\n",
        "\n",
        "cols_to_use = [\n",
        "    'OverallQual', 'TotalBsmtSF', '1stFlrSF', 'GrLivArea', 'WoodDeckSF',\n",
        "    'BsmtUnfSF', 'LotFrontage', 'MasVnrArea', 'GarageYrBlt', 'SalePrice'\n",
        "]"
      ],
      "execution_count": 16,
      "outputs": []
    },
    {
      "cell_type": "code",
      "metadata": {
        "id": "MnpOTWiUnVUq",
        "outputId": "7e6bc41b-f585-4fd0-fe39-c49ee81c2bf0",
        "colab": {
          "base_uri": "https://localhost:8080/",
          "height": 221
        }
      },
      "source": [
        "# House Prices dataset\n",
        "data = pd.read_csv('/content/drive/My Drive/datasets/houseprice.csv', usecols=cols_to_use)\n",
        "print(data.shape)\n",
        "data.head()"
      ],
      "execution_count": 17,
      "outputs": [
        {
          "output_type": "stream",
          "text": [
            "(1460, 10)\n"
          ],
          "name": "stdout"
        },
        {
          "output_type": "execute_result",
          "data": {
            "text/html": [
              "<div>\n",
              "<style scoped>\n",
              "    .dataframe tbody tr th:only-of-type {\n",
              "        vertical-align: middle;\n",
              "    }\n",
              "\n",
              "    .dataframe tbody tr th {\n",
              "        vertical-align: top;\n",
              "    }\n",
              "\n",
              "    .dataframe thead th {\n",
              "        text-align: right;\n",
              "    }\n",
              "</style>\n",
              "<table border=\"1\" class=\"dataframe\">\n",
              "  <thead>\n",
              "    <tr style=\"text-align: right;\">\n",
              "      <th></th>\n",
              "      <th>LotFrontage</th>\n",
              "      <th>OverallQual</th>\n",
              "      <th>MasVnrArea</th>\n",
              "      <th>BsmtUnfSF</th>\n",
              "      <th>TotalBsmtSF</th>\n",
              "      <th>1stFlrSF</th>\n",
              "      <th>GrLivArea</th>\n",
              "      <th>GarageYrBlt</th>\n",
              "      <th>WoodDeckSF</th>\n",
              "      <th>SalePrice</th>\n",
              "    </tr>\n",
              "  </thead>\n",
              "  <tbody>\n",
              "    <tr>\n",
              "      <th>0</th>\n",
              "      <td>65.0</td>\n",
              "      <td>7</td>\n",
              "      <td>196.0</td>\n",
              "      <td>150</td>\n",
              "      <td>856</td>\n",
              "      <td>856</td>\n",
              "      <td>1710</td>\n",
              "      <td>2003.0</td>\n",
              "      <td>0</td>\n",
              "      <td>208500</td>\n",
              "    </tr>\n",
              "    <tr>\n",
              "      <th>1</th>\n",
              "      <td>80.0</td>\n",
              "      <td>6</td>\n",
              "      <td>0.0</td>\n",
              "      <td>284</td>\n",
              "      <td>1262</td>\n",
              "      <td>1262</td>\n",
              "      <td>1262</td>\n",
              "      <td>1976.0</td>\n",
              "      <td>298</td>\n",
              "      <td>181500</td>\n",
              "    </tr>\n",
              "    <tr>\n",
              "      <th>2</th>\n",
              "      <td>68.0</td>\n",
              "      <td>7</td>\n",
              "      <td>162.0</td>\n",
              "      <td>434</td>\n",
              "      <td>920</td>\n",
              "      <td>920</td>\n",
              "      <td>1786</td>\n",
              "      <td>2001.0</td>\n",
              "      <td>0</td>\n",
              "      <td>223500</td>\n",
              "    </tr>\n",
              "    <tr>\n",
              "      <th>3</th>\n",
              "      <td>60.0</td>\n",
              "      <td>7</td>\n",
              "      <td>0.0</td>\n",
              "      <td>540</td>\n",
              "      <td>756</td>\n",
              "      <td>961</td>\n",
              "      <td>1717</td>\n",
              "      <td>1998.0</td>\n",
              "      <td>0</td>\n",
              "      <td>140000</td>\n",
              "    </tr>\n",
              "    <tr>\n",
              "      <th>4</th>\n",
              "      <td>84.0</td>\n",
              "      <td>8</td>\n",
              "      <td>350.0</td>\n",
              "      <td>490</td>\n",
              "      <td>1145</td>\n",
              "      <td>1145</td>\n",
              "      <td>2198</td>\n",
              "      <td>2000.0</td>\n",
              "      <td>192</td>\n",
              "      <td>250000</td>\n",
              "    </tr>\n",
              "  </tbody>\n",
              "</table>\n",
              "</div>"
            ],
            "text/plain": [
              "   LotFrontage  OverallQual  MasVnrArea  ...  GarageYrBlt  WoodDeckSF  SalePrice\n",
              "0         65.0            7       196.0  ...       2003.0           0     208500\n",
              "1         80.0            6         0.0  ...       1976.0         298     181500\n",
              "2         68.0            7       162.0  ...       2001.0           0     223500\n",
              "3         60.0            7         0.0  ...       1998.0           0     140000\n",
              "4         84.0            8       350.0  ...       2000.0         192     250000\n",
              "\n",
              "[5 rows x 10 columns]"
            ]
          },
          "metadata": {
            "tags": []
          },
          "execution_count": 17
        }
      ]
    },
    {
      "cell_type": "code",
      "metadata": {
        "id": "VCI6Ai9onVUs",
        "outputId": "864ab8b4-b982-47d4-f4bc-360d108b7e06",
        "colab": {
          "base_uri": "https://localhost:8080/",
          "height": 34
        }
      },
      "source": [
        "# variables con valores nulos\n",
        "\n",
        "# en la siguiente list comprehension, iteraremos sobre las columnas\n",
        "# y seleccionaremos las que contienen valores nulos\n",
        "\n",
        "[var for var in data.columns if data[var].isnull().sum() > 0]"
      ],
      "execution_count": 18,
      "outputs": [
        {
          "output_type": "execute_result",
          "data": {
            "text/plain": [
              "['LotFrontage', 'MasVnrArea', 'GarageYrBlt']"
            ]
          },
          "metadata": {
            "tags": []
          },
          "execution_count": 18
        }
      ]
    },
    {
      "cell_type": "code",
      "metadata": {
        "id": "IGmcW3SwnVUu",
        "outputId": "bb8beb33-b3e7-4182-f4a9-1166fa1d0614",
        "colab": {
          "base_uri": "https://localhost:8080/",
          "height": 85
        }
      },
      "source": [
        "# porcentaje de valores nulos\n",
        "#17% de valores nulos en \"LotFrontage\"\n",
        "#.005 de valores nulos en \"MasVnrArea\"\n",
        "# 5% de valores nulos en \"GarageYrBlt\"\n",
        "data[['LotFrontage', 'MasVnrArea', 'GarageYrBlt']].isnull().mean()"
      ],
      "execution_count": 20,
      "outputs": [
        {
          "output_type": "execute_result",
          "data": {
            "text/plain": [
              "LotFrontage    0.177397\n",
              "MasVnrArea     0.005479\n",
              "GarageYrBlt    0.055479\n",
              "dtype: float64"
            ]
          },
          "metadata": {
            "tags": []
          },
          "execution_count": 20
        }
      ]
    },
    {
      "cell_type": "markdown",
      "metadata": {
        "id": "dPQmvJw_nVUw"
      },
      "source": [
        "Primero, separemos los datos en entrenamiento y prueba\n",
        "\n"
      ]
    },
    {
      "cell_type": "code",
      "metadata": {
        "id": "g6aOBH1knVUw",
        "outputId": "1c206e53-c863-4c59-f821-2a2b6e44f451",
        "colab": {
          "base_uri": "https://localhost:8080/",
          "height": 34
        }
      },
      "source": [
        "# separemos los datos en entrenamiento y prueba\n",
        "\n",
        "X_train, X_test, y_train, y_test = train_test_split(data,\n",
        "                                                    data['SalePrice'],\n",
        "                                                    test_size=0.3,\n",
        "                                                    random_state=0)\n",
        "X_train.shape, X_test.shape"
      ],
      "execution_count": 21,
      "outputs": [
        {
          "output_type": "execute_result",
          "data": {
            "text/plain": [
              "((1022, 10), (438, 10))"
            ]
          },
          "metadata": {
            "tags": []
          },
          "execution_count": 21
        }
      ]
    },
    {
      "cell_type": "code",
      "metadata": {
        "id": "T_4V2n-znVUz",
        "outputId": "82939d9e-5bd3-4e7d-eab8-0bbe39b5080b"
      },
      "source": [
        "# distribuciones de las variables\n",
        "#Podemos notar que:\n",
        "#'LotFrontage' esta sesgada a la izquierda\n",
        "#'MasVnrArea' esta sesgada a la derecha\n",
        "#'GarageYrBlt' esta sesgada a la derecha\n",
        "X_train.hist(bins=50, figsize=(10,10))\n",
        "plt.show()"
      ],
      "execution_count": null,
      "outputs": [
        {
          "output_type": "display_data",
          "data": {
            "image/png": "[encoded data removed]",
            "text/plain": [
              "<Figure size 720x720 with 12 Axes>"
            ]
          },
          "metadata": {
            "tags": [],
            "needs_background": "light"
          }
        }
      ]
    },
    {
      "cell_type": "code",
      "metadata": {
        "id": "bmxkh3sCnVU2",
        "outputId": "c5e334e5-2d38-46ed-c3c3-720798d66aae",
        "colab": {
          "base_uri": "https://localhost:8080/",
          "height": 241
        }
      },
      "source": [
        "# empecemos con la variable LotFrontage\n",
        "\n",
        "# vamos a crear una nueva variable sustituyendo los valores nulos\n",
        "# con el valor 999 \n",
        "\n",
        "# en este caso 999 es seleccionado para posicionar los valores\n",
        "# al extremo derecho de la distribución \n",
        "# ya que podemos ver del histograma anterior que LotFrontAge \n",
        "# toma valores de hasta 300\n",
        "\n",
        "\n",
        "X_train.loc[:,'LotFrontage_imputed'] = impute_na(X_train, 'LotFrontage', 999)\n",
        "X_test.loc[:,'LotFrontage_imputed'] = impute_na(X_test, 'LotFrontage', 999)"
      ],
      "execution_count": 22,
      "outputs": [
        {
          "output_type": "stream",
          "text": [
            "/usr/local/lib/python3.6/dist-packages/pandas/core/indexing.py:1596: SettingWithCopyWarning: \n",
            "A value is trying to be set on a copy of a slice from a DataFrame.\n",
            "Try using .loc[row_indexer,col_indexer] = value instead\n",
            "\n",
            "See the caveats in the documentation: https://pandas.pydata.org/pandas-docs/stable/user_guide/indexing.html#returning-a-view-versus-a-copy\n",
            "  self.obj[key] = _infer_fill_value(value)\n",
            "/usr/local/lib/python3.6/dist-packages/pandas/core/indexing.py:1745: SettingWithCopyWarning: \n",
            "A value is trying to be set on a copy of a slice from a DataFrame.\n",
            "Try using .loc[row_indexer,col_indexer] = value instead\n",
            "\n",
            "See the caveats in the documentation: https://pandas.pydata.org/pandas-docs/stable/user_guide/indexing.html#returning-a-view-versus-a-copy\n",
            "  isetter(ilocs[0], value)\n"
          ],
          "name": "stderr"
        }
      ]
    },
    {
      "cell_type": "code",
      "metadata": {
        "id": "aIaSwQOEnVU4",
        "outputId": "e87724d0-f58a-4244-dced-f310c838de2d",
        "colab": {
          "base_uri": "https://localhost:8080/",
          "height": 241
        }
      },
      "source": [
        "# MasVnrArea tiene valores de hasta 1500, por lo tanto, 999 no\n",
        "# funcionaría como valor para sustituir con esta variable.\n",
        "# usaremos 2999\n",
        "\n",
        "X_train.loc[:,'MasVnrArea_imputed'] = impute_na(X_train, 'MasVnrArea', 2999)\n",
        "X_test.loc[:,'MasVnrArea_imputed'] = impute_na(X_test, 'MasVnrArea', 2999)"
      ],
      "execution_count": 23,
      "outputs": [
        {
          "output_type": "stream",
          "text": [
            "/usr/local/lib/python3.6/dist-packages/pandas/core/indexing.py:1596: SettingWithCopyWarning: \n",
            "A value is trying to be set on a copy of a slice from a DataFrame.\n",
            "Try using .loc[row_indexer,col_indexer] = value instead\n",
            "\n",
            "See the caveats in the documentation: https://pandas.pydata.org/pandas-docs/stable/user_guide/indexing.html#returning-a-view-versus-a-copy\n",
            "  self.obj[key] = _infer_fill_value(value)\n",
            "/usr/local/lib/python3.6/dist-packages/pandas/core/indexing.py:1745: SettingWithCopyWarning: \n",
            "A value is trying to be set on a copy of a slice from a DataFrame.\n",
            "Try using .loc[row_indexer,col_indexer] = value instead\n",
            "\n",
            "See the caveats in the documentation: https://pandas.pydata.org/pandas-docs/stable/user_guide/indexing.html#returning-a-view-versus-a-copy\n",
            "  isetter(ilocs[0], value)\n"
          ],
          "name": "stderr"
        }
      ]
    },
    {
      "cell_type": "code",
      "metadata": {
        "id": "1PRxEcAJnVU6",
        "outputId": "68136b88-97af-4486-b4ef-bfb34a7a46d9",
        "colab": {
          "base_uri": "https://localhost:8080/",
          "height": 282
        }
      },
      "source": [
        "# evaluemos el efecto de la sustitución en las distribuciones\n",
        "\n",
        "# Vemos como en la variable imputada hay una acumulación de valores\n",
        "# hacia el extremo derecho de LotFrontAge\n",
        "\n",
        "fig = plt.figure()\n",
        "ax = fig.add_subplot(111)\n",
        "\n",
        "# distribución original\n",
        "X_train['LotFrontage'].plot(kind='kde', ax=ax)\n",
        "\n",
        "# variable sustituida \n",
        "X_train['LotFrontage_imputed'].plot(kind='kde', ax=ax, color='red')\n",
        "\n",
        "# etiquetas\n",
        "lines, labels = ax.get_legend_handles_labels()\n",
        "ax.legend(lines, labels, loc='best')"
      ],
      "execution_count": 24,
      "outputs": [
        {
          "output_type": "execute_result",
          "data": {
            "text/plain": [
              "<matplotlib.legend.Legend at 0x7f3107f1bb38>"
            ]
          },
          "metadata": {
            "tags": []
          },
          "execution_count": 24
        },
        {
          "output_type": "display_data",
          "data": {
            "image/png": "[encoded data removed]",
            "text/plain": [
              "<Figure size 432x288 with 1 Axes>"
            ]
          },
          "metadata": {
            "tags": [],
            "needs_background": "light"
          }
        }
      ]
    },
    {
      "cell_type": "code",
      "metadata": {
        "id": "jcbnFzFgnVU8",
        "outputId": "69f9512a-4e5f-4088-c399-f54fe7143c2c",
        "colab": {
          "base_uri": "https://localhost:8080/",
          "height": 282
        }
      },
      "source": [
        "# Como el porcentaje de valores nulos para MasVnrArea, \n",
        "# era menor, el cambio en la distribución es menor\n",
        "\n",
        "fig = plt.figure()\n",
        "ax = fig.add_subplot(111)\n",
        "\n",
        "\n",
        "# distribución original\n",
        "X_train['MasVnrArea'].plot(kind='kde', ax=ax)\n",
        "\n",
        "# variable sustituida con 2999\n",
        "X_train['MasVnrArea_imputed'].plot(kind='kde', ax=ax, color='red')\n",
        "\n",
        "# etiquetas\n",
        "lines, labels = ax.get_legend_handles_labels()\n",
        "ax.legend(lines, labels, loc='best')"
      ],
      "execution_count": 25,
      "outputs": [
        {
          "output_type": "execute_result",
          "data": {
            "text/plain": [
              "<matplotlib.legend.Legend at 0x7f3107e93240>"
            ]
          },
          "metadata": {
            "tags": []
          },
          "execution_count": 25
        },
        {
          "output_type": "display_data",
          "data": {
            "image/png": "[encoded data removed]",
            "text/plain": [
              "<Figure size 432x288 with 1 Axes>"
            ]
          },
          "metadata": {
            "tags": [],
            "needs_background": "light"
          }
        }
      ]
    },
    {
      "cell_type": "markdown",
      "metadata": {
        "id": "NERKHssynVU-"
      },
      "source": [
        "Podemos observar de las gráficas anteriores que la distribución de LotFrontAge cambió dramáticamente, a diferencia de MasVnrArea. Esto se debe a que el % de valores nulos en la segunda variable es pequeño. Sin embargo, dependiendo del valor arbitrario seleccionado, la distribución se puede afectar más o menos.\n",
        "\n",
        "\n",
        "Finalmente, podemos ver en el demo, que el proceso de seleccionar valores arbitrarios es bastante manual. Primero, tenemos que observar la distribución de cada variable, identificar los valores mínimos o máximos y finalmente seleccionar un valor que se acomode a cada variable para sustituir los valores nulos.  Una alternativa para automatizar este proceso, es seleccionar los valores arbitrarios siempre al extremo de la distribución, como veremos en el siguiente notebook"
      ]
    },
    {
      "cell_type": "code",
      "metadata": {
        "id": "do0FadlMnVU-",
        "outputId": "0d4c610f-864a-459e-dd26-5bbb9c85b3c3",
        "colab": {
          "base_uri": "https://localhost:8080/",
          "height": 51
        }
      },
      "source": [
        "# veamos ahora el efecto de la sustitución\n",
        "# en la varianza\n",
        "\n",
        "# Para LotFrontAge hay un cambio significativo ya que el porcentaje\n",
        "# de valores nulos es alto, ~20%\n",
        "\n",
        "print('Original Variance: ', X_train['LotFrontage'].var())\n",
        "print('Variance after imputation: ', X_train['LotFrontage_imputed'].var())"
      ],
      "execution_count": 27,
      "outputs": [
        {
          "output_type": "stream",
          "text": [
            "Original Variance:  532.5872021885676\n",
            "Variance after imputation:  130742.07296576179\n"
          ],
          "name": "stdout"
        }
      ]
    },
    {
      "cell_type": "code",
      "metadata": {
        "id": "R61ceBhYnVVA",
        "outputId": "a127f362-629e-4a2b-a27b-14ee3f9339b2",
        "colab": {
          "base_uri": "https://localhost:8080/",
          "height": 51
        }
      },
      "source": [
        "# Lo mismo sucede para MasnVnrArea, a pesar que el % de valores nulos es bajo,\n",
        "# el valor arbitrario seleccionado es mucho más alto, lo cual influye\n",
        "# en la varianza \n",
        "\n",
        "print('Varianza original: ', X_train['MasVnrArea'].var())\n",
        "print('Varianza despues de sustitución: ', X_train['MasVnrArea_imputed'].var())"
      ],
      "execution_count": 28,
      "outputs": [
        {
          "output_type": "stream",
          "text": [
            "Varianza original:  32983.538710039466\n",
            "Varianza despues de sustitución:  73677.02879932376\n"
          ],
          "name": "stdout"
        }
      ]
    },
    {
      "cell_type": "code",
      "metadata": {
        "id": "w3i-iMNDnVVH",
        "outputId": "e32b7ceb-730a-4cc8-a58b-e55e331a973f",
        "colab": {
          "base_uri": "https://localhost:8080/",
          "height": 441
        }
      },
      "source": [
        "# Exploremos la covarianza:\n",
        "# tómate el tiempo de comparar los valores en la tabla\n",
        "\n",
        "X_train.cov()"
      ],
      "execution_count": 29,
      "outputs": [
        {
          "output_type": "execute_result",
          "data": {
            "text/html": [
              "<div>\n",
              "<style scoped>\n",
              "    .dataframe tbody tr th:only-of-type {\n",
              "        vertical-align: middle;\n",
              "    }\n",
              "\n",
              "    .dataframe tbody tr th {\n",
              "        vertical-align: top;\n",
              "    }\n",
              "\n",
              "    .dataframe thead th {\n",
              "        text-align: right;\n",
              "    }\n",
              "</style>\n",
              "<table border=\"1\" class=\"dataframe\">\n",
              "  <thead>\n",
              "    <tr style=\"text-align: right;\">\n",
              "      <th></th>\n",
              "      <th>LotFrontage</th>\n",
              "      <th>OverallQual</th>\n",
              "      <th>MasVnrArea</th>\n",
              "      <th>BsmtUnfSF</th>\n",
              "      <th>TotalBsmtSF</th>\n",
              "      <th>1stFlrSF</th>\n",
              "      <th>GrLivArea</th>\n",
              "      <th>GarageYrBlt</th>\n",
              "      <th>WoodDeckSF</th>\n",
              "      <th>SalePrice</th>\n",
              "      <th>LotFrontage_imputed</th>\n",
              "      <th>MasVnrArea_imputed</th>\n",
              "    </tr>\n",
              "  </thead>\n",
              "  <tbody>\n",
              "    <tr>\n",
              "      <th>LotFrontage</th>\n",
              "      <td>532.587202</td>\n",
              "      <td>6.587119</td>\n",
              "      <td>6.805603e+02</td>\n",
              "      <td>9.496573e+02</td>\n",
              "      <td>2.908856e+03</td>\n",
              "      <td>3.379794e+03</td>\n",
              "      <td>3.919952e+03</td>\n",
              "      <td>30.611717</td>\n",
              "      <td>1.347414e+02</td>\n",
              "      <td>6.689645e+05</td>\n",
              "      <td>532.587202</td>\n",
              "      <td>7.585010e+02</td>\n",
              "    </tr>\n",
              "    <tr>\n",
              "      <th>OverallQual</th>\n",
              "      <td>6.587119</td>\n",
              "      <td>1.843859</td>\n",
              "      <td>1.014970e+02</td>\n",
              "      <td>1.746147e+02</td>\n",
              "      <td>2.886241e+02</td>\n",
              "      <td>2.242973e+02</td>\n",
              "      <td>4.091242e+02</td>\n",
              "      <td>17.902809</td>\n",
              "      <td>3.168557e+01</td>\n",
              "      <td>8.320132e+04</td>\n",
              "      <td>-18.279174</td>\n",
              "      <td>1.140556e+02</td>\n",
              "    </tr>\n",
              "    <tr>\n",
              "      <th>MasVnrArea</th>\n",
              "      <td>680.560330</td>\n",
              "      <td>101.496976</td>\n",
              "      <td>3.298354e+04</td>\n",
              "      <td>7.540788e+03</td>\n",
              "      <td>2.478877e+04</td>\n",
              "      <td>2.086595e+04</td>\n",
              "      <td>3.520785e+04</td>\n",
              "      <td>1203.583792</td>\n",
              "      <td>3.208924e+03</td>\n",
              "      <td>6.836439e+06</td>\n",
              "      <td>1582.711167</td>\n",
              "      <td>3.298354e+04</td>\n",
              "    </tr>\n",
              "    <tr>\n",
              "      <th>BsmtUnfSF</th>\n",
              "      <td>949.657293</td>\n",
              "      <td>174.614725</td>\n",
              "      <td>7.540788e+03</td>\n",
              "      <td>1.875241e+05</td>\n",
              "      <td>7.513307e+04</td>\n",
              "      <td>4.987449e+04</td>\n",
              "      <td>5.203392e+04</td>\n",
              "      <td>1823.065167</td>\n",
              "      <td>-1.833201e+03</td>\n",
              "      <td>6.833028e+06</td>\n",
              "      <td>-19005.620715</td>\n",
              "      <td>8.391605e+03</td>\n",
              "    </tr>\n",
              "    <tr>\n",
              "      <th>TotalBsmtSF</th>\n",
              "      <td>2908.855504</td>\n",
              "      <td>288.624075</td>\n",
              "      <td>2.478877e+04</td>\n",
              "      <td>7.513307e+04</td>\n",
              "      <td>1.682931e+05</td>\n",
              "      <td>1.212079e+05</td>\n",
              "      <td>8.615192e+04</td>\n",
              "      <td>3173.042442</td>\n",
              "      <td>1.227966e+04</td>\n",
              "      <td>2.003928e+07</td>\n",
              "      <td>1620.452017</td>\n",
              "      <td>2.503117e+04</td>\n",
              "    </tr>\n",
              "    <tr>\n",
              "      <th>1stFlrSF</th>\n",
              "      <td>3379.793504</td>\n",
              "      <td>224.297266</td>\n",
              "      <td>2.086595e+04</td>\n",
              "      <td>4.987449e+04</td>\n",
              "      <td>1.212079e+05</td>\n",
              "      <td>1.398656e+05</td>\n",
              "      <td>1.044401e+05</td>\n",
              "      <td>2009.195552</td>\n",
              "      <td>1.109406e+04</td>\n",
              "      <td>1.783631e+07</td>\n",
              "      <td>7485.021442</td>\n",
              "      <td>1.971276e+04</td>\n",
              "    </tr>\n",
              "    <tr>\n",
              "      <th>GrLivArea</th>\n",
              "      <td>3919.951834</td>\n",
              "      <td>409.124216</td>\n",
              "      <td>3.520785e+04</td>\n",
              "      <td>5.203392e+04</td>\n",
              "      <td>8.615192e+04</td>\n",
              "      <td>1.044401e+05</td>\n",
              "      <td>2.681277e+05</td>\n",
              "      <td>2738.982988</td>\n",
              "      <td>1.558395e+04</td>\n",
              "      <td>2.934477e+07</td>\n",
              "      <td>9634.034363</td>\n",
              "      <td>3.694487e+04</td>\n",
              "    </tr>\n",
              "    <tr>\n",
              "      <th>GarageYrBlt</th>\n",
              "      <td>30.611717</td>\n",
              "      <td>17.902809</td>\n",
              "      <td>1.203584e+03</td>\n",
              "      <td>1.823065e+03</td>\n",
              "      <td>3.173042e+03</td>\n",
              "      <td>2.009196e+03</td>\n",
              "      <td>2.738983e+03</td>\n",
              "      <td>624.305948</td>\n",
              "      <td>6.658911e+02</td>\n",
              "      <td>9.309355e+05</td>\n",
              "      <td>45.643154</td>\n",
              "      <td>1.588757e+03</td>\n",
              "    </tr>\n",
              "    <tr>\n",
              "      <th>WoodDeckSF</th>\n",
              "      <td>134.741376</td>\n",
              "      <td>31.685571</td>\n",
              "      <td>3.208924e+03</td>\n",
              "      <td>-1.833201e+03</td>\n",
              "      <td>1.227966e+04</td>\n",
              "      <td>1.109406e+04</td>\n",
              "      <td>1.558395e+04</td>\n",
              "      <td>665.891118</td>\n",
              "      <td>1.648582e+04</td>\n",
              "      <td>3.029981e+06</td>\n",
              "      <td>5377.154974</td>\n",
              "      <td>2.664993e+03</td>\n",
              "    </tr>\n",
              "    <tr>\n",
              "      <th>SalePrice</th>\n",
              "      <td>668964.454191</td>\n",
              "      <td>83201.317781</td>\n",
              "      <td>6.836439e+06</td>\n",
              "      <td>6.833028e+06</td>\n",
              "      <td>2.003928e+07</td>\n",
              "      <td>1.783631e+07</td>\n",
              "      <td>2.934477e+07</td>\n",
              "      <td>930935.489321</td>\n",
              "      <td>3.029981e+06</td>\n",
              "      <td>6.105731e+09</td>\n",
              "      <td>950743.964420</td>\n",
              "      <td>7.152962e+06</td>\n",
              "    </tr>\n",
              "    <tr>\n",
              "      <th>LotFrontage_imputed</th>\n",
              "      <td>532.587202</td>\n",
              "      <td>-18.279174</td>\n",
              "      <td>1.582711e+03</td>\n",
              "      <td>-1.900562e+04</td>\n",
              "      <td>1.620452e+03</td>\n",
              "      <td>7.485021e+03</td>\n",
              "      <td>9.634034e+03</td>\n",
              "      <td>45.643154</td>\n",
              "      <td>5.377155e+03</td>\n",
              "      <td>9.507440e+05</td>\n",
              "      <td>130742.072966</td>\n",
              "      <td>1.839672e+03</td>\n",
              "    </tr>\n",
              "    <tr>\n",
              "      <th>MasVnrArea_imputed</th>\n",
              "      <td>758.500985</td>\n",
              "      <td>114.055579</td>\n",
              "      <td>3.298354e+04</td>\n",
              "      <td>8.391605e+03</td>\n",
              "      <td>2.503117e+04</td>\n",
              "      <td>1.971276e+04</td>\n",
              "      <td>3.694487e+04</td>\n",
              "      <td>1588.757215</td>\n",
              "      <td>2.664993e+03</td>\n",
              "      <td>7.152962e+06</td>\n",
              "      <td>1839.672367</td>\n",
              "      <td>7.367703e+04</td>\n",
              "    </tr>\n",
              "  </tbody>\n",
              "</table>\n",
              "</div>"
            ],
            "text/plain": [
              "                       LotFrontage  ...  MasVnrArea_imputed\n",
              "LotFrontage             532.587202  ...        7.585010e+02\n",
              "OverallQual               6.587119  ...        1.140556e+02\n",
              "MasVnrArea              680.560330  ...        3.298354e+04\n",
              "BsmtUnfSF               949.657293  ...        8.391605e+03\n",
              "TotalBsmtSF            2908.855504  ...        2.503117e+04\n",
              "1stFlrSF               3379.793504  ...        1.971276e+04\n",
              "GrLivArea              3919.951834  ...        3.694487e+04\n",
              "GarageYrBlt              30.611717  ...        1.588757e+03\n",
              "WoodDeckSF              134.741376  ...        2.664993e+03\n",
              "SalePrice            668964.454191  ...        7.152962e+06\n",
              "LotFrontage_imputed     532.587202  ...        1.839672e+03\n",
              "MasVnrArea_imputed      758.500985  ...        7.367703e+04\n",
              "\n",
              "[12 rows x 12 columns]"
            ]
          },
          "metadata": {
            "tags": []
          },
          "execution_count": 29
        }
      ]
    },
    {
      "cell_type": "code",
      "metadata": {
        "id": "BwtE5LYjE6D5",
        "outputId": "ffb9945c-354e-4965-d263-988c54ba8451",
        "colab": {
          "base_uri": "https://localhost:8080/",
          "height": 818
        }
      },
      "source": [
        "# redondeando los valores a 2 decimales\n",
        "import seaborn as sns\n",
        "features = X_train.columns\n",
        "correlation_matrix = X_train[features].corr().round(2)\n",
        "\n",
        "# Grafiquemos la matriz de correlación usando seaborn\n",
        "# annot = True para imprimir los coeficientes de correlación\n",
        "\n",
        "\n",
        "#Podemos ver que la relación de las variables si cambia al imputar valores arbitrarios.\n",
        "figure = plt.figure(figsize=(12, 12))\n",
        "sns.heatmap(data=correlation_matrix, annot=True)"
      ],
      "execution_count": 30,
      "outputs": [
        {
          "output_type": "execute_result",
          "data": {
            "text/plain": [
              "<matplotlib.axes._subplots.AxesSubplot at 0x7f310ae609b0>"
            ]
          },
          "metadata": {
            "tags": []
          },
          "execution_count": 30
        },
        {
          "output_type": "display_data",
          "data": {
            "image/png": "[encoded data removed]",
            "text/plain": [
              "<Figure size 864x864 with 2 Axes>"
            ]
          },
          "metadata": {
            "tags": [],
            "needs_background": "light"
          }
        }
      ]
    },
    {
      "cell_type": "code",
      "metadata": {
        "id": "Zxyxz9_5E9Uw"
      },
      "source": [
        ""
      ],
      "execution_count": null,
      "outputs": []
    }
  ]
}