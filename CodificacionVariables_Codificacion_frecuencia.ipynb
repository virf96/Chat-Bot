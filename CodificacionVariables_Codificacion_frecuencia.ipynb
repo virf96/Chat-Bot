{
  "nbformat": 4,
  "nbformat_minor": 0,
  "metadata": {
    "kernelspec": {
      "display_name": "feml",
      "language": "python",
      "name": "feml"
    },
    "language_info": {
      "codemirror_mode": {
        "name": "ipython",
        "version": 3
      },
      "file_extension": ".py",
      "mimetype": "text/x-python",
      "name": "python",
      "nbconvert_exporter": "python",
      "pygments_lexer": "ipython3",
      "version": "3.7.3"
    },
    "toc": {
      "nav_menu": {},
      "number_sections": true,
      "sideBar": true,
      "skip_h1_title": false,
      "toc_cell": false,
      "toc_position": {},
      "toc_section_display": "block",
      "toc_window_display": true
    },
    "colab": {
      "name": "CodificacionVariables_Codificacion-frecuencia.ipynb",
      "provenance": [],
      "toc_visible": true,
      "include_colab_link": true
    }
  },
  "cells": [
    {
      "cell_type": "markdown",
      "metadata": {
        "id": "view-in-github",
        "colab_type": "text"
      },
      "source": [
        "<a href=\"https://colab.research.google.com/github/virf96/Chat-Bot/blob/master/CodificacionVariables_Codificacion_frecuencia.ipynb\" target=\"_parent\"><img src=\"https://colab.research.google.com/assets/colab-badge.svg\" alt=\"Open In Colab\"/></a>"
      ]
    },
    {
      "cell_type": "markdown",
      "metadata": {
        "id": "3LcSrnR6DGdE"
      },
      "source": [
        "## Codificación por número de observaciones o frecuencia \n",
        "\n",
        "\n",
        "En la primera codificación reemplazamos las categorías por el número de observaciones por categoría en los datos. Similarmente, podemos reemplazar la categoría por la frecuencia -o porcentaje- de observaciones en los datos. Eso es, si 10 de nuestras 100 observaciones muestran el color azul, entonces reemplazamos el color azul por 10 o por 0.1 si reemplazamos por la frecuencia. Estas técnicas capturan la representación de cada etiqueta en los datos, pero la codificación puede que no necesariamente tenga poder predictivo en el target. Sin embargo, estos métodos son bastante populares en las competiciones de Kaggle.\n",
        "\n",
        "El supuesto de esta técnica es que el número de observaciones presentes en cada una de las categorías de una variable es de alguna forma representativo del poder predictivo de dicha etiqueta.\n",
        "\n",
        "### Ventajas\n",
        "\n",
        "- Simple\n",
        "- No extiende el espacio de los datos (número de variables)\n",
        "\n",
        "### Desventajas\n",
        "\n",
        "- Si dos categorías aparecen el mismo número de veces u observaciones en los datos, serán reemplazadas por el mismo númer; la consecuencia es que puede que perdamos información importante.\n",
        "\n",
        "Por ejemplo, si hay 10 observaciones para la categoría azul y 10 observaciones para la categoría roja, ambas serán reemplazadas por 10, y por lo tanto, luego de codificarlas, parecerán ser la misma cosa\n",
        "\n",
        "\n",
        "Sigue esta conversación en [en Kaggle](https://www.kaggle.com/general/16927) para más información.\n",
        "\n",
        "\n",
        "\n",
        "## En este demo:\n",
        "\n",
        "Vamos a realizar codificación one hot con:\n",
        "- pandas\n",
        "- Feature-Engine\n",
        "\n",
        "y las ventajas y limitaciones de cada una de estas implementaciones usando los datos House Prices dataset.\n",
        "\n"
      ]
    },
    {
      "cell_type": "code",
      "metadata": {
        "id": "B05M5mkDDi_Y",
        "outputId": "6cd1eeb8-e3f2-4cfb-fc7d-6e2d451befc6",
        "colab": {
          "base_uri": "https://localhost:8080/"
        }
      },
      "source": [
        "from google.colab import drive\n",
        "drive.mount('/content/drive')"
      ],
      "execution_count": 1,
      "outputs": [
        {
          "output_type": "stream",
          "text": [
            "Mounted at /content/drive\n"
          ],
          "name": "stdout"
        }
      ]
    },
    {
      "cell_type": "code",
      "metadata": {
        "id": "u7myCXJWyDOZ",
        "outputId": "8fea11ef-01c9-4927-a174-4baf7a5f2d80",
        "colab": {
          "base_uri": "https://localhost:8080/"
        }
      },
      "source": [
        "pip install feature_engine"
      ],
      "execution_count": 3,
      "outputs": [
        {
          "output_type": "stream",
          "text": [
            "Collecting feature_engine\n",
            "  Downloading https://files.pythonhosted.org/packages/14/ed/5680bf401855b788f79cadc1298c210c5860eb5d54c4008cfa234b752ef1/feature_engine-0.6.1-py2.py3-none-any.whl\n",
            "Collecting statsmodels>=0.11.1\n",
            "\u001b[?25l  Downloading https://files.pythonhosted.org/packages/be/4c/9e2435ca6645d6bafa2b51bb11f0a365b28934a2ffe9d6e339d67130926d/statsmodels-0.12.1-cp36-cp36m-manylinux1_x86_64.whl (9.5MB)\n",
            "\u001b[K     |████████████████████████████████| 9.5MB 7.1MB/s \n",
            "\u001b[?25hRequirement already satisfied: numpy>=1.18.2 in /usr/local/lib/python3.6/dist-packages (from feature_engine) (1.18.5)\n",
            "Requirement already satisfied: scikit-learn>=0.22.2 in /usr/local/lib/python3.6/dist-packages (from feature_engine) (0.22.2.post1)\n",
            "Requirement already satisfied: pandas>=1.0.3 in /usr/local/lib/python3.6/dist-packages (from feature_engine) (1.1.4)\n",
            "Requirement already satisfied: scipy>=1.4.1 in /usr/local/lib/python3.6/dist-packages (from feature_engine) (1.4.1)\n",
            "Requirement already satisfied: patsy>=0.5 in /usr/local/lib/python3.6/dist-packages (from statsmodels>=0.11.1->feature_engine) (0.5.1)\n",
            "Requirement already satisfied: joblib>=0.11 in /usr/local/lib/python3.6/dist-packages (from scikit-learn>=0.22.2->feature_engine) (0.17.0)\n",
            "Requirement already satisfied: python-dateutil>=2.7.3 in /usr/local/lib/python3.6/dist-packages (from pandas>=1.0.3->feature_engine) (2.8.1)\n",
            "Requirement already satisfied: pytz>=2017.2 in /usr/local/lib/python3.6/dist-packages (from pandas>=1.0.3->feature_engine) (2018.9)\n",
            "Requirement already satisfied: six in /usr/local/lib/python3.6/dist-packages (from patsy>=0.5->statsmodels>=0.11.1->feature_engine) (1.15.0)\n",
            "Installing collected packages: statsmodels, feature-engine\n",
            "  Found existing installation: statsmodels 0.10.2\n",
            "    Uninstalling statsmodels-0.10.2:\n",
            "      Successfully uninstalled statsmodels-0.10.2\n",
            "Successfully installed feature-engine-0.6.1 statsmodels-0.12.1\n"
          ],
          "name": "stdout"
        }
      ]
    },
    {
      "cell_type": "code",
      "metadata": {
        "id": "887Gy23sDGdN"
      },
      "source": [
        "import numpy as np\n",
        "import pandas as pd\n",
        "\n",
        "# separar datos\n",
        "from sklearn.model_selection import train_test_split\n",
        "\n",
        "# codificar con feature-engine\n",
        "from feature_engine.categorical_encoders import CountFrequencyCategoricalEncoder"
      ],
      "execution_count": 4,
      "outputs": []
    },
    {
      "cell_type": "code",
      "metadata": {
        "id": "wN_OOIm3DGdW",
        "outputId": "6771b515-66b1-4df3-adcf-a5d641591d3a",
        "colab": {
          "base_uri": "https://localhost:8080/",
          "height": 204
        }
      },
      "source": [
        "# cargar dataset\n",
        "\n",
        "data = pd.read_csv(\n",
        "    '/content/drive/My Drive/datasets/houseprice.csv',\n",
        "    usecols=['Neighborhood', 'Exterior1st', 'Exterior2nd', 'SalePrice'])\n",
        "\n",
        "data.head()"
      ],
      "execution_count": 5,
      "outputs": [
        {
          "output_type": "execute_result",
          "data": {
            "text/html": [
              "<div>\n",
              "<style scoped>\n",
              "    .dataframe tbody tr th:only-of-type {\n",
              "        vertical-align: middle;\n",
              "    }\n",
              "\n",
              "    .dataframe tbody tr th {\n",
              "        vertical-align: top;\n",
              "    }\n",
              "\n",
              "    .dataframe thead th {\n",
              "        text-align: right;\n",
              "    }\n",
              "</style>\n",
              "<table border=\"1\" class=\"dataframe\">\n",
              "  <thead>\n",
              "    <tr style=\"text-align: right;\">\n",
              "      <th></th>\n",
              "      <th>Neighborhood</th>\n",
              "      <th>Exterior1st</th>\n",
              "      <th>Exterior2nd</th>\n",
              "      <th>SalePrice</th>\n",
              "    </tr>\n",
              "  </thead>\n",
              "  <tbody>\n",
              "    <tr>\n",
              "      <th>0</th>\n",
              "      <td>CollgCr</td>\n",
              "      <td>VinylSd</td>\n",
              "      <td>VinylSd</td>\n",
              "      <td>208500</td>\n",
              "    </tr>\n",
              "    <tr>\n",
              "      <th>1</th>\n",
              "      <td>Veenker</td>\n",
              "      <td>MetalSd</td>\n",
              "      <td>MetalSd</td>\n",
              "      <td>181500</td>\n",
              "    </tr>\n",
              "    <tr>\n",
              "      <th>2</th>\n",
              "      <td>CollgCr</td>\n",
              "      <td>VinylSd</td>\n",
              "      <td>VinylSd</td>\n",
              "      <td>223500</td>\n",
              "    </tr>\n",
              "    <tr>\n",
              "      <th>3</th>\n",
              "      <td>Crawfor</td>\n",
              "      <td>Wd Sdng</td>\n",
              "      <td>Wd Shng</td>\n",
              "      <td>140000</td>\n",
              "    </tr>\n",
              "    <tr>\n",
              "      <th>4</th>\n",
              "      <td>NoRidge</td>\n",
              "      <td>VinylSd</td>\n",
              "      <td>VinylSd</td>\n",
              "      <td>250000</td>\n",
              "    </tr>\n",
              "  </tbody>\n",
              "</table>\n",
              "</div>"
            ],
            "text/plain": [
              "  Neighborhood Exterior1st Exterior2nd  SalePrice\n",
              "0      CollgCr     VinylSd     VinylSd     208500\n",
              "1      Veenker     MetalSd     MetalSd     181500\n",
              "2      CollgCr     VinylSd     VinylSd     223500\n",
              "3      Crawfor     Wd Sdng     Wd Shng     140000\n",
              "4      NoRidge     VinylSd     VinylSd     250000"
            ]
          },
          "metadata": {
            "tags": []
          },
          "execution_count": 5
        }
      ]
    },
    {
      "cell_type": "code",
      "metadata": {
        "id": "CxPOjOLxDGdd",
        "outputId": "4da36061-dd90-4cea-bb3e-06274faa744c",
        "colab": {
          "base_uri": "https://localhost:8080/"
        }
      },
      "source": [
        "# miremos cuantas etiquetas tiene cada variable\n",
        "\n",
        "for col in data.columns:\n",
        "    print(col, ': ', len(data[col].unique()), ' etiquetas')"
      ],
      "execution_count": 6,
      "outputs": [
        {
          "output_type": "stream",
          "text": [
            "Neighborhood :  25  etiquetas\n",
            "Exterior1st :  15  etiquetas\n",
            "Exterior2nd :  16  etiquetas\n",
            "SalePrice :  663  etiquetas\n"
          ],
          "name": "stdout"
        }
      ]
    },
    {
      "cell_type": "markdown",
      "metadata": {
        "id": "b1H5DX68DGdg"
      },
      "source": [
        "### Importante sobre codificación\n",
        "\n",
        "Cuando hacemos el conteo de observaciones para transformar las variables categóricas, es importante calcular el número ( o frecuencia =  número observaciones /  observaciones totales)  usando el set de entrenamiento; y luego usar estos números para codificar las variables en el set de prueba\n",
        "\n"
      ]
    },
    {
      "cell_type": "code",
      "metadata": {
        "id": "62-hDpCVDGdh",
        "outputId": "9def5f7d-d97d-4aaa-890c-e5b8feeed70c",
        "colab": {
          "base_uri": "https://localhost:8080/"
        }
      },
      "source": [
        "# separemos en sets de prueba y entrenamiento\n",
        "\n",
        "X_train, X_test, y_train, y_test = train_test_split(\n",
        "    data[['Neighborhood', 'Exterior1st', 'Exterior2nd']],  # predictores\n",
        "    data['SalePrice'],  # target\n",
        "    test_size=0.3,  # porcentaje observaciones prueba\n",
        "    random_state=0)  # semilla para asegurar reproducibilidad\n",
        "\n",
        "X_train.shape, X_test.shape"
      ],
      "execution_count": 7,
      "outputs": [
        {
          "output_type": "execute_result",
          "data": {
            "text/plain": [
              "((1022, 3), (438, 3))"
            ]
          },
          "metadata": {
            "tags": []
          },
          "execution_count": 7
        }
      ]
    },
    {
      "cell_type": "markdown",
      "metadata": {
        "id": "FYxvcgTTDGdl"
      },
      "source": [
        "## Codificación por número de observaciones o frecuencia con pandas"
      ]
    },
    {
      "cell_type": "code",
      "metadata": {
        "scrolled": true,
        "id": "pOnbIEejDGdm",
        "outputId": "70b3189d-717e-4fbb-baf8-e13d17c2c5c8",
        "colab": {
          "base_uri": "https://localhost:8080/"
        }
      },
      "source": [
        "# calculemos para cada una de las etiquetas el número de observaciones\n",
        "# para la variable Neigbourhood\n",
        "\n",
        "count_map = X_train['Neighborhood'].value_counts().to_dict()\n",
        "\n",
        "count_map"
      ],
      "execution_count": 8,
      "outputs": [
        {
          "output_type": "execute_result",
          "data": {
            "text/plain": [
              "{'Blmngtn': 12,\n",
              " 'Blueste': 2,\n",
              " 'BrDale': 10,\n",
              " 'BrkSide': 41,\n",
              " 'ClearCr': 24,\n",
              " 'CollgCr': 105,\n",
              " 'Crawfor': 35,\n",
              " 'Edwards': 71,\n",
              " 'Gilbert': 55,\n",
              " 'IDOTRR': 24,\n",
              " 'MeadowV': 12,\n",
              " 'Mitchel': 36,\n",
              " 'NAmes': 151,\n",
              " 'NPkVill': 7,\n",
              " 'NWAmes': 51,\n",
              " 'NoRidge': 30,\n",
              " 'NridgHt': 51,\n",
              " 'OldTown': 73,\n",
              " 'SWISU': 18,\n",
              " 'Sawyer': 61,\n",
              " 'SawyerW': 45,\n",
              " 'Somerst': 56,\n",
              " 'StoneBr': 16,\n",
              " 'Timber': 30,\n",
              " 'Veenker': 6}"
            ]
          },
          "metadata": {
            "tags": []
          },
          "execution_count": 8
        }
      ]
    },
    {
      "cell_type": "markdown",
      "metadata": {
        "id": "gHWvVuBDDGdp"
      },
      "source": [
        "El diccionario contiene el número de observaciones por cada categoría de la variable Neighbourhood."
      ]
    },
    {
      "cell_type": "code",
      "metadata": {
        "id": "Z8tH06XKDGdp"
      },
      "source": [
        "# reemplacemos las etiquetas con el conteo que hicimos\n",
        "\n",
        "X_train['Neighborhood'] = X_train['Neighborhood'].map(count_map)\n",
        "X_test['Neighborhood'] = X_test['Neighborhood'].map(count_map)"
      ],
      "execution_count": 9,
      "outputs": []
    },
    {
      "cell_type": "code",
      "metadata": {
        "id": "twfgHNGqDGds",
        "outputId": "755b5b0f-363b-444e-f7b2-0dc8aad11896",
        "colab": {
          "base_uri": "https://localhost:8080/"
        }
      },
      "source": [
        "# exploremos los resultados\n",
        "\n",
        "X_train['Neighborhood'].head(10)"
      ],
      "execution_count": 10,
      "outputs": [
        {
          "output_type": "execute_result",
          "data": {
            "text/plain": [
              "64      105\n",
              "682      24\n",
              "960      41\n",
              "1384     71\n",
              "1100     18\n",
              "416      61\n",
              "1034     35\n",
              "853     151\n",
              "472      71\n",
              "1011     71\n",
              "Name: Neighborhood, dtype: int64"
            ]
          },
          "metadata": {
            "tags": []
          },
          "execution_count": 10
        }
      ]
    },
    {
      "cell_type": "code",
      "metadata": {
        "id": "Upwy-weDDGdv",
        "outputId": "1f75e2a9-e1e5-4bcf-802e-ff983eb5440c",
        "colab": {
          "base_uri": "https://localhost:8080/"
        }
      },
      "source": [
        "# si en lugar del número de observaciones queremos reemplazar por la frecuencia\n",
        "# solo necesitamos dividir el conteo por el número total de observaciones\n",
        "\n",
        "frequency_map = (X_train['Exterior1st'].value_counts() / len(X_train) ).to_dict()\n",
        "frequency_map"
      ],
      "execution_count": 11,
      "outputs": [
        {
          "output_type": "execute_result",
          "data": {
            "text/plain": [
              "{'AsbShng': 0.014677103718199608,\n",
              " 'AsphShn': 0.0009784735812133072,\n",
              " 'BrkComm': 0.0009784735812133072,\n",
              " 'BrkFace': 0.03424657534246575,\n",
              " 'CBlock': 0.0009784735812133072,\n",
              " 'CemntBd': 0.03816046966731898,\n",
              " 'HdBoard': 0.149706457925636,\n",
              " 'ImStucc': 0.0009784735812133072,\n",
              " 'MetalSd': 0.1350293542074364,\n",
              " 'Plywood': 0.08414872798434442,\n",
              " 'Stone': 0.0019569471624266144,\n",
              " 'Stucco': 0.016634050880626222,\n",
              " 'VinylSd': 0.3561643835616438,\n",
              " 'Wd Sdng': 0.14481409001956946,\n",
              " 'WdShing': 0.02054794520547945}"
            ]
          },
          "metadata": {
            "tags": []
          },
          "execution_count": 11
        }
      ]
    },
    {
      "cell_type": "code",
      "metadata": {
        "id": "ziGqSDVgDGdx"
      },
      "source": [
        "# reemplacemos las categorías por las frecuencias\n",
        "\n",
        "X_train['Exterior1st'] = X_train['Exterior1st'].map(frequency_map)\n",
        "X_test['Exterior1st'] = X_test['Exterior1st'].map(frequency_map)"
      ],
      "execution_count": 12,
      "outputs": []
    },
    {
      "cell_type": "markdown",
      "metadata": {
        "id": "jssxpVbhDGdz"
      },
      "source": [
        "Podemos agrupar estos comandos en dos funciones como hiciemos en los notebooks anteriores y  repetir el proceso (con un ciclo) para cada una de las variables categóricas. Si no sabes como hacer eso, revisa los notebooks anteriores.\n",
        "\n",
        "## Codificación por número de observaciones o frecuencia con Feature-Engine"
      ]
    },
    {
      "cell_type": "code",
      "metadata": {
        "id": "ZYQkJoKIDGd0",
        "outputId": "c90b1c04-7966-4d61-9ce0-13f25998d4fd",
        "colab": {
          "base_uri": "https://localhost:8080/"
        }
      },
      "source": [
        "# separemos en sets de prueba y entrenamiento\n",
        "\n",
        "X_train, X_test, y_train, y_test = train_test_split(\n",
        "    data[['Neighborhood', 'Exterior1st', 'Exterior2nd']],  # variables\n",
        "    data['SalePrice'],  # target\n",
        "    test_size=0.3,  # porcentaje observaciones prueba\n",
        "    random_state=0)  # semilla para asegurar reproducibilidad\n",
        "\n",
        "X_train.shape, X_test.shape"
      ],
      "execution_count": 13,
      "outputs": [
        {
          "output_type": "execute_result",
          "data": {
            "text/plain": [
              "((1022, 3), (438, 3))"
            ]
          },
          "metadata": {
            "tags": []
          },
          "execution_count": 13
        }
      ]
    },
    {
      "cell_type": "code",
      "metadata": {
        "id": "45VKW8ILDGd4",
        "outputId": "725a50b5-059d-4744-d02f-f636d20661b2",
        "colab": {
          "base_uri": "https://localhost:8080/"
        }
      },
      "source": [
        "count_enc = CountFrequencyCategoricalEncoder(\n",
        "    encoding_method='count', # para codificar por frecuencia ==> encoding_method='frequency'\n",
        "    variables=['Neighborhood', 'Exterior1st', 'Exterior2nd'])\n",
        "\n",
        "count_enc.fit(X_train)"
      ],
      "execution_count": 14,
      "outputs": [
        {
          "output_type": "execute_result",
          "data": {
            "text/plain": [
              "CountFrequencyCategoricalEncoder(encoding_method='count',\n",
              "                                 variables=['Neighborhood', 'Exterior1st',\n",
              "                                            'Exterior2nd'])"
            ]
          },
          "metadata": {
            "tags": []
          },
          "execution_count": 14
        }
      ]
    },
    {
      "cell_type": "code",
      "metadata": {
        "scrolled": true,
        "id": "SV83gzHfDGd7",
        "outputId": "13bb9492-27ca-49ef-f9aa-a43db11ab044",
        "colab": {
          "base_uri": "https://localhost:8080/"
        }
      },
      "source": [
        "# en en atributo encoder_dictdel codificador \n",
        "# podemos ver el número de observaciones por categoría de cada variable\n",
        "\n",
        "count_enc.encoder_dict_"
      ],
      "execution_count": 15,
      "outputs": [
        {
          "output_type": "execute_result",
          "data": {
            "text/plain": [
              "{'Exterior1st': {'AsbShng': 15,\n",
              "  'AsphShn': 1,\n",
              "  'BrkComm': 1,\n",
              "  'BrkFace': 35,\n",
              "  'CBlock': 1,\n",
              "  'CemntBd': 39,\n",
              "  'HdBoard': 153,\n",
              "  'ImStucc': 1,\n",
              "  'MetalSd': 138,\n",
              "  'Plywood': 86,\n",
              "  'Stone': 2,\n",
              "  'Stucco': 17,\n",
              "  'VinylSd': 364,\n",
              "  'Wd Sdng': 148,\n",
              "  'WdShing': 21},\n",
              " 'Exterior2nd': {'AsbShng': 17,\n",
              "  'AsphShn': 1,\n",
              "  'Brk Cmn': 4,\n",
              "  'BrkFace': 18,\n",
              "  'CBlock': 1,\n",
              "  'CmentBd': 39,\n",
              "  'HdBoard': 141,\n",
              "  'ImStucc': 8,\n",
              "  'MetalSd': 136,\n",
              "  'Other': 1,\n",
              "  'Plywood': 112,\n",
              "  'Stone': 4,\n",
              "  'Stucco': 16,\n",
              "  'VinylSd': 353,\n",
              "  'Wd Sdng': 142,\n",
              "  'Wd Shng': 29},\n",
              " 'Neighborhood': {'Blmngtn': 12,\n",
              "  'Blueste': 2,\n",
              "  'BrDale': 10,\n",
              "  'BrkSide': 41,\n",
              "  'ClearCr': 24,\n",
              "  'CollgCr': 105,\n",
              "  'Crawfor': 35,\n",
              "  'Edwards': 71,\n",
              "  'Gilbert': 55,\n",
              "  'IDOTRR': 24,\n",
              "  'MeadowV': 12,\n",
              "  'Mitchel': 36,\n",
              "  'NAmes': 151,\n",
              "  'NPkVill': 7,\n",
              "  'NWAmes': 51,\n",
              "  'NoRidge': 30,\n",
              "  'NridgHt': 51,\n",
              "  'OldTown': 73,\n",
              "  'SWISU': 18,\n",
              "  'Sawyer': 61,\n",
              "  'SawyerW': 45,\n",
              "  'Somerst': 56,\n",
              "  'StoneBr': 16,\n",
              "  'Timber': 30,\n",
              "  'Veenker': 6}}"
            ]
          },
          "metadata": {
            "tags": []
          },
          "execution_count": 15
        }
      ]
    },
    {
      "cell_type": "code",
      "metadata": {
        "id": "vkouzCH4DGd-",
        "outputId": "7ffa4d6b-10f2-4067-d59a-700863e31dd8",
        "colab": {
          "base_uri": "https://localhost:8080/",
          "height": 204
        }
      },
      "source": [
        "X_train = count_enc.transform(X_train)\n",
        "X_test = count_enc.transform(X_test)\n",
        "\n",
        "# exploremos el resultado\n",
        "X_train.head()"
      ],
      "execution_count": 16,
      "outputs": [
        {
          "output_type": "execute_result",
          "data": {
            "text/html": [
              "<div>\n",
              "<style scoped>\n",
              "    .dataframe tbody tr th:only-of-type {\n",
              "        vertical-align: middle;\n",
              "    }\n",
              "\n",
              "    .dataframe tbody tr th {\n",
              "        vertical-align: top;\n",
              "    }\n",
              "\n",
              "    .dataframe thead th {\n",
              "        text-align: right;\n",
              "    }\n",
              "</style>\n",
              "<table border=\"1\" class=\"dataframe\">\n",
              "  <thead>\n",
              "    <tr style=\"text-align: right;\">\n",
              "      <th></th>\n",
              "      <th>Neighborhood</th>\n",
              "      <th>Exterior1st</th>\n",
              "      <th>Exterior2nd</th>\n",
              "    </tr>\n",
              "  </thead>\n",
              "  <tbody>\n",
              "    <tr>\n",
              "      <th>64</th>\n",
              "      <td>105</td>\n",
              "      <td>364</td>\n",
              "      <td>353</td>\n",
              "    </tr>\n",
              "    <tr>\n",
              "      <th>682</th>\n",
              "      <td>24</td>\n",
              "      <td>148</td>\n",
              "      <td>142</td>\n",
              "    </tr>\n",
              "    <tr>\n",
              "      <th>960</th>\n",
              "      <td>41</td>\n",
              "      <td>148</td>\n",
              "      <td>112</td>\n",
              "    </tr>\n",
              "    <tr>\n",
              "      <th>1384</th>\n",
              "      <td>71</td>\n",
              "      <td>21</td>\n",
              "      <td>29</td>\n",
              "    </tr>\n",
              "    <tr>\n",
              "      <th>1100</th>\n",
              "      <td>18</td>\n",
              "      <td>148</td>\n",
              "      <td>142</td>\n",
              "    </tr>\n",
              "  </tbody>\n",
              "</table>\n",
              "</div>"
            ],
            "text/plain": [
              "      Neighborhood  Exterior1st  Exterior2nd\n",
              "64             105          364          353\n",
              "682             24          148          142\n",
              "960             41          148          112\n",
              "1384            71           21           29\n",
              "1100            18          148          142"
            ]
          },
          "metadata": {
            "tags": []
          },
          "execution_count": 16
        }
      ]
    },
    {
      "cell_type": "markdown",
      "metadata": {
        "id": "kHT37MPbDGeD"
      },
      "source": [
        "**Nota**\n",
        "\n",
        "Si el argumento 'variables' se fija en 'None' (ninguno). entonces el codificador automáticamente identificará  **todas las variables categóricas**. Maravilloso verdad?\n",
        "\n",
        "El codificador no codificará las variables numéricas. Entonces si algunas de tus variables categóricas son de hecho numéricas, necesitas hacer el 're-cast' o cambio a tipo 'object' antes de usar el codificador.\n",
        "\n",
        "Si hay una variable en el set de prueba, para el cual el codificador no tiene un número para asignar ( la categoría no estaba presente en el set de entrenamiento), el codificador devolverá un error.\n",
        "\n"
      ]
    },
    {
      "cell_type": "code",
      "metadata": {
        "id": "A9KfEgy2DGeE"
      },
      "source": [
        ""
      ],
      "execution_count": null,
      "outputs": []
    }
  ]
}