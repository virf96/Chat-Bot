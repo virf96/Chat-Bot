{
  "nbformat": 4,
  "nbformat_minor": 0,
  "metadata": {
    "kernelspec": {
      "display_name": "fe_test",
      "language": "python",
      "name": "fe_test"
    },
    "language_info": {
      "codemirror_mode": {
        "name": "ipython",
        "version": 3
      },
      "file_extension": ".py",
      "mimetype": "text/x-python",
      "name": "python",
      "nbconvert_exporter": "python",
      "pygments_lexer": "ipython3",
      "version": "3.8.2"
    },
    "toc": {
      "base_numbering": 1,
      "nav_menu": {},
      "number_sections": true,
      "sideBar": true,
      "skip_h1_title": false,
      "title_cell": "Table of Contents",
      "title_sidebar": "Contents",
      "toc_cell": false,
      "toc_position": {},
      "toc_section_display": "block",
      "toc_window_display": true
    },
    "colab": {
      "name": "CodificacionVariables-Peso-de-la-Evidencia.ipynb",
      "provenance": [],
      "toc_visible": true,
      "include_colab_link": true
    }
  },
  "cells": [
    {
      "cell_type": "markdown",
      "metadata": {
        "id": "view-in-github",
        "colab_type": "text"
      },
      "source": [
        "<a href=\"https://colab.research.google.com/github/virf96/Chat-Bot/blob/master/CodificacionVariables_Peso_de_la_Evidencia.ipynb\" target=\"_parent\"><img src=\"https://colab.research.google.com/assets/colab-badge.svg\" alt=\"Open In Colab\"/></a>"
      ]
    },
    {
      "cell_type": "markdown",
      "metadata": {
        "id": "h9fKZcr26wC-"
      },
      "source": [
        "## Pesos de Evidencia - Weight of evidence WoE\n",
        "\n",
        "Pesos de Evidencia - Weight of Evidence (WoE) por sus siglas en inglés fue desarrollado principalmente por las industrias de crédito y financieras para construir mejores modelos para la predicción de riesgo de incumplimiento de pago en préstamos. Es decir, predecir que tan probable es que el dinero prestado a una persona o institución no sea devuelto. El Peso de Evidencia, es una medida de la \"fortaleza\" de una técnica de agrupamiento para separar riesgo alto y bajo (riesgo de incumplimiento).\n",
        "\n",
        "WoE es calculado a partir de la probabilidad básica: \n",
        "\n",
        "    ln (𝑝(Y=1)/ 𝑝(Y=0)\n",
        "    \n",
        "con 𝑝(𝑌=1) la probabilidad de incumplimiento \n",
        "\n",
        "- WoE será 0 si 𝑝(Y=1) / 𝑝(Y=0) = 1, es decir, si el resultado es aleatorio para ese grupo.\n",
        "- Si 𝑝(Y=1) > 𝑝(Y=0) el índice de probabilidad será < 1 y,\n",
        "- WoE  será < 0 si,  𝑝(Y=1) > 𝑝(Y=0).\n",
        "\n",
        "WoE es adecuado para Regresiones Logísticas porque la transformación Logit es simplemente el logaritmo de la probabilidad, es decir, ln(𝑝(Y=1) / 𝑝(Y=0)). Por lo tanto, usando variables codificadas con WoE en los regresores logísticos, genera variables codificadas en la misma escala, y los parámetros de la ecuación en la regresión lineal pueden ser comparados directamente.\n",
        "\n",
        "La transformación WoE tiene tres ventajas:\n",
        "\n",
        "- Crea una relación monotónica entre el target y las variables independientes.\n",
        "- Ordena las categorías en una escala 'logística' lo cual es natural para una regresión logística.\n",
        "- Las variables transformadas pueden ser comparadas porque estan en la misma escala. Por lo tanto, es posible determinar cuales son más predictivas.\n",
        "\n",
        "WoE tiene también una limitación:\n",
        "\n",
        "- Tiende a causar sobre-ajustes\n",
        "- No está definida cuando el denominador es 0\n",
        "\n",
        "Más detalles en este [enlace](http://documentation.statsoft.com/StatisticaHelp.aspx?path=WeightofEvidence/WeightofEvidenceWoEIntroductoryOverview) y este otro [enlace](https://blogs.oracle.com/r/computing-weight-of-evidence-woe-and-information-value-iv)\n",
        "\n",
        "\n",
        "## En este demo:\n",
        "\n",
        "Vamos a aprender como transformar WoE con:\n",
        "- pandas\n",
        "- Feature-engine\n",
        "- Category encoders\n",
        "\n",
        "y vamos a ver las ventajas y limitaciones de cada una de estas implementaciones usando los datos del Titanic.\n"
      ]
    },
    {
      "cell_type": "code",
      "metadata": {
        "colab": {
          "base_uri": "https://localhost:8080/"
        },
        "id": "4irGkhyf-SZr",
        "outputId": "f477c4a5-2772-4a4c-d571-778694fdded4"
      },
      "source": [
        "pip install feature_engine"
      ],
      "execution_count": 3,
      "outputs": [
        {
          "output_type": "stream",
          "text": [
            "Collecting feature_engine\n",
            "  Downloading https://files.pythonhosted.org/packages/14/ed/5680bf401855b788f79cadc1298c210c5860eb5d54c4008cfa234b752ef1/feature_engine-0.6.1-py2.py3-none-any.whl\n",
            "Requirement already satisfied: pandas>=1.0.3 in /usr/local/lib/python3.6/dist-packages (from feature_engine) (1.1.5)\n",
            "Requirement already satisfied: scipy>=1.4.1 in /usr/local/lib/python3.6/dist-packages (from feature_engine) (1.4.1)\n",
            "Requirement already satisfied: numpy>=1.18.2 in /usr/local/lib/python3.6/dist-packages (from feature_engine) (1.19.4)\n",
            "Collecting statsmodels>=0.11.1\n",
            "\u001b[?25l  Downloading https://files.pythonhosted.org/packages/be/4c/9e2435ca6645d6bafa2b51bb11f0a365b28934a2ffe9d6e339d67130926d/statsmodels-0.12.1-cp36-cp36m-manylinux1_x86_64.whl (9.5MB)\n",
            "\u001b[K     |████████████████████████████████| 9.5MB 7.1MB/s \n",
            "\u001b[?25hRequirement already satisfied: scikit-learn>=0.22.2 in /usr/local/lib/python3.6/dist-packages (from feature_engine) (0.22.2.post1)\n",
            "Requirement already satisfied: pytz>=2017.2 in /usr/local/lib/python3.6/dist-packages (from pandas>=1.0.3->feature_engine) (2018.9)\n",
            "Requirement already satisfied: python-dateutil>=2.7.3 in /usr/local/lib/python3.6/dist-packages (from pandas>=1.0.3->feature_engine) (2.8.1)\n",
            "Requirement already satisfied: patsy>=0.5 in /usr/local/lib/python3.6/dist-packages (from statsmodels>=0.11.1->feature_engine) (0.5.1)\n",
            "Requirement already satisfied: joblib>=0.11 in /usr/local/lib/python3.6/dist-packages (from scikit-learn>=0.22.2->feature_engine) (1.0.0)\n",
            "Requirement already satisfied: six>=1.5 in /usr/local/lib/python3.6/dist-packages (from python-dateutil>=2.7.3->pandas>=1.0.3->feature_engine) (1.15.0)\n",
            "Installing collected packages: statsmodels, feature-engine\n",
            "  Found existing installation: statsmodels 0.10.2\n",
            "    Uninstalling statsmodels-0.10.2:\n",
            "      Successfully uninstalled statsmodels-0.10.2\n",
            "Successfully installed feature-engine-0.6.1 statsmodels-0.12.1\n"
          ],
          "name": "stdout"
        }
      ]
    },
    {
      "cell_type": "code",
      "metadata": {
        "colab": {
          "base_uri": "https://localhost:8080/"
        },
        "id": "CWlkDmsC-g8q",
        "outputId": "8501a0de-9f78-4b62-8234-b930c1e3c92e"
      },
      "source": [
        "pip install category_encoders"
      ],
      "execution_count": 5,
      "outputs": [
        {
          "output_type": "stream",
          "text": [
            "Collecting category_encoders\n",
            "\u001b[?25l  Downloading https://files.pythonhosted.org/packages/44/57/fcef41c248701ee62e8325026b90c432adea35555cbc870aff9cfba23727/category_encoders-2.2.2-py2.py3-none-any.whl (80kB)\n",
            "\r\u001b[K     |████                            | 10kB 16.1MB/s eta 0:00:01\r\u001b[K     |████████▏                       | 20kB 16.6MB/s eta 0:00:01\r\u001b[K     |████████████▏                   | 30kB 11.0MB/s eta 0:00:01\r\u001b[K     |████████████████▎               | 40kB 8.2MB/s eta 0:00:01\r\u001b[K     |████████████████████▎           | 51kB 4.4MB/s eta 0:00:01\r\u001b[K     |████████████████████████▍       | 61kB 4.9MB/s eta 0:00:01\r\u001b[K     |████████████████████████████▍   | 71kB 5.0MB/s eta 0:00:01\r\u001b[K     |████████████████████████████████| 81kB 3.8MB/s \n",
            "\u001b[?25hRequirement already satisfied: numpy>=1.14.0 in /usr/local/lib/python3.6/dist-packages (from category_encoders) (1.19.4)\n",
            "Requirement already satisfied: patsy>=0.5.1 in /usr/local/lib/python3.6/dist-packages (from category_encoders) (0.5.1)\n",
            "Requirement already satisfied: pandas>=0.21.1 in /usr/local/lib/python3.6/dist-packages (from category_encoders) (1.1.5)\n",
            "Requirement already satisfied: statsmodels>=0.9.0 in /usr/local/lib/python3.6/dist-packages (from category_encoders) (0.12.1)\n",
            "Requirement already satisfied: scipy>=1.0.0 in /usr/local/lib/python3.6/dist-packages (from category_encoders) (1.4.1)\n",
            "Requirement already satisfied: scikit-learn>=0.20.0 in /usr/local/lib/python3.6/dist-packages (from category_encoders) (0.22.2.post1)\n",
            "Requirement already satisfied: six in /usr/local/lib/python3.6/dist-packages (from patsy>=0.5.1->category_encoders) (1.15.0)\n",
            "Requirement already satisfied: pytz>=2017.2 in /usr/local/lib/python3.6/dist-packages (from pandas>=0.21.1->category_encoders) (2018.9)\n",
            "Requirement already satisfied: python-dateutil>=2.7.3 in /usr/local/lib/python3.6/dist-packages (from pandas>=0.21.1->category_encoders) (2.8.1)\n",
            "Requirement already satisfied: joblib>=0.11 in /usr/local/lib/python3.6/dist-packages (from scikit-learn>=0.20.0->category_encoders) (1.0.0)\n",
            "Installing collected packages: category-encoders\n",
            "Successfully installed category-encoders-2.2.2\n"
          ],
          "name": "stdout"
        }
      ]
    },
    {
      "cell_type": "code",
      "metadata": {
        "scrolled": true,
        "id": "Ep7J1w0c6wDG"
      },
      "source": [
        "import numpy as np\n",
        "import pandas as pd\n",
        "\n",
        "import matplotlib.pyplot as plt\n",
        "\n",
        "# separar los datos \n",
        "from sklearn.model_selection import train_test_split\n",
        "\n",
        "# para codificar usando feature-engine\n",
        "from feature_engine.categorical_encoders import WoERatioCategoricalEncoder\n",
        "from category_encoders.woe import WOEEncoder"
      ],
      "execution_count": 6,
      "outputs": []
    },
    {
      "cell_type": "code",
      "metadata": {
        "colab": {
          "base_uri": "https://localhost:8080/"
        },
        "id": "OWXbLcsh-QXf",
        "outputId": "53d50e01-1db6-4a80-abec-836331102647"
      },
      "source": [
        "from google.colab import drive\n",
        "drive.mount('/content/drive')"
      ],
      "execution_count": 7,
      "outputs": [
        {
          "output_type": "stream",
          "text": [
            "Mounted at /content/drive\n"
          ],
          "name": "stdout"
        }
      ]
    },
    {
      "cell_type": "code",
      "metadata": {
        "id": "BhvA1sz76wDH",
        "colab": {
          "base_uri": "https://localhost:8080/",
          "height": 191
        },
        "outputId": "41d8a303-6fde-49c7-af96-ca2ca9d0040a"
      },
      "source": [
        "# cargar los datos\n",
        "\n",
        "data = pd.read_csv(\n",
        "    '/content/drive/MyDrive/datasets/titanic.csv',\n",
        "    usecols=['cabin', 'sex', 'embarked', 'survived'])\n",
        "\n",
        "data.head()"
      ],
      "execution_count": 8,
      "outputs": [
        {
          "output_type": "execute_result",
          "data": {
            "text/html": [
              "<div>\n",
              "<style scoped>\n",
              "    .dataframe tbody tr th:only-of-type {\n",
              "        vertical-align: middle;\n",
              "    }\n",
              "\n",
              "    .dataframe tbody tr th {\n",
              "        vertical-align: top;\n",
              "    }\n",
              "\n",
              "    .dataframe thead th {\n",
              "        text-align: right;\n",
              "    }\n",
              "</style>\n",
              "<table border=\"1\" class=\"dataframe\">\n",
              "  <thead>\n",
              "    <tr style=\"text-align: right;\">\n",
              "      <th></th>\n",
              "      <th>survived</th>\n",
              "      <th>sex</th>\n",
              "      <th>cabin</th>\n",
              "      <th>embarked</th>\n",
              "    </tr>\n",
              "  </thead>\n",
              "  <tbody>\n",
              "    <tr>\n",
              "      <th>0</th>\n",
              "      <td>1</td>\n",
              "      <td>female</td>\n",
              "      <td>B5</td>\n",
              "      <td>S</td>\n",
              "    </tr>\n",
              "    <tr>\n",
              "      <th>1</th>\n",
              "      <td>1</td>\n",
              "      <td>male</td>\n",
              "      <td>C22</td>\n",
              "      <td>S</td>\n",
              "    </tr>\n",
              "    <tr>\n",
              "      <th>2</th>\n",
              "      <td>0</td>\n",
              "      <td>female</td>\n",
              "      <td>C22</td>\n",
              "      <td>S</td>\n",
              "    </tr>\n",
              "    <tr>\n",
              "      <th>3</th>\n",
              "      <td>0</td>\n",
              "      <td>male</td>\n",
              "      <td>C22</td>\n",
              "      <td>S</td>\n",
              "    </tr>\n",
              "    <tr>\n",
              "      <th>4</th>\n",
              "      <td>0</td>\n",
              "      <td>female</td>\n",
              "      <td>C22</td>\n",
              "      <td>S</td>\n",
              "    </tr>\n",
              "  </tbody>\n",
              "</table>\n",
              "</div>"
            ],
            "text/plain": [
              "   survived     sex cabin embarked\n",
              "0         1  female    B5        S\n",
              "1         1    male   C22        S\n",
              "2         0  female   C22        S\n",
              "3         0    male   C22        S\n",
              "4         0  female   C22        S"
            ]
          },
          "metadata": {
            "tags": []
          },
          "execution_count": 8
        }
      ]
    },
    {
      "cell_type": "code",
      "metadata": {
        "id": "-uRGNWi26wDI",
        "colab": {
          "base_uri": "https://localhost:8080/"
        },
        "outputId": "44cf0f7c-a497-4c57-df1b-240f409aa2a2"
      },
      "source": [
        "# removamos las observaciones con datos ausentes (na) en embarked\n",
        "\n",
        "data.dropna(subset=['embarked'], inplace=True)\n",
        "data.shape"
      ],
      "execution_count": 9,
      "outputs": [
        {
          "output_type": "execute_result",
          "data": {
            "text/plain": [
              "(1307, 4)"
            ]
          },
          "metadata": {
            "tags": []
          },
          "execution_count": 9
        }
      ]
    },
    {
      "cell_type": "code",
      "metadata": {
        "id": "yURz0CGj6wDI"
      },
      "source": [
        "# Ahora reemplazamos los valores de la variable cabin \n",
        "# con la primera letra de cada una de sus etiquetas. \n",
        "# De esta forma simplificamos los valores en la variable \n",
        "# y facilitamos el demo\n",
        "\n",
        "data['cabin'] = data['cabin'].astype(str).str[0]"
      ],
      "execution_count": 10,
      "outputs": []
    },
    {
      "cell_type": "code",
      "metadata": {
        "id": "ZP6SoVw46wDJ",
        "colab": {
          "base_uri": "https://localhost:8080/"
        },
        "outputId": "a6ccf75b-dc68-489f-accd-993dfbc2334b"
      },
      "source": [
        "# removemos las observaciones donde cabin = T\n",
        "# ya que solo son unas pocas\n",
        "\n",
        "data = data[data['cabin']!= 'T']\n",
        "data.shape"
      ],
      "execution_count": 11,
      "outputs": [
        {
          "output_type": "execute_result",
          "data": {
            "text/plain": [
              "(1306, 4)"
            ]
          },
          "metadata": {
            "tags": []
          },
          "execution_count": 11
        }
      ]
    },
    {
      "cell_type": "code",
      "metadata": {
        "id": "4LOCDSKo6wDJ",
        "colab": {
          "base_uri": "https://localhost:8080/"
        },
        "outputId": "cb371bec-c74a-4bdb-dc11-5e1e9353c604"
      },
      "source": [
        "# miremos cuantas categorías tiene cada variable\n",
        "\n",
        "for col in data.columns:\n",
        "    print(col, ': ', len(data[col].unique()), ' etiquetas')"
      ],
      "execution_count": 12,
      "outputs": [
        {
          "output_type": "stream",
          "text": [
            "survived :  2  etiquetas\n",
            "sex :  2  etiquetas\n",
            "cabin :  8  etiquetas\n",
            "embarked :  3  etiquetas\n"
          ],
          "name": "stdout"
        }
      ]
    },
    {
      "cell_type": "code",
      "metadata": {
        "id": "opdj3CLM6wDJ",
        "colab": {
          "base_uri": "https://localhost:8080/"
        },
        "outputId": "a640d624-f144-478b-dc4c-08a303cdee7f"
      },
      "source": [
        "# exploremos las categorías únicas\n",
        "\n",
        "data['cabin'].unique()"
      ],
      "execution_count": 13,
      "outputs": [
        {
          "output_type": "execute_result",
          "data": {
            "text/plain": [
              "array(['B', 'C', 'E', 'D', 'A', 'n', 'F', 'G'], dtype=object)"
            ]
          },
          "metadata": {
            "tags": []
          },
          "execution_count": 13
        }
      ]
    },
    {
      "cell_type": "code",
      "metadata": {
        "id": "Umi9F_i56wDK",
        "colab": {
          "base_uri": "https://localhost:8080/"
        },
        "outputId": "a13e0f91-3c90-4281-8b40-ada13cddfd59"
      },
      "source": [
        "data['sex'].unique()"
      ],
      "execution_count": 14,
      "outputs": [
        {
          "output_type": "execute_result",
          "data": {
            "text/plain": [
              "array(['female', 'male'], dtype=object)"
            ]
          },
          "metadata": {
            "tags": []
          },
          "execution_count": 14
        }
      ]
    },
    {
      "cell_type": "code",
      "metadata": {
        "id": "H-6mK3pJ6wDK",
        "colab": {
          "base_uri": "https://localhost:8080/"
        },
        "outputId": "3786b7e1-c90f-48e3-fdf6-6517715291ac"
      },
      "source": [
        "data['embarked'].unique()"
      ],
      "execution_count": 15,
      "outputs": [
        {
          "output_type": "execute_result",
          "data": {
            "text/plain": [
              "array(['S', 'C', 'Q'], dtype=object)"
            ]
          },
          "metadata": {
            "tags": []
          },
          "execution_count": 15
        }
      ]
    },
    {
      "cell_type": "markdown",
      "metadata": {
        "id": "KKW27QJy6wDK"
      },
      "source": [
        "### Importante\n",
        "\n",
        "Calculamos los WoE usando el set de entrenamiento, y luego usamos ese mapeo en el set de prueba.\n",
        "\n",
        "Para implementarlo en pandas, tenemos que mantener el target en el set de entrenamiento.\n"
      ]
    },
    {
      "cell_type": "code",
      "metadata": {
        "id": "poPve1ka6wDK",
        "colab": {
          "base_uri": "https://localhost:8080/"
        },
        "outputId": "aef374d1-970f-4ca0-f679-9e322383e3ad"
      },
      "source": [
        "# separemos en sets de prueba y entrenamiento\n",
        "\n",
        "X_train, X_test, y_train, y_test = train_test_split(\n",
        "    data[['cabin', 'sex', 'embarked', 'survived']],  # esta vez mantenemos el target en la variable\n",
        "    data['survived'],  # target\n",
        "    test_size=0.3,  # porcentaje de observaciones en el segmento de prueba\n",
        "    random_state=0)  # semilla para asegurar reproducibilidad\n",
        "\n",
        "X_train.shape, X_test.shape\n"
      ],
      "execution_count": 16,
      "outputs": [
        {
          "output_type": "execute_result",
          "data": {
            "text/plain": [
              "((914, 4), (392, 4))"
            ]
          },
          "metadata": {
            "tags": []
          },
          "execution_count": 16
        }
      ]
    },
    {
      "cell_type": "markdown",
      "metadata": {
        "id": "TCc6tOkx6wDL"
      },
      "source": [
        "### Exploremos la relación original entre las variables categóricas y el target"
      ]
    },
    {
      "cell_type": "code",
      "metadata": {
        "id": "j_4km_6F6wDL",
        "colab": {
          "base_uri": "https://localhost:8080/",
          "height": 851
        },
        "outputId": "8850a963-76d5-4927-f4da-fb7bb8c10920"
      },
      "source": [
        "# Exploremos la relación original entre las variables categóricas \n",
        "# y el target survived\n",
        "\n",
        "for var in ['cabin', 'sex', 'embarked']:\n",
        "    \n",
        "    fig = plt.figure()\n",
        "    fig = X_train.groupby([var])['survived'].mean().plot()\n",
        "    fig.set_title('Relación entre {} y target: survived'.format(var))\n",
        "    fig.set_ylabel('Promedio Supervivencia')\n",
        "    plt.show()"
      ],
      "execution_count": 17,
      "outputs": [
        {
          "output_type": "display_data",
          "data": {
            "image/png": "[encoded data removed]",
            "text/plain": [
              "<Figure size 432x288 with 1 Axes>"
            ]
          },
          "metadata": {
            "tags": [],
            "needs_background": "light"
          }
        },
        {
          "output_type": "display_data",
          "data": {
            "image/png": "[encoded data removed]",
            "text/plain": [
              "<Figure size 432x288 with 1 Axes>"
            ]
          },
          "metadata": {
            "tags": [],
            "needs_background": "light"
          }
        },
        {
          "output_type": "display_data",
          "data": {
            "image/png": "[encoded data removed]",
            "text/plain": [
              "<Figure size 432x288 with 1 Axes>"
            ]
          },
          "metadata": {
            "tags": [],
            "needs_background": "light"
          }
        }
      ]
    },
    {
      "cell_type": "markdown",
      "metadata": {
        "id": "Td6yfhrQ6wDL"
      },
      "source": [
        "Podemos ver que la relación entre el target y las variables cabin/embarked sube y baja dependiendo de la categoría. \n",
        "\n",
        "\n",
        "## Pesos de Evidencia - Weight of Evidence con pandas\n",
        "\n",
        "### Ventajas\n",
        "\n",
        "- rápido\n",
        "- retorna un pandas dataframe\n",
        "\n",
        "### Limitaciones de pandas:\n",
        "\n",
        "- no preserva la información del set de entrenamiento para propagarlo al segmento de prueba\n",
        "\n",
        "Necesitamos capturar y guardar los mapeos uno por uno, manualmente, si estamos planeando usarlos en producción\n"
      ]
    },
    {
      "cell_type": "code",
      "metadata": {
        "id": "s-JXNpkM6wDL"
      },
      "source": [
        "# Vamos a calcular la proporción de pasajeros que sobrevivieron\n",
        "# sobre el total de sobrevivientes, por categoría de cabina\n",
        "\n",
        "# sobrevivientes totales\n",
        "total_survived = X_train['survived'].sum()\n",
        "\n",
        "# Porcentaje de pasajeros que sobrevivieron, del total de sobrevivientes\n",
        "# por categoría de cabina\n",
        "survived = X_train.groupby(['cabin'])['survived'].sum() / total_survived"
      ],
      "execution_count": 18,
      "outputs": []
    },
    {
      "cell_type": "code",
      "metadata": {
        "id": "OaBNywdr6wDM",
        "colab": {
          "base_uri": "https://localhost:8080/"
        },
        "outputId": "834dce2b-f1eb-441d-d4bc-c5ebdbd42d7e"
      },
      "source": [
        "# Calculemos la proporción de pasajeros que no sobrevivieron\n",
        "# sobre el total de pasajeros que no lo hicieron, por categoría de cabina\n",
        "\n",
        "# total de pasajeros que no sobrevivieron\n",
        "total_non_survived = len(X_train) - X_train['survived'].sum()\n",
        "\n",
        "# Vamos a crear un marcador para los pasajeros que no sobrevivieron\n",
        "X_train['non_survived'] = np.where(X_train['survived'] == 1, 0, 1)\n",
        "\n",
        "# Ahora vamos a calcular el % de pasajeros que no sobrevivieron\n",
        "# por categoría de cabina\n",
        "non_survived = X_train.groupby(\n",
        "    ['cabin'])['non_survived'].sum() / total_non_survived\n",
        "\n",
        "non_survived"
      ],
      "execution_count": 19,
      "outputs": [
        {
          "output_type": "execute_result",
          "data": {
            "text/plain": [
              "cabin\n",
              "A    0.017513\n",
              "B    0.019264\n",
              "C    0.049037\n",
              "D    0.017513\n",
              "E    0.015762\n",
              "F    0.005254\n",
              "G    0.001751\n",
              "n    0.873905\n",
              "Name: non_survived, dtype: float64"
            ]
          },
          "metadata": {
            "tags": []
          },
          "execution_count": 19
        }
      ]
    },
    {
      "cell_type": "code",
      "metadata": {
        "id": "t_1LkZ586wDM",
        "colab": {
          "base_uri": "https://localhost:8080/",
          "height": 306
        },
        "outputId": "20d0bf26-aa0d-4b3c-ee71-90c99af06d83"
      },
      "source": [
        "# Ahora combinemos esas dos series en un marco de datos y calculemos el\n",
        "# WoE\n",
        "\n",
        "# concatenemos la serie en un marco de datos\n",
        "prob_df = pd.concat([survived, non_survived], axis=1)\n",
        "\n",
        "# Vamos a calcular el peso de la evidencia\n",
        "prob_df['woe'] = np.log(prob_df['survived']/prob_df['non_survived'])\n",
        "\n",
        "prob_df"
      ],
      "execution_count": 20,
      "outputs": [
        {
          "output_type": "execute_result",
          "data": {
            "text/html": [
              "<div>\n",
              "<style scoped>\n",
              "    .dataframe tbody tr th:only-of-type {\n",
              "        vertical-align: middle;\n",
              "    }\n",
              "\n",
              "    .dataframe tbody tr th {\n",
              "        vertical-align: top;\n",
              "    }\n",
              "\n",
              "    .dataframe thead th {\n",
              "        text-align: right;\n",
              "    }\n",
              "</style>\n",
              "<table border=\"1\" class=\"dataframe\">\n",
              "  <thead>\n",
              "    <tr style=\"text-align: right;\">\n",
              "      <th></th>\n",
              "      <th>survived</th>\n",
              "      <th>non_survived</th>\n",
              "      <th>woe</th>\n",
              "    </tr>\n",
              "    <tr>\n",
              "      <th>cabin</th>\n",
              "      <th></th>\n",
              "      <th></th>\n",
              "      <th></th>\n",
              "    </tr>\n",
              "  </thead>\n",
              "  <tbody>\n",
              "    <tr>\n",
              "      <th>A</th>\n",
              "      <td>0.020408</td>\n",
              "      <td>0.017513</td>\n",
              "      <td>0.152984</td>\n",
              "    </tr>\n",
              "    <tr>\n",
              "      <th>B</th>\n",
              "      <td>0.090379</td>\n",
              "      <td>0.019264</td>\n",
              "      <td>1.545751</td>\n",
              "    </tr>\n",
              "    <tr>\n",
              "      <th>C</th>\n",
              "      <td>0.122449</td>\n",
              "      <td>0.049037</td>\n",
              "      <td>0.915124</td>\n",
              "    </tr>\n",
              "    <tr>\n",
              "      <th>D</th>\n",
              "      <td>0.067055</td>\n",
              "      <td>0.017513</td>\n",
              "      <td>1.342568</td>\n",
              "    </tr>\n",
              "    <tr>\n",
              "      <th>E</th>\n",
              "      <td>0.061224</td>\n",
              "      <td>0.015762</td>\n",
              "      <td>1.356957</td>\n",
              "    </tr>\n",
              "    <tr>\n",
              "      <th>F</th>\n",
              "      <td>0.029155</td>\n",
              "      <td>0.005254</td>\n",
              "      <td>1.713632</td>\n",
              "    </tr>\n",
              "    <tr>\n",
              "      <th>G</th>\n",
              "      <td>0.008746</td>\n",
              "      <td>0.001751</td>\n",
              "      <td>1.608271</td>\n",
              "    </tr>\n",
              "    <tr>\n",
              "      <th>n</th>\n",
              "      <td>0.600583</td>\n",
              "      <td>0.873905</td>\n",
              "      <td>-0.375071</td>\n",
              "    </tr>\n",
              "  </tbody>\n",
              "</table>\n",
              "</div>"
            ],
            "text/plain": [
              "       survived  non_survived       woe\n",
              "cabin                                  \n",
              "A      0.020408      0.017513  0.152984\n",
              "B      0.090379      0.019264  1.545751\n",
              "C      0.122449      0.049037  0.915124\n",
              "D      0.067055      0.017513  1.342568\n",
              "E      0.061224      0.015762  1.356957\n",
              "F      0.029155      0.005254  1.713632\n",
              "G      0.008746      0.001751  1.608271\n",
              "n      0.600583      0.873905 -0.375071"
            ]
          },
          "metadata": {
            "tags": []
          },
          "execution_count": 20
        }
      ]
    },
    {
      "cell_type": "code",
      "metadata": {
        "id": "u03TMull6wDM",
        "colab": {
          "base_uri": "https://localhost:8080/"
        },
        "outputId": "616ebad9-dbd1-4542-a1fc-a174bd9781b9"
      },
      "source": [
        "# y capturemos el WoE en un diccionario \n",
        "\n",
        "ordered_labels = prob_df['woe'].to_dict()\n",
        "\n",
        "ordered_labels"
      ],
      "execution_count": 21,
      "outputs": [
        {
          "output_type": "execute_result",
          "data": {
            "text/plain": [
              "{'A': 0.1529838185513379,\n",
              " 'B': 1.545750694176846,\n",
              " 'C': 0.9151238705982346,\n",
              " 'D': 1.3425678854251744,\n",
              " 'E': 1.356956622877274,\n",
              " 'F': 1.7136315668160063,\n",
              " 'G': 1.60827105115818,\n",
              " 'n': -0.37507116447186734}"
            ]
          },
          "metadata": {
            "tags": []
          },
          "execution_count": 21
        }
      ]
    },
    {
      "cell_type": "code",
      "metadata": {
        "id": "M8IemEbA6wDM"
      },
      "source": [
        "# ahora, reemplazamos cada etiqueta con el valor del WoE\n",
        "\n",
        "X_train['cabin'] = X_train['cabin'].map(ordered_labels)\n",
        "X_test['cabin'] = X_test['cabin'].map(ordered_labels)"
      ],
      "execution_count": 22,
      "outputs": []
    },
    {
      "cell_type": "code",
      "metadata": {
        "id": "9qig9fEg6wDN",
        "colab": {
          "base_uri": "https://localhost:8080/"
        },
        "outputId": "bc1e7556-6fa4-4608-af00-e078aecb5810"
      },
      "source": [
        "# exporemos el resultado\n",
        "\n",
        "X_train['cabin'].head(10)"
      ],
      "execution_count": 23,
      "outputs": [
        {
          "output_type": "execute_result",
          "data": {
            "text/plain": [
              "843    -0.375071\n",
              "869    -0.375071\n",
              "430    -0.375071\n",
              "481    -0.375071\n",
              "1308   -0.375071\n",
              "456    -0.375071\n",
              "118     1.342568\n",
              "485     1.342568\n",
              "297    -0.375071\n",
              "263     1.356957\n",
              "Name: cabin, dtype: float64"
            ]
          },
          "metadata": {
            "tags": []
          },
          "execution_count": 23
        }
      ]
    },
    {
      "cell_type": "code",
      "metadata": {
        "id": "il5Yxzh26wDN"
      },
      "source": [
        "# agrupemos los comandos anteriores en dos funciones\n",
        "\n",
        "def find_category_mappings(df, variable, target):\n",
        "\n",
        "    # copia del dataframe original, para que no lo modifiquemos\n",
        "    # accidentalmente\n",
        "    tmp = df.copy()\n",
        "\n",
        "    # total classe positiva\n",
        "    total_pos = df[target].sum()\n",
        "\n",
        "    # total clase negativa\n",
        "    total_neg = len(df) - df[target].sum()\n",
        "\n",
        "    # inversa del target\n",
        "    tmp['non-target'] = 1 - tmp[target]\n",
        "\n",
        "    # % de clase positiva por categoría, respecto al total de clase positiva\n",
        "    pos_perc = tmp.groupby([variable])[target].sum() / total_pos\n",
        "\n",
        "    # % de clase negativa por categoría, respecto al total de la clase negativa\n",
        "    neg_perc = tmp.groupby([variable])['non-target'].sum() / total_neg\n",
        "\n",
        "    # concatenemos\n",
        "    prob_tmp = pd.concat([pos_perc, neg_perc], axis=1)\n",
        "\n",
        "    # calculemos el peso de la evidencia\n",
        "    prob_tmp['woe'] = np.log(prob_tmp[target]/prob_tmp['non-target'])\n",
        "\n",
        "    return prob_tmp['woe'].to_dict()\n",
        "\n",
        "\n",
        "def integer_encode(train, test, variable, ordinal_mapping):\n",
        "\n",
        "    X_train[variable] = X_train[variable].map(ordinal_mapping)\n",
        "\n",
        "    X_test[variable] = X_test[variable].map(ordinal_mapping)"
      ],
      "execution_count": 24,
      "outputs": []
    },
    {
      "cell_type": "code",
      "metadata": {
        "id": "p4Zyelsq6wDN"
      },
      "source": [
        "# ahora repitamos el proceso para cada una de las variables categóricas\n",
        "\n",
        "for variable in ['sex', 'embarked']:\n",
        "    \n",
        "    mappings = find_category_mappings(X_train, variable, 'survived')\n",
        "    \n",
        "    integer_encode(X_train, X_test, variable, mappings)"
      ],
      "execution_count": 25,
      "outputs": []
    },
    {
      "cell_type": "code",
      "metadata": {
        "id": "8nEH0sLd6wDN",
        "colab": {
          "base_uri": "https://localhost:8080/",
          "height": 191
        },
        "outputId": "a790a603-35c6-4fa6-8e50-7ecb46993478"
      },
      "source": [
        "# veamos el resultado\n",
        "\n",
        "X_train.head()"
      ],
      "execution_count": 26,
      "outputs": [
        {
          "output_type": "execute_result",
          "data": {
            "text/html": [
              "<div>\n",
              "<style scoped>\n",
              "    .dataframe tbody tr th:only-of-type {\n",
              "        vertical-align: middle;\n",
              "    }\n",
              "\n",
              "    .dataframe tbody tr th {\n",
              "        vertical-align: top;\n",
              "    }\n",
              "\n",
              "    .dataframe thead th {\n",
              "        text-align: right;\n",
              "    }\n",
              "</style>\n",
              "<table border=\"1\" class=\"dataframe\">\n",
              "  <thead>\n",
              "    <tr style=\"text-align: right;\">\n",
              "      <th></th>\n",
              "      <th>cabin</th>\n",
              "      <th>sex</th>\n",
              "      <th>embarked</th>\n",
              "      <th>survived</th>\n",
              "      <th>non_survived</th>\n",
              "    </tr>\n",
              "  </thead>\n",
              "  <tbody>\n",
              "    <tr>\n",
              "      <th>843</th>\n",
              "      <td>-0.375071</td>\n",
              "      <td>-1.013111</td>\n",
              "      <td>-0.164796</td>\n",
              "      <td>0</td>\n",
              "      <td>1</td>\n",
              "    </tr>\n",
              "    <tr>\n",
              "      <th>869</th>\n",
              "      <td>-0.375071</td>\n",
              "      <td>-1.013111</td>\n",
              "      <td>-0.164796</td>\n",
              "      <td>0</td>\n",
              "      <td>1</td>\n",
              "    </tr>\n",
              "    <tr>\n",
              "      <th>430</th>\n",
              "      <td>-0.375071</td>\n",
              "      <td>1.535068</td>\n",
              "      <td>-0.164796</td>\n",
              "      <td>1</td>\n",
              "      <td>0</td>\n",
              "    </tr>\n",
              "    <tr>\n",
              "      <th>481</th>\n",
              "      <td>-0.375071</td>\n",
              "      <td>1.535068</td>\n",
              "      <td>0.658871</td>\n",
              "      <td>1</td>\n",
              "      <td>0</td>\n",
              "    </tr>\n",
              "    <tr>\n",
              "      <th>1308</th>\n",
              "      <td>-0.375071</td>\n",
              "      <td>-1.013111</td>\n",
              "      <td>-0.164796</td>\n",
              "      <td>0</td>\n",
              "      <td>1</td>\n",
              "    </tr>\n",
              "  </tbody>\n",
              "</table>\n",
              "</div>"
            ],
            "text/plain": [
              "         cabin       sex  embarked  survived  non_survived\n",
              "843  -0.375071 -1.013111 -0.164796         0             1\n",
              "869  -0.375071 -1.013111 -0.164796         0             1\n",
              "430  -0.375071  1.535068 -0.164796         1             0\n",
              "481  -0.375071  1.535068  0.658871         1             0\n",
              "1308 -0.375071 -1.013111 -0.164796         0             1"
            ]
          },
          "metadata": {
            "tags": []
          },
          "execution_count": 26
        }
      ]
    },
    {
      "cell_type": "code",
      "metadata": {
        "scrolled": false,
        "id": "FzTk9Euk6wDO",
        "colab": {
          "base_uri": "https://localhost:8080/",
          "height": 851
        },
        "outputId": "7e16e2e4-f6ed-43c3-bf11-6fa72362fb33"
      },
      "source": [
        "# inspeccionemos la relación monotónica\n",
        "# entre la variable y el target\n",
        "\n",
        "for var in ['cabin', 'sex', 'embarked']:\n",
        "    \n",
        "    fig = plt.figure()\n",
        "    fig = X_train.groupby([var])['survived'].mean().plot()\n",
        "    fig.set_title('Relación monotónica entre {} y target: survived'.format(var))\n",
        "    fig.set_ylabel('Promedio Supervivencia')\n",
        "    plt.show()"
      ],
      "execution_count": 27,
      "outputs": [
        {
          "output_type": "display_data",
          "data": {
            "image/png": "[encoded data removed]",
            "text/plain": [
              "<Figure size 432x288 with 1 Axes>"
            ]
          },
          "metadata": {
            "tags": [],
            "needs_background": "light"
          }
        },
        {
          "output_type": "display_data",
          "data": {
            "image/png": "[encoded data removed]",
            "text/plain": [
              "<Figure size 432x288 with 1 Axes>"
            ]
          },
          "metadata": {
            "tags": [],
            "needs_background": "light"
          }
        },
        {
          "output_type": "display_data",
          "data": {
            "image/png": "[encoded data removed]",
            "text/plain": [
              "<Figure size 432x288 with 1 Axes>"
            ]
          },
          "metadata": {
            "tags": [],
            "needs_background": "light"
          }
        }
      ]
    },
    {
      "cell_type": "markdown",
      "metadata": {
        "id": "x2zTH65V6wDO"
      },
      "source": [
        "Podemos ver de las gráficas que la relación entre las categorias y el target ahora es monotónica."
      ]
    },
    {
      "cell_type": "code",
      "metadata": {
        "id": "5X_JRnXx6wDO",
        "colab": {
          "base_uri": "https://localhost:8080/",
          "height": 851
        },
        "outputId": "bc7bee23-a16c-4458-93f8-c43018ec4c7b"
      },
      "source": [
        "# ahora lo mismo en el test set\n",
        "\n",
        "for var in ['cabin', 'sex', 'embarked']:\n",
        "    \n",
        "    fig = plt.figure()\n",
        "    fig = X_test.groupby([var])['survived'].mean().plot()\n",
        "    fig.set_title('Monotonic relationship between {} and Survival'.format(var))\n",
        "    fig.set_ylabel('Mean Survived')\n",
        "    plt.show()"
      ],
      "execution_count": 28,
      "outputs": [
        {
          "output_type": "display_data",
          "data": {
            "image/png": "[encoded data removed]",
            "text/plain": [
              "<Figure size 432x288 with 1 Axes>"
            ]
          },
          "metadata": {
            "tags": [],
            "needs_background": "light"
          }
        },
        {
          "output_type": "display_data",
          "data": {
            "image/png": "[encoded data removed]",
            "text/plain": [
              "<Figure size 432x288 with 1 Axes>"
            ]
          },
          "metadata": {
            "tags": [],
            "needs_background": "light"
          }
        },
        {
          "output_type": "display_data",
          "data": {
            "image/png": "[encoded data removed]",
            "text/plain": [
              "<Figure size 432x288 with 1 Axes>"
            ]
          },
          "metadata": {
            "tags": [],
            "needs_background": "light"
          }
        }
      ]
    },
    {
      "cell_type": "markdown",
      "metadata": {
        "id": "46eBct_r6wDO"
      },
      "source": [
        "La relación monótonica no se mantiene cuando se codifican las variables categóricas del conjunto de pruebas. Esto podría significar que las categorías no son informativas o que la proporción de supervivientes no es homogénea entre las categorías del conjunto de entrenamiento pruebas\n",
        "\n",
        "En situaciones como ésta, podríamos intentar agrupar las etiquetas raras en una categoría conjunta, como veremos más adelante en esta sección, antes de aplicar la transformación del peso de la evidencia.\n",
        "\n",
        "Traducción realizada con la versión gratuita del traductor www.DeepL.com/Translator\n",
        "\n",
        "### Nota\n",
        "\n",
        "Reemplazar las etiquetas con el código anterior, va a generar valores faltantes para las categorías presentes en el set de prueba pero que no lo están en el set de entrenamiento. \n",
        "\n",
        "Por lo tanto es extremadamente importante, manejar las etiquetas poco comunes con prelación. Explicaremos como hacer esto más adelante en otro notebook.\n",
        "\n",
        "**Además, creará NA o Inf si cualquiera de los 2 términos en la proporción de la fórmula del peso de la evidencia son 0**"
      ]
    },
    {
      "cell_type": "markdown",
      "metadata": {
        "id": "5pedf1BL6wDP"
      },
      "source": [
        "## Pesos de Evidencia - Weight of Evidence con feature-engine\n",
        "\n",
        "Si usamos Feature-Engine, en lugar de pandas, no necesitamos mantener el target en el set de entrenamiento."
      ]
    },
    {
      "cell_type": "code",
      "metadata": {
        "id": "Acpf58b-6wDP",
        "colab": {
          "base_uri": "https://localhost:8080/"
        },
        "outputId": "e42c7ca9-578c-4183-b9e0-15b96daa46d5"
      },
      "source": [
        "# separemos en set de prueba y entrenamiento\n",
        "\n",
        "X_train, X_test, y_train, y_test = train_test_split(\n",
        "    data[['cabin', 'sex', 'embarked']], # predictores\n",
        "    data['survived'],  # target\n",
        "    test_size=0.3,  # porcentaje de observaciones en el set de prueba\n",
        "    random_state=0)  # semilla asegurar reproducibilidad\n",
        "X_train.shape, X_test.shape"
      ],
      "execution_count": 29,
      "outputs": [
        {
          "output_type": "execute_result",
          "data": {
            "text/plain": [
              "((914, 3), (392, 3))"
            ]
          },
          "metadata": {
            "tags": []
          },
          "execution_count": 29
        }
      ]
    },
    {
      "cell_type": "code",
      "metadata": {
        "id": "EnnEH5th6wDQ"
      },
      "source": [
        "woe_enc = WoERatioCategoricalEncoder(\n",
        "    encoding_method = 'woe',\n",
        "    variables=['cabin', 'sex', 'embarked'])"
      ],
      "execution_count": 30,
      "outputs": []
    },
    {
      "cell_type": "code",
      "metadata": {
        "id": "M9FwvD436wDQ",
        "colab": {
          "base_uri": "https://localhost:8080/"
        },
        "outputId": "09c17afb-d72f-4e8c-f8b7-d49fdbb94ab6"
      },
      "source": [
        "# cuando ajustamos el transformador, necesitamos pasar \n",
        "# el target, al igual que las otras clases de predictores de Scikit-learn \n",
        "woe_enc.fit(X_train, y_train)"
      ],
      "execution_count": 31,
      "outputs": [
        {
          "output_type": "execute_result",
          "data": {
            "text/plain": [
              "WoERatioCategoricalEncoder(encoding_method='woe',\n",
              "                           variables=['cabin', 'sex', 'embarked'])"
            ]
          },
          "metadata": {
            "tags": []
          },
          "execution_count": 31
        }
      ]
    },
    {
      "cell_type": "code",
      "metadata": {
        "scrolled": true,
        "id": "HDvH705X6wDQ",
        "colab": {
          "base_uri": "https://localhost:8080/"
        },
        "outputId": "3d08f75e-1af6-45bf-d7b6-41e110e4b5bf"
      },
      "source": [
        "# en el atributo encoder_dict_ del codificador podemos ver el WoE\n",
        "# asignado a cada una de las categoríaas por cada variable\n",
        "\n",
        "woe_enc.encoder_dict_"
      ],
      "execution_count": 32,
      "outputs": [
        {
          "output_type": "execute_result",
          "data": {
            "text/plain": [
              "{'cabin': {'A': 0.1529838185513379,\n",
              "  'B': 1.545750694176846,\n",
              "  'C': 0.9151238705982346,\n",
              "  'D': 1.3425678854251744,\n",
              "  'E': 1.356956622877274,\n",
              "  'F': 1.7136315668160063,\n",
              "  'G': 1.60827105115818,\n",
              "  'n': -0.37507116447186734},\n",
              " 'embarked': {'C': 0.658871160676746,\n",
              "  'Q': -0.3265892617105483,\n",
              "  'S': -0.16479628505772237},\n",
              " 'sex': {'female': 1.535067647134885, 'male': -1.0131107672983564}}"
            ]
          },
          "metadata": {
            "tags": []
          },
          "execution_count": 32
        }
      ]
    },
    {
      "cell_type": "code",
      "metadata": {
        "id": "jR886u8f6wDQ",
        "colab": {
          "base_uri": "https://localhost:8080/"
        },
        "outputId": "633ba48d-2827-416c-e0d5-246595480e33"
      },
      "source": [
        "# esta es la lista de variables que el codificador transforma\n",
        "woe_enc.variables"
      ],
      "execution_count": 33,
      "outputs": [
        {
          "output_type": "execute_result",
          "data": {
            "text/plain": [
              "['cabin', 'sex', 'embarked']"
            ]
          },
          "metadata": {
            "tags": []
          },
          "execution_count": 33
        }
      ]
    },
    {
      "cell_type": "code",
      "metadata": {
        "id": "W_APZWx26wDR",
        "colab": {
          "base_uri": "https://localhost:8080/",
          "height": 191
        },
        "outputId": "438a1bf7-7570-4fab-c3de-0e48a97fae8b"
      },
      "source": [
        "X_train = woe_enc.transform(X_train)\n",
        "X_test = woe_enc.transform(X_test)\n",
        "\n",
        "# exploremos el resultado\n",
        "X_train.head()"
      ],
      "execution_count": 34,
      "outputs": [
        {
          "output_type": "execute_result",
          "data": {
            "text/html": [
              "<div>\n",
              "<style scoped>\n",
              "    .dataframe tbody tr th:only-of-type {\n",
              "        vertical-align: middle;\n",
              "    }\n",
              "\n",
              "    .dataframe tbody tr th {\n",
              "        vertical-align: top;\n",
              "    }\n",
              "\n",
              "    .dataframe thead th {\n",
              "        text-align: right;\n",
              "    }\n",
              "</style>\n",
              "<table border=\"1\" class=\"dataframe\">\n",
              "  <thead>\n",
              "    <tr style=\"text-align: right;\">\n",
              "      <th></th>\n",
              "      <th>cabin</th>\n",
              "      <th>sex</th>\n",
              "      <th>embarked</th>\n",
              "    </tr>\n",
              "  </thead>\n",
              "  <tbody>\n",
              "    <tr>\n",
              "      <th>843</th>\n",
              "      <td>-0.375071</td>\n",
              "      <td>-1.013111</td>\n",
              "      <td>-0.164796</td>\n",
              "    </tr>\n",
              "    <tr>\n",
              "      <th>869</th>\n",
              "      <td>-0.375071</td>\n",
              "      <td>-1.013111</td>\n",
              "      <td>-0.164796</td>\n",
              "    </tr>\n",
              "    <tr>\n",
              "      <th>430</th>\n",
              "      <td>-0.375071</td>\n",
              "      <td>1.535068</td>\n",
              "      <td>-0.164796</td>\n",
              "    </tr>\n",
              "    <tr>\n",
              "      <th>481</th>\n",
              "      <td>-0.375071</td>\n",
              "      <td>1.535068</td>\n",
              "      <td>0.658871</td>\n",
              "    </tr>\n",
              "    <tr>\n",
              "      <th>1308</th>\n",
              "      <td>-0.375071</td>\n",
              "      <td>-1.013111</td>\n",
              "      <td>-0.164796</td>\n",
              "    </tr>\n",
              "  </tbody>\n",
              "</table>\n",
              "</div>"
            ],
            "text/plain": [
              "         cabin       sex  embarked\n",
              "843  -0.375071 -1.013111 -0.164796\n",
              "869  -0.375071 -1.013111 -0.164796\n",
              "430  -0.375071  1.535068 -0.164796\n",
              "481  -0.375071  1.535068  0.658871\n",
              "1308 -0.375071 -1.013111 -0.164796"
            ]
          },
          "metadata": {
            "tags": []
          },
          "execution_count": 34
        }
      ]
    },
    {
      "cell_type": "markdown",
      "metadata": {
        "id": "lLZFzuYD6wDR"
      },
      "source": [
        "**Nota**\n",
        "\n",
        "Si el argmento 'variables' se fija en 'None' (ninguno), entonces el codificador automáticamente indentificará  **todas las variables categóricas**. Maravilloso verdad?\n",
        "\n",
        "El codificador no codificará las variables numéricas. Por lo tanto, si algunas de tus variables categóricas son de hecho numéricas, necesitas hacer el 're-cast' o cambio a tipo 'object' antes de usar el codificador.\n",
        "\n",
        "Si hay una variable en el set de prueba, para el cual el codificador no tiene un número para asignar ( la categoría no estaba presente en el set de entrenamiento), el codificador devolverá un error para alertarte del problema.\n",
        "\n",
        "Finalmente, si la probabilidad del target = 0 es cero para cualquier categoría, el codificador devolverá un error ya que la división por cero no esta definida."
      ]
    },
    {
      "cell_type": "markdown",
      "metadata": {
        "id": "8AczVF356wDR"
      },
      "source": [
        "## Peso de Evidencia - Weight of Evidence with Category Encoders\n",
        "\n",
        "Si usamos Categoru encoders, en lugar de pandas, no necesitamos mantener el target en el set de entrenamiento."
      ]
    },
    {
      "cell_type": "code",
      "metadata": {
        "id": "sOlYQ6WM6wDR",
        "colab": {
          "base_uri": "https://localhost:8080/"
        },
        "outputId": "b10cbf24-0dab-46c3-c01a-a70edf3b29c9"
      },
      "source": [
        "# separemos en set de prueba y entrenamiento\n",
        "\n",
        "X_train, X_test, y_train, y_test = train_test_split(\n",
        "    data[['cabin', 'sex', 'embarked']], # predictores\n",
        "    data['survived'],  # target\n",
        "    test_size=0.3,  # porcentaje de observaciones en el set de prueba\n",
        "    random_state=0)  # semilla asegurar reproducibilidad\n",
        "X_train.shape, X_test.shape"
      ],
      "execution_count": 35,
      "outputs": [
        {
          "output_type": "execute_result",
          "data": {
            "text/plain": [
              "((914, 3), (392, 3))"
            ]
          },
          "metadata": {
            "tags": []
          },
          "execution_count": 35
        }
      ]
    },
    {
      "cell_type": "code",
      "metadata": {
        "id": "9BgBsVkY6wDR"
      },
      "source": [
        "woe_enc = WOEEncoder(cols=['cabin', 'sex', 'embarked'])"
      ],
      "execution_count": 36,
      "outputs": []
    },
    {
      "cell_type": "code",
      "metadata": {
        "id": "RURQuuZu6wDS",
        "colab": {
          "base_uri": "https://localhost:8080/"
        },
        "outputId": "0edb08f5-4f34-4503-a0af-5a2c2c9cbae5"
      },
      "source": [
        "woe_enc.fit(X_train, y_train)"
      ],
      "execution_count": 37,
      "outputs": [
        {
          "output_type": "stream",
          "text": [
            "/usr/local/lib/python3.6/dist-packages/category_encoders/utils.py:21: FutureWarning: is_categorical is deprecated and will be removed in a future version.  Use is_categorical_dtype instead\n",
            "  elif pd.api.types.is_categorical(cols):\n"
          ],
          "name": "stderr"
        },
        {
          "output_type": "execute_result",
          "data": {
            "text/plain": [
              "WOEEncoder(cols=['cabin', 'sex', 'embarked'], drop_invariant=False,\n",
              "           handle_missing='value', handle_unknown='value', random_state=None,\n",
              "           randomized=False, regularization=1.0, return_df=True, sigma=0.05,\n",
              "           verbose=0)"
            ]
          },
          "metadata": {
            "tags": []
          },
          "execution_count": 37
        }
      ]
    },
    {
      "cell_type": "code",
      "metadata": {
        "id": "wy1IgXGS6wDS",
        "colab": {
          "base_uri": "https://localhost:8080/"
        },
        "outputId": "b4b27657-2f18-455e-ac2b-646b41e0ba87"
      },
      "source": [
        "# los mapeos en los codificadores de categorías no son tan fáciles de interpretar\n",
        "woe_enc.mapping"
      ],
      "execution_count": 38,
      "outputs": [
        {
          "output_type": "execute_result",
          "data": {
            "text/plain": [
              "{'cabin': cabin\n",
              "  1   -0.374548\n",
              "  2    1.287500\n",
              "  3    1.295799\n",
              "  4    0.901246\n",
              "  5    1.518942\n",
              "  6    0.188888\n",
              "  7    1.488171\n",
              "  8    1.200488\n",
              " -1    0.000000\n",
              " -2    0.000000\n",
              " dtype: float64, 'embarked': embarked\n",
              "  1   -0.164851\n",
              "  2    0.654977\n",
              "  3   -0.307696\n",
              " -1    0.000000\n",
              " -2    0.000000\n",
              " dtype: float64, 'sex': sex\n",
              "  1   -1.008094\n",
              "  2    1.525265\n",
              " -1    0.000000\n",
              " -2    0.000000\n",
              " dtype: float64}"
            ]
          },
          "metadata": {
            "tags": []
          },
          "execution_count": 38
        }
      ]
    },
    {
      "cell_type": "code",
      "metadata": {
        "id": "g3nxRmGZ6wDS",
        "colab": {
          "base_uri": "https://localhost:8080/",
          "height": 191
        },
        "outputId": "f522b164-fbd1-4728-de48-6c2ce9e6ec8f"
      },
      "source": [
        "X_train = woe_enc.transform(X_train)\n",
        "X_test = woe_enc.transform(X_test)\n",
        "\n",
        "# exploremos el resultado\n",
        "X_train.head()"
      ],
      "execution_count": 39,
      "outputs": [
        {
          "output_type": "execute_result",
          "data": {
            "text/html": [
              "<div>\n",
              "<style scoped>\n",
              "    .dataframe tbody tr th:only-of-type {\n",
              "        vertical-align: middle;\n",
              "    }\n",
              "\n",
              "    .dataframe tbody tr th {\n",
              "        vertical-align: top;\n",
              "    }\n",
              "\n",
              "    .dataframe thead th {\n",
              "        text-align: right;\n",
              "    }\n",
              "</style>\n",
              "<table border=\"1\" class=\"dataframe\">\n",
              "  <thead>\n",
              "    <tr style=\"text-align: right;\">\n",
              "      <th></th>\n",
              "      <th>cabin</th>\n",
              "      <th>sex</th>\n",
              "      <th>embarked</th>\n",
              "    </tr>\n",
              "  </thead>\n",
              "  <tbody>\n",
              "    <tr>\n",
              "      <th>843</th>\n",
              "      <td>-0.374548</td>\n",
              "      <td>-1.008094</td>\n",
              "      <td>-0.164851</td>\n",
              "    </tr>\n",
              "    <tr>\n",
              "      <th>869</th>\n",
              "      <td>-0.374548</td>\n",
              "      <td>-1.008094</td>\n",
              "      <td>-0.164851</td>\n",
              "    </tr>\n",
              "    <tr>\n",
              "      <th>430</th>\n",
              "      <td>-0.374548</td>\n",
              "      <td>1.525265</td>\n",
              "      <td>-0.164851</td>\n",
              "    </tr>\n",
              "    <tr>\n",
              "      <th>481</th>\n",
              "      <td>-0.374548</td>\n",
              "      <td>1.525265</td>\n",
              "      <td>0.654977</td>\n",
              "    </tr>\n",
              "    <tr>\n",
              "      <th>1308</th>\n",
              "      <td>-0.374548</td>\n",
              "      <td>-1.008094</td>\n",
              "      <td>-0.164851</td>\n",
              "    </tr>\n",
              "  </tbody>\n",
              "</table>\n",
              "</div>"
            ],
            "text/plain": [
              "         cabin       sex  embarked\n",
              "843  -0.374548 -1.008094 -0.164851\n",
              "869  -0.374548 -1.008094 -0.164851\n",
              "430  -0.374548  1.525265 -0.164851\n",
              "481  -0.374548  1.525265  0.654977\n",
              "1308 -0.374548 -1.008094 -0.164851"
            ]
          },
          "metadata": {
            "tags": []
          },
          "execution_count": 39
        }
      ]
    },
    {
      "cell_type": "code",
      "metadata": {
        "id": "IsCWtWIfAHX_"
      },
      "source": [
        ""
      ],
      "execution_count": null,
      "outputs": []
    }
  ]
}