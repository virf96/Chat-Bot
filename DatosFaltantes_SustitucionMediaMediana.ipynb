{
  "nbformat": 4,
  "nbformat_minor": 0,
  "metadata": {
    "kernelspec": {
      "display_name": "ftools",
      "language": "python",
      "name": "ftools"
    },
    "language_info": {
      "codemirror_mode": {
        "name": "ipython",
        "version": 3
      },
      "file_extension": ".py",
      "mimetype": "text/x-python",
      "name": "python",
      "nbconvert_exporter": "python",
      "pygments_lexer": "ipython3",
      "version": "3.7.3"
    },
    "toc": {
      "nav_menu": {},
      "number_sections": true,
      "sideBar": true,
      "skip_h1_title": false,
      "toc_cell": false,
      "toc_position": {
        "height": "556px",
        "left": "0px",
        "right": "1156.4px",
        "top": "107px",
        "width": "278px"
      },
      "toc_section_display": "block",
      "toc_window_display": true
    },
    "colab": {
      "name": "DatosFaltantes_SustitucionMediaMediana.ipynb",
      "provenance": [],
      "include_colab_link": true
    }
  },
  "cells": [
    {
      "cell_type": "markdown",
      "metadata": {
        "id": "view-in-github",
        "colab_type": "text"
      },
      "source": [
        "<a href=\"https://colab.research.google.com/github/virf96/Chat-Bot/blob/master/DatosFaltantes_SustitucionMediaMediana.ipynb\" target=\"_parent\"><img src=\"https://colab.research.google.com/assets/colab-badge.svg\" alt=\"Open In Colab\"/></a>"
      ]
    },
    {
      "cell_type": "markdown",
      "metadata": {
        "id": "oJ1YimMDaiSt"
      },
      "source": [
        "## Sustitución por la Media/Mediana\n",
        "\n",
        "Los métodos de imputación consisten en estimar los valores faltantes en base a los valores existentes de la variable. El objetivo de cualquier método de imputación es producir un **conjunto completo** de datos que pueda ser utilizado por un algoritmo de aprendizaje de máquina.\n",
        "Sustitución por la media o la mediana consiste en reemplazar los valores ausentes con la media (si la variable está normalmente distribuida) o la mediana (si la variable tiene una distribución sesgada).\n",
        "\n",
        "**Nota**:\n",
        "\n",
        "- Si la variable tiene una distribución Gaussiana, la media, la mediana y la moda toman aproximadamente el mismo valor. Por lo tanto es equivalente, sustituir valores nulos con la media o la mediana. Sustitución por la moda, no es una práctica muy usada para las variables numéricas.\n",
        "- Si la variable tiene una distribución sesgada, la media está inclinada hacia los valores que están al extremo de la distribución. Por lo tanto, la mediana es una mejor representación de la mayoría de los valores en una variable. \n",
        "- Para las variables discretas de tipo int (que ocupa menos memoria), la media puede que no sea un número entero, por lo tanto tras la imputación, la variable puede ser re-formateada como 'float'. Para evitar este comportamiento, los valores faltantes pueden ser reemplazados por la mediana. La mediana siempre será un entero/ valor discreto también, si la variable original es entera.\n",
        "\n",
        "\n",
        "### Cuáles variables se pueden sustituir con la media/mediana?\n",
        "\n",
        "La media y la mediana solo pueden ser calculadas sobre variables numéricas, por lo tanto estos métodos solo son apropiados para variables numéricas.\n",
        "\n",
        "\n",
        "### Supuestos\n",
        "\n",
        "- Los datos faltan de forma completamente aleatoria (MCAR)\n",
        "- Lo más probable es que las observaciones ausentes tengan valores como el de la mayoría de las observaciones en la variable (o sea la media/mediana)\n",
        "\n",
        "Si los datos faltan de forma completamente aleatoria, entonces es razonable asumir que los valores ausentes estarán probablemente cerca a la media o la mediana de la distribución, ya que estos representan las observaciones más frecuentes/promedio.\n",
        "\n",
        "\n",
        "### Ventajas\n",
        "\n",
        "- Fácil de implementar\n",
        "- Forma rápida de obtener conjuntos completos de datos\n",
        "- Puede ser integrado en producción (durante el despliegue del modelo)\n",
        "\n",
        "### Limitaciones\n",
        "\n",
        "- Distorsión de la distribución original de la variable\n",
        "- Distorsión de la varianza original\n",
        "- Distorsión de la covarianza con las otras variables en los datos.\n",
        "\n",
        "Cuando se sustituyen los valores nulos con la media o la mediana, la varianza de la variable se verá distorsionada si el número de valores faltantes es grande con respecto al número total de las observaciones. \n",
        "\n",
        "Adicionalmente, la covarianza y las correlaciones con las otras variables del conjunto de datos se pueden afectar ya que la media/mediana que reemplaza ahora los valores faltantes no necesariamente preserva la relación con las variables restantes.\n",
        "\n",
        "Finalmente, concentrar todos los valores faltantes alrededor de la media/mediana, puede llevar a que observaciones que normalmente se esperan para dicha distribución, se vean o detecten como valores atípicos  o de baja probabilidad de ocurrencia.\n",
        "\n",
        "### Cuando usar la sustitución por con la media/mediana?\n",
        "\n",
        "- Los datos faltan de forma completamente aleatoria (MCAR)\n",
        "- No más del 5% de las observaciones de la variable tienen datos faltantes\n",
        "\n",
        "Aunque en teoría, las condiciones anteriores se deberían cumplir para minimizar el impacto de estas técnicas de sustitución, en la práctica, estas se usan comúnmente, así los datos no falten al azar el porcentaje de ausencia sea mayor al 5%. La razón es simple, la técnica es sencilla.\n",
        "\n",
        "\n",
        "### Nota final\n",
        "\n",
        "La sustitución de valores nulos por la media/mediana se usa ampliamente en la comunidad de ciencia de datos y en varias competiciones. Por ejemplo, mira la solución ganadora de la copa KDD 2009 : [\"Winning the KDD Cup Orange Challenge with Ensemble Selection\"]( http://www.mtome.com/Publications/CiML/CiML-v3-book.pdf).\n",
        "\n",
        "Típicamente, este tipo de sustitución se usa en conjunto con la adición de una variable binaria llamada \"missing indicator\" o indicador de ausencia, para capturar las observaciones donde los datos están ausentes (para más detalles ver la clase en \"indicador de ausencia\"). De esta forma se logran dos cosas: si los valores ausentes son realmente aleatorios, este efecto se captura por la sustitución por media/mediana y si no lo son, el efecto se captura con el indicador. Ambos métodos son fáciles de implementar, y por lo tanto son muy populares en las competencias de ciencia de datos.\n",
        "\n",
        "## En este demo:\n",
        "\n",
        "Vamos a aprender cómo implementar la sustitución por la media y la mediana usando pandas y los datos Ames House Price y Titanic.\n",
        "\n",
        "- Para bajar los datos, por favor referirse a la clase en **Datasets** en la  **Sección 1** del curso.\n"
      ]
    },
    {
      "cell_type": "code",
      "metadata": {
        "id": "4qcOXjUCaiSt"
      },
      "source": [
        "import pandas as pd\n",
        "import numpy as np\n",
        "\n",
        "import matplotlib.pyplot as plt\n",
        "\n",
        "# dividir los datos \n",
        "from sklearn.model_selection import train_test_split"
      ],
      "execution_count": 1,
      "outputs": []
    },
    {
      "cell_type": "code",
      "metadata": {
        "id": "60VOk9yIXYqu",
        "outputId": "ebf9d35c-412a-4a5c-cd5a-5ad6f9f31ca7",
        "colab": {
          "base_uri": "https://localhost:8080/",
          "height": 34
        }
      },
      "source": [
        "from google.colab import drive\n",
        "drive.mount('/content/drive')"
      ],
      "execution_count": 2,
      "outputs": [
        {
          "output_type": "stream",
          "text": [
            "Mounted at /content/drive\n"
          ],
          "name": "stdout"
        }
      ]
    },
    {
      "cell_type": "markdown",
      "metadata": {
        "id": "7xGaWuD0aiSw"
      },
      "source": [
        "## Titanic"
      ]
    },
    {
      "cell_type": "code",
      "metadata": {
        "id": "x2EoAhFaaiSx",
        "outputId": "e3822c6f-1c5d-4ce3-dea6-43ae7033ccd0",
        "colab": {
          "base_uri": "https://localhost:8080/",
          "height": 204
        }
      },
      "source": [
        "# cargar los datos del titanic con solo unas columnas\n",
        "\n",
        "data = pd.read_csv('/content/drive/My Drive/datasets/titanic.csv', usecols=['age', 'fare', 'survived'])\n",
        "data.head()"
      ],
      "execution_count": 3,
      "outputs": [
        {
          "output_type": "execute_result",
          "data": {
            "text/html": [
              "<div>\n",
              "<style scoped>\n",
              "    .dataframe tbody tr th:only-of-type {\n",
              "        vertical-align: middle;\n",
              "    }\n",
              "\n",
              "    .dataframe tbody tr th {\n",
              "        vertical-align: top;\n",
              "    }\n",
              "\n",
              "    .dataframe thead th {\n",
              "        text-align: right;\n",
              "    }\n",
              "</style>\n",
              "<table border=\"1\" class=\"dataframe\">\n",
              "  <thead>\n",
              "    <tr style=\"text-align: right;\">\n",
              "      <th></th>\n",
              "      <th>survived</th>\n",
              "      <th>age</th>\n",
              "      <th>fare</th>\n",
              "    </tr>\n",
              "  </thead>\n",
              "  <tbody>\n",
              "    <tr>\n",
              "      <th>0</th>\n",
              "      <td>1</td>\n",
              "      <td>29.0000</td>\n",
              "      <td>211.3375</td>\n",
              "    </tr>\n",
              "    <tr>\n",
              "      <th>1</th>\n",
              "      <td>1</td>\n",
              "      <td>0.9167</td>\n",
              "      <td>151.5500</td>\n",
              "    </tr>\n",
              "    <tr>\n",
              "      <th>2</th>\n",
              "      <td>0</td>\n",
              "      <td>2.0000</td>\n",
              "      <td>151.5500</td>\n",
              "    </tr>\n",
              "    <tr>\n",
              "      <th>3</th>\n",
              "      <td>0</td>\n",
              "      <td>30.0000</td>\n",
              "      <td>151.5500</td>\n",
              "    </tr>\n",
              "    <tr>\n",
              "      <th>4</th>\n",
              "      <td>0</td>\n",
              "      <td>25.0000</td>\n",
              "      <td>151.5500</td>\n",
              "    </tr>\n",
              "  </tbody>\n",
              "</table>\n",
              "</div>"
            ],
            "text/plain": [
              "   survived      age      fare\n",
              "0         1  29.0000  211.3375\n",
              "1         1   0.9167  151.5500\n",
              "2         0   2.0000  151.5500\n",
              "3         0  30.0000  151.5500\n",
              "4         0  25.0000  151.5500"
            ]
          },
          "metadata": {
            "tags": []
          },
          "execution_count": 3
        }
      ]
    },
    {
      "cell_type": "code",
      "metadata": {
        "id": "jeRodVT9aiS0",
        "outputId": "37efe443-870e-44bf-ca43-e3eb47207c6a",
        "colab": {
          "base_uri": "https://localhost:8080/",
          "height": 85
        }
      },
      "source": [
        "# porcentaje de valores faltantes\n",
        "#Tenemos el 20% de valore faltantes en edad, la cantidad es muy alta para querer imputarla, podría cambiar \n",
        "#drasticamente la distribución de la variable.\n",
        "data.isnull().mean()"
      ],
      "execution_count": 4,
      "outputs": [
        {
          "output_type": "execute_result",
          "data": {
            "text/plain": [
              "survived    0.000000\n",
              "age         0.200917\n",
              "fare        0.000764\n",
              "dtype: float64"
            ]
          },
          "metadata": {
            "tags": []
          },
          "execution_count": 4
        }
      ]
    },
    {
      "cell_type": "markdown",
      "metadata": {
        "id": "BKEHElZ9aiS2"
      },
      "source": [
        "La media y la mediana utilizadas para reemplazar los valores faltantes, debe estimarse utilizando el set de entrenamiento solamente. Luego, estos parámetros se utilizan para sustituir los datos faltantes en el set de prueba.\n",
        "Esto significa que el mismo valor de media/mediana deber ser usado para sustituir los valores ausentes en ambos segmentos - entrenamiento y prueba, pero dicho valor se calcula solamente del segmento de entrenamiento. \n",
        "Esto se es para evitar sobre-ajustes, y contaminación del segmento de prueba o de los parámetros aprendidos con muestras del set de entrenamiento."
      ]
    },
    {
      "cell_type": "code",
      "metadata": {
        "id": "Ks2ZfMVSaiS3",
        "outputId": "cf2127e4-474f-4b09-8304-6ddb7be592ca",
        "colab": {
          "base_uri": "https://localhost:8080/",
          "height": 34
        }
      },
      "source": [
        "# separemos datos para modelamiento y prueba\n",
        "\n",
        "X_train, X_test, y_train, y_test = train_test_split(\n",
        "    data[['age', 'fare']],  # variables\n",
        "    data['survived'],  # target\n",
        "    test_size=0.3,  # porcentaje de obs en test set\n",
        "    random_state=0)  # seed para reproducibilidad\n",
        "\n",
        "X_train.shape, X_test.shape"
      ],
      "execution_count": 5,
      "outputs": [
        {
          "output_type": "execute_result",
          "data": {
            "text/plain": [
              "((916, 2), (393, 2))"
            ]
          },
          "metadata": {
            "tags": []
          },
          "execution_count": 5
        }
      ]
    },
    {
      "cell_type": "code",
      "metadata": {
        "id": "EOcb2yljaiS5",
        "outputId": "ba2b9652-c0eb-469c-a90d-783116aa6925",
        "colab": {
          "base_uri": "https://localhost:8080/",
          "height": 68
        }
      },
      "source": [
        "# exploremos datos nulos en el segmento de entrenamiento\n",
        "# el porcentaje debe ser similar que para todo el \n",
        "# conjunto de datos\n",
        "\n",
        "#El set de entrenamiento tiene ahora el 19% de missing values y 0% de missing values en fare\n",
        "#Recordemos que ha cambiado porque tenemos el 70% del set original\n",
        "X_train.isnull().mean()"
      ],
      "execution_count": 7,
      "outputs": [
        {
          "output_type": "execute_result",
          "data": {
            "text/plain": [
              "age     0.191048\n",
              "fare    0.000000\n",
              "dtype: float64"
            ]
          },
          "metadata": {
            "tags": []
          },
          "execution_count": 7
        }
      ]
    },
    {
      "cell_type": "code",
      "metadata": {
        "id": "XHQ4RFD6aiS8"
      },
      "source": [
        "# creemos una función para sustituir los valores faltantes\n",
        "# con la media o la mediana\n",
        "# la función toma como argumentos:\n",
        "# dataframe, variable, y el valor de media/mediana\n",
        "# retorna la variable con los valores sustituidos\n",
        "\n",
        "def impute_na(df, variable, mean_median):\n",
        "\n",
        "    return df[variable].fillna(mean_median)"
      ],
      "execution_count": 8,
      "outputs": []
    },
    {
      "cell_type": "code",
      "metadata": {
        "id": "l_QNPHmxaiS-",
        "outputId": "17e59f00-1e2d-47d2-a361-6001e242f7d3",
        "colab": {
          "base_uri": "https://localhost:8080/",
          "height": 34
        }
      },
      "source": [
        "# calcular la mediana de \"Age\"\n",
        "\n",
        "median = X_train.age.median()\n",
        "median"
      ],
      "execution_count": 9,
      "outputs": [
        {
          "output_type": "execute_result",
          "data": {
            "text/plain": [
              "28.0"
            ]
          },
          "metadata": {
            "tags": []
          },
          "execution_count": 9
        }
      ]
    },
    {
      "cell_type": "code",
      "metadata": {
        "id": "yOH-HU8waiTB",
        "outputId": "bd2e345b-c3e7-4bac-dff3-02957deb656d",
        "colab": {
          "base_uri": "https://localhost:8080/",
          "height": 34
        }
      },
      "source": [
        "# calcular el promedio-media de  Age\n",
        "\n",
        "mean = X_train.age.mean()\n",
        "mean"
      ],
      "execution_count": 10,
      "outputs": [
        {
          "output_type": "execute_result",
          "data": {
            "text/plain": [
              "30.23144399460189"
            ]
          },
          "metadata": {
            "tags": []
          },
          "execution_count": 10
        }
      ]
    },
    {
      "cell_type": "code",
      "metadata": {
        "id": "5XD0ieI-aiTD",
        "outputId": "aec2bc87-3e6d-4d36-ab77-ce364a4d80cd",
        "colab": {
          "base_uri": "https://localhost:8080/",
          "height": 514
        }
      },
      "source": [
        "# creemos una nueva variable con los valores nulos reemplazados\n",
        "#Utilizaremos la función creado para reemplazar los missing vales con \"promedio\" y \"mediana\"\n",
        "#Después analizaremos que tanto cambio la distribución\n",
        "\n",
        "# primero reemplazar con la mediana \n",
        "X_train['age_median'] = impute_na(X_train, 'age', median)\n",
        "\n",
        "# ahora reemplazar con la media\n",
        "X_train['age_mean'] = impute_na(X_train, 'age', mean)\n",
        "\n",
        "# la media contiene muchos decimales, redondeemos a 1 dígito\n",
        "# usando NummPy\n",
        "X_train['age_mean'] = np.round(X_train['age_mean'], 1)\n",
        "\n",
        "X_train.head(15)"
      ],
      "execution_count": 11,
      "outputs": [
        {
          "output_type": "execute_result",
          "data": {
            "text/html": [
              "<div>\n",
              "<style scoped>\n",
              "    .dataframe tbody tr th:only-of-type {\n",
              "        vertical-align: middle;\n",
              "    }\n",
              "\n",
              "    .dataframe tbody tr th {\n",
              "        vertical-align: top;\n",
              "    }\n",
              "\n",
              "    .dataframe thead th {\n",
              "        text-align: right;\n",
              "    }\n",
              "</style>\n",
              "<table border=\"1\" class=\"dataframe\">\n",
              "  <thead>\n",
              "    <tr style=\"text-align: right;\">\n",
              "      <th></th>\n",
              "      <th>age</th>\n",
              "      <th>fare</th>\n",
              "      <th>age_median</th>\n",
              "      <th>age_mean</th>\n",
              "    </tr>\n",
              "  </thead>\n",
              "  <tbody>\n",
              "    <tr>\n",
              "      <th>501</th>\n",
              "      <td>13.0</td>\n",
              "      <td>19.5000</td>\n",
              "      <td>13.0</td>\n",
              "      <td>13.0</td>\n",
              "    </tr>\n",
              "    <tr>\n",
              "      <th>588</th>\n",
              "      <td>4.0</td>\n",
              "      <td>23.0000</td>\n",
              "      <td>4.0</td>\n",
              "      <td>4.0</td>\n",
              "    </tr>\n",
              "    <tr>\n",
              "      <th>402</th>\n",
              "      <td>30.0</td>\n",
              "      <td>13.8583</td>\n",
              "      <td>30.0</td>\n",
              "      <td>30.0</td>\n",
              "    </tr>\n",
              "    <tr>\n",
              "      <th>1193</th>\n",
              "      <td>NaN</td>\n",
              "      <td>7.7250</td>\n",
              "      <td>28.0</td>\n",
              "      <td>30.2</td>\n",
              "    </tr>\n",
              "    <tr>\n",
              "      <th>686</th>\n",
              "      <td>22.0</td>\n",
              "      <td>7.7250</td>\n",
              "      <td>22.0</td>\n",
              "      <td>22.0</td>\n",
              "    </tr>\n",
              "    <tr>\n",
              "      <th>971</th>\n",
              "      <td>NaN</td>\n",
              "      <td>7.8792</td>\n",
              "      <td>28.0</td>\n",
              "      <td>30.2</td>\n",
              "    </tr>\n",
              "    <tr>\n",
              "      <th>117</th>\n",
              "      <td>30.0</td>\n",
              "      <td>56.9292</td>\n",
              "      <td>30.0</td>\n",
              "      <td>30.0</td>\n",
              "    </tr>\n",
              "    <tr>\n",
              "      <th>540</th>\n",
              "      <td>2.0</td>\n",
              "      <td>26.0000</td>\n",
              "      <td>2.0</td>\n",
              "      <td>2.0</td>\n",
              "    </tr>\n",
              "    <tr>\n",
              "      <th>294</th>\n",
              "      <td>49.0</td>\n",
              "      <td>110.8833</td>\n",
              "      <td>49.0</td>\n",
              "      <td>49.0</td>\n",
              "    </tr>\n",
              "    <tr>\n",
              "      <th>261</th>\n",
              "      <td>35.0</td>\n",
              "      <td>26.2875</td>\n",
              "      <td>35.0</td>\n",
              "      <td>35.0</td>\n",
              "    </tr>\n",
              "    <tr>\n",
              "      <th>587</th>\n",
              "      <td>2.0</td>\n",
              "      <td>23.0000</td>\n",
              "      <td>2.0</td>\n",
              "      <td>2.0</td>\n",
              "    </tr>\n",
              "    <tr>\n",
              "      <th>489</th>\n",
              "      <td>42.0</td>\n",
              "      <td>26.0000</td>\n",
              "      <td>42.0</td>\n",
              "      <td>42.0</td>\n",
              "    </tr>\n",
              "    <tr>\n",
              "      <th>2</th>\n",
              "      <td>2.0</td>\n",
              "      <td>151.5500</td>\n",
              "      <td>2.0</td>\n",
              "      <td>2.0</td>\n",
              "    </tr>\n",
              "    <tr>\n",
              "      <th>405</th>\n",
              "      <td>18.0</td>\n",
              "      <td>13.0000</td>\n",
              "      <td>18.0</td>\n",
              "      <td>18.0</td>\n",
              "    </tr>\n",
              "    <tr>\n",
              "      <th>1284</th>\n",
              "      <td>NaN</td>\n",
              "      <td>8.0500</td>\n",
              "      <td>28.0</td>\n",
              "      <td>30.2</td>\n",
              "    </tr>\n",
              "  </tbody>\n",
              "</table>\n",
              "</div>"
            ],
            "text/plain": [
              "       age      fare  age_median  age_mean\n",
              "501   13.0   19.5000        13.0      13.0\n",
              "588    4.0   23.0000         4.0       4.0\n",
              "402   30.0   13.8583        30.0      30.0\n",
              "1193   NaN    7.7250        28.0      30.2\n",
              "686   22.0    7.7250        22.0      22.0\n",
              "971    NaN    7.8792        28.0      30.2\n",
              "117   30.0   56.9292        30.0      30.0\n",
              "540    2.0   26.0000         2.0       2.0\n",
              "294   49.0  110.8833        49.0      49.0\n",
              "261   35.0   26.2875        35.0      35.0\n",
              "587    2.0   23.0000         2.0       2.0\n",
              "489   42.0   26.0000        42.0      42.0\n",
              "2      2.0  151.5500         2.0       2.0\n",
              "405   18.0   13.0000        18.0      18.0\n",
              "1284   NaN    8.0500        28.0      30.2"
            ]
          },
          "metadata": {
            "tags": []
          },
          "execution_count": 11
        }
      ]
    },
    {
      "cell_type": "markdown",
      "metadata": {
        "id": "-zNpSh9oaiTF"
      },
      "source": [
        "Miremos a las filas con valores nulos (NaN) en age, y comparemos con las nuevas variables con los valores sustituidos por ya sea la media 30 o la mediana 28\n"
      ]
    },
    {
      "cell_type": "code",
      "metadata": {
        "id": "gxwl7S9taiTG",
        "outputId": "751d1efb-8fdb-4604-d16f-662d28db564f",
        "colab": {
          "base_uri": "https://localhost:8080/",
          "height": 68
        }
      },
      "source": [
        "# vemos como la varianza cambia luego de la sustitución\n",
        "# esto es de esperarse, porque el porcentaje de valores ausentes \n",
        "# es relativamente grande en age, ~20%\n",
        "\n",
        "#En este caso probamos con el promedio y la mediana dado que la distribución original es parecida a una gaussiana.\n",
        "\n",
        "print('Varianza variable original: ', X_train['age'].var())\n",
        "print('Varianza luego de sustitución por mediana: ', X_train['age_median'].var())\n",
        "print('Varianza luego de sustitución por media: ', X_train['age_mean'].var())"
      ],
      "execution_count": 12,
      "outputs": [
        {
          "output_type": "stream",
          "text": [
            "Varianza variable original:  194.16304666581854\n",
            "Varianza luego de sustitución por mediana:  157.7984295760209\n",
            "Varianza luego de sustitución por media:  157.02170735199397\n"
          ],
          "name": "stdout"
        }
      ]
    },
    {
      "cell_type": "markdown",
      "metadata": {
        "id": "w7E5BeVWaiTI"
      },
      "source": [
        "La varianza es subestimada, porque ahora muchas observaciones tienen el mismo valor en age (ya sea la media o mediana)\n"
      ]
    },
    {
      "cell_type": "code",
      "metadata": {
        "id": "ZxKTV45XaiTJ",
        "outputId": "5acf8207-4926-4a64-ccfe-25170c794205",
        "colab": {
          "base_uri": "https://localhost:8080/",
          "height": 282
        }
      },
      "source": [
        "# Comparemos las distribuciones\n",
        "\n",
        "fig = plt.figure()\n",
        "ax = fig.add_subplot(111)\n",
        "\n",
        "# distribución original de la variable\n",
        "X_train['age'].plot(kind='kde', ax=ax)\n",
        "\n",
        "# distribución variable sustituida con mediana\n",
        "X_train['age_median'].plot(kind='kde', ax=ax, color='red')\n",
        "\n",
        "# distribución variable sustituida con media\n",
        "X_train['age_mean'].plot(kind='kde', ax=ax, color='green')\n",
        "\n",
        "# etiquetas \n",
        "lines, labels = ax.get_legend_handles_labels()\n",
        "ax.legend(lines, labels, loc='best')"
      ],
      "execution_count": 13,
      "outputs": [
        {
          "output_type": "execute_result",
          "data": {
            "text/plain": [
              "<matplotlib.legend.Legend at 0x7fdc3df27860>"
            ]
          },
          "metadata": {
            "tags": []
          },
          "execution_count": 13
        },
        {
          "output_type": "display_data",
          "data": {
            "image/png": "[encoded data removed]",
            "text/plain": [
              "<Figure size 432x288 with 1 Axes>"
            ]
          },
          "metadata": {
            "tags": [],
            "needs_background": "light"
          }
        }
      ]
    },
    {
      "cell_type": "markdown",
      "metadata": {
        "id": "781TKBudaiTL"
      },
      "source": [
        "La distribución de la variable cambia, ya que ahora hay muchos más valores acumulados hacia la media o la mediana.\n",
        "\n",
        "**Es esto importante?**\n",
        "\n",
        "Depende del modelo de machine learning que se quiera construir. Los modelos lineales asumen que las variables están normalmente distribuidas. La sustitución por la media/mediana puede distorsionar la distribución normal original si el porcentaje de valores ausentes es alto y por lo tanto afectar el desempeño del modelo lineal.\n"
      ]
    },
    {
      "cell_type": "code",
      "metadata": {
        "id": "XUhgnqViaiTM",
        "outputId": "b81c52ec-b07f-4b14-ab09-5c59e34a2da0",
        "colab": {
          "base_uri": "https://localhost:8080/",
          "height": 173
        }
      },
      "source": [
        "# la sustitución por media / mediana también puede afectar\n",
        "# la relación con las otras variables en los datos\n",
        "\n",
        "X_train[['fare', 'age', 'age_median', 'age_mean']].cov()"
      ],
      "execution_count": 14,
      "outputs": [
        {
          "output_type": "execute_result",
          "data": {
            "text/html": [
              "<div>\n",
              "<style scoped>\n",
              "    .dataframe tbody tr th:only-of-type {\n",
              "        vertical-align: middle;\n",
              "    }\n",
              "\n",
              "    .dataframe tbody tr th {\n",
              "        vertical-align: top;\n",
              "    }\n",
              "\n",
              "    .dataframe thead th {\n",
              "        text-align: right;\n",
              "    }\n",
              "</style>\n",
              "<table border=\"1\" class=\"dataframe\">\n",
              "  <thead>\n",
              "    <tr style=\"text-align: right;\">\n",
              "      <th></th>\n",
              "      <th>fare</th>\n",
              "      <th>age</th>\n",
              "      <th>age_median</th>\n",
              "      <th>age_mean</th>\n",
              "    </tr>\n",
              "  </thead>\n",
              "  <tbody>\n",
              "    <tr>\n",
              "      <th>fare</th>\n",
              "      <td>2248.326729</td>\n",
              "      <td>136.176223</td>\n",
              "      <td>114.961682</td>\n",
              "      <td>110.198311</td>\n",
              "    </tr>\n",
              "    <tr>\n",
              "      <th>age</th>\n",
              "      <td>136.176223</td>\n",
              "      <td>194.163047</td>\n",
              "      <td>194.163047</td>\n",
              "      <td>194.159033</td>\n",
              "    </tr>\n",
              "    <tr>\n",
              "      <th>age_median</th>\n",
              "      <td>114.961682</td>\n",
              "      <td>194.163047</td>\n",
              "      <td>157.798430</td>\n",
              "      <td>157.035694</td>\n",
              "    </tr>\n",
              "    <tr>\n",
              "      <th>age_mean</th>\n",
              "      <td>110.198311</td>\n",
              "      <td>194.159033</td>\n",
              "      <td>157.035694</td>\n",
              "      <td>157.021707</td>\n",
              "    </tr>\n",
              "  </tbody>\n",
              "</table>\n",
              "</div>"
            ],
            "text/plain": [
              "                   fare         age  age_median    age_mean\n",
              "fare        2248.326729  136.176223  114.961682  110.198311\n",
              "age          136.176223  194.163047  194.163047  194.159033\n",
              "age_median   114.961682  194.163047  157.798430  157.035694\n",
              "age_mean     110.198311  194.159033  157.035694  157.021707"
            ]
          },
          "metadata": {
            "tags": []
          },
          "execution_count": 14
        }
      ]
    },
    {
      "cell_type": "markdown",
      "metadata": {
        "id": "3H--tS-Hc9lw"
      },
      "source": [
        "Para ver si la relación entre variables cambio podemos visualizar la correlación y ver como impacto la imputación de valores en el coeficiente de correlación."
      ]
    },
    {
      "cell_type": "code",
      "metadata": {
        "id": "ZXjmsql7cuWt",
        "outputId": "f4b446dd-d2df-4ba0-8927-811db0cf769c",
        "colab": {
          "base_uri": "https://localhost:8080/",
          "height": 722
        }
      },
      "source": [
        "# Calculamos las correlaciones usando pandas corr\n",
        "# redondeando los valores a 2 decimales\n",
        "import seaborn as sns\n",
        "features = X_train.columns\n",
        "correlation_matrix = X_train[features].corr().round(2)\n",
        "\n",
        "# Grafiquemos la matriz de correlación usando seaborn\n",
        "# annot = True para imprimir los coeficientes de correlación\n",
        "\n",
        "\n",
        "#Podemos ver que la relación de las variables Age, Age_median,Age_mean con Fare es la misma\n",
        "#Concluimos que en este caso la imputación cambio la distribución pero no la correlación.\n",
        "figure = plt.figure(figsize=(12, 12))\n",
        "sns.heatmap(data=correlation_matrix, annot=True)"
      ],
      "execution_count": 18,
      "outputs": [
        {
          "output_type": "execute_result",
          "data": {
            "text/plain": [
              "<matplotlib.axes._subplots.AxesSubplot at 0x7fdc3d7cb630>"
            ]
          },
          "metadata": {
            "tags": []
          },
          "execution_count": 18
        },
        {
          "output_type": "display_data",
          "data": {
            "image/png": "[encoded data removed]",
            "text/plain": [
              "<Figure size 864x864 with 2 Axes>"
            ]
          },
          "metadata": {
            "tags": [],
            "needs_background": "light"
          }
        }
      ]
    },
    {
      "cell_type": "markdown",
      "metadata": {
        "id": "OEBPvPW9aiTO"
      },
      "source": [
        "Podemos ver que la covarianza entre age y fare ha cambiado luego de la sustitución\n"
      ]
    },
    {
      "cell_type": "code",
      "metadata": {
        "id": "opGpuXaJaiTP",
        "outputId": "e4cd0e9f-8175-4fb2-88da-c5a08454d9c3",
        "colab": {
          "base_uri": "https://localhost:8080/",
          "height": 283
        }
      },
      "source": [
        "# Finalmente, la sustitución por media / mediana también puede\n",
        "# generar observaciones que siendo completamente normales parecen\n",
        "# valores extremos\n",
        "\n",
        "# o en otras palabras la sustitución puede incrementar\n",
        "# el número percibido de valores extremos\n",
        "\n",
        "# analicemos la gráfica de caja\n",
        "\n",
        "X_train[['age', 'age_median', 'age_mean']].boxplot()"
      ],
      "execution_count": 19,
      "outputs": [
        {
          "output_type": "execute_result",
          "data": {
            "text/plain": [
              "<matplotlib.axes._subplots.AxesSubplot at 0x7fdc3d7ab748>"
            ]
          },
          "metadata": {
            "tags": []
          },
          "execution_count": 19
        },
        {
          "output_type": "display_data",
          "data": {
            "image/png": "[encoded data removed]",
            "text/plain": [
              "<Figure size 432x288 with 1 Axes>"
            ]
          },
          "metadata": {
            "tags": [],
            "needs_background": "light"
          }
        }
      ]
    },
    {
      "cell_type": "markdown",
      "metadata": {
        "id": "fFRrfd2daiTR"
      },
      "source": [
        "De la gráfica anterior, podemos ver que después de la sustitución hay más valores extremos hacia los valores altos de age, pero también para los valores inferiores.\n",
        "\n",
        "**Es esto importante?**\n",
        "\n",
        "Si queremos identificar los verdaderos valores extremos, es importante tener en cuenta este comportamiento. En la práctica, este tipo de efectos son ignorados, pero es importante saber que está sucediendo. Si es necesario, el orden de los pasos en el pre-procesamiento puede adaptarse para tener en cuenta este tipo de efectos.\n",
        "\n",
        "## House Prices Dataset\n",
        "\n",
        "Repitamos rápidamente el mismo ejercicio con el House Prices dataset.\n"
      ]
    },
    {
      "cell_type": "code",
      "metadata": {
        "id": "8oiah5tqaiTS"
      },
      "source": [
        "# usaremos las siguientes variables, de las cuales solo 3 \n",
        "# tienen valores nulos\n",
        "\n",
        "cols_to_use = [\n",
        "    'OverallQual', 'TotalBsmtSF', '1stFlrSF', 'GrLivArea', 'WoodDeckSF',\n",
        "    'BsmtUnfSF', 'LotFrontage', 'MasVnrArea', 'GarageYrBlt', 'SalePrice'\n",
        "]"
      ],
      "execution_count": 20,
      "outputs": []
    },
    {
      "cell_type": "code",
      "metadata": {
        "id": "ZgqM0BGNaiTV",
        "outputId": "e93e8610-2ecc-4d6e-a6b9-3c9f1d4c1e59",
        "colab": {
          "base_uri": "https://localhost:8080/",
          "height": 221
        }
      },
      "source": [
        "# House Prices dataset\n",
        "\n",
        "data = pd.read_csv('/content/drive/My Drive/datasets/houseprice.csv', usecols=cols_to_use)\n",
        "print(data.shape)\n",
        "data.head()"
      ],
      "execution_count": 21,
      "outputs": [
        {
          "output_type": "stream",
          "text": [
            "(1460, 10)\n"
          ],
          "name": "stdout"
        },
        {
          "output_type": "execute_result",
          "data": {
            "text/html": [
              "<div>\n",
              "<style scoped>\n",
              "    .dataframe tbody tr th:only-of-type {\n",
              "        vertical-align: middle;\n",
              "    }\n",
              "\n",
              "    .dataframe tbody tr th {\n",
              "        vertical-align: top;\n",
              "    }\n",
              "\n",
              "    .dataframe thead th {\n",
              "        text-align: right;\n",
              "    }\n",
              "</style>\n",
              "<table border=\"1\" class=\"dataframe\">\n",
              "  <thead>\n",
              "    <tr style=\"text-align: right;\">\n",
              "      <th></th>\n",
              "      <th>LotFrontage</th>\n",
              "      <th>OverallQual</th>\n",
              "      <th>MasVnrArea</th>\n",
              "      <th>BsmtUnfSF</th>\n",
              "      <th>TotalBsmtSF</th>\n",
              "      <th>1stFlrSF</th>\n",
              "      <th>GrLivArea</th>\n",
              "      <th>GarageYrBlt</th>\n",
              "      <th>WoodDeckSF</th>\n",
              "      <th>SalePrice</th>\n",
              "    </tr>\n",
              "  </thead>\n",
              "  <tbody>\n",
              "    <tr>\n",
              "      <th>0</th>\n",
              "      <td>65.0</td>\n",
              "      <td>7</td>\n",
              "      <td>196.0</td>\n",
              "      <td>150</td>\n",
              "      <td>856</td>\n",
              "      <td>856</td>\n",
              "      <td>1710</td>\n",
              "      <td>2003.0</td>\n",
              "      <td>0</td>\n",
              "      <td>208500</td>\n",
              "    </tr>\n",
              "    <tr>\n",
              "      <th>1</th>\n",
              "      <td>80.0</td>\n",
              "      <td>6</td>\n",
              "      <td>0.0</td>\n",
              "      <td>284</td>\n",
              "      <td>1262</td>\n",
              "      <td>1262</td>\n",
              "      <td>1262</td>\n",
              "      <td>1976.0</td>\n",
              "      <td>298</td>\n",
              "      <td>181500</td>\n",
              "    </tr>\n",
              "    <tr>\n",
              "      <th>2</th>\n",
              "      <td>68.0</td>\n",
              "      <td>7</td>\n",
              "      <td>162.0</td>\n",
              "      <td>434</td>\n",
              "      <td>920</td>\n",
              "      <td>920</td>\n",
              "      <td>1786</td>\n",
              "      <td>2001.0</td>\n",
              "      <td>0</td>\n",
              "      <td>223500</td>\n",
              "    </tr>\n",
              "    <tr>\n",
              "      <th>3</th>\n",
              "      <td>60.0</td>\n",
              "      <td>7</td>\n",
              "      <td>0.0</td>\n",
              "      <td>540</td>\n",
              "      <td>756</td>\n",
              "      <td>961</td>\n",
              "      <td>1717</td>\n",
              "      <td>1998.0</td>\n",
              "      <td>0</td>\n",
              "      <td>140000</td>\n",
              "    </tr>\n",
              "    <tr>\n",
              "      <th>4</th>\n",
              "      <td>84.0</td>\n",
              "      <td>8</td>\n",
              "      <td>350.0</td>\n",
              "      <td>490</td>\n",
              "      <td>1145</td>\n",
              "      <td>1145</td>\n",
              "      <td>2198</td>\n",
              "      <td>2000.0</td>\n",
              "      <td>192</td>\n",
              "      <td>250000</td>\n",
              "    </tr>\n",
              "  </tbody>\n",
              "</table>\n",
              "</div>"
            ],
            "text/plain": [
              "   LotFrontage  OverallQual  MasVnrArea  ...  GarageYrBlt  WoodDeckSF  SalePrice\n",
              "0         65.0            7       196.0  ...       2003.0           0     208500\n",
              "1         80.0            6         0.0  ...       1976.0         298     181500\n",
              "2         68.0            7       162.0  ...       2001.0           0     223500\n",
              "3         60.0            7         0.0  ...       1998.0           0     140000\n",
              "4         84.0            8       350.0  ...       2000.0         192     250000\n",
              "\n",
              "[5 rows x 10 columns]"
            ]
          },
          "metadata": {
            "tags": []
          },
          "execution_count": 21
        }
      ]
    },
    {
      "cell_type": "code",
      "metadata": {
        "id": "V2vRv6cYaiTY",
        "outputId": "feab533a-81c9-43b4-f6fc-d1843f4cba78",
        "colab": {
          "base_uri": "https://localhost:8080/",
          "height": 34
        }
      },
      "source": [
        "# variables con valores nulos\n",
        "\n",
        "# en la siguiente list comprehension, iteraremos sobre las columnas\n",
        "# y seleccionaremos las que contienen valores nulos\n",
        "\n",
        "[var for var in data.columns if data[var].isnull().sum() > 0]"
      ],
      "execution_count": 22,
      "outputs": [
        {
          "output_type": "execute_result",
          "data": {
            "text/plain": [
              "['LotFrontage', 'MasVnrArea', 'GarageYrBlt']"
            ]
          },
          "metadata": {
            "tags": []
          },
          "execution_count": 22
        }
      ]
    },
    {
      "cell_type": "code",
      "metadata": {
        "scrolled": false,
        "id": "9k_y5jqqaiTa",
        "outputId": "7756905c-df35-4084-e1b9-ae34d91286b8",
        "colab": {
          "base_uri": "https://localhost:8080/",
          "height": 85
        }
      },
      "source": [
        "# porcentaje de valores nulos\n",
        "#En este ejercicio la única variable que se vería afectada en la imputación por la cantidad de datos faltantes es \"LotFrontage\"\n",
        "data[['LotFrontage', 'MasVnrArea', 'GarageYrBlt']].isnull().mean()"
      ],
      "execution_count": 24,
      "outputs": [
        {
          "output_type": "execute_result",
          "data": {
            "text/plain": [
              "LotFrontage    0.177397\n",
              "MasVnrArea     0.005479\n",
              "GarageYrBlt    0.055479\n",
              "dtype: float64"
            ]
          },
          "metadata": {
            "tags": []
          },
          "execution_count": 24
        }
      ]
    },
    {
      "cell_type": "markdown",
      "metadata": {
        "id": "lHiHsI0QaiTd"
      },
      "source": [
        "**Recuerda que la media y la mediana que usaremos para sustituir los valores nulos deben ser calculados del segmento de entrenamiento y propagados para el segmento de prueba."
      ]
    },
    {
      "cell_type": "code",
      "metadata": {
        "scrolled": false,
        "id": "2qUuHyFZaiTd",
        "outputId": "31dfb684-8436-435a-867f-0d07523ae2ac",
        "colab": {
          "base_uri": "https://localhost:8080/",
          "height": 34
        }
      },
      "source": [
        "# separemos los datos en entrenamiento y prueba\n",
        "\n",
        "X_train, X_test, y_train, y_test = train_test_split(data,\n",
        "                                                    data['SalePrice'],\n",
        "                                                    test_size=0.3,\n",
        "                                                    random_state=0)\n",
        "X_train.shape, X_test.shape"
      ],
      "execution_count": 25,
      "outputs": [
        {
          "output_type": "execute_result",
          "data": {
            "text/plain": [
              "((1022, 10), (438, 10))"
            ]
          },
          "metadata": {
            "tags": []
          },
          "execution_count": 25
        }
      ]
    },
    {
      "cell_type": "code",
      "metadata": {
        "id": "uHTvbN9VaiTf",
        "outputId": "35410af3-ac1e-41fa-c6ee-f04a3623c41d",
        "colab": {
          "base_uri": "https://localhost:8080/",
          "height": 607
        }
      },
      "source": [
        "# distribuciones de las variables para el conjunto de entrenamiento que contiene el 70% del set original\n",
        "#Notamos que \"LotFrontage\" esta notablemente sesgada a la izquierda\n",
        "#Notamos que \"MasVnrArea\" esta sesgada a la izquierda\n",
        "#Notamos que \"GarageYrBlt\" esta sesgada a la derecha\n",
        "#Con esto decidimos emputar con la mediana dado que será un valor más representativo\n",
        "X_train.hist(bins=50, figsize=(10,10))\n",
        "plt.show()"
      ],
      "execution_count": 30,
      "outputs": [
        {
          "output_type": "display_data",
          "data": {
            "image/png": "[encoded data removed]",
            "text/plain": [
              "<Figure size 720x720 with 16 Axes>"
            ]
          },
          "metadata": {
            "tags": [],
            "needs_background": "light"
          }
        }
      ]
    },
    {
      "cell_type": "code",
      "metadata": {
        "id": "KRlFlE-1aiTh",
        "outputId": "38aa024a-9c5f-4a51-f357-f6a99172487a",
        "colab": {
          "base_uri": "https://localhost:8080/",
          "height": 241
        }
      },
      "source": [
        "# vamos a crear una nueva variable sustituyendo los valores nulos\n",
        "# con la mediana para cada una de las variables con valores ausentes.\n",
        "\n",
        "# empecemos con la variable LotFrontage\n",
        "\n",
        "median = X_train['LotFrontage'].median()\n",
        "\n",
        "X_train.loc[:,'LotFrontage_median'] = impute_na(X_train, 'LotFrontage', median)\n",
        "X_test.loc[:,'LotFrontage_median'] = impute_na(X_test, 'LotFrontage', median)"
      ],
      "execution_count": 27,
      "outputs": [
        {
          "output_type": "stream",
          "text": [
            "/usr/local/lib/python3.6/dist-packages/pandas/core/indexing.py:1596: SettingWithCopyWarning: \n",
            "A value is trying to be set on a copy of a slice from a DataFrame.\n",
            "Try using .loc[row_indexer,col_indexer] = value instead\n",
            "\n",
            "See the caveats in the documentation: https://pandas.pydata.org/pandas-docs/stable/user_guide/indexing.html#returning-a-view-versus-a-copy\n",
            "  self.obj[key] = _infer_fill_value(value)\n",
            "/usr/local/lib/python3.6/dist-packages/pandas/core/indexing.py:1745: SettingWithCopyWarning: \n",
            "A value is trying to be set on a copy of a slice from a DataFrame.\n",
            "Try using .loc[row_indexer,col_indexer] = value instead\n",
            "\n",
            "See the caveats in the documentation: https://pandas.pydata.org/pandas-docs/stable/user_guide/indexing.html#returning-a-view-versus-a-copy\n",
            "  isetter(ilocs[0], value)\n"
          ],
          "name": "stderr"
        }
      ]
    },
    {
      "cell_type": "code",
      "metadata": {
        "id": "lts6lFDeaiTj",
        "outputId": "567e0e0f-7cab-4696-971b-826d2c50ea0d",
        "colab": {
          "base_uri": "https://localhost:8080/",
          "height": 241
        }
      },
      "source": [
        "median = X_train['MasVnrArea'].median()\n",
        "\n",
        "X_train.loc[:,'MasVnrArea_median'] = impute_na(X_train, 'MasVnrArea', median)\n",
        "X_test.loc[:,'MasVnrArea_median'] = impute_na(X_test, 'MasVnrArea', median)"
      ],
      "execution_count": 28,
      "outputs": [
        {
          "output_type": "stream",
          "text": [
            "/usr/local/lib/python3.6/dist-packages/pandas/core/indexing.py:1596: SettingWithCopyWarning: \n",
            "A value is trying to be set on a copy of a slice from a DataFrame.\n",
            "Try using .loc[row_indexer,col_indexer] = value instead\n",
            "\n",
            "See the caveats in the documentation: https://pandas.pydata.org/pandas-docs/stable/user_guide/indexing.html#returning-a-view-versus-a-copy\n",
            "  self.obj[key] = _infer_fill_value(value)\n",
            "/usr/local/lib/python3.6/dist-packages/pandas/core/indexing.py:1745: SettingWithCopyWarning: \n",
            "A value is trying to be set on a copy of a slice from a DataFrame.\n",
            "Try using .loc[row_indexer,col_indexer] = value instead\n",
            "\n",
            "See the caveats in the documentation: https://pandas.pydata.org/pandas-docs/stable/user_guide/indexing.html#returning-a-view-versus-a-copy\n",
            "  isetter(ilocs[0], value)\n"
          ],
          "name": "stderr"
        }
      ]
    },
    {
      "cell_type": "code",
      "metadata": {
        "id": "0h1HF3XCaiTl",
        "outputId": "4ddc2773-4bbd-4ef1-c00b-db874262823d",
        "colab": {
          "base_uri": "https://localhost:8080/",
          "height": 241
        }
      },
      "source": [
        "median = X_train['GarageYrBlt'].median()\n",
        "\n",
        "X_train.loc[:, 'GarageYrBlt_median'] = impute_na(X_train, 'GarageYrBlt', median)\n",
        "X_test.loc[:,'GarageYrBlt_median'] = impute_na(X_test, 'GarageYrBlt', median)"
      ],
      "execution_count": 29,
      "outputs": [
        {
          "output_type": "stream",
          "text": [
            "/usr/local/lib/python3.6/dist-packages/pandas/core/indexing.py:1596: SettingWithCopyWarning: \n",
            "A value is trying to be set on a copy of a slice from a DataFrame.\n",
            "Try using .loc[row_indexer,col_indexer] = value instead\n",
            "\n",
            "See the caveats in the documentation: https://pandas.pydata.org/pandas-docs/stable/user_guide/indexing.html#returning-a-view-versus-a-copy\n",
            "  self.obj[key] = _infer_fill_value(value)\n",
            "/usr/local/lib/python3.6/dist-packages/pandas/core/indexing.py:1745: SettingWithCopyWarning: \n",
            "A value is trying to be set on a copy of a slice from a DataFrame.\n",
            "Try using .loc[row_indexer,col_indexer] = value instead\n",
            "\n",
            "See the caveats in the documentation: https://pandas.pydata.org/pandas-docs/stable/user_guide/indexing.html#returning-a-view-versus-a-copy\n",
            "  isetter(ilocs[0], value)\n"
          ],
          "name": "stderr"
        }
      ]
    },
    {
      "cell_type": "code",
      "metadata": {
        "id": "kjHqtauyaiTn",
        "outputId": "eaef52d6-593c-4826-dbde-296b39230d97",
        "colab": {
          "base_uri": "https://localhost:8080/",
          "height": 282
        }
      },
      "source": [
        "# evaluemos el efecto de la sustitución en las distribuciones\n",
        "\n",
        "# Los valores se acumulan hacia la mediana en la \n",
        "# distribución de LotFrontAge\n",
        "#Esta variable tenia un sesgo del 17% por lo que es normal ver un cambio en la distribución\n",
        "\n",
        "\n",
        "fig = plt.figure()\n",
        "ax = fig.add_subplot(111)\n",
        "\n",
        "# distribución original\n",
        "X_train['LotFrontage'].plot(kind='kde', ax=ax)\n",
        "\n",
        "# variable sustituida con la mediana\n",
        "X_train['LotFrontage_median'].plot(kind='kde', ax=ax, color='red')\n",
        "\n",
        "# etiquetas\n",
        "lines, labels = ax.get_legend_handles_labels()\n",
        "ax.legend(lines, labels, loc='best')"
      ],
      "execution_count": 31,
      "outputs": [
        {
          "output_type": "execute_result",
          "data": {
            "text/plain": [
              "<matplotlib.legend.Legend at 0x7fdc39ccd9e8>"
            ]
          },
          "metadata": {
            "tags": []
          },
          "execution_count": 31
        },
        {
          "output_type": "display_data",
          "data": {
            "image/png": "[encoded data removed]",
            "text/plain": [
              "<Figure size 432x288 with 1 Axes>"
            ]
          },
          "metadata": {
            "tags": [],
            "needs_background": "light"
          }
        }
      ]
    },
    {
      "cell_type": "code",
      "metadata": {
        "id": "QZ1OvLP0aiTq",
        "outputId": "fc85d9aa-81d4-4658-e8ee-4b95526bb039",
        "colab": {
          "base_uri": "https://localhost:8080/",
          "height": 282
        }
      },
      "source": [
        "# Para la variable MasVnrArea, dado que los valores faltantes son muy pocos\n",
        "# no esperamos ver un cambio dramático en la distribución\n",
        "#Esta variable tenia valores faltantes de .005 por lo que el cambio no debía de ser importante\n",
        "\n",
        "fig = plt.figure()\n",
        "ax = fig.add_subplot(111)\n",
        "\n",
        "# variable original\n",
        "X_train['MasVnrArea'].plot(kind='kde', ax=ax)\n",
        "\n",
        "# variable imputada\n",
        "X_train['MasVnrArea_median'].plot(kind='kde', ax=ax, color='red')\n",
        "\n",
        "# leyendas\n",
        "lines, labels = ax.get_legend_handles_labels()\n",
        "ax.legend(lines, labels, loc='best')"
      ],
      "execution_count": 32,
      "outputs": [
        {
          "output_type": "execute_result",
          "data": {
            "text/plain": [
              "<matplotlib.legend.Legend at 0x7fdc3a3f9f60>"
            ]
          },
          "metadata": {
            "tags": []
          },
          "execution_count": 32
        },
        {
          "output_type": "display_data",
          "data": {
            "image/png": "[encoded data removed]",
            "text/plain": [
              "<Figure size 432x288 with 1 Axes>"
            ]
          },
          "metadata": {
            "tags": [],
            "needs_background": "light"
          }
        }
      ]
    },
    {
      "cell_type": "code",
      "metadata": {
        "scrolled": true,
        "id": "ItrVQoThaiTs",
        "outputId": "2b138649-45ca-4099-c7a0-3c96b4270c02"
      },
      "source": [
        "# Para la variable GarageBlt, dado que el porcentaje de valores nulos\n",
        "# es menor, no hay un cambio significativo en la distribución\n",
        "#Esta variable tenia 5% de missing values y notamos que si bien hay un cambio, no es tan drámatico,\n",
        "\n",
        "fig = plt.figure()\n",
        "ax = fig.add_subplot(111)\n",
        "\n",
        "# distribución original\n",
        "X_train['GarageYrBlt'].plot(kind='kde', ax=ax)\n",
        "\n",
        "# variable sustitiuida por la mediana\n",
        "X_train['GarageYrBlt_median'].plot(kind='kde', ax=ax, color='red')\n",
        "\n",
        "# etiquetas\n",
        "lines, labels = ax.get_legend_handles_labels()\n",
        "ax.legend(lines, labels, loc='best')"
      ],
      "execution_count": null,
      "outputs": [
        {
          "output_type": "execute_result",
          "data": {
            "text/plain": [
              "<matplotlib.legend.Legend at 0xb711424048>"
            ]
          },
          "metadata": {
            "tags": []
          },
          "execution_count": 25
        },
        {
          "output_type": "display_data",
          "data": {
            "image/png": "[encoded data removed]",
            "text/plain": [
              "<Figure size 432x288 with 1 Axes>"
            ]
          },
          "metadata": {
            "tags": [],
            "needs_background": "light"
          }
        }
      ]
    },
    {
      "cell_type": "code",
      "metadata": {
        "id": "YXLLqItLaiTv",
        "outputId": "cfd84183-71a4-4f78-d80f-1387cc29f5cc",
        "colab": {
          "base_uri": "https://localhost:8080/",
          "height": 51
        }
      },
      "source": [
        "# efecto de la sustitución en la varianza\n",
        "\n",
        "# Para LotFrontAge hay un cambio significativo ya que el porcetaje\n",
        "# de valores nulos es alto~20%\n",
        "\n",
        "print('Varianza original : ', X_train['LotFrontage'].var())\n",
        "print('Varianza despues de sustitución por mediana: ', X_train['LotFrontage_median'].var())"
      ],
      "execution_count": 33,
      "outputs": [
        {
          "output_type": "stream",
          "text": [
            "Varianza original :  532.5872021885676\n",
            "Varianza despues de sustitución por mediana:  434.06604265416564\n"
          ],
          "name": "stdout"
        }
      ]
    },
    {
      "cell_type": "code",
      "metadata": {
        "id": "-WUOryN8aiTx",
        "outputId": "3531280a-57cb-4c24-b2ab-7491b7b2c839",
        "colab": {
          "base_uri": "https://localhost:8080/",
          "height": 51
        }
      },
      "source": [
        "# no hay cambios significativo para MasnVnrArea, ya que el % de valores nulos es bajo\n",
        "print('Varianza original: ', X_train['MasVnrArea'].var())\n",
        "print('Varianza despues de sustitución por mediana: ', X_train['MasVnrArea_median'].var())"
      ],
      "execution_count": 34,
      "outputs": [
        {
          "output_type": "stream",
          "text": [
            "Varianza original:  32983.538710039466\n",
            "Varianza despues de sustitución por mediana:  32874.27007404175\n"
          ],
          "name": "stdout"
        }
      ]
    },
    {
      "cell_type": "code",
      "metadata": {
        "id": "TYYJNmziaiTz",
        "outputId": "1830a972-d7ac-45da-f617-0e7d3a0f619b",
        "colab": {
          "base_uri": "https://localhost:8080/",
          "height": 51
        }
      },
      "source": [
        "# no hay cambios significativo para GarageBlt, ya que el % de valores nulos es bajo\n",
        "\n",
        "print('Varianza original: ', X_train['GarageYrBlt'].var())\n",
        "print('Varianza despues de sustitución por mediana: ', X_train['GarageYrBlt_median'].var())"
      ],
      "execution_count": 35,
      "outputs": [
        {
          "output_type": "stream",
          "text": [
            "Varianza original:  624.3059475074134\n",
            "Varianza despues de sustitución por mediana:  591.3356883144767\n"
          ],
          "name": "stdout"
        }
      ]
    },
    {
      "cell_type": "code",
      "metadata": {
        "id": "5fahNhYYaiT1",
        "outputId": "7d8bd18b-e3eb-4ebc-c747-b38159293d90",
        "colab": {
          "base_uri": "https://localhost:8080/",
          "height": 472
        }
      },
      "source": [
        "# Exploremos la covarianza:\n",
        "# tómate el tiempo de comparar los valores en la tabla\n",
        "# y observa cómo la covarianza es afectada por LotFrontAge pero no mucho \n",
        "# por las otras dos variables\n",
        "X_train.cov()"
      ],
      "execution_count": 36,
      "outputs": [
        {
          "output_type": "execute_result",
          "data": {
            "text/html": [
              "<div>\n",
              "<style scoped>\n",
              "    .dataframe tbody tr th:only-of-type {\n",
              "        vertical-align: middle;\n",
              "    }\n",
              "\n",
              "    .dataframe tbody tr th {\n",
              "        vertical-align: top;\n",
              "    }\n",
              "\n",
              "    .dataframe thead th {\n",
              "        text-align: right;\n",
              "    }\n",
              "</style>\n",
              "<table border=\"1\" class=\"dataframe\">\n",
              "  <thead>\n",
              "    <tr style=\"text-align: right;\">\n",
              "      <th></th>\n",
              "      <th>LotFrontage</th>\n",
              "      <th>OverallQual</th>\n",
              "      <th>MasVnrArea</th>\n",
              "      <th>BsmtUnfSF</th>\n",
              "      <th>TotalBsmtSF</th>\n",
              "      <th>1stFlrSF</th>\n",
              "      <th>GrLivArea</th>\n",
              "      <th>GarageYrBlt</th>\n",
              "      <th>WoodDeckSF</th>\n",
              "      <th>SalePrice</th>\n",
              "      <th>LotFrontage_median</th>\n",
              "      <th>MasVnrArea_median</th>\n",
              "      <th>GarageYrBlt_median</th>\n",
              "    </tr>\n",
              "  </thead>\n",
              "  <tbody>\n",
              "    <tr>\n",
              "      <th>LotFrontage</th>\n",
              "      <td>532.587202</td>\n",
              "      <td>6.587119</td>\n",
              "      <td>6.805603e+02</td>\n",
              "      <td>9.496573e+02</td>\n",
              "      <td>2.908856e+03</td>\n",
              "      <td>3.379794e+03</td>\n",
              "      <td>3.919952e+03</td>\n",
              "      <td>30.611717</td>\n",
              "      <td>1.347414e+02</td>\n",
              "      <td>6.689645e+05</td>\n",
              "      <td>532.587202</td>\n",
              "      <td>6.744233e+02</td>\n",
              "      <td>28.095264</td>\n",
              "    </tr>\n",
              "    <tr>\n",
              "      <th>OverallQual</th>\n",
              "      <td>6.587119</td>\n",
              "      <td>1.843859</td>\n",
              "      <td>1.014970e+02</td>\n",
              "      <td>1.746147e+02</td>\n",
              "      <td>2.886241e+02</td>\n",
              "      <td>2.242973e+02</td>\n",
              "      <td>4.091242e+02</td>\n",
              "      <td>17.902809</td>\n",
              "      <td>3.168557e+01</td>\n",
              "      <td>8.320132e+04</td>\n",
              "      <td>5.384774</td>\n",
              "      <td>1.005330e+02</td>\n",
              "      <td>16.875386</td>\n",
              "    </tr>\n",
              "    <tr>\n",
              "      <th>MasVnrArea</th>\n",
              "      <td>680.560330</td>\n",
              "      <td>101.496976</td>\n",
              "      <td>3.298354e+04</td>\n",
              "      <td>7.540788e+03</td>\n",
              "      <td>2.478877e+04</td>\n",
              "      <td>2.086595e+04</td>\n",
              "      <td>3.520785e+04</td>\n",
              "      <td>1203.583792</td>\n",
              "      <td>3.208924e+03</td>\n",
              "      <td>6.836439e+06</td>\n",
              "      <td>553.921303</td>\n",
              "      <td>3.298354e+04</td>\n",
              "      <td>1134.380889</td>\n",
              "    </tr>\n",
              "    <tr>\n",
              "      <th>BsmtUnfSF</th>\n",
              "      <td>949.657293</td>\n",
              "      <td>174.614725</td>\n",
              "      <td>7.540788e+03</td>\n",
              "      <td>1.875241e+05</td>\n",
              "      <td>7.513307e+04</td>\n",
              "      <td>4.987449e+04</td>\n",
              "      <td>5.203392e+04</td>\n",
              "      <td>1823.065167</td>\n",
              "      <td>-1.833201e+03</td>\n",
              "      <td>6.833028e+06</td>\n",
              "      <td>788.095358</td>\n",
              "      <td>7.472110e+03</td>\n",
              "      <td>1724.141544</td>\n",
              "    </tr>\n",
              "    <tr>\n",
              "      <th>TotalBsmtSF</th>\n",
              "      <td>2908.855504</td>\n",
              "      <td>288.624075</td>\n",
              "      <td>2.478877e+04</td>\n",
              "      <td>7.513307e+04</td>\n",
              "      <td>1.682931e+05</td>\n",
              "      <td>1.212079e+05</td>\n",
              "      <td>8.615192e+04</td>\n",
              "      <td>3173.042442</td>\n",
              "      <td>1.227966e+04</td>\n",
              "      <td>2.003928e+07</td>\n",
              "      <td>2370.929189</td>\n",
              "      <td>2.465436e+04</td>\n",
              "      <td>2989.473391</td>\n",
              "    </tr>\n",
              "    <tr>\n",
              "      <th>1stFlrSF</th>\n",
              "      <td>3379.793504</td>\n",
              "      <td>224.297266</td>\n",
              "      <td>2.086595e+04</td>\n",
              "      <td>4.987449e+04</td>\n",
              "      <td>1.212079e+05</td>\n",
              "      <td>1.398656e+05</td>\n",
              "      <td>1.044401e+05</td>\n",
              "      <td>2009.195552</td>\n",
              "      <td>1.109406e+04</td>\n",
              "      <td>1.783631e+07</td>\n",
              "      <td>2750.747094</td>\n",
              "      <td>2.080136e+04</td>\n",
              "      <td>1890.271636</td>\n",
              "    </tr>\n",
              "    <tr>\n",
              "      <th>GrLivArea</th>\n",
              "      <td>3919.951834</td>\n",
              "      <td>409.124216</td>\n",
              "      <td>3.520785e+04</td>\n",
              "      <td>5.203392e+04</td>\n",
              "      <td>8.615192e+04</td>\n",
              "      <td>1.044401e+05</td>\n",
              "      <td>2.681277e+05</td>\n",
              "      <td>2738.982988</td>\n",
              "      <td>1.558395e+04</td>\n",
              "      <td>2.934477e+07</td>\n",
              "      <td>3189.685753</td>\n",
              "      <td>3.496714e+04</td>\n",
              "      <td>2576.345636</td>\n",
              "    </tr>\n",
              "    <tr>\n",
              "      <th>GarageYrBlt</th>\n",
              "      <td>30.611717</td>\n",
              "      <td>17.902809</td>\n",
              "      <td>1.203584e+03</td>\n",
              "      <td>1.823065e+03</td>\n",
              "      <td>3.173042e+03</td>\n",
              "      <td>2.009196e+03</td>\n",
              "      <td>2.738983e+03</td>\n",
              "      <td>624.305948</td>\n",
              "      <td>6.658911e+02</td>\n",
              "      <td>9.309355e+05</td>\n",
              "      <td>24.755173</td>\n",
              "      <td>1.182673e+03</td>\n",
              "      <td>624.305948</td>\n",
              "    </tr>\n",
              "    <tr>\n",
              "      <th>WoodDeckSF</th>\n",
              "      <td>134.741376</td>\n",
              "      <td>31.685571</td>\n",
              "      <td>3.208924e+03</td>\n",
              "      <td>-1.833201e+03</td>\n",
              "      <td>1.227966e+04</td>\n",
              "      <td>1.109406e+04</td>\n",
              "      <td>1.558395e+04</td>\n",
              "      <td>665.891118</td>\n",
              "      <td>1.648582e+04</td>\n",
              "      <td>3.029981e+06</td>\n",
              "      <td>106.009105</td>\n",
              "      <td>3.212101e+03</td>\n",
              "      <td>627.624634</td>\n",
              "    </tr>\n",
              "    <tr>\n",
              "      <th>SalePrice</th>\n",
              "      <td>668964.454191</td>\n",
              "      <td>83201.317781</td>\n",
              "      <td>6.836439e+06</td>\n",
              "      <td>6.833028e+06</td>\n",
              "      <td>2.003928e+07</td>\n",
              "      <td>1.783631e+07</td>\n",
              "      <td>2.934477e+07</td>\n",
              "      <td>930935.489321</td>\n",
              "      <td>3.029981e+06</td>\n",
              "      <td>6.105731e+09</td>\n",
              "      <td>544838.836893</td>\n",
              "      <td>6.790442e+06</td>\n",
              "      <td>877485.418108</td>\n",
              "    </tr>\n",
              "    <tr>\n",
              "      <th>LotFrontage_median</th>\n",
              "      <td>532.587202</td>\n",
              "      <td>5.384774</td>\n",
              "      <td>5.539213e+02</td>\n",
              "      <td>7.880954e+02</td>\n",
              "      <td>2.370929e+03</td>\n",
              "      <td>2.750747e+03</td>\n",
              "      <td>3.189686e+03</td>\n",
              "      <td>24.755173</td>\n",
              "      <td>1.060091e+02</td>\n",
              "      <td>5.448388e+05</td>\n",
              "      <td>434.066043</td>\n",
              "      <td>5.488480e+02</td>\n",
              "      <td>22.883476</td>\n",
              "    </tr>\n",
              "    <tr>\n",
              "      <th>MasVnrArea_median</th>\n",
              "      <td>674.423263</td>\n",
              "      <td>100.533003</td>\n",
              "      <td>3.298354e+04</td>\n",
              "      <td>7.472110e+03</td>\n",
              "      <td>2.465436e+04</td>\n",
              "      <td>2.080136e+04</td>\n",
              "      <td>3.496714e+04</td>\n",
              "      <td>1182.673336</td>\n",
              "      <td>3.212101e+03</td>\n",
              "      <td>6.790442e+06</td>\n",
              "      <td>548.848031</td>\n",
              "      <td>3.287427e+04</td>\n",
              "      <td>1115.571890</td>\n",
              "    </tr>\n",
              "    <tr>\n",
              "      <th>GarageYrBlt_median</th>\n",
              "      <td>28.095264</td>\n",
              "      <td>16.875386</td>\n",
              "      <td>1.134381e+03</td>\n",
              "      <td>1.724142e+03</td>\n",
              "      <td>2.989473e+03</td>\n",
              "      <td>1.890272e+03</td>\n",
              "      <td>2.576346e+03</td>\n",
              "      <td>624.305948</td>\n",
              "      <td>6.276246e+02</td>\n",
              "      <td>8.774854e+05</td>\n",
              "      <td>22.883476</td>\n",
              "      <td>1.115572e+03</td>\n",
              "      <td>591.335688</td>\n",
              "    </tr>\n",
              "  </tbody>\n",
              "</table>\n",
              "</div>"
            ],
            "text/plain": [
              "                      LotFrontage  ...  GarageYrBlt_median\n",
              "LotFrontage            532.587202  ...           28.095264\n",
              "OverallQual              6.587119  ...           16.875386\n",
              "MasVnrArea             680.560330  ...         1134.380889\n",
              "BsmtUnfSF              949.657293  ...         1724.141544\n",
              "TotalBsmtSF           2908.855504  ...         2989.473391\n",
              "1stFlrSF              3379.793504  ...         1890.271636\n",
              "GrLivArea             3919.951834  ...         2576.345636\n",
              "GarageYrBlt             30.611717  ...          624.305948\n",
              "WoodDeckSF             134.741376  ...          627.624634\n",
              "SalePrice           668964.454191  ...       877485.418108\n",
              "LotFrontage_median     532.587202  ...           22.883476\n",
              "MasVnrArea_median      674.423263  ...         1115.571890\n",
              "GarageYrBlt_median      28.095264  ...          591.335688\n",
              "\n",
              "[13 rows x 13 columns]"
            ]
          },
          "metadata": {
            "tags": []
          },
          "execution_count": 36
        }
      ]
    },
    {
      "cell_type": "markdown",
      "metadata": {
        "id": "pMpXzPHLj_GL"
      },
      "source": [
        "## Veamos ahora si la relación entre las variables cambio con los diversos casos de missing values que encontramos"
      ]
    },
    {
      "cell_type": "code",
      "metadata": {
        "id": "79TxDtEFj_c6",
        "outputId": "9f13a846-7e90-4af7-fa57-75890c87990b",
        "colab": {
          "base_uri": "https://localhost:8080/",
          "height": 814
        }
      },
      "source": [
        "# Podemos notar que solo los valores de \"MasVnrArea\" no cambiaron, habría que destacar que solo tenía el .005 de missing values\n",
        "#La variable de \"GarageYrBlt\" si cambio su relación con las demás variables, teniendo un 5% de missing values\n",
        "#La variable de \"LotFrontage\" si cambio su relación con las demás variables, teniendo un 17% de missing values\n",
        "\n",
        "\n",
        "features = X_train.columns\n",
        "correlation_matrix = X_train[features].corr().round(2)\n",
        "\n",
        "# Grafiquemos la matriz de correlación usando seaborn\n",
        "# annot = True para imprimir los coeficientes de correlación\n",
        "\n",
        "\n",
        "#Podemos ver que la relación de las variables Age, Age_median,Age_mean con Fare es la misma\n",
        "#Concluimos que en este caso la imputación cambio la distribución pero no la correlación.\n",
        "figure = plt.figure(figsize=(12, 12))\n",
        "sns.heatmap(data=correlation_matrix, annot=True)"
      ],
      "execution_count": 37,
      "outputs": [
        {
          "output_type": "execute_result",
          "data": {
            "text/plain": [
              "<matplotlib.axes._subplots.AxesSubplot at 0x7fdc3d6903c8>"
            ]
          },
          "metadata": {
            "tags": []
          },
          "execution_count": 37
        },
        {
          "output_type": "display_data",
          "data": {
            "image/png": "[encoded data removed]",
            "text/plain": [
              "<Figure size 864x864 with 2 Axes>"
            ]
          },
          "metadata": {
            "tags": [],
            "needs_background": "light"
          }
        }
      ]
    },
    {
      "cell_type": "code",
      "metadata": {
        "id": "bS5Ni7dxaiT3",
        "outputId": "0926b2ab-44d7-478b-8168-f6b2d445270e",
        "colab": {
          "base_uri": "https://localhost:8080/",
          "height": 283
        }
      },
      "source": [
        "# Exploremos los valores extremos\n",
        "\n",
        "# hay una disminución en los límites para LotFrontage\n",
        "# (mira el tamaño de la caja) \n",
        "# pero no sucede para las otras dos variables\n",
        "\n",
        "X_train[['LotFrontage', 'LotFrontage_median']].boxplot()"
      ],
      "execution_count": 38,
      "outputs": [
        {
          "output_type": "execute_result",
          "data": {
            "text/plain": [
              "<matplotlib.axes._subplots.AxesSubplot at 0x7fdc39cf0c50>"
            ]
          },
          "metadata": {
            "tags": []
          },
          "execution_count": 38
        },
        {
          "output_type": "display_data",
          "data": {
            "image/png": "[encoded data removed]",
            "text/plain": [
              "<Figure size 432x288 with 1 Axes>"
            ]
          },
          "metadata": {
            "tags": [],
            "needs_background": "light"
          }
        }
      ]
    },
    {
      "cell_type": "code",
      "metadata": {
        "id": "cy8WbsdZaiT5",
        "outputId": "fbb4a6b3-071c-4dd5-a141-f4a8529b5ab0",
        "colab": {
          "base_uri": "https://localhost:8080/",
          "height": 283
        }
      },
      "source": [
        "X_train[['MasVnrArea', 'MasVnrArea_median']].boxplot()"
      ],
      "execution_count": 39,
      "outputs": [
        {
          "output_type": "execute_result",
          "data": {
            "text/plain": [
              "<matplotlib.axes._subplots.AxesSubplot at 0x7fdc3a24dda0>"
            ]
          },
          "metadata": {
            "tags": []
          },
          "execution_count": 39
        },
        {
          "output_type": "display_data",
          "data": {
            "image/png": "[encoded data removed]",
            "text/plain": [
              "<Figure size 432x288 with 1 Axes>"
            ]
          },
          "metadata": {
            "tags": [],
            "needs_background": "light"
          }
        }
      ]
    },
    {
      "cell_type": "code",
      "metadata": {
        "id": "p7QqAMOyaiT7",
        "outputId": "d7766fb0-2de0-483e-9c88-5a4fa0da8a1f",
        "colab": {
          "base_uri": "https://localhost:8080/",
          "height": 283
        }
      },
      "source": [
        "X_train[['GarageYrBlt', 'GarageYrBlt_median']].boxplot()"
      ],
      "execution_count": 40,
      "outputs": [
        {
          "output_type": "execute_result",
          "data": {
            "text/plain": [
              "<matplotlib.axes._subplots.AxesSubplot at 0x7fdc399ed898>"
            ]
          },
          "metadata": {
            "tags": []
          },
          "execution_count": 40
        },
        {
          "output_type": "display_data",
          "data": {
            "image/png": "[encoded data removed]",
            "text/plain": [
              "<Figure size 432x288 with 1 Axes>"
            ]
          },
          "metadata": {
            "tags": [],
            "needs_background": "light"
          }
        }
      ]
    }
  ]
}