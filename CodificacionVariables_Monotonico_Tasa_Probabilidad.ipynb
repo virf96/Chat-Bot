{
  "nbformat": 4,
  "nbformat_minor": 0,
  "metadata": {
    "kernelspec": {
      "display_name": "feml",
      "language": "python",
      "name": "feml"
    },
    "language_info": {
      "codemirror_mode": {
        "name": "ipython",
        "version": 3
      },
      "file_extension": ".py",
      "mimetype": "text/x-python",
      "name": "python",
      "nbconvert_exporter": "python",
      "pygments_lexer": "ipython3",
      "version": "3.7.3"
    },
    "toc": {
      "nav_menu": {},
      "number_sections": true,
      "sideBar": true,
      "skip_h1_title": false,
      "toc_cell": false,
      "toc_position": {},
      "toc_section_display": "block",
      "toc_window_display": true
    },
    "colab": {
      "name": "CodificacionVariables_Monotonico-Tasa-Probabilidad.ipynb",
      "provenance": [],
      "toc_visible": true,
      "include_colab_link": true
    }
  },
  "cells": [
    {
      "cell_type": "markdown",
      "metadata": {
        "id": "view-in-github",
        "colab_type": "text"
      },
      "source": [
        "<a href=\"https://colab.research.google.com/github/virf96/Chat-Bot/blob/master/CodificacionVariables_Monotonico_Tasa_Probabilidad.ipynb\" target=\"_parent\"><img src=\"https://colab.research.google.com/assets/colab-badge.svg\" alt=\"Open In Colab\"/></a>"
      ]
    },
    {
      "cell_type": "markdown",
      "metadata": {
        "id": "daTxYsUkUKBF"
      },
      "source": [
        "## Codificación por la Tasa de Probabilidad\n",
        "\n",
        "En las lecciones anteriores de esta sección, vimos como convertir una etiqueta en un número usando codificación one-hot, reemplazando por un dígito o reemplazando por la frecuencia o número de observaciones. Estos métodos son sencillos, y no (o casi nunca) hacen supuestos sobre los datos y funcionan generalmente bien en una variedad de escenarios.\n",
        "\n",
        "Hay métodos que por el contrario si permiten capturar  información y a la vez pre-procesar las etiquetas de una variable categórica. Estos métodos incluyen:\n",
        "\n",
        "- Ordenar las etiquetas de acuerdo al target\n",
        "- Reemplazar las etiquetas por el promedio del target (codificación por la media / por el target) \n",
        "- Reemplazar las etiquetas por el radio de probabilidad del target - ya sea 1 o 0\n",
        "- Pesos de evidencia (Weight of evidence)\n",
        "\n",
        "Todos estos métodos tienen algo en común:\n",
        "- la codificación es **guiada por el target**, y\n",
        "- crean una **relación monotónica** entre la variable y el target\n",
        "\n",
        "\n",
        "### Monotonicidad\n",
        "\n",
        "Una relación monotónica es una relación que tiene lo siguiente:\n",
        "\n",
        "- (1) cuando el valor de una variable incrementa, asi mismo sucede con la otra variable; o\n",
        "- (2) cuando el valor de una variable incrementa, el valor de la otra variable decrece.\n",
        "\n",
        "En este caso, si el valor de la variable independiente (predictor) incrementa, lo mismo sucede con el target (variable objetivo), o por el contrario, si la variable incrementa, el valor del target decrece.\n",
        "\n",
        "\n",
        "### Ventajas \n",
        "\n",
        "- Captura la información dentro de la categoría, por lo tanto incrementa el poder predictivo de las variables.\n",
        "- Crea una relación monotónica entre la variable y el target, por lo tanto es adecuada para modelos lineales.\n",
        "- No expande el espacio de las variables\n",
        "\n",
        "\n",
        "### Limitaciones\n",
        "\n",
        "- Tiende a causar sobreajustes\n",
        "- Es difícil de validar usando las librerías existentes\n",
        "\n",
        "### Nota\n",
        "\n",
        "Los métodos discutidos en esta y las próximas 3 lecciones pueden ser usados con variables numéricas, luego de discretizarlas. Esto crea una relación monotónica entre la variable numérica y el target y por lo tanto mejora el desempeño de los modelos lineales. Discutiremos esto en más detalle en la sección \"Discretización\"\n",
        "\n",
        "\n",
        "===============================================================================\n",
        "\n",
        "## Codificación por la Tasa de Probabilidad\n",
        "\n",
        "Este tipo de codificación se puede usar solamente para problemas de clasificación, donde el target es binario.\n",
        "\n",
        "Por cada categoría, calculamos el promedio que el target = 1, es decir, la probabilidad de que el target sea 1 ( P(1) ), y la probabilidad de que el target = 0 ( P(0) ). Y luego calculamos la proporción P(1)/P(0) y reemplazamos las categorías por esta tasa.\n",
        "\n",
        "\n",
        "## En este demo:\n",
        "\n",
        "Vamos a ver como calcular esta codificación usando:\n",
        "- pandas\n",
        "- Feature-Engine\n",
        "\n",
        "y las ventajas y limitaciones de cada una de estas implementaciones usando los datos del Titanic.\n",
        "\n"
      ]
    },
    {
      "cell_type": "code",
      "metadata": {
        "colab": {
          "base_uri": "https://localhost:8080/"
        },
        "id": "QG6iWbtJbQlG",
        "outputId": "3f32390a-fb9d-45f4-a41e-76266b6b88fa"
      },
      "source": [
        "from google.colab import drive\n",
        "drive.mount('/content/drive')"
      ],
      "execution_count": 2,
      "outputs": [
        {
          "output_type": "stream",
          "text": [
            "Mounted at /content/drive\n"
          ],
          "name": "stdout"
        }
      ]
    },
    {
      "cell_type": "code",
      "metadata": {
        "colab": {
          "base_uri": "https://localhost:8080/"
        },
        "id": "4tJhlJc9bfdo",
        "outputId": "6614f864-80c9-49ef-ee11-73be3d354e0e"
      },
      "source": [
        "pip install feature_engine"
      ],
      "execution_count": 3,
      "outputs": [
        {
          "output_type": "stream",
          "text": [
            "Collecting feature_engine\n",
            "  Downloading https://files.pythonhosted.org/packages/14/ed/5680bf401855b788f79cadc1298c210c5860eb5d54c4008cfa234b752ef1/feature_engine-0.6.1-py2.py3-none-any.whl\n",
            "Collecting statsmodels>=0.11.1\n",
            "\u001b[?25l  Downloading https://files.pythonhosted.org/packages/be/4c/9e2435ca6645d6bafa2b51bb11f0a365b28934a2ffe9d6e339d67130926d/statsmodels-0.12.1-cp36-cp36m-manylinux1_x86_64.whl (9.5MB)\n",
            "\u001b[K     |████████████████████████████████| 9.5MB 9.7MB/s \n",
            "\u001b[?25hRequirement already satisfied: scikit-learn>=0.22.2 in /usr/local/lib/python3.6/dist-packages (from feature_engine) (0.22.2.post1)\n",
            "Requirement already satisfied: numpy>=1.18.2 in /usr/local/lib/python3.6/dist-packages (from feature_engine) (1.18.5)\n",
            "Requirement already satisfied: scipy>=1.4.1 in /usr/local/lib/python3.6/dist-packages (from feature_engine) (1.4.1)\n",
            "Requirement already satisfied: pandas>=1.0.3 in /usr/local/lib/python3.6/dist-packages (from feature_engine) (1.1.5)\n",
            "Requirement already satisfied: patsy>=0.5 in /usr/local/lib/python3.6/dist-packages (from statsmodels>=0.11.1->feature_engine) (0.5.1)\n",
            "Requirement already satisfied: joblib>=0.11 in /usr/local/lib/python3.6/dist-packages (from scikit-learn>=0.22.2->feature_engine) (0.17.0)\n",
            "Requirement already satisfied: python-dateutil>=2.7.3 in /usr/local/lib/python3.6/dist-packages (from pandas>=1.0.3->feature_engine) (2.8.1)\n",
            "Requirement already satisfied: pytz>=2017.2 in /usr/local/lib/python3.6/dist-packages (from pandas>=1.0.3->feature_engine) (2018.9)\n",
            "Requirement already satisfied: six in /usr/local/lib/python3.6/dist-packages (from patsy>=0.5->statsmodels>=0.11.1->feature_engine) (1.15.0)\n",
            "Installing collected packages: statsmodels, feature-engine\n",
            "  Found existing installation: statsmodels 0.10.2\n",
            "    Uninstalling statsmodels-0.10.2:\n",
            "      Successfully uninstalled statsmodels-0.10.2\n",
            "Successfully installed feature-engine-0.6.1 statsmodels-0.12.1\n"
          ],
          "name": "stdout"
        }
      ]
    },
    {
      "cell_type": "code",
      "metadata": {
        "scrolled": true,
        "id": "KUypGhN9UKBJ"
      },
      "source": [
        "import numpy as np\n",
        "import pandas as pd\n",
        "\n",
        "import matplotlib.pyplot as plt\n",
        "\n",
        "# separar el datasets\n",
        "from sklearn.model_selection import train_test_split\n",
        "\n",
        "# codificación con feature-engine\n",
        "from feature_engine.categorical_encoders import WoERatioCategoricalEncoder"
      ],
      "execution_count": 4,
      "outputs": []
    },
    {
      "cell_type": "code",
      "metadata": {
        "colab": {
          "base_uri": "https://localhost:8080/",
          "height": 191
        },
        "id": "aXnwizJPUKBK",
        "outputId": "af33ce41-b7bb-4216-bd00-8379ee17f65c"
      },
      "source": [
        "# cargar los datos\n",
        "\n",
        "data = pd.read_csv(\n",
        "    '/content/drive/MyDrive/datasets/titanic.csv',\n",
        "    usecols=['cabin', 'sex', 'embarked', 'survived'])\n",
        "\n",
        "data.head()"
      ],
      "execution_count": 5,
      "outputs": [
        {
          "output_type": "execute_result",
          "data": {
            "text/html": [
              "<div>\n",
              "<style scoped>\n",
              "    .dataframe tbody tr th:only-of-type {\n",
              "        vertical-align: middle;\n",
              "    }\n",
              "\n",
              "    .dataframe tbody tr th {\n",
              "        vertical-align: top;\n",
              "    }\n",
              "\n",
              "    .dataframe thead th {\n",
              "        text-align: right;\n",
              "    }\n",
              "</style>\n",
              "<table border=\"1\" class=\"dataframe\">\n",
              "  <thead>\n",
              "    <tr style=\"text-align: right;\">\n",
              "      <th></th>\n",
              "      <th>survived</th>\n",
              "      <th>sex</th>\n",
              "      <th>cabin</th>\n",
              "      <th>embarked</th>\n",
              "    </tr>\n",
              "  </thead>\n",
              "  <tbody>\n",
              "    <tr>\n",
              "      <th>0</th>\n",
              "      <td>1</td>\n",
              "      <td>female</td>\n",
              "      <td>B5</td>\n",
              "      <td>S</td>\n",
              "    </tr>\n",
              "    <tr>\n",
              "      <th>1</th>\n",
              "      <td>1</td>\n",
              "      <td>male</td>\n",
              "      <td>C22</td>\n",
              "      <td>S</td>\n",
              "    </tr>\n",
              "    <tr>\n",
              "      <th>2</th>\n",
              "      <td>0</td>\n",
              "      <td>female</td>\n",
              "      <td>C22</td>\n",
              "      <td>S</td>\n",
              "    </tr>\n",
              "    <tr>\n",
              "      <th>3</th>\n",
              "      <td>0</td>\n",
              "      <td>male</td>\n",
              "      <td>C22</td>\n",
              "      <td>S</td>\n",
              "    </tr>\n",
              "    <tr>\n",
              "      <th>4</th>\n",
              "      <td>0</td>\n",
              "      <td>female</td>\n",
              "      <td>C22</td>\n",
              "      <td>S</td>\n",
              "    </tr>\n",
              "  </tbody>\n",
              "</table>\n",
              "</div>"
            ],
            "text/plain": [
              "   survived     sex cabin embarked\n",
              "0         1  female    B5        S\n",
              "1         1    male   C22        S\n",
              "2         0  female   C22        S\n",
              "3         0    male   C22        S\n",
              "4         0  female   C22        S"
            ]
          },
          "metadata": {
            "tags": []
          },
          "execution_count": 5
        }
      ]
    },
    {
      "cell_type": "code",
      "metadata": {
        "colab": {
          "base_uri": "https://localhost:8080/"
        },
        "id": "B7TvRFOsb_j1",
        "outputId": "89ddd2d8-6460-4a01-a717-1d3c9e5927d9"
      },
      "source": [
        "data.isna().mean()"
      ],
      "execution_count": 6,
      "outputs": [
        {
          "output_type": "execute_result",
          "data": {
            "text/plain": [
              "survived    0.000000\n",
              "sex         0.000000\n",
              "cabin       0.774637\n",
              "embarked    0.001528\n",
              "dtype: float64"
            ]
          },
          "metadata": {
            "tags": []
          },
          "execution_count": 6
        }
      ]
    },
    {
      "cell_type": "code",
      "metadata": {
        "colab": {
          "base_uri": "https://localhost:8080/"
        },
        "id": "VfkxBdbfUKBM",
        "outputId": "3282564c-2310-45c4-c835-31b891176d07"
      },
      "source": [
        "# removamos las observaciones con datos ausentes na en embarked\n",
        "\n",
        "data.dropna(subset=['embarked'], inplace=True)\n",
        "data.shape"
      ],
      "execution_count": 7,
      "outputs": [
        {
          "output_type": "execute_result",
          "data": {
            "text/plain": [
              "(1307, 4)"
            ]
          },
          "metadata": {
            "tags": []
          },
          "execution_count": 7
        }
      ]
    },
    {
      "cell_type": "code",
      "metadata": {
        "colab": {
          "base_uri": "https://localhost:8080/"
        },
        "id": "po72a-fMcF_5",
        "outputId": "121382cc-3cd4-4354-d475-28839abec513"
      },
      "source": [
        "data.isna().mean()"
      ],
      "execution_count": 8,
      "outputs": [
        {
          "output_type": "execute_result",
          "data": {
            "text/plain": [
              "survived    0.000000\n",
              "sex         0.000000\n",
              "cabin       0.775822\n",
              "embarked    0.000000\n",
              "dtype: float64"
            ]
          },
          "metadata": {
            "tags": []
          },
          "execution_count": 8
        }
      ]
    },
    {
      "cell_type": "code",
      "metadata": {
        "id": "O9vd1dhUUKBM"
      },
      "source": [
        "# Ahora reemplazamos los valores de la variable cabin \n",
        "# con la primera letra de cada una de sus etiquetas. \n",
        "# De esta forma simplificamos los valores en la variable \n",
        "# y facilitamos el demo \n",
        "\n",
        "data['cabin'] = data['cabin'].astype(str).str[0]"
      ],
      "execution_count": 9,
      "outputs": []
    },
    {
      "cell_type": "code",
      "metadata": {
        "colab": {
          "base_uri": "https://localhost:8080/"
        },
        "id": "SD4RNYXGUKBN",
        "outputId": "c4f0089e-9715-41be-890c-0a27fa4b6ad4"
      },
      "source": [
        "# removemos las observaciones donde cabin = T\n",
        "# ya que solo son unas pocas\n",
        "\n",
        "data = data[data['cabin']!= 'T']\n",
        "data.shape"
      ],
      "execution_count": 10,
      "outputs": [
        {
          "output_type": "execute_result",
          "data": {
            "text/plain": [
              "(1306, 4)"
            ]
          },
          "metadata": {
            "tags": []
          },
          "execution_count": 10
        }
      ]
    },
    {
      "cell_type": "code",
      "metadata": {
        "colab": {
          "base_uri": "https://localhost:8080/"
        },
        "id": "kM62Z6FyUKBN",
        "outputId": "22054bea-9322-4c15-bef7-c17a6c18a547"
      },
      "source": [
        "# miremos cuantas categorías tiene cada variable\n",
        "\n",
        "for col in data.columns:\n",
        "    print(col, ': ', len(data[col].unique()), ' etiquetas')"
      ],
      "execution_count": 11,
      "outputs": [
        {
          "output_type": "stream",
          "text": [
            "survived :  2  etiquetas\n",
            "sex :  2  etiquetas\n",
            "cabin :  8  etiquetas\n",
            "embarked :  3  etiquetas\n"
          ],
          "name": "stdout"
        }
      ]
    },
    {
      "cell_type": "code",
      "metadata": {
        "colab": {
          "base_uri": "https://localhost:8080/"
        },
        "id": "sVCA-BoYUKBO",
        "outputId": "ac2c7132-6713-4700-f354-e2151e009b0d"
      },
      "source": [
        "# exploremos las categorías de cada variable\n",
        "data['cabin'].unique()"
      ],
      "execution_count": 12,
      "outputs": [
        {
          "output_type": "execute_result",
          "data": {
            "text/plain": [
              "array(['B', 'C', 'E', 'D', 'A', 'n', 'F', 'G'], dtype=object)"
            ]
          },
          "metadata": {
            "tags": []
          },
          "execution_count": 12
        }
      ]
    },
    {
      "cell_type": "code",
      "metadata": {
        "colab": {
          "base_uri": "https://localhost:8080/"
        },
        "id": "hK4OtZd_UKBO",
        "outputId": "f504d340-c36b-48e5-9a24-06509e04794f"
      },
      "source": [
        "data['sex'].unique()"
      ],
      "execution_count": 13,
      "outputs": [
        {
          "output_type": "execute_result",
          "data": {
            "text/plain": [
              "array(['female', 'male'], dtype=object)"
            ]
          },
          "metadata": {
            "tags": []
          },
          "execution_count": 13
        }
      ]
    },
    {
      "cell_type": "code",
      "metadata": {
        "colab": {
          "base_uri": "https://localhost:8080/"
        },
        "id": "GtKHsQ71UKBP",
        "outputId": "90ee8498-5ed9-43b5-948b-2c2585a534df"
      },
      "source": [
        "data['embarked'].unique()"
      ],
      "execution_count": 14,
      "outputs": [
        {
          "output_type": "execute_result",
          "data": {
            "text/plain": [
              "array(['S', 'C', 'Q'], dtype=object)"
            ]
          },
          "metadata": {
            "tags": []
          },
          "execution_count": 14
        }
      ]
    },
    {
      "cell_type": "markdown",
      "metadata": {
        "id": "lgtEbpCgUKBP"
      },
      "source": [
        "### Importante\n",
        "\n",
        "Calculamos la tasa  P(1)/P(0) usando el set de entrenamiento, y luego usamos ese mapeo en el set de prueba.\n",
        "\n",
        "Para implementarlo en pandas, tenemos que mantener el target en el set de entrenamiento."
      ]
    },
    {
      "cell_type": "code",
      "metadata": {
        "colab": {
          "base_uri": "https://localhost:8080/"
        },
        "id": "TjocG7-OUKBQ",
        "outputId": "dccd8cf9-6972-4332-8e46-1bbf5221d513"
      },
      "source": [
        "# separemos en sets de prueba y entrenamiento\n",
        "\n",
        "X_train, X_test, y_train, y_test = train_test_split(\n",
        "    data[['cabin', 'sex', 'embarked', 'survived']],  # esta vez mantenemos el target en la variable\n",
        "    data['survived'],  # target\n",
        "    test_size=0.3,  # porcentaje de observaciones en el set de prueba\n",
        "    random_state=0)  # semilla asegurar reproducibilidad\n",
        "\n",
        "X_train.shape, X_test.shape"
      ],
      "execution_count": 15,
      "outputs": [
        {
          "output_type": "execute_result",
          "data": {
            "text/plain": [
              "((914, 4), (392, 4))"
            ]
          },
          "metadata": {
            "tags": []
          },
          "execution_count": 15
        }
      ]
    },
    {
      "cell_type": "markdown",
      "metadata": {
        "id": "_wyA9dMUUKBQ"
      },
      "source": [
        "### Exploremos la relación original entre las variables categóricas y el target"
      ]
    },
    {
      "cell_type": "code",
      "metadata": {
        "colab": {
          "base_uri": "https://localhost:8080/",
          "height": 851
        },
        "id": "TUk-aN1bUKBR",
        "outputId": "cc3bd6fd-3995-4abb-8590-9b982b92cd18"
      },
      "source": [
        "# Exploremos la relación original entre las variables categóricas \n",
        "# y el target survived\n",
        "\n",
        "for var in ['cabin', 'sex', 'embarked']:\n",
        "    \n",
        "    fig = plt.figure()\n",
        "    fig = X_train.groupby([var])['survived'].mean().plot()\n",
        "    fig.set_title('Relación entre {} y target: survived'.format(var))\n",
        "    fig.set_ylabel('Promedio Supervivencia')\n",
        "    plt.show()"
      ],
      "execution_count": 16,
      "outputs": [
        {
          "output_type": "display_data",
          "data": {
            "image/png": "[encoded data removed]",
            "text/plain": [
              "<Figure size 432x288 with 1 Axes>"
            ]
          },
          "metadata": {
            "tags": [],
            "needs_background": "light"
          }
        },
        {
          "output_type": "display_data",
          "data": {
            "image/png": "[encoded data removed]",
            "text/plain": [
              "<Figure size 432x288 with 1 Axes>"
            ]
          },
          "metadata": {
            "tags": [],
            "needs_background": "light"
          }
        },
        {
          "output_type": "display_data",
          "data": {
            "image/png": "[encoded data removed]",
            "text/plain": [
              "<Figure size 432x288 with 1 Axes>"
            ]
          },
          "metadata": {
            "tags": [],
            "needs_background": "light"
          }
        }
      ]
    },
    {
      "cell_type": "markdown",
      "metadata": {
        "id": "vYGafU2bUKBR"
      },
      "source": [
        "Podemos ver en la relación entre el target y las variables cabin/embarked, que esta sube y baja dependiendo de la categoría. \n",
        "\n",
        "## Codificación por la Tasa de Probabilidad con pandas\n",
        "\n",
        "### Ventajas\n",
        "\n",
        "- rápido\n",
        "- retorna un dataframe de pandas\n",
        "\n",
        "### Limitaciones de pandas:\n",
        "\n",
        "- no preserva la información del set de entrenamiento para propagarlo al set de prueba\n",
        "\n",
        "Necesitamos capturar y guardar los mapeos uno por uno, manualmente, si estamos planeando usarlos en producción\n"
      ]
    },
    {
      "cell_type": "code",
      "metadata": {
        "colab": {
          "base_uri": "https://localhost:8080/",
          "height": 306
        },
        "id": "FJ7VrflaUKBS",
        "outputId": "eaf70d2b-8a3a-4097-b41f-ae6e173f801f"
      },
      "source": [
        "# calculemos la probabilidad de survived = 1 por cada categoría\n",
        "\n",
        "prob_df = X_train.groupby(['cabin'])['survived'].mean()\n",
        "\n",
        "# capturemos en un dataframe\n",
        "prob_df = pd.DataFrame(prob_df)\n",
        "prob_df"
      ],
      "execution_count": 17,
      "outputs": [
        {
          "output_type": "execute_result",
          "data": {
            "text/html": [
              "<div>\n",
              "<style scoped>\n",
              "    .dataframe tbody tr th:only-of-type {\n",
              "        vertical-align: middle;\n",
              "    }\n",
              "\n",
              "    .dataframe tbody tr th {\n",
              "        vertical-align: top;\n",
              "    }\n",
              "\n",
              "    .dataframe thead th {\n",
              "        text-align: right;\n",
              "    }\n",
              "</style>\n",
              "<table border=\"1\" class=\"dataframe\">\n",
              "  <thead>\n",
              "    <tr style=\"text-align: right;\">\n",
              "      <th></th>\n",
              "      <th>survived</th>\n",
              "    </tr>\n",
              "    <tr>\n",
              "      <th>cabin</th>\n",
              "      <th></th>\n",
              "    </tr>\n",
              "  </thead>\n",
              "  <tbody>\n",
              "    <tr>\n",
              "      <th>A</th>\n",
              "      <td>0.411765</td>\n",
              "    </tr>\n",
              "    <tr>\n",
              "      <th>B</th>\n",
              "      <td>0.738095</td>\n",
              "    </tr>\n",
              "    <tr>\n",
              "      <th>C</th>\n",
              "      <td>0.600000</td>\n",
              "    </tr>\n",
              "    <tr>\n",
              "      <th>D</th>\n",
              "      <td>0.696970</td>\n",
              "    </tr>\n",
              "    <tr>\n",
              "      <th>E</th>\n",
              "      <td>0.700000</td>\n",
              "    </tr>\n",
              "    <tr>\n",
              "      <th>F</th>\n",
              "      <td>0.769231</td>\n",
              "    </tr>\n",
              "    <tr>\n",
              "      <th>G</th>\n",
              "      <td>0.750000</td>\n",
              "    </tr>\n",
              "    <tr>\n",
              "      <th>n</th>\n",
              "      <td>0.292199</td>\n",
              "    </tr>\n",
              "  </tbody>\n",
              "</table>\n",
              "</div>"
            ],
            "text/plain": [
              "       survived\n",
              "cabin          \n",
              "A      0.411765\n",
              "B      0.738095\n",
              "C      0.600000\n",
              "D      0.696970\n",
              "E      0.700000\n",
              "F      0.769231\n",
              "G      0.750000\n",
              "n      0.292199"
            ]
          },
          "metadata": {
            "tags": []
          },
          "execution_count": 17
        }
      ]
    },
    {
      "cell_type": "code",
      "metadata": {
        "colab": {
          "base_uri": "https://localhost:8080/",
          "height": 306
        },
        "id": "8wnfxBz7UKBS",
        "outputId": "9f4abc92-507f-4c36-fa72-06fd986fb1df"
      },
      "source": [
        "# y ahora la probabilidad de survived = 0\n",
        "# esta es la probabilidad que el pasajero haya muerto (died)\n",
        "\n",
        "prob_df['died'] = 1 - prob_df['survived']\n",
        "\n",
        "prob_df"
      ],
      "execution_count": 18,
      "outputs": [
        {
          "output_type": "execute_result",
          "data": {
            "text/html": [
              "<div>\n",
              "<style scoped>\n",
              "    .dataframe tbody tr th:only-of-type {\n",
              "        vertical-align: middle;\n",
              "    }\n",
              "\n",
              "    .dataframe tbody tr th {\n",
              "        vertical-align: top;\n",
              "    }\n",
              "\n",
              "    .dataframe thead th {\n",
              "        text-align: right;\n",
              "    }\n",
              "</style>\n",
              "<table border=\"1\" class=\"dataframe\">\n",
              "  <thead>\n",
              "    <tr style=\"text-align: right;\">\n",
              "      <th></th>\n",
              "      <th>survived</th>\n",
              "      <th>died</th>\n",
              "    </tr>\n",
              "    <tr>\n",
              "      <th>cabin</th>\n",
              "      <th></th>\n",
              "      <th></th>\n",
              "    </tr>\n",
              "  </thead>\n",
              "  <tbody>\n",
              "    <tr>\n",
              "      <th>A</th>\n",
              "      <td>0.411765</td>\n",
              "      <td>0.588235</td>\n",
              "    </tr>\n",
              "    <tr>\n",
              "      <th>B</th>\n",
              "      <td>0.738095</td>\n",
              "      <td>0.261905</td>\n",
              "    </tr>\n",
              "    <tr>\n",
              "      <th>C</th>\n",
              "      <td>0.600000</td>\n",
              "      <td>0.400000</td>\n",
              "    </tr>\n",
              "    <tr>\n",
              "      <th>D</th>\n",
              "      <td>0.696970</td>\n",
              "      <td>0.303030</td>\n",
              "    </tr>\n",
              "    <tr>\n",
              "      <th>E</th>\n",
              "      <td>0.700000</td>\n",
              "      <td>0.300000</td>\n",
              "    </tr>\n",
              "    <tr>\n",
              "      <th>F</th>\n",
              "      <td>0.769231</td>\n",
              "      <td>0.230769</td>\n",
              "    </tr>\n",
              "    <tr>\n",
              "      <th>G</th>\n",
              "      <td>0.750000</td>\n",
              "      <td>0.250000</td>\n",
              "    </tr>\n",
              "    <tr>\n",
              "      <th>n</th>\n",
              "      <td>0.292199</td>\n",
              "      <td>0.707801</td>\n",
              "    </tr>\n",
              "  </tbody>\n",
              "</table>\n",
              "</div>"
            ],
            "text/plain": [
              "       survived      died\n",
              "cabin                    \n",
              "A      0.411765  0.588235\n",
              "B      0.738095  0.261905\n",
              "C      0.600000  0.400000\n",
              "D      0.696970  0.303030\n",
              "E      0.700000  0.300000\n",
              "F      0.769231  0.230769\n",
              "G      0.750000  0.250000\n",
              "n      0.292199  0.707801"
            ]
          },
          "metadata": {
            "tags": []
          },
          "execution_count": 18
        }
      ]
    },
    {
      "cell_type": "code",
      "metadata": {
        "colab": {
          "base_uri": "https://localhost:8080/",
          "height": 306
        },
        "id": "HYMtnwZ_UKBS",
        "outputId": "99ba81bc-9271-4a65-db3b-afdc99c6147a"
      },
      "source": [
        "#  y ahora la calculemos la tasa o proporción\n",
        "\n",
        "prob_df['ratio'] = prob_df['survived'] / prob_df['died']\n",
        "\n",
        "prob_df"
      ],
      "execution_count": 19,
      "outputs": [
        {
          "output_type": "execute_result",
          "data": {
            "text/html": [
              "<div>\n",
              "<style scoped>\n",
              "    .dataframe tbody tr th:only-of-type {\n",
              "        vertical-align: middle;\n",
              "    }\n",
              "\n",
              "    .dataframe tbody tr th {\n",
              "        vertical-align: top;\n",
              "    }\n",
              "\n",
              "    .dataframe thead th {\n",
              "        text-align: right;\n",
              "    }\n",
              "</style>\n",
              "<table border=\"1\" class=\"dataframe\">\n",
              "  <thead>\n",
              "    <tr style=\"text-align: right;\">\n",
              "      <th></th>\n",
              "      <th>survived</th>\n",
              "      <th>died</th>\n",
              "      <th>ratio</th>\n",
              "    </tr>\n",
              "    <tr>\n",
              "      <th>cabin</th>\n",
              "      <th></th>\n",
              "      <th></th>\n",
              "      <th></th>\n",
              "    </tr>\n",
              "  </thead>\n",
              "  <tbody>\n",
              "    <tr>\n",
              "      <th>A</th>\n",
              "      <td>0.411765</td>\n",
              "      <td>0.588235</td>\n",
              "      <td>0.700000</td>\n",
              "    </tr>\n",
              "    <tr>\n",
              "      <th>B</th>\n",
              "      <td>0.738095</td>\n",
              "      <td>0.261905</td>\n",
              "      <td>2.818182</td>\n",
              "    </tr>\n",
              "    <tr>\n",
              "      <th>C</th>\n",
              "      <td>0.600000</td>\n",
              "      <td>0.400000</td>\n",
              "      <td>1.500000</td>\n",
              "    </tr>\n",
              "    <tr>\n",
              "      <th>D</th>\n",
              "      <td>0.696970</td>\n",
              "      <td>0.303030</td>\n",
              "      <td>2.300000</td>\n",
              "    </tr>\n",
              "    <tr>\n",
              "      <th>E</th>\n",
              "      <td>0.700000</td>\n",
              "      <td>0.300000</td>\n",
              "      <td>2.333333</td>\n",
              "    </tr>\n",
              "    <tr>\n",
              "      <th>F</th>\n",
              "      <td>0.769231</td>\n",
              "      <td>0.230769</td>\n",
              "      <td>3.333333</td>\n",
              "    </tr>\n",
              "    <tr>\n",
              "      <th>G</th>\n",
              "      <td>0.750000</td>\n",
              "      <td>0.250000</td>\n",
              "      <td>3.000000</td>\n",
              "    </tr>\n",
              "    <tr>\n",
              "      <th>n</th>\n",
              "      <td>0.292199</td>\n",
              "      <td>0.707801</td>\n",
              "      <td>0.412826</td>\n",
              "    </tr>\n",
              "  </tbody>\n",
              "</table>\n",
              "</div>"
            ],
            "text/plain": [
              "       survived      died     ratio\n",
              "cabin                              \n",
              "A      0.411765  0.588235  0.700000\n",
              "B      0.738095  0.261905  2.818182\n",
              "C      0.600000  0.400000  1.500000\n",
              "D      0.696970  0.303030  2.300000\n",
              "E      0.700000  0.300000  2.333333\n",
              "F      0.769231  0.230769  3.333333\n",
              "G      0.750000  0.250000  3.000000\n",
              "n      0.292199  0.707801  0.412826"
            ]
          },
          "metadata": {
            "tags": []
          },
          "execution_count": 19
        }
      ]
    },
    {
      "cell_type": "code",
      "metadata": {
        "colab": {
          "base_uri": "https://localhost:8080/"
        },
        "id": "OyX_NKrNUKBT",
        "outputId": "73daa9ce-0fe0-49b8-ea41-8d8dd1c462c5"
      },
      "source": [
        "# y ahora capturemos la proporción en un diccionario \n",
        "\n",
        "ordered_labels = prob_df['ratio'].to_dict()\n",
        "\n",
        "ordered_labels"
      ],
      "execution_count": 20,
      "outputs": [
        {
          "output_type": "execute_result",
          "data": {
            "text/plain": [
              "{'A': 0.7,\n",
              " 'B': 2.818181818181819,\n",
              " 'C': 1.4999999999999998,\n",
              " 'D': 2.3000000000000007,\n",
              " 'E': 2.333333333333333,\n",
              " 'F': 3.333333333333334,\n",
              " 'G': 3.0,\n",
              " 'n': 0.4128256513026052}"
            ]
          },
          "metadata": {
            "tags": []
          },
          "execution_count": 20
        }
      ]
    },
    {
      "cell_type": "code",
      "metadata": {
        "id": "8zfroUPhUKBU"
      },
      "source": [
        "# y ahora reemplazamos cada categoría por la tasa de probabilidad\n",
        "\n",
        "X_train['cabin'] = X_train['cabin'].map(ordered_labels)\n",
        "X_test['cabin'] = X_test['cabin'].map(ordered_labels)"
      ],
      "execution_count": 21,
      "outputs": []
    },
    {
      "cell_type": "code",
      "metadata": {
        "colab": {
          "base_uri": "https://localhost:8080/"
        },
        "id": "YzO74AR1UKBU",
        "outputId": "e8aa2a3f-b385-4a75-df66-a28199c500ba"
      },
      "source": [
        "# exploremos el resultado\n",
        "\n",
        "X_train['cabin'].head(10)"
      ],
      "execution_count": 22,
      "outputs": [
        {
          "output_type": "execute_result",
          "data": {
            "text/plain": [
              "843     0.412826\n",
              "869     0.412826\n",
              "430     0.412826\n",
              "481     0.412826\n",
              "1308    0.412826\n",
              "456     0.412826\n",
              "118     2.300000\n",
              "485     2.300000\n",
              "297     0.412826\n",
              "263     2.333333\n",
              "Name: cabin, dtype: float64"
            ]
          },
          "metadata": {
            "tags": []
          },
          "execution_count": 22
        }
      ]
    },
    {
      "cell_type": "code",
      "metadata": {
        "id": "SVWbQbUXUKBU"
      },
      "source": [
        "# agrupemos los comandos anteriores en dos funciones\n",
        "\n",
        "def find_category_mappings(df, variable, target):\n",
        "\n",
        "    tmp = pd.DataFrame(df.groupby([variable])[target].mean())\n",
        "    \n",
        "    tmp['non-target'] = 1 - tmp[target]\n",
        "    \n",
        "    tmp['ratio'] = tmp[target] / tmp['non-target']\n",
        "\n",
        "    return tmp['ratio'].to_dict()\n",
        "\n",
        "\n",
        "def integer_encode(train, test, variable, ordinal_mapping):\n",
        "\n",
        "    X_train[variable] = X_train[variable].map(ordinal_mapping)\n",
        "    X_test[variable] = X_test[variable].map(ordinal_mapping)"
      ],
      "execution_count": 23,
      "outputs": []
    },
    {
      "cell_type": "code",
      "metadata": {
        "id": "aBTFEFJmUKBV"
      },
      "source": [
        "# ahora repitamos el proceso (con un ciclo) para cada \n",
        "# una de las variables categóricas\n",
        "\n",
        "for variable in ['sex', 'embarked']:\n",
        "    \n",
        "    mappings = find_category_mappings(X_train, variable, 'survived')\n",
        "    \n",
        "    integer_encode(X_train, X_test, variable, mappings)"
      ],
      "execution_count": 24,
      "outputs": []
    },
    {
      "cell_type": "code",
      "metadata": {
        "colab": {
          "base_uri": "https://localhost:8080/",
          "height": 191
        },
        "id": "uOVzzfAXUKBV",
        "outputId": "3dffa73a-f2a8-4035-eb10-50c5479f0f62"
      },
      "source": [
        "# veamos el resultado\n",
        "\n",
        "X_train.head()"
      ],
      "execution_count": 25,
      "outputs": [
        {
          "output_type": "execute_result",
          "data": {
            "text/html": [
              "<div>\n",
              "<style scoped>\n",
              "    .dataframe tbody tr th:only-of-type {\n",
              "        vertical-align: middle;\n",
              "    }\n",
              "\n",
              "    .dataframe tbody tr th {\n",
              "        vertical-align: top;\n",
              "    }\n",
              "\n",
              "    .dataframe thead th {\n",
              "        text-align: right;\n",
              "    }\n",
              "</style>\n",
              "<table border=\"1\" class=\"dataframe\">\n",
              "  <thead>\n",
              "    <tr style=\"text-align: right;\">\n",
              "      <th></th>\n",
              "      <th>cabin</th>\n",
              "      <th>sex</th>\n",
              "      <th>embarked</th>\n",
              "      <th>survived</th>\n",
              "    </tr>\n",
              "  </thead>\n",
              "  <tbody>\n",
              "    <tr>\n",
              "      <th>843</th>\n",
              "      <td>0.412826</td>\n",
              "      <td>0.218107</td>\n",
              "      <td>0.509434</td>\n",
              "      <td>0</td>\n",
              "    </tr>\n",
              "    <tr>\n",
              "      <th>869</th>\n",
              "      <td>0.412826</td>\n",
              "      <td>0.218107</td>\n",
              "      <td>0.509434</td>\n",
              "      <td>0</td>\n",
              "    </tr>\n",
              "    <tr>\n",
              "      <th>430</th>\n",
              "      <td>0.412826</td>\n",
              "      <td>2.788235</td>\n",
              "      <td>0.509434</td>\n",
              "      <td>1</td>\n",
              "    </tr>\n",
              "    <tr>\n",
              "      <th>481</th>\n",
              "      <td>0.412826</td>\n",
              "      <td>2.788235</td>\n",
              "      <td>1.160920</td>\n",
              "      <td>1</td>\n",
              "    </tr>\n",
              "    <tr>\n",
              "      <th>1308</th>\n",
              "      <td>0.412826</td>\n",
              "      <td>0.218107</td>\n",
              "      <td>0.509434</td>\n",
              "      <td>0</td>\n",
              "    </tr>\n",
              "  </tbody>\n",
              "</table>\n",
              "</div>"
            ],
            "text/plain": [
              "         cabin       sex  embarked  survived\n",
              "843   0.412826  0.218107  0.509434         0\n",
              "869   0.412826  0.218107  0.509434         0\n",
              "430   0.412826  2.788235  0.509434         1\n",
              "481   0.412826  2.788235  1.160920         1\n",
              "1308  0.412826  0.218107  0.509434         0"
            ]
          },
          "metadata": {
            "tags": []
          },
          "execution_count": 25
        }
      ]
    },
    {
      "cell_type": "code",
      "metadata": {
        "scrolled": false,
        "colab": {
          "base_uri": "https://localhost:8080/",
          "height": 851
        },
        "id": "DlFKVqWOUKBV",
        "outputId": "8c26108c-c4d4-4e0c-de13-b2f328201b81"
      },
      "source": [
        "# inspeccionemos la relación monotónica\n",
        "# entre cada variable y el target\n",
        "\n",
        "for var in ['cabin', 'sex', 'embarked']:\n",
        "    \n",
        "    fig = plt.figure()\n",
        "    fig = X_train.groupby([var])['survived'].mean().plot()\n",
        "    fig.set_title('Relación monotónica entre {} y target: survived'.format(var))\n",
        "    fig.set_ylabel('Promedio supervivencia')\n",
        "    plt.show()"
      ],
      "execution_count": 26,
      "outputs": [
        {
          "output_type": "display_data",
          "data": {
            "image/png": "[encoded data removed]",
            "text/plain": [
              "<Figure size 432x288 with 1 Axes>"
            ]
          },
          "metadata": {
            "tags": [],
            "needs_background": "light"
          }
        },
        {
          "output_type": "display_data",
          "data": {
            "image/png": "[encoded data removed]",
            "text/plain": [
              "<Figure size 432x288 with 1 Axes>"
            ]
          },
          "metadata": {
            "tags": [],
            "needs_background": "light"
          }
        },
        {
          "output_type": "display_data",
          "data": {
            "image/png": "[encoded data removed]",
            "text/plain": [
              "<Figure size 432x288 with 1 Axes>"
            ]
          },
          "metadata": {
            "tags": [],
            "needs_background": "light"
          }
        }
      ]
    },
    {
      "cell_type": "markdown",
      "metadata": {
        "id": "Ns6oE2nWUKBW"
      },
      "source": [
        "Podemos ver de las gráficas que la relación entre las categorías y el target ahora es monotónica.\n",
        "\n",
        "### Nota\n",
        "Reemplazar las etiquetas con el código anterior, va a generar valores faltantes para las categorías presentes en el set de prueba pero que no lo están en el set de entrenamiento. \n",
        "\n",
        "Por lo tanto es extremadamente importante, manejar las etiquetas poco comunes con prelación. Explicaremos como hacer esto más adelante en otro notebook.\n",
        "\n",
        "**Importante: generaremos NA o Inf en los valores de la tasa de probabilidad si la probabilidad que target = 0 es cero, ya que la división por cero no esta definida. **"
      ]
    },
    {
      "cell_type": "markdown",
      "metadata": {
        "id": "xHmmrIF-UKBW"
      },
      "source": [
        "## Codificación Tasa Probabilidad con Feature-Engine\n",
        "\n",
        "Si usamos Feature-Engine, en lugar de pandas, no necesitamos mantener el target en el set de entrenamiento."
      ]
    },
    {
      "cell_type": "code",
      "metadata": {
        "colab": {
          "base_uri": "https://localhost:8080/"
        },
        "id": "24dC-efJUKBW",
        "outputId": "4f6e4e40-2162-4486-f692-2bff685adf52"
      },
      "source": [
        "# separemos en sets de prueba y entrenamiento\n",
        "\n",
        "X_train, X_test, y_train, y_test = train_test_split(\n",
        "    data[['cabin', 'sex', 'embarked']], # predictores\n",
        "    data['survived'],  # target\n",
        "    test_size=0.3,  # porcentaje de observaciones en el set de prueba\n",
        "    random_state=0)  # semilla asegurar reproducibilidad\n",
        "X_train.shape, X_test.shape"
      ],
      "execution_count": 27,
      "outputs": [
        {
          "output_type": "execute_result",
          "data": {
            "text/plain": [
              "((914, 3), (392, 3))"
            ]
          },
          "metadata": {
            "tags": []
          },
          "execution_count": 27
        }
      ]
    },
    {
      "cell_type": "code",
      "metadata": {
        "id": "KIawJtVCUKBX"
      },
      "source": [
        "ratio_enc = WoERatioCategoricalEncoder(\n",
        "    encoding_method = 'ratio',\n",
        "    variables=['cabin', 'sex', 'embarked'])"
      ],
      "execution_count": 28,
      "outputs": []
    },
    {
      "cell_type": "code",
      "metadata": {
        "colab": {
          "base_uri": "https://localhost:8080/"
        },
        "id": "vyPMa2YjUKBY",
        "outputId": "7a01ba75-badb-4dd8-c772-eacd3c5689d5"
      },
      "source": [
        "# cuando ajustamos el transformador, necesitamos pasar \n",
        "# el target, al igual que las otras clases de predictores \n",
        "# de Scikit-learn \n",
        "ratio_enc.fit(X_train, y_train)"
      ],
      "execution_count": 29,
      "outputs": [
        {
          "output_type": "execute_result",
          "data": {
            "text/plain": [
              "WoERatioCategoricalEncoder(encoding_method='ratio',\n",
              "                           variables=['cabin', 'sex', 'embarked'])"
            ]
          },
          "metadata": {
            "tags": []
          },
          "execution_count": 29
        }
      ]
    },
    {
      "cell_type": "code",
      "metadata": {
        "scrolled": true,
        "colab": {
          "base_uri": "https://localhost:8080/"
        },
        "id": "VoNHCGXPUKBY",
        "outputId": "d91f8ca7-6522-4f6e-bbb0-fcbdc419da3a"
      },
      "source": [
        "# en el atributo encoder_dict_ del encoder podemos ver el \n",
        "# valor de P(1)/P(0) asignado a cada una de las categorías \n",
        "# por cada variable\n",
        "\n",
        "ratio_enc.encoder_dict_"
      ],
      "execution_count": 30,
      "outputs": [
        {
          "output_type": "execute_result",
          "data": {
            "text/plain": [
              "{'cabin': {'A': 0.7,\n",
              "  'B': 2.818181818181819,\n",
              "  'C': 1.4999999999999998,\n",
              "  'D': 2.3000000000000007,\n",
              "  'E': 2.333333333333333,\n",
              "  'F': 3.333333333333334,\n",
              "  'G': 3.0,\n",
              "  'n': 0.4128256513026052},\n",
              " 'embarked': {'C': 1.160919540229885,\n",
              "  'Q': 0.4333333333333333,\n",
              "  'S': 0.5094339622641509},\n",
              " 'sex': {'female': 2.788235294117647, 'male': 0.21810699588477367}}"
            ]
          },
          "metadata": {
            "tags": []
          },
          "execution_count": 30
        }
      ]
    },
    {
      "cell_type": "code",
      "metadata": {
        "colab": {
          "base_uri": "https://localhost:8080/"
        },
        "id": "G-eMdZAFUKBY",
        "outputId": "0a69f2c0-bcb4-417c-88f0-430039e19641"
      },
      "source": [
        "# esta es la lista de variables que el codificador transforma\n",
        "ratio_enc.variables"
      ],
      "execution_count": 31,
      "outputs": [
        {
          "output_type": "execute_result",
          "data": {
            "text/plain": [
              "['cabin', 'sex', 'embarked']"
            ]
          },
          "metadata": {
            "tags": []
          },
          "execution_count": 31
        }
      ]
    },
    {
      "cell_type": "code",
      "metadata": {
        "colab": {
          "base_uri": "https://localhost:8080/",
          "height": 191
        },
        "id": "DuM3IoluUKBZ",
        "outputId": "51f5d745-9f1f-4479-82ad-2d52ed4ecef1"
      },
      "source": [
        "X_train = ratio_enc.transform(X_train)\n",
        "X_test = ratio_enc.transform(X_test)\n",
        "\n",
        "# exploremos el resultado\n",
        "X_train.head()"
      ],
      "execution_count": 32,
      "outputs": [
        {
          "output_type": "execute_result",
          "data": {
            "text/html": [
              "<div>\n",
              "<style scoped>\n",
              "    .dataframe tbody tr th:only-of-type {\n",
              "        vertical-align: middle;\n",
              "    }\n",
              "\n",
              "    .dataframe tbody tr th {\n",
              "        vertical-align: top;\n",
              "    }\n",
              "\n",
              "    .dataframe thead th {\n",
              "        text-align: right;\n",
              "    }\n",
              "</style>\n",
              "<table border=\"1\" class=\"dataframe\">\n",
              "  <thead>\n",
              "    <tr style=\"text-align: right;\">\n",
              "      <th></th>\n",
              "      <th>cabin</th>\n",
              "      <th>sex</th>\n",
              "      <th>embarked</th>\n",
              "    </tr>\n",
              "  </thead>\n",
              "  <tbody>\n",
              "    <tr>\n",
              "      <th>843</th>\n",
              "      <td>0.412826</td>\n",
              "      <td>0.218107</td>\n",
              "      <td>0.509434</td>\n",
              "    </tr>\n",
              "    <tr>\n",
              "      <th>869</th>\n",
              "      <td>0.412826</td>\n",
              "      <td>0.218107</td>\n",
              "      <td>0.509434</td>\n",
              "    </tr>\n",
              "    <tr>\n",
              "      <th>430</th>\n",
              "      <td>0.412826</td>\n",
              "      <td>2.788235</td>\n",
              "      <td>0.509434</td>\n",
              "    </tr>\n",
              "    <tr>\n",
              "      <th>481</th>\n",
              "      <td>0.412826</td>\n",
              "      <td>2.788235</td>\n",
              "      <td>1.160920</td>\n",
              "    </tr>\n",
              "    <tr>\n",
              "      <th>1308</th>\n",
              "      <td>0.412826</td>\n",
              "      <td>0.218107</td>\n",
              "      <td>0.509434</td>\n",
              "    </tr>\n",
              "  </tbody>\n",
              "</table>\n",
              "</div>"
            ],
            "text/plain": [
              "         cabin       sex  embarked\n",
              "843   0.412826  0.218107  0.509434\n",
              "869   0.412826  0.218107  0.509434\n",
              "430   0.412826  2.788235  0.509434\n",
              "481   0.412826  2.788235  1.160920\n",
              "1308  0.412826  0.218107  0.509434"
            ]
          },
          "metadata": {
            "tags": []
          },
          "execution_count": 32
        }
      ]
    },
    {
      "cell_type": "markdown",
      "metadata": {
        "id": "eXS_VyEPUKBa"
      },
      "source": [
        "**Nota**\n",
        "\n",
        "Si el argmento 'variables' se fija en 'None' (ninguno), entonces el codificador automáticamente indentificará  **todas las variables categóricas**. Maravilloso verdad?\n",
        "\n",
        "El codificador no codificará las variables numéricas. Por lo tanto, si algunas de tus variables categóricas son de hecho numéricas, necesitas hacer el 're-cast' o cambio a tipo 'object' antes de usar el codificador.\n",
        "\n",
        "Si hay una variable en el set de prueba, para el cual el codificador no tiene un número para asignar ( la categoría no estaba presente en el set de entrenamiento), el codificador devolverá un error para alertarte del problema.\n",
        "\n",
        "Finalmente, si la probabilidad del target = 0 es cero para cualquier categoría, el codificador devolverá un error ya que la división por cero no esta definida."
      ]
    }
  ]
}