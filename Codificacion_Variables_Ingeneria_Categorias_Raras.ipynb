{
  "nbformat": 4,
  "nbformat_minor": 0,
  "metadata": {
    "kernelspec": {
      "display_name": "feml",
      "language": "python",
      "name": "feml"
    },
    "language_info": {
      "codemirror_mode": {
        "name": "ipython",
        "version": 3
      },
      "file_extension": ".py",
      "mimetype": "text/x-python",
      "name": "python",
      "nbconvert_exporter": "python",
      "pygments_lexer": "ipython3",
      "version": "3.8.2"
    },
    "toc": {
      "base_numbering": 1,
      "nav_menu": {},
      "number_sections": true,
      "sideBar": true,
      "skip_h1_title": false,
      "title_cell": "Table of Contents",
      "title_sidebar": "Contents",
      "toc_cell": false,
      "toc_position": {},
      "toc_section_display": "block",
      "toc_window_display": true
    },
    "colab": {
      "name": "Codificacion_Variables_Ingeneria-Categorias-Raras.ipynb",
      "provenance": [],
      "toc_visible": true,
      "include_colab_link": true
    }
  },
  "cells": [
    {
      "cell_type": "markdown",
      "metadata": {
        "id": "view-in-github",
        "colab_type": "text"
      },
      "source": [
        "<a href=\"https://colab.research.google.com/github/virf96/Chat-Bot/blob/master/Codificacion_Variables_Ingeneria_Categorias_Raras.ipynb\" target=\"_parent\"><img src=\"https://colab.research.google.com/assets/colab-badge.svg\" alt=\"Open In Colab\"/></a>"
      ]
    },
    {
      "cell_type": "markdown",
      "metadata": {
        "id": "P24kkQ4OtX1M"
      },
      "source": [
        "## Ingeniería de las categorías raras o poco frecuentes\n",
        "\n",
        "Las categorías poco frecuentes o raras son aquellas etiquetas (dentro de una variable categórica) que estan presentes en un porcentaje pequeño de las observaciones. No hay una regla general para determinar que 'tan pequeño' es un porcentaje pequeño, pero típicamente, cualquier valor menor de 5% puede ser considerado poco frecuente.\n",
        "\n",
        "Como discutimos anteriormente en la sección 3 de este curso, las categorías poco frecuentes son tan escasas, que es difícil extraer o sacar información confiable de ellas. Lo más importante que debes recordar de la sección 3, es que las etiquetas poco frecuentes tienden a aparecer solamente en uno de los sets, ya sea el de entrenamiento o el de prueba:\n",
        "\n",
        "- Si solo en el set de entrenamiento, pueden causar sobre-ajustes\n",
        "- Si solo en el set de prueba, nuestro modelo de machine learning no sabrá como manejar y evaluar dichas categorías.\n",
        "\n",
        "Por lo tanto, para evitar este tipo de comportamiento, se usa agrupar dichas categorías poco frecuentes en una nueva etiqueta llamada 'Rara' o 'Otra'.\n",
        "\n",
        "Las etiquetas poco frecuentes pueden aparecer en variables de alta o baja cardinalidad. No hay tampoco una regla general para determinar a partir de cuantas etiquetas se considera alta cardinalidad. Depende de cuantas observaciones hay en los datos. Por ejemplo, en conjuntos de datos con 1,000 observaciones, 100 etiquetas pueden parecer bastantes, mientras que en unos datos con 100,000 observaciones no parecen tantas.\n",
        "\n",
        "Variables de alta cardinalidad tienden a tener muchas etiquetas poco frecuentes o categorías raras, mientras que las de baja cardinalidad, puede que solo tengan 1 o 2 etiquetas raras.\n",
        "\n",
        "### Importante:\n",
        "\n",
        "**Agrupar las etiquetas poco frecuentes bajo una nueva categoria llamada 'Rara' or 'Otra' es una práctica común en machine learning en la industria y para negocios**\n",
        "\n",
        "- Agrupar las categorías en una nueva categoria, cuando se tiene una variable con baja cardinalidad, no necesariamente mejora el desempeño del modelo, sin embargo facilita el despliegue del modelo en producción.\n",
        "\n",
        "- Agrupar las categorías en una nueva categoria, cuando se tiene una variable con alta cardinalidad mejora el desempeño de los modelos.\n",
        "\n",
        "\n",
        "## En este demo:\n",
        "\n",
        "Vamos a aprender como reagrupar las categorías poco frecuentes con una nueva etiqueta 'Rare' y vamos a comparar las implicaciones de este tipo de codificación en variables con:\n",
        "\n",
        "- Una categoría predominante\n",
        "- Un grupo pequeño de categorias\n",
        "- Alta cardinalidad\n",
        "\n",
        "Para este demo, vamos a usar los datos House Price. Agruparemos las variables usando:\n",
        "- pandas \n",
        "- Feature-engine."
      ]
    },
    {
      "cell_type": "code",
      "metadata": {
        "id": "lk8A1pAttX1T"
      },
      "source": [
        "import pandas as pd\n",
        "import numpy as np\n",
        "\n",
        "import matplotlib.pyplot as plt\n",
        "\n",
        "# separar los datos\n",
        "from sklearn.model_selection import train_test_split\n",
        "\n",
        "pd.set_option('display.max_columns', None) # mostrar todas las columnas presentes"
      ],
      "execution_count": 1,
      "outputs": []
    },
    {
      "cell_type": "markdown",
      "metadata": {
        "id": "g8fB0D6HtX1U"
      },
      "source": [
        "## Conjunto de datos House Price "
      ]
    },
    {
      "cell_type": "code",
      "metadata": {
        "colab": {
          "base_uri": "https://localhost:8080/"
        },
        "id": "ll4xxjZT0SlV",
        "outputId": "ab23001b-3470-4b93-ad95-8b2e4047a679"
      },
      "source": [
        "from google.colab import drive\n",
        "drive.mount('/content/drive')"
      ],
      "execution_count": 2,
      "outputs": [
        {
          "output_type": "stream",
          "text": [
            "Mounted at /content/drive\n"
          ],
          "name": "stdout"
        }
      ]
    },
    {
      "cell_type": "code",
      "metadata": {
        "id": "tDifIOIctX1U",
        "colab": {
          "base_uri": "https://localhost:8080/",
          "height": 211
        },
        "outputId": "a5485c25-7e6f-4f13-8b6f-497b40952d68"
      },
      "source": [
        "# carguemos los datos\n",
        "\n",
        "data = pd.read_csv('/content/drive/MyDrive/datasets/houseprice.csv')\n",
        "data.head()"
      ],
      "execution_count": 3,
      "outputs": [
        {
          "output_type": "execute_result",
          "data": {
            "text/html": [
              "<div>\n",
              "<style scoped>\n",
              "    .dataframe tbody tr th:only-of-type {\n",
              "        vertical-align: middle;\n",
              "    }\n",
              "\n",
              "    .dataframe tbody tr th {\n",
              "        vertical-align: top;\n",
              "    }\n",
              "\n",
              "    .dataframe thead th {\n",
              "        text-align: right;\n",
              "    }\n",
              "</style>\n",
              "<table border=\"1\" class=\"dataframe\">\n",
              "  <thead>\n",
              "    <tr style=\"text-align: right;\">\n",
              "      <th></th>\n",
              "      <th>Id</th>\n",
              "      <th>MSSubClass</th>\n",
              "      <th>MSZoning</th>\n",
              "      <th>LotFrontage</th>\n",
              "      <th>LotArea</th>\n",
              "      <th>Street</th>\n",
              "      <th>Alley</th>\n",
              "      <th>LotShape</th>\n",
              "      <th>LandContour</th>\n",
              "      <th>Utilities</th>\n",
              "      <th>LotConfig</th>\n",
              "      <th>LandSlope</th>\n",
              "      <th>Neighborhood</th>\n",
              "      <th>Condition1</th>\n",
              "      <th>Condition2</th>\n",
              "      <th>BldgType</th>\n",
              "      <th>HouseStyle</th>\n",
              "      <th>OverallQual</th>\n",
              "      <th>OverallCond</th>\n",
              "      <th>YearBuilt</th>\n",
              "      <th>YearRemodAdd</th>\n",
              "      <th>RoofStyle</th>\n",
              "      <th>RoofMatl</th>\n",
              "      <th>Exterior1st</th>\n",
              "      <th>Exterior2nd</th>\n",
              "      <th>MasVnrType</th>\n",
              "      <th>MasVnrArea</th>\n",
              "      <th>ExterQual</th>\n",
              "      <th>ExterCond</th>\n",
              "      <th>Foundation</th>\n",
              "      <th>BsmtQual</th>\n",
              "      <th>BsmtCond</th>\n",
              "      <th>BsmtExposure</th>\n",
              "      <th>BsmtFinType1</th>\n",
              "      <th>BsmtFinSF1</th>\n",
              "      <th>BsmtFinType2</th>\n",
              "      <th>BsmtFinSF2</th>\n",
              "      <th>BsmtUnfSF</th>\n",
              "      <th>TotalBsmtSF</th>\n",
              "      <th>Heating</th>\n",
              "      <th>HeatingQC</th>\n",
              "      <th>CentralAir</th>\n",
              "      <th>Electrical</th>\n",
              "      <th>1stFlrSF</th>\n",
              "      <th>2ndFlrSF</th>\n",
              "      <th>LowQualFinSF</th>\n",
              "      <th>GrLivArea</th>\n",
              "      <th>BsmtFullBath</th>\n",
              "      <th>BsmtHalfBath</th>\n",
              "      <th>FullBath</th>\n",
              "      <th>HalfBath</th>\n",
              "      <th>BedroomAbvGr</th>\n",
              "      <th>KitchenAbvGr</th>\n",
              "      <th>KitchenQual</th>\n",
              "      <th>TotRmsAbvGrd</th>\n",
              "      <th>Functional</th>\n",
              "      <th>Fireplaces</th>\n",
              "      <th>FireplaceQu</th>\n",
              "      <th>GarageType</th>\n",
              "      <th>GarageYrBlt</th>\n",
              "      <th>GarageFinish</th>\n",
              "      <th>GarageCars</th>\n",
              "      <th>GarageArea</th>\n",
              "      <th>GarageQual</th>\n",
              "      <th>GarageCond</th>\n",
              "      <th>PavedDrive</th>\n",
              "      <th>WoodDeckSF</th>\n",
              "      <th>OpenPorchSF</th>\n",
              "      <th>EnclosedPorch</th>\n",
              "      <th>3SsnPorch</th>\n",
              "      <th>ScreenPorch</th>\n",
              "      <th>PoolArea</th>\n",
              "      <th>PoolQC</th>\n",
              "      <th>Fence</th>\n",
              "      <th>MiscFeature</th>\n",
              "      <th>MiscVal</th>\n",
              "      <th>MoSold</th>\n",
              "      <th>YrSold</th>\n",
              "      <th>SaleType</th>\n",
              "      <th>SaleCondition</th>\n",
              "      <th>SalePrice</th>\n",
              "    </tr>\n",
              "  </thead>\n",
              "  <tbody>\n",
              "    <tr>\n",
              "      <th>0</th>\n",
              "      <td>1</td>\n",
              "      <td>60</td>\n",
              "      <td>RL</td>\n",
              "      <td>65.0</td>\n",
              "      <td>8450</td>\n",
              "      <td>Pave</td>\n",
              "      <td>NaN</td>\n",
              "      <td>Reg</td>\n",
              "      <td>Lvl</td>\n",
              "      <td>AllPub</td>\n",
              "      <td>Inside</td>\n",
              "      <td>Gtl</td>\n",
              "      <td>CollgCr</td>\n",
              "      <td>Norm</td>\n",
              "      <td>Norm</td>\n",
              "      <td>1Fam</td>\n",
              "      <td>2Story</td>\n",
              "      <td>7</td>\n",
              "      <td>5</td>\n",
              "      <td>2003</td>\n",
              "      <td>2003</td>\n",
              "      <td>Gable</td>\n",
              "      <td>CompShg</td>\n",
              "      <td>VinylSd</td>\n",
              "      <td>VinylSd</td>\n",
              "      <td>BrkFace</td>\n",
              "      <td>196.0</td>\n",
              "      <td>Gd</td>\n",
              "      <td>TA</td>\n",
              "      <td>PConc</td>\n",
              "      <td>Gd</td>\n",
              "      <td>TA</td>\n",
              "      <td>No</td>\n",
              "      <td>GLQ</td>\n",
              "      <td>706</td>\n",
              "      <td>Unf</td>\n",
              "      <td>0</td>\n",
              "      <td>150</td>\n",
              "      <td>856</td>\n",
              "      <td>GasA</td>\n",
              "      <td>Ex</td>\n",
              "      <td>Y</td>\n",
              "      <td>SBrkr</td>\n",
              "      <td>856</td>\n",
              "      <td>854</td>\n",
              "      <td>0</td>\n",
              "      <td>1710</td>\n",
              "      <td>1</td>\n",
              "      <td>0</td>\n",
              "      <td>2</td>\n",
              "      <td>1</td>\n",
              "      <td>3</td>\n",
              "      <td>1</td>\n",
              "      <td>Gd</td>\n",
              "      <td>8</td>\n",
              "      <td>Typ</td>\n",
              "      <td>0</td>\n",
              "      <td>NaN</td>\n",
              "      <td>Attchd</td>\n",
              "      <td>2003.0</td>\n",
              "      <td>RFn</td>\n",
              "      <td>2</td>\n",
              "      <td>548</td>\n",
              "      <td>TA</td>\n",
              "      <td>TA</td>\n",
              "      <td>Y</td>\n",
              "      <td>0</td>\n",
              "      <td>61</td>\n",
              "      <td>0</td>\n",
              "      <td>0</td>\n",
              "      <td>0</td>\n",
              "      <td>0</td>\n",
              "      <td>NaN</td>\n",
              "      <td>NaN</td>\n",
              "      <td>NaN</td>\n",
              "      <td>0</td>\n",
              "      <td>2</td>\n",
              "      <td>2008</td>\n",
              "      <td>WD</td>\n",
              "      <td>Normal</td>\n",
              "      <td>208500</td>\n",
              "    </tr>\n",
              "    <tr>\n",
              "      <th>1</th>\n",
              "      <td>2</td>\n",
              "      <td>20</td>\n",
              "      <td>RL</td>\n",
              "      <td>80.0</td>\n",
              "      <td>9600</td>\n",
              "      <td>Pave</td>\n",
              "      <td>NaN</td>\n",
              "      <td>Reg</td>\n",
              "      <td>Lvl</td>\n",
              "      <td>AllPub</td>\n",
              "      <td>FR2</td>\n",
              "      <td>Gtl</td>\n",
              "      <td>Veenker</td>\n",
              "      <td>Feedr</td>\n",
              "      <td>Norm</td>\n",
              "      <td>1Fam</td>\n",
              "      <td>1Story</td>\n",
              "      <td>6</td>\n",
              "      <td>8</td>\n",
              "      <td>1976</td>\n",
              "      <td>1976</td>\n",
              "      <td>Gable</td>\n",
              "      <td>CompShg</td>\n",
              "      <td>MetalSd</td>\n",
              "      <td>MetalSd</td>\n",
              "      <td>None</td>\n",
              "      <td>0.0</td>\n",
              "      <td>TA</td>\n",
              "      <td>TA</td>\n",
              "      <td>CBlock</td>\n",
              "      <td>Gd</td>\n",
              "      <td>TA</td>\n",
              "      <td>Gd</td>\n",
              "      <td>ALQ</td>\n",
              "      <td>978</td>\n",
              "      <td>Unf</td>\n",
              "      <td>0</td>\n",
              "      <td>284</td>\n",
              "      <td>1262</td>\n",
              "      <td>GasA</td>\n",
              "      <td>Ex</td>\n",
              "      <td>Y</td>\n",
              "      <td>SBrkr</td>\n",
              "      <td>1262</td>\n",
              "      <td>0</td>\n",
              "      <td>0</td>\n",
              "      <td>1262</td>\n",
              "      <td>0</td>\n",
              "      <td>1</td>\n",
              "      <td>2</td>\n",
              "      <td>0</td>\n",
              "      <td>3</td>\n",
              "      <td>1</td>\n",
              "      <td>TA</td>\n",
              "      <td>6</td>\n",
              "      <td>Typ</td>\n",
              "      <td>1</td>\n",
              "      <td>TA</td>\n",
              "      <td>Attchd</td>\n",
              "      <td>1976.0</td>\n",
              "      <td>RFn</td>\n",
              "      <td>2</td>\n",
              "      <td>460</td>\n",
              "      <td>TA</td>\n",
              "      <td>TA</td>\n",
              "      <td>Y</td>\n",
              "      <td>298</td>\n",
              "      <td>0</td>\n",
              "      <td>0</td>\n",
              "      <td>0</td>\n",
              "      <td>0</td>\n",
              "      <td>0</td>\n",
              "      <td>NaN</td>\n",
              "      <td>NaN</td>\n",
              "      <td>NaN</td>\n",
              "      <td>0</td>\n",
              "      <td>5</td>\n",
              "      <td>2007</td>\n",
              "      <td>WD</td>\n",
              "      <td>Normal</td>\n",
              "      <td>181500</td>\n",
              "    </tr>\n",
              "    <tr>\n",
              "      <th>2</th>\n",
              "      <td>3</td>\n",
              "      <td>60</td>\n",
              "      <td>RL</td>\n",
              "      <td>68.0</td>\n",
              "      <td>11250</td>\n",
              "      <td>Pave</td>\n",
              "      <td>NaN</td>\n",
              "      <td>IR1</td>\n",
              "      <td>Lvl</td>\n",
              "      <td>AllPub</td>\n",
              "      <td>Inside</td>\n",
              "      <td>Gtl</td>\n",
              "      <td>CollgCr</td>\n",
              "      <td>Norm</td>\n",
              "      <td>Norm</td>\n",
              "      <td>1Fam</td>\n",
              "      <td>2Story</td>\n",
              "      <td>7</td>\n",
              "      <td>5</td>\n",
              "      <td>2001</td>\n",
              "      <td>2002</td>\n",
              "      <td>Gable</td>\n",
              "      <td>CompShg</td>\n",
              "      <td>VinylSd</td>\n",
              "      <td>VinylSd</td>\n",
              "      <td>BrkFace</td>\n",
              "      <td>162.0</td>\n",
              "      <td>Gd</td>\n",
              "      <td>TA</td>\n",
              "      <td>PConc</td>\n",
              "      <td>Gd</td>\n",
              "      <td>TA</td>\n",
              "      <td>Mn</td>\n",
              "      <td>GLQ</td>\n",
              "      <td>486</td>\n",
              "      <td>Unf</td>\n",
              "      <td>0</td>\n",
              "      <td>434</td>\n",
              "      <td>920</td>\n",
              "      <td>GasA</td>\n",
              "      <td>Ex</td>\n",
              "      <td>Y</td>\n",
              "      <td>SBrkr</td>\n",
              "      <td>920</td>\n",
              "      <td>866</td>\n",
              "      <td>0</td>\n",
              "      <td>1786</td>\n",
              "      <td>1</td>\n",
              "      <td>0</td>\n",
              "      <td>2</td>\n",
              "      <td>1</td>\n",
              "      <td>3</td>\n",
              "      <td>1</td>\n",
              "      <td>Gd</td>\n",
              "      <td>6</td>\n",
              "      <td>Typ</td>\n",
              "      <td>1</td>\n",
              "      <td>TA</td>\n",
              "      <td>Attchd</td>\n",
              "      <td>2001.0</td>\n",
              "      <td>RFn</td>\n",
              "      <td>2</td>\n",
              "      <td>608</td>\n",
              "      <td>TA</td>\n",
              "      <td>TA</td>\n",
              "      <td>Y</td>\n",
              "      <td>0</td>\n",
              "      <td>42</td>\n",
              "      <td>0</td>\n",
              "      <td>0</td>\n",
              "      <td>0</td>\n",
              "      <td>0</td>\n",
              "      <td>NaN</td>\n",
              "      <td>NaN</td>\n",
              "      <td>NaN</td>\n",
              "      <td>0</td>\n",
              "      <td>9</td>\n",
              "      <td>2008</td>\n",
              "      <td>WD</td>\n",
              "      <td>Normal</td>\n",
              "      <td>223500</td>\n",
              "    </tr>\n",
              "    <tr>\n",
              "      <th>3</th>\n",
              "      <td>4</td>\n",
              "      <td>70</td>\n",
              "      <td>RL</td>\n",
              "      <td>60.0</td>\n",
              "      <td>9550</td>\n",
              "      <td>Pave</td>\n",
              "      <td>NaN</td>\n",
              "      <td>IR1</td>\n",
              "      <td>Lvl</td>\n",
              "      <td>AllPub</td>\n",
              "      <td>Corner</td>\n",
              "      <td>Gtl</td>\n",
              "      <td>Crawfor</td>\n",
              "      <td>Norm</td>\n",
              "      <td>Norm</td>\n",
              "      <td>1Fam</td>\n",
              "      <td>2Story</td>\n",
              "      <td>7</td>\n",
              "      <td>5</td>\n",
              "      <td>1915</td>\n",
              "      <td>1970</td>\n",
              "      <td>Gable</td>\n",
              "      <td>CompShg</td>\n",
              "      <td>Wd Sdng</td>\n",
              "      <td>Wd Shng</td>\n",
              "      <td>None</td>\n",
              "      <td>0.0</td>\n",
              "      <td>TA</td>\n",
              "      <td>TA</td>\n",
              "      <td>BrkTil</td>\n",
              "      <td>TA</td>\n",
              "      <td>Gd</td>\n",
              "      <td>No</td>\n",
              "      <td>ALQ</td>\n",
              "      <td>216</td>\n",
              "      <td>Unf</td>\n",
              "      <td>0</td>\n",
              "      <td>540</td>\n",
              "      <td>756</td>\n",
              "      <td>GasA</td>\n",
              "      <td>Gd</td>\n",
              "      <td>Y</td>\n",
              "      <td>SBrkr</td>\n",
              "      <td>961</td>\n",
              "      <td>756</td>\n",
              "      <td>0</td>\n",
              "      <td>1717</td>\n",
              "      <td>1</td>\n",
              "      <td>0</td>\n",
              "      <td>1</td>\n",
              "      <td>0</td>\n",
              "      <td>3</td>\n",
              "      <td>1</td>\n",
              "      <td>Gd</td>\n",
              "      <td>7</td>\n",
              "      <td>Typ</td>\n",
              "      <td>1</td>\n",
              "      <td>Gd</td>\n",
              "      <td>Detchd</td>\n",
              "      <td>1998.0</td>\n",
              "      <td>Unf</td>\n",
              "      <td>3</td>\n",
              "      <td>642</td>\n",
              "      <td>TA</td>\n",
              "      <td>TA</td>\n",
              "      <td>Y</td>\n",
              "      <td>0</td>\n",
              "      <td>35</td>\n",
              "      <td>272</td>\n",
              "      <td>0</td>\n",
              "      <td>0</td>\n",
              "      <td>0</td>\n",
              "      <td>NaN</td>\n",
              "      <td>NaN</td>\n",
              "      <td>NaN</td>\n",
              "      <td>0</td>\n",
              "      <td>2</td>\n",
              "      <td>2006</td>\n",
              "      <td>WD</td>\n",
              "      <td>Abnorml</td>\n",
              "      <td>140000</td>\n",
              "    </tr>\n",
              "    <tr>\n",
              "      <th>4</th>\n",
              "      <td>5</td>\n",
              "      <td>60</td>\n",
              "      <td>RL</td>\n",
              "      <td>84.0</td>\n",
              "      <td>14260</td>\n",
              "      <td>Pave</td>\n",
              "      <td>NaN</td>\n",
              "      <td>IR1</td>\n",
              "      <td>Lvl</td>\n",
              "      <td>AllPub</td>\n",
              "      <td>FR2</td>\n",
              "      <td>Gtl</td>\n",
              "      <td>NoRidge</td>\n",
              "      <td>Norm</td>\n",
              "      <td>Norm</td>\n",
              "      <td>1Fam</td>\n",
              "      <td>2Story</td>\n",
              "      <td>8</td>\n",
              "      <td>5</td>\n",
              "      <td>2000</td>\n",
              "      <td>2000</td>\n",
              "      <td>Gable</td>\n",
              "      <td>CompShg</td>\n",
              "      <td>VinylSd</td>\n",
              "      <td>VinylSd</td>\n",
              "      <td>BrkFace</td>\n",
              "      <td>350.0</td>\n",
              "      <td>Gd</td>\n",
              "      <td>TA</td>\n",
              "      <td>PConc</td>\n",
              "      <td>Gd</td>\n",
              "      <td>TA</td>\n",
              "      <td>Av</td>\n",
              "      <td>GLQ</td>\n",
              "      <td>655</td>\n",
              "      <td>Unf</td>\n",
              "      <td>0</td>\n",
              "      <td>490</td>\n",
              "      <td>1145</td>\n",
              "      <td>GasA</td>\n",
              "      <td>Ex</td>\n",
              "      <td>Y</td>\n",
              "      <td>SBrkr</td>\n",
              "      <td>1145</td>\n",
              "      <td>1053</td>\n",
              "      <td>0</td>\n",
              "      <td>2198</td>\n",
              "      <td>1</td>\n",
              "      <td>0</td>\n",
              "      <td>2</td>\n",
              "      <td>1</td>\n",
              "      <td>4</td>\n",
              "      <td>1</td>\n",
              "      <td>Gd</td>\n",
              "      <td>9</td>\n",
              "      <td>Typ</td>\n",
              "      <td>1</td>\n",
              "      <td>TA</td>\n",
              "      <td>Attchd</td>\n",
              "      <td>2000.0</td>\n",
              "      <td>RFn</td>\n",
              "      <td>3</td>\n",
              "      <td>836</td>\n",
              "      <td>TA</td>\n",
              "      <td>TA</td>\n",
              "      <td>Y</td>\n",
              "      <td>192</td>\n",
              "      <td>84</td>\n",
              "      <td>0</td>\n",
              "      <td>0</td>\n",
              "      <td>0</td>\n",
              "      <td>0</td>\n",
              "      <td>NaN</td>\n",
              "      <td>NaN</td>\n",
              "      <td>NaN</td>\n",
              "      <td>0</td>\n",
              "      <td>12</td>\n",
              "      <td>2008</td>\n",
              "      <td>WD</td>\n",
              "      <td>Normal</td>\n",
              "      <td>250000</td>\n",
              "    </tr>\n",
              "  </tbody>\n",
              "</table>\n",
              "</div>"
            ],
            "text/plain": [
              "   Id  MSSubClass MSZoning  LotFrontage  LotArea Street Alley LotShape  \\\n",
              "0   1          60       RL         65.0     8450   Pave   NaN      Reg   \n",
              "1   2          20       RL         80.0     9600   Pave   NaN      Reg   \n",
              "2   3          60       RL         68.0    11250   Pave   NaN      IR1   \n",
              "3   4          70       RL         60.0     9550   Pave   NaN      IR1   \n",
              "4   5          60       RL         84.0    14260   Pave   NaN      IR1   \n",
              "\n",
              "  LandContour Utilities LotConfig LandSlope Neighborhood Condition1  \\\n",
              "0         Lvl    AllPub    Inside       Gtl      CollgCr       Norm   \n",
              "1         Lvl    AllPub       FR2       Gtl      Veenker      Feedr   \n",
              "2         Lvl    AllPub    Inside       Gtl      CollgCr       Norm   \n",
              "3         Lvl    AllPub    Corner       Gtl      Crawfor       Norm   \n",
              "4         Lvl    AllPub       FR2       Gtl      NoRidge       Norm   \n",
              "\n",
              "  Condition2 BldgType HouseStyle  OverallQual  OverallCond  YearBuilt  \\\n",
              "0       Norm     1Fam     2Story            7            5       2003   \n",
              "1       Norm     1Fam     1Story            6            8       1976   \n",
              "2       Norm     1Fam     2Story            7            5       2001   \n",
              "3       Norm     1Fam     2Story            7            5       1915   \n",
              "4       Norm     1Fam     2Story            8            5       2000   \n",
              "\n",
              "   YearRemodAdd RoofStyle RoofMatl Exterior1st Exterior2nd MasVnrType  \\\n",
              "0          2003     Gable  CompShg     VinylSd     VinylSd    BrkFace   \n",
              "1          1976     Gable  CompShg     MetalSd     MetalSd       None   \n",
              "2          2002     Gable  CompShg     VinylSd     VinylSd    BrkFace   \n",
              "3          1970     Gable  CompShg     Wd Sdng     Wd Shng       None   \n",
              "4          2000     Gable  CompShg     VinylSd     VinylSd    BrkFace   \n",
              "\n",
              "   MasVnrArea ExterQual ExterCond Foundation BsmtQual BsmtCond BsmtExposure  \\\n",
              "0       196.0        Gd        TA      PConc       Gd       TA           No   \n",
              "1         0.0        TA        TA     CBlock       Gd       TA           Gd   \n",
              "2       162.0        Gd        TA      PConc       Gd       TA           Mn   \n",
              "3         0.0        TA        TA     BrkTil       TA       Gd           No   \n",
              "4       350.0        Gd        TA      PConc       Gd       TA           Av   \n",
              "\n",
              "  BsmtFinType1  BsmtFinSF1 BsmtFinType2  BsmtFinSF2  BsmtUnfSF  TotalBsmtSF  \\\n",
              "0          GLQ         706          Unf           0        150          856   \n",
              "1          ALQ         978          Unf           0        284         1262   \n",
              "2          GLQ         486          Unf           0        434          920   \n",
              "3          ALQ         216          Unf           0        540          756   \n",
              "4          GLQ         655          Unf           0        490         1145   \n",
              "\n",
              "  Heating HeatingQC CentralAir Electrical  1stFlrSF  2ndFlrSF  LowQualFinSF  \\\n",
              "0    GasA        Ex          Y      SBrkr       856       854             0   \n",
              "1    GasA        Ex          Y      SBrkr      1262         0             0   \n",
              "2    GasA        Ex          Y      SBrkr       920       866             0   \n",
              "3    GasA        Gd          Y      SBrkr       961       756             0   \n",
              "4    GasA        Ex          Y      SBrkr      1145      1053             0   \n",
              "\n",
              "   GrLivArea  BsmtFullBath  BsmtHalfBath  FullBath  HalfBath  BedroomAbvGr  \\\n",
              "0       1710             1             0         2         1             3   \n",
              "1       1262             0             1         2         0             3   \n",
              "2       1786             1             0         2         1             3   \n",
              "3       1717             1             0         1         0             3   \n",
              "4       2198             1             0         2         1             4   \n",
              "\n",
              "   KitchenAbvGr KitchenQual  TotRmsAbvGrd Functional  Fireplaces FireplaceQu  \\\n",
              "0             1          Gd             8        Typ           0         NaN   \n",
              "1             1          TA             6        Typ           1          TA   \n",
              "2             1          Gd             6        Typ           1          TA   \n",
              "3             1          Gd             7        Typ           1          Gd   \n",
              "4             1          Gd             9        Typ           1          TA   \n",
              "\n",
              "  GarageType  GarageYrBlt GarageFinish  GarageCars  GarageArea GarageQual  \\\n",
              "0     Attchd       2003.0          RFn           2         548         TA   \n",
              "1     Attchd       1976.0          RFn           2         460         TA   \n",
              "2     Attchd       2001.0          RFn           2         608         TA   \n",
              "3     Detchd       1998.0          Unf           3         642         TA   \n",
              "4     Attchd       2000.0          RFn           3         836         TA   \n",
              "\n",
              "  GarageCond PavedDrive  WoodDeckSF  OpenPorchSF  EnclosedPorch  3SsnPorch  \\\n",
              "0         TA          Y           0           61              0          0   \n",
              "1         TA          Y         298            0              0          0   \n",
              "2         TA          Y           0           42              0          0   \n",
              "3         TA          Y           0           35            272          0   \n",
              "4         TA          Y         192           84              0          0   \n",
              "\n",
              "   ScreenPorch  PoolArea PoolQC Fence MiscFeature  MiscVal  MoSold  YrSold  \\\n",
              "0            0         0    NaN   NaN         NaN        0       2    2008   \n",
              "1            0         0    NaN   NaN         NaN        0       5    2007   \n",
              "2            0         0    NaN   NaN         NaN        0       9    2008   \n",
              "3            0         0    NaN   NaN         NaN        0       2    2006   \n",
              "4            0         0    NaN   NaN         NaN        0      12    2008   \n",
              "\n",
              "  SaleType SaleCondition  SalePrice  \n",
              "0       WD        Normal     208500  \n",
              "1       WD        Normal     181500  \n",
              "2       WD        Normal     223500  \n",
              "3       WD       Abnorml     140000  \n",
              "4       WD        Normal     250000  "
            ]
          },
          "metadata": {
            "tags": []
          },
          "execution_count": 3
        }
      ]
    },
    {
      "cell_type": "markdown",
      "metadata": {
        "id": "8f3DjWuXtX1V"
      },
      "source": [
        "### Importante\n",
        "\n",
        "La identificación de las etiquetas raras se debe llevar a cabo usando solamente el set de entrenamiento y luego propagarlo al set de prueba. En la práctica, lo que usualmente sucede es que identificamos las **etiquetas comunes** y luego cualquier otra etiqueta, ya sea en el set de prueba o entrenamiento o en los datos una vez el modelo se encuentre en producción que no este en la lista de **etiquetas comunes** serán re-agrupadas en una nueva categoría.\n",
        "\n",
        "Por ejemplo, imaginemos que tenemos en el set de entrenamiento la variable 'ciudad' con las etiquetas 'London', 'Manchester' y 'York'. 'York' esta presente en menos de 5% de las observaciones por lo tanto decidimos re-agruparla en una nueva categoría llamada 'Rare'.\n",
        "\n",
        "En el set de prueba, también deberíamos reemplazar 'York' por 'Rare' independientemente del porcentaje de las observaciones para 'York'en el set de prueba. Además, si en el set de prueba encontramos la categoría 'Milton Keynes', que no estaba presente en el set de entrenamiento, también deberíamos reemplazarla con la etiqueta 'Rare'.  En otras palabras, todas las categorías presentes en el set de prueba, que no esten presentes en la lista de **etiquetas comunes** categorías derivadas del set de entrenamiento, deben ser tratadas como raras y re-agroupadas en la nueva etiqueta 'Rare'."
      ]
    },
    {
      "cell_type": "code",
      "metadata": {
        "id": "P70tDl1BtX1W",
        "colab": {
          "base_uri": "https://localhost:8080/"
        },
        "outputId": "4d3779e5-e760-45c8-8114-c0a7f932f8ff"
      },
      "source": [
        "# separemos los datos en sets de entrenamiento y prueba\n",
        "\n",
        "X_train, X_test, y_train, y_test = train_test_split(\n",
        "    data.drop(labels=['SalePrice'], axis=1), # predictores\n",
        "    data.SalePrice, # target\n",
        "    test_size=0.3,  # porcentaje de observaciones en el set de prueba\n",
        "    random_state=0)  # semilla asegurar reproducibilidad\n",
        "\n",
        "X_train.shape, X_test.shape"
      ],
      "execution_count": 4,
      "outputs": [
        {
          "output_type": "execute_result",
          "data": {
            "text/plain": [
              "((1022, 80), (438, 80))"
            ]
          },
          "metadata": {
            "tags": []
          },
          "execution_count": 4
        }
      ]
    },
    {
      "cell_type": "markdown",
      "metadata": {
        "id": "vmwXl74qtX1W"
      },
      "source": [
        "## Variables con una categoría dominante "
      ]
    },
    {
      "cell_type": "code",
      "metadata": {
        "id": "5qo-4E3CtX1W",
        "colab": {
          "base_uri": "https://localhost:8080/"
        },
        "outputId": "f34bb6d8-0160-4473-8a31-93885e70f984"
      },
      "source": [
        "# exploremos unos pocos ejemplos de variables con pocas categorías,\n",
        "# digamos 3 \n",
        "\n",
        "for col in X_train.columns:\n",
        "    \n",
        "    if X_train[col].dtypes == 'O':  # si la variable es categórica\n",
        "        \n",
        "        if X_train[col].nunique() < 3:  # si la variable tiene menos de 3 categorías\n",
        "            \n",
        "            # imprimir porcentaje de observaciones por categoría\n",
        "            print(X_train.groupby(col)[col].count() / len(X_train))\n",
        "            print()"
      ],
      "execution_count": 5,
      "outputs": [
        {
          "output_type": "stream",
          "text": [
            "Street\n",
            "Grvl    0.004892\n",
            "Pave    0.995108\n",
            "Name: Street, dtype: float64\n",
            "\n",
            "Alley\n",
            "Grvl    0.029354\n",
            "Pave    0.031311\n",
            "Name: Alley, dtype: float64\n",
            "\n",
            "Utilities\n",
            "AllPub    0.999022\n",
            "NoSeWa    0.000978\n",
            "Name: Utilities, dtype: float64\n",
            "\n",
            "CentralAir\n",
            "N    0.068493\n",
            "Y    0.931507\n",
            "Name: CentralAir, dtype: float64\n",
            "\n",
            "PoolQC\n",
            "Ex    0.000978\n",
            "Gd    0.001957\n",
            "Name: PoolQC, dtype: float64\n",
            "\n"
          ],
          "name": "stdout"
        }
      ]
    },
    {
      "cell_type": "markdown",
      "metadata": {
        "id": "pMZ1MTPbtX1X"
      },
      "source": [
        "### Conclusión\n",
        "\n",
        "Las 3 variables anteriores, Street, Utilities y CentralAir, tienen una categoría dominante que incluye mas de 93-99% de las observaciones. Re-agroupar la etiqueta rara en esta situación no tiene ningún sentido.  Podriamos determinar si estas variables son importantes con un análisis exploratorio o con los algoritmos de selección de variables o remover las variables.\n",
        "\n",
        "## Variables con unas pocas categorías"
      ]
    },
    {
      "cell_type": "code",
      "metadata": {
        "id": "fxhpaSN1tX1X",
        "colab": {
          "base_uri": "https://localhost:8080/"
        },
        "outputId": "96bfe078-e37c-42ee-ae28-82d4bb87a272"
      },
      "source": [
        "# las columnas en la siguiente lista tienen solo 4 differentes etiquetas\n",
        "\n",
        "cols = ['MasVnrType', 'ExterQual', 'BsmtCond']\n",
        "\n",
        "for col in cols:\n",
        "    \n",
        "    print(X_train.groupby(col)[col].count() / len(X_train)) # frecuencia\n",
        "    print()"
      ],
      "execution_count": 6,
      "outputs": [
        {
          "output_type": "stream",
          "text": [
            "MasVnrType\n",
            "BrkCmn     0.009785\n",
            "BrkFace    0.294521\n",
            "None       0.595890\n",
            "Stone      0.094912\n",
            "Name: MasVnrType, dtype: float64\n",
            "\n",
            "ExterQual\n",
            "Ex    0.029354\n",
            "Fa    0.011742\n",
            "Gd    0.332681\n",
            "TA    0.626223\n",
            "Name: ExterQual, dtype: float64\n",
            "\n",
            "BsmtCond\n",
            "Fa    0.032290\n",
            "Gd    0.045010\n",
            "Po    0.001957\n",
            "TA    0.897260\n",
            "Name: BsmtCond, dtype: float64\n",
            "\n"
          ],
          "name": "stdout"
        }
      ]
    },
    {
      "cell_type": "markdown",
      "metadata": {
        "id": "si6Kl-xLtX1X"
      },
      "source": [
        "Las variables anteriores tienen solo 4 categorías, y en los tres casos, hay por lo menos una categoría que no es frecuente, es decir, que esta presente en menos de 5% de las observaciones.\n",
        "\n",
        "Cuando las variables tienen solo unas pocas categorías, tampoco tiene mucho sentido re-categorizarlas.\n",
        "\n",
        "Por ejemplo la primera variable MasVnrType tiene solo una categoría BrkCmn. Por lo tanto, re-categorizarla en una nueva etiqueta dejaría la variable en la misma situación.\n",
        "\n",
        "La segunda variable ExterQual, contiene 2 etiquetas raras Ex y Fa, y podriamos agruparlas en una nueva etiqueta llamada 'Rare'.\n",
        "\n",
        "La tercera variable BsmtCond tiene 3 etiquetas poco comunes, Fa, Gd y Po, por lo tanto podriamos agruparlas bajo una nueva categoría 'Rare'."
      ]
    },
    {
      "cell_type": "markdown",
      "metadata": {
        "id": "nBhNzRbQtX1Y"
      },
      "source": [
        "## Variable con alta cardinalidad"
      ]
    },
    {
      "cell_type": "code",
      "metadata": {
        "scrolled": true,
        "id": "pvRoOBsftX1Y",
        "colab": {
          "base_uri": "https://localhost:8080/"
        },
        "outputId": "b4d2eafa-b0cc-4b57-cb9e-7f213669343d"
      },
      "source": [
        "# exploremos ejemplos de variables con bastantes categorías,\n",
        "# digamos más de 10\n",
        "\n",
        "multi_cat_cols = []\n",
        "\n",
        "for col in X_train.columns:\n",
        "\n",
        "    if X_train[col].dtypes =='O': #  si la variable es categórica\n",
        "    \n",
        "        if X_train[col].nunique() > 10: # y tiene más de 10 categorías\n",
        "            \n",
        "            multi_cat_cols.append(col)  # añadir a la lista\n",
        "            \n",
        "            print(X_train.groupby(col)[col].count()/ len(X_train)) # imprimir porcentaje observacioens en cada categoría\n",
        "            \n",
        "            print()"
      ],
      "execution_count": 7,
      "outputs": [
        {
          "output_type": "stream",
          "text": [
            "Neighborhood\n",
            "Blmngtn    0.011742\n",
            "Blueste    0.001957\n",
            "BrDale     0.009785\n",
            "BrkSide    0.040117\n",
            "ClearCr    0.023483\n",
            "CollgCr    0.102740\n",
            "Crawfor    0.034247\n",
            "Edwards    0.069472\n",
            "Gilbert    0.053816\n",
            "IDOTRR     0.023483\n",
            "MeadowV    0.011742\n",
            "Mitchel    0.035225\n",
            "NAmes      0.147750\n",
            "NPkVill    0.006849\n",
            "NWAmes     0.049902\n",
            "NoRidge    0.029354\n",
            "NridgHt    0.049902\n",
            "OldTown    0.071429\n",
            "SWISU      0.017613\n",
            "Sawyer     0.059687\n",
            "SawyerW    0.044031\n",
            "Somerst    0.054795\n",
            "StoneBr    0.015656\n",
            "Timber     0.029354\n",
            "Veenker    0.005871\n",
            "Name: Neighborhood, dtype: float64\n",
            "\n",
            "Exterior1st\n",
            "AsbShng    0.014677\n",
            "AsphShn    0.000978\n",
            "BrkComm    0.000978\n",
            "BrkFace    0.034247\n",
            "CBlock     0.000978\n",
            "CemntBd    0.038160\n",
            "HdBoard    0.149706\n",
            "ImStucc    0.000978\n",
            "MetalSd    0.135029\n",
            "Plywood    0.084149\n",
            "Stone      0.001957\n",
            "Stucco     0.016634\n",
            "VinylSd    0.356164\n",
            "Wd Sdng    0.144814\n",
            "WdShing    0.020548\n",
            "Name: Exterior1st, dtype: float64\n",
            "\n",
            "Exterior2nd\n",
            "AsbShng    0.016634\n",
            "AsphShn    0.000978\n",
            "Brk Cmn    0.003914\n",
            "BrkFace    0.017613\n",
            "CBlock     0.000978\n",
            "CmentBd    0.038160\n",
            "HdBoard    0.137965\n",
            "ImStucc    0.007828\n",
            "MetalSd    0.133072\n",
            "Other      0.000978\n",
            "Plywood    0.109589\n",
            "Stone      0.003914\n",
            "Stucco     0.015656\n",
            "VinylSd    0.345401\n",
            "Wd Sdng    0.138943\n",
            "Wd Shng    0.028376\n",
            "Name: Exterior2nd, dtype: float64\n",
            "\n"
          ],
          "name": "stdout"
        }
      ]
    },
    {
      "cell_type": "markdown",
      "metadata": {
        "id": "dQND8zD_tX1Y"
      },
      "source": [
        "Podemos ver que muchas categorías son poco comunes en las tres variables que imprimimos anteriormente. De hecho, podemos graficarlas usando el mismo código que aprendimos en la lección de Etiquetas raras en la sección 3:"
      ]
    },
    {
      "cell_type": "code",
      "metadata": {
        "id": "9kEmFSwgtX1Y",
        "colab": {
          "base_uri": "https://localhost:8080/",
          "height": 917
        },
        "outputId": "16baf73a-8dcb-40e7-aae6-5005a6f430c9"
      },
      "source": [
        "for col in ['Neighborhood', 'Exterior1st', 'Exterior2nd']:\n",
        "\n",
        "    temp_df = pd.Series(X_train[col].value_counts() / len(X_train) )\n",
        "\n",
        "    # graficar con los porcentajes\n",
        "    fig = temp_df.sort_values(ascending=False).plot.bar()\n",
        "    fig.set_xlabel(col)\n",
        "\n",
        "    # anadir linea en 5% para resaltar las categorías raras\n",
        "    fig.axhline(y=0.05, color='red')\n",
        "    fig.set_ylabel('Porcentaje de casas')\n",
        "    plt.show()"
      ],
      "execution_count": 8,
      "outputs": [
        {
          "output_type": "display_data",
          "data": {
            "image/png": "[encoded data removed]",
            "text/plain": [
              "<Figure size 432x288 with 1 Axes>"
            ]
          },
          "metadata": {
            "tags": [],
            "needs_background": "light"
          }
        },
        {
          "output_type": "display_data",
          "data": {
            "image/png": "[encoded data removed]",
            "text/plain": [
              "<Figure size 432x288 with 1 Axes>"
            ]
          },
          "metadata": {
            "tags": [],
            "needs_background": "light"
          }
        },
        {
          "output_type": "display_data",
          "data": {
            "image/png": "[encoded data removed]",
            "text/plain": [
              "<Figure size 432x288 with 1 Axes>"
            ]
          },
          "metadata": {
            "tags": [],
            "needs_background": "light"
          }
        }
      ]
    },
    {
      "cell_type": "markdown",
      "metadata": {
        "id": "udT6OI4qtX1Z"
      },
      "source": [
        "## Re-agrupando las etiquetas raras con pandas"
      ]
    },
    {
      "cell_type": "code",
      "metadata": {
        "id": "P34Sd9-ftX1Z"
      },
      "source": [
        "def categorias_comunes(df, variable, tolerance):\n",
        "    \n",
        "    temp = df.groupby([variable])[variable].count() / len(df)\n",
        "    \n",
        "    non_rare = [x for x in temp.loc[temp>tolerance].index.values]\n",
        "    \n",
        "    return non_rare"
      ],
      "execution_count": 9,
      "outputs": []
    },
    {
      "cell_type": "code",
      "metadata": {
        "id": "6sT-rhzStX1a",
        "colab": {
          "base_uri": "https://localhost:8080/"
        },
        "outputId": "13e46c82-2b60-4350-dbbf-677cbb54ea5c"
      },
      "source": [
        "# etiquetas comunes\n",
        "categorias_comunes(X_train, 'Neighborhood', 0.05)"
      ],
      "execution_count": 10,
      "outputs": [
        {
          "output_type": "execute_result",
          "data": {
            "text/plain": [
              "['CollgCr', 'Edwards', 'Gilbert', 'NAmes', 'OldTown', 'Sawyer', 'Somerst']"
            ]
          },
          "metadata": {
            "tags": []
          },
          "execution_count": 10
        }
      ]
    },
    {
      "cell_type": "code",
      "metadata": {
        "scrolled": false,
        "id": "BJS36P9LtX1a",
        "colab": {
          "base_uri": "https://localhost:8080/"
        },
        "outputId": "07fa2233-d97d-4f79-fc32-ef8a66853559"
      },
      "source": [
        "# etiquetas raras\n",
        "\n",
        "[x for x in X_train['Neighborhood'].unique(\n",
        ") if x not in categorias_comunes(X_train, 'Neighborhood', 0.05)]"
      ],
      "execution_count": 11,
      "outputs": [
        {
          "output_type": "execute_result",
          "data": {
            "text/plain": [
              "['ClearCr',\n",
              " 'BrkSide',\n",
              " 'SWISU',\n",
              " 'Crawfor',\n",
              " 'Mitchel',\n",
              " 'Timber',\n",
              " 'MeadowV',\n",
              " 'BrDale',\n",
              " 'NWAmes',\n",
              " 'NridgHt',\n",
              " 'SawyerW',\n",
              " 'NoRidge',\n",
              " 'IDOTRR',\n",
              " 'NPkVill',\n",
              " 'StoneBr',\n",
              " 'Blmngtn',\n",
              " 'Veenker',\n",
              " 'Blueste']"
            ]
          },
          "metadata": {
            "tags": []
          },
          "execution_count": 11
        }
      ]
    },
    {
      "cell_type": "code",
      "metadata": {
        "id": "kwhb1xMmtX1a"
      },
      "source": [
        "def codificacion_categorias_raras(X_train, X_test, variable, tolerance):\n",
        "\n",
        "    X_train = X_train.copy()\n",
        "    X_test = X_test.copy()\n",
        "\n",
        "    # encontrar la categoría más frecuente\n",
        "    frequent_cat = categorias_comunes(X_train, variable, tolerance)\n",
        "\n",
        "    # re-agrupar las categorías raras\n",
        "    X_train[variable] = np.where(X_train[variable].isin(\n",
        "        frequent_cat), X_train[variable], 'Rare')\n",
        "    \n",
        "    X_test[variable] = np.where(X_test[variable].isin(\n",
        "        frequent_cat), X_test[variable], 'Rare')\n",
        "\n",
        "    return X_train, X_test"
      ],
      "execution_count": 13,
      "outputs": []
    },
    {
      "cell_type": "code",
      "metadata": {
        "id": "PfTzw9wItX1a"
      },
      "source": [
        "for variable in ['Neighborhood', 'Exterior1st', 'Exterior2nd']:\n",
        "    \n",
        "    X_train, X_test = codificacion_categorias_raras(X_train, X_test, variable, 0.05)"
      ],
      "execution_count": 14,
      "outputs": []
    },
    {
      "cell_type": "code",
      "metadata": {
        "id": "BGletcEhtX1b",
        "colab": {
          "base_uri": "https://localhost:8080/",
          "height": 906
        },
        "outputId": "3561d669-7910-40d3-89aa-7551d4dabc07"
      },
      "source": [
        "for col in ['Neighborhood', 'Exterior1st', 'Exterior2nd']:\n",
        "\n",
        "    temp_df = pd.Series(X_train[col].value_counts() / len(X_train) )\n",
        "\n",
        "    # graficar con los porcentajes\n",
        "    fig = temp_df.sort_values(ascending=False).plot.bar()\n",
        "    fig.set_xlabel(col)\n",
        "\n",
        "    # anadir línea a 5% para resaltar categorias poco comunes\n",
        "    fig.axhline(y=0.05, color='red')\n",
        "    fig.set_ylabel('Porcentaje de casas')\n",
        "    plt.show()"
      ],
      "execution_count": 15,
      "outputs": [
        {
          "output_type": "display_data",
          "data": {
            "image/png": "[encoded data removed]",
            "text/plain": [
              "<Figure size 432x288 with 1 Axes>"
            ]
          },
          "metadata": {
            "tags": [],
            "needs_background": "light"
          }
        },
        {
          "output_type": "display_data",
          "data": {
            "image/png": "[encoded data removed]",
            "text/plain": [
              "<Figure size 432x288 with 1 Axes>"
            ]
          },
          "metadata": {
            "tags": [],
            "needs_background": "light"
          }
        },
        {
          "output_type": "display_data",
          "data": {
            "image/png": "[encoded data removed]",
            "text/plain": [
              "<Figure size 432x288 with 1 Axes>"
            ]
          },
          "metadata": {
            "tags": [],
            "needs_background": "light"
          }
        }
      ]
    },
    {
      "cell_type": "markdown",
      "metadata": {
        "id": "Nq4DdL1JtX1b"
      },
      "source": [
        "y ahora codifiquemos las categorías con baja cardinalidad"
      ]
    },
    {
      "cell_type": "code",
      "metadata": {
        "id": "2FDDMbsftX1c"
      },
      "source": [
        "for variable in ['MasVnrType', 'ExterQual', 'BsmtCond']:\n",
        "    \n",
        "    X_train, X_test = codificacion_categorias_raras(X_train, X_test, variable, 0.05)"
      ],
      "execution_count": 16,
      "outputs": []
    },
    {
      "cell_type": "code",
      "metadata": {
        "id": "U8iMRaFStX1c",
        "colab": {
          "base_uri": "https://localhost:8080/",
          "height": 858
        },
        "outputId": "5780c1e2-6aba-4ab1-dcd0-053c1baed178"
      },
      "source": [
        "for col in ['MasVnrType', 'ExterQual', 'BsmtCond']:\n",
        "\n",
        "    temp_df = pd.Series(X_train[col].value_counts() / len(X_train) )\n",
        "\n",
        "    # graficar con los porcentajes\n",
        "    fig = temp_df.sort_values(ascending=False).plot.bar()\n",
        "    fig.set_xlabel(col)\n",
        "\n",
        "    # añadir línea a 5% para resaltar categorías poco comunes\n",
        "    fig.axhline(y=0.05, color='red')\n",
        "    fig.set_ylabel('Porcentaje de casas')\n",
        "    plt.show()"
      ],
      "execution_count": 17,
      "outputs": [
        {
          "output_type": "display_data",
          "data": {
            "image/png": "[encoded data removed]",
            "text/plain": [
              "<Figure size 432x288 with 1 Axes>"
            ]
          },
          "metadata": {
            "tags": [],
            "needs_background": "light"
          }
        },
        {
          "output_type": "display_data",
          "data": {
            "image/png": "[encoded data removed]",
            "text/plain": [
              "<Figure size 432x288 with 1 Axes>"
            ]
          },
          "metadata": {
            "tags": [],
            "needs_background": "light"
          }
        },
        {
          "output_type": "display_data",
          "data": {
            "image/png": "[encoded data removed]",
            "text/plain": [
              "<Figure size 432x288 with 1 Axes>"
            ]
          },
          "metadata": {
            "tags": [],
            "needs_background": "light"
          }
        }
      ]
    },
    {
      "cell_type": "markdown",
      "metadata": {
        "id": "TvLeTkErtX1c"
      },
      "source": [
        "## Codificando Etiquetas Raras con Feature-engine"
      ]
    },
    {
      "cell_type": "code",
      "metadata": {
        "colab": {
          "base_uri": "https://localhost:8080/"
        },
        "id": "SZ01K1ee2F8Y",
        "outputId": "3f70018d-a76e-4a17-ba44-975e42f98755"
      },
      "source": [
        "pip install feature_engine"
      ],
      "execution_count": 19,
      "outputs": [
        {
          "output_type": "stream",
          "text": [
            "Collecting feature_engine\n",
            "  Downloading https://files.pythonhosted.org/packages/14/ed/5680bf401855b788f79cadc1298c210c5860eb5d54c4008cfa234b752ef1/feature_engine-0.6.1-py2.py3-none-any.whl\n",
            "Requirement already satisfied: scipy>=1.4.1 in /usr/local/lib/python3.6/dist-packages (from feature_engine) (1.4.1)\n",
            "Collecting statsmodels>=0.11.1\n",
            "\u001b[?25l  Downloading https://files.pythonhosted.org/packages/be/4c/9e2435ca6645d6bafa2b51bb11f0a365b28934a2ffe9d6e339d67130926d/statsmodels-0.12.1-cp36-cp36m-manylinux1_x86_64.whl (9.5MB)\n",
            "\u001b[K     |████████████████████████████████| 9.5MB 5.9MB/s \n",
            "\u001b[?25hRequirement already satisfied: scikit-learn>=0.22.2 in /usr/local/lib/python3.6/dist-packages (from feature_engine) (0.22.2.post1)\n",
            "Requirement already satisfied: pandas>=1.0.3 in /usr/local/lib/python3.6/dist-packages (from feature_engine) (1.1.5)\n",
            "Requirement already satisfied: numpy>=1.18.2 in /usr/local/lib/python3.6/dist-packages (from feature_engine) (1.19.4)\n",
            "Requirement already satisfied: patsy>=0.5 in /usr/local/lib/python3.6/dist-packages (from statsmodels>=0.11.1->feature_engine) (0.5.1)\n",
            "Requirement already satisfied: joblib>=0.11 in /usr/local/lib/python3.6/dist-packages (from scikit-learn>=0.22.2->feature_engine) (1.0.0)\n",
            "Requirement already satisfied: python-dateutil>=2.7.3 in /usr/local/lib/python3.6/dist-packages (from pandas>=1.0.3->feature_engine) (2.8.1)\n",
            "Requirement already satisfied: pytz>=2017.2 in /usr/local/lib/python3.6/dist-packages (from pandas>=1.0.3->feature_engine) (2018.9)\n",
            "Requirement already satisfied: six in /usr/local/lib/python3.6/dist-packages (from patsy>=0.5->statsmodels>=0.11.1->feature_engine) (1.15.0)\n",
            "Installing collected packages: statsmodels, feature-engine\n",
            "  Found existing installation: statsmodels 0.10.2\n",
            "    Uninstalling statsmodels-0.10.2:\n",
            "      Successfully uninstalled statsmodels-0.10.2\n",
            "Successfully installed feature-engine-0.6.1 statsmodels-0.12.1\n"
          ],
          "name": "stdout"
        }
      ]
    },
    {
      "cell_type": "code",
      "metadata": {
        "id": "WehFTOkHtX1c"
      },
      "source": [
        "from feature_engine.categorical_encoders import RareLabelCategoricalEncoder"
      ],
      "execution_count": 20,
      "outputs": []
    },
    {
      "cell_type": "code",
      "metadata": {
        "colab": {
          "base_uri": "https://localhost:8080/"
        },
        "id": "Gc8JgqoB2YHC",
        "outputId": "b3cfb41d-8fde-400e-ea3f-ebe07fae1ca0"
      },
      "source": [
        "data[['Neighborhood', 'Exterior1st', 'Exterior2nd',\r\n",
        "               'MasVnrType', 'ExterQual', 'BsmtCond']].isna().mean()"
      ],
      "execution_count": 24,
      "outputs": [
        {
          "output_type": "execute_result",
          "data": {
            "text/plain": [
              "Id               0.000000\n",
              "MSSubClass       0.000000\n",
              "MSZoning         0.000000\n",
              "LotFrontage      0.177397\n",
              "LotArea          0.000000\n",
              "                   ...   \n",
              "MoSold           0.000000\n",
              "YrSold           0.000000\n",
              "SaleType         0.000000\n",
              "SaleCondition    0.000000\n",
              "SalePrice        0.000000\n",
              "Length: 81, dtype: float64"
            ]
          },
          "metadata": {
            "tags": []
          },
          "execution_count": 24
        }
      ]
    },
    {
      "cell_type": "code",
      "metadata": {
        "id": "MxKvmKio2hJb"
      },
      "source": [
        "# removamos las observaciones con datos ausentes NA en \r\n",
        "# las variables LotFrontage \r\n",
        "data.dropna(subset=['LotFrontage','MasVnrType','BsmtCond'], inplace=True)"
      ],
      "execution_count": 32,
      "outputs": []
    },
    {
      "cell_type": "code",
      "metadata": {
        "colab": {
          "base_uri": "https://localhost:8080/"
        },
        "id": "-H4rnUqF25jH",
        "outputId": "671aca28-10ba-4698-c1fa-2c91116ecf47"
      },
      "source": [
        "data[['Neighborhood', 'Exterior1st', 'Exterior2nd',\r\n",
        "               'MasVnrType', 'ExterQual', 'BsmtCond']].isna().mean()"
      ],
      "execution_count": 33,
      "outputs": [
        {
          "output_type": "execute_result",
          "data": {
            "text/plain": [
              "Neighborhood    0.0\n",
              "Exterior1st     0.0\n",
              "Exterior2nd     0.0\n",
              "MasVnrType      0.0\n",
              "ExterQual       0.0\n",
              "BsmtCond        0.0\n",
              "dtype: float64"
            ]
          },
          "metadata": {
            "tags": []
          },
          "execution_count": 33
        }
      ]
    },
    {
      "cell_type": "code",
      "metadata": {
        "id": "QDhUsTMztX1c",
        "colab": {
          "base_uri": "https://localhost:8080/"
        },
        "outputId": "9020794c-437c-42b1-c9ff-7fe82e0d24a1"
      },
      "source": [
        "# dividir los datos en entrenamiento y prueba\n",
        "\n",
        "X_train, X_test, y_train, y_test = train_test_split(\n",
        "    data.drop(labels=['SalePrice'], axis=1), # predictores\n",
        "    data.SalePrice, # target\n",
        "    test_size=0.3,  # porcentaje de observaciones en el set de prueba\n",
        "    random_state=0)  # semilla asegurar reproducibilidad\n",
        "\n",
        "X_train.shape, X_test.shape"
      ],
      "execution_count": 34,
      "outputs": [
        {
          "output_type": "execute_result",
          "data": {
            "text/plain": [
              "((814, 80), (350, 80))"
            ]
          },
          "metadata": {
            "tags": []
          },
          "execution_count": 34
        }
      ]
    },
    {
      "cell_type": "code",
      "metadata": {
        "id": "Vp28-6_5tX1d"
      },
      "source": [
        "# Rare value encoder\n",
        "rare_encoder = RareLabelCategoricalEncoder(\n",
        "    tol=0.05,  # mínimo porcentaje para ser considerado no rara ( común)\n",
        "    n_categories=4, # mínimo número de categorías una variable debe tener  para que se re-agroupe en categorías raras\n",
        "    variables=['Neighborhood', 'Exterior1st', 'Exterior2nd',\n",
        "               'MasVnrType', 'ExterQual', 'BsmtCond'] # variables a re-agrupar\n",
        ")  "
      ],
      "execution_count": 35,
      "outputs": []
    },
    {
      "cell_type": "code",
      "metadata": {
        "id": "FeCvVYFMtX1d",
        "colab": {
          "base_uri": "https://localhost:8080/"
        },
        "outputId": "0c76cd16-2d9d-4f41-ea96-cabcdfc5f18b"
      },
      "source": [
        "rare_encoder.fit(X_train)"
      ],
      "execution_count": 36,
      "outputs": [
        {
          "output_type": "stream",
          "text": [
            "/usr/local/lib/python3.6/dist-packages/feature_engine/categorical_encoders.py:786: UserWarning: The number of unique categories for variable MasVnrType is less than that indicated in n_categories. Thus, all categories will be considered frequent\n",
            "  \"n_categories. Thus, all categories will be considered frequent\".format(var))\n",
            "/usr/local/lib/python3.6/dist-packages/feature_engine/categorical_encoders.py:786: UserWarning: The number of unique categories for variable ExterQual is less than that indicated in n_categories. Thus, all categories will be considered frequent\n",
            "  \"n_categories. Thus, all categories will be considered frequent\".format(var))\n",
            "/usr/local/lib/python3.6/dist-packages/feature_engine/categorical_encoders.py:786: UserWarning: The number of unique categories for variable BsmtCond is less than that indicated in n_categories. Thus, all categories will be considered frequent\n",
            "  \"n_categories. Thus, all categories will be considered frequent\".format(var))\n"
          ],
          "name": "stderr"
        },
        {
          "output_type": "execute_result",
          "data": {
            "text/plain": [
              "RareLabelCategoricalEncoder(max_n_categories=None, n_categories=4,\n",
              "                            replace_with='Rare', tol=0.05,\n",
              "                            variables=['Neighborhood', 'Exterior1st',\n",
              "                                       'Exterior2nd', 'MasVnrType', 'ExterQual',\n",
              "                                       'BsmtCond'])"
            ]
          },
          "metadata": {
            "tags": []
          },
          "execution_count": 36
        }
      ]
    },
    {
      "cell_type": "code",
      "metadata": {
        "id": "9jWU0ivEtX1d",
        "colab": {
          "base_uri": "https://localhost:8080/"
        },
        "outputId": "626e8265-74ea-4771-e9d3-9e2fd53e353a"
      },
      "source": [
        "rare_encoder.variables"
      ],
      "execution_count": 37,
      "outputs": [
        {
          "output_type": "execute_result",
          "data": {
            "text/plain": [
              "['Neighborhood',\n",
              " 'Exterior1st',\n",
              " 'Exterior2nd',\n",
              " 'MasVnrType',\n",
              " 'ExterQual',\n",
              " 'BsmtCond']"
            ]
          },
          "metadata": {
            "tags": []
          },
          "execution_count": 37
        }
      ]
    },
    {
      "cell_type": "code",
      "metadata": {
        "id": "NV9XFWJEtX1d",
        "colab": {
          "base_uri": "https://localhost:8080/"
        },
        "outputId": "5c26e869-359c-47c9-ad95-dcafe9b829e9"
      },
      "source": [
        "# en el encoder_dict_ encontramos las parejas de etiquetas frecuentes\n",
        "rare_encoder.encoder_dict_"
      ],
      "execution_count": 38,
      "outputs": [
        {
          "output_type": "execute_result",
          "data": {
            "text/plain": [
              "{'BsmtCond': array(['TA', 'Gd', 'Fa'], dtype=object),\n",
              " 'ExterQual': array(['Gd', 'Ex', 'TA', 'Fa'], dtype=object),\n",
              " 'Exterior1st': Index(['VinylSd', 'MetalSd', 'Wd Sdng', 'HdBoard', 'Plywood'], dtype='object'),\n",
              " 'Exterior2nd': Index(['VinylSd', 'MetalSd', 'Wd Sdng', 'HdBoard', 'Plywood'], dtype='object'),\n",
              " 'MasVnrType': array(['Stone', 'None', 'BrkFace', 'BrkCmn'], dtype=object),\n",
              " 'Neighborhood': Index(['NAmes', 'CollgCr', 'OldTown', 'Edwards', 'NridgHt', 'Somerst'], dtype='object')}"
            ]
          },
          "metadata": {
            "tags": []
          },
          "execution_count": 38
        }
      ]
    },
    {
      "cell_type": "code",
      "metadata": {
        "id": "wIVs-vk7tX1d"
      },
      "source": [
        "X_train = rare_encoder.transform(X_train)\n",
        "X_test = rare_encoder.transform(X_test)"
      ],
      "execution_count": 39,
      "outputs": []
    },
    {
      "cell_type": "code",
      "metadata": {
        "id": "KzcYju_F3kkw"
      },
      "source": [
        ""
      ],
      "execution_count": null,
      "outputs": []
    }
  ]
}