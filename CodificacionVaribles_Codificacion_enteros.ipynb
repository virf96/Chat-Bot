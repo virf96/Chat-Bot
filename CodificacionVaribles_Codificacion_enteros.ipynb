{
  "nbformat": 4,
  "nbformat_minor": 0,
  "metadata": {
    "kernelspec": {
      "display_name": "feml",
      "language": "python",
      "name": "feml"
    },
    "language_info": {
      "codemirror_mode": {
        "name": "ipython",
        "version": 3
      },
      "file_extension": ".py",
      "mimetype": "text/x-python",
      "name": "python",
      "nbconvert_exporter": "python",
      "pygments_lexer": "ipython3",
      "version": "3.7.3"
    },
    "toc": {
      "nav_menu": {},
      "number_sections": true,
      "sideBar": true,
      "skip_h1_title": false,
      "toc_cell": false,
      "toc_position": {},
      "toc_section_display": "block",
      "toc_window_display": true
    },
    "colab": {
      "name": "CodificacionVaribles-Codificacion-enteros.ipynb",
      "provenance": [],
      "toc_visible": true,
      "include_colab_link": true
    }
  },
  "cells": [
    {
      "cell_type": "markdown",
      "metadata": {
        "id": "view-in-github",
        "colab_type": "text"
      },
      "source": [
        "<a href=\"https://colab.research.google.com/github/virf96/Chat-Bot/blob/master/CodificacionVaribles_Codificacion_enteros.ipynb\" target=\"_parent\"><img src=\"https://colab.research.google.com/assets/colab-badge.svg\" alt=\"Open In Colab\"/></a>"
      ]
    },
    {
      "cell_type": "markdown",
      "metadata": {
        "id": "clEaVB1-w4ui"
      },
      "source": [
        "## Codificación por números enteros\n",
        "\n",
        "La codificación por enteros consiste en reemplazar las categorías por dígitos o números enteros del 1 a n ( o de 0 a n-1), dependiendo de la implementación, donde n es el número de las distintas categorías de una variable.\n",
        "\n",
        "Lo números son asignados arbitrariamente. Este método de codificación permite una rápida evaluación comparativa o 'benchmarking' de los modelos de machine learning.\n",
        "\n",
        "\n",
        "### Ventajas\n",
        "\n",
        "- Fácil de implementar\n",
        "- No expande el espacio de los datos (número de variables)\n",
        "\n",
        "### Limitaciones\n",
        "\n",
        "- No añade ninguna información que puede hacer que la  variable tenga mas poder predictivo\n",
        "- No retiene información sobre las etiquetas de las variables.\n",
        "- No es adecuado para modelos lineales\n",
        "\n",
        "La codificación por enteros es más adecuada para métodos no-lineales ya que estos pueden explorar los dígitos arbitrariamente asignados y  tratar de encontrar la mejor relación con el target o variable objetivo.\n",
        "\n",
        "## En este demo:\n",
        "\n",
        "Vamos a realizar codificación one hot con:\n",
        "- pandas\n",
        "- Scikit-learn\n",
        "- Feature-Engine\n",
        "\n",
        "y veremos las ventajas y limitaciones de cada una de estas implementaciones usando los datos House Prices dataset. \n",
        "\n"
      ]
    },
    {
      "cell_type": "code",
      "metadata": {
        "id": "KQCilD5rxP4H",
        "outputId": "58b291a0-d63e-449e-a8c2-f546027b20c3",
        "colab": {
          "base_uri": "https://localhost:8080/"
        }
      },
      "source": [
        "pip install feature_engine"
      ],
      "execution_count": 1,
      "outputs": [
        {
          "output_type": "stream",
          "text": [
            "Collecting feature_engine\n",
            "  Downloading https://files.pythonhosted.org/packages/14/ed/5680bf401855b788f79cadc1298c210c5860eb5d54c4008cfa234b752ef1/feature_engine-0.6.1-py2.py3-none-any.whl\n",
            "Requirement already satisfied: pandas>=1.0.3 in /usr/local/lib/python3.6/dist-packages (from feature_engine) (1.1.4)\n",
            "Requirement already satisfied: numpy>=1.18.2 in /usr/local/lib/python3.6/dist-packages (from feature_engine) (1.18.5)\n",
            "Collecting statsmodels>=0.11.1\n",
            "\u001b[?25l  Downloading https://files.pythonhosted.org/packages/be/4c/9e2435ca6645d6bafa2b51bb11f0a365b28934a2ffe9d6e339d67130926d/statsmodels-0.12.1-cp36-cp36m-manylinux1_x86_64.whl (9.5MB)\n",
            "\u001b[K     |████████████████████████████████| 9.5MB 7.8MB/s \n",
            "\u001b[?25hRequirement already satisfied: scipy>=1.4.1 in /usr/local/lib/python3.6/dist-packages (from feature_engine) (1.4.1)\n",
            "Requirement already satisfied: scikit-learn>=0.22.2 in /usr/local/lib/python3.6/dist-packages (from feature_engine) (0.22.2.post1)\n",
            "Requirement already satisfied: pytz>=2017.2 in /usr/local/lib/python3.6/dist-packages (from pandas>=1.0.3->feature_engine) (2018.9)\n",
            "Requirement already satisfied: python-dateutil>=2.7.3 in /usr/local/lib/python3.6/dist-packages (from pandas>=1.0.3->feature_engine) (2.8.1)\n",
            "Requirement already satisfied: patsy>=0.5 in /usr/local/lib/python3.6/dist-packages (from statsmodels>=0.11.1->feature_engine) (0.5.1)\n",
            "Requirement already satisfied: joblib>=0.11 in /usr/local/lib/python3.6/dist-packages (from scikit-learn>=0.22.2->feature_engine) (0.17.0)\n",
            "Requirement already satisfied: six>=1.5 in /usr/local/lib/python3.6/dist-packages (from python-dateutil>=2.7.3->pandas>=1.0.3->feature_engine) (1.15.0)\n",
            "Installing collected packages: statsmodels, feature-engine\n",
            "  Found existing installation: statsmodels 0.10.2\n",
            "    Uninstalling statsmodels-0.10.2:\n",
            "      Successfully uninstalled statsmodels-0.10.2\n",
            "Successfully installed feature-engine-0.6.1 statsmodels-0.12.1\n"
          ],
          "name": "stdout"
        }
      ]
    },
    {
      "cell_type": "code",
      "metadata": {
        "id": "U1_c9XcMw4uj"
      },
      "source": [
        "import numpy as np\n",
        "import pandas as pd\n",
        "\n",
        "# separar datasets\n",
        "from sklearn.model_selection import train_test_split\n",
        "\n",
        "# Codificación por enteros con sklearn\n",
        "from sklearn.preprocessing import LabelEncoder\n",
        "\n",
        "# Codificación por enteros con feature-engine\n",
        "from feature_engine.categorical_encoders import OrdinalCategoricalEncoder"
      ],
      "execution_count": 2,
      "outputs": []
    },
    {
      "cell_type": "code",
      "metadata": {
        "id": "FnlldqbVxNpp",
        "outputId": "8e25420d-5416-4e93-a78e-c108f10aa642",
        "colab": {
          "base_uri": "https://localhost:8080/"
        }
      },
      "source": [
        "from google.colab import drive\n",
        "drive.mount('/content/drive')"
      ],
      "execution_count": 3,
      "outputs": [
        {
          "output_type": "stream",
          "text": [
            "Mounted at /content/drive\n"
          ],
          "name": "stdout"
        }
      ]
    },
    {
      "cell_type": "code",
      "metadata": {
        "id": "aCnBC2oyw4up",
        "outputId": "8afb062c-9ff4-4f07-98f0-20ab74b34470",
        "colab": {
          "base_uri": "https://localhost:8080/",
          "height": 204
        }
      },
      "source": [
        "# cargar dataset\n",
        "\n",
        "data = pd.read_csv(\n",
        "    '/content/drive/My Drive/datasets/houseprice.csv',\n",
        "    usecols=['Neighborhood', 'Exterior1st', 'Exterior2nd', 'SalePrice'])\n",
        "\n",
        "data.head()"
      ],
      "execution_count": 4,
      "outputs": [
        {
          "output_type": "execute_result",
          "data": {
            "text/html": [
              "<div>\n",
              "<style scoped>\n",
              "    .dataframe tbody tr th:only-of-type {\n",
              "        vertical-align: middle;\n",
              "    }\n",
              "\n",
              "    .dataframe tbody tr th {\n",
              "        vertical-align: top;\n",
              "    }\n",
              "\n",
              "    .dataframe thead th {\n",
              "        text-align: right;\n",
              "    }\n",
              "</style>\n",
              "<table border=\"1\" class=\"dataframe\">\n",
              "  <thead>\n",
              "    <tr style=\"text-align: right;\">\n",
              "      <th></th>\n",
              "      <th>Neighborhood</th>\n",
              "      <th>Exterior1st</th>\n",
              "      <th>Exterior2nd</th>\n",
              "      <th>SalePrice</th>\n",
              "    </tr>\n",
              "  </thead>\n",
              "  <tbody>\n",
              "    <tr>\n",
              "      <th>0</th>\n",
              "      <td>CollgCr</td>\n",
              "      <td>VinylSd</td>\n",
              "      <td>VinylSd</td>\n",
              "      <td>208500</td>\n",
              "    </tr>\n",
              "    <tr>\n",
              "      <th>1</th>\n",
              "      <td>Veenker</td>\n",
              "      <td>MetalSd</td>\n",
              "      <td>MetalSd</td>\n",
              "      <td>181500</td>\n",
              "    </tr>\n",
              "    <tr>\n",
              "      <th>2</th>\n",
              "      <td>CollgCr</td>\n",
              "      <td>VinylSd</td>\n",
              "      <td>VinylSd</td>\n",
              "      <td>223500</td>\n",
              "    </tr>\n",
              "    <tr>\n",
              "      <th>3</th>\n",
              "      <td>Crawfor</td>\n",
              "      <td>Wd Sdng</td>\n",
              "      <td>Wd Shng</td>\n",
              "      <td>140000</td>\n",
              "    </tr>\n",
              "    <tr>\n",
              "      <th>4</th>\n",
              "      <td>NoRidge</td>\n",
              "      <td>VinylSd</td>\n",
              "      <td>VinylSd</td>\n",
              "      <td>250000</td>\n",
              "    </tr>\n",
              "  </tbody>\n",
              "</table>\n",
              "</div>"
            ],
            "text/plain": [
              "  Neighborhood Exterior1st Exterior2nd  SalePrice\n",
              "0      CollgCr     VinylSd     VinylSd     208500\n",
              "1      Veenker     MetalSd     MetalSd     181500\n",
              "2      CollgCr     VinylSd     VinylSd     223500\n",
              "3      Crawfor     Wd Sdng     Wd Shng     140000\n",
              "4      NoRidge     VinylSd     VinylSd     250000"
            ]
          },
          "metadata": {
            "tags": []
          },
          "execution_count": 4
        }
      ]
    },
    {
      "cell_type": "code",
      "metadata": {
        "id": "upCfWJuFw4us",
        "outputId": "beea57af-3626-479d-f7cb-0b8a23dfe803",
        "colab": {
          "base_uri": "https://localhost:8080/"
        }
      },
      "source": [
        "# miremos cuantas etiquetas tiene cada variable\n",
        "\n",
        "for col in data.columns:\n",
        "    print(col, ': ', len(data[col].unique()), ' etiquetas')"
      ],
      "execution_count": 5,
      "outputs": [
        {
          "output_type": "stream",
          "text": [
            "Neighborhood :  25  etiquetas\n",
            "Exterior1st :  15  etiquetas\n",
            "Exterior2nd :  16  etiquetas\n",
            "SalePrice :  663  etiquetas\n"
          ],
          "name": "stdout"
        }
      ]
    },
    {
      "cell_type": "code",
      "metadata": {
        "id": "r9a5gbT2w4uv",
        "outputId": "a8e5d41c-601e-4d86-88e0-806c83af065f",
        "colab": {
          "base_uri": "https://localhost:8080/"
        }
      },
      "source": [
        "# exploremos las categorías de cada una de las variables\n",
        "\n",
        "data['Neighborhood'].unique()"
      ],
      "execution_count": 6,
      "outputs": [
        {
          "output_type": "execute_result",
          "data": {
            "text/plain": [
              "array(['CollgCr', 'Veenker', 'Crawfor', 'NoRidge', 'Mitchel', 'Somerst',\n",
              "       'NWAmes', 'OldTown', 'BrkSide', 'Sawyer', 'NridgHt', 'NAmes',\n",
              "       'SawyerW', 'IDOTRR', 'MeadowV', 'Edwards', 'Timber', 'Gilbert',\n",
              "       'StoneBr', 'ClearCr', 'NPkVill', 'Blmngtn', 'BrDale', 'SWISU',\n",
              "       'Blueste'], dtype=object)"
            ]
          },
          "metadata": {
            "tags": []
          },
          "execution_count": 6
        }
      ]
    },
    {
      "cell_type": "code",
      "metadata": {
        "id": "n3WCNwu-w4ux",
        "outputId": "4fd09369-c533-491f-8edc-a09ea2656a67",
        "colab": {
          "base_uri": "https://localhost:8080/"
        }
      },
      "source": [
        "data['Exterior1st'].unique()"
      ],
      "execution_count": 7,
      "outputs": [
        {
          "output_type": "execute_result",
          "data": {
            "text/plain": [
              "array(['VinylSd', 'MetalSd', 'Wd Sdng', 'HdBoard', 'BrkFace', 'WdShing',\n",
              "       'CemntBd', 'Plywood', 'AsbShng', 'Stucco', 'BrkComm', 'AsphShn',\n",
              "       'Stone', 'ImStucc', 'CBlock'], dtype=object)"
            ]
          },
          "metadata": {
            "tags": []
          },
          "execution_count": 7
        }
      ]
    },
    {
      "cell_type": "code",
      "metadata": {
        "id": "a7ul7N9rw4u0",
        "outputId": "36a1cfd9-00c1-471f-ec0a-58d33080ee3f",
        "colab": {
          "base_uri": "https://localhost:8080/"
        }
      },
      "source": [
        "data['Exterior2nd'].unique()"
      ],
      "execution_count": 8,
      "outputs": [
        {
          "output_type": "execute_result",
          "data": {
            "text/plain": [
              "array(['VinylSd', 'MetalSd', 'Wd Shng', 'HdBoard', 'Plywood', 'Wd Sdng',\n",
              "       'CmentBd', 'BrkFace', 'Stucco', 'AsbShng', 'Brk Cmn', 'ImStucc',\n",
              "       'AsphShn', 'Stone', 'Other', 'CBlock'], dtype=object)"
            ]
          },
          "metadata": {
            "tags": []
          },
          "execution_count": 8
        }
      ]
    },
    {
      "cell_type": "markdown",
      "metadata": {
        "id": "HF4vOiJOw4u3"
      },
      "source": [
        "### Importante sobre codificación\n",
        "\n",
        "Es importante seleccionar cual dígito asignar a cada una de las categorías usando el set de entrenamiento; y luego usar este mapeo para codificar las variables en el set de prueba\n"
      ]
    },
    {
      "cell_type": "code",
      "metadata": {
        "id": "voeNMDecw4u3",
        "outputId": "7cc7e837-1be9-46d3-d9cc-fc6e0d3d3154",
        "colab": {
          "base_uri": "https://localhost:8080/"
        }
      },
      "source": [
        "# separemos en sets de prueba y entrenamiento\n",
        "\n",
        "X_train, X_test, y_train, y_test = train_test_split(\n",
        "    data[['Neighborhood', 'Exterior1st', 'Exterior2nd']],  # predictores\n",
        "    data['SalePrice'],  # target\n",
        "    test_size=0.3,  # porcentaje observaciones prueba\n",
        "    random_state=0)  # semilla para asegurar reproducibilidad\n",
        "\n",
        "X_train.shape, X_test.shape"
      ],
      "execution_count": 9,
      "outputs": [
        {
          "output_type": "execute_result",
          "data": {
            "text/plain": [
              "((1022, 3), (438, 3))"
            ]
          },
          "metadata": {
            "tags": []
          },
          "execution_count": 9
        }
      ]
    },
    {
      "cell_type": "markdown",
      "metadata": {
        "id": "ce2DoiBww4u7"
      },
      "source": [
        "## Codificación por enteros con pandas\n",
        "\n",
        "### Ventajas\n",
        "\n",
        "- rápido\n",
        "- devuelve un dataframe tipo pandas\n",
        "\n",
        "### Limitaciones:\n",
        "\n",
        "- no preserva la información del set de entrenamiento para propagarlo al set de prueba\n",
        "\n",
        "Necesitamos capturar y guardar los mapeos uno por uno, manualmente, si estamos planeando usarlos en producción"
      ]
    },
    {
      "cell_type": "code",
      "metadata": {
        "scrolled": true,
        "id": "5L9TmBxzw4u7",
        "outputId": "20fec275-d7e8-4890-a05d-6b5e10ed4d3c",
        "colab": {
          "base_uri": "https://localhost:8080/"
        }
      },
      "source": [
        "# primero creemos un diccionario con los mapeos de las categorias en dígitos o números enteros\n",
        "\n",
        "ordinal_mapping = {\n",
        "    k: i\n",
        "    for i, k in enumerate(X_train['Neighborhood'].unique(), 0)\n",
        "}\n",
        "\n",
        "ordinal_mapping"
      ],
      "execution_count": 10,
      "outputs": [
        {
          "output_type": "execute_result",
          "data": {
            "text/plain": [
              "{'Blmngtn': 22,\n",
              " 'Blueste': 24,\n",
              " 'BrDale': 14,\n",
              " 'BrkSide': 2,\n",
              " 'ClearCr': 1,\n",
              " 'CollgCr': 0,\n",
              " 'Crawfor': 6,\n",
              " 'Edwards': 3,\n",
              " 'Gilbert': 10,\n",
              " 'IDOTRR': 19,\n",
              " 'MeadowV': 12,\n",
              " 'Mitchel': 8,\n",
              " 'NAmes': 7,\n",
              " 'NPkVill': 20,\n",
              " 'NWAmes': 15,\n",
              " 'NoRidge': 18,\n",
              " 'NridgHt': 16,\n",
              " 'OldTown': 13,\n",
              " 'SWISU': 4,\n",
              " 'Sawyer': 5,\n",
              " 'SawyerW': 17,\n",
              " 'Somerst': 11,\n",
              " 'StoneBr': 21,\n",
              " 'Timber': 9,\n",
              " 'Veenker': 23}"
            ]
          },
          "metadata": {
            "tags": []
          },
          "execution_count": 10
        }
      ]
    },
    {
      "cell_type": "markdown",
      "metadata": {
        "id": "FzjKgEkLw4u-"
      },
      "source": [
        "El diccionario indica cual número va a reemplazar cada categoría. Los números fueron asignados arbitrariamente del 0 al n-1 donde n es el número de las diferentes categorias"
      ]
    },
    {
      "cell_type": "code",
      "metadata": {
        "id": "otO_UTCpw4u-"
      },
      "source": [
        "# reemplaza las etiquetas con los enteros\n",
        "\n",
        "X_train['Neighborhood'] = X_train['Neighborhood'].map(ordinal_mapping)\n",
        "X_test['Neighborhood'] = X_test['Neighborhood'].map(ordinal_mapping)"
      ],
      "execution_count": 11,
      "outputs": []
    },
    {
      "cell_type": "code",
      "metadata": {
        "id": "jEcn5jgbw4vB",
        "outputId": "237e961e-af8d-4e96-8f07-12d5aeaa6cf3",
        "colab": {
          "base_uri": "https://localhost:8080/"
        }
      },
      "source": [
        "# exploremos el resultados\n",
        "\n",
        "X_train['Neighborhood'].head(10)"
      ],
      "execution_count": 12,
      "outputs": [
        {
          "output_type": "execute_result",
          "data": {
            "text/plain": [
              "64      0\n",
              "682     1\n",
              "960     2\n",
              "1384    3\n",
              "1100    4\n",
              "416     5\n",
              "1034    6\n",
              "853     7\n",
              "472     3\n",
              "1011    3\n",
              "Name: Neighborhood, dtype: int64"
            ]
          },
          "metadata": {
            "tags": []
          },
          "execution_count": 12
        }
      ]
    },
    {
      "cell_type": "code",
      "metadata": {
        "id": "zTXlZUX0w4vF"
      },
      "source": [
        "# podemos convertir los comandos anteriores en dos funciones\n",
        "\n",
        "def find_category_mappings(df, variable):\n",
        "    return {k: i for i, k in enumerate(df[variable].unique(), 0)}\n",
        "\n",
        "\n",
        "def integer_encode(train, test, variable, ordinal_mapping):\n",
        "\n",
        "    X_train[variable] = X_train[variable].map(ordinal_mapping)\n",
        "    X_test[variable] = X_test[variable].map(ordinal_mapping)"
      ],
      "execution_count": 13,
      "outputs": []
    },
    {
      "cell_type": "code",
      "metadata": {
        "id": "hEt6ZFc6APKT",
        "outputId": "52b84dd3-58e5-471d-eee4-6575bdbc40cb",
        "colab": {
          "base_uri": "https://localhost:8080/"
        }
      },
      "source": [
        "find_category_mappings(X_test,'Neighborhood')"
      ],
      "execution_count": 15,
      "outputs": [
        {
          "output_type": "execute_result",
          "data": {
            "text/plain": [
              "{0: 11,\n",
              " 1: 3,\n",
              " 2: 2,\n",
              " 3: 14,\n",
              " 4: 22,\n",
              " 5: 12,\n",
              " 6: 0,\n",
              " 7: 1,\n",
              " 8: 16,\n",
              " 9: 19,\n",
              " 10: 10,\n",
              " 11: 6,\n",
              " 12: 13,\n",
              " 13: 5,\n",
              " 14: 4,\n",
              " 15: 9,\n",
              " 16: 18,\n",
              " 17: 15,\n",
              " 18: 8,\n",
              " 19: 7,\n",
              " 20: 21,\n",
              " 21: 17,\n",
              " 22: 20,\n",
              " 23: 23}"
            ]
          },
          "metadata": {
            "tags": []
          },
          "execution_count": 15
        }
      ]
    },
    {
      "cell_type": "code",
      "metadata": {
        "id": "kHxomq8Kw4vK"
      },
      "source": [
        "# y ahora repitamos para el resto de las variables categóricas\n",
        "\n",
        "for variable in ['Exterior1st', 'Exterior2nd']:\n",
        "    mappings = find_category_mappings(X_train, variable)\n",
        "    integer_encode(X_train, X_test, variable, mappings)"
      ],
      "execution_count": 16,
      "outputs": []
    },
    {
      "cell_type": "code",
      "metadata": {
        "id": "lATIqjPSw4vM",
        "outputId": "5f24758f-087d-48fd-e064-e64f02092d25",
        "colab": {
          "base_uri": "https://localhost:8080/",
          "height": 204
        }
      },
      "source": [
        "# veamos el resultado\n",
        "\n",
        "X_train.head()"
      ],
      "execution_count": 17,
      "outputs": [
        {
          "output_type": "execute_result",
          "data": {
            "text/html": [
              "<div>\n",
              "<style scoped>\n",
              "    .dataframe tbody tr th:only-of-type {\n",
              "        vertical-align: middle;\n",
              "    }\n",
              "\n",
              "    .dataframe tbody tr th {\n",
              "        vertical-align: top;\n",
              "    }\n",
              "\n",
              "    .dataframe thead th {\n",
              "        text-align: right;\n",
              "    }\n",
              "</style>\n",
              "<table border=\"1\" class=\"dataframe\">\n",
              "  <thead>\n",
              "    <tr style=\"text-align: right;\">\n",
              "      <th></th>\n",
              "      <th>Neighborhood</th>\n",
              "      <th>Exterior1st</th>\n",
              "      <th>Exterior2nd</th>\n",
              "    </tr>\n",
              "  </thead>\n",
              "  <tbody>\n",
              "    <tr>\n",
              "      <th>64</th>\n",
              "      <td>0</td>\n",
              "      <td>0</td>\n",
              "      <td>0</td>\n",
              "    </tr>\n",
              "    <tr>\n",
              "      <th>682</th>\n",
              "      <td>1</td>\n",
              "      <td>1</td>\n",
              "      <td>1</td>\n",
              "    </tr>\n",
              "    <tr>\n",
              "      <th>960</th>\n",
              "      <td>2</td>\n",
              "      <td>1</td>\n",
              "      <td>2</td>\n",
              "    </tr>\n",
              "    <tr>\n",
              "      <th>1384</th>\n",
              "      <td>3</td>\n",
              "      <td>2</td>\n",
              "      <td>3</td>\n",
              "    </tr>\n",
              "    <tr>\n",
              "      <th>1100</th>\n",
              "      <td>4</td>\n",
              "      <td>1</td>\n",
              "      <td>1</td>\n",
              "    </tr>\n",
              "  </tbody>\n",
              "</table>\n",
              "</div>"
            ],
            "text/plain": [
              "      Neighborhood  Exterior1st  Exterior2nd\n",
              "64               0            0            0\n",
              "682              1            1            1\n",
              "960              2            1            2\n",
              "1384             3            2            3\n",
              "1100             4            1            1"
            ]
          },
          "metadata": {
            "tags": []
          },
          "execution_count": 17
        }
      ]
    },
    {
      "cell_type": "markdown",
      "metadata": {
        "id": "UuzfmUlsw4vQ"
      },
      "source": [
        "## Codificación por enteros con Scikit-learn"
      ]
    },
    {
      "cell_type": "code",
      "metadata": {
        "id": "z2Se8VYqw4vR",
        "outputId": "fe132b89-6919-4c5a-c9cf-06f364248fff",
        "colab": {
          "base_uri": "https://localhost:8080/"
        }
      },
      "source": [
        "# separemos en sets de prueba y entrenamiento\n",
        "\n",
        "X_train, X_test, y_train, y_test = train_test_split(\n",
        "    data[['Neighborhood', 'Exterior1st', 'Exterior2nd']],  # variables\n",
        "    data['SalePrice'],  # target\n",
        "    test_size=0.3,  # porcentaje observaciones prueba\n",
        "    random_state=0)  # semilla para asegurar reproducibilidad\n",
        "\n",
        "X_train.shape, X_test.shape"
      ],
      "execution_count": 18,
      "outputs": [
        {
          "output_type": "execute_result",
          "data": {
            "text/plain": [
              "((1022, 3), (438, 3))"
            ]
          },
          "metadata": {
            "tags": []
          },
          "execution_count": 18
        }
      ]
    },
    {
      "cell_type": "code",
      "metadata": {
        "id": "tT-PDklKw4vU",
        "outputId": "4dde5607-35c6-4b2c-b508-ef24562dc318",
        "colab": {
          "base_uri": "https://localhost:8080/"
        }
      },
      "source": [
        "# creemos el codificador\n",
        "\n",
        "le = LabelEncoder()\n",
        "#Aprende de las etiquetas\n",
        "le.fit(X_train['Neighborhood'])"
      ],
      "execution_count": 19,
      "outputs": [
        {
          "output_type": "execute_result",
          "data": {
            "text/plain": [
              "LabelEncoder()"
            ]
          },
          "metadata": {
            "tags": []
          },
          "execution_count": 19
        }
      ]
    },
    {
      "cell_type": "code",
      "metadata": {
        "id": "m-oaTZBWw4vY",
        "outputId": "bab080eb-2215-43ea-cfb5-8c9ada028ff2",
        "colab": {
          "base_uri": "https://localhost:8080/"
        }
      },
      "source": [
        "# veamos las categorías o 'clases' únicas\n",
        "le.classes_"
      ],
      "execution_count": 20,
      "outputs": [
        {
          "output_type": "execute_result",
          "data": {
            "text/plain": [
              "array(['Blmngtn', 'Blueste', 'BrDale', 'BrkSide', 'ClearCr', 'CollgCr',\n",
              "       'Crawfor', 'Edwards', 'Gilbert', 'IDOTRR', 'MeadowV', 'Mitchel',\n",
              "       'NAmes', 'NPkVill', 'NWAmes', 'NoRidge', 'NridgHt', 'OldTown',\n",
              "       'SWISU', 'Sawyer', 'SawyerW', 'Somerst', 'StoneBr', 'Timber',\n",
              "       'Veenker'], dtype=object)"
            ]
          },
          "metadata": {
            "tags": []
          },
          "execution_count": 20
        }
      ]
    },
    {
      "cell_type": "code",
      "metadata": {
        "id": "POSLdxXOw4vb",
        "outputId": "5b87599c-4f8c-4489-a9ae-ad76a93ba3c4",
        "colab": {
          "base_uri": "https://localhost:8080/",
          "height": 204
        }
      },
      "source": [
        "X_train['Neighborhood'] = le.transform(X_train['Neighborhood'])\n",
        "X_test['Neighborhood'] = le.transform(X_test['Neighborhood'])\n",
        "\n",
        "X_train.head()"
      ],
      "execution_count": 21,
      "outputs": [
        {
          "output_type": "execute_result",
          "data": {
            "text/html": [
              "<div>\n",
              "<style scoped>\n",
              "    .dataframe tbody tr th:only-of-type {\n",
              "        vertical-align: middle;\n",
              "    }\n",
              "\n",
              "    .dataframe tbody tr th {\n",
              "        vertical-align: top;\n",
              "    }\n",
              "\n",
              "    .dataframe thead th {\n",
              "        text-align: right;\n",
              "    }\n",
              "</style>\n",
              "<table border=\"1\" class=\"dataframe\">\n",
              "  <thead>\n",
              "    <tr style=\"text-align: right;\">\n",
              "      <th></th>\n",
              "      <th>Neighborhood</th>\n",
              "      <th>Exterior1st</th>\n",
              "      <th>Exterior2nd</th>\n",
              "    </tr>\n",
              "  </thead>\n",
              "  <tbody>\n",
              "    <tr>\n",
              "      <th>64</th>\n",
              "      <td>5</td>\n",
              "      <td>VinylSd</td>\n",
              "      <td>VinylSd</td>\n",
              "    </tr>\n",
              "    <tr>\n",
              "      <th>682</th>\n",
              "      <td>4</td>\n",
              "      <td>Wd Sdng</td>\n",
              "      <td>Wd Sdng</td>\n",
              "    </tr>\n",
              "    <tr>\n",
              "      <th>960</th>\n",
              "      <td>3</td>\n",
              "      <td>Wd Sdng</td>\n",
              "      <td>Plywood</td>\n",
              "    </tr>\n",
              "    <tr>\n",
              "      <th>1384</th>\n",
              "      <td>7</td>\n",
              "      <td>WdShing</td>\n",
              "      <td>Wd Shng</td>\n",
              "    </tr>\n",
              "    <tr>\n",
              "      <th>1100</th>\n",
              "      <td>18</td>\n",
              "      <td>Wd Sdng</td>\n",
              "      <td>Wd Sdng</td>\n",
              "    </tr>\n",
              "  </tbody>\n",
              "</table>\n",
              "</div>"
            ],
            "text/plain": [
              "      Neighborhood Exterior1st Exterior2nd\n",
              "64               5     VinylSd     VinylSd\n",
              "682              4     Wd Sdng     Wd Sdng\n",
              "960              3     Wd Sdng     Plywood\n",
              "1384             7     WdShing     Wd Shng\n",
              "1100            18     Wd Sdng     Wd Sdng"
            ]
          },
          "metadata": {
            "tags": []
          },
          "execution_count": 21
        }
      ]
    },
    {
      "cell_type": "markdown",
      "metadata": {
        "id": "bfroHu33w4ve"
      },
      "source": [
        "Desafortunadamente, el LabelEncoder solo funciona con una variable. Sin embargo hay una forma de automatizarlos para todas las variables categóricas ( al mismo tiempo) a la vez. La implementación a continaución fue tomada de [stackoverflow thread](https://stackoverflow.com/questions/24458645/label-encoding-across-multiple-columns-in-scikit-learn)"
      ]
    },
    {
      "cell_type": "code",
      "metadata": {
        "id": "ehQe2wQbw4ve"
      },
      "source": [
        "#  importar diccionario\n",
        "\n",
        "from collections import defaultdict"
      ],
      "execution_count": 22,
      "outputs": []
    },
    {
      "cell_type": "code",
      "metadata": {
        "id": "KQ6_wrxvw4vh",
        "outputId": "33d141fe-83d5-4ee0-b27d-538461945c16",
        "colab": {
          "base_uri": "https://localhost:8080/"
        }
      },
      "source": [
        "# separemos en segmentos de prueba y entrenamiento\n",
        "\n",
        "X_train, X_test, y_train, y_test = train_test_split(\n",
        "    data[['Neighborhood', 'Exterior1st', 'Exterior2nd']],  # variables\n",
        "    data['SalePrice'],  # target\n",
        "    test_size=0.3,  # porcentaje de observaciones prueba\n",
        "    random_state=0)  # semilla para asegurar reproducibilidad\n",
        "\n",
        "X_train.shape, X_test.shape"
      ],
      "execution_count": 23,
      "outputs": [
        {
          "output_type": "execute_result",
          "data": {
            "text/plain": [
              "((1022, 3), (438, 3))"
            ]
          },
          "metadata": {
            "tags": []
          },
          "execution_count": 23
        }
      ]
    },
    {
      "cell_type": "code",
      "metadata": {
        "id": "GQ_UxinTw4vk"
      },
      "source": [
        "#Utilizamos el método\n",
        "d = defaultdict(LabelEncoder)"
      ],
      "execution_count": 25,
      "outputs": []
    },
    {
      "cell_type": "code",
      "metadata": {
        "id": "1uC2ydZaw4vn"
      },
      "source": [
        "# codificación de la  variable\n",
        "#utilizamos la método apply junto con una función lambda para que aprenda y transforme al mismo tiempo las variables \n",
        "train_transformed = X_train.apply(lambda x: d[x.name].fit_transform(x))\n",
        "\n",
        "# # usando el diccionario para codificar datos futuros\n",
        "test_transformed = X_test.apply(lambda x: d[x.name].transform(x))"
      ],
      "execution_count": 32,
      "outputs": []
    },
    {
      "cell_type": "code",
      "metadata": {
        "id": "p8PT78-8w4vr",
        "outputId": "01cc38dd-eca3-443d-fe3e-9c5d57c1ca40",
        "colab": {
          "base_uri": "https://localhost:8080/",
          "height": 204
        }
      },
      "source": [
        "train_transformed.head()"
      ],
      "execution_count": 33,
      "outputs": [
        {
          "output_type": "execute_result",
          "data": {
            "text/html": [
              "<div>\n",
              "<style scoped>\n",
              "    .dataframe tbody tr th:only-of-type {\n",
              "        vertical-align: middle;\n",
              "    }\n",
              "\n",
              "    .dataframe tbody tr th {\n",
              "        vertical-align: top;\n",
              "    }\n",
              "\n",
              "    .dataframe thead th {\n",
              "        text-align: right;\n",
              "    }\n",
              "</style>\n",
              "<table border=\"1\" class=\"dataframe\">\n",
              "  <thead>\n",
              "    <tr style=\"text-align: right;\">\n",
              "      <th></th>\n",
              "      <th>Neighborhood</th>\n",
              "      <th>Exterior1st</th>\n",
              "      <th>Exterior2nd</th>\n",
              "    </tr>\n",
              "  </thead>\n",
              "  <tbody>\n",
              "    <tr>\n",
              "      <th>64</th>\n",
              "      <td>5</td>\n",
              "      <td>12</td>\n",
              "      <td>13</td>\n",
              "    </tr>\n",
              "    <tr>\n",
              "      <th>682</th>\n",
              "      <td>4</td>\n",
              "      <td>13</td>\n",
              "      <td>14</td>\n",
              "    </tr>\n",
              "    <tr>\n",
              "      <th>960</th>\n",
              "      <td>3</td>\n",
              "      <td>13</td>\n",
              "      <td>10</td>\n",
              "    </tr>\n",
              "    <tr>\n",
              "      <th>1384</th>\n",
              "      <td>7</td>\n",
              "      <td>14</td>\n",
              "      <td>15</td>\n",
              "    </tr>\n",
              "    <tr>\n",
              "      <th>1100</th>\n",
              "      <td>18</td>\n",
              "      <td>13</td>\n",
              "      <td>14</td>\n",
              "    </tr>\n",
              "  </tbody>\n",
              "</table>\n",
              "</div>"
            ],
            "text/plain": [
              "      Neighborhood  Exterior1st  Exterior2nd\n",
              "64               5           12           13\n",
              "682              4           13           14\n",
              "960              3           13           10\n",
              "1384             7           14           15\n",
              "1100            18           13           14"
            ]
          },
          "metadata": {
            "tags": []
          },
          "execution_count": 33
        }
      ]
    },
    {
      "cell_type": "code",
      "metadata": {
        "id": "dvTJcsFKw4vu",
        "outputId": "67035d35-9752-48e5-abdb-ddea6cbaa01c",
        "colab": {
          "base_uri": "https://localhost:8080/",
          "height": 204
        }
      },
      "source": [
        "test_transformed.head()"
      ],
      "execution_count": 34,
      "outputs": [
        {
          "output_type": "execute_result",
          "data": {
            "text/html": [
              "<div>\n",
              "<style scoped>\n",
              "    .dataframe tbody tr th:only-of-type {\n",
              "        vertical-align: middle;\n",
              "    }\n",
              "\n",
              "    .dataframe tbody tr th {\n",
              "        vertical-align: top;\n",
              "    }\n",
              "\n",
              "    .dataframe thead th {\n",
              "        text-align: right;\n",
              "    }\n",
              "</style>\n",
              "<table border=\"1\" class=\"dataframe\">\n",
              "  <thead>\n",
              "    <tr style=\"text-align: right;\">\n",
              "      <th></th>\n",
              "      <th>Neighborhood</th>\n",
              "      <th>Exterior1st</th>\n",
              "      <th>Exterior2nd</th>\n",
              "    </tr>\n",
              "  </thead>\n",
              "  <tbody>\n",
              "    <tr>\n",
              "      <th>529</th>\n",
              "      <td>6</td>\n",
              "      <td>13</td>\n",
              "      <td>11</td>\n",
              "    </tr>\n",
              "    <tr>\n",
              "      <th>491</th>\n",
              "      <td>12</td>\n",
              "      <td>13</td>\n",
              "      <td>14</td>\n",
              "    </tr>\n",
              "    <tr>\n",
              "      <th>459</th>\n",
              "      <td>3</td>\n",
              "      <td>8</td>\n",
              "      <td>8</td>\n",
              "    </tr>\n",
              "    <tr>\n",
              "      <th>279</th>\n",
              "      <td>4</td>\n",
              "      <td>9</td>\n",
              "      <td>10</td>\n",
              "    </tr>\n",
              "    <tr>\n",
              "      <th>655</th>\n",
              "      <td>2</td>\n",
              "      <td>6</td>\n",
              "      <td>7</td>\n",
              "    </tr>\n",
              "  </tbody>\n",
              "</table>\n",
              "</div>"
            ],
            "text/plain": [
              "     Neighborhood  Exterior1st  Exterior2nd\n",
              "529             6           13           11\n",
              "491            12           13           14\n",
              "459             3            8            8\n",
              "279             4            9           10\n",
              "655             2            6            7"
            ]
          },
          "metadata": {
            "tags": []
          },
          "execution_count": 34
        }
      ]
    },
    {
      "cell_type": "code",
      "metadata": {
        "id": "zk3sgOP6w4vy",
        "outputId": "84665349-d958-4ad0-ec39-f59d8d285004",
        "colab": {
          "base_uri": "https://localhost:8080/",
          "height": 204
        }
      },
      "source": [
        "# y la transformada inversa para recobrar las etiquetas originales\n",
        "\n",
        "# # Inversa de la codificación\n",
        "\n",
        "tmp = train_transformed.apply(lambda x: d[x.name].inverse_transform(x))\n",
        "tmp.head()"
      ],
      "execution_count": 35,
      "outputs": [
        {
          "output_type": "execute_result",
          "data": {
            "text/html": [
              "<div>\n",
              "<style scoped>\n",
              "    .dataframe tbody tr th:only-of-type {\n",
              "        vertical-align: middle;\n",
              "    }\n",
              "\n",
              "    .dataframe tbody tr th {\n",
              "        vertical-align: top;\n",
              "    }\n",
              "\n",
              "    .dataframe thead th {\n",
              "        text-align: right;\n",
              "    }\n",
              "</style>\n",
              "<table border=\"1\" class=\"dataframe\">\n",
              "  <thead>\n",
              "    <tr style=\"text-align: right;\">\n",
              "      <th></th>\n",
              "      <th>Neighborhood</th>\n",
              "      <th>Exterior1st</th>\n",
              "      <th>Exterior2nd</th>\n",
              "    </tr>\n",
              "  </thead>\n",
              "  <tbody>\n",
              "    <tr>\n",
              "      <th>64</th>\n",
              "      <td>CollgCr</td>\n",
              "      <td>VinylSd</td>\n",
              "      <td>VinylSd</td>\n",
              "    </tr>\n",
              "    <tr>\n",
              "      <th>682</th>\n",
              "      <td>ClearCr</td>\n",
              "      <td>Wd Sdng</td>\n",
              "      <td>Wd Sdng</td>\n",
              "    </tr>\n",
              "    <tr>\n",
              "      <th>960</th>\n",
              "      <td>BrkSide</td>\n",
              "      <td>Wd Sdng</td>\n",
              "      <td>Plywood</td>\n",
              "    </tr>\n",
              "    <tr>\n",
              "      <th>1384</th>\n",
              "      <td>Edwards</td>\n",
              "      <td>WdShing</td>\n",
              "      <td>Wd Shng</td>\n",
              "    </tr>\n",
              "    <tr>\n",
              "      <th>1100</th>\n",
              "      <td>SWISU</td>\n",
              "      <td>Wd Sdng</td>\n",
              "      <td>Wd Sdng</td>\n",
              "    </tr>\n",
              "  </tbody>\n",
              "</table>\n",
              "</div>"
            ],
            "text/plain": [
              "     Neighborhood Exterior1st Exterior2nd\n",
              "64        CollgCr     VinylSd     VinylSd\n",
              "682       ClearCr     Wd Sdng     Wd Sdng\n",
              "960       BrkSide     Wd Sdng     Plywood\n",
              "1384      Edwards     WdShing     Wd Shng\n",
              "1100        SWISU     Wd Sdng     Wd Sdng"
            ]
          },
          "metadata": {
            "tags": []
          },
          "execution_count": 35
        }
      ]
    },
    {
      "cell_type": "markdown",
      "metadata": {
        "id": "cPhDlEjvw4v1"
      },
      "source": [
        "Finalmente, hay otro transformador en Scikit-learn, el OrdinalEncoder, para codificar múltiples variables al mismo tiempo. Sin embargo, este transformador retorna un NumPy array sin los nombres de las columnas, por lo tanto no es nuestra implementación favorita. \n",
        "\n",
        "Más detalles aquí: https://scikit-learn.org/stable/modules/generated/sklearn.preprocessing.OrdinalEncoder.html "
      ]
    },
    {
      "cell_type": "markdown",
      "metadata": {
        "id": "yuIBGgrhw4v1"
      },
      "source": [
        "## Codificación por enteros con Feature-Engine"
      ]
    },
    {
      "cell_type": "code",
      "metadata": {
        "id": "lKCxWeIKw4v2",
        "outputId": "ee5e9103-9d4d-40e3-80b8-cb70674fd74f",
        "colab": {
          "base_uri": "https://localhost:8080/"
        }
      },
      "source": [
        "# separemos en sets de prueba y entrenamiento\n",
        "\n",
        "X_train, X_test, y_train, y_test = train_test_split(\n",
        "    data[['Neighborhood', 'Exterior1st', 'Exterior2nd']],  # variables\n",
        "    data['SalePrice'],  # target\n",
        "    test_size=0.3,  # porcentaje observaciones prueba\n",
        "    random_state=0)  # semilla asegurar reproducibilidad\n",
        "\n",
        "X_train.shape, X_test.shape"
      ],
      "execution_count": 36,
      "outputs": [
        {
          "output_type": "execute_result",
          "data": {
            "text/plain": [
              "((1022, 3), (438, 3))"
            ]
          },
          "metadata": {
            "tags": []
          },
          "execution_count": 36
        }
      ]
    },
    {
      "cell_type": "code",
      "metadata": {
        "id": "VMErzbszw4v5",
        "outputId": "2602fac4-cad9-488d-82d3-d95d60b28649",
        "colab": {
          "base_uri": "https://localhost:8080/"
        }
      },
      "source": [
        "ordinal_enc = OrdinalCategoricalEncoder(\n",
        "    encoding_method='arbitrary', #Lo indicamos así para que las enumere de acuerdo a su orden aparición\n",
        "    variables=['Neighborhood', 'Exterior1st', 'Exterior2nd'])#Indicamos variables a trabajar\n",
        "\n",
        "ordinal_enc.fit(X_train)"
      ],
      "execution_count": 37,
      "outputs": [
        {
          "output_type": "execute_result",
          "data": {
            "text/plain": [
              "OrdinalCategoricalEncoder(encoding_method='arbitrary',\n",
              "                          variables=['Neighborhood', 'Exterior1st',\n",
              "                                     'Exterior2nd'])"
            ]
          },
          "metadata": {
            "tags": []
          },
          "execution_count": 37
        }
      ]
    },
    {
      "cell_type": "code",
      "metadata": {
        "scrolled": true,
        "id": "h1LbW5pXw4v-",
        "outputId": "d0afc8f1-1fd7-4efa-a4de-74f906dbd15e",
        "colab": {
          "base_uri": "https://localhost:8080/"
        }
      },
      "source": [
        "# en el atributo encoder_dict podemos ver los números asignados\n",
        "# a cada categoría para todas las variables indicadas\n",
        "\n",
        "ordinal_enc.encoder_dict_"
      ],
      "execution_count": 38,
      "outputs": [
        {
          "output_type": "execute_result",
          "data": {
            "text/plain": [
              "{'Exterior1st': {'AsbShng': 11,\n",
              "  'AsphShn': 5,\n",
              "  'BrkComm': 10,\n",
              "  'BrkFace': 6,\n",
              "  'CBlock': 13,\n",
              "  'CemntBd': 8,\n",
              "  'HdBoard': 3,\n",
              "  'ImStucc': 12,\n",
              "  'MetalSd': 4,\n",
              "  'Plywood': 7,\n",
              "  'Stone': 14,\n",
              "  'Stucco': 9,\n",
              "  'VinylSd': 0,\n",
              "  'Wd Sdng': 1,\n",
              "  'WdShing': 2},\n",
              " 'Exterior2nd': {'AsbShng': 12,\n",
              "  'AsphShn': 6,\n",
              "  'Brk Cmn': 13,\n",
              "  'BrkFace': 8,\n",
              "  'CBlock': 14,\n",
              "  'CmentBd': 7,\n",
              "  'HdBoard': 4,\n",
              "  'ImStucc': 10,\n",
              "  'MetalSd': 5,\n",
              "  'Other': 15,\n",
              "  'Plywood': 2,\n",
              "  'Stone': 11,\n",
              "  'Stucco': 9,\n",
              "  'VinylSd': 0,\n",
              "  'Wd Sdng': 1,\n",
              "  'Wd Shng': 3},\n",
              " 'Neighborhood': {'Blmngtn': 22,\n",
              "  'Blueste': 24,\n",
              "  'BrDale': 14,\n",
              "  'BrkSide': 2,\n",
              "  'ClearCr': 1,\n",
              "  'CollgCr': 0,\n",
              "  'Crawfor': 6,\n",
              "  'Edwards': 3,\n",
              "  'Gilbert': 10,\n",
              "  'IDOTRR': 19,\n",
              "  'MeadowV': 12,\n",
              "  'Mitchel': 8,\n",
              "  'NAmes': 7,\n",
              "  'NPkVill': 20,\n",
              "  'NWAmes': 15,\n",
              "  'NoRidge': 18,\n",
              "  'NridgHt': 16,\n",
              "  'OldTown': 13,\n",
              "  'SWISU': 4,\n",
              "  'Sawyer': 5,\n",
              "  'SawyerW': 17,\n",
              "  'Somerst': 11,\n",
              "  'StoneBr': 21,\n",
              "  'Timber': 9,\n",
              "  'Veenker': 23}}"
            ]
          },
          "metadata": {
            "tags": []
          },
          "execution_count": 38
        }
      ]
    },
    {
      "cell_type": "code",
      "metadata": {
        "id": "1tRbDiYCw4wA",
        "outputId": "fbf12d0b-7084-4a0f-cc8d-7cf81c522303",
        "colab": {
          "base_uri": "https://localhost:8080/"
        }
      },
      "source": [
        "# esta es la lista de variables que el codificador necesita transformar\n",
        "ordinal_enc.variables"
      ],
      "execution_count": 39,
      "outputs": [
        {
          "output_type": "execute_result",
          "data": {
            "text/plain": [
              "['Neighborhood', 'Exterior1st', 'Exterior2nd']"
            ]
          },
          "metadata": {
            "tags": []
          },
          "execution_count": 39
        }
      ]
    },
    {
      "cell_type": "code",
      "metadata": {
        "id": "mkyZ_fmvw4wD",
        "outputId": "f642265f-8859-4e10-c432-9b359af79586",
        "colab": {
          "base_uri": "https://localhost:8080/",
          "height": 204
        }
      },
      "source": [
        "X_train = ordinal_enc.transform(X_train)\n",
        "X_test = ordinal_enc.transform(X_test)\n",
        "\n",
        "# exploremos el resultado\n",
        "X_train.head()"
      ],
      "execution_count": 40,
      "outputs": [
        {
          "output_type": "execute_result",
          "data": {
            "text/html": [
              "<div>\n",
              "<style scoped>\n",
              "    .dataframe tbody tr th:only-of-type {\n",
              "        vertical-align: middle;\n",
              "    }\n",
              "\n",
              "    .dataframe tbody tr th {\n",
              "        vertical-align: top;\n",
              "    }\n",
              "\n",
              "    .dataframe thead th {\n",
              "        text-align: right;\n",
              "    }\n",
              "</style>\n",
              "<table border=\"1\" class=\"dataframe\">\n",
              "  <thead>\n",
              "    <tr style=\"text-align: right;\">\n",
              "      <th></th>\n",
              "      <th>Neighborhood</th>\n",
              "      <th>Exterior1st</th>\n",
              "      <th>Exterior2nd</th>\n",
              "    </tr>\n",
              "  </thead>\n",
              "  <tbody>\n",
              "    <tr>\n",
              "      <th>64</th>\n",
              "      <td>0</td>\n",
              "      <td>0</td>\n",
              "      <td>0</td>\n",
              "    </tr>\n",
              "    <tr>\n",
              "      <th>682</th>\n",
              "      <td>1</td>\n",
              "      <td>1</td>\n",
              "      <td>1</td>\n",
              "    </tr>\n",
              "    <tr>\n",
              "      <th>960</th>\n",
              "      <td>2</td>\n",
              "      <td>1</td>\n",
              "      <td>2</td>\n",
              "    </tr>\n",
              "    <tr>\n",
              "      <th>1384</th>\n",
              "      <td>3</td>\n",
              "      <td>2</td>\n",
              "      <td>3</td>\n",
              "    </tr>\n",
              "    <tr>\n",
              "      <th>1100</th>\n",
              "      <td>4</td>\n",
              "      <td>1</td>\n",
              "      <td>1</td>\n",
              "    </tr>\n",
              "  </tbody>\n",
              "</table>\n",
              "</div>"
            ],
            "text/plain": [
              "      Neighborhood  Exterior1st  Exterior2nd\n",
              "64               0            0            0\n",
              "682              1            1            1\n",
              "960              2            1            2\n",
              "1384             3            2            3\n",
              "1100             4            1            1"
            ]
          },
          "metadata": {
            "tags": []
          },
          "execution_count": 40
        }
      ]
    },
    {
      "cell_type": "markdown",
      "metadata": {
        "id": "-vAwlZjkw4wG"
      },
      "source": [
        "**Nota**\n",
        "\n",
        "Si el argumento 'variables' se fija en 'None' (ninguno). entonces el codificador automáticamente indentificará  **todas las variables categóricas**. Maravilloso verdad?\n",
        "\n",
        "El codificador no codificará las variables numéricas. Entonces si algunas de tus variables categóricas son de hecho numéricas, necesitas hacer el 're-cast' o cambio a tipo 'object' antes de usar el codificador.\n",
        "\n",
        "Si hay una variable en el set de prueba, para el cual el codificador no tiene un número para asignar ( la categoría no estaba presente en el set de entrenamiento), el codificador devolverá un error.\n"
      ]
    },
    {
      "cell_type": "code",
      "metadata": {
        "id": "2sllLw8Mw4wH"
      },
      "source": [
        ""
      ],
      "execution_count": null,
      "outputs": []
    }
  ]
}