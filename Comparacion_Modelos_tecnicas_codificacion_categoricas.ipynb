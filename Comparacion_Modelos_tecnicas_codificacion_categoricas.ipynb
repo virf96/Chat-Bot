{
  "nbformat": 4,
  "nbformat_minor": 0,
  "metadata": {
    "kernelspec": {
      "display_name": "feml",
      "language": "python",
      "name": "feml"
    },
    "language_info": {
      "codemirror_mode": {
        "name": "ipython",
        "version": 3
      },
      "file_extension": ".py",
      "mimetype": "text/x-python",
      "name": "python",
      "nbconvert_exporter": "python",
      "pygments_lexer": "ipython3",
      "version": "3.8.2"
    },
    "toc": {
      "base_numbering": 1,
      "nav_menu": {},
      "number_sections": true,
      "sideBar": true,
      "skip_h1_title": false,
      "title_cell": "Table of Contents",
      "title_sidebar": "Contents",
      "toc_cell": false,
      "toc_position": {},
      "toc_section_display": "block",
      "toc_window_display": true
    },
    "colab": {
      "name": "Comparacion_Modelos-tecnicas-codificacion-categoricas.ipynb",
      "provenance": [],
      "toc_visible": true,
      "include_colab_link": true
    }
  },
  "cells": [
    {
      "cell_type": "markdown",
      "metadata": {
        "id": "view-in-github",
        "colab_type": "text"
      },
      "source": [
        "<a href=\"https://colab.research.google.com/github/virf96/Chat-Bot/blob/master/Comparacion_Modelos_tecnicas_codificacion_categoricas.ipynb\" target=\"_parent\"><img src=\"https://colab.research.google.com/assets/colab-badge.svg\" alt=\"Open In Colab\"/></a>"
      ]
    },
    {
      "cell_type": "markdown",
      "metadata": {
        "id": "ZD1f9lSjAg0o"
      },
      "source": [
        "## Comparación de las Técnicas de Codificación de Variables Categóricas\n",
        "\n",
        "En esta lección, vamos a comparar el desempeño de de las diferentes técnicas para codificar variables categóricas, utilizando dos modelos de machine learning: Random Forest (Bosque aleatorio) y Regresión Logística.\n",
        "\n",
        "Vamos a comparar:\n",
        "\n",
        "- Codificación One-hot \n",
        "- Reemplazar etiquetas por el número de observaciones\n",
        "- Reemplazar categorías por números ordinales de acuerdo al target\n",
        "- Codificación por la media\n",
        "- WoE\n",
        "\n",
        "y vamos a usar los datos del Titanic."
      ]
    },
    {
      "cell_type": "code",
      "metadata": {
        "id": "cr96g-n-Ag0v"
      },
      "source": [
        "import pandas as pd\n",
        "import numpy as np\n",
        "\n",
        "from sklearn.model_selection import train_test_split\n",
        "\n",
        "from sklearn.linear_model import LogisticRegression\n",
        "from sklearn.ensemble import RandomForestClassifier\n",
        "\n",
        "from sklearn.metrics import roc_auc_score\n",
        "\n",
        "import warnings\n",
        "warnings.filterwarnings(\"ignore\", category=FutureWarning)"
      ],
      "execution_count": 1,
      "outputs": []
    },
    {
      "cell_type": "code",
      "metadata": {
        "colab": {
          "base_uri": "https://localhost:8080/"
        },
        "id": "eClCBzaNmARg",
        "outputId": "8249988e-3a6a-4c3d-cee4-b3f2fb9b6f0a"
      },
      "source": [
        "from google.colab import drive\n",
        "drive.mount('/content/drive')"
      ],
      "execution_count": 3,
      "outputs": [
        {
          "output_type": "stream",
          "text": [
            "Mounted at /content/drive\n"
          ],
          "name": "stdout"
        }
      ]
    },
    {
      "cell_type": "code",
      "metadata": {
        "id": "RTjYmkM3Ag0w",
        "colab": {
          "base_uri": "https://localhost:8080/",
          "height": 191
        },
        "outputId": "4033177f-7e97-4514-e93c-2a0181b7432b"
      },
      "source": [
        "# carguemos el titanic dataset\n",
        "\n",
        "# solo vamos a usar estar columnas en el demo\n",
        "cols = ['pclass', 'age', 'sibsp', 'parch', 'fare',\n",
        "        'sex', 'cabin', 'embarked', 'survived']\n",
        "\n",
        "data = pd.read_csv('/content/drive/MyDrive/datasets/titanic.csv', usecols=cols)\n",
        "\n",
        "data.head()"
      ],
      "execution_count": 4,
      "outputs": [
        {
          "output_type": "execute_result",
          "data": {
            "text/html": [
              "<div>\n",
              "<style scoped>\n",
              "    .dataframe tbody tr th:only-of-type {\n",
              "        vertical-align: middle;\n",
              "    }\n",
              "\n",
              "    .dataframe tbody tr th {\n",
              "        vertical-align: top;\n",
              "    }\n",
              "\n",
              "    .dataframe thead th {\n",
              "        text-align: right;\n",
              "    }\n",
              "</style>\n",
              "<table border=\"1\" class=\"dataframe\">\n",
              "  <thead>\n",
              "    <tr style=\"text-align: right;\">\n",
              "      <th></th>\n",
              "      <th>pclass</th>\n",
              "      <th>survived</th>\n",
              "      <th>sex</th>\n",
              "      <th>age</th>\n",
              "      <th>sibsp</th>\n",
              "      <th>parch</th>\n",
              "      <th>fare</th>\n",
              "      <th>cabin</th>\n",
              "      <th>embarked</th>\n",
              "    </tr>\n",
              "  </thead>\n",
              "  <tbody>\n",
              "    <tr>\n",
              "      <th>0</th>\n",
              "      <td>1</td>\n",
              "      <td>1</td>\n",
              "      <td>female</td>\n",
              "      <td>29.0000</td>\n",
              "      <td>0</td>\n",
              "      <td>0</td>\n",
              "      <td>211.3375</td>\n",
              "      <td>B5</td>\n",
              "      <td>S</td>\n",
              "    </tr>\n",
              "    <tr>\n",
              "      <th>1</th>\n",
              "      <td>1</td>\n",
              "      <td>1</td>\n",
              "      <td>male</td>\n",
              "      <td>0.9167</td>\n",
              "      <td>1</td>\n",
              "      <td>2</td>\n",
              "      <td>151.5500</td>\n",
              "      <td>C22</td>\n",
              "      <td>S</td>\n",
              "    </tr>\n",
              "    <tr>\n",
              "      <th>2</th>\n",
              "      <td>1</td>\n",
              "      <td>0</td>\n",
              "      <td>female</td>\n",
              "      <td>2.0000</td>\n",
              "      <td>1</td>\n",
              "      <td>2</td>\n",
              "      <td>151.5500</td>\n",
              "      <td>C22</td>\n",
              "      <td>S</td>\n",
              "    </tr>\n",
              "    <tr>\n",
              "      <th>3</th>\n",
              "      <td>1</td>\n",
              "      <td>0</td>\n",
              "      <td>male</td>\n",
              "      <td>30.0000</td>\n",
              "      <td>1</td>\n",
              "      <td>2</td>\n",
              "      <td>151.5500</td>\n",
              "      <td>C22</td>\n",
              "      <td>S</td>\n",
              "    </tr>\n",
              "    <tr>\n",
              "      <th>4</th>\n",
              "      <td>1</td>\n",
              "      <td>0</td>\n",
              "      <td>female</td>\n",
              "      <td>25.0000</td>\n",
              "      <td>1</td>\n",
              "      <td>2</td>\n",
              "      <td>151.5500</td>\n",
              "      <td>C22</td>\n",
              "      <td>S</td>\n",
              "    </tr>\n",
              "  </tbody>\n",
              "</table>\n",
              "</div>"
            ],
            "text/plain": [
              "   pclass  survived     sex      age  sibsp  parch      fare cabin embarked\n",
              "0       1         1  female  29.0000      0      0  211.3375    B5        S\n",
              "1       1         1    male   0.9167      1      2  151.5500   C22        S\n",
              "2       1         0  female   2.0000      1      2  151.5500   C22        S\n",
              "3       1         0    male  30.0000      1      2  151.5500   C22        S\n",
              "4       1         0  female  25.0000      1      2  151.5500   C22        S"
            ]
          },
          "metadata": {
            "tags": []
          },
          "execution_count": 4
        }
      ]
    },
    {
      "cell_type": "code",
      "metadata": {
        "id": "MQsLdmXMAg0y",
        "colab": {
          "base_uri": "https://localhost:8080/"
        },
        "outputId": "8c7ac3c5-0f8e-47db-c186-0ae8fae740e2"
      },
      "source": [
        "# revisemos si hay datos faltantes\n",
        "\n",
        "data.isnull().sum()"
      ],
      "execution_count": 5,
      "outputs": [
        {
          "output_type": "execute_result",
          "data": {
            "text/plain": [
              "pclass         0\n",
              "survived       0\n",
              "sex            0\n",
              "age          263\n",
              "sibsp          0\n",
              "parch          0\n",
              "fare           1\n",
              "cabin       1014\n",
              "embarked       2\n",
              "dtype: int64"
            ]
          },
          "metadata": {
            "tags": []
          },
          "execution_count": 5
        }
      ]
    },
    {
      "cell_type": "code",
      "metadata": {
        "colab": {
          "base_uri": "https://localhost:8080/"
        },
        "id": "W5sC1xrgm-7R",
        "outputId": "0a9f6918-2360-4146-801b-1ed83fc4b3f1"
      },
      "source": [
        "# Revisemos porcentaje de datos faltantes\r\n",
        "data.isna().mean()"
      ],
      "execution_count": 6,
      "outputs": [
        {
          "output_type": "execute_result",
          "data": {
            "text/plain": [
              "pclass      0.000000\n",
              "survived    0.000000\n",
              "sex         0.000000\n",
              "age         0.200917\n",
              "sibsp       0.000000\n",
              "parch       0.000000\n",
              "fare        0.000764\n",
              "cabin       0.774637\n",
              "embarked    0.001528\n",
              "dtype: float64"
            ]
          },
          "metadata": {
            "tags": []
          },
          "execution_count": 6
        }
      ]
    },
    {
      "cell_type": "code",
      "metadata": {
        "id": "O4lEMlfcAg0y"
      },
      "source": [
        "# removamos las observaciones con datos ausentes NA en \n",
        "# las variables fare & embarked\n",
        "data.dropna(subset=['fare', 'embarked'], inplace=True)"
      ],
      "execution_count": 7,
      "outputs": []
    },
    {
      "cell_type": "code",
      "metadata": {
        "id": "23evooENAg0y",
        "colab": {
          "base_uri": "https://localhost:8080/",
          "height": 191
        },
        "outputId": "ba8376d5-ffa7-4388-f37f-726c7ed7c64e"
      },
      "source": [
        "# Ahora reemplazamos los valores de la variable cabin \n",
        "# con la primera letra de cada una de sus etiquetas. \n",
        "# De esta forma simplificamos los valores en la variable \n",
        "# y facilitamos el demo \n",
        "\n",
        "data['cabin'] = data['cabin'].astype(str).str[0]\n",
        "\n",
        "\n",
        "data.head()"
      ],
      "execution_count": 8,
      "outputs": [
        {
          "output_type": "execute_result",
          "data": {
            "text/html": [
              "<div>\n",
              "<style scoped>\n",
              "    .dataframe tbody tr th:only-of-type {\n",
              "        vertical-align: middle;\n",
              "    }\n",
              "\n",
              "    .dataframe tbody tr th {\n",
              "        vertical-align: top;\n",
              "    }\n",
              "\n",
              "    .dataframe thead th {\n",
              "        text-align: right;\n",
              "    }\n",
              "</style>\n",
              "<table border=\"1\" class=\"dataframe\">\n",
              "  <thead>\n",
              "    <tr style=\"text-align: right;\">\n",
              "      <th></th>\n",
              "      <th>pclass</th>\n",
              "      <th>survived</th>\n",
              "      <th>sex</th>\n",
              "      <th>age</th>\n",
              "      <th>sibsp</th>\n",
              "      <th>parch</th>\n",
              "      <th>fare</th>\n",
              "      <th>cabin</th>\n",
              "      <th>embarked</th>\n",
              "    </tr>\n",
              "  </thead>\n",
              "  <tbody>\n",
              "    <tr>\n",
              "      <th>0</th>\n",
              "      <td>1</td>\n",
              "      <td>1</td>\n",
              "      <td>female</td>\n",
              "      <td>29.0000</td>\n",
              "      <td>0</td>\n",
              "      <td>0</td>\n",
              "      <td>211.3375</td>\n",
              "      <td>B</td>\n",
              "      <td>S</td>\n",
              "    </tr>\n",
              "    <tr>\n",
              "      <th>1</th>\n",
              "      <td>1</td>\n",
              "      <td>1</td>\n",
              "      <td>male</td>\n",
              "      <td>0.9167</td>\n",
              "      <td>1</td>\n",
              "      <td>2</td>\n",
              "      <td>151.5500</td>\n",
              "      <td>C</td>\n",
              "      <td>S</td>\n",
              "    </tr>\n",
              "    <tr>\n",
              "      <th>2</th>\n",
              "      <td>1</td>\n",
              "      <td>0</td>\n",
              "      <td>female</td>\n",
              "      <td>2.0000</td>\n",
              "      <td>1</td>\n",
              "      <td>2</td>\n",
              "      <td>151.5500</td>\n",
              "      <td>C</td>\n",
              "      <td>S</td>\n",
              "    </tr>\n",
              "    <tr>\n",
              "      <th>3</th>\n",
              "      <td>1</td>\n",
              "      <td>0</td>\n",
              "      <td>male</td>\n",
              "      <td>30.0000</td>\n",
              "      <td>1</td>\n",
              "      <td>2</td>\n",
              "      <td>151.5500</td>\n",
              "      <td>C</td>\n",
              "      <td>S</td>\n",
              "    </tr>\n",
              "    <tr>\n",
              "      <th>4</th>\n",
              "      <td>1</td>\n",
              "      <td>0</td>\n",
              "      <td>female</td>\n",
              "      <td>25.0000</td>\n",
              "      <td>1</td>\n",
              "      <td>2</td>\n",
              "      <td>151.5500</td>\n",
              "      <td>C</td>\n",
              "      <td>S</td>\n",
              "    </tr>\n",
              "  </tbody>\n",
              "</table>\n",
              "</div>"
            ],
            "text/plain": [
              "   pclass  survived     sex      age  sibsp  parch      fare cabin embarked\n",
              "0       1         1  female  29.0000      0      0  211.3375     B        S\n",
              "1       1         1    male   0.9167      1      2  151.5500     C        S\n",
              "2       1         0  female   2.0000      1      2  151.5500     C        S\n",
              "3       1         0    male  30.0000      1      2  151.5500     C        S\n",
              "4       1         0  female  25.0000      1      2  151.5500     C        S"
            ]
          },
          "metadata": {
            "tags": []
          },
          "execution_count": 8
        }
      ]
    },
    {
      "cell_type": "code",
      "metadata": {
        "id": "CLIrrFjKAg0z"
      },
      "source": [
        "# remover las observaciones donde cabin = T\n",
        "# ya que solo son unas pocas\n",
        "\n",
        "data = data[data['cabin'] != 'T']"
      ],
      "execution_count": 9,
      "outputs": []
    },
    {
      "cell_type": "code",
      "metadata": {
        "id": "fvExrw4NAg0z",
        "colab": {
          "base_uri": "https://localhost:8080/"
        },
        "outputId": "b55e389e-18ca-4482-bfec-a15f69af75e7"
      },
      "source": [
        "# separemos en sets de prueba y entrenamiento\n",
        "X_train, X_test, y_train, y_test = train_test_split(\n",
        "    data.drop(labels='survived', axis=1),  # predictores\n",
        "    data['survived'],  # target\n",
        "    test_size=0.3,  # porcentaje de observaciones en el set de prueba\n",
        "    random_state=0)  # semilla asegurar reproducibilidad\n",
        "\n",
        "X_train.shape, X_test.shape"
      ],
      "execution_count": 10,
      "outputs": [
        {
          "output_type": "execute_result",
          "data": {
            "text/plain": [
              "((913, 8), (392, 8))"
            ]
          },
          "metadata": {
            "tags": []
          },
          "execution_count": 10
        }
      ]
    },
    {
      "cell_type": "code",
      "metadata": {
        "id": "FK-DiWthAg0z"
      },
      "source": [
        "# Reemplacemos los valores nulos por la media en las \n",
        "# variables numéricas \n",
        "\n",
        "def impute_na(df, variable, value):\n",
        "    df[variable].fillna(value, inplace=True)\n",
        "\n",
        "impute_na(X_test, 'age', X_train['age'].mean())\n",
        "impute_na(X_train, 'age',  X_train['age'].mean())\n",
        "\n"
      ],
      "execution_count": 11,
      "outputs": []
    },
    {
      "cell_type": "markdown",
      "metadata": {
        "id": "7xLNdCmIAg00"
      },
      "source": [
        "en la celda anterior, primero reemplazamos (imputamos) el set de prueba con el valor promedio de la variable en el set de entrenamiento. De esta forma garantizamos que el valor promedio de la variable en el set de entrenamiento es el mismo cuando imputamos ambos sets."
      ]
    },
    {
      "cell_type": "code",
      "metadata": {
        "id": "7CGo9ysoAg00",
        "colab": {
          "base_uri": "https://localhost:8080/",
          "height": 191
        },
        "outputId": "29d25a5c-cd5c-447b-a2c9-7932c5267e22"
      },
      "source": [
        "X_train.head()"
      ],
      "execution_count": 12,
      "outputs": [
        {
          "output_type": "execute_result",
          "data": {
            "text/html": [
              "<div>\n",
              "<style scoped>\n",
              "    .dataframe tbody tr th:only-of-type {\n",
              "        vertical-align: middle;\n",
              "    }\n",
              "\n",
              "    .dataframe tbody tr th {\n",
              "        vertical-align: top;\n",
              "    }\n",
              "\n",
              "    .dataframe thead th {\n",
              "        text-align: right;\n",
              "    }\n",
              "</style>\n",
              "<table border=\"1\" class=\"dataframe\">\n",
              "  <thead>\n",
              "    <tr style=\"text-align: right;\">\n",
              "      <th></th>\n",
              "      <th>pclass</th>\n",
              "      <th>sex</th>\n",
              "      <th>age</th>\n",
              "      <th>sibsp</th>\n",
              "      <th>parch</th>\n",
              "      <th>fare</th>\n",
              "      <th>cabin</th>\n",
              "      <th>embarked</th>\n",
              "    </tr>\n",
              "  </thead>\n",
              "  <tbody>\n",
              "    <tr>\n",
              "      <th>402</th>\n",
              "      <td>2</td>\n",
              "      <td>female</td>\n",
              "      <td>30.00000</td>\n",
              "      <td>1</td>\n",
              "      <td>0</td>\n",
              "      <td>13.8583</td>\n",
              "      <td>n</td>\n",
              "      <td>C</td>\n",
              "    </tr>\n",
              "    <tr>\n",
              "      <th>698</th>\n",
              "      <td>3</td>\n",
              "      <td>male</td>\n",
              "      <td>18.00000</td>\n",
              "      <td>0</td>\n",
              "      <td>0</td>\n",
              "      <td>8.6625</td>\n",
              "      <td>n</td>\n",
              "      <td>S</td>\n",
              "    </tr>\n",
              "    <tr>\n",
              "      <th>1291</th>\n",
              "      <td>3</td>\n",
              "      <td>male</td>\n",
              "      <td>29.79847</td>\n",
              "      <td>0</td>\n",
              "      <td>0</td>\n",
              "      <td>8.7125</td>\n",
              "      <td>n</td>\n",
              "      <td>S</td>\n",
              "    </tr>\n",
              "    <tr>\n",
              "      <th>1229</th>\n",
              "      <td>3</td>\n",
              "      <td>male</td>\n",
              "      <td>27.00000</td>\n",
              "      <td>0</td>\n",
              "      <td>0</td>\n",
              "      <td>8.6625</td>\n",
              "      <td>n</td>\n",
              "      <td>S</td>\n",
              "    </tr>\n",
              "    <tr>\n",
              "      <th>118</th>\n",
              "      <td>1</td>\n",
              "      <td>male</td>\n",
              "      <td>29.79847</td>\n",
              "      <td>0</td>\n",
              "      <td>0</td>\n",
              "      <td>26.5500</td>\n",
              "      <td>D</td>\n",
              "      <td>S</td>\n",
              "    </tr>\n",
              "  </tbody>\n",
              "</table>\n",
              "</div>"
            ],
            "text/plain": [
              "      pclass     sex       age  sibsp  parch     fare cabin embarked\n",
              "402        2  female  30.00000      1      0  13.8583     n        C\n",
              "698        3    male  18.00000      0      0   8.6625     n        S\n",
              "1291       3    male  29.79847      0      0   8.7125     n        S\n",
              "1229       3    male  27.00000      0      0   8.6625     n        S\n",
              "118        1    male  29.79847      0      0  26.5500     D        S"
            ]
          },
          "metadata": {
            "tags": []
          },
          "execution_count": 12
        }
      ]
    },
    {
      "cell_type": "code",
      "metadata": {
        "id": "9OsP8y1OAg00",
        "colab": {
          "base_uri": "https://localhost:8080/"
        },
        "outputId": "e5470c5d-895d-4044-d598-f761f7c1f826"
      },
      "source": [
        "# revisemos que no tenemos datos ausentes NA\n",
        "# despues de la imputación\n",
        "X_train.isnull().sum(), X_test.isnull().sum()"
      ],
      "execution_count": 13,
      "outputs": [
        {
          "output_type": "execute_result",
          "data": {
            "text/plain": [
              "(pclass      0\n",
              " sex         0\n",
              " age         0\n",
              " sibsp       0\n",
              " parch       0\n",
              " fare        0\n",
              " cabin       0\n",
              " embarked    0\n",
              " dtype: int64, pclass      0\n",
              " sex         0\n",
              " age         0\n",
              " sibsp       0\n",
              " parch       0\n",
              " fare        0\n",
              " cabin       0\n",
              " embarked    0\n",
              " dtype: int64)"
            ]
          },
          "metadata": {
            "tags": []
          },
          "execution_count": 13
        }
      ]
    },
    {
      "cell_type": "markdown",
      "metadata": {
        "id": "7YHV_sFDAg01"
      },
      "source": [
        "### Codificación One-Hot "
      ]
    },
    {
      "cell_type": "code",
      "metadata": {
        "id": "wDVYb7QqAg01",
        "colab": {
          "base_uri": "https://localhost:8080/",
          "height": 191
        },
        "outputId": "d000b975-cbd3-4ddd-eea8-94e7284d3372"
      },
      "source": [
        "def get_OHE(df):\n",
        "\n",
        "    df_OHE = pd.concat(\n",
        "        [df[['pclass', 'age', 'sibsp', 'parch', 'fare']],\n",
        "         pd.get_dummies(df[['sex', 'cabin', 'embarked']], drop_first=True)],\n",
        "        axis=1)\n",
        "\n",
        "    return df_OHE\n",
        "\n",
        "\n",
        "X_train_OHE = get_OHE(X_train)\n",
        "X_test_OHE = get_OHE(X_test)\n",
        "\n",
        "X_train_OHE.head()"
      ],
      "execution_count": 14,
      "outputs": [
        {
          "output_type": "execute_result",
          "data": {
            "text/html": [
              "<div>\n",
              "<style scoped>\n",
              "    .dataframe tbody tr th:only-of-type {\n",
              "        vertical-align: middle;\n",
              "    }\n",
              "\n",
              "    .dataframe tbody tr th {\n",
              "        vertical-align: top;\n",
              "    }\n",
              "\n",
              "    .dataframe thead th {\n",
              "        text-align: right;\n",
              "    }\n",
              "</style>\n",
              "<table border=\"1\" class=\"dataframe\">\n",
              "  <thead>\n",
              "    <tr style=\"text-align: right;\">\n",
              "      <th></th>\n",
              "      <th>pclass</th>\n",
              "      <th>age</th>\n",
              "      <th>sibsp</th>\n",
              "      <th>parch</th>\n",
              "      <th>fare</th>\n",
              "      <th>sex_male</th>\n",
              "      <th>cabin_B</th>\n",
              "      <th>cabin_C</th>\n",
              "      <th>cabin_D</th>\n",
              "      <th>cabin_E</th>\n",
              "      <th>cabin_F</th>\n",
              "      <th>cabin_G</th>\n",
              "      <th>cabin_n</th>\n",
              "      <th>embarked_Q</th>\n",
              "      <th>embarked_S</th>\n",
              "    </tr>\n",
              "  </thead>\n",
              "  <tbody>\n",
              "    <tr>\n",
              "      <th>402</th>\n",
              "      <td>2</td>\n",
              "      <td>30.00000</td>\n",
              "      <td>1</td>\n",
              "      <td>0</td>\n",
              "      <td>13.8583</td>\n",
              "      <td>0</td>\n",
              "      <td>0</td>\n",
              "      <td>0</td>\n",
              "      <td>0</td>\n",
              "      <td>0</td>\n",
              "      <td>0</td>\n",
              "      <td>0</td>\n",
              "      <td>1</td>\n",
              "      <td>0</td>\n",
              "      <td>0</td>\n",
              "    </tr>\n",
              "    <tr>\n",
              "      <th>698</th>\n",
              "      <td>3</td>\n",
              "      <td>18.00000</td>\n",
              "      <td>0</td>\n",
              "      <td>0</td>\n",
              "      <td>8.6625</td>\n",
              "      <td>1</td>\n",
              "      <td>0</td>\n",
              "      <td>0</td>\n",
              "      <td>0</td>\n",
              "      <td>0</td>\n",
              "      <td>0</td>\n",
              "      <td>0</td>\n",
              "      <td>1</td>\n",
              "      <td>0</td>\n",
              "      <td>1</td>\n",
              "    </tr>\n",
              "    <tr>\n",
              "      <th>1291</th>\n",
              "      <td>3</td>\n",
              "      <td>29.79847</td>\n",
              "      <td>0</td>\n",
              "      <td>0</td>\n",
              "      <td>8.7125</td>\n",
              "      <td>1</td>\n",
              "      <td>0</td>\n",
              "      <td>0</td>\n",
              "      <td>0</td>\n",
              "      <td>0</td>\n",
              "      <td>0</td>\n",
              "      <td>0</td>\n",
              "      <td>1</td>\n",
              "      <td>0</td>\n",
              "      <td>1</td>\n",
              "    </tr>\n",
              "    <tr>\n",
              "      <th>1229</th>\n",
              "      <td>3</td>\n",
              "      <td>27.00000</td>\n",
              "      <td>0</td>\n",
              "      <td>0</td>\n",
              "      <td>8.6625</td>\n",
              "      <td>1</td>\n",
              "      <td>0</td>\n",
              "      <td>0</td>\n",
              "      <td>0</td>\n",
              "      <td>0</td>\n",
              "      <td>0</td>\n",
              "      <td>0</td>\n",
              "      <td>1</td>\n",
              "      <td>0</td>\n",
              "      <td>1</td>\n",
              "    </tr>\n",
              "    <tr>\n",
              "      <th>118</th>\n",
              "      <td>1</td>\n",
              "      <td>29.79847</td>\n",
              "      <td>0</td>\n",
              "      <td>0</td>\n",
              "      <td>26.5500</td>\n",
              "      <td>1</td>\n",
              "      <td>0</td>\n",
              "      <td>0</td>\n",
              "      <td>1</td>\n",
              "      <td>0</td>\n",
              "      <td>0</td>\n",
              "      <td>0</td>\n",
              "      <td>0</td>\n",
              "      <td>0</td>\n",
              "      <td>1</td>\n",
              "    </tr>\n",
              "  </tbody>\n",
              "</table>\n",
              "</div>"
            ],
            "text/plain": [
              "      pclass       age  sibsp  parch  ...  cabin_G  cabin_n  embarked_Q  embarked_S\n",
              "402        2  30.00000      1      0  ...        0        1           0           0\n",
              "698        3  18.00000      0      0  ...        0        1           0           1\n",
              "1291       3  29.79847      0      0  ...        0        1           0           1\n",
              "1229       3  27.00000      0      0  ...        0        1           0           1\n",
              "118        1  29.79847      0      0  ...        0        0           0           1\n",
              "\n",
              "[5 rows x 15 columns]"
            ]
          },
          "metadata": {
            "tags": []
          },
          "execution_count": 14
        }
      ]
    },
    {
      "cell_type": "code",
      "metadata": {
        "id": "i20Bk_IHAg01",
        "colab": {
          "base_uri": "https://localhost:8080/",
          "height": 191
        },
        "outputId": "10eabb8a-b076-4374-b7e1-71feb4275fd1"
      },
      "source": [
        "X_test_OHE.head()"
      ],
      "execution_count": 15,
      "outputs": [
        {
          "output_type": "execute_result",
          "data": {
            "text/html": [
              "<div>\n",
              "<style scoped>\n",
              "    .dataframe tbody tr th:only-of-type {\n",
              "        vertical-align: middle;\n",
              "    }\n",
              "\n",
              "    .dataframe tbody tr th {\n",
              "        vertical-align: top;\n",
              "    }\n",
              "\n",
              "    .dataframe thead th {\n",
              "        text-align: right;\n",
              "    }\n",
              "</style>\n",
              "<table border=\"1\" class=\"dataframe\">\n",
              "  <thead>\n",
              "    <tr style=\"text-align: right;\">\n",
              "      <th></th>\n",
              "      <th>pclass</th>\n",
              "      <th>age</th>\n",
              "      <th>sibsp</th>\n",
              "      <th>parch</th>\n",
              "      <th>fare</th>\n",
              "      <th>sex_male</th>\n",
              "      <th>cabin_B</th>\n",
              "      <th>cabin_C</th>\n",
              "      <th>cabin_D</th>\n",
              "      <th>cabin_E</th>\n",
              "      <th>cabin_F</th>\n",
              "      <th>cabin_G</th>\n",
              "      <th>cabin_n</th>\n",
              "      <th>embarked_Q</th>\n",
              "      <th>embarked_S</th>\n",
              "    </tr>\n",
              "  </thead>\n",
              "  <tbody>\n",
              "    <tr>\n",
              "      <th>586</th>\n",
              "      <td>2</td>\n",
              "      <td>29.00000</td>\n",
              "      <td>1</td>\n",
              "      <td>0</td>\n",
              "      <td>26.0000</td>\n",
              "      <td>0</td>\n",
              "      <td>0</td>\n",
              "      <td>0</td>\n",
              "      <td>0</td>\n",
              "      <td>0</td>\n",
              "      <td>0</td>\n",
              "      <td>0</td>\n",
              "      <td>1</td>\n",
              "      <td>0</td>\n",
              "      <td>1</td>\n",
              "    </tr>\n",
              "    <tr>\n",
              "      <th>200</th>\n",
              "      <td>1</td>\n",
              "      <td>46.00000</td>\n",
              "      <td>0</td>\n",
              "      <td>0</td>\n",
              "      <td>75.2417</td>\n",
              "      <td>1</td>\n",
              "      <td>0</td>\n",
              "      <td>1</td>\n",
              "      <td>0</td>\n",
              "      <td>0</td>\n",
              "      <td>0</td>\n",
              "      <td>0</td>\n",
              "      <td>0</td>\n",
              "      <td>0</td>\n",
              "      <td>0</td>\n",
              "    </tr>\n",
              "    <tr>\n",
              "      <th>831</th>\n",
              "      <td>3</td>\n",
              "      <td>40.00000</td>\n",
              "      <td>1</td>\n",
              "      <td>6</td>\n",
              "      <td>46.9000</td>\n",
              "      <td>1</td>\n",
              "      <td>0</td>\n",
              "      <td>0</td>\n",
              "      <td>0</td>\n",
              "      <td>0</td>\n",
              "      <td>0</td>\n",
              "      <td>0</td>\n",
              "      <td>1</td>\n",
              "      <td>0</td>\n",
              "      <td>1</td>\n",
              "    </tr>\n",
              "    <tr>\n",
              "      <th>1149</th>\n",
              "      <td>3</td>\n",
              "      <td>29.79847</td>\n",
              "      <td>0</td>\n",
              "      <td>0</td>\n",
              "      <td>7.7208</td>\n",
              "      <td>0</td>\n",
              "      <td>0</td>\n",
              "      <td>0</td>\n",
              "      <td>0</td>\n",
              "      <td>0</td>\n",
              "      <td>0</td>\n",
              "      <td>0</td>\n",
              "      <td>1</td>\n",
              "      <td>1</td>\n",
              "      <td>0</td>\n",
              "    </tr>\n",
              "    <tr>\n",
              "      <th>393</th>\n",
              "      <td>2</td>\n",
              "      <td>25.00000</td>\n",
              "      <td>0</td>\n",
              "      <td>0</td>\n",
              "      <td>31.5000</td>\n",
              "      <td>1</td>\n",
              "      <td>0</td>\n",
              "      <td>0</td>\n",
              "      <td>0</td>\n",
              "      <td>0</td>\n",
              "      <td>0</td>\n",
              "      <td>0</td>\n",
              "      <td>1</td>\n",
              "      <td>0</td>\n",
              "      <td>1</td>\n",
              "    </tr>\n",
              "  </tbody>\n",
              "</table>\n",
              "</div>"
            ],
            "text/plain": [
              "      pclass       age  sibsp  parch  ...  cabin_G  cabin_n  embarked_Q  embarked_S\n",
              "586        2  29.00000      1      0  ...        0        1           0           1\n",
              "200        1  46.00000      0      0  ...        0        0           0           0\n",
              "831        3  40.00000      1      6  ...        0        1           0           1\n",
              "1149       3  29.79847      0      0  ...        0        1           1           0\n",
              "393        2  25.00000      0      0  ...        0        1           0           1\n",
              "\n",
              "[5 rows x 15 columns]"
            ]
          },
          "metadata": {
            "tags": []
          },
          "execution_count": 15
        }
      ]
    },
    {
      "cell_type": "markdown",
      "metadata": {
        "id": "dwK7fnsyAg01"
      },
      "source": [
        "### Codificación por número de observaciones o frecuencia"
      ]
    },
    {
      "cell_type": "code",
      "metadata": {
        "id": "1svr2KoZAg02",
        "colab": {
          "base_uri": "https://localhost:8080/",
          "height": 191
        },
        "outputId": "f6fce5ed-1e3b-48ff-8b4d-27a7ad818f28"
      },
      "source": [
        "def categorical_to_counts(df_train, df_test):\n",
        "\n",
        "    # copia temporal de los dataframes originales \n",
        "    df_train_temp = df_train.copy()\n",
        "    df_test_temp = df_test.copy( )\n",
        "\n",
        "    for col in ['sex', 'cabin', 'embarked']:\n",
        "\n",
        "        # dicccionario con el mapeo de categoría a conteo de frecuencia\n",
        "        counts_map = df_train_temp[col].value_counts().to_dict()\n",
        "\n",
        "        # reemplazar las etiquetas por el conteo respectivo\n",
        "        df_train_temp[col] = df_train_temp[col].map(counts_map)\n",
        "        df_test_temp[col] = df_test_temp[col].map(counts_map)\n",
        "\n",
        "    return df_train_temp, df_test_temp\n",
        "\n",
        "\n",
        "X_train_count, X_test_count = categorical_to_counts(X_train, X_test)\n",
        "\n",
        "X_train_count.head()"
      ],
      "execution_count": 16,
      "outputs": [
        {
          "output_type": "execute_result",
          "data": {
            "text/html": [
              "<div>\n",
              "<style scoped>\n",
              "    .dataframe tbody tr th:only-of-type {\n",
              "        vertical-align: middle;\n",
              "    }\n",
              "\n",
              "    .dataframe tbody tr th {\n",
              "        vertical-align: top;\n",
              "    }\n",
              "\n",
              "    .dataframe thead th {\n",
              "        text-align: right;\n",
              "    }\n",
              "</style>\n",
              "<table border=\"1\" class=\"dataframe\">\n",
              "  <thead>\n",
              "    <tr style=\"text-align: right;\">\n",
              "      <th></th>\n",
              "      <th>pclass</th>\n",
              "      <th>sex</th>\n",
              "      <th>age</th>\n",
              "      <th>sibsp</th>\n",
              "      <th>parch</th>\n",
              "      <th>fare</th>\n",
              "      <th>cabin</th>\n",
              "      <th>embarked</th>\n",
              "    </tr>\n",
              "  </thead>\n",
              "  <tbody>\n",
              "    <tr>\n",
              "      <th>402</th>\n",
              "      <td>2</td>\n",
              "      <td>326</td>\n",
              "      <td>30.00000</td>\n",
              "      <td>1</td>\n",
              "      <td>0</td>\n",
              "      <td>13.8583</td>\n",
              "      <td>702</td>\n",
              "      <td>184</td>\n",
              "    </tr>\n",
              "    <tr>\n",
              "      <th>698</th>\n",
              "      <td>3</td>\n",
              "      <td>587</td>\n",
              "      <td>18.00000</td>\n",
              "      <td>0</td>\n",
              "      <td>0</td>\n",
              "      <td>8.6625</td>\n",
              "      <td>702</td>\n",
              "      <td>647</td>\n",
              "    </tr>\n",
              "    <tr>\n",
              "      <th>1291</th>\n",
              "      <td>3</td>\n",
              "      <td>587</td>\n",
              "      <td>29.79847</td>\n",
              "      <td>0</td>\n",
              "      <td>0</td>\n",
              "      <td>8.7125</td>\n",
              "      <td>702</td>\n",
              "      <td>647</td>\n",
              "    </tr>\n",
              "    <tr>\n",
              "      <th>1229</th>\n",
              "      <td>3</td>\n",
              "      <td>587</td>\n",
              "      <td>27.00000</td>\n",
              "      <td>0</td>\n",
              "      <td>0</td>\n",
              "      <td>8.6625</td>\n",
              "      <td>702</td>\n",
              "      <td>647</td>\n",
              "    </tr>\n",
              "    <tr>\n",
              "      <th>118</th>\n",
              "      <td>1</td>\n",
              "      <td>587</td>\n",
              "      <td>29.79847</td>\n",
              "      <td>0</td>\n",
              "      <td>0</td>\n",
              "      <td>26.5500</td>\n",
              "      <td>33</td>\n",
              "      <td>647</td>\n",
              "    </tr>\n",
              "  </tbody>\n",
              "</table>\n",
              "</div>"
            ],
            "text/plain": [
              "      pclass  sex       age  sibsp  parch     fare  cabin  embarked\n",
              "402        2  326  30.00000      1      0  13.8583    702       184\n",
              "698        3  587  18.00000      0      0   8.6625    702       647\n",
              "1291       3  587  29.79847      0      0   8.7125    702       647\n",
              "1229       3  587  27.00000      0      0   8.6625    702       647\n",
              "118        1  587  29.79847      0      0  26.5500     33       647"
            ]
          },
          "metadata": {
            "tags": []
          },
          "execution_count": 16
        }
      ]
    },
    {
      "cell_type": "markdown",
      "metadata": {
        "id": "4S4MhLa1Ag02"
      },
      "source": [
        "### Codificación por Números Ordinales\n"
      ]
    },
    {
      "cell_type": "code",
      "metadata": {
        "id": "bM01vKhaAg02",
        "colab": {
          "base_uri": "https://localhost:8080/",
          "height": 191
        },
        "outputId": "d3feece7-387f-456d-9741-e9c6d2c6a478"
      },
      "source": [
        "def categories_to_ordered(df_train, df_test, y_train, y_test):\n",
        "\n",
        "    # copia temporal de los dataframes originales \n",
        "    df_train_temp = pd.concat([df_train, y_train], axis=1).copy()\n",
        "    df_test_temp = pd.concat([df_test, y_test], axis=1).copy()\n",
        "\n",
        "    for col in ['sex', 'cabin', 'embarked']:\n",
        "\n",
        "        # ordenar las categorías de acuerdo al promedio del target\n",
        "        ordered_labels = df_train_temp.groupby(\n",
        "            [col])['survived'].mean().sort_values().index\n",
        "\n",
        "        #  diccionario con el mapeo de categoría ordenadas a un número ordinal\n",
        "        ordinal_label = {k: i for i, k in enumerate(ordered_labels, 0)}\n",
        "\n",
        "        # reemplazar las etiquetas por el número ordinal\n",
        "        df_train_temp[col] = df_train[col].map(ordinal_label)\n",
        "        df_test_temp[col] = df_test[col].map(ordinal_label)\n",
        "\n",
        "    # remover el target\n",
        "    df_train_temp.drop(['survived'], axis=1, inplace=True)\n",
        "    df_test_temp.drop(['survived'], axis=1, inplace=True)\n",
        "\n",
        "    return df_train_temp, df_test_temp\n",
        "\n",
        "\n",
        "X_train_ordered, X_test_ordered = categories_to_ordered(\n",
        "    X_train, X_test, y_train, y_test)\n",
        "\n",
        "X_train_ordered.head()"
      ],
      "execution_count": 17,
      "outputs": [
        {
          "output_type": "execute_result",
          "data": {
            "text/html": [
              "<div>\n",
              "<style scoped>\n",
              "    .dataframe tbody tr th:only-of-type {\n",
              "        vertical-align: middle;\n",
              "    }\n",
              "\n",
              "    .dataframe tbody tr th {\n",
              "        vertical-align: top;\n",
              "    }\n",
              "\n",
              "    .dataframe thead th {\n",
              "        text-align: right;\n",
              "    }\n",
              "</style>\n",
              "<table border=\"1\" class=\"dataframe\">\n",
              "  <thead>\n",
              "    <tr style=\"text-align: right;\">\n",
              "      <th></th>\n",
              "      <th>pclass</th>\n",
              "      <th>sex</th>\n",
              "      <th>age</th>\n",
              "      <th>sibsp</th>\n",
              "      <th>parch</th>\n",
              "      <th>fare</th>\n",
              "      <th>cabin</th>\n",
              "      <th>embarked</th>\n",
              "    </tr>\n",
              "  </thead>\n",
              "  <tbody>\n",
              "    <tr>\n",
              "      <th>402</th>\n",
              "      <td>2</td>\n",
              "      <td>1</td>\n",
              "      <td>30.00000</td>\n",
              "      <td>1</td>\n",
              "      <td>0</td>\n",
              "      <td>13.8583</td>\n",
              "      <td>0</td>\n",
              "      <td>2</td>\n",
              "    </tr>\n",
              "    <tr>\n",
              "      <th>698</th>\n",
              "      <td>3</td>\n",
              "      <td>0</td>\n",
              "      <td>18.00000</td>\n",
              "      <td>0</td>\n",
              "      <td>0</td>\n",
              "      <td>8.6625</td>\n",
              "      <td>0</td>\n",
              "      <td>0</td>\n",
              "    </tr>\n",
              "    <tr>\n",
              "      <th>1291</th>\n",
              "      <td>3</td>\n",
              "      <td>0</td>\n",
              "      <td>29.79847</td>\n",
              "      <td>0</td>\n",
              "      <td>0</td>\n",
              "      <td>8.7125</td>\n",
              "      <td>0</td>\n",
              "      <td>0</td>\n",
              "    </tr>\n",
              "    <tr>\n",
              "      <th>1229</th>\n",
              "      <td>3</td>\n",
              "      <td>0</td>\n",
              "      <td>27.00000</td>\n",
              "      <td>0</td>\n",
              "      <td>0</td>\n",
              "      <td>8.6625</td>\n",
              "      <td>0</td>\n",
              "      <td>0</td>\n",
              "    </tr>\n",
              "    <tr>\n",
              "      <th>118</th>\n",
              "      <td>1</td>\n",
              "      <td>0</td>\n",
              "      <td>29.79847</td>\n",
              "      <td>0</td>\n",
              "      <td>0</td>\n",
              "      <td>26.5500</td>\n",
              "      <td>5</td>\n",
              "      <td>0</td>\n",
              "    </tr>\n",
              "  </tbody>\n",
              "</table>\n",
              "</div>"
            ],
            "text/plain": [
              "      pclass  sex       age  sibsp  parch     fare  cabin  embarked\n",
              "402        2    1  30.00000      1      0  13.8583      0         2\n",
              "698        3    0  18.00000      0      0   8.6625      0         0\n",
              "1291       3    0  29.79847      0      0   8.7125      0         0\n",
              "1229       3    0  27.00000      0      0   8.6625      0         0\n",
              "118        1    0  29.79847      0      0  26.5500      5         0"
            ]
          },
          "metadata": {
            "tags": []
          },
          "execution_count": 17
        }
      ]
    },
    {
      "cell_type": "markdown",
      "metadata": {
        "id": "PDgscI2xAg02"
      },
      "source": [
        "### Codificación por la Media"
      ]
    },
    {
      "cell_type": "code",
      "metadata": {
        "id": "60erJKiGAg03",
        "colab": {
          "base_uri": "https://localhost:8080/",
          "height": 191
        },
        "outputId": "4cf75483-c840-4342-c5da-9f126e95468b"
      },
      "source": [
        "def categories_to_mean(df_train, df_test, y_train, y_test):\n",
        "\n",
        "    # copia temporal de los dataframes originales \n",
        "    df_train_temp = pd.concat([df_train, y_train], axis=1).copy()\n",
        "    df_test_temp = pd.concat([df_test, y_test], axis=1).copy()\n",
        "\n",
        "    for col in ['sex', 'cabin', 'embarked']:\n",
        "\n",
        "        # calcular el promedio del target por categoría\n",
        "        ordered_labels = df_train_temp.groupby(\n",
        "            [col])['survived'].mean().to_dict()\n",
        "\n",
        "       # reemplazar las etiquetas por el promedio del target\n",
        "        df_train_temp[col] = df_train[col].map(ordered_labels)\n",
        "        df_test_temp[col] = df_test[col].map(ordered_labels)\n",
        "\n",
        "    # remover el target\n",
        "    df_train_temp.drop(['survived'], axis=1, inplace=True)\n",
        "    df_test_temp.drop(['survived'], axis=1, inplace=True)\n",
        "\n",
        "    return df_train_temp, df_test_temp\n",
        "\n",
        "\n",
        "X_train_mean, X_test_mean = categories_to_mean(\n",
        "    X_train, X_test, y_train, y_test)\n",
        "\n",
        "X_train_mean.head()"
      ],
      "execution_count": 18,
      "outputs": [
        {
          "output_type": "execute_result",
          "data": {
            "text/html": [
              "<div>\n",
              "<style scoped>\n",
              "    .dataframe tbody tr th:only-of-type {\n",
              "        vertical-align: middle;\n",
              "    }\n",
              "\n",
              "    .dataframe tbody tr th {\n",
              "        vertical-align: top;\n",
              "    }\n",
              "\n",
              "    .dataframe thead th {\n",
              "        text-align: right;\n",
              "    }\n",
              "</style>\n",
              "<table border=\"1\" class=\"dataframe\">\n",
              "  <thead>\n",
              "    <tr style=\"text-align: right;\">\n",
              "      <th></th>\n",
              "      <th>pclass</th>\n",
              "      <th>sex</th>\n",
              "      <th>age</th>\n",
              "      <th>sibsp</th>\n",
              "      <th>parch</th>\n",
              "      <th>fare</th>\n",
              "      <th>cabin</th>\n",
              "      <th>embarked</th>\n",
              "    </tr>\n",
              "  </thead>\n",
              "  <tbody>\n",
              "    <tr>\n",
              "      <th>402</th>\n",
              "      <td>2</td>\n",
              "      <td>0.730061</td>\n",
              "      <td>30.00000</td>\n",
              "      <td>1</td>\n",
              "      <td>0</td>\n",
              "      <td>13.8583</td>\n",
              "      <td>0.292023</td>\n",
              "      <td>0.516304</td>\n",
              "    </tr>\n",
              "    <tr>\n",
              "      <th>698</th>\n",
              "      <td>3</td>\n",
              "      <td>0.173765</td>\n",
              "      <td>18.00000</td>\n",
              "      <td>0</td>\n",
              "      <td>0</td>\n",
              "      <td>8.6625</td>\n",
              "      <td>0.292023</td>\n",
              "      <td>0.332303</td>\n",
              "    </tr>\n",
              "    <tr>\n",
              "      <th>1291</th>\n",
              "      <td>3</td>\n",
              "      <td>0.173765</td>\n",
              "      <td>29.79847</td>\n",
              "      <td>0</td>\n",
              "      <td>0</td>\n",
              "      <td>8.7125</td>\n",
              "      <td>0.292023</td>\n",
              "      <td>0.332303</td>\n",
              "    </tr>\n",
              "    <tr>\n",
              "      <th>1229</th>\n",
              "      <td>3</td>\n",
              "      <td>0.173765</td>\n",
              "      <td>27.00000</td>\n",
              "      <td>0</td>\n",
              "      <td>0</td>\n",
              "      <td>8.6625</td>\n",
              "      <td>0.292023</td>\n",
              "      <td>0.332303</td>\n",
              "    </tr>\n",
              "    <tr>\n",
              "      <th>118</th>\n",
              "      <td>1</td>\n",
              "      <td>0.173765</td>\n",
              "      <td>29.79847</td>\n",
              "      <td>0</td>\n",
              "      <td>0</td>\n",
              "      <td>26.5500</td>\n",
              "      <td>0.696970</td>\n",
              "      <td>0.332303</td>\n",
              "    </tr>\n",
              "  </tbody>\n",
              "</table>\n",
              "</div>"
            ],
            "text/plain": [
              "      pclass       sex       age  sibsp  parch     fare     cabin  embarked\n",
              "402        2  0.730061  30.00000      1      0  13.8583  0.292023  0.516304\n",
              "698        3  0.173765  18.00000      0      0   8.6625  0.292023  0.332303\n",
              "1291       3  0.173765  29.79847      0      0   8.7125  0.292023  0.332303\n",
              "1229       3  0.173765  27.00000      0      0   8.6625  0.292023  0.332303\n",
              "118        1  0.173765  29.79847      0      0  26.5500  0.696970  0.332303"
            ]
          },
          "metadata": {
            "tags": []
          },
          "execution_count": 18
        }
      ]
    },
    {
      "cell_type": "markdown",
      "metadata": {
        "id": "OsXBIfjNAg03"
      },
      "source": [
        "### Razon de probabilidades"
      ]
    },
    {
      "cell_type": "code",
      "metadata": {
        "id": "GNS44A-rAg03",
        "colab": {
          "base_uri": "https://localhost:8080/",
          "height": 191
        },
        "outputId": "171416ae-ff40-4c24-fca2-e637b50af47c"
      },
      "source": [
        "def categories_to_ratio(df_train, df_test, y_train, y_test):\n",
        "\n",
        "    # copia temporal de los dataframes originales \n",
        "    df_train_temp = pd.concat([df_train, y_train], axis=1).copy()\n",
        "    df_test_temp = pd.concat([df_test, y_test], axis=1).copy()\n",
        "\n",
        "    for col in ['sex', 'cabin', 'embarked']:\n",
        "\n",
        "        # crear df con las diferentes partes de la ecuación del WoE\n",
        "        # prob survived = 1\n",
        "        prob_df = pd.DataFrame(df_train_temp.groupby([col])['survived'].mean())\n",
        "\n",
        "        # prob survived = 0\n",
        "        prob_df['died'] = 1-prob_df.survived\n",
        "\n",
        "        # calcular WoE\n",
        "        prob_df['Ratio'] = np.log(prob_df.survived/prob_df.died)\n",
        "\n",
        "        # capturar WoE en un diccionario\n",
        "        woe = prob_df['Ratio'].to_dict()\n",
        "\n",
        "        # reemplazar las etiquetas por WoE\n",
        "        df_train_temp[col] = df_train[col].map(woe)\n",
        "        df_test_temp[col] = df_test[col].map(woe)\n",
        "\n",
        "    # remover el target\n",
        "    df_train_temp.drop(['survived'], axis=1, inplace=True)\n",
        "    df_test_temp.drop(['survived'], axis=1, inplace=True)\n",
        "\n",
        "    return df_train_temp, df_test_temp\n",
        "\n",
        "\n",
        "X_train_ratio, X_test_ratio = categories_to_ratio(X_train, X_test, y_train, y_test)\n",
        "\n",
        "X_train_ratio.head()"
      ],
      "execution_count": 19,
      "outputs": [
        {
          "output_type": "execute_result",
          "data": {
            "text/html": [
              "<div>\n",
              "<style scoped>\n",
              "    .dataframe tbody tr th:only-of-type {\n",
              "        vertical-align: middle;\n",
              "    }\n",
              "\n",
              "    .dataframe tbody tr th {\n",
              "        vertical-align: top;\n",
              "    }\n",
              "\n",
              "    .dataframe thead th {\n",
              "        text-align: right;\n",
              "    }\n",
              "</style>\n",
              "<table border=\"1\" class=\"dataframe\">\n",
              "  <thead>\n",
              "    <tr style=\"text-align: right;\">\n",
              "      <th></th>\n",
              "      <th>pclass</th>\n",
              "      <th>sex</th>\n",
              "      <th>age</th>\n",
              "      <th>sibsp</th>\n",
              "      <th>parch</th>\n",
              "      <th>fare</th>\n",
              "      <th>cabin</th>\n",
              "      <th>embarked</th>\n",
              "    </tr>\n",
              "  </thead>\n",
              "  <tbody>\n",
              "    <tr>\n",
              "      <th>402</th>\n",
              "      <td>2</td>\n",
              "      <td>0.994934</td>\n",
              "      <td>30.00000</td>\n",
              "      <td>1</td>\n",
              "      <td>0</td>\n",
              "      <td>13.8583</td>\n",
              "      <td>-0.885580</td>\n",
              "      <td>0.065241</td>\n",
              "    </tr>\n",
              "    <tr>\n",
              "      <th>698</th>\n",
              "      <td>3</td>\n",
              "      <td>-1.559176</td>\n",
              "      <td>18.00000</td>\n",
              "      <td>0</td>\n",
              "      <td>0</td>\n",
              "      <td>8.6625</td>\n",
              "      <td>-0.885580</td>\n",
              "      <td>-0.697788</td>\n",
              "    </tr>\n",
              "    <tr>\n",
              "      <th>1291</th>\n",
              "      <td>3</td>\n",
              "      <td>-1.559176</td>\n",
              "      <td>29.79847</td>\n",
              "      <td>0</td>\n",
              "      <td>0</td>\n",
              "      <td>8.7125</td>\n",
              "      <td>-0.885580</td>\n",
              "      <td>-0.697788</td>\n",
              "    </tr>\n",
              "    <tr>\n",
              "      <th>1229</th>\n",
              "      <td>3</td>\n",
              "      <td>-1.559176</td>\n",
              "      <td>27.00000</td>\n",
              "      <td>0</td>\n",
              "      <td>0</td>\n",
              "      <td>8.6625</td>\n",
              "      <td>-0.885580</td>\n",
              "      <td>-0.697788</td>\n",
              "    </tr>\n",
              "    <tr>\n",
              "      <th>118</th>\n",
              "      <td>1</td>\n",
              "      <td>-1.559176</td>\n",
              "      <td>29.79847</td>\n",
              "      <td>0</td>\n",
              "      <td>0</td>\n",
              "      <td>26.5500</td>\n",
              "      <td>0.832909</td>\n",
              "      <td>-0.697788</td>\n",
              "    </tr>\n",
              "  </tbody>\n",
              "</table>\n",
              "</div>"
            ],
            "text/plain": [
              "      pclass       sex       age  sibsp  parch     fare     cabin  embarked\n",
              "402        2  0.994934  30.00000      1      0  13.8583 -0.885580  0.065241\n",
              "698        3 -1.559176  18.00000      0      0   8.6625 -0.885580 -0.697788\n",
              "1291       3 -1.559176  29.79847      0      0   8.7125 -0.885580 -0.697788\n",
              "1229       3 -1.559176  27.00000      0      0   8.6625 -0.885580 -0.697788\n",
              "118        1 -1.559176  29.79847      0      0  26.5500  0.832909 -0.697788"
            ]
          },
          "metadata": {
            "tags": []
          },
          "execution_count": 19
        }
      ]
    },
    {
      "cell_type": "markdown",
      "metadata": {
        "id": "x3NsjepVAg03"
      },
      "source": [
        "### Desempeño Random Forest"
      ]
    },
    {
      "cell_type": "code",
      "metadata": {
        "id": "uH0-jDtLAg04"
      },
      "source": [
        "# crear una función para construir modelo Random Forest\n",
        "# y comparar desempeño en los sets de entrenamiento y prueba\n",
        "\n",
        "\n",
        "def run_randomForests(X_train, X_test, y_train, y_test):\n",
        "\n",
        "    rf = RandomForestClassifier(n_estimators=50, random_state=39, max_depth=3)\n",
        "    rf.fit(X_train, y_train)\n",
        "\n",
        "    print('Set entrenamiento')\n",
        "    pred = rf.predict_proba(X_train)\n",
        "    print(\n",
        "        'Random Forests roc-auc: {}'.format(roc_auc_score(y_train, pred[:, 1])))\n",
        "\n",
        "    print('Set prueba')\n",
        "    pred = rf.predict_proba(X_test)\n",
        "    print(\n",
        "        'Random Forests roc-auc: {}'.format(roc_auc_score(y_test, pred[:, 1])))"
      ],
      "execution_count": 20,
      "outputs": []
    },
    {
      "cell_type": "code",
      "metadata": {
        "id": "HYvgrS4IAg04",
        "colab": {
          "base_uri": "https://localhost:8080/"
        },
        "outputId": "ba6a1e81-0b17-4bae-d6e2-e93df341cdec"
      },
      "source": [
        "# OHE\n",
        "run_randomForests(X_train_OHE, X_test_OHE, y_train, y_test)"
      ],
      "execution_count": 21,
      "outputs": [
        {
          "output_type": "stream",
          "text": [
            "Set entrenamiento\n",
            "Random Forests roc-auc: 0.8488938507340109\n",
            "Set prueba\n",
            "Random Forests roc-auc: 0.8072730715135779\n"
          ],
          "name": "stdout"
        }
      ]
    },
    {
      "cell_type": "code",
      "metadata": {
        "id": "iOCE5L3rAg05",
        "colab": {
          "base_uri": "https://localhost:8080/"
        },
        "outputId": "8d817799-41e4-4451-e72d-fdde64337161"
      },
      "source": [
        "# Conteos\n",
        "run_randomForests(X_train_count, X_test_count, y_train, y_test)"
      ],
      "execution_count": 22,
      "outputs": [
        {
          "output_type": "stream",
          "text": [
            "Set entrenamiento\n",
            "Random Forests roc-auc: 0.8654552920644698\n",
            "Set prueba\n",
            "Random Forests roc-auc: 0.8194309206967434\n"
          ],
          "name": "stdout"
        }
      ]
    },
    {
      "cell_type": "code",
      "metadata": {
        "id": "C3si2EMWAg05",
        "colab": {
          "base_uri": "https://localhost:8080/"
        },
        "outputId": "b163af78-a4fb-483c-a948-4091b06fe871"
      },
      "source": [
        "# Etiquetas ordenadas\n",
        "run_randomForests(X_train_ordered, X_test_ordered, y_train, y_test)"
      ],
      "execution_count": 23,
      "outputs": [
        {
          "output_type": "stream",
          "text": [
            "Set entrenamiento\n",
            "Random Forests roc-auc: 0.8669027820552304\n",
            "Set prueba\n",
            "Random Forests roc-auc: 0.8219733852645245\n"
          ],
          "name": "stdout"
        }
      ]
    },
    {
      "cell_type": "code",
      "metadata": {
        "id": "yA6-kq8lAg05",
        "colab": {
          "base_uri": "https://localhost:8080/"
        },
        "outputId": "caa76001-f151-4cd4-a0dd-381df9be6923"
      },
      "source": [
        "# Codificación por la media\n",
        "run_randomForests(X_train_mean, X_test_mean, y_train, y_test)"
      ],
      "execution_count": 24,
      "outputs": [
        {
          "output_type": "stream",
          "text": [
            "Set entrenamiento\n",
            "Random Forests roc-auc: 0.867010573863053\n",
            "Set prueba\n",
            "Random Forests roc-auc: 0.8207562479714378\n"
          ],
          "name": "stdout"
        }
      ]
    },
    {
      "cell_type": "code",
      "metadata": {
        "id": "riHg_fSsAg05",
        "colab": {
          "base_uri": "https://localhost:8080/"
        },
        "outputId": "b1037039-6b7d-44a0-a785-00a9628efdf3"
      },
      "source": [
        "# Razon de probabilidades\n",
        "run_randomForests(X_train_ratio, X_test_ratio, y_train, y_test)"
      ],
      "execution_count": 25,
      "outputs": [
        {
          "output_type": "stream",
          "text": [
            "Set entrenamiento\n",
            "Random Forests roc-auc: 0.867010573863053\n",
            "Set prueba\n",
            "Random Forests roc-auc: 0.8207562479714378\n"
          ],
          "name": "stdout"
        }
      ]
    },
    {
      "cell_type": "markdown",
      "metadata": {
        "id": "AlaH7sHEAg05"
      },
      "source": [
        "Al comparar los valores de roc_auc values en los sets de prueba, podemos ver que la codificación One-Hot tiene el peor desempeño.   Esto es de esperarse, si recordamos en como funcionan los árboles de decisión. Con la codificación One Hot creamos una variable dummy por cada categoría. Durante el proceso de entrenamiento, el árbol cada vez que se ramifica, considera cada una de las variables dummy como independiente. Cuando  tenemos una variable con alta cardinalidad, será poco probable que el algoritmo seleccione una de las variables dummy, ya que estas variables dummys son 'sparse' es decir, la mayoría de sus valores son cero y por lo tanto su poder predictivo es menor.\n",
        "\n",
        "Por el contrario, el resto de la codificaciones tienen un mejor desempeño ya que retienen la relación entre la categoría y el target, lo cual incrementa su poder predictivo.  Sin embargo, ya que los algoritmos basados en árboles son modelos no-linales, las codificaciones basadas en la media del target ( o en relaciones monotónicas) no necesariamente mejorar su desempeño.\n",
        "\n",
        "### Desempeño Regresión Logística"
      ]
    },
    {
      "cell_type": "code",
      "metadata": {
        "id": "2rwjcMcrAg06"
      },
      "source": [
        "def run_logistic(X_train, X_test, y_train, y_test):\n",
        "\n",
        "    # función para entrenar y evaluar desempeño de Regresión Logística\n",
        "    logit = LogisticRegression(random_state=44, C=0.01)\n",
        "    logit.fit(X_train, y_train)\n",
        "\n",
        "    print('Set Entrenamiento')\n",
        "    pred = logit.predict_proba(X_train)\n",
        "    print(\n",
        "        'Logistic Regression roc-auc: {}'.format(roc_auc_score(y_train, pred[:, 1])))\n",
        "\n",
        "    print('Set Prueba')\n",
        "    pred = logit.predict_proba(X_test)\n",
        "    print(\n",
        "        'Logistic Regression roc-auc: {}'.format(roc_auc_score(y_test, pred[:, 1])))"
      ],
      "execution_count": 26,
      "outputs": []
    },
    {
      "cell_type": "code",
      "metadata": {
        "id": "L4SySiIYAg06",
        "colab": {
          "base_uri": "https://localhost:8080/"
        },
        "outputId": "87e3dc76-0e12-48a8-9cad-b393fab44cec"
      },
      "source": [
        "# OHE\n",
        "run_logistic(X_train_OHE, X_test_OHE, y_train, y_test)"
      ],
      "execution_count": 28,
      "outputs": [
        {
          "output_type": "stream",
          "text": [
            "Set Entrenamiento\n",
            "Logistic Regression roc-auc: 0.8287932450467097\n",
            "Set Prueba\n",
            "Logistic Regression roc-auc: 0.8013902412636589\n"
          ],
          "name": "stdout"
        }
      ]
    },
    {
      "cell_type": "code",
      "metadata": {
        "id": "rfa55SlvAg06",
        "colab": {
          "base_uri": "https://localhost:8080/"
        },
        "outputId": "b576d603-0ac9-489f-b561-48f3993abaf2"
      },
      "source": [
        "# conteos\n",
        "run_logistic(X_train_count, X_test_count, y_train, y_test)"
      ],
      "execution_count": 29,
      "outputs": [
        {
          "output_type": "stream",
          "text": [
            "Set Entrenamiento\n",
            "Logistic Regression roc-auc: 0.7890283338466275\n",
            "Set Prueba\n",
            "Logistic Regression roc-auc: 0.7366114897760467\n"
          ],
          "name": "stdout"
        },
        {
          "output_type": "stream",
          "text": [
            "/usr/local/lib/python3.6/dist-packages/sklearn/linear_model/_logistic.py:940: ConvergenceWarning: lbfgs failed to converge (status=1):\n",
            "STOP: TOTAL NO. of ITERATIONS REACHED LIMIT.\n",
            "\n",
            "Increase the number of iterations (max_iter) or scale the data as shown in:\n",
            "    https://scikit-learn.org/stable/modules/preprocessing.html\n",
            "Please also refer to the documentation for alternative solver options:\n",
            "    https://scikit-learn.org/stable/modules/linear_model.html#logistic-regression\n",
            "  extra_warning_msg=_LOGISTIC_SOLVER_CONVERGENCE_MSG)\n"
          ],
          "name": "stderr"
        }
      ]
    },
    {
      "cell_type": "code",
      "metadata": {
        "id": "BmbkL5l2Ag07",
        "colab": {
          "base_uri": "https://localhost:8080/"
        },
        "outputId": "7c005a1a-c619-4d16-b09a-cb54196af25b"
      },
      "source": [
        "# Etiquetas ordenadas\n",
        "run_logistic(X_train_ordered, X_test_ordered, y_train, y_test)"
      ],
      "execution_count": 30,
      "outputs": [
        {
          "output_type": "stream",
          "text": [
            "Set Entrenamiento\n",
            "Logistic Regression roc-auc: 0.8223924648393389\n",
            "Set Prueba\n",
            "Logistic Regression roc-auc: 0.8006870063832089\n"
          ],
          "name": "stdout"
        }
      ]
    },
    {
      "cell_type": "code",
      "metadata": {
        "id": "9JPYGSF5Ag07",
        "colab": {
          "base_uri": "https://localhost:8080/"
        },
        "outputId": "aad229c0-58b4-411a-fb88-2ad1314b3176"
      },
      "source": [
        "# Codificación por la media\n",
        "run_logistic(X_train_mean, X_test_mean, y_train, y_test)"
      ],
      "execution_count": 31,
      "outputs": [
        {
          "output_type": "stream",
          "text": [
            "Set Entrenamiento\n",
            "Logistic Regression roc-auc: 0.7791217534134072\n",
            "Set Prueba\n",
            "Logistic Regression roc-auc: 0.7481878178080709\n"
          ],
          "name": "stdout"
        }
      ]
    },
    {
      "cell_type": "code",
      "metadata": {
        "id": "WeV-V4QyAg07",
        "colab": {
          "base_uri": "https://localhost:8080/"
        },
        "outputId": "39bc8c5a-d92a-466d-ad45-168ab8d7a322"
      },
      "source": [
        "# Razon de probabilidades\n",
        "run_logistic(X_train_ratio, X_test_ratio, y_train, y_test)"
      ],
      "execution_count": 32,
      "outputs": [
        {
          "output_type": "stream",
          "text": [
            "Set Entrenamiento\n",
            "Logistic Regression roc-auc: 0.8508546350477364\n",
            "Set Prueba\n",
            "Logistic Regression roc-auc: 0.8204857730174184\n"
          ],
          "name": "stdout"
        },
        {
          "output_type": "stream",
          "text": [
            "/usr/local/lib/python3.6/dist-packages/sklearn/linear_model/_logistic.py:940: ConvergenceWarning: lbfgs failed to converge (status=1):\n",
            "STOP: TOTAL NO. of ITERATIONS REACHED LIMIT.\n",
            "\n",
            "Increase the number of iterations (max_iter) or scale the data as shown in:\n",
            "    https://scikit-learn.org/stable/modules/preprocessing.html\n",
            "Please also refer to the documentation for alternative solver options:\n",
            "    https://scikit-learn.org/stable/modules/linear_model.html#logistic-regression\n",
            "  extra_warning_msg=_LOGISTIC_SOLVER_CONVERGENCE_MSG)\n"
          ],
          "name": "stderr"
        }
      ]
    },
    {
      "cell_type": "markdown",
      "metadata": {
        "id": "P_rfhCstAg07"
      },
      "source": [
        "Para la Regresión Logística, el mejor desempeño se obtiene con la codificación One-Hot, ya que preserva la relación lineal entre las variables y el target y seguido por WoE y la codificación por números enteros ordenados.\n",
        "\n",
        "Sin embargo, la codificación por conteo de frecuencia, tiene el peor desempeño ya que no crea una relación monotónica entre las variables y el target, y en este caso, la codificación promedio del target esta causando sobre-ajustes."
      ]
    }
  ]
}