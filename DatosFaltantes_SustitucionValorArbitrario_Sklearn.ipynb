{
  "nbformat": 4,
  "nbformat_minor": 0,
  "metadata": {
    "kernelspec": {
      "display_name": "feml",
      "language": "python",
      "name": "feml"
    },
    "language_info": {
      "codemirror_mode": {
        "name": "ipython",
        "version": 3
      },
      "file_extension": ".py",
      "mimetype": "text/x-python",
      "name": "python",
      "nbconvert_exporter": "python",
      "pygments_lexer": "ipython3",
      "version": "3.7.3"
    },
    "toc": {
      "nav_menu": {},
      "number_sections": true,
      "sideBar": true,
      "skip_h1_title": false,
      "toc_cell": false,
      "toc_position": {},
      "toc_section_display": true,
      "toc_window_display": true
    },
    "colab": {
      "name": "DatosFaltantes_SustitucionValorArbitrario_Sklearn.ipynb",
      "provenance": [],
      "toc_visible": true,
      "include_colab_link": true
    }
  },
  "cells": [
    {
      "cell_type": "markdown",
      "metadata": {
        "id": "view-in-github",
        "colab_type": "text"
      },
      "source": [
        "<a href=\"https://colab.research.google.com/github/virf96/Chat-Bot/blob/master/DatosFaltantes_SustitucionValorArbitrario_Sklearn.ipynb\" target=\"_parent\"><img src=\"https://colab.research.google.com/assets/colab-badge.svg\" alt=\"Open In Colab\"/></a>"
      ]
    },
    {
      "cell_type": "markdown",
      "metadata": {
        "id": "wZEvzZ3BnDWD"
      },
      "source": [
        "## Sustitución por un valor arbitrario con Scikit-learn ==> SimpleImputer \n",
        "\n",
        "En la librería Scikit-learn hay una clase para manejar una gran variedad de métodos de sustitución.\n",
        "\n",
        "El **SimpleImputer** es una clase que provee funcionalidad básica para la sustitución de valores ausentes, incluyendo:\n",
        "\n",
        "- Sustitución por la media y la mediana para variables numéricas\n",
        "- Sustitución por la categoría más frecuente para variables categóricas.\n",
        "- Sustitución por valores arbitrarios para variables numéricas y categóricas.\n",
        "\n",
        "### Ventajas\n",
        "\n",
        "- Fácil de usar si se aplica a todo el dataframe\n",
        "- Código mantenido por desarrolladores de Scikit-learn: buena calidad\n",
        "- Rápida computación (usa NumPy para los cálculos)\n",
        "- Permite usar grid-search (búsqueda en cuadrículas) para varios métodos de sustitución\n",
        "- Permite usar diferentes valores para codificar ausencia de datos (se puede indicar si por ejemplo los valores nulos son np.nan, ceros, cadenas de caracteres vacías, u otros)\n",
        "\n",
        "### Limitaciones\n",
        "\n",
        "- Retorna un arreglo de NumPy en lugar de un dataframe de pandas, lo cual es inconveniente para el análisis de datos\n",
        "- Necesita usar clases adicionales para seleccionar cuales variables se deben sustituir ==>\n",
        "    - requiere líneas de código adicional\n",
        "    - requiere ser usado con otras clases\n",
        "    - no es tan sencillo de usar\n",
        "    \n",
        "### Más detalles acerca de los transformadores (transformers en inglés)\n",
        "\n",
        "- [SimpleImputer](https://scikit-learn.org/stable/modules/generated/sklearn.impute.SimpleImputer.html#sklearn.impute.SimpleImputer)\n",
        "- [ColumnTransformer](https://scikit-learn.org/stable/modules/generated/sklearn.compose.ColumnTransformer.html)\n",
        "- [Stackoverflow](https://stackoverflow.com/questions/54160370/how-to-use-sklearn-column-transformer)\n",
        "\n",
        "\n",
        "## En este demo:\n",
        "\n",
        "Vamos a aprender **sustitución por valores arbitrarios con Scikit-learn** usando los datos Ames House Price.\n",
        "\n",
        "- Para bajar los datos, por favor referirse a la clase de **Datasets** en la  **Sección 1** del curso.\n",
        "\n",
        "### Nota: \n",
        "* 'Imputer' se deriva del verbo en inglés 'to impute' que quiere decir sustituir o reemplazar. Imputer es el objeto que completa la sustitución, de ahí el nombre dado a la clase.\n",
        "* 'slicing' significa seleccionar conjuntos de datos (columnas/filas) de un ‘DataFrame’.\n"
      ]
    },
    {
      "cell_type": "code",
      "metadata": {
        "id": "m5mCKw6nnDWE"
      },
      "source": [
        "import pandas as pd\n",
        "import numpy as np\n",
        "\n",
        "import matplotlib.pyplot as plt\n",
        "\n",
        "# estas son las clases para sustitutición con sklearn\n",
        "from sklearn.impute import SimpleImputer\n",
        "from sklearn.compose import ColumnTransformer\n",
        "from sklearn.pipeline import Pipeline\n",
        "\n",
        "# dividir dataset\n",
        "from sklearn.model_selection import train_test_split"
      ],
      "execution_count": 1,
      "outputs": []
    },
    {
      "cell_type": "code",
      "metadata": {
        "id": "yd_ZbibtnDWH"
      },
      "source": [
        "# solo usaremos las siguientes variables en el demo:\n",
        "# 3 tienen NA\n",
        "\n",
        "cols_to_use = [\n",
        "    'OverallQual', 'TotalBsmtSF', '1stFlrSF', 'GrLivArea', 'WoodDeckSF',\n",
        "    'BsmtUnfSF', 'LotFrontage', 'MasVnrArea', 'GarageYrBlt', 'SalePrice'\n",
        "]"
      ],
      "execution_count": 2,
      "outputs": []
    },
    {
      "cell_type": "code",
      "metadata": {
        "id": "zMuc0snkTPek",
        "outputId": "44b357c1-9890-4d36-acc5-458f43f578e5",
        "colab": {
          "base_uri": "https://localhost:8080/",
          "height": 34
        }
      },
      "source": [
        "from google.colab import drive\n",
        "drive.mount('/content/drive')"
      ],
      "execution_count": 3,
      "outputs": [
        {
          "output_type": "stream",
          "text": [
            "Mounted at /content/drive\n"
          ],
          "name": "stdout"
        }
      ]
    },
    {
      "cell_type": "code",
      "metadata": {
        "id": "XjHcXKnZnDWK",
        "outputId": "8d4d65c7-1b37-489a-a17d-14b9ba99c02d",
        "colab": {
          "base_uri": "https://localhost:8080/",
          "height": 221
        }
      },
      "source": [
        "# carguemos los datos\n",
        "\n",
        "data = pd.read_csv('/content/drive/My Drive/datasets/houseprice.csv', usecols=cols_to_use)\n",
        "print(data.shape)\n",
        "data.head()"
      ],
      "execution_count": 4,
      "outputs": [
        {
          "output_type": "stream",
          "text": [
            "(1460, 10)\n"
          ],
          "name": "stdout"
        },
        {
          "output_type": "execute_result",
          "data": {
            "text/html": [
              "<div>\n",
              "<style scoped>\n",
              "    .dataframe tbody tr th:only-of-type {\n",
              "        vertical-align: middle;\n",
              "    }\n",
              "\n",
              "    .dataframe tbody tr th {\n",
              "        vertical-align: top;\n",
              "    }\n",
              "\n",
              "    .dataframe thead th {\n",
              "        text-align: right;\n",
              "    }\n",
              "</style>\n",
              "<table border=\"1\" class=\"dataframe\">\n",
              "  <thead>\n",
              "    <tr style=\"text-align: right;\">\n",
              "      <th></th>\n",
              "      <th>LotFrontage</th>\n",
              "      <th>OverallQual</th>\n",
              "      <th>MasVnrArea</th>\n",
              "      <th>BsmtUnfSF</th>\n",
              "      <th>TotalBsmtSF</th>\n",
              "      <th>1stFlrSF</th>\n",
              "      <th>GrLivArea</th>\n",
              "      <th>GarageYrBlt</th>\n",
              "      <th>WoodDeckSF</th>\n",
              "      <th>SalePrice</th>\n",
              "    </tr>\n",
              "  </thead>\n",
              "  <tbody>\n",
              "    <tr>\n",
              "      <th>0</th>\n",
              "      <td>65.0</td>\n",
              "      <td>7</td>\n",
              "      <td>196.0</td>\n",
              "      <td>150</td>\n",
              "      <td>856</td>\n",
              "      <td>856</td>\n",
              "      <td>1710</td>\n",
              "      <td>2003.0</td>\n",
              "      <td>0</td>\n",
              "      <td>208500</td>\n",
              "    </tr>\n",
              "    <tr>\n",
              "      <th>1</th>\n",
              "      <td>80.0</td>\n",
              "      <td>6</td>\n",
              "      <td>0.0</td>\n",
              "      <td>284</td>\n",
              "      <td>1262</td>\n",
              "      <td>1262</td>\n",
              "      <td>1262</td>\n",
              "      <td>1976.0</td>\n",
              "      <td>298</td>\n",
              "      <td>181500</td>\n",
              "    </tr>\n",
              "    <tr>\n",
              "      <th>2</th>\n",
              "      <td>68.0</td>\n",
              "      <td>7</td>\n",
              "      <td>162.0</td>\n",
              "      <td>434</td>\n",
              "      <td>920</td>\n",
              "      <td>920</td>\n",
              "      <td>1786</td>\n",
              "      <td>2001.0</td>\n",
              "      <td>0</td>\n",
              "      <td>223500</td>\n",
              "    </tr>\n",
              "    <tr>\n",
              "      <th>3</th>\n",
              "      <td>60.0</td>\n",
              "      <td>7</td>\n",
              "      <td>0.0</td>\n",
              "      <td>540</td>\n",
              "      <td>756</td>\n",
              "      <td>961</td>\n",
              "      <td>1717</td>\n",
              "      <td>1998.0</td>\n",
              "      <td>0</td>\n",
              "      <td>140000</td>\n",
              "    </tr>\n",
              "    <tr>\n",
              "      <th>4</th>\n",
              "      <td>84.0</td>\n",
              "      <td>8</td>\n",
              "      <td>350.0</td>\n",
              "      <td>490</td>\n",
              "      <td>1145</td>\n",
              "      <td>1145</td>\n",
              "      <td>2198</td>\n",
              "      <td>2000.0</td>\n",
              "      <td>192</td>\n",
              "      <td>250000</td>\n",
              "    </tr>\n",
              "  </tbody>\n",
              "</table>\n",
              "</div>"
            ],
            "text/plain": [
              "   LotFrontage  OverallQual  MasVnrArea  ...  GarageYrBlt  WoodDeckSF  SalePrice\n",
              "0         65.0            7       196.0  ...       2003.0           0     208500\n",
              "1         80.0            6         0.0  ...       1976.0         298     181500\n",
              "2         68.0            7       162.0  ...       2001.0           0     223500\n",
              "3         60.0            7         0.0  ...       1998.0           0     140000\n",
              "4         84.0            8       350.0  ...       2000.0         192     250000\n",
              "\n",
              "[5 rows x 10 columns]"
            ]
          },
          "metadata": {
            "tags": []
          },
          "execution_count": 4
        }
      ]
    },
    {
      "cell_type": "code",
      "metadata": {
        "id": "tFfCMS3HnDWN",
        "outputId": "bece026e-4ddd-4417-811c-24a29296282b",
        "colab": {
          "base_uri": "https://localhost:8080/",
          "height": 204
        }
      },
      "source": [
        "# evaluemos el porcentaje de valores nulos por cada variable\n",
        "data.isnull().mean().sort_values(ascending=False)"
      ],
      "execution_count": 5,
      "outputs": [
        {
          "output_type": "execute_result",
          "data": {
            "text/plain": [
              "LotFrontage    0.177397\n",
              "GarageYrBlt    0.055479\n",
              "MasVnrArea     0.005479\n",
              "SalePrice      0.000000\n",
              "WoodDeckSF     0.000000\n",
              "GrLivArea      0.000000\n",
              "1stFlrSF       0.000000\n",
              "TotalBsmtSF    0.000000\n",
              "BsmtUnfSF      0.000000\n",
              "OverallQual    0.000000\n",
              "dtype: float64"
            ]
          },
          "metadata": {
            "tags": []
          },
          "execution_count": 5
        }
      ]
    },
    {
      "cell_type": "markdown",
      "metadata": {
        "id": "ylnDiHv0nDWQ"
      },
      "source": [
        "Las variables LotFrontage, MasVnrArea y GarageYrBlt tienen datos ausentes."
      ]
    },
    {
      "cell_type": "code",
      "metadata": {
        "id": "q3rnSPz2nDWR",
        "outputId": "87a2319c-9b49-4a7b-85f6-1783b24212d4",
        "colab": {
          "base_uri": "https://localhost:8080/",
          "height": 34
        }
      },
      "source": [
        "# separar datos en segmentos entrenamiento y prueba\n",
        "\n",
        "# primero, separemos el target (SalePrice) del resto de las variables (features)\n",
        "#Separamos los sets porque el imputador solo debe aprender del set de entrenamiento\n",
        "cols_to_use.remove('SalePrice')\n",
        "\n",
        "X_train, X_test, y_train, y_test = train_test_split(data[cols_to_use], # solo las variables\n",
        "                                                    data['SalePrice'], # el target\n",
        "                                                    test_size=0.3, # el porcentaje de obs en el segmento de prueba\n",
        "                                                    random_state=0) # para reproducir\n",
        "X_train.shape, X_test.shape"
      ],
      "execution_count": 6,
      "outputs": [
        {
          "output_type": "execute_result",
          "data": {
            "text/plain": [
              "((1022, 9), (438, 9))"
            ]
          },
          "metadata": {
            "tags": []
          },
          "execution_count": 6
        }
      ]
    },
    {
      "cell_type": "code",
      "metadata": {
        "id": "0Hc1QyyJnDWV",
        "outputId": "dc6a6cad-1ea7-4701-9893-780b16d82a52",
        "colab": {
          "base_uri": "https://localhost:8080/",
          "height": 187
        }
      },
      "source": [
        "# evaluemos el porcentaje de datos ausentes nuevamente\n",
        "X_train.isnull().mean().sort_values(ascending=False)"
      ],
      "execution_count": 7,
      "outputs": [
        {
          "output_type": "execute_result",
          "data": {
            "text/plain": [
              "LotFrontage    0.184932\n",
              "GarageYrBlt    0.052838\n",
              "MasVnrArea     0.004892\n",
              "BsmtUnfSF      0.000000\n",
              "WoodDeckSF     0.000000\n",
              "GrLivArea      0.000000\n",
              "1stFlrSF       0.000000\n",
              "TotalBsmtSF    0.000000\n",
              "OverallQual    0.000000\n",
              "dtype: float64"
            ]
          },
          "metadata": {
            "tags": []
          },
          "execution_count": 7
        }
      ]
    },
    {
      "cell_type": "markdown",
      "metadata": {
        "id": "U5dSwZpRnDWX"
      },
      "source": [
        "### SimpleImputer en el conjunto de datos"
      ]
    },
    {
      "cell_type": "code",
      "metadata": {
        "id": "bWiimupsnDWX",
        "outputId": "58884b79-5b84-4714-ce22-284cc9684576",
        "colab": {
          "base_uri": "https://localhost:8080/",
          "height": 51
        }
      },
      "source": [
        "# Ahora sustituyamos los valores faltantes con  SimpleImputer\n",
        "\n",
        "# creemos una instancia de la clase SimpleImputer\n",
        "# indicaremos que queremos sustituir con una constante\n",
        "# en este caso un valor arbitrario de : 999\n",
        "imputer = SimpleImputer(strategy='constant', \n",
        "                       fill_value = 999)\n",
        "\n",
        "# ajustamos el imputer al segmento de entrenamiento\n",
        "# el imputer asigna 999 a todas las variables con valores ausentes\n",
        "imputer.fit(X_train)"
      ],
      "execution_count": 8,
      "outputs": [
        {
          "output_type": "execute_result",
          "data": {
            "text/plain": [
              "SimpleImputer(add_indicator=False, copy=True, fill_value=999,\n",
              "              missing_values=nan, strategy='constant', verbose=0)"
            ]
          },
          "metadata": {
            "tags": []
          },
          "execution_count": 8
        }
      ]
    },
    {
      "cell_type": "markdown",
      "metadata": {
        "id": "6mZi4DMUnDWa"
      },
      "source": [
        "Para sustituir con valores arbitrario, necesitamos fijar 'strategy' en 'constant' e indicar el valor arbitrario en el paramétro fill_value . "
      ]
    },
    {
      "cell_type": "code",
      "metadata": {
        "id": "ycCdNre_nDWa",
        "outputId": "17933faa-3f7d-4d09-cb21-47242876f1ee",
        "colab": {
          "base_uri": "https://localhost:8080/",
          "height": 34
        }
      },
      "source": [
        "# podemos ver cual fueron los valores aprendidos asi:\n",
        "imputer.statistics_"
      ],
      "execution_count": 9,
      "outputs": [
        {
          "output_type": "execute_result",
          "data": {
            "text/plain": [
              "array([999., 999., 999., 999., 999., 999., 999., 999., 999.])"
            ]
          },
          "metadata": {
            "tags": []
          },
          "execution_count": 9
        }
      ]
    },
    {
      "cell_type": "code",
      "metadata": {
        "id": "V8Wv1Y0inDWc",
        "outputId": "0073f056-0d20-4a45-86c4-a0aae67c4f0a",
        "colab": {
          "base_uri": "https://localhost:8080/",
          "height": 136
        }
      },
      "source": [
        "# y ahora sustituimos en segmentos de entrenamiento y prueba\n",
        "\n",
        "# NOTA: los datos se devuelven como un numpy array!!!\n",
        "X_train = imputer.transform(X_train)\n",
        "X_test = imputer.transform(X_test)\n",
        "\n",
        "X_train"
      ],
      "execution_count": 10,
      "outputs": [
        {
          "output_type": "execute_result",
          "data": {
            "text/plain": [
              "array([[   7., 1057., 1057., ...,  999.,  573., 1998.],\n",
              "       [   6., 1291., 1291., ...,  999.,    0., 1996.],\n",
              "       [   5.,  858.,  858., ...,   50.,    0.,  999.],\n",
              "       ...,\n",
              "       [   6.,    0., 1318., ...,   68.,    0., 1978.],\n",
              "       [   7., 1374., 1557., ...,  999.,   18., 2003.],\n",
              "       [   7., 1195., 1195., ...,   58.,   30., 1998.]])"
            ]
          },
          "metadata": {
            "tags": []
          },
          "execution_count": 10
        }
      ]
    },
    {
      "cell_type": "code",
      "metadata": {
        "id": "gR-9XoQ8nDWe",
        "outputId": "cd2ca370-8846-45ac-fb21-04330f47813a",
        "colab": {
          "base_uri": "https://localhost:8080/",
          "height": 204
        }
      },
      "source": [
        "# transformar los datos nuevamente en un dataframe:\n",
        "X_train = pd.DataFrame(X_train, columns=cols_to_use)\n",
        "X_train.head()"
      ],
      "execution_count": 11,
      "outputs": [
        {
          "output_type": "execute_result",
          "data": {
            "text/html": [
              "<div>\n",
              "<style scoped>\n",
              "    .dataframe tbody tr th:only-of-type {\n",
              "        vertical-align: middle;\n",
              "    }\n",
              "\n",
              "    .dataframe tbody tr th {\n",
              "        vertical-align: top;\n",
              "    }\n",
              "\n",
              "    .dataframe thead th {\n",
              "        text-align: right;\n",
              "    }\n",
              "</style>\n",
              "<table border=\"1\" class=\"dataframe\">\n",
              "  <thead>\n",
              "    <tr style=\"text-align: right;\">\n",
              "      <th></th>\n",
              "      <th>OverallQual</th>\n",
              "      <th>TotalBsmtSF</th>\n",
              "      <th>1stFlrSF</th>\n",
              "      <th>GrLivArea</th>\n",
              "      <th>WoodDeckSF</th>\n",
              "      <th>BsmtUnfSF</th>\n",
              "      <th>LotFrontage</th>\n",
              "      <th>MasVnrArea</th>\n",
              "      <th>GarageYrBlt</th>\n",
              "    </tr>\n",
              "  </thead>\n",
              "  <tbody>\n",
              "    <tr>\n",
              "      <th>0</th>\n",
              "      <td>7.0</td>\n",
              "      <td>1057.0</td>\n",
              "      <td>1057.0</td>\n",
              "      <td>2034.0</td>\n",
              "      <td>576.0</td>\n",
              "      <td>318.0</td>\n",
              "      <td>999.0</td>\n",
              "      <td>573.0</td>\n",
              "      <td>1998.0</td>\n",
              "    </tr>\n",
              "    <tr>\n",
              "      <th>1</th>\n",
              "      <td>6.0</td>\n",
              "      <td>1291.0</td>\n",
              "      <td>1291.0</td>\n",
              "      <td>1291.0</td>\n",
              "      <td>307.0</td>\n",
              "      <td>288.0</td>\n",
              "      <td>999.0</td>\n",
              "      <td>0.0</td>\n",
              "      <td>1996.0</td>\n",
              "    </tr>\n",
              "    <tr>\n",
              "      <th>2</th>\n",
              "      <td>5.0</td>\n",
              "      <td>858.0</td>\n",
              "      <td>858.0</td>\n",
              "      <td>858.0</td>\n",
              "      <td>117.0</td>\n",
              "      <td>162.0</td>\n",
              "      <td>50.0</td>\n",
              "      <td>0.0</td>\n",
              "      <td>999.0</td>\n",
              "    </tr>\n",
              "    <tr>\n",
              "      <th>3</th>\n",
              "      <td>6.0</td>\n",
              "      <td>560.0</td>\n",
              "      <td>698.0</td>\n",
              "      <td>1258.0</td>\n",
              "      <td>0.0</td>\n",
              "      <td>356.0</td>\n",
              "      <td>60.0</td>\n",
              "      <td>0.0</td>\n",
              "      <td>1939.0</td>\n",
              "    </tr>\n",
              "    <tr>\n",
              "      <th>4</th>\n",
              "      <td>2.0</td>\n",
              "      <td>290.0</td>\n",
              "      <td>438.0</td>\n",
              "      <td>438.0</td>\n",
              "      <td>0.0</td>\n",
              "      <td>0.0</td>\n",
              "      <td>60.0</td>\n",
              "      <td>0.0</td>\n",
              "      <td>1930.0</td>\n",
              "    </tr>\n",
              "  </tbody>\n",
              "</table>\n",
              "</div>"
            ],
            "text/plain": [
              "   OverallQual  TotalBsmtSF  1stFlrSF  ...  LotFrontage  MasVnrArea  GarageYrBlt\n",
              "0          7.0       1057.0    1057.0  ...        999.0       573.0       1998.0\n",
              "1          6.0       1291.0    1291.0  ...        999.0         0.0       1996.0\n",
              "2          5.0        858.0     858.0  ...         50.0         0.0        999.0\n",
              "3          6.0        560.0     698.0  ...         60.0         0.0       1939.0\n",
              "4          2.0        290.0     438.0  ...         60.0         0.0       1930.0\n",
              "\n",
              "[5 rows x 9 columns]"
            ]
          },
          "metadata": {
            "tags": []
          },
          "execution_count": 11
        }
      ]
    },
    {
      "cell_type": "code",
      "metadata": {
        "id": "75lq21cXT6Bm",
        "outputId": "eb77d3f1-97b6-46f6-b87d-39f9320948de",
        "colab": {
          "base_uri": "https://localhost:8080/",
          "height": 607
        }
      },
      "source": [
        "# exploremos las distribuciones de las variables luego de la sustitución\n",
        "data.hist(bins=50, figsize=(10,10))\n",
        "plt.show()"
      ],
      "execution_count": 13,
      "outputs": [
        {
          "output_type": "display_data",
          "data": {
            "image/png": "[encoded data removed]",
            "text/plain": [
              "<Figure size 720x720 with 12 Axes>"
            ]
          },
          "metadata": {
            "tags": [],
            "needs_background": "light"
          }
        }
      ]
    },
    {
      "cell_type": "code",
      "metadata": {
        "id": "F78UFvl1nDWh",
        "outputId": "4be7aee2-0cfd-40dd-b718-baa44e2f2600",
        "colab": {
          "base_uri": "https://localhost:8080/",
          "height": 607
        }
      },
      "source": [
        "# exploremos las distribuciones de las variables luego de la sustitución\n",
        "X_train.hist(bins=50, figsize=(10,10))\n",
        "plt.show()"
      ],
      "execution_count": 12,
      "outputs": [
        {
          "output_type": "display_data",
          "data": {
            "image/png": "[encoded data removed]",
            "text/plain": [
              "<Figure size 720x720 with 9 Axes>"
            ]
          },
          "metadata": {
            "tags": [],
            "needs_background": "light"
          }
        }
      ]
    },
    {
      "cell_type": "markdown",
      "metadata": {
        "id": "msWsMT3lnDWj"
      },
      "source": [
        "La variable LotFrontAge tiene una barra alta sobre el valor de 999 en el histograma, que aparece luego de la imputación. También se puede observar el efecto de la imputación en la variable GarageYrBlt, con la barra a la izquierda, sobre el valor 999.\n",
        "\n",
        "**ADVERTENCIA**: recuerda ser cuidadoso con el orden de las columnas al reconstituir al array de numpy en un dataframe de pandas\n",
        "\n",
        "\n",
        "### SimpleImputer: diferentes métodos en diferentes variables\n",
        "\n",
        "En algunas ocasiones, queremos implementar diferentes técnicas de imputación para las diferentes variables. \n",
        "Cómo podemos hacer esto usando el SimpleImputer de Scikit-learn?\n",
        "\n",
        "Tenemos que utilizar otra clase llamada ColumnTransformer. \n",
        "\n",
        "Más detalles sobre el ColumnTransformer en [Sklearn website](https://scikit-learn.org/stable/modules/generated/sklearn.compose.ColumnTransformer.html)"
      ]
    },
    {
      "cell_type": "code",
      "metadata": {
        "id": "X5twGz4bnDWj",
        "outputId": "a4e06927-b47d-4574-937d-43961788eb6d",
        "colab": {
          "base_uri": "https://localhost:8080/",
          "height": 34
        }
      },
      "source": [
        "# Separemos en segmentos para entrenamiento y prueba\n",
        "X_train, X_test, y_train, y_test = train_test_split(data[cols_to_use],\n",
        "                                                    data['SalePrice'],\n",
        "                                                    test_size=0.3,\n",
        "                                                    random_state=0)\n",
        "X_train.shape, X_test.shape"
      ],
      "execution_count": 14,
      "outputs": [
        {
          "output_type": "execute_result",
          "data": {
            "text/plain": [
              "((1022, 9), (438, 9))"
            ]
          },
          "metadata": {
            "tags": []
          },
          "execution_count": 14
        }
      ]
    },
    {
      "cell_type": "code",
      "metadata": {
        "id": "KwAq-RULnDWl",
        "outputId": "cf5e406c-88e5-43e7-daee-2da851c73eea",
        "colab": {
          "base_uri": "https://localhost:8080/",
          "height": 187
        }
      },
      "source": [
        "# exploremos los valores nulos\n",
        "X_train.isnull().mean().sort_values(ascending=False)"
      ],
      "execution_count": 16,
      "outputs": [
        {
          "output_type": "execute_result",
          "data": {
            "text/plain": [
              "LotFrontage    0.184932\n",
              "GarageYrBlt    0.052838\n",
              "MasVnrArea     0.004892\n",
              "BsmtUnfSF      0.000000\n",
              "WoodDeckSF     0.000000\n",
              "GrLivArea      0.000000\n",
              "1stFlrSF       0.000000\n",
              "TotalBsmtSF    0.000000\n",
              "OverallQual    0.000000\n",
              "dtype: float64"
            ]
          },
          "metadata": {
            "tags": []
          },
          "execution_count": 16
        }
      ]
    },
    {
      "cell_type": "code",
      "metadata": {
        "id": "KL02zbfbnDWn",
        "outputId": "94ecc62f-6881-43bd-a78d-484f8f0f2362",
        "colab": {
          "base_uri": "https://localhost:8080/",
          "height": 607
        }
      },
      "source": [
        "# Exploremos las distribuciones para decidir \n",
        "# cual valor arbitrario seleccionar por cada variable\n",
        "\n",
        "X_train.hist(bins=50, figsize=(10,10))\n",
        "plt.show()"
      ],
      "execution_count": 17,
      "outputs": [
        {
          "output_type": "display_data",
          "data": {
            "image/png": "[encoded data removed]",
            "text/plain": [
              "<Figure size 720x720 with 9 Axes>"
            ]
          },
          "metadata": {
            "tags": [],
            "needs_background": "light"
          }
        }
      ]
    },
    {
      "cell_type": "markdown",
      "metadata": {
        "id": "QCVYH5xznDWp"
      },
      "source": [
        "Para este demo, vamos a sustituir los valores nulos en LotFrontage, MasVnrArea y GarageYrBlt con diferentes valores arbitrarios"
      ]
    },
    {
      "cell_type": "code",
      "metadata": {
        "id": "93ClwjHvnDWq"
      },
      "source": [
        "# primero vamos a crear una lista, indicando cuales son las \n",
        "# variables a sustituir \n",
        "features_LotFrontAge = ['LotFrontage']\n",
        "features_MasVnrArea = ['MasVnrArea']\n",
        "features_GarageYrBlt = ['GarageYrBlt']\n",
        "\n",
        "# luego vamos a instanciar imputers dentro de un pipeline\n",
        "# creamos un imputer por cada variable\n",
        "# indicando el valor arbitrario a sustituir\n",
        "# ( este es diferente para cada variable)\n",
        "\n",
        "imputer_LotFrontAge = Pipeline(steps=[\n",
        "    ('imputer', SimpleImputer(strategy='constant', fill_value = 999)),\n",
        "])\n",
        "\n",
        "imputer_MasVnrArea = Pipeline(steps=[\n",
        "    ('imputer', SimpleImputer(strategy='constant', fill_value = -10)),\n",
        "])\n",
        "\n",
        "imputer_GarageYrBlt = Pipeline(steps=[\n",
        "    ('imputer', SimpleImputer(strategy='constant', fill_value = 1700)),\n",
        "])\n",
        "\n",
        "# luego ponemos las variables en una lista junto a los transformadores\n",
        "# usando el ColumnTransformer\n",
        "\n",
        "# en este ejemplo, usaremos los parámetros por defecto del ColumnTransformer\n",
        "# remainder = drop, que significa que solo las variables sustituidas serán retenidas\n",
        "# y el resto se descartan\n",
        "\n",
        "preprocessor = ColumnTransformer(transformers=[\n",
        "    ('imputer_LotFrontAge', imputer_LotFrontAge, features_LotFrontAge),\n",
        "    ('imputer_MasVnrArea', imputer_MasVnrArea, features_MasVnrArea),\n",
        "    ('imputer_GarageYrBlt', imputer_GarageYrBlt, features_GarageYrBlt)\n",
        "],remainder = 'drop')"
      ],
      "execution_count": 18,
      "outputs": []
    },
    {
      "cell_type": "code",
      "metadata": {
        "id": "ZG4O1IxGnDWs",
        "outputId": "61f102b6-d90d-453a-b544-47a332ecca51",
        "colab": {
          "base_uri": "https://localhost:8080/",
          "height": 612
        }
      },
      "source": [
        "# ajustemos el preprocessor\n",
        "preprocessor.fit(X_train)"
      ],
      "execution_count": 19,
      "outputs": [
        {
          "output_type": "execute_result",
          "data": {
            "text/plain": [
              "ColumnTransformer(n_jobs=None, remainder='drop', sparse_threshold=0.3,\n",
              "                  transformer_weights=None,\n",
              "                  transformers=[('imputer_LotFrontAge',\n",
              "                                 Pipeline(memory=None,\n",
              "                                          steps=[('imputer',\n",
              "                                                  SimpleImputer(add_indicator=False,\n",
              "                                                                copy=True,\n",
              "                                                                fill_value=999,\n",
              "                                                                missing_values=nan,\n",
              "                                                                strategy='constant',\n",
              "                                                                verbose=0))],\n",
              "                                          verbose=False),\n",
              "                                 ['LotFrontage']),\n",
              "                                ('imputer_MasVnrArea',\n",
              "                                 Pipeline(memory=...\n",
              "                                                  SimpleImputer(add_indicator=False,\n",
              "                                                                copy=True,\n",
              "                                                                fill_value=-10,\n",
              "                                                                missing_values=nan,\n",
              "                                                                strategy='constant',\n",
              "                                                                verbose=0))],\n",
              "                                          verbose=False),\n",
              "                                 ['MasVnrArea']),\n",
              "                                ('imputer_GarageYrBlt',\n",
              "                                 Pipeline(memory=None,\n",
              "                                          steps=[('imputer',\n",
              "                                                  SimpleImputer(add_indicator=False,\n",
              "                                                                copy=True,\n",
              "                                                                fill_value=1700,\n",
              "                                                                missing_values=nan,\n",
              "                                                                strategy='constant',\n",
              "                                                                verbose=0))],\n",
              "                                          verbose=False),\n",
              "                                 ['GarageYrBlt'])],\n",
              "                  verbose=False)"
            ]
          },
          "metadata": {
            "tags": []
          },
          "execution_count": 19
        }
      ]
    },
    {
      "cell_type": "code",
      "metadata": {
        "id": "A4Q5UYWvnDWu",
        "outputId": "77af57f2-8fd6-476f-d1ec-ea491090bf82",
        "colab": {
          "base_uri": "https://localhost:8080/",
          "height": 323
        }
      },
      "source": [
        "# exploremos los diferentes transformers:\n",
        "\n",
        "preprocessor.transformers"
      ],
      "execution_count": 20,
      "outputs": [
        {
          "output_type": "execute_result",
          "data": {
            "text/plain": [
              "[('imputer_LotFrontAge', Pipeline(memory=None,\n",
              "           steps=[('imputer',\n",
              "                   SimpleImputer(add_indicator=False, copy=True, fill_value=999,\n",
              "                                 missing_values=nan, strategy='constant',\n",
              "                                 verbose=0))],\n",
              "           verbose=False), ['LotFrontage']),\n",
              " ('imputer_MasVnrArea', Pipeline(memory=None,\n",
              "           steps=[('imputer',\n",
              "                   SimpleImputer(add_indicator=False, copy=True, fill_value=-10,\n",
              "                                 missing_values=nan, strategy='constant',\n",
              "                                 verbose=0))],\n",
              "           verbose=False), ['MasVnrArea']),\n",
              " ('imputer_GarageYrBlt', Pipeline(memory=None,\n",
              "           steps=[('imputer',\n",
              "                   SimpleImputer(add_indicator=False, copy=True, fill_value=1700,\n",
              "                                 missing_values=nan, strategy='constant',\n",
              "                                 verbose=0))],\n",
              "           verbose=False), ['GarageYrBlt'])]"
            ]
          },
          "metadata": {
            "tags": []
          },
          "execution_count": 20
        }
      ]
    },
    {
      "cell_type": "code",
      "metadata": {
        "id": "-CV7yztAnDWw",
        "outputId": "ccc61821-f8b9-4b47-e6f1-e79273793b0b",
        "colab": {
          "base_uri": "https://localhost:8080/",
          "height": 34
        }
      },
      "source": [
        "# exploremos los parámetros aprendidos:\n",
        "\n",
        "# para LotFrontAge\n",
        "preprocessor.named_transformers_['imputer_LotFrontAge'].named_steps['imputer'].statistics_"
      ],
      "execution_count": 21,
      "outputs": [
        {
          "output_type": "execute_result",
          "data": {
            "text/plain": [
              "array([999.])"
            ]
          },
          "metadata": {
            "tags": []
          },
          "execution_count": 21
        }
      ]
    },
    {
      "cell_type": "code",
      "metadata": {
        "id": "d09XSTKGnDWz",
        "outputId": "547c26ac-a8e3-4a87-8be6-e64b7a6876d4",
        "colab": {
          "base_uri": "https://localhost:8080/",
          "height": 34
        }
      },
      "source": [
        "# para MasVnrArea\n",
        "\n",
        "preprocessor.named_transformers_['imputer_MasVnrArea'].named_steps['imputer'].statistics_"
      ],
      "execution_count": 22,
      "outputs": [
        {
          "output_type": "execute_result",
          "data": {
            "text/plain": [
              "array([-10.])"
            ]
          },
          "metadata": {
            "tags": []
          },
          "execution_count": 22
        }
      ]
    },
    {
      "cell_type": "code",
      "metadata": {
        "id": "PVtgplK7nDW1",
        "outputId": "db94cbe7-79ea-40db-b636-2755e0a526e1",
        "colab": {
          "base_uri": "https://localhost:8080/",
          "height": 34
        }
      },
      "source": [
        "# para GarageYrBlt\n",
        "\n",
        "preprocessor.named_transformers_['imputer_GarageYrBlt'].named_steps['imputer'].statistics_"
      ],
      "execution_count": 23,
      "outputs": [
        {
          "output_type": "execute_result",
          "data": {
            "text/plain": [
              "array([1700.])"
            ]
          },
          "metadata": {
            "tags": []
          },
          "execution_count": 23
        }
      ]
    },
    {
      "cell_type": "code",
      "metadata": {
        "id": "jCZ4ujx7nDW3",
        "outputId": "348033a2-ccbe-4f86-d462-5306b89962a4",
        "colab": {
          "base_uri": "https://localhost:8080/",
          "height": 136
        }
      },
      "source": [
        "# ahora podemos sustituir los datos\n",
        "\n",
        "X_train = preprocessor.transform(X_train)\n",
        "X_test = preprocessor.transform(X_test)\n",
        "\n",
        "X_train"
      ],
      "execution_count": 24,
      "outputs": [
        {
          "output_type": "execute_result",
          "data": {
            "text/plain": [
              "array([[ 999.,  573., 1998.],\n",
              "       [ 999.,    0., 1996.],\n",
              "       [  50.,    0., 1700.],\n",
              "       ...,\n",
              "       [  68.,    0., 1978.],\n",
              "       [ 999.,   18., 2003.],\n",
              "       [  58.,   30., 1998.]])"
            ]
          },
          "metadata": {
            "tags": []
          },
          "execution_count": 24
        }
      ]
    },
    {
      "cell_type": "markdown",
      "metadata": {
        "id": "mYNF_LGenDW5"
      },
      "source": [
        "Observemos como los datos devueltos contienen solo 3 variables, las que usamos explícitamente para la sustitución de valores. Este es el efecto de fijar el parámetro remainder='drop' en el ColumnTransformer."
      ]
    },
    {
      "cell_type": "markdown",
      "metadata": {
        "id": "FW0qi83-nDW6"
      },
      "source": [
        "**OTRA ADVERTENCIA**\n",
        "\n",
        "El ColumnTransformer simplemente selecciona una porción del dataframe que tiene las columnas requeridas para la sustitución. Luego el SimpleImputer opera en este sub-dataframe.\n",
        "Si diferentes hacemos diferentes sustituciones en diferentes columnas, el ColumnTransformer genera dos dataframes con las columnas requeridas, aplica los imputadores, y luego concatena los dataframes para producir el resultado final.\n",
        "\n",
        "En nuestro ejemplo, sucede lo siguiente:\n",
        "- ColumnTransformer primero crea 3 dataframes, cada uno con una de las columnas a sustituir: LotFrontage, MasVnrArea y GarageBlt\n",
        "- El SimpleImputers aprende los parámetros para cada uno de los dataframes seleccionados \n",
        "    - En este caso, ningún parámetro es aprendido, ya que hemos especificado el valor a utilizar en la imputación\n",
        "- ColunmnTransformer concatena de vuelta todos los dataframes en el resultado final\n",
        "\n",
        "En ese caso, no obtendremos todas las variables presentes originalmente en X_train, ya que fijamos el parametro remainder='drop' en el ColumnTransformer!! \n",
        "\n",
        "Existe el riesgo, de cambiar el orden de las variables si no usamos los transfomadores como parte de un pipeline. Por lo tanto debemos estar atentos del orden de las variables al reconstruir dataframes de los arrays de numpy.\n"
      ]
    },
    {
      "cell_type": "code",
      "metadata": {
        "id": "_LVm5O3HnDW6",
        "outputId": "90017908-1c1f-4dc0-a3c7-314862696ef6",
        "colab": {
          "base_uri": "https://localhost:8080/",
          "height": 204
        }
      },
      "source": [
        "# veamos como el resultado de la sustitución es un dataframe de tres columnas\n",
        "pd.DataFrame(X_train,\n",
        "             columns=features_LotFrontAge + features_MasVnrArea +\n",
        "             features_GarageYrBlt).head()"
      ],
      "execution_count": 25,
      "outputs": [
        {
          "output_type": "execute_result",
          "data": {
            "text/html": [
              "<div>\n",
              "<style scoped>\n",
              "    .dataframe tbody tr th:only-of-type {\n",
              "        vertical-align: middle;\n",
              "    }\n",
              "\n",
              "    .dataframe tbody tr th {\n",
              "        vertical-align: top;\n",
              "    }\n",
              "\n",
              "    .dataframe thead th {\n",
              "        text-align: right;\n",
              "    }\n",
              "</style>\n",
              "<table border=\"1\" class=\"dataframe\">\n",
              "  <thead>\n",
              "    <tr style=\"text-align: right;\">\n",
              "      <th></th>\n",
              "      <th>LotFrontage</th>\n",
              "      <th>MasVnrArea</th>\n",
              "      <th>GarageYrBlt</th>\n",
              "    </tr>\n",
              "  </thead>\n",
              "  <tbody>\n",
              "    <tr>\n",
              "      <th>0</th>\n",
              "      <td>999.0</td>\n",
              "      <td>573.0</td>\n",
              "      <td>1998.0</td>\n",
              "    </tr>\n",
              "    <tr>\n",
              "      <th>1</th>\n",
              "      <td>999.0</td>\n",
              "      <td>0.0</td>\n",
              "      <td>1996.0</td>\n",
              "    </tr>\n",
              "    <tr>\n",
              "      <th>2</th>\n",
              "      <td>50.0</td>\n",
              "      <td>0.0</td>\n",
              "      <td>1700.0</td>\n",
              "    </tr>\n",
              "    <tr>\n",
              "      <th>3</th>\n",
              "      <td>60.0</td>\n",
              "      <td>0.0</td>\n",
              "      <td>1939.0</td>\n",
              "    </tr>\n",
              "    <tr>\n",
              "      <th>4</th>\n",
              "      <td>60.0</td>\n",
              "      <td>0.0</td>\n",
              "      <td>1930.0</td>\n",
              "    </tr>\n",
              "  </tbody>\n",
              "</table>\n",
              "</div>"
            ],
            "text/plain": [
              "   LotFrontage  MasVnrArea  GarageYrBlt\n",
              "0        999.0       573.0       1998.0\n",
              "1        999.0         0.0       1996.0\n",
              "2         50.0         0.0       1700.0\n",
              "3         60.0         0.0       1939.0\n",
              "4         60.0         0.0       1930.0"
            ]
          },
          "metadata": {
            "tags": []
          },
          "execution_count": 25
        }
      ]
    },
    {
      "cell_type": "code",
      "metadata": {
        "id": "X_bsW2rQUY6a",
        "outputId": "c2fa1d44-9f0b-42d3-ff8a-ba3e4a7dd18b",
        "colab": {
          "base_uri": "https://localhost:8080/",
          "height": 608
        }
      },
      "source": [
        "t = pd.DataFrame(data,\n",
        "             columns=features_LotFrontAge + features_MasVnrArea +\n",
        "             features_GarageYrBlt)\n",
        "\n",
        "t.hist(bins=50, figsize=(10,10))\n",
        "plt.show()"
      ],
      "execution_count": 27,
      "outputs": [
        {
          "output_type": "display_data",
          "data": {
            "image/png": "[encoded data removed]",
            "text/plain": [
              "<Figure size 720x720 with 4 Axes>"
            ]
          },
          "metadata": {
            "tags": [],
            "needs_background": "light"
          }
        }
      ]
    },
    {
      "cell_type": "code",
      "metadata": {
        "id": "J-zyD0RUnDW8",
        "outputId": "e8a54e41-abd1-4b91-8425-06379f28b826",
        "colab": {
          "base_uri": "https://localhost:8080/",
          "height": 608
        }
      },
      "source": [
        "X_train = pd.DataFrame(X_train,\n",
        "             columns=features_LotFrontAge + features_MasVnrArea +\n",
        "             features_GarageYrBlt)\n",
        "\n",
        "X_train.hist(bins=50, figsize=(10,10))\n",
        "plt.show()"
      ],
      "execution_count": 26,
      "outputs": [
        {
          "output_type": "display_data",
          "data": {
            "image/png": "[encoded data removed]",
            "text/plain": [
              "<Figure size 720x720 with 4 Axes>"
            ]
          },
          "metadata": {
            "tags": [],
            "needs_background": "light"
          }
        }
      ]
    },
    {
      "cell_type": "markdown",
      "metadata": {
        "id": "lSV7MsixnDXA"
      },
      "source": [
        "Nota las barras correspondientes a los valores arbitrarios 700, 999 y -1 por cada variable."
      ]
    }
  ]
}