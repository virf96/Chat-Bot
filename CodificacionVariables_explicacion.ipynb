{
  "nbformat": 4,
  "nbformat_minor": 0,
  "metadata": {
    "colab": {
      "name": "CodificacionVariables_explicacion.ipynb",
      "provenance": [],
      "authorship_tag": "ABX9TyObjNgZ7ukzMu1jO4yuS7Vb",
      "include_colab_link": true
    },
    "kernelspec": {
      "name": "python3",
      "display_name": "Python 3"
    }
  },
  "cells": [
    {
      "cell_type": "markdown",
      "metadata": {
        "id": "view-in-github",
        "colab_type": "text"
      },
      "source": [
        "<a href=\"https://colab.research.google.com/github/virf96/Chat-Bot/blob/master/CodificacionVariables_explicacion.ipynb\" target=\"_parent\"><img src=\"https://colab.research.google.com/assets/colab-badge.svg\" alt=\"Open In Colab\"/></a>"
      ]
    },
    {
      "cell_type": "markdown",
      "metadata": {
        "id": "ktzPRsw-0U9z"
      },
      "source": [
        "**Codificación de variables categóricas**\n",
        "\n",
        "### ¿Qué es la codificación?\n",
        "\n",
        "$\\bullet$ Proceso de reemplazar las categorías o cadenas de caracteres por una representación numérica.\n",
        "\n",
        "**¿Cuál es su objetivo?**\n",
        "\n",
        "$\\bullet$ Producir variables que puedan ser usadas para realizar modelos de MACHINE LEARNING\n",
        "\n",
        "$\\bullet$ Construir variables con poder predictivo partir de las variables categóricas \n",
        "\n",
        "## Técnicas usuales\n",
        "\n",
        "### Tradicionales\n",
        "\n",
        "$\\bullet$  One Hot\n",
        "\n",
        "$\\bullet$ Cuentas o frecuencia\n",
        "\n",
        "$\\bullet$ Ordinal\n",
        "\n",
        "### Relación Monótonica\n",
        "\n",
        "$\\bullet$ Etiquetas ordenadas\n",
        "\n",
        "$\\bullet$ Media del target\n",
        "\n",
        "$\\bullet$ Peso de la evidencia\n",
        "\n",
        "### Alternativas\n",
        "\n",
        "$\\bullet$ Binario\n",
        "\n",
        "$\\bullet$ Hashing\n",
        "\n",
        "$\\bullet$ Otras\n",
        "\n",
        "**¿Qué es una relación monotónica?**\n",
        "\n",
        "-Quiere decir que cuando la variable incrementa, incrementa el valor del target\n",
        "\n",
        "-Cuando la variable incrementa, el valor del target decrece.\n",
        "\n",
        "**¿Cuales son sus beneficios?**\n",
        "\n",
        "-Mejora el desempeño de los modelos lineales.\n",
        "\n",
        "-Puede mejorar el desempeño de modelos basados en árboles de decisión\n",
        "\n",
        "$\\bullet$ Crea árboles más profundos\n",
        "\n",
        "-Algunas organizaciones prefieren incluir restricciones monotónicas:\n"
      ]
    },
    {
      "cell_type": "code",
      "metadata": {
        "id": "yerbwLZb7nY2"
      },
      "source": [
        ""
      ],
      "execution_count": null,
      "outputs": []
    }
  ]
}